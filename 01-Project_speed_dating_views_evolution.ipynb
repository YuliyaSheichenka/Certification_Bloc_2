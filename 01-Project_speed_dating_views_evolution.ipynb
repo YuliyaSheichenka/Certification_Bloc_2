{
 "cells": [
  {
   "attachments": {},
   "cell_type": "markdown",
   "metadata": {},
   "source": [
    "# Speed Dating\n",
    "\n",
    "## Contents\n",
    "\n",
    "1) Initial exploration of the dataset\n",
    "2) Principal \n",
    "3) Testing underlying assumptions"
   ]
  },
  {
   "cell_type": "code",
   "execution_count": 1,
   "metadata": {},
   "outputs": [],
   "source": [
    "import pandas as pd\n",
    "import seaborn as sns\n",
    "import matplotlib.pyplot as plt\n",
    "import plotly.express as px\n",
    "import numpy as np\n",
    "pd.set_option(\"max_seq_items\", None)\n",
    "pd.set_option('display.max_rows', None, 'display.max_columns', None)\n"
   ]
  },
  {
   "cell_type": "code",
   "execution_count": 2,
   "metadata": {},
   "outputs": [],
   "source": [
    "df = pd.read_csv(\"data\\speed_dating_data.csv\", encoding = \"ISO-8859-1\")\n"
   ]
  },
  {
   "attachments": {},
   "cell_type": "markdown",
   "metadata": {},
   "source": [
    "## General exploration of the dataset"
   ]
  },
  {
   "cell_type": "code",
   "execution_count": 3,
   "metadata": {},
   "outputs": [
    {
     "data": {
      "text/plain": [
       "count    8283.000000\n",
       "mean       26.358928\n",
       "std         3.566763\n",
       "min        18.000000\n",
       "25%        24.000000\n",
       "50%        26.000000\n",
       "75%        28.000000\n",
       "max        55.000000\n",
       "Name: age, dtype: float64"
      ]
     },
     "execution_count": 3,
     "metadata": {},
     "output_type": "execute_result"
    }
   ],
   "source": [
    "df[\"age\"].describe()"
   ]
  },
  {
   "attachments": {},
   "cell_type": "markdown",
   "metadata": {},
   "source": [
    "As there are a lot of columns in the dataset, I printed out the names of columns to get an overview of the features of the dataset."
   ]
  },
  {
   "cell_type": "code",
   "execution_count": 4,
   "metadata": {},
   "outputs": [
    {
     "name": "stdout",
     "output_type": "stream",
     "text": [
      "Index(['iid', 'id', 'gender', 'idg', 'condtn', 'wave', 'round', 'position',\n",
      "       'positin1', 'order', 'partner', 'pid', 'match', 'int_corr', 'samerace',\n",
      "       'age_o', 'race_o', 'pf_o_att', 'pf_o_sin', 'pf_o_int', 'pf_o_fun',\n",
      "       'pf_o_amb', 'pf_o_sha', 'dec_o', 'attr_o', 'sinc_o', 'intel_o', 'fun_o',\n",
      "       'amb_o', 'shar_o', 'like_o', 'prob_o', 'met_o', 'age', 'field',\n",
      "       'field_cd', 'undergra', 'mn_sat', 'tuition', 'race', 'imprace',\n",
      "       'imprelig', 'from', 'zipcode', 'income', 'goal', 'date', 'go_out',\n",
      "       'career', 'career_c', 'sports', 'tvsports', 'exercise', 'dining',\n",
      "       'museums', 'art', 'hiking', 'gaming', 'clubbing', 'reading', 'tv',\n",
      "       'theater', 'movies', 'concerts', 'music', 'shopping', 'yoga',\n",
      "       'exphappy', 'expnum', 'attr1_1', 'sinc1_1', 'intel1_1', 'fun1_1',\n",
      "       'amb1_1', 'shar1_1', 'attr4_1', 'sinc4_1', 'intel4_1', 'fun4_1',\n",
      "       'amb4_1', 'shar4_1', 'attr2_1', 'sinc2_1', 'intel2_1', 'fun2_1',\n",
      "       'amb2_1', 'shar2_1', 'attr3_1', 'sinc3_1', 'fun3_1', 'intel3_1',\n",
      "       'amb3_1', 'attr5_1', 'sinc5_1', 'intel5_1', 'fun5_1', 'amb5_1', 'dec',\n",
      "       'attr', 'sinc', 'intel', 'fun', 'amb', 'shar', 'like', 'prob', 'met',\n",
      "       'match_es', 'attr1_s', 'sinc1_s', 'intel1_s', 'fun1_s', 'amb1_s',\n",
      "       'shar1_s', 'attr3_s', 'sinc3_s', 'intel3_s', 'fun3_s', 'amb3_s',\n",
      "       'satis_2', 'length', 'numdat_2', 'attr7_2', 'sinc7_2', 'intel7_2',\n",
      "       'fun7_2', 'amb7_2', 'shar7_2', 'attr1_2', 'sinc1_2', 'intel1_2',\n",
      "       'fun1_2', 'amb1_2', 'shar1_2', 'attr4_2', 'sinc4_2', 'intel4_2',\n",
      "       'fun4_2', 'amb4_2', 'shar4_2', 'attr2_2', 'sinc2_2', 'intel2_2',\n",
      "       'fun2_2', 'amb2_2', 'shar2_2', 'attr3_2', 'sinc3_2', 'intel3_2',\n",
      "       'fun3_2', 'amb3_2', 'attr5_2', 'sinc5_2', 'intel5_2', 'fun5_2',\n",
      "       'amb5_2', 'you_call', 'them_cal', 'date_3', 'numdat_3', 'num_in_3',\n",
      "       'attr1_3', 'sinc1_3', 'intel1_3', 'fun1_3', 'amb1_3', 'shar1_3',\n",
      "       'attr7_3', 'sinc7_3', 'intel7_3', 'fun7_3', 'amb7_3', 'shar7_3',\n",
      "       'attr4_3', 'sinc4_3', 'intel4_3', 'fun4_3', 'amb4_3', 'shar4_3',\n",
      "       'attr2_3', 'sinc2_3', 'intel2_3', 'fun2_3', 'amb2_3', 'shar2_3',\n",
      "       'attr3_3', 'sinc3_3', 'intel3_3', 'fun3_3', 'amb3_3', 'attr5_3',\n",
      "       'sinc5_3', 'intel5_3', 'fun5_3', 'amb5_3'],\n",
      "      dtype='object')\n"
     ]
    }
   ],
   "source": [
    "print(df.columns)"
   ]
  },
  {
   "attachments": {},
   "cell_type": "markdown",
   "metadata": {},
   "source": [
    "Let's check whether there are missing values in the dataset if any."
   ]
  },
  {
   "cell_type": "code",
   "execution_count": 5,
   "metadata": {},
   "outputs": [
    {
     "data": {
      "text/plain": [
       "iid            0\n",
       "id             1\n",
       "gender         0\n",
       "idg            0\n",
       "condtn         0\n",
       "wave           0\n",
       "round          0\n",
       "position       0\n",
       "positin1    1846\n",
       "order          0\n",
       "partner        0\n",
       "pid           10\n",
       "match          0\n",
       "int_corr     158\n",
       "samerace       0\n",
       "age_o        104\n",
       "race_o        73\n",
       "pf_o_att      89\n",
       "pf_o_sin      89\n",
       "pf_o_int      89\n",
       "pf_o_fun      98\n",
       "pf_o_amb     107\n",
       "pf_o_sha     129\n",
       "dec_o          0\n",
       "attr_o       212\n",
       "sinc_o       287\n",
       "intel_o      306\n",
       "fun_o        360\n",
       "amb_o        722\n",
       "shar_o      1076\n",
       "like_o       250\n",
       "prob_o       318\n",
       "met_o        385\n",
       "age           95\n",
       "field         63\n",
       "field_cd      82\n",
       "undergra    3464\n",
       "mn_sat      5245\n",
       "tuition     4795\n",
       "race          63\n",
       "imprace       79\n",
       "imprelig      79\n",
       "from          79\n",
       "zipcode     1064\n",
       "income      4099\n",
       "goal          79\n",
       "date          97\n",
       "go_out        79\n",
       "career        89\n",
       "career_c     138\n",
       "sports        79\n",
       "tvsports      79\n",
       "exercise      79\n",
       "dining        79\n",
       "museums       79\n",
       "art           79\n",
       "hiking        79\n",
       "gaming        79\n",
       "clubbing      79\n",
       "reading       79\n",
       "tv            79\n",
       "theater       79\n",
       "movies        79\n",
       "concerts      79\n",
       "music         79\n",
       "shopping      79\n",
       "yoga          79\n",
       "exphappy     101\n",
       "expnum      6578\n",
       "attr1_1       79\n",
       "sinc1_1       79\n",
       "intel1_1      79\n",
       "fun1_1        89\n",
       "amb1_1        99\n",
       "shar1_1      121\n",
       "attr4_1     1889\n",
       "sinc4_1     1889\n",
       "intel4_1    1889\n",
       "fun4_1      1889\n",
       "amb4_1      1889\n",
       "shar4_1     1911\n",
       "attr2_1       79\n",
       "sinc2_1       79\n",
       "intel2_1      79\n",
       "fun2_1        79\n",
       "amb2_1        89\n",
       "shar2_1       89\n",
       "attr3_1      105\n",
       "sinc3_1      105\n",
       "fun3_1       105\n",
       "intel3_1     105\n",
       "amb3_1       105\n",
       "attr5_1     3472\n",
       "sinc5_1     3472\n",
       "intel5_1    3472\n",
       "fun5_1      3472\n",
       "amb5_1      3472\n",
       "dec            0\n",
       "attr         202\n",
       "sinc         277\n",
       "intel        296\n",
       "fun          350\n",
       "amb          712\n",
       "shar        1067\n",
       "like         240\n",
       "prob         309\n",
       "met          375\n",
       "match_es    1173\n",
       "attr1_s     4282\n",
       "sinc1_s     4282\n",
       "intel1_s    4282\n",
       "fun1_s      4282\n",
       "amb1_s      4282\n",
       "shar1_s     4282\n",
       "attr3_s     4378\n",
       "sinc3_s     4378\n",
       "intel3_s    4378\n",
       "fun3_s      4378\n",
       "amb3_s      4378\n",
       "satis_2      915\n",
       "length       915\n",
       "numdat_2     945\n",
       "attr7_2     6394\n",
       "sinc7_2     6423\n",
       "intel7_2    6394\n",
       "fun7_2      6394\n",
       "amb7_2      6423\n",
       "shar7_2     6404\n",
       "attr1_2      933\n",
       "sinc1_2      915\n",
       "intel1_2     915\n",
       "fun1_2       915\n",
       "amb1_2       915\n",
       "shar1_2      915\n",
       "attr4_2     2603\n",
       "sinc4_2     2603\n",
       "intel4_2    2603\n",
       "fun4_2      2603\n",
       "amb4_2      2603\n",
       "shar4_2     2603\n",
       "attr2_2     2603\n",
       "sinc2_2     2603\n",
       "intel2_2    2603\n",
       "fun2_2      2603\n",
       "amb2_2      2603\n",
       "shar2_2     2603\n",
       "attr3_2      915\n",
       "sinc3_2      915\n",
       "intel3_2     915\n",
       "fun3_2       915\n",
       "amb3_2       915\n",
       "attr5_2     4001\n",
       "sinc5_2     4001\n",
       "intel5_2    4001\n",
       "fun5_2      4001\n",
       "amb5_2      4001\n",
       "you_call    4404\n",
       "them_cal    4404\n",
       "date_3      4404\n",
       "numdat_3    6882\n",
       "num_in_3    7710\n",
       "attr1_3     4404\n",
       "sinc1_3     4404\n",
       "intel1_3    4404\n",
       "fun1_3      4404\n",
       "amb1_3      4404\n",
       "shar1_3     4404\n",
       "attr7_3     6362\n",
       "sinc7_3     6362\n",
       "intel7_3    6362\n",
       "fun7_3      6362\n",
       "amb7_3      6362\n",
       "shar7_3     6362\n",
       "attr4_3     5419\n",
       "sinc4_3     5419\n",
       "intel4_3    5419\n",
       "fun4_3      5419\n",
       "amb4_3      5419\n",
       "shar4_3     5419\n",
       "attr2_3     5419\n",
       "sinc2_3     5419\n",
       "intel2_3    5419\n",
       "fun2_3      5419\n",
       "amb2_3      5419\n",
       "shar2_3     6362\n",
       "attr3_3     4404\n",
       "sinc3_3     4404\n",
       "intel3_3    4404\n",
       "fun3_3      4404\n",
       "amb3_3      4404\n",
       "attr5_3     6362\n",
       "sinc5_3     6362\n",
       "intel5_3    6362\n",
       "fun5_3      6362\n",
       "amb5_3      6362\n",
       "dtype: int64"
      ]
     },
     "execution_count": 5,
     "metadata": {},
     "output_type": "execute_result"
    }
   ],
   "source": [
    "\n",
    "df.isnull().sum()"
   ]
  },
  {
   "attachments": {},
   "cell_type": "markdown",
   "metadata": {},
   "source": [
    "## General characteristics of the dataset demographic.\n",
    "\n",
    "Each participant in the study had a unique number (\"iid\"). The original dataset contains several rows for each iid, each row corresponding to a different partner that the person with the given iid met during speed dating. \n",
    "\n",
    "I grouped the dataset by the iid in order to count the number of unique participants in the study."
   ]
  },
  {
   "cell_type": "code",
   "execution_count": 6,
   "metadata": {},
   "outputs": [
    {
     "name": "stdout",
     "output_type": "stream",
     "text": [
      "Total number of participants in this study: 551\n"
     ]
    }
   ],
   "source": [
    "df_iid = df.groupby(\"iid\").mean(numeric_only=True).reset_index(drop=False)\n",
    "\n",
    "print(f\"Total number of participants in this study: {len(df_iid)}\")"
   ]
  },
  {
   "attachments": {},
   "cell_type": "markdown",
   "metadata": {},
   "source": [
    "In the dataset, the column \"gender\" contains information whether the participant was male (1) or female (0). To avoid confusion, I chose to create a column \"gender_name\" where the gender of each participant is indicated explicitly as \"Male\" or \"Female\"."
   ]
  },
  {
   "cell_type": "code",
   "execution_count": 7,
   "metadata": {},
   "outputs": [
    {
     "data": {
      "text/html": [
       "<div>\n",
       "<style scoped>\n",
       "    .dataframe tbody tr th:only-of-type {\n",
       "        vertical-align: middle;\n",
       "    }\n",
       "\n",
       "    .dataframe tbody tr th {\n",
       "        vertical-align: top;\n",
       "    }\n",
       "\n",
       "    .dataframe thead th {\n",
       "        text-align: right;\n",
       "    }\n",
       "</style>\n",
       "<table border=\"1\" class=\"dataframe\">\n",
       "  <thead>\n",
       "    <tr style=\"text-align: right;\">\n",
       "      <th></th>\n",
       "      <th>iid</th>\n",
       "      <th>gender</th>\n",
       "      <th>age</th>\n",
       "      <th>gender_name</th>\n",
       "    </tr>\n",
       "  </thead>\n",
       "  <tbody>\n",
       "    <tr>\n",
       "      <th>0</th>\n",
       "      <td>1</td>\n",
       "      <td>0.0</td>\n",
       "      <td>21.0</td>\n",
       "      <td>Female</td>\n",
       "    </tr>\n",
       "    <tr>\n",
       "      <th>1</th>\n",
       "      <td>2</td>\n",
       "      <td>0.0</td>\n",
       "      <td>24.0</td>\n",
       "      <td>Female</td>\n",
       "    </tr>\n",
       "    <tr>\n",
       "      <th>2</th>\n",
       "      <td>3</td>\n",
       "      <td>0.0</td>\n",
       "      <td>25.0</td>\n",
       "      <td>Female</td>\n",
       "    </tr>\n",
       "    <tr>\n",
       "      <th>3</th>\n",
       "      <td>4</td>\n",
       "      <td>0.0</td>\n",
       "      <td>23.0</td>\n",
       "      <td>Female</td>\n",
       "    </tr>\n",
       "    <tr>\n",
       "      <th>4</th>\n",
       "      <td>5</td>\n",
       "      <td>0.0</td>\n",
       "      <td>21.0</td>\n",
       "      <td>Female</td>\n",
       "    </tr>\n",
       "  </tbody>\n",
       "</table>\n",
       "</div>"
      ],
      "text/plain": [
       "   iid  gender   age gender_name\n",
       "0    1     0.0  21.0      Female\n",
       "1    2     0.0  24.0      Female\n",
       "2    3     0.0  25.0      Female\n",
       "3    4     0.0  23.0      Female\n",
       "4    5     0.0  21.0      Female"
      ]
     },
     "execution_count": 7,
     "metadata": {},
     "output_type": "execute_result"
    }
   ],
   "source": [
    "df_iid[\"gender_name\"] = df_iid['gender'].apply(lambda x: \"Male\" if x==1 else \"Female\")\n",
    "df_iid[['iid', 'gender', 'age', 'gender_name']].head()\n"
   ]
  },
  {
   "cell_type": "markdown",
   "metadata": {},
   "source": [
    "Each iid corresponds to a unique participant. I used the dataset grouped by iid to count the number of unique values in column \"iid\" to determine the total number of participants. I also used the dataset to count the number of men and women who participated in the study."
   ]
  },
  {
   "cell_type": "code",
   "execution_count": 8,
   "metadata": {},
   "outputs": [
    {
     "data": {
      "text/html": [
       "<div>\n",
       "<style scoped>\n",
       "    .dataframe tbody tr th:only-of-type {\n",
       "        vertical-align: middle;\n",
       "    }\n",
       "\n",
       "    .dataframe tbody tr th {\n",
       "        vertical-align: top;\n",
       "    }\n",
       "\n",
       "    .dataframe thead th {\n",
       "        text-align: right;\n",
       "    }\n",
       "</style>\n",
       "<table border=\"1\" class=\"dataframe\">\n",
       "  <thead>\n",
       "    <tr style=\"text-align: right;\">\n",
       "      <th></th>\n",
       "      <th>iid</th>\n",
       "      <th>id</th>\n",
       "      <th>gender</th>\n",
       "      <th>idg</th>\n",
       "      <th>condtn</th>\n",
       "      <th>wave</th>\n",
       "      <th>round</th>\n",
       "      <th>position</th>\n",
       "      <th>positin1</th>\n",
       "      <th>order</th>\n",
       "      <th>partner</th>\n",
       "      <th>pid</th>\n",
       "      <th>match</th>\n",
       "      <th>int_corr</th>\n",
       "      <th>samerace</th>\n",
       "      <th>age_o</th>\n",
       "      <th>race_o</th>\n",
       "      <th>pf_o_att</th>\n",
       "      <th>pf_o_sin</th>\n",
       "      <th>pf_o_int</th>\n",
       "      <th>pf_o_fun</th>\n",
       "      <th>pf_o_amb</th>\n",
       "      <th>pf_o_sha</th>\n",
       "      <th>dec_o</th>\n",
       "      <th>attr_o</th>\n",
       "      <th>sinc_o</th>\n",
       "      <th>intel_o</th>\n",
       "      <th>fun_o</th>\n",
       "      <th>amb_o</th>\n",
       "      <th>shar_o</th>\n",
       "      <th>like_o</th>\n",
       "      <th>prob_o</th>\n",
       "      <th>met_o</th>\n",
       "      <th>age</th>\n",
       "      <th>field_cd</th>\n",
       "      <th>race</th>\n",
       "      <th>imprace</th>\n",
       "      <th>imprelig</th>\n",
       "      <th>goal</th>\n",
       "      <th>date</th>\n",
       "      <th>go_out</th>\n",
       "      <th>career_c</th>\n",
       "      <th>sports</th>\n",
       "      <th>tvsports</th>\n",
       "      <th>exercise</th>\n",
       "      <th>dining</th>\n",
       "      <th>museums</th>\n",
       "      <th>art</th>\n",
       "      <th>hiking</th>\n",
       "      <th>gaming</th>\n",
       "      <th>clubbing</th>\n",
       "      <th>reading</th>\n",
       "      <th>tv</th>\n",
       "      <th>theater</th>\n",
       "      <th>movies</th>\n",
       "      <th>concerts</th>\n",
       "      <th>music</th>\n",
       "      <th>shopping</th>\n",
       "      <th>yoga</th>\n",
       "      <th>exphappy</th>\n",
       "      <th>expnum</th>\n",
       "      <th>attr1_1</th>\n",
       "      <th>sinc1_1</th>\n",
       "      <th>intel1_1</th>\n",
       "      <th>fun1_1</th>\n",
       "      <th>amb1_1</th>\n",
       "      <th>shar1_1</th>\n",
       "      <th>attr4_1</th>\n",
       "      <th>sinc4_1</th>\n",
       "      <th>intel4_1</th>\n",
       "      <th>fun4_1</th>\n",
       "      <th>amb4_1</th>\n",
       "      <th>shar4_1</th>\n",
       "      <th>attr2_1</th>\n",
       "      <th>sinc2_1</th>\n",
       "      <th>intel2_1</th>\n",
       "      <th>fun2_1</th>\n",
       "      <th>amb2_1</th>\n",
       "      <th>shar2_1</th>\n",
       "      <th>attr3_1</th>\n",
       "      <th>sinc3_1</th>\n",
       "      <th>fun3_1</th>\n",
       "      <th>intel3_1</th>\n",
       "      <th>amb3_1</th>\n",
       "      <th>attr5_1</th>\n",
       "      <th>sinc5_1</th>\n",
       "      <th>intel5_1</th>\n",
       "      <th>fun5_1</th>\n",
       "      <th>amb5_1</th>\n",
       "      <th>dec</th>\n",
       "      <th>attr</th>\n",
       "      <th>sinc</th>\n",
       "      <th>intel</th>\n",
       "      <th>fun</th>\n",
       "      <th>amb</th>\n",
       "      <th>shar</th>\n",
       "      <th>like</th>\n",
       "      <th>prob</th>\n",
       "      <th>met</th>\n",
       "      <th>match_es</th>\n",
       "      <th>attr1_s</th>\n",
       "      <th>sinc1_s</th>\n",
       "      <th>intel1_s</th>\n",
       "      <th>fun1_s</th>\n",
       "      <th>amb1_s</th>\n",
       "      <th>shar1_s</th>\n",
       "      <th>attr3_s</th>\n",
       "      <th>sinc3_s</th>\n",
       "      <th>intel3_s</th>\n",
       "      <th>fun3_s</th>\n",
       "      <th>amb3_s</th>\n",
       "      <th>satis_2</th>\n",
       "      <th>length</th>\n",
       "      <th>numdat_2</th>\n",
       "      <th>attr7_2</th>\n",
       "      <th>sinc7_2</th>\n",
       "      <th>intel7_2</th>\n",
       "      <th>fun7_2</th>\n",
       "      <th>amb7_2</th>\n",
       "      <th>shar7_2</th>\n",
       "      <th>attr1_2</th>\n",
       "      <th>sinc1_2</th>\n",
       "      <th>intel1_2</th>\n",
       "      <th>fun1_2</th>\n",
       "      <th>amb1_2</th>\n",
       "      <th>shar1_2</th>\n",
       "      <th>attr4_2</th>\n",
       "      <th>sinc4_2</th>\n",
       "      <th>intel4_2</th>\n",
       "      <th>fun4_2</th>\n",
       "      <th>amb4_2</th>\n",
       "      <th>shar4_2</th>\n",
       "      <th>attr2_2</th>\n",
       "      <th>sinc2_2</th>\n",
       "      <th>intel2_2</th>\n",
       "      <th>fun2_2</th>\n",
       "      <th>amb2_2</th>\n",
       "      <th>shar2_2</th>\n",
       "      <th>attr3_2</th>\n",
       "      <th>sinc3_2</th>\n",
       "      <th>intel3_2</th>\n",
       "      <th>fun3_2</th>\n",
       "      <th>amb3_2</th>\n",
       "      <th>attr5_2</th>\n",
       "      <th>sinc5_2</th>\n",
       "      <th>intel5_2</th>\n",
       "      <th>fun5_2</th>\n",
       "      <th>amb5_2</th>\n",
       "      <th>you_call</th>\n",
       "      <th>them_cal</th>\n",
       "      <th>date_3</th>\n",
       "      <th>numdat_3</th>\n",
       "      <th>num_in_3</th>\n",
       "      <th>attr1_3</th>\n",
       "      <th>sinc1_3</th>\n",
       "      <th>intel1_3</th>\n",
       "      <th>fun1_3</th>\n",
       "      <th>amb1_3</th>\n",
       "      <th>shar1_3</th>\n",
       "      <th>attr7_3</th>\n",
       "      <th>sinc7_3</th>\n",
       "      <th>intel7_3</th>\n",
       "      <th>fun7_3</th>\n",
       "      <th>amb7_3</th>\n",
       "      <th>shar7_3</th>\n",
       "      <th>attr4_3</th>\n",
       "      <th>sinc4_3</th>\n",
       "      <th>intel4_3</th>\n",
       "      <th>fun4_3</th>\n",
       "      <th>amb4_3</th>\n",
       "      <th>shar4_3</th>\n",
       "      <th>attr2_3</th>\n",
       "      <th>sinc2_3</th>\n",
       "      <th>intel2_3</th>\n",
       "      <th>fun2_3</th>\n",
       "      <th>amb2_3</th>\n",
       "      <th>shar2_3</th>\n",
       "      <th>attr3_3</th>\n",
       "      <th>sinc3_3</th>\n",
       "      <th>intel3_3</th>\n",
       "      <th>fun3_3</th>\n",
       "      <th>amb3_3</th>\n",
       "      <th>attr5_3</th>\n",
       "      <th>sinc5_3</th>\n",
       "      <th>intel5_3</th>\n",
       "      <th>fun5_3</th>\n",
       "      <th>amb5_3</th>\n",
       "      <th>gender_name</th>\n",
       "    </tr>\n",
       "  </thead>\n",
       "  <tbody>\n",
       "    <tr>\n",
       "      <th>10</th>\n",
       "      <td>11</td>\n",
       "      <td>1.0</td>\n",
       "      <td>1.0</td>\n",
       "      <td>2.0</td>\n",
       "      <td>1.0</td>\n",
       "      <td>1.0</td>\n",
       "      <td>10.0</td>\n",
       "      <td>5.5</td>\n",
       "      <td>NaN</td>\n",
       "      <td>5.5</td>\n",
       "      <td>5.5</td>\n",
       "      <td>5.5</td>\n",
       "      <td>0.0</td>\n",
       "      <td>0.056</td>\n",
       "      <td>0.6</td>\n",
       "      <td>23.6</td>\n",
       "      <td>3.0</td>\n",
       "      <td>20.409</td>\n",
       "      <td>14.318</td>\n",
       "      <td>23.227</td>\n",
       "      <td>22.318</td>\n",
       "      <td>10.318</td>\n",
       "      <td>9.409</td>\n",
       "      <td>0.4</td>\n",
       "      <td>5.6</td>\n",
       "      <td>8.8</td>\n",
       "      <td>8.2</td>\n",
       "      <td>5.4</td>\n",
       "      <td>6.4</td>\n",
       "      <td>5.222222</td>\n",
       "      <td>6.2</td>\n",
       "      <td>5.200000</td>\n",
       "      <td>1.9</td>\n",
       "      <td>27.0</td>\n",
       "      <td>8.0</td>\n",
       "      <td>2.0</td>\n",
       "      <td>7.0</td>\n",
       "      <td>3.0</td>\n",
       "      <td>1.0</td>\n",
       "      <td>5.0</td>\n",
       "      <td>4.0</td>\n",
       "      <td>2.0</td>\n",
       "      <td>8.0</td>\n",
       "      <td>7.0</td>\n",
       "      <td>2.0</td>\n",
       "      <td>6.0</td>\n",
       "      <td>7.0</td>\n",
       "      <td>5.0</td>\n",
       "      <td>5.0</td>\n",
       "      <td>5.0</td>\n",
       "      <td>4.0</td>\n",
       "      <td>9.0</td>\n",
       "      <td>2.0</td>\n",
       "      <td>4.0</td>\n",
       "      <td>8.0</td>\n",
       "      <td>7.0</td>\n",
       "      <td>8.0</td>\n",
       "      <td>5.0</td>\n",
       "      <td>1.0</td>\n",
       "      <td>7.0</td>\n",
       "      <td>3.0</td>\n",
       "      <td>35.0</td>\n",
       "      <td>20.0</td>\n",
       "      <td>20.0</td>\n",
       "      <td>20.0</td>\n",
       "      <td>0.0</td>\n",
       "      <td>5.0</td>\n",
       "      <td>NaN</td>\n",
       "      <td>NaN</td>\n",
       "      <td>NaN</td>\n",
       "      <td>NaN</td>\n",
       "      <td>NaN</td>\n",
       "      <td>NaN</td>\n",
       "      <td>25.0</td>\n",
       "      <td>5.0</td>\n",
       "      <td>20.0</td>\n",
       "      <td>20.0</td>\n",
       "      <td>25.0</td>\n",
       "      <td>5.0</td>\n",
       "      <td>8.0</td>\n",
       "      <td>9.0</td>\n",
       "      <td>7.0</td>\n",
       "      <td>8.0</td>\n",
       "      <td>5.0</td>\n",
       "      <td>NaN</td>\n",
       "      <td>NaN</td>\n",
       "      <td>NaN</td>\n",
       "      <td>NaN</td>\n",
       "      <td>NaN</td>\n",
       "      <td>0.0</td>\n",
       "      <td>6.8</td>\n",
       "      <td>7.8</td>\n",
       "      <td>7.2</td>\n",
       "      <td>7.6</td>\n",
       "      <td>7.10</td>\n",
       "      <td>5.10</td>\n",
       "      <td>6.4</td>\n",
       "      <td>3.5</td>\n",
       "      <td>1.900</td>\n",
       "      <td>0.0</td>\n",
       "      <td>NaN</td>\n",
       "      <td>NaN</td>\n",
       "      <td>NaN</td>\n",
       "      <td>NaN</td>\n",
       "      <td>NaN</td>\n",
       "      <td>NaN</td>\n",
       "      <td>NaN</td>\n",
       "      <td>NaN</td>\n",
       "      <td>NaN</td>\n",
       "      <td>NaN</td>\n",
       "      <td>NaN</td>\n",
       "      <td>7.0</td>\n",
       "      <td>2.0</td>\n",
       "      <td>NaN</td>\n",
       "      <td>NaN</td>\n",
       "      <td>NaN</td>\n",
       "      <td>NaN</td>\n",
       "      <td>NaN</td>\n",
       "      <td>NaN</td>\n",
       "      <td>NaN</td>\n",
       "      <td>19.51</td>\n",
       "      <td>17.07</td>\n",
       "      <td>17.07</td>\n",
       "      <td>17.07</td>\n",
       "      <td>12.20</td>\n",
       "      <td>17.07</td>\n",
       "      <td>NaN</td>\n",
       "      <td>NaN</td>\n",
       "      <td>NaN</td>\n",
       "      <td>NaN</td>\n",
       "      <td>NaN</td>\n",
       "      <td>NaN</td>\n",
       "      <td>NaN</td>\n",
       "      <td>NaN</td>\n",
       "      <td>NaN</td>\n",
       "      <td>NaN</td>\n",
       "      <td>NaN</td>\n",
       "      <td>NaN</td>\n",
       "      <td>8.0</td>\n",
       "      <td>8.0</td>\n",
       "      <td>8.0</td>\n",
       "      <td>6.0</td>\n",
       "      <td>5.0</td>\n",
       "      <td>NaN</td>\n",
       "      <td>NaN</td>\n",
       "      <td>NaN</td>\n",
       "      <td>NaN</td>\n",
       "      <td>NaN</td>\n",
       "      <td>0.0</td>\n",
       "      <td>0.0</td>\n",
       "      <td>0.0</td>\n",
       "      <td>NaN</td>\n",
       "      <td>NaN</td>\n",
       "      <td>35.0</td>\n",
       "      <td>25.0</td>\n",
       "      <td>15.0</td>\n",
       "      <td>15.0</td>\n",
       "      <td>0.0</td>\n",
       "      <td>10.0</td>\n",
       "      <td>NaN</td>\n",
       "      <td>NaN</td>\n",
       "      <td>NaN</td>\n",
       "      <td>NaN</td>\n",
       "      <td>NaN</td>\n",
       "      <td>NaN</td>\n",
       "      <td>NaN</td>\n",
       "      <td>NaN</td>\n",
       "      <td>NaN</td>\n",
       "      <td>NaN</td>\n",
       "      <td>NaN</td>\n",
       "      <td>NaN</td>\n",
       "      <td>NaN</td>\n",
       "      <td>NaN</td>\n",
       "      <td>NaN</td>\n",
       "      <td>NaN</td>\n",
       "      <td>NaN</td>\n",
       "      <td>NaN</td>\n",
       "      <td>7.0</td>\n",
       "      <td>8.0</td>\n",
       "      <td>7.0</td>\n",
       "      <td>7.0</td>\n",
       "      <td>5.0</td>\n",
       "      <td>NaN</td>\n",
       "      <td>NaN</td>\n",
       "      <td>NaN</td>\n",
       "      <td>NaN</td>\n",
       "      <td>NaN</td>\n",
       "      <td>Male</td>\n",
       "    </tr>\n",
       "    <tr>\n",
       "      <th>11</th>\n",
       "      <td>12</td>\n",
       "      <td>2.0</td>\n",
       "      <td>1.0</td>\n",
       "      <td>4.0</td>\n",
       "      <td>1.0</td>\n",
       "      <td>1.0</td>\n",
       "      <td>10.0</td>\n",
       "      <td>5.5</td>\n",
       "      <td>NaN</td>\n",
       "      <td>5.5</td>\n",
       "      <td>5.5</td>\n",
       "      <td>5.5</td>\n",
       "      <td>0.2</td>\n",
       "      <td>0.155</td>\n",
       "      <td>0.6</td>\n",
       "      <td>23.6</td>\n",
       "      <td>3.0</td>\n",
       "      <td>20.409</td>\n",
       "      <td>14.318</td>\n",
       "      <td>23.227</td>\n",
       "      <td>22.318</td>\n",
       "      <td>10.318</td>\n",
       "      <td>9.409</td>\n",
       "      <td>0.4</td>\n",
       "      <td>7.1</td>\n",
       "      <td>6.6</td>\n",
       "      <td>7.1</td>\n",
       "      <td>6.7</td>\n",
       "      <td>6.9</td>\n",
       "      <td>6.111111</td>\n",
       "      <td>6.9</td>\n",
       "      <td>4.200000</td>\n",
       "      <td>1.5</td>\n",
       "      <td>22.0</td>\n",
       "      <td>1.0</td>\n",
       "      <td>2.0</td>\n",
       "      <td>1.0</td>\n",
       "      <td>1.0</td>\n",
       "      <td>1.0</td>\n",
       "      <td>1.0</td>\n",
       "      <td>1.0</td>\n",
       "      <td>1.0</td>\n",
       "      <td>9.0</td>\n",
       "      <td>7.0</td>\n",
       "      <td>9.0</td>\n",
       "      <td>8.0</td>\n",
       "      <td>7.0</td>\n",
       "      <td>6.0</td>\n",
       "      <td>3.0</td>\n",
       "      <td>3.0</td>\n",
       "      <td>5.0</td>\n",
       "      <td>6.0</td>\n",
       "      <td>6.0</td>\n",
       "      <td>4.0</td>\n",
       "      <td>7.0</td>\n",
       "      <td>7.0</td>\n",
       "      <td>9.0</td>\n",
       "      <td>5.0</td>\n",
       "      <td>5.0</td>\n",
       "      <td>7.0</td>\n",
       "      <td>20.0</td>\n",
       "      <td>60.0</td>\n",
       "      <td>0.0</td>\n",
       "      <td>0.0</td>\n",
       "      <td>40.0</td>\n",
       "      <td>0.0</td>\n",
       "      <td>0.0</td>\n",
       "      <td>NaN</td>\n",
       "      <td>NaN</td>\n",
       "      <td>NaN</td>\n",
       "      <td>NaN</td>\n",
       "      <td>NaN</td>\n",
       "      <td>NaN</td>\n",
       "      <td>25.0</td>\n",
       "      <td>15.0</td>\n",
       "      <td>25.0</td>\n",
       "      <td>20.0</td>\n",
       "      <td>15.0</td>\n",
       "      <td>0.0</td>\n",
       "      <td>9.0</td>\n",
       "      <td>9.0</td>\n",
       "      <td>9.0</td>\n",
       "      <td>10.0</td>\n",
       "      <td>9.0</td>\n",
       "      <td>NaN</td>\n",
       "      <td>NaN</td>\n",
       "      <td>NaN</td>\n",
       "      <td>NaN</td>\n",
       "      <td>NaN</td>\n",
       "      <td>0.3</td>\n",
       "      <td>6.2</td>\n",
       "      <td>6.7</td>\n",
       "      <td>9.1</td>\n",
       "      <td>5.9</td>\n",
       "      <td>5.70</td>\n",
       "      <td>4.70</td>\n",
       "      <td>6.9</td>\n",
       "      <td>3.5</td>\n",
       "      <td>1.700</td>\n",
       "      <td>3.0</td>\n",
       "      <td>NaN</td>\n",
       "      <td>NaN</td>\n",
       "      <td>NaN</td>\n",
       "      <td>NaN</td>\n",
       "      <td>NaN</td>\n",
       "      <td>NaN</td>\n",
       "      <td>NaN</td>\n",
       "      <td>NaN</td>\n",
       "      <td>NaN</td>\n",
       "      <td>NaN</td>\n",
       "      <td>NaN</td>\n",
       "      <td>NaN</td>\n",
       "      <td>NaN</td>\n",
       "      <td>NaN</td>\n",
       "      <td>NaN</td>\n",
       "      <td>NaN</td>\n",
       "      <td>NaN</td>\n",
       "      <td>NaN</td>\n",
       "      <td>NaN</td>\n",
       "      <td>NaN</td>\n",
       "      <td>NaN</td>\n",
       "      <td>NaN</td>\n",
       "      <td>NaN</td>\n",
       "      <td>NaN</td>\n",
       "      <td>NaN</td>\n",
       "      <td>NaN</td>\n",
       "      <td>NaN</td>\n",
       "      <td>NaN</td>\n",
       "      <td>NaN</td>\n",
       "      <td>NaN</td>\n",
       "      <td>NaN</td>\n",
       "      <td>NaN</td>\n",
       "      <td>NaN</td>\n",
       "      <td>NaN</td>\n",
       "      <td>NaN</td>\n",
       "      <td>NaN</td>\n",
       "      <td>NaN</td>\n",
       "      <td>NaN</td>\n",
       "      <td>NaN</td>\n",
       "      <td>NaN</td>\n",
       "      <td>NaN</td>\n",
       "      <td>NaN</td>\n",
       "      <td>NaN</td>\n",
       "      <td>NaN</td>\n",
       "      <td>NaN</td>\n",
       "      <td>NaN</td>\n",
       "      <td>NaN</td>\n",
       "      <td>NaN</td>\n",
       "      <td>NaN</td>\n",
       "      <td>NaN</td>\n",
       "      <td>NaN</td>\n",
       "      <td>NaN</td>\n",
       "      <td>NaN</td>\n",
       "      <td>NaN</td>\n",
       "      <td>NaN</td>\n",
       "      <td>NaN</td>\n",
       "      <td>NaN</td>\n",
       "      <td>NaN</td>\n",
       "      <td>NaN</td>\n",
       "      <td>NaN</td>\n",
       "      <td>NaN</td>\n",
       "      <td>NaN</td>\n",
       "      <td>NaN</td>\n",
       "      <td>NaN</td>\n",
       "      <td>NaN</td>\n",
       "      <td>NaN</td>\n",
       "      <td>NaN</td>\n",
       "      <td>NaN</td>\n",
       "      <td>NaN</td>\n",
       "      <td>NaN</td>\n",
       "      <td>NaN</td>\n",
       "      <td>NaN</td>\n",
       "      <td>NaN</td>\n",
       "      <td>NaN</td>\n",
       "      <td>NaN</td>\n",
       "      <td>NaN</td>\n",
       "      <td>NaN</td>\n",
       "      <td>NaN</td>\n",
       "      <td>NaN</td>\n",
       "      <td>NaN</td>\n",
       "      <td>NaN</td>\n",
       "      <td>NaN</td>\n",
       "      <td>NaN</td>\n",
       "      <td>NaN</td>\n",
       "      <td>NaN</td>\n",
       "      <td>NaN</td>\n",
       "      <td>NaN</td>\n",
       "      <td>Male</td>\n",
       "    </tr>\n",
       "    <tr>\n",
       "      <th>12</th>\n",
       "      <td>13</td>\n",
       "      <td>3.0</td>\n",
       "      <td>1.0</td>\n",
       "      <td>6.0</td>\n",
       "      <td>1.0</td>\n",
       "      <td>1.0</td>\n",
       "      <td>10.0</td>\n",
       "      <td>5.5</td>\n",
       "      <td>NaN</td>\n",
       "      <td>5.5</td>\n",
       "      <td>5.5</td>\n",
       "      <td>5.5</td>\n",
       "      <td>0.4</td>\n",
       "      <td>0.119</td>\n",
       "      <td>0.3</td>\n",
       "      <td>23.6</td>\n",
       "      <td>3.0</td>\n",
       "      <td>20.409</td>\n",
       "      <td>14.318</td>\n",
       "      <td>23.227</td>\n",
       "      <td>22.318</td>\n",
       "      <td>10.318</td>\n",
       "      <td>9.409</td>\n",
       "      <td>0.4</td>\n",
       "      <td>4.8</td>\n",
       "      <td>7.9</td>\n",
       "      <td>8.8</td>\n",
       "      <td>7.0</td>\n",
       "      <td>5.9</td>\n",
       "      <td>5.888889</td>\n",
       "      <td>6.4</td>\n",
       "      <td>5.111111</td>\n",
       "      <td>1.6</td>\n",
       "      <td>22.0</td>\n",
       "      <td>1.0</td>\n",
       "      <td>4.0</td>\n",
       "      <td>3.0</td>\n",
       "      <td>5.0</td>\n",
       "      <td>2.0</td>\n",
       "      <td>7.0</td>\n",
       "      <td>1.0</td>\n",
       "      <td>1.0</td>\n",
       "      <td>7.0</td>\n",
       "      <td>8.0</td>\n",
       "      <td>2.0</td>\n",
       "      <td>9.0</td>\n",
       "      <td>5.0</td>\n",
       "      <td>6.0</td>\n",
       "      <td>4.0</td>\n",
       "      <td>7.0</td>\n",
       "      <td>7.0</td>\n",
       "      <td>6.0</td>\n",
       "      <td>8.0</td>\n",
       "      <td>10.0</td>\n",
       "      <td>8.0</td>\n",
       "      <td>9.0</td>\n",
       "      <td>9.0</td>\n",
       "      <td>8.0</td>\n",
       "      <td>1.0</td>\n",
       "      <td>3.0</td>\n",
       "      <td>4.0</td>\n",
       "      <td>19.0</td>\n",
       "      <td>18.0</td>\n",
       "      <td>19.0</td>\n",
       "      <td>18.0</td>\n",
       "      <td>14.0</td>\n",
       "      <td>12.0</td>\n",
       "      <td>NaN</td>\n",
       "      <td>NaN</td>\n",
       "      <td>NaN</td>\n",
       "      <td>NaN</td>\n",
       "      <td>NaN</td>\n",
       "      <td>NaN</td>\n",
       "      <td>20.0</td>\n",
       "      <td>16.0</td>\n",
       "      <td>16.0</td>\n",
       "      <td>18.0</td>\n",
       "      <td>16.0</td>\n",
       "      <td>14.0</td>\n",
       "      <td>4.0</td>\n",
       "      <td>7.0</td>\n",
       "      <td>8.0</td>\n",
       "      <td>8.0</td>\n",
       "      <td>3.0</td>\n",
       "      <td>NaN</td>\n",
       "      <td>NaN</td>\n",
       "      <td>NaN</td>\n",
       "      <td>NaN</td>\n",
       "      <td>NaN</td>\n",
       "      <td>1.0</td>\n",
       "      <td>10.0</td>\n",
       "      <td>10.0</td>\n",
       "      <td>10.0</td>\n",
       "      <td>10.0</td>\n",
       "      <td>10.00</td>\n",
       "      <td>10.00</td>\n",
       "      <td>10.0</td>\n",
       "      <td>10.0</td>\n",
       "      <td>1.625</td>\n",
       "      <td>NaN</td>\n",
       "      <td>NaN</td>\n",
       "      <td>NaN</td>\n",
       "      <td>NaN</td>\n",
       "      <td>NaN</td>\n",
       "      <td>NaN</td>\n",
       "      <td>NaN</td>\n",
       "      <td>NaN</td>\n",
       "      <td>NaN</td>\n",
       "      <td>NaN</td>\n",
       "      <td>NaN</td>\n",
       "      <td>NaN</td>\n",
       "      <td>10.0</td>\n",
       "      <td>3.0</td>\n",
       "      <td>1.0</td>\n",
       "      <td>NaN</td>\n",
       "      <td>NaN</td>\n",
       "      <td>NaN</td>\n",
       "      <td>NaN</td>\n",
       "      <td>NaN</td>\n",
       "      <td>NaN</td>\n",
       "      <td>20.00</td>\n",
       "      <td>20.00</td>\n",
       "      <td>20.00</td>\n",
       "      <td>20.00</td>\n",
       "      <td>7.50</td>\n",
       "      <td>12.50</td>\n",
       "      <td>NaN</td>\n",
       "      <td>NaN</td>\n",
       "      <td>NaN</td>\n",
       "      <td>NaN</td>\n",
       "      <td>NaN</td>\n",
       "      <td>NaN</td>\n",
       "      <td>NaN</td>\n",
       "      <td>NaN</td>\n",
       "      <td>NaN</td>\n",
       "      <td>NaN</td>\n",
       "      <td>NaN</td>\n",
       "      <td>NaN</td>\n",
       "      <td>3.0</td>\n",
       "      <td>7.0</td>\n",
       "      <td>7.0</td>\n",
       "      <td>8.0</td>\n",
       "      <td>2.0</td>\n",
       "      <td>NaN</td>\n",
       "      <td>NaN</td>\n",
       "      <td>NaN</td>\n",
       "      <td>NaN</td>\n",
       "      <td>NaN</td>\n",
       "      <td>NaN</td>\n",
       "      <td>NaN</td>\n",
       "      <td>NaN</td>\n",
       "      <td>NaN</td>\n",
       "      <td>NaN</td>\n",
       "      <td>NaN</td>\n",
       "      <td>NaN</td>\n",
       "      <td>NaN</td>\n",
       "      <td>NaN</td>\n",
       "      <td>NaN</td>\n",
       "      <td>NaN</td>\n",
       "      <td>NaN</td>\n",
       "      <td>NaN</td>\n",
       "      <td>NaN</td>\n",
       "      <td>NaN</td>\n",
       "      <td>NaN</td>\n",
       "      <td>NaN</td>\n",
       "      <td>NaN</td>\n",
       "      <td>NaN</td>\n",
       "      <td>NaN</td>\n",
       "      <td>NaN</td>\n",
       "      <td>NaN</td>\n",
       "      <td>NaN</td>\n",
       "      <td>NaN</td>\n",
       "      <td>NaN</td>\n",
       "      <td>NaN</td>\n",
       "      <td>NaN</td>\n",
       "      <td>NaN</td>\n",
       "      <td>NaN</td>\n",
       "      <td>NaN</td>\n",
       "      <td>NaN</td>\n",
       "      <td>NaN</td>\n",
       "      <td>NaN</td>\n",
       "      <td>NaN</td>\n",
       "      <td>NaN</td>\n",
       "      <td>NaN</td>\n",
       "      <td>NaN</td>\n",
       "      <td>NaN</td>\n",
       "      <td>NaN</td>\n",
       "      <td>Male</td>\n",
       "    </tr>\n",
       "    <tr>\n",
       "      <th>13</th>\n",
       "      <td>14</td>\n",
       "      <td>4.0</td>\n",
       "      <td>1.0</td>\n",
       "      <td>8.0</td>\n",
       "      <td>1.0</td>\n",
       "      <td>1.0</td>\n",
       "      <td>10.0</td>\n",
       "      <td>5.5</td>\n",
       "      <td>NaN</td>\n",
       "      <td>5.5</td>\n",
       "      <td>5.5</td>\n",
       "      <td>5.5</td>\n",
       "      <td>0.8</td>\n",
       "      <td>-0.057</td>\n",
       "      <td>0.6</td>\n",
       "      <td>23.6</td>\n",
       "      <td>3.0</td>\n",
       "      <td>20.409</td>\n",
       "      <td>14.318</td>\n",
       "      <td>23.227</td>\n",
       "      <td>22.318</td>\n",
       "      <td>10.318</td>\n",
       "      <td>9.409</td>\n",
       "      <td>0.8</td>\n",
       "      <td>8.2</td>\n",
       "      <td>7.6</td>\n",
       "      <td>7.4</td>\n",
       "      <td>7.6</td>\n",
       "      <td>6.6</td>\n",
       "      <td>7.444444</td>\n",
       "      <td>7.7</td>\n",
       "      <td>5.500000</td>\n",
       "      <td>1.6</td>\n",
       "      <td>23.0</td>\n",
       "      <td>1.0</td>\n",
       "      <td>2.0</td>\n",
       "      <td>1.0</td>\n",
       "      <td>1.0</td>\n",
       "      <td>2.0</td>\n",
       "      <td>4.0</td>\n",
       "      <td>1.0</td>\n",
       "      <td>1.0</td>\n",
       "      <td>10.0</td>\n",
       "      <td>6.0</td>\n",
       "      <td>8.0</td>\n",
       "      <td>8.0</td>\n",
       "      <td>3.0</td>\n",
       "      <td>3.0</td>\n",
       "      <td>10.0</td>\n",
       "      <td>8.0</td>\n",
       "      <td>8.0</td>\n",
       "      <td>6.0</td>\n",
       "      <td>7.0</td>\n",
       "      <td>3.0</td>\n",
       "      <td>10.0</td>\n",
       "      <td>6.0</td>\n",
       "      <td>8.0</td>\n",
       "      <td>6.0</td>\n",
       "      <td>1.0</td>\n",
       "      <td>8.0</td>\n",
       "      <td>15.0</td>\n",
       "      <td>30.0</td>\n",
       "      <td>5.0</td>\n",
       "      <td>15.0</td>\n",
       "      <td>40.0</td>\n",
       "      <td>5.0</td>\n",
       "      <td>5.0</td>\n",
       "      <td>NaN</td>\n",
       "      <td>NaN</td>\n",
       "      <td>NaN</td>\n",
       "      <td>NaN</td>\n",
       "      <td>NaN</td>\n",
       "      <td>NaN</td>\n",
       "      <td>20.0</td>\n",
       "      <td>15.0</td>\n",
       "      <td>20.0</td>\n",
       "      <td>20.0</td>\n",
       "      <td>5.0</td>\n",
       "      <td>20.0</td>\n",
       "      <td>9.0</td>\n",
       "      <td>9.0</td>\n",
       "      <td>9.0</td>\n",
       "      <td>9.0</td>\n",
       "      <td>9.0</td>\n",
       "      <td>NaN</td>\n",
       "      <td>NaN</td>\n",
       "      <td>NaN</td>\n",
       "      <td>NaN</td>\n",
       "      <td>NaN</td>\n",
       "      <td>1.0</td>\n",
       "      <td>7.2</td>\n",
       "      <td>8.1</td>\n",
       "      <td>7.8</td>\n",
       "      <td>8.2</td>\n",
       "      <td>8.70</td>\n",
       "      <td>8.30</td>\n",
       "      <td>7.5</td>\n",
       "      <td>7.3</td>\n",
       "      <td>1.600</td>\n",
       "      <td>NaN</td>\n",
       "      <td>NaN</td>\n",
       "      <td>NaN</td>\n",
       "      <td>NaN</td>\n",
       "      <td>NaN</td>\n",
       "      <td>NaN</td>\n",
       "      <td>NaN</td>\n",
       "      <td>NaN</td>\n",
       "      <td>NaN</td>\n",
       "      <td>NaN</td>\n",
       "      <td>NaN</td>\n",
       "      <td>NaN</td>\n",
       "      <td>6.0</td>\n",
       "      <td>3.0</td>\n",
       "      <td>NaN</td>\n",
       "      <td>NaN</td>\n",
       "      <td>NaN</td>\n",
       "      <td>NaN</td>\n",
       "      <td>NaN</td>\n",
       "      <td>NaN</td>\n",
       "      <td>NaN</td>\n",
       "      <td>20.00</td>\n",
       "      <td>14.29</td>\n",
       "      <td>17.14</td>\n",
       "      <td>22.86</td>\n",
       "      <td>14.29</td>\n",
       "      <td>11.43</td>\n",
       "      <td>NaN</td>\n",
       "      <td>NaN</td>\n",
       "      <td>NaN</td>\n",
       "      <td>NaN</td>\n",
       "      <td>NaN</td>\n",
       "      <td>NaN</td>\n",
       "      <td>NaN</td>\n",
       "      <td>NaN</td>\n",
       "      <td>NaN</td>\n",
       "      <td>NaN</td>\n",
       "      <td>NaN</td>\n",
       "      <td>NaN</td>\n",
       "      <td>9.0</td>\n",
       "      <td>9.0</td>\n",
       "      <td>9.0</td>\n",
       "      <td>9.0</td>\n",
       "      <td>9.0</td>\n",
       "      <td>NaN</td>\n",
       "      <td>NaN</td>\n",
       "      <td>NaN</td>\n",
       "      <td>NaN</td>\n",
       "      <td>NaN</td>\n",
       "      <td>1.0</td>\n",
       "      <td>1.0</td>\n",
       "      <td>0.0</td>\n",
       "      <td>NaN</td>\n",
       "      <td>NaN</td>\n",
       "      <td>30.0</td>\n",
       "      <td>10.0</td>\n",
       "      <td>20.0</td>\n",
       "      <td>30.0</td>\n",
       "      <td>5.0</td>\n",
       "      <td>5.0</td>\n",
       "      <td>NaN</td>\n",
       "      <td>NaN</td>\n",
       "      <td>NaN</td>\n",
       "      <td>NaN</td>\n",
       "      <td>NaN</td>\n",
       "      <td>NaN</td>\n",
       "      <td>NaN</td>\n",
       "      <td>NaN</td>\n",
       "      <td>NaN</td>\n",
       "      <td>NaN</td>\n",
       "      <td>NaN</td>\n",
       "      <td>NaN</td>\n",
       "      <td>NaN</td>\n",
       "      <td>NaN</td>\n",
       "      <td>NaN</td>\n",
       "      <td>NaN</td>\n",
       "      <td>NaN</td>\n",
       "      <td>NaN</td>\n",
       "      <td>9.0</td>\n",
       "      <td>9.0</td>\n",
       "      <td>9.0</td>\n",
       "      <td>9.0</td>\n",
       "      <td>9.0</td>\n",
       "      <td>NaN</td>\n",
       "      <td>NaN</td>\n",
       "      <td>NaN</td>\n",
       "      <td>NaN</td>\n",
       "      <td>NaN</td>\n",
       "      <td>Male</td>\n",
       "    </tr>\n",
       "    <tr>\n",
       "      <th>14</th>\n",
       "      <td>15</td>\n",
       "      <td>5.0</td>\n",
       "      <td>1.0</td>\n",
       "      <td>10.0</td>\n",
       "      <td>1.0</td>\n",
       "      <td>1.0</td>\n",
       "      <td>10.0</td>\n",
       "      <td>5.5</td>\n",
       "      <td>NaN</td>\n",
       "      <td>5.5</td>\n",
       "      <td>5.5</td>\n",
       "      <td>5.5</td>\n",
       "      <td>0.3</td>\n",
       "      <td>0.052</td>\n",
       "      <td>0.0</td>\n",
       "      <td>23.6</td>\n",
       "      <td>3.0</td>\n",
       "      <td>20.409</td>\n",
       "      <td>14.318</td>\n",
       "      <td>23.227</td>\n",
       "      <td>22.318</td>\n",
       "      <td>10.318</td>\n",
       "      <td>9.409</td>\n",
       "      <td>0.3</td>\n",
       "      <td>5.7</td>\n",
       "      <td>7.6</td>\n",
       "      <td>7.7</td>\n",
       "      <td>7.2</td>\n",
       "      <td>6.5</td>\n",
       "      <td>6.666667</td>\n",
       "      <td>6.3</td>\n",
       "      <td>4.777778</td>\n",
       "      <td>1.7</td>\n",
       "      <td>24.0</td>\n",
       "      <td>1.0</td>\n",
       "      <td>3.0</td>\n",
       "      <td>3.0</td>\n",
       "      <td>1.0</td>\n",
       "      <td>1.0</td>\n",
       "      <td>4.0</td>\n",
       "      <td>1.0</td>\n",
       "      <td>1.0</td>\n",
       "      <td>9.0</td>\n",
       "      <td>7.0</td>\n",
       "      <td>9.0</td>\n",
       "      <td>7.0</td>\n",
       "      <td>4.0</td>\n",
       "      <td>3.0</td>\n",
       "      <td>6.0</td>\n",
       "      <td>7.0</td>\n",
       "      <td>9.0</td>\n",
       "      <td>8.0</td>\n",
       "      <td>6.0</td>\n",
       "      <td>9.0</td>\n",
       "      <td>9.0</td>\n",
       "      <td>6.0</td>\n",
       "      <td>7.0</td>\n",
       "      <td>2.0</td>\n",
       "      <td>1.0</td>\n",
       "      <td>5.0</td>\n",
       "      <td>9.0</td>\n",
       "      <td>30.0</td>\n",
       "      <td>10.0</td>\n",
       "      <td>20.0</td>\n",
       "      <td>10.0</td>\n",
       "      <td>10.0</td>\n",
       "      <td>20.0</td>\n",
       "      <td>NaN</td>\n",
       "      <td>NaN</td>\n",
       "      <td>NaN</td>\n",
       "      <td>NaN</td>\n",
       "      <td>NaN</td>\n",
       "      <td>NaN</td>\n",
       "      <td>20.0</td>\n",
       "      <td>20.0</td>\n",
       "      <td>20.0</td>\n",
       "      <td>20.0</td>\n",
       "      <td>10.0</td>\n",
       "      <td>10.0</td>\n",
       "      <td>7.0</td>\n",
       "      <td>7.0</td>\n",
       "      <td>7.0</td>\n",
       "      <td>9.0</td>\n",
       "      <td>9.0</td>\n",
       "      <td>NaN</td>\n",
       "      <td>NaN</td>\n",
       "      <td>NaN</td>\n",
       "      <td>NaN</td>\n",
       "      <td>NaN</td>\n",
       "      <td>0.9</td>\n",
       "      <td>7.6</td>\n",
       "      <td>8.5</td>\n",
       "      <td>8.8</td>\n",
       "      <td>7.5</td>\n",
       "      <td>8.25</td>\n",
       "      <td>6.75</td>\n",
       "      <td>7.7</td>\n",
       "      <td>4.9</td>\n",
       "      <td>1.800</td>\n",
       "      <td>NaN</td>\n",
       "      <td>NaN</td>\n",
       "      <td>NaN</td>\n",
       "      <td>NaN</td>\n",
       "      <td>NaN</td>\n",
       "      <td>NaN</td>\n",
       "      <td>NaN</td>\n",
       "      <td>NaN</td>\n",
       "      <td>NaN</td>\n",
       "      <td>NaN</td>\n",
       "      <td>NaN</td>\n",
       "      <td>NaN</td>\n",
       "      <td>8.0</td>\n",
       "      <td>2.0</td>\n",
       "      <td>1.0</td>\n",
       "      <td>NaN</td>\n",
       "      <td>NaN</td>\n",
       "      <td>NaN</td>\n",
       "      <td>NaN</td>\n",
       "      <td>NaN</td>\n",
       "      <td>NaN</td>\n",
       "      <td>21.21</td>\n",
       "      <td>18.18</td>\n",
       "      <td>12.12</td>\n",
       "      <td>21.21</td>\n",
       "      <td>6.06</td>\n",
       "      <td>21.21</td>\n",
       "      <td>NaN</td>\n",
       "      <td>NaN</td>\n",
       "      <td>NaN</td>\n",
       "      <td>NaN</td>\n",
       "      <td>NaN</td>\n",
       "      <td>NaN</td>\n",
       "      <td>NaN</td>\n",
       "      <td>NaN</td>\n",
       "      <td>NaN</td>\n",
       "      <td>NaN</td>\n",
       "      <td>NaN</td>\n",
       "      <td>NaN</td>\n",
       "      <td>7.0</td>\n",
       "      <td>7.0</td>\n",
       "      <td>9.0</td>\n",
       "      <td>7.0</td>\n",
       "      <td>9.0</td>\n",
       "      <td>NaN</td>\n",
       "      <td>NaN</td>\n",
       "      <td>NaN</td>\n",
       "      <td>NaN</td>\n",
       "      <td>NaN</td>\n",
       "      <td>3.0</td>\n",
       "      <td>0.0</td>\n",
       "      <td>0.0</td>\n",
       "      <td>NaN</td>\n",
       "      <td>NaN</td>\n",
       "      <td>30.0</td>\n",
       "      <td>10.0</td>\n",
       "      <td>20.0</td>\n",
       "      <td>20.0</td>\n",
       "      <td>5.0</td>\n",
       "      <td>15.0</td>\n",
       "      <td>NaN</td>\n",
       "      <td>NaN</td>\n",
       "      <td>NaN</td>\n",
       "      <td>NaN</td>\n",
       "      <td>NaN</td>\n",
       "      <td>NaN</td>\n",
       "      <td>NaN</td>\n",
       "      <td>NaN</td>\n",
       "      <td>NaN</td>\n",
       "      <td>NaN</td>\n",
       "      <td>NaN</td>\n",
       "      <td>NaN</td>\n",
       "      <td>NaN</td>\n",
       "      <td>NaN</td>\n",
       "      <td>NaN</td>\n",
       "      <td>NaN</td>\n",
       "      <td>NaN</td>\n",
       "      <td>NaN</td>\n",
       "      <td>7.0</td>\n",
       "      <td>7.0</td>\n",
       "      <td>9.0</td>\n",
       "      <td>7.0</td>\n",
       "      <td>9.0</td>\n",
       "      <td>NaN</td>\n",
       "      <td>NaN</td>\n",
       "      <td>NaN</td>\n",
       "      <td>NaN</td>\n",
       "      <td>NaN</td>\n",
       "      <td>Male</td>\n",
       "    </tr>\n",
       "  </tbody>\n",
       "</table>\n",
       "</div>"
      ],
      "text/plain": [
       "    iid   id  gender   idg  condtn  wave  round  position  positin1  order  \\\n",
       "10   11  1.0     1.0   2.0     1.0   1.0   10.0       5.5       NaN    5.5   \n",
       "11   12  2.0     1.0   4.0     1.0   1.0   10.0       5.5       NaN    5.5   \n",
       "12   13  3.0     1.0   6.0     1.0   1.0   10.0       5.5       NaN    5.5   \n",
       "13   14  4.0     1.0   8.0     1.0   1.0   10.0       5.5       NaN    5.5   \n",
       "14   15  5.0     1.0  10.0     1.0   1.0   10.0       5.5       NaN    5.5   \n",
       "\n",
       "    partner  pid  match  int_corr  samerace  age_o  race_o  pf_o_att  \\\n",
       "10      5.5  5.5    0.0     0.056       0.6   23.6     3.0    20.409   \n",
       "11      5.5  5.5    0.2     0.155       0.6   23.6     3.0    20.409   \n",
       "12      5.5  5.5    0.4     0.119       0.3   23.6     3.0    20.409   \n",
       "13      5.5  5.5    0.8    -0.057       0.6   23.6     3.0    20.409   \n",
       "14      5.5  5.5    0.3     0.052       0.0   23.6     3.0    20.409   \n",
       "\n",
       "    pf_o_sin  pf_o_int  pf_o_fun  pf_o_amb  pf_o_sha  dec_o  attr_o  sinc_o  \\\n",
       "10    14.318    23.227    22.318    10.318     9.409    0.4     5.6     8.8   \n",
       "11    14.318    23.227    22.318    10.318     9.409    0.4     7.1     6.6   \n",
       "12    14.318    23.227    22.318    10.318     9.409    0.4     4.8     7.9   \n",
       "13    14.318    23.227    22.318    10.318     9.409    0.8     8.2     7.6   \n",
       "14    14.318    23.227    22.318    10.318     9.409    0.3     5.7     7.6   \n",
       "\n",
       "    intel_o  fun_o  amb_o    shar_o  like_o    prob_o  met_o   age  field_cd  \\\n",
       "10      8.2    5.4    6.4  5.222222     6.2  5.200000    1.9  27.0       8.0   \n",
       "11      7.1    6.7    6.9  6.111111     6.9  4.200000    1.5  22.0       1.0   \n",
       "12      8.8    7.0    5.9  5.888889     6.4  5.111111    1.6  22.0       1.0   \n",
       "13      7.4    7.6    6.6  7.444444     7.7  5.500000    1.6  23.0       1.0   \n",
       "14      7.7    7.2    6.5  6.666667     6.3  4.777778    1.7  24.0       1.0   \n",
       "\n",
       "    race  imprace  imprelig  goal  date  go_out  career_c  sports  tvsports  \\\n",
       "10   2.0      7.0       3.0   1.0   5.0     4.0       2.0     8.0       7.0   \n",
       "11   2.0      1.0       1.0   1.0   1.0     1.0       1.0     9.0       7.0   \n",
       "12   4.0      3.0       5.0   2.0   7.0     1.0       1.0     7.0       8.0   \n",
       "13   2.0      1.0       1.0   2.0   4.0     1.0       1.0    10.0       6.0   \n",
       "14   3.0      3.0       1.0   1.0   4.0     1.0       1.0     9.0       7.0   \n",
       "\n",
       "    exercise  dining  museums  art  hiking  gaming  clubbing  reading   tv  \\\n",
       "10       2.0     6.0      7.0  5.0     5.0     5.0       4.0      9.0  2.0   \n",
       "11       9.0     8.0      7.0  6.0     3.0     3.0       5.0      6.0  6.0   \n",
       "12       2.0     9.0      5.0  6.0     4.0     7.0       7.0      6.0  8.0   \n",
       "13       8.0     8.0      3.0  3.0    10.0     8.0       8.0      6.0  7.0   \n",
       "14       9.0     7.0      4.0  3.0     6.0     7.0       9.0      8.0  6.0   \n",
       "\n",
       "    theater  movies  concerts  music  shopping  yoga  exphappy  expnum  \\\n",
       "10      4.0     8.0       7.0    8.0       5.0   1.0       7.0     3.0   \n",
       "11      4.0     7.0       7.0    9.0       5.0   5.0       7.0    20.0   \n",
       "12     10.0     8.0       9.0    9.0       8.0   1.0       3.0     4.0   \n",
       "13      3.0    10.0       6.0    8.0       6.0   1.0       8.0    15.0   \n",
       "14      9.0     9.0       6.0    7.0       2.0   1.0       5.0     9.0   \n",
       "\n",
       "    attr1_1  sinc1_1  intel1_1  fun1_1  amb1_1  shar1_1  attr4_1  sinc4_1  \\\n",
       "10     35.0     20.0      20.0    20.0     0.0      5.0      NaN      NaN   \n",
       "11     60.0      0.0       0.0    40.0     0.0      0.0      NaN      NaN   \n",
       "12     19.0     18.0      19.0    18.0    14.0     12.0      NaN      NaN   \n",
       "13     30.0      5.0      15.0    40.0     5.0      5.0      NaN      NaN   \n",
       "14     30.0     10.0      20.0    10.0    10.0     20.0      NaN      NaN   \n",
       "\n",
       "    intel4_1  fun4_1  amb4_1  shar4_1  attr2_1  sinc2_1  intel2_1  fun2_1  \\\n",
       "10       NaN     NaN     NaN      NaN     25.0      5.0      20.0    20.0   \n",
       "11       NaN     NaN     NaN      NaN     25.0     15.0      25.0    20.0   \n",
       "12       NaN     NaN     NaN      NaN     20.0     16.0      16.0    18.0   \n",
       "13       NaN     NaN     NaN      NaN     20.0     15.0      20.0    20.0   \n",
       "14       NaN     NaN     NaN      NaN     20.0     20.0      20.0    20.0   \n",
       "\n",
       "    amb2_1  shar2_1  attr3_1  sinc3_1  fun3_1  intel3_1  amb3_1  attr5_1  \\\n",
       "10    25.0      5.0      8.0      9.0     7.0       8.0     5.0      NaN   \n",
       "11    15.0      0.0      9.0      9.0     9.0      10.0     9.0      NaN   \n",
       "12    16.0     14.0      4.0      7.0     8.0       8.0     3.0      NaN   \n",
       "13     5.0     20.0      9.0      9.0     9.0       9.0     9.0      NaN   \n",
       "14    10.0     10.0      7.0      7.0     7.0       9.0     9.0      NaN   \n",
       "\n",
       "    sinc5_1  intel5_1  fun5_1  amb5_1  dec  attr  sinc  intel   fun    amb  \\\n",
       "10      NaN       NaN     NaN     NaN  0.0   6.8   7.8    7.2   7.6   7.10   \n",
       "11      NaN       NaN     NaN     NaN  0.3   6.2   6.7    9.1   5.9   5.70   \n",
       "12      NaN       NaN     NaN     NaN  1.0  10.0  10.0   10.0  10.0  10.00   \n",
       "13      NaN       NaN     NaN     NaN  1.0   7.2   8.1    7.8   8.2   8.70   \n",
       "14      NaN       NaN     NaN     NaN  0.9   7.6   8.5    8.8   7.5   8.25   \n",
       "\n",
       "     shar  like  prob    met  match_es  attr1_s  sinc1_s  intel1_s  fun1_s  \\\n",
       "10   5.10   6.4   3.5  1.900       0.0      NaN      NaN       NaN     NaN   \n",
       "11   4.70   6.9   3.5  1.700       3.0      NaN      NaN       NaN     NaN   \n",
       "12  10.00  10.0  10.0  1.625       NaN      NaN      NaN       NaN     NaN   \n",
       "13   8.30   7.5   7.3  1.600       NaN      NaN      NaN       NaN     NaN   \n",
       "14   6.75   7.7   4.9  1.800       NaN      NaN      NaN       NaN     NaN   \n",
       "\n",
       "    amb1_s  shar1_s  attr3_s  sinc3_s  intel3_s  fun3_s  amb3_s  satis_2  \\\n",
       "10     NaN      NaN      NaN      NaN       NaN     NaN     NaN      7.0   \n",
       "11     NaN      NaN      NaN      NaN       NaN     NaN     NaN      NaN   \n",
       "12     NaN      NaN      NaN      NaN       NaN     NaN     NaN     10.0   \n",
       "13     NaN      NaN      NaN      NaN       NaN     NaN     NaN      6.0   \n",
       "14     NaN      NaN      NaN      NaN       NaN     NaN     NaN      8.0   \n",
       "\n",
       "    length  numdat_2  attr7_2  sinc7_2  intel7_2  fun7_2  amb7_2  shar7_2  \\\n",
       "10     2.0       NaN      NaN      NaN       NaN     NaN     NaN      NaN   \n",
       "11     NaN       NaN      NaN      NaN       NaN     NaN     NaN      NaN   \n",
       "12     3.0       1.0      NaN      NaN       NaN     NaN     NaN      NaN   \n",
       "13     3.0       NaN      NaN      NaN       NaN     NaN     NaN      NaN   \n",
       "14     2.0       1.0      NaN      NaN       NaN     NaN     NaN      NaN   \n",
       "\n",
       "    attr1_2  sinc1_2  intel1_2  fun1_2  amb1_2  shar1_2  attr4_2  sinc4_2  \\\n",
       "10    19.51    17.07     17.07   17.07   12.20    17.07      NaN      NaN   \n",
       "11      NaN      NaN       NaN     NaN     NaN      NaN      NaN      NaN   \n",
       "12    20.00    20.00     20.00   20.00    7.50    12.50      NaN      NaN   \n",
       "13    20.00    14.29     17.14   22.86   14.29    11.43      NaN      NaN   \n",
       "14    21.21    18.18     12.12   21.21    6.06    21.21      NaN      NaN   \n",
       "\n",
       "    intel4_2  fun4_2  amb4_2  shar4_2  attr2_2  sinc2_2  intel2_2  fun2_2  \\\n",
       "10       NaN     NaN     NaN      NaN      NaN      NaN       NaN     NaN   \n",
       "11       NaN     NaN     NaN      NaN      NaN      NaN       NaN     NaN   \n",
       "12       NaN     NaN     NaN      NaN      NaN      NaN       NaN     NaN   \n",
       "13       NaN     NaN     NaN      NaN      NaN      NaN       NaN     NaN   \n",
       "14       NaN     NaN     NaN      NaN      NaN      NaN       NaN     NaN   \n",
       "\n",
       "    amb2_2  shar2_2  attr3_2  sinc3_2  intel3_2  fun3_2  amb3_2  attr5_2  \\\n",
       "10     NaN      NaN      8.0      8.0       8.0     6.0     5.0      NaN   \n",
       "11     NaN      NaN      NaN      NaN       NaN     NaN     NaN      NaN   \n",
       "12     NaN      NaN      3.0      7.0       7.0     8.0     2.0      NaN   \n",
       "13     NaN      NaN      9.0      9.0       9.0     9.0     9.0      NaN   \n",
       "14     NaN      NaN      7.0      7.0       9.0     7.0     9.0      NaN   \n",
       "\n",
       "    sinc5_2  intel5_2  fun5_2  amb5_2  you_call  them_cal  date_3  numdat_3  \\\n",
       "10      NaN       NaN     NaN     NaN       0.0       0.0     0.0       NaN   \n",
       "11      NaN       NaN     NaN     NaN       NaN       NaN     NaN       NaN   \n",
       "12      NaN       NaN     NaN     NaN       NaN       NaN     NaN       NaN   \n",
       "13      NaN       NaN     NaN     NaN       1.0       1.0     0.0       NaN   \n",
       "14      NaN       NaN     NaN     NaN       3.0       0.0     0.0       NaN   \n",
       "\n",
       "    num_in_3  attr1_3  sinc1_3  intel1_3  fun1_3  amb1_3  shar1_3  attr7_3  \\\n",
       "10       NaN     35.0     25.0      15.0    15.0     0.0     10.0      NaN   \n",
       "11       NaN      NaN      NaN       NaN     NaN     NaN      NaN      NaN   \n",
       "12       NaN      NaN      NaN       NaN     NaN     NaN      NaN      NaN   \n",
       "13       NaN     30.0     10.0      20.0    30.0     5.0      5.0      NaN   \n",
       "14       NaN     30.0     10.0      20.0    20.0     5.0     15.0      NaN   \n",
       "\n",
       "    sinc7_3  intel7_3  fun7_3  amb7_3  shar7_3  attr4_3  sinc4_3  intel4_3  \\\n",
       "10      NaN       NaN     NaN     NaN      NaN      NaN      NaN       NaN   \n",
       "11      NaN       NaN     NaN     NaN      NaN      NaN      NaN       NaN   \n",
       "12      NaN       NaN     NaN     NaN      NaN      NaN      NaN       NaN   \n",
       "13      NaN       NaN     NaN     NaN      NaN      NaN      NaN       NaN   \n",
       "14      NaN       NaN     NaN     NaN      NaN      NaN      NaN       NaN   \n",
       "\n",
       "    fun4_3  amb4_3  shar4_3  attr2_3  sinc2_3  intel2_3  fun2_3  amb2_3  \\\n",
       "10     NaN     NaN      NaN      NaN      NaN       NaN     NaN     NaN   \n",
       "11     NaN     NaN      NaN      NaN      NaN       NaN     NaN     NaN   \n",
       "12     NaN     NaN      NaN      NaN      NaN       NaN     NaN     NaN   \n",
       "13     NaN     NaN      NaN      NaN      NaN       NaN     NaN     NaN   \n",
       "14     NaN     NaN      NaN      NaN      NaN       NaN     NaN     NaN   \n",
       "\n",
       "    shar2_3  attr3_3  sinc3_3  intel3_3  fun3_3  amb3_3  attr5_3  sinc5_3  \\\n",
       "10      NaN      7.0      8.0       7.0     7.0     5.0      NaN      NaN   \n",
       "11      NaN      NaN      NaN       NaN     NaN     NaN      NaN      NaN   \n",
       "12      NaN      NaN      NaN       NaN     NaN     NaN      NaN      NaN   \n",
       "13      NaN      9.0      9.0       9.0     9.0     9.0      NaN      NaN   \n",
       "14      NaN      7.0      7.0       9.0     7.0     9.0      NaN      NaN   \n",
       "\n",
       "    intel5_3  fun5_3  amb5_3 gender_name  \n",
       "10       NaN     NaN     NaN        Male  \n",
       "11       NaN     NaN     NaN        Male  \n",
       "12       NaN     NaN     NaN        Male  \n",
       "13       NaN     NaN     NaN        Male  \n",
       "14       NaN     NaN     NaN        Male  "
      ]
     },
     "execution_count": 8,
     "metadata": {},
     "output_type": "execute_result"
    }
   ],
   "source": [
    "df_iid[df_iid[\"gender_name\"] == \"Male\"].head()"
   ]
  },
  {
   "cell_type": "code",
   "execution_count": 9,
   "metadata": {},
   "outputs": [
    {
     "name": "stdout",
     "output_type": "stream",
     "text": [
      "There were 277 male participants and 274 female participants in the study.\n"
     ]
    }
   ],
   "source": [
    "nb_women = len(df_iid[df_iid[\"gender_name\"] == \"Female\"])\n",
    "nb_men = len(df_iid[df_iid[\"gender_name\"] == \"Male\"])\n",
    "print(f\"There were {nb_men} male participants and {nb_women} female participants in the study.\")\n"
   ]
  },
  {
   "cell_type": "code",
   "execution_count": 10,
   "metadata": {},
   "outputs": [
    {
     "data": {
      "application/vnd.plotly.v1+json": {
       "config": {
        "plotlyServerURL": "https://plot.ly"
       },
       "data": [
        {
         "alignmentgroup": "True",
         "hovertemplate": "gender_name=%{x}<br>age=%{y}<extra></extra>",
         "legendgroup": "Female",
         "marker": {
          "color": "#F78FE4"
         },
         "name": "Female",
         "notched": false,
         "offsetgroup": "Female",
         "orientation": "v",
         "showlegend": true,
         "type": "box",
         "x": [
          "Female",
          "Female",
          "Female",
          "Female",
          "Female",
          "Female",
          "Female",
          "Female",
          "Female",
          "Female",
          "Female",
          "Female",
          "Female",
          "Female",
          "Female",
          "Female",
          "Female",
          "Female",
          "Female",
          "Female",
          "Female",
          "Female",
          "Female",
          "Female",
          "Female",
          "Female",
          "Female",
          "Female",
          "Female",
          "Female",
          "Female",
          "Female",
          "Female",
          "Female",
          "Female",
          "Female",
          "Female",
          "Female",
          "Female",
          "Female",
          "Female",
          "Female",
          "Female",
          "Female",
          "Female",
          "Female",
          "Female",
          "Female",
          "Female",
          "Female",
          "Female",
          "Female",
          "Female",
          "Female",
          "Female",
          "Female",
          "Female",
          "Female",
          "Female",
          "Female",
          "Female",
          "Female",
          "Female",
          "Female",
          "Female",
          "Female",
          "Female",
          "Female",
          "Female",
          "Female",
          "Female",
          "Female",
          "Female",
          "Female",
          "Female",
          "Female",
          "Female",
          "Female",
          "Female",
          "Female",
          "Female",
          "Female",
          "Female",
          "Female",
          "Female",
          "Female",
          "Female",
          "Female",
          "Female",
          "Female",
          "Female",
          "Female",
          "Female",
          "Female",
          "Female",
          "Female",
          "Female",
          "Female",
          "Female",
          "Female",
          "Female",
          "Female",
          "Female",
          "Female",
          "Female",
          "Female",
          "Female",
          "Female",
          "Female",
          "Female",
          "Female",
          "Female",
          "Female",
          "Female",
          "Female",
          "Female",
          "Female",
          "Female",
          "Female",
          "Female",
          "Female",
          "Female",
          "Female",
          "Female",
          "Female",
          "Female",
          "Female",
          "Female",
          "Female",
          "Female",
          "Female",
          "Female",
          "Female",
          "Female",
          "Female",
          "Female",
          "Female",
          "Female",
          "Female",
          "Female",
          "Female",
          "Female",
          "Female",
          "Female",
          "Female",
          "Female",
          "Female",
          "Female",
          "Female",
          "Female",
          "Female",
          "Female",
          "Female",
          "Female",
          "Female",
          "Female",
          "Female",
          "Female",
          "Female",
          "Female",
          "Female",
          "Female",
          "Female",
          "Female",
          "Female",
          "Female",
          "Female",
          "Female",
          "Female",
          "Female",
          "Female",
          "Female",
          "Female",
          "Female",
          "Female",
          "Female",
          "Female",
          "Female",
          "Female",
          "Female",
          "Female",
          "Female",
          "Female",
          "Female",
          "Female",
          "Female",
          "Female",
          "Female",
          "Female",
          "Female",
          "Female",
          "Female",
          "Female",
          "Female",
          "Female",
          "Female",
          "Female",
          "Female",
          "Female",
          "Female",
          "Female",
          "Female",
          "Female",
          "Female",
          "Female",
          "Female",
          "Female",
          "Female",
          "Female",
          "Female",
          "Female",
          "Female",
          "Female",
          "Female",
          "Female",
          "Female",
          "Female",
          "Female",
          "Female",
          "Female",
          "Female",
          "Female",
          "Female",
          "Female",
          "Female",
          "Female",
          "Female",
          "Female",
          "Female",
          "Female",
          "Female",
          "Female",
          "Female",
          "Female",
          "Female",
          "Female",
          "Female",
          "Female",
          "Female",
          "Female",
          "Female",
          "Female",
          "Female",
          "Female",
          "Female",
          "Female",
          "Female",
          "Female",
          "Female",
          "Female",
          "Female",
          "Female",
          "Female",
          "Female",
          "Female",
          "Female",
          "Female",
          "Female",
          "Female",
          "Female",
          "Female",
          "Female",
          "Female",
          "Female",
          "Female",
          "Female",
          "Female",
          "Female",
          "Female",
          "Female",
          "Female",
          "Female",
          "Female",
          "Female"
         ],
         "x0": " ",
         "xaxis": "x",
         "y": [
          21,
          24,
          25,
          23,
          21,
          23,
          22,
          25,
          26,
          26,
          21,
          27,
          21,
          27,
          25,
          23,
          22,
          26,
          22,
          23,
          24,
          27,
          30,
          21,
          25,
          26,
          27,
          23,
          24,
          23,
          22,
          null,
          null,
          29,
          28,
          26,
          24,
          27,
          23,
          34,
          22,
          23,
          26,
          27,
          28,
          25,
          35,
          32,
          30,
          22,
          23,
          23,
          27,
          23,
          25,
          29,
          29,
          20,
          21,
          20,
          21,
          21,
          21,
          19,
          20,
          21,
          27,
          24,
          23,
          26,
          null,
          24,
          33,
          23,
          24,
          36,
          26,
          27,
          28,
          31,
          28,
          27,
          28,
          27,
          27,
          30,
          28,
          29,
          23,
          28,
          22,
          35,
          30,
          24,
          22,
          22,
          24,
          24,
          27,
          25,
          24,
          23,
          30,
          25,
          25,
          22,
          22,
          26,
          23,
          31,
          23,
          25,
          28,
          29,
          28,
          27,
          25,
          22,
          23,
          24,
          34,
          27,
          34,
          26,
          29,
          26,
          28,
          33,
          22,
          26,
          24,
          24,
          25,
          25,
          27,
          26,
          29,
          26,
          26,
          32,
          28,
          26,
          24,
          24,
          23,
          23,
          25,
          30,
          30,
          28,
          21,
          22,
          24,
          35,
          34,
          21,
          33,
          28,
          29,
          22,
          27,
          34,
          25,
          23,
          30,
          36,
          29,
          30,
          29,
          22,
          34,
          23,
          33,
          32,
          26,
          24,
          null,
          26,
          21,
          33,
          31,
          35,
          29,
          25,
          22,
          24,
          27,
          27,
          26,
          26,
          24,
          38,
          33,
          24,
          28,
          27,
          23,
          25,
          26,
          25,
          24,
          21,
          30,
          28,
          26,
          22,
          24,
          33,
          25,
          25,
          29,
          25,
          28,
          22,
          25,
          22,
          27,
          28,
          30,
          27,
          22,
          23,
          23,
          23,
          29,
          27,
          24,
          29,
          55,
          29,
          26,
          24,
          24,
          25,
          25,
          29,
          30,
          25,
          34,
          30,
          27,
          25,
          27,
          26,
          27,
          26,
          23,
          24,
          25,
          26,
          25,
          26,
          28,
          26,
          23,
          null,
          23,
          23,
          23,
          27,
          30,
          23,
          26,
          28,
          26,
          22,
          27,
          25,
          24,
          26,
          24,
          29,
          22,
          22
         ],
         "y0": " ",
         "yaxis": "y"
        },
        {
         "alignmentgroup": "True",
         "hovertemplate": "gender_name=%{x}<br>age=%{y}<extra></extra>",
         "legendgroup": "Male",
         "marker": {
          "color": "#0460C9"
         },
         "name": "Male",
         "notched": false,
         "offsetgroup": "Male",
         "orientation": "v",
         "showlegend": true,
         "type": "box",
         "x": [
          "Male",
          "Male",
          "Male",
          "Male",
          "Male",
          "Male",
          "Male",
          "Male",
          "Male",
          "Male",
          "Male",
          "Male",
          "Male",
          "Male",
          "Male",
          "Male",
          "Male",
          "Male",
          "Male",
          "Male",
          "Male",
          "Male",
          "Male",
          "Male",
          "Male",
          "Male",
          "Male",
          "Male",
          "Male",
          "Male",
          "Male",
          "Male",
          "Male",
          "Male",
          "Male",
          "Male",
          "Male",
          "Male",
          "Male",
          "Male",
          "Male",
          "Male",
          "Male",
          "Male",
          "Male",
          "Male",
          "Male",
          "Male",
          "Male",
          "Male",
          "Male",
          "Male",
          "Male",
          "Male",
          "Male",
          "Male",
          "Male",
          "Male",
          "Male",
          "Male",
          "Male",
          "Male",
          "Male",
          "Male",
          "Male",
          "Male",
          "Male",
          "Male",
          "Male",
          "Male",
          "Male",
          "Male",
          "Male",
          "Male",
          "Male",
          "Male",
          "Male",
          "Male",
          "Male",
          "Male",
          "Male",
          "Male",
          "Male",
          "Male",
          "Male",
          "Male",
          "Male",
          "Male",
          "Male",
          "Male",
          "Male",
          "Male",
          "Male",
          "Male",
          "Male",
          "Male",
          "Male",
          "Male",
          "Male",
          "Male",
          "Male",
          "Male",
          "Male",
          "Male",
          "Male",
          "Male",
          "Male",
          "Male",
          "Male",
          "Male",
          "Male",
          "Male",
          "Male",
          "Male",
          "Male",
          "Male",
          "Male",
          "Male",
          "Male",
          "Male",
          "Male",
          "Male",
          "Male",
          "Male",
          "Male",
          "Male",
          "Male",
          "Male",
          "Male",
          "Male",
          "Male",
          "Male",
          "Male",
          "Male",
          "Male",
          "Male",
          "Male",
          "Male",
          "Male",
          "Male",
          "Male",
          "Male",
          "Male",
          "Male",
          "Male",
          "Male",
          "Male",
          "Male",
          "Male",
          "Male",
          "Male",
          "Male",
          "Male",
          "Male",
          "Male",
          "Male",
          "Male",
          "Male",
          "Male",
          "Male",
          "Male",
          "Male",
          "Male",
          "Male",
          "Male",
          "Male",
          "Male",
          "Male",
          "Male",
          "Male",
          "Male",
          "Male",
          "Male",
          "Male",
          "Male",
          "Male",
          "Male",
          "Male",
          "Male",
          "Male",
          "Male",
          "Male",
          "Male",
          "Male",
          "Male",
          "Male",
          "Male",
          "Male",
          "Male",
          "Male",
          "Male",
          "Male",
          "Male",
          "Male",
          "Male",
          "Male",
          "Male",
          "Male",
          "Male",
          "Male",
          "Male",
          "Male",
          "Male",
          "Male",
          "Male",
          "Male",
          "Male",
          "Male",
          "Male",
          "Male",
          "Male",
          "Male",
          "Male",
          "Male",
          "Male",
          "Male",
          "Male",
          "Male",
          "Male",
          "Male",
          "Male",
          "Male",
          "Male",
          "Male",
          "Male",
          "Male",
          "Male",
          "Male",
          "Male",
          "Male",
          "Male",
          "Male",
          "Male",
          "Male",
          "Male",
          "Male",
          "Male",
          "Male",
          "Male",
          "Male",
          "Male",
          "Male",
          "Male",
          "Male",
          "Male",
          "Male",
          "Male",
          "Male",
          "Male",
          "Male",
          "Male",
          "Male",
          "Male",
          "Male",
          "Male",
          "Male",
          "Male",
          "Male",
          "Male",
          "Male",
          "Male",
          "Male",
          "Male",
          "Male",
          "Male",
          "Male",
          "Male",
          "Male",
          "Male",
          "Male",
          "Male",
          "Male",
          "Male",
          "Male",
          "Male",
          "Male",
          "Male"
         ],
         "x0": " ",
         "xaxis": "x",
         "y": [
          27,
          22,
          22,
          23,
          24,
          25,
          30,
          27,
          28,
          24,
          25,
          30,
          23,
          24,
          24,
          28,
          26,
          30,
          22,
          25,
          27,
          23,
          21,
          28,
          28,
          23,
          29,
          22,
          27,
          28,
          26,
          21,
          22,
          22,
          25,
          24,
          28,
          26,
          26,
          29,
          39,
          28,
          30,
          22,
          32,
          26,
          27,
          25,
          22,
          21,
          24,
          25,
          28,
          27,
          22,
          18,
          22,
          21,
          22,
          22,
          21,
          null,
          20,
          19,
          26,
          32,
          37,
          29,
          28,
          23,
          28,
          29,
          22,
          27,
          26,
          27,
          30,
          26,
          23,
          23,
          28,
          28,
          29,
          27,
          22,
          34,
          25,
          24,
          26,
          21,
          27,
          25,
          28,
          24,
          25,
          23,
          26,
          27,
          26,
          24,
          26,
          25,
          27,
          27,
          28,
          32,
          28,
          23,
          26,
          24,
          28,
          42,
          30,
          31,
          29,
          27,
          28,
          32,
          25,
          25,
          27,
          33,
          25,
          33,
          29,
          24,
          21,
          26,
          25,
          32,
          25,
          25,
          27,
          23,
          27,
          27,
          24,
          22,
          22,
          27,
          28,
          34,
          27,
          28,
          28,
          27,
          32,
          25,
          29,
          23,
          27,
          32,
          27,
          25,
          30,
          29,
          26,
          36,
          29,
          30,
          23,
          29,
          24,
          25,
          28,
          27,
          null,
          null,
          34,
          30,
          23,
          27,
          30,
          27,
          27,
          24,
          25,
          28,
          27,
          27,
          29,
          30,
          27,
          25,
          26,
          29,
          24,
          29,
          29,
          26,
          31,
          29,
          22,
          23,
          30,
          27,
          24,
          24,
          23,
          27,
          34,
          27,
          26,
          29,
          31,
          26,
          30,
          24,
          28,
          24,
          28,
          27,
          27,
          21,
          24,
          25,
          27,
          26,
          30,
          28,
          26,
          22,
          23,
          25,
          30,
          29,
          27,
          33,
          27,
          33,
          23,
          33,
          23,
          23,
          30,
          28,
          31,
          29,
          32,
          24,
          29,
          28,
          29,
          29,
          30,
          20,
          30,
          32,
          26,
          25,
          23,
          27,
          24,
          24,
          36,
          25,
          26,
          26,
          24,
          23,
          29,
          22,
          32,
          22,
          24,
          23,
          23,
          24,
          23,
          24,
          30,
          30,
          30,
          28,
          30,
          27,
          25
         ],
         "y0": " ",
         "yaxis": "y"
        }
       ],
       "layout": {
        "boxmode": "overlay",
        "legend": {
         "title": {
          "text": "gender_name"
         },
         "tracegroupgap": 0
        },
        "margin": {
         "t": 60
        },
        "template": {
         "data": {
          "bar": [
           {
            "error_x": {
             "color": "#2a3f5f"
            },
            "error_y": {
             "color": "#2a3f5f"
            },
            "marker": {
             "line": {
              "color": "#E5ECF6",
              "width": 0.5
             },
             "pattern": {
              "fillmode": "overlay",
              "size": 10,
              "solidity": 0.2
             }
            },
            "type": "bar"
           }
          ],
          "barpolar": [
           {
            "marker": {
             "line": {
              "color": "#E5ECF6",
              "width": 0.5
             },
             "pattern": {
              "fillmode": "overlay",
              "size": 10,
              "solidity": 0.2
             }
            },
            "type": "barpolar"
           }
          ],
          "carpet": [
           {
            "aaxis": {
             "endlinecolor": "#2a3f5f",
             "gridcolor": "white",
             "linecolor": "white",
             "minorgridcolor": "white",
             "startlinecolor": "#2a3f5f"
            },
            "baxis": {
             "endlinecolor": "#2a3f5f",
             "gridcolor": "white",
             "linecolor": "white",
             "minorgridcolor": "white",
             "startlinecolor": "#2a3f5f"
            },
            "type": "carpet"
           }
          ],
          "choropleth": [
           {
            "colorbar": {
             "outlinewidth": 0,
             "ticks": ""
            },
            "type": "choropleth"
           }
          ],
          "contour": [
           {
            "colorbar": {
             "outlinewidth": 0,
             "ticks": ""
            },
            "colorscale": [
             [
              0,
              "#0d0887"
             ],
             [
              0.1111111111111111,
              "#46039f"
             ],
             [
              0.2222222222222222,
              "#7201a8"
             ],
             [
              0.3333333333333333,
              "#9c179e"
             ],
             [
              0.4444444444444444,
              "#bd3786"
             ],
             [
              0.5555555555555556,
              "#d8576b"
             ],
             [
              0.6666666666666666,
              "#ed7953"
             ],
             [
              0.7777777777777778,
              "#fb9f3a"
             ],
             [
              0.8888888888888888,
              "#fdca26"
             ],
             [
              1,
              "#f0f921"
             ]
            ],
            "type": "contour"
           }
          ],
          "contourcarpet": [
           {
            "colorbar": {
             "outlinewidth": 0,
             "ticks": ""
            },
            "type": "contourcarpet"
           }
          ],
          "heatmap": [
           {
            "colorbar": {
             "outlinewidth": 0,
             "ticks": ""
            },
            "colorscale": [
             [
              0,
              "#0d0887"
             ],
             [
              0.1111111111111111,
              "#46039f"
             ],
             [
              0.2222222222222222,
              "#7201a8"
             ],
             [
              0.3333333333333333,
              "#9c179e"
             ],
             [
              0.4444444444444444,
              "#bd3786"
             ],
             [
              0.5555555555555556,
              "#d8576b"
             ],
             [
              0.6666666666666666,
              "#ed7953"
             ],
             [
              0.7777777777777778,
              "#fb9f3a"
             ],
             [
              0.8888888888888888,
              "#fdca26"
             ],
             [
              1,
              "#f0f921"
             ]
            ],
            "type": "heatmap"
           }
          ],
          "heatmapgl": [
           {
            "colorbar": {
             "outlinewidth": 0,
             "ticks": ""
            },
            "colorscale": [
             [
              0,
              "#0d0887"
             ],
             [
              0.1111111111111111,
              "#46039f"
             ],
             [
              0.2222222222222222,
              "#7201a8"
             ],
             [
              0.3333333333333333,
              "#9c179e"
             ],
             [
              0.4444444444444444,
              "#bd3786"
             ],
             [
              0.5555555555555556,
              "#d8576b"
             ],
             [
              0.6666666666666666,
              "#ed7953"
             ],
             [
              0.7777777777777778,
              "#fb9f3a"
             ],
             [
              0.8888888888888888,
              "#fdca26"
             ],
             [
              1,
              "#f0f921"
             ]
            ],
            "type": "heatmapgl"
           }
          ],
          "histogram": [
           {
            "marker": {
             "pattern": {
              "fillmode": "overlay",
              "size": 10,
              "solidity": 0.2
             }
            },
            "type": "histogram"
           }
          ],
          "histogram2d": [
           {
            "colorbar": {
             "outlinewidth": 0,
             "ticks": ""
            },
            "colorscale": [
             [
              0,
              "#0d0887"
             ],
             [
              0.1111111111111111,
              "#46039f"
             ],
             [
              0.2222222222222222,
              "#7201a8"
             ],
             [
              0.3333333333333333,
              "#9c179e"
             ],
             [
              0.4444444444444444,
              "#bd3786"
             ],
             [
              0.5555555555555556,
              "#d8576b"
             ],
             [
              0.6666666666666666,
              "#ed7953"
             ],
             [
              0.7777777777777778,
              "#fb9f3a"
             ],
             [
              0.8888888888888888,
              "#fdca26"
             ],
             [
              1,
              "#f0f921"
             ]
            ],
            "type": "histogram2d"
           }
          ],
          "histogram2dcontour": [
           {
            "colorbar": {
             "outlinewidth": 0,
             "ticks": ""
            },
            "colorscale": [
             [
              0,
              "#0d0887"
             ],
             [
              0.1111111111111111,
              "#46039f"
             ],
             [
              0.2222222222222222,
              "#7201a8"
             ],
             [
              0.3333333333333333,
              "#9c179e"
             ],
             [
              0.4444444444444444,
              "#bd3786"
             ],
             [
              0.5555555555555556,
              "#d8576b"
             ],
             [
              0.6666666666666666,
              "#ed7953"
             ],
             [
              0.7777777777777778,
              "#fb9f3a"
             ],
             [
              0.8888888888888888,
              "#fdca26"
             ],
             [
              1,
              "#f0f921"
             ]
            ],
            "type": "histogram2dcontour"
           }
          ],
          "mesh3d": [
           {
            "colorbar": {
             "outlinewidth": 0,
             "ticks": ""
            },
            "type": "mesh3d"
           }
          ],
          "parcoords": [
           {
            "line": {
             "colorbar": {
              "outlinewidth": 0,
              "ticks": ""
             }
            },
            "type": "parcoords"
           }
          ],
          "pie": [
           {
            "automargin": true,
            "type": "pie"
           }
          ],
          "scatter": [
           {
            "fillpattern": {
             "fillmode": "overlay",
             "size": 10,
             "solidity": 0.2
            },
            "type": "scatter"
           }
          ],
          "scatter3d": [
           {
            "line": {
             "colorbar": {
              "outlinewidth": 0,
              "ticks": ""
             }
            },
            "marker": {
             "colorbar": {
              "outlinewidth": 0,
              "ticks": ""
             }
            },
            "type": "scatter3d"
           }
          ],
          "scattercarpet": [
           {
            "marker": {
             "colorbar": {
              "outlinewidth": 0,
              "ticks": ""
             }
            },
            "type": "scattercarpet"
           }
          ],
          "scattergeo": [
           {
            "marker": {
             "colorbar": {
              "outlinewidth": 0,
              "ticks": ""
             }
            },
            "type": "scattergeo"
           }
          ],
          "scattergl": [
           {
            "marker": {
             "colorbar": {
              "outlinewidth": 0,
              "ticks": ""
             }
            },
            "type": "scattergl"
           }
          ],
          "scattermapbox": [
           {
            "marker": {
             "colorbar": {
              "outlinewidth": 0,
              "ticks": ""
             }
            },
            "type": "scattermapbox"
           }
          ],
          "scatterpolar": [
           {
            "marker": {
             "colorbar": {
              "outlinewidth": 0,
              "ticks": ""
             }
            },
            "type": "scatterpolar"
           }
          ],
          "scatterpolargl": [
           {
            "marker": {
             "colorbar": {
              "outlinewidth": 0,
              "ticks": ""
             }
            },
            "type": "scatterpolargl"
           }
          ],
          "scatterternary": [
           {
            "marker": {
             "colorbar": {
              "outlinewidth": 0,
              "ticks": ""
             }
            },
            "type": "scatterternary"
           }
          ],
          "surface": [
           {
            "colorbar": {
             "outlinewidth": 0,
             "ticks": ""
            },
            "colorscale": [
             [
              0,
              "#0d0887"
             ],
             [
              0.1111111111111111,
              "#46039f"
             ],
             [
              0.2222222222222222,
              "#7201a8"
             ],
             [
              0.3333333333333333,
              "#9c179e"
             ],
             [
              0.4444444444444444,
              "#bd3786"
             ],
             [
              0.5555555555555556,
              "#d8576b"
             ],
             [
              0.6666666666666666,
              "#ed7953"
             ],
             [
              0.7777777777777778,
              "#fb9f3a"
             ],
             [
              0.8888888888888888,
              "#fdca26"
             ],
             [
              1,
              "#f0f921"
             ]
            ],
            "type": "surface"
           }
          ],
          "table": [
           {
            "cells": {
             "fill": {
              "color": "#EBF0F8"
             },
             "line": {
              "color": "white"
             }
            },
            "header": {
             "fill": {
              "color": "#C8D4E3"
             },
             "line": {
              "color": "white"
             }
            },
            "type": "table"
           }
          ]
         },
         "layout": {
          "annotationdefaults": {
           "arrowcolor": "#2a3f5f",
           "arrowhead": 0,
           "arrowwidth": 1
          },
          "autotypenumbers": "strict",
          "coloraxis": {
           "colorbar": {
            "outlinewidth": 0,
            "ticks": ""
           }
          },
          "colorscale": {
           "diverging": [
            [
             0,
             "#8e0152"
            ],
            [
             0.1,
             "#c51b7d"
            ],
            [
             0.2,
             "#de77ae"
            ],
            [
             0.3,
             "#f1b6da"
            ],
            [
             0.4,
             "#fde0ef"
            ],
            [
             0.5,
             "#f7f7f7"
            ],
            [
             0.6,
             "#e6f5d0"
            ],
            [
             0.7,
             "#b8e186"
            ],
            [
             0.8,
             "#7fbc41"
            ],
            [
             0.9,
             "#4d9221"
            ],
            [
             1,
             "#276419"
            ]
           ],
           "sequential": [
            [
             0,
             "#0d0887"
            ],
            [
             0.1111111111111111,
             "#46039f"
            ],
            [
             0.2222222222222222,
             "#7201a8"
            ],
            [
             0.3333333333333333,
             "#9c179e"
            ],
            [
             0.4444444444444444,
             "#bd3786"
            ],
            [
             0.5555555555555556,
             "#d8576b"
            ],
            [
             0.6666666666666666,
             "#ed7953"
            ],
            [
             0.7777777777777778,
             "#fb9f3a"
            ],
            [
             0.8888888888888888,
             "#fdca26"
            ],
            [
             1,
             "#f0f921"
            ]
           ],
           "sequentialminus": [
            [
             0,
             "#0d0887"
            ],
            [
             0.1111111111111111,
             "#46039f"
            ],
            [
             0.2222222222222222,
             "#7201a8"
            ],
            [
             0.3333333333333333,
             "#9c179e"
            ],
            [
             0.4444444444444444,
             "#bd3786"
            ],
            [
             0.5555555555555556,
             "#d8576b"
            ],
            [
             0.6666666666666666,
             "#ed7953"
            ],
            [
             0.7777777777777778,
             "#fb9f3a"
            ],
            [
             0.8888888888888888,
             "#fdca26"
            ],
            [
             1,
             "#f0f921"
            ]
           ]
          },
          "colorway": [
           "#636efa",
           "#EF553B",
           "#00cc96",
           "#ab63fa",
           "#FFA15A",
           "#19d3f3",
           "#FF6692",
           "#B6E880",
           "#FF97FF",
           "#FECB52"
          ],
          "font": {
           "color": "#2a3f5f"
          },
          "geo": {
           "bgcolor": "white",
           "lakecolor": "white",
           "landcolor": "#E5ECF6",
           "showlakes": true,
           "showland": true,
           "subunitcolor": "white"
          },
          "hoverlabel": {
           "align": "left"
          },
          "hovermode": "closest",
          "mapbox": {
           "style": "light"
          },
          "paper_bgcolor": "white",
          "plot_bgcolor": "#E5ECF6",
          "polar": {
           "angularaxis": {
            "gridcolor": "white",
            "linecolor": "white",
            "ticks": ""
           },
           "bgcolor": "#E5ECF6",
           "radialaxis": {
            "gridcolor": "white",
            "linecolor": "white",
            "ticks": ""
           }
          },
          "scene": {
           "xaxis": {
            "backgroundcolor": "#E5ECF6",
            "gridcolor": "white",
            "gridwidth": 2,
            "linecolor": "white",
            "showbackground": true,
            "ticks": "",
            "zerolinecolor": "white"
           },
           "yaxis": {
            "backgroundcolor": "#E5ECF6",
            "gridcolor": "white",
            "gridwidth": 2,
            "linecolor": "white",
            "showbackground": true,
            "ticks": "",
            "zerolinecolor": "white"
           },
           "zaxis": {
            "backgroundcolor": "#E5ECF6",
            "gridcolor": "white",
            "gridwidth": 2,
            "linecolor": "white",
            "showbackground": true,
            "ticks": "",
            "zerolinecolor": "white"
           }
          },
          "shapedefaults": {
           "line": {
            "color": "#2a3f5f"
           }
          },
          "ternary": {
           "aaxis": {
            "gridcolor": "white",
            "linecolor": "white",
            "ticks": ""
           },
           "baxis": {
            "gridcolor": "white",
            "linecolor": "white",
            "ticks": ""
           },
           "bgcolor": "#E5ECF6",
           "caxis": {
            "gridcolor": "white",
            "linecolor": "white",
            "ticks": ""
           }
          },
          "title": {
           "x": 0.05
          },
          "xaxis": {
           "automargin": true,
           "gridcolor": "white",
           "linecolor": "white",
           "ticks": "",
           "title": {
            "standoff": 15
           },
           "zerolinecolor": "white",
           "zerolinewidth": 2
          },
          "yaxis": {
           "automargin": true,
           "gridcolor": "white",
           "linecolor": "white",
           "ticks": "",
           "title": {
            "standoff": 15
           },
           "zerolinecolor": "white",
           "zerolinewidth": 2
          }
         }
        },
        "xaxis": {
         "anchor": "y",
         "categoryarray": [
          "Female",
          "Male"
         ],
         "categoryorder": "array",
         "domain": [
          0,
          1
         ],
         "title": {
          "text": "gender_name"
         }
        },
        "yaxis": {
         "anchor": "x",
         "domain": [
          0,
          1
         ],
         "title": {
          "text": "age"
         }
        }
       }
      }
     },
     "metadata": {},
     "output_type": "display_data"
    }
   ],
   "source": [
    "fig = px.box(df_iid, x=\"gender_name\", y=\"age\", color=\"gender_name\", color_discrete_sequence=[\"#F78FE4\", \"#0460C9\"])\n",
    "fig.show()"
   ]
  },
  {
   "cell_type": "code",
   "execution_count": 11,
   "metadata": {},
   "outputs": [
    {
     "data": {
      "text/plain": [
       "pandas.core.frame.DataFrame"
      ]
     },
     "execution_count": 11,
     "metadata": {},
     "output_type": "execute_result"
    }
   ],
   "source": [
    "type(df_iid[df_iid[\"gender_name\"] == \"Female\"])"
   ]
  },
  {
   "cell_type": "code",
   "execution_count": 12,
   "metadata": {},
   "outputs": [
    {
     "data": {
      "application/vnd.plotly.v1+json": {
       "config": {
        "plotlyServerURL": "https://plot.ly"
       },
       "data": [
        {
         "autobinx": false,
         "histnorm": "probability density",
         "legendgroup": "Female",
         "marker": {
          "color": "#F78FE4"
         },
         "name": "Female",
         "opacity": 0.7,
         "type": "histogram",
         "x": [
          21,
          24,
          25,
          23,
          21,
          23,
          22,
          25,
          26,
          26,
          21,
          27,
          21,
          27,
          25,
          23,
          22,
          26,
          22,
          23,
          24,
          27,
          30,
          21,
          25,
          26,
          27,
          23,
          24,
          23,
          22,
          29,
          28,
          26,
          24,
          27,
          23,
          34,
          22,
          23,
          26,
          27,
          28,
          25,
          35,
          32,
          30,
          22,
          23,
          23,
          27,
          23,
          25,
          29,
          29,
          20,
          21,
          20,
          21,
          21,
          21,
          19,
          20,
          21,
          27,
          24,
          23,
          26,
          24,
          33,
          23,
          24,
          36,
          26,
          27,
          28,
          31,
          28,
          27,
          28,
          27,
          27,
          30,
          28,
          29,
          23,
          28,
          22,
          35,
          30,
          24,
          22,
          22,
          24,
          24,
          27,
          25,
          24,
          23,
          30,
          25,
          25,
          22,
          22,
          26,
          23,
          31,
          23,
          25,
          28,
          29,
          28,
          27,
          25,
          22,
          23,
          24,
          34,
          27,
          34,
          26,
          29,
          26,
          28,
          33,
          22,
          26,
          24,
          24,
          25,
          25,
          27,
          26,
          29,
          26,
          26,
          32,
          28,
          26,
          24,
          24,
          23,
          23,
          25,
          30,
          30,
          28,
          21,
          22,
          24,
          35,
          34,
          21,
          33,
          28,
          29,
          22,
          27,
          34,
          25,
          23,
          30,
          36,
          29,
          30,
          29,
          22,
          34,
          23,
          33,
          32,
          26,
          24,
          26,
          21,
          33,
          31,
          35,
          29,
          25,
          22,
          24,
          27,
          27,
          26,
          26,
          24,
          38,
          33,
          24,
          28,
          27,
          23,
          25,
          26,
          25,
          24,
          21,
          30,
          28,
          26,
          22,
          24,
          33,
          25,
          25,
          29,
          25,
          28,
          22,
          25,
          22,
          27,
          28,
          30,
          27,
          22,
          23,
          23,
          23,
          29,
          27,
          24,
          29,
          55,
          29,
          26,
          24,
          24,
          25,
          25,
          29,
          30,
          25,
          34,
          30,
          27,
          25,
          27,
          26,
          27,
          26,
          23,
          24,
          25,
          26,
          25,
          26,
          28,
          26,
          23,
          23,
          23,
          23,
          27,
          30,
          23,
          26,
          28,
          26,
          22,
          27,
          25,
          24,
          26,
          24,
          29,
          22,
          22
         ],
         "xaxis": "x",
         "xbins": {
          "end": 55,
          "size": 1,
          "start": 19
         },
         "yaxis": "y"
        },
        {
         "autobinx": false,
         "histnorm": "probability density",
         "legendgroup": "Male",
         "marker": {
          "color": "#0460C9"
         },
         "name": "Male",
         "opacity": 0.7,
         "type": "histogram",
         "x": [
          27,
          22,
          22,
          23,
          24,
          25,
          30,
          27,
          28,
          24,
          25,
          30,
          23,
          24,
          24,
          28,
          26,
          30,
          22,
          25,
          27,
          23,
          21,
          28,
          28,
          23,
          29,
          22,
          27,
          28,
          26,
          21,
          22,
          22,
          25,
          24,
          28,
          26,
          26,
          29,
          39,
          28,
          30,
          22,
          32,
          26,
          27,
          25,
          22,
          21,
          24,
          25,
          28,
          27,
          22,
          18,
          22,
          21,
          22,
          22,
          21,
          20,
          19,
          26,
          32,
          37,
          29,
          28,
          23,
          28,
          29,
          22,
          27,
          26,
          27,
          30,
          26,
          23,
          23,
          28,
          28,
          29,
          27,
          22,
          34,
          25,
          24,
          26,
          21,
          27,
          25,
          28,
          24,
          25,
          23,
          26,
          27,
          26,
          24,
          26,
          25,
          27,
          27,
          28,
          32,
          28,
          23,
          26,
          24,
          28,
          42,
          30,
          31,
          29,
          27,
          28,
          32,
          25,
          25,
          27,
          33,
          25,
          33,
          29,
          24,
          21,
          26,
          25,
          32,
          25,
          25,
          27,
          23,
          27,
          27,
          24,
          22,
          22,
          27,
          28,
          34,
          27,
          28,
          28,
          27,
          32,
          25,
          29,
          23,
          27,
          32,
          27,
          25,
          30,
          29,
          26,
          36,
          29,
          30,
          23,
          29,
          24,
          25,
          28,
          27,
          34,
          30,
          23,
          27,
          30,
          27,
          27,
          24,
          25,
          28,
          27,
          27,
          29,
          30,
          27,
          25,
          26,
          29,
          24,
          29,
          29,
          26,
          31,
          29,
          22,
          23,
          30,
          27,
          24,
          24,
          23,
          27,
          34,
          27,
          26,
          29,
          31,
          26,
          30,
          24,
          28,
          24,
          28,
          27,
          27,
          21,
          24,
          25,
          27,
          26,
          30,
          28,
          26,
          22,
          23,
          25,
          30,
          29,
          27,
          33,
          27,
          33,
          23,
          33,
          23,
          23,
          30,
          28,
          31,
          29,
          32,
          24,
          29,
          28,
          29,
          29,
          30,
          20,
          30,
          32,
          26,
          25,
          23,
          27,
          24,
          24,
          36,
          25,
          26,
          26,
          24,
          23,
          29,
          22,
          32,
          22,
          24,
          23,
          23,
          24,
          23,
          24,
          30,
          30,
          30,
          28,
          30,
          27,
          25
         ],
         "xaxis": "x",
         "xbins": {
          "end": 42,
          "size": 1,
          "start": 18
         },
         "yaxis": "y"
        },
        {
         "legendgroup": "Female",
         "marker": {
          "color": "#F78FE4"
         },
         "mode": "lines",
         "name": "Female",
         "showlegend": false,
         "type": "scatter",
         "x": [
          19,
          19.072,
          19.144,
          19.216,
          19.288,
          19.36,
          19.432,
          19.504,
          19.576,
          19.648,
          19.72,
          19.792,
          19.864,
          19.936,
          20.008,
          20.08,
          20.152,
          20.224,
          20.296,
          20.368,
          20.44,
          20.512,
          20.584,
          20.656,
          20.728,
          20.8,
          20.872,
          20.944,
          21.016,
          21.088,
          21.16,
          21.232,
          21.304,
          21.376,
          21.448,
          21.52,
          21.592,
          21.664,
          21.736,
          21.808,
          21.88,
          21.951999999999998,
          22.024,
          22.096,
          22.168,
          22.240000000000002,
          22.312,
          22.384,
          22.456,
          22.528,
          22.6,
          22.672,
          22.744,
          22.816,
          22.887999999999998,
          22.96,
          23.032,
          23.104,
          23.176000000000002,
          23.248,
          23.32,
          23.392,
          23.464,
          23.536,
          23.608,
          23.68,
          23.752,
          23.823999999999998,
          23.896,
          23.968,
          24.04,
          24.112000000000002,
          24.184,
          24.256,
          24.328,
          24.4,
          24.472,
          24.544,
          24.616,
          24.688,
          24.759999999999998,
          24.832,
          24.904,
          24.976,
          25.048000000000002,
          25.12,
          25.192,
          25.264,
          25.336,
          25.408,
          25.48,
          25.552,
          25.624,
          25.695999999999998,
          25.768,
          25.84,
          25.912,
          25.984,
          26.056,
          26.128,
          26.2,
          26.272,
          26.344,
          26.416,
          26.488,
          26.56,
          26.631999999999998,
          26.704,
          26.776,
          26.848,
          26.92,
          26.992,
          27.064,
          27.136,
          27.208,
          27.28,
          27.352,
          27.424,
          27.496000000000002,
          27.567999999999998,
          27.64,
          27.712,
          27.784,
          27.856,
          27.928,
          28,
          28.072,
          28.144,
          28.216,
          28.288,
          28.36,
          28.432000000000002,
          28.503999999999998,
          28.576,
          28.648,
          28.72,
          28.792,
          28.864,
          28.936,
          29.008,
          29.08,
          29.152,
          29.224,
          29.296,
          29.368000000000002,
          29.439999999999998,
          29.512,
          29.584,
          29.656,
          29.728,
          29.8,
          29.872,
          29.944000000000003,
          30.016,
          30.088,
          30.16,
          30.232,
          30.304000000000002,
          30.375999999999998,
          30.448,
          30.52,
          30.592,
          30.664,
          30.736,
          30.808,
          30.880000000000003,
          30.951999999999998,
          31.024,
          31.096,
          31.168,
          31.240000000000002,
          31.311999999999998,
          31.384,
          31.456,
          31.528,
          31.6,
          31.672,
          31.744,
          31.816000000000003,
          31.887999999999998,
          31.96,
          32.032,
          32.104,
          32.176,
          32.248,
          32.32,
          32.391999999999996,
          32.464,
          32.536,
          32.608000000000004,
          32.68,
          32.752,
          32.824,
          32.896,
          32.968,
          33.04,
          33.112,
          33.184,
          33.256,
          33.328,
          33.4,
          33.472,
          33.544,
          33.616,
          33.688,
          33.76,
          33.832,
          33.903999999999996,
          33.976,
          34.048,
          34.12,
          34.192,
          34.263999999999996,
          34.336,
          34.408,
          34.480000000000004,
          34.552,
          34.624,
          34.696,
          34.768,
          34.84,
          34.912,
          34.984,
          35.056,
          35.128,
          35.2,
          35.272,
          35.344,
          35.416,
          35.488,
          35.56,
          35.632000000000005,
          35.704,
          35.775999999999996,
          35.848,
          35.92,
          35.992000000000004,
          36.064,
          36.135999999999996,
          36.208,
          36.28,
          36.352000000000004,
          36.424,
          36.495999999999995,
          36.568,
          36.64,
          36.712,
          36.784,
          36.856,
          36.928,
          37,
          37.072,
          37.144,
          37.216,
          37.288,
          37.36,
          37.432,
          37.504000000000005,
          37.576,
          37.647999999999996,
          37.72,
          37.792,
          37.864000000000004,
          37.936,
          38.007999999999996,
          38.08,
          38.152,
          38.224000000000004,
          38.296,
          38.367999999999995,
          38.44,
          38.512,
          38.584,
          38.656,
          38.728,
          38.8,
          38.872,
          38.944,
          39.016,
          39.088,
          39.16,
          39.232,
          39.304,
          39.376000000000005,
          39.448,
          39.519999999999996,
          39.592,
          39.664,
          39.736000000000004,
          39.808,
          39.879999999999995,
          39.952,
          40.024,
          40.096000000000004,
          40.168,
          40.239999999999995,
          40.312,
          40.384,
          40.456,
          40.528,
          40.6,
          40.672,
          40.744,
          40.816,
          40.888000000000005,
          40.96,
          41.032,
          41.104,
          41.176,
          41.248000000000005,
          41.32,
          41.391999999999996,
          41.464,
          41.536,
          41.608000000000004,
          41.68,
          41.751999999999995,
          41.824,
          41.896,
          41.968,
          42.04,
          42.111999999999995,
          42.184,
          42.256,
          42.328,
          42.4,
          42.472,
          42.544,
          42.616,
          42.688,
          42.760000000000005,
          42.832,
          42.903999999999996,
          42.976,
          43.048,
          43.120000000000005,
          43.192,
          43.263999999999996,
          43.336,
          43.408,
          43.480000000000004,
          43.552,
          43.623999999999995,
          43.696,
          43.768,
          43.84,
          43.912,
          43.984,
          44.056,
          44.128,
          44.2,
          44.272,
          44.344,
          44.416,
          44.488,
          44.56,
          44.632000000000005,
          44.704,
          44.775999999999996,
          44.848,
          44.92,
          44.992000000000004,
          45.064,
          45.135999999999996,
          45.208,
          45.28,
          45.352000000000004,
          45.424,
          45.495999999999995,
          45.568,
          45.64,
          45.712,
          45.784,
          45.856,
          45.928,
          46,
          46.072,
          46.144,
          46.216,
          46.288,
          46.36,
          46.432,
          46.504000000000005,
          46.576,
          46.647999999999996,
          46.72,
          46.792,
          46.864000000000004,
          46.936,
          47.007999999999996,
          47.08,
          47.152,
          47.224000000000004,
          47.296,
          47.367999999999995,
          47.44,
          47.512,
          47.584,
          47.656,
          47.728,
          47.8,
          47.872,
          47.944,
          48.016,
          48.088,
          48.16,
          48.232,
          48.304,
          48.376000000000005,
          48.448,
          48.519999999999996,
          48.592,
          48.664,
          48.736000000000004,
          48.808,
          48.879999999999995,
          48.952,
          49.024,
          49.096000000000004,
          49.168,
          49.239999999999995,
          49.312,
          49.384,
          49.456,
          49.528,
          49.6,
          49.672,
          49.744,
          49.816,
          49.888000000000005,
          49.96,
          50.032,
          50.104,
          50.176,
          50.248000000000005,
          50.32,
          50.391999999999996,
          50.464,
          50.536,
          50.608000000000004,
          50.68,
          50.751999999999995,
          50.824,
          50.896,
          50.968,
          51.04,
          51.112,
          51.184,
          51.256,
          51.328,
          51.4,
          51.472,
          51.544,
          51.616,
          51.688,
          51.76,
          51.832,
          51.904,
          51.976,
          52.048,
          52.12,
          52.192,
          52.264,
          52.336,
          52.408,
          52.48,
          52.552,
          52.624,
          52.696,
          52.768,
          52.84,
          52.912,
          52.984,
          53.056,
          53.128,
          53.2,
          53.272,
          53.344,
          53.416,
          53.488,
          53.56,
          53.632,
          53.704,
          53.776,
          53.848,
          53.92,
          53.992,
          54.064,
          54.136,
          54.208,
          54.28,
          54.352,
          54.424,
          54.496,
          54.568,
          54.64,
          54.712,
          54.784,
          54.856,
          54.928
         ],
         "xaxis": "x",
         "y": [
          0.010900657103166664,
          0.01175556898895546,
          0.012660029168107226,
          0.013615221221973612,
          0.014622192299437555,
          0.015681837641000854,
          0.016794885527388684,
          0.01796188285095619,
          0.019183181507086977,
          0.02045892579799991,
          0.021789041032968616,
          0.023173223497079724,
          0.024610931945560056,
          0.026101380762761642,
          0.027643534904519054,
          0.029236106720322348,
          0.030877554728097056,
          0.03256608438995555,
          0.03429965091264891,
          0.036075964072178814,
          0.03789249503864996,
          0.039746485155434205,
          0.04163495660645263,
          0.043554724887202356,
          0.045502412979226074,
          0.04747446711419439,
          0.049467174002605904,
          0.05147667939323504,
          0.0534990078226738,
          0.05553008340936394,
          0.057565751543073196,
          0.05960180131847366,
          0.061633988559969564,
          0.06365805928380425,
          0.06566977344242765,
          0.06766492879485496,
          0.0696393847450256,
          0.07158908598790942,
          0.07351008580021881,
          0.07539856880915546,
          0.0772508730688174,
          0.07906351126996794,
          0.08083319090518827,
          0.08255683320841456,
          0.08423159068597469,
          0.0858548630560104,
          0.0874243114150947,
          0.08893787045543584,
          0.09039375856373702,
          0.09179048564393924,
          0.09312685852097964,
          0.0944019838015119,
          0.09561526809032944,
          0.09676641548783327,
          0.0978554223241219,
          0.09888256911870939,
          0.09984840979100655,
          0.10075375818484358,
          0.10159967200979948,
          0.10238743434199785,
          0.10311853286653884,
          0.10379463708191268,
          0.104417573722634,
          0.10498930068916223,
          0.1055118798029765,
          0.10598744872885667,
          0.10641819242522298,
          0.10680631449639112,
          0.10715400882737168,
          0.10746343188220814,
          0.10773667604068868,
          0.10797574433569634,
          0.10818252693466539,
          0.10835877968400674,
          0.10850610500531685,
          0.10862593539741641,
          0.108719519759309,
          0.10878791270682148,
          0.10883196701073601,
          0.10885232923744179,
          0.10884943862534162,
          0.10882352918224601,
          0.1087746349415281,
          0.10870259826864957,
          0.10860708106546062,
          0.10848757867807768,
          0.10834343627567379,
          0.10817386743272678,
          0.1079779746165315,
          0.10775477125551004,
          0.10750320504230675,
          0.1072221821090955,
          0.10691059170112614,
          0.10656733096840261,
          0.1061913294946224,
          0.10578157318706392,
          0.10533712716105371,
          0.10485715726775277,
          0.10434094993428569,
          0.10378793001036021,
          0.103197676345347,
          0.10256993485394,
          0.1019046288666477,
          0.10120186660303775,
          0.10046194565037189,
          0.099685354377469,
          0.09887277026267892,
          0.09802505516506622,
          0.09714324761854369,
          0.09622855227896783,
          0.095282326703301,
          0.09430606568698995,
          0.09330138342987179,
          0.09226999384132999,
          0.09121368933127137,
          0.09013431846399529,
          0.08903376287647446,
          0.08791391388031235,
          0.08677664917718732,
          0.08562381012051239,
          0.08445717995105245,
          0.08327846342125765,
          0.08208926820208198,
          0.0808910884372952,
          0.07968529077409216,
          0.07847310315571064,
          0.0772556066124302,
          0.07603373023261578,
          0.07480824943628372,
          0.07357978761115663,
          0.07234882110642944,
          0.07111568751379206,
          0.06988059709990135,
          0.06864364719076488,
          0.06740483924773508,
          0.06616409831821929,
          0.06492129449303688,
          0.06367626595769194,
          0.062428843187669524,
          0.061178873809083587,
          0.059926247626286386,
          0.05867092130792855,
          0.05741294222276631,
          0.056152470926384965,
          0.054889801819854624,
          0.053625381530894065,
          0.052359824606875154,
          0.051093926156276,
          0.04982867113008501,
          0.048565239996136426,
          0.04730501062618324,
          0.04604955628637176,
          0.044800639695221835,
          0.0435602031877359,
          0.042330355098323835,
          0.0411133525472963,
          0.03991158088424008,
          0.03872753010523894,
          0.037563768618298556,
          0.036422914781308754,
          0.03530760667843083,
          0.03422047063308749,
          0.033164088978195776,
          0.03214096761650718,
          0.031153503905789942,
          0.030203955395195638,
          0.029294409920815133,
          0.02842675754070381,
          0.02760266475329337,
          0.026823551399013282,
          0.026090570594227033,
          0.02540459199041553,
          0.024766188591213958,
          0.024175627296764264,
          0.023632863280224906,
          0.023137538236533993,
          0.02268898247993256,
          0.02228622080552522,
          0.02192798197240379,
          0.021612711612553327,
          0.021338588321743703,
          0.021103542646568014,
          0.02090527864623677,
          0.020741297679045728,
          0.02060892404178915,
          0.020505332075843513,
          0.02042757434609586,
          0.020372610498094103,
          0.020337336404412095,
          0.02031861322279358,
          0.020313296005624766,
          0.02031826152209418,
          0.02033043498036911,
          0.020346815366577627,
          0.020364499149631423,
          0.020380702135263832,
          0.02039277928840119,
          0.020398242379474338,
          0.020394775346880327,
          0.02038024730393544,
          0.020352723153778052,
          0.02031047180929482,
          0.02025197204682434,
          0.020175916051759436,
          0.02008121074091132,
          0.019966976970352966,
          0.01983254675822764,
          0.019677458669557175,
          0.019501451524315035,
          0.01930445660093537,
          0.019086588515009467,
          0.01884813495727484,
          0.018589545476240067,
          0.018311419489082527,
          0.018014493700023705,
          0.01769962909847096,
          0.017367797700105006,
          0.017020069183098764,
          0.0166575975591154,
          0.01628160800499938,
          0.015893383966517877,
          0.015494254630484776,
          0.015085582846482454,
          0.01466875356452465,
          0.014245162840713761,
          0.013816207449533853,
          0.013383275129149594,
          0.012947735475173524,
          0.0125109314889873,
          0.01207417177897258,
          0.0116387234069889,
          0.011205805368117931,
          0.01077658268903291,
          0.010352161129216919,
          0.009933582469492618,
          0.009521820373714511,
          0.009117776811768181,
          0.008722279034939788,
          0.008336077097960476,
          0.007959841925298798,
          0.007594163922265747,
          0.007239552133933685,
          0.0068964339565054005,
          0.006565155406384911,
          0.006245981951645203,
          0.005939099908747239,
          0.005644618404199852,
          0.005362571896382608,
          0.005092923247063621,
          0.004835567325383242,
          0.004590335119438216,
          0.004356998322345824,
          0.004135274351075629,
          0.003924831747730782,
          0.0037252959046658483,
          0.0035362550471776813,
          0.0033572664008194057,
          0.003187862464954365,
          0.0030275573102460642,
          0.002875852815572813,
          0.002732244759515022,
          0.0025962286831699814,
          0.00246730544462268,
          0.00234498639089098,
          0.002228798080448102,
          0.002118286498328479,
          0.00201302071610418,
          0.0019125959603982833,
          0.0018166360657587816,
          0.0017247953003084434,
          0.0016367595652595876,
          0.0015522469817838053,
          0.0014710078905178882,
          0.0013928242998547512,
          0.0013175088288358548,
          0.0012449031986971704,
          0.0011748763337436896,
          0.0011073221371140421,
          0.00104215701008013,
          0.0009793171848001686,
          0.0009187559399548487,
          0.0008604407665462986,
          0.0008043505474752161,
          0.0007504728095170688,
          0.0006988011002108778,
          0.0006493325351895545,
          0.0006020655538696021,
          0.0005569979134316124,
          0.00051412494290882,
          0.00047343807119228705,
          0.0004349236350705463,
          0.0003985619662367844,
          0.0003643267496739889,
          0.00033218464009262974,
          0.0003020951182357357,
          0.0002740105649379854,
          0.0002478765278507542,
          0.0002236321537147909,
          0.00020121075793981335,
          0.00018054050297493346,
          0.00016154515744528196,
          0.0001441449091932006,
          0.00012825720709135744,
          0.0001137976086791004,
          0.00010068061319917017,
          0.00008882046236980062,
          0.00007813189411223457,
          0.0000685308373701561,
          0.00005993503901984157,
          0.00005226461660494312,
          0.0000454425331774723,
          0.00003939499283996491,
          0.0000340517576293539,
          0.000029346388139620186,
          0.000025216411738334495,
          0.00002160342339245966,
          0.000018453124990857878,
          0.000015715309651737954,
          0.000013343797855345897,
          0.000011296332372294489,
          0.000009534438895427989,
          0.000008023259058705774,
          0.000006731362171114349,
          0.000005630541537001238,
          0.000004695600704674047,
          0.000003904134408531238,
          0.0000032363083694203054,
          0.0000026746415133886144,
          0.0000022037935772730757,
          0.0000018103605042694847,
          0.0000014826795042234045,
          0.0000012106451695219774,
          9.855376031142955e-7,
          7.998631330359132e-7,
          6.472078585436378e-7,
          5.221039956235032e-7,
          4.199087619529024e-7,
          3.3669536010307644e-7,
          2.6915547889036463e-7,
          2.1451263189631623e-7,
          1.7044558462806714e-7,
          1.350210828959039e-7,
          1.0663508017015619e-7,
          8.396166660731867e-8,
          6.59089230847864e-8,
          5.1580956312647375e-8,
          4.024541266901192e-8,
          3.130581602453073e-8,
          2.4278126095857645e-8,
          1.8770966812880525e-8,
          1.4469027193894776e-8,
          1.1119189032989173e-8,
          8.518985357818818e-9,
          6.50704042359476e-9,
          4.955185509094691e-9,
          3.761984701725807e-9,
          2.8474410855263388e-9,
          2.148686286054909e-9,
          1.6164852813442797e-9,
          1.2124139300101227e-9,
          9.065890157804794e-10,
          6.758500120856469e-10,
          5.02308496723973e-10,
          3.721954651602885e-10,
          2.749489674962299e-10,
          2.0249478342579051e-10,
          1.4868149097608082e-10,
          1.0883849960902287e-10,
          7.9431607451908e-11,
          5.779558665734474e-11,
          4.1927360494009864e-11,
          3.0326651569972775e-11,
          2.1873675113953554e-11,
          1.5735630147804784e-11,
          1.129549506028137e-11,
          8.098039281570035e-12,
          5.80908418451867e-12,
          4.184938268061867e-12,
          3.0496393872884053e-12,
          2.2781979286983348e-12,
          1.7844806467293002e-12,
          1.512731375754402e-12,
          1.4320137639873986e-12,
          1.5331009714943209e-12,
          1.8275438750100767e-12,
          2.348836950161659e-12,
          3.155782882380495e-12,
          4.338346011899677e-12,
          6.026494245169931e-12,
          8.402773437442083e-12,
          1.1719653640233698e-11,
          1.6323051757600824e-11,
          2.2683892228084143e-11,
          3.1440142850990465e-11,
          4.3452488683468855e-11,
          5.987772143272023e-11,
          8.226507109724944e-11,
          1.1268214603744672e-10,
          1.5387894303830116e-10,
          2.0950061827683996e-10,
          2.843624651968251e-10,
          3.8480393327177554e-10,
          5.191426665723835e-10,
          6.982545853265568e-10,
          9.363121390595482e-10,
          1.2517202083154136e-9,
          1.6682979254292266e-9,
          2.2167651447569985e-9,
          2.936604658130668e-9,
          3.878385775295342e-9,
          5.106651834275578e-9,
          6.7034938378892395e-9,
          8.772954987790719e-9,
          1.1446436645008683e-8,
          1.488930538981731e-8,
          1.9308933534368687e-8,
          2.4964441733306468e-8,
          3.2178452212655904e-8,
          4.135120443526088e-8,
          5.297743141496302e-8,
          6.766644385105209e-8,
          8.616592000535545e-8,
          1.0938995072815543e-7,
          1.3845193987112875e-7,
          1.7470300875548264e-7,
          2.197765972389195e-7,
          2.7563999066304814e-7,
          3.4465352852995007e-7,
          4.2963826366107774e-7,
          5.339528358980703e-7,
          6.615802977600197e-7,
          8.17225576165418e-7,
          0.000001006424169377125,
          0.0000012356625565952863,
          0.000001512510633968332,
          0.0000018457662802623812,
          0.000002245611893488872,
          0.0000027237824225867567,
          0.000003293744042908161,
          0.000003970882189200637,
          0.000004772697165091565,
          0.000005719004995853567,
          0.000006832140585918881,
          0.000008137159591367694,
          0.000009662034730575378,
          0.000011437841546756294,
          0.000013498927921030097,
          0.000015883060934073946,
          0.000018631544011993156,
          0.00002178929669440925,
          0.00002540488885948736,
          0.000029530520863308824,
          0.00003422194083276811,
          0.00003953829032573413,
          0.00004554186977239218,
          0.000052297815568750735,
          0.00005987368143482927,
          0.00006833891769892653,
          0.0000777642435421354,
          0.00008822090894203848,
          0.00009977984509034976,
          0.00011251070441406692,
          0.00012648079397919863,
          0.00014175390896384486,
          0.00015838907600282352,
          0.00017643921946587356,
          0.00019594976705994047,
          0.00021695721445479438,
          0.00023948767182341646,
          0.0002635554181582182,
          0.00028916149186124733,
          0.00031629234829958386,
          0.0003449186166561193,
          0.0003749939893876485,
          0.0004064542778344029,
          0.0004392166669285927,
          0.0004731792004664589,
          0.0005082205260011352,
          0.0005441999250721265,
          0.0005809576502300681,
          0.0006183155851894282,
          0.0006560782385279853,
          0.0006940340747585775,
          0.0007319571794651965,
          0.000769609247687357,
          0.0008067418770403824,
          0.0008430991393796869,
          0.0008784203973708607,
          0.0009124433253331723,
          0.0009449070874015957,
          0.000975555620607428,
          0.0010041409661002215,
          0.0010304265885889168,
          0.0010541906222997538,
          0.0010752289814291711,
          0.0010933582742649285,
          0.0011084184628668728,
          0.0011202752144031363,
          0.0011288218958436702,
          0.0011339811705929504
         ],
         "yaxis": "y"
        },
        {
         "legendgroup": "Male",
         "marker": {
          "color": "#0460C9"
         },
         "mode": "lines",
         "name": "Male",
         "showlegend": false,
         "type": "scatter",
         "x": [
          18,
          18.048,
          18.096,
          18.144,
          18.192,
          18.24,
          18.288,
          18.336,
          18.384,
          18.432,
          18.48,
          18.528,
          18.576,
          18.624,
          18.672,
          18.72,
          18.768,
          18.816,
          18.864,
          18.912,
          18.96,
          19.008,
          19.056,
          19.104,
          19.152,
          19.2,
          19.248,
          19.296,
          19.344,
          19.392,
          19.44,
          19.488,
          19.536,
          19.584,
          19.632,
          19.68,
          19.728,
          19.776,
          19.824,
          19.872,
          19.92,
          19.968,
          20.016,
          20.064,
          20.112000000000002,
          20.16,
          20.208,
          20.256,
          20.304,
          20.352,
          20.4,
          20.448,
          20.496,
          20.544,
          20.592,
          20.64,
          20.688,
          20.736,
          20.784,
          20.832,
          20.88,
          20.928,
          20.976,
          21.024,
          21.072,
          21.12,
          21.168,
          21.216,
          21.264,
          21.312,
          21.36,
          21.408,
          21.456,
          21.504,
          21.552,
          21.6,
          21.648,
          21.696,
          21.744,
          21.792,
          21.84,
          21.887999999999998,
          21.936,
          21.984,
          22.032,
          22.08,
          22.128,
          22.176000000000002,
          22.224,
          22.272,
          22.32,
          22.368000000000002,
          22.416,
          22.464,
          22.512,
          22.56,
          22.608,
          22.656,
          22.704,
          22.752,
          22.8,
          22.848,
          22.896,
          22.944,
          22.992,
          23.04,
          23.088,
          23.136,
          23.184,
          23.232,
          23.28,
          23.328,
          23.376,
          23.424,
          23.472,
          23.52,
          23.567999999999998,
          23.616,
          23.664,
          23.712,
          23.759999999999998,
          23.808,
          23.856,
          23.904,
          23.951999999999998,
          24,
          24.048000000000002,
          24.096,
          24.144,
          24.192,
          24.240000000000002,
          24.288,
          24.336,
          24.384,
          24.432000000000002,
          24.48,
          24.528,
          24.576,
          24.624,
          24.672,
          24.72,
          24.768,
          24.816,
          24.864,
          24.912,
          24.96,
          25.008,
          25.056,
          25.104,
          25.152,
          25.2,
          25.248,
          25.296,
          25.344,
          25.392,
          25.44,
          25.488,
          25.536,
          25.584,
          25.631999999999998,
          25.68,
          25.728,
          25.776,
          25.823999999999998,
          25.872,
          25.92,
          25.968,
          26.016,
          26.064,
          26.112000000000002,
          26.16,
          26.208,
          26.256,
          26.304000000000002,
          26.352,
          26.4,
          26.448,
          26.496000000000002,
          26.544,
          26.592,
          26.64,
          26.688000000000002,
          26.736,
          26.784,
          26.832,
          26.880000000000003,
          26.928,
          26.976,
          27.024,
          27.072,
          27.119999999999997,
          27.168,
          27.216,
          27.264,
          27.311999999999998,
          27.36,
          27.408,
          27.456,
          27.503999999999998,
          27.552,
          27.6,
          27.648,
          27.695999999999998,
          27.744,
          27.792,
          27.84,
          27.887999999999998,
          27.936,
          27.984,
          28.032,
          28.08,
          28.128,
          28.176000000000002,
          28.224,
          28.272,
          28.32,
          28.368000000000002,
          28.416,
          28.464,
          28.512,
          28.560000000000002,
          28.608,
          28.656,
          28.704,
          28.752000000000002,
          28.8,
          28.848,
          28.896,
          28.944000000000003,
          28.992,
          29.04,
          29.088,
          29.136,
          29.183999999999997,
          29.232,
          29.28,
          29.328,
          29.375999999999998,
          29.424,
          29.472,
          29.52,
          29.567999999999998,
          29.616,
          29.664,
          29.712,
          29.759999999999998,
          29.808,
          29.856,
          29.904,
          29.951999999999998,
          30,
          30.048000000000002,
          30.096,
          30.144,
          30.192,
          30.240000000000002,
          30.288,
          30.336,
          30.384,
          30.432000000000002,
          30.48,
          30.528,
          30.576,
          30.624000000000002,
          30.672,
          30.72,
          30.768,
          30.816000000000003,
          30.864,
          30.912,
          30.96,
          31.008,
          31.055999999999997,
          31.104,
          31.152,
          31.2,
          31.247999999999998,
          31.296,
          31.344,
          31.392,
          31.439999999999998,
          31.488,
          31.536,
          31.584,
          31.631999999999998,
          31.68,
          31.728,
          31.776,
          31.823999999999998,
          31.872,
          31.92,
          31.968,
          32.016,
          32.064,
          32.112,
          32.16,
          32.208,
          32.256,
          32.304,
          32.352000000000004,
          32.4,
          32.448,
          32.496,
          32.544,
          32.592,
          32.64,
          32.688,
          32.736000000000004,
          32.784,
          32.832,
          32.88,
          32.928,
          32.976,
          33.024,
          33.072,
          33.12,
          33.168,
          33.216,
          33.263999999999996,
          33.312,
          33.36,
          33.408,
          33.456,
          33.504,
          33.552,
          33.6,
          33.647999999999996,
          33.696,
          33.744,
          33.792,
          33.84,
          33.888,
          33.936,
          33.984,
          34.032,
          34.08,
          34.128,
          34.176,
          34.224000000000004,
          34.272,
          34.32,
          34.367999999999995,
          34.416,
          34.464,
          34.512,
          34.56,
          34.608000000000004,
          34.656,
          34.704,
          34.751999999999995,
          34.8,
          34.848,
          34.896,
          34.944,
          34.992000000000004,
          35.04,
          35.088,
          35.135999999999996,
          35.184,
          35.232,
          35.28,
          35.328,
          35.376000000000005,
          35.424,
          35.472,
          35.519999999999996,
          35.568,
          35.616,
          35.664,
          35.712,
          35.760000000000005,
          35.808,
          35.856,
          35.903999999999996,
          35.952,
          36,
          36.048,
          36.096000000000004,
          36.144,
          36.192,
          36.239999999999995,
          36.288,
          36.336,
          36.384,
          36.432,
          36.480000000000004,
          36.528,
          36.576,
          36.623999999999995,
          36.672,
          36.72,
          36.768,
          36.816,
          36.864000000000004,
          36.912,
          36.96,
          37.007999999999996,
          37.056,
          37.104,
          37.152,
          37.2,
          37.248000000000005,
          37.296,
          37.344,
          37.391999999999996,
          37.44,
          37.488,
          37.536,
          37.584,
          37.632000000000005,
          37.68,
          37.728,
          37.775999999999996,
          37.824,
          37.872,
          37.92,
          37.968,
          38.016,
          38.064,
          38.111999999999995,
          38.16,
          38.208,
          38.256,
          38.304,
          38.352000000000004,
          38.4,
          38.448,
          38.495999999999995,
          38.544,
          38.592,
          38.64,
          38.688,
          38.736000000000004,
          38.784,
          38.832,
          38.879999999999995,
          38.928,
          38.976,
          39.024,
          39.072,
          39.120000000000005,
          39.168,
          39.216,
          39.263999999999996,
          39.312,
          39.36,
          39.408,
          39.456,
          39.504000000000005,
          39.552,
          39.6,
          39.647999999999996,
          39.696,
          39.744,
          39.792,
          39.84,
          39.888000000000005,
          39.936,
          39.984,
          40.032,
          40.08,
          40.128,
          40.176,
          40.224000000000004,
          40.272,
          40.32,
          40.367999999999995,
          40.416,
          40.464,
          40.512,
          40.56,
          40.608000000000004,
          40.656,
          40.704,
          40.751999999999995,
          40.8,
          40.848,
          40.896,
          40.944,
          40.992000000000004,
          41.04,
          41.088,
          41.135999999999996,
          41.184,
          41.232,
          41.28,
          41.328,
          41.376000000000005,
          41.424,
          41.472,
          41.519999999999996,
          41.568,
          41.616,
          41.664,
          41.712,
          41.760000000000005,
          41.808,
          41.856,
          41.903999999999996,
          41.952
         ],
         "xaxis": "x",
         "y": [
          0.0030805945657501736,
          0.0031997482777239928,
          0.003323161055837752,
          0.003451139304255237,
          0.003584013960189683,
          0.00372214079298625,
          0.003865900568390347,
          0.004015699071413081,
          0.004171966981881171,
          0.004335159597461098,
          0.00450575639967776,
          0.004684260459196984,
          0.0048711976774076585,
          0.0050671158621218544,
          0.005272583636004702,
          0.0054881891771510925,
          0.005714538792042903,
          0.005952255321944875,
          0.00620197638463658,
          0.006464352454222599,
          0.0067400447826272605,
          0.007029723167250999,
          0.007334063570156754,
          0.007653745595057541,
          0.007989449829299122,
          0.008341855058967361,
          0.008711635366207228,
          0.00909945711880695,
          0.009505975863086416,
          0.009931833132121296,
          0.010377653182334039,
          0.010844039672482996,
          0.011331572300076772,
          0.01184080341121703,
          0.012372254600833627,
          0.012926413321192988,
          0.013503729517436537,
          0.014104612309718854,
          0.014729426742251122,
          0.015378490620200639,
          0.016052071455939038,
          0.016750383546535783,
          0.01747358520467179,
          0.01822177616524928,
          0.01899499518991099,
          0.019793217891417587,
          0.02061635479936152,
          0.021464249688002826,
          0.022336678186087523,
          0.023233346687338615,
          0.02415389157889281,
          0.025097878803287916,
          0.026064803767686967,
          0.027054091611860807,
          0.028065097844050837,
          0.029097109351214994,
          0.030149345787328172,
          0.03122096134041417,
          0.032311046875815826,
          0.03341863244994245,
          0.034542690185368354,
          0.03568213749474884,
          0.036835840637616885,
          0.0380026185907628,
          0.03918124720962981,
          0.04037046365503687,
          0.041568971056602386,
          0.04277544338155307,
          0.043988530475192564,
          0.045206863237231804,
          0.04642905889647678,
          0.04765372634508265,
          0.048879471492716306,
          0.05010490260059157,
          0.05132863555542502,
          0.0525492990439482,
          0.05376553958968994,
          0.05497602641531447,
          0.056179456095844876,
          0.05737455697059997,
          0.05856009328459702,
          0.05973486903347665,
          0.06089773148966311,
          0.06204757439139499,
          0.06318334078045434,
          0.06430402547873199,
          0.06540867719824374,
          0.06649640028366952,
          0.0675663560909554,
          0.0686177640098649,
          0.0696499021425545,
          0.0706621076542047,
          0.07165377681539814,
          0.07262436475924774,
          0.0735733849792044,
          0.07450040859592018,
          0.07540506342355752,
          0.07628703286739033,
          0.07714605468550056,
          0.07798191964777235,
          0.07879447012523308,
          0.07958359864209838,
          0.08034924642165739,
          0.08109140195538758,
          0.08181009962246887,
          0.08250541838419416,
          0.08317748057468996,
          0.0838264508059138,
          0.08445253500114033,
          0.0850559795671322,
          0.08563707071098212,
          0.08619613390325893,
          0.08673353348466921,
          0.08724967240900207,
          0.08774499211074499,
          0.08821997248147238,
          0.08867513193501726,
          0.08911102753756325,
          0.08952825517522153,
          0.08992744972841912,
          0.09030928521960026,
          0.0906744748983473,
          0.0910237712261279,
          0.09135796572150151,
          0.09167788862581902,
          0.09198440834922365,
          0.09227843065717209,
          0.0925608975587422,
          0.09283278585968162,
          0.09309510534551346,
          0.09334889656301794,
          0.09359522817208918,
          0.09383519384425056,
          0.09406990868903746,
          0.0943005051949479,
          0.09452812867769805,
          0.09475393223505188,
          0.09497907121444578,
          0.09520469720696126,
          0.09543195158880266,
          0.09566195863924289,
          0.09589581827191415,
          0.09613459842422141,
          0.0963793271574658,
          0.09663098452781876,
          0.09689049429551008,
          0.09715871554634509,
          0.09743643430578978,
          0.09772435523129187,
          0.09802309347306613,
          0.0983331667971764,
          0.09865498806726841,
          0.09898885818265891,
          0.09933495957058475,
          0.09969335032915952,
          0.10006395911496832,
          0.10044658086517025,
          0.10084087343850347,
          0.10124635525266126,
          0.10166240398722132,
          0.10208825641166276,
          0.10252300938712326,
          0.102965622078525,
          0.1034149194006622,
          0.10386959670795645,
          0.10432822572301614,
          0.10478926168411383,
          0.10525105167635042,
          0.10571184409594371,
          0.10616979918189165,
          0.10662300053450768,
          0.10706946752624874,
          0.10750716849704356,
          0.10793403461427199,
          0.10834797426678172,
          0.10874688785313526,
          0.10912868281673933,
          0.10949128877487233,
          0.1098326725849078,
          0.11015085318941994,
          0.11044391608234025,
          0.11071002724096818,
          0.11094744637340694,
          0.11115453933783241,
          0.11132978959886791,
          0.11147180859705128,
          0.11157934491986271,
          0.11165129217681828,
          0.1116866954965018,
          0.1116847565799719,
          0.11164483726237387,
          0.11156646155266811,
          0.11144931613982871,
          0.11129324937241164,
          0.11109826873680088,
          0.11086453687742205,
          0.11059236621951649,
          0.11028221227150298,
          0.10993466569921707,
          0.10955044327829853,
          0.10913037784346143,
          0.10867540736419536,
          0.10818656328550624,
          0.1076649582794853,
          0.10711177355876776,
          0.10652824590623441,
          0.10591565457664098,
          0.10527530822524724,
          0.10460853201598906,
          0.10391665505736801,
          0.10320099830814801,
          0.10246286308718651,
          0.10170352031248535,
          0.10092420058393958,
          0.10012608521239698,
          0.09931029828479648,
          0.09847789984133579,
          0.09762988022616181,
          0.09676715565803748,
          0.09589056505205701,
          0.09500086810790442,
          0.09409874466456909,
          0.09318479530598858,
          0.09225954318698273,
          0.09132343703419592,
          0.09037685526275595,
          0.0894201111361165,
          0.08845345888421689,
          0.0874771006837941,
          0.08649119439454495,
          0.08549586193594563,
          0.08449119818202966,
          0.08347728024534104,
          0.08245417701673952,
          0.08142195882475363,
          0.08038070707685975,
          0.07933052374536091,
          0.07827154056255499,
          0.07720392779354607,
          0.07612790246036556,
          0.07504373589801032,
          0.0739517605314753,
          0.07285237577281793,
          0.07174605294859789,
          0.07063333918060612,
          0.0695148601564567,
          0.06839132174123123,
          0.06726351039672925,
          0.0661322923908294,
          0.06499861179576394,
          0.06386348729056143,
          0.06272800779926903,
          0.0615933270126127,
          0.060460656856249406,
          0.05933125998347231,
          0.05820644138394299,
          0.057087539212511015,
          0.055975914953250556,
          0.054872943043327745,
          0.0537800000890249,
          0.05269845381209189,
          0.05162965186844474,
          0.05057491068302197,
          0.049535504444306065,
          0.04851265439961817,
          0.047507518587818445,
          0.04652118213958384,
          0.045554648267060315,
          0.04460883005456518,
          0.043684543150279996,
          0.042782499445755795,
          0.041903301815722244,
          0.04104743997544132,
          0.040215287496878284,
          0.039407100008585695,
          0.03862301458764774,
          0.037863050335608855,
          0.037127110114269626,
          0.03641498340182976,
          0.03572635021534793,
          0.035060786032084436,
          0.034417767630208075,
          0.03379667975874761,
          0.03319682253770615,
          0.032617419482040305,
          0.032057626037816825,
          0.031516538515338796,
          0.03099320330239693,
          0.030486626241011734,
          0.029995782053045334,
          0.029519623703769895,
          0.02905709159777627,
          0.02860712250834083,
          0.028168658149368513,
          0.027740653308119218,
          0.02732208346688998,
          0.02691195185246556,
          0.02650929586324976,
          0.02611319283532163,
          0.02572276512002725,
          0.025337184456905845,
          0.02495567563656082,
          0.024577519458362496,
          0.02420205499742385,
          0.023828681204010937,
          0.023456857866307218,
          0.02308610597414769,
          0.02271600752693236,
          0.02234620483335185,
          0.021976399353816022,
          0.021606350138570065,
          0.021235871915446694,
          0.02086483288109593,
          0.02049315224842398,
          0.020120797600958275,
          0.019747782102038668,
          0.019374161603231497,
          0.019000031692304582,
          0.018625524716612368,
          0.01825080681295439,
          0.017876074970029344,
          0.017501554144618927,
          0.0171274944477461,
          0.01675416841235568,
          0.016381868349670318,
          0.016010903797375357,
          0.015641599059243255,
          0.015274290832799426,
          0.014909325919182698,
          0.014547059007504562,
          0.014187850524766506,
          0.01383206454175305,
          0.01348006672525475,
          0.013132222327464273,
          0.012788894204375744,
          0.012450440856450678,
          0.012117214486627984,
          0.01178955907286837,
          0.011467808454770906,
          0.011152284436283869,
          0.010843294909083038,
          0.010541132003718836,
          0.010246070278061722,
          0.009958364954830441,
          0.009678250221999172,
          0.00940593761158683,
          0.009141614473686013,
          0.008885442563544017,
          0.008637556760034922,
          0.008398063933943028,
          0.008167041984094946,
          0.007944539058547409,
          0.007730572976756212,
          0.0075251308669584864,
          0.007328169030914414,
          0.007139613045726751,
          0.006959358109729514,
          0.006787269636468996,
          0.006623184097648832,
          0.006466910112639268,
          0.006318229778823851,
          0.006176900233739621,
          0.006042655436723226,
          0.005915208154667294,
          0.00579425213357661,
          0.0056794644349469035,
          0.005570507913614719,
          0.005467033811691255,
          0.005368684441524903,
          0.005275095929365973,
          0.005185900990550808,
          0.0051007317065901265,
          0.0050192222745407975,
          0.004941011699458095,
          0.004865746401548748,
          0.004793082710861085,
          0.004722689223924671,
          0.004654248998662069,
          0.004587461566100307,
          0.004522044739871585,
          0.0044577362071687955,
          0.0043942948876659355,
          0.0043315020498838055,
          0.004269162177527837,
          0.004207103581406762,
          0.0041451787556107235,
          0.004083264479646301,
          0.004021261671153128,
          0.003959094996627428,
          0.0038967122502180673,
          0.0038340835131140975,
          0.0037712001082811416,
          0.003708073367310438,
          0.0036447332278987214,
          0.0035812266819695037,
          0.0035176160956654754,
          0.0034539774233858264,
          0.0033903983387052468,
          0.0033269763054006416,
          0.003263816611925834,
          0.0032010303925266623,
          0.0031387326577850196,
          0.003077040356733714,
          0.0030160704918098915,
          0.0029559383068258017,
          0.00289675556685184,
          0.0028386289474441515,
          0.002781658549027638,
          0.0027259365504850577,
          0.0026715460141244316,
          0.0026185598522214045,
          0.0025670399632824557,
          0.002517036544070992,
          0.0024685875813026214,
          0.0024217185247721314,
          0.002376442141543198,
          0.00233275854873597,
          0.0022906554204082732,
          0.002250108362064221,
          0.0022110814444605913,
          0.0021735278866343863,
          0.0021373908764646425,
          0.002102604515623483,
          0.002069094874481222,
          0.002036781141422709,
          0.0020055768501173687,
          0.001975391167574544,
          0.0019461302253152848,
          0.0019176984757065117,
          0.0018900000554365655,
          0.0018629401382609279,
          0.0018364262595113529,
          0.001810369595434439,
          0.0017846861811981357,
          0.0017592980523660417,
          0.001734134295776502,
          0.0017091319970591972,
          0.0016842370734603857,
          0.0016594049822077795,
          0.0016346012963074246,
          0.0016098021414049442,
          0.001584994489139425,
          0.001560176304246776,
          0.001535356544506349,
          0.0015105550144477457,
          0.0014858020755201793,
          0.0014611382171539117,
          0.0014366134947908342,
          0.001412286842510812,
          0.001388225269314398,
          0.0013645029494259281,
          0.001341200218140842,
          0.001318402485745752,
          0.0012961990828819277,
          0.0012746820513947546,
          0.0012539448952104506,
          0.0012340813061046331,
          0.0012151838793757524,
          0.001197342834412025,
          0.0011806447549484766,
          0.0011651713634557596,
          0.0011509983435936265,
          0.0011381942240068963,
          0.001126819335951673,
          0.001116924856324933,
          0.0011085519466437664,
          0.0011017309973940519,
          0.0010964809859554201,
          0.001092808955023578,
          0.0010907096171063075,
          0.0010901650892797977,
          0.0010911447609712594,
          0.0010936052960964758,
          0.0010974907694406885,
          0.001102732935742059,
          0.0011092516285324523,
          0.0011169552844239093,
          0.0011257415872138795,
          0.0011354982249308014,
          0.0011461037517661791,
          0.0011574285457515473,
          0.0011693358520497253,
          0.0011816829008498243,
          0.0011943220880940974,
          0.0012071022066304268,
          0.0012198697148844359,
          0.0012324700297862057,
          0.0012447488304730646,
          0.0012565533592255465,
          0.0012677337061800637,
          0.001278144064599177,
          0.0012876439438672294,
          0.0012960993279115323,
          0.0013033837674225532,
          0.001309379395052725,
          0.0013139778537040068,
          0.001317081129057849,
          0.0013186022786454592,
          0.0013184660509867622,
          0.0013166093896277656
         ],
         "yaxis": "y"
        }
       ],
       "layout": {
        "barmode": "overlay",
        "hovermode": "closest",
        "legend": {
         "traceorder": "reversed"
        },
        "template": {
         "data": {
          "bar": [
           {
            "error_x": {
             "color": "#2a3f5f"
            },
            "error_y": {
             "color": "#2a3f5f"
            },
            "marker": {
             "line": {
              "color": "#E5ECF6",
              "width": 0.5
             },
             "pattern": {
              "fillmode": "overlay",
              "size": 10,
              "solidity": 0.2
             }
            },
            "type": "bar"
           }
          ],
          "barpolar": [
           {
            "marker": {
             "line": {
              "color": "#E5ECF6",
              "width": 0.5
             },
             "pattern": {
              "fillmode": "overlay",
              "size": 10,
              "solidity": 0.2
             }
            },
            "type": "barpolar"
           }
          ],
          "carpet": [
           {
            "aaxis": {
             "endlinecolor": "#2a3f5f",
             "gridcolor": "white",
             "linecolor": "white",
             "minorgridcolor": "white",
             "startlinecolor": "#2a3f5f"
            },
            "baxis": {
             "endlinecolor": "#2a3f5f",
             "gridcolor": "white",
             "linecolor": "white",
             "minorgridcolor": "white",
             "startlinecolor": "#2a3f5f"
            },
            "type": "carpet"
           }
          ],
          "choropleth": [
           {
            "colorbar": {
             "outlinewidth": 0,
             "ticks": ""
            },
            "type": "choropleth"
           }
          ],
          "contour": [
           {
            "colorbar": {
             "outlinewidth": 0,
             "ticks": ""
            },
            "colorscale": [
             [
              0,
              "#0d0887"
             ],
             [
              0.1111111111111111,
              "#46039f"
             ],
             [
              0.2222222222222222,
              "#7201a8"
             ],
             [
              0.3333333333333333,
              "#9c179e"
             ],
             [
              0.4444444444444444,
              "#bd3786"
             ],
             [
              0.5555555555555556,
              "#d8576b"
             ],
             [
              0.6666666666666666,
              "#ed7953"
             ],
             [
              0.7777777777777778,
              "#fb9f3a"
             ],
             [
              0.8888888888888888,
              "#fdca26"
             ],
             [
              1,
              "#f0f921"
             ]
            ],
            "type": "contour"
           }
          ],
          "contourcarpet": [
           {
            "colorbar": {
             "outlinewidth": 0,
             "ticks": ""
            },
            "type": "contourcarpet"
           }
          ],
          "heatmap": [
           {
            "colorbar": {
             "outlinewidth": 0,
             "ticks": ""
            },
            "colorscale": [
             [
              0,
              "#0d0887"
             ],
             [
              0.1111111111111111,
              "#46039f"
             ],
             [
              0.2222222222222222,
              "#7201a8"
             ],
             [
              0.3333333333333333,
              "#9c179e"
             ],
             [
              0.4444444444444444,
              "#bd3786"
             ],
             [
              0.5555555555555556,
              "#d8576b"
             ],
             [
              0.6666666666666666,
              "#ed7953"
             ],
             [
              0.7777777777777778,
              "#fb9f3a"
             ],
             [
              0.8888888888888888,
              "#fdca26"
             ],
             [
              1,
              "#f0f921"
             ]
            ],
            "type": "heatmap"
           }
          ],
          "heatmapgl": [
           {
            "colorbar": {
             "outlinewidth": 0,
             "ticks": ""
            },
            "colorscale": [
             [
              0,
              "#0d0887"
             ],
             [
              0.1111111111111111,
              "#46039f"
             ],
             [
              0.2222222222222222,
              "#7201a8"
             ],
             [
              0.3333333333333333,
              "#9c179e"
             ],
             [
              0.4444444444444444,
              "#bd3786"
             ],
             [
              0.5555555555555556,
              "#d8576b"
             ],
             [
              0.6666666666666666,
              "#ed7953"
             ],
             [
              0.7777777777777778,
              "#fb9f3a"
             ],
             [
              0.8888888888888888,
              "#fdca26"
             ],
             [
              1,
              "#f0f921"
             ]
            ],
            "type": "heatmapgl"
           }
          ],
          "histogram": [
           {
            "marker": {
             "pattern": {
              "fillmode": "overlay",
              "size": 10,
              "solidity": 0.2
             }
            },
            "type": "histogram"
           }
          ],
          "histogram2d": [
           {
            "colorbar": {
             "outlinewidth": 0,
             "ticks": ""
            },
            "colorscale": [
             [
              0,
              "#0d0887"
             ],
             [
              0.1111111111111111,
              "#46039f"
             ],
             [
              0.2222222222222222,
              "#7201a8"
             ],
             [
              0.3333333333333333,
              "#9c179e"
             ],
             [
              0.4444444444444444,
              "#bd3786"
             ],
             [
              0.5555555555555556,
              "#d8576b"
             ],
             [
              0.6666666666666666,
              "#ed7953"
             ],
             [
              0.7777777777777778,
              "#fb9f3a"
             ],
             [
              0.8888888888888888,
              "#fdca26"
             ],
             [
              1,
              "#f0f921"
             ]
            ],
            "type": "histogram2d"
           }
          ],
          "histogram2dcontour": [
           {
            "colorbar": {
             "outlinewidth": 0,
             "ticks": ""
            },
            "colorscale": [
             [
              0,
              "#0d0887"
             ],
             [
              0.1111111111111111,
              "#46039f"
             ],
             [
              0.2222222222222222,
              "#7201a8"
             ],
             [
              0.3333333333333333,
              "#9c179e"
             ],
             [
              0.4444444444444444,
              "#bd3786"
             ],
             [
              0.5555555555555556,
              "#d8576b"
             ],
             [
              0.6666666666666666,
              "#ed7953"
             ],
             [
              0.7777777777777778,
              "#fb9f3a"
             ],
             [
              0.8888888888888888,
              "#fdca26"
             ],
             [
              1,
              "#f0f921"
             ]
            ],
            "type": "histogram2dcontour"
           }
          ],
          "mesh3d": [
           {
            "colorbar": {
             "outlinewidth": 0,
             "ticks": ""
            },
            "type": "mesh3d"
           }
          ],
          "parcoords": [
           {
            "line": {
             "colorbar": {
              "outlinewidth": 0,
              "ticks": ""
             }
            },
            "type": "parcoords"
           }
          ],
          "pie": [
           {
            "automargin": true,
            "type": "pie"
           }
          ],
          "scatter": [
           {
            "fillpattern": {
             "fillmode": "overlay",
             "size": 10,
             "solidity": 0.2
            },
            "type": "scatter"
           }
          ],
          "scatter3d": [
           {
            "line": {
             "colorbar": {
              "outlinewidth": 0,
              "ticks": ""
             }
            },
            "marker": {
             "colorbar": {
              "outlinewidth": 0,
              "ticks": ""
             }
            },
            "type": "scatter3d"
           }
          ],
          "scattercarpet": [
           {
            "marker": {
             "colorbar": {
              "outlinewidth": 0,
              "ticks": ""
             }
            },
            "type": "scattercarpet"
           }
          ],
          "scattergeo": [
           {
            "marker": {
             "colorbar": {
              "outlinewidth": 0,
              "ticks": ""
             }
            },
            "type": "scattergeo"
           }
          ],
          "scattergl": [
           {
            "marker": {
             "colorbar": {
              "outlinewidth": 0,
              "ticks": ""
             }
            },
            "type": "scattergl"
           }
          ],
          "scattermapbox": [
           {
            "marker": {
             "colorbar": {
              "outlinewidth": 0,
              "ticks": ""
             }
            },
            "type": "scattermapbox"
           }
          ],
          "scatterpolar": [
           {
            "marker": {
             "colorbar": {
              "outlinewidth": 0,
              "ticks": ""
             }
            },
            "type": "scatterpolar"
           }
          ],
          "scatterpolargl": [
           {
            "marker": {
             "colorbar": {
              "outlinewidth": 0,
              "ticks": ""
             }
            },
            "type": "scatterpolargl"
           }
          ],
          "scatterternary": [
           {
            "marker": {
             "colorbar": {
              "outlinewidth": 0,
              "ticks": ""
             }
            },
            "type": "scatterternary"
           }
          ],
          "surface": [
           {
            "colorbar": {
             "outlinewidth": 0,
             "ticks": ""
            },
            "colorscale": [
             [
              0,
              "#0d0887"
             ],
             [
              0.1111111111111111,
              "#46039f"
             ],
             [
              0.2222222222222222,
              "#7201a8"
             ],
             [
              0.3333333333333333,
              "#9c179e"
             ],
             [
              0.4444444444444444,
              "#bd3786"
             ],
             [
              0.5555555555555556,
              "#d8576b"
             ],
             [
              0.6666666666666666,
              "#ed7953"
             ],
             [
              0.7777777777777778,
              "#fb9f3a"
             ],
             [
              0.8888888888888888,
              "#fdca26"
             ],
             [
              1,
              "#f0f921"
             ]
            ],
            "type": "surface"
           }
          ],
          "table": [
           {
            "cells": {
             "fill": {
              "color": "#EBF0F8"
             },
             "line": {
              "color": "white"
             }
            },
            "header": {
             "fill": {
              "color": "#C8D4E3"
             },
             "line": {
              "color": "white"
             }
            },
            "type": "table"
           }
          ]
         },
         "layout": {
          "annotationdefaults": {
           "arrowcolor": "#2a3f5f",
           "arrowhead": 0,
           "arrowwidth": 1
          },
          "autotypenumbers": "strict",
          "coloraxis": {
           "colorbar": {
            "outlinewidth": 0,
            "ticks": ""
           }
          },
          "colorscale": {
           "diverging": [
            [
             0,
             "#8e0152"
            ],
            [
             0.1,
             "#c51b7d"
            ],
            [
             0.2,
             "#de77ae"
            ],
            [
             0.3,
             "#f1b6da"
            ],
            [
             0.4,
             "#fde0ef"
            ],
            [
             0.5,
             "#f7f7f7"
            ],
            [
             0.6,
             "#e6f5d0"
            ],
            [
             0.7,
             "#b8e186"
            ],
            [
             0.8,
             "#7fbc41"
            ],
            [
             0.9,
             "#4d9221"
            ],
            [
             1,
             "#276419"
            ]
           ],
           "sequential": [
            [
             0,
             "#0d0887"
            ],
            [
             0.1111111111111111,
             "#46039f"
            ],
            [
             0.2222222222222222,
             "#7201a8"
            ],
            [
             0.3333333333333333,
             "#9c179e"
            ],
            [
             0.4444444444444444,
             "#bd3786"
            ],
            [
             0.5555555555555556,
             "#d8576b"
            ],
            [
             0.6666666666666666,
             "#ed7953"
            ],
            [
             0.7777777777777778,
             "#fb9f3a"
            ],
            [
             0.8888888888888888,
             "#fdca26"
            ],
            [
             1,
             "#f0f921"
            ]
           ],
           "sequentialminus": [
            [
             0,
             "#0d0887"
            ],
            [
             0.1111111111111111,
             "#46039f"
            ],
            [
             0.2222222222222222,
             "#7201a8"
            ],
            [
             0.3333333333333333,
             "#9c179e"
            ],
            [
             0.4444444444444444,
             "#bd3786"
            ],
            [
             0.5555555555555556,
             "#d8576b"
            ],
            [
             0.6666666666666666,
             "#ed7953"
            ],
            [
             0.7777777777777778,
             "#fb9f3a"
            ],
            [
             0.8888888888888888,
             "#fdca26"
            ],
            [
             1,
             "#f0f921"
            ]
           ]
          },
          "colorway": [
           "#636efa",
           "#EF553B",
           "#00cc96",
           "#ab63fa",
           "#FFA15A",
           "#19d3f3",
           "#FF6692",
           "#B6E880",
           "#FF97FF",
           "#FECB52"
          ],
          "font": {
           "color": "#2a3f5f"
          },
          "geo": {
           "bgcolor": "white",
           "lakecolor": "white",
           "landcolor": "#E5ECF6",
           "showlakes": true,
           "showland": true,
           "subunitcolor": "white"
          },
          "hoverlabel": {
           "align": "left"
          },
          "hovermode": "closest",
          "mapbox": {
           "style": "light"
          },
          "paper_bgcolor": "white",
          "plot_bgcolor": "#E5ECF6",
          "polar": {
           "angularaxis": {
            "gridcolor": "white",
            "linecolor": "white",
            "ticks": ""
           },
           "bgcolor": "#E5ECF6",
           "radialaxis": {
            "gridcolor": "white",
            "linecolor": "white",
            "ticks": ""
           }
          },
          "scene": {
           "xaxis": {
            "backgroundcolor": "#E5ECF6",
            "gridcolor": "white",
            "gridwidth": 2,
            "linecolor": "white",
            "showbackground": true,
            "ticks": "",
            "zerolinecolor": "white"
           },
           "yaxis": {
            "backgroundcolor": "#E5ECF6",
            "gridcolor": "white",
            "gridwidth": 2,
            "linecolor": "white",
            "showbackground": true,
            "ticks": "",
            "zerolinecolor": "white"
           },
           "zaxis": {
            "backgroundcolor": "#E5ECF6",
            "gridcolor": "white",
            "gridwidth": 2,
            "linecolor": "white",
            "showbackground": true,
            "ticks": "",
            "zerolinecolor": "white"
           }
          },
          "shapedefaults": {
           "line": {
            "color": "#2a3f5f"
           }
          },
          "ternary": {
           "aaxis": {
            "gridcolor": "white",
            "linecolor": "white",
            "ticks": ""
           },
           "baxis": {
            "gridcolor": "white",
            "linecolor": "white",
            "ticks": ""
           },
           "bgcolor": "#E5ECF6",
           "caxis": {
            "gridcolor": "white",
            "linecolor": "white",
            "ticks": ""
           }
          },
          "title": {
           "x": 0.05
          },
          "xaxis": {
           "automargin": true,
           "gridcolor": "white",
           "linecolor": "white",
           "ticks": "",
           "title": {
            "standoff": 15
           },
           "zerolinecolor": "white",
           "zerolinewidth": 2
          },
          "yaxis": {
           "automargin": true,
           "gridcolor": "white",
           "linecolor": "white",
           "ticks": "",
           "title": {
            "standoff": 15
           },
           "zerolinecolor": "white",
           "zerolinewidth": 2
          }
         }
        },
        "title": {
         "text": "Hist and Curve Plot"
        },
        "xaxis": {
         "anchor": "y2",
         "domain": [
          0,
          1
         ],
         "zeroline": false
        },
        "yaxis": {
         "anchor": "free",
         "domain": [
          0,
          1
         ],
         "position": 0
        }
       }
      }
     },
     "metadata": {},
     "output_type": "display_data"
    }
   ],
   "source": [
    "import plotly.figure_factory as ff\n",
    "import numpy as np\n",
    "\n",
    "x1= df_iid[df_iid[\"gender_name\"] == \"Female\"][\"age\"].dropna().copy()\n",
    "x2= df_iid[df_iid[\"gender_name\"] == \"Male\"][\"age\"].dropna().copy()\n",
    "x1 = x1.to_numpy()\n",
    "x2 = x2.to_numpy()\n",
    "\n",
    "hist_data = [x1, x2]\n",
    "\n",
    "group_labels = ['Female', 'Male']\n",
    "colors = [\"#F78FE4\", \"#0460C9\"]\n",
    "\n",
    "# Create distplot with curve_type set to 'normal'\n",
    "fig = ff.create_distplot(hist_data, group_labels, colors=colors,\n",
    "                         bin_size=1, show_rug=False)\n",
    "\n",
    "# Add title\n",
    "fig.update_layout(title_text='Hist and Curve Plot')\n",
    "fig.show()"
   ]
  },
  {
   "cell_type": "code",
   "execution_count": 13,
   "metadata": {},
   "outputs": [
    {
     "data": {
      "application/vnd.plotly.v1+json": {
       "config": {
        "plotlyServerURL": "https://plot.ly"
       },
       "data": [
        {
         "autobinx": false,
         "histnorm": "probability density",
         "legendgroup": "Group 1",
         "marker": {
          "color": "#A56CC1"
         },
         "name": "Group 1",
         "opacity": 0.7,
         "type": "histogram",
         "x": [
          -1.1557682715412083,
          -3.0396267087990942,
          -2.005385698927419,
          -3.095828081618497,
          -2.7188202893246265,
          -2.3632117327137117,
          -2.387098897431236,
          -1.514569144402494,
          -3.71615225767456,
          -1.8585963566969728,
          -1.9365631648148078,
          -3.3643060378284773,
          -2.4213480223357595,
          -3.7255492351984314,
          -2.187588970415039,
          -2.178970396588822,
          -3.0024422533650093,
          -3.0214326204126865,
          -1.0273497872068331,
          -1.472155238874122,
          -1.4068190564203913,
          -1.9549624043093676,
          -1.1372147534895545,
          -2.4857127770346295,
          -1.608333704730922,
          -2.8609307629182887,
          -1.2416119124778118,
          -1.7224781847513415,
          -1.5519629094534677,
          -1.4274892139951167,
          -3.363117638696586,
          -2.1638537028104836,
          -3.8206592654898923,
          -2.505337637063577,
          -1.4091249678361142,
          -1.039353085956144,
          -2.460591965106221,
          -2.0659573914860068,
          -0.9802162564648562,
          -2.9334179081989644,
          -1.0746207880925458,
          -0.9116249103565508,
          -2.769439524054443,
          -4.02770777618068,
          -1.7662448008775176,
          -2.572324777054451,
          -2.7994818536204096,
          -1.1981671685708006,
          -2.570427188112085,
          -2.9028918622662787,
          -2.1041377452798273,
          -0.1065035271514796,
          -2.1941947405562825,
          -0.6090452617460633,
          -1.3563210057344675,
          -2.403489557680971,
          -2.676552888227061,
          -0.9835396238308727,
          -1.127252175073299,
          -1.8404441826955935,
          0.2702595506054961,
          -2.027948274034011,
          -2.7342727050841322,
          -1.5775201306430926,
          -3.0112202943388864,
          -3.469548386025245,
          -1.803998904731113,
          -0.9662818543076366,
          -2.2408607295378413,
          -2.7794973756955295,
          -0.4435844439708787,
          -1.1289337474383294,
          -2.6255291747140603,
          -1.1071826249445722,
          -1.8577918786052579,
          -1.3596873610881732,
          -0.79384685292061,
          -2.6211530725347476,
          -1.6634518837921717,
          -2.16105521322554,
          -2.136261580918262,
          -3.1773449556951303,
          -1.3150949873083713,
          -1.2479314912145436,
          -2.7365170903074403,
          -3.6563946846438977,
          -1.7341530555904858,
          -1.599806001914745,
          -3.159935437185643,
          -1.0877892751215166,
          -2.3009170811616144,
          -0.8520726318263518,
          -0.7121828538455228,
          -2.39298394441022,
          -2.2121231313206864,
          -1.736747034496746,
          -0.11757552236253876,
          -2.8273529108344007,
          -1.8115905503816547,
          -1.6146437720584,
          -2.198116267529114,
          -1.5949407306750265,
          -1.1260722320107506,
          -2.312148291067626,
          -1.8160161507900694,
          -1.9114575858779912,
          -3.4538244515069585,
          -1.4320875802514712,
          -1.9083478906506526,
          -0.7413372159386875,
          -2.481447387453093,
          -0.8231701329863068,
          -3.840904989366291,
          -2.6032246436340793,
          -0.7374214106838681,
          -0.7752788789584628,
          -0.619078465280769,
          -2.101567793833645,
          -3.028207755367225,
          -1.7358360837325466,
          -2.662507700458705,
          -3.238069717303702,
          -1.6370919088309064,
          -1.8930044261361907,
          -1.7380215770825305,
          -2.0185201203055754,
          -1.7538410929027686,
          -2.692760040925087,
          -1.1353446587975586,
          -0.7720725592870583,
          -3.805559057194544,
          -1.2812665920471644,
          -1.3624331675797543,
          -2.050827912552396,
          -1.1451595031443769,
          -2.141711477340039,
          -3.5305071179920553,
          -2.5574988000075742,
          -1.829115989196182,
          -1.0363224800338178,
          -1.8204601449300186,
          -2.2391576376024056,
          -1.4696770172966511,
          -1.623707442019839,
          -2.614481085708837,
          -3.133699689268011,
          -1.1638899542886916,
          -0.342690959087246,
          -2.334643839364422,
          -1.8482337559862645,
          -2.4146835782278497,
          -0.7194600833070544,
          -0.21343848520066389,
          -1.9789909337665108,
          -2.500709853394467,
          -1.4124494294873027,
          -2.8377057292102608,
          -1.7282063677916728,
          -2.311178165092832,
          0.00784363863998827,
          -2.2014347750969767,
          -1.659658506016714,
          -3.744519776927325,
          -0.8143912184770079,
          -2.136623699923363,
          -2.8457579953203807,
          -3.1644387877427658,
          -3.4039795713286525,
          -1.0198893571148795,
          -0.9627053208670098,
          -1.8496506228419365,
          -2.4670763152310085,
          -3.1642623541591086,
          -1.4603327936353012,
          -3.34015377330751,
          -3.2511004926318834,
          -0.23394336587997655,
          -1.634459441773725,
          -2.5018549187492223,
          -2.8744263938716057,
          -3.415866987657834,
          -0.473566704348906,
          -3.986630044152794,
          -1.6569753539754735,
          -1.2004515330991015,
          -1.4947218963821653,
          -2.4664964541481584,
          -1.5687559787199212,
          -2.2599623879133715,
          -2.2495809537810825,
          -2.006994352952571,
          -2.009402136995636,
          -3.0164383897279894,
          -0.6405262476895202,
          -2.9967114858778072,
          -2.2184912003309134,
          -2.8069149298597784,
          -1.0330623079950236,
          -2.5164414664404977,
          -2.1041957137001943
         ],
         "xaxis": "x",
         "xbins": {
          "end": 0.2702595506054961,
          "size": 0.2,
          "start": -4.02770777618068
         },
         "yaxis": "y"
        },
        {
         "autobinx": false,
         "histnorm": "probability density",
         "legendgroup": "Group 2",
         "marker": {
          "color": "#A6ACEC"
         },
         "name": "Group 2",
         "opacity": 0.7,
         "type": "histogram",
         "x": [
          -1.9891033125827131,
          0.021138982450106668,
          -1.2521374015679005,
          -0.9071361926390947,
          0.027038645507820664,
          -0.9666565658538082,
          0.4888188057263776,
          0.7755149465751281,
          -0.5537256442564156,
          -2.531334510298644,
          -0.43165351283313896,
          1.9294673230318298,
          0.2415441460239689,
          1.248560469913262,
          -0.0023224494792630263,
          0.044582654801654596,
          -2.4200407951408613,
          0.5513611203901658,
          -2.6948207630054792,
          -1.470895627214812,
          -0.23315775106166134,
          -0.5089245089196623,
          -0.9196856929210279,
          0.5714171118072949,
          -0.935157694631118,
          0.10739525309379898,
          -0.2476948120204832,
          1.571898899989147,
          -0.5199252295234352,
          -0.17769828389386777,
          0.9014166573655142,
          -0.8725204598661767,
          0.24055328188354477,
          0.21221934414004787,
          1.2169717995419271,
          -0.011585157720283904,
          -0.173336975127855,
          -0.6742617875216476,
          -0.9029762659469461,
          0.39986983576679,
          -0.026969244292726197,
          0.7681150018669218,
          1.1286710982182786,
          -0.3919845554812491,
          0.2757600153566678,
          0.30911103806909823,
          -0.28637644725334727,
          -0.4321873794469638,
          1.310253538752078,
          0.8613447556210986,
          0.8534582387803576,
          0.8566631484392282,
          0.07157364450736092,
          -1.0779179217260206,
          0.8667683946446684,
          -0.5301974528223801,
          -1.3886660338171701,
          -1.2136730017159385,
          2.4662865305257426,
          1.056527690386,
          -0.3392616837647994,
          -0.16648848229360394,
          0.7691053054124866,
          0.9923892566366,
          2.034966723817485,
          0.3311929224005112,
          -0.515938358088946,
          0.552717491925807,
          0.5576312585370841,
          -0.8149815188725876,
          0.11510208023663225,
          0.7074696749859466,
          0.5479792282470363,
          -1.3575364539622767,
          0.9961815113392166,
          -0.2817005005781615,
          0.4195888284815558,
          1.1633437114532863,
          1.381493768888398,
          -2.6968599215864737,
          -1.234561243489617,
          -0.8436816827004415,
          0.03603351814695398,
          0.6697607571433659,
          -0.7418649903890938,
          -0.7280860777400834,
          -0.660805423163172,
          0.7937878540586513,
          -1.8718326507227103,
          0.3967653711648597,
          -0.6378877585218417,
          0.5491521058440398,
          1.3777278468710545,
          -0.43048744564010405,
          -0.5227303800077427,
          0.7925106448318157,
          -1.4055264159347016,
          0.9859913210472336,
          -0.3777263915405301,
          1.3477555468742375,
          0.172734592756839,
          -0.15259891844304263,
          1.4744412382236458,
          0.8345393996093944,
          0.22747565691217886,
          1.0440247759717343,
          0.029968391241313598,
          1.10955775509852,
          2.403743699919718,
          0.9676418577788785,
          -3.114204992938789,
          0.6610659126347365,
          0.3059013436504617,
          0.2437375513709471,
          0.0392914024319842,
          -1.1138133806434571,
          -0.2161484433591175,
          -0.7167301393820186,
          0.3359814419490731,
          -0.13704114071167636,
          -0.8530094501510843,
          -0.017238093545899433,
          0.1381303825260954,
          -0.10230609921704592,
          1.460928977824762,
          -0.19678164508573262,
          -0.2416709086875961,
          0.2379961635776932,
          0.30620319058467643,
          0.07507792276647848,
          0.2161504400686319,
          0.22099479971938163,
          1.6222024636819377,
          -0.3347063105783481,
          -1.0337807385983906,
          -1.12472537294542,
          0.07985203793185539,
          0.08963420658597894,
          -0.353771329658468,
          1.0910990372472276,
          1.7167520069887667,
          -0.48614598303960904,
          -0.1523469322325954,
          0.3619276689661023,
          -1.364529936467909,
          0.2989128800114168,
          0.15365756608043057,
          -0.2321938400140837,
          0.6196601750430549,
          0.6196170236762247,
          -0.030469169993295228,
          -1.2687736653082828,
          0.7256646604780921,
          0.41757105218203106,
          1.5828627005200595,
          -0.019542074034738503,
          -0.6443801695110052,
          -0.11392768192070207,
          -1.2148461660437397,
          -0.9283678736181077,
          1.8641552882958445,
          1.1482131074792254,
          1.2140698414453688,
          1.1605836479922174,
          1.0898426340754934,
          0.05235998763549231,
          -0.6912286934834841,
          1.082827587647938,
          -0.037905006657412386,
          -1.0023873559807013,
          -0.602064385729542,
          -2.664504704227395,
          -0.180333359606917,
          0.82602092777801,
          0.4763471838725794,
          -0.67821887731624,
          0.1912421479384733,
          -0.19807055291993966,
          -2.069135949247468,
          1.223985715607825,
          -2.242662862123444,
          0.01794117330920211,
          -0.455222639263514,
          0.5007547847443525,
          -0.553819686989495,
          0.20043942442798982,
          -0.24573011286138435,
          -0.5050452181380096,
          -0.17352585824619512,
          2.02997161378098,
          -0.5705748702261924,
          -0.011599429552752439,
          -0.030224137128593603,
          -1.2393094423184057,
          0.40620312065033787,
          -1.1220845652125537,
          0.37668422212285013,
          -2.030964143067801,
          -0.5013600834838994,
          1.0344034912432012
         ],
         "xaxis": "x",
         "xbins": {
          "end": 2.4662865305257426,
          "size": 0.2,
          "start": -3.114204992938789
         },
         "yaxis": "y"
        },
        {
         "autobinx": false,
         "histnorm": "probability density",
         "legendgroup": "Group 3",
         "marker": {
          "color": "#63F5EF"
         },
         "name": "Group 3",
         "opacity": 0.7,
         "type": "histogram",
         "x": [
          0.6446075501325048,
          2.5194958594810206,
          1.0448248535251352,
          0.6661031299867761,
          2.9455237745252605,
          3.141677795710832,
          1.9413121101279427,
          1.4217893020390746,
          2.3354971428802442,
          1.1370383995008235,
          2.179068990822419,
          2.570971610298658,
          2.169860317031352,
          2.3072095103865045,
          1.415300816520992,
          4.2821163096570825,
          1.961596743784004,
          4.052863849687212,
          1.0121811050408127,
          2.36094386713719,
          1.0115868706850626,
          3.07111917899542,
          1.0792881353975248,
          1.4980195315525706,
          0.16531987412142013,
          1.0732462680495494,
          2.8679999394738607,
          0.6055500575144328,
          1.9622834143791124,
          1.0742797260737198,
          1.6902827189081524,
          3.162276625803476,
          0.9292401045860192,
          2.2710396294462347,
          2.315440648610356,
          2.540158240297264,
          3.3862461729432063,
          1.3398575029927433,
          0.20893911844987256,
          1.7896765017341556,
          1.3802158999332068,
          0.4232881538453923,
          2.322203591896496,
          2.3818705545075782,
          1.0188372993388606,
          1.1967029633024389,
          3.12754722952306,
          3.0568373175187293,
          1.83517482914806,
          1.1708956505260844,
          1.6738670414865247,
          0.44336904075859507,
          2.879094293750137,
          2.8650970484722813,
          3.100334001045019,
          3.3842346862996284,
          0.5932725660851108,
          3.5199006490026497,
          1.8267004064004921,
          1.8633694050268257,
          4.435713411012945,
          3.2739538475986496,
          3.0828853847887006,
          2.2323521583949093,
          1.1488412222023001,
          1.010516355603753,
          1.989919211343086,
          3.26064456343028,
          2.0988610736573126,
          2.6133958013146614,
          2.037436325402295,
          2.283689006672302,
          0.3637184347710358,
          3.621035001429477,
          1.4906736454092486,
          2.1408199544049453,
          3.7270203611198434,
          0.90686064248595,
          3.2682197853454578,
          1.6106579170491533,
          3.148198424029447,
          2.3894977894458846,
          2.686345126726212,
          3.0466035041208013,
          2.561859534295901,
          1.7690613416042245,
          1.1342286159712875,
          2.6291275579600453,
          1.7066876016738717,
          0.020089318178795335,
          2.345014604032925,
          1.3373106225271891,
          1.2401957925515856,
          1.7042651276795686,
          1.6371358207692843,
          1.6532115171716155,
          2.054518690488457,
          3.1617244439614502,
          2.0219905473239663,
          1.4905910577157164,
          2.1010261528802574,
          2.77567829774327,
          -0.03072501347770462,
          2.3838273124994545,
          2.2215719675998873,
          2.323454695933036,
          2.1232055342562726,
          1.928736446314094,
          2.1524099318142675,
          2.1569443832793596,
          1.2962948530087686,
          1.8817694602582344,
          3.363861646007408,
          2.8882193473469147,
          0.9389361796762119,
          4.106713871985312,
          2.7603175353553238,
          3.356764122617421,
          0.08579604362140758,
          2.3817624063676144,
          3.112751496064521,
          2.6235451516234467,
          1.6200053859322407,
          2.930764991123625,
          3.157677008329912,
          3.6024266512931327,
          1.8623656761446108,
          1.9232417103337374,
          3.015700547168726,
          3.073665410741537,
          2.1120429380771575,
          2.824119499836897,
          0.6896462421496943,
          0.29964131020813123,
          0.9272993008876955,
          0.8356269894464625,
          3.135370976559344,
          1.4922106786675475,
          2.52606518343579,
          -0.2644357773861863,
          2.914803311459827,
          2.091811756791541,
          1.6440221752423863,
          1.1344804258294767,
          1.4178288188635921,
          1.1543449114572337,
          3.3913050008140218,
          1.7798619286690176,
          3.8854062374552547,
          0.9355987548795559,
          3.3549195565615046,
          1.727384010758606,
          1.4753413324162312,
          0.5980914564846227,
          3.3736250763228703,
          2.5271595118849968,
          2.3159182453550216,
          1.6731738751094796,
          1.043333153004359,
          1.71464017839903,
          0.9985292831475003,
          2.9845330951848688,
          1.4993035875522336,
          1.1049936714062811,
          2.4181107231501304,
          2.957214764343609,
          0.9644152384869062,
          3.1492515496439557,
          2.04793694439343,
          1.050085731708689,
          2.517549623855679,
          5.201756851387442,
          2.6037117100633327,
          0.9656080897428947,
          0.8435945005430046,
          3.075441474797624,
          1.8745131724739534,
          2.2194884714252447,
          3.0888152485911897,
          0.5812264334019357,
          3.8044708021672444,
          3.517988860726833,
          0.8653452649397209,
          2.9130133093193473,
          1.7286879018839154,
          0.8107884815123338,
          3.226041535411383,
          1.5493841821387797,
          2.714214983763603,
          0.4951400685704057,
          1.9406433006769825,
          2.5209619432011365,
          0.5732547836321731,
          1.348581451281813,
          2.2012144496561445,
          4.278227663899489,
          0.904679443321186,
          3.3814389667329476,
          1.3835595570466666,
          2.7801706505183
         ],
         "xaxis": "x",
         "xbins": {
          "end": 5.201756851387442,
          "size": 0.2,
          "start": -0.2644357773861863
         },
         "yaxis": "y"
        },
        {
         "legendgroup": "Group 1",
         "marker": {
          "color": "#A56CC1"
         },
         "mode": "lines",
         "name": "Group 1",
         "showlegend": false,
         "type": "scatter",
         "x": [
          -4.02770777618068,
          -4.019111841527108,
          -4.010515906873535,
          -4.001919972219963,
          -3.9933240375663908,
          -3.9847281029128183,
          -3.976132168259246,
          -3.9675362336056734,
          -3.9589402989521014,
          -3.950344364298529,
          -3.9417484296449565,
          -3.933152494991384,
          -3.9245565603378116,
          -3.9159606256842396,
          -3.907364691030667,
          -3.8987687563770947,
          -3.8901728217235223,
          -3.88157688706995,
          -3.872980952416378,
          -3.8643850177628054,
          -3.855789083109233,
          -3.8471931484556605,
          -3.8385972138020885,
          -3.830001279148516,
          -3.8214053444949436,
          -3.812809409841371,
          -3.8042134751877987,
          -3.7956175405342267,
          -3.7870216058806543,
          -3.778425671227082,
          -3.7698297365735094,
          -3.761233801919937,
          -3.752637867266365,
          -3.7440419326127925,
          -3.73544599795922,
          -3.7268500633056476,
          -3.7182541286520756,
          -3.709658193998503,
          -3.7010622593449307,
          -3.6924663246913583,
          -3.683870390037786,
          -3.675274455384214,
          -3.6666785207306414,
          -3.658082586077069,
          -3.6494866514234965,
          -3.640890716769924,
          -3.632294782116352,
          -3.6236988474627796,
          -3.615102912809207,
          -3.6065069781556347,
          -3.5979110435020623,
          -3.5893151088484903,
          -3.580719174194918,
          -3.5721232395413454,
          -3.563527304887773,
          -3.5549313702342005,
          -3.5463354355806285,
          -3.537739500927056,
          -3.5291435662734836,
          -3.520547631619911,
          -3.5119516969663387,
          -3.5033557623127667,
          -3.4947598276591942,
          -3.486163893005622,
          -3.4775679583520493,
          -3.468972023698477,
          -3.460376089044905,
          -3.4517801543913325,
          -3.44318421973776,
          -3.4345882850841876,
          -3.4259923504306156,
          -3.417396415777043,
          -3.4088004811234707,
          -3.4002045464698982,
          -3.3916086118163262,
          -3.3830126771627533,
          -3.3744167425091813,
          -3.365820807855609,
          -3.3572248732020364,
          -3.3486289385484644,
          -3.3400330038948916,
          -3.3314370692413195,
          -3.322841134587747,
          -3.3142451999341747,
          -3.3056492652806027,
          -3.29705333062703,
          -3.2884573959734578,
          -3.2798614613198853,
          -3.271265526666313,
          -3.262669592012741,
          -3.2540736573591684,
          -3.245477722705596,
          -3.2368817880520235,
          -3.228285853398451,
          -3.219689918744879,
          -3.2110939840913066,
          -3.202498049437734,
          -3.1939021147841617,
          -3.1853061801305893,
          -3.1767102454770173,
          -3.168114310823445,
          -3.1595183761698724,
          -3.1509224415163,
          -3.1423265068627275,
          -3.1337305722091555,
          -3.125134637555583,
          -3.1165387029020106,
          -3.107942768248438,
          -3.0993468335948657,
          -3.0907508989412937,
          -3.0821549642877213,
          -3.073559029634149,
          -3.064963094980577,
          -3.056367160327004,
          -3.047771225673432,
          -3.0391752910198595,
          -3.030579356366287,
          -3.021983421712715,
          -3.013387487059142,
          -3.00479155240557,
          -2.9961956177519977,
          -2.9875996830984253,
          -2.9790037484448533,
          -2.9704078137912804,
          -2.9618118791377084,
          -2.953215944484136,
          -2.9446200098305635,
          -2.9360240751769915,
          -2.9274281405234186,
          -2.9188322058698466,
          -2.910236271216274,
          -2.9016403365627017,
          -2.8930444019091297,
          -2.8844484672555573,
          -2.875852532601985,
          -2.8672565979484124,
          -2.85866066329484,
          -2.850064728641268,
          -2.841468793987695,
          -2.832872859334123,
          -2.824276924680551,
          -2.815680990026978,
          -2.807085055373406,
          -2.7984891207198332,
          -2.7898931860662612,
          -2.781297251412689,
          -2.7727013167591164,
          -2.7641053821055444,
          -2.755509447451972,
          -2.7469135127983995,
          -2.738317578144827,
          -2.7297216434912546,
          -2.7211257088376826,
          -2.71252977418411,
          -2.7039338395305377,
          -2.6953379048769657,
          -2.686741970223393,
          -2.678146035569821,
          -2.6695501009162483,
          -2.660954166262676,
          -2.6523582316091034,
          -2.643762296955531,
          -2.635166362301959,
          -2.6265704276483866,
          -2.617974492994814,
          -2.6093785583412417,
          -2.600782623687669,
          -2.592186689034097,
          -2.5835907543805248,
          -2.5749948197269523,
          -2.5663988850733803,
          -2.5578029504198074,
          -2.5492070157662354,
          -2.540611081112663,
          -2.5320151464590905,
          -2.5234192118055185,
          -2.5148232771519456,
          -2.5062273424983736,
          -2.497631407844801,
          -2.4890354731912288,
          -2.4804395385376568,
          -2.471843603884084,
          -2.463247669230512,
          -2.4546517345769394,
          -2.446055799923367,
          -2.437459865269795,
          -2.428863930616222,
          -2.42026799596265,
          -2.4116720613090776,
          -2.403076126655505,
          -2.394480192001933,
          -2.3858842573483607,
          -2.3772883226947883,
          -2.368692388041216,
          -2.3600964533876434,
          -2.3515005187340714,
          -2.342904584080499,
          -2.3343086494269265,
          -2.3257127147733545,
          -2.3171167801197816,
          -2.3085208454662096,
          -2.2999249108126367,
          -2.2913289761590647,
          -2.2827330415054927,
          -2.27413710685192,
          -2.265541172198348,
          -2.2569452375447754,
          -2.248349302891203,
          -2.2397533682376305,
          -2.231157433584058,
          -2.222561498930486,
          -2.2139655642769136,
          -2.205369629623341,
          -2.196773694969769,
          -2.1881777603161963,
          -2.1795818256626243,
          -2.1709858910090514,
          -2.1623899563554794,
          -2.1537940217019074,
          -2.1451980870483345,
          -2.1366021523947625,
          -2.12800621774119,
          -2.1194102830876176,
          -2.110814348434045,
          -2.102218413780473,
          -2.0936224791269007,
          -2.0850265444733282,
          -2.076430609819756,
          -2.067834675166184,
          -2.059238740512611,
          -2.050642805859039,
          -2.0420468712054665,
          -2.033450936551894,
          -2.024855001898322,
          -2.0162590672447496,
          -2.007663132591177,
          -1.9990671979376047,
          -1.9904712632840322,
          -1.9818753286304598,
          -1.9732793939768878,
          -1.9646834593233153,
          -1.956087524669743,
          -1.9474915900161704,
          -1.938895655362598,
          -1.930299720709026,
          -1.9217037860554536,
          -1.913107851401881,
          -1.9045119167483087,
          -1.8959159820947362,
          -1.8873200474411642,
          -1.8787241127875918,
          -1.8701281781340198,
          -1.8615322434804473,
          -1.8529363088268749,
          -1.8443403741733024,
          -1.83574443951973,
          -1.8271485048661575,
          -1.818552570212585,
          -1.809956635559013,
          -1.8013607009054406,
          -1.7927647662518682,
          -1.7841688315982958,
          -1.7755728969447233,
          -1.7669769622911509,
          -1.7583810276375789,
          -1.7497850929840064,
          -1.7411891583304344,
          -1.732593223676862,
          -1.7239972890232895,
          -1.715401354369717,
          -1.7068054197161446,
          -1.6982094850625722,
          -1.6896135504089997,
          -1.6810176157554277,
          -1.6724216811018553,
          -1.6638257464482828,
          -1.6552298117947104,
          -1.646633877141138,
          -1.638037942487566,
          -1.6294420078339935,
          -1.6208460731804215,
          -1.612250138526849,
          -1.6036542038732766,
          -1.5950582692197042,
          -1.5864623345661317,
          -1.5778663999125593,
          -1.5692704652589868,
          -1.5606745306054148,
          -1.5520785959518424,
          -1.54348266129827,
          -1.5348867266446975,
          -1.526290791991125,
          -1.517694857337553,
          -1.5090989226839806,
          -1.5005029880304082,
          -1.4919070533768362,
          -1.4833111187232637,
          -1.4747151840696913,
          -1.4661192494161188,
          -1.4575233147625464,
          -1.448927380108974,
          -1.4403314454554015,
          -1.4317355108018295,
          -1.423139576148257,
          -1.4145436414946846,
          -1.4059477068411121,
          -1.3973517721875401,
          -1.3887558375339677,
          -1.3801599028803953,
          -1.3715639682268232,
          -1.3629680335732508,
          -1.3543720989196784,
          -1.345776164266106,
          -1.3371802296125335,
          -1.328584294958961,
          -1.3199883603053886,
          -1.3113924256518166,
          -1.3027964909982441,
          -1.2942005563446717,
          -1.2856046216910992,
          -1.2770086870375268,
          -1.2684127523839548,
          -1.2598168177303823,
          -1.25122088307681,
          -1.242624948423238,
          -1.2340290137696655,
          -1.225433079116093,
          -1.2168371444625206,
          -1.2082412098089481,
          -1.1996452751553757,
          -1.1910493405018032,
          -1.1824534058482312,
          -1.1738574711946588,
          -1.1652615365410863,
          -1.1566656018875139,
          -1.1480696672339419,
          -1.1394737325803694,
          -1.130877797926797,
          -1.122281863273225,
          -1.1136859286196525,
          -1.10508999396608,
          -1.0964940593125077,
          -1.0878981246589352,
          -1.0793021900053628,
          -1.0707062553517903,
          -1.0621103206982179,
          -1.0535143860446459,
          -1.0449184513910734,
          -1.036322516737501,
          -1.027726582083929,
          -1.0191306474303565,
          -1.010534712776784,
          -1.0019387781232116,
          -0.9933428434696396,
          -0.9847469088160672,
          -0.9761509741624947,
          -0.9675550395089223,
          -0.9589591048553499,
          -0.9503631702017774,
          -0.941767235548205,
          -0.933171300894633,
          -0.9245753662410605,
          -0.9159794315874881,
          -0.9073834969339161,
          -0.8987875622803436,
          -0.8901916276267712,
          -0.8815956929731987,
          -0.8729997583196267,
          -0.8644038236660543,
          -0.8558078890124818,
          -0.8472119543589094,
          -0.838616019705337,
          -0.8300200850517645,
          -0.821424150398192,
          -0.8128282157446196,
          -0.8042322810910476,
          -0.7956363464374752,
          -0.7870404117839032,
          -0.7784444771303307,
          -0.7698485424767583,
          -0.7612526078231858,
          -0.7526566731696134,
          -0.7440607385160414,
          -0.7354648038624689,
          -0.7268688692088965,
          -0.718272934555324,
          -0.7096769999017516,
          -0.7010810652481791,
          -0.6924851305946067,
          -0.6838891959410347,
          -0.6752932612874623,
          -0.6666973266338898,
          -0.6581013919803178,
          -0.6495054573267454,
          -0.6409095226731729,
          -0.6323135880196005,
          -0.6237176533660285,
          -0.615121718712456,
          -0.6065257840588836,
          -0.5979298494053111,
          -0.5893339147517387,
          -0.5807379800981662,
          -0.5721420454445938,
          -0.5635461107910213,
          -0.5549501761374493,
          -0.5463542414838769,
          -0.5377583068303049,
          -0.5291623721767325,
          -0.52056643752316,
          -0.5119705028695876,
          -0.5033745682160151,
          -0.4947786335624431,
          -0.48618269890887067,
          -0.4775867642552982,
          -0.4689908296017258,
          -0.46039489494815333,
          -0.4517989602945809,
          -0.44320302564100844,
          -0.43460709098743644,
          -0.426011156333864,
          -0.417415221680292,
          -0.40881928702671955,
          -0.4002233523731471,
          -0.39162741771957466,
          -0.3830314830660022,
          -0.3744355484124302,
          -0.36583961375885776,
          -0.3572436791052853,
          -0.34864774445171287,
          -0.3400518097981404,
          -0.331455875144568,
          -0.32285994049099553,
          -0.3142640058374231,
          -0.3056680711838511,
          -0.2970721365302791,
          -0.28847620187670664,
          -0.2798802672231342,
          -0.27128433256956175,
          -0.2626883979159893,
          -0.25409246326241686,
          -0.24549652860884486,
          -0.2369005939552724,
          -0.22830465930169996,
          -0.21970872464812752,
          -0.21111278999455507,
          -0.20251685534098263,
          -0.19392092068741018,
          -0.18532498603383818,
          -0.17672905138026618,
          -0.16813311672669373,
          -0.1595371820731213,
          -0.15094124741954884,
          -0.1423453127659764,
          -0.13374937811240395,
          -0.12515344345883195,
          -0.1165575088052595,
          -0.10796157415168706,
          -0.09936563949811461,
          -0.09076970484454217,
          -0.08217377019096972,
          -0.07357783553739727,
          -0.06498190088382483,
          -0.056385966230252826,
          -0.047790031576680825,
          -0.03919409692310838,
          -0.030598162269535933,
          -0.022002227615963932,
          -0.013406292962391042,
          -0.0048103583088190405,
          0.0037855763447538493,
          0.012381510998325851,
          0.02097744565189874,
          0.029573380305470742,
          0.038169314959042744,
          0.046765249612615634,
          0.055361184266187635,
          0.06395711891976052,
          0.07255305357333253,
          0.08114898822690453,
          0.08974492288047742,
          0.09834085753404942,
          0.10693679218762231,
          0.11553272684119431,
          0.1241286614947672,
          0.1327245961483392,
          0.1413205308019112,
          0.1499164654554841,
          0.1585124001090552,
          0.1671083347626281,
          0.1757042694162001,
          0.184300204069773,
          0.192896138723345,
          0.20149207337691788,
          0.21008800803048988,
          0.21868394268406277,
          0.22727987733763477,
          0.23587581199120766,
          0.24447174664477966,
          0.25306768129835167,
          0.26166361595192456
         ],
         "xaxis": "x",
         "y": [
          0.05299170226497376,
          0.054256336753004994,
          0.05552848043864456,
          0.05680761337141789,
          0.05809322547061111,
          0.05938481831304252,
          0.06068190688468697,
          0.06198402128789508,
          0.06329070839608417,
          0.06460153344794879,
          0.06591608157346152,
          0.0672339592442067,
          0.0685547956409021,
          0.06987824393132354,
          0.0712039824522475,
          0.07253171578947101,
          0.07386117575044418,
          0.0751921222245666,
          0.07652434392674601,
          0.07785765902039106,
          0.07919191561661186,
          0.0805269921470238,
          0.08186279760819237,
          0.08319927167640674,
          0.08453638469213731,
          0.08587413751420038,
          0.08721256124432265,
          0.08855171682346823,
          0.08989169450194666,
          0.09123261318597202,
          0.09257461966397673,
          0.09391788771659103,
          0.09526261711479393,
          0.09660903251129933,
          0.09795738223077226,
          0.09930793696496772,
          0.10066098837933901,
          0.10201684763808834,
          0.10337584385500058,
          0.10473832247773757,
          0.10610464361355479,
          0.10747518030463707,
          0.1088503167614391,
          0.11023044656255536,
          0.11161597082973075,
          0.1130072963866635,
          0.11440483391023454,
          0.11580899608274499,
          0.11722019575362531,
          0.11863884411892985,
          0.12006534892672771,
          0.12150011271625584,
          0.12294353109841732,
          0.12439599108488211,
          0.12585786947269098,
          0.12732953129087018,
          0.12881132831514228,
          0.1303035976563728,
          0.13180666042791786,
          0.13332082049654922,
          0.1348463633211264,
          0.13638355488266032,
          0.13793264070889122,
          0.13949384499595738,
          0.14106736982920506,
          0.14265339450464137,
          0.14425207495200437,
          0.14586354325989825,
          0.14748790730292172,
          0.1491252504702149,
          0.1507756314943658,
          0.1524390843791399,
          0.15411561842405053,
          0.15580521834335942,
          0.15750784447668975,
          0.15922343308805528,
          0.16095189674975802,
          0.1626931248072825,
          0.1644469839210172,
          0.16621331868036743,
          0.16799195228559377,
          0.16978268729249324,
          0.1715853064148782,
          0.17339957337965248,
          0.1752252338291775,
          0.17706201626553028,
          0.17890963303120228,
          0.18076778132076324,
          0.18263614421801003,
          0.1845143917531489,
          0.18640218197461597,
          0.18829916203021388,
          0.19020496925234348,
          0.1921192322422378,
          0.19404157194823965,
          0.1959716027333377,
          0.19790893342734794,
          0.19985316835932845,
          0.20180390836603282,
          0.203760751772424,
          0.20572329534051662,
          0.2076911351830623,
          0.20966386763885275,
          0.2116410901066812,
          0.2136224018352712,
          0.21560740466677367,
          0.2175957037316977,
          0.21958690809344092,
          0.22158063134086156,
          0.22357649212762387,
          0.22557411465733693,
          0.22757312911378136,
          0.22957317203580557,
          0.23157388663674677,
          0.23357492306849337,
          0.23557593863058185,
          0.23757659792496125,
          0.23957657295731816,
          0.24157554318608637,
          0.24357319552048823,
          0.24556922426918798,
          0.24756333104132136,
          0.24955522460187682,
          0.25154462068357647,
          0.2535312417575711,
          0.2555148167654266,
          0.2574950808150058,
          0.259471774842991,
          0.2614446452468909,
          0.2634134434894788,
          0.26537792567869267,
          0.26733785212608546,
          0.2692929868869778,
          0.27124309728549284,
          0.2731879534276771,
          0.27512732770592263,
          0.2770609942978958,
          0.27898872866315244,
          0.28091030704059333,
          0.2828255059498567,
          0.28473410169968916,
          0.2866358699062542,
          0.28853058502426154,
          0.2904180198936911,
          0.292297945304783,
          0.29417012958384453,
          0.29603433820228875,
          0.29789033341118876,
          0.2997378739034764,
          0.30157671450575874,
          0.30340660590156643,
          0.30522729438766555,
          0.3070385216649008,
          0.3088400246648432,
          0.3106315354133297,
          0.3124127809317908,
          0.3141834831770644,
          0.31594335902018844,
          0.3176921202644663,
          0.3194294737028914,
          0.3211551212148082,
          0.3228687599014793,
          0.324570082260021,
          0.32625877639495365,
          0.3279345262664204,
          0.3295970119739005,
          0.33124591007406,
          0.33288089393116943,
          0.33450163409832545,
          0.33610779872752267,
          0.3376990540064319,
          0.339275064619568,
          0.34083549423135096,
          0.3423800059884081,
          0.3439082630383054,
          0.3454199290617575,
          0.3469146688152386,
          0.3483921486807835,
          0.34985203721969266,
          0.3512940057267364,
          0.3527177287814114,
          0.35412288479272575,
          0.3555091565339791,
          0.35687623166397536,
          0.35822380323111797,
          0.35955157015687933,
          0.36085923769518236,
          0.3621465178643072,
          0.3634131298480674,
          0.36465880036309734,
          0.36588326398927656,
          0.3670862634604921,
          0.3682675499131504,
          0.369426883090095,
          0.37056403149784145,
          0.37167877251534337,
          0.3727708924528054,
          0.3738401865594147,
          0.37488645897920025,
          0.3759095226546388,
          0.3769091991780041,
          0.3778853185908845,
          0.37883771913272046,
          0.37976624693965905,
          0.3806707556954657,
          0.3815511062366934,
          0.3824071661147642,
          0.3832388091180621,
          0.3840459147575989,
          0.3848283677202339,
          0.38558605729385115,
          0.386318876769316,
          0.38702672282438294,
          0.38770949489510353,
          0.38836709454058255,
          0.38899942480722577,
          0.3896063895988579,
          0.3901878930592854,
          0.390743838974044,
          0.3912741301981489,
          0.3917786681167319,
          0.3922573521454285,
          0.39271007927731083,
          0.3931367436830328,
          0.393537236370667,
          0.39391144491144847,
          0.39425925323733596,
          0.3945805415159091,
          0.3948751861076913,
          0.39514305961047114,
          0.39538403099465613,
          0.3955979658330464,
          0.39578472662778763,
          0.39594417323650705,
          0.3960761633989053,
          0.3961805533642559,
          0.3962571986194579,
          0.3963059547163904,
          0.3963266781964695,
          0.3963192276093955,
          0.39628346462217584,
          0.3962192552136077,
          0.39612647094850983,
          0.39600499032510994,
          0.39585470018814206,
          0.3956754971993734,
          0.3954672893565045,
          0.3952299975506398,
          0.3949635571518411,
          0.3946679196116543,
          0.3943430540709461,
          0.3939889489608942,
          0.3936056135845955,
          0.3931930796664251,
          0.39275140285606275,
          0.3922806641739817,
          0.39178097138515655,
          0.3912524602878271,
          0.39069529590433366,
          0.39010967356131104,
          0.38949581984692966,
          0.38885399343334814,
          0.38818448575314296,
          0.38748762151918037,
          0.3867637590781684,
          0.38601329058904077,
          0.38523664201825697,
          0.38443427294520605,
          0.38360667617198957,
          0.38275437713308186,
          0.3818779331016299,
          0.38097793219044895,
          0.3800549921471507,
          0.3791097589442058,
          0.3781429051661878,
          0.37715512819783503,
          0.3761471482180368,
          0.3751197060062423,
          0.3740735605692141,
          0.37300948659741384,
          0.3719282717616427,
          0.3708307138618542,
          0.36971761784125706,
          0.36858979268001313,
          0.36744804818386906,
          0.36629319168407815,
          0.36512602466583083,
          0.3639473393432085,
          0.3627579151993375,
          0.3615585155109686,
          0.36034988387715133,
          0.3591327407719507,
          0.3579077801413421,
          0.3566756660644454,
          0.3554370294991752,
          0.3541924651321274,
          0.3529425283521863,
          0.35168773236680556,
          0.35042854547931224,
          0.3491653885448089,
          0.34789863262138326,
          0.3466285968323342,
          0.34535554645402683,
          0.3440796912427732,
          0.3428011840128595,
          0.34152011947642963,
          0.34023653335449683,
          0.33895040176682306,
          0.3376616409068352,
          0.3363701070061081,
          0.3350755965913152,
          0.33377784703484964,
          0.3324765373986497,
          0.33117128956907804,
          0.32986166967902913,
          0.3285471898118137,
          0.3272273099797481,
          0.32590144036883734,
          0.32456894383942464,
          0.3232291386712712,
          0.3218813015401571,
          0.3205246707118542,
          0.3191584494381183,
          0.31778180953831475,
          0.31639389514930366,
          0.3149938266253707,
          0.313580704569267,
          0.31215361397479857,
          0.31071162846093187,
          0.3092538145770171,
          0.307779236158501,
          0.30628695871238487,
          0.3047760538117118,
          0.3032456034785032,
          0.301694704534807,
          0.3001224729019254,
          0.2985280478283376,
          0.29691059602744896,
          0.2952693157069733,
          0.2936034404725297,
          0.2919122430889137,
          0.2901950390834258,
          0.2884511901766618,
          0.2866801075272315,
          0.2848812547779904,
          0.28305415089254293,
          0.2811983727719551,
          0.2793135576428443,
          0.2773994052092573,
          0.275455679561969,
          0.27348221084010504,
          0.27147889664120234,
          0.2694457031770518,
          0.2673826661738572,
          0.26528989151640425,
          0.26316755563707,
          0.26101590565157506,
          0.25883525924442957,
          0.2566260043080063,
          0.25438859834010424,
          0.2521235676057459,
          0.24983150606976037,
          0.24751307410745593,
          0.24516899700137953,
          0.24280006323278083,
          0.24040712257696156,
          0.2379910840121904,
          0.2355529134522983,
          0.2330936313134458,
          0.23061430992587578,
          0.22811607080171528,
          0.22560008177011395,
          0.22306755399114658,
          0.2205197388600302,
          0.21795792481326148,
          0.21538343404831128,
          0.21279761916848608,
          0.21020185976453393,
          0.20759755894447265,
          0.20498613982302258,
          0.20236904198188185,
          0.19974771791193144,
          0.19712362944826814,
          0.19449824420878253,
          0.1918730320467748,
          0.18924946152787797,
          0.18662899644132744,
          0.1840130923553557,
          0.18140319322623968,
          0.1788007280702549,
          0.1762071077075126,
          0.17362372158637215,
          0.17105193469682117,
          0.1684930845809086,
          0.16594847844800928,
          0.16341939040236017,
          0.1609070587899825,
          0.15841268367174816,
          0.15593742442899003,
          0.15348239750767945,
          0.15104867430680374,
          0.14863727921617137,
          0.14624918780845145,
          0.14388532518981562,
          0.14154656451309355,
          0.13923372565688424,
          0.13694757407357366,
          0.1346888198086995,
          0.13245811669358754,
          0.13025606171263723,
          0.12808319454608424,
          0.12593999728850008,
          0.1238268943427062,
          0.12174425248819465,
          0.11969238112254425,
          0.11767153267372266,
          0.11568190318055568,
          0.11372363303803831,
          0.1117968079035605,
          0.10990145975952066,
          0.10803756812721468,
          0.10620506142630844,
          0.10440381847365156,
          0.1026336701146413,
          0.10089440097984065,
          0.09918575135906067,
          0.09750741918466349,
          0.09585906211542153,
          0.09424029971187688,
          0.09265071569380993,
          0.0910898602701152,
          0.08955725253113338,
          0.08805238289327758,
          0.0865747155856337,
          0.08512369116811024,
          0.0836987290706585,
          0.08229923014308291,
          0.08092457920501758,
          0.0795741475857502,
          0.07824729564374087,
          0.07694337525589441,
          0.07566173226691256,
          0.07440170888937296,
          0.07316264604554186,
          0.07194388564234439,
          0.07074477277136743,
          0.06956465782626872,
          0.06840289853049472,
          0.06725886186877861,
          0.06613192591648387,
          0.06502148156147913,
          0.06392693411387326,
          0.06284770479959827,
          0.06178323213449908,
          0.06073297317626828,
          0.05969640465224613,
          0.058673023961789784,
          0.057662350052587026,
          0.05666392417095908,
          0.05567731048684629,
          0.05470209659480177,
          0.0537378938929302,
          0.05278433784229032,
          0.05184108810983515,
          0.050907828598484334,
          0.049984267368409,
          0.04907013645405651,
          0.04816519158185006,
          0.047269211793863494,
          0.04638199898309106,
          0.04550337734621263,
          0.044633192759980456,
          0.0437713120875464,
          0.04291762242118099,
          0.04207203026793686,
          0.04123446068485496,
          0.04040485637031962,
          0.03958317671813455,
          0.03876939684081243,
          0.037963506568459836,
          0.037165509429485113,
          0.03637542161917304,
          0.03559327096195531,
          0.03481909587295688,
          0.03405294432413333,
          0.0332948728200151,
          0.03254494538776722,
          0.03180323258594051,
          0.031069810535947918,
          0.03034475997995122,
          0.02962816536847699,
          0.028920113980725352,
          0.02822069508016309,
          0.027529999107637423,
          0.02684811691388238,
          0.026175139032945053,
          0.02551115499771234,
          0.024856252698394712,
          0.024210517784502554,
          0.023574033110555028
         ],
         "yaxis": "y"
        },
        {
         "legendgroup": "Group 2",
         "marker": {
          "color": "#A6ACEC"
         },
         "mode": "lines",
         "name": "Group 2",
         "showlegend": false,
         "type": "scatter",
         "x": [
          -3.114204992938789,
          -3.10304400989186,
          -3.091883026844931,
          -3.080722043798002,
          -3.069561060751073,
          -3.058400077704144,
          -3.0472390946572148,
          -3.0360781116102853,
          -3.0249171285633563,
          -3.0137561455164272,
          -3.002595162469498,
          -2.991434179422569,
          -2.98027319637564,
          -2.969112213328711,
          -2.957951230281782,
          -2.946790247234853,
          -2.935629264187924,
          -2.924468281140995,
          -2.913307298094066,
          -2.902146315047137,
          -2.8909853320002075,
          -2.8798243489532784,
          -2.8686633659063494,
          -2.8575023828594204,
          -2.8463413998124913,
          -2.8351804167655623,
          -2.8240194337186333,
          -2.8128584506717043,
          -2.8016974676247752,
          -2.790536484577846,
          -2.779375501530917,
          -2.768214518483988,
          -2.757053535437059,
          -2.7458925523901296,
          -2.7347315693432006,
          -2.7235705862962716,
          -2.7124096032493425,
          -2.7012486202024135,
          -2.6900876371554845,
          -2.6789266541085555,
          -2.6677656710616264,
          -2.6566046880146974,
          -2.6454437049677684,
          -2.6342827219208393,
          -2.6231217388739103,
          -2.6119607558269813,
          -2.600799772780052,
          -2.5896387897331232,
          -2.5784778066861938,
          -2.5673168236392647,
          -2.5561558405923357,
          -2.5449948575454067,
          -2.5338338744984776,
          -2.5226728914515486,
          -2.5115119084046196,
          -2.5003509253576905,
          -2.4891899423107615,
          -2.4780289592638325,
          -2.4668679762169035,
          -2.455706993169974,
          -2.4445460101230454,
          -2.433385027076116,
          -2.422224044029187,
          -2.411063060982258,
          -2.399902077935329,
          -2.3887410948884,
          -2.377580111841471,
          -2.3664191287945417,
          -2.3552581457476127,
          -2.3440971627006837,
          -2.3329361796537547,
          -2.3217751966068256,
          -2.310614213559896,
          -2.299453230512967,
          -2.288292247466038,
          -2.277131264419109,
          -2.26597028137218,
          -2.254809298325251,
          -2.243648315278322,
          -2.232487332231393,
          -2.221326349184464,
          -2.210165366137535,
          -2.199004383090606,
          -2.187843400043677,
          -2.176682416996748,
          -2.1655214339498183,
          -2.1543604509028897,
          -2.1431994678559603,
          -2.1320384848090317,
          -2.120877501762102,
          -2.1097165187151736,
          -2.098555535668244,
          -2.087394552621315,
          -2.076233569574386,
          -2.065072586527457,
          -2.053911603480528,
          -2.0427506204335986,
          -2.03158963738667,
          -2.0204286543397405,
          -2.0092676712928115,
          -1.9981066882458827,
          -1.9869457051989536,
          -1.9757847221520246,
          -1.9646237391050954,
          -1.9534627560581663,
          -1.9423017730112373,
          -1.9311407899643083,
          -1.919979806917379,
          -1.90881882387045,
          -1.8976578408235212,
          -1.8864968577765922,
          -1.875335874729663,
          -1.8641748916827339,
          -1.8530139086358048,
          -1.8418529255888758,
          -1.8306919425419466,
          -1.8195309594950175,
          -1.8083699764480885,
          -1.7972089934011595,
          -1.7860480103542304,
          -1.7748870273073014,
          -1.7637260442603724,
          -1.7525650612134434,
          -1.741404078166514,
          -1.730243095119585,
          -1.719082112072656,
          -1.707921129025727,
          -1.6967601459787978,
          -1.685599162931869,
          -1.67443817988494,
          -1.6632771968380107,
          -1.6521162137910816,
          -1.6409552307441526,
          -1.6297942476972236,
          -1.6186332646502943,
          -1.6074722816033653,
          -1.5963112985564363,
          -1.5851503155095075,
          -1.5739893324625782,
          -1.5628283494156492,
          -1.5516673663687202,
          -1.5405063833217911,
          -1.5293454002748619,
          -1.5181844172279328,
          -1.5070234341810038,
          -1.4958624511340748,
          -1.4847014680871455,
          -1.4735404850402167,
          -1.4623795019932877,
          -1.4512185189463587,
          -1.4400575358994294,
          -1.4288965528525004,
          -1.4177355698055714,
          -1.4065745867586423,
          -1.395413603711713,
          -1.384252620664784,
          -1.3730916376178552,
          -1.3619306545709262,
          -1.350769671523997,
          -1.339608688477068,
          -1.328447705430139,
          -1.3172867223832097,
          -1.3061257393362806,
          -1.2949647562893516,
          -1.2838037732424226,
          -1.2726427901954933,
          -1.2614818071485645,
          -1.2503208241016355,
          -1.2391598410547064,
          -1.2279988580077772,
          -1.2168378749608482,
          -1.2056768919139191,
          -1.19451590886699,
          -1.1833549258200609,
          -1.1721939427731318,
          -1.161032959726203,
          -1.149871976679274,
          -1.1387109936323447,
          -1.1275500105854157,
          -1.1163890275384867,
          -1.1052280444915579,
          -1.0940670614446284,
          -1.0829060783976994,
          -1.0717450953507703,
          -1.0605841123038413,
          -1.0494231292569123,
          -1.0382621462099832,
          -1.0271011631630538,
          -1.0159401801161252,
          -1.0047791970691957,
          -0.9936182140222671,
          -0.9824572309753381,
          -0.9712962479284086,
          -0.96013526488148,
          -0.9489742818345506,
          -0.9378132987876215,
          -0.9266523157406925,
          -0.9154913326937635,
          -0.904330349646834,
          -0.8931693665999054,
          -0.8820083835529764,
          -0.8708474005060474,
          -0.8596864174591183,
          -0.8485254344121889,
          -0.8373644513652603,
          -0.8262034683183308,
          -0.8150424852714018,
          -0.8038815022244727,
          -0.7927205191775437,
          -0.7815595361306151,
          -0.7703985530836857,
          -0.7592375700367566,
          -0.7480765869898276,
          -0.7369156039428986,
          -0.7257546208959691,
          -0.7145936378490405,
          -0.703432654802111,
          -0.6922716717551824,
          -0.6811106887082534,
          -0.669949705661324,
          -0.6587887226143954,
          -0.6476277395674659,
          -0.6364667565205369,
          -0.6253057734736078,
          -0.6141447904266788,
          -0.6029838073797493,
          -0.5918228243328207,
          -0.5806618412858917,
          -0.5695008582389627,
          -0.5583398751920337,
          -0.5471788921451042,
          -0.5360179090981756,
          -0.5248569260512461,
          -0.5136959430043171,
          -0.5025349599573881,
          -0.49137397691045903,
          -0.48021299386353,
          -0.469052010816601,
          -0.45789102776967194,
          -0.4467300447227429,
          -0.4355690616758139,
          -0.4244080786288844,
          -0.4132470955819558,
          -0.40208611253502635,
          -0.39092512948809777,
          -0.3797641464411683,
          -0.36860316339423926,
          -0.3574421803473107,
          -0.3462811973003812,
          -0.3351202142534522,
          -0.32395923120652315,
          -0.3127982481595941,
          -0.3016372651126651,
          -0.29047628206573606,
          -0.2793152990188066,
          -0.268154315971878,
          -0.25699333292494897,
          -0.2458323498780195,
          -0.2346713668310909,
          -0.22351038378416144,
          -0.2123494007372324,
          -0.20118841769030338,
          -0.19002743464337435,
          -0.17886645159644532,
          -0.1677054685495163,
          -0.15654448550258726,
          -0.14538350245565823,
          -0.1342225194087292,
          -0.12306153636179973,
          -0.11190055331487114,
          -0.10073957026794167,
          -0.08957858722101308,
          -0.07841760417408361,
          -0.06725662112715458,
          -0.056095638080225996,
          -0.04493465503329652,
          -0.03377367198636749,
          -0.022612688939438463,
          -0.011451705892509434,
          -0.0002907228455804045,
          0.010870260201348625,
          0.0220312432482781,
          0.033192226295206684,
          0.04435320934213616,
          0.05551419238906519,
          0.06667517543599377,
          0.07783615848292325,
          0.08899714152985183,
          0.1001581245767813,
          0.11131910762371033,
          0.12248009067063936,
          0.1336410737175684,
          0.14480205676449787,
          0.15596303981142645,
          0.16712402285835548,
          0.17828500590528495,
          0.18944598895221354,
          0.200606971999143,
          0.2117679550460716,
          0.22292893809300107,
          0.2340899211399301,
          0.24525090418685913,
          0.25641188723378816,
          0.2675728702807172,
          0.2787338533276462,
          0.28989483637457525,
          0.3010558194215043,
          0.3122168024684333,
          0.3233777855153628,
          0.33453876856229137,
          0.34569975160922084,
          0.35686073465614987,
          0.36802171770307845,
          0.37918270075000793,
          0.3903436837969365,
          0.401504666843866,
          0.412665649890795,
          0.42382663293772405,
          0.4349876159846531,
          0.44614859903158255,
          0.45730958207851113,
          0.4684705651254406,
          0.47963154817236964,
          0.4907925312192982,
          0.5019535142662277,
          0.5131144973131563,
          0.5242754803600858,
          0.5354364634070148,
          0.5465974464539438,
          0.5577584295008728,
          0.5689194125478023,
          0.5800803955947309,
          0.5912413786416599,
          0.602402361688589,
          0.613563344735518,
          0.6247243277824475,
          0.635885310829376,
          0.6470462938763055,
          0.6582072769232346,
          0.6693682599701636,
          0.6805292430170926,
          0.6916902260640212,
          0.7028512091109507,
          0.7140121921578797,
          0.7251731752048087,
          0.7363341582517378,
          0.7474951412986672,
          0.7586561243455958,
          0.7698171073925253,
          0.7809780904394539,
          0.7921390734863829,
          0.8033000565333124,
          0.814461039580241,
          0.8256220226271704,
          0.8367830056740995,
          0.8479439887210285,
          0.8591049717679575,
          0.870265954814887,
          0.8814269378618156,
          0.8925879209087446,
          0.9037489039556732,
          0.9149098870026027,
          0.9260708700495321,
          0.9372318530964607,
          0.9483928361433902,
          0.9595538191903197,
          0.9707148022372483,
          0.9818757852841768,
          0.9930367683311063,
          1.004197751378035,
          1.0153587344249644,
          1.0265197174718939,
          1.0376807005188224,
          1.048841683565751,
          1.0600026666126814,
          1.07116364965961,
          1.0823246327065386,
          1.093485615753468,
          1.1046465988003975,
          1.115807581847326,
          1.1269685648942547,
          1.1381295479411841,
          1.1492905309881127,
          1.1604515140350422,
          1.1716124970819717,
          1.1827734801289003,
          1.1939344631758289,
          1.2050954462227592,
          1.2162564292696878,
          1.2274174123166164,
          1.2385783953635459,
          1.2497393784104744,
          1.260900361457404,
          1.2720613445043334,
          1.283222327551262,
          1.2943833105981906,
          1.305544293645121,
          1.3167052766920495,
          1.327866259738978,
          1.3390272427859067,
          1.3501882258328362,
          1.3613492088797656,
          1.3725101919266942,
          1.3836711749736237,
          1.3948321580205523,
          1.4059931410674817,
          1.4171541241144112,
          1.4283151071613398,
          1.4394760902082684,
          1.4506370732551979,
          1.4617980563021273,
          1.472959039349056,
          1.4841200223959854,
          1.495281005442914,
          1.5064419884898435,
          1.517602971536772,
          1.5287639545837015,
          1.53992493763063,
          1.5510859206775587,
          1.562246903724489,
          1.5734078867714176,
          1.5845688698183462,
          1.5957298528652757,
          1.6068908359122052,
          1.6180518189591337,
          1.6292128020060632,
          1.6403737850529918,
          1.6515347680999204,
          1.6626957511468508,
          1.6738567341937793,
          1.685017717240708,
          1.6961787002876374,
          1.7073396833345669,
          1.7185006663814955,
          1.729661649428424,
          1.7408226324753535,
          1.751983615522282,
          1.7631445985692116,
          1.774305581616141,
          1.7854665646630696,
          1.7966275477099982,
          1.8077885307569286,
          1.8189495138038572,
          1.8301104968507858,
          1.8412714798977152,
          1.8524324629446438,
          1.8635934459915733,
          1.8747544290385028,
          1.8859154120854313,
          1.89707639513236,
          1.9082373781792903,
          1.9193983612262189,
          1.9305593442731475,
          1.941720327320076,
          1.9528813103670055,
          1.964042293413935,
          1.9752032764608636,
          1.986364259507793,
          1.9975252425547216,
          2.008686225601651,
          2.0198472086485806,
          2.031008191695509,
          2.0421691747424378,
          2.053330157789368,
          2.0644911408362967,
          2.0756521238832253,
          2.0868131069301548,
          2.0979740899770833,
          2.109135073024013,
          2.1202960560709414,
          2.131457039117871,
          2.1426180221647995,
          2.153779005211729,
          2.1649399882586584,
          2.176100971305587,
          2.1872619543525156,
          2.198422937399445,
          2.2095839204463745,
          2.220744903493303,
          2.2319058865402326,
          2.243066869587161,
          2.2542278526340906,
          2.26538883568102,
          2.2765498187279487,
          2.2877108017748773,
          2.2988717848218068,
          2.3100327678687362,
          2.321193750915665,
          2.3323547339625934,
          2.343515717009523,
          2.3546767000564524,
          2.365837683103381,
          2.3769986661503104,
          2.388159649197239,
          2.3993206322441676,
          2.410481615291098,
          2.4216425983380265,
          2.432803581384955,
          2.4439645644318846,
          2.455125547478814
         ],
         "xaxis": "x",
         "y": [
          0.016321013987469407,
          0.016805023978416905,
          0.017295006646714402,
          0.017790656412964106,
          0.018291647388727596,
          0.01879763344350781,
          0.01930824838137901,
          0.01982310623286436,
          0.02034180166686634,
          0.020863910526567594,
          0.021388990492244613,
          0.02191658187288241,
          0.022446208527355023,
          0.022977378914755778,
          0.023509587272233158,
          0.02404231491742853,
          0.02457503167133312,
          0.025107197396099713,
          0.025638263641074844,
          0.026167675389075263,
          0.026694872893735264,
          0.027219293597614314,
          0.02774037411969476,
          0.02825755229993017,
          0.0287702692876429,
          0.029277971659829725,
          0.02978011355482486,
          0.030276158806307404,
          0.03076558306233169,
          0.031247875873912635,
          0.03172254273772282,
          0.03218910707765333,
          0.03264711215036351,
          0.033096122860494195,
          0.033535727471937976,
          0.03396553920245456,
          0.03438519768996867,
          0.03479437032009817,
          0.03519275340580601,
          0.03558007321154953,
          0.03595608681589091,
          0.036320582808222764,
          0.036673381817028866,
          0.0370143368689255,
          0.03734333357959191,
          0.03766029017957623,
          0.03796515737983236,
          0.03825791808368313,
          0.038538586953690196,
          0.038807209843617206,
          0.03906386310728359,
          0.03930865279758782,
          0.03954171377032757,
          0.03976320870862087,
          0.03997332708473761,
          0.04017228407695401,
          0.040360319459640664,
          0.04053769648516816,
          0.04070470077636019,
          0.040861639248130875,
          0.041008839076610765,
          0.04114664673349281,
          0.04127542710251463,
          0.04139556269394867,
          0.04150745297169593,
          0.0416115138060922,
          0.04170817706384333,
          0.04179789034463078,
          0.0418811168718859,
          0.041958335543041854,
          0.04203004114226192,
          0.042096744716234584,
          0.042158974111145955,
          0.042217274666420654,
          0.04227221005828471,
          0.04232436328368809,
          0.04237433777264983,
          0.042422758614694966,
          0.04247027388275996,
          0.0425175560357919,
          0.0425653033792728,
          0.0426142415611007,
          0.04266512507867134,
          0.04271873877165757,
          0.04277589927389153,
          0.042837456396943814,
          0.0429042944174709,
          0.04297733324018761,
          0.043057529408418074,
          0.043145876934596074,
          0.043243407923825784,
          0.043351192964674296,
          0.043470341262745495,
          0.04360200049427046,
          0.04374735635893419,
          0.04390763181342308,
          0.044084085969707816,
          0.04427801264484888,
          0.04449073855210324,
          0.044723621126291656,
          0.04497804597973341,
          0.045255423988527534,
          0.04555718801253493,
          0.04588478925604883,
          0.046239693279803644,
          0.04662337567862326,
          0.047037317442613566,
          0.04748300002332255,
          0.04796190012969025,
          0.048475484281850424,
          0.04902520315389448,
          0.049612485739530796,
          0.050238733377139716,
          0.05090531367300422,
          0.051613554363464494,
          0.052364737158377486,
          0.053160091609537566,
          0.054000789048618,
          0.0548879366397063,
          0.05582257159162716,
          0.05680565557496027,
          0.05783806938797281,
          0.058920607914593616,
          0.060053975416067176,
          0.06123878119605102,
          0.062475535676672585,
          0.06376464692045516,
          0.06510641763008779,
          0.06650104265476577,
          0.06794860702829883,
          0.06944908456040254,
          0.07100233699859235,
          0.0726081137739155,
          0.07426605233942928,
          0.07597567910589922,
          0.0777364109746906,
          0.07954755746329693,
          0.08140832341443598,
          0.08331781227518431,
          0.08527502992825764,
          0.08727888905331757,
          0.08932821399212335,
          0.09142174608750597,
          0.09355814946253163,
          0.09573601720289651,
          0.09795387790256677,
          0.10021020252998289,
          0.10250341156981023,
          0.10483188239324275,
          0.10719395680829512,
          0.1095879487403357,
          0.11201215199234953,
          0.11446484803406462,
          0.11694431376913775,
          0.11944882923007125,
          0.12197668515140975,
          0.12452619037303951,
          0.12709567902706462,
          0.1296835174637506,
          0.13228811087437709,
          0.13490790957152093,
          0.13754141489024244,
          0.14018718467688054,
          0.14284383833560985,
          0.1455100614065635,
          0.148184609653135,
          0.15086631264001582,
          0.15355407678754376,
          0.15624688789202718,
          0.15894381310579828,
          0.1616440023748336,
          0.16434668933578883,
          0.16705119167823418,
          0.16975691098167026,
          0.17246333204055345,
          0.17517002169401957,
          0.17787662718023103,
          0.18058287403827894,
          0.18328856358330306,
          0.18599356998294758,
          0.18869783696541573,
          0.19140137419122544,
          0.19410425332226516,
          0.19680660382292933,
          0.1995086085289352,
          0.2022104990199212,
          0.20491255083207124,
          0.207615078546838,
          0.21031843079132465,
          0.21302298518507481,
          0.21572914326689951,
          0.2184373254339826,
          0.22114796592384375,
          0.2238615078678502,
          0.22657839844286548,
          0.2292990841453239,
          0.23202400620958488,
          0.23475359618982602,
          0.23748827172207362,
          0.2402284324802233,
          0.2429744563371248,
          0.2457266957390324,
          0.24848547429897214,
          0.25125108361188764,
          0.254023780291837,
          0.2568037832290259,
          0.25959127106214575,
          0.2623863798593218,
          0.2651892009990247,
          0.2679997792405618,
          0.27081811097225705,
          0.2736441426241905,
          0.2764777692313852,
          0.27931883313262795,
          0.28216712278968514,
          0.28502237171155376,
          0.28788425746852775,
          0.2907524007813065,
          0.2936263646710717,
          0.29650565365744896,
          0.2993897129924772,
          0.30227792792018987,
          0.3051696229530623,
          0.3080640611584633,
          0.3109604434502574,
          0.31385790788288737,
          0.31675552894752085,
          0.3196523168722088,
          0.32254721693038263,
          0.3254391087644265,
          0.32832680573342776,
          0.33120905429653863,
          0.3340845334455977,
          0.33695185420276047,
          0.3398095592008388,
          0.34265612236578735,
          0.34548994872232963,
          0.348309374344994,
          0.35111266647786815,
          0.35389802384711494,
          0.3566635771907246,
          0.3594073900300996,
          0.3621274597078423,
          0.3648217187155781,
          0.36748803633473787,
          0.37012422061201045,
          0.3727280206895996,
          0.3752971295085432,
          0.3778291869011406,
          0.38032178308606496,
          0.38277246257694125,
          0.38517872851217927,
          0.38753804741059655,
          0.38984785435393887,
          0.39210555859380586,
          0.3943085495767647,
          0.3964542033776339,
          0.3985398895270252,
          0.4005629782153699,
          0.4025208478517811,
          0.40441089295230864,
          0.406230532328433,
          0.40797721754310123,
          0.4096484415981974,
          0.4112417478141778,
          0.4127547388596621,
          0.41418508588610764,
          0.41553053772033155,
          0.4167889300656221,
          0.4179581946604865,
          0.4190363683427821,
          0.4200216019660285,
          0.42091216911418683,
          0.42170647456104243,
          0.42240306242062514,
          0.42300062393577303,
          0.4234980048530566,
          0.42389421233376634,
          0.42418842135255863,
          0.4243799805376136,
          0.42446841740878655,
          0.4244534429731925,
          0.4243349556409492,
          0.42411304442737,
          0.42378799141175755,
          0.42336027342699356,
          0.42283056295843846,
          0.4221997282350862,
          0.4214688325005216,
          0.42063913245594353,
          0.41971207587227793,
          0.4186892983732234,
          0.4175726193958987,
          0.41636403734053423,
          0.4150657239253791,
          0.41368001776763397,
          0.4122094172156974,
          0.41065657246238246,
          0.40902427697290156,
          0.4073154582653816,
          0.40553316808537637,
          0.4036805720193021,
          0.40176093859490897,
          0.3997776279197776,
          0.39773407991141224,
          0.3956338021747473,
          0.3934803575848101,
          0.3912773516338475,
          0.38902841960345563,
          0.3867372136231352,
          0.38440738967719784,
          0.3820425946221416,
          0.3796464532764149,
          0.37722255564398494,
          0.37477444433225376,
          0.3723056022236878,
          0.3698194404590326,
          0.36731928678816134,
          0.3648083743425366,
          0.36228983088088085,
          0.3597666685570362,
          0.35724177425612247,
          0.35471790054203794,
          0.3521976572560329,
          0.34968350380265134,
          0.3471777421556953,
          0.3446825106131026,
          0.3421997783257579,
          0.3397313406212716,
          0.3372788151397193,
          0.3348436387942308,
          0.33242706556518536,
          0.33003016513263334,
          0.3276538223474349,
          0.32529873753750627,
          0.3229654276415289,
          0.32065422815850153,
          0.318365295897627,
          0.3160986125092677,
          0.3138539887740433,
          0.31163106962364506,
          0.3094293398635936,
          0.30724813056498645,
          0.30508662608930487,
          0.30294387170754017,
          0.3008187817723341,
          0.29871014839946497,
          0.2966166506128711,
          0.2945368639055329,
          0.2924692701668752,
          0.29041226792596647,
          0.2883641828586641,
          0.28632327850598294,
          0.28428776715035176,
          0.2822558207961106,
          0.28022558220050187,
          0.2781951759016318,
          0.27616271919033386,
          0.27412633297359434,
          0.2720841524781848,
          0.2700343377443892,
          0.2679750838611943,
          0.26590463089603894,
          0.26382127347416906,
          0.2617233699648154,
          0.2596093512337966,
          0.2574777289247156,
          0.2553271032336774,
          0.2531561701453792,
          0.2509637281014905,
          0.2487486840754434,
          0.24651005903108503,
          0.24424699274604858,
          0.2419587479841993,
          0.23964471400507087,
          0.23730440940179065,
          0.23493748426260458,
          0.23254372165472229,
          0.23012303843277568,
          0.22767548537772866,
          0.22520124667553476,
          0.22270063874823928,
          0.2201741084534806,
          0.21762223067151282,
          0.21504570530187642,
          0.21244535369468706,
          0.2098221145441895,
          0.20717703927470252,
          0.20451128695134763,
          0.20182611875001277,
          0.19912289202283126,
          0.19640305399703656,
          0.19366813514639836,
          0.1909197422755426,
          0.1881595513582809,
          0.18538930017166874,
          0.18261078076782525,
          0.17982583182561587,
          0.17703633092411514,
          0.17424418677933654,
          0.1714513314850411,
          0.16865971279753622,
          0.16587128650324817,
          0.16308800890651837,
          0.16031182947354386,
          0.15754468366665514,
          0.1547884860012493,
          0.1520451233556517,
          0.1493164485619996,
          0.14660427430394954,
          0.14391036734460871,
          0.14123644310560063,
          0.13858416061563095,
          0.13595511784431707,
          0.13335084743440445,
          0.13077281284286435,
          0.12822240489870412,
          0.1257009387827242,
          0.12320965143184791,
          0.12074969936814088,
          0.11832215695015891,
          0.11592801504188104,
          0.11356818009221141,
          0.11124347361583674,
          0.10895463206417559,
          0.10670230707321968,
          0.10448706607327767,
          0.10230939324397637,
          0.10016969079639412,
          0.09806828056285294,
          0.0960054058737365,
          0.09398123369969917,
          0.09199585703680052,
          0.09004929751144075,
          0.08814150818149527,
          0.08627237650973199,
          0.08444172748545482,
          0.08264932687034589,
          0.08089488454467346,
          0.07917805793038021,
          0.07749845546807332,
          0.07585564012559284,
          0.07424913291661799,
          0.07267841640869577,
          0.07114293820111796,
          0.06964211435421884,
          0.06817533275291636,
          0.06674195638865979,
          0.06534132654535077,
          0.06397276587628326,
          0.06263558136066662,
          0.06132906712985261,
          0.06005250715496043,
          0.058805177789185335,
          0.057586350159645285,
          0.05639529240518041,
          0.055231271758041336,
          0.05409355646887456,
          0.05298141757583197,
          0.051894130519965796,
          0.050830976610338266,
          0.04979124434343217,
          0.048774230582515024,
          0.047779241603560174,
          0.04680559401515934,
          0.04585261556056988,
          0.044919645810624305,
          0.04400603675667501,
          0.04311115331306698,
          0.04223437373881713,
          0.04137508998823081,
          0.04053270800011573,
          0.039706647935054316,
          0.038896344369885295,
          0.038101246458118125,
          0.03732081806448164,
          0.0365545378811913,
          0.03580189953281996,
          0.035062411675890214,
          0.0343355980984819,
          0.03362099782427821,
          0.03291816522457129,
          0.032226670140831054,
          0.03154609801951514,
          0.03087605005988324,
          0.030216143374685596,
          0.029566011162735287,
          0.028925302891559968,
          0.028293684487572808,
          0.02767083853051196,
          0.027056464448284103,
          0.026450278707817576,
          0.02585201499709029,
          0.025261424393154708,
          0.024678275510733066,
          0.024102354625815562,
          0.0235334657686492,
          0.02297143078056341,
          0.02241608932923834,
          0.021867298877273216
         ],
         "yaxis": "y"
        },
        {
         "legendgroup": "Group 3",
         "marker": {
          "color": "#63F5EF"
         },
         "mode": "lines",
         "name": "Group 3",
         "showlegend": false,
         "type": "scatter",
         "x": [
          -0.2644357773861863,
          -0.25350339212863904,
          -0.2425710068710918,
          -0.2316386216135445,
          -0.22070623635599726,
          -0.20977385109845,
          -0.19884146584090273,
          -0.18790908058335548,
          -0.17697669532580823,
          -0.16604431006826098,
          -0.15511192481071373,
          -0.14417953955316648,
          -0.1332471542956192,
          -0.12231476903807195,
          -0.1113823837805247,
          -0.10044999852297745,
          -0.08951761326543017,
          -0.07858522800788292,
          -0.06765284275033567,
          -0.05672045749278842,
          -0.04578807223524117,
          -0.034855686977693895,
          -0.023923301720146645,
          -0.012990916462599367,
          -0.0020585312050521165,
          0.008873854052495134,
          0.019806239310042384,
          0.030738624567589634,
          0.041671009825136884,
          0.052603395082684135,
          0.06353578034023138,
          0.07446816559777869,
          0.08540055085532594,
          0.09633293611287319,
          0.10726532137042044,
          0.11819770662796769,
          0.12913009188551494,
          0.1400624771430622,
          0.15099486240060944,
          0.1619272476581567,
          0.17285963291570394,
          0.18379201817325125,
          0.1947244034307985,
          0.20565678868834575,
          0.216589173945893,
          0.22752155920344025,
          0.23845394446098755,
          0.2493863297185347,
          0.26031871497608206,
          0.2712511002336293,
          0.28218348549117656,
          0.2931158707487238,
          0.30404825600627106,
          0.3149806412638183,
          0.32591302652136556,
          0.3368454117789128,
          0.34777779703646006,
          0.3587101822940073,
          0.36964256755155456,
          0.3805749528091018,
          0.39150733806664906,
          0.4024397233241964,
          0.41337210858174367,
          0.4243044938392909,
          0.43523687909683817,
          0.4461692643543854,
          0.45710164961193267,
          0.4680340348694799,
          0.47896642012702717,
          0.4898988053845744,
          0.5008311906421217,
          0.5117635758996689,
          0.5226959611572162,
          0.5336283464147634,
          0.5445607316723107,
          0.5554931169298579,
          0.5664255021874052,
          0.5773578874449524,
          0.5882902727024997,
          0.5992226579600469,
          0.6101550432175942,
          0.6210874284751415,
          0.6320198137326888,
          0.642952198990236,
          0.6538845842477833,
          0.6648169695053305,
          0.6757493547628778,
          0.686681740020425,
          0.6976141252779723,
          0.7085465105355195,
          0.7194788957930668,
          0.730411281050614,
          0.7413436663081614,
          0.7522760515657085,
          0.7632084368232557,
          0.774140822080803,
          0.7850732073383504,
          0.7960055925958975,
          0.8069379778534449,
          0.817870363110992,
          0.8288027483685394,
          0.8397351336260865,
          0.8506675188836339,
          0.861599904141181,
          0.8725322893987284,
          0.8834646746562755,
          0.8943970599138229,
          0.90532944517137,
          0.9162618304289174,
          0.9271942156864645,
          0.9381266009440119,
          0.949058986201559,
          0.9599913714591064,
          0.9709237567166535,
          0.9818561419742009,
          0.992788527231748,
          1.0037209124892954,
          1.0146532977468425,
          1.02558568300439,
          1.036518068261937,
          1.0474504535194844,
          1.0583828387770315,
          1.0693152240345791,
          1.0802476092921263,
          1.0911799945496736,
          1.1021123798072208,
          1.1130447650647681,
          1.1239771503223153,
          1.1349095355798626,
          1.14584192083741,
          1.1567743060949571,
          1.1677066913525045,
          1.1786390766100516,
          1.189571461867599,
          1.2005038471251461,
          1.2114362323826935,
          1.2223686176402406,
          1.233301002897788,
          1.2442333881553351,
          1.2551657734128825,
          1.2660981586704296,
          1.277030543927977,
          1.2879629291855241,
          1.2988953144430715,
          1.3098276997006186,
          1.320760084958166,
          1.3316924702157131,
          1.3426248554732605,
          1.3535572407308076,
          1.364489625988355,
          1.3754220112459021,
          1.3863543965034495,
          1.3972867817609966,
          1.408219167018544,
          1.4191515522760911,
          1.4300839375336385,
          1.4410163227911856,
          1.451948708048733,
          1.4628810933062801,
          1.4738134785638275,
          1.4847458638213746,
          1.495678249078922,
          1.5066106343364694,
          1.5175430195940165,
          1.5284754048515639,
          1.539407790109111,
          1.5503401753666584,
          1.5612725606242055,
          1.5722049458817529,
          1.5831373311393,
          1.5940697163968474,
          1.6050021016543945,
          1.6159344869119419,
          1.626866872169489,
          1.6377992574270364,
          1.6487316426845835,
          1.6596640279421309,
          1.670596413199678,
          1.6815287984572254,
          1.6924611837147725,
          1.7033935689723199,
          1.714325954229867,
          1.7252583394874144,
          1.7361907247449615,
          1.747123110002509,
          1.7580554952600562,
          1.7689878805176034,
          1.7799202657751505,
          1.7908526510326976,
          1.8017850362902452,
          1.8127174215477924,
          1.8236498068053395,
          1.834582192062887,
          1.8455145773204342,
          1.8564469625779814,
          1.8673793478355285,
          1.878311733093076,
          1.8892441183506232,
          1.9001765036081704,
          1.9111088888657175,
          1.922041274123265,
          1.9329736593808122,
          1.9439060446383594,
          1.9548384298959065,
          1.965770815153454,
          1.9767032004110012,
          1.9876355856685484,
          1.9985679709260955,
          2.009500356183643,
          2.0204327414411902,
          2.0313651266987374,
          2.0422975119562845,
          2.053229897213832,
          2.0641622824713792,
          2.0750946677289264,
          2.0860270529864735,
          2.096959438244021,
          2.1078918235015682,
          2.1188242087591154,
          2.1297565940166625,
          2.14068897927421,
          2.1516213645317572,
          2.1625537497893044,
          2.1734861350468515,
          2.184418520304399,
          2.1953509055619462,
          2.2062832908194934,
          2.217215676077041,
          2.228148061334588,
          2.2390804465921352,
          2.2500128318496824,
          2.26094521710723,
          2.271877602364777,
          2.2828099876223242,
          2.2937423728798714,
          2.304674758137419,
          2.315607143394966,
          2.3265395286525132,
          2.3374719139100604,
          2.348404299167608,
          2.359336684425155,
          2.3702690696827022,
          2.3812014549402494,
          2.3921338401977974,
          2.4030662254553445,
          2.4139986107128917,
          2.424930995970439,
          2.4358633812279864,
          2.4467957664855335,
          2.4577281517430807,
          2.468660537000628,
          2.4795929222581754,
          2.4905253075157225,
          2.5014576927732697,
          2.512390078030817,
          2.5233224632883644,
          2.5342548485459115,
          2.5451872338034587,
          2.5561196190610063,
          2.5670520043185534,
          2.5779843895761005,
          2.5889167748336477,
          2.5998491600911953,
          2.6107815453487424,
          2.6217139306062895,
          2.6326463158638367,
          2.6435787011213843,
          2.6545110863789314,
          2.6654434716364785,
          2.6763758568940257,
          2.6873082421515733,
          2.6982406274091204,
          2.7091730126666675,
          2.7201053979242147,
          2.7310377831817623,
          2.7419701684393094,
          2.7529025536968565,
          2.7638349389544037,
          2.7747673242119513,
          2.7856997094694984,
          2.7966320947270455,
          2.8075644799845927,
          2.8184968652421403,
          2.8294292504996874,
          2.8403616357572345,
          2.8512940210147817,
          2.8622264062723293,
          2.8731587915298764,
          2.8840911767874235,
          2.895023562044971,
          2.9059559473025183,
          2.9168883325600654,
          2.9278207178176126,
          2.93875310307516,
          2.9496854883327073,
          2.9606178735902544,
          2.9715502588478016,
          2.982482644105349,
          2.9934150293628963,
          3.0043474146204434,
          3.0152797998779906,
          3.026212185135538,
          3.0371445703930853,
          3.0480769556506324,
          3.0590093409081796,
          3.069941726165727,
          3.0808741114232743,
          3.0918064966808214,
          3.1027388819383686,
          3.113671267195916,
          3.1246036524534633,
          3.1355360377110104,
          3.1464684229685576,
          3.157400808226105,
          3.1683331934836523,
          3.1792655787411994,
          3.1901979639987466,
          3.201130349256294,
          3.2120627345138413,
          3.2229951197713884,
          3.2339275050289356,
          3.244859890286483,
          3.2557922755440303,
          3.2667246608015774,
          3.277657046059125,
          3.288589431316672,
          3.2995218165742193,
          3.3104542018317664,
          3.321386587089314,
          3.332318972346861,
          3.3432513576044083,
          3.3541837428619554,
          3.365116128119503,
          3.37604851337705,
          3.3869808986345973,
          3.3979132838921444,
          3.408845669149692,
          3.419778054407239,
          3.4307104396647863,
          3.4416428249223334,
          3.452575210179881,
          3.463507595437428,
          3.4744399806949753,
          3.4853723659525224,
          3.49630475121007,
          3.507237136467617,
          3.5181695217251643,
          3.5291019069827114,
          3.540034292240259,
          3.550966677497806,
          3.5618990627553533,
          3.5728314480129004,
          3.583763833270448,
          3.594696218527995,
          3.6056286037855423,
          3.61656098904309,
          3.627493374300637,
          3.638425759558184,
          3.6493581448157313,
          3.660290530073279,
          3.671222915330826,
          3.682155300588373,
          3.6930876858459203,
          3.704020071103468,
          3.714952456361015,
          3.725884841618562,
          3.7368172268761093,
          3.7477496121336573,
          3.7586819973912045,
          3.7696143826487516,
          3.7805467679062987,
          3.791479153163846,
          3.802411538421393,
          3.81334392367894,
          3.8242763089364873,
          3.8352086941940344,
          3.8461410794515816,
          3.8570734647091296,
          3.8680058499666767,
          3.878938235224224,
          3.889870620481771,
          3.900803005739318,
          3.9117353909968653,
          3.9226677762544124,
          3.9336001615119605,
          3.9445325467695076,
          3.9554649320270547,
          3.966397317284602,
          3.977329702542149,
          3.988262087799696,
          3.9991944730572433,
          4.01012685831479,
          4.0210592435723385,
          4.031991628829886,
          4.042924014087433,
          4.05385639934498,
          4.064788784602527,
          4.075721169860074,
          4.086653555117621,
          4.097585940375168,
          4.1085183256327165,
          4.119450710890264,
          4.130383096147811,
          4.141315481405358,
          4.152247866662905,
          4.163180251920452,
          4.174112637177999,
          4.185045022435546,
          4.1959774076930945,
          4.206909792950642,
          4.217842178208189,
          4.228774563465736,
          4.239706948723283,
          4.25063933398083,
          4.261571719238377,
          4.272504104495924,
          4.2834364897534725,
          4.29436887501102,
          4.305301260268567,
          4.316233645526114,
          4.327166030783661,
          4.338098416041208,
          4.349030801298755,
          4.359963186556303,
          4.3708955718138505,
          4.381827957071398,
          4.392760342328945,
          4.403692727586492,
          4.414625112844039,
          4.425557498101586,
          4.436489883359133,
          4.447422268616681,
          4.4583546538742285,
          4.469287039131776,
          4.480219424389323,
          4.49115180964687,
          4.502084194904417,
          4.513016580161964,
          4.523948965419511,
          4.534881350677059,
          4.5458137359346065,
          4.556746121192154,
          4.567678506449701,
          4.578610891707248,
          4.589543276964795,
          4.600475662222342,
          4.611408047479889,
          4.622340432737437,
          4.6332728179949845,
          4.644205203252532,
          4.655137588510079,
          4.666069973767626,
          4.677002359025173,
          4.68793474428272,
          4.698867129540268,
          4.709799514797815,
          4.7207319000553625,
          4.73166428531291,
          4.742596670570457,
          4.753529055828004,
          4.764461441085551,
          4.775393826343098,
          4.786326211600646,
          4.797258596858193,
          4.8081909821157405,
          4.819123367373288,
          4.830055752630835,
          4.840988137888382,
          4.851920523145929,
          4.862852908403476,
          4.873785293661024,
          4.884717678918571,
          4.8956500641761185,
          4.906582449433666,
          4.917514834691213,
          4.92844721994876,
          4.939379605206307,
          4.950311990463854,
          4.961244375721402,
          4.972176760978949,
          4.9831091462364965,
          4.994041531494044,
          5.004973916751591,
          5.015906302009138,
          5.026838687266685,
          5.037771072524234,
          5.048703457781781,
          5.059635843039328,
          5.070568228296875,
          5.0815006135544225,
          5.09243299881197,
          5.103365384069517,
          5.114297769327064,
          5.125230154584612,
          5.136162539842159,
          5.147094925099706,
          5.158027310357253,
          5.1689596956148005,
          5.179892080872348,
          5.190824466129895
         ],
         "xaxis": "x",
         "y": [
          0.02998684570249553,
          0.030969991396834505,
          0.03197206752966037,
          0.03299308127499693,
          0.03403304100782521,
          0.03509195730942136,
          0.03616984398114389,
          0.03726671906097848,
          0.03838260583693099,
          0.039517533851173424,
          0.04067153988867768,
          0.041844668943934744,
          0.04303697515924428,
          0.04424852272797474,
          0.04547938675613778,
          0.046729654075594075,
          0.0479994240022076,
          0.04928880903229769,
          0.0505979354707945,
          0.051926943984594,
          0.05327599007472251,
          0.05464524446106434,
          0.05603489337357882,
          0.057445138744128134,
          0.058876198293264376,
          0.06032830550657127,
          0.061801709495435043,
          0.06329667473741654,
          0.06481348069172573,
          0.06635242128564842,
          0.0679138042681537,
          0.06949795042731113,
          0.0711051926685746,
          0.0727358749514464,
          0.0743903510825146,
          0.07606898336336952,
          0.07777214109244326,
          0.0795001989203904,
          0.08125353505922533,
          0.08303252934607436,
          0.08483756116306436,
          0.08666900721558313,
          0.08852723917187978,
          0.0904126211677643,
          0.09232550718097157,
          0.09426623828061807,
          0.09623513975806722,
          0.09823251814644747,
          0.1002586581370302,
          0.1023138194016658,
          0.10439823333150247,
          0.10651209970325233,
          0.1086555832853427,
          0.11082881039736162,
          0.11303186543730001,
          0.11526478739216965,
          0.1175275663486545,
          0.119820140021504,
          0.1221423903183972,
          0.12449413996098814,
          0.12687514918276147,
          0.12928511252518546,
          0.13172365575441766,
          0.13419033292149127,
          0.1366846235894784,
          0.13920593025155337,
          0.14175357596418417,
          0.14432680221981284,
          0.1469247670833594,
          0.14954654361667422,
          0.1521911186146596,
          0.15485739167616752,
          0.15754417463196452,
          0.16025019135100319,
          0.16297407794497354,
          0.16571438338959538,
          0.16846957057939135,
          0.171238017830694,
          0.1740180208454617,
          0.17680779514605457,
          0.17960547898849277,
          0.18240913675889325,
          0.18521676285476812,
          0.18802628604968732,
          0.19083557433647838,
          0.193642440240691,
          0.19644464659250618,
          0.19923991274164543,
          0.20202592119619261,
          0.20480032466256548,
          0.2075607534602499,
          0.2103048232813258,
          0.21303014326134373,
          0.21573432432476633,
          0.2184149877650135,
          0.2210697740161865,
          0.2236963515708147,
          0.22629242599552163,
          0.22885574899435457,
          0.23138412746772044,
          0.2338754325134168,
          0.23632760831519464,
          0.23873868086364375,
          0.24110676645396184,
          0.24343007990539894,
          0.2457069424478318,
          0.24793578922204595,
          0.25011517634189007,
          0.25224378746848564,
          0.2543204398491604,
          0.25634408977665907,
          0.2583138374275048,
          0.2602289310420738,
          0.2620887704129972,
          0.26389290965289336,
          0.26564105921709386,
          0.26733308716196313,
          0.2689690196245413,
          0.27054904051454426,
          0.27207349041517853,
          0.27354286469472217,
          0.2749578108363343,
          0.2763191249990501,
          0.2776277478283216,
          0.2788847595397391,
          0.28009137430468384,
          0.2812489339715298,
          0.28235890116062223,
          0.28342285177556675,
          0.2844424669773011,
          0.285419524670992,
          0.2863558905589382,
          0.2872535088153631,
          0.2881143924412167,
          0.28894061335885046,
          0.28973429230767817,
          0.29049758860269165,
          0.29123268981792166,
          0.2919418014566784,
          0.2926271366696416,
          0.29329090608061276,
          0.2939353077780347,
          0.2945625175282243,
          0.29517467926368113,
          0.29577389589687336,
          0.296362220506592,
          0.2969416479403172,
          0.29751410687214475,
          0.2980814523516697,
          0.29864545887488925,
          0.2992078140037228,
          0.2997701125561451,
          0.3003338513843211,
          0.3009004247534766,
          0.3014711203296407,
          0.30204711577987253,
          0.3026294759841862,
          0.3032191508541382,
          0.30381697374901095,
          0.3044236604767039,
          0.30503980886289733,
          0.3056658988687923,
          0.3063022932347802,
          0.30694923862477363,
          0.3076068672436629,
          0.3082751988984385,
          0.30895414347197164,
          0.30964350377725713,
          0.31034297875909866,
          0.31105216700975064,
          0.3117705705649192,
          0.31249759894674267,
          0.3132325734209107,
          0.31397473143592347,
          0.31472323121360374,
          0.31547715646135105,
          0.3162355211782081,
          0.3169972745286107,
          0.3177613057596318,
          0.31852644913963013,
          0.3192914888983889,
          0.32005516415109425,
          0.32081617379079386,
          0.3215731813362611,
          0.32232481972447447,
          0.323069696039126,
          0.3238063961686856,
          0.32453348938958276,
          0.3252495328719311,
          0.32595307610692903,
          0.32664266525662394,
          0.3273168474280547,
          0.3279741748749224,
          0.32861320913084147,
          0.32923252507890943,
          0.3298307149627623,
          0.33040639234450175,
          0.3309581960148308,
          0.33148479386048774,
          0.33198488669356047,
          0.3324572120465697,
          0.3329005479362944,
          0.333313716598215,
          0.3336955881921855,
          0.33404508447851883,
          0.3343611824621263,
          0.3346429180006901,
          0.3348893893711077,
          0.33509976078664994,
          0.33527326585544054,
          0.335409210969037,
          0.3355069786080658,
          0.3355660305501129,
          0.3355859109633724,
          0.33556624936796836,
          0.3355067634453953,
          0.3354072616752199,
          0.3352676457770265,
          0.3350879129346527,
          0.33486815777900236,
          0.3346085741052399,
          0.3343094562998617,
          0.3339712004531609,
          0.3335943051328321,
          0.333179371794982,
          0.332727104809629,
          0.3322383110788304,
          0.3317138992269432,
          0.33115487834415036,
          0.3305623562662729,
          0.32993753737606185,
          0.32928171991353666,
          0.32859629278559993,
          0.32788273186799105,
          0.3271425957956872,
          0.3263775212410951,
          0.3255892176827434,
          0.32477946167068644,
          0.3239500905984448,
          0.32310299599497494,
          0.3222401163538849,
          0.3213634295208568,
          0.3204749446639384,
          0.3195766938550579,
          0.3186707232946843,
          0.31775908421506394,
          0.31684382350076973,
          0.3159269740684989,
          0.31501054505099846,
          0.3140965118327356,
          0.3131868059874196,
          0.3122833051696591,
          0.3113878230149407,
          0.310502099103667,
          0.30962778904620375,
          0.30876645474673636,
          0.30791955490420353,
          0.3070884358086475,
          0.3062743224910036,
          0.3054783102836156,
          0.30470135684763944,
          0.30394427472193347,
          0.30320772444610467,
          0.30249220830801926,
          0.30179806476335563,
          0.3011254635716731,
          0.3004744016900011,
          0.2998446999611442,
          0.2992360006297838,
          0.29864776571504253,
          0.29807927626349634,
          0.2975296325017181,
          0.29699775490231317,
          0.29648238617213896,
          0.29598209416598514,
          0.2954952757234826,
          0.295020161421456,
          0.29455482122835747,
          0.2940971710418533,
          0.29364498008516743,
          0.29319587913237855,
          0.29274736952763886,
          0.2922968329582132,
          0.29184154193640444,
          0.2913786709408309,
          0.2909053081632441,
          0.29041846780308817,
          0.2899151028483872,
          0.28939211827830685,
          0.28884638461990364,
          0.2882747517891612,
          0.287674063144456,
          0.2870411696790874,
          0.28637294427847865,
          0.2856662959670987,
          0.28491818407009,
          0.284125632215001,
          0.28328574209991336,
          0.2823957069556253,
          0.2814528246313835,
          0.28045451023592993,
          0.2793983082683416,
          0.27828190417625337,
          0.27710313528256225,
          0.27586000102556385,
          0.2745506724616635,
          0.27317350098428783,
          0.2717270262173633,
          0.2702099830467094,
          0.2686213077578446,
          0.26696014325402845,
          0.26522584333377597,
          0.2634179760125866,
          0.2615363258791564,
          0.2595808954818722,
          0.25755190574686004,
          0.25544979543426827,
          0.25327521964474203,
          0.25102904739317183,
          0.24871235827174426,
          0.24632643822904998,
          0.24387277449647288,
          0.24135304969730417,
          0.23876913517792467,
          0.2361230836040002,
          0.23341712086789307,
          0.23065363735639652,
          0.22783517863046346,
          0.22496443557076087,
          0.22204423404469953,
          0.21907752415200357,
          0.21606736910693652,
          0.21301693381596734,
          0.20992947320996508,
          0.2068083203899441,
          0.20365687464498794,
          0.20047858940021765,
          0.19727696015161406,
          0.1940555124431353,
          0.19081778993990847,
          0.18756734264937108,
          0.1843077153400609,
          0.1810424362053915,
          0.1777750058171654,
          0.17450888641083734,
          0.17124749154165117,
          0.16799417614775006,
          0.1647522270532665,
          0.16152485394119526,
          0.15831518082263646,
          0.1551262380257232,
          0.15196095472429053,
          0.14882215202309843,
          0.14571253661319847,
          0.14263469500789566,
          0.13959108836665912,
          0.13658404791135498,
          0.13361577093627497,
          0.13068831741066658,
          0.12780360716982364,
          0.1249634176882852,
          0.12216938242632469,
          0.1194229897387067,
          0.11672558233262532,
          0.11407835725984833,
          0.11148236642635476,
          0.10893851760118888,
          0.10644757590484097,
          0.10401016575622485,
          0.10162677325622828,
          0.09929774898488447,
          0.0970233111884235,
          0.094803549331825,
          0.09263842799199042,
          0.09052779106628153,
          0.08847136627092708,
          0.08646876990366525,
          0.08451951184497299,
          0.08262300077231255,
          0.08077854956199476,
          0.07898538085352613,
          0.07724263275163742,
          0.07554936464160406,
          0.07390456309393799,
          0.07230714783506148,
          0.07075597776115317,
          0.06924985697297498,
          0.06778754081016039,
          0.06636774186413195,
          0.06498913594954729,
          0.06365036801492238,
          0.062350057973851965,
          0.06108680643904047,
          0.05985920034216235,
          0.058665818423390886,
          0.057505236575268896,
          0.0563760330264342,
          0.05527679335156794,
          0.054206115294790615,
          0.053162613394601356,
          0.052144923399328004,
          0.05115170646293986,
          0.050181653111960864,
          0.04923348697511819,
          0.04830596826826047,
          0.047397897027987614,
          0.04650811608834714,
          0.04563551379586986,
          0.0447790264591399,
          0.04393764053002059,
          0.04311039451458729,
          0.042296380612748284,
          0.04149474608646512,
          0.04070469435741289,
          0.03992548583584575,
          0.03915643848335205,
          0.03839692811309147,
          0.03764638843200911,
          0.03690431083039977,
          0.03617024392506987,
          0.035443792863182444,
          0.03472461839469776,
          0.03401243572211187,
          0.03330701313695938,
          0.03260817045327212,
          0.03191577724887254,
          0.031229750926027058,
          0.03055005460358232,
          0.02987669485325771,
          0.029209719293263676,
          0.028549214052857413,
          0.027895301121830092,
          0.02724813559924219,
          0.02660790285598157,
          0.025974815625915054,
          0.0253491110405299,
          0.024731047622023498,
          0.024120902249791593,
          0.023518967115188215,
          0.02292554667928701,
          0.022340954648160875,
          0.02176551097991625,
          0.021199538937375393,
          0.020643362199889527,
          0.020097302047295543,
          0.019561674628499632,
          0.01903678832658418,
          0.018522941231695338,
          0.018020418732279844,
          0.017529491234503813,
          0.017050412018910322,
          0.01658341524255759,
          0.016128714094031882,
          0.01568649910785389,
          0.015256936643896492,
          0.014840167536514452,
          0.01443630591715271,
          0.014045438213259917,
          0.0136676223253878,
          0.013302886983412912,
          0.01295123128187985,
          0.012612624393537641,
          0.012287005459229887,
          0.011974283651408861,
          0.011674338407677516,
          0.011387019829927904,
          0.011112149243840855,
          0.010849519912747267,
          0.010598897899127002,
          0.010360023066342565,
          0.010132610212573456,
          0.009916350328337233,
          0.009710911968456542,
          0.009515942728861857,
          0.00933107081820728,
          0.00915590671392431,
          0.008990044892048767,
          0.008833065619927092,
          0.008684536800743865,
          0.008544015858711122,
          0.0084110516537224,
          0.008285186414300873,
          0.00816595767775934,
          0.008052900226640618,
          0.007945548010717998,
          0.007843436044104913,
          0.007746102267349734,
          0.007653089364771814,
          0.007563946527727858,
          0.0074782311549778935,
          0.007395510481846618,
          0.00731536313044354,
          0.007237380573810895,
          0.007161168507507713,
          0.0070863481228070424,
          0.007012557276377153,
          0.006939451552031535,
          0.00686670521086211,
          0.0067940120268103615,
          0.006721086005477261
         ],
         "yaxis": "y"
        }
       ],
       "layout": {
        "barmode": "overlay",
        "hovermode": "closest",
        "legend": {
         "traceorder": "reversed"
        },
        "template": {
         "data": {
          "bar": [
           {
            "error_x": {
             "color": "#2a3f5f"
            },
            "error_y": {
             "color": "#2a3f5f"
            },
            "marker": {
             "line": {
              "color": "#E5ECF6",
              "width": 0.5
             },
             "pattern": {
              "fillmode": "overlay",
              "size": 10,
              "solidity": 0.2
             }
            },
            "type": "bar"
           }
          ],
          "barpolar": [
           {
            "marker": {
             "line": {
              "color": "#E5ECF6",
              "width": 0.5
             },
             "pattern": {
              "fillmode": "overlay",
              "size": 10,
              "solidity": 0.2
             }
            },
            "type": "barpolar"
           }
          ],
          "carpet": [
           {
            "aaxis": {
             "endlinecolor": "#2a3f5f",
             "gridcolor": "white",
             "linecolor": "white",
             "minorgridcolor": "white",
             "startlinecolor": "#2a3f5f"
            },
            "baxis": {
             "endlinecolor": "#2a3f5f",
             "gridcolor": "white",
             "linecolor": "white",
             "minorgridcolor": "white",
             "startlinecolor": "#2a3f5f"
            },
            "type": "carpet"
           }
          ],
          "choropleth": [
           {
            "colorbar": {
             "outlinewidth": 0,
             "ticks": ""
            },
            "type": "choropleth"
           }
          ],
          "contour": [
           {
            "colorbar": {
             "outlinewidth": 0,
             "ticks": ""
            },
            "colorscale": [
             [
              0,
              "#0d0887"
             ],
             [
              0.1111111111111111,
              "#46039f"
             ],
             [
              0.2222222222222222,
              "#7201a8"
             ],
             [
              0.3333333333333333,
              "#9c179e"
             ],
             [
              0.4444444444444444,
              "#bd3786"
             ],
             [
              0.5555555555555556,
              "#d8576b"
             ],
             [
              0.6666666666666666,
              "#ed7953"
             ],
             [
              0.7777777777777778,
              "#fb9f3a"
             ],
             [
              0.8888888888888888,
              "#fdca26"
             ],
             [
              1,
              "#f0f921"
             ]
            ],
            "type": "contour"
           }
          ],
          "contourcarpet": [
           {
            "colorbar": {
             "outlinewidth": 0,
             "ticks": ""
            },
            "type": "contourcarpet"
           }
          ],
          "heatmap": [
           {
            "colorbar": {
             "outlinewidth": 0,
             "ticks": ""
            },
            "colorscale": [
             [
              0,
              "#0d0887"
             ],
             [
              0.1111111111111111,
              "#46039f"
             ],
             [
              0.2222222222222222,
              "#7201a8"
             ],
             [
              0.3333333333333333,
              "#9c179e"
             ],
             [
              0.4444444444444444,
              "#bd3786"
             ],
             [
              0.5555555555555556,
              "#d8576b"
             ],
             [
              0.6666666666666666,
              "#ed7953"
             ],
             [
              0.7777777777777778,
              "#fb9f3a"
             ],
             [
              0.8888888888888888,
              "#fdca26"
             ],
             [
              1,
              "#f0f921"
             ]
            ],
            "type": "heatmap"
           }
          ],
          "heatmapgl": [
           {
            "colorbar": {
             "outlinewidth": 0,
             "ticks": ""
            },
            "colorscale": [
             [
              0,
              "#0d0887"
             ],
             [
              0.1111111111111111,
              "#46039f"
             ],
             [
              0.2222222222222222,
              "#7201a8"
             ],
             [
              0.3333333333333333,
              "#9c179e"
             ],
             [
              0.4444444444444444,
              "#bd3786"
             ],
             [
              0.5555555555555556,
              "#d8576b"
             ],
             [
              0.6666666666666666,
              "#ed7953"
             ],
             [
              0.7777777777777778,
              "#fb9f3a"
             ],
             [
              0.8888888888888888,
              "#fdca26"
             ],
             [
              1,
              "#f0f921"
             ]
            ],
            "type": "heatmapgl"
           }
          ],
          "histogram": [
           {
            "marker": {
             "pattern": {
              "fillmode": "overlay",
              "size": 10,
              "solidity": 0.2
             }
            },
            "type": "histogram"
           }
          ],
          "histogram2d": [
           {
            "colorbar": {
             "outlinewidth": 0,
             "ticks": ""
            },
            "colorscale": [
             [
              0,
              "#0d0887"
             ],
             [
              0.1111111111111111,
              "#46039f"
             ],
             [
              0.2222222222222222,
              "#7201a8"
             ],
             [
              0.3333333333333333,
              "#9c179e"
             ],
             [
              0.4444444444444444,
              "#bd3786"
             ],
             [
              0.5555555555555556,
              "#d8576b"
             ],
             [
              0.6666666666666666,
              "#ed7953"
             ],
             [
              0.7777777777777778,
              "#fb9f3a"
             ],
             [
              0.8888888888888888,
              "#fdca26"
             ],
             [
              1,
              "#f0f921"
             ]
            ],
            "type": "histogram2d"
           }
          ],
          "histogram2dcontour": [
           {
            "colorbar": {
             "outlinewidth": 0,
             "ticks": ""
            },
            "colorscale": [
             [
              0,
              "#0d0887"
             ],
             [
              0.1111111111111111,
              "#46039f"
             ],
             [
              0.2222222222222222,
              "#7201a8"
             ],
             [
              0.3333333333333333,
              "#9c179e"
             ],
             [
              0.4444444444444444,
              "#bd3786"
             ],
             [
              0.5555555555555556,
              "#d8576b"
             ],
             [
              0.6666666666666666,
              "#ed7953"
             ],
             [
              0.7777777777777778,
              "#fb9f3a"
             ],
             [
              0.8888888888888888,
              "#fdca26"
             ],
             [
              1,
              "#f0f921"
             ]
            ],
            "type": "histogram2dcontour"
           }
          ],
          "mesh3d": [
           {
            "colorbar": {
             "outlinewidth": 0,
             "ticks": ""
            },
            "type": "mesh3d"
           }
          ],
          "parcoords": [
           {
            "line": {
             "colorbar": {
              "outlinewidth": 0,
              "ticks": ""
             }
            },
            "type": "parcoords"
           }
          ],
          "pie": [
           {
            "automargin": true,
            "type": "pie"
           }
          ],
          "scatter": [
           {
            "fillpattern": {
             "fillmode": "overlay",
             "size": 10,
             "solidity": 0.2
            },
            "type": "scatter"
           }
          ],
          "scatter3d": [
           {
            "line": {
             "colorbar": {
              "outlinewidth": 0,
              "ticks": ""
             }
            },
            "marker": {
             "colorbar": {
              "outlinewidth": 0,
              "ticks": ""
             }
            },
            "type": "scatter3d"
           }
          ],
          "scattercarpet": [
           {
            "marker": {
             "colorbar": {
              "outlinewidth": 0,
              "ticks": ""
             }
            },
            "type": "scattercarpet"
           }
          ],
          "scattergeo": [
           {
            "marker": {
             "colorbar": {
              "outlinewidth": 0,
              "ticks": ""
             }
            },
            "type": "scattergeo"
           }
          ],
          "scattergl": [
           {
            "marker": {
             "colorbar": {
              "outlinewidth": 0,
              "ticks": ""
             }
            },
            "type": "scattergl"
           }
          ],
          "scattermapbox": [
           {
            "marker": {
             "colorbar": {
              "outlinewidth": 0,
              "ticks": ""
             }
            },
            "type": "scattermapbox"
           }
          ],
          "scatterpolar": [
           {
            "marker": {
             "colorbar": {
              "outlinewidth": 0,
              "ticks": ""
             }
            },
            "type": "scatterpolar"
           }
          ],
          "scatterpolargl": [
           {
            "marker": {
             "colorbar": {
              "outlinewidth": 0,
              "ticks": ""
             }
            },
            "type": "scatterpolargl"
           }
          ],
          "scatterternary": [
           {
            "marker": {
             "colorbar": {
              "outlinewidth": 0,
              "ticks": ""
             }
            },
            "type": "scatterternary"
           }
          ],
          "surface": [
           {
            "colorbar": {
             "outlinewidth": 0,
             "ticks": ""
            },
            "colorscale": [
             [
              0,
              "#0d0887"
             ],
             [
              0.1111111111111111,
              "#46039f"
             ],
             [
              0.2222222222222222,
              "#7201a8"
             ],
             [
              0.3333333333333333,
              "#9c179e"
             ],
             [
              0.4444444444444444,
              "#bd3786"
             ],
             [
              0.5555555555555556,
              "#d8576b"
             ],
             [
              0.6666666666666666,
              "#ed7953"
             ],
             [
              0.7777777777777778,
              "#fb9f3a"
             ],
             [
              0.8888888888888888,
              "#fdca26"
             ],
             [
              1,
              "#f0f921"
             ]
            ],
            "type": "surface"
           }
          ],
          "table": [
           {
            "cells": {
             "fill": {
              "color": "#EBF0F8"
             },
             "line": {
              "color": "white"
             }
            },
            "header": {
             "fill": {
              "color": "#C8D4E3"
             },
             "line": {
              "color": "white"
             }
            },
            "type": "table"
           }
          ]
         },
         "layout": {
          "annotationdefaults": {
           "arrowcolor": "#2a3f5f",
           "arrowhead": 0,
           "arrowwidth": 1
          },
          "autotypenumbers": "strict",
          "coloraxis": {
           "colorbar": {
            "outlinewidth": 0,
            "ticks": ""
           }
          },
          "colorscale": {
           "diverging": [
            [
             0,
             "#8e0152"
            ],
            [
             0.1,
             "#c51b7d"
            ],
            [
             0.2,
             "#de77ae"
            ],
            [
             0.3,
             "#f1b6da"
            ],
            [
             0.4,
             "#fde0ef"
            ],
            [
             0.5,
             "#f7f7f7"
            ],
            [
             0.6,
             "#e6f5d0"
            ],
            [
             0.7,
             "#b8e186"
            ],
            [
             0.8,
             "#7fbc41"
            ],
            [
             0.9,
             "#4d9221"
            ],
            [
             1,
             "#276419"
            ]
           ],
           "sequential": [
            [
             0,
             "#0d0887"
            ],
            [
             0.1111111111111111,
             "#46039f"
            ],
            [
             0.2222222222222222,
             "#7201a8"
            ],
            [
             0.3333333333333333,
             "#9c179e"
            ],
            [
             0.4444444444444444,
             "#bd3786"
            ],
            [
             0.5555555555555556,
             "#d8576b"
            ],
            [
             0.6666666666666666,
             "#ed7953"
            ],
            [
             0.7777777777777778,
             "#fb9f3a"
            ],
            [
             0.8888888888888888,
             "#fdca26"
            ],
            [
             1,
             "#f0f921"
            ]
           ],
           "sequentialminus": [
            [
             0,
             "#0d0887"
            ],
            [
             0.1111111111111111,
             "#46039f"
            ],
            [
             0.2222222222222222,
             "#7201a8"
            ],
            [
             0.3333333333333333,
             "#9c179e"
            ],
            [
             0.4444444444444444,
             "#bd3786"
            ],
            [
             0.5555555555555556,
             "#d8576b"
            ],
            [
             0.6666666666666666,
             "#ed7953"
            ],
            [
             0.7777777777777778,
             "#fb9f3a"
            ],
            [
             0.8888888888888888,
             "#fdca26"
            ],
            [
             1,
             "#f0f921"
            ]
           ]
          },
          "colorway": [
           "#636efa",
           "#EF553B",
           "#00cc96",
           "#ab63fa",
           "#FFA15A",
           "#19d3f3",
           "#FF6692",
           "#B6E880",
           "#FF97FF",
           "#FECB52"
          ],
          "font": {
           "color": "#2a3f5f"
          },
          "geo": {
           "bgcolor": "white",
           "lakecolor": "white",
           "landcolor": "#E5ECF6",
           "showlakes": true,
           "showland": true,
           "subunitcolor": "white"
          },
          "hoverlabel": {
           "align": "left"
          },
          "hovermode": "closest",
          "mapbox": {
           "style": "light"
          },
          "paper_bgcolor": "white",
          "plot_bgcolor": "#E5ECF6",
          "polar": {
           "angularaxis": {
            "gridcolor": "white",
            "linecolor": "white",
            "ticks": ""
           },
           "bgcolor": "#E5ECF6",
           "radialaxis": {
            "gridcolor": "white",
            "linecolor": "white",
            "ticks": ""
           }
          },
          "scene": {
           "xaxis": {
            "backgroundcolor": "#E5ECF6",
            "gridcolor": "white",
            "gridwidth": 2,
            "linecolor": "white",
            "showbackground": true,
            "ticks": "",
            "zerolinecolor": "white"
           },
           "yaxis": {
            "backgroundcolor": "#E5ECF6",
            "gridcolor": "white",
            "gridwidth": 2,
            "linecolor": "white",
            "showbackground": true,
            "ticks": "",
            "zerolinecolor": "white"
           },
           "zaxis": {
            "backgroundcolor": "#E5ECF6",
            "gridcolor": "white",
            "gridwidth": 2,
            "linecolor": "white",
            "showbackground": true,
            "ticks": "",
            "zerolinecolor": "white"
           }
          },
          "shapedefaults": {
           "line": {
            "color": "#2a3f5f"
           }
          },
          "ternary": {
           "aaxis": {
            "gridcolor": "white",
            "linecolor": "white",
            "ticks": ""
           },
           "baxis": {
            "gridcolor": "white",
            "linecolor": "white",
            "ticks": ""
           },
           "bgcolor": "#E5ECF6",
           "caxis": {
            "gridcolor": "white",
            "linecolor": "white",
            "ticks": ""
           }
          },
          "title": {
           "x": 0.05
          },
          "xaxis": {
           "automargin": true,
           "gridcolor": "white",
           "linecolor": "white",
           "ticks": "",
           "title": {
            "standoff": 15
           },
           "zerolinecolor": "white",
           "zerolinewidth": 2
          },
          "yaxis": {
           "automargin": true,
           "gridcolor": "white",
           "linecolor": "white",
           "ticks": "",
           "title": {
            "standoff": 15
           },
           "zerolinecolor": "white",
           "zerolinewidth": 2
          }
         }
        },
        "title": {
         "text": "Hist and Curve Plot"
        },
        "xaxis": {
         "anchor": "y2",
         "domain": [
          0,
          1
         ],
         "zeroline": false
        },
        "yaxis": {
         "anchor": "free",
         "domain": [
          0,
          1
         ],
         "position": 0
        }
       }
      }
     },
     "metadata": {},
     "output_type": "display_data"
    }
   ],
   "source": [
    "import plotly.figure_factory as ff\n",
    "import numpy as np\n",
    "\n",
    "x1 = np.random.randn(200) - 2\n",
    "x2 = np.random.randn(200)\n",
    "x3 = np.random.randn(200) + 2\n",
    "\n",
    "hist_data = [x1, x2, x3]\n",
    "\n",
    "group_labels = ['Group 1', 'Group 2', 'Group 3']\n",
    "colors = ['#A56CC1', '#A6ACEC', '#63F5EF']\n",
    "\n",
    "# Create distplot with curve_type set to 'normal'\n",
    "fig = ff.create_distplot(hist_data, group_labels, colors=colors,\n",
    "                         bin_size=.2, show_rug=False)\n",
    "\n",
    "# Add title\n",
    "fig.update_layout(title_text='Hist and Curve Plot')\n",
    "fig.show()"
   ]
  },
  {
   "cell_type": "code",
   "execution_count": 14,
   "metadata": {},
   "outputs": [
    {
     "data": {
      "application/vnd.plotly.v1+json": {
       "config": {
        "plotlyServerURL": "https://plot.ly"
       },
       "data": [
        {
         "alignmentgroup": "True",
         "bingroup": "x",
         "hovertemplate": "gender_name=Female<br>age=%{x}<br>count=%{y}<extra></extra>",
         "legendgroup": "Female",
         "marker": {
          "color": "#F78FE4",
          "pattern": {
           "shape": ""
          }
         },
         "name": "Female",
         "offsetgroup": "Female",
         "orientation": "v",
         "showlegend": true,
         "type": "histogram",
         "x": [
          21,
          24,
          25,
          23,
          21,
          23,
          22,
          25,
          26,
          26,
          21,
          27,
          21,
          27,
          25,
          23,
          22,
          26,
          22,
          23,
          24,
          27,
          30,
          21,
          25,
          26,
          27,
          23,
          24,
          23,
          22,
          null,
          null,
          29,
          28,
          26,
          24,
          27,
          23,
          34,
          22,
          23,
          26,
          27,
          28,
          25,
          35,
          32,
          30,
          22,
          23,
          23,
          27,
          23,
          25,
          29,
          29,
          20,
          21,
          20,
          21,
          21,
          21,
          19,
          20,
          21,
          27,
          24,
          23,
          26,
          null,
          24,
          33,
          23,
          24,
          36,
          26,
          27,
          28,
          31,
          28,
          27,
          28,
          27,
          27,
          30,
          28,
          29,
          23,
          28,
          22,
          35,
          30,
          24,
          22,
          22,
          24,
          24,
          27,
          25,
          24,
          23,
          30,
          25,
          25,
          22,
          22,
          26,
          23,
          31,
          23,
          25,
          28,
          29,
          28,
          27,
          25,
          22,
          23,
          24,
          34,
          27,
          34,
          26,
          29,
          26,
          28,
          33,
          22,
          26,
          24,
          24,
          25,
          25,
          27,
          26,
          29,
          26,
          26,
          32,
          28,
          26,
          24,
          24,
          23,
          23,
          25,
          30,
          30,
          28,
          21,
          22,
          24,
          35,
          34,
          21,
          33,
          28,
          29,
          22,
          27,
          34,
          25,
          23,
          30,
          36,
          29,
          30,
          29,
          22,
          34,
          23,
          33,
          32,
          26,
          24,
          null,
          26,
          21,
          33,
          31,
          35,
          29,
          25,
          22,
          24,
          27,
          27,
          26,
          26,
          24,
          38,
          33,
          24,
          28,
          27,
          23,
          25,
          26,
          25,
          24,
          21,
          30,
          28,
          26,
          22,
          24,
          33,
          25,
          25,
          29,
          25,
          28,
          22,
          25,
          22,
          27,
          28,
          30,
          27,
          22,
          23,
          23,
          23,
          29,
          27,
          24,
          29,
          55,
          29,
          26,
          24,
          24,
          25,
          25,
          29,
          30,
          25,
          34,
          30,
          27,
          25,
          27,
          26,
          27,
          26,
          23,
          24,
          25,
          26,
          25,
          26,
          28,
          26,
          23,
          null,
          23,
          23,
          23,
          27,
          30,
          23,
          26,
          28,
          26,
          22,
          27,
          25,
          24,
          26,
          24,
          29,
          22,
          22
         ],
         "xaxis": "x",
         "yaxis": "y"
        },
        {
         "alignmentgroup": "True",
         "bingroup": "x",
         "hovertemplate": "gender_name=Male<br>age=%{x}<br>count=%{y}<extra></extra>",
         "legendgroup": "Male",
         "marker": {
          "color": "#1179f0",
          "pattern": {
           "shape": ""
          }
         },
         "name": "Male",
         "offsetgroup": "Male",
         "orientation": "v",
         "showlegend": true,
         "type": "histogram",
         "x": [
          27,
          22,
          22,
          23,
          24,
          25,
          30,
          27,
          28,
          24,
          25,
          30,
          23,
          24,
          24,
          28,
          26,
          30,
          22,
          25,
          27,
          23,
          21,
          28,
          28,
          23,
          29,
          22,
          27,
          28,
          26,
          21,
          22,
          22,
          25,
          24,
          28,
          26,
          26,
          29,
          39,
          28,
          30,
          22,
          32,
          26,
          27,
          25,
          22,
          21,
          24,
          25,
          28,
          27,
          22,
          18,
          22,
          21,
          22,
          22,
          21,
          null,
          20,
          19,
          26,
          32,
          37,
          29,
          28,
          23,
          28,
          29,
          22,
          27,
          26,
          27,
          30,
          26,
          23,
          23,
          28,
          28,
          29,
          27,
          22,
          34,
          25,
          24,
          26,
          21,
          27,
          25,
          28,
          24,
          25,
          23,
          26,
          27,
          26,
          24,
          26,
          25,
          27,
          27,
          28,
          32,
          28,
          23,
          26,
          24,
          28,
          42,
          30,
          31,
          29,
          27,
          28,
          32,
          25,
          25,
          27,
          33,
          25,
          33,
          29,
          24,
          21,
          26,
          25,
          32,
          25,
          25,
          27,
          23,
          27,
          27,
          24,
          22,
          22,
          27,
          28,
          34,
          27,
          28,
          28,
          27,
          32,
          25,
          29,
          23,
          27,
          32,
          27,
          25,
          30,
          29,
          26,
          36,
          29,
          30,
          23,
          29,
          24,
          25,
          28,
          27,
          null,
          null,
          34,
          30,
          23,
          27,
          30,
          27,
          27,
          24,
          25,
          28,
          27,
          27,
          29,
          30,
          27,
          25,
          26,
          29,
          24,
          29,
          29,
          26,
          31,
          29,
          22,
          23,
          30,
          27,
          24,
          24,
          23,
          27,
          34,
          27,
          26,
          29,
          31,
          26,
          30,
          24,
          28,
          24,
          28,
          27,
          27,
          21,
          24,
          25,
          27,
          26,
          30,
          28,
          26,
          22,
          23,
          25,
          30,
          29,
          27,
          33,
          27,
          33,
          23,
          33,
          23,
          23,
          30,
          28,
          31,
          29,
          32,
          24,
          29,
          28,
          29,
          29,
          30,
          20,
          30,
          32,
          26,
          25,
          23,
          27,
          24,
          24,
          36,
          25,
          26,
          26,
          24,
          23,
          29,
          22,
          32,
          22,
          24,
          23,
          23,
          24,
          23,
          24,
          30,
          30,
          30,
          28,
          30,
          27,
          25
         ],
         "xaxis": "x",
         "yaxis": "y"
        }
       ],
       "layout": {
        "barmode": "group",
        "legend": {
         "title": {
          "text": "gender_name"
         },
         "tracegroupgap": 0
        },
        "margin": {
         "t": 60
        },
        "template": {
         "data": {
          "bar": [
           {
            "error_x": {
             "color": "#2a3f5f"
            },
            "error_y": {
             "color": "#2a3f5f"
            },
            "marker": {
             "line": {
              "color": "#E5ECF6",
              "width": 0.5
             },
             "pattern": {
              "fillmode": "overlay",
              "size": 10,
              "solidity": 0.2
             }
            },
            "type": "bar"
           }
          ],
          "barpolar": [
           {
            "marker": {
             "line": {
              "color": "#E5ECF6",
              "width": 0.5
             },
             "pattern": {
              "fillmode": "overlay",
              "size": 10,
              "solidity": 0.2
             }
            },
            "type": "barpolar"
           }
          ],
          "carpet": [
           {
            "aaxis": {
             "endlinecolor": "#2a3f5f",
             "gridcolor": "white",
             "linecolor": "white",
             "minorgridcolor": "white",
             "startlinecolor": "#2a3f5f"
            },
            "baxis": {
             "endlinecolor": "#2a3f5f",
             "gridcolor": "white",
             "linecolor": "white",
             "minorgridcolor": "white",
             "startlinecolor": "#2a3f5f"
            },
            "type": "carpet"
           }
          ],
          "choropleth": [
           {
            "colorbar": {
             "outlinewidth": 0,
             "ticks": ""
            },
            "type": "choropleth"
           }
          ],
          "contour": [
           {
            "colorbar": {
             "outlinewidth": 0,
             "ticks": ""
            },
            "colorscale": [
             [
              0,
              "#0d0887"
             ],
             [
              0.1111111111111111,
              "#46039f"
             ],
             [
              0.2222222222222222,
              "#7201a8"
             ],
             [
              0.3333333333333333,
              "#9c179e"
             ],
             [
              0.4444444444444444,
              "#bd3786"
             ],
             [
              0.5555555555555556,
              "#d8576b"
             ],
             [
              0.6666666666666666,
              "#ed7953"
             ],
             [
              0.7777777777777778,
              "#fb9f3a"
             ],
             [
              0.8888888888888888,
              "#fdca26"
             ],
             [
              1,
              "#f0f921"
             ]
            ],
            "type": "contour"
           }
          ],
          "contourcarpet": [
           {
            "colorbar": {
             "outlinewidth": 0,
             "ticks": ""
            },
            "type": "contourcarpet"
           }
          ],
          "heatmap": [
           {
            "colorbar": {
             "outlinewidth": 0,
             "ticks": ""
            },
            "colorscale": [
             [
              0,
              "#0d0887"
             ],
             [
              0.1111111111111111,
              "#46039f"
             ],
             [
              0.2222222222222222,
              "#7201a8"
             ],
             [
              0.3333333333333333,
              "#9c179e"
             ],
             [
              0.4444444444444444,
              "#bd3786"
             ],
             [
              0.5555555555555556,
              "#d8576b"
             ],
             [
              0.6666666666666666,
              "#ed7953"
             ],
             [
              0.7777777777777778,
              "#fb9f3a"
             ],
             [
              0.8888888888888888,
              "#fdca26"
             ],
             [
              1,
              "#f0f921"
             ]
            ],
            "type": "heatmap"
           }
          ],
          "heatmapgl": [
           {
            "colorbar": {
             "outlinewidth": 0,
             "ticks": ""
            },
            "colorscale": [
             [
              0,
              "#0d0887"
             ],
             [
              0.1111111111111111,
              "#46039f"
             ],
             [
              0.2222222222222222,
              "#7201a8"
             ],
             [
              0.3333333333333333,
              "#9c179e"
             ],
             [
              0.4444444444444444,
              "#bd3786"
             ],
             [
              0.5555555555555556,
              "#d8576b"
             ],
             [
              0.6666666666666666,
              "#ed7953"
             ],
             [
              0.7777777777777778,
              "#fb9f3a"
             ],
             [
              0.8888888888888888,
              "#fdca26"
             ],
             [
              1,
              "#f0f921"
             ]
            ],
            "type": "heatmapgl"
           }
          ],
          "histogram": [
           {
            "marker": {
             "pattern": {
              "fillmode": "overlay",
              "size": 10,
              "solidity": 0.2
             }
            },
            "type": "histogram"
           }
          ],
          "histogram2d": [
           {
            "colorbar": {
             "outlinewidth": 0,
             "ticks": ""
            },
            "colorscale": [
             [
              0,
              "#0d0887"
             ],
             [
              0.1111111111111111,
              "#46039f"
             ],
             [
              0.2222222222222222,
              "#7201a8"
             ],
             [
              0.3333333333333333,
              "#9c179e"
             ],
             [
              0.4444444444444444,
              "#bd3786"
             ],
             [
              0.5555555555555556,
              "#d8576b"
             ],
             [
              0.6666666666666666,
              "#ed7953"
             ],
             [
              0.7777777777777778,
              "#fb9f3a"
             ],
             [
              0.8888888888888888,
              "#fdca26"
             ],
             [
              1,
              "#f0f921"
             ]
            ],
            "type": "histogram2d"
           }
          ],
          "histogram2dcontour": [
           {
            "colorbar": {
             "outlinewidth": 0,
             "ticks": ""
            },
            "colorscale": [
             [
              0,
              "#0d0887"
             ],
             [
              0.1111111111111111,
              "#46039f"
             ],
             [
              0.2222222222222222,
              "#7201a8"
             ],
             [
              0.3333333333333333,
              "#9c179e"
             ],
             [
              0.4444444444444444,
              "#bd3786"
             ],
             [
              0.5555555555555556,
              "#d8576b"
             ],
             [
              0.6666666666666666,
              "#ed7953"
             ],
             [
              0.7777777777777778,
              "#fb9f3a"
             ],
             [
              0.8888888888888888,
              "#fdca26"
             ],
             [
              1,
              "#f0f921"
             ]
            ],
            "type": "histogram2dcontour"
           }
          ],
          "mesh3d": [
           {
            "colorbar": {
             "outlinewidth": 0,
             "ticks": ""
            },
            "type": "mesh3d"
           }
          ],
          "parcoords": [
           {
            "line": {
             "colorbar": {
              "outlinewidth": 0,
              "ticks": ""
             }
            },
            "type": "parcoords"
           }
          ],
          "pie": [
           {
            "automargin": true,
            "type": "pie"
           }
          ],
          "scatter": [
           {
            "fillpattern": {
             "fillmode": "overlay",
             "size": 10,
             "solidity": 0.2
            },
            "type": "scatter"
           }
          ],
          "scatter3d": [
           {
            "line": {
             "colorbar": {
              "outlinewidth": 0,
              "ticks": ""
             }
            },
            "marker": {
             "colorbar": {
              "outlinewidth": 0,
              "ticks": ""
             }
            },
            "type": "scatter3d"
           }
          ],
          "scattercarpet": [
           {
            "marker": {
             "colorbar": {
              "outlinewidth": 0,
              "ticks": ""
             }
            },
            "type": "scattercarpet"
           }
          ],
          "scattergeo": [
           {
            "marker": {
             "colorbar": {
              "outlinewidth": 0,
              "ticks": ""
             }
            },
            "type": "scattergeo"
           }
          ],
          "scattergl": [
           {
            "marker": {
             "colorbar": {
              "outlinewidth": 0,
              "ticks": ""
             }
            },
            "type": "scattergl"
           }
          ],
          "scattermapbox": [
           {
            "marker": {
             "colorbar": {
              "outlinewidth": 0,
              "ticks": ""
             }
            },
            "type": "scattermapbox"
           }
          ],
          "scatterpolar": [
           {
            "marker": {
             "colorbar": {
              "outlinewidth": 0,
              "ticks": ""
             }
            },
            "type": "scatterpolar"
           }
          ],
          "scatterpolargl": [
           {
            "marker": {
             "colorbar": {
              "outlinewidth": 0,
              "ticks": ""
             }
            },
            "type": "scatterpolargl"
           }
          ],
          "scatterternary": [
           {
            "marker": {
             "colorbar": {
              "outlinewidth": 0,
              "ticks": ""
             }
            },
            "type": "scatterternary"
           }
          ],
          "surface": [
           {
            "colorbar": {
             "outlinewidth": 0,
             "ticks": ""
            },
            "colorscale": [
             [
              0,
              "#0d0887"
             ],
             [
              0.1111111111111111,
              "#46039f"
             ],
             [
              0.2222222222222222,
              "#7201a8"
             ],
             [
              0.3333333333333333,
              "#9c179e"
             ],
             [
              0.4444444444444444,
              "#bd3786"
             ],
             [
              0.5555555555555556,
              "#d8576b"
             ],
             [
              0.6666666666666666,
              "#ed7953"
             ],
             [
              0.7777777777777778,
              "#fb9f3a"
             ],
             [
              0.8888888888888888,
              "#fdca26"
             ],
             [
              1,
              "#f0f921"
             ]
            ],
            "type": "surface"
           }
          ],
          "table": [
           {
            "cells": {
             "fill": {
              "color": "#EBF0F8"
             },
             "line": {
              "color": "white"
             }
            },
            "header": {
             "fill": {
              "color": "#C8D4E3"
             },
             "line": {
              "color": "white"
             }
            },
            "type": "table"
           }
          ]
         },
         "layout": {
          "annotationdefaults": {
           "arrowcolor": "#2a3f5f",
           "arrowhead": 0,
           "arrowwidth": 1
          },
          "autotypenumbers": "strict",
          "coloraxis": {
           "colorbar": {
            "outlinewidth": 0,
            "ticks": ""
           }
          },
          "colorscale": {
           "diverging": [
            [
             0,
             "#8e0152"
            ],
            [
             0.1,
             "#c51b7d"
            ],
            [
             0.2,
             "#de77ae"
            ],
            [
             0.3,
             "#f1b6da"
            ],
            [
             0.4,
             "#fde0ef"
            ],
            [
             0.5,
             "#f7f7f7"
            ],
            [
             0.6,
             "#e6f5d0"
            ],
            [
             0.7,
             "#b8e186"
            ],
            [
             0.8,
             "#7fbc41"
            ],
            [
             0.9,
             "#4d9221"
            ],
            [
             1,
             "#276419"
            ]
           ],
           "sequential": [
            [
             0,
             "#0d0887"
            ],
            [
             0.1111111111111111,
             "#46039f"
            ],
            [
             0.2222222222222222,
             "#7201a8"
            ],
            [
             0.3333333333333333,
             "#9c179e"
            ],
            [
             0.4444444444444444,
             "#bd3786"
            ],
            [
             0.5555555555555556,
             "#d8576b"
            ],
            [
             0.6666666666666666,
             "#ed7953"
            ],
            [
             0.7777777777777778,
             "#fb9f3a"
            ],
            [
             0.8888888888888888,
             "#fdca26"
            ],
            [
             1,
             "#f0f921"
            ]
           ],
           "sequentialminus": [
            [
             0,
             "#0d0887"
            ],
            [
             0.1111111111111111,
             "#46039f"
            ],
            [
             0.2222222222222222,
             "#7201a8"
            ],
            [
             0.3333333333333333,
             "#9c179e"
            ],
            [
             0.4444444444444444,
             "#bd3786"
            ],
            [
             0.5555555555555556,
             "#d8576b"
            ],
            [
             0.6666666666666666,
             "#ed7953"
            ],
            [
             0.7777777777777778,
             "#fb9f3a"
            ],
            [
             0.8888888888888888,
             "#fdca26"
            ],
            [
             1,
             "#f0f921"
            ]
           ]
          },
          "colorway": [
           "#636efa",
           "#EF553B",
           "#00cc96",
           "#ab63fa",
           "#FFA15A",
           "#19d3f3",
           "#FF6692",
           "#B6E880",
           "#FF97FF",
           "#FECB52"
          ],
          "font": {
           "color": "#2a3f5f"
          },
          "geo": {
           "bgcolor": "white",
           "lakecolor": "white",
           "landcolor": "#E5ECF6",
           "showlakes": true,
           "showland": true,
           "subunitcolor": "white"
          },
          "hoverlabel": {
           "align": "left"
          },
          "hovermode": "closest",
          "mapbox": {
           "style": "light"
          },
          "paper_bgcolor": "white",
          "plot_bgcolor": "#E5ECF6",
          "polar": {
           "angularaxis": {
            "gridcolor": "white",
            "linecolor": "white",
            "ticks": ""
           },
           "bgcolor": "#E5ECF6",
           "radialaxis": {
            "gridcolor": "white",
            "linecolor": "white",
            "ticks": ""
           }
          },
          "scene": {
           "xaxis": {
            "backgroundcolor": "#E5ECF6",
            "gridcolor": "white",
            "gridwidth": 2,
            "linecolor": "white",
            "showbackground": true,
            "ticks": "",
            "zerolinecolor": "white"
           },
           "yaxis": {
            "backgroundcolor": "#E5ECF6",
            "gridcolor": "white",
            "gridwidth": 2,
            "linecolor": "white",
            "showbackground": true,
            "ticks": "",
            "zerolinecolor": "white"
           },
           "zaxis": {
            "backgroundcolor": "#E5ECF6",
            "gridcolor": "white",
            "gridwidth": 2,
            "linecolor": "white",
            "showbackground": true,
            "ticks": "",
            "zerolinecolor": "white"
           }
          },
          "shapedefaults": {
           "line": {
            "color": "#2a3f5f"
           }
          },
          "ternary": {
           "aaxis": {
            "gridcolor": "white",
            "linecolor": "white",
            "ticks": ""
           },
           "baxis": {
            "gridcolor": "white",
            "linecolor": "white",
            "ticks": ""
           },
           "bgcolor": "#E5ECF6",
           "caxis": {
            "gridcolor": "white",
            "linecolor": "white",
            "ticks": ""
           }
          },
          "title": {
           "x": 0.05
          },
          "xaxis": {
           "automargin": true,
           "gridcolor": "white",
           "linecolor": "white",
           "ticks": "",
           "title": {
            "standoff": 15
           },
           "zerolinecolor": "white",
           "zerolinewidth": 2
          },
          "yaxis": {
           "automargin": true,
           "gridcolor": "white",
           "linecolor": "white",
           "ticks": "",
           "title": {
            "standoff": 15
           },
           "zerolinecolor": "white",
           "zerolinewidth": 2
          }
         }
        },
        "xaxis": {
         "anchor": "y",
         "domain": [
          0,
          1
         ],
         "title": {
          "text": "age"
         }
        },
        "yaxis": {
         "anchor": "x",
         "domain": [
          0,
          1
         ],
         "title": {
          "text": "count"
         }
        }
       }
      }
     },
     "metadata": {},
     "output_type": "display_data"
    }
   ],
   "source": [
    "\n",
    "fig = px.histogram(df_iid, x=\"age\",\n",
    "             color='gender_name', barmode='group', color_discrete_sequence=[\"#F78FE4\", \"#1179f0\"])\n",
    "fig.show()"
   ]
  },
  {
   "attachments": {},
   "cell_type": "markdown",
   "metadata": {},
   "source": [
    "Education field:"
   ]
  },
  {
   "cell_type": "code",
   "execution_count": 15,
   "metadata": {},
   "outputs": [
    {
     "data": {
      "text/plain": [
       "195"
      ]
     },
     "execution_count": 15,
     "metadata": {},
     "output_type": "execute_result"
    }
   ],
   "source": [
    "len(df.columns)"
   ]
  },
  {
   "cell_type": "code",
   "execution_count": null,
   "metadata": {},
   "outputs": [],
   "source": []
  },
  {
   "cell_type": "code",
   "execution_count": 16,
   "metadata": {},
   "outputs": [
    {
     "data": {
      "text/plain": [
       "188"
      ]
     },
     "execution_count": 16,
     "metadata": {},
     "output_type": "execute_result"
    }
   ],
   "source": [
    "len(df_iid.columns)"
   ]
  },
  {
   "attachments": {},
   "cell_type": "markdown",
   "metadata": {},
   "source": [
    "The initial dataset contained columns \"field\" and \"field_cd\". After groupby, only the numerical columns were left in the new dataframe, so I decided to recreate a column containing the name of the field of study."
   ]
  },
  {
   "cell_type": "code",
   "execution_count": 17,
   "metadata": {},
   "outputs": [],
   "source": [
    "df_iid['field_name'] = df_iid[\"field_cd\"].apply(lambda x: \"Law\" if x == 1 \n",
    "                                                    else \"Math\" if x == 2 \n",
    "                                                    else \"Social Science / Psychology\" if x == 3 \n",
    "                                                    else \"Medical Science / Pharma / Biotech\" if x == 4 \n",
    "                                                    else \"Engineering\" if x==5\n",
    "                                                    else \"English / Creative Writing / Journalism\" if x == 6 \n",
    "                                                    else \"History / Religion / Philosopy\" if x == 7 \n",
    "                                                    else \"Business / Economy / Finance\" if x == 8 \n",
    "                                                    else \"Education, Academia\" if x==9\n",
    "                                                    else \"Biology / Chemistry / Physics\" if x==10\n",
    "                                                    else \"Social Work\" if x == 11\n",
    "                                                    else \"Undergrad / Undecided\" if x == 12 \n",
    "                                                    else \"Political Science and International Affairs\" if x == 13 \n",
    "                                                    else \"Film\" if x==14\n",
    "                                                    else \"Fine Arts / Arts Administration\" if x == 15 \n",
    "                                                    else \"Languages\" if x == 16\n",
    "                                                    else \"Architecture\" if x==17 \n",
    "                                                    else \"Other\")"
   ]
  },
  {
   "cell_type": "code",
   "execution_count": 18,
   "metadata": {},
   "outputs": [
    {
     "data": {
      "application/vnd.plotly.v1+json": {
       "config": {
        "plotlyServerURL": "https://plot.ly"
       },
       "data": [
        {
         "alignmentgroup": "True",
         "bingroup": "y",
         "hovertemplate": "count=%{x}<br>field_name=%{y}<extra></extra>",
         "legendgroup": "",
         "marker": {
          "color": "#636efa",
          "opacity": 0.75,
          "pattern": {
           "shape": ""
          }
         },
         "name": "",
         "offsetgroup": "",
         "orientation": "h",
         "showlegend": false,
         "type": "histogram",
         "xaxis": "x",
         "y": [
          "Law",
          "Law",
          "Math",
          "Law",
          "Law",
          "Law",
          "Law",
          "Political Science and International Affairs",
          "Political Science and International Affairs",
          "Political Science and International Affairs",
          "Business / Economy / Finance",
          "Law",
          "Law",
          "Law",
          "Law",
          "Business / Economy / Finance",
          "Political Science and International Affairs",
          "Business / Economy / Finance",
          "Business / Economy / Finance",
          "Business / Economy / Finance",
          "Engineering",
          "Education, Academia",
          "Social Science / Psychology",
          "Social Work",
          "Social Work",
          "Social Work",
          "Social Science / Psychology",
          "Social Science / Psychology",
          "Social Work",
          "Law",
          "Law",
          "Social Science / Psychology",
          "Social Science / Psychology",
          "Business / Economy / Finance",
          "Math",
          "Math",
          "Social Science / Psychology",
          "Law",
          "Law",
          "Other",
          "Law",
          "Engineering",
          "Business / Economy / Finance",
          "Social Science / Psychology",
          "Business / Economy / Finance",
          "Business / Economy / Finance",
          "Business / Economy / Finance",
          "Undergrad / Undecided",
          "Business / Economy / Finance",
          "Law",
          "Law",
          "Law",
          "Medical Science / Pharma / Biotech",
          "Business / Economy / Finance",
          "Law",
          "Social Work",
          "Social Work",
          "Other",
          "Other",
          "Social Science / Psychology",
          "History / Religion / Philosopy",
          "Law",
          "Law",
          "Social Work",
          "Social Work",
          "Business / Economy / Finance",
          "Law",
          "English / Creative Writing / Journalism",
          "Business / Economy / Finance",
          "Business / Economy / Finance",
          "Law",
          "Engineering",
          "Business / Economy / Finance",
          "Engineering",
          "Law",
          "English / Creative Writing / Journalism",
          "Social Work",
          "Social Work",
          "Engineering",
          "Biology / Chemistry / Physics",
          "English / Creative Writing / Journalism",
          "Education, Academia",
          "Business / Economy / Finance",
          "Biology / Chemistry / Physics",
          "Social Work",
          "Social Science / Psychology",
          "Social Work",
          "Social Work",
          "Business / Economy / Finance",
          "Biology / Chemistry / Physics",
          "Law",
          "Education, Academia",
          "Engineering",
          "Business / Economy / Finance",
          "Business / Economy / Finance",
          "Engineering",
          "Biology / Chemistry / Physics",
          "Social Work",
          "Law",
          "Business / Economy / Finance",
          "Business / Economy / Finance",
          "Biology / Chemistry / Physics",
          "Business / Economy / Finance",
          "Biology / Chemistry / Physics",
          "Law",
          "Law",
          "History / Religion / Philosopy",
          "Engineering",
          "Film",
          "Film",
          "Business / Economy / Finance",
          "Social Science / Psychology",
          "Business / Economy / Finance",
          "Business / Economy / Finance",
          "Social Science / Psychology",
          "Political Science and International Affairs",
          "Business / Economy / Finance",
          "Languages",
          "English / Creative Writing / Journalism",
          "Social Science / Psychology",
          "Law",
          "Engineering",
          "Business / Economy / Finance",
          "Medical Science / Pharma / Biotech",
          "History / Religion / Philosopy",
          "Engineering",
          "Engineering",
          "Business / Economy / Finance",
          "Engineering",
          "Engineering",
          "Business / Economy / Finance",
          "Engineering",
          "Biology / Chemistry / Physics",
          "Social Science / Psychology",
          "Other",
          "Business / Economy / Finance",
          "Business / Economy / Finance",
          "Engineering",
          "Business / Economy / Finance",
          "Business / Economy / Finance",
          "Political Science and International Affairs",
          "Law",
          "Biology / Chemistry / Physics",
          "Biology / Chemistry / Physics",
          "English / Creative Writing / Journalism",
          "Business / Economy / Finance",
          "Business / Economy / Finance",
          "Political Science and International Affairs",
          "History / Religion / Philosopy",
          "Political Science and International Affairs",
          "Political Science and International Affairs",
          "History / Religion / Philosopy",
          "Business / Economy / Finance",
          "Business / Economy / Finance",
          "Business / Economy / Finance",
          "Business / Economy / Finance",
          "Biology / Chemistry / Physics",
          "Biology / Chemistry / Physics",
          "Business / Economy / Finance",
          "Biology / Chemistry / Physics",
          "Biology / Chemistry / Physics",
          "Education, Academia",
          "History / Religion / Philosopy",
          "Political Science and International Affairs",
          "Business / Economy / Finance",
          "Biology / Chemistry / Physics",
          "Biology / Chemistry / Physics",
          "Biology / Chemistry / Physics",
          "Biology / Chemistry / Physics",
          "Business / Economy / Finance",
          "Business / Economy / Finance",
          "Math",
          "Business / Economy / Finance",
          "Political Science and International Affairs",
          "Business / Economy / Finance",
          "Political Science and International Affairs",
          "Social Science / Psychology",
          "English / Creative Writing / Journalism",
          "Business / Economy / Finance",
          "Medical Science / Pharma / Biotech",
          "Medical Science / Pharma / Biotech",
          "Social Work",
          "Business / Economy / Finance",
          "Math",
          "Engineering",
          "Business / Economy / Finance",
          "Engineering",
          "Law",
          "Political Science and International Affairs",
          "Business / Economy / Finance",
          "Business / Economy / Finance",
          "Law",
          "Social Science / Psychology",
          "Biology / Chemistry / Physics",
          "History / Religion / Philosopy",
          "Political Science and International Affairs",
          "Political Science and International Affairs",
          "History / Religion / Philosopy",
          "Business / Economy / Finance",
          "Business / Economy / Finance",
          "Math",
          "Math",
          "Business / Economy / Finance",
          "Biology / Chemistry / Physics",
          "Business / Economy / Finance",
          "Biology / Chemistry / Physics",
          "Biology / Chemistry / Physics",
          "Political Science and International Affairs",
          "Biology / Chemistry / Physics",
          "Political Science and International Affairs",
          "Business / Economy / Finance",
          "Political Science and International Affairs",
          "Biology / Chemistry / Physics",
          "Business / Economy / Finance",
          "Business / Economy / Finance",
          "Biology / Chemistry / Physics",
          "Biology / Chemistry / Physics",
          "Business / Economy / Finance",
          "Political Science and International Affairs",
          "Business / Economy / Finance",
          "Math",
          "History / Religion / Philosopy",
          "Social Science / Psychology",
          "Business / Economy / Finance",
          "Business / Economy / Finance",
          "Business / Economy / Finance",
          "Biology / Chemistry / Physics",
          "Biology / Chemistry / Physics",
          "Political Science and International Affairs",
          "Political Science and International Affairs",
          "Political Science and International Affairs",
          "Political Science and International Affairs",
          "Social Science / Psychology",
          "Education, Academia",
          "Biology / Chemistry / Physics",
          "History / Religion / Philosopy",
          "Fine Arts / Arts Administration",
          "Biology / Chemistry / Physics",
          "Business / Economy / Finance",
          "Business / Economy / Finance",
          "Social Science / Psychology",
          "Languages",
          "Business / Economy / Finance",
          "History / Religion / Philosopy",
          "Biology / Chemistry / Physics",
          "Biology / Chemistry / Physics",
          "Business / Economy / Finance",
          "Business / Economy / Finance",
          "English / Creative Writing / Journalism",
          "History / Religion / Philosopy",
          "Political Science and International Affairs",
          "Social Science / Psychology",
          "History / Religion / Philosopy",
          "Biology / Chemistry / Physics",
          "Medical Science / Pharma / Biotech",
          "Education, Academia",
          "Education, Academia",
          "Biology / Chemistry / Physics",
          "Biology / Chemistry / Physics",
          "Biology / Chemistry / Physics",
          "Social Science / Psychology",
          "Social Science / Psychology",
          "English / Creative Writing / Journalism",
          "Law",
          "Languages",
          "Biology / Chemistry / Physics",
          "Medical Science / Pharma / Biotech",
          "History / Religion / Philosopy",
          "Biology / Chemistry / Physics",
          "Social Work",
          "Social Work",
          "Biology / Chemistry / Physics",
          "Social Science / Psychology",
          "Engineering",
          "Biology / Chemistry / Physics",
          "Biology / Chemistry / Physics",
          "Engineering",
          "Biology / Chemistry / Physics",
          "Biology / Chemistry / Physics",
          "Social Science / Psychology",
          "Engineering",
          "Engineering",
          "Business / Economy / Finance",
          "Engineering",
          "Math",
          "Political Science and International Affairs",
          "Social Science / Psychology",
          "Business / Economy / Finance",
          "Biology / Chemistry / Physics",
          "Biology / Chemistry / Physics",
          "Political Science and International Affairs",
          "Business / Economy / Finance",
          "Education, Academia",
          "Education, Academia",
          "Education, Academia",
          "Education, Academia",
          "English / Creative Writing / Journalism",
          "Social Work",
          "Social Science / Psychology",
          "Education, Academia",
          "Social Science / Psychology",
          "Education, Academia",
          "Social Science / Psychology",
          "Education, Academia",
          "Education, Academia",
          "Education, Academia",
          "Education, Academia",
          "Education, Academia",
          "Engineering",
          "Business / Economy / Finance",
          "Fine Arts / Arts Administration",
          "Business / Economy / Finance",
          "Political Science and International Affairs",
          "Engineering",
          "Business / Economy / Finance",
          "Business / Economy / Finance",
          "Business / Economy / Finance",
          "Education, Academia",
          "History / Religion / Philosopy",
          "Business / Economy / Finance",
          "Social Science / Psychology",
          "Engineering",
          "Social Science / Psychology",
          "Social Science / Psychology",
          "Education, Academia",
          "Political Science and International Affairs",
          "Education, Academia",
          "Education, Academia",
          "Engineering",
          "Education, Academia",
          "Social Science / Psychology",
          "Business / Economy / Finance",
          "Business / Economy / Finance",
          "Social Science / Psychology",
          "Architecture",
          "Engineering",
          "Engineering",
          "Other",
          "Other",
          "Political Science and International Affairs",
          "Education, Academia",
          "Biology / Chemistry / Physics",
          "Political Science and International Affairs",
          "Biology / Chemistry / Physics",
          "Other",
          "Education, Academia",
          "Education, Academia",
          "Social Science / Psychology",
          "Biology / Chemistry / Physics",
          "Education, Academia",
          "Education, Academia",
          "Education, Academia",
          "Social Science / Psychology",
          "Social Science / Psychology",
          "Social Science / Psychology",
          "Education, Academia",
          "Business / Economy / Finance",
          "English / Creative Writing / Journalism",
          "Social Science / Psychology",
          "Law",
          "Law",
          "Engineering",
          "Business / Economy / Finance",
          "Business / Economy / Finance",
          "Business / Economy / Finance",
          "Political Science and International Affairs",
          "Political Science and International Affairs",
          "Social Science / Psychology",
          "Business / Economy / Finance",
          "Business / Economy / Finance",
          "Business / Economy / Finance",
          "Business / Economy / Finance",
          "Business / Economy / Finance",
          "Business / Economy / Finance",
          "Business / Economy / Finance",
          "Business / Economy / Finance",
          "Business / Economy / Finance",
          "Business / Economy / Finance",
          "Film",
          "Film",
          "Film",
          "Education, Academia",
          "Education, Academia",
          "Education, Academia",
          "Social Science / Psychology",
          "Social Science / Psychology",
          "Social Science / Psychology",
          "Law",
          "Education, Academia",
          "English / Creative Writing / Journalism",
          "English / Creative Writing / Journalism",
          "English / Creative Writing / Journalism",
          "English / Creative Writing / Journalism",
          "English / Creative Writing / Journalism",
          "Fine Arts / Arts Administration",
          "Law",
          "Business / Economy / Finance",
          "Business / Economy / Finance",
          "Business / Economy / Finance",
          "Business / Economy / Finance",
          "Math",
          "Engineering",
          "Engineering",
          "Political Science and International Affairs",
          "Business / Economy / Finance",
          "Film",
          "Political Science and International Affairs",
          "Engineering",
          "Business / Economy / Finance",
          "Business / Economy / Finance",
          "Business / Economy / Finance",
          "Business / Economy / Finance",
          "Business / Economy / Finance",
          "Business / Economy / Finance",
          "Social Science / Psychology",
          "Social Science / Psychology",
          "Law",
          "Social Work",
          "Social Work",
          "Social Work",
          "Business / Economy / Finance",
          "Business / Economy / Finance",
          "Engineering",
          "Business / Economy / Finance",
          "Business / Economy / Finance",
          "Political Science and International Affairs",
          "Business / Economy / Finance",
          "Business / Economy / Finance",
          "Education, Academia",
          "Education, Academia",
          "Social Work",
          "Fine Arts / Arts Administration",
          "Social Work",
          "Law",
          "Law",
          "Social Work",
          "Social Work",
          "Education, Academia",
          "Law",
          "Law",
          "Law",
          "Political Science and International Affairs",
          "Business / Economy / Finance",
          "Political Science and International Affairs",
          "Business / Economy / Finance",
          "Political Science and International Affairs",
          "Law",
          "Law",
          "Political Science and International Affairs",
          "Business / Economy / Finance",
          "Business / Economy / Finance",
          "Law",
          "Fine Arts / Arts Administration",
          "Biology / Chemistry / Physics",
          "Business / Economy / Finance",
          "English / Creative Writing / Journalism",
          "Business / Economy / Finance",
          "Business / Economy / Finance",
          "History / Religion / Philosopy",
          "Engineering",
          "Engineering",
          "Biology / Chemistry / Physics",
          "Business / Economy / Finance",
          "History / Religion / Philosopy",
          "Other",
          "Business / Economy / Finance",
          "Political Science and International Affairs",
          "Political Science and International Affairs",
          "Medical Science / Pharma / Biotech",
          "Medical Science / Pharma / Biotech",
          "Engineering",
          "Biology / Chemistry / Physics",
          "Biology / Chemistry / Physics",
          "Political Science and International Affairs",
          "Political Science and International Affairs",
          "Engineering",
          "Political Science and International Affairs",
          "Political Science and International Affairs",
          "Engineering",
          "Education, Academia",
          "Business / Economy / Finance",
          "Social Science / Psychology",
          "Other",
          "Social Science / Psychology",
          "Biology / Chemistry / Physics",
          "English / Creative Writing / Journalism",
          "Business / Economy / Finance",
          "Business / Economy / Finance",
          "Film",
          "Business / Economy / Finance",
          "Biology / Chemistry / Physics",
          "Political Science and International Affairs",
          "English / Creative Writing / Journalism",
          "Fine Arts / Arts Administration",
          "Engineering",
          "Biology / Chemistry / Physics",
          "Biology / Chemistry / Physics",
          "Biology / Chemistry / Physics",
          "Biology / Chemistry / Physics",
          "Biology / Chemistry / Physics",
          "Engineering",
          "Biology / Chemistry / Physics",
          "Engineering",
          "English / Creative Writing / Journalism",
          "Math",
          "Math",
          "Math",
          "English / Creative Writing / Journalism",
          "Business / Economy / Finance",
          "Engineering",
          "Fine Arts / Arts Administration",
          "Fine Arts / Arts Administration",
          "Social Science / Psychology",
          "English / Creative Writing / Journalism",
          "Biology / Chemistry / Physics",
          "Fine Arts / Arts Administration",
          "Fine Arts / Arts Administration",
          "Education, Academia",
          "Social Work",
          "Social Work",
          "Law",
          "Education, Academia",
          "Medical Science / Pharma / Biotech",
          "Fine Arts / Arts Administration",
          "Social Work",
          "Social Work",
          "Social Work",
          "Engineering",
          "Engineering",
          "Engineering",
          "Engineering",
          "Engineering",
          "Engineering",
          "Biology / Chemistry / Physics",
          "Math",
          "Engineering",
          "Engineering",
          "Law",
          "Engineering",
          "Engineering",
          "Engineering",
          "Engineering",
          "Engineering",
          "Engineering",
          "Business / Economy / Finance",
          "Business / Economy / Finance",
          "Business / Economy / Finance",
          "Business / Economy / Finance",
          "Business / Economy / Finance",
          "Business / Economy / Finance",
          "Other"
         ],
         "yaxis": "y"
        }
       ],
       "layout": {
        "barmode": "relative",
        "legend": {
         "tracegroupgap": 0
        },
        "margin": {
         "t": 60
        },
        "template": {
         "data": {
          "bar": [
           {
            "error_x": {
             "color": "#2a3f5f"
            },
            "error_y": {
             "color": "#2a3f5f"
            },
            "marker": {
             "line": {
              "color": "#E5ECF6",
              "width": 0.5
             },
             "pattern": {
              "fillmode": "overlay",
              "size": 10,
              "solidity": 0.2
             }
            },
            "type": "bar"
           }
          ],
          "barpolar": [
           {
            "marker": {
             "line": {
              "color": "#E5ECF6",
              "width": 0.5
             },
             "pattern": {
              "fillmode": "overlay",
              "size": 10,
              "solidity": 0.2
             }
            },
            "type": "barpolar"
           }
          ],
          "carpet": [
           {
            "aaxis": {
             "endlinecolor": "#2a3f5f",
             "gridcolor": "white",
             "linecolor": "white",
             "minorgridcolor": "white",
             "startlinecolor": "#2a3f5f"
            },
            "baxis": {
             "endlinecolor": "#2a3f5f",
             "gridcolor": "white",
             "linecolor": "white",
             "minorgridcolor": "white",
             "startlinecolor": "#2a3f5f"
            },
            "type": "carpet"
           }
          ],
          "choropleth": [
           {
            "colorbar": {
             "outlinewidth": 0,
             "ticks": ""
            },
            "type": "choropleth"
           }
          ],
          "contour": [
           {
            "colorbar": {
             "outlinewidth": 0,
             "ticks": ""
            },
            "colorscale": [
             [
              0,
              "#0d0887"
             ],
             [
              0.1111111111111111,
              "#46039f"
             ],
             [
              0.2222222222222222,
              "#7201a8"
             ],
             [
              0.3333333333333333,
              "#9c179e"
             ],
             [
              0.4444444444444444,
              "#bd3786"
             ],
             [
              0.5555555555555556,
              "#d8576b"
             ],
             [
              0.6666666666666666,
              "#ed7953"
             ],
             [
              0.7777777777777778,
              "#fb9f3a"
             ],
             [
              0.8888888888888888,
              "#fdca26"
             ],
             [
              1,
              "#f0f921"
             ]
            ],
            "type": "contour"
           }
          ],
          "contourcarpet": [
           {
            "colorbar": {
             "outlinewidth": 0,
             "ticks": ""
            },
            "type": "contourcarpet"
           }
          ],
          "heatmap": [
           {
            "colorbar": {
             "outlinewidth": 0,
             "ticks": ""
            },
            "colorscale": [
             [
              0,
              "#0d0887"
             ],
             [
              0.1111111111111111,
              "#46039f"
             ],
             [
              0.2222222222222222,
              "#7201a8"
             ],
             [
              0.3333333333333333,
              "#9c179e"
             ],
             [
              0.4444444444444444,
              "#bd3786"
             ],
             [
              0.5555555555555556,
              "#d8576b"
             ],
             [
              0.6666666666666666,
              "#ed7953"
             ],
             [
              0.7777777777777778,
              "#fb9f3a"
             ],
             [
              0.8888888888888888,
              "#fdca26"
             ],
             [
              1,
              "#f0f921"
             ]
            ],
            "type": "heatmap"
           }
          ],
          "heatmapgl": [
           {
            "colorbar": {
             "outlinewidth": 0,
             "ticks": ""
            },
            "colorscale": [
             [
              0,
              "#0d0887"
             ],
             [
              0.1111111111111111,
              "#46039f"
             ],
             [
              0.2222222222222222,
              "#7201a8"
             ],
             [
              0.3333333333333333,
              "#9c179e"
             ],
             [
              0.4444444444444444,
              "#bd3786"
             ],
             [
              0.5555555555555556,
              "#d8576b"
             ],
             [
              0.6666666666666666,
              "#ed7953"
             ],
             [
              0.7777777777777778,
              "#fb9f3a"
             ],
             [
              0.8888888888888888,
              "#fdca26"
             ],
             [
              1,
              "#f0f921"
             ]
            ],
            "type": "heatmapgl"
           }
          ],
          "histogram": [
           {
            "marker": {
             "pattern": {
              "fillmode": "overlay",
              "size": 10,
              "solidity": 0.2
             }
            },
            "type": "histogram"
           }
          ],
          "histogram2d": [
           {
            "colorbar": {
             "outlinewidth": 0,
             "ticks": ""
            },
            "colorscale": [
             [
              0,
              "#0d0887"
             ],
             [
              0.1111111111111111,
              "#46039f"
             ],
             [
              0.2222222222222222,
              "#7201a8"
             ],
             [
              0.3333333333333333,
              "#9c179e"
             ],
             [
              0.4444444444444444,
              "#bd3786"
             ],
             [
              0.5555555555555556,
              "#d8576b"
             ],
             [
              0.6666666666666666,
              "#ed7953"
             ],
             [
              0.7777777777777778,
              "#fb9f3a"
             ],
             [
              0.8888888888888888,
              "#fdca26"
             ],
             [
              1,
              "#f0f921"
             ]
            ],
            "type": "histogram2d"
           }
          ],
          "histogram2dcontour": [
           {
            "colorbar": {
             "outlinewidth": 0,
             "ticks": ""
            },
            "colorscale": [
             [
              0,
              "#0d0887"
             ],
             [
              0.1111111111111111,
              "#46039f"
             ],
             [
              0.2222222222222222,
              "#7201a8"
             ],
             [
              0.3333333333333333,
              "#9c179e"
             ],
             [
              0.4444444444444444,
              "#bd3786"
             ],
             [
              0.5555555555555556,
              "#d8576b"
             ],
             [
              0.6666666666666666,
              "#ed7953"
             ],
             [
              0.7777777777777778,
              "#fb9f3a"
             ],
             [
              0.8888888888888888,
              "#fdca26"
             ],
             [
              1,
              "#f0f921"
             ]
            ],
            "type": "histogram2dcontour"
           }
          ],
          "mesh3d": [
           {
            "colorbar": {
             "outlinewidth": 0,
             "ticks": ""
            },
            "type": "mesh3d"
           }
          ],
          "parcoords": [
           {
            "line": {
             "colorbar": {
              "outlinewidth": 0,
              "ticks": ""
             }
            },
            "type": "parcoords"
           }
          ],
          "pie": [
           {
            "automargin": true,
            "type": "pie"
           }
          ],
          "scatter": [
           {
            "fillpattern": {
             "fillmode": "overlay",
             "size": 10,
             "solidity": 0.2
            },
            "type": "scatter"
           }
          ],
          "scatter3d": [
           {
            "line": {
             "colorbar": {
              "outlinewidth": 0,
              "ticks": ""
             }
            },
            "marker": {
             "colorbar": {
              "outlinewidth": 0,
              "ticks": ""
             }
            },
            "type": "scatter3d"
           }
          ],
          "scattercarpet": [
           {
            "marker": {
             "colorbar": {
              "outlinewidth": 0,
              "ticks": ""
             }
            },
            "type": "scattercarpet"
           }
          ],
          "scattergeo": [
           {
            "marker": {
             "colorbar": {
              "outlinewidth": 0,
              "ticks": ""
             }
            },
            "type": "scattergeo"
           }
          ],
          "scattergl": [
           {
            "marker": {
             "colorbar": {
              "outlinewidth": 0,
              "ticks": ""
             }
            },
            "type": "scattergl"
           }
          ],
          "scattermapbox": [
           {
            "marker": {
             "colorbar": {
              "outlinewidth": 0,
              "ticks": ""
             }
            },
            "type": "scattermapbox"
           }
          ],
          "scatterpolar": [
           {
            "marker": {
             "colorbar": {
              "outlinewidth": 0,
              "ticks": ""
             }
            },
            "type": "scatterpolar"
           }
          ],
          "scatterpolargl": [
           {
            "marker": {
             "colorbar": {
              "outlinewidth": 0,
              "ticks": ""
             }
            },
            "type": "scatterpolargl"
           }
          ],
          "scatterternary": [
           {
            "marker": {
             "colorbar": {
              "outlinewidth": 0,
              "ticks": ""
             }
            },
            "type": "scatterternary"
           }
          ],
          "surface": [
           {
            "colorbar": {
             "outlinewidth": 0,
             "ticks": ""
            },
            "colorscale": [
             [
              0,
              "#0d0887"
             ],
             [
              0.1111111111111111,
              "#46039f"
             ],
             [
              0.2222222222222222,
              "#7201a8"
             ],
             [
              0.3333333333333333,
              "#9c179e"
             ],
             [
              0.4444444444444444,
              "#bd3786"
             ],
             [
              0.5555555555555556,
              "#d8576b"
             ],
             [
              0.6666666666666666,
              "#ed7953"
             ],
             [
              0.7777777777777778,
              "#fb9f3a"
             ],
             [
              0.8888888888888888,
              "#fdca26"
             ],
             [
              1,
              "#f0f921"
             ]
            ],
            "type": "surface"
           }
          ],
          "table": [
           {
            "cells": {
             "fill": {
              "color": "#EBF0F8"
             },
             "line": {
              "color": "white"
             }
            },
            "header": {
             "fill": {
              "color": "#C8D4E3"
             },
             "line": {
              "color": "white"
             }
            },
            "type": "table"
           }
          ]
         },
         "layout": {
          "annotationdefaults": {
           "arrowcolor": "#2a3f5f",
           "arrowhead": 0,
           "arrowwidth": 1
          },
          "autotypenumbers": "strict",
          "coloraxis": {
           "colorbar": {
            "outlinewidth": 0,
            "ticks": ""
           }
          },
          "colorscale": {
           "diverging": [
            [
             0,
             "#8e0152"
            ],
            [
             0.1,
             "#c51b7d"
            ],
            [
             0.2,
             "#de77ae"
            ],
            [
             0.3,
             "#f1b6da"
            ],
            [
             0.4,
             "#fde0ef"
            ],
            [
             0.5,
             "#f7f7f7"
            ],
            [
             0.6,
             "#e6f5d0"
            ],
            [
             0.7,
             "#b8e186"
            ],
            [
             0.8,
             "#7fbc41"
            ],
            [
             0.9,
             "#4d9221"
            ],
            [
             1,
             "#276419"
            ]
           ],
           "sequential": [
            [
             0,
             "#0d0887"
            ],
            [
             0.1111111111111111,
             "#46039f"
            ],
            [
             0.2222222222222222,
             "#7201a8"
            ],
            [
             0.3333333333333333,
             "#9c179e"
            ],
            [
             0.4444444444444444,
             "#bd3786"
            ],
            [
             0.5555555555555556,
             "#d8576b"
            ],
            [
             0.6666666666666666,
             "#ed7953"
            ],
            [
             0.7777777777777778,
             "#fb9f3a"
            ],
            [
             0.8888888888888888,
             "#fdca26"
            ],
            [
             1,
             "#f0f921"
            ]
           ],
           "sequentialminus": [
            [
             0,
             "#0d0887"
            ],
            [
             0.1111111111111111,
             "#46039f"
            ],
            [
             0.2222222222222222,
             "#7201a8"
            ],
            [
             0.3333333333333333,
             "#9c179e"
            ],
            [
             0.4444444444444444,
             "#bd3786"
            ],
            [
             0.5555555555555556,
             "#d8576b"
            ],
            [
             0.6666666666666666,
             "#ed7953"
            ],
            [
             0.7777777777777778,
             "#fb9f3a"
            ],
            [
             0.8888888888888888,
             "#fdca26"
            ],
            [
             1,
             "#f0f921"
            ]
           ]
          },
          "colorway": [
           "#636efa",
           "#EF553B",
           "#00cc96",
           "#ab63fa",
           "#FFA15A",
           "#19d3f3",
           "#FF6692",
           "#B6E880",
           "#FF97FF",
           "#FECB52"
          ],
          "font": {
           "color": "#2a3f5f"
          },
          "geo": {
           "bgcolor": "white",
           "lakecolor": "white",
           "landcolor": "#E5ECF6",
           "showlakes": true,
           "showland": true,
           "subunitcolor": "white"
          },
          "hoverlabel": {
           "align": "left"
          },
          "hovermode": "closest",
          "mapbox": {
           "style": "light"
          },
          "paper_bgcolor": "white",
          "plot_bgcolor": "#E5ECF6",
          "polar": {
           "angularaxis": {
            "gridcolor": "white",
            "linecolor": "white",
            "ticks": ""
           },
           "bgcolor": "#E5ECF6",
           "radialaxis": {
            "gridcolor": "white",
            "linecolor": "white",
            "ticks": ""
           }
          },
          "scene": {
           "xaxis": {
            "backgroundcolor": "#E5ECF6",
            "gridcolor": "white",
            "gridwidth": 2,
            "linecolor": "white",
            "showbackground": true,
            "ticks": "",
            "zerolinecolor": "white"
           },
           "yaxis": {
            "backgroundcolor": "#E5ECF6",
            "gridcolor": "white",
            "gridwidth": 2,
            "linecolor": "white",
            "showbackground": true,
            "ticks": "",
            "zerolinecolor": "white"
           },
           "zaxis": {
            "backgroundcolor": "#E5ECF6",
            "gridcolor": "white",
            "gridwidth": 2,
            "linecolor": "white",
            "showbackground": true,
            "ticks": "",
            "zerolinecolor": "white"
           }
          },
          "shapedefaults": {
           "line": {
            "color": "#2a3f5f"
           }
          },
          "ternary": {
           "aaxis": {
            "gridcolor": "white",
            "linecolor": "white",
            "ticks": ""
           },
           "baxis": {
            "gridcolor": "white",
            "linecolor": "white",
            "ticks": ""
           },
           "bgcolor": "#E5ECF6",
           "caxis": {
            "gridcolor": "white",
            "linecolor": "white",
            "ticks": ""
           }
          },
          "title": {
           "x": 0.05
          },
          "xaxis": {
           "automargin": true,
           "gridcolor": "white",
           "linecolor": "white",
           "ticks": "",
           "title": {
            "standoff": 15
           },
           "zerolinecolor": "white",
           "zerolinewidth": 2
          },
          "yaxis": {
           "automargin": true,
           "gridcolor": "white",
           "linecolor": "white",
           "ticks": "",
           "title": {
            "standoff": 15
           },
           "zerolinecolor": "white",
           "zerolinewidth": 2
          }
         }
        },
        "xaxis": {
         "anchor": "y",
         "domain": [
          0,
          1
         ],
         "title": {
          "text": "count"
         }
        },
        "yaxis": {
         "anchor": "x",
         "domain": [
          0,
          1
         ],
         "title": {
          "text": "field_name"
         }
        }
       }
      }
     },
     "metadata": {},
     "output_type": "display_data"
    }
   ],
   "source": [
    "import plotly.express as px\n",
    "fig = px.histogram(df_iid, y=\"field_name\", opacity = 0.75)\n",
    "fig.show()"
   ]
  },
  {
   "cell_type": "code",
   "execution_count": 19,
   "metadata": {},
   "outputs": [
    {
     "data": {
      "application/vnd.plotly.v1+json": {
       "config": {
        "plotlyServerURL": "https://plot.ly"
       },
       "data": [
        {
         "alignmentgroup": "True",
         "bingroup": "y",
         "hovertemplate": "count=%{x}<br>field_name=%{y}<extra></extra>",
         "legendgroup": "",
         "marker": {
          "color": "#636efa",
          "opacity": 0.75,
          "pattern": {
           "shape": ""
          }
         },
         "name": "",
         "offsetgroup": "",
         "orientation": "h",
         "showlegend": false,
         "type": "histogram",
         "xaxis": "x",
         "y": [
          "Law",
          "Law",
          "Math",
          "Law",
          "Law",
          "Law",
          "Law",
          "Political Science and International Affairs",
          "Political Science and International Affairs",
          "Political Science and International Affairs",
          "Business / Economy / Finance",
          "Law",
          "Law",
          "Law",
          "Law",
          "Business / Economy / Finance",
          "Political Science and International Affairs",
          "Business / Economy / Finance",
          "Business / Economy / Finance",
          "Business / Economy / Finance",
          "Engineering",
          "Education, Academia",
          "Social Science / Psychology",
          "Social Work",
          "Social Work",
          "Social Work",
          "Social Science / Psychology",
          "Social Science / Psychology",
          "Social Work",
          "Law",
          "Law",
          "Social Science / Psychology",
          "Social Science / Psychology",
          "Business / Economy / Finance",
          "Math",
          "Math",
          "Social Science / Psychology",
          "Law",
          "Law",
          "Other",
          "Law",
          "Engineering",
          "Business / Economy / Finance",
          "Social Science / Psychology",
          "Business / Economy / Finance",
          "Business / Economy / Finance",
          "Business / Economy / Finance",
          "Undergrad / Undecided",
          "Business / Economy / Finance",
          "Law",
          "Law",
          "Law",
          "Medical Science / Pharma / Biotech",
          "Business / Economy / Finance",
          "Law",
          "Social Work",
          "Social Work",
          "Other",
          "Other",
          "Social Science / Psychology",
          "History / Religion / Philosopy",
          "Law",
          "Law",
          "Social Work",
          "Social Work",
          "Business / Economy / Finance",
          "Law",
          "English / Creative Writing / Journalism",
          "Business / Economy / Finance",
          "Business / Economy / Finance",
          "Law",
          "Engineering",
          "Business / Economy / Finance",
          "Engineering",
          "Law",
          "English / Creative Writing / Journalism",
          "Social Work",
          "Social Work",
          "Engineering",
          "Biology / Chemistry / Physics",
          "English / Creative Writing / Journalism",
          "Education, Academia",
          "Business / Economy / Finance",
          "Biology / Chemistry / Physics",
          "Social Work",
          "Social Science / Psychology",
          "Social Work",
          "Social Work",
          "Business / Economy / Finance",
          "Biology / Chemistry / Physics",
          "Law",
          "Education, Academia",
          "Engineering",
          "Business / Economy / Finance",
          "Business / Economy / Finance",
          "Engineering",
          "Biology / Chemistry / Physics",
          "Social Work",
          "Law",
          "Business / Economy / Finance",
          "Business / Economy / Finance",
          "Biology / Chemistry / Physics",
          "Business / Economy / Finance",
          "Biology / Chemistry / Physics",
          "Law",
          "Law",
          "History / Religion / Philosopy",
          "Engineering",
          "Film",
          "Film",
          "Business / Economy / Finance",
          "Social Science / Psychology",
          "Business / Economy / Finance",
          "Business / Economy / Finance",
          "Social Science / Psychology",
          "Political Science and International Affairs",
          "Business / Economy / Finance",
          "Languages",
          "English / Creative Writing / Journalism",
          "Social Science / Psychology",
          "Law",
          "Engineering",
          "Business / Economy / Finance",
          "Medical Science / Pharma / Biotech",
          "History / Religion / Philosopy",
          "Engineering",
          "Engineering",
          "Business / Economy / Finance",
          "Engineering",
          "Engineering",
          "Business / Economy / Finance",
          "Engineering",
          "Biology / Chemistry / Physics",
          "Social Science / Psychology",
          "Other",
          "Business / Economy / Finance",
          "Business / Economy / Finance",
          "Engineering",
          "Business / Economy / Finance",
          "Business / Economy / Finance",
          "Political Science and International Affairs",
          "Law",
          "Biology / Chemistry / Physics",
          "Biology / Chemistry / Physics",
          "English / Creative Writing / Journalism",
          "Business / Economy / Finance",
          "Business / Economy / Finance",
          "Political Science and International Affairs",
          "History / Religion / Philosopy",
          "Political Science and International Affairs",
          "Political Science and International Affairs",
          "History / Religion / Philosopy",
          "Business / Economy / Finance",
          "Business / Economy / Finance",
          "Business / Economy / Finance",
          "Business / Economy / Finance",
          "Biology / Chemistry / Physics",
          "Biology / Chemistry / Physics",
          "Business / Economy / Finance",
          "Biology / Chemistry / Physics",
          "Biology / Chemistry / Physics",
          "Education, Academia",
          "History / Religion / Philosopy",
          "Political Science and International Affairs",
          "Business / Economy / Finance",
          "Biology / Chemistry / Physics",
          "Biology / Chemistry / Physics",
          "Biology / Chemistry / Physics",
          "Biology / Chemistry / Physics",
          "Business / Economy / Finance",
          "Business / Economy / Finance",
          "Math",
          "Business / Economy / Finance",
          "Political Science and International Affairs",
          "Business / Economy / Finance",
          "Political Science and International Affairs",
          "Social Science / Psychology",
          "English / Creative Writing / Journalism",
          "Business / Economy / Finance",
          "Medical Science / Pharma / Biotech",
          "Medical Science / Pharma / Biotech",
          "Social Work",
          "Business / Economy / Finance",
          "Math",
          "Engineering",
          "Business / Economy / Finance",
          "Engineering",
          "Law",
          "Political Science and International Affairs",
          "Business / Economy / Finance",
          "Business / Economy / Finance",
          "Law",
          "Social Science / Psychology",
          "Biology / Chemistry / Physics",
          "History / Religion / Philosopy",
          "Political Science and International Affairs",
          "Political Science and International Affairs",
          "History / Religion / Philosopy",
          "Business / Economy / Finance",
          "Business / Economy / Finance",
          "Math",
          "Math",
          "Business / Economy / Finance",
          "Biology / Chemistry / Physics",
          "Business / Economy / Finance",
          "Biology / Chemistry / Physics",
          "Biology / Chemistry / Physics",
          "Political Science and International Affairs",
          "Biology / Chemistry / Physics",
          "Political Science and International Affairs",
          "Business / Economy / Finance",
          "Political Science and International Affairs",
          "Biology / Chemistry / Physics",
          "Business / Economy / Finance",
          "Business / Economy / Finance",
          "Biology / Chemistry / Physics",
          "Biology / Chemistry / Physics",
          "Business / Economy / Finance",
          "Political Science and International Affairs",
          "Business / Economy / Finance",
          "Math",
          "History / Religion / Philosopy",
          "Social Science / Psychology",
          "Business / Economy / Finance",
          "Business / Economy / Finance",
          "Business / Economy / Finance",
          "Biology / Chemistry / Physics",
          "Biology / Chemistry / Physics",
          "Political Science and International Affairs",
          "Political Science and International Affairs",
          "Political Science and International Affairs",
          "Political Science and International Affairs",
          "Social Science / Psychology",
          "Education, Academia",
          "Biology / Chemistry / Physics",
          "History / Religion / Philosopy",
          "Fine Arts / Arts Administration",
          "Biology / Chemistry / Physics",
          "Business / Economy / Finance",
          "Business / Economy / Finance",
          "Social Science / Psychology",
          "Languages",
          "Business / Economy / Finance",
          "History / Religion / Philosopy",
          "Biology / Chemistry / Physics",
          "Biology / Chemistry / Physics",
          "Business / Economy / Finance",
          "Business / Economy / Finance",
          "English / Creative Writing / Journalism",
          "History / Religion / Philosopy",
          "Political Science and International Affairs",
          "Social Science / Psychology",
          "History / Religion / Philosopy",
          "Biology / Chemistry / Physics",
          "Medical Science / Pharma / Biotech",
          "Education, Academia",
          "Education, Academia",
          "Biology / Chemistry / Physics",
          "Biology / Chemistry / Physics",
          "Biology / Chemistry / Physics",
          "Social Science / Psychology",
          "Social Science / Psychology",
          "English / Creative Writing / Journalism",
          "Law",
          "Languages",
          "Biology / Chemistry / Physics",
          "Medical Science / Pharma / Biotech",
          "History / Religion / Philosopy",
          "Biology / Chemistry / Physics",
          "Social Work",
          "Social Work",
          "Biology / Chemistry / Physics",
          "Social Science / Psychology",
          "Engineering",
          "Biology / Chemistry / Physics",
          "Biology / Chemistry / Physics",
          "Engineering",
          "Biology / Chemistry / Physics",
          "Biology / Chemistry / Physics",
          "Social Science / Psychology",
          "Engineering",
          "Engineering",
          "Business / Economy / Finance",
          "Engineering",
          "Math",
          "Political Science and International Affairs",
          "Social Science / Psychology",
          "Business / Economy / Finance",
          "Biology / Chemistry / Physics",
          "Biology / Chemistry / Physics",
          "Political Science and International Affairs",
          "Business / Economy / Finance",
          "Education, Academia",
          "Education, Academia",
          "Education, Academia",
          "Education, Academia",
          "English / Creative Writing / Journalism",
          "Social Work",
          "Social Science / Psychology",
          "Education, Academia",
          "Social Science / Psychology",
          "Education, Academia",
          "Social Science / Psychology",
          "Education, Academia",
          "Education, Academia",
          "Education, Academia",
          "Education, Academia",
          "Education, Academia",
          "Engineering",
          "Business / Economy / Finance",
          "Fine Arts / Arts Administration",
          "Business / Economy / Finance",
          "Political Science and International Affairs",
          "Engineering",
          "Business / Economy / Finance",
          "Business / Economy / Finance",
          "Business / Economy / Finance",
          "Education, Academia",
          "History / Religion / Philosopy",
          "Business / Economy / Finance",
          "Social Science / Psychology",
          "Engineering",
          "Social Science / Psychology",
          "Social Science / Psychology",
          "Education, Academia",
          "Political Science and International Affairs",
          "Education, Academia",
          "Education, Academia",
          "Engineering",
          "Education, Academia",
          "Social Science / Psychology",
          "Business / Economy / Finance",
          "Business / Economy / Finance",
          "Social Science / Psychology",
          "Architecture",
          "Engineering",
          "Engineering",
          "Other",
          "Other",
          "Political Science and International Affairs",
          "Education, Academia",
          "Biology / Chemistry / Physics",
          "Political Science and International Affairs",
          "Biology / Chemistry / Physics",
          "Other",
          "Education, Academia",
          "Education, Academia",
          "Social Science / Psychology",
          "Biology / Chemistry / Physics",
          "Education, Academia",
          "Education, Academia",
          "Education, Academia",
          "Social Science / Psychology",
          "Social Science / Psychology",
          "Social Science / Psychology",
          "Education, Academia",
          "Business / Economy / Finance",
          "English / Creative Writing / Journalism",
          "Social Science / Psychology",
          "Law",
          "Law",
          "Engineering",
          "Business / Economy / Finance",
          "Business / Economy / Finance",
          "Business / Economy / Finance",
          "Political Science and International Affairs",
          "Political Science and International Affairs",
          "Social Science / Psychology",
          "Business / Economy / Finance",
          "Business / Economy / Finance",
          "Business / Economy / Finance",
          "Business / Economy / Finance",
          "Business / Economy / Finance",
          "Business / Economy / Finance",
          "Business / Economy / Finance",
          "Business / Economy / Finance",
          "Business / Economy / Finance",
          "Business / Economy / Finance",
          "Film",
          "Film",
          "Film",
          "Education, Academia",
          "Education, Academia",
          "Education, Academia",
          "Social Science / Psychology",
          "Social Science / Psychology",
          "Social Science / Psychology",
          "Law",
          "Education, Academia",
          "English / Creative Writing / Journalism",
          "English / Creative Writing / Journalism",
          "English / Creative Writing / Journalism",
          "English / Creative Writing / Journalism",
          "English / Creative Writing / Journalism",
          "Fine Arts / Arts Administration",
          "Law",
          "Business / Economy / Finance",
          "Business / Economy / Finance",
          "Business / Economy / Finance",
          "Business / Economy / Finance",
          "Math",
          "Engineering",
          "Engineering",
          "Political Science and International Affairs",
          "Business / Economy / Finance",
          "Film",
          "Political Science and International Affairs",
          "Engineering",
          "Business / Economy / Finance",
          "Business / Economy / Finance",
          "Business / Economy / Finance",
          "Business / Economy / Finance",
          "Business / Economy / Finance",
          "Business / Economy / Finance",
          "Social Science / Psychology",
          "Social Science / Psychology",
          "Law",
          "Social Work",
          "Social Work",
          "Social Work",
          "Business / Economy / Finance",
          "Business / Economy / Finance",
          "Engineering",
          "Business / Economy / Finance",
          "Business / Economy / Finance",
          "Political Science and International Affairs",
          "Business / Economy / Finance",
          "Business / Economy / Finance",
          "Education, Academia",
          "Education, Academia",
          "Social Work",
          "Fine Arts / Arts Administration",
          "Social Work",
          "Law",
          "Law",
          "Social Work",
          "Social Work",
          "Education, Academia",
          "Law",
          "Law",
          "Law",
          "Political Science and International Affairs",
          "Business / Economy / Finance",
          "Political Science and International Affairs",
          "Business / Economy / Finance",
          "Political Science and International Affairs",
          "Law",
          "Law",
          "Political Science and International Affairs",
          "Business / Economy / Finance",
          "Business / Economy / Finance",
          "Law",
          "Fine Arts / Arts Administration",
          "Biology / Chemistry / Physics",
          "Business / Economy / Finance",
          "English / Creative Writing / Journalism",
          "Business / Economy / Finance",
          "Business / Economy / Finance",
          "History / Religion / Philosopy",
          "Engineering",
          "Engineering",
          "Biology / Chemistry / Physics",
          "Business / Economy / Finance",
          "History / Religion / Philosopy",
          "Other",
          "Business / Economy / Finance",
          "Political Science and International Affairs",
          "Political Science and International Affairs",
          "Medical Science / Pharma / Biotech",
          "Medical Science / Pharma / Biotech",
          "Engineering",
          "Biology / Chemistry / Physics",
          "Biology / Chemistry / Physics",
          "Political Science and International Affairs",
          "Political Science and International Affairs",
          "Engineering",
          "Political Science and International Affairs",
          "Political Science and International Affairs",
          "Engineering",
          "Education, Academia",
          "Business / Economy / Finance",
          "Social Science / Psychology",
          "Other",
          "Social Science / Psychology",
          "Biology / Chemistry / Physics",
          "English / Creative Writing / Journalism",
          "Business / Economy / Finance",
          "Business / Economy / Finance",
          "Film",
          "Business / Economy / Finance",
          "Biology / Chemistry / Physics",
          "Political Science and International Affairs",
          "English / Creative Writing / Journalism",
          "Fine Arts / Arts Administration",
          "Engineering",
          "Biology / Chemistry / Physics",
          "Biology / Chemistry / Physics",
          "Biology / Chemistry / Physics",
          "Biology / Chemistry / Physics",
          "Biology / Chemistry / Physics",
          "Engineering",
          "Biology / Chemistry / Physics",
          "Engineering",
          "English / Creative Writing / Journalism",
          "Math",
          "Math",
          "Math",
          "English / Creative Writing / Journalism",
          "Business / Economy / Finance",
          "Engineering",
          "Fine Arts / Arts Administration",
          "Fine Arts / Arts Administration",
          "Social Science / Psychology",
          "English / Creative Writing / Journalism",
          "Biology / Chemistry / Physics",
          "Fine Arts / Arts Administration",
          "Fine Arts / Arts Administration",
          "Education, Academia",
          "Social Work",
          "Social Work",
          "Law",
          "Education, Academia",
          "Medical Science / Pharma / Biotech",
          "Fine Arts / Arts Administration",
          "Social Work",
          "Social Work",
          "Social Work",
          "Engineering",
          "Engineering",
          "Engineering",
          "Engineering",
          "Engineering",
          "Engineering",
          "Biology / Chemistry / Physics",
          "Math",
          "Engineering",
          "Engineering",
          "Law",
          "Engineering",
          "Engineering",
          "Engineering",
          "Engineering",
          "Engineering",
          "Engineering",
          "Business / Economy / Finance",
          "Business / Economy / Finance",
          "Business / Economy / Finance",
          "Business / Economy / Finance",
          "Business / Economy / Finance",
          "Business / Economy / Finance",
          "Other"
         ],
         "yaxis": "y"
        }
       ],
       "layout": {
        "barmode": "relative",
        "legend": {
         "tracegroupgap": 0
        },
        "margin": {
         "t": 60
        },
        "template": {
         "data": {
          "bar": [
           {
            "error_x": {
             "color": "#2a3f5f"
            },
            "error_y": {
             "color": "#2a3f5f"
            },
            "marker": {
             "line": {
              "color": "#E5ECF6",
              "width": 0.5
             },
             "pattern": {
              "fillmode": "overlay",
              "size": 10,
              "solidity": 0.2
             }
            },
            "type": "bar"
           }
          ],
          "barpolar": [
           {
            "marker": {
             "line": {
              "color": "#E5ECF6",
              "width": 0.5
             },
             "pattern": {
              "fillmode": "overlay",
              "size": 10,
              "solidity": 0.2
             }
            },
            "type": "barpolar"
           }
          ],
          "carpet": [
           {
            "aaxis": {
             "endlinecolor": "#2a3f5f",
             "gridcolor": "white",
             "linecolor": "white",
             "minorgridcolor": "white",
             "startlinecolor": "#2a3f5f"
            },
            "baxis": {
             "endlinecolor": "#2a3f5f",
             "gridcolor": "white",
             "linecolor": "white",
             "minorgridcolor": "white",
             "startlinecolor": "#2a3f5f"
            },
            "type": "carpet"
           }
          ],
          "choropleth": [
           {
            "colorbar": {
             "outlinewidth": 0,
             "ticks": ""
            },
            "type": "choropleth"
           }
          ],
          "contour": [
           {
            "colorbar": {
             "outlinewidth": 0,
             "ticks": ""
            },
            "colorscale": [
             [
              0,
              "#0d0887"
             ],
             [
              0.1111111111111111,
              "#46039f"
             ],
             [
              0.2222222222222222,
              "#7201a8"
             ],
             [
              0.3333333333333333,
              "#9c179e"
             ],
             [
              0.4444444444444444,
              "#bd3786"
             ],
             [
              0.5555555555555556,
              "#d8576b"
             ],
             [
              0.6666666666666666,
              "#ed7953"
             ],
             [
              0.7777777777777778,
              "#fb9f3a"
             ],
             [
              0.8888888888888888,
              "#fdca26"
             ],
             [
              1,
              "#f0f921"
             ]
            ],
            "type": "contour"
           }
          ],
          "contourcarpet": [
           {
            "colorbar": {
             "outlinewidth": 0,
             "ticks": ""
            },
            "type": "contourcarpet"
           }
          ],
          "heatmap": [
           {
            "colorbar": {
             "outlinewidth": 0,
             "ticks": ""
            },
            "colorscale": [
             [
              0,
              "#0d0887"
             ],
             [
              0.1111111111111111,
              "#46039f"
             ],
             [
              0.2222222222222222,
              "#7201a8"
             ],
             [
              0.3333333333333333,
              "#9c179e"
             ],
             [
              0.4444444444444444,
              "#bd3786"
             ],
             [
              0.5555555555555556,
              "#d8576b"
             ],
             [
              0.6666666666666666,
              "#ed7953"
             ],
             [
              0.7777777777777778,
              "#fb9f3a"
             ],
             [
              0.8888888888888888,
              "#fdca26"
             ],
             [
              1,
              "#f0f921"
             ]
            ],
            "type": "heatmap"
           }
          ],
          "heatmapgl": [
           {
            "colorbar": {
             "outlinewidth": 0,
             "ticks": ""
            },
            "colorscale": [
             [
              0,
              "#0d0887"
             ],
             [
              0.1111111111111111,
              "#46039f"
             ],
             [
              0.2222222222222222,
              "#7201a8"
             ],
             [
              0.3333333333333333,
              "#9c179e"
             ],
             [
              0.4444444444444444,
              "#bd3786"
             ],
             [
              0.5555555555555556,
              "#d8576b"
             ],
             [
              0.6666666666666666,
              "#ed7953"
             ],
             [
              0.7777777777777778,
              "#fb9f3a"
             ],
             [
              0.8888888888888888,
              "#fdca26"
             ],
             [
              1,
              "#f0f921"
             ]
            ],
            "type": "heatmapgl"
           }
          ],
          "histogram": [
           {
            "marker": {
             "pattern": {
              "fillmode": "overlay",
              "size": 10,
              "solidity": 0.2
             }
            },
            "type": "histogram"
           }
          ],
          "histogram2d": [
           {
            "colorbar": {
             "outlinewidth": 0,
             "ticks": ""
            },
            "colorscale": [
             [
              0,
              "#0d0887"
             ],
             [
              0.1111111111111111,
              "#46039f"
             ],
             [
              0.2222222222222222,
              "#7201a8"
             ],
             [
              0.3333333333333333,
              "#9c179e"
             ],
             [
              0.4444444444444444,
              "#bd3786"
             ],
             [
              0.5555555555555556,
              "#d8576b"
             ],
             [
              0.6666666666666666,
              "#ed7953"
             ],
             [
              0.7777777777777778,
              "#fb9f3a"
             ],
             [
              0.8888888888888888,
              "#fdca26"
             ],
             [
              1,
              "#f0f921"
             ]
            ],
            "type": "histogram2d"
           }
          ],
          "histogram2dcontour": [
           {
            "colorbar": {
             "outlinewidth": 0,
             "ticks": ""
            },
            "colorscale": [
             [
              0,
              "#0d0887"
             ],
             [
              0.1111111111111111,
              "#46039f"
             ],
             [
              0.2222222222222222,
              "#7201a8"
             ],
             [
              0.3333333333333333,
              "#9c179e"
             ],
             [
              0.4444444444444444,
              "#bd3786"
             ],
             [
              0.5555555555555556,
              "#d8576b"
             ],
             [
              0.6666666666666666,
              "#ed7953"
             ],
             [
              0.7777777777777778,
              "#fb9f3a"
             ],
             [
              0.8888888888888888,
              "#fdca26"
             ],
             [
              1,
              "#f0f921"
             ]
            ],
            "type": "histogram2dcontour"
           }
          ],
          "mesh3d": [
           {
            "colorbar": {
             "outlinewidth": 0,
             "ticks": ""
            },
            "type": "mesh3d"
           }
          ],
          "parcoords": [
           {
            "line": {
             "colorbar": {
              "outlinewidth": 0,
              "ticks": ""
             }
            },
            "type": "parcoords"
           }
          ],
          "pie": [
           {
            "automargin": true,
            "type": "pie"
           }
          ],
          "scatter": [
           {
            "fillpattern": {
             "fillmode": "overlay",
             "size": 10,
             "solidity": 0.2
            },
            "type": "scatter"
           }
          ],
          "scatter3d": [
           {
            "line": {
             "colorbar": {
              "outlinewidth": 0,
              "ticks": ""
             }
            },
            "marker": {
             "colorbar": {
              "outlinewidth": 0,
              "ticks": ""
             }
            },
            "type": "scatter3d"
           }
          ],
          "scattercarpet": [
           {
            "marker": {
             "colorbar": {
              "outlinewidth": 0,
              "ticks": ""
             }
            },
            "type": "scattercarpet"
           }
          ],
          "scattergeo": [
           {
            "marker": {
             "colorbar": {
              "outlinewidth": 0,
              "ticks": ""
             }
            },
            "type": "scattergeo"
           }
          ],
          "scattergl": [
           {
            "marker": {
             "colorbar": {
              "outlinewidth": 0,
              "ticks": ""
             }
            },
            "type": "scattergl"
           }
          ],
          "scattermapbox": [
           {
            "marker": {
             "colorbar": {
              "outlinewidth": 0,
              "ticks": ""
             }
            },
            "type": "scattermapbox"
           }
          ],
          "scatterpolar": [
           {
            "marker": {
             "colorbar": {
              "outlinewidth": 0,
              "ticks": ""
             }
            },
            "type": "scatterpolar"
           }
          ],
          "scatterpolargl": [
           {
            "marker": {
             "colorbar": {
              "outlinewidth": 0,
              "ticks": ""
             }
            },
            "type": "scatterpolargl"
           }
          ],
          "scatterternary": [
           {
            "marker": {
             "colorbar": {
              "outlinewidth": 0,
              "ticks": ""
             }
            },
            "type": "scatterternary"
           }
          ],
          "surface": [
           {
            "colorbar": {
             "outlinewidth": 0,
             "ticks": ""
            },
            "colorscale": [
             [
              0,
              "#0d0887"
             ],
             [
              0.1111111111111111,
              "#46039f"
             ],
             [
              0.2222222222222222,
              "#7201a8"
             ],
             [
              0.3333333333333333,
              "#9c179e"
             ],
             [
              0.4444444444444444,
              "#bd3786"
             ],
             [
              0.5555555555555556,
              "#d8576b"
             ],
             [
              0.6666666666666666,
              "#ed7953"
             ],
             [
              0.7777777777777778,
              "#fb9f3a"
             ],
             [
              0.8888888888888888,
              "#fdca26"
             ],
             [
              1,
              "#f0f921"
             ]
            ],
            "type": "surface"
           }
          ],
          "table": [
           {
            "cells": {
             "fill": {
              "color": "#EBF0F8"
             },
             "line": {
              "color": "white"
             }
            },
            "header": {
             "fill": {
              "color": "#C8D4E3"
             },
             "line": {
              "color": "white"
             }
            },
            "type": "table"
           }
          ]
         },
         "layout": {
          "annotationdefaults": {
           "arrowcolor": "#2a3f5f",
           "arrowhead": 0,
           "arrowwidth": 1
          },
          "autotypenumbers": "strict",
          "coloraxis": {
           "colorbar": {
            "outlinewidth": 0,
            "ticks": ""
           }
          },
          "colorscale": {
           "diverging": [
            [
             0,
             "#8e0152"
            ],
            [
             0.1,
             "#c51b7d"
            ],
            [
             0.2,
             "#de77ae"
            ],
            [
             0.3,
             "#f1b6da"
            ],
            [
             0.4,
             "#fde0ef"
            ],
            [
             0.5,
             "#f7f7f7"
            ],
            [
             0.6,
             "#e6f5d0"
            ],
            [
             0.7,
             "#b8e186"
            ],
            [
             0.8,
             "#7fbc41"
            ],
            [
             0.9,
             "#4d9221"
            ],
            [
             1,
             "#276419"
            ]
           ],
           "sequential": [
            [
             0,
             "#0d0887"
            ],
            [
             0.1111111111111111,
             "#46039f"
            ],
            [
             0.2222222222222222,
             "#7201a8"
            ],
            [
             0.3333333333333333,
             "#9c179e"
            ],
            [
             0.4444444444444444,
             "#bd3786"
            ],
            [
             0.5555555555555556,
             "#d8576b"
            ],
            [
             0.6666666666666666,
             "#ed7953"
            ],
            [
             0.7777777777777778,
             "#fb9f3a"
            ],
            [
             0.8888888888888888,
             "#fdca26"
            ],
            [
             1,
             "#f0f921"
            ]
           ],
           "sequentialminus": [
            [
             0,
             "#0d0887"
            ],
            [
             0.1111111111111111,
             "#46039f"
            ],
            [
             0.2222222222222222,
             "#7201a8"
            ],
            [
             0.3333333333333333,
             "#9c179e"
            ],
            [
             0.4444444444444444,
             "#bd3786"
            ],
            [
             0.5555555555555556,
             "#d8576b"
            ],
            [
             0.6666666666666666,
             "#ed7953"
            ],
            [
             0.7777777777777778,
             "#fb9f3a"
            ],
            [
             0.8888888888888888,
             "#fdca26"
            ],
            [
             1,
             "#f0f921"
            ]
           ]
          },
          "colorway": [
           "#636efa",
           "#EF553B",
           "#00cc96",
           "#ab63fa",
           "#FFA15A",
           "#19d3f3",
           "#FF6692",
           "#B6E880",
           "#FF97FF",
           "#FECB52"
          ],
          "font": {
           "color": "#2a3f5f"
          },
          "geo": {
           "bgcolor": "white",
           "lakecolor": "white",
           "landcolor": "#E5ECF6",
           "showlakes": true,
           "showland": true,
           "subunitcolor": "white"
          },
          "hoverlabel": {
           "align": "left"
          },
          "hovermode": "closest",
          "mapbox": {
           "style": "light"
          },
          "paper_bgcolor": "white",
          "plot_bgcolor": "#E5ECF6",
          "polar": {
           "angularaxis": {
            "gridcolor": "white",
            "linecolor": "white",
            "ticks": ""
           },
           "bgcolor": "#E5ECF6",
           "radialaxis": {
            "gridcolor": "white",
            "linecolor": "white",
            "ticks": ""
           }
          },
          "scene": {
           "xaxis": {
            "backgroundcolor": "#E5ECF6",
            "gridcolor": "white",
            "gridwidth": 2,
            "linecolor": "white",
            "showbackground": true,
            "ticks": "",
            "zerolinecolor": "white"
           },
           "yaxis": {
            "backgroundcolor": "#E5ECF6",
            "gridcolor": "white",
            "gridwidth": 2,
            "linecolor": "white",
            "showbackground": true,
            "ticks": "",
            "zerolinecolor": "white"
           },
           "zaxis": {
            "backgroundcolor": "#E5ECF6",
            "gridcolor": "white",
            "gridwidth": 2,
            "linecolor": "white",
            "showbackground": true,
            "ticks": "",
            "zerolinecolor": "white"
           }
          },
          "shapedefaults": {
           "line": {
            "color": "#2a3f5f"
           }
          },
          "ternary": {
           "aaxis": {
            "gridcolor": "white",
            "linecolor": "white",
            "ticks": ""
           },
           "baxis": {
            "gridcolor": "white",
            "linecolor": "white",
            "ticks": ""
           },
           "bgcolor": "#E5ECF6",
           "caxis": {
            "gridcolor": "white",
            "linecolor": "white",
            "ticks": ""
           }
          },
          "title": {
           "x": 0.05
          },
          "xaxis": {
           "automargin": true,
           "gridcolor": "white",
           "linecolor": "white",
           "ticks": "",
           "title": {
            "standoff": 15
           },
           "zerolinecolor": "white",
           "zerolinewidth": 2
          },
          "yaxis": {
           "automargin": true,
           "gridcolor": "white",
           "linecolor": "white",
           "ticks": "",
           "title": {
            "standoff": 15
           },
           "zerolinecolor": "white",
           "zerolinewidth": 2
          }
         }
        },
        "xaxis": {
         "anchor": "y",
         "domain": [
          0,
          1
         ],
         "title": {
          "text": "count"
         }
        },
        "yaxis": {
         "anchor": "x",
         "categoryorder": "total ascending",
         "domain": [
          0,
          1
         ],
         "title": {
          "text": "field_name"
         }
        }
       }
      }
     },
     "metadata": {},
     "output_type": "display_data"
    }
   ],
   "source": [
    "import plotly.express as px\n",
    "fig = px.histogram(df_iid, y=\"field_name\", opacity = 0.75).update_yaxes(categoryorder = \"total ascending\")\n",
    "fig.show()"
   ]
  },
  {
   "cell_type": "code",
   "execution_count": 20,
   "metadata": {},
   "outputs": [
    {
     "data": {
      "application/vnd.plotly.v1+json": {
       "config": {
        "plotlyServerURL": "https://plot.ly"
       },
       "data": [
        {
         "alignmentgroup": "True",
         "bingroup": "y",
         "hovertemplate": "field_cd=1.0<br>count=%{x}<br>field_name=%{y}<extra></extra>",
         "legendgroup": "1.0",
         "marker": {
          "color": "#636efa",
          "opacity": 0.75,
          "pattern": {
           "shape": ""
          }
         },
         "name": "1.0",
         "offsetgroup": "1.0",
         "orientation": "h",
         "showlegend": true,
         "type": "histogram",
         "xaxis": "x",
         "y": [
          "Law",
          "Law",
          "Law",
          "Law",
          "Law",
          "Law",
          "Law",
          "Law",
          "Law",
          "Law",
          "Law",
          "Law",
          "Law",
          "Law",
          "Law",
          "Law",
          "Law",
          "Law",
          "Law",
          "Law",
          "Law",
          "Law",
          "Law",
          "Law",
          "Law",
          "Law",
          "Law",
          "Law",
          "Law",
          "Law",
          "Law",
          "Law",
          "Law",
          "Law",
          "Law",
          "Law",
          "Law",
          "Law",
          "Law",
          "Law",
          "Law",
          "Law",
          "Law",
          "Law",
          "Law",
          "Law",
          "Law",
          "Law"
         ],
         "yaxis": "y"
        },
        {
         "alignmentgroup": "True",
         "bingroup": "y",
         "hovertemplate": "field_cd=2.0<br>count=%{x}<br>field_name=%{y}<extra></extra>",
         "legendgroup": "2.0",
         "marker": {
          "color": "#EF553B",
          "opacity": 0.75,
          "pattern": {
           "shape": ""
          }
         },
         "name": "2.0",
         "offsetgroup": "2.0",
         "orientation": "h",
         "showlegend": true,
         "type": "histogram",
         "xaxis": "x",
         "y": [
          "Math",
          "Math",
          "Math",
          "Math",
          "Math",
          "Math",
          "Math",
          "Math",
          "Math",
          "Math",
          "Math",
          "Math",
          "Math",
          "Math"
         ],
         "yaxis": "y"
        },
        {
         "alignmentgroup": "True",
         "bingroup": "y",
         "hovertemplate": "field_cd=13.0<br>count=%{x}<br>field_name=%{y}<extra></extra>",
         "legendgroup": "13.0",
         "marker": {
          "color": "#00cc96",
          "opacity": 0.75,
          "pattern": {
           "shape": ""
          }
         },
         "name": "13.0",
         "offsetgroup": "13.0",
         "orientation": "h",
         "showlegend": true,
         "type": "histogram",
         "xaxis": "x",
         "y": [
          "Political Science and International Affairs",
          "Political Science and International Affairs",
          "Political Science and International Affairs",
          "Political Science and International Affairs",
          "Political Science and International Affairs",
          "Political Science and International Affairs",
          "Political Science and International Affairs",
          "Political Science and International Affairs",
          "Political Science and International Affairs",
          "Political Science and International Affairs",
          "Political Science and International Affairs",
          "Political Science and International Affairs",
          "Political Science and International Affairs",
          "Political Science and International Affairs",
          "Political Science and International Affairs",
          "Political Science and International Affairs",
          "Political Science and International Affairs",
          "Political Science and International Affairs",
          "Political Science and International Affairs",
          "Political Science and International Affairs",
          "Political Science and International Affairs",
          "Political Science and International Affairs",
          "Political Science and International Affairs",
          "Political Science and International Affairs",
          "Political Science and International Affairs",
          "Political Science and International Affairs",
          "Political Science and International Affairs",
          "Political Science and International Affairs",
          "Political Science and International Affairs",
          "Political Science and International Affairs",
          "Political Science and International Affairs",
          "Political Science and International Affairs",
          "Political Science and International Affairs",
          "Political Science and International Affairs",
          "Political Science and International Affairs",
          "Political Science and International Affairs",
          "Political Science and International Affairs",
          "Political Science and International Affairs",
          "Political Science and International Affairs",
          "Political Science and International Affairs",
          "Political Science and International Affairs",
          "Political Science and International Affairs",
          "Political Science and International Affairs",
          "Political Science and International Affairs",
          "Political Science and International Affairs",
          "Political Science and International Affairs"
         ],
         "yaxis": "y"
        },
        {
         "alignmentgroup": "True",
         "bingroup": "y",
         "hovertemplate": "field_cd=8.0<br>count=%{x}<br>field_name=%{y}<extra></extra>",
         "legendgroup": "8.0",
         "marker": {
          "color": "#ab63fa",
          "opacity": 0.75,
          "pattern": {
           "shape": ""
          }
         },
         "name": "8.0",
         "offsetgroup": "8.0",
         "orientation": "h",
         "showlegend": true,
         "type": "histogram",
         "xaxis": "x",
         "y": [
          "Business / Economy / Finance",
          "Business / Economy / Finance",
          "Business / Economy / Finance",
          "Business / Economy / Finance",
          "Business / Economy / Finance",
          "Business / Economy / Finance",
          "Business / Economy / Finance",
          "Business / Economy / Finance",
          "Business / Economy / Finance",
          "Business / Economy / Finance",
          "Business / Economy / Finance",
          "Business / Economy / Finance",
          "Business / Economy / Finance",
          "Business / Economy / Finance",
          "Business / Economy / Finance",
          "Business / Economy / Finance",
          "Business / Economy / Finance",
          "Business / Economy / Finance",
          "Business / Economy / Finance",
          "Business / Economy / Finance",
          "Business / Economy / Finance",
          "Business / Economy / Finance",
          "Business / Economy / Finance",
          "Business / Economy / Finance",
          "Business / Economy / Finance",
          "Business / Economy / Finance",
          "Business / Economy / Finance",
          "Business / Economy / Finance",
          "Business / Economy / Finance",
          "Business / Economy / Finance",
          "Business / Economy / Finance",
          "Business / Economy / Finance",
          "Business / Economy / Finance",
          "Business / Economy / Finance",
          "Business / Economy / Finance",
          "Business / Economy / Finance",
          "Business / Economy / Finance",
          "Business / Economy / Finance",
          "Business / Economy / Finance",
          "Business / Economy / Finance",
          "Business / Economy / Finance",
          "Business / Economy / Finance",
          "Business / Economy / Finance",
          "Business / Economy / Finance",
          "Business / Economy / Finance",
          "Business / Economy / Finance",
          "Business / Economy / Finance",
          "Business / Economy / Finance",
          "Business / Economy / Finance",
          "Business / Economy / Finance",
          "Business / Economy / Finance",
          "Business / Economy / Finance",
          "Business / Economy / Finance",
          "Business / Economy / Finance",
          "Business / Economy / Finance",
          "Business / Economy / Finance",
          "Business / Economy / Finance",
          "Business / Economy / Finance",
          "Business / Economy / Finance",
          "Business / Economy / Finance",
          "Business / Economy / Finance",
          "Business / Economy / Finance",
          "Business / Economy / Finance",
          "Business / Economy / Finance",
          "Business / Economy / Finance",
          "Business / Economy / Finance",
          "Business / Economy / Finance",
          "Business / Economy / Finance",
          "Business / Economy / Finance",
          "Business / Economy / Finance",
          "Business / Economy / Finance",
          "Business / Economy / Finance",
          "Business / Economy / Finance",
          "Business / Economy / Finance",
          "Business / Economy / Finance",
          "Business / Economy / Finance",
          "Business / Economy / Finance",
          "Business / Economy / Finance",
          "Business / Economy / Finance",
          "Business / Economy / Finance",
          "Business / Economy / Finance",
          "Business / Economy / Finance",
          "Business / Economy / Finance",
          "Business / Economy / Finance",
          "Business / Economy / Finance",
          "Business / Economy / Finance",
          "Business / Economy / Finance",
          "Business / Economy / Finance",
          "Business / Economy / Finance",
          "Business / Economy / Finance",
          "Business / Economy / Finance",
          "Business / Economy / Finance",
          "Business / Economy / Finance",
          "Business / Economy / Finance",
          "Business / Economy / Finance",
          "Business / Economy / Finance",
          "Business / Economy / Finance",
          "Business / Economy / Finance",
          "Business / Economy / Finance",
          "Business / Economy / Finance",
          "Business / Economy / Finance",
          "Business / Economy / Finance",
          "Business / Economy / Finance",
          "Business / Economy / Finance",
          "Business / Economy / Finance",
          "Business / Economy / Finance",
          "Business / Economy / Finance",
          "Business / Economy / Finance",
          "Business / Economy / Finance",
          "Business / Economy / Finance",
          "Business / Economy / Finance",
          "Business / Economy / Finance",
          "Business / Economy / Finance",
          "Business / Economy / Finance",
          "Business / Economy / Finance",
          "Business / Economy / Finance",
          "Business / Economy / Finance",
          "Business / Economy / Finance",
          "Business / Economy / Finance",
          "Business / Economy / Finance",
          "Business / Economy / Finance",
          "Business / Economy / Finance",
          "Business / Economy / Finance",
          "Business / Economy / Finance",
          "Business / Economy / Finance",
          "Business / Economy / Finance",
          "Business / Economy / Finance",
          "Business / Economy / Finance",
          "Business / Economy / Finance",
          "Business / Economy / Finance"
         ],
         "yaxis": "y"
        },
        {
         "alignmentgroup": "True",
         "bingroup": "y",
         "hovertemplate": "field_cd=5.0<br>count=%{x}<br>field_name=%{y}<extra></extra>",
         "legendgroup": "5.0",
         "marker": {
          "color": "#FFA15A",
          "opacity": 0.75,
          "pattern": {
           "shape": ""
          }
         },
         "name": "5.0",
         "offsetgroup": "5.0",
         "orientation": "h",
         "showlegend": true,
         "type": "histogram",
         "xaxis": "x",
         "y": [
          "Engineering",
          "Engineering",
          "Engineering",
          "Engineering",
          "Engineering",
          "Engineering",
          "Engineering",
          "Engineering",
          "Engineering",
          "Engineering",
          "Engineering",
          "Engineering",
          "Engineering",
          "Engineering",
          "Engineering",
          "Engineering",
          "Engineering",
          "Engineering",
          "Engineering",
          "Engineering",
          "Engineering",
          "Engineering",
          "Engineering",
          "Engineering",
          "Engineering",
          "Engineering",
          "Engineering",
          "Engineering",
          "Engineering",
          "Engineering",
          "Engineering",
          "Engineering",
          "Engineering",
          "Engineering",
          "Engineering",
          "Engineering",
          "Engineering",
          "Engineering",
          "Engineering",
          "Engineering",
          "Engineering",
          "Engineering",
          "Engineering",
          "Engineering",
          "Engineering",
          "Engineering",
          "Engineering",
          "Engineering",
          "Engineering",
          "Engineering",
          "Engineering",
          "Engineering",
          "Engineering",
          "Engineering",
          "Engineering",
          "Engineering"
         ],
         "yaxis": "y"
        },
        {
         "alignmentgroup": "True",
         "bingroup": "y",
         "hovertemplate": "field_cd=9.0<br>count=%{x}<br>field_name=%{y}<extra></extra>",
         "legendgroup": "9.0",
         "marker": {
          "color": "#19d3f3",
          "opacity": 0.75,
          "pattern": {
           "shape": ""
          }
         },
         "name": "9.0",
         "offsetgroup": "9.0",
         "orientation": "h",
         "showlegend": true,
         "type": "histogram",
         "xaxis": "x",
         "y": [
          "Education, Academia",
          "Education, Academia",
          "Education, Academia",
          "Education, Academia",
          "Education, Academia",
          "Education, Academia",
          "Education, Academia",
          "Education, Academia",
          "Education, Academia",
          "Education, Academia",
          "Education, Academia",
          "Education, Academia",
          "Education, Academia",
          "Education, Academia",
          "Education, Academia",
          "Education, Academia",
          "Education, Academia",
          "Education, Academia",
          "Education, Academia",
          "Education, Academia",
          "Education, Academia",
          "Education, Academia",
          "Education, Academia",
          "Education, Academia",
          "Education, Academia",
          "Education, Academia",
          "Education, Academia",
          "Education, Academia",
          "Education, Academia",
          "Education, Academia",
          "Education, Academia",
          "Education, Academia",
          "Education, Academia",
          "Education, Academia",
          "Education, Academia",
          "Education, Academia",
          "Education, Academia",
          "Education, Academia",
          "Education, Academia",
          "Education, Academia"
         ],
         "yaxis": "y"
        },
        {
         "alignmentgroup": "True",
         "bingroup": "y",
         "hovertemplate": "field_cd=3.0<br>count=%{x}<br>field_name=%{y}<extra></extra>",
         "legendgroup": "3.0",
         "marker": {
          "color": "#FF6692",
          "opacity": 0.75,
          "pattern": {
           "shape": ""
          }
         },
         "name": "3.0",
         "offsetgroup": "3.0",
         "orientation": "h",
         "showlegend": true,
         "type": "histogram",
         "xaxis": "x",
         "y": [
          "Social Science / Psychology",
          "Social Science / Psychology",
          "Social Science / Psychology",
          "Social Science / Psychology",
          "Social Science / Psychology",
          "Social Science / Psychology",
          "Social Science / Psychology",
          "Social Science / Psychology",
          "Social Science / Psychology",
          "Social Science / Psychology",
          "Social Science / Psychology",
          "Social Science / Psychology",
          "Social Science / Psychology",
          "Social Science / Psychology",
          "Social Science / Psychology",
          "Social Science / Psychology",
          "Social Science / Psychology",
          "Social Science / Psychology",
          "Social Science / Psychology",
          "Social Science / Psychology",
          "Social Science / Psychology",
          "Social Science / Psychology",
          "Social Science / Psychology",
          "Social Science / Psychology",
          "Social Science / Psychology",
          "Social Science / Psychology",
          "Social Science / Psychology",
          "Social Science / Psychology",
          "Social Science / Psychology",
          "Social Science / Psychology",
          "Social Science / Psychology",
          "Social Science / Psychology",
          "Social Science / Psychology",
          "Social Science / Psychology",
          "Social Science / Psychology",
          "Social Science / Psychology",
          "Social Science / Psychology",
          "Social Science / Psychology",
          "Social Science / Psychology",
          "Social Science / Psychology",
          "Social Science / Psychology",
          "Social Science / Psychology",
          "Social Science / Psychology",
          "Social Science / Psychology",
          "Social Science / Psychology",
          "Social Science / Psychology"
         ],
         "yaxis": "y"
        },
        {
         "alignmentgroup": "True",
         "bingroup": "y",
         "hovertemplate": "field_cd=11.0<br>count=%{x}<br>field_name=%{y}<extra></extra>",
         "legendgroup": "11.0",
         "marker": {
          "color": "#B6E880",
          "opacity": 0.75,
          "pattern": {
           "shape": ""
          }
         },
         "name": "11.0",
         "offsetgroup": "11.0",
         "orientation": "h",
         "showlegend": true,
         "type": "histogram",
         "xaxis": "x",
         "y": [
          "Social Work",
          "Social Work",
          "Social Work",
          "Social Work",
          "Social Work",
          "Social Work",
          "Social Work",
          "Social Work",
          "Social Work",
          "Social Work",
          "Social Work",
          "Social Work",
          "Social Work",
          "Social Work",
          "Social Work",
          "Social Work",
          "Social Work",
          "Social Work",
          "Social Work",
          "Social Work",
          "Social Work",
          "Social Work",
          "Social Work",
          "Social Work",
          "Social Work",
          "Social Work",
          "Social Work",
          "Social Work",
          "Social Work",
          "Social Work"
         ],
         "yaxis": "y"
        },
        {
         "alignmentgroup": "True",
         "bingroup": "y",
         "hovertemplate": "field_cd=12.0<br>count=%{x}<br>field_name=%{y}<extra></extra>",
         "legendgroup": "12.0",
         "marker": {
          "color": "#FECB52",
          "opacity": 0.75,
          "pattern": {
           "shape": ""
          }
         },
         "name": "12.0",
         "offsetgroup": "12.0",
         "orientation": "h",
         "showlegend": true,
         "type": "histogram",
         "xaxis": "x",
         "y": [
          "Undergrad / Undecided"
         ],
         "yaxis": "y"
        },
        {
         "alignmentgroup": "True",
         "bingroup": "y",
         "hovertemplate": "field_cd=4.0<br>count=%{x}<br>field_name=%{y}<extra></extra>",
         "legendgroup": "4.0",
         "marker": {
          "color": "#636efa",
          "opacity": 0.75,
          "pattern": {
           "shape": ""
          }
         },
         "name": "4.0",
         "offsetgroup": "4.0",
         "orientation": "h",
         "showlegend": true,
         "type": "histogram",
         "xaxis": "x",
         "y": [
          "Medical Science / Pharma / Biotech",
          "Medical Science / Pharma / Biotech",
          "Medical Science / Pharma / Biotech",
          "Medical Science / Pharma / Biotech",
          "Medical Science / Pharma / Biotech",
          "Medical Science / Pharma / Biotech",
          "Medical Science / Pharma / Biotech",
          "Medical Science / Pharma / Biotech",
          "Medical Science / Pharma / Biotech"
         ],
         "yaxis": "y"
        },
        {
         "alignmentgroup": "True",
         "bingroup": "y",
         "hovertemplate": "field_cd=7.0<br>count=%{x}<br>field_name=%{y}<extra></extra>",
         "legendgroup": "7.0",
         "marker": {
          "color": "#EF553B",
          "opacity": 0.75,
          "pattern": {
           "shape": ""
          }
         },
         "name": "7.0",
         "offsetgroup": "7.0",
         "orientation": "h",
         "showlegend": true,
         "type": "histogram",
         "xaxis": "x",
         "y": [
          "History / Religion / Philosopy",
          "History / Religion / Philosopy",
          "History / Religion / Philosopy",
          "History / Religion / Philosopy",
          "History / Religion / Philosopy",
          "History / Religion / Philosopy",
          "History / Religion / Philosopy",
          "History / Religion / Philosopy",
          "History / Religion / Philosopy",
          "History / Religion / Philosopy",
          "History / Religion / Philosopy",
          "History / Religion / Philosopy",
          "History / Religion / Philosopy",
          "History / Religion / Philosopy",
          "History / Religion / Philosopy",
          "History / Religion / Philosopy",
          "History / Religion / Philosopy"
         ],
         "yaxis": "y"
        },
        {
         "alignmentgroup": "True",
         "bingroup": "y",
         "hovertemplate": "field_cd=6.0<br>count=%{x}<br>field_name=%{y}<extra></extra>",
         "legendgroup": "6.0",
         "marker": {
          "color": "#00cc96",
          "opacity": 0.75,
          "pattern": {
           "shape": ""
          }
         },
         "name": "6.0",
         "offsetgroup": "6.0",
         "orientation": "h",
         "showlegend": true,
         "type": "histogram",
         "xaxis": "x",
         "y": [
          "English / Creative Writing / Journalism",
          "English / Creative Writing / Journalism",
          "English / Creative Writing / Journalism",
          "English / Creative Writing / Journalism",
          "English / Creative Writing / Journalism",
          "English / Creative Writing / Journalism",
          "English / Creative Writing / Journalism",
          "English / Creative Writing / Journalism",
          "English / Creative Writing / Journalism",
          "English / Creative Writing / Journalism",
          "English / Creative Writing / Journalism",
          "English / Creative Writing / Journalism",
          "English / Creative Writing / Journalism",
          "English / Creative Writing / Journalism",
          "English / Creative Writing / Journalism",
          "English / Creative Writing / Journalism",
          "English / Creative Writing / Journalism",
          "English / Creative Writing / Journalism",
          "English / Creative Writing / Journalism",
          "English / Creative Writing / Journalism",
          "English / Creative Writing / Journalism"
         ],
         "yaxis": "y"
        },
        {
         "alignmentgroup": "True",
         "bingroup": "y",
         "hovertemplate": "field_cd=10.0<br>count=%{x}<br>field_name=%{y}<extra></extra>",
         "legendgroup": "10.0",
         "marker": {
          "color": "#ab63fa",
          "opacity": 0.75,
          "pattern": {
           "shape": ""
          }
         },
         "name": "10.0",
         "offsetgroup": "10.0",
         "orientation": "h",
         "showlegend": true,
         "type": "histogram",
         "xaxis": "x",
         "y": [
          "Biology / Chemistry / Physics",
          "Biology / Chemistry / Physics",
          "Biology / Chemistry / Physics",
          "Biology / Chemistry / Physics",
          "Biology / Chemistry / Physics",
          "Biology / Chemistry / Physics",
          "Biology / Chemistry / Physics",
          "Biology / Chemistry / Physics",
          "Biology / Chemistry / Physics",
          "Biology / Chemistry / Physics",
          "Biology / Chemistry / Physics",
          "Biology / Chemistry / Physics",
          "Biology / Chemistry / Physics",
          "Biology / Chemistry / Physics",
          "Biology / Chemistry / Physics",
          "Biology / Chemistry / Physics",
          "Biology / Chemistry / Physics",
          "Biology / Chemistry / Physics",
          "Biology / Chemistry / Physics",
          "Biology / Chemistry / Physics",
          "Biology / Chemistry / Physics",
          "Biology / Chemistry / Physics",
          "Biology / Chemistry / Physics",
          "Biology / Chemistry / Physics",
          "Biology / Chemistry / Physics",
          "Biology / Chemistry / Physics",
          "Biology / Chemistry / Physics",
          "Biology / Chemistry / Physics",
          "Biology / Chemistry / Physics",
          "Biology / Chemistry / Physics",
          "Biology / Chemistry / Physics",
          "Biology / Chemistry / Physics",
          "Biology / Chemistry / Physics",
          "Biology / Chemistry / Physics",
          "Biology / Chemistry / Physics",
          "Biology / Chemistry / Physics",
          "Biology / Chemistry / Physics",
          "Biology / Chemistry / Physics",
          "Biology / Chemistry / Physics",
          "Biology / Chemistry / Physics",
          "Biology / Chemistry / Physics",
          "Biology / Chemistry / Physics",
          "Biology / Chemistry / Physics",
          "Biology / Chemistry / Physics",
          "Biology / Chemistry / Physics",
          "Biology / Chemistry / Physics",
          "Biology / Chemistry / Physics",
          "Biology / Chemistry / Physics",
          "Biology / Chemistry / Physics",
          "Biology / Chemistry / Physics",
          "Biology / Chemistry / Physics",
          "Biology / Chemistry / Physics",
          "Biology / Chemistry / Physics",
          "Biology / Chemistry / Physics",
          "Biology / Chemistry / Physics",
          "Biology / Chemistry / Physics",
          "Biology / Chemistry / Physics",
          "Biology / Chemistry / Physics",
          "Biology / Chemistry / Physics",
          "Biology / Chemistry / Physics",
          "Biology / Chemistry / Physics"
         ],
         "yaxis": "y"
        },
        {
         "alignmentgroup": "True",
         "bingroup": "y",
         "hovertemplate": "field_cd=14.0<br>count=%{x}<br>field_name=%{y}<extra></extra>",
         "legendgroup": "14.0",
         "marker": {
          "color": "#FFA15A",
          "opacity": 0.75,
          "pattern": {
           "shape": ""
          }
         },
         "name": "14.0",
         "offsetgroup": "14.0",
         "orientation": "h",
         "showlegend": true,
         "type": "histogram",
         "xaxis": "x",
         "y": [
          "Film",
          "Film",
          "Film",
          "Film",
          "Film",
          "Film",
          "Film"
         ],
         "yaxis": "y"
        },
        {
         "alignmentgroup": "True",
         "bingroup": "y",
         "hovertemplate": "field_cd=16.0<br>count=%{x}<br>field_name=%{y}<extra></extra>",
         "legendgroup": "16.0",
         "marker": {
          "color": "#19d3f3",
          "opacity": 0.75,
          "pattern": {
           "shape": ""
          }
         },
         "name": "16.0",
         "offsetgroup": "16.0",
         "orientation": "h",
         "showlegend": true,
         "type": "histogram",
         "xaxis": "x",
         "y": [
          "Languages",
          "Languages",
          "Languages"
         ],
         "yaxis": "y"
        },
        {
         "alignmentgroup": "True",
         "bingroup": "y",
         "hovertemplate": "field_cd=15.0<br>count=%{x}<br>field_name=%{y}<extra></extra>",
         "legendgroup": "15.0",
         "marker": {
          "color": "#FF6692",
          "opacity": 0.75,
          "pattern": {
           "shape": ""
          }
         },
         "name": "15.0",
         "offsetgroup": "15.0",
         "orientation": "h",
         "showlegend": true,
         "type": "histogram",
         "xaxis": "x",
         "y": [
          "Fine Arts / Arts Administration",
          "Fine Arts / Arts Administration",
          "Fine Arts / Arts Administration",
          "Fine Arts / Arts Administration",
          "Fine Arts / Arts Administration",
          "Fine Arts / Arts Administration",
          "Fine Arts / Arts Administration",
          "Fine Arts / Arts Administration",
          "Fine Arts / Arts Administration",
          "Fine Arts / Arts Administration",
          "Fine Arts / Arts Administration"
         ],
         "yaxis": "y"
        },
        {
         "alignmentgroup": "True",
         "bingroup": "y",
         "hovertemplate": "field_cd=17.0<br>count=%{x}<br>field_name=%{y}<extra></extra>",
         "legendgroup": "17.0",
         "marker": {
          "color": "#B6E880",
          "opacity": 0.75,
          "pattern": {
           "shape": ""
          }
         },
         "name": "17.0",
         "offsetgroup": "17.0",
         "orientation": "h",
         "showlegend": true,
         "type": "histogram",
         "xaxis": "x",
         "y": [
          "Architecture"
         ],
         "yaxis": "y"
        },
        {
         "alignmentgroup": "True",
         "bingroup": "y",
         "hovertemplate": "field_cd=18.0<br>count=%{x}<br>field_name=%{y}<extra></extra>",
         "legendgroup": "18.0",
         "marker": {
          "color": "#FF97FF",
          "opacity": 0.75,
          "pattern": {
           "shape": ""
          }
         },
         "name": "18.0",
         "offsetgroup": "18.0",
         "orientation": "h",
         "showlegend": true,
         "type": "histogram",
         "xaxis": "x",
         "y": [
          "Other",
          "Other",
          "Other"
         ],
         "yaxis": "y"
        }
       ],
       "layout": {
        "barmode": "relative",
        "legend": {
         "title": {
          "text": "field_cd"
         },
         "tracegroupgap": 0
        },
        "margin": {
         "t": 60
        },
        "template": {
         "data": {
          "bar": [
           {
            "error_x": {
             "color": "#2a3f5f"
            },
            "error_y": {
             "color": "#2a3f5f"
            },
            "marker": {
             "line": {
              "color": "#E5ECF6",
              "width": 0.5
             },
             "pattern": {
              "fillmode": "overlay",
              "size": 10,
              "solidity": 0.2
             }
            },
            "type": "bar"
           }
          ],
          "barpolar": [
           {
            "marker": {
             "line": {
              "color": "#E5ECF6",
              "width": 0.5
             },
             "pattern": {
              "fillmode": "overlay",
              "size": 10,
              "solidity": 0.2
             }
            },
            "type": "barpolar"
           }
          ],
          "carpet": [
           {
            "aaxis": {
             "endlinecolor": "#2a3f5f",
             "gridcolor": "white",
             "linecolor": "white",
             "minorgridcolor": "white",
             "startlinecolor": "#2a3f5f"
            },
            "baxis": {
             "endlinecolor": "#2a3f5f",
             "gridcolor": "white",
             "linecolor": "white",
             "minorgridcolor": "white",
             "startlinecolor": "#2a3f5f"
            },
            "type": "carpet"
           }
          ],
          "choropleth": [
           {
            "colorbar": {
             "outlinewidth": 0,
             "ticks": ""
            },
            "type": "choropleth"
           }
          ],
          "contour": [
           {
            "colorbar": {
             "outlinewidth": 0,
             "ticks": ""
            },
            "colorscale": [
             [
              0,
              "#0d0887"
             ],
             [
              0.1111111111111111,
              "#46039f"
             ],
             [
              0.2222222222222222,
              "#7201a8"
             ],
             [
              0.3333333333333333,
              "#9c179e"
             ],
             [
              0.4444444444444444,
              "#bd3786"
             ],
             [
              0.5555555555555556,
              "#d8576b"
             ],
             [
              0.6666666666666666,
              "#ed7953"
             ],
             [
              0.7777777777777778,
              "#fb9f3a"
             ],
             [
              0.8888888888888888,
              "#fdca26"
             ],
             [
              1,
              "#f0f921"
             ]
            ],
            "type": "contour"
           }
          ],
          "contourcarpet": [
           {
            "colorbar": {
             "outlinewidth": 0,
             "ticks": ""
            },
            "type": "contourcarpet"
           }
          ],
          "heatmap": [
           {
            "colorbar": {
             "outlinewidth": 0,
             "ticks": ""
            },
            "colorscale": [
             [
              0,
              "#0d0887"
             ],
             [
              0.1111111111111111,
              "#46039f"
             ],
             [
              0.2222222222222222,
              "#7201a8"
             ],
             [
              0.3333333333333333,
              "#9c179e"
             ],
             [
              0.4444444444444444,
              "#bd3786"
             ],
             [
              0.5555555555555556,
              "#d8576b"
             ],
             [
              0.6666666666666666,
              "#ed7953"
             ],
             [
              0.7777777777777778,
              "#fb9f3a"
             ],
             [
              0.8888888888888888,
              "#fdca26"
             ],
             [
              1,
              "#f0f921"
             ]
            ],
            "type": "heatmap"
           }
          ],
          "heatmapgl": [
           {
            "colorbar": {
             "outlinewidth": 0,
             "ticks": ""
            },
            "colorscale": [
             [
              0,
              "#0d0887"
             ],
             [
              0.1111111111111111,
              "#46039f"
             ],
             [
              0.2222222222222222,
              "#7201a8"
             ],
             [
              0.3333333333333333,
              "#9c179e"
             ],
             [
              0.4444444444444444,
              "#bd3786"
             ],
             [
              0.5555555555555556,
              "#d8576b"
             ],
             [
              0.6666666666666666,
              "#ed7953"
             ],
             [
              0.7777777777777778,
              "#fb9f3a"
             ],
             [
              0.8888888888888888,
              "#fdca26"
             ],
             [
              1,
              "#f0f921"
             ]
            ],
            "type": "heatmapgl"
           }
          ],
          "histogram": [
           {
            "marker": {
             "pattern": {
              "fillmode": "overlay",
              "size": 10,
              "solidity": 0.2
             }
            },
            "type": "histogram"
           }
          ],
          "histogram2d": [
           {
            "colorbar": {
             "outlinewidth": 0,
             "ticks": ""
            },
            "colorscale": [
             [
              0,
              "#0d0887"
             ],
             [
              0.1111111111111111,
              "#46039f"
             ],
             [
              0.2222222222222222,
              "#7201a8"
             ],
             [
              0.3333333333333333,
              "#9c179e"
             ],
             [
              0.4444444444444444,
              "#bd3786"
             ],
             [
              0.5555555555555556,
              "#d8576b"
             ],
             [
              0.6666666666666666,
              "#ed7953"
             ],
             [
              0.7777777777777778,
              "#fb9f3a"
             ],
             [
              0.8888888888888888,
              "#fdca26"
             ],
             [
              1,
              "#f0f921"
             ]
            ],
            "type": "histogram2d"
           }
          ],
          "histogram2dcontour": [
           {
            "colorbar": {
             "outlinewidth": 0,
             "ticks": ""
            },
            "colorscale": [
             [
              0,
              "#0d0887"
             ],
             [
              0.1111111111111111,
              "#46039f"
             ],
             [
              0.2222222222222222,
              "#7201a8"
             ],
             [
              0.3333333333333333,
              "#9c179e"
             ],
             [
              0.4444444444444444,
              "#bd3786"
             ],
             [
              0.5555555555555556,
              "#d8576b"
             ],
             [
              0.6666666666666666,
              "#ed7953"
             ],
             [
              0.7777777777777778,
              "#fb9f3a"
             ],
             [
              0.8888888888888888,
              "#fdca26"
             ],
             [
              1,
              "#f0f921"
             ]
            ],
            "type": "histogram2dcontour"
           }
          ],
          "mesh3d": [
           {
            "colorbar": {
             "outlinewidth": 0,
             "ticks": ""
            },
            "type": "mesh3d"
           }
          ],
          "parcoords": [
           {
            "line": {
             "colorbar": {
              "outlinewidth": 0,
              "ticks": ""
             }
            },
            "type": "parcoords"
           }
          ],
          "pie": [
           {
            "automargin": true,
            "type": "pie"
           }
          ],
          "scatter": [
           {
            "fillpattern": {
             "fillmode": "overlay",
             "size": 10,
             "solidity": 0.2
            },
            "type": "scatter"
           }
          ],
          "scatter3d": [
           {
            "line": {
             "colorbar": {
              "outlinewidth": 0,
              "ticks": ""
             }
            },
            "marker": {
             "colorbar": {
              "outlinewidth": 0,
              "ticks": ""
             }
            },
            "type": "scatter3d"
           }
          ],
          "scattercarpet": [
           {
            "marker": {
             "colorbar": {
              "outlinewidth": 0,
              "ticks": ""
             }
            },
            "type": "scattercarpet"
           }
          ],
          "scattergeo": [
           {
            "marker": {
             "colorbar": {
              "outlinewidth": 0,
              "ticks": ""
             }
            },
            "type": "scattergeo"
           }
          ],
          "scattergl": [
           {
            "marker": {
             "colorbar": {
              "outlinewidth": 0,
              "ticks": ""
             }
            },
            "type": "scattergl"
           }
          ],
          "scattermapbox": [
           {
            "marker": {
             "colorbar": {
              "outlinewidth": 0,
              "ticks": ""
             }
            },
            "type": "scattermapbox"
           }
          ],
          "scatterpolar": [
           {
            "marker": {
             "colorbar": {
              "outlinewidth": 0,
              "ticks": ""
             }
            },
            "type": "scatterpolar"
           }
          ],
          "scatterpolargl": [
           {
            "marker": {
             "colorbar": {
              "outlinewidth": 0,
              "ticks": ""
             }
            },
            "type": "scatterpolargl"
           }
          ],
          "scatterternary": [
           {
            "marker": {
             "colorbar": {
              "outlinewidth": 0,
              "ticks": ""
             }
            },
            "type": "scatterternary"
           }
          ],
          "surface": [
           {
            "colorbar": {
             "outlinewidth": 0,
             "ticks": ""
            },
            "colorscale": [
             [
              0,
              "#0d0887"
             ],
             [
              0.1111111111111111,
              "#46039f"
             ],
             [
              0.2222222222222222,
              "#7201a8"
             ],
             [
              0.3333333333333333,
              "#9c179e"
             ],
             [
              0.4444444444444444,
              "#bd3786"
             ],
             [
              0.5555555555555556,
              "#d8576b"
             ],
             [
              0.6666666666666666,
              "#ed7953"
             ],
             [
              0.7777777777777778,
              "#fb9f3a"
             ],
             [
              0.8888888888888888,
              "#fdca26"
             ],
             [
              1,
              "#f0f921"
             ]
            ],
            "type": "surface"
           }
          ],
          "table": [
           {
            "cells": {
             "fill": {
              "color": "#EBF0F8"
             },
             "line": {
              "color": "white"
             }
            },
            "header": {
             "fill": {
              "color": "#C8D4E3"
             },
             "line": {
              "color": "white"
             }
            },
            "type": "table"
           }
          ]
         },
         "layout": {
          "annotationdefaults": {
           "arrowcolor": "#2a3f5f",
           "arrowhead": 0,
           "arrowwidth": 1
          },
          "autotypenumbers": "strict",
          "coloraxis": {
           "colorbar": {
            "outlinewidth": 0,
            "ticks": ""
           }
          },
          "colorscale": {
           "diverging": [
            [
             0,
             "#8e0152"
            ],
            [
             0.1,
             "#c51b7d"
            ],
            [
             0.2,
             "#de77ae"
            ],
            [
             0.3,
             "#f1b6da"
            ],
            [
             0.4,
             "#fde0ef"
            ],
            [
             0.5,
             "#f7f7f7"
            ],
            [
             0.6,
             "#e6f5d0"
            ],
            [
             0.7,
             "#b8e186"
            ],
            [
             0.8,
             "#7fbc41"
            ],
            [
             0.9,
             "#4d9221"
            ],
            [
             1,
             "#276419"
            ]
           ],
           "sequential": [
            [
             0,
             "#0d0887"
            ],
            [
             0.1111111111111111,
             "#46039f"
            ],
            [
             0.2222222222222222,
             "#7201a8"
            ],
            [
             0.3333333333333333,
             "#9c179e"
            ],
            [
             0.4444444444444444,
             "#bd3786"
            ],
            [
             0.5555555555555556,
             "#d8576b"
            ],
            [
             0.6666666666666666,
             "#ed7953"
            ],
            [
             0.7777777777777778,
             "#fb9f3a"
            ],
            [
             0.8888888888888888,
             "#fdca26"
            ],
            [
             1,
             "#f0f921"
            ]
           ],
           "sequentialminus": [
            [
             0,
             "#0d0887"
            ],
            [
             0.1111111111111111,
             "#46039f"
            ],
            [
             0.2222222222222222,
             "#7201a8"
            ],
            [
             0.3333333333333333,
             "#9c179e"
            ],
            [
             0.4444444444444444,
             "#bd3786"
            ],
            [
             0.5555555555555556,
             "#d8576b"
            ],
            [
             0.6666666666666666,
             "#ed7953"
            ],
            [
             0.7777777777777778,
             "#fb9f3a"
            ],
            [
             0.8888888888888888,
             "#fdca26"
            ],
            [
             1,
             "#f0f921"
            ]
           ]
          },
          "colorway": [
           "#636efa",
           "#EF553B",
           "#00cc96",
           "#ab63fa",
           "#FFA15A",
           "#19d3f3",
           "#FF6692",
           "#B6E880",
           "#FF97FF",
           "#FECB52"
          ],
          "font": {
           "color": "#2a3f5f"
          },
          "geo": {
           "bgcolor": "white",
           "lakecolor": "white",
           "landcolor": "#E5ECF6",
           "showlakes": true,
           "showland": true,
           "subunitcolor": "white"
          },
          "hoverlabel": {
           "align": "left"
          },
          "hovermode": "closest",
          "mapbox": {
           "style": "light"
          },
          "paper_bgcolor": "white",
          "plot_bgcolor": "#E5ECF6",
          "polar": {
           "angularaxis": {
            "gridcolor": "white",
            "linecolor": "white",
            "ticks": ""
           },
           "bgcolor": "#E5ECF6",
           "radialaxis": {
            "gridcolor": "white",
            "linecolor": "white",
            "ticks": ""
           }
          },
          "scene": {
           "xaxis": {
            "backgroundcolor": "#E5ECF6",
            "gridcolor": "white",
            "gridwidth": 2,
            "linecolor": "white",
            "showbackground": true,
            "ticks": "",
            "zerolinecolor": "white"
           },
           "yaxis": {
            "backgroundcolor": "#E5ECF6",
            "gridcolor": "white",
            "gridwidth": 2,
            "linecolor": "white",
            "showbackground": true,
            "ticks": "",
            "zerolinecolor": "white"
           },
           "zaxis": {
            "backgroundcolor": "#E5ECF6",
            "gridcolor": "white",
            "gridwidth": 2,
            "linecolor": "white",
            "showbackground": true,
            "ticks": "",
            "zerolinecolor": "white"
           }
          },
          "shapedefaults": {
           "line": {
            "color": "#2a3f5f"
           }
          },
          "ternary": {
           "aaxis": {
            "gridcolor": "white",
            "linecolor": "white",
            "ticks": ""
           },
           "baxis": {
            "gridcolor": "white",
            "linecolor": "white",
            "ticks": ""
           },
           "bgcolor": "#E5ECF6",
           "caxis": {
            "gridcolor": "white",
            "linecolor": "white",
            "ticks": ""
           }
          },
          "title": {
           "x": 0.05
          },
          "xaxis": {
           "automargin": true,
           "gridcolor": "white",
           "linecolor": "white",
           "ticks": "",
           "title": {
            "standoff": 15
           },
           "zerolinecolor": "white",
           "zerolinewidth": 2
          },
          "yaxis": {
           "automargin": true,
           "gridcolor": "white",
           "linecolor": "white",
           "ticks": "",
           "title": {
            "standoff": 15
           },
           "zerolinecolor": "white",
           "zerolinewidth": 2
          }
         }
        },
        "xaxis": {
         "anchor": "y",
         "domain": [
          0,
          1
         ],
         "title": {
          "text": "count"
         }
        },
        "yaxis": {
         "anchor": "x",
         "categoryorder": "total ascending",
         "domain": [
          0,
          1
         ],
         "title": {
          "text": "field_name"
         }
        }
       }
      }
     },
     "metadata": {},
     "output_type": "display_data"
    }
   ],
   "source": [
    "import plotly.express as px\n",
    "fig = px.histogram(df_iid, y=\"field_name\", color = \"field_cd\", opacity = 0.75).update_yaxes(categoryorder = \"total ascending\")\n",
    "fig.show()"
   ]
  },
  {
   "cell_type": "code",
   "execution_count": 21,
   "metadata": {},
   "outputs": [
    {
     "data": {
      "application/vnd.plotly.v1+json": {
       "config": {
        "plotlyServerURL": "https://plot.ly"
       },
       "data": [
        {
         "alignmentgroup": "True",
         "bingroup": "y",
         "hovertemplate": "field_name=%{y}<br>count=%{x}<extra></extra>",
         "legendgroup": "Law",
         "marker": {
          "color": "#636efa",
          "opacity": 0.75,
          "pattern": {
           "shape": ""
          }
         },
         "name": "Law",
         "offsetgroup": "Law",
         "orientation": "h",
         "showlegend": true,
         "type": "histogram",
         "xaxis": "x",
         "y": [
          "Law",
          "Law",
          "Law",
          "Law",
          "Law",
          "Law",
          "Law",
          "Law",
          "Law",
          "Law",
          "Law",
          "Law",
          "Law",
          "Law",
          "Law",
          "Law",
          "Law",
          "Law",
          "Law",
          "Law",
          "Law",
          "Law",
          "Law",
          "Law",
          "Law",
          "Law",
          "Law",
          "Law",
          "Law",
          "Law",
          "Law",
          "Law",
          "Law",
          "Law",
          "Law",
          "Law",
          "Law",
          "Law",
          "Law",
          "Law",
          "Law",
          "Law",
          "Law",
          "Law",
          "Law",
          "Law",
          "Law",
          "Law"
         ],
         "yaxis": "y"
        },
        {
         "alignmentgroup": "True",
         "bingroup": "y",
         "hovertemplate": "field_name=%{y}<br>count=%{x}<extra></extra>",
         "legendgroup": "Math",
         "marker": {
          "color": "#EF553B",
          "opacity": 0.75,
          "pattern": {
           "shape": ""
          }
         },
         "name": "Math",
         "offsetgroup": "Math",
         "orientation": "h",
         "showlegend": true,
         "type": "histogram",
         "xaxis": "x",
         "y": [
          "Math",
          "Math",
          "Math",
          "Math",
          "Math",
          "Math",
          "Math",
          "Math",
          "Math",
          "Math",
          "Math",
          "Math",
          "Math",
          "Math"
         ],
         "yaxis": "y"
        },
        {
         "alignmentgroup": "True",
         "bingroup": "y",
         "hovertemplate": "field_name=%{y}<br>count=%{x}<extra></extra>",
         "legendgroup": "Political Science and International Affairs",
         "marker": {
          "color": "#00cc96",
          "opacity": 0.75,
          "pattern": {
           "shape": ""
          }
         },
         "name": "Political Science and International Affairs",
         "offsetgroup": "Political Science and International Affairs",
         "orientation": "h",
         "showlegend": true,
         "type": "histogram",
         "xaxis": "x",
         "y": [
          "Political Science and International Affairs",
          "Political Science and International Affairs",
          "Political Science and International Affairs",
          "Political Science and International Affairs",
          "Political Science and International Affairs",
          "Political Science and International Affairs",
          "Political Science and International Affairs",
          "Political Science and International Affairs",
          "Political Science and International Affairs",
          "Political Science and International Affairs",
          "Political Science and International Affairs",
          "Political Science and International Affairs",
          "Political Science and International Affairs",
          "Political Science and International Affairs",
          "Political Science and International Affairs",
          "Political Science and International Affairs",
          "Political Science and International Affairs",
          "Political Science and International Affairs",
          "Political Science and International Affairs",
          "Political Science and International Affairs",
          "Political Science and International Affairs",
          "Political Science and International Affairs",
          "Political Science and International Affairs",
          "Political Science and International Affairs",
          "Political Science and International Affairs",
          "Political Science and International Affairs",
          "Political Science and International Affairs",
          "Political Science and International Affairs",
          "Political Science and International Affairs",
          "Political Science and International Affairs",
          "Political Science and International Affairs",
          "Political Science and International Affairs",
          "Political Science and International Affairs",
          "Political Science and International Affairs",
          "Political Science and International Affairs",
          "Political Science and International Affairs",
          "Political Science and International Affairs",
          "Political Science and International Affairs",
          "Political Science and International Affairs",
          "Political Science and International Affairs",
          "Political Science and International Affairs",
          "Political Science and International Affairs",
          "Political Science and International Affairs",
          "Political Science and International Affairs",
          "Political Science and International Affairs",
          "Political Science and International Affairs"
         ],
         "yaxis": "y"
        },
        {
         "alignmentgroup": "True",
         "bingroup": "y",
         "hovertemplate": "field_name=%{y}<br>count=%{x}<extra></extra>",
         "legendgroup": "Business / Economy / Finance",
         "marker": {
          "color": "#ab63fa",
          "opacity": 0.75,
          "pattern": {
           "shape": ""
          }
         },
         "name": "Business / Economy / Finance",
         "offsetgroup": "Business / Economy / Finance",
         "orientation": "h",
         "showlegend": true,
         "type": "histogram",
         "xaxis": "x",
         "y": [
          "Business / Economy / Finance",
          "Business / Economy / Finance",
          "Business / Economy / Finance",
          "Business / Economy / Finance",
          "Business / Economy / Finance",
          "Business / Economy / Finance",
          "Business / Economy / Finance",
          "Business / Economy / Finance",
          "Business / Economy / Finance",
          "Business / Economy / Finance",
          "Business / Economy / Finance",
          "Business / Economy / Finance",
          "Business / Economy / Finance",
          "Business / Economy / Finance",
          "Business / Economy / Finance",
          "Business / Economy / Finance",
          "Business / Economy / Finance",
          "Business / Economy / Finance",
          "Business / Economy / Finance",
          "Business / Economy / Finance",
          "Business / Economy / Finance",
          "Business / Economy / Finance",
          "Business / Economy / Finance",
          "Business / Economy / Finance",
          "Business / Economy / Finance",
          "Business / Economy / Finance",
          "Business / Economy / Finance",
          "Business / Economy / Finance",
          "Business / Economy / Finance",
          "Business / Economy / Finance",
          "Business / Economy / Finance",
          "Business / Economy / Finance",
          "Business / Economy / Finance",
          "Business / Economy / Finance",
          "Business / Economy / Finance",
          "Business / Economy / Finance",
          "Business / Economy / Finance",
          "Business / Economy / Finance",
          "Business / Economy / Finance",
          "Business / Economy / Finance",
          "Business / Economy / Finance",
          "Business / Economy / Finance",
          "Business / Economy / Finance",
          "Business / Economy / Finance",
          "Business / Economy / Finance",
          "Business / Economy / Finance",
          "Business / Economy / Finance",
          "Business / Economy / Finance",
          "Business / Economy / Finance",
          "Business / Economy / Finance",
          "Business / Economy / Finance",
          "Business / Economy / Finance",
          "Business / Economy / Finance",
          "Business / Economy / Finance",
          "Business / Economy / Finance",
          "Business / Economy / Finance",
          "Business / Economy / Finance",
          "Business / Economy / Finance",
          "Business / Economy / Finance",
          "Business / Economy / Finance",
          "Business / Economy / Finance",
          "Business / Economy / Finance",
          "Business / Economy / Finance",
          "Business / Economy / Finance",
          "Business / Economy / Finance",
          "Business / Economy / Finance",
          "Business / Economy / Finance",
          "Business / Economy / Finance",
          "Business / Economy / Finance",
          "Business / Economy / Finance",
          "Business / Economy / Finance",
          "Business / Economy / Finance",
          "Business / Economy / Finance",
          "Business / Economy / Finance",
          "Business / Economy / Finance",
          "Business / Economy / Finance",
          "Business / Economy / Finance",
          "Business / Economy / Finance",
          "Business / Economy / Finance",
          "Business / Economy / Finance",
          "Business / Economy / Finance",
          "Business / Economy / Finance",
          "Business / Economy / Finance",
          "Business / Economy / Finance",
          "Business / Economy / Finance",
          "Business / Economy / Finance",
          "Business / Economy / Finance",
          "Business / Economy / Finance",
          "Business / Economy / Finance",
          "Business / Economy / Finance",
          "Business / Economy / Finance",
          "Business / Economy / Finance",
          "Business / Economy / Finance",
          "Business / Economy / Finance",
          "Business / Economy / Finance",
          "Business / Economy / Finance",
          "Business / Economy / Finance",
          "Business / Economy / Finance",
          "Business / Economy / Finance",
          "Business / Economy / Finance",
          "Business / Economy / Finance",
          "Business / Economy / Finance",
          "Business / Economy / Finance",
          "Business / Economy / Finance",
          "Business / Economy / Finance",
          "Business / Economy / Finance",
          "Business / Economy / Finance",
          "Business / Economy / Finance",
          "Business / Economy / Finance",
          "Business / Economy / Finance",
          "Business / Economy / Finance",
          "Business / Economy / Finance",
          "Business / Economy / Finance",
          "Business / Economy / Finance",
          "Business / Economy / Finance",
          "Business / Economy / Finance",
          "Business / Economy / Finance",
          "Business / Economy / Finance",
          "Business / Economy / Finance",
          "Business / Economy / Finance",
          "Business / Economy / Finance",
          "Business / Economy / Finance",
          "Business / Economy / Finance",
          "Business / Economy / Finance",
          "Business / Economy / Finance",
          "Business / Economy / Finance",
          "Business / Economy / Finance",
          "Business / Economy / Finance",
          "Business / Economy / Finance",
          "Business / Economy / Finance"
         ],
         "yaxis": "y"
        },
        {
         "alignmentgroup": "True",
         "bingroup": "y",
         "hovertemplate": "field_name=%{y}<br>count=%{x}<extra></extra>",
         "legendgroup": "Engineering",
         "marker": {
          "color": "#FFA15A",
          "opacity": 0.75,
          "pattern": {
           "shape": ""
          }
         },
         "name": "Engineering",
         "offsetgroup": "Engineering",
         "orientation": "h",
         "showlegend": true,
         "type": "histogram",
         "xaxis": "x",
         "y": [
          "Engineering",
          "Engineering",
          "Engineering",
          "Engineering",
          "Engineering",
          "Engineering",
          "Engineering",
          "Engineering",
          "Engineering",
          "Engineering",
          "Engineering",
          "Engineering",
          "Engineering",
          "Engineering",
          "Engineering",
          "Engineering",
          "Engineering",
          "Engineering",
          "Engineering",
          "Engineering",
          "Engineering",
          "Engineering",
          "Engineering",
          "Engineering",
          "Engineering",
          "Engineering",
          "Engineering",
          "Engineering",
          "Engineering",
          "Engineering",
          "Engineering",
          "Engineering",
          "Engineering",
          "Engineering",
          "Engineering",
          "Engineering",
          "Engineering",
          "Engineering",
          "Engineering",
          "Engineering",
          "Engineering",
          "Engineering",
          "Engineering",
          "Engineering",
          "Engineering",
          "Engineering",
          "Engineering",
          "Engineering",
          "Engineering",
          "Engineering",
          "Engineering",
          "Engineering",
          "Engineering",
          "Engineering",
          "Engineering",
          "Engineering"
         ],
         "yaxis": "y"
        },
        {
         "alignmentgroup": "True",
         "bingroup": "y",
         "hovertemplate": "field_name=%{y}<br>count=%{x}<extra></extra>",
         "legendgroup": "Education, Academia",
         "marker": {
          "color": "#19d3f3",
          "opacity": 0.75,
          "pattern": {
           "shape": ""
          }
         },
         "name": "Education, Academia",
         "offsetgroup": "Education, Academia",
         "orientation": "h",
         "showlegend": true,
         "type": "histogram",
         "xaxis": "x",
         "y": [
          "Education, Academia",
          "Education, Academia",
          "Education, Academia",
          "Education, Academia",
          "Education, Academia",
          "Education, Academia",
          "Education, Academia",
          "Education, Academia",
          "Education, Academia",
          "Education, Academia",
          "Education, Academia",
          "Education, Academia",
          "Education, Academia",
          "Education, Academia",
          "Education, Academia",
          "Education, Academia",
          "Education, Academia",
          "Education, Academia",
          "Education, Academia",
          "Education, Academia",
          "Education, Academia",
          "Education, Academia",
          "Education, Academia",
          "Education, Academia",
          "Education, Academia",
          "Education, Academia",
          "Education, Academia",
          "Education, Academia",
          "Education, Academia",
          "Education, Academia",
          "Education, Academia",
          "Education, Academia",
          "Education, Academia",
          "Education, Academia",
          "Education, Academia",
          "Education, Academia",
          "Education, Academia",
          "Education, Academia",
          "Education, Academia",
          "Education, Academia"
         ],
         "yaxis": "y"
        },
        {
         "alignmentgroup": "True",
         "bingroup": "y",
         "hovertemplate": "field_name=%{y}<br>count=%{x}<extra></extra>",
         "legendgroup": "Social Science / Psychology",
         "marker": {
          "color": "#FF6692",
          "opacity": 0.75,
          "pattern": {
           "shape": ""
          }
         },
         "name": "Social Science / Psychology",
         "offsetgroup": "Social Science / Psychology",
         "orientation": "h",
         "showlegend": true,
         "type": "histogram",
         "xaxis": "x",
         "y": [
          "Social Science / Psychology",
          "Social Science / Psychology",
          "Social Science / Psychology",
          "Social Science / Psychology",
          "Social Science / Psychology",
          "Social Science / Psychology",
          "Social Science / Psychology",
          "Social Science / Psychology",
          "Social Science / Psychology",
          "Social Science / Psychology",
          "Social Science / Psychology",
          "Social Science / Psychology",
          "Social Science / Psychology",
          "Social Science / Psychology",
          "Social Science / Psychology",
          "Social Science / Psychology",
          "Social Science / Psychology",
          "Social Science / Psychology",
          "Social Science / Psychology",
          "Social Science / Psychology",
          "Social Science / Psychology",
          "Social Science / Psychology",
          "Social Science / Psychology",
          "Social Science / Psychology",
          "Social Science / Psychology",
          "Social Science / Psychology",
          "Social Science / Psychology",
          "Social Science / Psychology",
          "Social Science / Psychology",
          "Social Science / Psychology",
          "Social Science / Psychology",
          "Social Science / Psychology",
          "Social Science / Psychology",
          "Social Science / Psychology",
          "Social Science / Psychology",
          "Social Science / Psychology",
          "Social Science / Psychology",
          "Social Science / Psychology",
          "Social Science / Psychology",
          "Social Science / Psychology",
          "Social Science / Psychology",
          "Social Science / Psychology",
          "Social Science / Psychology",
          "Social Science / Psychology",
          "Social Science / Psychology",
          "Social Science / Psychology"
         ],
         "yaxis": "y"
        },
        {
         "alignmentgroup": "True",
         "bingroup": "y",
         "hovertemplate": "field_name=%{y}<br>count=%{x}<extra></extra>",
         "legendgroup": "Social Work",
         "marker": {
          "color": "#B6E880",
          "opacity": 0.75,
          "pattern": {
           "shape": ""
          }
         },
         "name": "Social Work",
         "offsetgroup": "Social Work",
         "orientation": "h",
         "showlegend": true,
         "type": "histogram",
         "xaxis": "x",
         "y": [
          "Social Work",
          "Social Work",
          "Social Work",
          "Social Work",
          "Social Work",
          "Social Work",
          "Social Work",
          "Social Work",
          "Social Work",
          "Social Work",
          "Social Work",
          "Social Work",
          "Social Work",
          "Social Work",
          "Social Work",
          "Social Work",
          "Social Work",
          "Social Work",
          "Social Work",
          "Social Work",
          "Social Work",
          "Social Work",
          "Social Work",
          "Social Work",
          "Social Work",
          "Social Work",
          "Social Work",
          "Social Work",
          "Social Work",
          "Social Work"
         ],
         "yaxis": "y"
        },
        {
         "alignmentgroup": "True",
         "bingroup": "y",
         "hovertemplate": "field_name=%{y}<br>count=%{x}<extra></extra>",
         "legendgroup": "Other",
         "marker": {
          "color": "#FF97FF",
          "opacity": 0.75,
          "pattern": {
           "shape": ""
          }
         },
         "name": "Other",
         "offsetgroup": "Other",
         "orientation": "h",
         "showlegend": true,
         "type": "histogram",
         "xaxis": "x",
         "y": [
          "Other",
          "Other",
          "Other",
          "Other",
          "Other",
          "Other",
          "Other",
          "Other",
          "Other",
          "Other"
         ],
         "yaxis": "y"
        },
        {
         "alignmentgroup": "True",
         "bingroup": "y",
         "hovertemplate": "field_name=%{y}<br>count=%{x}<extra></extra>",
         "legendgroup": "Undergrad / Undecided",
         "marker": {
          "color": "#FECB52",
          "opacity": 0.75,
          "pattern": {
           "shape": ""
          }
         },
         "name": "Undergrad / Undecided",
         "offsetgroup": "Undergrad / Undecided",
         "orientation": "h",
         "showlegend": true,
         "type": "histogram",
         "xaxis": "x",
         "y": [
          "Undergrad / Undecided"
         ],
         "yaxis": "y"
        },
        {
         "alignmentgroup": "True",
         "bingroup": "y",
         "hovertemplate": "field_name=%{y}<br>count=%{x}<extra></extra>",
         "legendgroup": "Medical Science / Pharma / Biotech",
         "marker": {
          "color": "#636efa",
          "opacity": 0.75,
          "pattern": {
           "shape": ""
          }
         },
         "name": "Medical Science / Pharma / Biotech",
         "offsetgroup": "Medical Science / Pharma / Biotech",
         "orientation": "h",
         "showlegend": true,
         "type": "histogram",
         "xaxis": "x",
         "y": [
          "Medical Science / Pharma / Biotech",
          "Medical Science / Pharma / Biotech",
          "Medical Science / Pharma / Biotech",
          "Medical Science / Pharma / Biotech",
          "Medical Science / Pharma / Biotech",
          "Medical Science / Pharma / Biotech",
          "Medical Science / Pharma / Biotech",
          "Medical Science / Pharma / Biotech",
          "Medical Science / Pharma / Biotech"
         ],
         "yaxis": "y"
        },
        {
         "alignmentgroup": "True",
         "bingroup": "y",
         "hovertemplate": "field_name=%{y}<br>count=%{x}<extra></extra>",
         "legendgroup": "History / Religion / Philosopy",
         "marker": {
          "color": "#EF553B",
          "opacity": 0.75,
          "pattern": {
           "shape": ""
          }
         },
         "name": "History / Religion / Philosopy",
         "offsetgroup": "History / Religion / Philosopy",
         "orientation": "h",
         "showlegend": true,
         "type": "histogram",
         "xaxis": "x",
         "y": [
          "History / Religion / Philosopy",
          "History / Religion / Philosopy",
          "History / Religion / Philosopy",
          "History / Religion / Philosopy",
          "History / Religion / Philosopy",
          "History / Religion / Philosopy",
          "History / Religion / Philosopy",
          "History / Religion / Philosopy",
          "History / Religion / Philosopy",
          "History / Religion / Philosopy",
          "History / Religion / Philosopy",
          "History / Religion / Philosopy",
          "History / Religion / Philosopy",
          "History / Religion / Philosopy",
          "History / Religion / Philosopy",
          "History / Religion / Philosopy",
          "History / Religion / Philosopy"
         ],
         "yaxis": "y"
        },
        {
         "alignmentgroup": "True",
         "bingroup": "y",
         "hovertemplate": "field_name=%{y}<br>count=%{x}<extra></extra>",
         "legendgroup": "English / Creative Writing / Journalism",
         "marker": {
          "color": "#00cc96",
          "opacity": 0.75,
          "pattern": {
           "shape": ""
          }
         },
         "name": "English / Creative Writing / Journalism",
         "offsetgroup": "English / Creative Writing / Journalism",
         "orientation": "h",
         "showlegend": true,
         "type": "histogram",
         "xaxis": "x",
         "y": [
          "English / Creative Writing / Journalism",
          "English / Creative Writing / Journalism",
          "English / Creative Writing / Journalism",
          "English / Creative Writing / Journalism",
          "English / Creative Writing / Journalism",
          "English / Creative Writing / Journalism",
          "English / Creative Writing / Journalism",
          "English / Creative Writing / Journalism",
          "English / Creative Writing / Journalism",
          "English / Creative Writing / Journalism",
          "English / Creative Writing / Journalism",
          "English / Creative Writing / Journalism",
          "English / Creative Writing / Journalism",
          "English / Creative Writing / Journalism",
          "English / Creative Writing / Journalism",
          "English / Creative Writing / Journalism",
          "English / Creative Writing / Journalism",
          "English / Creative Writing / Journalism",
          "English / Creative Writing / Journalism",
          "English / Creative Writing / Journalism",
          "English / Creative Writing / Journalism"
         ],
         "yaxis": "y"
        },
        {
         "alignmentgroup": "True",
         "bingroup": "y",
         "hovertemplate": "field_name=%{y}<br>count=%{x}<extra></extra>",
         "legendgroup": "Biology / Chemistry / Physics",
         "marker": {
          "color": "#ab63fa",
          "opacity": 0.75,
          "pattern": {
           "shape": ""
          }
         },
         "name": "Biology / Chemistry / Physics",
         "offsetgroup": "Biology / Chemistry / Physics",
         "orientation": "h",
         "showlegend": true,
         "type": "histogram",
         "xaxis": "x",
         "y": [
          "Biology / Chemistry / Physics",
          "Biology / Chemistry / Physics",
          "Biology / Chemistry / Physics",
          "Biology / Chemistry / Physics",
          "Biology / Chemistry / Physics",
          "Biology / Chemistry / Physics",
          "Biology / Chemistry / Physics",
          "Biology / Chemistry / Physics",
          "Biology / Chemistry / Physics",
          "Biology / Chemistry / Physics",
          "Biology / Chemistry / Physics",
          "Biology / Chemistry / Physics",
          "Biology / Chemistry / Physics",
          "Biology / Chemistry / Physics",
          "Biology / Chemistry / Physics",
          "Biology / Chemistry / Physics",
          "Biology / Chemistry / Physics",
          "Biology / Chemistry / Physics",
          "Biology / Chemistry / Physics",
          "Biology / Chemistry / Physics",
          "Biology / Chemistry / Physics",
          "Biology / Chemistry / Physics",
          "Biology / Chemistry / Physics",
          "Biology / Chemistry / Physics",
          "Biology / Chemistry / Physics",
          "Biology / Chemistry / Physics",
          "Biology / Chemistry / Physics",
          "Biology / Chemistry / Physics",
          "Biology / Chemistry / Physics",
          "Biology / Chemistry / Physics",
          "Biology / Chemistry / Physics",
          "Biology / Chemistry / Physics",
          "Biology / Chemistry / Physics",
          "Biology / Chemistry / Physics",
          "Biology / Chemistry / Physics",
          "Biology / Chemistry / Physics",
          "Biology / Chemistry / Physics",
          "Biology / Chemistry / Physics",
          "Biology / Chemistry / Physics",
          "Biology / Chemistry / Physics",
          "Biology / Chemistry / Physics",
          "Biology / Chemistry / Physics",
          "Biology / Chemistry / Physics",
          "Biology / Chemistry / Physics",
          "Biology / Chemistry / Physics",
          "Biology / Chemistry / Physics",
          "Biology / Chemistry / Physics",
          "Biology / Chemistry / Physics",
          "Biology / Chemistry / Physics",
          "Biology / Chemistry / Physics",
          "Biology / Chemistry / Physics",
          "Biology / Chemistry / Physics",
          "Biology / Chemistry / Physics",
          "Biology / Chemistry / Physics",
          "Biology / Chemistry / Physics",
          "Biology / Chemistry / Physics",
          "Biology / Chemistry / Physics",
          "Biology / Chemistry / Physics",
          "Biology / Chemistry / Physics",
          "Biology / Chemistry / Physics",
          "Biology / Chemistry / Physics"
         ],
         "yaxis": "y"
        },
        {
         "alignmentgroup": "True",
         "bingroup": "y",
         "hovertemplate": "field_name=%{y}<br>count=%{x}<extra></extra>",
         "legendgroup": "Film",
         "marker": {
          "color": "#FFA15A",
          "opacity": 0.75,
          "pattern": {
           "shape": ""
          }
         },
         "name": "Film",
         "offsetgroup": "Film",
         "orientation": "h",
         "showlegend": true,
         "type": "histogram",
         "xaxis": "x",
         "y": [
          "Film",
          "Film",
          "Film",
          "Film",
          "Film",
          "Film",
          "Film"
         ],
         "yaxis": "y"
        },
        {
         "alignmentgroup": "True",
         "bingroup": "y",
         "hovertemplate": "field_name=%{y}<br>count=%{x}<extra></extra>",
         "legendgroup": "Languages",
         "marker": {
          "color": "#19d3f3",
          "opacity": 0.75,
          "pattern": {
           "shape": ""
          }
         },
         "name": "Languages",
         "offsetgroup": "Languages",
         "orientation": "h",
         "showlegend": true,
         "type": "histogram",
         "xaxis": "x",
         "y": [
          "Languages",
          "Languages",
          "Languages"
         ],
         "yaxis": "y"
        },
        {
         "alignmentgroup": "True",
         "bingroup": "y",
         "hovertemplate": "field_name=%{y}<br>count=%{x}<extra></extra>",
         "legendgroup": "Fine Arts / Arts Administration",
         "marker": {
          "color": "#FF6692",
          "opacity": 0.75,
          "pattern": {
           "shape": ""
          }
         },
         "name": "Fine Arts / Arts Administration",
         "offsetgroup": "Fine Arts / Arts Administration",
         "orientation": "h",
         "showlegend": true,
         "type": "histogram",
         "xaxis": "x",
         "y": [
          "Fine Arts / Arts Administration",
          "Fine Arts / Arts Administration",
          "Fine Arts / Arts Administration",
          "Fine Arts / Arts Administration",
          "Fine Arts / Arts Administration",
          "Fine Arts / Arts Administration",
          "Fine Arts / Arts Administration",
          "Fine Arts / Arts Administration",
          "Fine Arts / Arts Administration",
          "Fine Arts / Arts Administration",
          "Fine Arts / Arts Administration"
         ],
         "yaxis": "y"
        },
        {
         "alignmentgroup": "True",
         "bingroup": "y",
         "hovertemplate": "field_name=%{y}<br>count=%{x}<extra></extra>",
         "legendgroup": "Architecture",
         "marker": {
          "color": "#B6E880",
          "opacity": 0.75,
          "pattern": {
           "shape": ""
          }
         },
         "name": "Architecture",
         "offsetgroup": "Architecture",
         "orientation": "h",
         "showlegend": true,
         "type": "histogram",
         "xaxis": "x",
         "y": [
          "Architecture"
         ],
         "yaxis": "y"
        }
       ],
       "layout": {
        "barmode": "relative",
        "legend": {
         "title": {
          "text": "field_name"
         },
         "tracegroupgap": 0
        },
        "margin": {
         "t": 60
        },
        "template": {
         "data": {
          "bar": [
           {
            "error_x": {
             "color": "#2a3f5f"
            },
            "error_y": {
             "color": "#2a3f5f"
            },
            "marker": {
             "line": {
              "color": "#E5ECF6",
              "width": 0.5
             },
             "pattern": {
              "fillmode": "overlay",
              "size": 10,
              "solidity": 0.2
             }
            },
            "type": "bar"
           }
          ],
          "barpolar": [
           {
            "marker": {
             "line": {
              "color": "#E5ECF6",
              "width": 0.5
             },
             "pattern": {
              "fillmode": "overlay",
              "size": 10,
              "solidity": 0.2
             }
            },
            "type": "barpolar"
           }
          ],
          "carpet": [
           {
            "aaxis": {
             "endlinecolor": "#2a3f5f",
             "gridcolor": "white",
             "linecolor": "white",
             "minorgridcolor": "white",
             "startlinecolor": "#2a3f5f"
            },
            "baxis": {
             "endlinecolor": "#2a3f5f",
             "gridcolor": "white",
             "linecolor": "white",
             "minorgridcolor": "white",
             "startlinecolor": "#2a3f5f"
            },
            "type": "carpet"
           }
          ],
          "choropleth": [
           {
            "colorbar": {
             "outlinewidth": 0,
             "ticks": ""
            },
            "type": "choropleth"
           }
          ],
          "contour": [
           {
            "colorbar": {
             "outlinewidth": 0,
             "ticks": ""
            },
            "colorscale": [
             [
              0,
              "#0d0887"
             ],
             [
              0.1111111111111111,
              "#46039f"
             ],
             [
              0.2222222222222222,
              "#7201a8"
             ],
             [
              0.3333333333333333,
              "#9c179e"
             ],
             [
              0.4444444444444444,
              "#bd3786"
             ],
             [
              0.5555555555555556,
              "#d8576b"
             ],
             [
              0.6666666666666666,
              "#ed7953"
             ],
             [
              0.7777777777777778,
              "#fb9f3a"
             ],
             [
              0.8888888888888888,
              "#fdca26"
             ],
             [
              1,
              "#f0f921"
             ]
            ],
            "type": "contour"
           }
          ],
          "contourcarpet": [
           {
            "colorbar": {
             "outlinewidth": 0,
             "ticks": ""
            },
            "type": "contourcarpet"
           }
          ],
          "heatmap": [
           {
            "colorbar": {
             "outlinewidth": 0,
             "ticks": ""
            },
            "colorscale": [
             [
              0,
              "#0d0887"
             ],
             [
              0.1111111111111111,
              "#46039f"
             ],
             [
              0.2222222222222222,
              "#7201a8"
             ],
             [
              0.3333333333333333,
              "#9c179e"
             ],
             [
              0.4444444444444444,
              "#bd3786"
             ],
             [
              0.5555555555555556,
              "#d8576b"
             ],
             [
              0.6666666666666666,
              "#ed7953"
             ],
             [
              0.7777777777777778,
              "#fb9f3a"
             ],
             [
              0.8888888888888888,
              "#fdca26"
             ],
             [
              1,
              "#f0f921"
             ]
            ],
            "type": "heatmap"
           }
          ],
          "heatmapgl": [
           {
            "colorbar": {
             "outlinewidth": 0,
             "ticks": ""
            },
            "colorscale": [
             [
              0,
              "#0d0887"
             ],
             [
              0.1111111111111111,
              "#46039f"
             ],
             [
              0.2222222222222222,
              "#7201a8"
             ],
             [
              0.3333333333333333,
              "#9c179e"
             ],
             [
              0.4444444444444444,
              "#bd3786"
             ],
             [
              0.5555555555555556,
              "#d8576b"
             ],
             [
              0.6666666666666666,
              "#ed7953"
             ],
             [
              0.7777777777777778,
              "#fb9f3a"
             ],
             [
              0.8888888888888888,
              "#fdca26"
             ],
             [
              1,
              "#f0f921"
             ]
            ],
            "type": "heatmapgl"
           }
          ],
          "histogram": [
           {
            "marker": {
             "pattern": {
              "fillmode": "overlay",
              "size": 10,
              "solidity": 0.2
             }
            },
            "type": "histogram"
           }
          ],
          "histogram2d": [
           {
            "colorbar": {
             "outlinewidth": 0,
             "ticks": ""
            },
            "colorscale": [
             [
              0,
              "#0d0887"
             ],
             [
              0.1111111111111111,
              "#46039f"
             ],
             [
              0.2222222222222222,
              "#7201a8"
             ],
             [
              0.3333333333333333,
              "#9c179e"
             ],
             [
              0.4444444444444444,
              "#bd3786"
             ],
             [
              0.5555555555555556,
              "#d8576b"
             ],
             [
              0.6666666666666666,
              "#ed7953"
             ],
             [
              0.7777777777777778,
              "#fb9f3a"
             ],
             [
              0.8888888888888888,
              "#fdca26"
             ],
             [
              1,
              "#f0f921"
             ]
            ],
            "type": "histogram2d"
           }
          ],
          "histogram2dcontour": [
           {
            "colorbar": {
             "outlinewidth": 0,
             "ticks": ""
            },
            "colorscale": [
             [
              0,
              "#0d0887"
             ],
             [
              0.1111111111111111,
              "#46039f"
             ],
             [
              0.2222222222222222,
              "#7201a8"
             ],
             [
              0.3333333333333333,
              "#9c179e"
             ],
             [
              0.4444444444444444,
              "#bd3786"
             ],
             [
              0.5555555555555556,
              "#d8576b"
             ],
             [
              0.6666666666666666,
              "#ed7953"
             ],
             [
              0.7777777777777778,
              "#fb9f3a"
             ],
             [
              0.8888888888888888,
              "#fdca26"
             ],
             [
              1,
              "#f0f921"
             ]
            ],
            "type": "histogram2dcontour"
           }
          ],
          "mesh3d": [
           {
            "colorbar": {
             "outlinewidth": 0,
             "ticks": ""
            },
            "type": "mesh3d"
           }
          ],
          "parcoords": [
           {
            "line": {
             "colorbar": {
              "outlinewidth": 0,
              "ticks": ""
             }
            },
            "type": "parcoords"
           }
          ],
          "pie": [
           {
            "automargin": true,
            "type": "pie"
           }
          ],
          "scatter": [
           {
            "fillpattern": {
             "fillmode": "overlay",
             "size": 10,
             "solidity": 0.2
            },
            "type": "scatter"
           }
          ],
          "scatter3d": [
           {
            "line": {
             "colorbar": {
              "outlinewidth": 0,
              "ticks": ""
             }
            },
            "marker": {
             "colorbar": {
              "outlinewidth": 0,
              "ticks": ""
             }
            },
            "type": "scatter3d"
           }
          ],
          "scattercarpet": [
           {
            "marker": {
             "colorbar": {
              "outlinewidth": 0,
              "ticks": ""
             }
            },
            "type": "scattercarpet"
           }
          ],
          "scattergeo": [
           {
            "marker": {
             "colorbar": {
              "outlinewidth": 0,
              "ticks": ""
             }
            },
            "type": "scattergeo"
           }
          ],
          "scattergl": [
           {
            "marker": {
             "colorbar": {
              "outlinewidth": 0,
              "ticks": ""
             }
            },
            "type": "scattergl"
           }
          ],
          "scattermapbox": [
           {
            "marker": {
             "colorbar": {
              "outlinewidth": 0,
              "ticks": ""
             }
            },
            "type": "scattermapbox"
           }
          ],
          "scatterpolar": [
           {
            "marker": {
             "colorbar": {
              "outlinewidth": 0,
              "ticks": ""
             }
            },
            "type": "scatterpolar"
           }
          ],
          "scatterpolargl": [
           {
            "marker": {
             "colorbar": {
              "outlinewidth": 0,
              "ticks": ""
             }
            },
            "type": "scatterpolargl"
           }
          ],
          "scatterternary": [
           {
            "marker": {
             "colorbar": {
              "outlinewidth": 0,
              "ticks": ""
             }
            },
            "type": "scatterternary"
           }
          ],
          "surface": [
           {
            "colorbar": {
             "outlinewidth": 0,
             "ticks": ""
            },
            "colorscale": [
             [
              0,
              "#0d0887"
             ],
             [
              0.1111111111111111,
              "#46039f"
             ],
             [
              0.2222222222222222,
              "#7201a8"
             ],
             [
              0.3333333333333333,
              "#9c179e"
             ],
             [
              0.4444444444444444,
              "#bd3786"
             ],
             [
              0.5555555555555556,
              "#d8576b"
             ],
             [
              0.6666666666666666,
              "#ed7953"
             ],
             [
              0.7777777777777778,
              "#fb9f3a"
             ],
             [
              0.8888888888888888,
              "#fdca26"
             ],
             [
              1,
              "#f0f921"
             ]
            ],
            "type": "surface"
           }
          ],
          "table": [
           {
            "cells": {
             "fill": {
              "color": "#EBF0F8"
             },
             "line": {
              "color": "white"
             }
            },
            "header": {
             "fill": {
              "color": "#C8D4E3"
             },
             "line": {
              "color": "white"
             }
            },
            "type": "table"
           }
          ]
         },
         "layout": {
          "annotationdefaults": {
           "arrowcolor": "#2a3f5f",
           "arrowhead": 0,
           "arrowwidth": 1
          },
          "autotypenumbers": "strict",
          "coloraxis": {
           "colorbar": {
            "outlinewidth": 0,
            "ticks": ""
           }
          },
          "colorscale": {
           "diverging": [
            [
             0,
             "#8e0152"
            ],
            [
             0.1,
             "#c51b7d"
            ],
            [
             0.2,
             "#de77ae"
            ],
            [
             0.3,
             "#f1b6da"
            ],
            [
             0.4,
             "#fde0ef"
            ],
            [
             0.5,
             "#f7f7f7"
            ],
            [
             0.6,
             "#e6f5d0"
            ],
            [
             0.7,
             "#b8e186"
            ],
            [
             0.8,
             "#7fbc41"
            ],
            [
             0.9,
             "#4d9221"
            ],
            [
             1,
             "#276419"
            ]
           ],
           "sequential": [
            [
             0,
             "#0d0887"
            ],
            [
             0.1111111111111111,
             "#46039f"
            ],
            [
             0.2222222222222222,
             "#7201a8"
            ],
            [
             0.3333333333333333,
             "#9c179e"
            ],
            [
             0.4444444444444444,
             "#bd3786"
            ],
            [
             0.5555555555555556,
             "#d8576b"
            ],
            [
             0.6666666666666666,
             "#ed7953"
            ],
            [
             0.7777777777777778,
             "#fb9f3a"
            ],
            [
             0.8888888888888888,
             "#fdca26"
            ],
            [
             1,
             "#f0f921"
            ]
           ],
           "sequentialminus": [
            [
             0,
             "#0d0887"
            ],
            [
             0.1111111111111111,
             "#46039f"
            ],
            [
             0.2222222222222222,
             "#7201a8"
            ],
            [
             0.3333333333333333,
             "#9c179e"
            ],
            [
             0.4444444444444444,
             "#bd3786"
            ],
            [
             0.5555555555555556,
             "#d8576b"
            ],
            [
             0.6666666666666666,
             "#ed7953"
            ],
            [
             0.7777777777777778,
             "#fb9f3a"
            ],
            [
             0.8888888888888888,
             "#fdca26"
            ],
            [
             1,
             "#f0f921"
            ]
           ]
          },
          "colorway": [
           "#636efa",
           "#EF553B",
           "#00cc96",
           "#ab63fa",
           "#FFA15A",
           "#19d3f3",
           "#FF6692",
           "#B6E880",
           "#FF97FF",
           "#FECB52"
          ],
          "font": {
           "color": "#2a3f5f"
          },
          "geo": {
           "bgcolor": "white",
           "lakecolor": "white",
           "landcolor": "#E5ECF6",
           "showlakes": true,
           "showland": true,
           "subunitcolor": "white"
          },
          "hoverlabel": {
           "align": "left"
          },
          "hovermode": "closest",
          "mapbox": {
           "style": "light"
          },
          "paper_bgcolor": "white",
          "plot_bgcolor": "#E5ECF6",
          "polar": {
           "angularaxis": {
            "gridcolor": "white",
            "linecolor": "white",
            "ticks": ""
           },
           "bgcolor": "#E5ECF6",
           "radialaxis": {
            "gridcolor": "white",
            "linecolor": "white",
            "ticks": ""
           }
          },
          "scene": {
           "xaxis": {
            "backgroundcolor": "#E5ECF6",
            "gridcolor": "white",
            "gridwidth": 2,
            "linecolor": "white",
            "showbackground": true,
            "ticks": "",
            "zerolinecolor": "white"
           },
           "yaxis": {
            "backgroundcolor": "#E5ECF6",
            "gridcolor": "white",
            "gridwidth": 2,
            "linecolor": "white",
            "showbackground": true,
            "ticks": "",
            "zerolinecolor": "white"
           },
           "zaxis": {
            "backgroundcolor": "#E5ECF6",
            "gridcolor": "white",
            "gridwidth": 2,
            "linecolor": "white",
            "showbackground": true,
            "ticks": "",
            "zerolinecolor": "white"
           }
          },
          "shapedefaults": {
           "line": {
            "color": "#2a3f5f"
           }
          },
          "ternary": {
           "aaxis": {
            "gridcolor": "white",
            "linecolor": "white",
            "ticks": ""
           },
           "baxis": {
            "gridcolor": "white",
            "linecolor": "white",
            "ticks": ""
           },
           "bgcolor": "#E5ECF6",
           "caxis": {
            "gridcolor": "white",
            "linecolor": "white",
            "ticks": ""
           }
          },
          "title": {
           "x": 0.05
          },
          "xaxis": {
           "automargin": true,
           "gridcolor": "white",
           "linecolor": "white",
           "ticks": "",
           "title": {
            "standoff": 15
           },
           "zerolinecolor": "white",
           "zerolinewidth": 2
          },
          "yaxis": {
           "automargin": true,
           "gridcolor": "white",
           "linecolor": "white",
           "ticks": "",
           "title": {
            "standoff": 15
           },
           "zerolinecolor": "white",
           "zerolinewidth": 2
          }
         }
        },
        "xaxis": {
         "anchor": "y",
         "domain": [
          0,
          1
         ],
         "title": {
          "text": "count"
         }
        },
        "yaxis": {
         "anchor": "x",
         "categoryarray": [
          "Architecture",
          "Fine Arts / Arts Administration",
          "Languages",
          "Film",
          "Biology / Chemistry / Physics",
          "English / Creative Writing / Journalism",
          "History / Religion / Philosopy",
          "Medical Science / Pharma / Biotech",
          "Undergrad / Undecided",
          "Other",
          "Social Work",
          "Social Science / Psychology",
          "Education, Academia",
          "Engineering",
          "Business / Economy / Finance",
          "Political Science and International Affairs",
          "Math",
          "Law"
         ],
         "categoryorder": "array",
         "domain": [
          0,
          1
         ],
         "title": {
          "text": "field_name"
         }
        }
       }
      }
     },
     "metadata": {},
     "output_type": "display_data"
    }
   ],
   "source": [
    "fig = px.histogram(df_iid, y=\"field_name\",\n",
    "             color='field_name', opacity = 0.75)\n",
    "fig.show()"
   ]
  },
  {
   "attachments": {},
   "cell_type": "markdown",
   "metadata": {},
   "source": [
    "To have a more general view of the participants in the study, I wanted to: \n",
    "1) Regroup some fields of study chosen by the authors of the experiment into more general categories. I chose to group them according to the system used by the French ONISEP (\"Office national d'information sur les enseignements et les professions\") so that the categores were more understandable for a reader from France.\n",
    "2) For each of the fields that were obtained in this manner, percentage of male and female students was calculated."
   ]
  },
  {
   "cell_type": "code",
   "execution_count": 22,
   "metadata": {},
   "outputs": [],
   "source": [
    "df_iid['field_name'] = df_iid[\"field_cd\"].apply(lambda x: \"Law\" if x == 1 \n",
    "                                                    else \"Math\" if x == 2 \n",
    "                                                    else \"Social Science / Psychology\" if x == 3 \n",
    "                                                    else \"Medical Science / Pharma / Biotech\" if x == 4 \n",
    "                                                    else \"Engineering\" if x==5\n",
    "                                                    else \"English / Creative Writing / Journalism\" if x == 6 \n",
    "                                                    else \"History / Religion / Philosopy\" if x == 7 \n",
    "                                                    else \"Business / Economy / Finance\" if x == 8 \n",
    "                                                    else \"Education, Academia\" if x==9\n",
    "                                                    else \"Biology / Chemistry / Physics\" if x==10\n",
    "                                                    else \"Social Work\" if x == 11\n",
    "                                                    else \"Undergrad / Undecided\" if x == 12 \n",
    "                                                    else \"Political Science and International Affairs\" if x==13 \n",
    "                                                    else \"Film\" if x==14\n",
    "                                                    else \"Fine Arts / Arts Administration\" if x==15 \n",
    "                                                    else \"Languages\" if x == 16\n",
    "                                                    else \"Architecture\" if x==17 \n",
    "                                                    else \"Other\")"
   ]
  },
  {
   "cell_type": "code",
   "execution_count": 23,
   "metadata": {},
   "outputs": [],
   "source": [
    "df_iid['domain_of_study'] = df_iid[\"field_cd\"].apply(lambda x: \"Arts\" if x==14 or x==15\n",
    "                                                    else \"Economy and Management\" if x==8\n",
    "                                                    else \"Sciences\" if x==2 or x==5 or x ==10\n",
    "                                                    else \"Medicine, Pharma, Biotech\" if x==4\n",
    "                                                    else \"Education, Academia\" if x==9\n",
    "                                                    else \"Law and Political Science\" if x==1 or x==13\n",
    "                                                    else \"Literature and Languages\" if x==6 or x ==16\n",
    "                                                    else \"Social Sciences, Humanities, Psychology\" if x==3 or x==7\n",
    "                                                    else \"Education, Academia\" if x==9\n",
    "                                                    else \"Social Work\" if x==11\n",
    "                                                    else \"Architecture\" if x==17\n",
    "                                                    else \"Undergrad / Undecided\" if x==12\n",
    "                                                    else \"Other\")"
   ]
  },
  {
   "cell_type": "code",
   "execution_count": 25,
   "metadata": {},
   "outputs": [
    {
     "data": {
      "application/vnd.plotly.v1+json": {
       "config": {
        "plotlyServerURL": "https://plot.ly"
       },
       "data": [
        {
         "alignmentgroup": "True",
         "bingroup": "y",
         "hovertemplate": "count=%{x}<br>domain_of_study=%{y}<extra></extra>",
         "legendgroup": "",
         "marker": {
          "color": "#636efa",
          "opacity": 0.75,
          "pattern": {
           "shape": ""
          }
         },
         "name": "",
         "offsetgroup": "",
         "orientation": "h",
         "showlegend": false,
         "type": "histogram",
         "xaxis": "x",
         "y": [
          "Law and Political Science",
          "Law and Political Science",
          "Sciences",
          "Law and Political Science",
          "Law and Political Science",
          "Law and Political Science",
          "Law and Political Science",
          "Law and Political Science",
          "Law and Political Science",
          "Law and Political Science",
          "Economy and Management",
          "Law and Political Science",
          "Law and Political Science",
          "Law and Political Science",
          "Law and Political Science",
          "Economy and Management",
          "Law and Political Science",
          "Economy and Management",
          "Economy and Management",
          "Economy and Management",
          "Sciences",
          "Education, Academia",
          "Social Sciences, Humanities, Psychology",
          "Social Work",
          "Social Work",
          "Social Work",
          "Social Sciences, Humanities, Psychology",
          "Social Sciences, Humanities, Psychology",
          "Social Work",
          "Law and Political Science",
          "Law and Political Science",
          "Social Sciences, Humanities, Psychology",
          "Social Sciences, Humanities, Psychology",
          "Economy and Management",
          "Sciences",
          "Sciences",
          "Social Sciences, Humanities, Psychology",
          "Law and Political Science",
          "Law and Political Science",
          "Other",
          "Law and Political Science",
          "Sciences",
          "Economy and Management",
          "Social Sciences, Humanities, Psychology",
          "Economy and Management",
          "Economy and Management",
          "Economy and Management",
          "Undergrad / Undecided",
          "Economy and Management",
          "Law and Political Science",
          "Law and Political Science",
          "Law and Political Science",
          "Medicine, Pharma, Biotech",
          "Economy and Management",
          "Law and Political Science",
          "Social Work",
          "Social Work",
          "Other",
          "Other",
          "Social Sciences, Humanities, Psychology",
          "Social Sciences, Humanities, Psychology",
          "Law and Political Science",
          "Law and Political Science",
          "Social Work",
          "Social Work",
          "Economy and Management",
          "Law and Political Science",
          "Literature and Languages",
          "Economy and Management",
          "Economy and Management",
          "Law and Political Science",
          "Sciences",
          "Economy and Management",
          "Sciences",
          "Law and Political Science",
          "Literature and Languages",
          "Social Work",
          "Social Work",
          "Sciences",
          "Sciences",
          "Literature and Languages",
          "Education, Academia",
          "Economy and Management",
          "Sciences",
          "Social Work",
          "Social Sciences, Humanities, Psychology",
          "Social Work",
          "Social Work",
          "Economy and Management",
          "Sciences",
          "Law and Political Science",
          "Education, Academia",
          "Sciences",
          "Economy and Management",
          "Economy and Management",
          "Sciences",
          "Sciences",
          "Social Work",
          "Law and Political Science",
          "Economy and Management",
          "Economy and Management",
          "Sciences",
          "Economy and Management",
          "Sciences",
          "Law and Political Science",
          "Law and Political Science",
          "Social Sciences, Humanities, Psychology",
          "Sciences",
          "Arts",
          "Arts",
          "Economy and Management",
          "Social Sciences, Humanities, Psychology",
          "Economy and Management",
          "Economy and Management",
          "Social Sciences, Humanities, Psychology",
          "Law and Political Science",
          "Economy and Management",
          "Literature and Languages",
          "Literature and Languages",
          "Social Sciences, Humanities, Psychology",
          "Law and Political Science",
          "Sciences",
          "Economy and Management",
          "Medicine, Pharma, Biotech",
          "Social Sciences, Humanities, Psychology",
          "Sciences",
          "Sciences",
          "Economy and Management",
          "Sciences",
          "Sciences",
          "Economy and Management",
          "Sciences",
          "Sciences",
          "Social Sciences, Humanities, Psychology",
          "Other",
          "Economy and Management",
          "Economy and Management",
          "Sciences",
          "Economy and Management",
          "Economy and Management",
          "Law and Political Science",
          "Law and Political Science",
          "Sciences",
          "Sciences",
          "Literature and Languages",
          "Economy and Management",
          "Economy and Management",
          "Law and Political Science",
          "Social Sciences, Humanities, Psychology",
          "Law and Political Science",
          "Law and Political Science",
          "Social Sciences, Humanities, Psychology",
          "Economy and Management",
          "Economy and Management",
          "Economy and Management",
          "Economy and Management",
          "Sciences",
          "Sciences",
          "Economy and Management",
          "Sciences",
          "Sciences",
          "Education, Academia",
          "Social Sciences, Humanities, Psychology",
          "Law and Political Science",
          "Economy and Management",
          "Sciences",
          "Sciences",
          "Sciences",
          "Sciences",
          "Economy and Management",
          "Economy and Management",
          "Sciences",
          "Economy and Management",
          "Law and Political Science",
          "Economy and Management",
          "Law and Political Science",
          "Social Sciences, Humanities, Psychology",
          "Literature and Languages",
          "Economy and Management",
          "Medicine, Pharma, Biotech",
          "Medicine, Pharma, Biotech",
          "Social Work",
          "Economy and Management",
          "Sciences",
          "Sciences",
          "Economy and Management",
          "Sciences",
          "Law and Political Science",
          "Law and Political Science",
          "Economy and Management",
          "Economy and Management",
          "Law and Political Science",
          "Social Sciences, Humanities, Psychology",
          "Sciences",
          "Social Sciences, Humanities, Psychology",
          "Law and Political Science",
          "Law and Political Science",
          "Social Sciences, Humanities, Psychology",
          "Economy and Management",
          "Economy and Management",
          "Sciences",
          "Sciences",
          "Economy and Management",
          "Sciences",
          "Economy and Management",
          "Sciences",
          "Sciences",
          "Law and Political Science",
          "Sciences",
          "Law and Political Science",
          "Economy and Management",
          "Law and Political Science",
          "Sciences",
          "Economy and Management",
          "Economy and Management",
          "Sciences",
          "Sciences",
          "Economy and Management",
          "Law and Political Science",
          "Economy and Management",
          "Sciences",
          "Social Sciences, Humanities, Psychology",
          "Social Sciences, Humanities, Psychology",
          "Economy and Management",
          "Economy and Management",
          "Economy and Management",
          "Sciences",
          "Sciences",
          "Law and Political Science",
          "Law and Political Science",
          "Law and Political Science",
          "Law and Political Science",
          "Social Sciences, Humanities, Psychology",
          "Education, Academia",
          "Sciences",
          "Social Sciences, Humanities, Psychology",
          "Arts",
          "Sciences",
          "Economy and Management",
          "Economy and Management",
          "Social Sciences, Humanities, Psychology",
          "Literature and Languages",
          "Economy and Management",
          "Social Sciences, Humanities, Psychology",
          "Sciences",
          "Sciences",
          "Economy and Management",
          "Economy and Management",
          "Literature and Languages",
          "Social Sciences, Humanities, Psychology",
          "Law and Political Science",
          "Social Sciences, Humanities, Psychology",
          "Social Sciences, Humanities, Psychology",
          "Sciences",
          "Medicine, Pharma, Biotech",
          "Education, Academia",
          "Education, Academia",
          "Sciences",
          "Sciences",
          "Sciences",
          "Social Sciences, Humanities, Psychology",
          "Social Sciences, Humanities, Psychology",
          "Literature and Languages",
          "Law and Political Science",
          "Literature and Languages",
          "Sciences",
          "Medicine, Pharma, Biotech",
          "Social Sciences, Humanities, Psychology",
          "Sciences",
          "Social Work",
          "Social Work",
          "Sciences",
          "Social Sciences, Humanities, Psychology",
          "Sciences",
          "Sciences",
          "Sciences",
          "Sciences",
          "Sciences",
          "Sciences",
          "Social Sciences, Humanities, Psychology",
          "Sciences",
          "Sciences",
          "Economy and Management",
          "Sciences",
          "Sciences",
          "Law and Political Science",
          "Social Sciences, Humanities, Psychology",
          "Economy and Management",
          "Sciences",
          "Sciences",
          "Law and Political Science",
          "Economy and Management",
          "Education, Academia",
          "Education, Academia",
          "Education, Academia",
          "Education, Academia",
          "Literature and Languages",
          "Social Work",
          "Social Sciences, Humanities, Psychology",
          "Education, Academia",
          "Social Sciences, Humanities, Psychology",
          "Education, Academia",
          "Social Sciences, Humanities, Psychology",
          "Education, Academia",
          "Education, Academia",
          "Education, Academia",
          "Education, Academia",
          "Education, Academia",
          "Sciences",
          "Economy and Management",
          "Arts",
          "Economy and Management",
          "Law and Political Science",
          "Sciences",
          "Economy and Management",
          "Economy and Management",
          "Economy and Management",
          "Education, Academia",
          "Social Sciences, Humanities, Psychology",
          "Economy and Management",
          "Social Sciences, Humanities, Psychology",
          "Sciences",
          "Social Sciences, Humanities, Psychology",
          "Social Sciences, Humanities, Psychology",
          "Education, Academia",
          "Law and Political Science",
          "Education, Academia",
          "Education, Academia",
          "Sciences",
          "Education, Academia",
          "Social Sciences, Humanities, Psychology",
          "Economy and Management",
          "Economy and Management",
          "Social Sciences, Humanities, Psychology",
          "Architecture",
          "Sciences",
          "Sciences",
          "Other",
          "Other",
          "Law and Political Science",
          "Education, Academia",
          "Sciences",
          "Law and Political Science",
          "Sciences",
          "Other",
          "Education, Academia",
          "Education, Academia",
          "Social Sciences, Humanities, Psychology",
          "Sciences",
          "Education, Academia",
          "Education, Academia",
          "Education, Academia",
          "Social Sciences, Humanities, Psychology",
          "Social Sciences, Humanities, Psychology",
          "Social Sciences, Humanities, Psychology",
          "Education, Academia",
          "Economy and Management",
          "Literature and Languages",
          "Social Sciences, Humanities, Psychology",
          "Law and Political Science",
          "Law and Political Science",
          "Sciences",
          "Economy and Management",
          "Economy and Management",
          "Economy and Management",
          "Law and Political Science",
          "Law and Political Science",
          "Social Sciences, Humanities, Psychology",
          "Economy and Management",
          "Economy and Management",
          "Economy and Management",
          "Economy and Management",
          "Economy and Management",
          "Economy and Management",
          "Economy and Management",
          "Economy and Management",
          "Economy and Management",
          "Economy and Management",
          "Arts",
          "Arts",
          "Arts",
          "Education, Academia",
          "Education, Academia",
          "Education, Academia",
          "Social Sciences, Humanities, Psychology",
          "Social Sciences, Humanities, Psychology",
          "Social Sciences, Humanities, Psychology",
          "Law and Political Science",
          "Education, Academia",
          "Literature and Languages",
          "Literature and Languages",
          "Literature and Languages",
          "Literature and Languages",
          "Literature and Languages",
          "Arts",
          "Law and Political Science",
          "Economy and Management",
          "Economy and Management",
          "Economy and Management",
          "Economy and Management",
          "Sciences",
          "Sciences",
          "Sciences",
          "Law and Political Science",
          "Economy and Management",
          "Arts",
          "Law and Political Science",
          "Sciences",
          "Economy and Management",
          "Economy and Management",
          "Economy and Management",
          "Economy and Management",
          "Economy and Management",
          "Economy and Management",
          "Social Sciences, Humanities, Psychology",
          "Social Sciences, Humanities, Psychology",
          "Law and Political Science",
          "Social Work",
          "Social Work",
          "Social Work",
          "Economy and Management",
          "Economy and Management",
          "Sciences",
          "Economy and Management",
          "Economy and Management",
          "Law and Political Science",
          "Economy and Management",
          "Economy and Management",
          "Education, Academia",
          "Education, Academia",
          "Social Work",
          "Arts",
          "Social Work",
          "Law and Political Science",
          "Law and Political Science",
          "Social Work",
          "Social Work",
          "Education, Academia",
          "Law and Political Science",
          "Law and Political Science",
          "Law and Political Science",
          "Law and Political Science",
          "Economy and Management",
          "Law and Political Science",
          "Economy and Management",
          "Law and Political Science",
          "Law and Political Science",
          "Law and Political Science",
          "Law and Political Science",
          "Economy and Management",
          "Economy and Management",
          "Law and Political Science",
          "Arts",
          "Sciences",
          "Economy and Management",
          "Literature and Languages",
          "Economy and Management",
          "Economy and Management",
          "Social Sciences, Humanities, Psychology",
          "Sciences",
          "Sciences",
          "Sciences",
          "Economy and Management",
          "Social Sciences, Humanities, Psychology",
          "Other",
          "Economy and Management",
          "Law and Political Science",
          "Law and Political Science",
          "Medicine, Pharma, Biotech",
          "Medicine, Pharma, Biotech",
          "Sciences",
          "Sciences",
          "Sciences",
          "Law and Political Science",
          "Law and Political Science",
          "Sciences",
          "Law and Political Science",
          "Law and Political Science",
          "Sciences",
          "Education, Academia",
          "Economy and Management",
          "Social Sciences, Humanities, Psychology",
          "Other",
          "Social Sciences, Humanities, Psychology",
          "Sciences",
          "Literature and Languages",
          "Economy and Management",
          "Economy and Management",
          "Arts",
          "Economy and Management",
          "Sciences",
          "Law and Political Science",
          "Literature and Languages",
          "Arts",
          "Sciences",
          "Sciences",
          "Sciences",
          "Sciences",
          "Sciences",
          "Sciences",
          "Sciences",
          "Sciences",
          "Sciences",
          "Literature and Languages",
          "Sciences",
          "Sciences",
          "Sciences",
          "Literature and Languages",
          "Economy and Management",
          "Sciences",
          "Arts",
          "Arts",
          "Social Sciences, Humanities, Psychology",
          "Literature and Languages",
          "Sciences",
          "Arts",
          "Arts",
          "Education, Academia",
          "Social Work",
          "Social Work",
          "Law and Political Science",
          "Education, Academia",
          "Medicine, Pharma, Biotech",
          "Arts",
          "Social Work",
          "Social Work",
          "Social Work",
          "Sciences",
          "Sciences",
          "Sciences",
          "Sciences",
          "Sciences",
          "Sciences",
          "Sciences",
          "Sciences",
          "Sciences",
          "Sciences",
          "Law and Political Science",
          "Sciences",
          "Sciences",
          "Sciences",
          "Sciences",
          "Sciences",
          "Sciences",
          "Economy and Management",
          "Economy and Management",
          "Economy and Management",
          "Economy and Management",
          "Economy and Management",
          "Economy and Management",
          "Other"
         ],
         "yaxis": "y"
        }
       ],
       "layout": {
        "barmode": "relative",
        "legend": {
         "tracegroupgap": 0
        },
        "margin": {
         "t": 60
        },
        "template": {
         "data": {
          "bar": [
           {
            "error_x": {
             "color": "#2a3f5f"
            },
            "error_y": {
             "color": "#2a3f5f"
            },
            "marker": {
             "line": {
              "color": "#E5ECF6",
              "width": 0.5
             },
             "pattern": {
              "fillmode": "overlay",
              "size": 10,
              "solidity": 0.2
             }
            },
            "type": "bar"
           }
          ],
          "barpolar": [
           {
            "marker": {
             "line": {
              "color": "#E5ECF6",
              "width": 0.5
             },
             "pattern": {
              "fillmode": "overlay",
              "size": 10,
              "solidity": 0.2
             }
            },
            "type": "barpolar"
           }
          ],
          "carpet": [
           {
            "aaxis": {
             "endlinecolor": "#2a3f5f",
             "gridcolor": "white",
             "linecolor": "white",
             "minorgridcolor": "white",
             "startlinecolor": "#2a3f5f"
            },
            "baxis": {
             "endlinecolor": "#2a3f5f",
             "gridcolor": "white",
             "linecolor": "white",
             "minorgridcolor": "white",
             "startlinecolor": "#2a3f5f"
            },
            "type": "carpet"
           }
          ],
          "choropleth": [
           {
            "colorbar": {
             "outlinewidth": 0,
             "ticks": ""
            },
            "type": "choropleth"
           }
          ],
          "contour": [
           {
            "colorbar": {
             "outlinewidth": 0,
             "ticks": ""
            },
            "colorscale": [
             [
              0,
              "#0d0887"
             ],
             [
              0.1111111111111111,
              "#46039f"
             ],
             [
              0.2222222222222222,
              "#7201a8"
             ],
             [
              0.3333333333333333,
              "#9c179e"
             ],
             [
              0.4444444444444444,
              "#bd3786"
             ],
             [
              0.5555555555555556,
              "#d8576b"
             ],
             [
              0.6666666666666666,
              "#ed7953"
             ],
             [
              0.7777777777777778,
              "#fb9f3a"
             ],
             [
              0.8888888888888888,
              "#fdca26"
             ],
             [
              1,
              "#f0f921"
             ]
            ],
            "type": "contour"
           }
          ],
          "contourcarpet": [
           {
            "colorbar": {
             "outlinewidth": 0,
             "ticks": ""
            },
            "type": "contourcarpet"
           }
          ],
          "heatmap": [
           {
            "colorbar": {
             "outlinewidth": 0,
             "ticks": ""
            },
            "colorscale": [
             [
              0,
              "#0d0887"
             ],
             [
              0.1111111111111111,
              "#46039f"
             ],
             [
              0.2222222222222222,
              "#7201a8"
             ],
             [
              0.3333333333333333,
              "#9c179e"
             ],
             [
              0.4444444444444444,
              "#bd3786"
             ],
             [
              0.5555555555555556,
              "#d8576b"
             ],
             [
              0.6666666666666666,
              "#ed7953"
             ],
             [
              0.7777777777777778,
              "#fb9f3a"
             ],
             [
              0.8888888888888888,
              "#fdca26"
             ],
             [
              1,
              "#f0f921"
             ]
            ],
            "type": "heatmap"
           }
          ],
          "heatmapgl": [
           {
            "colorbar": {
             "outlinewidth": 0,
             "ticks": ""
            },
            "colorscale": [
             [
              0,
              "#0d0887"
             ],
             [
              0.1111111111111111,
              "#46039f"
             ],
             [
              0.2222222222222222,
              "#7201a8"
             ],
             [
              0.3333333333333333,
              "#9c179e"
             ],
             [
              0.4444444444444444,
              "#bd3786"
             ],
             [
              0.5555555555555556,
              "#d8576b"
             ],
             [
              0.6666666666666666,
              "#ed7953"
             ],
             [
              0.7777777777777778,
              "#fb9f3a"
             ],
             [
              0.8888888888888888,
              "#fdca26"
             ],
             [
              1,
              "#f0f921"
             ]
            ],
            "type": "heatmapgl"
           }
          ],
          "histogram": [
           {
            "marker": {
             "pattern": {
              "fillmode": "overlay",
              "size": 10,
              "solidity": 0.2
             }
            },
            "type": "histogram"
           }
          ],
          "histogram2d": [
           {
            "colorbar": {
             "outlinewidth": 0,
             "ticks": ""
            },
            "colorscale": [
             [
              0,
              "#0d0887"
             ],
             [
              0.1111111111111111,
              "#46039f"
             ],
             [
              0.2222222222222222,
              "#7201a8"
             ],
             [
              0.3333333333333333,
              "#9c179e"
             ],
             [
              0.4444444444444444,
              "#bd3786"
             ],
             [
              0.5555555555555556,
              "#d8576b"
             ],
             [
              0.6666666666666666,
              "#ed7953"
             ],
             [
              0.7777777777777778,
              "#fb9f3a"
             ],
             [
              0.8888888888888888,
              "#fdca26"
             ],
             [
              1,
              "#f0f921"
             ]
            ],
            "type": "histogram2d"
           }
          ],
          "histogram2dcontour": [
           {
            "colorbar": {
             "outlinewidth": 0,
             "ticks": ""
            },
            "colorscale": [
             [
              0,
              "#0d0887"
             ],
             [
              0.1111111111111111,
              "#46039f"
             ],
             [
              0.2222222222222222,
              "#7201a8"
             ],
             [
              0.3333333333333333,
              "#9c179e"
             ],
             [
              0.4444444444444444,
              "#bd3786"
             ],
             [
              0.5555555555555556,
              "#d8576b"
             ],
             [
              0.6666666666666666,
              "#ed7953"
             ],
             [
              0.7777777777777778,
              "#fb9f3a"
             ],
             [
              0.8888888888888888,
              "#fdca26"
             ],
             [
              1,
              "#f0f921"
             ]
            ],
            "type": "histogram2dcontour"
           }
          ],
          "mesh3d": [
           {
            "colorbar": {
             "outlinewidth": 0,
             "ticks": ""
            },
            "type": "mesh3d"
           }
          ],
          "parcoords": [
           {
            "line": {
             "colorbar": {
              "outlinewidth": 0,
              "ticks": ""
             }
            },
            "type": "parcoords"
           }
          ],
          "pie": [
           {
            "automargin": true,
            "type": "pie"
           }
          ],
          "scatter": [
           {
            "fillpattern": {
             "fillmode": "overlay",
             "size": 10,
             "solidity": 0.2
            },
            "type": "scatter"
           }
          ],
          "scatter3d": [
           {
            "line": {
             "colorbar": {
              "outlinewidth": 0,
              "ticks": ""
             }
            },
            "marker": {
             "colorbar": {
              "outlinewidth": 0,
              "ticks": ""
             }
            },
            "type": "scatter3d"
           }
          ],
          "scattercarpet": [
           {
            "marker": {
             "colorbar": {
              "outlinewidth": 0,
              "ticks": ""
             }
            },
            "type": "scattercarpet"
           }
          ],
          "scattergeo": [
           {
            "marker": {
             "colorbar": {
              "outlinewidth": 0,
              "ticks": ""
             }
            },
            "type": "scattergeo"
           }
          ],
          "scattergl": [
           {
            "marker": {
             "colorbar": {
              "outlinewidth": 0,
              "ticks": ""
             }
            },
            "type": "scattergl"
           }
          ],
          "scattermapbox": [
           {
            "marker": {
             "colorbar": {
              "outlinewidth": 0,
              "ticks": ""
             }
            },
            "type": "scattermapbox"
           }
          ],
          "scatterpolar": [
           {
            "marker": {
             "colorbar": {
              "outlinewidth": 0,
              "ticks": ""
             }
            },
            "type": "scatterpolar"
           }
          ],
          "scatterpolargl": [
           {
            "marker": {
             "colorbar": {
              "outlinewidth": 0,
              "ticks": ""
             }
            },
            "type": "scatterpolargl"
           }
          ],
          "scatterternary": [
           {
            "marker": {
             "colorbar": {
              "outlinewidth": 0,
              "ticks": ""
             }
            },
            "type": "scatterternary"
           }
          ],
          "surface": [
           {
            "colorbar": {
             "outlinewidth": 0,
             "ticks": ""
            },
            "colorscale": [
             [
              0,
              "#0d0887"
             ],
             [
              0.1111111111111111,
              "#46039f"
             ],
             [
              0.2222222222222222,
              "#7201a8"
             ],
             [
              0.3333333333333333,
              "#9c179e"
             ],
             [
              0.4444444444444444,
              "#bd3786"
             ],
             [
              0.5555555555555556,
              "#d8576b"
             ],
             [
              0.6666666666666666,
              "#ed7953"
             ],
             [
              0.7777777777777778,
              "#fb9f3a"
             ],
             [
              0.8888888888888888,
              "#fdca26"
             ],
             [
              1,
              "#f0f921"
             ]
            ],
            "type": "surface"
           }
          ],
          "table": [
           {
            "cells": {
             "fill": {
              "color": "#EBF0F8"
             },
             "line": {
              "color": "white"
             }
            },
            "header": {
             "fill": {
              "color": "#C8D4E3"
             },
             "line": {
              "color": "white"
             }
            },
            "type": "table"
           }
          ]
         },
         "layout": {
          "annotationdefaults": {
           "arrowcolor": "#2a3f5f",
           "arrowhead": 0,
           "arrowwidth": 1
          },
          "autotypenumbers": "strict",
          "coloraxis": {
           "colorbar": {
            "outlinewidth": 0,
            "ticks": ""
           }
          },
          "colorscale": {
           "diverging": [
            [
             0,
             "#8e0152"
            ],
            [
             0.1,
             "#c51b7d"
            ],
            [
             0.2,
             "#de77ae"
            ],
            [
             0.3,
             "#f1b6da"
            ],
            [
             0.4,
             "#fde0ef"
            ],
            [
             0.5,
             "#f7f7f7"
            ],
            [
             0.6,
             "#e6f5d0"
            ],
            [
             0.7,
             "#b8e186"
            ],
            [
             0.8,
             "#7fbc41"
            ],
            [
             0.9,
             "#4d9221"
            ],
            [
             1,
             "#276419"
            ]
           ],
           "sequential": [
            [
             0,
             "#0d0887"
            ],
            [
             0.1111111111111111,
             "#46039f"
            ],
            [
             0.2222222222222222,
             "#7201a8"
            ],
            [
             0.3333333333333333,
             "#9c179e"
            ],
            [
             0.4444444444444444,
             "#bd3786"
            ],
            [
             0.5555555555555556,
             "#d8576b"
            ],
            [
             0.6666666666666666,
             "#ed7953"
            ],
            [
             0.7777777777777778,
             "#fb9f3a"
            ],
            [
             0.8888888888888888,
             "#fdca26"
            ],
            [
             1,
             "#f0f921"
            ]
           ],
           "sequentialminus": [
            [
             0,
             "#0d0887"
            ],
            [
             0.1111111111111111,
             "#46039f"
            ],
            [
             0.2222222222222222,
             "#7201a8"
            ],
            [
             0.3333333333333333,
             "#9c179e"
            ],
            [
             0.4444444444444444,
             "#bd3786"
            ],
            [
             0.5555555555555556,
             "#d8576b"
            ],
            [
             0.6666666666666666,
             "#ed7953"
            ],
            [
             0.7777777777777778,
             "#fb9f3a"
            ],
            [
             0.8888888888888888,
             "#fdca26"
            ],
            [
             1,
             "#f0f921"
            ]
           ]
          },
          "colorway": [
           "#636efa",
           "#EF553B",
           "#00cc96",
           "#ab63fa",
           "#FFA15A",
           "#19d3f3",
           "#FF6692",
           "#B6E880",
           "#FF97FF",
           "#FECB52"
          ],
          "font": {
           "color": "#2a3f5f"
          },
          "geo": {
           "bgcolor": "white",
           "lakecolor": "white",
           "landcolor": "#E5ECF6",
           "showlakes": true,
           "showland": true,
           "subunitcolor": "white"
          },
          "hoverlabel": {
           "align": "left"
          },
          "hovermode": "closest",
          "mapbox": {
           "style": "light"
          },
          "paper_bgcolor": "white",
          "plot_bgcolor": "#E5ECF6",
          "polar": {
           "angularaxis": {
            "gridcolor": "white",
            "linecolor": "white",
            "ticks": ""
           },
           "bgcolor": "#E5ECF6",
           "radialaxis": {
            "gridcolor": "white",
            "linecolor": "white",
            "ticks": ""
           }
          },
          "scene": {
           "xaxis": {
            "backgroundcolor": "#E5ECF6",
            "gridcolor": "white",
            "gridwidth": 2,
            "linecolor": "white",
            "showbackground": true,
            "ticks": "",
            "zerolinecolor": "white"
           },
           "yaxis": {
            "backgroundcolor": "#E5ECF6",
            "gridcolor": "white",
            "gridwidth": 2,
            "linecolor": "white",
            "showbackground": true,
            "ticks": "",
            "zerolinecolor": "white"
           },
           "zaxis": {
            "backgroundcolor": "#E5ECF6",
            "gridcolor": "white",
            "gridwidth": 2,
            "linecolor": "white",
            "showbackground": true,
            "ticks": "",
            "zerolinecolor": "white"
           }
          },
          "shapedefaults": {
           "line": {
            "color": "#2a3f5f"
           }
          },
          "ternary": {
           "aaxis": {
            "gridcolor": "white",
            "linecolor": "white",
            "ticks": ""
           },
           "baxis": {
            "gridcolor": "white",
            "linecolor": "white",
            "ticks": ""
           },
           "bgcolor": "#E5ECF6",
           "caxis": {
            "gridcolor": "white",
            "linecolor": "white",
            "ticks": ""
           }
          },
          "title": {
           "x": 0.05
          },
          "xaxis": {
           "automargin": true,
           "gridcolor": "white",
           "linecolor": "white",
           "ticks": "",
           "title": {
            "standoff": 15
           },
           "zerolinecolor": "white",
           "zerolinewidth": 2
          },
          "yaxis": {
           "automargin": true,
           "gridcolor": "white",
           "linecolor": "white",
           "ticks": "",
           "title": {
            "standoff": 15
           },
           "zerolinecolor": "white",
           "zerolinewidth": 2
          }
         }
        },
        "xaxis": {
         "anchor": "y",
         "domain": [
          0,
          1
         ],
         "title": {
          "text": "count"
         }
        },
        "yaxis": {
         "anchor": "x",
         "categoryorder": "total ascending",
         "domain": [
          0,
          1
         ],
         "title": {
          "text": "domain_of_study"
         }
        }
       }
      }
     },
     "metadata": {},
     "output_type": "display_data"
    }
   ],
   "source": [
    "fig = px.histogram(df_iid, y=\"domain_of_study\", opacity = 0.75).update_yaxes(categoryorder = \"total ascending\")\n",
    "fig.show()"
   ]
  },
  {
   "cell_type": "code",
   "execution_count": 27,
   "metadata": {},
   "outputs": [
    {
     "data": {
      "application/vnd.plotly.v1+json": {
       "config": {
        "plotlyServerURL": "https://plot.ly"
       },
       "data": [
        {
         "alignmentgroup": "True",
         "bingroup": "y",
         "hovertemplate": "gender_name=Female<br>count=%{x}<br>domain_of_study=%{y}<extra></extra>",
         "legendgroup": "Female",
         "marker": {
          "color": "#F78FE4",
          "opacity": 0.75,
          "pattern": {
           "shape": ""
          }
         },
         "name": "Female",
         "offsetgroup": "Female",
         "orientation": "h",
         "showlegend": true,
         "type": "histogram",
         "xaxis": "x",
         "y": [
          "Law and Political Science",
          "Law and Political Science",
          "Sciences",
          "Law and Political Science",
          "Law and Political Science",
          "Law and Political Science",
          "Law and Political Science",
          "Law and Political Science",
          "Law and Political Science",
          "Law and Political Science",
          "Sciences",
          "Education, Academia",
          "Social Sciences, Humanities, Psychology",
          "Social Work",
          "Social Work",
          "Social Work",
          "Social Sciences, Humanities, Psychology",
          "Social Sciences, Humanities, Psychology",
          "Social Work",
          "Law and Political Science",
          "Law and Political Science",
          "Social Sciences, Humanities, Psychology",
          "Social Sciences, Humanities, Psychology",
          "Economy and Management",
          "Sciences",
          "Sciences",
          "Social Sciences, Humanities, Psychology",
          "Law and Political Science",
          "Law and Political Science",
          "Social Work",
          "Social Work",
          "Other",
          "Other",
          "Social Sciences, Humanities, Psychology",
          "Social Sciences, Humanities, Psychology",
          "Law and Political Science",
          "Law and Political Science",
          "Social Work",
          "Social Work",
          "Literature and Languages",
          "Social Work",
          "Social Work",
          "Sciences",
          "Sciences",
          "Literature and Languages",
          "Education, Academia",
          "Economy and Management",
          "Sciences",
          "Social Work",
          "Social Sciences, Humanities, Psychology",
          "Social Work",
          "Social Work",
          "Economy and Management",
          "Sciences",
          "Law and Political Science",
          "Education, Academia",
          "Sciences",
          "Social Sciences, Humanities, Psychology",
          "Economy and Management",
          "Economy and Management",
          "Social Sciences, Humanities, Psychology",
          "Law and Political Science",
          "Economy and Management",
          "Literature and Languages",
          "Literature and Languages",
          "Social Sciences, Humanities, Psychology",
          "Economy and Management",
          "Sciences",
          "Sciences",
          "Social Sciences, Humanities, Psychology",
          "Other",
          "Law and Political Science",
          "Law and Political Science",
          "Sciences",
          "Sciences",
          "Literature and Languages",
          "Economy and Management",
          "Economy and Management",
          "Law and Political Science",
          "Social Sciences, Humanities, Psychology",
          "Law and Political Science",
          "Law and Political Science",
          "Social Sciences, Humanities, Psychology",
          "Economy and Management",
          "Economy and Management",
          "Economy and Management",
          "Economy and Management",
          "Economy and Management",
          "Law and Political Science",
          "Economy and Management",
          "Law and Political Science",
          "Social Sciences, Humanities, Psychology",
          "Literature and Languages",
          "Economy and Management",
          "Medicine, Pharma, Biotech",
          "Medicine, Pharma, Biotech",
          "Social Work",
          "Social Sciences, Humanities, Psychology",
          "Sciences",
          "Social Sciences, Humanities, Psychology",
          "Law and Political Science",
          "Law and Political Science",
          "Social Sciences, Humanities, Psychology",
          "Economy and Management",
          "Economy and Management",
          "Sciences",
          "Sciences",
          "Economy and Management",
          "Sciences",
          "Economy and Management",
          "Sciences",
          "Sciences",
          "Law and Political Science",
          "Sciences",
          "Law and Political Science",
          "Economy and Management",
          "Law and Political Science",
          "Social Sciences, Humanities, Psychology",
          "Education, Academia",
          "Sciences",
          "Social Sciences, Humanities, Psychology",
          "Arts",
          "Sciences",
          "Economy and Management",
          "Economy and Management",
          "Social Sciences, Humanities, Psychology",
          "Law and Political Science",
          "Social Sciences, Humanities, Psychology",
          "Social Sciences, Humanities, Psychology",
          "Sciences",
          "Medicine, Pharma, Biotech",
          "Education, Academia",
          "Education, Academia",
          "Sciences",
          "Sciences",
          "Sciences",
          "Social Sciences, Humanities, Psychology",
          "Social Sciences, Humanities, Psychology",
          "Literature and Languages",
          "Law and Political Science",
          "Literature and Languages",
          "Sciences",
          "Medicine, Pharma, Biotech",
          "Social Sciences, Humanities, Psychology",
          "Sciences",
          "Social Work",
          "Social Work",
          "Education, Academia",
          "Education, Academia",
          "Education, Academia",
          "Education, Academia",
          "Literature and Languages",
          "Social Work",
          "Social Sciences, Humanities, Psychology",
          "Education, Academia",
          "Social Sciences, Humanities, Psychology",
          "Education, Academia",
          "Social Sciences, Humanities, Psychology",
          "Education, Academia",
          "Education, Academia",
          "Education, Academia",
          "Social Sciences, Humanities, Psychology",
          "Sciences",
          "Social Sciences, Humanities, Psychology",
          "Social Sciences, Humanities, Psychology",
          "Education, Academia",
          "Law and Political Science",
          "Education, Academia",
          "Education, Academia",
          "Sciences",
          "Education, Academia",
          "Law and Political Science",
          "Education, Academia",
          "Sciences",
          "Law and Political Science",
          "Sciences",
          "Other",
          "Education, Academia",
          "Education, Academia",
          "Social Sciences, Humanities, Psychology",
          "Sciences",
          "Education, Academia",
          "Education, Academia",
          "Education, Academia",
          "Social Sciences, Humanities, Psychology",
          "Social Sciences, Humanities, Psychology",
          "Social Sciences, Humanities, Psychology",
          "Education, Academia",
          "Economy and Management",
          "Literature and Languages",
          "Social Sciences, Humanities, Psychology",
          "Economy and Management",
          "Arts",
          "Arts",
          "Arts",
          "Education, Academia",
          "Education, Academia",
          "Education, Academia",
          "Social Sciences, Humanities, Psychology",
          "Social Sciences, Humanities, Psychology",
          "Social Sciences, Humanities, Psychology",
          "Law and Political Science",
          "Education, Academia",
          "Literature and Languages",
          "Literature and Languages",
          "Literature and Languages",
          "Literature and Languages",
          "Literature and Languages",
          "Arts",
          "Social Sciences, Humanities, Psychology",
          "Social Sciences, Humanities, Psychology",
          "Law and Political Science",
          "Social Work",
          "Social Work",
          "Social Work",
          "Education, Academia",
          "Education, Academia",
          "Social Work",
          "Arts",
          "Social Work",
          "Law and Political Science",
          "Law and Political Science",
          "Social Work",
          "Social Work",
          "Education, Academia",
          "Arts",
          "Sciences",
          "Economy and Management",
          "Literature and Languages",
          "Economy and Management",
          "Economy and Management",
          "Other",
          "Economy and Management",
          "Law and Political Science",
          "Law and Political Science",
          "Medicine, Pharma, Biotech",
          "Medicine, Pharma, Biotech",
          "Sciences",
          "Sciences",
          "Sciences",
          "Law and Political Science",
          "Law and Political Science",
          "Sciences",
          "Law and Political Science",
          "Law and Political Science",
          "Sciences",
          "Sciences",
          "Sciences",
          "Sciences",
          "Sciences",
          "Sciences",
          "Sciences",
          "Literature and Languages",
          "Economy and Management",
          "Sciences",
          "Arts",
          "Arts",
          "Social Sciences, Humanities, Psychology",
          "Literature and Languages",
          "Sciences",
          "Arts",
          "Arts",
          "Education, Academia",
          "Social Work",
          "Social Work",
          "Law and Political Science",
          "Education, Academia",
          "Medicine, Pharma, Biotech",
          "Arts",
          "Social Work",
          "Social Work",
          "Social Work",
          "Sciences",
          "Sciences"
         ],
         "yaxis": "y"
        },
        {
         "alignmentgroup": "True",
         "bingroup": "y",
         "hovertemplate": "gender_name=Male<br>count=%{x}<br>domain_of_study=%{y}<extra></extra>",
         "legendgroup": "Male",
         "marker": {
          "color": "#1179f0",
          "opacity": 0.75,
          "pattern": {
           "shape": ""
          }
         },
         "name": "Male",
         "offsetgroup": "Male",
         "orientation": "h",
         "showlegend": true,
         "type": "histogram",
         "xaxis": "x",
         "y": [
          "Economy and Management",
          "Law and Political Science",
          "Law and Political Science",
          "Law and Political Science",
          "Law and Political Science",
          "Economy and Management",
          "Law and Political Science",
          "Economy and Management",
          "Economy and Management",
          "Economy and Management",
          "Other",
          "Law and Political Science",
          "Sciences",
          "Economy and Management",
          "Social Sciences, Humanities, Psychology",
          "Economy and Management",
          "Economy and Management",
          "Economy and Management",
          "Undergrad / Undecided",
          "Economy and Management",
          "Law and Political Science",
          "Law and Political Science",
          "Law and Political Science",
          "Medicine, Pharma, Biotech",
          "Economy and Management",
          "Law and Political Science",
          "Economy and Management",
          "Law and Political Science",
          "Literature and Languages",
          "Economy and Management",
          "Economy and Management",
          "Law and Political Science",
          "Sciences",
          "Economy and Management",
          "Sciences",
          "Law and Political Science",
          "Economy and Management",
          "Economy and Management",
          "Sciences",
          "Sciences",
          "Social Work",
          "Law and Political Science",
          "Economy and Management",
          "Economy and Management",
          "Sciences",
          "Economy and Management",
          "Sciences",
          "Law and Political Science",
          "Law and Political Science",
          "Social Sciences, Humanities, Psychology",
          "Sciences",
          "Arts",
          "Arts",
          "Economy and Management",
          "Law and Political Science",
          "Sciences",
          "Economy and Management",
          "Medicine, Pharma, Biotech",
          "Social Sciences, Humanities, Psychology",
          "Sciences",
          "Sciences",
          "Economy and Management",
          "Sciences",
          "Sciences",
          "Economy and Management",
          "Economy and Management",
          "Sciences",
          "Economy and Management",
          "Economy and Management",
          "Sciences",
          "Sciences",
          "Economy and Management",
          "Sciences",
          "Sciences",
          "Education, Academia",
          "Social Sciences, Humanities, Psychology",
          "Law and Political Science",
          "Economy and Management",
          "Sciences",
          "Sciences",
          "Sciences",
          "Sciences",
          "Economy and Management",
          "Economy and Management",
          "Sciences",
          "Economy and Management",
          "Sciences",
          "Sciences",
          "Economy and Management",
          "Sciences",
          "Law and Political Science",
          "Law and Political Science",
          "Economy and Management",
          "Economy and Management",
          "Law and Political Science",
          "Sciences",
          "Economy and Management",
          "Economy and Management",
          "Sciences",
          "Sciences",
          "Economy and Management",
          "Law and Political Science",
          "Economy and Management",
          "Sciences",
          "Social Sciences, Humanities, Psychology",
          "Social Sciences, Humanities, Psychology",
          "Economy and Management",
          "Economy and Management",
          "Economy and Management",
          "Sciences",
          "Sciences",
          "Law and Political Science",
          "Law and Political Science",
          "Law and Political Science",
          "Law and Political Science",
          "Literature and Languages",
          "Economy and Management",
          "Social Sciences, Humanities, Psychology",
          "Sciences",
          "Sciences",
          "Economy and Management",
          "Economy and Management",
          "Literature and Languages",
          "Social Sciences, Humanities, Psychology",
          "Sciences",
          "Social Sciences, Humanities, Psychology",
          "Sciences",
          "Sciences",
          "Sciences",
          "Sciences",
          "Sciences",
          "Sciences",
          "Social Sciences, Humanities, Psychology",
          "Sciences",
          "Sciences",
          "Economy and Management",
          "Sciences",
          "Sciences",
          "Law and Political Science",
          "Social Sciences, Humanities, Psychology",
          "Economy and Management",
          "Sciences",
          "Sciences",
          "Law and Political Science",
          "Economy and Management",
          "Education, Academia",
          "Education, Academia",
          "Sciences",
          "Economy and Management",
          "Arts",
          "Economy and Management",
          "Law and Political Science",
          "Sciences",
          "Economy and Management",
          "Economy and Management",
          "Economy and Management",
          "Education, Academia",
          "Social Sciences, Humanities, Psychology",
          "Economy and Management",
          "Social Sciences, Humanities, Psychology",
          "Economy and Management",
          "Economy and Management",
          "Social Sciences, Humanities, Psychology",
          "Architecture",
          "Sciences",
          "Sciences",
          "Other",
          "Other",
          "Law and Political Science",
          "Law and Political Science",
          "Sciences",
          "Economy and Management",
          "Economy and Management",
          "Economy and Management",
          "Law and Political Science",
          "Law and Political Science",
          "Social Sciences, Humanities, Psychology",
          "Economy and Management",
          "Economy and Management",
          "Economy and Management",
          "Economy and Management",
          "Economy and Management",
          "Economy and Management",
          "Economy and Management",
          "Economy and Management",
          "Economy and Management",
          "Law and Political Science",
          "Economy and Management",
          "Economy and Management",
          "Economy and Management",
          "Economy and Management",
          "Sciences",
          "Sciences",
          "Sciences",
          "Law and Political Science",
          "Economy and Management",
          "Arts",
          "Law and Political Science",
          "Sciences",
          "Economy and Management",
          "Economy and Management",
          "Economy and Management",
          "Economy and Management",
          "Economy and Management",
          "Economy and Management",
          "Economy and Management",
          "Economy and Management",
          "Sciences",
          "Economy and Management",
          "Economy and Management",
          "Law and Political Science",
          "Economy and Management",
          "Economy and Management",
          "Law and Political Science",
          "Law and Political Science",
          "Law and Political Science",
          "Law and Political Science",
          "Economy and Management",
          "Law and Political Science",
          "Economy and Management",
          "Law and Political Science",
          "Law and Political Science",
          "Law and Political Science",
          "Law and Political Science",
          "Economy and Management",
          "Economy and Management",
          "Law and Political Science",
          "Social Sciences, Humanities, Psychology",
          "Sciences",
          "Sciences",
          "Sciences",
          "Economy and Management",
          "Social Sciences, Humanities, Psychology",
          "Education, Academia",
          "Economy and Management",
          "Social Sciences, Humanities, Psychology",
          "Other",
          "Social Sciences, Humanities, Psychology",
          "Sciences",
          "Literature and Languages",
          "Economy and Management",
          "Economy and Management",
          "Arts",
          "Economy and Management",
          "Sciences",
          "Law and Political Science",
          "Literature and Languages",
          "Arts",
          "Sciences",
          "Sciences",
          "Sciences",
          "Literature and Languages",
          "Sciences",
          "Sciences",
          "Sciences",
          "Sciences",
          "Sciences",
          "Sciences",
          "Sciences",
          "Sciences",
          "Sciences",
          "Sciences",
          "Sciences",
          "Law and Political Science",
          "Sciences",
          "Sciences",
          "Sciences",
          "Sciences",
          "Sciences",
          "Sciences",
          "Economy and Management",
          "Economy and Management",
          "Economy and Management",
          "Economy and Management",
          "Economy and Management",
          "Economy and Management",
          "Other"
         ],
         "yaxis": "y"
        }
       ],
       "layout": {
        "barmode": "relative",
        "legend": {
         "title": {
          "text": "gender_name"
         },
         "tracegroupgap": 0
        },
        "margin": {
         "t": 60
        },
        "template": {
         "data": {
          "bar": [
           {
            "error_x": {
             "color": "#2a3f5f"
            },
            "error_y": {
             "color": "#2a3f5f"
            },
            "marker": {
             "line": {
              "color": "#E5ECF6",
              "width": 0.5
             },
             "pattern": {
              "fillmode": "overlay",
              "size": 10,
              "solidity": 0.2
             }
            },
            "type": "bar"
           }
          ],
          "barpolar": [
           {
            "marker": {
             "line": {
              "color": "#E5ECF6",
              "width": 0.5
             },
             "pattern": {
              "fillmode": "overlay",
              "size": 10,
              "solidity": 0.2
             }
            },
            "type": "barpolar"
           }
          ],
          "carpet": [
           {
            "aaxis": {
             "endlinecolor": "#2a3f5f",
             "gridcolor": "white",
             "linecolor": "white",
             "minorgridcolor": "white",
             "startlinecolor": "#2a3f5f"
            },
            "baxis": {
             "endlinecolor": "#2a3f5f",
             "gridcolor": "white",
             "linecolor": "white",
             "minorgridcolor": "white",
             "startlinecolor": "#2a3f5f"
            },
            "type": "carpet"
           }
          ],
          "choropleth": [
           {
            "colorbar": {
             "outlinewidth": 0,
             "ticks": ""
            },
            "type": "choropleth"
           }
          ],
          "contour": [
           {
            "colorbar": {
             "outlinewidth": 0,
             "ticks": ""
            },
            "colorscale": [
             [
              0,
              "#0d0887"
             ],
             [
              0.1111111111111111,
              "#46039f"
             ],
             [
              0.2222222222222222,
              "#7201a8"
             ],
             [
              0.3333333333333333,
              "#9c179e"
             ],
             [
              0.4444444444444444,
              "#bd3786"
             ],
             [
              0.5555555555555556,
              "#d8576b"
             ],
             [
              0.6666666666666666,
              "#ed7953"
             ],
             [
              0.7777777777777778,
              "#fb9f3a"
             ],
             [
              0.8888888888888888,
              "#fdca26"
             ],
             [
              1,
              "#f0f921"
             ]
            ],
            "type": "contour"
           }
          ],
          "contourcarpet": [
           {
            "colorbar": {
             "outlinewidth": 0,
             "ticks": ""
            },
            "type": "contourcarpet"
           }
          ],
          "heatmap": [
           {
            "colorbar": {
             "outlinewidth": 0,
             "ticks": ""
            },
            "colorscale": [
             [
              0,
              "#0d0887"
             ],
             [
              0.1111111111111111,
              "#46039f"
             ],
             [
              0.2222222222222222,
              "#7201a8"
             ],
             [
              0.3333333333333333,
              "#9c179e"
             ],
             [
              0.4444444444444444,
              "#bd3786"
             ],
             [
              0.5555555555555556,
              "#d8576b"
             ],
             [
              0.6666666666666666,
              "#ed7953"
             ],
             [
              0.7777777777777778,
              "#fb9f3a"
             ],
             [
              0.8888888888888888,
              "#fdca26"
             ],
             [
              1,
              "#f0f921"
             ]
            ],
            "type": "heatmap"
           }
          ],
          "heatmapgl": [
           {
            "colorbar": {
             "outlinewidth": 0,
             "ticks": ""
            },
            "colorscale": [
             [
              0,
              "#0d0887"
             ],
             [
              0.1111111111111111,
              "#46039f"
             ],
             [
              0.2222222222222222,
              "#7201a8"
             ],
             [
              0.3333333333333333,
              "#9c179e"
             ],
             [
              0.4444444444444444,
              "#bd3786"
             ],
             [
              0.5555555555555556,
              "#d8576b"
             ],
             [
              0.6666666666666666,
              "#ed7953"
             ],
             [
              0.7777777777777778,
              "#fb9f3a"
             ],
             [
              0.8888888888888888,
              "#fdca26"
             ],
             [
              1,
              "#f0f921"
             ]
            ],
            "type": "heatmapgl"
           }
          ],
          "histogram": [
           {
            "marker": {
             "pattern": {
              "fillmode": "overlay",
              "size": 10,
              "solidity": 0.2
             }
            },
            "type": "histogram"
           }
          ],
          "histogram2d": [
           {
            "colorbar": {
             "outlinewidth": 0,
             "ticks": ""
            },
            "colorscale": [
             [
              0,
              "#0d0887"
             ],
             [
              0.1111111111111111,
              "#46039f"
             ],
             [
              0.2222222222222222,
              "#7201a8"
             ],
             [
              0.3333333333333333,
              "#9c179e"
             ],
             [
              0.4444444444444444,
              "#bd3786"
             ],
             [
              0.5555555555555556,
              "#d8576b"
             ],
             [
              0.6666666666666666,
              "#ed7953"
             ],
             [
              0.7777777777777778,
              "#fb9f3a"
             ],
             [
              0.8888888888888888,
              "#fdca26"
             ],
             [
              1,
              "#f0f921"
             ]
            ],
            "type": "histogram2d"
           }
          ],
          "histogram2dcontour": [
           {
            "colorbar": {
             "outlinewidth": 0,
             "ticks": ""
            },
            "colorscale": [
             [
              0,
              "#0d0887"
             ],
             [
              0.1111111111111111,
              "#46039f"
             ],
             [
              0.2222222222222222,
              "#7201a8"
             ],
             [
              0.3333333333333333,
              "#9c179e"
             ],
             [
              0.4444444444444444,
              "#bd3786"
             ],
             [
              0.5555555555555556,
              "#d8576b"
             ],
             [
              0.6666666666666666,
              "#ed7953"
             ],
             [
              0.7777777777777778,
              "#fb9f3a"
             ],
             [
              0.8888888888888888,
              "#fdca26"
             ],
             [
              1,
              "#f0f921"
             ]
            ],
            "type": "histogram2dcontour"
           }
          ],
          "mesh3d": [
           {
            "colorbar": {
             "outlinewidth": 0,
             "ticks": ""
            },
            "type": "mesh3d"
           }
          ],
          "parcoords": [
           {
            "line": {
             "colorbar": {
              "outlinewidth": 0,
              "ticks": ""
             }
            },
            "type": "parcoords"
           }
          ],
          "pie": [
           {
            "automargin": true,
            "type": "pie"
           }
          ],
          "scatter": [
           {
            "fillpattern": {
             "fillmode": "overlay",
             "size": 10,
             "solidity": 0.2
            },
            "type": "scatter"
           }
          ],
          "scatter3d": [
           {
            "line": {
             "colorbar": {
              "outlinewidth": 0,
              "ticks": ""
             }
            },
            "marker": {
             "colorbar": {
              "outlinewidth": 0,
              "ticks": ""
             }
            },
            "type": "scatter3d"
           }
          ],
          "scattercarpet": [
           {
            "marker": {
             "colorbar": {
              "outlinewidth": 0,
              "ticks": ""
             }
            },
            "type": "scattercarpet"
           }
          ],
          "scattergeo": [
           {
            "marker": {
             "colorbar": {
              "outlinewidth": 0,
              "ticks": ""
             }
            },
            "type": "scattergeo"
           }
          ],
          "scattergl": [
           {
            "marker": {
             "colorbar": {
              "outlinewidth": 0,
              "ticks": ""
             }
            },
            "type": "scattergl"
           }
          ],
          "scattermapbox": [
           {
            "marker": {
             "colorbar": {
              "outlinewidth": 0,
              "ticks": ""
             }
            },
            "type": "scattermapbox"
           }
          ],
          "scatterpolar": [
           {
            "marker": {
             "colorbar": {
              "outlinewidth": 0,
              "ticks": ""
             }
            },
            "type": "scatterpolar"
           }
          ],
          "scatterpolargl": [
           {
            "marker": {
             "colorbar": {
              "outlinewidth": 0,
              "ticks": ""
             }
            },
            "type": "scatterpolargl"
           }
          ],
          "scatterternary": [
           {
            "marker": {
             "colorbar": {
              "outlinewidth": 0,
              "ticks": ""
             }
            },
            "type": "scatterternary"
           }
          ],
          "surface": [
           {
            "colorbar": {
             "outlinewidth": 0,
             "ticks": ""
            },
            "colorscale": [
             [
              0,
              "#0d0887"
             ],
             [
              0.1111111111111111,
              "#46039f"
             ],
             [
              0.2222222222222222,
              "#7201a8"
             ],
             [
              0.3333333333333333,
              "#9c179e"
             ],
             [
              0.4444444444444444,
              "#bd3786"
             ],
             [
              0.5555555555555556,
              "#d8576b"
             ],
             [
              0.6666666666666666,
              "#ed7953"
             ],
             [
              0.7777777777777778,
              "#fb9f3a"
             ],
             [
              0.8888888888888888,
              "#fdca26"
             ],
             [
              1,
              "#f0f921"
             ]
            ],
            "type": "surface"
           }
          ],
          "table": [
           {
            "cells": {
             "fill": {
              "color": "#EBF0F8"
             },
             "line": {
              "color": "white"
             }
            },
            "header": {
             "fill": {
              "color": "#C8D4E3"
             },
             "line": {
              "color": "white"
             }
            },
            "type": "table"
           }
          ]
         },
         "layout": {
          "annotationdefaults": {
           "arrowcolor": "#2a3f5f",
           "arrowhead": 0,
           "arrowwidth": 1
          },
          "autotypenumbers": "strict",
          "coloraxis": {
           "colorbar": {
            "outlinewidth": 0,
            "ticks": ""
           }
          },
          "colorscale": {
           "diverging": [
            [
             0,
             "#8e0152"
            ],
            [
             0.1,
             "#c51b7d"
            ],
            [
             0.2,
             "#de77ae"
            ],
            [
             0.3,
             "#f1b6da"
            ],
            [
             0.4,
             "#fde0ef"
            ],
            [
             0.5,
             "#f7f7f7"
            ],
            [
             0.6,
             "#e6f5d0"
            ],
            [
             0.7,
             "#b8e186"
            ],
            [
             0.8,
             "#7fbc41"
            ],
            [
             0.9,
             "#4d9221"
            ],
            [
             1,
             "#276419"
            ]
           ],
           "sequential": [
            [
             0,
             "#0d0887"
            ],
            [
             0.1111111111111111,
             "#46039f"
            ],
            [
             0.2222222222222222,
             "#7201a8"
            ],
            [
             0.3333333333333333,
             "#9c179e"
            ],
            [
             0.4444444444444444,
             "#bd3786"
            ],
            [
             0.5555555555555556,
             "#d8576b"
            ],
            [
             0.6666666666666666,
             "#ed7953"
            ],
            [
             0.7777777777777778,
             "#fb9f3a"
            ],
            [
             0.8888888888888888,
             "#fdca26"
            ],
            [
             1,
             "#f0f921"
            ]
           ],
           "sequentialminus": [
            [
             0,
             "#0d0887"
            ],
            [
             0.1111111111111111,
             "#46039f"
            ],
            [
             0.2222222222222222,
             "#7201a8"
            ],
            [
             0.3333333333333333,
             "#9c179e"
            ],
            [
             0.4444444444444444,
             "#bd3786"
            ],
            [
             0.5555555555555556,
             "#d8576b"
            ],
            [
             0.6666666666666666,
             "#ed7953"
            ],
            [
             0.7777777777777778,
             "#fb9f3a"
            ],
            [
             0.8888888888888888,
             "#fdca26"
            ],
            [
             1,
             "#f0f921"
            ]
           ]
          },
          "colorway": [
           "#636efa",
           "#EF553B",
           "#00cc96",
           "#ab63fa",
           "#FFA15A",
           "#19d3f3",
           "#FF6692",
           "#B6E880",
           "#FF97FF",
           "#FECB52"
          ],
          "font": {
           "color": "#2a3f5f"
          },
          "geo": {
           "bgcolor": "white",
           "lakecolor": "white",
           "landcolor": "#E5ECF6",
           "showlakes": true,
           "showland": true,
           "subunitcolor": "white"
          },
          "hoverlabel": {
           "align": "left"
          },
          "hovermode": "closest",
          "mapbox": {
           "style": "light"
          },
          "paper_bgcolor": "white",
          "plot_bgcolor": "#E5ECF6",
          "polar": {
           "angularaxis": {
            "gridcolor": "white",
            "linecolor": "white",
            "ticks": ""
           },
           "bgcolor": "#E5ECF6",
           "radialaxis": {
            "gridcolor": "white",
            "linecolor": "white",
            "ticks": ""
           }
          },
          "scene": {
           "xaxis": {
            "backgroundcolor": "#E5ECF6",
            "gridcolor": "white",
            "gridwidth": 2,
            "linecolor": "white",
            "showbackground": true,
            "ticks": "",
            "zerolinecolor": "white"
           },
           "yaxis": {
            "backgroundcolor": "#E5ECF6",
            "gridcolor": "white",
            "gridwidth": 2,
            "linecolor": "white",
            "showbackground": true,
            "ticks": "",
            "zerolinecolor": "white"
           },
           "zaxis": {
            "backgroundcolor": "#E5ECF6",
            "gridcolor": "white",
            "gridwidth": 2,
            "linecolor": "white",
            "showbackground": true,
            "ticks": "",
            "zerolinecolor": "white"
           }
          },
          "shapedefaults": {
           "line": {
            "color": "#2a3f5f"
           }
          },
          "ternary": {
           "aaxis": {
            "gridcolor": "white",
            "linecolor": "white",
            "ticks": ""
           },
           "baxis": {
            "gridcolor": "white",
            "linecolor": "white",
            "ticks": ""
           },
           "bgcolor": "#E5ECF6",
           "caxis": {
            "gridcolor": "white",
            "linecolor": "white",
            "ticks": ""
           }
          },
          "title": {
           "x": 0.05
          },
          "xaxis": {
           "automargin": true,
           "gridcolor": "white",
           "linecolor": "white",
           "ticks": "",
           "title": {
            "standoff": 15
           },
           "zerolinecolor": "white",
           "zerolinewidth": 2
          },
          "yaxis": {
           "automargin": true,
           "gridcolor": "white",
           "linecolor": "white",
           "ticks": "",
           "title": {
            "standoff": 15
           },
           "zerolinecolor": "white",
           "zerolinewidth": 2
          }
         }
        },
        "xaxis": {
         "anchor": "y",
         "domain": [
          0,
          1
         ],
         "title": {
          "text": "count"
         }
        },
        "yaxis": {
         "anchor": "x",
         "categoryorder": "total ascending",
         "domain": [
          0,
          1
         ],
         "title": {
          "text": "domain_of_study"
         }
        }
       }
      }
     },
     "metadata": {},
     "output_type": "display_data"
    }
   ],
   "source": [
    "fig = px.histogram(df_iid, y=\"domain_of_study\", color_discrete_sequence=[\"#F78FE4\", \"#1179f0\"], opacity = 0.75, color = \"gender_name\").update_yaxes(categoryorder = \"total ascending\")\n",
    "fig.show()"
   ]
  },
  {
   "attachments": {},
   "cell_type": "markdown",
   "metadata": {},
   "source": [
    "Income:\n",
    "\n",
    "The authors of the experiment did not ask for income directly but inferred it from the zipcode of the area where the participant grew up. Therefore the income provided in the dataset for each person is in fact the median household income in the area where the person grew up (according to the US Census Bureau data at the time of the experiment).\n"
   ]
  },
  {
   "cell_type": "code",
   "execution_count": null,
   "metadata": {},
   "outputs": [],
   "source": []
  },
  {
   "attachments": {},
   "cell_type": "markdown",
   "metadata": {},
   "source": [
    "Motivation:\n",
    "\n",
    "The authors asked each participant to indicate their goal for participating in the speed dating experiment."
   ]
  },
  {
   "cell_type": "code",
   "execution_count": null,
   "metadata": {},
   "outputs": [],
   "source": [
    "df_iid['participant_goal'] = df_iid[\"goal\"].apply(lambda x: \"Seemed like a fun night out\" if x == 1 \n",
    "                                                    else \"To meet new people\" if x == 2 \n",
    "                                                    else \"To get a date\" if x == 3 \n",
    "                                                    else \"Looking for a serious relationship\" if x == 4 \n",
    "                                                    else \"To say I did it\" if x==5 \n",
    "                                                    else \"Other\")"
   ]
  },
  {
   "cell_type": "code",
   "execution_count": null,
   "metadata": {},
   "outputs": [
    {
     "data": {
      "application/vnd.plotly.v1+json": {
       "config": {
        "plotlyServerURL": "https://plot.ly"
       },
       "data": [
        {
         "alignmentgroup": "True",
         "bingroup": "y",
         "histnorm": "percent",
         "hovertemplate": "gender_name=Female<br>percent=%{x}<br>participant_goal=%{y}<extra></extra>",
         "legendgroup": "Female",
         "marker": {
          "color": "#F78FE4",
          "opacity": 0.6,
          "pattern": {
           "shape": ""
          }
         },
         "name": "Female",
         "offsetgroup": "Female",
         "orientation": "h",
         "showlegend": true,
         "type": "histogram",
         "xaxis": "x",
         "y": [
          "To meet new people",
          "Seemed like a fun night out",
          "Other",
          "Seemed like a fun night out",
          "To meet new people",
          "Seemed like a fun night out",
          "Seemed like a fun night out",
          "Seemed like a fun night out",
          "Seemed like a fun night out",
          "To meet new people",
          "Other",
          "Seemed like a fun night out",
          "Seemed like a fun night out",
          "To meet new people",
          "Seemed like a fun night out",
          "Seemed like a fun night out",
          "Seemed like a fun night out",
          "Other",
          "Seemed like a fun night out",
          "Seemed like a fun night out",
          "Seemed like a fun night out",
          "Seemed like a fun night out",
          "Other",
          "Seemed like a fun night out",
          "Seemed like a fun night out",
          "To meet new people",
          "To meet new people",
          "Seemed like a fun night out",
          "To say I did it",
          "Seemed like a fun night out",
          "To get a date",
          "Other",
          "Other",
          "Looking for a serious relationship",
          "Seemed like a fun night out",
          "To meet new people",
          "To get a date",
          "To meet new people",
          "To meet new people",
          "To meet new people",
          "Seemed like a fun night out",
          "To meet new people",
          "To meet new people",
          "Seemed like a fun night out",
          "To say I did it",
          "Seemed like a fun night out",
          "To meet new people",
          "To meet new people",
          "To meet new people",
          "To meet new people",
          "Seemed like a fun night out",
          "Seemed like a fun night out",
          "Seemed like a fun night out",
          "To meet new people",
          "Seemed like a fun night out",
          "To say I did it",
          "Seemed like a fun night out",
          "Seemed like a fun night out",
          "Seemed like a fun night out",
          "To meet new people",
          "Seemed like a fun night out",
          "Seemed like a fun night out",
          "Seemed like a fun night out",
          "Seemed like a fun night out",
          "To say I did it",
          "To say I did it",
          "Seemed like a fun night out",
          "Seemed like a fun night out",
          "Seemed like a fun night out",
          "Seemed like a fun night out",
          "Other",
          "Seemed like a fun night out",
          "To meet new people",
          "Seemed like a fun night out",
          "To meet new people",
          "Looking for a serious relationship",
          "To say I did it",
          "To say I did it",
          "Seemed like a fun night out",
          "Looking for a serious relationship",
          "To get a date",
          "Seemed like a fun night out",
          "To meet new people",
          "Other",
          "To meet new people",
          "To meet new people",
          "Seemed like a fun night out",
          "Looking for a serious relationship",
          "To meet new people",
          "To meet new people",
          "To meet new people",
          "To meet new people",
          "Seemed like a fun night out",
          "Other",
          "Seemed like a fun night out",
          "Seemed like a fun night out",
          "Seemed like a fun night out",
          "To get a date",
          "Seemed like a fun night out",
          "Seemed like a fun night out",
          "Seemed like a fun night out",
          "To meet new people",
          "Looking for a serious relationship",
          "Seemed like a fun night out",
          "Seemed like a fun night out",
          "To meet new people",
          "Other",
          "To get a date",
          "Seemed like a fun night out",
          "Seemed like a fun night out",
          "Seemed like a fun night out",
          "To meet new people",
          "To get a date",
          "To meet new people",
          "To meet new people",
          "Seemed like a fun night out",
          "To meet new people",
          "To get a date",
          "Seemed like a fun night out",
          "To meet new people",
          "To get a date",
          "Seemed like a fun night out",
          "To meet new people",
          "Seemed like a fun night out",
          "To meet new people",
          "To get a date",
          "Seemed like a fun night out",
          "To meet new people",
          "To meet new people",
          "Seemed like a fun night out",
          "To meet new people",
          "To meet new people",
          "Seemed like a fun night out",
          "To meet new people",
          "To meet new people",
          "Seemed like a fun night out",
          "Other",
          "Seemed like a fun night out",
          "Seemed like a fun night out",
          "Looking for a serious relationship",
          "To meet new people",
          "Seemed like a fun night out",
          "To say I did it",
          "To meet new people",
          "To meet new people",
          "To meet new people",
          "To meet new people",
          "Seemed like a fun night out",
          "To meet new people",
          "Seemed like a fun night out",
          "To meet new people",
          "To meet new people",
          "To meet new people",
          "To meet new people",
          "To meet new people",
          "To meet new people",
          "Looking for a serious relationship",
          "Seemed like a fun night out",
          "Seemed like a fun night out",
          "Seemed like a fun night out",
          "To say I did it",
          "To meet new people",
          "To meet new people",
          "Seemed like a fun night out",
          "To meet new people",
          "To meet new people",
          "To meet new people",
          "To meet new people",
          "Other",
          "Seemed like a fun night out",
          "Seemed like a fun night out",
          "Seemed like a fun night out",
          "Seemed like a fun night out",
          "To get a date",
          "To get a date",
          "To meet new people",
          "Other",
          "To say I did it",
          "To meet new people",
          "Seemed like a fun night out",
          "To meet new people",
          "To meet new people",
          "To meet new people",
          "Seemed like a fun night out",
          "Seemed like a fun night out",
          "Seemed like a fun night out",
          "Seemed like a fun night out",
          "Seemed like a fun night out",
          "Seemed like a fun night out",
          "To meet new people",
          "To meet new people",
          "To meet new people",
          "To meet new people",
          "To say I did it",
          "To meet new people",
          "To get a date",
          "To meet new people",
          "To meet new people",
          "To meet new people",
          "To meet new people",
          "To meet new people",
          "To meet new people",
          "Other",
          "Seemed like a fun night out",
          "To say I did it",
          "Seemed like a fun night out",
          "To meet new people",
          "To get a date",
          "To meet new people",
          "Other",
          "Seemed like a fun night out",
          "Other",
          "Looking for a serious relationship",
          "To say I did it",
          "Seemed like a fun night out",
          "Seemed like a fun night out",
          "To meet new people",
          "Looking for a serious relationship",
          "To meet new people",
          "Seemed like a fun night out",
          "Seemed like a fun night out",
          "Seemed like a fun night out",
          "Seemed like a fun night out",
          "Seemed like a fun night out",
          "To meet new people",
          "To meet new people",
          "Seemed like a fun night out",
          "To meet new people",
          "Other",
          "Seemed like a fun night out",
          "Seemed like a fun night out",
          "Other",
          "Other",
          "Seemed like a fun night out",
          "To meet new people",
          "Seemed like a fun night out",
          "To meet new people",
          "To meet new people",
          "To meet new people",
          "Seemed like a fun night out",
          "Seemed like a fun night out",
          "To say I did it",
          "Seemed like a fun night out",
          "Seemed like a fun night out",
          "Seemed like a fun night out",
          "Seemed like a fun night out",
          "Seemed like a fun night out",
          "Seemed like a fun night out",
          "Seemed like a fun night out",
          "To say I did it",
          "Seemed like a fun night out",
          "To say I did it",
          "To meet new people",
          "To meet new people",
          "To meet new people",
          "Seemed like a fun night out",
          "To meet new people",
          "To meet new people",
          "Seemed like a fun night out",
          "To meet new people",
          "To say I did it",
          "To say I did it",
          "To meet new people",
          "Seemed like a fun night out",
          "Seemed like a fun night out",
          "Seemed like a fun night out",
          "To meet new people",
          "To meet new people",
          "To meet new people",
          "Seemed like a fun night out",
          "Seemed like a fun night out",
          "To meet new people",
          "To meet new people",
          "To meet new people"
         ],
         "yaxis": "y"
        },
        {
         "alignmentgroup": "True",
         "bingroup": "y",
         "histnorm": "percent",
         "hovertemplate": "gender_name=Male<br>percent=%{x}<br>participant_goal=%{y}<extra></extra>",
         "legendgroup": "Male",
         "marker": {
          "color": "#1179f0",
          "opacity": 0.6,
          "pattern": {
           "shape": ""
          }
         },
         "name": "Male",
         "offsetgroup": "Male",
         "orientation": "h",
         "showlegend": true,
         "type": "histogram",
         "xaxis": "x",
         "y": [
          "Seemed like a fun night out",
          "Seemed like a fun night out",
          "To meet new people",
          "To meet new people",
          "Seemed like a fun night out",
          "Seemed like a fun night out",
          "To get a date",
          "Seemed like a fun night out",
          "Looking for a serious relationship",
          "Seemed like a fun night out",
          "To meet new people",
          "To meet new people",
          "To meet new people",
          "Other",
          "Seemed like a fun night out",
          "To meet new people",
          "To meet new people",
          "Seemed like a fun night out",
          "Seemed like a fun night out",
          "Seemed like a fun night out",
          "Other",
          "Seemed like a fun night out",
          "Seemed like a fun night out",
          "To meet new people",
          "To say I did it",
          "Other",
          "To meet new people",
          "Other",
          "To say I did it",
          "Other",
          "To say I did it",
          "To say I did it",
          "To say I did it",
          "Other",
          "To say I did it",
          "Other",
          "To meet new people",
          "Seemed like a fun night out",
          "Seemed like a fun night out",
          "To meet new people",
          "Looking for a serious relationship",
          "To get a date",
          "Seemed like a fun night out",
          "To get a date",
          "Seemed like a fun night out",
          "To meet new people",
          "To meet new people",
          "To meet new people",
          "To say I did it",
          "Seemed like a fun night out",
          "Seemed like a fun night out",
          "Seemed like a fun night out",
          "To meet new people",
          "To say I did it",
          "Seemed like a fun night out",
          "To meet new people",
          "To meet new people",
          "Seemed like a fun night out",
          "Looking for a serious relationship",
          "Other",
          "Seemed like a fun night out",
          "To get a date",
          "Seemed like a fun night out",
          "To meet new people",
          "Seemed like a fun night out",
          "Seemed like a fun night out",
          "Seemed like a fun night out",
          "Seemed like a fun night out",
          "Seemed like a fun night out",
          "Looking for a serious relationship",
          "Seemed like a fun night out",
          "To meet new people",
          "To meet new people",
          "To meet new people",
          "Looking for a serious relationship",
          "Seemed like a fun night out",
          "To get a date",
          "To say I did it",
          "To meet new people",
          "Seemed like a fun night out",
          "To meet new people",
          "Seemed like a fun night out",
          "Seemed like a fun night out",
          "Seemed like a fun night out",
          "Seemed like a fun night out",
          "To meet new people",
          "Seemed like a fun night out",
          "Seemed like a fun night out",
          "To meet new people",
          "To meet new people",
          "Seemed like a fun night out",
          "To meet new people",
          "To say I did it",
          "Seemed like a fun night out",
          "Seemed like a fun night out",
          "Seemed like a fun night out",
          "Seemed like a fun night out",
          "To meet new people",
          "To say I did it",
          "Seemed like a fun night out",
          "Seemed like a fun night out",
          "Seemed like a fun night out",
          "To meet new people",
          "To meet new people",
          "To meet new people",
          "Other",
          "Seemed like a fun night out",
          "To meet new people",
          "To meet new people",
          "To get a date",
          "Seemed like a fun night out",
          "To meet new people",
          "Seemed like a fun night out",
          "To meet new people",
          "Seemed like a fun night out",
          "To meet new people",
          "To meet new people",
          "Looking for a serious relationship",
          "Seemed like a fun night out",
          "Seemed like a fun night out",
          "Seemed like a fun night out",
          "To meet new people",
          "Looking for a serious relationship",
          "Other",
          "To meet new people",
          "To get a date",
          "To meet new people",
          "To meet new people",
          "Seemed like a fun night out",
          "Seemed like a fun night out",
          "To get a date",
          "To get a date",
          "Other",
          "Seemed like a fun night out",
          "Seemed like a fun night out",
          "Seemed like a fun night out",
          "Looking for a serious relationship",
          "Seemed like a fun night out",
          "Seemed like a fun night out",
          "Seemed like a fun night out",
          "Seemed like a fun night out",
          "To meet new people",
          "Seemed like a fun night out",
          "Seemed like a fun night out",
          "To meet new people",
          "Seemed like a fun night out",
          "To get a date",
          "Seemed like a fun night out",
          "To meet new people",
          "To meet new people",
          "Seemed like a fun night out",
          "To meet new people",
          "To get a date",
          "To meet new people",
          "Seemed like a fun night out",
          "To meet new people",
          "Other",
          "Looking for a serious relationship",
          "Seemed like a fun night out",
          "To get a date",
          "Seemed like a fun night out",
          "Seemed like a fun night out",
          "Seemed like a fun night out",
          "Seemed like a fun night out",
          "Seemed like a fun night out",
          "Seemed like a fun night out",
          "Other",
          "Other",
          "To meet new people",
          "Seemed like a fun night out",
          "To get a date",
          "To get a date",
          "Seemed like a fun night out",
          "Seemed like a fun night out",
          "To get a date",
          "Seemed like a fun night out",
          "To meet new people",
          "To get a date",
          "To say I did it",
          "To meet new people",
          "To meet new people",
          "To meet new people",
          "Seemed like a fun night out",
          "To meet new people",
          "Seemed like a fun night out",
          "Other",
          "To meet new people",
          "To meet new people",
          "To meet new people",
          "To say I did it",
          "To meet new people",
          "To get a date",
          "To say I did it",
          "To meet new people",
          "Looking for a serious relationship",
          "Seemed like a fun night out",
          "To get a date",
          "To meet new people",
          "To meet new people",
          "Seemed like a fun night out",
          "To get a date",
          "Seemed like a fun night out",
          "Seemed like a fun night out",
          "Other",
          "Seemed like a fun night out",
          "To meet new people",
          "To meet new people",
          "To meet new people",
          "To meet new people",
          "To meet new people",
          "Seemed like a fun night out",
          "To get a date",
          "To meet new people",
          "Seemed like a fun night out",
          "To meet new people",
          "Looking for a serious relationship",
          "To meet new people",
          "To meet new people",
          "To meet new people",
          "Seemed like a fun night out",
          "Seemed like a fun night out",
          "Seemed like a fun night out",
          "Seemed like a fun night out",
          "To meet new people",
          "To meet new people",
          "Seemed like a fun night out",
          "To meet new people",
          "Seemed like a fun night out",
          "Seemed like a fun night out",
          "Looking for a serious relationship",
          "To meet new people",
          "Seemed like a fun night out",
          "Other",
          "To meet new people",
          "To meet new people",
          "Other",
          "Seemed like a fun night out",
          "To meet new people",
          "To get a date",
          "Seemed like a fun night out",
          "To get a date",
          "To get a date",
          "To meet new people",
          "To meet new people",
          "To meet new people",
          "To say I did it",
          "Looking for a serious relationship",
          "To meet new people",
          "Seemed like a fun night out",
          "To say I did it",
          "To meet new people",
          "To get a date",
          "Seemed like a fun night out",
          "To say I did it",
          "To get a date",
          "To meet new people",
          "Seemed like a fun night out",
          "To meet new people",
          "To get a date",
          "Seemed like a fun night out",
          "Seemed like a fun night out",
          "Seemed like a fun night out",
          "Seemed like a fun night out",
          "Seemed like a fun night out",
          "Seemed like a fun night out",
          "To get a date",
          "To meet new people",
          "Seemed like a fun night out",
          "Seemed like a fun night out",
          "Seemed like a fun night out",
          "To meet new people",
          "To meet new people",
          "Seemed like a fun night out",
          "Seemed like a fun night out",
          "To meet new people",
          "Seemed like a fun night out",
          "Seemed like a fun night out"
         ],
         "yaxis": "y"
        }
       ],
       "layout": {
        "barmode": "group",
        "legend": {
         "title": {
          "text": "gender_name"
         },
         "tracegroupgap": 0
        },
        "margin": {
         "t": 60
        },
        "template": {
         "data": {
          "bar": [
           {
            "error_x": {
             "color": "#2a3f5f"
            },
            "error_y": {
             "color": "#2a3f5f"
            },
            "marker": {
             "line": {
              "color": "#E5ECF6",
              "width": 0.5
             },
             "pattern": {
              "fillmode": "overlay",
              "size": 10,
              "solidity": 0.2
             }
            },
            "type": "bar"
           }
          ],
          "barpolar": [
           {
            "marker": {
             "line": {
              "color": "#E5ECF6",
              "width": 0.5
             },
             "pattern": {
              "fillmode": "overlay",
              "size": 10,
              "solidity": 0.2
             }
            },
            "type": "barpolar"
           }
          ],
          "carpet": [
           {
            "aaxis": {
             "endlinecolor": "#2a3f5f",
             "gridcolor": "white",
             "linecolor": "white",
             "minorgridcolor": "white",
             "startlinecolor": "#2a3f5f"
            },
            "baxis": {
             "endlinecolor": "#2a3f5f",
             "gridcolor": "white",
             "linecolor": "white",
             "minorgridcolor": "white",
             "startlinecolor": "#2a3f5f"
            },
            "type": "carpet"
           }
          ],
          "choropleth": [
           {
            "colorbar": {
             "outlinewidth": 0,
             "ticks": ""
            },
            "type": "choropleth"
           }
          ],
          "contour": [
           {
            "colorbar": {
             "outlinewidth": 0,
             "ticks": ""
            },
            "colorscale": [
             [
              0,
              "#0d0887"
             ],
             [
              0.1111111111111111,
              "#46039f"
             ],
             [
              0.2222222222222222,
              "#7201a8"
             ],
             [
              0.3333333333333333,
              "#9c179e"
             ],
             [
              0.4444444444444444,
              "#bd3786"
             ],
             [
              0.5555555555555556,
              "#d8576b"
             ],
             [
              0.6666666666666666,
              "#ed7953"
             ],
             [
              0.7777777777777778,
              "#fb9f3a"
             ],
             [
              0.8888888888888888,
              "#fdca26"
             ],
             [
              1,
              "#f0f921"
             ]
            ],
            "type": "contour"
           }
          ],
          "contourcarpet": [
           {
            "colorbar": {
             "outlinewidth": 0,
             "ticks": ""
            },
            "type": "contourcarpet"
           }
          ],
          "heatmap": [
           {
            "colorbar": {
             "outlinewidth": 0,
             "ticks": ""
            },
            "colorscale": [
             [
              0,
              "#0d0887"
             ],
             [
              0.1111111111111111,
              "#46039f"
             ],
             [
              0.2222222222222222,
              "#7201a8"
             ],
             [
              0.3333333333333333,
              "#9c179e"
             ],
             [
              0.4444444444444444,
              "#bd3786"
             ],
             [
              0.5555555555555556,
              "#d8576b"
             ],
             [
              0.6666666666666666,
              "#ed7953"
             ],
             [
              0.7777777777777778,
              "#fb9f3a"
             ],
             [
              0.8888888888888888,
              "#fdca26"
             ],
             [
              1,
              "#f0f921"
             ]
            ],
            "type": "heatmap"
           }
          ],
          "heatmapgl": [
           {
            "colorbar": {
             "outlinewidth": 0,
             "ticks": ""
            },
            "colorscale": [
             [
              0,
              "#0d0887"
             ],
             [
              0.1111111111111111,
              "#46039f"
             ],
             [
              0.2222222222222222,
              "#7201a8"
             ],
             [
              0.3333333333333333,
              "#9c179e"
             ],
             [
              0.4444444444444444,
              "#bd3786"
             ],
             [
              0.5555555555555556,
              "#d8576b"
             ],
             [
              0.6666666666666666,
              "#ed7953"
             ],
             [
              0.7777777777777778,
              "#fb9f3a"
             ],
             [
              0.8888888888888888,
              "#fdca26"
             ],
             [
              1,
              "#f0f921"
             ]
            ],
            "type": "heatmapgl"
           }
          ],
          "histogram": [
           {
            "marker": {
             "pattern": {
              "fillmode": "overlay",
              "size": 10,
              "solidity": 0.2
             }
            },
            "type": "histogram"
           }
          ],
          "histogram2d": [
           {
            "colorbar": {
             "outlinewidth": 0,
             "ticks": ""
            },
            "colorscale": [
             [
              0,
              "#0d0887"
             ],
             [
              0.1111111111111111,
              "#46039f"
             ],
             [
              0.2222222222222222,
              "#7201a8"
             ],
             [
              0.3333333333333333,
              "#9c179e"
             ],
             [
              0.4444444444444444,
              "#bd3786"
             ],
             [
              0.5555555555555556,
              "#d8576b"
             ],
             [
              0.6666666666666666,
              "#ed7953"
             ],
             [
              0.7777777777777778,
              "#fb9f3a"
             ],
             [
              0.8888888888888888,
              "#fdca26"
             ],
             [
              1,
              "#f0f921"
             ]
            ],
            "type": "histogram2d"
           }
          ],
          "histogram2dcontour": [
           {
            "colorbar": {
             "outlinewidth": 0,
             "ticks": ""
            },
            "colorscale": [
             [
              0,
              "#0d0887"
             ],
             [
              0.1111111111111111,
              "#46039f"
             ],
             [
              0.2222222222222222,
              "#7201a8"
             ],
             [
              0.3333333333333333,
              "#9c179e"
             ],
             [
              0.4444444444444444,
              "#bd3786"
             ],
             [
              0.5555555555555556,
              "#d8576b"
             ],
             [
              0.6666666666666666,
              "#ed7953"
             ],
             [
              0.7777777777777778,
              "#fb9f3a"
             ],
             [
              0.8888888888888888,
              "#fdca26"
             ],
             [
              1,
              "#f0f921"
             ]
            ],
            "type": "histogram2dcontour"
           }
          ],
          "mesh3d": [
           {
            "colorbar": {
             "outlinewidth": 0,
             "ticks": ""
            },
            "type": "mesh3d"
           }
          ],
          "parcoords": [
           {
            "line": {
             "colorbar": {
              "outlinewidth": 0,
              "ticks": ""
             }
            },
            "type": "parcoords"
           }
          ],
          "pie": [
           {
            "automargin": true,
            "type": "pie"
           }
          ],
          "scatter": [
           {
            "fillpattern": {
             "fillmode": "overlay",
             "size": 10,
             "solidity": 0.2
            },
            "type": "scatter"
           }
          ],
          "scatter3d": [
           {
            "line": {
             "colorbar": {
              "outlinewidth": 0,
              "ticks": ""
             }
            },
            "marker": {
             "colorbar": {
              "outlinewidth": 0,
              "ticks": ""
             }
            },
            "type": "scatter3d"
           }
          ],
          "scattercarpet": [
           {
            "marker": {
             "colorbar": {
              "outlinewidth": 0,
              "ticks": ""
             }
            },
            "type": "scattercarpet"
           }
          ],
          "scattergeo": [
           {
            "marker": {
             "colorbar": {
              "outlinewidth": 0,
              "ticks": ""
             }
            },
            "type": "scattergeo"
           }
          ],
          "scattergl": [
           {
            "marker": {
             "colorbar": {
              "outlinewidth": 0,
              "ticks": ""
             }
            },
            "type": "scattergl"
           }
          ],
          "scattermapbox": [
           {
            "marker": {
             "colorbar": {
              "outlinewidth": 0,
              "ticks": ""
             }
            },
            "type": "scattermapbox"
           }
          ],
          "scatterpolar": [
           {
            "marker": {
             "colorbar": {
              "outlinewidth": 0,
              "ticks": ""
             }
            },
            "type": "scatterpolar"
           }
          ],
          "scatterpolargl": [
           {
            "marker": {
             "colorbar": {
              "outlinewidth": 0,
              "ticks": ""
             }
            },
            "type": "scatterpolargl"
           }
          ],
          "scatterternary": [
           {
            "marker": {
             "colorbar": {
              "outlinewidth": 0,
              "ticks": ""
             }
            },
            "type": "scatterternary"
           }
          ],
          "surface": [
           {
            "colorbar": {
             "outlinewidth": 0,
             "ticks": ""
            },
            "colorscale": [
             [
              0,
              "#0d0887"
             ],
             [
              0.1111111111111111,
              "#46039f"
             ],
             [
              0.2222222222222222,
              "#7201a8"
             ],
             [
              0.3333333333333333,
              "#9c179e"
             ],
             [
              0.4444444444444444,
              "#bd3786"
             ],
             [
              0.5555555555555556,
              "#d8576b"
             ],
             [
              0.6666666666666666,
              "#ed7953"
             ],
             [
              0.7777777777777778,
              "#fb9f3a"
             ],
             [
              0.8888888888888888,
              "#fdca26"
             ],
             [
              1,
              "#f0f921"
             ]
            ],
            "type": "surface"
           }
          ],
          "table": [
           {
            "cells": {
             "fill": {
              "color": "#EBF0F8"
             },
             "line": {
              "color": "white"
             }
            },
            "header": {
             "fill": {
              "color": "#C8D4E3"
             },
             "line": {
              "color": "white"
             }
            },
            "type": "table"
           }
          ]
         },
         "layout": {
          "annotationdefaults": {
           "arrowcolor": "#2a3f5f",
           "arrowhead": 0,
           "arrowwidth": 1
          },
          "autotypenumbers": "strict",
          "coloraxis": {
           "colorbar": {
            "outlinewidth": 0,
            "ticks": ""
           }
          },
          "colorscale": {
           "diverging": [
            [
             0,
             "#8e0152"
            ],
            [
             0.1,
             "#c51b7d"
            ],
            [
             0.2,
             "#de77ae"
            ],
            [
             0.3,
             "#f1b6da"
            ],
            [
             0.4,
             "#fde0ef"
            ],
            [
             0.5,
             "#f7f7f7"
            ],
            [
             0.6,
             "#e6f5d0"
            ],
            [
             0.7,
             "#b8e186"
            ],
            [
             0.8,
             "#7fbc41"
            ],
            [
             0.9,
             "#4d9221"
            ],
            [
             1,
             "#276419"
            ]
           ],
           "sequential": [
            [
             0,
             "#0d0887"
            ],
            [
             0.1111111111111111,
             "#46039f"
            ],
            [
             0.2222222222222222,
             "#7201a8"
            ],
            [
             0.3333333333333333,
             "#9c179e"
            ],
            [
             0.4444444444444444,
             "#bd3786"
            ],
            [
             0.5555555555555556,
             "#d8576b"
            ],
            [
             0.6666666666666666,
             "#ed7953"
            ],
            [
             0.7777777777777778,
             "#fb9f3a"
            ],
            [
             0.8888888888888888,
             "#fdca26"
            ],
            [
             1,
             "#f0f921"
            ]
           ],
           "sequentialminus": [
            [
             0,
             "#0d0887"
            ],
            [
             0.1111111111111111,
             "#46039f"
            ],
            [
             0.2222222222222222,
             "#7201a8"
            ],
            [
             0.3333333333333333,
             "#9c179e"
            ],
            [
             0.4444444444444444,
             "#bd3786"
            ],
            [
             0.5555555555555556,
             "#d8576b"
            ],
            [
             0.6666666666666666,
             "#ed7953"
            ],
            [
             0.7777777777777778,
             "#fb9f3a"
            ],
            [
             0.8888888888888888,
             "#fdca26"
            ],
            [
             1,
             "#f0f921"
            ]
           ]
          },
          "colorway": [
           "#636efa",
           "#EF553B",
           "#00cc96",
           "#ab63fa",
           "#FFA15A",
           "#19d3f3",
           "#FF6692",
           "#B6E880",
           "#FF97FF",
           "#FECB52"
          ],
          "font": {
           "color": "#2a3f5f"
          },
          "geo": {
           "bgcolor": "white",
           "lakecolor": "white",
           "landcolor": "#E5ECF6",
           "showlakes": true,
           "showland": true,
           "subunitcolor": "white"
          },
          "hoverlabel": {
           "align": "left"
          },
          "hovermode": "closest",
          "mapbox": {
           "style": "light"
          },
          "paper_bgcolor": "white",
          "plot_bgcolor": "#E5ECF6",
          "polar": {
           "angularaxis": {
            "gridcolor": "white",
            "linecolor": "white",
            "ticks": ""
           },
           "bgcolor": "#E5ECF6",
           "radialaxis": {
            "gridcolor": "white",
            "linecolor": "white",
            "ticks": ""
           }
          },
          "scene": {
           "xaxis": {
            "backgroundcolor": "#E5ECF6",
            "gridcolor": "white",
            "gridwidth": 2,
            "linecolor": "white",
            "showbackground": true,
            "ticks": "",
            "zerolinecolor": "white"
           },
           "yaxis": {
            "backgroundcolor": "#E5ECF6",
            "gridcolor": "white",
            "gridwidth": 2,
            "linecolor": "white",
            "showbackground": true,
            "ticks": "",
            "zerolinecolor": "white"
           },
           "zaxis": {
            "backgroundcolor": "#E5ECF6",
            "gridcolor": "white",
            "gridwidth": 2,
            "linecolor": "white",
            "showbackground": true,
            "ticks": "",
            "zerolinecolor": "white"
           }
          },
          "shapedefaults": {
           "line": {
            "color": "#2a3f5f"
           }
          },
          "ternary": {
           "aaxis": {
            "gridcolor": "white",
            "linecolor": "white",
            "ticks": ""
           },
           "baxis": {
            "gridcolor": "white",
            "linecolor": "white",
            "ticks": ""
           },
           "bgcolor": "#E5ECF6",
           "caxis": {
            "gridcolor": "white",
            "linecolor": "white",
            "ticks": ""
           }
          },
          "title": {
           "x": 0.05
          },
          "xaxis": {
           "automargin": true,
           "gridcolor": "white",
           "linecolor": "white",
           "ticks": "",
           "title": {
            "standoff": 15
           },
           "zerolinecolor": "white",
           "zerolinewidth": 2
          },
          "yaxis": {
           "automargin": true,
           "gridcolor": "white",
           "linecolor": "white",
           "ticks": "",
           "title": {
            "standoff": 15
           },
           "zerolinecolor": "white",
           "zerolinewidth": 2
          }
         }
        },
        "xaxis": {
         "anchor": "y",
         "domain": [
          0,
          1
         ],
         "title": {
          "text": "percent"
         }
        },
        "yaxis": {
         "anchor": "x",
         "domain": [
          0,
          1
         ],
         "title": {
          "text": "participant_goal"
         }
        }
       }
      }
     },
     "metadata": {},
     "output_type": "display_data"
    }
   ],
   "source": [
    "import plotly.express as px\n",
    "fig = px.histogram(df_iid, y=\"participant_goal\",\n",
    "             color='gender_name', barmode='group', color_discrete_sequence=[\"#F78FE4\", \"#1179f0\"], opacity=0.60, histnorm = 'percent')\n",
    "fig.show()"
   ]
  },
  {
   "cell_type": "code",
   "execution_count": null,
   "metadata": {},
   "outputs": [],
   "source": [
    "fig = px.histogram(df_iid, y=\"participant_goal\",\n",
    "             color='gender_name', barmode='group', color_discrete_sequence=[\"#F78FE4\", \"#1179f0\"], opacity=0.60, histnorm = 'percent')\n",
    "fig.show()"
   ]
  },
  {
   "attachments": {},
   "cell_type": "markdown",
   "metadata": {},
   "source": [
    "Percent successful matches:"
   ]
  },
  {
   "cell_type": "code",
   "execution_count": null,
   "metadata": {},
   "outputs": [],
   "source": [
    "df_match=df[[\"iid\", \"pid\", \"match\"]]"
   ]
  },
  {
   "cell_type": "code",
   "execution_count": null,
   "metadata": {},
   "outputs": [
    {
     "data": {
      "text/plain": [
       "array([[  0.,   1.,  11.],\n",
       "       [  0.,   1.,  12.],\n",
       "       [  1.,   1.,  13.],\n",
       "       ...,\n",
       "       [  0., 528., 552.],\n",
       "       [  0., 529., 552.],\n",
       "       [  0., 530., 552.]])"
      ]
     },
     "execution_count": 23,
     "metadata": {},
     "output_type": "execute_result"
    }
   ],
   "source": [
    "np.sort(df_match.iloc[:, :3], axis = 1)"
   ]
  },
  {
   "cell_type": "code",
   "execution_count": null,
   "metadata": {},
   "outputs": [
    {
     "data": {
      "text/plain": [
       "8378"
      ]
     },
     "execution_count": 24,
     "metadata": {},
     "output_type": "execute_result"
    }
   ],
   "source": [
    "len(np.sort(df_match.iloc[:, :3]))"
   ]
  },
  {
   "cell_type": "code",
   "execution_count": null,
   "metadata": {},
   "outputs": [],
   "source": [
    "#np.sort(df_match.iloc[:, :2])"
   ]
  },
  {
   "cell_type": "code",
   "execution_count": null,
   "metadata": {},
   "outputs": [
    {
     "data": {
      "text/plain": [
       "8378"
      ]
     },
     "execution_count": 26,
     "metadata": {},
     "output_type": "execute_result"
    }
   ],
   "source": [
    "len(df_match)"
   ]
  },
  {
   "cell_type": "code",
   "execution_count": null,
   "metadata": {},
   "outputs": [
    {
     "data": {
      "text/html": [
       "<div>\n",
       "<style scoped>\n",
       "    .dataframe tbody tr th:only-of-type {\n",
       "        vertical-align: middle;\n",
       "    }\n",
       "\n",
       "    .dataframe tbody tr th {\n",
       "        vertical-align: top;\n",
       "    }\n",
       "\n",
       "    .dataframe thead th {\n",
       "        text-align: right;\n",
       "    }\n",
       "</style>\n",
       "<table border=\"1\" class=\"dataframe\">\n",
       "  <thead>\n",
       "    <tr style=\"text-align: right;\">\n",
       "      <th></th>\n",
       "      <th>0</th>\n",
       "      <th>1</th>\n",
       "      <th>2</th>\n",
       "    </tr>\n",
       "  </thead>\n",
       "  <tbody>\n",
       "    <tr>\n",
       "      <th>8373</th>\n",
       "      <td>0.0</td>\n",
       "      <td>526.0</td>\n",
       "      <td>552.0</td>\n",
       "    </tr>\n",
       "    <tr>\n",
       "      <th>8374</th>\n",
       "      <td>0.0</td>\n",
       "      <td>527.0</td>\n",
       "      <td>552.0</td>\n",
       "    </tr>\n",
       "    <tr>\n",
       "      <th>8375</th>\n",
       "      <td>0.0</td>\n",
       "      <td>528.0</td>\n",
       "      <td>552.0</td>\n",
       "    </tr>\n",
       "    <tr>\n",
       "      <th>8376</th>\n",
       "      <td>0.0</td>\n",
       "      <td>529.0</td>\n",
       "      <td>552.0</td>\n",
       "    </tr>\n",
       "    <tr>\n",
       "      <th>8377</th>\n",
       "      <td>0.0</td>\n",
       "      <td>530.0</td>\n",
       "      <td>552.0</td>\n",
       "    </tr>\n",
       "  </tbody>\n",
       "</table>\n",
       "</div>"
      ],
      "text/plain": [
       "        0      1      2\n",
       "8373  0.0  526.0  552.0\n",
       "8374  0.0  527.0  552.0\n",
       "8375  0.0  528.0  552.0\n",
       "8376  0.0  529.0  552.0\n",
       "8377  0.0  530.0  552.0"
      ]
     },
     "execution_count": 27,
     "metadata": {},
     "output_type": "execute_result"
    }
   ],
   "source": [
    "pd.DataFrame(np.sort(df_match.iloc[:, :3])).tail()"
   ]
  },
  {
   "cell_type": "code",
   "execution_count": null,
   "metadata": {},
   "outputs": [],
   "source": [
    "df_match = df_match.loc[~pd.DataFrame(np.sort(df_match.iloc[:, :3])).duplicated()]\n",
    "#df_match.reset_index(inplace=True)"
   ]
  },
  {
   "cell_type": "code",
   "execution_count": null,
   "metadata": {},
   "outputs": [
    {
     "data": {
      "text/plain": [
       "4194"
      ]
     },
     "execution_count": 29,
     "metadata": {},
     "output_type": "execute_result"
    }
   ],
   "source": [
    "len(df_match)"
   ]
  },
  {
   "cell_type": "code",
   "execution_count": null,
   "metadata": {},
   "outputs": [],
   "source": [
    "df_match.reset_index(drop=True, inplace=True)"
   ]
  },
  {
   "cell_type": "code",
   "execution_count": null,
   "metadata": {},
   "outputs": [
    {
     "data": {
      "text/plain": [
       "4194"
      ]
     },
     "execution_count": 31,
     "metadata": {},
     "output_type": "execute_result"
    }
   ],
   "source": [
    "len(df_match)"
   ]
  },
  {
   "cell_type": "code",
   "execution_count": null,
   "metadata": {},
   "outputs": [
    {
     "data": {
      "text/html": [
       "<div>\n",
       "<style scoped>\n",
       "    .dataframe tbody tr th:only-of-type {\n",
       "        vertical-align: middle;\n",
       "    }\n",
       "\n",
       "    .dataframe tbody tr th {\n",
       "        vertical-align: top;\n",
       "    }\n",
       "\n",
       "    .dataframe thead th {\n",
       "        text-align: right;\n",
       "    }\n",
       "</style>\n",
       "<table border=\"1\" class=\"dataframe\">\n",
       "  <thead>\n",
       "    <tr style=\"text-align: right;\">\n",
       "      <th></th>\n",
       "      <th>iid</th>\n",
       "      <th>pid</th>\n",
       "      <th>match</th>\n",
       "    </tr>\n",
       "  </thead>\n",
       "  <tbody>\n",
       "    <tr>\n",
       "      <th>0</th>\n",
       "      <td>1</td>\n",
       "      <td>11.0</td>\n",
       "      <td>0</td>\n",
       "    </tr>\n",
       "    <tr>\n",
       "      <th>1</th>\n",
       "      <td>1</td>\n",
       "      <td>12.0</td>\n",
       "      <td>0</td>\n",
       "    </tr>\n",
       "    <tr>\n",
       "      <th>2</th>\n",
       "      <td>1</td>\n",
       "      <td>13.0</td>\n",
       "      <td>1</td>\n",
       "    </tr>\n",
       "    <tr>\n",
       "      <th>3</th>\n",
       "      <td>1</td>\n",
       "      <td>14.0</td>\n",
       "      <td>1</td>\n",
       "    </tr>\n",
       "    <tr>\n",
       "      <th>4</th>\n",
       "      <td>1</td>\n",
       "      <td>15.0</td>\n",
       "      <td>1</td>\n",
       "    </tr>\n",
       "  </tbody>\n",
       "</table>\n",
       "</div>"
      ],
      "text/plain": [
       "   iid   pid  match\n",
       "0    1  11.0      0\n",
       "1    1  12.0      0\n",
       "2    1  13.0      1\n",
       "3    1  14.0      1\n",
       "4    1  15.0      1"
      ]
     },
     "execution_count": 32,
     "metadata": {},
     "output_type": "execute_result"
    }
   ],
   "source": [
    "df_match.head()"
   ]
  },
  {
   "cell_type": "code",
   "execution_count": null,
   "metadata": {},
   "outputs": [
    {
     "data": {
      "text/html": [
       "<div>\n",
       "<style scoped>\n",
       "    .dataframe tbody tr th:only-of-type {\n",
       "        vertical-align: middle;\n",
       "    }\n",
       "\n",
       "    .dataframe tbody tr th {\n",
       "        vertical-align: top;\n",
       "    }\n",
       "\n",
       "    .dataframe thead th {\n",
       "        text-align: right;\n",
       "    }\n",
       "</style>\n",
       "<table border=\"1\" class=\"dataframe\">\n",
       "  <thead>\n",
       "    <tr style=\"text-align: right;\">\n",
       "      <th></th>\n",
       "      <th>iid</th>\n",
       "      <th>pid</th>\n",
       "      <th>match</th>\n",
       "    </tr>\n",
       "  </thead>\n",
       "  <tbody>\n",
       "    <tr>\n",
       "      <th>4189</th>\n",
       "      <td>530</td>\n",
       "      <td>548.0</td>\n",
       "      <td>0</td>\n",
       "    </tr>\n",
       "    <tr>\n",
       "      <th>4190</th>\n",
       "      <td>530</td>\n",
       "      <td>549.0</td>\n",
       "      <td>0</td>\n",
       "    </tr>\n",
       "    <tr>\n",
       "      <th>4191</th>\n",
       "      <td>530</td>\n",
       "      <td>550.0</td>\n",
       "      <td>0</td>\n",
       "    </tr>\n",
       "    <tr>\n",
       "      <th>4192</th>\n",
       "      <td>530</td>\n",
       "      <td>551.0</td>\n",
       "      <td>0</td>\n",
       "    </tr>\n",
       "    <tr>\n",
       "      <th>4193</th>\n",
       "      <td>530</td>\n",
       "      <td>552.0</td>\n",
       "      <td>0</td>\n",
       "    </tr>\n",
       "  </tbody>\n",
       "</table>\n",
       "</div>"
      ],
      "text/plain": [
       "      iid    pid  match\n",
       "4189  530  548.0      0\n",
       "4190  530  549.0      0\n",
       "4191  530  550.0      0\n",
       "4192  530  551.0      0\n",
       "4193  530  552.0      0"
      ]
     },
     "execution_count": 33,
     "metadata": {},
     "output_type": "execute_result"
    }
   ],
   "source": [
    "df_match.tail()"
   ]
  },
  {
   "cell_type": "code",
   "execution_count": null,
   "metadata": {},
   "outputs": [
    {
     "data": {
      "text/plain": [
       "array([0, 1], dtype=int64)"
      ]
     },
     "execution_count": 43,
     "metadata": {},
     "output_type": "execute_result"
    }
   ],
   "source": [
    "df_match[\"match\"].unique()"
   ]
  },
  {
   "cell_type": "code",
   "execution_count": null,
   "metadata": {},
   "outputs": [],
   "source": [
    "df_match[\"match\"] = df_match[\"match\"].apply(lambda x: \"Yes\" if x ==1 else \"No\")"
   ]
  },
  {
   "cell_type": "code",
   "execution_count": null,
   "metadata": {},
   "outputs": [
    {
     "data": {
      "text/html": [
       "<div>\n",
       "<style scoped>\n",
       "    .dataframe tbody tr th:only-of-type {\n",
       "        vertical-align: middle;\n",
       "    }\n",
       "\n",
       "    .dataframe tbody tr th {\n",
       "        vertical-align: top;\n",
       "    }\n",
       "\n",
       "    .dataframe thead th {\n",
       "        text-align: right;\n",
       "    }\n",
       "</style>\n",
       "<table border=\"1\" class=\"dataframe\">\n",
       "  <thead>\n",
       "    <tr style=\"text-align: right;\">\n",
       "      <th></th>\n",
       "      <th>iid</th>\n",
       "      <th>pid</th>\n",
       "      <th>match</th>\n",
       "    </tr>\n",
       "  </thead>\n",
       "  <tbody>\n",
       "    <tr>\n",
       "      <th>0</th>\n",
       "      <td>1</td>\n",
       "      <td>11.0</td>\n",
       "      <td>No</td>\n",
       "    </tr>\n",
       "    <tr>\n",
       "      <th>1</th>\n",
       "      <td>1</td>\n",
       "      <td>12.0</td>\n",
       "      <td>No</td>\n",
       "    </tr>\n",
       "    <tr>\n",
       "      <th>2</th>\n",
       "      <td>1</td>\n",
       "      <td>13.0</td>\n",
       "      <td>Yes</td>\n",
       "    </tr>\n",
       "    <tr>\n",
       "      <th>3</th>\n",
       "      <td>1</td>\n",
       "      <td>14.0</td>\n",
       "      <td>Yes</td>\n",
       "    </tr>\n",
       "    <tr>\n",
       "      <th>4</th>\n",
       "      <td>1</td>\n",
       "      <td>15.0</td>\n",
       "      <td>Yes</td>\n",
       "    </tr>\n",
       "    <tr>\n",
       "      <th>5</th>\n",
       "      <td>1</td>\n",
       "      <td>16.0</td>\n",
       "      <td>No</td>\n",
       "    </tr>\n",
       "    <tr>\n",
       "      <th>6</th>\n",
       "      <td>1</td>\n",
       "      <td>17.0</td>\n",
       "      <td>No</td>\n",
       "    </tr>\n",
       "    <tr>\n",
       "      <th>7</th>\n",
       "      <td>1</td>\n",
       "      <td>18.0</td>\n",
       "      <td>No</td>\n",
       "    </tr>\n",
       "    <tr>\n",
       "      <th>8</th>\n",
       "      <td>1</td>\n",
       "      <td>19.0</td>\n",
       "      <td>Yes</td>\n",
       "    </tr>\n",
       "    <tr>\n",
       "      <th>9</th>\n",
       "      <td>1</td>\n",
       "      <td>20.0</td>\n",
       "      <td>No</td>\n",
       "    </tr>\n",
       "  </tbody>\n",
       "</table>\n",
       "</div>"
      ],
      "text/plain": [
       "   iid   pid match\n",
       "0    1  11.0    No\n",
       "1    1  12.0    No\n",
       "2    1  13.0   Yes\n",
       "3    1  14.0   Yes\n",
       "4    1  15.0   Yes\n",
       "5    1  16.0    No\n",
       "6    1  17.0    No\n",
       "7    1  18.0    No\n",
       "8    1  19.0   Yes\n",
       "9    1  20.0    No"
      ]
     },
     "execution_count": 46,
     "metadata": {},
     "output_type": "execute_result"
    }
   ],
   "source": [
    "df_match.head(10)"
   ]
  },
  {
   "cell_type": "code",
   "execution_count": null,
   "metadata": {},
   "outputs": [
    {
     "data": {
      "text/html": [
       "<div>\n",
       "<style scoped>\n",
       "    .dataframe tbody tr th:only-of-type {\n",
       "        vertical-align: middle;\n",
       "    }\n",
       "\n",
       "    .dataframe tbody tr th {\n",
       "        vertical-align: top;\n",
       "    }\n",
       "\n",
       "    .dataframe thead th {\n",
       "        text-align: right;\n",
       "    }\n",
       "</style>\n",
       "<table border=\"1\" class=\"dataframe\">\n",
       "  <thead>\n",
       "    <tr style=\"text-align: right;\">\n",
       "      <th></th>\n",
       "      <th>iid</th>\n",
       "      <th>pid</th>\n",
       "      <th>match</th>\n",
       "    </tr>\n",
       "  </thead>\n",
       "  <tbody>\n",
       "    <tr>\n",
       "      <th>4189</th>\n",
       "      <td>530</td>\n",
       "      <td>548.0</td>\n",
       "      <td>No</td>\n",
       "    </tr>\n",
       "    <tr>\n",
       "      <th>4190</th>\n",
       "      <td>530</td>\n",
       "      <td>549.0</td>\n",
       "      <td>No</td>\n",
       "    </tr>\n",
       "    <tr>\n",
       "      <th>4191</th>\n",
       "      <td>530</td>\n",
       "      <td>550.0</td>\n",
       "      <td>No</td>\n",
       "    </tr>\n",
       "    <tr>\n",
       "      <th>4192</th>\n",
       "      <td>530</td>\n",
       "      <td>551.0</td>\n",
       "      <td>No</td>\n",
       "    </tr>\n",
       "    <tr>\n",
       "      <th>4193</th>\n",
       "      <td>530</td>\n",
       "      <td>552.0</td>\n",
       "      <td>No</td>\n",
       "    </tr>\n",
       "  </tbody>\n",
       "</table>\n",
       "</div>"
      ],
      "text/plain": [
       "      iid    pid match\n",
       "4189  530  548.0    No\n",
       "4190  530  549.0    No\n",
       "4191  530  550.0    No\n",
       "4192  530  551.0    No\n",
       "4193  530  552.0    No"
      ]
     },
     "execution_count": 45,
     "metadata": {},
     "output_type": "execute_result"
    }
   ],
   "source": [
    "df_match.tail()"
   ]
  },
  {
   "cell_type": "code",
   "execution_count": null,
   "metadata": {},
   "outputs": [
    {
     "data": {
      "application/vnd.plotly.v1+json": {
       "config": {
        "plotlyServerURL": "https://plot.ly"
       },
       "data": [
        {
         "domain": {
          "x": [
           0,
           1
          ],
          "y": [
           0,
           1
          ]
         },
         "hovertemplate": "day=%{label}<br>tip=%{value}<extra></extra>",
         "labels": [
          "Sun",
          "Sun",
          "Sun",
          "Sun",
          "Sun",
          "Sun",
          "Sun",
          "Sun",
          "Sun",
          "Sun",
          "Sun",
          "Sun",
          "Sun",
          "Sun",
          "Sun",
          "Sun",
          "Sun",
          "Sun",
          "Sun",
          "Sat",
          "Sat",
          "Sat",
          "Sat",
          "Sat",
          "Sat",
          "Sat",
          "Sat",
          "Sat",
          "Sat",
          "Sat",
          "Sat",
          "Sat",
          "Sat",
          "Sat",
          "Sat",
          "Sat",
          "Sat",
          "Sat",
          "Sat",
          "Sat",
          "Sat",
          "Sun",
          "Sun",
          "Sun",
          "Sun",
          "Sun",
          "Sun",
          "Sun",
          "Sun",
          "Sun",
          "Sun",
          "Sun",
          "Sun",
          "Sun",
          "Sun",
          "Sun",
          "Sat",
          "Sat",
          "Sat",
          "Sat",
          "Sat",
          "Sat",
          "Sat",
          "Sat",
          "Sat",
          "Sat",
          "Sat",
          "Sat",
          "Sat",
          "Sat",
          "Sat",
          "Sat",
          "Sat",
          "Sat",
          "Sat",
          "Sat",
          "Sat",
          "Thur",
          "Thur",
          "Thur",
          "Thur",
          "Thur",
          "Thur",
          "Thur",
          "Thur",
          "Thur",
          "Thur",
          "Thur",
          "Thur",
          "Thur",
          "Fri",
          "Fri",
          "Fri",
          "Fri",
          "Fri",
          "Fri",
          "Fri",
          "Fri",
          "Fri",
          "Fri",
          "Fri",
          "Fri",
          "Sat",
          "Sat",
          "Sat",
          "Sat",
          "Sat",
          "Sat",
          "Sat",
          "Sat",
          "Sat",
          "Sat",
          "Sun",
          "Sun",
          "Sun",
          "Sun",
          "Sun",
          "Thur",
          "Thur",
          "Thur",
          "Thur",
          "Thur",
          "Thur",
          "Thur",
          "Thur",
          "Thur",
          "Thur",
          "Thur",
          "Thur",
          "Thur",
          "Thur",
          "Thur",
          "Thur",
          "Thur",
          "Thur",
          "Thur",
          "Thur",
          "Thur",
          "Thur",
          "Thur",
          "Thur",
          "Thur",
          "Thur",
          "Thur",
          "Thur",
          "Thur",
          "Thur",
          "Thur",
          "Thur",
          "Thur",
          "Sun",
          "Sun",
          "Sun",
          "Sun",
          "Sun",
          "Sun",
          "Sun",
          "Sun",
          "Sun",
          "Sun",
          "Sun",
          "Sun",
          "Sun",
          "Sun",
          "Sun",
          "Sun",
          "Sun",
          "Sun",
          "Sat",
          "Sat",
          "Sat",
          "Sat",
          "Sun",
          "Sun",
          "Sun",
          "Sun",
          "Sun",
          "Sun",
          "Sun",
          "Sun",
          "Sun",
          "Sun",
          "Sun",
          "Sun",
          "Sun",
          "Sun",
          "Sun",
          "Sun",
          "Sun",
          "Sun",
          "Sun",
          "Thur",
          "Thur",
          "Thur",
          "Thur",
          "Thur",
          "Thur",
          "Thur",
          "Thur",
          "Thur",
          "Thur",
          "Thur",
          "Thur",
          "Thur",
          "Thur",
          "Thur",
          "Sat",
          "Sat",
          "Sat",
          "Sat",
          "Sat",
          "Sat",
          "Sat",
          "Sat",
          "Sat",
          "Sat",
          "Sat",
          "Sat",
          "Sat",
          "Sat",
          "Fri",
          "Fri",
          "Fri",
          "Fri",
          "Fri",
          "Fri",
          "Fri",
          "Sat",
          "Sat",
          "Sat",
          "Sat",
          "Sat",
          "Sat",
          "Sat",
          "Sat",
          "Sat",
          "Sat",
          "Sat",
          "Sat",
          "Sat",
          "Sat",
          "Sat",
          "Sat",
          "Thur"
         ],
         "legendgroup": "",
         "name": "",
         "showlegend": true,
         "type": "pie",
         "values": [
          1.01,
          1.66,
          3.5,
          3.31,
          3.61,
          4.71,
          2,
          3.12,
          1.96,
          3.23,
          1.71,
          5,
          1.57,
          3,
          3.02,
          3.92,
          1.67,
          3.71,
          3.5,
          3.35,
          4.08,
          2.75,
          2.23,
          7.58,
          3.18,
          2.34,
          2,
          2,
          4.3,
          3,
          1.45,
          2.5,
          3,
          2.45,
          3.27,
          3.6,
          2,
          3.07,
          2.31,
          5,
          2.24,
          2.54,
          3.06,
          1.32,
          5.6,
          3,
          5,
          6,
          2.05,
          3,
          2.5,
          2.6,
          5.2,
          1.56,
          4.34,
          3.51,
          3,
          1.5,
          1.76,
          6.73,
          3.21,
          2,
          1.98,
          3.76,
          2.64,
          3.15,
          2.47,
          1,
          2.01,
          2.09,
          1.97,
          3,
          3.14,
          5,
          2.2,
          1.25,
          3.08,
          4,
          3,
          2.71,
          3,
          3.4,
          1.83,
          5,
          2.03,
          5.17,
          2,
          4,
          5.85,
          3,
          3,
          3.5,
          1,
          4.3,
          3.25,
          4.73,
          4,
          1.5,
          3,
          1.5,
          2.5,
          3,
          2.5,
          3.48,
          4.08,
          1.64,
          4.06,
          4.29,
          3.76,
          4,
          3,
          1,
          4,
          2.55,
          4,
          3.5,
          5.07,
          1.5,
          1.8,
          2.92,
          2.31,
          1.68,
          2.5,
          2,
          2.52,
          4.2,
          1.48,
          2,
          2,
          2.18,
          1.5,
          2.83,
          1.5,
          2,
          3.25,
          1.25,
          2,
          2,
          2,
          2.75,
          3.5,
          6.7,
          5,
          5,
          2.3,
          1.5,
          1.36,
          1.63,
          1.73,
          2,
          2.5,
          2,
          2.74,
          2,
          2,
          5.14,
          5,
          3.75,
          2.61,
          2,
          3.5,
          2.5,
          2,
          2,
          3,
          3.48,
          2.24,
          4.5,
          1.61,
          2,
          10,
          3.16,
          5.15,
          3.18,
          4,
          3.11,
          2,
          2,
          4,
          3.55,
          3.68,
          5.65,
          3.5,
          6.5,
          3,
          5,
          3.5,
          2,
          3.5,
          4,
          1.5,
          4.19,
          2.56,
          2.02,
          4,
          1.44,
          2,
          5,
          2,
          2,
          4,
          2.01,
          2,
          2.5,
          4,
          3.23,
          3.41,
          3,
          2.03,
          2.23,
          2,
          5.16,
          9,
          2.5,
          6.5,
          1.1,
          3,
          1.5,
          1.44,
          3.09,
          2.2,
          3.48,
          1.92,
          3,
          1.58,
          2.5,
          2,
          3,
          2.72,
          2.88,
          2,
          3,
          3.39,
          1.47,
          3,
          1.25,
          1,
          1.17,
          4.67,
          5.92,
          2,
          2,
          1.75,
          3
         ]
        }
       ],
       "layout": {
        "legend": {
         "tracegroupgap": 0
        },
        "margin": {
         "t": 60
        },
        "template": {
         "data": {
          "bar": [
           {
            "error_x": {
             "color": "#2a3f5f"
            },
            "error_y": {
             "color": "#2a3f5f"
            },
            "marker": {
             "line": {
              "color": "#E5ECF6",
              "width": 0.5
             },
             "pattern": {
              "fillmode": "overlay",
              "size": 10,
              "solidity": 0.2
             }
            },
            "type": "bar"
           }
          ],
          "barpolar": [
           {
            "marker": {
             "line": {
              "color": "#E5ECF6",
              "width": 0.5
             },
             "pattern": {
              "fillmode": "overlay",
              "size": 10,
              "solidity": 0.2
             }
            },
            "type": "barpolar"
           }
          ],
          "carpet": [
           {
            "aaxis": {
             "endlinecolor": "#2a3f5f",
             "gridcolor": "white",
             "linecolor": "white",
             "minorgridcolor": "white",
             "startlinecolor": "#2a3f5f"
            },
            "baxis": {
             "endlinecolor": "#2a3f5f",
             "gridcolor": "white",
             "linecolor": "white",
             "minorgridcolor": "white",
             "startlinecolor": "#2a3f5f"
            },
            "type": "carpet"
           }
          ],
          "choropleth": [
           {
            "colorbar": {
             "outlinewidth": 0,
             "ticks": ""
            },
            "type": "choropleth"
           }
          ],
          "contour": [
           {
            "colorbar": {
             "outlinewidth": 0,
             "ticks": ""
            },
            "colorscale": [
             [
              0,
              "#0d0887"
             ],
             [
              0.1111111111111111,
              "#46039f"
             ],
             [
              0.2222222222222222,
              "#7201a8"
             ],
             [
              0.3333333333333333,
              "#9c179e"
             ],
             [
              0.4444444444444444,
              "#bd3786"
             ],
             [
              0.5555555555555556,
              "#d8576b"
             ],
             [
              0.6666666666666666,
              "#ed7953"
             ],
             [
              0.7777777777777778,
              "#fb9f3a"
             ],
             [
              0.8888888888888888,
              "#fdca26"
             ],
             [
              1,
              "#f0f921"
             ]
            ],
            "type": "contour"
           }
          ],
          "contourcarpet": [
           {
            "colorbar": {
             "outlinewidth": 0,
             "ticks": ""
            },
            "type": "contourcarpet"
           }
          ],
          "heatmap": [
           {
            "colorbar": {
             "outlinewidth": 0,
             "ticks": ""
            },
            "colorscale": [
             [
              0,
              "#0d0887"
             ],
             [
              0.1111111111111111,
              "#46039f"
             ],
             [
              0.2222222222222222,
              "#7201a8"
             ],
             [
              0.3333333333333333,
              "#9c179e"
             ],
             [
              0.4444444444444444,
              "#bd3786"
             ],
             [
              0.5555555555555556,
              "#d8576b"
             ],
             [
              0.6666666666666666,
              "#ed7953"
             ],
             [
              0.7777777777777778,
              "#fb9f3a"
             ],
             [
              0.8888888888888888,
              "#fdca26"
             ],
             [
              1,
              "#f0f921"
             ]
            ],
            "type": "heatmap"
           }
          ],
          "heatmapgl": [
           {
            "colorbar": {
             "outlinewidth": 0,
             "ticks": ""
            },
            "colorscale": [
             [
              0,
              "#0d0887"
             ],
             [
              0.1111111111111111,
              "#46039f"
             ],
             [
              0.2222222222222222,
              "#7201a8"
             ],
             [
              0.3333333333333333,
              "#9c179e"
             ],
             [
              0.4444444444444444,
              "#bd3786"
             ],
             [
              0.5555555555555556,
              "#d8576b"
             ],
             [
              0.6666666666666666,
              "#ed7953"
             ],
             [
              0.7777777777777778,
              "#fb9f3a"
             ],
             [
              0.8888888888888888,
              "#fdca26"
             ],
             [
              1,
              "#f0f921"
             ]
            ],
            "type": "heatmapgl"
           }
          ],
          "histogram": [
           {
            "marker": {
             "pattern": {
              "fillmode": "overlay",
              "size": 10,
              "solidity": 0.2
             }
            },
            "type": "histogram"
           }
          ],
          "histogram2d": [
           {
            "colorbar": {
             "outlinewidth": 0,
             "ticks": ""
            },
            "colorscale": [
             [
              0,
              "#0d0887"
             ],
             [
              0.1111111111111111,
              "#46039f"
             ],
             [
              0.2222222222222222,
              "#7201a8"
             ],
             [
              0.3333333333333333,
              "#9c179e"
             ],
             [
              0.4444444444444444,
              "#bd3786"
             ],
             [
              0.5555555555555556,
              "#d8576b"
             ],
             [
              0.6666666666666666,
              "#ed7953"
             ],
             [
              0.7777777777777778,
              "#fb9f3a"
             ],
             [
              0.8888888888888888,
              "#fdca26"
             ],
             [
              1,
              "#f0f921"
             ]
            ],
            "type": "histogram2d"
           }
          ],
          "histogram2dcontour": [
           {
            "colorbar": {
             "outlinewidth": 0,
             "ticks": ""
            },
            "colorscale": [
             [
              0,
              "#0d0887"
             ],
             [
              0.1111111111111111,
              "#46039f"
             ],
             [
              0.2222222222222222,
              "#7201a8"
             ],
             [
              0.3333333333333333,
              "#9c179e"
             ],
             [
              0.4444444444444444,
              "#bd3786"
             ],
             [
              0.5555555555555556,
              "#d8576b"
             ],
             [
              0.6666666666666666,
              "#ed7953"
             ],
             [
              0.7777777777777778,
              "#fb9f3a"
             ],
             [
              0.8888888888888888,
              "#fdca26"
             ],
             [
              1,
              "#f0f921"
             ]
            ],
            "type": "histogram2dcontour"
           }
          ],
          "mesh3d": [
           {
            "colorbar": {
             "outlinewidth": 0,
             "ticks": ""
            },
            "type": "mesh3d"
           }
          ],
          "parcoords": [
           {
            "line": {
             "colorbar": {
              "outlinewidth": 0,
              "ticks": ""
             }
            },
            "type": "parcoords"
           }
          ],
          "pie": [
           {
            "automargin": true,
            "type": "pie"
           }
          ],
          "scatter": [
           {
            "fillpattern": {
             "fillmode": "overlay",
             "size": 10,
             "solidity": 0.2
            },
            "type": "scatter"
           }
          ],
          "scatter3d": [
           {
            "line": {
             "colorbar": {
              "outlinewidth": 0,
              "ticks": ""
             }
            },
            "marker": {
             "colorbar": {
              "outlinewidth": 0,
              "ticks": ""
             }
            },
            "type": "scatter3d"
           }
          ],
          "scattercarpet": [
           {
            "marker": {
             "colorbar": {
              "outlinewidth": 0,
              "ticks": ""
             }
            },
            "type": "scattercarpet"
           }
          ],
          "scattergeo": [
           {
            "marker": {
             "colorbar": {
              "outlinewidth": 0,
              "ticks": ""
             }
            },
            "type": "scattergeo"
           }
          ],
          "scattergl": [
           {
            "marker": {
             "colorbar": {
              "outlinewidth": 0,
              "ticks": ""
             }
            },
            "type": "scattergl"
           }
          ],
          "scattermapbox": [
           {
            "marker": {
             "colorbar": {
              "outlinewidth": 0,
              "ticks": ""
             }
            },
            "type": "scattermapbox"
           }
          ],
          "scatterpolar": [
           {
            "marker": {
             "colorbar": {
              "outlinewidth": 0,
              "ticks": ""
             }
            },
            "type": "scatterpolar"
           }
          ],
          "scatterpolargl": [
           {
            "marker": {
             "colorbar": {
              "outlinewidth": 0,
              "ticks": ""
             }
            },
            "type": "scatterpolargl"
           }
          ],
          "scatterternary": [
           {
            "marker": {
             "colorbar": {
              "outlinewidth": 0,
              "ticks": ""
             }
            },
            "type": "scatterternary"
           }
          ],
          "surface": [
           {
            "colorbar": {
             "outlinewidth": 0,
             "ticks": ""
            },
            "colorscale": [
             [
              0,
              "#0d0887"
             ],
             [
              0.1111111111111111,
              "#46039f"
             ],
             [
              0.2222222222222222,
              "#7201a8"
             ],
             [
              0.3333333333333333,
              "#9c179e"
             ],
             [
              0.4444444444444444,
              "#bd3786"
             ],
             [
              0.5555555555555556,
              "#d8576b"
             ],
             [
              0.6666666666666666,
              "#ed7953"
             ],
             [
              0.7777777777777778,
              "#fb9f3a"
             ],
             [
              0.8888888888888888,
              "#fdca26"
             ],
             [
              1,
              "#f0f921"
             ]
            ],
            "type": "surface"
           }
          ],
          "table": [
           {
            "cells": {
             "fill": {
              "color": "#EBF0F8"
             },
             "line": {
              "color": "white"
             }
            },
            "header": {
             "fill": {
              "color": "#C8D4E3"
             },
             "line": {
              "color": "white"
             }
            },
            "type": "table"
           }
          ]
         },
         "layout": {
          "annotationdefaults": {
           "arrowcolor": "#2a3f5f",
           "arrowhead": 0,
           "arrowwidth": 1
          },
          "autotypenumbers": "strict",
          "coloraxis": {
           "colorbar": {
            "outlinewidth": 0,
            "ticks": ""
           }
          },
          "colorscale": {
           "diverging": [
            [
             0,
             "#8e0152"
            ],
            [
             0.1,
             "#c51b7d"
            ],
            [
             0.2,
             "#de77ae"
            ],
            [
             0.3,
             "#f1b6da"
            ],
            [
             0.4,
             "#fde0ef"
            ],
            [
             0.5,
             "#f7f7f7"
            ],
            [
             0.6,
             "#e6f5d0"
            ],
            [
             0.7,
             "#b8e186"
            ],
            [
             0.8,
             "#7fbc41"
            ],
            [
             0.9,
             "#4d9221"
            ],
            [
             1,
             "#276419"
            ]
           ],
           "sequential": [
            [
             0,
             "#0d0887"
            ],
            [
             0.1111111111111111,
             "#46039f"
            ],
            [
             0.2222222222222222,
             "#7201a8"
            ],
            [
             0.3333333333333333,
             "#9c179e"
            ],
            [
             0.4444444444444444,
             "#bd3786"
            ],
            [
             0.5555555555555556,
             "#d8576b"
            ],
            [
             0.6666666666666666,
             "#ed7953"
            ],
            [
             0.7777777777777778,
             "#fb9f3a"
            ],
            [
             0.8888888888888888,
             "#fdca26"
            ],
            [
             1,
             "#f0f921"
            ]
           ],
           "sequentialminus": [
            [
             0,
             "#0d0887"
            ],
            [
             0.1111111111111111,
             "#46039f"
            ],
            [
             0.2222222222222222,
             "#7201a8"
            ],
            [
             0.3333333333333333,
             "#9c179e"
            ],
            [
             0.4444444444444444,
             "#bd3786"
            ],
            [
             0.5555555555555556,
             "#d8576b"
            ],
            [
             0.6666666666666666,
             "#ed7953"
            ],
            [
             0.7777777777777778,
             "#fb9f3a"
            ],
            [
             0.8888888888888888,
             "#fdca26"
            ],
            [
             1,
             "#f0f921"
            ]
           ]
          },
          "colorway": [
           "#636efa",
           "#EF553B",
           "#00cc96",
           "#ab63fa",
           "#FFA15A",
           "#19d3f3",
           "#FF6692",
           "#B6E880",
           "#FF97FF",
           "#FECB52"
          ],
          "font": {
           "color": "#2a3f5f"
          },
          "geo": {
           "bgcolor": "white",
           "lakecolor": "white",
           "landcolor": "#E5ECF6",
           "showlakes": true,
           "showland": true,
           "subunitcolor": "white"
          },
          "hoverlabel": {
           "align": "left"
          },
          "hovermode": "closest",
          "mapbox": {
           "style": "light"
          },
          "paper_bgcolor": "white",
          "plot_bgcolor": "#E5ECF6",
          "polar": {
           "angularaxis": {
            "gridcolor": "white",
            "linecolor": "white",
            "ticks": ""
           },
           "bgcolor": "#E5ECF6",
           "radialaxis": {
            "gridcolor": "white",
            "linecolor": "white",
            "ticks": ""
           }
          },
          "scene": {
           "xaxis": {
            "backgroundcolor": "#E5ECF6",
            "gridcolor": "white",
            "gridwidth": 2,
            "linecolor": "white",
            "showbackground": true,
            "ticks": "",
            "zerolinecolor": "white"
           },
           "yaxis": {
            "backgroundcolor": "#E5ECF6",
            "gridcolor": "white",
            "gridwidth": 2,
            "linecolor": "white",
            "showbackground": true,
            "ticks": "",
            "zerolinecolor": "white"
           },
           "zaxis": {
            "backgroundcolor": "#E5ECF6",
            "gridcolor": "white",
            "gridwidth": 2,
            "linecolor": "white",
            "showbackground": true,
            "ticks": "",
            "zerolinecolor": "white"
           }
          },
          "shapedefaults": {
           "line": {
            "color": "#2a3f5f"
           }
          },
          "ternary": {
           "aaxis": {
            "gridcolor": "white",
            "linecolor": "white",
            "ticks": ""
           },
           "baxis": {
            "gridcolor": "white",
            "linecolor": "white",
            "ticks": ""
           },
           "bgcolor": "#E5ECF6",
           "caxis": {
            "gridcolor": "white",
            "linecolor": "white",
            "ticks": ""
           }
          },
          "title": {
           "x": 0.05
          },
          "xaxis": {
           "automargin": true,
           "gridcolor": "white",
           "linecolor": "white",
           "ticks": "",
           "title": {
            "standoff": 15
           },
           "zerolinecolor": "white",
           "zerolinewidth": 2
          },
          "yaxis": {
           "automargin": true,
           "gridcolor": "white",
           "linecolor": "white",
           "ticks": "",
           "title": {
            "standoff": 15
           },
           "zerolinecolor": "white",
           "zerolinewidth": 2
          }
         }
        }
       }
      }
     },
     "metadata": {},
     "output_type": "display_data"
    }
   ],
   "source": [
    "\"\"\"# pie plot\n",
    "import plotly.express as px\n",
    "# This dataframe has 244 lines, but 4 distinct values for `day`\n",
    "df = px.data.tips()\n",
    "fig = px.pie(df, values='tip', names='day')\n",
    "fig.show()\"\"\""
   ]
  },
  {
   "cell_type": "code",
   "execution_count": null,
   "metadata": {},
   "outputs": [
    {
     "data": {
      "application/vnd.plotly.v1+json": {
       "config": {
        "plotlyServerURL": "https://plot.ly"
       },
       "data": [
        {
         "domain": {
          "x": [
           0,
           1
          ],
          "y": [
           0,
           1
          ]
         },
         "hovertemplate": "match=%{value}<extra></extra>",
         "legendgroup": "",
         "name": "",
         "showlegend": false,
         "type": "pie",
         "values": [
          "No",
          "No",
          "Yes",
          "Yes",
          "Yes",
          "No",
          "No",
          "No",
          "Yes",
          "No",
          "No",
          "No",
          "No",
          "Yes",
          "No",
          "No",
          "No",
          "No",
          "Yes",
          "No",
          "No",
          "No",
          "No",
          "No",
          "No",
          "No",
          "No",
          "No",
          "No",
          "No",
          "No",
          "No",
          "No",
          "Yes",
          "No",
          "No",
          "No",
          "No",
          "Yes",
          "No",
          "No",
          "No",
          "No",
          "Yes",
          "No",
          "No",
          "No",
          "No",
          "Yes",
          "No",
          "No",
          "No",
          "No",
          "Yes",
          "No",
          "No",
          "No",
          "No",
          "Yes",
          "No",
          "No",
          "No",
          "No",
          "Yes",
          "No",
          "No",
          "No",
          "No",
          "Yes",
          "No",
          "No",
          "Yes",
          "Yes",
          "Yes",
          "Yes",
          "Yes",
          "No",
          "Yes",
          "Yes",
          "Yes",
          "No",
          "Yes",
          "Yes",
          "Yes",
          "Yes",
          "Yes",
          "Yes",
          "No",
          "Yes",
          "No",
          "No",
          "No",
          "Yes",
          "No",
          "No",
          "No",
          "No",
          "No",
          "Yes",
          "No",
          "No",
          "No",
          "No",
          "No",
          "No",
          "No",
          "No",
          "No",
          "No",
          "No",
          "No",
          "No",
          "No",
          "No",
          "No",
          "No",
          "No",
          "No",
          "No",
          "No",
          "Yes",
          "Yes",
          "No",
          "No",
          "No",
          "No",
          "No",
          "No",
          "No",
          "No",
          "No",
          "No",
          "No",
          "No",
          "No",
          "Yes",
          "Yes",
          "Yes",
          "No",
          "No",
          "No",
          "No",
          "No",
          "No",
          "No",
          "No",
          "No",
          "No",
          "No",
          "No",
          "No",
          "No",
          "No",
          "No",
          "No",
          "No",
          "No",
          "No",
          "No",
          "No",
          "No",
          "No",
          "No",
          "No",
          "No",
          "No",
          "No",
          "No",
          "No",
          "No",
          "No",
          "No",
          "No",
          "No",
          "No",
          "No",
          "No",
          "No",
          "No",
          "No",
          "No",
          "No",
          "No",
          "No",
          "No",
          "No",
          "No",
          "No",
          "No",
          "No",
          "No",
          "No",
          "No",
          "No",
          "No",
          "No",
          "No",
          "No",
          "No",
          "No",
          "No",
          "No",
          "Yes",
          "No",
          "No",
          "No",
          "Yes",
          "No",
          "No",
          "No",
          "No",
          "No",
          "No",
          "No",
          "No",
          "No",
          "No",
          "No",
          "Yes",
          "No",
          "No",
          "No",
          "No",
          "No",
          "No",
          "No",
          "No",
          "No",
          "No",
          "No",
          "No",
          "No",
          "Yes",
          "Yes",
          "No",
          "No",
          "No",
          "No",
          "No",
          "No",
          "No",
          "No",
          "No",
          "No",
          "No",
          "No",
          "No",
          "No",
          "No",
          "No",
          "No",
          "No",
          "No",
          "Yes",
          "No",
          "No",
          "No",
          "No",
          "No",
          "Yes",
          "No",
          "No",
          "No",
          "No",
          "No",
          "No",
          "No",
          "No",
          "Yes",
          "Yes",
          "Yes",
          "No",
          "No",
          "No",
          "No",
          "Yes",
          "No",
          "No",
          "No",
          "No",
          "No",
          "No",
          "No",
          "No",
          "No",
          "No",
          "No",
          "No",
          "No",
          "No",
          "No",
          "No",
          "No",
          "No",
          "No",
          "No",
          "No",
          "No",
          "No",
          "No",
          "No",
          "No",
          "No",
          "No",
          "No",
          "No",
          "No",
          "No",
          "No",
          "No",
          "No",
          "No",
          "No",
          "No",
          "Yes",
          "No",
          "No",
          "Yes",
          "No",
          "No",
          "No",
          "No",
          "No",
          "No",
          "No",
          "No",
          "No",
          "No",
          "No",
          "Yes",
          "Yes",
          "No",
          "No",
          "Yes",
          "Yes",
          "No",
          "No",
          "Yes",
          "No",
          "No",
          "No",
          "No",
          "No",
          "No",
          "No",
          "No",
          "No",
          "No",
          "No",
          "Yes",
          "No",
          "Yes",
          "No",
          "No",
          "No",
          "No",
          "No",
          "No",
          "No",
          "No",
          "Yes",
          "No",
          "No",
          "No",
          "No",
          "No",
          "No",
          "No",
          "Yes",
          "No",
          "No",
          "No",
          "No",
          "No",
          "No",
          "No",
          "No",
          "No",
          "No",
          "No",
          "No",
          "Yes",
          "Yes",
          "No",
          "No",
          "No",
          "No",
          "Yes",
          "No",
          "No",
          "No",
          "No",
          "No",
          "No",
          "No",
          "Yes",
          "No",
          "No",
          "No",
          "No",
          "No",
          "No",
          "No",
          "No",
          "No",
          "No",
          "No",
          "Yes",
          "Yes",
          "No",
          "No",
          "No",
          "No",
          "No",
          "No",
          "No",
          "No",
          "No",
          "No",
          "Yes",
          "No",
          "No",
          "No",
          "No",
          "No",
          "No",
          "No",
          "No",
          "No",
          "Yes",
          "No",
          "No",
          "Yes",
          "No",
          "No",
          "No",
          "No",
          "No",
          "No",
          "No",
          "No",
          "No",
          "No",
          "No",
          "Yes",
          "No",
          "No",
          "No",
          "No",
          "No",
          "No",
          "No",
          "No",
          "No",
          "No",
          "No",
          "No",
          "No",
          "No",
          "Yes",
          "No",
          "No",
          "No",
          "Yes",
          "No",
          "Yes",
          "No",
          "Yes",
          "No",
          "No",
          "No",
          "No",
          "Yes",
          "No",
          "No",
          "Yes",
          "No",
          "No",
          "No",
          "No",
          "No",
          "No",
          "No",
          "No",
          "No",
          "No",
          "No",
          "No",
          "No",
          "No",
          "No",
          "No",
          "No",
          "Yes",
          "No",
          "No",
          "No",
          "No",
          "No",
          "No",
          "No",
          "No",
          "No",
          "No",
          "Yes",
          "No",
          "No",
          "No",
          "No",
          "No",
          "No",
          "No",
          "No",
          "No",
          "No",
          "Yes",
          "No",
          "Yes",
          "No",
          "Yes",
          "Yes",
          "No",
          "Yes",
          "No",
          "No",
          "Yes",
          "Yes",
          "Yes",
          "No",
          "No",
          "No",
          "No",
          "No",
          "Yes",
          "No",
          "Yes",
          "No",
          "No",
          "No",
          "No",
          "No",
          "No",
          "No",
          "No",
          "No",
          "No",
          "No",
          "No",
          "No",
          "No",
          "No",
          "No",
          "Yes",
          "Yes",
          "No",
          "Yes",
          "No",
          "No",
          "No",
          "No",
          "No",
          "No",
          "No",
          "No",
          "No",
          "No",
          "No",
          "No",
          "Yes",
          "No",
          "No",
          "Yes",
          "Yes",
          "No",
          "No",
          "No",
          "No",
          "No",
          "No",
          "No",
          "No",
          "No",
          "No",
          "No",
          "Yes",
          "No",
          "No",
          "Yes",
          "No",
          "No",
          "No",
          "Yes",
          "No",
          "No",
          "No",
          "No",
          "No",
          "No",
          "No",
          "Yes",
          "No",
          "No",
          "No",
          "No",
          "Yes",
          "No",
          "No",
          "No",
          "Yes",
          "No",
          "No",
          "No",
          "Yes",
          "No",
          "No",
          "No",
          "No",
          "Yes",
          "No",
          "No",
          "No",
          "No",
          "No",
          "Yes",
          "No",
          "Yes",
          "No",
          "Yes",
          "No",
          "No",
          "No",
          "No",
          "No",
          "No",
          "No",
          "Yes",
          "No",
          "No",
          "No",
          "No",
          "No",
          "No",
          "No",
          "Yes",
          "No",
          "No",
          "No",
          "No",
          "No",
          "No",
          "No",
          "No",
          "No",
          "No",
          "No",
          "No",
          "No",
          "No",
          "No",
          "Yes",
          "No",
          "No",
          "Yes",
          "No",
          "No",
          "No",
          "No",
          "No",
          "No",
          "No",
          "No",
          "No",
          "No",
          "No",
          "No",
          "No",
          "No",
          "No",
          "No",
          "Yes",
          "No",
          "No",
          "No",
          "No",
          "No",
          "No",
          "No",
          "Yes",
          "No",
          "No",
          "Yes",
          "No",
          "No",
          "No",
          "Yes",
          "Yes",
          "No",
          "Yes",
          "Yes",
          "Yes",
          "Yes",
          "No",
          "No",
          "No",
          "No",
          "No",
          "No",
          "Yes",
          "No",
          "No",
          "No",
          "No",
          "No",
          "No",
          "No",
          "Yes",
          "No",
          "No",
          "No",
          "No",
          "No",
          "No",
          "No",
          "No",
          "No",
          "No",
          "No",
          "No",
          "No",
          "No",
          "No",
          "No",
          "No",
          "No",
          "No",
          "No",
          "No",
          "No",
          "No",
          "No",
          "No",
          "No",
          "No",
          "Yes",
          "No",
          "No",
          "No",
          "No",
          "Yes",
          "No",
          "No",
          "No",
          "No",
          "No",
          "No",
          "No",
          "No",
          "No",
          "No",
          "No",
          "No",
          "No",
          "No",
          "No",
          "No",
          "No",
          "No",
          "No",
          "No",
          "No",
          "No",
          "Yes",
          "No",
          "No",
          "No",
          "No",
          "No",
          "Yes",
          "No",
          "Yes",
          "No",
          "No",
          "No",
          "Yes",
          "No",
          "Yes",
          "Yes",
          "Yes",
          "No",
          "Yes",
          "Yes",
          "No",
          "No",
          "No",
          "No",
          "Yes",
          "Yes",
          "Yes",
          "No",
          "No",
          "No",
          "No",
          "No",
          "Yes",
          "No",
          "Yes",
          "No",
          "Yes",
          "Yes",
          "No",
          "No",
          "Yes",
          "No",
          "Yes",
          "No",
          "No",
          "Yes",
          "No",
          "No",
          "No",
          "Yes",
          "No",
          "No",
          "No",
          "No",
          "No",
          "No",
          "No",
          "Yes",
          "No",
          "No",
          "Yes",
          "Yes",
          "Yes",
          "Yes",
          "Yes",
          "No",
          "No",
          "No",
          "No",
          "No",
          "Yes",
          "Yes",
          "No",
          "Yes",
          "No",
          "No",
          "No",
          "No",
          "No",
          "No",
          "No",
          "No",
          "No",
          "Yes",
          "No",
          "No",
          "No",
          "No",
          "No",
          "No",
          "Yes",
          "No",
          "Yes",
          "Yes",
          "No",
          "No",
          "No",
          "Yes",
          "No",
          "No",
          "Yes",
          "No",
          "Yes",
          "No",
          "Yes",
          "No",
          "No",
          "No",
          "No",
          "No",
          "Yes",
          "No",
          "No",
          "No",
          "No",
          "No",
          "No",
          "No",
          "No",
          "No",
          "Yes",
          "No",
          "Yes",
          "Yes",
          "Yes",
          "Yes",
          "No",
          "Yes",
          "No",
          "No",
          "Yes",
          "No",
          "No",
          "Yes",
          "No",
          "Yes",
          "No",
          "No",
          "No",
          "No",
          "No",
          "No",
          "No",
          "No",
          "No",
          "No",
          "No",
          "No",
          "No",
          "No",
          "No",
          "No",
          "No",
          "No",
          "No",
          "No",
          "No",
          "No",
          "No",
          "No",
          "Yes",
          "No",
          "No",
          "No",
          "No",
          "No",
          "No",
          "Yes",
          "No",
          "No",
          "No",
          "No",
          "No",
          "No",
          "No",
          "Yes",
          "Yes",
          "No",
          "Yes",
          "No",
          "No",
          "No",
          "No",
          "Yes",
          "No",
          "No",
          "No",
          "No",
          "No",
          "No",
          "No",
          "Yes",
          "Yes",
          "Yes",
          "No",
          "Yes",
          "Yes",
          "Yes",
          "No",
          "No",
          "No",
          "No",
          "No",
          "No",
          "No",
          "No",
          "No",
          "No",
          "No",
          "No",
          "No",
          "No",
          "No",
          "No",
          "No",
          "No",
          "No",
          "No",
          "Yes",
          "No",
          "No",
          "No",
          "No",
          "No",
          "No",
          "No",
          "No",
          "No",
          "No",
          "No",
          "No",
          "No",
          "No",
          "No",
          "No",
          "No",
          "No",
          "No",
          "No",
          "No",
          "No",
          "No",
          "No",
          "No",
          "No",
          "No",
          "No",
          "No",
          "No",
          "No",
          "No",
          "No",
          "Yes",
          "No",
          "No",
          "No",
          "No",
          "No",
          "No",
          "No",
          "No",
          "No",
          "No",
          "No",
          "Yes",
          "No",
          "No",
          "No",
          "No",
          "Yes",
          "Yes",
          "No",
          "No",
          "Yes",
          "No",
          "No",
          "Yes",
          "No",
          "No",
          "No",
          "No",
          "No",
          "No",
          "No",
          "No",
          "No",
          "No",
          "No",
          "No",
          "Yes",
          "No",
          "No",
          "No",
          "No",
          "No",
          "No",
          "Yes",
          "No",
          "No",
          "No",
          "No",
          "No",
          "Yes",
          "No",
          "No",
          "No",
          "No",
          "Yes",
          "Yes",
          "Yes",
          "No",
          "No",
          "No",
          "No",
          "No",
          "No",
          "No",
          "Yes",
          "No",
          "Yes",
          "No",
          "No",
          "No",
          "No",
          "No",
          "No",
          "No",
          "No",
          "No",
          "No",
          "Yes",
          "No",
          "No",
          "No",
          "No",
          "No",
          "No",
          "No",
          "No",
          "No",
          "No",
          "Yes",
          "No",
          "No",
          "No",
          "No",
          "No",
          "No",
          "Yes",
          "Yes",
          "No",
          "Yes",
          "No",
          "No",
          "No",
          "No",
          "No",
          "No",
          "No",
          "Yes",
          "No",
          "No",
          "No",
          "Yes",
          "No",
          "No",
          "No",
          "No",
          "No",
          "No",
          "No",
          "Yes",
          "No",
          "No",
          "No",
          "No",
          "No",
          "Yes",
          "No",
          "Yes",
          "No",
          "No",
          "Yes",
          "No",
          "No",
          "Yes",
          "No",
          "Yes",
          "Yes",
          "Yes",
          "No",
          "No",
          "No",
          "Yes",
          "No",
          "No",
          "No",
          "No",
          "No",
          "No",
          "No",
          "No",
          "No",
          "No",
          "No",
          "No",
          "No",
          "No",
          "Yes",
          "No",
          "No",
          "Yes",
          "No",
          "No",
          "No",
          "No",
          "No",
          "No",
          "No",
          "No",
          "Yes",
          "Yes",
          "No",
          "No",
          "No",
          "No",
          "No",
          "No",
          "No",
          "No",
          "No",
          "No",
          "No",
          "Yes",
          "No",
          "No",
          "No",
          "No",
          "Yes",
          "No",
          "No",
          "Yes",
          "No",
          "No",
          "No",
          "No",
          "No",
          "No",
          "No",
          "No",
          "No",
          "No",
          "Yes",
          "No",
          "Yes",
          "No",
          "No",
          "Yes",
          "Yes",
          "No",
          "Yes",
          "No",
          "No",
          "No",
          "No",
          "Yes",
          "No",
          "No",
          "No",
          "No",
          "No",
          "No",
          "No",
          "No",
          "No",
          "No",
          "No",
          "No",
          "No",
          "No",
          "Yes",
          "No",
          "No",
          "No",
          "No",
          "No",
          "No",
          "No",
          "No",
          "No",
          "No",
          "No",
          "No",
          "No",
          "Yes",
          "No",
          "No",
          "No",
          "Yes",
          "No",
          "No",
          "No",
          "No",
          "No",
          "No",
          "No",
          "Yes",
          "No",
          "No",
          "Yes",
          "Yes",
          "No",
          "No",
          "No",
          "Yes",
          "Yes",
          "No",
          "Yes",
          "No",
          "No",
          "No",
          "No",
          "No",
          "No",
          "No",
          "No",
          "No",
          "No",
          "Yes",
          "No",
          "No",
          "No",
          "No",
          "No",
          "No",
          "No",
          "No",
          "No",
          "No",
          "No",
          "No",
          "No",
          "No",
          "No",
          "No",
          "Yes",
          "No",
          "No",
          "No",
          "No",
          "No",
          "No",
          "No",
          "No",
          "No",
          "No",
          "No",
          "No",
          "No",
          "Yes",
          "No",
          "Yes",
          "No",
          "No",
          "No",
          "No",
          "No",
          "No",
          "No",
          "Yes",
          "No",
          "No",
          "No",
          "Yes",
          "No",
          "No",
          "No",
          "Yes",
          "Yes",
          "No",
          "No",
          "No",
          "No",
          "Yes",
          "No",
          "No",
          "No",
          "No",
          "No",
          "No",
          "No",
          "No",
          "No",
          "No",
          "No",
          "No",
          "No",
          "No",
          "No",
          "No",
          "No",
          "Yes",
          "No",
          "No",
          "No",
          "No",
          "No",
          "No",
          "No",
          "No",
          "No",
          "No",
          "No",
          "No",
          "No",
          "Yes",
          "Yes",
          "No",
          "No",
          "No",
          "No",
          "No",
          "No",
          "No",
          "No",
          "No",
          "No",
          "No",
          "No",
          "No",
          "No",
          "No",
          "No",
          "No",
          "No",
          "No",
          "No",
          "No",
          "No",
          "Yes",
          "No",
          "Yes",
          "No",
          "Yes",
          "No",
          "Yes",
          "No",
          "No",
          "No",
          "No",
          "Yes",
          "No",
          "No",
          "No",
          "No",
          "No",
          "No",
          "No",
          "No",
          "No",
          "No",
          "Yes",
          "No",
          "No",
          "No",
          "No",
          "No",
          "No",
          "Yes",
          "No",
          "No",
          "No",
          "No",
          "Yes",
          "No",
          "No",
          "No",
          "No",
          "No",
          "No",
          "No",
          "No",
          "No",
          "No",
          "No",
          "No",
          "No",
          "No",
          "No",
          "No",
          "No",
          "No",
          "No",
          "No",
          "Yes",
          "No",
          "No",
          "No",
          "No",
          "No",
          "No",
          "Yes",
          "No",
          "No",
          "No",
          "No",
          "No",
          "No",
          "No",
          "No",
          "No",
          "No",
          "No",
          "No",
          "No",
          "No",
          "No",
          "Yes",
          "No",
          "No",
          "No",
          "No",
          "No",
          "No",
          "No",
          "No",
          "No",
          "No",
          "No",
          "No",
          "No",
          "No",
          "No",
          "No",
          "No",
          "No",
          "No",
          "No",
          "No",
          "No",
          "No",
          "No",
          "No",
          "No",
          "No",
          "No",
          "No",
          "No",
          "No",
          "No",
          "No",
          "No",
          "No",
          "No",
          "No",
          "No",
          "No",
          "No",
          "No",
          "No",
          "No",
          "No",
          "No",
          "No",
          "Yes",
          "Yes",
          "No",
          "No",
          "No",
          "No",
          "No",
          "No",
          "No",
          "No",
          "No",
          "No",
          "No",
          "No",
          "No",
          "No",
          "No",
          "No",
          "Yes",
          "No",
          "Yes",
          "Yes",
          "No",
          "Yes",
          "Yes",
          "Yes",
          "No",
          "No",
          "No",
          "No",
          "Yes",
          "No",
          "No",
          "Yes",
          "No",
          "No",
          "No",
          "No",
          "No",
          "Yes",
          "No",
          "No",
          "No",
          "No",
          "No",
          "No",
          "Yes",
          "Yes",
          "No",
          "No",
          "No",
          "No",
          "No",
          "No",
          "No",
          "Yes",
          "No",
          "Yes",
          "No",
          "Yes",
          "Yes",
          "No",
          "No",
          "No",
          "Yes",
          "No",
          "Yes",
          "Yes",
          "No",
          "Yes",
          "Yes",
          "Yes",
          "No",
          "Yes",
          "No",
          "No",
          "No",
          "No",
          "No",
          "No",
          "No",
          "No",
          "No",
          "No",
          "No",
          "No",
          "No",
          "No",
          "No",
          "No",
          "No",
          "No",
          "No",
          "No",
          "Yes",
          "Yes",
          "No",
          "No",
          "No",
          "No",
          "No",
          "No",
          "No",
          "No",
          "No",
          "No",
          "No",
          "No",
          "No",
          "Yes",
          "No",
          "No",
          "No",
          "No",
          "No",
          "No",
          "No",
          "No",
          "No",
          "Yes",
          "No",
          "No",
          "No",
          "No",
          "No",
          "No",
          "No",
          "No",
          "No",
          "No",
          "Yes",
          "No",
          "No",
          "No",
          "No",
          "Yes",
          "No",
          "Yes",
          "No",
          "Yes",
          "No",
          "Yes",
          "No",
          "No",
          "Yes",
          "No",
          "Yes",
          "No",
          "Yes",
          "No",
          "No",
          "Yes",
          "No",
          "Yes",
          "No",
          "No",
          "No",
          "Yes",
          "No",
          "No",
          "No",
          "No",
          "No",
          "No",
          "No",
          "No",
          "No",
          "Yes",
          "No",
          "No",
          "No",
          "No",
          "No",
          "No",
          "No",
          "No",
          "No",
          "No",
          "No",
          "No",
          "No",
          "No",
          "No",
          "Yes",
          "No",
          "No",
          "No",
          "No",
          "Yes",
          "No",
          "No",
          "No",
          "No",
          "No",
          "No",
          "No",
          "No",
          "No",
          "No",
          "No",
          "No",
          "No",
          "No",
          "No",
          "No",
          "No",
          "No",
          "No",
          "Yes",
          "No",
          "No",
          "Yes",
          "No",
          "No",
          "No",
          "No",
          "No",
          "Yes",
          "No",
          "No",
          "No",
          "Yes",
          "No",
          "No",
          "No",
          "No",
          "No",
          "No",
          "No",
          "No",
          "No",
          "No",
          "No",
          "No",
          "No",
          "Yes",
          "No",
          "Yes",
          "No",
          "No",
          "No",
          "No",
          "Yes",
          "No",
          "Yes",
          "No",
          "Yes",
          "No",
          "No",
          "Yes",
          "No",
          "Yes",
          "No",
          "Yes",
          "Yes",
          "No",
          "Yes",
          "No",
          "No",
          "No",
          "No",
          "No",
          "No",
          "No",
          "No",
          "No",
          "No",
          "No",
          "No",
          "No",
          "No",
          "No",
          "No",
          "Yes",
          "No",
          "No",
          "No",
          "Yes",
          "No",
          "No",
          "No",
          "No",
          "No",
          "No",
          "No",
          "No",
          "No",
          "No",
          "Yes",
          "No",
          "No",
          "No",
          "No",
          "No",
          "No",
          "No",
          "No",
          "No",
          "No",
          "No",
          "No",
          "No",
          "No",
          "No",
          "No",
          "No",
          "No",
          "No",
          "No",
          "No",
          "No",
          "No",
          "No",
          "No",
          "No",
          "No",
          "No",
          "No",
          "No",
          "No",
          "No",
          "No",
          "No",
          "No",
          "No",
          "No",
          "No",
          "No",
          "No",
          "No",
          "No",
          "No",
          "No",
          "No",
          "No",
          "No",
          "No",
          "No",
          "No",
          "No",
          "No",
          "No",
          "No",
          "No",
          "No",
          "Yes",
          "No",
          "No",
          "Yes",
          "No",
          "No",
          "No",
          "No",
          "No",
          "No",
          "Yes",
          "No",
          "No",
          "No",
          "No",
          "No",
          "No",
          "No",
          "No",
          "No",
          "No",
          "No",
          "No",
          "No",
          "No",
          "No",
          "No",
          "No",
          "No",
          "No",
          "No",
          "No",
          "No",
          "No",
          "No",
          "No",
          "No",
          "No",
          "No",
          "Yes",
          "Yes",
          "No",
          "No",
          "Yes",
          "No",
          "Yes",
          "Yes",
          "Yes",
          "No",
          "No",
          "No",
          "No",
          "No",
          "No",
          "No",
          "Yes",
          "No",
          "No",
          "No",
          "No",
          "No",
          "Yes",
          "No",
          "No",
          "No",
          "No",
          "No",
          "No",
          "No",
          "No",
          "No",
          "No",
          "No",
          "No",
          "No",
          "No",
          "No",
          "No",
          "No",
          "No",
          "No",
          "Yes",
          "Yes",
          "No",
          "No",
          "Yes",
          "No",
          "Yes",
          "No",
          "No",
          "Yes",
          "No",
          "No",
          "No",
          "No",
          "No",
          "Yes",
          "No",
          "No",
          "No",
          "No",
          "Yes",
          "Yes",
          "Yes",
          "No",
          "No",
          "Yes",
          "No",
          "No",
          "No",
          "No",
          "No",
          "No",
          "No",
          "No",
          "No",
          "No",
          "Yes",
          "No",
          "No",
          "No",
          "No",
          "No",
          "No",
          "No",
          "No",
          "No",
          "No",
          "No",
          "No",
          "No",
          "No",
          "No",
          "No",
          "No",
          "No",
          "No",
          "No",
          "No",
          "No",
          "No",
          "No",
          "Yes",
          "No",
          "No",
          "No",
          "No",
          "No",
          "No",
          "No",
          "Yes",
          "No",
          "No",
          "No",
          "No",
          "No",
          "Yes",
          "Yes",
          "Yes",
          "No",
          "Yes",
          "No",
          "No",
          "Yes",
          "No",
          "No",
          "No",
          "No",
          "Yes",
          "Yes",
          "No",
          "Yes",
          "No",
          "No",
          "No",
          "No",
          "No",
          "No",
          "No",
          "No",
          "No",
          "No",
          "No",
          "No",
          "No",
          "No",
          "No",
          "No",
          "No",
          "No",
          "No",
          "Yes",
          "No",
          "No",
          "No",
          "No",
          "No",
          "No",
          "No",
          "No",
          "No",
          "No",
          "No",
          "No",
          "No",
          "No",
          "No",
          "No",
          "No",
          "No",
          "No",
          "No",
          "No",
          "No",
          "No",
          "No",
          "No",
          "No",
          "No",
          "Yes",
          "Yes",
          "No",
          "Yes",
          "Yes",
          "No",
          "No",
          "No",
          "No",
          "No",
          "No",
          "No",
          "No",
          "No",
          "No",
          "No",
          "No",
          "No",
          "No",
          "No",
          "No",
          "No",
          "No",
          "No",
          "No",
          "No",
          "No",
          "Yes",
          "Yes",
          "No",
          "Yes",
          "Yes",
          "No",
          "Yes",
          "No",
          "No",
          "No",
          "No",
          "No",
          "No",
          "No",
          "No",
          "Yes",
          "Yes",
          "Yes",
          "No",
          "Yes",
          "Yes",
          "No",
          "Yes",
          "No",
          "No",
          "No",
          "No",
          "Yes",
          "No",
          "No",
          "No",
          "Yes",
          "No",
          "No",
          "No",
          "No",
          "Yes",
          "Yes",
          "No",
          "Yes",
          "No",
          "No",
          "No",
          "No",
          "No",
          "Yes",
          "No",
          "No",
          "Yes",
          "Yes",
          "Yes",
          "Yes",
          "No",
          "No",
          "No",
          "No",
          "No",
          "No",
          "No",
          "No",
          "No",
          "No",
          "No",
          "No",
          "No",
          "No",
          "No",
          "No",
          "No",
          "No",
          "No",
          "No",
          "Yes",
          "No",
          "No",
          "No",
          "No",
          "No",
          "No",
          "No",
          "No",
          "No",
          "No",
          "Yes",
          "No",
          "No",
          "No",
          "No",
          "No",
          "No",
          "No",
          "No",
          "No",
          "No",
          "No",
          "No",
          "No",
          "No",
          "No",
          "No",
          "No",
          "No",
          "No",
          "No",
          "No",
          "No",
          "No",
          "No",
          "No",
          "No",
          "No",
          "No",
          "No",
          "Yes",
          "No",
          "No",
          "No",
          "No",
          "No",
          "No",
          "No",
          "No",
          "No",
          "No",
          "No",
          "No",
          "No",
          "No",
          "No",
          "No",
          "No",
          "No",
          "No",
          "No",
          "No",
          "No",
          "No",
          "No",
          "No",
          "No",
          "No",
          "Yes",
          "Yes",
          "No",
          "Yes",
          "No",
          "No",
          "Yes",
          "No",
          "Yes",
          "No",
          "No",
          "No",
          "No",
          "No",
          "Yes",
          "No",
          "No",
          "Yes",
          "No",
          "No",
          "No",
          "No",
          "No",
          "No",
          "No",
          "No",
          "No",
          "No",
          "No",
          "No",
          "No",
          "No",
          "No",
          "No",
          "No",
          "No",
          "No",
          "No",
          "No",
          "No",
          "No",
          "No",
          "Yes",
          "No",
          "No",
          "No",
          "No",
          "No",
          "No",
          "No",
          "No",
          "No",
          "No",
          "No",
          "No",
          "No",
          "Yes",
          "No",
          "No",
          "Yes",
          "No",
          "No",
          "No",
          "Yes",
          "No",
          "Yes",
          "No",
          "No",
          "No",
          "No",
          "No",
          "No",
          "No",
          "No",
          "No",
          "No",
          "No",
          "No",
          "No",
          "No",
          "No",
          "No",
          "No",
          "No",
          "No",
          "No",
          "No",
          "No",
          "No",
          "No",
          "No",
          "No",
          "No",
          "No",
          "No",
          "Yes",
          "No",
          "No",
          "No",
          "No",
          "No",
          "No",
          "No",
          "No",
          "No",
          "No",
          "No",
          "No",
          "No",
          "No",
          "No",
          "No",
          "No",
          "Yes",
          "No",
          "No",
          "No",
          "No",
          "No",
          "Yes",
          "No",
          "No",
          "No",
          "No",
          "No",
          "Yes",
          "No",
          "No",
          "No",
          "No",
          "No",
          "No",
          "No",
          "No",
          "No",
          "No",
          "No",
          "No",
          "No",
          "Yes",
          "No",
          "No",
          "No",
          "No",
          "No",
          "No",
          "No",
          "No",
          "No",
          "No",
          "Yes",
          "No",
          "No",
          "No",
          "Yes",
          "Yes",
          "No",
          "No",
          "No",
          "No",
          "No",
          "No",
          "No",
          "No",
          "No",
          "Yes",
          "No",
          "Yes",
          "No",
          "Yes",
          "Yes",
          "No",
          "No",
          "No",
          "No",
          "No",
          "Yes",
          "No",
          "Yes",
          "No",
          "No",
          "Yes",
          "Yes",
          "No",
          "No",
          "No",
          "Yes",
          "No",
          "No",
          "No",
          "No",
          "No",
          "Yes",
          "Yes",
          "Yes",
          "No",
          "No",
          "No",
          "No",
          "No",
          "No",
          "Yes",
          "Yes",
          "No",
          "No",
          "No",
          "No",
          "No",
          "No",
          "No",
          "No",
          "No",
          "No",
          "No",
          "No",
          "No",
          "No",
          "No",
          "No",
          "No",
          "No",
          "Yes",
          "No",
          "No",
          "No",
          "No",
          "No",
          "No",
          "No",
          "No",
          "No",
          "No",
          "No",
          "Yes",
          "No",
          "No",
          "No",
          "No",
          "No",
          "No",
          "No",
          "No",
          "No",
          "No",
          "No",
          "No",
          "No",
          "No",
          "No",
          "No",
          "No",
          "No",
          "No",
          "No",
          "No",
          "Yes",
          "No",
          "Yes",
          "No",
          "No",
          "Yes",
          "No",
          "No",
          "No",
          "No",
          "No",
          "No",
          "No",
          "No",
          "No",
          "No",
          "No",
          "No",
          "No",
          "Yes",
          "No",
          "No",
          "No",
          "No",
          "No",
          "No",
          "No",
          "No",
          "No",
          "No",
          "No",
          "Yes",
          "Yes",
          "No",
          "No",
          "No",
          "No",
          "No",
          "No",
          "No",
          "No",
          "No",
          "No",
          "No",
          "No",
          "No",
          "No",
          "No",
          "No",
          "No",
          "No",
          "No",
          "Yes",
          "No",
          "Yes",
          "No",
          "No",
          "Yes",
          "No",
          "No",
          "No",
          "No",
          "No",
          "No",
          "No",
          "Yes",
          "No",
          "No",
          "No",
          "No",
          "Yes",
          "No",
          "Yes",
          "No",
          "Yes",
          "Yes",
          "No",
          "No",
          "No",
          "No",
          "No",
          "No",
          "No",
          "No",
          "No",
          "No",
          "No",
          "No",
          "No",
          "No",
          "Yes",
          "Yes",
          "No",
          "No",
          "Yes",
          "No",
          "Yes",
          "Yes",
          "No",
          "No",
          "No",
          "No",
          "Yes",
          "No",
          "No",
          "No",
          "No",
          "No",
          "No",
          "No",
          "No",
          "No",
          "No",
          "No",
          "No",
          "No",
          "No",
          "No",
          "No",
          "No",
          "No",
          "No",
          "No",
          "Yes",
          "No",
          "No",
          "No",
          "No",
          "No",
          "No",
          "No",
          "No",
          "No",
          "No",
          "No",
          "No",
          "No",
          "No",
          "No",
          "No",
          "Yes",
          "No",
          "No",
          "No",
          "Yes",
          "Yes",
          "Yes",
          "No",
          "No",
          "Yes",
          "Yes",
          "Yes",
          "No",
          "Yes",
          "No",
          "No",
          "No",
          "No",
          "No",
          "No",
          "No",
          "No",
          "Yes",
          "No",
          "Yes",
          "No",
          "No",
          "No",
          "No",
          "Yes",
          "No",
          "No",
          "No",
          "No",
          "No",
          "No",
          "Yes",
          "No",
          "Yes",
          "No",
          "No",
          "No",
          "No",
          "Yes",
          "No",
          "No",
          "No",
          "Yes",
          "No",
          "Yes",
          "No",
          "No",
          "No",
          "No",
          "No",
          "Yes",
          "Yes",
          "No",
          "No",
          "No",
          "No",
          "Yes",
          "No",
          "No",
          "No",
          "No",
          "No",
          "No",
          "No",
          "No",
          "No",
          "No",
          "No",
          "No",
          "No",
          "No",
          "No",
          "No",
          "No",
          "Yes",
          "No",
          "No",
          "No",
          "No",
          "No",
          "No",
          "No",
          "No",
          "No",
          "No",
          "Yes",
          "No",
          "Yes",
          "Yes",
          "Yes",
          "No",
          "Yes",
          "Yes",
          "No",
          "Yes",
          "Yes",
          "No",
          "No",
          "No",
          "No",
          "No",
          "No",
          "No",
          "No",
          "No",
          "No",
          "No",
          "Yes",
          "No",
          "No",
          "No",
          "No",
          "No",
          "No",
          "No",
          "No",
          "No",
          "No",
          "No",
          "No",
          "No",
          "No",
          "No",
          "No",
          "No",
          "No",
          "Yes",
          "No",
          "No",
          "No",
          "No",
          "No",
          "No",
          "No",
          "No",
          "No",
          "No",
          "No",
          "No",
          "No",
          "No",
          "No",
          "No",
          "No",
          "No",
          "Yes",
          "No",
          "No",
          "No",
          "No",
          "No",
          "Yes",
          "No",
          "Yes",
          "No",
          "No",
          "No",
          "No",
          "No",
          "No",
          "No",
          "Yes",
          "No",
          "No",
          "No",
          "No",
          "No",
          "No",
          "No",
          "No",
          "No",
          "Yes",
          "No",
          "No",
          "No",
          "Yes",
          "No",
          "No",
          "No",
          "Yes",
          "No",
          "No",
          "Yes",
          "No",
          "No",
          "No",
          "No",
          "No",
          "No",
          "No",
          "No",
          "No",
          "No",
          "No",
          "No",
          "Yes",
          "No",
          "No",
          "No",
          "No",
          "Yes",
          "No",
          "Yes",
          "No",
          "No",
          "No",
          "Yes",
          "No",
          "No",
          "No",
          "No",
          "No",
          "No",
          "Yes",
          "No",
          "Yes",
          "No",
          "No",
          "No",
          "No",
          "No",
          "No",
          "No",
          "No",
          "No",
          "No",
          "No",
          "No",
          "No",
          "No",
          "No",
          "No",
          "No",
          "No",
          "No",
          "No",
          "No",
          "No",
          "Yes",
          "No",
          "No",
          "Yes",
          "No",
          "No",
          "No",
          "No",
          "No",
          "No",
          "No",
          "No",
          "No",
          "No",
          "No",
          "No",
          "No",
          "No",
          "No",
          "No",
          "No",
          "No",
          "Yes",
          "No",
          "No",
          "No",
          "No",
          "Yes",
          "No",
          "No",
          "No",
          "No",
          "No",
          "No",
          "No",
          "No",
          "Yes",
          "No",
          "Yes",
          "No",
          "Yes",
          "No",
          "No",
          "No",
          "No",
          "No",
          "Yes",
          "No",
          "Yes",
          "No",
          "No",
          "Yes",
          "No",
          "No",
          "No",
          "Yes",
          "No",
          "No",
          "No",
          "No",
          "No",
          "No",
          "No",
          "Yes",
          "No",
          "No",
          "No",
          "No",
          "Yes",
          "No",
          "Yes",
          "No",
          "No",
          "No",
          "Yes",
          "No",
          "No",
          "Yes",
          "No",
          "Yes",
          "No",
          "No",
          "Yes",
          "No",
          "Yes",
          "No",
          "No",
          "Yes",
          "No",
          "No",
          "No",
          "No",
          "No",
          "Yes",
          "No",
          "Yes",
          "No",
          "Yes",
          "Yes",
          "Yes",
          "No",
          "No",
          "No",
          "Yes",
          "No",
          "Yes",
          "No",
          "No",
          "No",
          "No",
          "No",
          "No",
          "No",
          "No",
          "No",
          "No",
          "No",
          "No",
          "No",
          "No",
          "Yes",
          "No",
          "No",
          "No",
          "No",
          "Yes",
          "No",
          "Yes",
          "No",
          "No",
          "No",
          "Yes",
          "No",
          "No",
          "Yes",
          "Yes",
          "No",
          "No",
          "Yes",
          "Yes",
          "No",
          "Yes",
          "No",
          "No",
          "No",
          "Yes",
          "No",
          "No",
          "No",
          "No",
          "No",
          "No",
          "No",
          "No",
          "No",
          "No",
          "No",
          "No",
          "No",
          "No",
          "No",
          "No",
          "No",
          "Yes",
          "No",
          "Yes",
          "Yes",
          "No",
          "No",
          "Yes",
          "No",
          "No",
          "No",
          "Yes",
          "Yes",
          "Yes",
          "No",
          "No",
          "Yes",
          "No",
          "No",
          "No",
          "No",
          "No",
          "No",
          "No",
          "No",
          "No",
          "Yes",
          "No",
          "No",
          "No",
          "No",
          "No",
          "No",
          "No",
          "No",
          "No",
          "Yes",
          "Yes",
          "No",
          "No",
          "No",
          "No",
          "No",
          "No",
          "No",
          "No",
          "No",
          "No",
          "No",
          "No",
          "No",
          "Yes",
          "No",
          "No",
          "No",
          "No",
          "No",
          "No",
          "Yes",
          "No",
          "No",
          "No",
          "No",
          "No",
          "Yes",
          "No",
          "No",
          "No",
          "No",
          "No",
          "No",
          "No",
          "No",
          "No",
          "No",
          "No",
          "Yes",
          "Yes",
          "No",
          "No",
          "No",
          "No",
          "Yes",
          "No",
          "No",
          "Yes",
          "No",
          "No",
          "No",
          "No",
          "No",
          "No",
          "No",
          "Yes",
          "No",
          "No",
          "No",
          "No",
          "No",
          "No",
          "No",
          "No",
          "Yes",
          "No",
          "No",
          "No",
          "No",
          "No",
          "No",
          "No",
          "No",
          "No",
          "No",
          "No",
          "No",
          "No",
          "No",
          "Yes",
          "No",
          "No",
          "No",
          "No",
          "No",
          "Yes",
          "No",
          "No",
          "No",
          "No",
          "No",
          "No",
          "No",
          "No",
          "No",
          "No",
          "No",
          "No",
          "No",
          "No",
          "No",
          "No",
          "No",
          "No",
          "No",
          "No",
          "Yes",
          "No",
          "No",
          "No",
          "No",
          "No",
          "Yes",
          "No",
          "Yes",
          "Yes",
          "Yes",
          "No",
          "Yes",
          "No",
          "Yes",
          "Yes",
          "Yes",
          "No",
          "No",
          "No",
          "No",
          "No",
          "No",
          "No",
          "No",
          "No",
          "No",
          "No",
          "No",
          "No",
          "No",
          "No",
          "Yes",
          "No",
          "No",
          "No",
          "No",
          "No",
          "No",
          "No",
          "Yes",
          "No",
          "Yes",
          "No",
          "No",
          "No",
          "No",
          "No",
          "No",
          "Yes",
          "No",
          "No",
          "No",
          "No",
          "Yes",
          "No",
          "No",
          "No",
          "No",
          "No",
          "No",
          "No",
          "No",
          "No",
          "No",
          "No",
          "No",
          "No",
          "No",
          "No",
          "No",
          "No",
          "Yes",
          "No",
          "No",
          "No",
          "No",
          "No",
          "Yes",
          "No",
          "No",
          "No",
          "No",
          "No",
          "No",
          "No",
          "Yes",
          "No",
          "No",
          "Yes",
          "Yes",
          "No",
          "No",
          "No",
          "Yes",
          "No",
          "Yes",
          "Yes",
          "No",
          "No",
          "Yes",
          "No",
          "No",
          "No",
          "Yes",
          "No",
          "No",
          "No",
          "No",
          "No",
          "No",
          "No",
          "No",
          "No",
          "No",
          "No",
          "No",
          "No",
          "No",
          "Yes",
          "No",
          "No",
          "No",
          "No",
          "No",
          "No",
          "No",
          "Yes",
          "No",
          "No",
          "No",
          "No",
          "No",
          "No",
          "Yes",
          "Yes",
          "No",
          "No",
          "No",
          "No",
          "No",
          "No",
          "No",
          "No",
          "No",
          "No",
          "No",
          "No",
          "Yes",
          "Yes",
          "No",
          "No",
          "No",
          "No",
          "No",
          "Yes",
          "Yes",
          "No",
          "No",
          "No",
          "No",
          "No",
          "Yes",
          "No",
          "No",
          "No",
          "No",
          "No",
          "No",
          "No",
          "No",
          "No",
          "No",
          "No",
          "Yes",
          "No",
          "No",
          "No",
          "Yes",
          "No",
          "No",
          "No",
          "No",
          "No",
          "No",
          "No",
          "No",
          "Yes",
          "Yes",
          "No",
          "Yes",
          "No",
          "No",
          "No",
          "No",
          "No",
          "No",
          "No",
          "No",
          "No",
          "No",
          "No",
          "No",
          "No",
          "No",
          "No",
          "No",
          "No",
          "Yes",
          "No",
          "No",
          "No",
          "No",
          "No",
          "No",
          "No",
          "No",
          "No",
          "No",
          "No",
          "No",
          "No",
          "Yes",
          "No",
          "Yes",
          "No",
          "No",
          "No",
          "No",
          "No",
          "No",
          "No",
          "No",
          "No",
          "No",
          "No",
          "No",
          "No",
          "No",
          "No",
          "No",
          "No",
          "No",
          "No",
          "No",
          "No",
          "No",
          "Yes",
          "Yes",
          "No",
          "No",
          "No",
          "No",
          "No",
          "No",
          "Yes",
          "Yes",
          "Yes",
          "Yes",
          "No",
          "No",
          "Yes",
          "No",
          "Yes",
          "No",
          "No",
          "No",
          "No",
          "No",
          "No",
          "No",
          "No",
          "No",
          "Yes",
          "No",
          "Yes",
          "No",
          "No",
          "No",
          "No",
          "No",
          "Yes",
          "No",
          "No",
          "No",
          "Yes",
          "No",
          "Yes",
          "Yes",
          "Yes",
          "No",
          "No",
          "No",
          "Yes",
          "No",
          "No",
          "No",
          "No",
          "No",
          "Yes",
          "Yes",
          "No",
          "Yes",
          "No",
          "No",
          "No",
          "Yes",
          "No",
          "No",
          "No",
          "No",
          "No",
          "No",
          "No",
          "No",
          "Yes",
          "No",
          "No",
          "No",
          "No",
          "No",
          "No",
          "No",
          "Yes",
          "No",
          "No",
          "No",
          "No",
          "No",
          "No",
          "No",
          "No",
          "No",
          "Yes",
          "No",
          "No",
          "No",
          "No",
          "No",
          "No",
          "Yes",
          "No",
          "No",
          "No",
          "No",
          "No",
          "No",
          "No",
          "No",
          "No",
          "No",
          "No",
          "No",
          "No",
          "No",
          "No",
          "No",
          "Yes",
          "No",
          "No",
          "Yes",
          "No",
          "No",
          "Yes",
          "No",
          "Yes",
          "No",
          "No",
          "No",
          "No",
          "No",
          "No",
          "No",
          "No",
          "No",
          "Yes",
          "No",
          "No",
          "Yes",
          "No",
          "No",
          "No",
          "No",
          "No",
          "No",
          "Yes",
          "Yes",
          "No",
          "No",
          "No",
          "No",
          "No",
          "No",
          "No",
          "No",
          "No",
          "No",
          "No",
          "No",
          "No",
          "No",
          "No",
          "No",
          "No",
          "No",
          "No",
          "No",
          "No",
          "No",
          "No",
          "No",
          "No",
          "No",
          "No",
          "No",
          "No",
          "No",
          "No",
          "No",
          "No",
          "Yes",
          "No",
          "Yes",
          "No",
          "No",
          "No",
          "No",
          "No",
          "No",
          "No",
          "No",
          "No",
          "No",
          "No",
          "No",
          "No",
          "No",
          "No",
          "No",
          "No",
          "No",
          "No",
          "No",
          "No",
          "No",
          "No",
          "No",
          "No",
          "No",
          "Yes",
          "Yes",
          "No",
          "No",
          "Yes",
          "No",
          "No",
          "No",
          "No",
          "No",
          "No",
          "Yes",
          "No",
          "No",
          "No",
          "No",
          "No",
          "No",
          "No",
          "No",
          "No",
          "No",
          "No",
          "No",
          "No",
          "No",
          "No",
          "No",
          "No",
          "No",
          "No",
          "Yes",
          "No",
          "No",
          "No",
          "Yes",
          "No",
          "No",
          "No",
          "No",
          "No",
          "Yes",
          "No",
          "No",
          "No",
          "Yes",
          "No",
          "No",
          "No",
          "No",
          "No",
          "No",
          "No",
          "No",
          "Yes",
          "No",
          "Yes",
          "Yes",
          "No",
          "No",
          "No",
          "No",
          "No",
          "No",
          "No",
          "Yes",
          "No",
          "Yes",
          "No",
          "No",
          "No",
          "Yes",
          "No",
          "No",
          "Yes",
          "No",
          "No",
          "Yes",
          "No",
          "Yes",
          "No",
          "Yes",
          "No",
          "No",
          "No",
          "No",
          "No",
          "Yes",
          "No",
          "No",
          "Yes",
          "No",
          "No",
          "Yes",
          "No",
          "No",
          "No",
          "Yes",
          "Yes",
          "No",
          "No",
          "No",
          "No",
          "No",
          "No",
          "Yes",
          "No",
          "No",
          "No",
          "No",
          "No",
          "Yes",
          "No",
          "No",
          "No",
          "No",
          "No",
          "No",
          "No",
          "No",
          "No",
          "No",
          "No",
          "No",
          "No",
          "No",
          "No",
          "No",
          "No",
          "No",
          "No",
          "No",
          "Yes",
          "No",
          "No",
          "No",
          "No",
          "No",
          "No",
          "No",
          "Yes",
          "No",
          "Yes",
          "No",
          "Yes",
          "No",
          "No",
          "No",
          "No",
          "No",
          "No",
          "No",
          "No",
          "Yes",
          "No",
          "No",
          "No",
          "Yes",
          "No",
          "Yes",
          "No",
          "No",
          "No",
          "No",
          "No",
          "No",
          "No",
          "No",
          "No",
          "No",
          "No",
          "No",
          "No",
          "No",
          "No",
          "No",
          "No",
          "No",
          "No",
          "No",
          "No",
          "No",
          "No",
          "No",
          "No",
          "No",
          "Yes",
          "No",
          "No",
          "No",
          "No",
          "No",
          "No",
          "No",
          "No",
          "No",
          "No",
          "No",
          "No",
          "No",
          "No",
          "No",
          "No",
          "Yes",
          "No",
          "No",
          "No",
          "No",
          "Yes",
          "Yes",
          "No",
          "No",
          "No",
          "No",
          "Yes",
          "No",
          "No",
          "No",
          "No",
          "No",
          "No",
          "No",
          "Yes",
          "No",
          "Yes",
          "Yes",
          "No",
          "No",
          "No",
          "No",
          "No",
          "No",
          "No",
          "No",
          "No",
          "No",
          "No",
          "No",
          "No",
          "No",
          "No",
          "No",
          "No",
          "No",
          "No",
          "No",
          "No",
          "No",
          "No",
          "No",
          "No",
          "No",
          "Yes",
          "No",
          "No",
          "No",
          "No",
          "No",
          "No",
          "No",
          "No",
          "No",
          "No",
          "Yes",
          "Yes",
          "Yes",
          "Yes",
          "Yes",
          "No",
          "No",
          "No",
          "No",
          "No",
          "No",
          "No",
          "No",
          "No",
          "No",
          "No",
          "No",
          "No",
          "No",
          "No",
          "No",
          "No",
          "No",
          "No",
          "No",
          "No",
          "No",
          "No",
          "No",
          "No",
          "No",
          "No",
          "No",
          "No",
          "No",
          "No",
          "No",
          "No",
          "No",
          "No",
          "No",
          "No",
          "No",
          "No",
          "No",
          "No",
          "No",
          "No",
          "No",
          "No",
          "No",
          "No",
          "No",
          "No",
          "Yes",
          "Yes",
          "No",
          "No",
          "Yes",
          "No",
          "No",
          "No",
          "No",
          "No",
          "No",
          "Yes",
          "No",
          "No",
          "Yes",
          "No",
          "Yes",
          "Yes",
          "No",
          "No",
          "No",
          "No",
          "No",
          "No",
          "No",
          "No",
          "No",
          "Yes",
          "No",
          "No",
          "No",
          "No",
          "Yes",
          "Yes",
          "Yes",
          "No",
          "No",
          "Yes",
          "No",
          "No",
          "No",
          "No",
          "Yes",
          "No",
          "No",
          "No",
          "No",
          "No",
          "No",
          "No",
          "No",
          "No",
          "No",
          "No",
          "Yes",
          "No",
          "No",
          "No",
          "No",
          "No",
          "No",
          "No",
          "No",
          "Yes",
          "Yes",
          "No",
          "Yes",
          "Yes",
          "Yes",
          "No",
          "Yes",
          "Yes",
          "No",
          "No",
          "Yes",
          "No",
          "No",
          "No",
          "Yes",
          "Yes",
          "Yes",
          "Yes",
          "Yes",
          "No",
          "Yes",
          "No",
          "No",
          "No",
          "No",
          "No",
          "No",
          "No",
          "No",
          "No",
          "No",
          "No",
          "No",
          "No",
          "No",
          "No",
          "No",
          "No",
          "No",
          "No",
          "No",
          "No",
          "No",
          "No",
          "No",
          "No",
          "Yes",
          "No",
          "No",
          "No",
          "No",
          "No",
          "No",
          "No",
          "Yes",
          "No",
          "No",
          "No",
          "No",
          "No",
          "No",
          "No",
          "No",
          "No",
          "No",
          "No",
          "No",
          "No",
          "No",
          "No",
          "No",
          "No",
          "No",
          "No",
          "No",
          "No",
          "No",
          "No",
          "No",
          "No",
          "No",
          "No",
          "No",
          "No",
          "No",
          "No",
          "No",
          "No",
          "No",
          "No",
          "No",
          "No",
          "No",
          "No",
          "No",
          "No",
          "No",
          "No",
          "No",
          "No",
          "No",
          "No",
          "No",
          "No",
          "No",
          "No",
          "No",
          "No",
          "No",
          "No",
          "Yes",
          "No",
          "Yes",
          "No",
          "No",
          "No",
          "No",
          "No",
          "No",
          "No",
          "No",
          "No",
          "No",
          "No",
          "No",
          "No",
          "No",
          "No",
          "No",
          "No",
          "No",
          "No",
          "No",
          "No",
          "Yes",
          "No",
          "No",
          "No",
          "No",
          "No",
          "No",
          "No",
          "No",
          "No",
          "Yes",
          "No",
          "No",
          "No",
          "No",
          "No",
          "No",
          "No",
          "No"
         ]
        }
       ],
       "layout": {
        "legend": {
         "tracegroupgap": 0
        },
        "margin": {
         "t": 60
        },
        "template": {
         "data": {
          "bar": [
           {
            "error_x": {
             "color": "#2a3f5f"
            },
            "error_y": {
             "color": "#2a3f5f"
            },
            "marker": {
             "line": {
              "color": "#E5ECF6",
              "width": 0.5
             },
             "pattern": {
              "fillmode": "overlay",
              "size": 10,
              "solidity": 0.2
             }
            },
            "type": "bar"
           }
          ],
          "barpolar": [
           {
            "marker": {
             "line": {
              "color": "#E5ECF6",
              "width": 0.5
             },
             "pattern": {
              "fillmode": "overlay",
              "size": 10,
              "solidity": 0.2
             }
            },
            "type": "barpolar"
           }
          ],
          "carpet": [
           {
            "aaxis": {
             "endlinecolor": "#2a3f5f",
             "gridcolor": "white",
             "linecolor": "white",
             "minorgridcolor": "white",
             "startlinecolor": "#2a3f5f"
            },
            "baxis": {
             "endlinecolor": "#2a3f5f",
             "gridcolor": "white",
             "linecolor": "white",
             "minorgridcolor": "white",
             "startlinecolor": "#2a3f5f"
            },
            "type": "carpet"
           }
          ],
          "choropleth": [
           {
            "colorbar": {
             "outlinewidth": 0,
             "ticks": ""
            },
            "type": "choropleth"
           }
          ],
          "contour": [
           {
            "colorbar": {
             "outlinewidth": 0,
             "ticks": ""
            },
            "colorscale": [
             [
              0,
              "#0d0887"
             ],
             [
              0.1111111111111111,
              "#46039f"
             ],
             [
              0.2222222222222222,
              "#7201a8"
             ],
             [
              0.3333333333333333,
              "#9c179e"
             ],
             [
              0.4444444444444444,
              "#bd3786"
             ],
             [
              0.5555555555555556,
              "#d8576b"
             ],
             [
              0.6666666666666666,
              "#ed7953"
             ],
             [
              0.7777777777777778,
              "#fb9f3a"
             ],
             [
              0.8888888888888888,
              "#fdca26"
             ],
             [
              1,
              "#f0f921"
             ]
            ],
            "type": "contour"
           }
          ],
          "contourcarpet": [
           {
            "colorbar": {
             "outlinewidth": 0,
             "ticks": ""
            },
            "type": "contourcarpet"
           }
          ],
          "heatmap": [
           {
            "colorbar": {
             "outlinewidth": 0,
             "ticks": ""
            },
            "colorscale": [
             [
              0,
              "#0d0887"
             ],
             [
              0.1111111111111111,
              "#46039f"
             ],
             [
              0.2222222222222222,
              "#7201a8"
             ],
             [
              0.3333333333333333,
              "#9c179e"
             ],
             [
              0.4444444444444444,
              "#bd3786"
             ],
             [
              0.5555555555555556,
              "#d8576b"
             ],
             [
              0.6666666666666666,
              "#ed7953"
             ],
             [
              0.7777777777777778,
              "#fb9f3a"
             ],
             [
              0.8888888888888888,
              "#fdca26"
             ],
             [
              1,
              "#f0f921"
             ]
            ],
            "type": "heatmap"
           }
          ],
          "heatmapgl": [
           {
            "colorbar": {
             "outlinewidth": 0,
             "ticks": ""
            },
            "colorscale": [
             [
              0,
              "#0d0887"
             ],
             [
              0.1111111111111111,
              "#46039f"
             ],
             [
              0.2222222222222222,
              "#7201a8"
             ],
             [
              0.3333333333333333,
              "#9c179e"
             ],
             [
              0.4444444444444444,
              "#bd3786"
             ],
             [
              0.5555555555555556,
              "#d8576b"
             ],
             [
              0.6666666666666666,
              "#ed7953"
             ],
             [
              0.7777777777777778,
              "#fb9f3a"
             ],
             [
              0.8888888888888888,
              "#fdca26"
             ],
             [
              1,
              "#f0f921"
             ]
            ],
            "type": "heatmapgl"
           }
          ],
          "histogram": [
           {
            "marker": {
             "pattern": {
              "fillmode": "overlay",
              "size": 10,
              "solidity": 0.2
             }
            },
            "type": "histogram"
           }
          ],
          "histogram2d": [
           {
            "colorbar": {
             "outlinewidth": 0,
             "ticks": ""
            },
            "colorscale": [
             [
              0,
              "#0d0887"
             ],
             [
              0.1111111111111111,
              "#46039f"
             ],
             [
              0.2222222222222222,
              "#7201a8"
             ],
             [
              0.3333333333333333,
              "#9c179e"
             ],
             [
              0.4444444444444444,
              "#bd3786"
             ],
             [
              0.5555555555555556,
              "#d8576b"
             ],
             [
              0.6666666666666666,
              "#ed7953"
             ],
             [
              0.7777777777777778,
              "#fb9f3a"
             ],
             [
              0.8888888888888888,
              "#fdca26"
             ],
             [
              1,
              "#f0f921"
             ]
            ],
            "type": "histogram2d"
           }
          ],
          "histogram2dcontour": [
           {
            "colorbar": {
             "outlinewidth": 0,
             "ticks": ""
            },
            "colorscale": [
             [
              0,
              "#0d0887"
             ],
             [
              0.1111111111111111,
              "#46039f"
             ],
             [
              0.2222222222222222,
              "#7201a8"
             ],
             [
              0.3333333333333333,
              "#9c179e"
             ],
             [
              0.4444444444444444,
              "#bd3786"
             ],
             [
              0.5555555555555556,
              "#d8576b"
             ],
             [
              0.6666666666666666,
              "#ed7953"
             ],
             [
              0.7777777777777778,
              "#fb9f3a"
             ],
             [
              0.8888888888888888,
              "#fdca26"
             ],
             [
              1,
              "#f0f921"
             ]
            ],
            "type": "histogram2dcontour"
           }
          ],
          "mesh3d": [
           {
            "colorbar": {
             "outlinewidth": 0,
             "ticks": ""
            },
            "type": "mesh3d"
           }
          ],
          "parcoords": [
           {
            "line": {
             "colorbar": {
              "outlinewidth": 0,
              "ticks": ""
             }
            },
            "type": "parcoords"
           }
          ],
          "pie": [
           {
            "automargin": true,
            "type": "pie"
           }
          ],
          "scatter": [
           {
            "fillpattern": {
             "fillmode": "overlay",
             "size": 10,
             "solidity": 0.2
            },
            "type": "scatter"
           }
          ],
          "scatter3d": [
           {
            "line": {
             "colorbar": {
              "outlinewidth": 0,
              "ticks": ""
             }
            },
            "marker": {
             "colorbar": {
              "outlinewidth": 0,
              "ticks": ""
             }
            },
            "type": "scatter3d"
           }
          ],
          "scattercarpet": [
           {
            "marker": {
             "colorbar": {
              "outlinewidth": 0,
              "ticks": ""
             }
            },
            "type": "scattercarpet"
           }
          ],
          "scattergeo": [
           {
            "marker": {
             "colorbar": {
              "outlinewidth": 0,
              "ticks": ""
             }
            },
            "type": "scattergeo"
           }
          ],
          "scattergl": [
           {
            "marker": {
             "colorbar": {
              "outlinewidth": 0,
              "ticks": ""
             }
            },
            "type": "scattergl"
           }
          ],
          "scattermapbox": [
           {
            "marker": {
             "colorbar": {
              "outlinewidth": 0,
              "ticks": ""
             }
            },
            "type": "scattermapbox"
           }
          ],
          "scatterpolar": [
           {
            "marker": {
             "colorbar": {
              "outlinewidth": 0,
              "ticks": ""
             }
            },
            "type": "scatterpolar"
           }
          ],
          "scatterpolargl": [
           {
            "marker": {
             "colorbar": {
              "outlinewidth": 0,
              "ticks": ""
             }
            },
            "type": "scatterpolargl"
           }
          ],
          "scatterternary": [
           {
            "marker": {
             "colorbar": {
              "outlinewidth": 0,
              "ticks": ""
             }
            },
            "type": "scatterternary"
           }
          ],
          "surface": [
           {
            "colorbar": {
             "outlinewidth": 0,
             "ticks": ""
            },
            "colorscale": [
             [
              0,
              "#0d0887"
             ],
             [
              0.1111111111111111,
              "#46039f"
             ],
             [
              0.2222222222222222,
              "#7201a8"
             ],
             [
              0.3333333333333333,
              "#9c179e"
             ],
             [
              0.4444444444444444,
              "#bd3786"
             ],
             [
              0.5555555555555556,
              "#d8576b"
             ],
             [
              0.6666666666666666,
              "#ed7953"
             ],
             [
              0.7777777777777778,
              "#fb9f3a"
             ],
             [
              0.8888888888888888,
              "#fdca26"
             ],
             [
              1,
              "#f0f921"
             ]
            ],
            "type": "surface"
           }
          ],
          "table": [
           {
            "cells": {
             "fill": {
              "color": "#EBF0F8"
             },
             "line": {
              "color": "white"
             }
            },
            "header": {
             "fill": {
              "color": "#C8D4E3"
             },
             "line": {
              "color": "white"
             }
            },
            "type": "table"
           }
          ]
         },
         "layout": {
          "annotationdefaults": {
           "arrowcolor": "#2a3f5f",
           "arrowhead": 0,
           "arrowwidth": 1
          },
          "autotypenumbers": "strict",
          "coloraxis": {
           "colorbar": {
            "outlinewidth": 0,
            "ticks": ""
           }
          },
          "colorscale": {
           "diverging": [
            [
             0,
             "#8e0152"
            ],
            [
             0.1,
             "#c51b7d"
            ],
            [
             0.2,
             "#de77ae"
            ],
            [
             0.3,
             "#f1b6da"
            ],
            [
             0.4,
             "#fde0ef"
            ],
            [
             0.5,
             "#f7f7f7"
            ],
            [
             0.6,
             "#e6f5d0"
            ],
            [
             0.7,
             "#b8e186"
            ],
            [
             0.8,
             "#7fbc41"
            ],
            [
             0.9,
             "#4d9221"
            ],
            [
             1,
             "#276419"
            ]
           ],
           "sequential": [
            [
             0,
             "#0d0887"
            ],
            [
             0.1111111111111111,
             "#46039f"
            ],
            [
             0.2222222222222222,
             "#7201a8"
            ],
            [
             0.3333333333333333,
             "#9c179e"
            ],
            [
             0.4444444444444444,
             "#bd3786"
            ],
            [
             0.5555555555555556,
             "#d8576b"
            ],
            [
             0.6666666666666666,
             "#ed7953"
            ],
            [
             0.7777777777777778,
             "#fb9f3a"
            ],
            [
             0.8888888888888888,
             "#fdca26"
            ],
            [
             1,
             "#f0f921"
            ]
           ],
           "sequentialminus": [
            [
             0,
             "#0d0887"
            ],
            [
             0.1111111111111111,
             "#46039f"
            ],
            [
             0.2222222222222222,
             "#7201a8"
            ],
            [
             0.3333333333333333,
             "#9c179e"
            ],
            [
             0.4444444444444444,
             "#bd3786"
            ],
            [
             0.5555555555555556,
             "#d8576b"
            ],
            [
             0.6666666666666666,
             "#ed7953"
            ],
            [
             0.7777777777777778,
             "#fb9f3a"
            ],
            [
             0.8888888888888888,
             "#fdca26"
            ],
            [
             1,
             "#f0f921"
            ]
           ]
          },
          "colorway": [
           "#636efa",
           "#EF553B",
           "#00cc96",
           "#ab63fa",
           "#FFA15A",
           "#19d3f3",
           "#FF6692",
           "#B6E880",
           "#FF97FF",
           "#FECB52"
          ],
          "font": {
           "color": "#2a3f5f"
          },
          "geo": {
           "bgcolor": "white",
           "lakecolor": "white",
           "landcolor": "#E5ECF6",
           "showlakes": true,
           "showland": true,
           "subunitcolor": "white"
          },
          "hoverlabel": {
           "align": "left"
          },
          "hovermode": "closest",
          "mapbox": {
           "style": "light"
          },
          "paper_bgcolor": "white",
          "plot_bgcolor": "#E5ECF6",
          "polar": {
           "angularaxis": {
            "gridcolor": "white",
            "linecolor": "white",
            "ticks": ""
           },
           "bgcolor": "#E5ECF6",
           "radialaxis": {
            "gridcolor": "white",
            "linecolor": "white",
            "ticks": ""
           }
          },
          "scene": {
           "xaxis": {
            "backgroundcolor": "#E5ECF6",
            "gridcolor": "white",
            "gridwidth": 2,
            "linecolor": "white",
            "showbackground": true,
            "ticks": "",
            "zerolinecolor": "white"
           },
           "yaxis": {
            "backgroundcolor": "#E5ECF6",
            "gridcolor": "white",
            "gridwidth": 2,
            "linecolor": "white",
            "showbackground": true,
            "ticks": "",
            "zerolinecolor": "white"
           },
           "zaxis": {
            "backgroundcolor": "#E5ECF6",
            "gridcolor": "white",
            "gridwidth": 2,
            "linecolor": "white",
            "showbackground": true,
            "ticks": "",
            "zerolinecolor": "white"
           }
          },
          "shapedefaults": {
           "line": {
            "color": "#2a3f5f"
           }
          },
          "ternary": {
           "aaxis": {
            "gridcolor": "white",
            "linecolor": "white",
            "ticks": ""
           },
           "baxis": {
            "gridcolor": "white",
            "linecolor": "white",
            "ticks": ""
           },
           "bgcolor": "#E5ECF6",
           "caxis": {
            "gridcolor": "white",
            "linecolor": "white",
            "ticks": ""
           }
          },
          "title": {
           "x": 0.05
          },
          "xaxis": {
           "automargin": true,
           "gridcolor": "white",
           "linecolor": "white",
           "ticks": "",
           "title": {
            "standoff": 15
           },
           "zerolinecolor": "white",
           "zerolinewidth": 2
          },
          "yaxis": {
           "automargin": true,
           "gridcolor": "white",
           "linecolor": "white",
           "ticks": "",
           "title": {
            "standoff": 15
           },
           "zerolinecolor": "white",
           "zerolinewidth": 2
          }
         }
        }
       }
      }
     },
     "metadata": {},
     "output_type": "display_data"
    }
   ],
   "source": [
    "import plotly.express as px\n",
    "# This dataframe has 244 lines, but 4 distinct values for `day`\n",
    "fig = px.pie(df_match, values=\"match\")\n",
    "fig.show()"
   ]
  },
  {
   "cell_type": "markdown",
   "metadata": {},
   "source": []
  },
  {
   "cell_type": "markdown",
   "metadata": {},
   "source": [
    "Let's explore motivation for dating for men and women who participated in the study.\n",
    "As the goals in the dataset are coded with numbers, let's create an additional column that will describe the goal explicitly according to the dataset key."
   ]
  },
  {
   "cell_type": "code",
   "execution_count": null,
   "metadata": {},
   "outputs": [
    {
     "ename": "NameError",
     "evalue": "name 'dating_per_person' is not defined",
     "output_type": "error",
     "traceback": [
      "\u001b[1;31m---------------------------------------------------------------------------\u001b[0m",
      "\u001b[1;31mNameError\u001b[0m                                 Traceback (most recent call last)",
      "Cell \u001b[1;32mIn [35], line 1\u001b[0m\n\u001b[1;32m----> 1\u001b[0m dating_per_person[\u001b[39m'\u001b[39m\u001b[39mgoal_name\u001b[39m\u001b[39m'\u001b[39m] \u001b[39m=\u001b[39m dating_per_person[\u001b[39m\"\u001b[39m\u001b[39mgoal\u001b[39m\u001b[39m\"\u001b[39m]\u001b[39m.\u001b[39mapply(\u001b[39mlambda\u001b[39;00m x: \u001b[39m\"\u001b[39m\u001b[39mSeemed like a fun night out\u001b[39m\u001b[39m\"\u001b[39m \u001b[39mif\u001b[39;00m x \u001b[39m==\u001b[39m \u001b[39m1\u001b[39m \u001b[39melse\u001b[39;00m \u001b[39m\"\u001b[39m\u001b[39mTo meet new people\u001b[39m\u001b[39m\"\u001b[39m \u001b[39mif\u001b[39;00m x \u001b[39m==\u001b[39m \u001b[39m2\u001b[39m \u001b[39melse\u001b[39;00m \u001b[39m\"\u001b[39m\u001b[39mTo get a date\u001b[39m\u001b[39m\"\u001b[39m \u001b[39mif\u001b[39;00m x \u001b[39m==\u001b[39m \u001b[39m3\u001b[39m \u001b[39melse\u001b[39;00m \u001b[39m\"\u001b[39m\u001b[39mLooking for a serious relationship\u001b[39m\u001b[39m\"\u001b[39m \u001b[39mif\u001b[39;00m x \u001b[39m==\u001b[39m \u001b[39m4\u001b[39m \u001b[39melse\u001b[39;00m \u001b[39m\"\u001b[39m\u001b[39mTo say I did it\u001b[39m\u001b[39m\"\u001b[39m \u001b[39mif\u001b[39;00m x\u001b[39m==\u001b[39m\u001b[39m5\u001b[39m \u001b[39melse\u001b[39;00m \u001b[39m\"\u001b[39m\u001b[39mOther\u001b[39m\u001b[39m\"\u001b[39m \u001b[39mif\u001b[39;00m x\u001b[39m==\u001b[39m\u001b[39m6\u001b[39m \u001b[39melse\u001b[39;00m \u001b[39mNone\u001b[39;00m)\n",
      "\u001b[1;31mNameError\u001b[0m: name 'dating_per_person' is not defined"
     ]
    }
   ],
   "source": [
    "dating_per_person['goal_name'] = dating_per_person[\"goal\"].apply(lambda x: \"Seemed like a fun night out\" if x == 1 else \"To meet new people\" if x == 2 else \"To get a date\" if x == 3 else \"Looking for a serious relationship\" if x == 4 else \"To say I did it\" if x==5 else \"Other\" if x==6 else None)\n",
    "#dating_per_person.head(15)"
   ]
  },
  {
   "cell_type": "markdown",
   "metadata": {},
   "source": [
    "Let's represent different goals by a separate pie chart for both genders."
   ]
  },
  {
   "cell_type": "code",
   "execution_count": null,
   "metadata": {},
   "outputs": [],
   "source": [
    "dating_females = dating_per_person.loc[dating_per_person['gender_name'] == 'Female']\n",
    "#display(dating_females.head())\n",
    "females_by_goal = dating_females[\"goal_name\"].value_counts(dropna=False)\n",
    "#display(females_by_goal)\n",
    "\n",
    "females_by_goal_array = females_by_goal.to_numpy()\n",
    "\n",
    "\n",
    "labels = 'Seemed like a fun night out', 'To meet new people', 'To get a date', 'Other', 'To say I did it', 'Looking for a serious relationship', 'N/A'\n",
    "sizes = females_by_goal_array\n",
    "\n",
    "plt.pie(sizes, labels=labels, autopct='%1.1f%%')\n",
    "#plt.legend(bbox_to_anchor=(1, 1))\n",
    "\n",
    "plt.show()\n"
   ]
  },
  {
   "cell_type": "code",
   "execution_count": null,
   "metadata": {},
   "outputs": [],
   "source": [
    "dating_males = dating_per_person.loc[dating_per_person['gender_name'] == 'Male']\n",
    "#display(dating_males.head())\n",
    "males_by_goal = dating_males[\"goal_name\"].value_counts(dropna=False)\n",
    "#display(males_by_goal)\n",
    "\n",
    "males_by_goal_array = males_by_goal.to_numpy()\n",
    "\n",
    "labels = 'Seemed like a fun night out', 'To meet new people', 'To get a date', 'Other', 'To say I did it', 'Looking for a serious relationship', 'N/A'\n",
    "sizes = males_by_goal_array\n",
    "\n",
    "plt.pie(sizes, labels=labels, autopct='%1.1f%%')\n",
    "#plt.legend(bbox_to_anchor=(1, 1))\n",
    "\n",
    "plt.show()\n"
   ]
  },
  {
   "cell_type": "code",
   "execution_count": null,
   "metadata": {},
   "outputs": [],
   "source": [
    "import numpy as np\n",
    "females_by_goal_array = females_by_goal.to_numpy()\n",
    "\n",
    "labels = 'Seemed like a fun night out', 'To meet new people', 'To get a date', 'Other', 'To say I did it', 'Looking for a serious relationship', 'N/A'\n",
    "sizes = females_by_goal_array\n",
    "\n",
    "plt.pie(sizes, labels=labels, autopct='%1.1f%%')\n",
    "plt.legend(bbox_to_anchor=(1, 1))\n",
    "\n",
    "\n",
    "plt.show()"
   ]
  },
  {
   "cell_type": "code",
   "execution_count": null,
   "metadata": {},
   "outputs": [],
   "source": [
    "labels = 'Frogs', 'Hogs', 'Dogs', 'Logs'\n",
    "sizes = [15, 30, 45, 10]\n",
    "\n",
    "plt.pie(sizes, labels=labels, autopct='%1.1f%%')\n",
    "\n",
    "plt.show()"
   ]
  },
  {
   "cell_type": "code",
   "execution_count": null,
   "metadata": {},
   "outputs": [],
   "source": [
    "#dating_per_person['note_method'] = dating_per_person[\"wave\"].apply(lambda x: '10_scale' if x == 6.0 or 7.0 or 8.0 or 9.0 else \"100_point_alloc\")\n",
    "dating_per_person['note_method'] = dating_per_person[\"wave\"].apply(lambda x: '10_scale' if x == 6 or x == 7 or x == 8 or x == 9 else \"100_point_alloc\")"
   ]
  },
  {
   "cell_type": "code",
   "execution_count": null,
   "metadata": {},
   "outputs": [],
   "source": [
    "dating_per_person.head()"
   ]
  },
  {
   "cell_type": "code",
   "execution_count": null,
   "metadata": {},
   "outputs": [],
   "source": [
    "dating_per_person_10_scale_mask = dating_per_person[\"note_method\"]==\"10_scale\"\n",
    "dating_per_person_10_scale = dating_per_person[dating_per_person_10_scale_mask].reset_index(drop=False)\n",
    "dating_per_person_10_scale.head()"
   ]
  },
  {
   "cell_type": "code",
   "execution_count": null,
   "metadata": {},
   "outputs": [],
   "source": [
    "dating_per_person_100_point_mask = dating_per_person[\"note_method\"]==\"100_point_alloc\"\n",
    "dating_per_person_100_point = dating_per_person[dating_per_person_100_point_mask].reset_index(drop=False)\n",
    "dating_per_person_100_point.head()"
   ]
  },
  {
   "cell_type": "code",
   "execution_count": null,
   "metadata": {},
   "outputs": [],
   "source": []
  },
  {
   "cell_type": "code",
   "execution_count": null,
   "metadata": {},
   "outputs": [],
   "source": []
  },
  {
   "cell_type": "code",
   "execution_count": null,
   "metadata": {},
   "outputs": [],
   "source": [
    "# creating a dataframe that contaings estimates of criteria that are important in opposite sex:\n",
    "dating_per_person_100_point = dating_per_person_100_point.groupby(\"gender_name\").mean().reset_index(drop=False)\n",
    "dating_per_person_100_point_by_gender = dating_per_person_100_point[[\"gender_name\",'iid', 'match', 'attr1_1', 'sinc1_1',\n",
    "       'intel1_1', 'fun1_1', 'amb1_1', 'shar1_1', 'attr1_s', 'sinc1_s',\n",
    "       'intel1_s', 'fun1_s', 'amb1_s', 'shar1_s', 'attr1_2', 'sinc1_2', 'intel1_2', 'fun1_2', 'amb1_2', 'shar1_2',\n",
    "       'attr1_3', 'sinc1_3', 'intel1_3', 'fun1_3', 'amb1_3', 'shar1_3']]\n",
    "dating_per_person_100_point_by_gender"
   ]
  },
  {
   "cell_type": "code",
   "execution_count": null,
   "metadata": {},
   "outputs": [],
   "source": [
    "a = 23.737295 + 17.284344 + 20.490410 + 17.266721 + 10.174208 + 11.235574\n",
    "print(a)"
   ]
  }
 ],
 "metadata": {
  "kernelspec": {
   "display_name": "Python 3.10.8 64-bit (microsoft store)",
   "language": "python",
   "name": "python3"
  },
  "language_info": {
   "codemirror_mode": {
    "name": "ipython",
    "version": 3
   },
   "file_extension": ".py",
   "mimetype": "text/x-python",
   "name": "python",
   "nbconvert_exporter": "python",
   "pygments_lexer": "ipython3",
   "version": "3.10.9"
  },
  "orig_nbformat": 2,
  "vscode": {
   "interpreter": {
    "hash": "a0fdf8838102b5a6b2938995cfca801768491c1c6585082ea8435b0dad918ca1"
   }
  }
 },
 "nbformat": 4,
 "nbformat_minor": 2
}
