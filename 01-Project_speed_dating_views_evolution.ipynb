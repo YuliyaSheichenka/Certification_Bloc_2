{
 "cells": [
  {
   "attachments": {},
   "cell_type": "markdown",
   "metadata": {},
   "source": [
    "# Speed Dating\n",
    "\n",
    "## Contents\n",
    "\n",
    "1) Initial exploration of the dataset\n",
    "2) Principal \n",
    "3) Testing underlying assumptions"
   ]
  },
  {
   "cell_type": "code",
   "execution_count": 1,
   "metadata": {},
   "outputs": [],
   "source": [
    "import pandas as pd\n",
    "import seaborn as sns\n",
    "import matplotlib.pyplot as plt\n",
    "import plotly.express as px\n",
    "import numpy as np\n",
    "pd.set_option(\"max_seq_items\", None)\n",
    "pd.set_option('display.max_rows', None, 'display.max_columns', None)\n"
   ]
  },
  {
   "cell_type": "code",
   "execution_count": 48,
   "metadata": {},
   "outputs": [],
   "source": [
    "df = pd.read_csv(\"data\\speed_dating_data.csv\", encoding = \"ISO-8859-1\")\n"
   ]
  },
  {
   "attachments": {},
   "cell_type": "markdown",
   "metadata": {},
   "source": [
    "## General exploration of the dataset"
   ]
  },
  {
   "cell_type": "code",
   "execution_count": 3,
   "metadata": {},
   "outputs": [
    {
     "data": {
      "text/plain": [
       "count    8283.000000\n",
       "mean       26.358928\n",
       "std         3.566763\n",
       "min        18.000000\n",
       "25%        24.000000\n",
       "50%        26.000000\n",
       "75%        28.000000\n",
       "max        55.000000\n",
       "Name: age, dtype: float64"
      ]
     },
     "execution_count": 3,
     "metadata": {},
     "output_type": "execute_result"
    }
   ],
   "source": [
    "df[\"age\"].describe()"
   ]
  },
  {
   "attachments": {},
   "cell_type": "markdown",
   "metadata": {},
   "source": [
    "As there are a lot of columns in the dataset, I printed out the names of columns to get an overview of the features of the dataset."
   ]
  },
  {
   "cell_type": "code",
   "execution_count": 4,
   "metadata": {},
   "outputs": [
    {
     "name": "stdout",
     "output_type": "stream",
     "text": [
      "Index(['iid', 'id', 'gender', 'idg', 'condtn', 'wave', 'round', 'position',\n",
      "       'positin1', 'order', 'partner', 'pid', 'match', 'int_corr', 'samerace',\n",
      "       'age_o', 'race_o', 'pf_o_att', 'pf_o_sin', 'pf_o_int', 'pf_o_fun',\n",
      "       'pf_o_amb', 'pf_o_sha', 'dec_o', 'attr_o', 'sinc_o', 'intel_o', 'fun_o',\n",
      "       'amb_o', 'shar_o', 'like_o', 'prob_o', 'met_o', 'age', 'field',\n",
      "       'field_cd', 'undergra', 'mn_sat', 'tuition', 'race', 'imprace',\n",
      "       'imprelig', 'from', 'zipcode', 'income', 'goal', 'date', 'go_out',\n",
      "       'career', 'career_c', 'sports', 'tvsports', 'exercise', 'dining',\n",
      "       'museums', 'art', 'hiking', 'gaming', 'clubbing', 'reading', 'tv',\n",
      "       'theater', 'movies', 'concerts', 'music', 'shopping', 'yoga',\n",
      "       'exphappy', 'expnum', 'attr1_1', 'sinc1_1', 'intel1_1', 'fun1_1',\n",
      "       'amb1_1', 'shar1_1', 'attr4_1', 'sinc4_1', 'intel4_1', 'fun4_1',\n",
      "       'amb4_1', 'shar4_1', 'attr2_1', 'sinc2_1', 'intel2_1', 'fun2_1',\n",
      "       'amb2_1', 'shar2_1', 'attr3_1', 'sinc3_1', 'fun3_1', 'intel3_1',\n",
      "       'amb3_1', 'attr5_1', 'sinc5_1', 'intel5_1', 'fun5_1', 'amb5_1', 'dec',\n",
      "       'attr', 'sinc', 'intel', 'fun', 'amb', 'shar', 'like', 'prob', 'met',\n",
      "       'match_es', 'attr1_s', 'sinc1_s', 'intel1_s', 'fun1_s', 'amb1_s',\n",
      "       'shar1_s', 'attr3_s', 'sinc3_s', 'intel3_s', 'fun3_s', 'amb3_s',\n",
      "       'satis_2', 'length', 'numdat_2', 'attr7_2', 'sinc7_2', 'intel7_2',\n",
      "       'fun7_2', 'amb7_2', 'shar7_2', 'attr1_2', 'sinc1_2', 'intel1_2',\n",
      "       'fun1_2', 'amb1_2', 'shar1_2', 'attr4_2', 'sinc4_2', 'intel4_2',\n",
      "       'fun4_2', 'amb4_2', 'shar4_2', 'attr2_2', 'sinc2_2', 'intel2_2',\n",
      "       'fun2_2', 'amb2_2', 'shar2_2', 'attr3_2', 'sinc3_2', 'intel3_2',\n",
      "       'fun3_2', 'amb3_2', 'attr5_2', 'sinc5_2', 'intel5_2', 'fun5_2',\n",
      "       'amb5_2', 'you_call', 'them_cal', 'date_3', 'numdat_3', 'num_in_3',\n",
      "       'attr1_3', 'sinc1_3', 'intel1_3', 'fun1_3', 'amb1_3', 'shar1_3',\n",
      "       'attr7_3', 'sinc7_3', 'intel7_3', 'fun7_3', 'amb7_3', 'shar7_3',\n",
      "       'attr4_3', 'sinc4_3', 'intel4_3', 'fun4_3', 'amb4_3', 'shar4_3',\n",
      "       'attr2_3', 'sinc2_3', 'intel2_3', 'fun2_3', 'amb2_3', 'shar2_3',\n",
      "       'attr3_3', 'sinc3_3', 'intel3_3', 'fun3_3', 'amb3_3', 'attr5_3',\n",
      "       'sinc5_3', 'intel5_3', 'fun5_3', 'amb5_3'],\n",
      "      dtype='object')\n"
     ]
    }
   ],
   "source": [
    "print(df.columns)"
   ]
  },
  {
   "attachments": {},
   "cell_type": "markdown",
   "metadata": {},
   "source": [
    "Let's check whether there are missing values in the dataset if any."
   ]
  },
  {
   "cell_type": "code",
   "execution_count": 5,
   "metadata": {},
   "outputs": [
    {
     "data": {
      "text/plain": [
       "iid            0\n",
       "id             1\n",
       "gender         0\n",
       "idg            0\n",
       "condtn         0\n",
       "wave           0\n",
       "round          0\n",
       "position       0\n",
       "positin1    1846\n",
       "order          0\n",
       "partner        0\n",
       "pid           10\n",
       "match          0\n",
       "int_corr     158\n",
       "samerace       0\n",
       "age_o        104\n",
       "race_o        73\n",
       "pf_o_att      89\n",
       "pf_o_sin      89\n",
       "pf_o_int      89\n",
       "pf_o_fun      98\n",
       "pf_o_amb     107\n",
       "pf_o_sha     129\n",
       "dec_o          0\n",
       "attr_o       212\n",
       "sinc_o       287\n",
       "intel_o      306\n",
       "fun_o        360\n",
       "amb_o        722\n",
       "shar_o      1076\n",
       "like_o       250\n",
       "prob_o       318\n",
       "met_o        385\n",
       "age           95\n",
       "field         63\n",
       "field_cd      82\n",
       "undergra    3464\n",
       "mn_sat      5245\n",
       "tuition     4795\n",
       "race          63\n",
       "imprace       79\n",
       "imprelig      79\n",
       "from          79\n",
       "zipcode     1064\n",
       "income      4099\n",
       "goal          79\n",
       "date          97\n",
       "go_out        79\n",
       "career        89\n",
       "career_c     138\n",
       "sports        79\n",
       "tvsports      79\n",
       "exercise      79\n",
       "dining        79\n",
       "museums       79\n",
       "art           79\n",
       "hiking        79\n",
       "gaming        79\n",
       "clubbing      79\n",
       "reading       79\n",
       "tv            79\n",
       "theater       79\n",
       "movies        79\n",
       "concerts      79\n",
       "music         79\n",
       "shopping      79\n",
       "yoga          79\n",
       "exphappy     101\n",
       "expnum      6578\n",
       "attr1_1       79\n",
       "sinc1_1       79\n",
       "intel1_1      79\n",
       "fun1_1        89\n",
       "amb1_1        99\n",
       "shar1_1      121\n",
       "attr4_1     1889\n",
       "sinc4_1     1889\n",
       "intel4_1    1889\n",
       "fun4_1      1889\n",
       "amb4_1      1889\n",
       "shar4_1     1911\n",
       "attr2_1       79\n",
       "sinc2_1       79\n",
       "intel2_1      79\n",
       "fun2_1        79\n",
       "amb2_1        89\n",
       "shar2_1       89\n",
       "attr3_1      105\n",
       "sinc3_1      105\n",
       "fun3_1       105\n",
       "intel3_1     105\n",
       "amb3_1       105\n",
       "attr5_1     3472\n",
       "sinc5_1     3472\n",
       "intel5_1    3472\n",
       "fun5_1      3472\n",
       "amb5_1      3472\n",
       "dec            0\n",
       "attr         202\n",
       "sinc         277\n",
       "intel        296\n",
       "fun          350\n",
       "amb          712\n",
       "shar        1067\n",
       "like         240\n",
       "prob         309\n",
       "met          375\n",
       "match_es    1173\n",
       "attr1_s     4282\n",
       "sinc1_s     4282\n",
       "intel1_s    4282\n",
       "fun1_s      4282\n",
       "amb1_s      4282\n",
       "shar1_s     4282\n",
       "attr3_s     4378\n",
       "sinc3_s     4378\n",
       "intel3_s    4378\n",
       "fun3_s      4378\n",
       "amb3_s      4378\n",
       "satis_2      915\n",
       "length       915\n",
       "numdat_2     945\n",
       "attr7_2     6394\n",
       "sinc7_2     6423\n",
       "intel7_2    6394\n",
       "fun7_2      6394\n",
       "amb7_2      6423\n",
       "shar7_2     6404\n",
       "attr1_2      933\n",
       "sinc1_2      915\n",
       "intel1_2     915\n",
       "fun1_2       915\n",
       "amb1_2       915\n",
       "shar1_2      915\n",
       "attr4_2     2603\n",
       "sinc4_2     2603\n",
       "intel4_2    2603\n",
       "fun4_2      2603\n",
       "amb4_2      2603\n",
       "shar4_2     2603\n",
       "attr2_2     2603\n",
       "sinc2_2     2603\n",
       "intel2_2    2603\n",
       "fun2_2      2603\n",
       "amb2_2      2603\n",
       "shar2_2     2603\n",
       "attr3_2      915\n",
       "sinc3_2      915\n",
       "intel3_2     915\n",
       "fun3_2       915\n",
       "amb3_2       915\n",
       "attr5_2     4001\n",
       "sinc5_2     4001\n",
       "intel5_2    4001\n",
       "fun5_2      4001\n",
       "amb5_2      4001\n",
       "you_call    4404\n",
       "them_cal    4404\n",
       "date_3      4404\n",
       "numdat_3    6882\n",
       "num_in_3    7710\n",
       "attr1_3     4404\n",
       "sinc1_3     4404\n",
       "intel1_3    4404\n",
       "fun1_3      4404\n",
       "amb1_3      4404\n",
       "shar1_3     4404\n",
       "attr7_3     6362\n",
       "sinc7_3     6362\n",
       "intel7_3    6362\n",
       "fun7_3      6362\n",
       "amb7_3      6362\n",
       "shar7_3     6362\n",
       "attr4_3     5419\n",
       "sinc4_3     5419\n",
       "intel4_3    5419\n",
       "fun4_3      5419\n",
       "amb4_3      5419\n",
       "shar4_3     5419\n",
       "attr2_3     5419\n",
       "sinc2_3     5419\n",
       "intel2_3    5419\n",
       "fun2_3      5419\n",
       "amb2_3      5419\n",
       "shar2_3     6362\n",
       "attr3_3     4404\n",
       "sinc3_3     4404\n",
       "intel3_3    4404\n",
       "fun3_3      4404\n",
       "amb3_3      4404\n",
       "attr5_3     6362\n",
       "sinc5_3     6362\n",
       "intel5_3    6362\n",
       "fun5_3      6362\n",
       "amb5_3      6362\n",
       "dtype: int64"
      ]
     },
     "execution_count": 5,
     "metadata": {},
     "output_type": "execute_result"
    }
   ],
   "source": [
    "\n",
    "df.isnull().sum()"
   ]
  },
  {
   "attachments": {},
   "cell_type": "markdown",
   "metadata": {},
   "source": [
    "## General characteristics of the dataset demographic.\n",
    "\n",
    "Each participant in the study had a unique number (\"iid\"). The original dataset contains several rows for each iid, each row corresponding to a different partner that the person with the given iid met during speed dating. \n",
    "\n",
    "I grouped the dataset by the iid in order to count the number of unique participants in the study."
   ]
  },
  {
   "cell_type": "code",
   "execution_count": 6,
   "metadata": {},
   "outputs": [
    {
     "name": "stdout",
     "output_type": "stream",
     "text": [
      "Total number of participants in this study: 551\n"
     ]
    }
   ],
   "source": [
    "df_iid = df.groupby(\"iid\").mean(numeric_only=True).reset_index(drop=False)\n",
    "\n",
    "print(f\"Total number of participants in this study: {len(df_iid)}\")"
   ]
  },
  {
   "attachments": {},
   "cell_type": "markdown",
   "metadata": {},
   "source": [
    "In the dataset, the column \"gender\" contains information whether the participant was male (1) or female (0). To avoid confusion, I chose to create a column \"gender_name\" where the gender of each participant is indicated explicitly as \"Male\" or \"Female\"."
   ]
  },
  {
   "cell_type": "code",
   "execution_count": 7,
   "metadata": {},
   "outputs": [
    {
     "data": {
      "text/html": [
       "<div>\n",
       "<style scoped>\n",
       "    .dataframe tbody tr th:only-of-type {\n",
       "        vertical-align: middle;\n",
       "    }\n",
       "\n",
       "    .dataframe tbody tr th {\n",
       "        vertical-align: top;\n",
       "    }\n",
       "\n",
       "    .dataframe thead th {\n",
       "        text-align: right;\n",
       "    }\n",
       "</style>\n",
       "<table border=\"1\" class=\"dataframe\">\n",
       "  <thead>\n",
       "    <tr style=\"text-align: right;\">\n",
       "      <th></th>\n",
       "      <th>iid</th>\n",
       "      <th>gender</th>\n",
       "      <th>age</th>\n",
       "      <th>gender_name</th>\n",
       "    </tr>\n",
       "  </thead>\n",
       "  <tbody>\n",
       "    <tr>\n",
       "      <th>0</th>\n",
       "      <td>1</td>\n",
       "      <td>0.0</td>\n",
       "      <td>21.0</td>\n",
       "      <td>Female</td>\n",
       "    </tr>\n",
       "    <tr>\n",
       "      <th>1</th>\n",
       "      <td>2</td>\n",
       "      <td>0.0</td>\n",
       "      <td>24.0</td>\n",
       "      <td>Female</td>\n",
       "    </tr>\n",
       "    <tr>\n",
       "      <th>2</th>\n",
       "      <td>3</td>\n",
       "      <td>0.0</td>\n",
       "      <td>25.0</td>\n",
       "      <td>Female</td>\n",
       "    </tr>\n",
       "    <tr>\n",
       "      <th>3</th>\n",
       "      <td>4</td>\n",
       "      <td>0.0</td>\n",
       "      <td>23.0</td>\n",
       "      <td>Female</td>\n",
       "    </tr>\n",
       "    <tr>\n",
       "      <th>4</th>\n",
       "      <td>5</td>\n",
       "      <td>0.0</td>\n",
       "      <td>21.0</td>\n",
       "      <td>Female</td>\n",
       "    </tr>\n",
       "  </tbody>\n",
       "</table>\n",
       "</div>"
      ],
      "text/plain": [
       "   iid  gender   age gender_name\n",
       "0    1     0.0  21.0      Female\n",
       "1    2     0.0  24.0      Female\n",
       "2    3     0.0  25.0      Female\n",
       "3    4     0.0  23.0      Female\n",
       "4    5     0.0  21.0      Female"
      ]
     },
     "execution_count": 7,
     "metadata": {},
     "output_type": "execute_result"
    }
   ],
   "source": [
    "df_iid[\"gender_name\"] = df_iid['gender'].apply(lambda x: \"Male\" if x==1 else \"Female\")\n",
    "df_iid[['iid', 'gender', 'age', 'gender_name']].head()\n"
   ]
  },
  {
   "cell_type": "markdown",
   "metadata": {},
   "source": [
    "Each iid corresponds to a unique participant. I used the dataset grouped by iid to count the number of unique values in column \"iid\" to determine the total number of participants. I also used the dataset to count the number of men and women who participated in the study."
   ]
  },
  {
   "cell_type": "code",
   "execution_count": 8,
   "metadata": {},
   "outputs": [
    {
     "data": {
      "text/html": [
       "<div>\n",
       "<style scoped>\n",
       "    .dataframe tbody tr th:only-of-type {\n",
       "        vertical-align: middle;\n",
       "    }\n",
       "\n",
       "    .dataframe tbody tr th {\n",
       "        vertical-align: top;\n",
       "    }\n",
       "\n",
       "    .dataframe thead th {\n",
       "        text-align: right;\n",
       "    }\n",
       "</style>\n",
       "<table border=\"1\" class=\"dataframe\">\n",
       "  <thead>\n",
       "    <tr style=\"text-align: right;\">\n",
       "      <th></th>\n",
       "      <th>iid</th>\n",
       "      <th>id</th>\n",
       "      <th>gender</th>\n",
       "      <th>idg</th>\n",
       "      <th>condtn</th>\n",
       "      <th>wave</th>\n",
       "      <th>round</th>\n",
       "      <th>position</th>\n",
       "      <th>positin1</th>\n",
       "      <th>order</th>\n",
       "      <th>partner</th>\n",
       "      <th>pid</th>\n",
       "      <th>match</th>\n",
       "      <th>int_corr</th>\n",
       "      <th>samerace</th>\n",
       "      <th>age_o</th>\n",
       "      <th>race_o</th>\n",
       "      <th>pf_o_att</th>\n",
       "      <th>pf_o_sin</th>\n",
       "      <th>pf_o_int</th>\n",
       "      <th>pf_o_fun</th>\n",
       "      <th>pf_o_amb</th>\n",
       "      <th>pf_o_sha</th>\n",
       "      <th>dec_o</th>\n",
       "      <th>attr_o</th>\n",
       "      <th>sinc_o</th>\n",
       "      <th>intel_o</th>\n",
       "      <th>fun_o</th>\n",
       "      <th>amb_o</th>\n",
       "      <th>shar_o</th>\n",
       "      <th>like_o</th>\n",
       "      <th>prob_o</th>\n",
       "      <th>met_o</th>\n",
       "      <th>age</th>\n",
       "      <th>field_cd</th>\n",
       "      <th>race</th>\n",
       "      <th>imprace</th>\n",
       "      <th>imprelig</th>\n",
       "      <th>goal</th>\n",
       "      <th>date</th>\n",
       "      <th>go_out</th>\n",
       "      <th>career_c</th>\n",
       "      <th>sports</th>\n",
       "      <th>tvsports</th>\n",
       "      <th>exercise</th>\n",
       "      <th>dining</th>\n",
       "      <th>museums</th>\n",
       "      <th>art</th>\n",
       "      <th>hiking</th>\n",
       "      <th>gaming</th>\n",
       "      <th>clubbing</th>\n",
       "      <th>reading</th>\n",
       "      <th>tv</th>\n",
       "      <th>theater</th>\n",
       "      <th>movies</th>\n",
       "      <th>concerts</th>\n",
       "      <th>music</th>\n",
       "      <th>shopping</th>\n",
       "      <th>yoga</th>\n",
       "      <th>exphappy</th>\n",
       "      <th>expnum</th>\n",
       "      <th>attr1_1</th>\n",
       "      <th>sinc1_1</th>\n",
       "      <th>intel1_1</th>\n",
       "      <th>fun1_1</th>\n",
       "      <th>amb1_1</th>\n",
       "      <th>shar1_1</th>\n",
       "      <th>attr4_1</th>\n",
       "      <th>sinc4_1</th>\n",
       "      <th>intel4_1</th>\n",
       "      <th>fun4_1</th>\n",
       "      <th>amb4_1</th>\n",
       "      <th>shar4_1</th>\n",
       "      <th>attr2_1</th>\n",
       "      <th>sinc2_1</th>\n",
       "      <th>intel2_1</th>\n",
       "      <th>fun2_1</th>\n",
       "      <th>amb2_1</th>\n",
       "      <th>shar2_1</th>\n",
       "      <th>attr3_1</th>\n",
       "      <th>sinc3_1</th>\n",
       "      <th>fun3_1</th>\n",
       "      <th>intel3_1</th>\n",
       "      <th>amb3_1</th>\n",
       "      <th>attr5_1</th>\n",
       "      <th>sinc5_1</th>\n",
       "      <th>intel5_1</th>\n",
       "      <th>fun5_1</th>\n",
       "      <th>amb5_1</th>\n",
       "      <th>dec</th>\n",
       "      <th>attr</th>\n",
       "      <th>sinc</th>\n",
       "      <th>intel</th>\n",
       "      <th>fun</th>\n",
       "      <th>amb</th>\n",
       "      <th>shar</th>\n",
       "      <th>like</th>\n",
       "      <th>prob</th>\n",
       "      <th>met</th>\n",
       "      <th>match_es</th>\n",
       "      <th>attr1_s</th>\n",
       "      <th>sinc1_s</th>\n",
       "      <th>intel1_s</th>\n",
       "      <th>fun1_s</th>\n",
       "      <th>amb1_s</th>\n",
       "      <th>shar1_s</th>\n",
       "      <th>attr3_s</th>\n",
       "      <th>sinc3_s</th>\n",
       "      <th>intel3_s</th>\n",
       "      <th>fun3_s</th>\n",
       "      <th>amb3_s</th>\n",
       "      <th>satis_2</th>\n",
       "      <th>length</th>\n",
       "      <th>numdat_2</th>\n",
       "      <th>attr7_2</th>\n",
       "      <th>sinc7_2</th>\n",
       "      <th>intel7_2</th>\n",
       "      <th>fun7_2</th>\n",
       "      <th>amb7_2</th>\n",
       "      <th>shar7_2</th>\n",
       "      <th>attr1_2</th>\n",
       "      <th>sinc1_2</th>\n",
       "      <th>intel1_2</th>\n",
       "      <th>fun1_2</th>\n",
       "      <th>amb1_2</th>\n",
       "      <th>shar1_2</th>\n",
       "      <th>attr4_2</th>\n",
       "      <th>sinc4_2</th>\n",
       "      <th>intel4_2</th>\n",
       "      <th>fun4_2</th>\n",
       "      <th>amb4_2</th>\n",
       "      <th>shar4_2</th>\n",
       "      <th>attr2_2</th>\n",
       "      <th>sinc2_2</th>\n",
       "      <th>intel2_2</th>\n",
       "      <th>fun2_2</th>\n",
       "      <th>amb2_2</th>\n",
       "      <th>shar2_2</th>\n",
       "      <th>attr3_2</th>\n",
       "      <th>sinc3_2</th>\n",
       "      <th>intel3_2</th>\n",
       "      <th>fun3_2</th>\n",
       "      <th>amb3_2</th>\n",
       "      <th>attr5_2</th>\n",
       "      <th>sinc5_2</th>\n",
       "      <th>intel5_2</th>\n",
       "      <th>fun5_2</th>\n",
       "      <th>amb5_2</th>\n",
       "      <th>you_call</th>\n",
       "      <th>them_cal</th>\n",
       "      <th>date_3</th>\n",
       "      <th>numdat_3</th>\n",
       "      <th>num_in_3</th>\n",
       "      <th>attr1_3</th>\n",
       "      <th>sinc1_3</th>\n",
       "      <th>intel1_3</th>\n",
       "      <th>fun1_3</th>\n",
       "      <th>amb1_3</th>\n",
       "      <th>shar1_3</th>\n",
       "      <th>attr7_3</th>\n",
       "      <th>sinc7_3</th>\n",
       "      <th>intel7_3</th>\n",
       "      <th>fun7_3</th>\n",
       "      <th>amb7_3</th>\n",
       "      <th>shar7_3</th>\n",
       "      <th>attr4_3</th>\n",
       "      <th>sinc4_3</th>\n",
       "      <th>intel4_3</th>\n",
       "      <th>fun4_3</th>\n",
       "      <th>amb4_3</th>\n",
       "      <th>shar4_3</th>\n",
       "      <th>attr2_3</th>\n",
       "      <th>sinc2_3</th>\n",
       "      <th>intel2_3</th>\n",
       "      <th>fun2_3</th>\n",
       "      <th>amb2_3</th>\n",
       "      <th>shar2_3</th>\n",
       "      <th>attr3_3</th>\n",
       "      <th>sinc3_3</th>\n",
       "      <th>intel3_3</th>\n",
       "      <th>fun3_3</th>\n",
       "      <th>amb3_3</th>\n",
       "      <th>attr5_3</th>\n",
       "      <th>sinc5_3</th>\n",
       "      <th>intel5_3</th>\n",
       "      <th>fun5_3</th>\n",
       "      <th>amb5_3</th>\n",
       "      <th>gender_name</th>\n",
       "    </tr>\n",
       "  </thead>\n",
       "  <tbody>\n",
       "    <tr>\n",
       "      <th>10</th>\n",
       "      <td>11</td>\n",
       "      <td>1.0</td>\n",
       "      <td>1.0</td>\n",
       "      <td>2.0</td>\n",
       "      <td>1.0</td>\n",
       "      <td>1.0</td>\n",
       "      <td>10.0</td>\n",
       "      <td>5.5</td>\n",
       "      <td>NaN</td>\n",
       "      <td>5.5</td>\n",
       "      <td>5.5</td>\n",
       "      <td>5.5</td>\n",
       "      <td>0.0</td>\n",
       "      <td>0.056</td>\n",
       "      <td>0.6</td>\n",
       "      <td>23.6</td>\n",
       "      <td>3.0</td>\n",
       "      <td>20.409</td>\n",
       "      <td>14.318</td>\n",
       "      <td>23.227</td>\n",
       "      <td>22.318</td>\n",
       "      <td>10.318</td>\n",
       "      <td>9.409</td>\n",
       "      <td>0.4</td>\n",
       "      <td>5.6</td>\n",
       "      <td>8.8</td>\n",
       "      <td>8.2</td>\n",
       "      <td>5.4</td>\n",
       "      <td>6.4</td>\n",
       "      <td>5.222222</td>\n",
       "      <td>6.2</td>\n",
       "      <td>5.200000</td>\n",
       "      <td>1.9</td>\n",
       "      <td>27.0</td>\n",
       "      <td>8.0</td>\n",
       "      <td>2.0</td>\n",
       "      <td>7.0</td>\n",
       "      <td>3.0</td>\n",
       "      <td>1.0</td>\n",
       "      <td>5.0</td>\n",
       "      <td>4.0</td>\n",
       "      <td>2.0</td>\n",
       "      <td>8.0</td>\n",
       "      <td>7.0</td>\n",
       "      <td>2.0</td>\n",
       "      <td>6.0</td>\n",
       "      <td>7.0</td>\n",
       "      <td>5.0</td>\n",
       "      <td>5.0</td>\n",
       "      <td>5.0</td>\n",
       "      <td>4.0</td>\n",
       "      <td>9.0</td>\n",
       "      <td>2.0</td>\n",
       "      <td>4.0</td>\n",
       "      <td>8.0</td>\n",
       "      <td>7.0</td>\n",
       "      <td>8.0</td>\n",
       "      <td>5.0</td>\n",
       "      <td>1.0</td>\n",
       "      <td>7.0</td>\n",
       "      <td>3.0</td>\n",
       "      <td>35.0</td>\n",
       "      <td>20.0</td>\n",
       "      <td>20.0</td>\n",
       "      <td>20.0</td>\n",
       "      <td>0.0</td>\n",
       "      <td>5.0</td>\n",
       "      <td>NaN</td>\n",
       "      <td>NaN</td>\n",
       "      <td>NaN</td>\n",
       "      <td>NaN</td>\n",
       "      <td>NaN</td>\n",
       "      <td>NaN</td>\n",
       "      <td>25.0</td>\n",
       "      <td>5.0</td>\n",
       "      <td>20.0</td>\n",
       "      <td>20.0</td>\n",
       "      <td>25.0</td>\n",
       "      <td>5.0</td>\n",
       "      <td>8.0</td>\n",
       "      <td>9.0</td>\n",
       "      <td>7.0</td>\n",
       "      <td>8.0</td>\n",
       "      <td>5.0</td>\n",
       "      <td>NaN</td>\n",
       "      <td>NaN</td>\n",
       "      <td>NaN</td>\n",
       "      <td>NaN</td>\n",
       "      <td>NaN</td>\n",
       "      <td>0.0</td>\n",
       "      <td>6.8</td>\n",
       "      <td>7.8</td>\n",
       "      <td>7.2</td>\n",
       "      <td>7.6</td>\n",
       "      <td>7.10</td>\n",
       "      <td>5.10</td>\n",
       "      <td>6.4</td>\n",
       "      <td>3.5</td>\n",
       "      <td>1.900</td>\n",
       "      <td>0.0</td>\n",
       "      <td>NaN</td>\n",
       "      <td>NaN</td>\n",
       "      <td>NaN</td>\n",
       "      <td>NaN</td>\n",
       "      <td>NaN</td>\n",
       "      <td>NaN</td>\n",
       "      <td>NaN</td>\n",
       "      <td>NaN</td>\n",
       "      <td>NaN</td>\n",
       "      <td>NaN</td>\n",
       "      <td>NaN</td>\n",
       "      <td>7.0</td>\n",
       "      <td>2.0</td>\n",
       "      <td>NaN</td>\n",
       "      <td>NaN</td>\n",
       "      <td>NaN</td>\n",
       "      <td>NaN</td>\n",
       "      <td>NaN</td>\n",
       "      <td>NaN</td>\n",
       "      <td>NaN</td>\n",
       "      <td>19.51</td>\n",
       "      <td>17.07</td>\n",
       "      <td>17.07</td>\n",
       "      <td>17.07</td>\n",
       "      <td>12.20</td>\n",
       "      <td>17.07</td>\n",
       "      <td>NaN</td>\n",
       "      <td>NaN</td>\n",
       "      <td>NaN</td>\n",
       "      <td>NaN</td>\n",
       "      <td>NaN</td>\n",
       "      <td>NaN</td>\n",
       "      <td>NaN</td>\n",
       "      <td>NaN</td>\n",
       "      <td>NaN</td>\n",
       "      <td>NaN</td>\n",
       "      <td>NaN</td>\n",
       "      <td>NaN</td>\n",
       "      <td>8.0</td>\n",
       "      <td>8.0</td>\n",
       "      <td>8.0</td>\n",
       "      <td>6.0</td>\n",
       "      <td>5.0</td>\n",
       "      <td>NaN</td>\n",
       "      <td>NaN</td>\n",
       "      <td>NaN</td>\n",
       "      <td>NaN</td>\n",
       "      <td>NaN</td>\n",
       "      <td>0.0</td>\n",
       "      <td>0.0</td>\n",
       "      <td>0.0</td>\n",
       "      <td>NaN</td>\n",
       "      <td>NaN</td>\n",
       "      <td>35.0</td>\n",
       "      <td>25.0</td>\n",
       "      <td>15.0</td>\n",
       "      <td>15.0</td>\n",
       "      <td>0.0</td>\n",
       "      <td>10.0</td>\n",
       "      <td>NaN</td>\n",
       "      <td>NaN</td>\n",
       "      <td>NaN</td>\n",
       "      <td>NaN</td>\n",
       "      <td>NaN</td>\n",
       "      <td>NaN</td>\n",
       "      <td>NaN</td>\n",
       "      <td>NaN</td>\n",
       "      <td>NaN</td>\n",
       "      <td>NaN</td>\n",
       "      <td>NaN</td>\n",
       "      <td>NaN</td>\n",
       "      <td>NaN</td>\n",
       "      <td>NaN</td>\n",
       "      <td>NaN</td>\n",
       "      <td>NaN</td>\n",
       "      <td>NaN</td>\n",
       "      <td>NaN</td>\n",
       "      <td>7.0</td>\n",
       "      <td>8.0</td>\n",
       "      <td>7.0</td>\n",
       "      <td>7.0</td>\n",
       "      <td>5.0</td>\n",
       "      <td>NaN</td>\n",
       "      <td>NaN</td>\n",
       "      <td>NaN</td>\n",
       "      <td>NaN</td>\n",
       "      <td>NaN</td>\n",
       "      <td>Male</td>\n",
       "    </tr>\n",
       "    <tr>\n",
       "      <th>11</th>\n",
       "      <td>12</td>\n",
       "      <td>2.0</td>\n",
       "      <td>1.0</td>\n",
       "      <td>4.0</td>\n",
       "      <td>1.0</td>\n",
       "      <td>1.0</td>\n",
       "      <td>10.0</td>\n",
       "      <td>5.5</td>\n",
       "      <td>NaN</td>\n",
       "      <td>5.5</td>\n",
       "      <td>5.5</td>\n",
       "      <td>5.5</td>\n",
       "      <td>0.2</td>\n",
       "      <td>0.155</td>\n",
       "      <td>0.6</td>\n",
       "      <td>23.6</td>\n",
       "      <td>3.0</td>\n",
       "      <td>20.409</td>\n",
       "      <td>14.318</td>\n",
       "      <td>23.227</td>\n",
       "      <td>22.318</td>\n",
       "      <td>10.318</td>\n",
       "      <td>9.409</td>\n",
       "      <td>0.4</td>\n",
       "      <td>7.1</td>\n",
       "      <td>6.6</td>\n",
       "      <td>7.1</td>\n",
       "      <td>6.7</td>\n",
       "      <td>6.9</td>\n",
       "      <td>6.111111</td>\n",
       "      <td>6.9</td>\n",
       "      <td>4.200000</td>\n",
       "      <td>1.5</td>\n",
       "      <td>22.0</td>\n",
       "      <td>1.0</td>\n",
       "      <td>2.0</td>\n",
       "      <td>1.0</td>\n",
       "      <td>1.0</td>\n",
       "      <td>1.0</td>\n",
       "      <td>1.0</td>\n",
       "      <td>1.0</td>\n",
       "      <td>1.0</td>\n",
       "      <td>9.0</td>\n",
       "      <td>7.0</td>\n",
       "      <td>9.0</td>\n",
       "      <td>8.0</td>\n",
       "      <td>7.0</td>\n",
       "      <td>6.0</td>\n",
       "      <td>3.0</td>\n",
       "      <td>3.0</td>\n",
       "      <td>5.0</td>\n",
       "      <td>6.0</td>\n",
       "      <td>6.0</td>\n",
       "      <td>4.0</td>\n",
       "      <td>7.0</td>\n",
       "      <td>7.0</td>\n",
       "      <td>9.0</td>\n",
       "      <td>5.0</td>\n",
       "      <td>5.0</td>\n",
       "      <td>7.0</td>\n",
       "      <td>20.0</td>\n",
       "      <td>60.0</td>\n",
       "      <td>0.0</td>\n",
       "      <td>0.0</td>\n",
       "      <td>40.0</td>\n",
       "      <td>0.0</td>\n",
       "      <td>0.0</td>\n",
       "      <td>NaN</td>\n",
       "      <td>NaN</td>\n",
       "      <td>NaN</td>\n",
       "      <td>NaN</td>\n",
       "      <td>NaN</td>\n",
       "      <td>NaN</td>\n",
       "      <td>25.0</td>\n",
       "      <td>15.0</td>\n",
       "      <td>25.0</td>\n",
       "      <td>20.0</td>\n",
       "      <td>15.0</td>\n",
       "      <td>0.0</td>\n",
       "      <td>9.0</td>\n",
       "      <td>9.0</td>\n",
       "      <td>9.0</td>\n",
       "      <td>10.0</td>\n",
       "      <td>9.0</td>\n",
       "      <td>NaN</td>\n",
       "      <td>NaN</td>\n",
       "      <td>NaN</td>\n",
       "      <td>NaN</td>\n",
       "      <td>NaN</td>\n",
       "      <td>0.3</td>\n",
       "      <td>6.2</td>\n",
       "      <td>6.7</td>\n",
       "      <td>9.1</td>\n",
       "      <td>5.9</td>\n",
       "      <td>5.70</td>\n",
       "      <td>4.70</td>\n",
       "      <td>6.9</td>\n",
       "      <td>3.5</td>\n",
       "      <td>1.700</td>\n",
       "      <td>3.0</td>\n",
       "      <td>NaN</td>\n",
       "      <td>NaN</td>\n",
       "      <td>NaN</td>\n",
       "      <td>NaN</td>\n",
       "      <td>NaN</td>\n",
       "      <td>NaN</td>\n",
       "      <td>NaN</td>\n",
       "      <td>NaN</td>\n",
       "      <td>NaN</td>\n",
       "      <td>NaN</td>\n",
       "      <td>NaN</td>\n",
       "      <td>NaN</td>\n",
       "      <td>NaN</td>\n",
       "      <td>NaN</td>\n",
       "      <td>NaN</td>\n",
       "      <td>NaN</td>\n",
       "      <td>NaN</td>\n",
       "      <td>NaN</td>\n",
       "      <td>NaN</td>\n",
       "      <td>NaN</td>\n",
       "      <td>NaN</td>\n",
       "      <td>NaN</td>\n",
       "      <td>NaN</td>\n",
       "      <td>NaN</td>\n",
       "      <td>NaN</td>\n",
       "      <td>NaN</td>\n",
       "      <td>NaN</td>\n",
       "      <td>NaN</td>\n",
       "      <td>NaN</td>\n",
       "      <td>NaN</td>\n",
       "      <td>NaN</td>\n",
       "      <td>NaN</td>\n",
       "      <td>NaN</td>\n",
       "      <td>NaN</td>\n",
       "      <td>NaN</td>\n",
       "      <td>NaN</td>\n",
       "      <td>NaN</td>\n",
       "      <td>NaN</td>\n",
       "      <td>NaN</td>\n",
       "      <td>NaN</td>\n",
       "      <td>NaN</td>\n",
       "      <td>NaN</td>\n",
       "      <td>NaN</td>\n",
       "      <td>NaN</td>\n",
       "      <td>NaN</td>\n",
       "      <td>NaN</td>\n",
       "      <td>NaN</td>\n",
       "      <td>NaN</td>\n",
       "      <td>NaN</td>\n",
       "      <td>NaN</td>\n",
       "      <td>NaN</td>\n",
       "      <td>NaN</td>\n",
       "      <td>NaN</td>\n",
       "      <td>NaN</td>\n",
       "      <td>NaN</td>\n",
       "      <td>NaN</td>\n",
       "      <td>NaN</td>\n",
       "      <td>NaN</td>\n",
       "      <td>NaN</td>\n",
       "      <td>NaN</td>\n",
       "      <td>NaN</td>\n",
       "      <td>NaN</td>\n",
       "      <td>NaN</td>\n",
       "      <td>NaN</td>\n",
       "      <td>NaN</td>\n",
       "      <td>NaN</td>\n",
       "      <td>NaN</td>\n",
       "      <td>NaN</td>\n",
       "      <td>NaN</td>\n",
       "      <td>NaN</td>\n",
       "      <td>NaN</td>\n",
       "      <td>NaN</td>\n",
       "      <td>NaN</td>\n",
       "      <td>NaN</td>\n",
       "      <td>NaN</td>\n",
       "      <td>NaN</td>\n",
       "      <td>NaN</td>\n",
       "      <td>NaN</td>\n",
       "      <td>NaN</td>\n",
       "      <td>NaN</td>\n",
       "      <td>NaN</td>\n",
       "      <td>NaN</td>\n",
       "      <td>NaN</td>\n",
       "      <td>NaN</td>\n",
       "      <td>NaN</td>\n",
       "      <td>NaN</td>\n",
       "      <td>NaN</td>\n",
       "      <td>Male</td>\n",
       "    </tr>\n",
       "    <tr>\n",
       "      <th>12</th>\n",
       "      <td>13</td>\n",
       "      <td>3.0</td>\n",
       "      <td>1.0</td>\n",
       "      <td>6.0</td>\n",
       "      <td>1.0</td>\n",
       "      <td>1.0</td>\n",
       "      <td>10.0</td>\n",
       "      <td>5.5</td>\n",
       "      <td>NaN</td>\n",
       "      <td>5.5</td>\n",
       "      <td>5.5</td>\n",
       "      <td>5.5</td>\n",
       "      <td>0.4</td>\n",
       "      <td>0.119</td>\n",
       "      <td>0.3</td>\n",
       "      <td>23.6</td>\n",
       "      <td>3.0</td>\n",
       "      <td>20.409</td>\n",
       "      <td>14.318</td>\n",
       "      <td>23.227</td>\n",
       "      <td>22.318</td>\n",
       "      <td>10.318</td>\n",
       "      <td>9.409</td>\n",
       "      <td>0.4</td>\n",
       "      <td>4.8</td>\n",
       "      <td>7.9</td>\n",
       "      <td>8.8</td>\n",
       "      <td>7.0</td>\n",
       "      <td>5.9</td>\n",
       "      <td>5.888889</td>\n",
       "      <td>6.4</td>\n",
       "      <td>5.111111</td>\n",
       "      <td>1.6</td>\n",
       "      <td>22.0</td>\n",
       "      <td>1.0</td>\n",
       "      <td>4.0</td>\n",
       "      <td>3.0</td>\n",
       "      <td>5.0</td>\n",
       "      <td>2.0</td>\n",
       "      <td>7.0</td>\n",
       "      <td>1.0</td>\n",
       "      <td>1.0</td>\n",
       "      <td>7.0</td>\n",
       "      <td>8.0</td>\n",
       "      <td>2.0</td>\n",
       "      <td>9.0</td>\n",
       "      <td>5.0</td>\n",
       "      <td>6.0</td>\n",
       "      <td>4.0</td>\n",
       "      <td>7.0</td>\n",
       "      <td>7.0</td>\n",
       "      <td>6.0</td>\n",
       "      <td>8.0</td>\n",
       "      <td>10.0</td>\n",
       "      <td>8.0</td>\n",
       "      <td>9.0</td>\n",
       "      <td>9.0</td>\n",
       "      <td>8.0</td>\n",
       "      <td>1.0</td>\n",
       "      <td>3.0</td>\n",
       "      <td>4.0</td>\n",
       "      <td>19.0</td>\n",
       "      <td>18.0</td>\n",
       "      <td>19.0</td>\n",
       "      <td>18.0</td>\n",
       "      <td>14.0</td>\n",
       "      <td>12.0</td>\n",
       "      <td>NaN</td>\n",
       "      <td>NaN</td>\n",
       "      <td>NaN</td>\n",
       "      <td>NaN</td>\n",
       "      <td>NaN</td>\n",
       "      <td>NaN</td>\n",
       "      <td>20.0</td>\n",
       "      <td>16.0</td>\n",
       "      <td>16.0</td>\n",
       "      <td>18.0</td>\n",
       "      <td>16.0</td>\n",
       "      <td>14.0</td>\n",
       "      <td>4.0</td>\n",
       "      <td>7.0</td>\n",
       "      <td>8.0</td>\n",
       "      <td>8.0</td>\n",
       "      <td>3.0</td>\n",
       "      <td>NaN</td>\n",
       "      <td>NaN</td>\n",
       "      <td>NaN</td>\n",
       "      <td>NaN</td>\n",
       "      <td>NaN</td>\n",
       "      <td>1.0</td>\n",
       "      <td>10.0</td>\n",
       "      <td>10.0</td>\n",
       "      <td>10.0</td>\n",
       "      <td>10.0</td>\n",
       "      <td>10.00</td>\n",
       "      <td>10.00</td>\n",
       "      <td>10.0</td>\n",
       "      <td>10.0</td>\n",
       "      <td>1.625</td>\n",
       "      <td>NaN</td>\n",
       "      <td>NaN</td>\n",
       "      <td>NaN</td>\n",
       "      <td>NaN</td>\n",
       "      <td>NaN</td>\n",
       "      <td>NaN</td>\n",
       "      <td>NaN</td>\n",
       "      <td>NaN</td>\n",
       "      <td>NaN</td>\n",
       "      <td>NaN</td>\n",
       "      <td>NaN</td>\n",
       "      <td>NaN</td>\n",
       "      <td>10.0</td>\n",
       "      <td>3.0</td>\n",
       "      <td>1.0</td>\n",
       "      <td>NaN</td>\n",
       "      <td>NaN</td>\n",
       "      <td>NaN</td>\n",
       "      <td>NaN</td>\n",
       "      <td>NaN</td>\n",
       "      <td>NaN</td>\n",
       "      <td>20.00</td>\n",
       "      <td>20.00</td>\n",
       "      <td>20.00</td>\n",
       "      <td>20.00</td>\n",
       "      <td>7.50</td>\n",
       "      <td>12.50</td>\n",
       "      <td>NaN</td>\n",
       "      <td>NaN</td>\n",
       "      <td>NaN</td>\n",
       "      <td>NaN</td>\n",
       "      <td>NaN</td>\n",
       "      <td>NaN</td>\n",
       "      <td>NaN</td>\n",
       "      <td>NaN</td>\n",
       "      <td>NaN</td>\n",
       "      <td>NaN</td>\n",
       "      <td>NaN</td>\n",
       "      <td>NaN</td>\n",
       "      <td>3.0</td>\n",
       "      <td>7.0</td>\n",
       "      <td>7.0</td>\n",
       "      <td>8.0</td>\n",
       "      <td>2.0</td>\n",
       "      <td>NaN</td>\n",
       "      <td>NaN</td>\n",
       "      <td>NaN</td>\n",
       "      <td>NaN</td>\n",
       "      <td>NaN</td>\n",
       "      <td>NaN</td>\n",
       "      <td>NaN</td>\n",
       "      <td>NaN</td>\n",
       "      <td>NaN</td>\n",
       "      <td>NaN</td>\n",
       "      <td>NaN</td>\n",
       "      <td>NaN</td>\n",
       "      <td>NaN</td>\n",
       "      <td>NaN</td>\n",
       "      <td>NaN</td>\n",
       "      <td>NaN</td>\n",
       "      <td>NaN</td>\n",
       "      <td>NaN</td>\n",
       "      <td>NaN</td>\n",
       "      <td>NaN</td>\n",
       "      <td>NaN</td>\n",
       "      <td>NaN</td>\n",
       "      <td>NaN</td>\n",
       "      <td>NaN</td>\n",
       "      <td>NaN</td>\n",
       "      <td>NaN</td>\n",
       "      <td>NaN</td>\n",
       "      <td>NaN</td>\n",
       "      <td>NaN</td>\n",
       "      <td>NaN</td>\n",
       "      <td>NaN</td>\n",
       "      <td>NaN</td>\n",
       "      <td>NaN</td>\n",
       "      <td>NaN</td>\n",
       "      <td>NaN</td>\n",
       "      <td>NaN</td>\n",
       "      <td>NaN</td>\n",
       "      <td>NaN</td>\n",
       "      <td>NaN</td>\n",
       "      <td>NaN</td>\n",
       "      <td>NaN</td>\n",
       "      <td>NaN</td>\n",
       "      <td>NaN</td>\n",
       "      <td>NaN</td>\n",
       "      <td>Male</td>\n",
       "    </tr>\n",
       "    <tr>\n",
       "      <th>13</th>\n",
       "      <td>14</td>\n",
       "      <td>4.0</td>\n",
       "      <td>1.0</td>\n",
       "      <td>8.0</td>\n",
       "      <td>1.0</td>\n",
       "      <td>1.0</td>\n",
       "      <td>10.0</td>\n",
       "      <td>5.5</td>\n",
       "      <td>NaN</td>\n",
       "      <td>5.5</td>\n",
       "      <td>5.5</td>\n",
       "      <td>5.5</td>\n",
       "      <td>0.8</td>\n",
       "      <td>-0.057</td>\n",
       "      <td>0.6</td>\n",
       "      <td>23.6</td>\n",
       "      <td>3.0</td>\n",
       "      <td>20.409</td>\n",
       "      <td>14.318</td>\n",
       "      <td>23.227</td>\n",
       "      <td>22.318</td>\n",
       "      <td>10.318</td>\n",
       "      <td>9.409</td>\n",
       "      <td>0.8</td>\n",
       "      <td>8.2</td>\n",
       "      <td>7.6</td>\n",
       "      <td>7.4</td>\n",
       "      <td>7.6</td>\n",
       "      <td>6.6</td>\n",
       "      <td>7.444444</td>\n",
       "      <td>7.7</td>\n",
       "      <td>5.500000</td>\n",
       "      <td>1.6</td>\n",
       "      <td>23.0</td>\n",
       "      <td>1.0</td>\n",
       "      <td>2.0</td>\n",
       "      <td>1.0</td>\n",
       "      <td>1.0</td>\n",
       "      <td>2.0</td>\n",
       "      <td>4.0</td>\n",
       "      <td>1.0</td>\n",
       "      <td>1.0</td>\n",
       "      <td>10.0</td>\n",
       "      <td>6.0</td>\n",
       "      <td>8.0</td>\n",
       "      <td>8.0</td>\n",
       "      <td>3.0</td>\n",
       "      <td>3.0</td>\n",
       "      <td>10.0</td>\n",
       "      <td>8.0</td>\n",
       "      <td>8.0</td>\n",
       "      <td>6.0</td>\n",
       "      <td>7.0</td>\n",
       "      <td>3.0</td>\n",
       "      <td>10.0</td>\n",
       "      <td>6.0</td>\n",
       "      <td>8.0</td>\n",
       "      <td>6.0</td>\n",
       "      <td>1.0</td>\n",
       "      <td>8.0</td>\n",
       "      <td>15.0</td>\n",
       "      <td>30.0</td>\n",
       "      <td>5.0</td>\n",
       "      <td>15.0</td>\n",
       "      <td>40.0</td>\n",
       "      <td>5.0</td>\n",
       "      <td>5.0</td>\n",
       "      <td>NaN</td>\n",
       "      <td>NaN</td>\n",
       "      <td>NaN</td>\n",
       "      <td>NaN</td>\n",
       "      <td>NaN</td>\n",
       "      <td>NaN</td>\n",
       "      <td>20.0</td>\n",
       "      <td>15.0</td>\n",
       "      <td>20.0</td>\n",
       "      <td>20.0</td>\n",
       "      <td>5.0</td>\n",
       "      <td>20.0</td>\n",
       "      <td>9.0</td>\n",
       "      <td>9.0</td>\n",
       "      <td>9.0</td>\n",
       "      <td>9.0</td>\n",
       "      <td>9.0</td>\n",
       "      <td>NaN</td>\n",
       "      <td>NaN</td>\n",
       "      <td>NaN</td>\n",
       "      <td>NaN</td>\n",
       "      <td>NaN</td>\n",
       "      <td>1.0</td>\n",
       "      <td>7.2</td>\n",
       "      <td>8.1</td>\n",
       "      <td>7.8</td>\n",
       "      <td>8.2</td>\n",
       "      <td>8.70</td>\n",
       "      <td>8.30</td>\n",
       "      <td>7.5</td>\n",
       "      <td>7.3</td>\n",
       "      <td>1.600</td>\n",
       "      <td>NaN</td>\n",
       "      <td>NaN</td>\n",
       "      <td>NaN</td>\n",
       "      <td>NaN</td>\n",
       "      <td>NaN</td>\n",
       "      <td>NaN</td>\n",
       "      <td>NaN</td>\n",
       "      <td>NaN</td>\n",
       "      <td>NaN</td>\n",
       "      <td>NaN</td>\n",
       "      <td>NaN</td>\n",
       "      <td>NaN</td>\n",
       "      <td>6.0</td>\n",
       "      <td>3.0</td>\n",
       "      <td>NaN</td>\n",
       "      <td>NaN</td>\n",
       "      <td>NaN</td>\n",
       "      <td>NaN</td>\n",
       "      <td>NaN</td>\n",
       "      <td>NaN</td>\n",
       "      <td>NaN</td>\n",
       "      <td>20.00</td>\n",
       "      <td>14.29</td>\n",
       "      <td>17.14</td>\n",
       "      <td>22.86</td>\n",
       "      <td>14.29</td>\n",
       "      <td>11.43</td>\n",
       "      <td>NaN</td>\n",
       "      <td>NaN</td>\n",
       "      <td>NaN</td>\n",
       "      <td>NaN</td>\n",
       "      <td>NaN</td>\n",
       "      <td>NaN</td>\n",
       "      <td>NaN</td>\n",
       "      <td>NaN</td>\n",
       "      <td>NaN</td>\n",
       "      <td>NaN</td>\n",
       "      <td>NaN</td>\n",
       "      <td>NaN</td>\n",
       "      <td>9.0</td>\n",
       "      <td>9.0</td>\n",
       "      <td>9.0</td>\n",
       "      <td>9.0</td>\n",
       "      <td>9.0</td>\n",
       "      <td>NaN</td>\n",
       "      <td>NaN</td>\n",
       "      <td>NaN</td>\n",
       "      <td>NaN</td>\n",
       "      <td>NaN</td>\n",
       "      <td>1.0</td>\n",
       "      <td>1.0</td>\n",
       "      <td>0.0</td>\n",
       "      <td>NaN</td>\n",
       "      <td>NaN</td>\n",
       "      <td>30.0</td>\n",
       "      <td>10.0</td>\n",
       "      <td>20.0</td>\n",
       "      <td>30.0</td>\n",
       "      <td>5.0</td>\n",
       "      <td>5.0</td>\n",
       "      <td>NaN</td>\n",
       "      <td>NaN</td>\n",
       "      <td>NaN</td>\n",
       "      <td>NaN</td>\n",
       "      <td>NaN</td>\n",
       "      <td>NaN</td>\n",
       "      <td>NaN</td>\n",
       "      <td>NaN</td>\n",
       "      <td>NaN</td>\n",
       "      <td>NaN</td>\n",
       "      <td>NaN</td>\n",
       "      <td>NaN</td>\n",
       "      <td>NaN</td>\n",
       "      <td>NaN</td>\n",
       "      <td>NaN</td>\n",
       "      <td>NaN</td>\n",
       "      <td>NaN</td>\n",
       "      <td>NaN</td>\n",
       "      <td>9.0</td>\n",
       "      <td>9.0</td>\n",
       "      <td>9.0</td>\n",
       "      <td>9.0</td>\n",
       "      <td>9.0</td>\n",
       "      <td>NaN</td>\n",
       "      <td>NaN</td>\n",
       "      <td>NaN</td>\n",
       "      <td>NaN</td>\n",
       "      <td>NaN</td>\n",
       "      <td>Male</td>\n",
       "    </tr>\n",
       "    <tr>\n",
       "      <th>14</th>\n",
       "      <td>15</td>\n",
       "      <td>5.0</td>\n",
       "      <td>1.0</td>\n",
       "      <td>10.0</td>\n",
       "      <td>1.0</td>\n",
       "      <td>1.0</td>\n",
       "      <td>10.0</td>\n",
       "      <td>5.5</td>\n",
       "      <td>NaN</td>\n",
       "      <td>5.5</td>\n",
       "      <td>5.5</td>\n",
       "      <td>5.5</td>\n",
       "      <td>0.3</td>\n",
       "      <td>0.052</td>\n",
       "      <td>0.0</td>\n",
       "      <td>23.6</td>\n",
       "      <td>3.0</td>\n",
       "      <td>20.409</td>\n",
       "      <td>14.318</td>\n",
       "      <td>23.227</td>\n",
       "      <td>22.318</td>\n",
       "      <td>10.318</td>\n",
       "      <td>9.409</td>\n",
       "      <td>0.3</td>\n",
       "      <td>5.7</td>\n",
       "      <td>7.6</td>\n",
       "      <td>7.7</td>\n",
       "      <td>7.2</td>\n",
       "      <td>6.5</td>\n",
       "      <td>6.666667</td>\n",
       "      <td>6.3</td>\n",
       "      <td>4.777778</td>\n",
       "      <td>1.7</td>\n",
       "      <td>24.0</td>\n",
       "      <td>1.0</td>\n",
       "      <td>3.0</td>\n",
       "      <td>3.0</td>\n",
       "      <td>1.0</td>\n",
       "      <td>1.0</td>\n",
       "      <td>4.0</td>\n",
       "      <td>1.0</td>\n",
       "      <td>1.0</td>\n",
       "      <td>9.0</td>\n",
       "      <td>7.0</td>\n",
       "      <td>9.0</td>\n",
       "      <td>7.0</td>\n",
       "      <td>4.0</td>\n",
       "      <td>3.0</td>\n",
       "      <td>6.0</td>\n",
       "      <td>7.0</td>\n",
       "      <td>9.0</td>\n",
       "      <td>8.0</td>\n",
       "      <td>6.0</td>\n",
       "      <td>9.0</td>\n",
       "      <td>9.0</td>\n",
       "      <td>6.0</td>\n",
       "      <td>7.0</td>\n",
       "      <td>2.0</td>\n",
       "      <td>1.0</td>\n",
       "      <td>5.0</td>\n",
       "      <td>9.0</td>\n",
       "      <td>30.0</td>\n",
       "      <td>10.0</td>\n",
       "      <td>20.0</td>\n",
       "      <td>10.0</td>\n",
       "      <td>10.0</td>\n",
       "      <td>20.0</td>\n",
       "      <td>NaN</td>\n",
       "      <td>NaN</td>\n",
       "      <td>NaN</td>\n",
       "      <td>NaN</td>\n",
       "      <td>NaN</td>\n",
       "      <td>NaN</td>\n",
       "      <td>20.0</td>\n",
       "      <td>20.0</td>\n",
       "      <td>20.0</td>\n",
       "      <td>20.0</td>\n",
       "      <td>10.0</td>\n",
       "      <td>10.0</td>\n",
       "      <td>7.0</td>\n",
       "      <td>7.0</td>\n",
       "      <td>7.0</td>\n",
       "      <td>9.0</td>\n",
       "      <td>9.0</td>\n",
       "      <td>NaN</td>\n",
       "      <td>NaN</td>\n",
       "      <td>NaN</td>\n",
       "      <td>NaN</td>\n",
       "      <td>NaN</td>\n",
       "      <td>0.9</td>\n",
       "      <td>7.6</td>\n",
       "      <td>8.5</td>\n",
       "      <td>8.8</td>\n",
       "      <td>7.5</td>\n",
       "      <td>8.25</td>\n",
       "      <td>6.75</td>\n",
       "      <td>7.7</td>\n",
       "      <td>4.9</td>\n",
       "      <td>1.800</td>\n",
       "      <td>NaN</td>\n",
       "      <td>NaN</td>\n",
       "      <td>NaN</td>\n",
       "      <td>NaN</td>\n",
       "      <td>NaN</td>\n",
       "      <td>NaN</td>\n",
       "      <td>NaN</td>\n",
       "      <td>NaN</td>\n",
       "      <td>NaN</td>\n",
       "      <td>NaN</td>\n",
       "      <td>NaN</td>\n",
       "      <td>NaN</td>\n",
       "      <td>8.0</td>\n",
       "      <td>2.0</td>\n",
       "      <td>1.0</td>\n",
       "      <td>NaN</td>\n",
       "      <td>NaN</td>\n",
       "      <td>NaN</td>\n",
       "      <td>NaN</td>\n",
       "      <td>NaN</td>\n",
       "      <td>NaN</td>\n",
       "      <td>21.21</td>\n",
       "      <td>18.18</td>\n",
       "      <td>12.12</td>\n",
       "      <td>21.21</td>\n",
       "      <td>6.06</td>\n",
       "      <td>21.21</td>\n",
       "      <td>NaN</td>\n",
       "      <td>NaN</td>\n",
       "      <td>NaN</td>\n",
       "      <td>NaN</td>\n",
       "      <td>NaN</td>\n",
       "      <td>NaN</td>\n",
       "      <td>NaN</td>\n",
       "      <td>NaN</td>\n",
       "      <td>NaN</td>\n",
       "      <td>NaN</td>\n",
       "      <td>NaN</td>\n",
       "      <td>NaN</td>\n",
       "      <td>7.0</td>\n",
       "      <td>7.0</td>\n",
       "      <td>9.0</td>\n",
       "      <td>7.0</td>\n",
       "      <td>9.0</td>\n",
       "      <td>NaN</td>\n",
       "      <td>NaN</td>\n",
       "      <td>NaN</td>\n",
       "      <td>NaN</td>\n",
       "      <td>NaN</td>\n",
       "      <td>3.0</td>\n",
       "      <td>0.0</td>\n",
       "      <td>0.0</td>\n",
       "      <td>NaN</td>\n",
       "      <td>NaN</td>\n",
       "      <td>30.0</td>\n",
       "      <td>10.0</td>\n",
       "      <td>20.0</td>\n",
       "      <td>20.0</td>\n",
       "      <td>5.0</td>\n",
       "      <td>15.0</td>\n",
       "      <td>NaN</td>\n",
       "      <td>NaN</td>\n",
       "      <td>NaN</td>\n",
       "      <td>NaN</td>\n",
       "      <td>NaN</td>\n",
       "      <td>NaN</td>\n",
       "      <td>NaN</td>\n",
       "      <td>NaN</td>\n",
       "      <td>NaN</td>\n",
       "      <td>NaN</td>\n",
       "      <td>NaN</td>\n",
       "      <td>NaN</td>\n",
       "      <td>NaN</td>\n",
       "      <td>NaN</td>\n",
       "      <td>NaN</td>\n",
       "      <td>NaN</td>\n",
       "      <td>NaN</td>\n",
       "      <td>NaN</td>\n",
       "      <td>7.0</td>\n",
       "      <td>7.0</td>\n",
       "      <td>9.0</td>\n",
       "      <td>7.0</td>\n",
       "      <td>9.0</td>\n",
       "      <td>NaN</td>\n",
       "      <td>NaN</td>\n",
       "      <td>NaN</td>\n",
       "      <td>NaN</td>\n",
       "      <td>NaN</td>\n",
       "      <td>Male</td>\n",
       "    </tr>\n",
       "  </tbody>\n",
       "</table>\n",
       "</div>"
      ],
      "text/plain": [
       "    iid   id  gender   idg  condtn  wave  round  position  positin1  order  \\\n",
       "10   11  1.0     1.0   2.0     1.0   1.0   10.0       5.5       NaN    5.5   \n",
       "11   12  2.0     1.0   4.0     1.0   1.0   10.0       5.5       NaN    5.5   \n",
       "12   13  3.0     1.0   6.0     1.0   1.0   10.0       5.5       NaN    5.5   \n",
       "13   14  4.0     1.0   8.0     1.0   1.0   10.0       5.5       NaN    5.5   \n",
       "14   15  5.0     1.0  10.0     1.0   1.0   10.0       5.5       NaN    5.5   \n",
       "\n",
       "    partner  pid  match  int_corr  samerace  age_o  race_o  pf_o_att  \\\n",
       "10      5.5  5.5    0.0     0.056       0.6   23.6     3.0    20.409   \n",
       "11      5.5  5.5    0.2     0.155       0.6   23.6     3.0    20.409   \n",
       "12      5.5  5.5    0.4     0.119       0.3   23.6     3.0    20.409   \n",
       "13      5.5  5.5    0.8    -0.057       0.6   23.6     3.0    20.409   \n",
       "14      5.5  5.5    0.3     0.052       0.0   23.6     3.0    20.409   \n",
       "\n",
       "    pf_o_sin  pf_o_int  pf_o_fun  pf_o_amb  pf_o_sha  dec_o  attr_o  sinc_o  \\\n",
       "10    14.318    23.227    22.318    10.318     9.409    0.4     5.6     8.8   \n",
       "11    14.318    23.227    22.318    10.318     9.409    0.4     7.1     6.6   \n",
       "12    14.318    23.227    22.318    10.318     9.409    0.4     4.8     7.9   \n",
       "13    14.318    23.227    22.318    10.318     9.409    0.8     8.2     7.6   \n",
       "14    14.318    23.227    22.318    10.318     9.409    0.3     5.7     7.6   \n",
       "\n",
       "    intel_o  fun_o  amb_o    shar_o  like_o    prob_o  met_o   age  field_cd  \\\n",
       "10      8.2    5.4    6.4  5.222222     6.2  5.200000    1.9  27.0       8.0   \n",
       "11      7.1    6.7    6.9  6.111111     6.9  4.200000    1.5  22.0       1.0   \n",
       "12      8.8    7.0    5.9  5.888889     6.4  5.111111    1.6  22.0       1.0   \n",
       "13      7.4    7.6    6.6  7.444444     7.7  5.500000    1.6  23.0       1.0   \n",
       "14      7.7    7.2    6.5  6.666667     6.3  4.777778    1.7  24.0       1.0   \n",
       "\n",
       "    race  imprace  imprelig  goal  date  go_out  career_c  sports  tvsports  \\\n",
       "10   2.0      7.0       3.0   1.0   5.0     4.0       2.0     8.0       7.0   \n",
       "11   2.0      1.0       1.0   1.0   1.0     1.0       1.0     9.0       7.0   \n",
       "12   4.0      3.0       5.0   2.0   7.0     1.0       1.0     7.0       8.0   \n",
       "13   2.0      1.0       1.0   2.0   4.0     1.0       1.0    10.0       6.0   \n",
       "14   3.0      3.0       1.0   1.0   4.0     1.0       1.0     9.0       7.0   \n",
       "\n",
       "    exercise  dining  museums  art  hiking  gaming  clubbing  reading   tv  \\\n",
       "10       2.0     6.0      7.0  5.0     5.0     5.0       4.0      9.0  2.0   \n",
       "11       9.0     8.0      7.0  6.0     3.0     3.0       5.0      6.0  6.0   \n",
       "12       2.0     9.0      5.0  6.0     4.0     7.0       7.0      6.0  8.0   \n",
       "13       8.0     8.0      3.0  3.0    10.0     8.0       8.0      6.0  7.0   \n",
       "14       9.0     7.0      4.0  3.0     6.0     7.0       9.0      8.0  6.0   \n",
       "\n",
       "    theater  movies  concerts  music  shopping  yoga  exphappy  expnum  \\\n",
       "10      4.0     8.0       7.0    8.0       5.0   1.0       7.0     3.0   \n",
       "11      4.0     7.0       7.0    9.0       5.0   5.0       7.0    20.0   \n",
       "12     10.0     8.0       9.0    9.0       8.0   1.0       3.0     4.0   \n",
       "13      3.0    10.0       6.0    8.0       6.0   1.0       8.0    15.0   \n",
       "14      9.0     9.0       6.0    7.0       2.0   1.0       5.0     9.0   \n",
       "\n",
       "    attr1_1  sinc1_1  intel1_1  fun1_1  amb1_1  shar1_1  attr4_1  sinc4_1  \\\n",
       "10     35.0     20.0      20.0    20.0     0.0      5.0      NaN      NaN   \n",
       "11     60.0      0.0       0.0    40.0     0.0      0.0      NaN      NaN   \n",
       "12     19.0     18.0      19.0    18.0    14.0     12.0      NaN      NaN   \n",
       "13     30.0      5.0      15.0    40.0     5.0      5.0      NaN      NaN   \n",
       "14     30.0     10.0      20.0    10.0    10.0     20.0      NaN      NaN   \n",
       "\n",
       "    intel4_1  fun4_1  amb4_1  shar4_1  attr2_1  sinc2_1  intel2_1  fun2_1  \\\n",
       "10       NaN     NaN     NaN      NaN     25.0      5.0      20.0    20.0   \n",
       "11       NaN     NaN     NaN      NaN     25.0     15.0      25.0    20.0   \n",
       "12       NaN     NaN     NaN      NaN     20.0     16.0      16.0    18.0   \n",
       "13       NaN     NaN     NaN      NaN     20.0     15.0      20.0    20.0   \n",
       "14       NaN     NaN     NaN      NaN     20.0     20.0      20.0    20.0   \n",
       "\n",
       "    amb2_1  shar2_1  attr3_1  sinc3_1  fun3_1  intel3_1  amb3_1  attr5_1  \\\n",
       "10    25.0      5.0      8.0      9.0     7.0       8.0     5.0      NaN   \n",
       "11    15.0      0.0      9.0      9.0     9.0      10.0     9.0      NaN   \n",
       "12    16.0     14.0      4.0      7.0     8.0       8.0     3.0      NaN   \n",
       "13     5.0     20.0      9.0      9.0     9.0       9.0     9.0      NaN   \n",
       "14    10.0     10.0      7.0      7.0     7.0       9.0     9.0      NaN   \n",
       "\n",
       "    sinc5_1  intel5_1  fun5_1  amb5_1  dec  attr  sinc  intel   fun    amb  \\\n",
       "10      NaN       NaN     NaN     NaN  0.0   6.8   7.8    7.2   7.6   7.10   \n",
       "11      NaN       NaN     NaN     NaN  0.3   6.2   6.7    9.1   5.9   5.70   \n",
       "12      NaN       NaN     NaN     NaN  1.0  10.0  10.0   10.0  10.0  10.00   \n",
       "13      NaN       NaN     NaN     NaN  1.0   7.2   8.1    7.8   8.2   8.70   \n",
       "14      NaN       NaN     NaN     NaN  0.9   7.6   8.5    8.8   7.5   8.25   \n",
       "\n",
       "     shar  like  prob    met  match_es  attr1_s  sinc1_s  intel1_s  fun1_s  \\\n",
       "10   5.10   6.4   3.5  1.900       0.0      NaN      NaN       NaN     NaN   \n",
       "11   4.70   6.9   3.5  1.700       3.0      NaN      NaN       NaN     NaN   \n",
       "12  10.00  10.0  10.0  1.625       NaN      NaN      NaN       NaN     NaN   \n",
       "13   8.30   7.5   7.3  1.600       NaN      NaN      NaN       NaN     NaN   \n",
       "14   6.75   7.7   4.9  1.800       NaN      NaN      NaN       NaN     NaN   \n",
       "\n",
       "    amb1_s  shar1_s  attr3_s  sinc3_s  intel3_s  fun3_s  amb3_s  satis_2  \\\n",
       "10     NaN      NaN      NaN      NaN       NaN     NaN     NaN      7.0   \n",
       "11     NaN      NaN      NaN      NaN       NaN     NaN     NaN      NaN   \n",
       "12     NaN      NaN      NaN      NaN       NaN     NaN     NaN     10.0   \n",
       "13     NaN      NaN      NaN      NaN       NaN     NaN     NaN      6.0   \n",
       "14     NaN      NaN      NaN      NaN       NaN     NaN     NaN      8.0   \n",
       "\n",
       "    length  numdat_2  attr7_2  sinc7_2  intel7_2  fun7_2  amb7_2  shar7_2  \\\n",
       "10     2.0       NaN      NaN      NaN       NaN     NaN     NaN      NaN   \n",
       "11     NaN       NaN      NaN      NaN       NaN     NaN     NaN      NaN   \n",
       "12     3.0       1.0      NaN      NaN       NaN     NaN     NaN      NaN   \n",
       "13     3.0       NaN      NaN      NaN       NaN     NaN     NaN      NaN   \n",
       "14     2.0       1.0      NaN      NaN       NaN     NaN     NaN      NaN   \n",
       "\n",
       "    attr1_2  sinc1_2  intel1_2  fun1_2  amb1_2  shar1_2  attr4_2  sinc4_2  \\\n",
       "10    19.51    17.07     17.07   17.07   12.20    17.07      NaN      NaN   \n",
       "11      NaN      NaN       NaN     NaN     NaN      NaN      NaN      NaN   \n",
       "12    20.00    20.00     20.00   20.00    7.50    12.50      NaN      NaN   \n",
       "13    20.00    14.29     17.14   22.86   14.29    11.43      NaN      NaN   \n",
       "14    21.21    18.18     12.12   21.21    6.06    21.21      NaN      NaN   \n",
       "\n",
       "    intel4_2  fun4_2  amb4_2  shar4_2  attr2_2  sinc2_2  intel2_2  fun2_2  \\\n",
       "10       NaN     NaN     NaN      NaN      NaN      NaN       NaN     NaN   \n",
       "11       NaN     NaN     NaN      NaN      NaN      NaN       NaN     NaN   \n",
       "12       NaN     NaN     NaN      NaN      NaN      NaN       NaN     NaN   \n",
       "13       NaN     NaN     NaN      NaN      NaN      NaN       NaN     NaN   \n",
       "14       NaN     NaN     NaN      NaN      NaN      NaN       NaN     NaN   \n",
       "\n",
       "    amb2_2  shar2_2  attr3_2  sinc3_2  intel3_2  fun3_2  amb3_2  attr5_2  \\\n",
       "10     NaN      NaN      8.0      8.0       8.0     6.0     5.0      NaN   \n",
       "11     NaN      NaN      NaN      NaN       NaN     NaN     NaN      NaN   \n",
       "12     NaN      NaN      3.0      7.0       7.0     8.0     2.0      NaN   \n",
       "13     NaN      NaN      9.0      9.0       9.0     9.0     9.0      NaN   \n",
       "14     NaN      NaN      7.0      7.0       9.0     7.0     9.0      NaN   \n",
       "\n",
       "    sinc5_2  intel5_2  fun5_2  amb5_2  you_call  them_cal  date_3  numdat_3  \\\n",
       "10      NaN       NaN     NaN     NaN       0.0       0.0     0.0       NaN   \n",
       "11      NaN       NaN     NaN     NaN       NaN       NaN     NaN       NaN   \n",
       "12      NaN       NaN     NaN     NaN       NaN       NaN     NaN       NaN   \n",
       "13      NaN       NaN     NaN     NaN       1.0       1.0     0.0       NaN   \n",
       "14      NaN       NaN     NaN     NaN       3.0       0.0     0.0       NaN   \n",
       "\n",
       "    num_in_3  attr1_3  sinc1_3  intel1_3  fun1_3  amb1_3  shar1_3  attr7_3  \\\n",
       "10       NaN     35.0     25.0      15.0    15.0     0.0     10.0      NaN   \n",
       "11       NaN      NaN      NaN       NaN     NaN     NaN      NaN      NaN   \n",
       "12       NaN      NaN      NaN       NaN     NaN     NaN      NaN      NaN   \n",
       "13       NaN     30.0     10.0      20.0    30.0     5.0      5.0      NaN   \n",
       "14       NaN     30.0     10.0      20.0    20.0     5.0     15.0      NaN   \n",
       "\n",
       "    sinc7_3  intel7_3  fun7_3  amb7_3  shar7_3  attr4_3  sinc4_3  intel4_3  \\\n",
       "10      NaN       NaN     NaN     NaN      NaN      NaN      NaN       NaN   \n",
       "11      NaN       NaN     NaN     NaN      NaN      NaN      NaN       NaN   \n",
       "12      NaN       NaN     NaN     NaN      NaN      NaN      NaN       NaN   \n",
       "13      NaN       NaN     NaN     NaN      NaN      NaN      NaN       NaN   \n",
       "14      NaN       NaN     NaN     NaN      NaN      NaN      NaN       NaN   \n",
       "\n",
       "    fun4_3  amb4_3  shar4_3  attr2_3  sinc2_3  intel2_3  fun2_3  amb2_3  \\\n",
       "10     NaN     NaN      NaN      NaN      NaN       NaN     NaN     NaN   \n",
       "11     NaN     NaN      NaN      NaN      NaN       NaN     NaN     NaN   \n",
       "12     NaN     NaN      NaN      NaN      NaN       NaN     NaN     NaN   \n",
       "13     NaN     NaN      NaN      NaN      NaN       NaN     NaN     NaN   \n",
       "14     NaN     NaN      NaN      NaN      NaN       NaN     NaN     NaN   \n",
       "\n",
       "    shar2_3  attr3_3  sinc3_3  intel3_3  fun3_3  amb3_3  attr5_3  sinc5_3  \\\n",
       "10      NaN      7.0      8.0       7.0     7.0     5.0      NaN      NaN   \n",
       "11      NaN      NaN      NaN       NaN     NaN     NaN      NaN      NaN   \n",
       "12      NaN      NaN      NaN       NaN     NaN     NaN      NaN      NaN   \n",
       "13      NaN      9.0      9.0       9.0     9.0     9.0      NaN      NaN   \n",
       "14      NaN      7.0      7.0       9.0     7.0     9.0      NaN      NaN   \n",
       "\n",
       "    intel5_3  fun5_3  amb5_3 gender_name  \n",
       "10       NaN     NaN     NaN        Male  \n",
       "11       NaN     NaN     NaN        Male  \n",
       "12       NaN     NaN     NaN        Male  \n",
       "13       NaN     NaN     NaN        Male  \n",
       "14       NaN     NaN     NaN        Male  "
      ]
     },
     "execution_count": 8,
     "metadata": {},
     "output_type": "execute_result"
    }
   ],
   "source": [
    "df_iid[df_iid[\"gender_name\"] == \"Male\"].head()"
   ]
  },
  {
   "cell_type": "code",
   "execution_count": 9,
   "metadata": {},
   "outputs": [
    {
     "name": "stdout",
     "output_type": "stream",
     "text": [
      "There were 277 male participants and 274 female participants in the study.\n"
     ]
    }
   ],
   "source": [
    "nb_women = len(df_iid[df_iid[\"gender_name\"] == \"Female\"])\n",
    "nb_men = len(df_iid[df_iid[\"gender_name\"] == \"Male\"])\n",
    "print(f\"There were {nb_men} male participants and {nb_women} female participants in the study.\")\n"
   ]
  },
  {
   "cell_type": "code",
   "execution_count": 10,
   "metadata": {},
   "outputs": [
    {
     "data": {
      "application/vnd.plotly.v1+json": {
       "config": {
        "plotlyServerURL": "https://plot.ly"
       },
       "data": [
        {
         "alignmentgroup": "True",
         "hovertemplate": "gender_name=%{x}<br>age=%{y}<extra></extra>",
         "legendgroup": "Female",
         "marker": {
          "color": "#F78FE4"
         },
         "name": "Female",
         "notched": false,
         "offsetgroup": "Female",
         "orientation": "v",
         "showlegend": true,
         "type": "box",
         "x": [
          "Female",
          "Female",
          "Female",
          "Female",
          "Female",
          "Female",
          "Female",
          "Female",
          "Female",
          "Female",
          "Female",
          "Female",
          "Female",
          "Female",
          "Female",
          "Female",
          "Female",
          "Female",
          "Female",
          "Female",
          "Female",
          "Female",
          "Female",
          "Female",
          "Female",
          "Female",
          "Female",
          "Female",
          "Female",
          "Female",
          "Female",
          "Female",
          "Female",
          "Female",
          "Female",
          "Female",
          "Female",
          "Female",
          "Female",
          "Female",
          "Female",
          "Female",
          "Female",
          "Female",
          "Female",
          "Female",
          "Female",
          "Female",
          "Female",
          "Female",
          "Female",
          "Female",
          "Female",
          "Female",
          "Female",
          "Female",
          "Female",
          "Female",
          "Female",
          "Female",
          "Female",
          "Female",
          "Female",
          "Female",
          "Female",
          "Female",
          "Female",
          "Female",
          "Female",
          "Female",
          "Female",
          "Female",
          "Female",
          "Female",
          "Female",
          "Female",
          "Female",
          "Female",
          "Female",
          "Female",
          "Female",
          "Female",
          "Female",
          "Female",
          "Female",
          "Female",
          "Female",
          "Female",
          "Female",
          "Female",
          "Female",
          "Female",
          "Female",
          "Female",
          "Female",
          "Female",
          "Female",
          "Female",
          "Female",
          "Female",
          "Female",
          "Female",
          "Female",
          "Female",
          "Female",
          "Female",
          "Female",
          "Female",
          "Female",
          "Female",
          "Female",
          "Female",
          "Female",
          "Female",
          "Female",
          "Female",
          "Female",
          "Female",
          "Female",
          "Female",
          "Female",
          "Female",
          "Female",
          "Female",
          "Female",
          "Female",
          "Female",
          "Female",
          "Female",
          "Female",
          "Female",
          "Female",
          "Female",
          "Female",
          "Female",
          "Female",
          "Female",
          "Female",
          "Female",
          "Female",
          "Female",
          "Female",
          "Female",
          "Female",
          "Female",
          "Female",
          "Female",
          "Female",
          "Female",
          "Female",
          "Female",
          "Female",
          "Female",
          "Female",
          "Female",
          "Female",
          "Female",
          "Female",
          "Female",
          "Female",
          "Female",
          "Female",
          "Female",
          "Female",
          "Female",
          "Female",
          "Female",
          "Female",
          "Female",
          "Female",
          "Female",
          "Female",
          "Female",
          "Female",
          "Female",
          "Female",
          "Female",
          "Female",
          "Female",
          "Female",
          "Female",
          "Female",
          "Female",
          "Female",
          "Female",
          "Female",
          "Female",
          "Female",
          "Female",
          "Female",
          "Female",
          "Female",
          "Female",
          "Female",
          "Female",
          "Female",
          "Female",
          "Female",
          "Female",
          "Female",
          "Female",
          "Female",
          "Female",
          "Female",
          "Female",
          "Female",
          "Female",
          "Female",
          "Female",
          "Female",
          "Female",
          "Female",
          "Female",
          "Female",
          "Female",
          "Female",
          "Female",
          "Female",
          "Female",
          "Female",
          "Female",
          "Female",
          "Female",
          "Female",
          "Female",
          "Female",
          "Female",
          "Female",
          "Female",
          "Female",
          "Female",
          "Female",
          "Female",
          "Female",
          "Female",
          "Female",
          "Female",
          "Female",
          "Female",
          "Female",
          "Female",
          "Female",
          "Female",
          "Female",
          "Female",
          "Female",
          "Female",
          "Female",
          "Female",
          "Female",
          "Female",
          "Female",
          "Female",
          "Female",
          "Female",
          "Female",
          "Female",
          "Female",
          "Female",
          "Female",
          "Female",
          "Female",
          "Female",
          "Female",
          "Female",
          "Female",
          "Female",
          "Female",
          "Female",
          "Female",
          "Female",
          "Female",
          "Female",
          "Female"
         ],
         "x0": " ",
         "xaxis": "x",
         "y": [
          21,
          24,
          25,
          23,
          21,
          23,
          22,
          25,
          26,
          26,
          21,
          27,
          21,
          27,
          25,
          23,
          22,
          26,
          22,
          23,
          24,
          27,
          30,
          21,
          25,
          26,
          27,
          23,
          24,
          23,
          22,
          null,
          null,
          29,
          28,
          26,
          24,
          27,
          23,
          34,
          22,
          23,
          26,
          27,
          28,
          25,
          35,
          32,
          30,
          22,
          23,
          23,
          27,
          23,
          25,
          29,
          29,
          20,
          21,
          20,
          21,
          21,
          21,
          19,
          20,
          21,
          27,
          24,
          23,
          26,
          null,
          24,
          33,
          23,
          24,
          36,
          26,
          27,
          28,
          31,
          28,
          27,
          28,
          27,
          27,
          30,
          28,
          29,
          23,
          28,
          22,
          35,
          30,
          24,
          22,
          22,
          24,
          24,
          27,
          25,
          24,
          23,
          30,
          25,
          25,
          22,
          22,
          26,
          23,
          31,
          23,
          25,
          28,
          29,
          28,
          27,
          25,
          22,
          23,
          24,
          34,
          27,
          34,
          26,
          29,
          26,
          28,
          33,
          22,
          26,
          24,
          24,
          25,
          25,
          27,
          26,
          29,
          26,
          26,
          32,
          28,
          26,
          24,
          24,
          23,
          23,
          25,
          30,
          30,
          28,
          21,
          22,
          24,
          35,
          34,
          21,
          33,
          28,
          29,
          22,
          27,
          34,
          25,
          23,
          30,
          36,
          29,
          30,
          29,
          22,
          34,
          23,
          33,
          32,
          26,
          24,
          null,
          26,
          21,
          33,
          31,
          35,
          29,
          25,
          22,
          24,
          27,
          27,
          26,
          26,
          24,
          38,
          33,
          24,
          28,
          27,
          23,
          25,
          26,
          25,
          24,
          21,
          30,
          28,
          26,
          22,
          24,
          33,
          25,
          25,
          29,
          25,
          28,
          22,
          25,
          22,
          27,
          28,
          30,
          27,
          22,
          23,
          23,
          23,
          29,
          27,
          24,
          29,
          55,
          29,
          26,
          24,
          24,
          25,
          25,
          29,
          30,
          25,
          34,
          30,
          27,
          25,
          27,
          26,
          27,
          26,
          23,
          24,
          25,
          26,
          25,
          26,
          28,
          26,
          23,
          null,
          23,
          23,
          23,
          27,
          30,
          23,
          26,
          28,
          26,
          22,
          27,
          25,
          24,
          26,
          24,
          29,
          22,
          22
         ],
         "y0": " ",
         "yaxis": "y"
        },
        {
         "alignmentgroup": "True",
         "hovertemplate": "gender_name=%{x}<br>age=%{y}<extra></extra>",
         "legendgroup": "Male",
         "marker": {
          "color": "#0460C9"
         },
         "name": "Male",
         "notched": false,
         "offsetgroup": "Male",
         "orientation": "v",
         "showlegend": true,
         "type": "box",
         "x": [
          "Male",
          "Male",
          "Male",
          "Male",
          "Male",
          "Male",
          "Male",
          "Male",
          "Male",
          "Male",
          "Male",
          "Male",
          "Male",
          "Male",
          "Male",
          "Male",
          "Male",
          "Male",
          "Male",
          "Male",
          "Male",
          "Male",
          "Male",
          "Male",
          "Male",
          "Male",
          "Male",
          "Male",
          "Male",
          "Male",
          "Male",
          "Male",
          "Male",
          "Male",
          "Male",
          "Male",
          "Male",
          "Male",
          "Male",
          "Male",
          "Male",
          "Male",
          "Male",
          "Male",
          "Male",
          "Male",
          "Male",
          "Male",
          "Male",
          "Male",
          "Male",
          "Male",
          "Male",
          "Male",
          "Male",
          "Male",
          "Male",
          "Male",
          "Male",
          "Male",
          "Male",
          "Male",
          "Male",
          "Male",
          "Male",
          "Male",
          "Male",
          "Male",
          "Male",
          "Male",
          "Male",
          "Male",
          "Male",
          "Male",
          "Male",
          "Male",
          "Male",
          "Male",
          "Male",
          "Male",
          "Male",
          "Male",
          "Male",
          "Male",
          "Male",
          "Male",
          "Male",
          "Male",
          "Male",
          "Male",
          "Male",
          "Male",
          "Male",
          "Male",
          "Male",
          "Male",
          "Male",
          "Male",
          "Male",
          "Male",
          "Male",
          "Male",
          "Male",
          "Male",
          "Male",
          "Male",
          "Male",
          "Male",
          "Male",
          "Male",
          "Male",
          "Male",
          "Male",
          "Male",
          "Male",
          "Male",
          "Male",
          "Male",
          "Male",
          "Male",
          "Male",
          "Male",
          "Male",
          "Male",
          "Male",
          "Male",
          "Male",
          "Male",
          "Male",
          "Male",
          "Male",
          "Male",
          "Male",
          "Male",
          "Male",
          "Male",
          "Male",
          "Male",
          "Male",
          "Male",
          "Male",
          "Male",
          "Male",
          "Male",
          "Male",
          "Male",
          "Male",
          "Male",
          "Male",
          "Male",
          "Male",
          "Male",
          "Male",
          "Male",
          "Male",
          "Male",
          "Male",
          "Male",
          "Male",
          "Male",
          "Male",
          "Male",
          "Male",
          "Male",
          "Male",
          "Male",
          "Male",
          "Male",
          "Male",
          "Male",
          "Male",
          "Male",
          "Male",
          "Male",
          "Male",
          "Male",
          "Male",
          "Male",
          "Male",
          "Male",
          "Male",
          "Male",
          "Male",
          "Male",
          "Male",
          "Male",
          "Male",
          "Male",
          "Male",
          "Male",
          "Male",
          "Male",
          "Male",
          "Male",
          "Male",
          "Male",
          "Male",
          "Male",
          "Male",
          "Male",
          "Male",
          "Male",
          "Male",
          "Male",
          "Male",
          "Male",
          "Male",
          "Male",
          "Male",
          "Male",
          "Male",
          "Male",
          "Male",
          "Male",
          "Male",
          "Male",
          "Male",
          "Male",
          "Male",
          "Male",
          "Male",
          "Male",
          "Male",
          "Male",
          "Male",
          "Male",
          "Male",
          "Male",
          "Male",
          "Male",
          "Male",
          "Male",
          "Male",
          "Male",
          "Male",
          "Male",
          "Male",
          "Male",
          "Male",
          "Male",
          "Male",
          "Male",
          "Male",
          "Male",
          "Male",
          "Male",
          "Male",
          "Male",
          "Male",
          "Male",
          "Male",
          "Male",
          "Male",
          "Male",
          "Male",
          "Male",
          "Male",
          "Male",
          "Male",
          "Male",
          "Male",
          "Male",
          "Male",
          "Male",
          "Male",
          "Male",
          "Male",
          "Male",
          "Male",
          "Male",
          "Male",
          "Male",
          "Male",
          "Male",
          "Male",
          "Male",
          "Male"
         ],
         "x0": " ",
         "xaxis": "x",
         "y": [
          27,
          22,
          22,
          23,
          24,
          25,
          30,
          27,
          28,
          24,
          25,
          30,
          23,
          24,
          24,
          28,
          26,
          30,
          22,
          25,
          27,
          23,
          21,
          28,
          28,
          23,
          29,
          22,
          27,
          28,
          26,
          21,
          22,
          22,
          25,
          24,
          28,
          26,
          26,
          29,
          39,
          28,
          30,
          22,
          32,
          26,
          27,
          25,
          22,
          21,
          24,
          25,
          28,
          27,
          22,
          18,
          22,
          21,
          22,
          22,
          21,
          null,
          20,
          19,
          26,
          32,
          37,
          29,
          28,
          23,
          28,
          29,
          22,
          27,
          26,
          27,
          30,
          26,
          23,
          23,
          28,
          28,
          29,
          27,
          22,
          34,
          25,
          24,
          26,
          21,
          27,
          25,
          28,
          24,
          25,
          23,
          26,
          27,
          26,
          24,
          26,
          25,
          27,
          27,
          28,
          32,
          28,
          23,
          26,
          24,
          28,
          42,
          30,
          31,
          29,
          27,
          28,
          32,
          25,
          25,
          27,
          33,
          25,
          33,
          29,
          24,
          21,
          26,
          25,
          32,
          25,
          25,
          27,
          23,
          27,
          27,
          24,
          22,
          22,
          27,
          28,
          34,
          27,
          28,
          28,
          27,
          32,
          25,
          29,
          23,
          27,
          32,
          27,
          25,
          30,
          29,
          26,
          36,
          29,
          30,
          23,
          29,
          24,
          25,
          28,
          27,
          null,
          null,
          34,
          30,
          23,
          27,
          30,
          27,
          27,
          24,
          25,
          28,
          27,
          27,
          29,
          30,
          27,
          25,
          26,
          29,
          24,
          29,
          29,
          26,
          31,
          29,
          22,
          23,
          30,
          27,
          24,
          24,
          23,
          27,
          34,
          27,
          26,
          29,
          31,
          26,
          30,
          24,
          28,
          24,
          28,
          27,
          27,
          21,
          24,
          25,
          27,
          26,
          30,
          28,
          26,
          22,
          23,
          25,
          30,
          29,
          27,
          33,
          27,
          33,
          23,
          33,
          23,
          23,
          30,
          28,
          31,
          29,
          32,
          24,
          29,
          28,
          29,
          29,
          30,
          20,
          30,
          32,
          26,
          25,
          23,
          27,
          24,
          24,
          36,
          25,
          26,
          26,
          24,
          23,
          29,
          22,
          32,
          22,
          24,
          23,
          23,
          24,
          23,
          24,
          30,
          30,
          30,
          28,
          30,
          27,
          25
         ],
         "y0": " ",
         "yaxis": "y"
        }
       ],
       "layout": {
        "boxmode": "overlay",
        "legend": {
         "title": {
          "text": "gender_name"
         },
         "tracegroupgap": 0
        },
        "margin": {
         "t": 60
        },
        "template": {
         "data": {
          "bar": [
           {
            "error_x": {
             "color": "#2a3f5f"
            },
            "error_y": {
             "color": "#2a3f5f"
            },
            "marker": {
             "line": {
              "color": "#E5ECF6",
              "width": 0.5
             },
             "pattern": {
              "fillmode": "overlay",
              "size": 10,
              "solidity": 0.2
             }
            },
            "type": "bar"
           }
          ],
          "barpolar": [
           {
            "marker": {
             "line": {
              "color": "#E5ECF6",
              "width": 0.5
             },
             "pattern": {
              "fillmode": "overlay",
              "size": 10,
              "solidity": 0.2
             }
            },
            "type": "barpolar"
           }
          ],
          "carpet": [
           {
            "aaxis": {
             "endlinecolor": "#2a3f5f",
             "gridcolor": "white",
             "linecolor": "white",
             "minorgridcolor": "white",
             "startlinecolor": "#2a3f5f"
            },
            "baxis": {
             "endlinecolor": "#2a3f5f",
             "gridcolor": "white",
             "linecolor": "white",
             "minorgridcolor": "white",
             "startlinecolor": "#2a3f5f"
            },
            "type": "carpet"
           }
          ],
          "choropleth": [
           {
            "colorbar": {
             "outlinewidth": 0,
             "ticks": ""
            },
            "type": "choropleth"
           }
          ],
          "contour": [
           {
            "colorbar": {
             "outlinewidth": 0,
             "ticks": ""
            },
            "colorscale": [
             [
              0,
              "#0d0887"
             ],
             [
              0.1111111111111111,
              "#46039f"
             ],
             [
              0.2222222222222222,
              "#7201a8"
             ],
             [
              0.3333333333333333,
              "#9c179e"
             ],
             [
              0.4444444444444444,
              "#bd3786"
             ],
             [
              0.5555555555555556,
              "#d8576b"
             ],
             [
              0.6666666666666666,
              "#ed7953"
             ],
             [
              0.7777777777777778,
              "#fb9f3a"
             ],
             [
              0.8888888888888888,
              "#fdca26"
             ],
             [
              1,
              "#f0f921"
             ]
            ],
            "type": "contour"
           }
          ],
          "contourcarpet": [
           {
            "colorbar": {
             "outlinewidth": 0,
             "ticks": ""
            },
            "type": "contourcarpet"
           }
          ],
          "heatmap": [
           {
            "colorbar": {
             "outlinewidth": 0,
             "ticks": ""
            },
            "colorscale": [
             [
              0,
              "#0d0887"
             ],
             [
              0.1111111111111111,
              "#46039f"
             ],
             [
              0.2222222222222222,
              "#7201a8"
             ],
             [
              0.3333333333333333,
              "#9c179e"
             ],
             [
              0.4444444444444444,
              "#bd3786"
             ],
             [
              0.5555555555555556,
              "#d8576b"
             ],
             [
              0.6666666666666666,
              "#ed7953"
             ],
             [
              0.7777777777777778,
              "#fb9f3a"
             ],
             [
              0.8888888888888888,
              "#fdca26"
             ],
             [
              1,
              "#f0f921"
             ]
            ],
            "type": "heatmap"
           }
          ],
          "heatmapgl": [
           {
            "colorbar": {
             "outlinewidth": 0,
             "ticks": ""
            },
            "colorscale": [
             [
              0,
              "#0d0887"
             ],
             [
              0.1111111111111111,
              "#46039f"
             ],
             [
              0.2222222222222222,
              "#7201a8"
             ],
             [
              0.3333333333333333,
              "#9c179e"
             ],
             [
              0.4444444444444444,
              "#bd3786"
             ],
             [
              0.5555555555555556,
              "#d8576b"
             ],
             [
              0.6666666666666666,
              "#ed7953"
             ],
             [
              0.7777777777777778,
              "#fb9f3a"
             ],
             [
              0.8888888888888888,
              "#fdca26"
             ],
             [
              1,
              "#f0f921"
             ]
            ],
            "type": "heatmapgl"
           }
          ],
          "histogram": [
           {
            "marker": {
             "pattern": {
              "fillmode": "overlay",
              "size": 10,
              "solidity": 0.2
             }
            },
            "type": "histogram"
           }
          ],
          "histogram2d": [
           {
            "colorbar": {
             "outlinewidth": 0,
             "ticks": ""
            },
            "colorscale": [
             [
              0,
              "#0d0887"
             ],
             [
              0.1111111111111111,
              "#46039f"
             ],
             [
              0.2222222222222222,
              "#7201a8"
             ],
             [
              0.3333333333333333,
              "#9c179e"
             ],
             [
              0.4444444444444444,
              "#bd3786"
             ],
             [
              0.5555555555555556,
              "#d8576b"
             ],
             [
              0.6666666666666666,
              "#ed7953"
             ],
             [
              0.7777777777777778,
              "#fb9f3a"
             ],
             [
              0.8888888888888888,
              "#fdca26"
             ],
             [
              1,
              "#f0f921"
             ]
            ],
            "type": "histogram2d"
           }
          ],
          "histogram2dcontour": [
           {
            "colorbar": {
             "outlinewidth": 0,
             "ticks": ""
            },
            "colorscale": [
             [
              0,
              "#0d0887"
             ],
             [
              0.1111111111111111,
              "#46039f"
             ],
             [
              0.2222222222222222,
              "#7201a8"
             ],
             [
              0.3333333333333333,
              "#9c179e"
             ],
             [
              0.4444444444444444,
              "#bd3786"
             ],
             [
              0.5555555555555556,
              "#d8576b"
             ],
             [
              0.6666666666666666,
              "#ed7953"
             ],
             [
              0.7777777777777778,
              "#fb9f3a"
             ],
             [
              0.8888888888888888,
              "#fdca26"
             ],
             [
              1,
              "#f0f921"
             ]
            ],
            "type": "histogram2dcontour"
           }
          ],
          "mesh3d": [
           {
            "colorbar": {
             "outlinewidth": 0,
             "ticks": ""
            },
            "type": "mesh3d"
           }
          ],
          "parcoords": [
           {
            "line": {
             "colorbar": {
              "outlinewidth": 0,
              "ticks": ""
             }
            },
            "type": "parcoords"
           }
          ],
          "pie": [
           {
            "automargin": true,
            "type": "pie"
           }
          ],
          "scatter": [
           {
            "fillpattern": {
             "fillmode": "overlay",
             "size": 10,
             "solidity": 0.2
            },
            "type": "scatter"
           }
          ],
          "scatter3d": [
           {
            "line": {
             "colorbar": {
              "outlinewidth": 0,
              "ticks": ""
             }
            },
            "marker": {
             "colorbar": {
              "outlinewidth": 0,
              "ticks": ""
             }
            },
            "type": "scatter3d"
           }
          ],
          "scattercarpet": [
           {
            "marker": {
             "colorbar": {
              "outlinewidth": 0,
              "ticks": ""
             }
            },
            "type": "scattercarpet"
           }
          ],
          "scattergeo": [
           {
            "marker": {
             "colorbar": {
              "outlinewidth": 0,
              "ticks": ""
             }
            },
            "type": "scattergeo"
           }
          ],
          "scattergl": [
           {
            "marker": {
             "colorbar": {
              "outlinewidth": 0,
              "ticks": ""
             }
            },
            "type": "scattergl"
           }
          ],
          "scattermapbox": [
           {
            "marker": {
             "colorbar": {
              "outlinewidth": 0,
              "ticks": ""
             }
            },
            "type": "scattermapbox"
           }
          ],
          "scatterpolar": [
           {
            "marker": {
             "colorbar": {
              "outlinewidth": 0,
              "ticks": ""
             }
            },
            "type": "scatterpolar"
           }
          ],
          "scatterpolargl": [
           {
            "marker": {
             "colorbar": {
              "outlinewidth": 0,
              "ticks": ""
             }
            },
            "type": "scatterpolargl"
           }
          ],
          "scatterternary": [
           {
            "marker": {
             "colorbar": {
              "outlinewidth": 0,
              "ticks": ""
             }
            },
            "type": "scatterternary"
           }
          ],
          "surface": [
           {
            "colorbar": {
             "outlinewidth": 0,
             "ticks": ""
            },
            "colorscale": [
             [
              0,
              "#0d0887"
             ],
             [
              0.1111111111111111,
              "#46039f"
             ],
             [
              0.2222222222222222,
              "#7201a8"
             ],
             [
              0.3333333333333333,
              "#9c179e"
             ],
             [
              0.4444444444444444,
              "#bd3786"
             ],
             [
              0.5555555555555556,
              "#d8576b"
             ],
             [
              0.6666666666666666,
              "#ed7953"
             ],
             [
              0.7777777777777778,
              "#fb9f3a"
             ],
             [
              0.8888888888888888,
              "#fdca26"
             ],
             [
              1,
              "#f0f921"
             ]
            ],
            "type": "surface"
           }
          ],
          "table": [
           {
            "cells": {
             "fill": {
              "color": "#EBF0F8"
             },
             "line": {
              "color": "white"
             }
            },
            "header": {
             "fill": {
              "color": "#C8D4E3"
             },
             "line": {
              "color": "white"
             }
            },
            "type": "table"
           }
          ]
         },
         "layout": {
          "annotationdefaults": {
           "arrowcolor": "#2a3f5f",
           "arrowhead": 0,
           "arrowwidth": 1
          },
          "autotypenumbers": "strict",
          "coloraxis": {
           "colorbar": {
            "outlinewidth": 0,
            "ticks": ""
           }
          },
          "colorscale": {
           "diverging": [
            [
             0,
             "#8e0152"
            ],
            [
             0.1,
             "#c51b7d"
            ],
            [
             0.2,
             "#de77ae"
            ],
            [
             0.3,
             "#f1b6da"
            ],
            [
             0.4,
             "#fde0ef"
            ],
            [
             0.5,
             "#f7f7f7"
            ],
            [
             0.6,
             "#e6f5d0"
            ],
            [
             0.7,
             "#b8e186"
            ],
            [
             0.8,
             "#7fbc41"
            ],
            [
             0.9,
             "#4d9221"
            ],
            [
             1,
             "#276419"
            ]
           ],
           "sequential": [
            [
             0,
             "#0d0887"
            ],
            [
             0.1111111111111111,
             "#46039f"
            ],
            [
             0.2222222222222222,
             "#7201a8"
            ],
            [
             0.3333333333333333,
             "#9c179e"
            ],
            [
             0.4444444444444444,
             "#bd3786"
            ],
            [
             0.5555555555555556,
             "#d8576b"
            ],
            [
             0.6666666666666666,
             "#ed7953"
            ],
            [
             0.7777777777777778,
             "#fb9f3a"
            ],
            [
             0.8888888888888888,
             "#fdca26"
            ],
            [
             1,
             "#f0f921"
            ]
           ],
           "sequentialminus": [
            [
             0,
             "#0d0887"
            ],
            [
             0.1111111111111111,
             "#46039f"
            ],
            [
             0.2222222222222222,
             "#7201a8"
            ],
            [
             0.3333333333333333,
             "#9c179e"
            ],
            [
             0.4444444444444444,
             "#bd3786"
            ],
            [
             0.5555555555555556,
             "#d8576b"
            ],
            [
             0.6666666666666666,
             "#ed7953"
            ],
            [
             0.7777777777777778,
             "#fb9f3a"
            ],
            [
             0.8888888888888888,
             "#fdca26"
            ],
            [
             1,
             "#f0f921"
            ]
           ]
          },
          "colorway": [
           "#636efa",
           "#EF553B",
           "#00cc96",
           "#ab63fa",
           "#FFA15A",
           "#19d3f3",
           "#FF6692",
           "#B6E880",
           "#FF97FF",
           "#FECB52"
          ],
          "font": {
           "color": "#2a3f5f"
          },
          "geo": {
           "bgcolor": "white",
           "lakecolor": "white",
           "landcolor": "#E5ECF6",
           "showlakes": true,
           "showland": true,
           "subunitcolor": "white"
          },
          "hoverlabel": {
           "align": "left"
          },
          "hovermode": "closest",
          "mapbox": {
           "style": "light"
          },
          "paper_bgcolor": "white",
          "plot_bgcolor": "#E5ECF6",
          "polar": {
           "angularaxis": {
            "gridcolor": "white",
            "linecolor": "white",
            "ticks": ""
           },
           "bgcolor": "#E5ECF6",
           "radialaxis": {
            "gridcolor": "white",
            "linecolor": "white",
            "ticks": ""
           }
          },
          "scene": {
           "xaxis": {
            "backgroundcolor": "#E5ECF6",
            "gridcolor": "white",
            "gridwidth": 2,
            "linecolor": "white",
            "showbackground": true,
            "ticks": "",
            "zerolinecolor": "white"
           },
           "yaxis": {
            "backgroundcolor": "#E5ECF6",
            "gridcolor": "white",
            "gridwidth": 2,
            "linecolor": "white",
            "showbackground": true,
            "ticks": "",
            "zerolinecolor": "white"
           },
           "zaxis": {
            "backgroundcolor": "#E5ECF6",
            "gridcolor": "white",
            "gridwidth": 2,
            "linecolor": "white",
            "showbackground": true,
            "ticks": "",
            "zerolinecolor": "white"
           }
          },
          "shapedefaults": {
           "line": {
            "color": "#2a3f5f"
           }
          },
          "ternary": {
           "aaxis": {
            "gridcolor": "white",
            "linecolor": "white",
            "ticks": ""
           },
           "baxis": {
            "gridcolor": "white",
            "linecolor": "white",
            "ticks": ""
           },
           "bgcolor": "#E5ECF6",
           "caxis": {
            "gridcolor": "white",
            "linecolor": "white",
            "ticks": ""
           }
          },
          "title": {
           "x": 0.05
          },
          "xaxis": {
           "automargin": true,
           "gridcolor": "white",
           "linecolor": "white",
           "ticks": "",
           "title": {
            "standoff": 15
           },
           "zerolinecolor": "white",
           "zerolinewidth": 2
          },
          "yaxis": {
           "automargin": true,
           "gridcolor": "white",
           "linecolor": "white",
           "ticks": "",
           "title": {
            "standoff": 15
           },
           "zerolinecolor": "white",
           "zerolinewidth": 2
          }
         }
        },
        "xaxis": {
         "anchor": "y",
         "categoryarray": [
          "Female",
          "Male"
         ],
         "categoryorder": "array",
         "domain": [
          0,
          1
         ],
         "title": {
          "text": "gender_name"
         }
        },
        "yaxis": {
         "anchor": "x",
         "domain": [
          0,
          1
         ],
         "title": {
          "text": "age"
         }
        }
       }
      }
     },
     "metadata": {},
     "output_type": "display_data"
    }
   ],
   "source": [
    "fig = px.box(df_iid, x=\"gender_name\", y=\"age\", color=\"gender_name\", color_discrete_sequence=[\"#F78FE4\", \"#0460C9\"])\n",
    "fig.show()"
   ]
  },
  {
   "cell_type": "code",
   "execution_count": 11,
   "metadata": {},
   "outputs": [
    {
     "data": {
      "text/plain": [
       "pandas.core.frame.DataFrame"
      ]
     },
     "execution_count": 11,
     "metadata": {},
     "output_type": "execute_result"
    }
   ],
   "source": [
    "type(df_iid[df_iid[\"gender_name\"] == \"Female\"])"
   ]
  },
  {
   "cell_type": "code",
   "execution_count": 12,
   "metadata": {},
   "outputs": [
    {
     "data": {
      "application/vnd.plotly.v1+json": {
       "config": {
        "plotlyServerURL": "https://plot.ly"
       },
       "data": [
        {
         "autobinx": false,
         "histnorm": "probability density",
         "legendgroup": "Female",
         "marker": {
          "color": "#F78FE4"
         },
         "name": "Female",
         "opacity": 0.7,
         "type": "histogram",
         "x": [
          21,
          24,
          25,
          23,
          21,
          23,
          22,
          25,
          26,
          26,
          21,
          27,
          21,
          27,
          25,
          23,
          22,
          26,
          22,
          23,
          24,
          27,
          30,
          21,
          25,
          26,
          27,
          23,
          24,
          23,
          22,
          29,
          28,
          26,
          24,
          27,
          23,
          34,
          22,
          23,
          26,
          27,
          28,
          25,
          35,
          32,
          30,
          22,
          23,
          23,
          27,
          23,
          25,
          29,
          29,
          20,
          21,
          20,
          21,
          21,
          21,
          19,
          20,
          21,
          27,
          24,
          23,
          26,
          24,
          33,
          23,
          24,
          36,
          26,
          27,
          28,
          31,
          28,
          27,
          28,
          27,
          27,
          30,
          28,
          29,
          23,
          28,
          22,
          35,
          30,
          24,
          22,
          22,
          24,
          24,
          27,
          25,
          24,
          23,
          30,
          25,
          25,
          22,
          22,
          26,
          23,
          31,
          23,
          25,
          28,
          29,
          28,
          27,
          25,
          22,
          23,
          24,
          34,
          27,
          34,
          26,
          29,
          26,
          28,
          33,
          22,
          26,
          24,
          24,
          25,
          25,
          27,
          26,
          29,
          26,
          26,
          32,
          28,
          26,
          24,
          24,
          23,
          23,
          25,
          30,
          30,
          28,
          21,
          22,
          24,
          35,
          34,
          21,
          33,
          28,
          29,
          22,
          27,
          34,
          25,
          23,
          30,
          36,
          29,
          30,
          29,
          22,
          34,
          23,
          33,
          32,
          26,
          24,
          26,
          21,
          33,
          31,
          35,
          29,
          25,
          22,
          24,
          27,
          27,
          26,
          26,
          24,
          38,
          33,
          24,
          28,
          27,
          23,
          25,
          26,
          25,
          24,
          21,
          30,
          28,
          26,
          22,
          24,
          33,
          25,
          25,
          29,
          25,
          28,
          22,
          25,
          22,
          27,
          28,
          30,
          27,
          22,
          23,
          23,
          23,
          29,
          27,
          24,
          29,
          55,
          29,
          26,
          24,
          24,
          25,
          25,
          29,
          30,
          25,
          34,
          30,
          27,
          25,
          27,
          26,
          27,
          26,
          23,
          24,
          25,
          26,
          25,
          26,
          28,
          26,
          23,
          23,
          23,
          23,
          27,
          30,
          23,
          26,
          28,
          26,
          22,
          27,
          25,
          24,
          26,
          24,
          29,
          22,
          22
         ],
         "xaxis": "x",
         "xbins": {
          "end": 55,
          "size": 1,
          "start": 19
         },
         "yaxis": "y"
        },
        {
         "autobinx": false,
         "histnorm": "probability density",
         "legendgroup": "Male",
         "marker": {
          "color": "#0460C9"
         },
         "name": "Male",
         "opacity": 0.7,
         "type": "histogram",
         "x": [
          27,
          22,
          22,
          23,
          24,
          25,
          30,
          27,
          28,
          24,
          25,
          30,
          23,
          24,
          24,
          28,
          26,
          30,
          22,
          25,
          27,
          23,
          21,
          28,
          28,
          23,
          29,
          22,
          27,
          28,
          26,
          21,
          22,
          22,
          25,
          24,
          28,
          26,
          26,
          29,
          39,
          28,
          30,
          22,
          32,
          26,
          27,
          25,
          22,
          21,
          24,
          25,
          28,
          27,
          22,
          18,
          22,
          21,
          22,
          22,
          21,
          20,
          19,
          26,
          32,
          37,
          29,
          28,
          23,
          28,
          29,
          22,
          27,
          26,
          27,
          30,
          26,
          23,
          23,
          28,
          28,
          29,
          27,
          22,
          34,
          25,
          24,
          26,
          21,
          27,
          25,
          28,
          24,
          25,
          23,
          26,
          27,
          26,
          24,
          26,
          25,
          27,
          27,
          28,
          32,
          28,
          23,
          26,
          24,
          28,
          42,
          30,
          31,
          29,
          27,
          28,
          32,
          25,
          25,
          27,
          33,
          25,
          33,
          29,
          24,
          21,
          26,
          25,
          32,
          25,
          25,
          27,
          23,
          27,
          27,
          24,
          22,
          22,
          27,
          28,
          34,
          27,
          28,
          28,
          27,
          32,
          25,
          29,
          23,
          27,
          32,
          27,
          25,
          30,
          29,
          26,
          36,
          29,
          30,
          23,
          29,
          24,
          25,
          28,
          27,
          34,
          30,
          23,
          27,
          30,
          27,
          27,
          24,
          25,
          28,
          27,
          27,
          29,
          30,
          27,
          25,
          26,
          29,
          24,
          29,
          29,
          26,
          31,
          29,
          22,
          23,
          30,
          27,
          24,
          24,
          23,
          27,
          34,
          27,
          26,
          29,
          31,
          26,
          30,
          24,
          28,
          24,
          28,
          27,
          27,
          21,
          24,
          25,
          27,
          26,
          30,
          28,
          26,
          22,
          23,
          25,
          30,
          29,
          27,
          33,
          27,
          33,
          23,
          33,
          23,
          23,
          30,
          28,
          31,
          29,
          32,
          24,
          29,
          28,
          29,
          29,
          30,
          20,
          30,
          32,
          26,
          25,
          23,
          27,
          24,
          24,
          36,
          25,
          26,
          26,
          24,
          23,
          29,
          22,
          32,
          22,
          24,
          23,
          23,
          24,
          23,
          24,
          30,
          30,
          30,
          28,
          30,
          27,
          25
         ],
         "xaxis": "x",
         "xbins": {
          "end": 42,
          "size": 1,
          "start": 18
         },
         "yaxis": "y"
        },
        {
         "legendgroup": "Female",
         "marker": {
          "color": "#F78FE4"
         },
         "mode": "lines",
         "name": "Female",
         "showlegend": false,
         "type": "scatter",
         "x": [
          19,
          19.072,
          19.144,
          19.216,
          19.288,
          19.36,
          19.432,
          19.504,
          19.576,
          19.648,
          19.72,
          19.792,
          19.864,
          19.936,
          20.008,
          20.08,
          20.152,
          20.224,
          20.296,
          20.368,
          20.44,
          20.512,
          20.584,
          20.656,
          20.728,
          20.8,
          20.872,
          20.944,
          21.016,
          21.088,
          21.16,
          21.232,
          21.304,
          21.376,
          21.448,
          21.52,
          21.592,
          21.664,
          21.736,
          21.808,
          21.88,
          21.951999999999998,
          22.024,
          22.096,
          22.168,
          22.240000000000002,
          22.312,
          22.384,
          22.456,
          22.528,
          22.6,
          22.672,
          22.744,
          22.816,
          22.887999999999998,
          22.96,
          23.032,
          23.104,
          23.176000000000002,
          23.248,
          23.32,
          23.392,
          23.464,
          23.536,
          23.608,
          23.68,
          23.752,
          23.823999999999998,
          23.896,
          23.968,
          24.04,
          24.112000000000002,
          24.184,
          24.256,
          24.328,
          24.4,
          24.472,
          24.544,
          24.616,
          24.688,
          24.759999999999998,
          24.832,
          24.904,
          24.976,
          25.048000000000002,
          25.12,
          25.192,
          25.264,
          25.336,
          25.408,
          25.48,
          25.552,
          25.624,
          25.695999999999998,
          25.768,
          25.84,
          25.912,
          25.984,
          26.056,
          26.128,
          26.2,
          26.272,
          26.344,
          26.416,
          26.488,
          26.56,
          26.631999999999998,
          26.704,
          26.776,
          26.848,
          26.92,
          26.992,
          27.064,
          27.136,
          27.208,
          27.28,
          27.352,
          27.424,
          27.496000000000002,
          27.567999999999998,
          27.64,
          27.712,
          27.784,
          27.856,
          27.928,
          28,
          28.072,
          28.144,
          28.216,
          28.288,
          28.36,
          28.432000000000002,
          28.503999999999998,
          28.576,
          28.648,
          28.72,
          28.792,
          28.864,
          28.936,
          29.008,
          29.08,
          29.152,
          29.224,
          29.296,
          29.368000000000002,
          29.439999999999998,
          29.512,
          29.584,
          29.656,
          29.728,
          29.8,
          29.872,
          29.944000000000003,
          30.016,
          30.088,
          30.16,
          30.232,
          30.304000000000002,
          30.375999999999998,
          30.448,
          30.52,
          30.592,
          30.664,
          30.736,
          30.808,
          30.880000000000003,
          30.951999999999998,
          31.024,
          31.096,
          31.168,
          31.240000000000002,
          31.311999999999998,
          31.384,
          31.456,
          31.528,
          31.6,
          31.672,
          31.744,
          31.816000000000003,
          31.887999999999998,
          31.96,
          32.032,
          32.104,
          32.176,
          32.248,
          32.32,
          32.391999999999996,
          32.464,
          32.536,
          32.608000000000004,
          32.68,
          32.752,
          32.824,
          32.896,
          32.968,
          33.04,
          33.112,
          33.184,
          33.256,
          33.328,
          33.4,
          33.472,
          33.544,
          33.616,
          33.688,
          33.76,
          33.832,
          33.903999999999996,
          33.976,
          34.048,
          34.12,
          34.192,
          34.263999999999996,
          34.336,
          34.408,
          34.480000000000004,
          34.552,
          34.624,
          34.696,
          34.768,
          34.84,
          34.912,
          34.984,
          35.056,
          35.128,
          35.2,
          35.272,
          35.344,
          35.416,
          35.488,
          35.56,
          35.632000000000005,
          35.704,
          35.775999999999996,
          35.848,
          35.92,
          35.992000000000004,
          36.064,
          36.135999999999996,
          36.208,
          36.28,
          36.352000000000004,
          36.424,
          36.495999999999995,
          36.568,
          36.64,
          36.712,
          36.784,
          36.856,
          36.928,
          37,
          37.072,
          37.144,
          37.216,
          37.288,
          37.36,
          37.432,
          37.504000000000005,
          37.576,
          37.647999999999996,
          37.72,
          37.792,
          37.864000000000004,
          37.936,
          38.007999999999996,
          38.08,
          38.152,
          38.224000000000004,
          38.296,
          38.367999999999995,
          38.44,
          38.512,
          38.584,
          38.656,
          38.728,
          38.8,
          38.872,
          38.944,
          39.016,
          39.088,
          39.16,
          39.232,
          39.304,
          39.376000000000005,
          39.448,
          39.519999999999996,
          39.592,
          39.664,
          39.736000000000004,
          39.808,
          39.879999999999995,
          39.952,
          40.024,
          40.096000000000004,
          40.168,
          40.239999999999995,
          40.312,
          40.384,
          40.456,
          40.528,
          40.6,
          40.672,
          40.744,
          40.816,
          40.888000000000005,
          40.96,
          41.032,
          41.104,
          41.176,
          41.248000000000005,
          41.32,
          41.391999999999996,
          41.464,
          41.536,
          41.608000000000004,
          41.68,
          41.751999999999995,
          41.824,
          41.896,
          41.968,
          42.04,
          42.111999999999995,
          42.184,
          42.256,
          42.328,
          42.4,
          42.472,
          42.544,
          42.616,
          42.688,
          42.760000000000005,
          42.832,
          42.903999999999996,
          42.976,
          43.048,
          43.120000000000005,
          43.192,
          43.263999999999996,
          43.336,
          43.408,
          43.480000000000004,
          43.552,
          43.623999999999995,
          43.696,
          43.768,
          43.84,
          43.912,
          43.984,
          44.056,
          44.128,
          44.2,
          44.272,
          44.344,
          44.416,
          44.488,
          44.56,
          44.632000000000005,
          44.704,
          44.775999999999996,
          44.848,
          44.92,
          44.992000000000004,
          45.064,
          45.135999999999996,
          45.208,
          45.28,
          45.352000000000004,
          45.424,
          45.495999999999995,
          45.568,
          45.64,
          45.712,
          45.784,
          45.856,
          45.928,
          46,
          46.072,
          46.144,
          46.216,
          46.288,
          46.36,
          46.432,
          46.504000000000005,
          46.576,
          46.647999999999996,
          46.72,
          46.792,
          46.864000000000004,
          46.936,
          47.007999999999996,
          47.08,
          47.152,
          47.224000000000004,
          47.296,
          47.367999999999995,
          47.44,
          47.512,
          47.584,
          47.656,
          47.728,
          47.8,
          47.872,
          47.944,
          48.016,
          48.088,
          48.16,
          48.232,
          48.304,
          48.376000000000005,
          48.448,
          48.519999999999996,
          48.592,
          48.664,
          48.736000000000004,
          48.808,
          48.879999999999995,
          48.952,
          49.024,
          49.096000000000004,
          49.168,
          49.239999999999995,
          49.312,
          49.384,
          49.456,
          49.528,
          49.6,
          49.672,
          49.744,
          49.816,
          49.888000000000005,
          49.96,
          50.032,
          50.104,
          50.176,
          50.248000000000005,
          50.32,
          50.391999999999996,
          50.464,
          50.536,
          50.608000000000004,
          50.68,
          50.751999999999995,
          50.824,
          50.896,
          50.968,
          51.04,
          51.112,
          51.184,
          51.256,
          51.328,
          51.4,
          51.472,
          51.544,
          51.616,
          51.688,
          51.76,
          51.832,
          51.904,
          51.976,
          52.048,
          52.12,
          52.192,
          52.264,
          52.336,
          52.408,
          52.48,
          52.552,
          52.624,
          52.696,
          52.768,
          52.84,
          52.912,
          52.984,
          53.056,
          53.128,
          53.2,
          53.272,
          53.344,
          53.416,
          53.488,
          53.56,
          53.632,
          53.704,
          53.776,
          53.848,
          53.92,
          53.992,
          54.064,
          54.136,
          54.208,
          54.28,
          54.352,
          54.424,
          54.496,
          54.568,
          54.64,
          54.712,
          54.784,
          54.856,
          54.928
         ],
         "xaxis": "x",
         "y": [
          0.010900657103166664,
          0.01175556898895546,
          0.012660029168107226,
          0.013615221221973612,
          0.014622192299437555,
          0.015681837641000854,
          0.016794885527388684,
          0.01796188285095619,
          0.019183181507086977,
          0.02045892579799991,
          0.021789041032968616,
          0.023173223497079724,
          0.024610931945560056,
          0.026101380762761642,
          0.027643534904519054,
          0.029236106720322348,
          0.030877554728097056,
          0.03256608438995555,
          0.03429965091264891,
          0.036075964072178814,
          0.03789249503864996,
          0.039746485155434205,
          0.04163495660645263,
          0.043554724887202356,
          0.045502412979226074,
          0.04747446711419439,
          0.049467174002605904,
          0.05147667939323504,
          0.0534990078226738,
          0.05553008340936394,
          0.057565751543073196,
          0.05960180131847366,
          0.061633988559969564,
          0.06365805928380425,
          0.06566977344242765,
          0.06766492879485496,
          0.0696393847450256,
          0.07158908598790942,
          0.07351008580021881,
          0.07539856880915546,
          0.0772508730688174,
          0.07906351126996794,
          0.08083319090518827,
          0.08255683320841456,
          0.08423159068597469,
          0.0858548630560104,
          0.0874243114150947,
          0.08893787045543584,
          0.09039375856373702,
          0.09179048564393924,
          0.09312685852097964,
          0.0944019838015119,
          0.09561526809032944,
          0.09676641548783327,
          0.0978554223241219,
          0.09888256911870939,
          0.09984840979100655,
          0.10075375818484358,
          0.10159967200979948,
          0.10238743434199785,
          0.10311853286653884,
          0.10379463708191268,
          0.104417573722634,
          0.10498930068916223,
          0.1055118798029765,
          0.10598744872885667,
          0.10641819242522298,
          0.10680631449639112,
          0.10715400882737168,
          0.10746343188220814,
          0.10773667604068868,
          0.10797574433569634,
          0.10818252693466539,
          0.10835877968400674,
          0.10850610500531685,
          0.10862593539741641,
          0.108719519759309,
          0.10878791270682148,
          0.10883196701073601,
          0.10885232923744179,
          0.10884943862534162,
          0.10882352918224601,
          0.1087746349415281,
          0.10870259826864957,
          0.10860708106546062,
          0.10848757867807768,
          0.10834343627567379,
          0.10817386743272678,
          0.1079779746165315,
          0.10775477125551004,
          0.10750320504230675,
          0.1072221821090955,
          0.10691059170112614,
          0.10656733096840261,
          0.1061913294946224,
          0.10578157318706392,
          0.10533712716105371,
          0.10485715726775277,
          0.10434094993428569,
          0.10378793001036021,
          0.103197676345347,
          0.10256993485394,
          0.1019046288666477,
          0.10120186660303775,
          0.10046194565037189,
          0.099685354377469,
          0.09887277026267892,
          0.09802505516506622,
          0.09714324761854369,
          0.09622855227896783,
          0.095282326703301,
          0.09430606568698995,
          0.09330138342987179,
          0.09226999384132999,
          0.09121368933127137,
          0.09013431846399529,
          0.08903376287647446,
          0.08791391388031235,
          0.08677664917718732,
          0.08562381012051239,
          0.08445717995105245,
          0.08327846342125765,
          0.08208926820208198,
          0.0808910884372952,
          0.07968529077409216,
          0.07847310315571064,
          0.0772556066124302,
          0.07603373023261578,
          0.07480824943628372,
          0.07357978761115663,
          0.07234882110642944,
          0.07111568751379206,
          0.06988059709990135,
          0.06864364719076488,
          0.06740483924773508,
          0.06616409831821929,
          0.06492129449303688,
          0.06367626595769194,
          0.062428843187669524,
          0.061178873809083587,
          0.059926247626286386,
          0.05867092130792855,
          0.05741294222276631,
          0.056152470926384965,
          0.054889801819854624,
          0.053625381530894065,
          0.052359824606875154,
          0.051093926156276,
          0.04982867113008501,
          0.048565239996136426,
          0.04730501062618324,
          0.04604955628637176,
          0.044800639695221835,
          0.0435602031877359,
          0.042330355098323835,
          0.0411133525472963,
          0.03991158088424008,
          0.03872753010523894,
          0.037563768618298556,
          0.036422914781308754,
          0.03530760667843083,
          0.03422047063308749,
          0.033164088978195776,
          0.03214096761650718,
          0.031153503905789942,
          0.030203955395195638,
          0.029294409920815133,
          0.02842675754070381,
          0.02760266475329337,
          0.026823551399013282,
          0.026090570594227033,
          0.02540459199041553,
          0.024766188591213958,
          0.024175627296764264,
          0.023632863280224906,
          0.023137538236533993,
          0.02268898247993256,
          0.02228622080552522,
          0.02192798197240379,
          0.021612711612553327,
          0.021338588321743703,
          0.021103542646568014,
          0.02090527864623677,
          0.020741297679045728,
          0.02060892404178915,
          0.020505332075843513,
          0.02042757434609586,
          0.020372610498094103,
          0.020337336404412095,
          0.02031861322279358,
          0.020313296005624766,
          0.02031826152209418,
          0.02033043498036911,
          0.020346815366577627,
          0.020364499149631423,
          0.020380702135263832,
          0.02039277928840119,
          0.020398242379474338,
          0.020394775346880327,
          0.02038024730393544,
          0.020352723153778052,
          0.02031047180929482,
          0.02025197204682434,
          0.020175916051759436,
          0.02008121074091132,
          0.019966976970352966,
          0.01983254675822764,
          0.019677458669557175,
          0.019501451524315035,
          0.01930445660093537,
          0.019086588515009467,
          0.01884813495727484,
          0.018589545476240067,
          0.018311419489082527,
          0.018014493700023705,
          0.01769962909847096,
          0.017367797700105006,
          0.017020069183098764,
          0.0166575975591154,
          0.01628160800499938,
          0.015893383966517877,
          0.015494254630484776,
          0.015085582846482454,
          0.01466875356452465,
          0.014245162840713761,
          0.013816207449533853,
          0.013383275129149594,
          0.012947735475173524,
          0.0125109314889873,
          0.01207417177897258,
          0.0116387234069889,
          0.011205805368117931,
          0.01077658268903291,
          0.010352161129216919,
          0.009933582469492618,
          0.009521820373714511,
          0.009117776811768181,
          0.008722279034939788,
          0.008336077097960476,
          0.007959841925298798,
          0.007594163922265747,
          0.007239552133933685,
          0.0068964339565054005,
          0.006565155406384911,
          0.006245981951645203,
          0.005939099908747239,
          0.005644618404199852,
          0.005362571896382608,
          0.005092923247063621,
          0.004835567325383242,
          0.004590335119438216,
          0.004356998322345824,
          0.004135274351075629,
          0.003924831747730782,
          0.0037252959046658483,
          0.0035362550471776813,
          0.0033572664008194057,
          0.003187862464954365,
          0.0030275573102460642,
          0.002875852815572813,
          0.002732244759515022,
          0.0025962286831699814,
          0.00246730544462268,
          0.00234498639089098,
          0.002228798080448102,
          0.002118286498328479,
          0.00201302071610418,
          0.0019125959603982833,
          0.0018166360657587816,
          0.0017247953003084434,
          0.0016367595652595876,
          0.0015522469817838053,
          0.0014710078905178882,
          0.0013928242998547512,
          0.0013175088288358548,
          0.0012449031986971704,
          0.0011748763337436896,
          0.0011073221371140421,
          0.00104215701008013,
          0.0009793171848001686,
          0.0009187559399548487,
          0.0008604407665462986,
          0.0008043505474752161,
          0.0007504728095170688,
          0.0006988011002108778,
          0.0006493325351895545,
          0.0006020655538696021,
          0.0005569979134316124,
          0.00051412494290882,
          0.00047343807119228705,
          0.0004349236350705463,
          0.0003985619662367844,
          0.0003643267496739889,
          0.00033218464009262974,
          0.0003020951182357357,
          0.0002740105649379854,
          0.0002478765278507542,
          0.0002236321537147909,
          0.00020121075793981335,
          0.00018054050297493346,
          0.00016154515744528196,
          0.0001441449091932006,
          0.00012825720709135744,
          0.0001137976086791004,
          0.00010068061319917017,
          0.00008882046236980062,
          0.00007813189411223457,
          0.0000685308373701561,
          0.00005993503901984157,
          0.00005226461660494312,
          0.0000454425331774723,
          0.00003939499283996491,
          0.0000340517576293539,
          0.000029346388139620186,
          0.000025216411738334495,
          0.00002160342339245966,
          0.000018453124990857878,
          0.000015715309651737954,
          0.000013343797855345897,
          0.000011296332372294489,
          0.000009534438895427989,
          0.000008023259058705774,
          0.000006731362171114349,
          0.000005630541537001238,
          0.000004695600704674047,
          0.000003904134408531238,
          0.0000032363083694203054,
          0.0000026746415133886144,
          0.0000022037935772730757,
          0.0000018103605042694847,
          0.0000014826795042234045,
          0.0000012106451695219774,
          9.855376031142955e-7,
          7.998631330359132e-7,
          6.472078585436378e-7,
          5.221039956235032e-7,
          4.199087619529024e-7,
          3.3669536010307644e-7,
          2.6915547889036463e-7,
          2.1451263189631623e-7,
          1.7044558462806714e-7,
          1.350210828959039e-7,
          1.0663508017015619e-7,
          8.396166660731867e-8,
          6.59089230847864e-8,
          5.1580956312647375e-8,
          4.024541266901192e-8,
          3.130581602453073e-8,
          2.4278126095857645e-8,
          1.8770966812880525e-8,
          1.4469027193894776e-8,
          1.1119189032989173e-8,
          8.518985357818818e-9,
          6.50704042359476e-9,
          4.955185509094691e-9,
          3.761984701725807e-9,
          2.8474410855263388e-9,
          2.148686286054909e-9,
          1.6164852813442797e-9,
          1.2124139300101227e-9,
          9.065890157804794e-10,
          6.758500120856469e-10,
          5.02308496723973e-10,
          3.721954651602885e-10,
          2.749489674962299e-10,
          2.0249478342579051e-10,
          1.4868149097608082e-10,
          1.0883849960902287e-10,
          7.9431607451908e-11,
          5.779558665734474e-11,
          4.1927360494009864e-11,
          3.0326651569972775e-11,
          2.1873675113953554e-11,
          1.5735630147804784e-11,
          1.129549506028137e-11,
          8.098039281570035e-12,
          5.80908418451867e-12,
          4.184938268061867e-12,
          3.0496393872884053e-12,
          2.2781979286983348e-12,
          1.7844806467293002e-12,
          1.512731375754402e-12,
          1.4320137639873986e-12,
          1.5331009714943209e-12,
          1.8275438750100767e-12,
          2.348836950161659e-12,
          3.155782882380495e-12,
          4.338346011899677e-12,
          6.026494245169931e-12,
          8.402773437442083e-12,
          1.1719653640233698e-11,
          1.6323051757600824e-11,
          2.2683892228084143e-11,
          3.1440142850990465e-11,
          4.3452488683468855e-11,
          5.987772143272023e-11,
          8.226507109724944e-11,
          1.1268214603744672e-10,
          1.5387894303830116e-10,
          2.0950061827683996e-10,
          2.843624651968251e-10,
          3.8480393327177554e-10,
          5.191426665723835e-10,
          6.982545853265568e-10,
          9.363121390595482e-10,
          1.2517202083154136e-9,
          1.6682979254292266e-9,
          2.2167651447569985e-9,
          2.936604658130668e-9,
          3.878385775295342e-9,
          5.106651834275578e-9,
          6.7034938378892395e-9,
          8.772954987790719e-9,
          1.1446436645008683e-8,
          1.488930538981731e-8,
          1.9308933534368687e-8,
          2.4964441733306468e-8,
          3.2178452212655904e-8,
          4.135120443526088e-8,
          5.297743141496302e-8,
          6.766644385105209e-8,
          8.616592000535545e-8,
          1.0938995072815543e-7,
          1.3845193987112875e-7,
          1.7470300875548264e-7,
          2.197765972389195e-7,
          2.7563999066304814e-7,
          3.4465352852995007e-7,
          4.2963826366107774e-7,
          5.339528358980703e-7,
          6.615802977600197e-7,
          8.17225576165418e-7,
          0.000001006424169377125,
          0.0000012356625565952863,
          0.000001512510633968332,
          0.0000018457662802623812,
          0.000002245611893488872,
          0.0000027237824225867567,
          0.000003293744042908161,
          0.000003970882189200637,
          0.000004772697165091565,
          0.000005719004995853567,
          0.000006832140585918881,
          0.000008137159591367694,
          0.000009662034730575378,
          0.000011437841546756294,
          0.000013498927921030097,
          0.000015883060934073946,
          0.000018631544011993156,
          0.00002178929669440925,
          0.00002540488885948736,
          0.000029530520863308824,
          0.00003422194083276811,
          0.00003953829032573413,
          0.00004554186977239218,
          0.000052297815568750735,
          0.00005987368143482927,
          0.00006833891769892653,
          0.0000777642435421354,
          0.00008822090894203848,
          0.00009977984509034976,
          0.00011251070441406692,
          0.00012648079397919863,
          0.00014175390896384486,
          0.00015838907600282352,
          0.00017643921946587356,
          0.00019594976705994047,
          0.00021695721445479438,
          0.00023948767182341646,
          0.0002635554181582182,
          0.00028916149186124733,
          0.00031629234829958386,
          0.0003449186166561193,
          0.0003749939893876485,
          0.0004064542778344029,
          0.0004392166669285927,
          0.0004731792004664589,
          0.0005082205260011352,
          0.0005441999250721265,
          0.0005809576502300681,
          0.0006183155851894282,
          0.0006560782385279853,
          0.0006940340747585775,
          0.0007319571794651965,
          0.000769609247687357,
          0.0008067418770403824,
          0.0008430991393796869,
          0.0008784203973708607,
          0.0009124433253331723,
          0.0009449070874015957,
          0.000975555620607428,
          0.0010041409661002215,
          0.0010304265885889168,
          0.0010541906222997538,
          0.0010752289814291711,
          0.0010933582742649285,
          0.0011084184628668728,
          0.0011202752144031363,
          0.0011288218958436702,
          0.0011339811705929504
         ],
         "yaxis": "y"
        },
        {
         "legendgroup": "Male",
         "marker": {
          "color": "#0460C9"
         },
         "mode": "lines",
         "name": "Male",
         "showlegend": false,
         "type": "scatter",
         "x": [
          18,
          18.048,
          18.096,
          18.144,
          18.192,
          18.24,
          18.288,
          18.336,
          18.384,
          18.432,
          18.48,
          18.528,
          18.576,
          18.624,
          18.672,
          18.72,
          18.768,
          18.816,
          18.864,
          18.912,
          18.96,
          19.008,
          19.056,
          19.104,
          19.152,
          19.2,
          19.248,
          19.296,
          19.344,
          19.392,
          19.44,
          19.488,
          19.536,
          19.584,
          19.632,
          19.68,
          19.728,
          19.776,
          19.824,
          19.872,
          19.92,
          19.968,
          20.016,
          20.064,
          20.112000000000002,
          20.16,
          20.208,
          20.256,
          20.304,
          20.352,
          20.4,
          20.448,
          20.496,
          20.544,
          20.592,
          20.64,
          20.688,
          20.736,
          20.784,
          20.832,
          20.88,
          20.928,
          20.976,
          21.024,
          21.072,
          21.12,
          21.168,
          21.216,
          21.264,
          21.312,
          21.36,
          21.408,
          21.456,
          21.504,
          21.552,
          21.6,
          21.648,
          21.696,
          21.744,
          21.792,
          21.84,
          21.887999999999998,
          21.936,
          21.984,
          22.032,
          22.08,
          22.128,
          22.176000000000002,
          22.224,
          22.272,
          22.32,
          22.368000000000002,
          22.416,
          22.464,
          22.512,
          22.56,
          22.608,
          22.656,
          22.704,
          22.752,
          22.8,
          22.848,
          22.896,
          22.944,
          22.992,
          23.04,
          23.088,
          23.136,
          23.184,
          23.232,
          23.28,
          23.328,
          23.376,
          23.424,
          23.472,
          23.52,
          23.567999999999998,
          23.616,
          23.664,
          23.712,
          23.759999999999998,
          23.808,
          23.856,
          23.904,
          23.951999999999998,
          24,
          24.048000000000002,
          24.096,
          24.144,
          24.192,
          24.240000000000002,
          24.288,
          24.336,
          24.384,
          24.432000000000002,
          24.48,
          24.528,
          24.576,
          24.624,
          24.672,
          24.72,
          24.768,
          24.816,
          24.864,
          24.912,
          24.96,
          25.008,
          25.056,
          25.104,
          25.152,
          25.2,
          25.248,
          25.296,
          25.344,
          25.392,
          25.44,
          25.488,
          25.536,
          25.584,
          25.631999999999998,
          25.68,
          25.728,
          25.776,
          25.823999999999998,
          25.872,
          25.92,
          25.968,
          26.016,
          26.064,
          26.112000000000002,
          26.16,
          26.208,
          26.256,
          26.304000000000002,
          26.352,
          26.4,
          26.448,
          26.496000000000002,
          26.544,
          26.592,
          26.64,
          26.688000000000002,
          26.736,
          26.784,
          26.832,
          26.880000000000003,
          26.928,
          26.976,
          27.024,
          27.072,
          27.119999999999997,
          27.168,
          27.216,
          27.264,
          27.311999999999998,
          27.36,
          27.408,
          27.456,
          27.503999999999998,
          27.552,
          27.6,
          27.648,
          27.695999999999998,
          27.744,
          27.792,
          27.84,
          27.887999999999998,
          27.936,
          27.984,
          28.032,
          28.08,
          28.128,
          28.176000000000002,
          28.224,
          28.272,
          28.32,
          28.368000000000002,
          28.416,
          28.464,
          28.512,
          28.560000000000002,
          28.608,
          28.656,
          28.704,
          28.752000000000002,
          28.8,
          28.848,
          28.896,
          28.944000000000003,
          28.992,
          29.04,
          29.088,
          29.136,
          29.183999999999997,
          29.232,
          29.28,
          29.328,
          29.375999999999998,
          29.424,
          29.472,
          29.52,
          29.567999999999998,
          29.616,
          29.664,
          29.712,
          29.759999999999998,
          29.808,
          29.856,
          29.904,
          29.951999999999998,
          30,
          30.048000000000002,
          30.096,
          30.144,
          30.192,
          30.240000000000002,
          30.288,
          30.336,
          30.384,
          30.432000000000002,
          30.48,
          30.528,
          30.576,
          30.624000000000002,
          30.672,
          30.72,
          30.768,
          30.816000000000003,
          30.864,
          30.912,
          30.96,
          31.008,
          31.055999999999997,
          31.104,
          31.152,
          31.2,
          31.247999999999998,
          31.296,
          31.344,
          31.392,
          31.439999999999998,
          31.488,
          31.536,
          31.584,
          31.631999999999998,
          31.68,
          31.728,
          31.776,
          31.823999999999998,
          31.872,
          31.92,
          31.968,
          32.016,
          32.064,
          32.112,
          32.16,
          32.208,
          32.256,
          32.304,
          32.352000000000004,
          32.4,
          32.448,
          32.496,
          32.544,
          32.592,
          32.64,
          32.688,
          32.736000000000004,
          32.784,
          32.832,
          32.88,
          32.928,
          32.976,
          33.024,
          33.072,
          33.12,
          33.168,
          33.216,
          33.263999999999996,
          33.312,
          33.36,
          33.408,
          33.456,
          33.504,
          33.552,
          33.6,
          33.647999999999996,
          33.696,
          33.744,
          33.792,
          33.84,
          33.888,
          33.936,
          33.984,
          34.032,
          34.08,
          34.128,
          34.176,
          34.224000000000004,
          34.272,
          34.32,
          34.367999999999995,
          34.416,
          34.464,
          34.512,
          34.56,
          34.608000000000004,
          34.656,
          34.704,
          34.751999999999995,
          34.8,
          34.848,
          34.896,
          34.944,
          34.992000000000004,
          35.04,
          35.088,
          35.135999999999996,
          35.184,
          35.232,
          35.28,
          35.328,
          35.376000000000005,
          35.424,
          35.472,
          35.519999999999996,
          35.568,
          35.616,
          35.664,
          35.712,
          35.760000000000005,
          35.808,
          35.856,
          35.903999999999996,
          35.952,
          36,
          36.048,
          36.096000000000004,
          36.144,
          36.192,
          36.239999999999995,
          36.288,
          36.336,
          36.384,
          36.432,
          36.480000000000004,
          36.528,
          36.576,
          36.623999999999995,
          36.672,
          36.72,
          36.768,
          36.816,
          36.864000000000004,
          36.912,
          36.96,
          37.007999999999996,
          37.056,
          37.104,
          37.152,
          37.2,
          37.248000000000005,
          37.296,
          37.344,
          37.391999999999996,
          37.44,
          37.488,
          37.536,
          37.584,
          37.632000000000005,
          37.68,
          37.728,
          37.775999999999996,
          37.824,
          37.872,
          37.92,
          37.968,
          38.016,
          38.064,
          38.111999999999995,
          38.16,
          38.208,
          38.256,
          38.304,
          38.352000000000004,
          38.4,
          38.448,
          38.495999999999995,
          38.544,
          38.592,
          38.64,
          38.688,
          38.736000000000004,
          38.784,
          38.832,
          38.879999999999995,
          38.928,
          38.976,
          39.024,
          39.072,
          39.120000000000005,
          39.168,
          39.216,
          39.263999999999996,
          39.312,
          39.36,
          39.408,
          39.456,
          39.504000000000005,
          39.552,
          39.6,
          39.647999999999996,
          39.696,
          39.744,
          39.792,
          39.84,
          39.888000000000005,
          39.936,
          39.984,
          40.032,
          40.08,
          40.128,
          40.176,
          40.224000000000004,
          40.272,
          40.32,
          40.367999999999995,
          40.416,
          40.464,
          40.512,
          40.56,
          40.608000000000004,
          40.656,
          40.704,
          40.751999999999995,
          40.8,
          40.848,
          40.896,
          40.944,
          40.992000000000004,
          41.04,
          41.088,
          41.135999999999996,
          41.184,
          41.232,
          41.28,
          41.328,
          41.376000000000005,
          41.424,
          41.472,
          41.519999999999996,
          41.568,
          41.616,
          41.664,
          41.712,
          41.760000000000005,
          41.808,
          41.856,
          41.903999999999996,
          41.952
         ],
         "xaxis": "x",
         "y": [
          0.0030805945657501736,
          0.0031997482777239928,
          0.003323161055837752,
          0.003451139304255237,
          0.003584013960189683,
          0.00372214079298625,
          0.003865900568390347,
          0.004015699071413081,
          0.004171966981881171,
          0.004335159597461098,
          0.00450575639967776,
          0.004684260459196984,
          0.0048711976774076585,
          0.0050671158621218544,
          0.005272583636004702,
          0.0054881891771510925,
          0.005714538792042903,
          0.005952255321944875,
          0.00620197638463658,
          0.006464352454222599,
          0.0067400447826272605,
          0.007029723167250999,
          0.007334063570156754,
          0.007653745595057541,
          0.007989449829299122,
          0.008341855058967361,
          0.008711635366207228,
          0.00909945711880695,
          0.009505975863086416,
          0.009931833132121296,
          0.010377653182334039,
          0.010844039672482996,
          0.011331572300076772,
          0.01184080341121703,
          0.012372254600833627,
          0.012926413321192988,
          0.013503729517436537,
          0.014104612309718854,
          0.014729426742251122,
          0.015378490620200639,
          0.016052071455939038,
          0.016750383546535783,
          0.01747358520467179,
          0.01822177616524928,
          0.01899499518991099,
          0.019793217891417587,
          0.02061635479936152,
          0.021464249688002826,
          0.022336678186087523,
          0.023233346687338615,
          0.02415389157889281,
          0.025097878803287916,
          0.026064803767686967,
          0.027054091611860807,
          0.028065097844050837,
          0.029097109351214994,
          0.030149345787328172,
          0.03122096134041417,
          0.032311046875815826,
          0.03341863244994245,
          0.034542690185368354,
          0.03568213749474884,
          0.036835840637616885,
          0.0380026185907628,
          0.03918124720962981,
          0.04037046365503687,
          0.041568971056602386,
          0.04277544338155307,
          0.043988530475192564,
          0.045206863237231804,
          0.04642905889647678,
          0.04765372634508265,
          0.048879471492716306,
          0.05010490260059157,
          0.05132863555542502,
          0.0525492990439482,
          0.05376553958968994,
          0.05497602641531447,
          0.056179456095844876,
          0.05737455697059997,
          0.05856009328459702,
          0.05973486903347665,
          0.06089773148966311,
          0.06204757439139499,
          0.06318334078045434,
          0.06430402547873199,
          0.06540867719824374,
          0.06649640028366952,
          0.0675663560909554,
          0.0686177640098649,
          0.0696499021425545,
          0.0706621076542047,
          0.07165377681539814,
          0.07262436475924774,
          0.0735733849792044,
          0.07450040859592018,
          0.07540506342355752,
          0.07628703286739033,
          0.07714605468550056,
          0.07798191964777235,
          0.07879447012523308,
          0.07958359864209838,
          0.08034924642165739,
          0.08109140195538758,
          0.08181009962246887,
          0.08250541838419416,
          0.08317748057468996,
          0.0838264508059138,
          0.08445253500114033,
          0.0850559795671322,
          0.08563707071098212,
          0.08619613390325893,
          0.08673353348466921,
          0.08724967240900207,
          0.08774499211074499,
          0.08821997248147238,
          0.08867513193501726,
          0.08911102753756325,
          0.08952825517522153,
          0.08992744972841912,
          0.09030928521960026,
          0.0906744748983473,
          0.0910237712261279,
          0.09135796572150151,
          0.09167788862581902,
          0.09198440834922365,
          0.09227843065717209,
          0.0925608975587422,
          0.09283278585968162,
          0.09309510534551346,
          0.09334889656301794,
          0.09359522817208918,
          0.09383519384425056,
          0.09406990868903746,
          0.0943005051949479,
          0.09452812867769805,
          0.09475393223505188,
          0.09497907121444578,
          0.09520469720696126,
          0.09543195158880266,
          0.09566195863924289,
          0.09589581827191415,
          0.09613459842422141,
          0.0963793271574658,
          0.09663098452781876,
          0.09689049429551008,
          0.09715871554634509,
          0.09743643430578978,
          0.09772435523129187,
          0.09802309347306613,
          0.0983331667971764,
          0.09865498806726841,
          0.09898885818265891,
          0.09933495957058475,
          0.09969335032915952,
          0.10006395911496832,
          0.10044658086517025,
          0.10084087343850347,
          0.10124635525266126,
          0.10166240398722132,
          0.10208825641166276,
          0.10252300938712326,
          0.102965622078525,
          0.1034149194006622,
          0.10386959670795645,
          0.10432822572301614,
          0.10478926168411383,
          0.10525105167635042,
          0.10571184409594371,
          0.10616979918189165,
          0.10662300053450768,
          0.10706946752624874,
          0.10750716849704356,
          0.10793403461427199,
          0.10834797426678172,
          0.10874688785313526,
          0.10912868281673933,
          0.10949128877487233,
          0.1098326725849078,
          0.11015085318941994,
          0.11044391608234025,
          0.11071002724096818,
          0.11094744637340694,
          0.11115453933783241,
          0.11132978959886791,
          0.11147180859705128,
          0.11157934491986271,
          0.11165129217681828,
          0.1116866954965018,
          0.1116847565799719,
          0.11164483726237387,
          0.11156646155266811,
          0.11144931613982871,
          0.11129324937241164,
          0.11109826873680088,
          0.11086453687742205,
          0.11059236621951649,
          0.11028221227150298,
          0.10993466569921707,
          0.10955044327829853,
          0.10913037784346143,
          0.10867540736419536,
          0.10818656328550624,
          0.1076649582794853,
          0.10711177355876776,
          0.10652824590623441,
          0.10591565457664098,
          0.10527530822524724,
          0.10460853201598906,
          0.10391665505736801,
          0.10320099830814801,
          0.10246286308718651,
          0.10170352031248535,
          0.10092420058393958,
          0.10012608521239698,
          0.09931029828479648,
          0.09847789984133579,
          0.09762988022616181,
          0.09676715565803748,
          0.09589056505205701,
          0.09500086810790442,
          0.09409874466456909,
          0.09318479530598858,
          0.09225954318698273,
          0.09132343703419592,
          0.09037685526275595,
          0.0894201111361165,
          0.08845345888421689,
          0.0874771006837941,
          0.08649119439454495,
          0.08549586193594563,
          0.08449119818202966,
          0.08347728024534104,
          0.08245417701673952,
          0.08142195882475363,
          0.08038070707685975,
          0.07933052374536091,
          0.07827154056255499,
          0.07720392779354607,
          0.07612790246036556,
          0.07504373589801032,
          0.0739517605314753,
          0.07285237577281793,
          0.07174605294859789,
          0.07063333918060612,
          0.0695148601564567,
          0.06839132174123123,
          0.06726351039672925,
          0.0661322923908294,
          0.06499861179576394,
          0.06386348729056143,
          0.06272800779926903,
          0.0615933270126127,
          0.060460656856249406,
          0.05933125998347231,
          0.05820644138394299,
          0.057087539212511015,
          0.055975914953250556,
          0.054872943043327745,
          0.0537800000890249,
          0.05269845381209189,
          0.05162965186844474,
          0.05057491068302197,
          0.049535504444306065,
          0.04851265439961817,
          0.047507518587818445,
          0.04652118213958384,
          0.045554648267060315,
          0.04460883005456518,
          0.043684543150279996,
          0.042782499445755795,
          0.041903301815722244,
          0.04104743997544132,
          0.040215287496878284,
          0.039407100008585695,
          0.03862301458764774,
          0.037863050335608855,
          0.037127110114269626,
          0.03641498340182976,
          0.03572635021534793,
          0.035060786032084436,
          0.034417767630208075,
          0.03379667975874761,
          0.03319682253770615,
          0.032617419482040305,
          0.032057626037816825,
          0.031516538515338796,
          0.03099320330239693,
          0.030486626241011734,
          0.029995782053045334,
          0.029519623703769895,
          0.02905709159777627,
          0.02860712250834083,
          0.028168658149368513,
          0.027740653308119218,
          0.02732208346688998,
          0.02691195185246556,
          0.02650929586324976,
          0.02611319283532163,
          0.02572276512002725,
          0.025337184456905845,
          0.02495567563656082,
          0.024577519458362496,
          0.02420205499742385,
          0.023828681204010937,
          0.023456857866307218,
          0.02308610597414769,
          0.02271600752693236,
          0.02234620483335185,
          0.021976399353816022,
          0.021606350138570065,
          0.021235871915446694,
          0.02086483288109593,
          0.02049315224842398,
          0.020120797600958275,
          0.019747782102038668,
          0.019374161603231497,
          0.019000031692304582,
          0.018625524716612368,
          0.01825080681295439,
          0.017876074970029344,
          0.017501554144618927,
          0.0171274944477461,
          0.01675416841235568,
          0.016381868349670318,
          0.016010903797375357,
          0.015641599059243255,
          0.015274290832799426,
          0.014909325919182698,
          0.014547059007504562,
          0.014187850524766506,
          0.01383206454175305,
          0.01348006672525475,
          0.013132222327464273,
          0.012788894204375744,
          0.012450440856450678,
          0.012117214486627984,
          0.01178955907286837,
          0.011467808454770906,
          0.011152284436283869,
          0.010843294909083038,
          0.010541132003718836,
          0.010246070278061722,
          0.009958364954830441,
          0.009678250221999172,
          0.00940593761158683,
          0.009141614473686013,
          0.008885442563544017,
          0.008637556760034922,
          0.008398063933943028,
          0.008167041984094946,
          0.007944539058547409,
          0.007730572976756212,
          0.0075251308669584864,
          0.007328169030914414,
          0.007139613045726751,
          0.006959358109729514,
          0.006787269636468996,
          0.006623184097648832,
          0.006466910112639268,
          0.006318229778823851,
          0.006176900233739621,
          0.006042655436723226,
          0.005915208154667294,
          0.00579425213357661,
          0.0056794644349469035,
          0.005570507913614719,
          0.005467033811691255,
          0.005368684441524903,
          0.005275095929365973,
          0.005185900990550808,
          0.0051007317065901265,
          0.0050192222745407975,
          0.004941011699458095,
          0.004865746401548748,
          0.004793082710861085,
          0.004722689223924671,
          0.004654248998662069,
          0.004587461566100307,
          0.004522044739871585,
          0.0044577362071687955,
          0.0043942948876659355,
          0.0043315020498838055,
          0.004269162177527837,
          0.004207103581406762,
          0.0041451787556107235,
          0.004083264479646301,
          0.004021261671153128,
          0.003959094996627428,
          0.0038967122502180673,
          0.0038340835131140975,
          0.0037712001082811416,
          0.003708073367310438,
          0.0036447332278987214,
          0.0035812266819695037,
          0.0035176160956654754,
          0.0034539774233858264,
          0.0033903983387052468,
          0.0033269763054006416,
          0.003263816611925834,
          0.0032010303925266623,
          0.0031387326577850196,
          0.003077040356733714,
          0.0030160704918098915,
          0.0029559383068258017,
          0.00289675556685184,
          0.0028386289474441515,
          0.002781658549027638,
          0.0027259365504850577,
          0.0026715460141244316,
          0.0026185598522214045,
          0.0025670399632824557,
          0.002517036544070992,
          0.0024685875813026214,
          0.0024217185247721314,
          0.002376442141543198,
          0.00233275854873597,
          0.0022906554204082732,
          0.002250108362064221,
          0.0022110814444605913,
          0.0021735278866343863,
          0.0021373908764646425,
          0.002102604515623483,
          0.002069094874481222,
          0.002036781141422709,
          0.0020055768501173687,
          0.001975391167574544,
          0.0019461302253152848,
          0.0019176984757065117,
          0.0018900000554365655,
          0.0018629401382609279,
          0.0018364262595113529,
          0.001810369595434439,
          0.0017846861811981357,
          0.0017592980523660417,
          0.001734134295776502,
          0.0017091319970591972,
          0.0016842370734603857,
          0.0016594049822077795,
          0.0016346012963074246,
          0.0016098021414049442,
          0.001584994489139425,
          0.001560176304246776,
          0.001535356544506349,
          0.0015105550144477457,
          0.0014858020755201793,
          0.0014611382171539117,
          0.0014366134947908342,
          0.001412286842510812,
          0.001388225269314398,
          0.0013645029494259281,
          0.001341200218140842,
          0.001318402485745752,
          0.0012961990828819277,
          0.0012746820513947546,
          0.0012539448952104506,
          0.0012340813061046331,
          0.0012151838793757524,
          0.001197342834412025,
          0.0011806447549484766,
          0.0011651713634557596,
          0.0011509983435936265,
          0.0011381942240068963,
          0.001126819335951673,
          0.001116924856324933,
          0.0011085519466437664,
          0.0011017309973940519,
          0.0010964809859554201,
          0.001092808955023578,
          0.0010907096171063075,
          0.0010901650892797977,
          0.0010911447609712594,
          0.0010936052960964758,
          0.0010974907694406885,
          0.001102732935742059,
          0.0011092516285324523,
          0.0011169552844239093,
          0.0011257415872138795,
          0.0011354982249308014,
          0.0011461037517661791,
          0.0011574285457515473,
          0.0011693358520497253,
          0.0011816829008498243,
          0.0011943220880940974,
          0.0012071022066304268,
          0.0012198697148844359,
          0.0012324700297862057,
          0.0012447488304730646,
          0.0012565533592255465,
          0.0012677337061800637,
          0.001278144064599177,
          0.0012876439438672294,
          0.0012960993279115323,
          0.0013033837674225532,
          0.001309379395052725,
          0.0013139778537040068,
          0.001317081129057849,
          0.0013186022786454592,
          0.0013184660509867622,
          0.0013166093896277656
         ],
         "yaxis": "y"
        }
       ],
       "layout": {
        "barmode": "overlay",
        "hovermode": "closest",
        "legend": {
         "traceorder": "reversed"
        },
        "template": {
         "data": {
          "bar": [
           {
            "error_x": {
             "color": "#2a3f5f"
            },
            "error_y": {
             "color": "#2a3f5f"
            },
            "marker": {
             "line": {
              "color": "#E5ECF6",
              "width": 0.5
             },
             "pattern": {
              "fillmode": "overlay",
              "size": 10,
              "solidity": 0.2
             }
            },
            "type": "bar"
           }
          ],
          "barpolar": [
           {
            "marker": {
             "line": {
              "color": "#E5ECF6",
              "width": 0.5
             },
             "pattern": {
              "fillmode": "overlay",
              "size": 10,
              "solidity": 0.2
             }
            },
            "type": "barpolar"
           }
          ],
          "carpet": [
           {
            "aaxis": {
             "endlinecolor": "#2a3f5f",
             "gridcolor": "white",
             "linecolor": "white",
             "minorgridcolor": "white",
             "startlinecolor": "#2a3f5f"
            },
            "baxis": {
             "endlinecolor": "#2a3f5f",
             "gridcolor": "white",
             "linecolor": "white",
             "minorgridcolor": "white",
             "startlinecolor": "#2a3f5f"
            },
            "type": "carpet"
           }
          ],
          "choropleth": [
           {
            "colorbar": {
             "outlinewidth": 0,
             "ticks": ""
            },
            "type": "choropleth"
           }
          ],
          "contour": [
           {
            "colorbar": {
             "outlinewidth": 0,
             "ticks": ""
            },
            "colorscale": [
             [
              0,
              "#0d0887"
             ],
             [
              0.1111111111111111,
              "#46039f"
             ],
             [
              0.2222222222222222,
              "#7201a8"
             ],
             [
              0.3333333333333333,
              "#9c179e"
             ],
             [
              0.4444444444444444,
              "#bd3786"
             ],
             [
              0.5555555555555556,
              "#d8576b"
             ],
             [
              0.6666666666666666,
              "#ed7953"
             ],
             [
              0.7777777777777778,
              "#fb9f3a"
             ],
             [
              0.8888888888888888,
              "#fdca26"
             ],
             [
              1,
              "#f0f921"
             ]
            ],
            "type": "contour"
           }
          ],
          "contourcarpet": [
           {
            "colorbar": {
             "outlinewidth": 0,
             "ticks": ""
            },
            "type": "contourcarpet"
           }
          ],
          "heatmap": [
           {
            "colorbar": {
             "outlinewidth": 0,
             "ticks": ""
            },
            "colorscale": [
             [
              0,
              "#0d0887"
             ],
             [
              0.1111111111111111,
              "#46039f"
             ],
             [
              0.2222222222222222,
              "#7201a8"
             ],
             [
              0.3333333333333333,
              "#9c179e"
             ],
             [
              0.4444444444444444,
              "#bd3786"
             ],
             [
              0.5555555555555556,
              "#d8576b"
             ],
             [
              0.6666666666666666,
              "#ed7953"
             ],
             [
              0.7777777777777778,
              "#fb9f3a"
             ],
             [
              0.8888888888888888,
              "#fdca26"
             ],
             [
              1,
              "#f0f921"
             ]
            ],
            "type": "heatmap"
           }
          ],
          "heatmapgl": [
           {
            "colorbar": {
             "outlinewidth": 0,
             "ticks": ""
            },
            "colorscale": [
             [
              0,
              "#0d0887"
             ],
             [
              0.1111111111111111,
              "#46039f"
             ],
             [
              0.2222222222222222,
              "#7201a8"
             ],
             [
              0.3333333333333333,
              "#9c179e"
             ],
             [
              0.4444444444444444,
              "#bd3786"
             ],
             [
              0.5555555555555556,
              "#d8576b"
             ],
             [
              0.6666666666666666,
              "#ed7953"
             ],
             [
              0.7777777777777778,
              "#fb9f3a"
             ],
             [
              0.8888888888888888,
              "#fdca26"
             ],
             [
              1,
              "#f0f921"
             ]
            ],
            "type": "heatmapgl"
           }
          ],
          "histogram": [
           {
            "marker": {
             "pattern": {
              "fillmode": "overlay",
              "size": 10,
              "solidity": 0.2
             }
            },
            "type": "histogram"
           }
          ],
          "histogram2d": [
           {
            "colorbar": {
             "outlinewidth": 0,
             "ticks": ""
            },
            "colorscale": [
             [
              0,
              "#0d0887"
             ],
             [
              0.1111111111111111,
              "#46039f"
             ],
             [
              0.2222222222222222,
              "#7201a8"
             ],
             [
              0.3333333333333333,
              "#9c179e"
             ],
             [
              0.4444444444444444,
              "#bd3786"
             ],
             [
              0.5555555555555556,
              "#d8576b"
             ],
             [
              0.6666666666666666,
              "#ed7953"
             ],
             [
              0.7777777777777778,
              "#fb9f3a"
             ],
             [
              0.8888888888888888,
              "#fdca26"
             ],
             [
              1,
              "#f0f921"
             ]
            ],
            "type": "histogram2d"
           }
          ],
          "histogram2dcontour": [
           {
            "colorbar": {
             "outlinewidth": 0,
             "ticks": ""
            },
            "colorscale": [
             [
              0,
              "#0d0887"
             ],
             [
              0.1111111111111111,
              "#46039f"
             ],
             [
              0.2222222222222222,
              "#7201a8"
             ],
             [
              0.3333333333333333,
              "#9c179e"
             ],
             [
              0.4444444444444444,
              "#bd3786"
             ],
             [
              0.5555555555555556,
              "#d8576b"
             ],
             [
              0.6666666666666666,
              "#ed7953"
             ],
             [
              0.7777777777777778,
              "#fb9f3a"
             ],
             [
              0.8888888888888888,
              "#fdca26"
             ],
             [
              1,
              "#f0f921"
             ]
            ],
            "type": "histogram2dcontour"
           }
          ],
          "mesh3d": [
           {
            "colorbar": {
             "outlinewidth": 0,
             "ticks": ""
            },
            "type": "mesh3d"
           }
          ],
          "parcoords": [
           {
            "line": {
             "colorbar": {
              "outlinewidth": 0,
              "ticks": ""
             }
            },
            "type": "parcoords"
           }
          ],
          "pie": [
           {
            "automargin": true,
            "type": "pie"
           }
          ],
          "scatter": [
           {
            "fillpattern": {
             "fillmode": "overlay",
             "size": 10,
             "solidity": 0.2
            },
            "type": "scatter"
           }
          ],
          "scatter3d": [
           {
            "line": {
             "colorbar": {
              "outlinewidth": 0,
              "ticks": ""
             }
            },
            "marker": {
             "colorbar": {
              "outlinewidth": 0,
              "ticks": ""
             }
            },
            "type": "scatter3d"
           }
          ],
          "scattercarpet": [
           {
            "marker": {
             "colorbar": {
              "outlinewidth": 0,
              "ticks": ""
             }
            },
            "type": "scattercarpet"
           }
          ],
          "scattergeo": [
           {
            "marker": {
             "colorbar": {
              "outlinewidth": 0,
              "ticks": ""
             }
            },
            "type": "scattergeo"
           }
          ],
          "scattergl": [
           {
            "marker": {
             "colorbar": {
              "outlinewidth": 0,
              "ticks": ""
             }
            },
            "type": "scattergl"
           }
          ],
          "scattermapbox": [
           {
            "marker": {
             "colorbar": {
              "outlinewidth": 0,
              "ticks": ""
             }
            },
            "type": "scattermapbox"
           }
          ],
          "scatterpolar": [
           {
            "marker": {
             "colorbar": {
              "outlinewidth": 0,
              "ticks": ""
             }
            },
            "type": "scatterpolar"
           }
          ],
          "scatterpolargl": [
           {
            "marker": {
             "colorbar": {
              "outlinewidth": 0,
              "ticks": ""
             }
            },
            "type": "scatterpolargl"
           }
          ],
          "scatterternary": [
           {
            "marker": {
             "colorbar": {
              "outlinewidth": 0,
              "ticks": ""
             }
            },
            "type": "scatterternary"
           }
          ],
          "surface": [
           {
            "colorbar": {
             "outlinewidth": 0,
             "ticks": ""
            },
            "colorscale": [
             [
              0,
              "#0d0887"
             ],
             [
              0.1111111111111111,
              "#46039f"
             ],
             [
              0.2222222222222222,
              "#7201a8"
             ],
             [
              0.3333333333333333,
              "#9c179e"
             ],
             [
              0.4444444444444444,
              "#bd3786"
             ],
             [
              0.5555555555555556,
              "#d8576b"
             ],
             [
              0.6666666666666666,
              "#ed7953"
             ],
             [
              0.7777777777777778,
              "#fb9f3a"
             ],
             [
              0.8888888888888888,
              "#fdca26"
             ],
             [
              1,
              "#f0f921"
             ]
            ],
            "type": "surface"
           }
          ],
          "table": [
           {
            "cells": {
             "fill": {
              "color": "#EBF0F8"
             },
             "line": {
              "color": "white"
             }
            },
            "header": {
             "fill": {
              "color": "#C8D4E3"
             },
             "line": {
              "color": "white"
             }
            },
            "type": "table"
           }
          ]
         },
         "layout": {
          "annotationdefaults": {
           "arrowcolor": "#2a3f5f",
           "arrowhead": 0,
           "arrowwidth": 1
          },
          "autotypenumbers": "strict",
          "coloraxis": {
           "colorbar": {
            "outlinewidth": 0,
            "ticks": ""
           }
          },
          "colorscale": {
           "diverging": [
            [
             0,
             "#8e0152"
            ],
            [
             0.1,
             "#c51b7d"
            ],
            [
             0.2,
             "#de77ae"
            ],
            [
             0.3,
             "#f1b6da"
            ],
            [
             0.4,
             "#fde0ef"
            ],
            [
             0.5,
             "#f7f7f7"
            ],
            [
             0.6,
             "#e6f5d0"
            ],
            [
             0.7,
             "#b8e186"
            ],
            [
             0.8,
             "#7fbc41"
            ],
            [
             0.9,
             "#4d9221"
            ],
            [
             1,
             "#276419"
            ]
           ],
           "sequential": [
            [
             0,
             "#0d0887"
            ],
            [
             0.1111111111111111,
             "#46039f"
            ],
            [
             0.2222222222222222,
             "#7201a8"
            ],
            [
             0.3333333333333333,
             "#9c179e"
            ],
            [
             0.4444444444444444,
             "#bd3786"
            ],
            [
             0.5555555555555556,
             "#d8576b"
            ],
            [
             0.6666666666666666,
             "#ed7953"
            ],
            [
             0.7777777777777778,
             "#fb9f3a"
            ],
            [
             0.8888888888888888,
             "#fdca26"
            ],
            [
             1,
             "#f0f921"
            ]
           ],
           "sequentialminus": [
            [
             0,
             "#0d0887"
            ],
            [
             0.1111111111111111,
             "#46039f"
            ],
            [
             0.2222222222222222,
             "#7201a8"
            ],
            [
             0.3333333333333333,
             "#9c179e"
            ],
            [
             0.4444444444444444,
             "#bd3786"
            ],
            [
             0.5555555555555556,
             "#d8576b"
            ],
            [
             0.6666666666666666,
             "#ed7953"
            ],
            [
             0.7777777777777778,
             "#fb9f3a"
            ],
            [
             0.8888888888888888,
             "#fdca26"
            ],
            [
             1,
             "#f0f921"
            ]
           ]
          },
          "colorway": [
           "#636efa",
           "#EF553B",
           "#00cc96",
           "#ab63fa",
           "#FFA15A",
           "#19d3f3",
           "#FF6692",
           "#B6E880",
           "#FF97FF",
           "#FECB52"
          ],
          "font": {
           "color": "#2a3f5f"
          },
          "geo": {
           "bgcolor": "white",
           "lakecolor": "white",
           "landcolor": "#E5ECF6",
           "showlakes": true,
           "showland": true,
           "subunitcolor": "white"
          },
          "hoverlabel": {
           "align": "left"
          },
          "hovermode": "closest",
          "mapbox": {
           "style": "light"
          },
          "paper_bgcolor": "white",
          "plot_bgcolor": "#E5ECF6",
          "polar": {
           "angularaxis": {
            "gridcolor": "white",
            "linecolor": "white",
            "ticks": ""
           },
           "bgcolor": "#E5ECF6",
           "radialaxis": {
            "gridcolor": "white",
            "linecolor": "white",
            "ticks": ""
           }
          },
          "scene": {
           "xaxis": {
            "backgroundcolor": "#E5ECF6",
            "gridcolor": "white",
            "gridwidth": 2,
            "linecolor": "white",
            "showbackground": true,
            "ticks": "",
            "zerolinecolor": "white"
           },
           "yaxis": {
            "backgroundcolor": "#E5ECF6",
            "gridcolor": "white",
            "gridwidth": 2,
            "linecolor": "white",
            "showbackground": true,
            "ticks": "",
            "zerolinecolor": "white"
           },
           "zaxis": {
            "backgroundcolor": "#E5ECF6",
            "gridcolor": "white",
            "gridwidth": 2,
            "linecolor": "white",
            "showbackground": true,
            "ticks": "",
            "zerolinecolor": "white"
           }
          },
          "shapedefaults": {
           "line": {
            "color": "#2a3f5f"
           }
          },
          "ternary": {
           "aaxis": {
            "gridcolor": "white",
            "linecolor": "white",
            "ticks": ""
           },
           "baxis": {
            "gridcolor": "white",
            "linecolor": "white",
            "ticks": ""
           },
           "bgcolor": "#E5ECF6",
           "caxis": {
            "gridcolor": "white",
            "linecolor": "white",
            "ticks": ""
           }
          },
          "title": {
           "x": 0.05
          },
          "xaxis": {
           "automargin": true,
           "gridcolor": "white",
           "linecolor": "white",
           "ticks": "",
           "title": {
            "standoff": 15
           },
           "zerolinecolor": "white",
           "zerolinewidth": 2
          },
          "yaxis": {
           "automargin": true,
           "gridcolor": "white",
           "linecolor": "white",
           "ticks": "",
           "title": {
            "standoff": 15
           },
           "zerolinecolor": "white",
           "zerolinewidth": 2
          }
         }
        },
        "title": {
         "text": "Hist and Curve Plot"
        },
        "xaxis": {
         "anchor": "y2",
         "domain": [
          0,
          1
         ],
         "zeroline": false
        },
        "yaxis": {
         "anchor": "free",
         "domain": [
          0,
          1
         ],
         "position": 0
        }
       }
      }
     },
     "metadata": {},
     "output_type": "display_data"
    }
   ],
   "source": [
    "import plotly.figure_factory as ff\n",
    "import numpy as np\n",
    "\n",
    "x1= df_iid[df_iid[\"gender_name\"] == \"Female\"][\"age\"].dropna().copy()\n",
    "x2= df_iid[df_iid[\"gender_name\"] == \"Male\"][\"age\"].dropna().copy()\n",
    "x1 = x1.to_numpy()\n",
    "x2 = x2.to_numpy()\n",
    "\n",
    "hist_data = [x1, x2]\n",
    "\n",
    "group_labels = ['Female', 'Male']\n",
    "colors = [\"#F78FE4\", \"#0460C9\"]\n",
    "\n",
    "# Create distplot with curve_type set to 'normal'\n",
    "fig = ff.create_distplot(hist_data, group_labels, colors=colors,\n",
    "                         bin_size=1, show_rug=False)\n",
    "\n",
    "# Add title\n",
    "fig.update_layout(title_text='Hist and Curve Plot')\n",
    "fig.show()"
   ]
  },
  {
   "cell_type": "code",
   "execution_count": 13,
   "metadata": {},
   "outputs": [
    {
     "data": {
      "application/vnd.plotly.v1+json": {
       "config": {
        "plotlyServerURL": "https://plot.ly"
       },
       "data": [
        {
         "autobinx": false,
         "histnorm": "probability density",
         "legendgroup": "Group 1",
         "marker": {
          "color": "#A56CC1"
         },
         "name": "Group 1",
         "opacity": 0.7,
         "type": "histogram",
         "x": [
          -4.2886495191223455,
          -3.616504656305156,
          -2.9184687856154583,
          -1.8936998890006902,
          -1.6337804135979104,
          -2.457088717847739,
          -1.1466370488316038,
          -1.2467572679682104,
          -0.5650999231751868,
          -1.3424589088778756,
          -0.4829128132599876,
          -3.7507174867685924,
          -2.201222921573275,
          -3.558027887826369,
          -3.263575446525506,
          -2.602998013746972,
          -1.3074790392307678,
          -1.6065056822505697,
          -3.5968111652345724,
          -2.1319700995350734,
          -1.3502332152740868,
          -2.9671343756507964,
          -1.49720377765073,
          -1.9509723687902434,
          -3.432349494350995,
          -1.405068926821662,
          -2.4981971142259383,
          -0.2551447075083193,
          -2.192721869468782,
          -2.883993607236833,
          -2.2436824888386155,
          -2.4727054482115034,
          -1.902695313066334,
          -1.7527221581817922,
          -2.116020063674871,
          -2.277152149871106,
          -3.3674410894448625,
          -1.7514852324869576,
          -0.9432580727686228,
          -1.2767353858918895,
          -1.0063262013442524,
          -1.2050512747697097,
          -2.585416126765216,
          -2.679227589020222,
          -3.446398024722246,
          -1.3268107647466194,
          -1.1265951778752576,
          -2.3390816639953664,
          -0.4503403223805371,
          -0.9076171670078803,
          -2.519577218160953,
          -3.2108456571473885,
          -1.8931249397138192,
          -2.9730935521848534,
          -1.6601522114065144,
          -1.1152887921136483,
          -0.3638778507075029,
          -1.689244581460097,
          -2.57164339275626,
          -2.8069916982200516,
          -1.2526292790531643,
          -1.9474473062457192,
          -2.884047307535418,
          -2.5897367749044875,
          -1.9559622927526958,
          -3.112775527987879,
          -3.8064109680583282,
          -2.211393959610614,
          -3.1378687810108046,
          -1.185341367370579,
          -1.9560886907521147,
          -1.1631696163882363,
          -2.18084172962277,
          -0.8190605732880063,
          -1.9736036435588165,
          -1.7296268536580814,
          -4.26924179210862,
          -2.318175643813399,
          -1.6547244780314077,
          -3.895187313641725,
          -0.41316284459367014,
          -0.4112077630307571,
          -1.7558772593464138,
          -0.7674256778132764,
          -2.661243683115718,
          -1.2394344638790193,
          -0.33979336308134966,
          -2.560552108532207,
          -2.6780663780643534,
          -0.40791480674707503,
          -0.3534186538690225,
          -1.7454226105710762,
          -2.2138296801353667,
          -2.070849868208088,
          -1.2832666792648033,
          -1.5416365538798151,
          -0.7408264601443484,
          -2.6520369414085936,
          -2.479956956935688,
          -2.560963919486388,
          -1.2689632604684635,
          -2.808913506206069,
          -4.977019768129207,
          -1.266396145219643,
          -1.9538956715313789,
          -2.3561793851585033,
          -1.678210500618511,
          -2.088797677745553,
          -2.2569760348979946,
          -0.9142729453885812,
          -2.1328557971588515,
          -1.6295697933573268,
          -2.2145567348137067,
          -1.5562283842375049,
          -0.21699632808699487,
          -1.4352149185614982,
          -1.9343832000168237,
          -1.3841449156300603,
          -1.7652513880000433,
          0.3417319137764614,
          -4.266587433242705,
          -2.207278490934619,
          -3.0857442799947625,
          -3.755571684046068,
          -2.8208614207161142,
          -3.490905683866327,
          -2.8093616692214884,
          -2.3541987370443236,
          -2.0938630393536157,
          -2.3943396499348464,
          -2.0765515472981626,
          -3.351739181305346,
          -2.1278652615762006,
          -0.8327610165872315,
          -0.7407255665510584,
          -1.7695542896241456,
          -2.005232596026619,
          -2.6306135781923685,
          -2.285460705647515,
          -2.5691536856676365,
          -1.7170516606711483,
          0.32513032308279266,
          -2.6761231182106946,
          -2.1177543476301737,
          -2.538338006910768,
          -0.921937939468898,
          -1.3965614126035226,
          -2.968048199084319,
          -0.7688075900009816,
          -2.2076655265325362,
          -2.671454584388662,
          -0.28502652070416934,
          -1.7975448537249386,
          -2.3856658543021396,
          -3.86435121021342,
          -2.1381470012442003,
          -4.041879016628842,
          -1.5210585777421943,
          -1.7841183857865306,
          -1.6573411161620397,
          -1.2934809160551222,
          -2.1422115016389136,
          -1.20230683936488,
          -2.9527246993465135,
          -1.5268261076907121,
          -2.4416928971277136,
          -3.394638167104773,
          -2.7222787647636046,
          -1.919761496324668,
          -3.636144773605379,
          -2.6235589894725613,
          -0.7309065778755184,
          -2.8738590369724015,
          -2.637844872082591,
          -0.024235214883278733,
          -0.7144299987633644,
          -1.234717053514316,
          -3.7553718842305566,
          -1.7972223434444536,
          -2.0716456933300504,
          -0.18864693948217037,
          -0.2086118505959158,
          -2.574626131799388,
          -1.511637439327737,
          -2.3418441187523498,
          -1.9890189209066593,
          -3.1851891132610906,
          -1.8365137652000039,
          -1.768989710045014,
          -2.230786387403172,
          -1.9174860937719382,
          -2.661354979370365,
          -3.1768623270701726,
          -3.4357738351465774,
          -1.785021168725812,
          -1.5194451461266913,
          -2.8907441229833393,
          -1.2451238163880292,
          -3.1737733218494846,
          -3.027786990045165
         ],
         "xaxis": "x",
         "xbins": {
          "end": 0.3417319137764614,
          "size": 0.2,
          "start": -4.977019768129207
         },
         "yaxis": "y"
        },
        {
         "autobinx": false,
         "histnorm": "probability density",
         "legendgroup": "Group 2",
         "marker": {
          "color": "#A6ACEC"
         },
         "name": "Group 2",
         "opacity": 0.7,
         "type": "histogram",
         "x": [
          0.6279862754225671,
          0.23799202844169037,
          -1.4077655795518509,
          -0.2578379214101402,
          0.3063856411507863,
          -1.6370782506257855,
          -0.7357871554934591,
          -0.020439255556229188,
          0.28529915876628403,
          2.5714033338763396,
          1.157047203880116,
          -1.1300165905531887,
          -0.10219743721721071,
          -1.1162762372045627,
          -0.23981074007602937,
          -1.2258855625504483,
          1.3363786821818506,
          1.4107238870747165,
          -0.628258136980847,
          -0.7230923795228212,
          0.18734873005632346,
          0.2277074967996665,
          -1.151285449143752,
          -0.4398019484002224,
          -1.8610660575888973,
          -1.1514593313036987,
          1.2285585295149035,
          -0.1349314867956334,
          -0.38401822038459105,
          1.1940053867528877,
          0.2433056837483352,
          0.16235733415263254,
          1.0570960566888252,
          0.41812288761370614,
          -1.308818150026282,
          -0.6600626439643867,
          -1.066104709734634,
          -0.8931006113985991,
          -1.0889775248171139,
          -0.2314138839471503,
          1.4118880509749099,
          -0.5238766916172547,
          -1.5181457696812575,
          0.3199108189302936,
          1.1865623488549117,
          1.9548105155096402,
          0.05878154307261492,
          0.4009912086672459,
          0.8467057283598967,
          -1.860623425218201,
          0.2700006787691675,
          0.4671914891420102,
          0.6288041433794754,
          -3.4786745046016168,
          0.5665973105496959,
          1.2820924383423011,
          0.7937326931950613,
          -1.2614055497789711,
          -1.1914869096100815,
          -0.4517083043762801,
          -1.0222310720609247,
          -0.128147148963739,
          -1.9518219427482508,
          -0.23423609198935735,
          1.1271352222698696,
          0.8315552874447605,
          2.0200020775437384,
          1.8596875572502705,
          0.3907253674468324,
          -0.21086822013427028,
          0.058990601718556454,
          0.2603927283429508,
          -1.2136451878438679,
          0.09599682357474996,
          -2.017179891506583,
          0.010975294489855758,
          -0.17646407471736886,
          -0.5509766740607375,
          0.46851099625937037,
          -0.41838893313740344,
          0.9351251345639569,
          -1.465107834377555,
          1.2505903856908092,
          0.8989037302421052,
          -0.22139620506595317,
          -0.4751183254814138,
          -0.18711808722865994,
          -0.43238123362019876,
          -1.0773149783311602,
          0.9811975440574909,
          -0.7729210993294762,
          -0.033968826044190326,
          0.9917704385644348,
          -0.9245204873072397,
          0.9392145116047024,
          1.1260214293993371,
          0.2099540092373848,
          0.6761870138006444,
          -1.5788834946671237,
          0.22125014022483974,
          -1.8774018644577883,
          1.4051543286188448,
          -0.16445788858202282,
          1.6488224348990428,
          0.4227970327229819,
          -1.8804150190568447,
          1.172209354927027,
          -1.2969077077585314,
          1.173162708586084,
          -0.47793413685468294,
          -0.7945991169032409,
          -0.9181770036226372,
          2.1578099437079747,
          -1.376847900581022,
          0.022589665463162975,
          0.13472370784092647,
          0.7970516553921677,
          -1.305340822283703,
          -0.6567276802848672,
          -1.6334335765689842,
          -2.379591692225121,
          -0.3858338954882972,
          1.3317907394808166,
          0.8581784143425848,
          -1.4711729216136902,
          -0.7878905844829891,
          -0.749666854235715,
          -1.7855248472128133,
          -1.1397678531801716,
          0.4158554941991733,
          -0.3030785651249358,
          1.8800849256001693,
          -1.120417893678364,
          0.33568551048374057,
          2.25486304183681,
          1.602494894854945,
          -0.22706796406035537,
          -1.260078335094749,
          -1.8987737333417116,
          -1.0075420966328463,
          -0.31665876918728125,
          1.3618191102723356,
          -2.6850664363955903,
          -0.23206667067818054,
          1.2411404655793215,
          -2.074247263120956,
          0.59128822561035,
          -1.7602664663667218,
          0.5786078658834949,
          -1.3738637711991932,
          -0.0918245416084033,
          1.0792994193928973,
          -0.5581153979057248,
          -0.7257262461796092,
          1.9186660755290257,
          1.1949803401579178,
          -0.7844352172941519,
          0.2778733466263856,
          -0.16493240642446286,
          -0.30400199743180667,
          -0.9701329553319047,
          0.7669943723231418,
          0.38186258284325125,
          -0.255990760189755,
          0.42109972052414724,
          -0.5255069150715546,
          -0.34137831067564567,
          1.3092262631114266,
          -0.1559624031483579,
          -0.729474212814564,
          0.3143637426789192,
          -2.0412521442014775,
          -0.7886998723490901,
          -0.12719725844757068,
          1.1683255584209324,
          1.2631448837458603,
          -0.8984061171564799,
          -0.14197698825433697,
          -0.3831647064542824,
          0.011358387821200884,
          1.131066014961426,
          0.26858684370955455,
          1.202359810095925,
          -0.174074951357575,
          -0.546425391097663,
          1.0866151076924282,
          0.08845334459846853,
          -1.409591969603064,
          0.5603185978825127,
          -1.8708311710593237,
          -2.218856417947142,
          0.37882063528978094,
          -0.09309430113043857,
          1.116554147489928,
          -1.7772615520841644,
          0.5651747761136876,
          -1.575626692400785,
          0.19183384669028472,
          -0.04891976712001601,
          -0.47205372165988957
         ],
         "xaxis": "x",
         "xbins": {
          "end": 2.5714033338763396,
          "size": 0.2,
          "start": -3.4786745046016168
         },
         "yaxis": "y"
        },
        {
         "autobinx": false,
         "histnorm": "probability density",
         "legendgroup": "Group 3",
         "marker": {
          "color": "#63F5EF"
         },
         "name": "Group 3",
         "opacity": 0.7,
         "type": "histogram",
         "x": [
          2.213142270432722,
          1.3191077565105682,
          2.3248203338760076,
          1.622163030378992,
          -0.5479519371410464,
          0.718066777879899,
          2.5351423883816087,
          1.6772096352341312,
          0.7501211686615092,
          2.4639520681119116,
          3.054297125426052,
          0.8956855006208031,
          1.2984321990820749,
          2.9479583286340585,
          1.3137434655543871,
          1.5144061294037812,
          2.8286355882369243,
          2.6343535168155188,
          1.9882071142157827,
          1.7841653684839984,
          3.279733330998571,
          2.558187044473458,
          1.7380989932725512,
          1.5043638063409943,
          2.8950926421416363,
          2.2748496074946307,
          1.588105728708237,
          2.022111687834746,
          0.5090494381508652,
          1.7175402053888873,
          2.449130113407921,
          0.48142695779039846,
          2.7064127996321155,
          2.9155477108076027,
          0.8573797613276859,
          3.1179805679139414,
          2.7501434579329187,
          3.203847541382561,
          1.9408932094662887,
          1.6383460289257707,
          1.5698997985187022,
          2.3081665101656625,
          2.9898841024065685,
          2.7042158760712534,
          1.4319680557876395,
          1.2145216642864662,
          3.164410199210974,
          2.089946381138986,
          2.1501469495236805,
          0.7882515461520117,
          2.029631375297265,
          1.2574209869199846,
          3.3441689645292225,
          1.440453272852915,
          0.10061945403095773,
          1.5719259494859883,
          1.6167170432325855,
          2.155362036553109,
          2.8500829562043215,
          2.4931886051660594,
          3.17449070217531,
          2.8974215424735075,
          1.5635719350130834,
          1.6847123650430986,
          0.41445148811196586,
          1.3930600745467443,
          1.3871321121833802,
          3.812548867122845,
          0.9137264715171916,
          1.5132036110708689,
          2.1988635104068295,
          0.9282311621330261,
          1.6317217653598246,
          2.080813031173627,
          3.2191589990311855,
          0.8098722397658347,
          2.1979299379600548,
          2.0596449621145085,
          2.2582028192568964,
          1.1568664644403666,
          2.4142574446385545,
          0.8514012025314448,
          0.8667786490847225,
          1.155419378501151,
          3.3469213698238662,
          1.757861538774086,
          3.10069112415779,
          1.7601449384164312,
          0.9927147311718383,
          0.9893542034150673,
          1.5441583053333492,
          1.6743869288471562,
          2.1552378241723944,
          1.5959422828219094,
          3.3882422763976283,
          3.0119917303994588,
          2.0573645546918806,
          1.4244485295365312,
          0.6878501699156503,
          2.262484580199182,
          4.275498771175741,
          2.2303423819409103,
          1.7757834119784068,
          1.528904880770018,
          1.6013481224806123,
          3.111191272827668,
          1.596672943700126,
          1.2968884193591577,
          1.531752204768156,
          2.040386313823776,
          3.241773017219641,
          1.5104878780190547,
          1.7620864910529441,
          4.458097136212162,
          1.5260595587300143,
          3.0569220007663653,
          0.3577119687085626,
          0.2134065938078742,
          3.1616990061874874,
          0.06778572717884956,
          0.7443925477963802,
          1.6213205088138731,
          2.0551883788166156,
          1.375407817222932,
          1.8089855859980117,
          4.311644659043515,
          0.7074484203686675,
          1.8034049847101148,
          1.3485872667881158,
          1.0892695266298804,
          1.8858500018756017,
          2.431384306321086,
          2.564809417257332,
          3.093471016748644,
          2.180048907761285,
          2.9114968522271645,
          4.232789499732492,
          3.6274953627214437,
          2.487751623501364,
          1.487485462219477,
          1.789690409296038,
          1.7818407631883793,
          1.9555790582134207,
          2.183076488082758,
          1.7201130223399874,
          2.594448286444316,
          2.1749225359343476,
          0.9785197108822796,
          2.364169562657417,
          1.4461973315880352,
          1.9236292203952974,
          0.6663944882141533,
          1.358529084173944,
          1.8751050511747698,
          3.704431133137968,
          1.8138556841247302,
          2.0127762781701,
          0.9160064765436946,
          1.9843967295752958,
          2.1517867755955895,
          0.47690642638196645,
          1.3951096755051027,
          0.4194233139118446,
          2.591432370229868,
          2.3514979221822667,
          0.9337930903693836,
          2.599893779332556,
          0.9588626670505518,
          1.6142032082386877,
          0.5246150324533136,
          3.2149412198569474,
          3.4624358074479202,
          3.214055597244996,
          1.237402599344825,
          3.023489326977331,
          1.1465184606627505,
          2.4801660539662365,
          2.80133409893811,
          2.1925860186780706,
          1.9728454913573392,
          2.737889405108499,
          1.0348618580012432,
          1.9781330324774022,
          2.3929544894691674,
          3.1870507868571343,
          -0.6433323444168493,
          3.5541224902788198,
          2.3364109461760023,
          4.010734539609267,
          2.510928138666302,
          2.742169092684418,
          1.2038028909172396,
          2.338080358137371,
          1.784125644190554,
          1.8147242371579773,
          2.4325371093789396,
          1.9045840753103602,
          3.944288750544093,
          1.8742669937818792,
          1.1323138142849474
         ],
         "xaxis": "x",
         "xbins": {
          "end": 4.458097136212162,
          "size": 0.2,
          "start": -0.6433323444168493
         },
         "yaxis": "y"
        },
        {
         "legendgroup": "Group 1",
         "marker": {
          "color": "#A56CC1"
         },
         "mode": "lines",
         "name": "Group 1",
         "showlegend": false,
         "type": "scatter",
         "x": [
          -4.977019768129207,
          -4.966382264765396,
          -4.955744761401584,
          -4.945107258037773,
          -4.9344697546739615,
          -4.9238322513101505,
          -4.9131947479463385,
          -4.902557244582527,
          -4.891919741218716,
          -4.881282237854904,
          -4.870644734491093,
          -4.860007231127282,
          -4.849369727763471,
          -4.838732224399659,
          -4.828094721035848,
          -4.817457217672037,
          -4.806819714308225,
          -4.796182210944414,
          -4.785544707580603,
          -4.774907204216792,
          -4.76426970085298,
          -4.753632197489169,
          -4.742994694125358,
          -4.732357190761546,
          -4.7217196873977345,
          -4.711082184033923,
          -4.700444680670112,
          -4.6898071773063,
          -4.679169673942489,
          -4.668532170578678,
          -4.657894667214867,
          -4.647257163851055,
          -4.636619660487244,
          -4.625982157123433,
          -4.615344653759621,
          -4.60470715039581,
          -4.594069647031999,
          -4.583432143668187,
          -4.572794640304376,
          -4.562157136940565,
          -4.551519633576754,
          -4.540882130212942,
          -4.5302446268491305,
          -4.5196071234853195,
          -4.508969620121508,
          -4.498332116757696,
          -4.487694613393885,
          -4.477057110030074,
          -4.466419606666262,
          -4.455782103302451,
          -4.44514459993864,
          -4.434507096574828,
          -4.423869593211017,
          -4.413232089847206,
          -4.402594586483395,
          -4.391957083119583,
          -4.381319579755772,
          -4.370682076391961,
          -4.36004457302815,
          -4.349407069664338,
          -4.338769566300527,
          -4.3281320629367155,
          -4.3174945595729035,
          -4.306857056209092,
          -4.296219552845281,
          -4.285582049481469,
          -4.274944546117658,
          -4.264307042753847,
          -4.253669539390036,
          -4.243032036026224,
          -4.232394532662413,
          -4.221757029298602,
          -4.211119525934791,
          -4.200482022570979,
          -4.189844519207168,
          -4.179207015843357,
          -4.168569512479545,
          -4.157932009115734,
          -4.147294505751923,
          -4.1366570023881115,
          -4.1260194990242995,
          -4.1153819956604885,
          -4.104744492296677,
          -4.094106988932865,
          -4.083469485569054,
          -4.072831982205243,
          -4.062194478841432,
          -4.05155697547762,
          -4.040919472113809,
          -4.030281968749998,
          -4.019644465386186,
          -4.009006962022375,
          -3.998369458658564,
          -3.9877319552947523,
          -3.977094451930941,
          -3.9664569485671297,
          -3.9558194452033186,
          -3.945181941839507,
          -3.9345444384756956,
          -3.9239069351118845,
          -3.913269431748073,
          -3.9026319283842614,
          -3.8919944250204503,
          -3.8813569216566393,
          -3.8707194182928273,
          -3.860081914929016,
          -3.849444411565205,
          -3.838806908201394,
          -3.828169404837582,
          -3.817531901473771,
          -3.80689439810996,
          -3.7962568947461484,
          -3.785619391382337,
          -3.7749818880185257,
          -3.764344384654714,
          -3.753706881290903,
          -3.7430693779270916,
          -3.7324318745632805,
          -3.721794371199469,
          -3.7111568678356575,
          -3.7005193644718464,
          -3.6898818611080353,
          -3.6792443577442233,
          -3.6686068543804122,
          -3.657969351016601,
          -3.6473318476527896,
          -3.636694344288978,
          -3.626056840925167,
          -3.615419337561356,
          -3.604781834197544,
          -3.594144330833733,
          -3.5835068274699218,
          -3.5728693241061102,
          -3.5622318207422987,
          -3.5515943173784876,
          -3.540956814014676,
          -3.530319310650865,
          -3.5196818072870535,
          -3.5090443039232424,
          -3.498406800559431,
          -3.4877692971956193,
          -3.4771317938318083,
          -3.466494290467997,
          -3.455856787104185,
          -3.445219283740374,
          -3.434581780376563,
          -3.4239442770127515,
          -3.41330677364894,
          -3.402669270285129,
          -3.392031766921318,
          -3.3813942635575063,
          -3.3707567601936947,
          -3.3601192568298837,
          -3.349481753466072,
          -3.3388442501022606,
          -3.3282067467384495,
          -3.3175692433746384,
          -3.306931740010827,
          -3.2962942366470154,
          -3.2856567332832043,
          -3.275019229919393,
          -3.2643817265555812,
          -3.25374422319177,
          -3.243106719827959,
          -3.232469216464147,
          -3.221831713100336,
          -3.211194209736525,
          -3.2005567063727134,
          -3.189919203008902,
          -3.1792816996450908,
          -3.1686441962812797,
          -3.158006692917468,
          -3.1473691895536566,
          -3.1367316861898455,
          -3.126094182826034,
          -3.1154566794622225,
          -3.1048191760984114,
          -3.0941816727346003,
          -3.083544169370789,
          -3.0729066660069773,
          -3.062269162643166,
          -3.051631659279355,
          -3.040994155915543,
          -3.030356652551732,
          -3.019719149187921,
          -3.0090816458241094,
          -2.998444142460298,
          -2.987806639096487,
          -2.9771691357326753,
          -2.966531632368864,
          -2.9558941290050527,
          -2.9452566256412416,
          -2.93461912227743,
          -2.923981618913619,
          -2.9133441155498074,
          -2.902706612185996,
          -2.8920691088221844,
          -2.8814316054583733,
          -2.870794102094562,
          -2.8601565987307507,
          -2.849519095366939,
          -2.838881592003128,
          -2.8282440886393165,
          -2.8176065852755054,
          -2.806969081911694,
          -2.796331578547883,
          -2.7856940751840713,
          -2.7750565718202598,
          -2.7644190684564482,
          -2.7537815650926376,
          -2.743144061728826,
          -2.7325065583650145,
          -2.721869055001203,
          -2.711231551637392,
          -2.700594048273581,
          -2.6899565449097693,
          -2.679319041545958,
          -2.6686815381821467,
          -2.658044034818335,
          -2.647406531454524,
          -2.6367690280907126,
          -2.6261315247269015,
          -2.61549402136309,
          -2.6048565179992784,
          -2.5942190146354673,
          -2.583581511271656,
          -2.5729440079078447,
          -2.562306504544033,
          -2.5516690011802217,
          -2.54103149781641,
          -2.5303939944525995,
          -2.519756491088788,
          -2.5091189877249764,
          -2.498481484361165,
          -2.487843980997354,
          -2.4772064776335427,
          -2.466568974269731,
          -2.4559314709059197,
          -2.4452939675421086,
          -2.434656464178297,
          -2.424018960814486,
          -2.4133814574506744,
          -2.4027439540868634,
          -2.392106450723052,
          -2.3814689473592403,
          -2.3708314439954288,
          -2.360193940631618,
          -2.3495564372678066,
          -2.338918933903995,
          -2.3282814305401835,
          -2.3176439271763725,
          -2.3070064238125614,
          -2.29636892044875,
          -2.2857314170849383,
          -2.2750939137211272,
          -2.2644564103573157,
          -2.2538189069935046,
          -2.243181403629693,
          -2.2325439002658816,
          -2.2219063969020705,
          -2.211268893538259,
          -2.200631390174448,
          -2.1899938868106363,
          -2.1793563834468253,
          -2.1687188800830137,
          -2.158081376719202,
          -2.1474438733553907,
          -2.13680636999158,
          -2.1261688666277685,
          -2.115531363263957,
          -2.1048938599001454,
          -2.0942563565363344,
          -2.0836188531725233,
          -2.0729813498087117,
          -2.0623438464449,
          -2.051706343081089,
          -2.0410688397172776,
          -2.0304313363534665,
          -2.019793832989655,
          -2.009156329625844,
          -1.9985188262620324,
          -1.9878813228982208,
          -1.9772438195344098,
          -1.9666063161705987,
          -1.9559688128067871,
          -1.9453313094429756,
          -1.934693806079164,
          -1.924056302715353,
          -1.913418799351542,
          -1.9027812959877304,
          -1.8921437926239189,
          -1.8815062892601073,
          -1.8708687858962962,
          -1.8602312825324852,
          -1.8495937791686736,
          -1.838956275804862,
          -1.828318772441051,
          -1.8176812690772395,
          -1.8070437657134284,
          -1.7964062623496169,
          -1.7857687589858058,
          -1.7751312556219943,
          -1.7644937522581827,
          -1.7538562488943716,
          -1.7432187455305606,
          -1.732581242166749,
          -1.7219437388029375,
          -1.711306235439126,
          -1.7006687320753149,
          -1.6900312287115038,
          -1.6793937253476923,
          -1.6687562219838807,
          -1.6581187186200697,
          -1.6474812152562581,
          -1.636843711892447,
          -1.6262062085286355,
          -1.6155687051648244,
          -1.604931201801013,
          -1.5942936984372014,
          -1.5836561950733903,
          -1.5730186917095792,
          -1.5623811883457677,
          -1.5517436849819561,
          -1.5411061816181446,
          -1.530468678254333,
          -1.5198311748905224,
          -1.509193671526711,
          -1.4985561681628994,
          -1.4879186647990879,
          -1.4772811614352768,
          -1.4666436580714657,
          -1.4560061547076542,
          -1.4453686513438426,
          -1.4347311479800315,
          -1.42409364461622,
          -1.413456141252409,
          -1.4028186378885974,
          -1.3921811345247863,
          -1.3815436311609748,
          -1.3709061277971633,
          -1.3602686244333522,
          -1.349631121069541,
          -1.3389936177057296,
          -1.328356114341918,
          -1.3177186109781065,
          -1.3070811076142954,
          -1.2964436042504843,
          -1.2858061008866728,
          -1.2751685975228613,
          -1.2645310941590502,
          -1.2538935907952387,
          -1.2432560874314276,
          -1.232618584067616,
          -1.2219810807038045,
          -1.2113435773399934,
          -1.200706073976182,
          -1.1900685706123708,
          -1.1794310672485593,
          -1.1687935638847482,
          -1.1581560605209367,
          -1.1475185571571251,
          -1.136881053793314,
          -1.126243550429503,
          -1.1156060470656914,
          -1.10496854370188,
          -1.0943310403380684,
          -1.0836935369742573,
          -1.0730560336104462,
          -1.0624185302466347,
          -1.0517810268828232,
          -1.041143523519012,
          -1.0305060201552005,
          -1.0198685167913895,
          -1.009231013427578,
          -0.9985935100637668,
          -0.9879560066999553,
          -0.9773185033361438,
          -0.9666809999723327,
          -0.9560434966085216,
          -0.9454059932447096,
          -0.9347684898808986,
          -0.9241309865170875,
          -0.9134934831532764,
          -0.9028559797894644,
          -0.8922184764256533,
          -0.8815809730618422,
          -0.8709434696980312,
          -0.8603059663342192,
          -0.8496684629704081,
          -0.8390309596065961,
          -0.828393456242785,
          -0.817755952878974,
          -0.807118449515162,
          -0.7964809461513518,
          -0.7858434427875398,
          -0.7752059394237287,
          -0.7645684360599176,
          -0.7539309326961057,
          -0.7432934293322946,
          -0.7326559259684826,
          -0.7220184226046715,
          -0.7113809192408613,
          -0.7007434158770494,
          -0.6901059125132383,
          -0.6794684091494263,
          -0.6688309057856152,
          -0.6581934024218041,
          -0.6475558990579922,
          -0.6369183956941811,
          -0.62628089233037,
          -0.6156433889665589,
          -0.6050058856027478,
          -0.5943683822389358,
          -0.5837308788751248,
          -0.5730933755113128,
          -0.5624558721475017,
          -0.5518183687836897,
          -0.5411808654198786,
          -0.5305433620560684,
          -0.5199058586922565,
          -0.5092683553284454,
          -0.4986308519646334,
          -0.48799334860082233,
          -0.47735584523701124,
          -0.46671834187319927,
          -0.4560808385093882,
          -0.4454433351455771,
          -0.434805831781766,
          -0.42416832841795493,
          -0.41353082505414296,
          -0.4028933216903319,
          -0.3922558183265199,
          -0.3816183149627088,
          -0.37098081159889773,
          -0.36034330823508665,
          -0.34970580487127556,
          -0.3390683015074636,
          -0.3284307981436525,
          -0.3177932947798414,
          -0.30715579141602944,
          -0.29651828805221836,
          -0.2858807846884064,
          -0.2752432813245962,
          -0.2646057779607851,
          -0.25396827459697313,
          -0.24333077123316205,
          -0.23269326786935007,
          -0.222055764505539,
          -0.2114182611417279,
          -0.20078075777791593,
          -0.19014325441410485,
          -0.17950575105029376,
          -0.16886824768648268,
          -0.1582307443226707,
          -0.14759324095885962,
          -0.13695573759504853,
          -0.12631823423123656,
          -0.11568073086742547,
          -0.1050432275036135,
          -0.0944057241398033,
          -0.08376822077599222,
          -0.07313071741218025,
          -0.06249321404836916,
          -0.05185571068455719,
          -0.0412182073207461,
          -0.030580703956935018,
          -0.019943200593123045,
          -0.009305697229312848,
          0.001331806134499125,
          0.01196930949831021,
          0.022606812862121295,
          0.03324431622593327,
          0.04388181958974435,
          0.054519322953556326,
          0.06515682631736741,
          0.07579432968117761,
          0.08643183304498958,
          0.09706933640880067,
          0.10770683977261264,
          0.11834434313642372,
          0.1289818465002348,
          0.13961934986404678,
          0.15025685322785787,
          0.16089435659166984,
          0.17153185995548004,
          0.18216936331929112,
          0.1928068666831031,
          0.20344437004691418,
          0.21408187341072615,
          0.22471937677453724,
          0.2353568801383492,
          0.2459943835021603,
          0.2566318868659705,
          0.26726939022978247,
          0.27790689359359355,
          0.2885443969574055,
          0.2991819003212166,
          0.3098194036850277,
          0.32045690704883967,
          0.33109441041265075
         ],
         "xaxis": "x",
         "y": [
          0.008216855920668155,
          0.008378379006282131,
          0.008543289280133697,
          0.008711933050617012,
          0.008884672400338404,
          0.009061884149090368,
          0.009243958718666847,
          0.009431298905828715,
          0.009624318570565244,
          0.0098234412475874,
          0.010029098689725145,
          0.01024172935257507,
          0.01046177683034682,
          0.010689688253382467,
          0.010925912658263391,
          0.01117089934176893,
          0.011425096210204584,
          0.011688948135771472,
          0.011962895331697858,
          0.012247371757796256,
          0.012542803567945389,
          0.012849607610722055,
          0.013168189994027836,
          0.013498944724067858,
          0.013842252428449225,
          0.014198479172478592,
          0.014567975376955006,
          0.014951074844884888,
          0.015348093903596092,
          0.01575933066770632,
          0.01618506442731585,
          0.016625555164659037,
          0.017081043201268475,
          0.01755174897649816,
          0.018037872957022052,
          0.018539595675692404,
          0.019057077896913757,
          0.019590460904479846,
          0.020139866906644967,
          0.020705399552070198,
          0.021287144549208013,
          0.02188517038068697,
          0.022499529103328156,
          0.02313025722359593,
          0.02377737663754811,
          0.024440895623729687,
          0.025120809876947953,
          0.02581710357048638,
          0.026529750434061597,
          0.027258714834712358,
          0.028003952847828244,
          0.028765413305681158,
          0.029543038811119627,
          0.030336766704515385,
          0.031146529972612733,
          0.031972258088624715,
          0.03281387777372837,
          0.03367131367104014,
          0.03454448892417931,
          0.0354333256536548,
          0.03633774532551587,
          0.03725766900798913,
          0.03819301751315648,
          0.03914371142211067,
          0.040109670993433905,
          0.04109081595626569,
          0.04208706519064749,
          0.04309833629923843,
          0.0441245450758654,
          0.045165604877698246,
          0.04622142590910432,
          0.0472919144264261,
          0.04837697187402211,
          0.04947649396291531,
          0.05059036970427465,
          0.0517184804107251,
          0.05286069867911122,
          0.05401688736883666,
          0.05518689859025535,
          0.05637057271779011,
          0.05756773744250997,
          0.05877820687879555,
          0.0600017807394746,
          0.06123824359340322,
          0.0624873642189296,
          0.06374889506598654,
          0.06502257183873862,
          0.06630811320976927,
          0.06760522067572558,
          0.06891357856317773,
          0.0702328541921823,
          0.07156269820370136,
          0.0729027450556152,
          0.07425261369059871,
          0.07561190837762845,
          0.07698021972734921,
          0.07835712587998783,
          0.07974219386295592,
          0.08113498111376057,
          0.08253503716234359,
          0.08394190546552453,
          0.08535512538481918,
          0.0867742342975908,
          0.08819876983023789,
          0.0896282722009688,
          0.0910622866586569,
          0.0925003660033215,
          0.09394207317293857,
          0.09538698388057483,
          0.09683468928523722,
          0.09828479867936965,
          0.09973694217558593,
          0.10119077337501481,
          0.10264597199956085,
          0.10410224647041925,
          0.10555933641535689,
          0.10701701508756523,
          0.10847509167928412,
          0.1099334135139268,
          0.11139186810104176,
          0.11285038503917136,
          0.11430893775247686,
          0.11576754504787894,
          0.11722627248043671,
          0.11868523351571428,
          0.12014459047896726,
          0.12160455528212542,
          0.12306538992071825,
          0.12452740673410458,
          0.12599096842359991,
          0.12745648782434307,
          0.12892442742801147,
          0.13039529865474905,
          0.131869660873932,
          0.1333481201746482,
          0.13483132788799054,
          0.136319978864482,
          0.13781480951112962,
          0.13931659559375675,
          0.14082614981138875,
          0.1423443191505419,
          0.14387198202831267,
          0.1454100452341605,
          0.14695944068123395,
          0.14852112197899303,
          0.15009606083974905,
          0.15168524333254027,
          0.15328966599853333,
          0.15491033184283898,
          0.15654824621828897,
          0.1582044126173219,
          0.15987982838866727,
          0.16157548039601513,
          0.16329234063628384,
          0.16503136183547693,
          0.16679347304043504,
          0.16857957522504538,
          0.17039053692965336,
          0.17222718995255798,
          0.17409032511252331,
          0.17598068810123013,
          0.17789897544451014,
          0.1798458305910427,
          0.18182184014697222,
          0.18382753027457147,
          0.18586336327269903,
          0.1879297343563067,
          0.1900269686516875,
          0.19215531842349837,
          0.19431496054884706,
          0.19650599425288415,
          0.19872843911941554,
          0.20098223338901977,
          0.2032672325560355,
          0.20558320827456952,
          0.2079298475823748,
          0.21030675245005212,
          0.21271343966156173,
          0.21514934103046102,
          0.2176138039546686,
          0.22010609231084755,
          0.22262538768774148,
          0.22517079095599293,
          0.22774132417011306,
          0.2303359327963953,
          0.23295348825865478,
          0.23559279079177342,
          0.23825257259111787,
          0.24093150124402712,
          0.24362818342770823,
          0.24634116885609073,
          0.24906895445646324,
          0.2518099887550658,
          0.2545626764492719,
          0.2573253831425625,
          0.2600964402171938,
          0.26287414981831014,
          0.2656567899222618,
          0.2684426194610652,
          0.2712298834743167,
          0.2740168182594352,
          0.27680165649087796,
          0.2795826322789715,
          0.2823579861391983,
          0.28512596984322797,
          0.28788485112362827,
          0.29063291820510334,
          0.293368484136198,
          0.296089890896769,
          0.2987955132580481,
          0.30148376237390184,
          0.3041530890838128,
          0.30680198691025634,
          0.3094289947354178,
          0.3120326991446309,
          0.3146117364264782,
          0.31716479422214255,
          0.3196906128193488,
          0.32218798608901517,
          0.3246557620655631,
          0.3270928431746611,
          0.32949818611496784,
          0.3318708014032159,
          0.3342097525946302,
          0.33651415519326583,
          0.3387831752692921,
          0.3410160278025483,
          0.34321197477381776,
          0.3453703230271954,
          0.3474904219286403,
          0.34957166084728597,
          0.35161346648732,
          0.3536153000992237,
          0.3555766545998858,
          0.3574970516315227,
          0.3593760385895335,
          0.3612131856492783,
          0.3630080828213837,
          0.36476033706453415,
          0.3664695694837676,
          0.3681354126411301,
          0.3697575080041235,
          0.3713355035557456,
          0.3728690515880871,
          0.3743578066993986,
          0.37580142401237276,
          0.3771995576290245,
          0.3785518593351197,
          0.37985797756452894,
          0.38111755663129004,
          0.3823302362344838,
          0.3834956512383585,
          0.3846134317274676,
          0.3856832033339526,
          0.38670458783151246,
          0.38767720398812083,
          0.38860066866712895,
          0.38947459816414376,
          0.39029860976490877,
          0.39107232350745247,
          0.3917953641299558,
          0.3924673631841638,
          0.3930879612927439,
          0.39365681052776774,
          0.3941735768864774,
          0.39463794283970915,
          0.3950496099277581,
          0.39540830137812055,
          0.3957137647194028,
          0.39596577436576874,
          0.39616413414657853,
          0.3963086797563789,
          0.39639928110108363,
          0.39643584451708447,
          0.39641831484108864,
          0.39634667730972306,
          0.3962209592693455,
          0.3960412316780457,
          0.39580761038351153,
          0.39552025716223926,
          0.3951793805074788,
          0.3947852361553377,
          0.39433812734053736,
          0.3938384047755064,
          0.393286466348698,
          0.39268275654028445,
          0.39202776555566293,
          0.3913220281794996,
          0.39056612235533344,
          0.38976066749802063,
          0.3889063225485497,
          0.388003783782927,
          0.3870537823889701,
          0.3860570818268801,
          0.3850144749914103,
          0.3839267811953017,
          0.38279484299535954,
          0.3816195228841261,
          0.38040169987154937,
          0.37914226598228357,
          0.37784212269537,
          0.37650217735391883,
          0.3751233395731277,
          0.373706517675436,
          0.37225261518188707,
          0.37076252738879006,
          0.36923713805858727,
          0.36767731625335776,
          0.3660839133387271,
          0.36445776018499465,
          0.3627996645911263,
          0.3611104089558184,
          0.35939074821820644,
          0.3576414080888697,
          0.3558630835897101,
          0.35405643791894387,
          0.35222210165495094,
          0.3503606723100469,
          0.34847271424240245,
          0.3465587589313737,
          0.34461930561842474,
          0.3426548223126658,
          0.3406657471568188,
          0.33865249014617144,
          0.33661543518984455,
          0.33455494250050216,
          0.3324713512954698,
          0.33036498278921017,
          0.3282361434541703,
          0.32608512852426375,
          0.3239122257126858,
          0.32171771911340596,
          0.319501893253568,
          0.31726503726219873,
          0.31500744911906287,
          0.31272943994627456,
          0.31043133830434205,
          0.30811349445376474,
          0.3057762845430563,
          0.3034201146842006,
          0.3010454248770298,
          0.2986526927448374,
          0.29624243704473996,
          0.2938152209178116,
          0.29137165484586447,
          0.2889123992839209,
          0.28643816693984936,
          0.283949724675367,
          0.28144789500555667,
          0.2789335571772074,
          0.2764076478096331,
          0.273871161085114,
          0.2713251484796983,
          0.2687707180287883,
          0.266209033125646,
          0.2636413108546829,
          0.2610688198650761,
          0.2584928777939011,
          0.2559148482514763,
          0.2533361373850223,
          0.2507581900399654,
          0.24818248554126582,
          0.24561053311996975,
          0.243043867012786,
          0.24048404126482179,
          0.23793262426767034,
          0.23539119306683506,
          0.23286132747394517,
          0.23034460402042214,
          0.2278425897901259,
          0.2253568361691051,
          0.22288887255085654,
          0.22044020003550646,
          0.21801228516103796,
          0.21560655370415002,
          0.2132243845875291,
          0.2108671039292869,
          0.20853597926906614,
          0.20623221400386835,
          0.2039569420650356,
          0.20171122286604318,
          0.19949603654883938,
          0.19731227955445624,
          0.19516076054148462,
          0.19304219667383507,
          0.19095721029694637,
          0.18890632601935511,
          0.18688996821422466,
          0.18490845895315905,
          0.18296201638233398,
          0.18105075354873676,
          0.17917467768206674,
          0.17733368993569407,
          0.17552758558792522,
          0.17375605470276512,
          0.17201868324735511,
          0.1703149546612989,
          0.1686442518712205,
          0.16700585974205837,
          0.16539896795483952,
          0.16382267429898156,
          0.16227598836551238,
          0.1607578356260249,
          0.15926706188064654,
          0.15780243805681585,
          0.15636266533925078,
          0.15494638061009797,
          0.15355216217694365,
          0.15217853576508752,
          0.15082398074926462,
          0.14948693659884504,
          0.1481658095094367,
          0.14685897919279173,
          0.1455648057959539,
          0.14428163691970558,
          0.14300781470559307,
          0.1417416829601011,
          0.14048159428398257,
          0.13922591717426525,
          0.13797304306613312,
          0.13672139328167598,
          0.13546942585244887,
          0.13421564218289997,
          0.1329585935220032,
          0.13169688721088776,
          0.13042919267490605,
          0.12915424712941406,
          0.12787086096957337,
          0.1265779228157218,
          0.12527440418728703,
          0.1239593637798632,
          0.12263195132189973,
          0.12129141098948244,
          0.11993708435989661,
          0.11856841288705514,
          0.1171849398844257,
          0.11578631200379294,
          0.1143722802010302,
          0.11294270018300413,
          0.11149753233278283,
          0.11003684111343687,
          0.10856079395388828,
          0.10706965962345688,
          0.10556380610494442,
          0.10404369797925998,
          0.10250989333769933,
          0.10096304024101944,
          0.0994038727473729,
          0.09783320653394596,
          0.09625193413978031,
          0.09466101985969698,
          0.09306149432147748,
          0.09145444878047371,
          0.08984102916757446,
          0.08822242992796393,
          0.08659988768932651,
          0.0849746747990875,
          0.08334809277091527,
          0.08172146568103575,
          0.08009613355493939,
          0.07847344578476383,
          0.07685475461704998,
          0.07524140874967054,
          0.07363474707554107,
          0.07203609260926461,
          0.07044674663111347,
          0.06886798308077813,
          0.06730104323108838,
          0.06574713066948329,
          0.06420740661239788,
          0.06268298557494142,
          0.06117493141533689,
          0.05968425377055413,
          0.058211904896457466,
          0.056758776922627006,
          0.05532569952881025,
          0.05391343804677507,
          0.05252269198817072,
          0.051154093995892644,
          0.049808209213431764,
          0.048485535063766086,
          0.047186501426574635,
          0.04591147119992067,
          0.044660741230094544,
          0.04343454359104577,
          0.042233047192769935,
          0.041056359696188274,
          0.03990452971044564,
          0.038777549247193385,
          0.037675356405308204,
          0.03659783825862759,
          0.035544833918673205,
          0.03451613774396512,
          0.03351150266741554,
          0.03253064361341427,
          0.03157324097656955,
          0.03063894413465422,
          0.029727374969088026,
          0.028838131367279717,
          0.027970790682315227
         ],
         "yaxis": "y"
        },
        {
         "legendgroup": "Group 2",
         "marker": {
          "color": "#A6ACEC"
         },
         "mode": "lines",
         "name": "Group 2",
         "showlegend": false,
         "type": "scatter",
         "x": [
          -3.4786745046016168,
          -3.4665743489246608,
          -3.4544741932477048,
          -3.4423740375707492,
          -3.4302738818937932,
          -3.4181737262168372,
          -3.4060735705398812,
          -3.3939734148629253,
          -3.3818732591859693,
          -3.3697731035090137,
          -3.3576729478320577,
          -3.3455727921551017,
          -3.3334726364781457,
          -3.3213724808011897,
          -3.309272325124234,
          -3.297172169447278,
          -3.285072013770322,
          -3.272971858093366,
          -3.2608717024164102,
          -3.2487715467394542,
          -3.2366713910624987,
          -3.2245712353855427,
          -3.2124710797085867,
          -3.2003709240316307,
          -3.1882707683546747,
          -3.176170612677719,
          -3.164070457000763,
          -3.151970301323807,
          -3.139870145646851,
          -3.127769989969895,
          -3.115669834292939,
          -3.1035696786159837,
          -3.0914695229390277,
          -3.0793693672620717,
          -3.0672692115851157,
          -3.0551690559081597,
          -3.043068900231204,
          -3.030968744554248,
          -3.018868588877292,
          -3.006768433200336,
          -2.99466827752338,
          -2.982568121846424,
          -2.970467966169468,
          -2.9583678104925126,
          -2.9462676548155566,
          -2.9341674991386006,
          -2.922067343461645,
          -2.909967187784689,
          -2.897867032107733,
          -2.885766876430777,
          -2.873666720753821,
          -2.861566565076865,
          -2.849466409399909,
          -2.8373662537229536,
          -2.8252660980459976,
          -2.8131659423690416,
          -2.8010657866920856,
          -2.7889656310151296,
          -2.776865475338174,
          -2.764765319661218,
          -2.752665163984262,
          -2.740565008307306,
          -2.72846485263035,
          -2.716364696953394,
          -2.704264541276438,
          -2.6921643855994826,
          -2.6800642299225266,
          -2.6679640742455706,
          -2.6558639185686146,
          -2.643763762891659,
          -2.631663607214703,
          -2.619563451537747,
          -2.607463295860791,
          -2.595363140183835,
          -2.583262984506879,
          -2.571162828829923,
          -2.5590626731529675,
          -2.5469625174760115,
          -2.5348623617990556,
          -2.5227622061220996,
          -2.5106620504451436,
          -2.498561894768188,
          -2.486461739091232,
          -2.474361583414276,
          -2.46226142773732,
          -2.450161272060364,
          -2.438061116383408,
          -2.4259609607064525,
          -2.413860805029496,
          -2.4017606493525405,
          -2.3896604936755845,
          -2.377560337998629,
          -2.365460182321673,
          -2.353360026644717,
          -2.341259870967761,
          -2.329159715290805,
          -2.317059559613849,
          -2.304959403936893,
          -2.292859248259937,
          -2.2807590925829815,
          -2.2686589369060255,
          -2.25655878122907,
          -2.2444586255521135,
          -2.232358469875158,
          -2.220258314198202,
          -2.208158158521246,
          -2.19605800284429,
          -2.183957847167334,
          -2.171857691490378,
          -2.159757535813422,
          -2.1476573801364665,
          -2.1355572244595105,
          -2.1234570687825545,
          -2.111356913105599,
          -2.099256757428643,
          -2.087156601751687,
          -2.075056446074731,
          -2.062956290397775,
          -2.050856134720819,
          -2.038755979043863,
          -2.0266558233669074,
          -2.014555667689951,
          -2.0024555120129954,
          -1.9903553563360394,
          -1.9782552006590837,
          -1.9661550449821277,
          -1.9540548893051717,
          -1.941954733628216,
          -1.92985457795126,
          -1.9177544222743041,
          -1.9056542665973482,
          -1.8935541109203922,
          -1.8814539552434362,
          -1.8693537995664804,
          -1.8572536438895246,
          -1.8451534882125686,
          -1.8330533325356126,
          -1.8209531768586567,
          -1.8088530211817009,
          -1.796752865504745,
          -1.784652709827789,
          -1.772552554150833,
          -1.7604523984738771,
          -1.7483522427969214,
          -1.7362520871199654,
          -1.7241519314430094,
          -1.7120517757660534,
          -1.6999516200890976,
          -1.6878514644121418,
          -1.6757513087351859,
          -1.6636511530582299,
          -1.6515509973812739,
          -1.639450841704318,
          -1.627350686027362,
          -1.6152505303504063,
          -1.6031503746734501,
          -1.5910502189964943,
          -1.5789500633195386,
          -1.5668499076425826,
          -1.5547497519656266,
          -1.5426495962886706,
          -1.5305494406117148,
          -1.5184492849347588,
          -1.506349129257803,
          -1.494248973580847,
          -1.482148817903891,
          -1.4700486622269353,
          -1.4579485065499793,
          -1.4458483508730233,
          -1.4337481951960673,
          -1.4216480395191118,
          -1.4095478838421553,
          -1.3974477281651998,
          -1.3853475724882438,
          -1.3732474168112883,
          -1.3611472611343318,
          -1.3490471054573758,
          -1.3369469497804203,
          -1.3248467941034643,
          -1.3127466384265087,
          -1.3006464827495523,
          -1.2885463270725963,
          -1.2764461713956408,
          -1.2643460157186848,
          -1.2522458600417292,
          -1.2401457043647728,
          -1.2280455486878168,
          -1.2159453930108612,
          -1.2038452373339052,
          -1.1917450816569493,
          -1.1796449259799933,
          -1.1675447703030373,
          -1.1554446146260817,
          -1.1433444589491257,
          -1.1312443032721697,
          -1.1191441475952137,
          -1.1070439919182578,
          -1.0949438362413022,
          -1.0828436805643462,
          -1.0707435248873902,
          -1.0586433692104342,
          -1.0465432135334782,
          -1.0344430578565227,
          -1.0223429021795662,
          -1.0102427465026103,
          -0.9981425908256547,
          -0.9860424351486987,
          -0.9739422794717432,
          -0.9618421237947867,
          -0.9497419681178307,
          -0.9376418124408752,
          -0.9255416567639192,
          -0.9134415010869636,
          -0.9013413454100072,
          -0.8892411897330512,
          -0.8771410340560957,
          -0.8650408783791397,
          -0.8529407227021837,
          -0.8408405670252277,
          -0.8287404113482717,
          -0.8166402556713162,
          -0.8045400999943602,
          -0.7924399443174042,
          -0.7803397886404482,
          -0.7682396329634922,
          -0.7561394772865366,
          -0.7440393216095806,
          -0.7319391659326246,
          -0.7198390102556687,
          -0.7077388545787127,
          -0.6956386989017571,
          -0.6835385432248007,
          -0.6714383875478451,
          -0.6593382318708891,
          -0.6472380761939331,
          -0.6351379205169776,
          -0.6230377648400212,
          -0.6109376091630656,
          -0.5988374534861096,
          -0.5867372978091536,
          -0.5746371421321981,
          -0.5625369864552416,
          -0.5504368307782856,
          -0.5383366751013301,
          -0.5262365194243741,
          -0.5141363637474181,
          -0.5020362080704621,
          -0.4899360523935061,
          -0.4778358967165506,
          -0.4657357410395946,
          -0.4536355853626386,
          -0.4415354296856826,
          -0.4294352740087266,
          -0.41733511833177106,
          -0.40523496265481507,
          -0.3931348069778591,
          -0.3810346513009031,
          -0.3689344956239471,
          -0.35683433994699154,
          -0.3447341842700351,
          -0.33263402859307956,
          -0.32053387291612356,
          -0.30843371723916757,
          -0.296333561562212,
          -0.2842334058852556,
          -0.27213325020830004,
          -0.26003309453134404,
          -0.24793293885438805,
          -0.2358327831774325,
          -0.22373262750047607,
          -0.21163247182352052,
          -0.19953231614656453,
          -0.18743216046960853,
          -0.17533200479265254,
          -0.16323184911569655,
          -0.15113169343874056,
          -0.139031537761785,
          -0.12693138208482901,
          -0.11483122640787302,
          -0.10273107073091703,
          -0.09063091505396104,
          -0.07853075937700549,
          -0.06643060370004905,
          -0.0543304480230935,
          -0.04223029234613751,
          -0.030130136669181518,
          -0.01802998099222597,
          -0.005929825315269532,
          0.006170330361686016,
          0.01827048603864201,
          0.030370641715598,
          0.04247079739255355,
          0.054570953069509986,
          0.06667110874646553,
          0.07877126442342153,
          0.09087142010037752,
          0.10297157577733307,
          0.1150717314542895,
          0.12717188713124505,
          0.13927204280820105,
          0.15137219848515704,
          0.16347235416211303,
          0.17557250983906902,
          0.18767266551602457,
          0.19977282119298057,
          0.21187297686993656,
          0.22397313254689255,
          0.23607328822384854,
          0.2481734439008041,
          0.2602735995777601,
          0.2723737552547165,
          0.28447391093167207,
          0.29657406660862806,
          0.30867422228558405,
          0.3207743779625396,
          0.33287453363949604,
          0.3449746893164516,
          0.3570748449934076,
          0.3691750006703636,
          0.3812751563473191,
          0.39337531202427556,
          0.4054754677012311,
          0.4175756233781871,
          0.4296757790551431,
          0.4417759347320991,
          0.4538760904090551,
          0.4659762460860106,
          0.4780764017629666,
          0.4901765574399226,
          0.5022767131168786,
          0.5143768687938346,
          0.5264770244707901,
          0.5385771801477461,
          0.5506773358247021,
          0.5627774915016581,
          0.5748776471786141,
          0.5869778028555701,
          0.5990779585325261,
          0.6111781142094821,
          0.6232782698864372,
          0.6353784255633932,
          0.6474785812403501,
          0.6595787369173061,
          0.6716788925942612,
          0.6837790482712172,
          0.6958792039481732,
          0.7079793596251291,
          0.7200795153020851,
          0.7321796709790402,
          0.7442798266559962,
          0.7563799823329531,
          0.7684801380099091,
          0.7805802936868651,
          0.7926804493638202,
          0.8047806050407762,
          0.8168807607177322,
          0.8289809163946882,
          0.8410810720716442,
          0.8531812277485993,
          0.8652813834255562,
          0.8773815391025122,
          0.8894816947794681,
          0.9015818504564241,
          0.9136820061333792,
          0.9257821618103352,
          0.9378823174872912,
          0.9499824731642472,
          0.9620826288412032,
          0.9741827845181583,
          0.9862829401951152,
          0.9983830958720712,
          1.0104832515490272,
          1.0225834072259832,
          1.0346835629029383,
          1.0467837185798943,
          1.0588838742568503,
          1.0709840299338063,
          1.0830841856107623,
          1.0951843412877182,
          1.1072844969646742,
          1.1193846526416302,
          1.1314848083185862,
          1.1435849639955422,
          1.1556851196724973,
          1.1677852753494533,
          1.1798854310264093,
          1.1919855867033653,
          1.2040857423803222,
          1.2161858980572773,
          1.2282860537342333,
          1.2403862094111893,
          1.2524863650881453,
          1.2645865207651013,
          1.2766866764420564,
          1.2887868321190123,
          1.3008869877959683,
          1.3129871434729243,
          1.3250872991498812,
          1.3371874548268363,
          1.3492876105037923,
          1.3613877661807483,
          1.3734879218577043,
          1.3855880775346603,
          1.3976882332116163,
          1.4097883888885714,
          1.4218885445655274,
          1.4339887002424843,
          1.4460888559194403,
          1.4581890115963962,
          1.4702891672733513,
          1.4823893229503073,
          1.4944894786272633,
          1.5065896343042193,
          1.5186897899811753,
          1.5307899456581304,
          1.5428901013350873,
          1.5549902570120433,
          1.5670904126889993,
          1.5791905683659553,
          1.5912907240429104,
          1.6033908797198664,
          1.6154910353968224,
          1.6275911910737784,
          1.6396913467507344,
          1.6517915024276895,
          1.6638916581046463,
          1.6759918137816023,
          1.6880919694585583,
          1.7001921251355143,
          1.7122922808124694,
          1.7243924364894254,
          1.7364925921663814,
          1.7485927478433374,
          1.7606929035202934,
          1.7727930591972494,
          1.7848932148742054,
          1.7969933705511614,
          1.8090935262281174,
          1.8211936819050734,
          1.8332938375820285,
          1.8453939932589845,
          1.8574941489359404,
          1.8695943046128964,
          1.8816944602898533,
          1.8937946159668084,
          1.9058947716437644,
          1.9179949273207204,
          1.9300950829976764,
          1.9421952386746324,
          1.9542953943515875,
          1.9663955500285435,
          1.9784957057054995,
          1.9905958613824555,
          2.0026960170594124,
          2.0147961727363675,
          2.0268963284133235,
          2.0389964840902794,
          2.0510966397672354,
          2.0631967954441914,
          2.0752969511211465,
          2.0873971067981025,
          2.0994972624750585,
          2.1115974181520154,
          2.1236975738289714,
          2.1357977295059265,
          2.1478978851828825,
          2.1599980408598385,
          2.1720981965367945,
          2.1841983522137505,
          2.1962985078907056,
          2.2083986635676616,
          2.2204988192446184,
          2.2325989749215744,
          2.2446991305985304,
          2.2567992862754855,
          2.2688994419524415,
          2.2809995976293975,
          2.2930997533063535,
          2.3051999089833095,
          2.3173000646602655,
          2.3294002203372206,
          2.3415003760141775,
          2.3536005316911335,
          2.3657006873680895,
          2.3778008430450455,
          2.3899009987220006,
          2.4020011543989566,
          2.4141013100759126,
          2.4262014657528685,
          2.4383016214298245,
          2.4504017771067805,
          2.4625019327837365,
          2.4746020884606925,
          2.4867022441376485,
          2.4988023998146045,
          2.5109025554915596,
          2.5230027111685156,
          2.5351028668454716,
          2.5472030225224276,
          2.5593031781993845
         ],
         "xaxis": "x",
         "y": [
          0.005981339211587247,
          0.006030601727656546,
          0.006077665955213564,
          0.006122707320105451,
          0.006165921514100174,
          0.0062075242118731664,
          0.006247750703983116,
          0.006286855449536838,
          0.006325111552930452,
          0.006362810169705559,
          0.006400259847167701,
          0.0064377858059733,
          0.006475729169394079,
          0.006514446147409232,
          0.006554307183149139,
          0.006595696069515955,
          0.006639009044031975,
          0.00668465387011214,
          0.006733048913020386,
          0.006784622218748369,
          0.0068398106039485925,
          0.006899058764861547,
          0.00696281841289903,
          0.0070315474441844834,
          0.0071057091499082715,
          0.007185771473834579,
          0.007272206322700974,
          0.007365488934585781,
          0.0074660973095889045,
          0.00757451170638363,
          0.0076912142073576875,
          0.00781668835417922,
          0.007951418854704703,
          0.008095891361200383,
          0.008250592318885216,
          0.008416008882831044,
          0.008592628900284255,
          0.008780940954512817,
          0.008981434465341935,
          0.009194599840632832,
          0.009420928672089612,
          0.009660913967960344,
          0.009915050414439158,
          0.010183834656885599,
          0.01046776559136399,
          0.010767344656477901,
          0.011083076115040528,
          0.011415467314786813,
          0.011765028917105274,
          0.012132275082650752,
          0.012517723602698453,
          0.01292189596521868,
          0.013345317344892669,
          0.013788516506653829,
          0.014252025612827445,
          0.014736379924552272,
          0.015242117388900099,
          0.015769778103959256,
          0.016319903655110962,
          0.016893036316799857,
          0.01748971811527184,
          0.018110489749019194,
          0.018755889365023672,
          0.019426451190312572,
          0.020122704019831877,
          0.020845169563179656,
          0.02159436065432049,
          0.022370779330003778,
          0.023174914784221422,
          0.024007241207645955,
          0.024868215522577966,
          0.0257582750254792,
          0.026677834950665745,
          0.027627285970162636,
          0.028606991646062424,
          0.029617285852972526,
          0.03065847018925841,
          0.03173081139678323,
          0.03283453880968883,
          0.033969841853450554,
          0.03513686761595131,
          0.036335718512652694,
          0.03756645006807813,
          0.038829068835760115,
          0.040123530478534855,
          0.041449738030582224,
          0.04280754036191253,
          0.044196730865086895,
          0.045617046382828805,
          0.04706816639384548,
          0.04854971247263072,
          0.05006124803727853,
          0.051602278397408045,
          0.05317225111219254,
          0.05477055666622315,
          0.056396529468529674,
          0.05804944917754631,
          0.05972854235217858,
          0.0614329844264061,
          0.06316190200208663,
          0.0649143754518178,
          0.06668944182090486,
          0.06848609801469391,
          0.07030330425479155,
          0.07213998778503597,
          0.07399504680552928,
          0.07586735461062774,
          0.07775576390453239,
          0.0796591112660598,
          0.08157622173232278,
          0.0835059134694448,
          0.08544700249708033,
          0.08739830743244761,
          0.08935865421881317,
          0.09132688080290709,
          0.09330184172562216,
          0.09528241259054941,
          0.0972674943754456,
          0.09925601755261045,
          0.10124694598537246,
          0.10323928056943855,
          0.10523206258974158,
          0.10722437676561189,
          0.10921535395958955,
          0.11120417352795321,
          0.11319006529406221,
          0.11517231112885006,
          0.11715024612624989,
          0.11912325936493666,
          0.12109079425151066,
          0.12305234844408092,
          0.12500747335909476,
          0.12695577326817195,
          0.1288969039955905,
          0.13083057123089148,
          0.1327565284748046,
          0.13467457464027108,
          0.13658455133374806,
          0.13848633984516573,
          0.14037985787784107,
          0.14226505605230297,
          0.14414191422031494,
          0.1460104376273756,
          0.14787065296359725,
          0.14972260434410603,
          0.1515663492609349,
          0.15340195454880642,
          0.15522949240719702,
          0.1570490365206449,
          0.1588606583184138,
          0.16066442341334888,
          0.16246038825808787,
          0.16424859705471026,
          0.16602907895146754,
          0.16780184555742833,
          0.1695668888027631,
          0.17132417916896053,
          0.1730736643096012,
          0.17481526807840472,
          0.1765488899771801,
          0.17827440503208175,
          0.1799916641022259,
          0.181700494620343,
          0.18340070176071632,
          0.18509207002529238,
          0.18677436523452154,
          0.1884473369053099,
          0.1901107209944166,
          0.19176424298179134,
          0.1934076212647419,
          0.1950405708304806,
          0.19666280717156284,
          0.1982740504060179,
          0.19987402956162653,
          0.2014624869818157,
          0.20303918280906277,
          0.20460389950052424,
          0.20615644632985025,
          0.20769666382880586,
          0.20922442812241665,
          0.21073965511186019,
          0.21224230446025297,
          0.21373238333780792,
          0.21520994988455702,
          0.2166751163509121,
          0.21812805187878712,
          0.21956898488874974,
          0.22099820504174653,
          0.22241606474726427,
          0.22382298019336277,
          0.22521943187779178,
          0.2266059646233452,
          0.2279831870646939,
          0.22935177059812584,
          0.23071244778987124,
          0.23206601024297618,
          0.23341330592697235,
          0.2347552359788309,
          0.23609275098785806,
          0.23742684678126827,
          0.23875855973109827,
          0.24008896160691232,
          0.24141915400232278,
          0.24275026236673805,
          0.24408342967688165,
          0.24541980978550848,
          0.24676056048736086,
          0.2481068363447164,
          0.24945978131690183,
          0.2508205212398496,
          0.25219015620314456,
          0.2535697528730658,
          0.25496033681082925,
          0.2563628848356299,
          0.25777831748210445,
          0.25920749160155393,
          0.2606511931556275,
          0.26211013025022306,
          0.2635849264560853,
          0.2650761144609982,
          0.2665841300965903,
          0.26810930678060224,
          0.2696518704130223,
          0.2712119347618022,
          0.2727894973709129,
          0.27438443602034474,
          0.27599650576428003,
          0.2776253365701115,
          0.2792704315772624,
          0.2809311659909064,
          0.28260678662170935,
          0.28429641207864875,
          0.2859990336178392,
          0.2877135166461144,
          0.2894386028739419,
          0.291172913108082,
          0.2929149506702794,
          0.2946631054242387,
          0.2964156583891997,
          0.29817078691461435,
          0.2999265703868014,
          0.30168099643500185,
          0.30343196760103086,
          0.3051773084337562,
          0.3069147729669136,
          0.3086420525363912,
          0.3103567838910198,
          0.31205655754917433,
          0.3137389263521263,
          0.3154014141640889,
          0.3170415246682955,
          0.3186567502082456,
          0.32024458062347627,
          0.32180251202981325,
          0.3233280554950988,
          0.32481874556281615,
          0.32627214857785614,
          0.3276858707708855,
          0.3290575660603315,
          0.33038494353393083,
          0.33166577457499574,
          0.33289789960208344,
          0.3340792343945104,
          0.3352077759801438,
          0.3362816080660519,
          0.3372989059969025,
          0.3382579412303654,
          0.3391570853232073,
          0.3399948134261825,
          0.34076970729018524,
          0.34148045779039116,
          0.34212586697921715,
          0.34270484968284626,
          0.34321643465971763,
          0.3436597653427613,
          0.34403410019020625,
          0.34433881267246025,
          0.344573390924853,
          0.34473743709787646,
          0.34483066643796284,
          0.3448529061327752,
          0.3448040939554293,
          0.34468427674203034,
          0.3444936087363827,
          0.34423234983471274,
          0.34390086376176976,
          0.3434996162077258,
          0.3430291729529432,
          0.3424901980048981,
          0.3418834517684434,
          0.34120978926713125,
          0.34047015842959977,
          0.3396655984510846,
          0.33879723823598207,
          0.33786629492317194,
          0.3368740724914925,
          0.33582196043849044,
          0.33471143252132557,
          0.33354404554461276,
          0.33232143817606874,
          0.3310453297671521,
          0.32971751915250613,
          0.3283398833990092,
          0.32691437647258514,
          0.3254430277887853,
          0.32392794061144,
          0.3223712902625168,
          0.3207753221057068,
          0.31914234926619567,
          0.3174747500496237,
          0.3157749650243396,
          0.3140454937327971,
          0.3122888910002033,
          0.3105077628114328,
          0.3087047617306092,
          0.3068825818417025,
          0.3050439531929138,
          0.3031916357324681,
          0.301328412728709,
          0.29945708367297974,
          0.29758045666966365,
          0.29570134032387474,
          0.29382253514354495,
          0.2919468244790308,
          0.2900769650297318,
          0.2882156769535547,
          0.2863656336212647,
          0.2845294510637879,
          0.28270967716628564,
          0.280908780668247,
          0.27912914003388967,
          0.2773730322617191,
          0.275642621706166,
          0.2739399489877068,
          0.2722669200707512,
          0.2706252955907769,
          0.26901668051372507,
          0.26744251421144555,
          0.2659040610370167,
          0.26440240148304656,
          0.2629384240045504,
          0.2615128175857217,
          0.26012606512686925,
          0.25877843772398856,
          0.2574699899088942,
          0.25620055591260404,
          0.25496974700874603,
          0.25377694998722106,
          0.2526213268012321,
          0.2515018154231426,
          0.25041713193651893,
          0.2493657738831928,
          0.24834602487533505,
          0.24735596047343017,
          0.24639345532174856,
          0.24545619152351836,
          0.2445416682285832,
          0.243647212396959,
          0.24276999069248037,
          0.24190702245171303,
          0.24105519366459335,
          0.2402112718949125,
          0.23937192206087773,
          0.2385337229886012,
          0.2376931846446017,
          0.23684676594725693,
          0.23599089305173762,
          0.2351219779982949,
          0.23423643760992288,
          0.23333071252241797,
          0.23240128622774203,
          0.2314447040103721,
          0.23045759165604016,
          0.2294366738128884,
          0.2283787918866501,
          0.2272809213539536,
          0.22614018838125113,
          0.22495388564117116,
          0.22371948722323268,
          0.22243466254182556,
          0.22109728915109303,
          0.21970546438380031,
          0.21825751573938335,
          0.21675200995506413,
          0.21518776070314619,
          0.21356383486725816,
          0.21187955736035444,
          0.21013451445757717,
          0.2083285556276113,
          0.2064617938567608,
          0.20453460447062521,
          0.20254762246881536,
          0.20050173839856303,
          0.1983980928032483,
          0.19623806929170656,
          0.19402328628362217,
          0.19175558749525304,
          0.18943703123813732,
          0.18706987861119334,
          0.18465658067371604,
          0.18219976469311616,
          0.17970221956680574,
          0.1771668805223684,
          0.17459681320402198,
          0.17199519725637305,
          0.16936530951854292,
          0.1667105069429369,
          0.16403420935319205,
          0.16133988215521147,
          0.1586310191136966,
          0.1559111253042113,
          0.1531837003476298,
          0.15045222202983868,
          0.14772013040485232,
          0.14499081247409526,
          0.14226758752856553,
          0.13955369323400477,
          0.13685227253207835,
          0.13416636142304886,
          0.13149887768752946,
          0.12885261059671815,
          0.1262302116521432,
          0.12363418638742282,
          0.12106688725597521,
          0.11853050762006495,
          0.11602707684811138,
          0.11355845651889326,
          0.1111263377232148,
          0.1087322394458395,
          0.10637750800307894,
          0.10406331750442198,
          0.10179067130005005,
          0.09956040437003738,
          0.09737318660554425,
          0.09522952692737917,
          0.09312977818298866,
          0.0910741427592174,
          0.0890626788451181,
          0.0870953072766469,
          0.0851718188932891,
          0.08329188233549752,
          0.08145505221128987,
          0.07966077756041383,
          0.07790841054514734,
          0.07619721529800977,
          0.07452637685839225,
          0.07289501013235364,
          0.07130216881249979,
          0.06974685419796653,
          0.06822802385798683,
          0.0667446000863065,
          0.06529547809778109,
          0.0638795339227671,
          0.06249563195940381,
          0.06114263214847309,
          0.05981939674022109,
          0.05852479662725058,
          0.05725771722231297,
          0.056017063864504515,
          0.05480176674195682,
          0.05361078532356831,
          0.052443112296624024,
          0.0512977770112519,
          0.05017384843655168,
          0.04907043763686381,
          0.04798669978001922,
          0.04692183569249238,
          0.045875092979160606,
          0.04484576672785038,
          0.043833199821002346,
          0.042836782878624066,
          0.04185595385821338,
          0.04089019733852882,
          0.039939043514971344,
          0.0390020669349207,
          0.038078885001663,
          0.03716915627555658,
          0.03627257860083735,
          0.03538888708597289,
          0.03451785196475859,
          0.033659276364428566,
          0.032812994005953826,
          0.031978866860436425,
          0.03115678278410837,
          0.030346653152929386,
          0.029548410516170458,
          0.028762006286690664,
          0.02798740848389001,
          0.027224599543564692,
          0.026473574207130413,
          0.025734337500926817,
          0.025006902814592315,
          0.024291290085820455,
          0.023587524097186934,
          0.02289563288918972,
          0.022215646292176833,
          0.021547594578465806,
          0.02089150723468578,
          0.020247411853208195,
          0.01961533314047986
         ],
         "yaxis": "y"
        },
        {
         "legendgroup": "Group 3",
         "marker": {
          "color": "#63F5EF"
         },
         "mode": "lines",
         "name": "Group 3",
         "showlegend": false,
         "type": "scatter",
         "x": [
          -0.6433323444168493,
          -0.6331294854555912,
          -0.6229266264943333,
          -0.6127237675330752,
          -0.6025209085718172,
          -0.5923180496105591,
          -0.5821151906493012,
          -0.5719123316880431,
          -0.5617094727267851,
          -0.5515066137655271,
          -0.5413037548042691,
          -0.531100895843011,
          -0.520898036881753,
          -0.510695177920495,
          -0.500492318959237,
          -0.4902894599979789,
          -0.4800866010367209,
          -0.4698837420754629,
          -0.45968088311420485,
          -0.4494780241529468,
          -0.4392751651916888,
          -0.4290723062304308,
          -0.41886944726917275,
          -0.40866658830791475,
          -0.39846372934665675,
          -0.3882608703853987,
          -0.3780580114241407,
          -0.3678551524628827,
          -0.3576522935016246,
          -0.3474494345403666,
          -0.3372465755791086,
          -0.32704371661785053,
          -0.31684085765659253,
          -0.30663799869533453,
          -0.2964351397340765,
          -0.2862322807728185,
          -0.2760294218115605,
          -0.2658265628503024,
          -0.2556237038890444,
          -0.24542084492778637,
          -0.23521798596652832,
          -0.22501512700527032,
          -0.21481226804401232,
          -0.20460940908275427,
          -0.1944065501214962,
          -0.18420369116023821,
          -0.17400083219898022,
          -0.16379797323772216,
          -0.15359511427646416,
          -0.14339225531520616,
          -0.1331893963539481,
          -0.12298653739269005,
          -0.11278367843143211,
          -0.10258081947017406,
          -0.09237796050891611,
          -0.08217510154765806,
          -0.07197224258639989,
          -0.06176938362514195,
          -0.051566524663883895,
          -0.04136366570262584,
          -0.031160806741367897,
          -0.020957947780109842,
          -0.010755088818851788,
          -0.0005522298575938445,
          0.00965062910366421,
          0.019853488064922264,
          0.030056347026180208,
          0.04025920598743826,
          0.05046206494869632,
          0.06066492390995426,
          0.07086778287121231,
          0.08107064183247037,
          0.09127350079372831,
          0.10147635975498648,
          0.11167921871624453,
          0.12188207767750248,
          0.13208493663876053,
          0.14228779560001859,
          0.15249065456127653,
          0.16269351352253458,
          0.17289637248379264,
          0.18309923144505058,
          0.19330209040630864,
          0.2035049493675667,
          0.21370780832882463,
          0.2239106672900827,
          0.23411352625134074,
          0.24431638521259869,
          0.25451924417385685,
          0.2647221031351149,
          0.27492496209637285,
          0.2851278210576309,
          0.29533068001888885,
          0.3055335389801469,
          0.31573639794140496,
          0.3259392569026629,
          0.33614211586392095,
          0.346344974825179,
          0.35654783378643695,
          0.3667506927476951,
          0.37695355170895306,
          0.387156410670211,
          0.39735926963146917,
          0.4075621285927271,
          0.41776498755398506,
          0.4279678465152432,
          0.43817070547650117,
          0.4483735644377591,
          0.45857642339901705,
          0.4687792823602752,
          0.47898214132153316,
          0.4891850002827911,
          0.4993878592440495,
          0.5095907182053074,
          0.5197935771665654,
          0.5299964361278235,
          0.5401992950890815,
          0.5504021540503394,
          0.5606050130115976,
          0.5708078719728555,
          0.5810107309341135,
          0.5912135898953716,
          0.6014164488566296,
          0.6116193078178875,
          0.6218221667791457,
          0.6320250257404036,
          0.6422278847016616,
          0.6524307436629198,
          0.6626336026241777,
          0.6728364615854356,
          0.6830393205466938,
          0.6932421795079518,
          0.7034450384692097,
          0.7136478974304679,
          0.7238507563917258,
          0.7340536153529837,
          0.7442564743142419,
          0.7544593332754999,
          0.7646621922367578,
          0.774865051198016,
          0.7850679101592739,
          0.7952707691205319,
          0.80547362808179,
          0.815676487043048,
          0.8258793460043059,
          0.8360822049655643,
          0.8462850639268222,
          0.8564879228880802,
          0.8666907818493383,
          0.8768936408105963,
          0.8870964997718542,
          0.8972993587331124,
          0.9075022176943703,
          0.9177050766556283,
          0.9279079356168864,
          0.9381107945781444,
          0.9483136535394023,
          0.9585165125006605,
          0.9687193714619184,
          0.9789222304231764,
          0.9891250893844346,
          0.9993279483456925,
          1.0095308073069504,
          1.0197336662682086,
          1.0299365252294665,
          1.0401393841907245,
          1.0503422431519827,
          1.0605451021132406,
          1.0707479610744985,
          1.0809508200357567,
          1.0911536789970147,
          1.1013565379582726,
          1.1115593969195308,
          1.1217622558807887,
          1.1319651148420466,
          1.1421679738033048,
          1.152370832764563,
          1.162573691725821,
          1.172776550687079,
          1.182979409648337,
          1.193182268609595,
          1.2033851275708531,
          1.213587986532111,
          1.223790845493369,
          1.233993704454627,
          1.2441965634158851,
          1.254399422377143,
          1.264602281338401,
          1.2748051402996592,
          1.2850079992609171,
          1.295210858222175,
          1.3054137171834332,
          1.3156165761446912,
          1.3258194351059491,
          1.3360222940672073,
          1.3462251530284652,
          1.3564280119897232,
          1.3666308709509813,
          1.3768337299122395,
          1.3870365888734972,
          1.3972394478347554,
          1.4074423067960136,
          1.4176451657572713,
          1.4278480247185295,
          1.4380508836797876,
          1.4482537426410458,
          1.4584566016023035,
          1.4686594605635617,
          1.4788623195248194,
          1.4890651784860776,
          1.4992680374473357,
          1.5094708964085939,
          1.5196737553698516,
          1.5298766143311098,
          1.5400794732923675,
          1.5502823322536257,
          1.5604851912148834,
          1.570688050176142,
          1.5808909091373997,
          1.5910937680986579,
          1.6012966270599156,
          1.6114994860211738,
          1.6217023449824315,
          1.63190520394369,
          1.6421080629049483,
          1.652310921866206,
          1.6625137808274641,
          1.6727166397887219,
          1.68291949874998,
          1.6931223577112382,
          1.7033252166724964,
          1.713528075633754,
          1.7237309345950123,
          1.73393379355627,
          1.7441366525175281,
          1.7543395114787863,
          1.7645423704400445,
          1.7747452294013022,
          1.7849480883625604,
          1.795150947323818,
          1.8053538062850762,
          1.8155566652463344,
          1.8257595242075926,
          1.8359623831688503,
          1.8461652421301085,
          1.8563681010913662,
          1.8665709600526244,
          1.8767738190138825,
          1.8869766779751407,
          1.8971795369363984,
          1.9073823958976566,
          1.9175852548589143,
          1.9277881138201725,
          1.9379909727814306,
          1.9481938317426888,
          1.9583966907039465,
          1.9685995496652047,
          1.9788024086264628,
          1.9890052675877206,
          1.9992081265489792,
          2.009410985510237,
          2.019613844471495,
          2.029816703432753,
          2.040019562394011,
          2.0502224213552687,
          2.0604252803165273,
          2.070628139277785,
          2.080830998239043,
          2.091033857200301,
          2.101236716161559,
          2.1114395751228168,
          2.1216424340840754,
          2.131845293045333,
          2.1420481520065913,
          2.152251010967849,
          2.162453869929107,
          2.172656728890365,
          2.1828595878516235,
          2.193062446812881,
          2.2032653057741394,
          2.213468164735397,
          2.2236710236966553,
          2.233873882657913,
          2.2440767416191716,
          2.2542796005804293,
          2.2644824595416875,
          2.274685318502945,
          2.2848881774642034,
          2.295091036425461,
          2.3052938953867197,
          2.315496754347978,
          2.3256996133092356,
          2.3359024722704937,
          2.3461053312317515,
          2.3563081901930096,
          2.3665110491542674,
          2.376713908115526,
          2.3869167670767837,
          2.397119626038042,
          2.4073224849992996,
          2.4175253439605577,
          2.4277282029218155,
          2.437931061883074,
          2.448133920844332,
          2.45833677980559,
          2.4685396387668477,
          2.478742497728106,
          2.4889453566893636,
          2.499148215650622,
          2.50935107461188,
          2.519553933573138,
          2.529756792534396,
          2.539959651495654,
          2.5501625104569117,
          2.5603653694181703,
          2.570568228379428,
          2.580771087340686,
          2.590973946301944,
          2.601176805263202,
          2.6113796642244598,
          2.6215825231857184,
          2.6317853821469765,
          2.6419882411082343,
          2.6521911000694924,
          2.66239395903075,
          2.6725968179920083,
          2.6827996769532665,
          2.6930025359145247,
          2.7032053948757824,
          2.7134082538370405,
          2.7236111127982983,
          2.7338139717595564,
          2.7440168307208146,
          2.7542196896820728,
          2.7644225486433305,
          2.7746254076045886,
          2.7848282665658464,
          2.7950311255271045,
          2.8052339844883627,
          2.815436843449621,
          2.8256397024108786,
          2.8358425613721367,
          2.8460454203333945,
          2.8562482792946526,
          2.866451138255911,
          2.876653997217169,
          2.8868568561784267,
          2.897059715139685,
          2.9072625741009426,
          2.9174654330622007,
          2.927668292023459,
          2.937871150984717,
          2.9480740099459752,
          2.958276868907233,
          2.968479727868491,
          2.978682586829749,
          2.9888854457910075,
          2.999088304752265,
          3.0092911637135233,
          3.019494022674781,
          3.0296968816360392,
          3.039899740597297,
          3.0501025995585556,
          3.0603054585198133,
          3.0705083174810714,
          3.080711176442329,
          3.0909140354035873,
          3.101116894364845,
          3.111319753326103,
          3.1215226122873614,
          3.1317254712486196,
          3.1419283302098773,
          3.1521311891711354,
          3.162334048132393,
          3.1725369070936513,
          3.1827397660549095,
          3.1929426250161677,
          3.2031454839774254,
          3.2133483429386835,
          3.2235512018999413,
          3.2337540608611994,
          3.2439569198224576,
          3.2541597787837158,
          3.2643626377449735,
          3.2745654967062316,
          3.28476835566749,
          3.2949712146287475,
          3.305174073590006,
          3.315376932551264,
          3.325579791512522,
          3.3357826504737798,
          3.345985509435038,
          3.3561883683962956,
          3.366391227357554,
          3.376594086318812,
          3.38679694528007,
          3.3969998042413283,
          3.4072026632025865,
          3.4174055221638437,
          3.427608381125102,
          3.43781124008636,
          3.4480140990476182,
          3.4582169580088764,
          3.4684198169701337,
          3.478622675931392,
          3.48882553489265,
          3.499028393853908,
          3.5092312528151655,
          3.5194341117764245,
          3.5296369707376827,
          3.539839829698941,
          3.550042688660198,
          3.5602455476214563,
          3.5704484065827145,
          3.5806512655439726,
          3.59085412450523,
          3.601056983466488,
          3.6112598424277462,
          3.6214627013890044,
          3.6316655603502626,
          3.6418684193115207,
          3.652071278272779,
          3.662274137234037,
          3.672476996195295,
          3.6826798551565525,
          3.6928827141178107,
          3.703085573079069,
          3.713288432040327,
          3.7234912910015843,
          3.7336941499628424,
          3.7438970089241006,
          3.7540998678853588,
          3.764302726846616,
          3.774505585807875,
          3.7847084447691333,
          3.7949113037303914,
          3.8051141626916487,
          3.815317021652907,
          3.825519880614165,
          3.835722739575423,
          3.8459255985366805,
          3.8561284574979386,
          3.866331316459197,
          3.876534175420455,
          3.8867370343817123,
          3.8969398933429713,
          3.9071427523042295,
          3.9173456112654876,
          3.927548470226746,
          3.937751329188003,
          3.9479541881492612,
          3.9581570471105194,
          3.9683599060717776,
          3.978562765033035,
          3.988765623994293,
          3.998968482955551,
          4.00917134191681,
          4.019374200878067,
          4.029577059839326,
          4.039779918800583,
          4.0499827777618425,
          4.0601856367231,
          4.070388495684357,
          4.080591354645616,
          4.090794213606873,
          4.100997072568131,
          4.11119993152939,
          4.121402790490647,
          4.131605649451906,
          4.141808508413163,
          4.152011367374422,
          4.16221422633568,
          4.172417085296939,
          4.182619944258196,
          4.192822803219453,
          4.203025662180712,
          4.2132285211419696,
          4.223431380103227,
          4.233634239064486,
          4.243837098025743,
          4.254039956987002,
          4.264242815948261,
          4.2744456749095185,
          4.284648533870776,
          4.294851392832035,
          4.305054251793292,
          4.315257110754549,
          4.3254599697158085,
          4.335662828677066,
          4.345865687638325,
          4.356068546599582,
          4.366271405560839,
          4.376474264522098,
          4.3866771234833575,
          4.396879982444615,
          4.407082841405872,
          4.417285700367131,
          4.427488559328388,
          4.437691418289646,
          4.447894277250905
         ],
         "xaxis": "x",
         "y": [
          0.013414330499744795,
          0.01356953628511003,
          0.013720174098418563,
          0.013866499081870454,
          0.014008810879650394,
          0.014147453718209503,
          0.014282816275994299,
          0.014415331341127668,
          0.01454547525695549,
          0.014673767156793978,
          0.0148007679906341,
          0.014927079347968922,
          0.015053342082295787,
          0.015180234744195163,
          0.015308471831190159,
          0.015438801863835184,
          0.015572005298655909,
          0.015708892289658164,
          0.015850300311128652,
          0.015997091655358554,
          0.016150150819724186,
          0.016310381798249014,
          0.016478705293344314,
          0.016656055863876005,
          0.016843379026029757,
          0.01704162832364228,
          0.017251762384733634,
          0.0174747419809131,
          0.017711527106139997,
          0.017963074091005407,
          0.018230332768262168,
          0.018514243704774738,
          0.018815735514393667,
          0.01913572226548672,
          0.0194751009959889,
          0.019834749347874398,
          0.020215523331914752,
          0.02061825523247743,
          0.021043751660949284,
          0.02149279176515074,
          0.02196612560084714,
          0.02246447267017919,
          0.022988520630531986,
          0.023538924176054108,
          0.02411630409273767,
          0.02472124648668401,
          0.02535430218392213,
          0.02601598629892478,
          0.026706777967792437,
          0.02742712024095547,
          0.028177420129187464,
          0.028958048795738045,
          0.02976934188648465,
          0.030611599989178326,
          0.03148508921212309,
          0.03239004187198466,
          0.03332665727987843,
          0.03429510261443744,
          0.035295513870214866,
          0.03632799686952767,
          0.03739262832570481,
          0.03848945694565777,
          0.03961850455974712,
          0.04077976726707046,
          0.04197321658454408,
          0.04319880058848737,
          0.04445644503784599,
          0.04574605446869575,
          0.04706751325025636,
          0.04842068659330536,
          0.04980542150260785,
          0.05122154766576937,
          0.052668878271766556,
          0.054147210753306294,
          0.05565632744810723,
          0.05719599617517767,
          0.05876597072317616,
          0.06036599124897957,
          0.0619957845856411,
          0.06365506445999014,
          0.06534353162120425,
          0.0670608738827575,
          0.06880676608122133,
          0.07058086995644888,
          0.07238283395870854,
          0.0742122929893439,
          0.0760688680825088,
          0.07795216603646132,
          0.07986177900378638,
          0.08179728405074577,
          0.08375824269672401,
          0.08574420044543504,
          0.08775468632017587,
          0.08978921241595239,
          0.09184727348174544,
          0.09392834654653189,
          0.09603189060291842,
          0.09815734636237304,
          0.10030413609604732,
          0.10247166357507141,
          0.10465931412395503,
          0.10686645480034945,
          0.1090924347139043,
          0.11133658549629356,
          0.11359822193367658,
          0.11587664277190804,
          0.11817113170371239,
          0.12048095854579562,
          0.12280538061248109,
          0.12514364429093294,
          0.12749498682137905,
          0.1298586382839583,
          0.1322338237919307,
          0.1346197658889785,
          0.13701568714624435,
          0.139420812952569,
          0.14183437448916858,
          0.14425561187770458,
          0.146683777488399,
          0.149118139392533,
          0.15155798494137424,
          0.15400262445132018,
          0.15645139497284785,
          0.1589036641187532,
          0.1613588339251596,
          0.16381634471691883,
          0.16627567894731174,
          0.16873636498044964,
          0.17119798078344883,
          0.17366015749438507,
          0.17612258283118895,
          0.17858500430609395,
          0.18104723220997315,
          0.18350914233093982,
          0.18597067837193132,
          0.18843185403269264,
          0.19089275472257722,
          0.1933535388719571,
          0.19581443881172977,
          0.1982757611924522,
          0.20073788691701605,
          0.20320127056348128,
          0.205666439277699,
          0.20813399111867753,
          0.21060459284323516,
          0.21307897712032794,
          0.2155579391695213,
          0.21804233282234595,
          0.22053306600971412,
          0.22303109568315008,
          0.2255374221822457,
          0.22805308306547817,
          0.23057914642624835,
          0.23311670372071838,
          0.23566686213863947,
          0.23823073655290106,
          0.24080944108787328,
          0.24340408035078762,
          0.24601574037431403,
          0.24864547932212588,
          0.2512943180125643,
          0.25396323031846046,
          0.25665313350374785,
          0.25936487855963336,
          0.26209924060478884,
          0.26485690941524564,
          0.2676384801503977,
          0.2704444443417311,
          0.273275181210603,
          0.27613094938054544,
          0.2790118790482168,
          0.28191796467523594,
          0.28484905826071116,
          0.2878048632513764,
          0.2907849291428267,
          0.29378864682146766,
          0.29681524469248155,
          0.29986378563436766,
          0.3029331648154974,
          0.30602210840267735,
          0.30912917318593797,
          0.31225274713775536,
          0.31539105091868636,
          0.31854214033498424,
          0.321703909747286,
          0.3248740964228567,
          0.32805028581733403,
          0.3312299177653614,
          0.3344102935530654,
          0.33758858383905577,
          0.34076183738453286,
          0.34392699054724984,
          0.3470808774885485,
          0.3502202410374913,
          0.35334174415130004,
          0.3564419819069464,
          0.359517493954809,
          0.36256477736190557,
          0.36558029976929834,
          0.368560512785939,
          0.37150186553942494,
          0.3744008183029537,
          0.37725385611714385,
          0.3800575023254077,
          0.38280833194212066,
          0.3855029847740497,
          0.38813817821725166,
          0.390710719653997,
          0.3932175183771635,
          0.39565559697295766,
          0.3980221020967349,
          0.4003143145810693,
          0.40252965882002845,
          0.4046657113788173,
          0.4067202087834948,
          0.40869105445132525,
          0.41057632472843136,
          0.41237427400772936,
          0.414083338906603,
          0.415702141490338,
          0.4172294915339696,
          0.41866438782182164,
          0.42000601849058394,
          0.4212537604282361,
          0.42240717774745035,
          0.4234660193582021,
          0.4244302156701871,
          0.42529987446119594,
          0.42607527595284345,
          0.4267568671399074,
          0.42734525542396895,
          0.42784120160609146,
          0.4282456122968044,
          0.4285595318047433,
          0.42878413356784806,
          0.42892071119308867,
          0.42897066917219184,
          0.4289355133418439,
          0.4288168411573079,
          0.4286163318483216,
          0.4283357365255775,
          0.4279768683049814,
          0.4275415925153348,
          0.4270318170530372,
          0.42644948294493407,
          0.4257965551775358,
          0.4250750138475733,
          0.42428684568520386,
          0.42343403599728274,
          0.4225185610738454,
          0.42154238109654435,
          0.42050743358308107,
          0.41941562739689925,
          0.41826883734644654,
          0.41706889939332337,
          0.4158176064835799,
          0.41451670501139587,
          0.41316789191937126,
          0.4117728124347385,
          0.4103330584360019,
          0.4088501674398695,
          0.40732562219383617,
          0.40576085085554475,
          0.40415722773598833,
          0.40251607457987176,
          0.40083866235292387,
          0.39912621350279026,
          0.3973799046572167,
          0.3956008697207031,
          0.39379020332856096,
          0.3919489646154291,
          0.3900781812537669,
          0.38817885371663685,
          0.38625195971823667,
          0.3842984587851471,
          0.38231929691104377,
          0.38031541124782037,
          0.37828773478647837,
          0.3762372009819559,
          0.37416474827708396,
          0.3720713244822278,
          0.3699578909687461,
          0.36782542663625273,
          0.36567493161573045,
          0.3635074306728394,
          0.3613239762782171,
          0.3591256513142333,
          0.35691357139045876,
          0.35468888674304555,
          0.3524527836962906,
          0.3502064856678043,
          0.3479512537019555,
          0.34568838651958095,
          0.3434192200753112,
          0.34114512661724505,
          0.33886751324712383,
          0.33658781998256654,
          0.33430751732631214,
          0.3320281033507746,
          0.32975110030953486,
          0.32747805079064524,
          0.3252105134297878,
          0.322950058204417,
          0.32069826133300855,
          0.3184566998063731,
          0.31622694558074477,
          0.3140105594649316,
          0.3118090847362325,
          0.3096240405220892,
          0.30745691498650907,
          0.30530915836216266,
          0.30318217587072865,
          0.3010773205755011,
          0.29899588621148565,
          0.29693910003918095,
          0.2949081157689618,
          0.29290400660343396,
          0.2909277584453236,
          0.2889802633183689,
          0.2870623130483144,
          0.2851745932504528,
          0.2833176776692003,
          0.28149202291396114,
          0.27969796363399346,
          0.27793570817317137,
          0.27620533474341613,
          0.2745067881531809,
          0.27283987712469937,
          0.27120427223077676,
          0.26959950447870185,
          0.2680249645654437,
          0.26647990282462986,
          0.2649634298819491,
          0.2634745180315767,
          0.26201200334200914,
          0.26057458849534393,
          0.2591608463595902,
          0.2577692242890327,
          0.25639804914308295,
          0.25504553300941407,
          0.25370977961255725,
          0.2523887913845537,
          0.25108047716974063,
          0.24978266053135162,
          0.24849308862333402,
          0.24720944158670216,
          0.24592934242585113,
          0.24465036731660436,
          0.2433700562943956,
          0.24208592426788847,
          0.24079547230059387,
          0.2394961991006362,
          0.23818561265678598,
          0.2368612419572507,
          0.23552064872649667,
          0.23416143911458437,
          0.23278127527315412,
          0.23137788675230267,
          0.22994908165314557,
          0.22849275747187564,
          0.22700691157258887,
          0.2254896512280614,
          0.22393920317000302,
          0.22235392259308814,
          0.2207323015602193,
          0.21907297676004653,
          0.21737473657166367,
          0.21563652739564118,
          0.21385745921509466,
          0.21203681035527747,
          0.21017403141522548,
          0.20826874835017936,
          0.20632076468888805,
          0.20433006287536049,
          0.20229680473016676,
          0.20022133103194875,
          0.19810416022533028,
          0.19594598626688364,
          0.19374767562617104,
          0.19151026346407832,
          0.18923494901568416,
          0.18692309020968356,
          0.18457619756091095,
          0.1821959273767238,
          0.17978407432189478,
          0.17734256339018795,
          0.1748734413339376,
          0.1723788676056836,
          0.1698611048682348,
          0.16732250913140226,
          0.16476551957507954,
          0.1621926481193288,
          0.15960646880265247,
          0.15700960702970476,
          0.15440472874934238,
          0.15179452962309495,
          0.1491817242429344,
          0.1465690354555898,
          0.143959183848662,
          0.1413548774514377,
          0.13875880170061625,
          0.13617360971818296,
          0.13360191294541546,
          0.13104627217352402,
          0.1285091890077483,
          0.12599309779788656,
          0.12350035806426098,
          0.12103324744406666,
          0.11859395517893005,
          0.11618457616038355,
          0.11380710554583472,
          0.11146343395356866,
          0.10915534324133284,
          0.10688450286921002,
          0.10465246684376601,
          0.10246067123693099,
          0.10031043226972683,
          0.09820294494783934,
          0.09613928223314512,
          0.09412039473268163,
          0.09214711088418132,
          0.09022013761520824,
          0.08834006145113521,
          0.08650735004568053,
          0.08472235410650014,
          0.08298530968738786,
          0.08129634081797708,
          0.07965546244144693,
          0.07806258363061672,
          0.0765175110529326,
          0.07501995265521955,
          0.07356952153964887,
          0.07216574000316037,
          0.07080804371354345,
          0.06949578599651705,
          0.06822824220940937,
          0.06700461417844467,
          0.065824034678119,
          0.06468557193272206,
          0.0635882341216719,
          0.0625309738719846,
          0.061512692722857025,
          0.060532245548996604,
          0.05958844493095066,
          0.058680065462269566,
          0.05780584798485164,
          0.0569645037452598,
          0.05615471846614399,
          0.05537515632815923,
          0.05462446385890255,
          0.0539012737264126,
          0.053204208435675804,
          0.05253188392734798,
          0.051882913078542474,
          0.05125590910604682,
          0.050649488872712346,
          0.050062276098019456,
          0.049492904473963366,
          0.048940020687430634,
          0.04840228735016186,
          0.04787838583722096,
          0.04736701903463717,
          0.046866913996550505,
          0.046376824511800176,
          0.04589553357944933,
          0.04542185579225803,
          0.044954639626611004,
          0.044492769636888085,
          0.044035168551748397,
          0.04358079926929774,
          0.043128666747628004,
          0.04267781978678123,
          0.04222735269779177,
          0.041776406854128714,
          0.041324172120585624,
          0.040869888154469056,
          0.04041284557381788,
          0.039952386987349695,
          0.039487907880887595,
          0.03901885735516164,
          0.03854473871011663,
          0.03806510987118608,
          0.03757958365340722,
          0.03708782785975708,
          0.036589565210676446,
          0.03608457310241197,
          0.03557268319254069,
          0.035053780811844175,
          0.03452780420254966,
          0.033994743583859004,
          0.03345464004662603,
          0.03290758428000434,
          0.03235371513387392,
          0.031793218021839605,
          0.03122632317057734,
          0.03065330372227223,
          0.030074473697832026,
          0.029490185829463514,
          0.028900829272054902,
          0.028306827203612103
         ],
         "yaxis": "y"
        }
       ],
       "layout": {
        "barmode": "overlay",
        "hovermode": "closest",
        "legend": {
         "traceorder": "reversed"
        },
        "template": {
         "data": {
          "bar": [
           {
            "error_x": {
             "color": "#2a3f5f"
            },
            "error_y": {
             "color": "#2a3f5f"
            },
            "marker": {
             "line": {
              "color": "#E5ECF6",
              "width": 0.5
             },
             "pattern": {
              "fillmode": "overlay",
              "size": 10,
              "solidity": 0.2
             }
            },
            "type": "bar"
           }
          ],
          "barpolar": [
           {
            "marker": {
             "line": {
              "color": "#E5ECF6",
              "width": 0.5
             },
             "pattern": {
              "fillmode": "overlay",
              "size": 10,
              "solidity": 0.2
             }
            },
            "type": "barpolar"
           }
          ],
          "carpet": [
           {
            "aaxis": {
             "endlinecolor": "#2a3f5f",
             "gridcolor": "white",
             "linecolor": "white",
             "minorgridcolor": "white",
             "startlinecolor": "#2a3f5f"
            },
            "baxis": {
             "endlinecolor": "#2a3f5f",
             "gridcolor": "white",
             "linecolor": "white",
             "minorgridcolor": "white",
             "startlinecolor": "#2a3f5f"
            },
            "type": "carpet"
           }
          ],
          "choropleth": [
           {
            "colorbar": {
             "outlinewidth": 0,
             "ticks": ""
            },
            "type": "choropleth"
           }
          ],
          "contour": [
           {
            "colorbar": {
             "outlinewidth": 0,
             "ticks": ""
            },
            "colorscale": [
             [
              0,
              "#0d0887"
             ],
             [
              0.1111111111111111,
              "#46039f"
             ],
             [
              0.2222222222222222,
              "#7201a8"
             ],
             [
              0.3333333333333333,
              "#9c179e"
             ],
             [
              0.4444444444444444,
              "#bd3786"
             ],
             [
              0.5555555555555556,
              "#d8576b"
             ],
             [
              0.6666666666666666,
              "#ed7953"
             ],
             [
              0.7777777777777778,
              "#fb9f3a"
             ],
             [
              0.8888888888888888,
              "#fdca26"
             ],
             [
              1,
              "#f0f921"
             ]
            ],
            "type": "contour"
           }
          ],
          "contourcarpet": [
           {
            "colorbar": {
             "outlinewidth": 0,
             "ticks": ""
            },
            "type": "contourcarpet"
           }
          ],
          "heatmap": [
           {
            "colorbar": {
             "outlinewidth": 0,
             "ticks": ""
            },
            "colorscale": [
             [
              0,
              "#0d0887"
             ],
             [
              0.1111111111111111,
              "#46039f"
             ],
             [
              0.2222222222222222,
              "#7201a8"
             ],
             [
              0.3333333333333333,
              "#9c179e"
             ],
             [
              0.4444444444444444,
              "#bd3786"
             ],
             [
              0.5555555555555556,
              "#d8576b"
             ],
             [
              0.6666666666666666,
              "#ed7953"
             ],
             [
              0.7777777777777778,
              "#fb9f3a"
             ],
             [
              0.8888888888888888,
              "#fdca26"
             ],
             [
              1,
              "#f0f921"
             ]
            ],
            "type": "heatmap"
           }
          ],
          "heatmapgl": [
           {
            "colorbar": {
             "outlinewidth": 0,
             "ticks": ""
            },
            "colorscale": [
             [
              0,
              "#0d0887"
             ],
             [
              0.1111111111111111,
              "#46039f"
             ],
             [
              0.2222222222222222,
              "#7201a8"
             ],
             [
              0.3333333333333333,
              "#9c179e"
             ],
             [
              0.4444444444444444,
              "#bd3786"
             ],
             [
              0.5555555555555556,
              "#d8576b"
             ],
             [
              0.6666666666666666,
              "#ed7953"
             ],
             [
              0.7777777777777778,
              "#fb9f3a"
             ],
             [
              0.8888888888888888,
              "#fdca26"
             ],
             [
              1,
              "#f0f921"
             ]
            ],
            "type": "heatmapgl"
           }
          ],
          "histogram": [
           {
            "marker": {
             "pattern": {
              "fillmode": "overlay",
              "size": 10,
              "solidity": 0.2
             }
            },
            "type": "histogram"
           }
          ],
          "histogram2d": [
           {
            "colorbar": {
             "outlinewidth": 0,
             "ticks": ""
            },
            "colorscale": [
             [
              0,
              "#0d0887"
             ],
             [
              0.1111111111111111,
              "#46039f"
             ],
             [
              0.2222222222222222,
              "#7201a8"
             ],
             [
              0.3333333333333333,
              "#9c179e"
             ],
             [
              0.4444444444444444,
              "#bd3786"
             ],
             [
              0.5555555555555556,
              "#d8576b"
             ],
             [
              0.6666666666666666,
              "#ed7953"
             ],
             [
              0.7777777777777778,
              "#fb9f3a"
             ],
             [
              0.8888888888888888,
              "#fdca26"
             ],
             [
              1,
              "#f0f921"
             ]
            ],
            "type": "histogram2d"
           }
          ],
          "histogram2dcontour": [
           {
            "colorbar": {
             "outlinewidth": 0,
             "ticks": ""
            },
            "colorscale": [
             [
              0,
              "#0d0887"
             ],
             [
              0.1111111111111111,
              "#46039f"
             ],
             [
              0.2222222222222222,
              "#7201a8"
             ],
             [
              0.3333333333333333,
              "#9c179e"
             ],
             [
              0.4444444444444444,
              "#bd3786"
             ],
             [
              0.5555555555555556,
              "#d8576b"
             ],
             [
              0.6666666666666666,
              "#ed7953"
             ],
             [
              0.7777777777777778,
              "#fb9f3a"
             ],
             [
              0.8888888888888888,
              "#fdca26"
             ],
             [
              1,
              "#f0f921"
             ]
            ],
            "type": "histogram2dcontour"
           }
          ],
          "mesh3d": [
           {
            "colorbar": {
             "outlinewidth": 0,
             "ticks": ""
            },
            "type": "mesh3d"
           }
          ],
          "parcoords": [
           {
            "line": {
             "colorbar": {
              "outlinewidth": 0,
              "ticks": ""
             }
            },
            "type": "parcoords"
           }
          ],
          "pie": [
           {
            "automargin": true,
            "type": "pie"
           }
          ],
          "scatter": [
           {
            "fillpattern": {
             "fillmode": "overlay",
             "size": 10,
             "solidity": 0.2
            },
            "type": "scatter"
           }
          ],
          "scatter3d": [
           {
            "line": {
             "colorbar": {
              "outlinewidth": 0,
              "ticks": ""
             }
            },
            "marker": {
             "colorbar": {
              "outlinewidth": 0,
              "ticks": ""
             }
            },
            "type": "scatter3d"
           }
          ],
          "scattercarpet": [
           {
            "marker": {
             "colorbar": {
              "outlinewidth": 0,
              "ticks": ""
             }
            },
            "type": "scattercarpet"
           }
          ],
          "scattergeo": [
           {
            "marker": {
             "colorbar": {
              "outlinewidth": 0,
              "ticks": ""
             }
            },
            "type": "scattergeo"
           }
          ],
          "scattergl": [
           {
            "marker": {
             "colorbar": {
              "outlinewidth": 0,
              "ticks": ""
             }
            },
            "type": "scattergl"
           }
          ],
          "scattermapbox": [
           {
            "marker": {
             "colorbar": {
              "outlinewidth": 0,
              "ticks": ""
             }
            },
            "type": "scattermapbox"
           }
          ],
          "scatterpolar": [
           {
            "marker": {
             "colorbar": {
              "outlinewidth": 0,
              "ticks": ""
             }
            },
            "type": "scatterpolar"
           }
          ],
          "scatterpolargl": [
           {
            "marker": {
             "colorbar": {
              "outlinewidth": 0,
              "ticks": ""
             }
            },
            "type": "scatterpolargl"
           }
          ],
          "scatterternary": [
           {
            "marker": {
             "colorbar": {
              "outlinewidth": 0,
              "ticks": ""
             }
            },
            "type": "scatterternary"
           }
          ],
          "surface": [
           {
            "colorbar": {
             "outlinewidth": 0,
             "ticks": ""
            },
            "colorscale": [
             [
              0,
              "#0d0887"
             ],
             [
              0.1111111111111111,
              "#46039f"
             ],
             [
              0.2222222222222222,
              "#7201a8"
             ],
             [
              0.3333333333333333,
              "#9c179e"
             ],
             [
              0.4444444444444444,
              "#bd3786"
             ],
             [
              0.5555555555555556,
              "#d8576b"
             ],
             [
              0.6666666666666666,
              "#ed7953"
             ],
             [
              0.7777777777777778,
              "#fb9f3a"
             ],
             [
              0.8888888888888888,
              "#fdca26"
             ],
             [
              1,
              "#f0f921"
             ]
            ],
            "type": "surface"
           }
          ],
          "table": [
           {
            "cells": {
             "fill": {
              "color": "#EBF0F8"
             },
             "line": {
              "color": "white"
             }
            },
            "header": {
             "fill": {
              "color": "#C8D4E3"
             },
             "line": {
              "color": "white"
             }
            },
            "type": "table"
           }
          ]
         },
         "layout": {
          "annotationdefaults": {
           "arrowcolor": "#2a3f5f",
           "arrowhead": 0,
           "arrowwidth": 1
          },
          "autotypenumbers": "strict",
          "coloraxis": {
           "colorbar": {
            "outlinewidth": 0,
            "ticks": ""
           }
          },
          "colorscale": {
           "diverging": [
            [
             0,
             "#8e0152"
            ],
            [
             0.1,
             "#c51b7d"
            ],
            [
             0.2,
             "#de77ae"
            ],
            [
             0.3,
             "#f1b6da"
            ],
            [
             0.4,
             "#fde0ef"
            ],
            [
             0.5,
             "#f7f7f7"
            ],
            [
             0.6,
             "#e6f5d0"
            ],
            [
             0.7,
             "#b8e186"
            ],
            [
             0.8,
             "#7fbc41"
            ],
            [
             0.9,
             "#4d9221"
            ],
            [
             1,
             "#276419"
            ]
           ],
           "sequential": [
            [
             0,
             "#0d0887"
            ],
            [
             0.1111111111111111,
             "#46039f"
            ],
            [
             0.2222222222222222,
             "#7201a8"
            ],
            [
             0.3333333333333333,
             "#9c179e"
            ],
            [
             0.4444444444444444,
             "#bd3786"
            ],
            [
             0.5555555555555556,
             "#d8576b"
            ],
            [
             0.6666666666666666,
             "#ed7953"
            ],
            [
             0.7777777777777778,
             "#fb9f3a"
            ],
            [
             0.8888888888888888,
             "#fdca26"
            ],
            [
             1,
             "#f0f921"
            ]
           ],
           "sequentialminus": [
            [
             0,
             "#0d0887"
            ],
            [
             0.1111111111111111,
             "#46039f"
            ],
            [
             0.2222222222222222,
             "#7201a8"
            ],
            [
             0.3333333333333333,
             "#9c179e"
            ],
            [
             0.4444444444444444,
             "#bd3786"
            ],
            [
             0.5555555555555556,
             "#d8576b"
            ],
            [
             0.6666666666666666,
             "#ed7953"
            ],
            [
             0.7777777777777778,
             "#fb9f3a"
            ],
            [
             0.8888888888888888,
             "#fdca26"
            ],
            [
             1,
             "#f0f921"
            ]
           ]
          },
          "colorway": [
           "#636efa",
           "#EF553B",
           "#00cc96",
           "#ab63fa",
           "#FFA15A",
           "#19d3f3",
           "#FF6692",
           "#B6E880",
           "#FF97FF",
           "#FECB52"
          ],
          "font": {
           "color": "#2a3f5f"
          },
          "geo": {
           "bgcolor": "white",
           "lakecolor": "white",
           "landcolor": "#E5ECF6",
           "showlakes": true,
           "showland": true,
           "subunitcolor": "white"
          },
          "hoverlabel": {
           "align": "left"
          },
          "hovermode": "closest",
          "mapbox": {
           "style": "light"
          },
          "paper_bgcolor": "white",
          "plot_bgcolor": "#E5ECF6",
          "polar": {
           "angularaxis": {
            "gridcolor": "white",
            "linecolor": "white",
            "ticks": ""
           },
           "bgcolor": "#E5ECF6",
           "radialaxis": {
            "gridcolor": "white",
            "linecolor": "white",
            "ticks": ""
           }
          },
          "scene": {
           "xaxis": {
            "backgroundcolor": "#E5ECF6",
            "gridcolor": "white",
            "gridwidth": 2,
            "linecolor": "white",
            "showbackground": true,
            "ticks": "",
            "zerolinecolor": "white"
           },
           "yaxis": {
            "backgroundcolor": "#E5ECF6",
            "gridcolor": "white",
            "gridwidth": 2,
            "linecolor": "white",
            "showbackground": true,
            "ticks": "",
            "zerolinecolor": "white"
           },
           "zaxis": {
            "backgroundcolor": "#E5ECF6",
            "gridcolor": "white",
            "gridwidth": 2,
            "linecolor": "white",
            "showbackground": true,
            "ticks": "",
            "zerolinecolor": "white"
           }
          },
          "shapedefaults": {
           "line": {
            "color": "#2a3f5f"
           }
          },
          "ternary": {
           "aaxis": {
            "gridcolor": "white",
            "linecolor": "white",
            "ticks": ""
           },
           "baxis": {
            "gridcolor": "white",
            "linecolor": "white",
            "ticks": ""
           },
           "bgcolor": "#E5ECF6",
           "caxis": {
            "gridcolor": "white",
            "linecolor": "white",
            "ticks": ""
           }
          },
          "title": {
           "x": 0.05
          },
          "xaxis": {
           "automargin": true,
           "gridcolor": "white",
           "linecolor": "white",
           "ticks": "",
           "title": {
            "standoff": 15
           },
           "zerolinecolor": "white",
           "zerolinewidth": 2
          },
          "yaxis": {
           "automargin": true,
           "gridcolor": "white",
           "linecolor": "white",
           "ticks": "",
           "title": {
            "standoff": 15
           },
           "zerolinecolor": "white",
           "zerolinewidth": 2
          }
         }
        },
        "title": {
         "text": "Hist and Curve Plot"
        },
        "xaxis": {
         "anchor": "y2",
         "domain": [
          0,
          1
         ],
         "zeroline": false
        },
        "yaxis": {
         "anchor": "free",
         "domain": [
          0,
          1
         ],
         "position": 0
        }
       }
      }
     },
     "metadata": {},
     "output_type": "display_data"
    }
   ],
   "source": [
    "import plotly.figure_factory as ff\n",
    "import numpy as np\n",
    "\n",
    "x1 = np.random.randn(200) - 2\n",
    "x2 = np.random.randn(200)\n",
    "x3 = np.random.randn(200) + 2\n",
    "\n",
    "hist_data = [x1, x2, x3]\n",
    "\n",
    "group_labels = ['Group 1', 'Group 2', 'Group 3']\n",
    "colors = ['#A56CC1', '#A6ACEC', '#63F5EF']\n",
    "\n",
    "# Create distplot with curve_type set to 'normal'\n",
    "fig = ff.create_distplot(hist_data, group_labels, colors=colors,\n",
    "                         bin_size=.2, show_rug=False)\n",
    "\n",
    "# Add title\n",
    "fig.update_layout(title_text='Hist and Curve Plot')\n",
    "fig.show()"
   ]
  },
  {
   "cell_type": "code",
   "execution_count": 14,
   "metadata": {},
   "outputs": [
    {
     "data": {
      "application/vnd.plotly.v1+json": {
       "config": {
        "plotlyServerURL": "https://plot.ly"
       },
       "data": [
        {
         "alignmentgroup": "True",
         "bingroup": "x",
         "hovertemplate": "gender_name=Female<br>age=%{x}<br>count=%{y}<extra></extra>",
         "legendgroup": "Female",
         "marker": {
          "color": "#F78FE4",
          "pattern": {
           "shape": ""
          }
         },
         "name": "Female",
         "offsetgroup": "Female",
         "orientation": "v",
         "showlegend": true,
         "type": "histogram",
         "x": [
          21,
          24,
          25,
          23,
          21,
          23,
          22,
          25,
          26,
          26,
          21,
          27,
          21,
          27,
          25,
          23,
          22,
          26,
          22,
          23,
          24,
          27,
          30,
          21,
          25,
          26,
          27,
          23,
          24,
          23,
          22,
          null,
          null,
          29,
          28,
          26,
          24,
          27,
          23,
          34,
          22,
          23,
          26,
          27,
          28,
          25,
          35,
          32,
          30,
          22,
          23,
          23,
          27,
          23,
          25,
          29,
          29,
          20,
          21,
          20,
          21,
          21,
          21,
          19,
          20,
          21,
          27,
          24,
          23,
          26,
          null,
          24,
          33,
          23,
          24,
          36,
          26,
          27,
          28,
          31,
          28,
          27,
          28,
          27,
          27,
          30,
          28,
          29,
          23,
          28,
          22,
          35,
          30,
          24,
          22,
          22,
          24,
          24,
          27,
          25,
          24,
          23,
          30,
          25,
          25,
          22,
          22,
          26,
          23,
          31,
          23,
          25,
          28,
          29,
          28,
          27,
          25,
          22,
          23,
          24,
          34,
          27,
          34,
          26,
          29,
          26,
          28,
          33,
          22,
          26,
          24,
          24,
          25,
          25,
          27,
          26,
          29,
          26,
          26,
          32,
          28,
          26,
          24,
          24,
          23,
          23,
          25,
          30,
          30,
          28,
          21,
          22,
          24,
          35,
          34,
          21,
          33,
          28,
          29,
          22,
          27,
          34,
          25,
          23,
          30,
          36,
          29,
          30,
          29,
          22,
          34,
          23,
          33,
          32,
          26,
          24,
          null,
          26,
          21,
          33,
          31,
          35,
          29,
          25,
          22,
          24,
          27,
          27,
          26,
          26,
          24,
          38,
          33,
          24,
          28,
          27,
          23,
          25,
          26,
          25,
          24,
          21,
          30,
          28,
          26,
          22,
          24,
          33,
          25,
          25,
          29,
          25,
          28,
          22,
          25,
          22,
          27,
          28,
          30,
          27,
          22,
          23,
          23,
          23,
          29,
          27,
          24,
          29,
          55,
          29,
          26,
          24,
          24,
          25,
          25,
          29,
          30,
          25,
          34,
          30,
          27,
          25,
          27,
          26,
          27,
          26,
          23,
          24,
          25,
          26,
          25,
          26,
          28,
          26,
          23,
          null,
          23,
          23,
          23,
          27,
          30,
          23,
          26,
          28,
          26,
          22,
          27,
          25,
          24,
          26,
          24,
          29,
          22,
          22
         ],
         "xaxis": "x",
         "yaxis": "y"
        },
        {
         "alignmentgroup": "True",
         "bingroup": "x",
         "hovertemplate": "gender_name=Male<br>age=%{x}<br>count=%{y}<extra></extra>",
         "legendgroup": "Male",
         "marker": {
          "color": "#1179f0",
          "pattern": {
           "shape": ""
          }
         },
         "name": "Male",
         "offsetgroup": "Male",
         "orientation": "v",
         "showlegend": true,
         "type": "histogram",
         "x": [
          27,
          22,
          22,
          23,
          24,
          25,
          30,
          27,
          28,
          24,
          25,
          30,
          23,
          24,
          24,
          28,
          26,
          30,
          22,
          25,
          27,
          23,
          21,
          28,
          28,
          23,
          29,
          22,
          27,
          28,
          26,
          21,
          22,
          22,
          25,
          24,
          28,
          26,
          26,
          29,
          39,
          28,
          30,
          22,
          32,
          26,
          27,
          25,
          22,
          21,
          24,
          25,
          28,
          27,
          22,
          18,
          22,
          21,
          22,
          22,
          21,
          null,
          20,
          19,
          26,
          32,
          37,
          29,
          28,
          23,
          28,
          29,
          22,
          27,
          26,
          27,
          30,
          26,
          23,
          23,
          28,
          28,
          29,
          27,
          22,
          34,
          25,
          24,
          26,
          21,
          27,
          25,
          28,
          24,
          25,
          23,
          26,
          27,
          26,
          24,
          26,
          25,
          27,
          27,
          28,
          32,
          28,
          23,
          26,
          24,
          28,
          42,
          30,
          31,
          29,
          27,
          28,
          32,
          25,
          25,
          27,
          33,
          25,
          33,
          29,
          24,
          21,
          26,
          25,
          32,
          25,
          25,
          27,
          23,
          27,
          27,
          24,
          22,
          22,
          27,
          28,
          34,
          27,
          28,
          28,
          27,
          32,
          25,
          29,
          23,
          27,
          32,
          27,
          25,
          30,
          29,
          26,
          36,
          29,
          30,
          23,
          29,
          24,
          25,
          28,
          27,
          null,
          null,
          34,
          30,
          23,
          27,
          30,
          27,
          27,
          24,
          25,
          28,
          27,
          27,
          29,
          30,
          27,
          25,
          26,
          29,
          24,
          29,
          29,
          26,
          31,
          29,
          22,
          23,
          30,
          27,
          24,
          24,
          23,
          27,
          34,
          27,
          26,
          29,
          31,
          26,
          30,
          24,
          28,
          24,
          28,
          27,
          27,
          21,
          24,
          25,
          27,
          26,
          30,
          28,
          26,
          22,
          23,
          25,
          30,
          29,
          27,
          33,
          27,
          33,
          23,
          33,
          23,
          23,
          30,
          28,
          31,
          29,
          32,
          24,
          29,
          28,
          29,
          29,
          30,
          20,
          30,
          32,
          26,
          25,
          23,
          27,
          24,
          24,
          36,
          25,
          26,
          26,
          24,
          23,
          29,
          22,
          32,
          22,
          24,
          23,
          23,
          24,
          23,
          24,
          30,
          30,
          30,
          28,
          30,
          27,
          25
         ],
         "xaxis": "x",
         "yaxis": "y"
        }
       ],
       "layout": {
        "barmode": "group",
        "legend": {
         "title": {
          "text": "gender_name"
         },
         "tracegroupgap": 0
        },
        "margin": {
         "t": 60
        },
        "template": {
         "data": {
          "bar": [
           {
            "error_x": {
             "color": "#2a3f5f"
            },
            "error_y": {
             "color": "#2a3f5f"
            },
            "marker": {
             "line": {
              "color": "#E5ECF6",
              "width": 0.5
             },
             "pattern": {
              "fillmode": "overlay",
              "size": 10,
              "solidity": 0.2
             }
            },
            "type": "bar"
           }
          ],
          "barpolar": [
           {
            "marker": {
             "line": {
              "color": "#E5ECF6",
              "width": 0.5
             },
             "pattern": {
              "fillmode": "overlay",
              "size": 10,
              "solidity": 0.2
             }
            },
            "type": "barpolar"
           }
          ],
          "carpet": [
           {
            "aaxis": {
             "endlinecolor": "#2a3f5f",
             "gridcolor": "white",
             "linecolor": "white",
             "minorgridcolor": "white",
             "startlinecolor": "#2a3f5f"
            },
            "baxis": {
             "endlinecolor": "#2a3f5f",
             "gridcolor": "white",
             "linecolor": "white",
             "minorgridcolor": "white",
             "startlinecolor": "#2a3f5f"
            },
            "type": "carpet"
           }
          ],
          "choropleth": [
           {
            "colorbar": {
             "outlinewidth": 0,
             "ticks": ""
            },
            "type": "choropleth"
           }
          ],
          "contour": [
           {
            "colorbar": {
             "outlinewidth": 0,
             "ticks": ""
            },
            "colorscale": [
             [
              0,
              "#0d0887"
             ],
             [
              0.1111111111111111,
              "#46039f"
             ],
             [
              0.2222222222222222,
              "#7201a8"
             ],
             [
              0.3333333333333333,
              "#9c179e"
             ],
             [
              0.4444444444444444,
              "#bd3786"
             ],
             [
              0.5555555555555556,
              "#d8576b"
             ],
             [
              0.6666666666666666,
              "#ed7953"
             ],
             [
              0.7777777777777778,
              "#fb9f3a"
             ],
             [
              0.8888888888888888,
              "#fdca26"
             ],
             [
              1,
              "#f0f921"
             ]
            ],
            "type": "contour"
           }
          ],
          "contourcarpet": [
           {
            "colorbar": {
             "outlinewidth": 0,
             "ticks": ""
            },
            "type": "contourcarpet"
           }
          ],
          "heatmap": [
           {
            "colorbar": {
             "outlinewidth": 0,
             "ticks": ""
            },
            "colorscale": [
             [
              0,
              "#0d0887"
             ],
             [
              0.1111111111111111,
              "#46039f"
             ],
             [
              0.2222222222222222,
              "#7201a8"
             ],
             [
              0.3333333333333333,
              "#9c179e"
             ],
             [
              0.4444444444444444,
              "#bd3786"
             ],
             [
              0.5555555555555556,
              "#d8576b"
             ],
             [
              0.6666666666666666,
              "#ed7953"
             ],
             [
              0.7777777777777778,
              "#fb9f3a"
             ],
             [
              0.8888888888888888,
              "#fdca26"
             ],
             [
              1,
              "#f0f921"
             ]
            ],
            "type": "heatmap"
           }
          ],
          "heatmapgl": [
           {
            "colorbar": {
             "outlinewidth": 0,
             "ticks": ""
            },
            "colorscale": [
             [
              0,
              "#0d0887"
             ],
             [
              0.1111111111111111,
              "#46039f"
             ],
             [
              0.2222222222222222,
              "#7201a8"
             ],
             [
              0.3333333333333333,
              "#9c179e"
             ],
             [
              0.4444444444444444,
              "#bd3786"
             ],
             [
              0.5555555555555556,
              "#d8576b"
             ],
             [
              0.6666666666666666,
              "#ed7953"
             ],
             [
              0.7777777777777778,
              "#fb9f3a"
             ],
             [
              0.8888888888888888,
              "#fdca26"
             ],
             [
              1,
              "#f0f921"
             ]
            ],
            "type": "heatmapgl"
           }
          ],
          "histogram": [
           {
            "marker": {
             "pattern": {
              "fillmode": "overlay",
              "size": 10,
              "solidity": 0.2
             }
            },
            "type": "histogram"
           }
          ],
          "histogram2d": [
           {
            "colorbar": {
             "outlinewidth": 0,
             "ticks": ""
            },
            "colorscale": [
             [
              0,
              "#0d0887"
             ],
             [
              0.1111111111111111,
              "#46039f"
             ],
             [
              0.2222222222222222,
              "#7201a8"
             ],
             [
              0.3333333333333333,
              "#9c179e"
             ],
             [
              0.4444444444444444,
              "#bd3786"
             ],
             [
              0.5555555555555556,
              "#d8576b"
             ],
             [
              0.6666666666666666,
              "#ed7953"
             ],
             [
              0.7777777777777778,
              "#fb9f3a"
             ],
             [
              0.8888888888888888,
              "#fdca26"
             ],
             [
              1,
              "#f0f921"
             ]
            ],
            "type": "histogram2d"
           }
          ],
          "histogram2dcontour": [
           {
            "colorbar": {
             "outlinewidth": 0,
             "ticks": ""
            },
            "colorscale": [
             [
              0,
              "#0d0887"
             ],
             [
              0.1111111111111111,
              "#46039f"
             ],
             [
              0.2222222222222222,
              "#7201a8"
             ],
             [
              0.3333333333333333,
              "#9c179e"
             ],
             [
              0.4444444444444444,
              "#bd3786"
             ],
             [
              0.5555555555555556,
              "#d8576b"
             ],
             [
              0.6666666666666666,
              "#ed7953"
             ],
             [
              0.7777777777777778,
              "#fb9f3a"
             ],
             [
              0.8888888888888888,
              "#fdca26"
             ],
             [
              1,
              "#f0f921"
             ]
            ],
            "type": "histogram2dcontour"
           }
          ],
          "mesh3d": [
           {
            "colorbar": {
             "outlinewidth": 0,
             "ticks": ""
            },
            "type": "mesh3d"
           }
          ],
          "parcoords": [
           {
            "line": {
             "colorbar": {
              "outlinewidth": 0,
              "ticks": ""
             }
            },
            "type": "parcoords"
           }
          ],
          "pie": [
           {
            "automargin": true,
            "type": "pie"
           }
          ],
          "scatter": [
           {
            "fillpattern": {
             "fillmode": "overlay",
             "size": 10,
             "solidity": 0.2
            },
            "type": "scatter"
           }
          ],
          "scatter3d": [
           {
            "line": {
             "colorbar": {
              "outlinewidth": 0,
              "ticks": ""
             }
            },
            "marker": {
             "colorbar": {
              "outlinewidth": 0,
              "ticks": ""
             }
            },
            "type": "scatter3d"
           }
          ],
          "scattercarpet": [
           {
            "marker": {
             "colorbar": {
              "outlinewidth": 0,
              "ticks": ""
             }
            },
            "type": "scattercarpet"
           }
          ],
          "scattergeo": [
           {
            "marker": {
             "colorbar": {
              "outlinewidth": 0,
              "ticks": ""
             }
            },
            "type": "scattergeo"
           }
          ],
          "scattergl": [
           {
            "marker": {
             "colorbar": {
              "outlinewidth": 0,
              "ticks": ""
             }
            },
            "type": "scattergl"
           }
          ],
          "scattermapbox": [
           {
            "marker": {
             "colorbar": {
              "outlinewidth": 0,
              "ticks": ""
             }
            },
            "type": "scattermapbox"
           }
          ],
          "scatterpolar": [
           {
            "marker": {
             "colorbar": {
              "outlinewidth": 0,
              "ticks": ""
             }
            },
            "type": "scatterpolar"
           }
          ],
          "scatterpolargl": [
           {
            "marker": {
             "colorbar": {
              "outlinewidth": 0,
              "ticks": ""
             }
            },
            "type": "scatterpolargl"
           }
          ],
          "scatterternary": [
           {
            "marker": {
             "colorbar": {
              "outlinewidth": 0,
              "ticks": ""
             }
            },
            "type": "scatterternary"
           }
          ],
          "surface": [
           {
            "colorbar": {
             "outlinewidth": 0,
             "ticks": ""
            },
            "colorscale": [
             [
              0,
              "#0d0887"
             ],
             [
              0.1111111111111111,
              "#46039f"
             ],
             [
              0.2222222222222222,
              "#7201a8"
             ],
             [
              0.3333333333333333,
              "#9c179e"
             ],
             [
              0.4444444444444444,
              "#bd3786"
             ],
             [
              0.5555555555555556,
              "#d8576b"
             ],
             [
              0.6666666666666666,
              "#ed7953"
             ],
             [
              0.7777777777777778,
              "#fb9f3a"
             ],
             [
              0.8888888888888888,
              "#fdca26"
             ],
             [
              1,
              "#f0f921"
             ]
            ],
            "type": "surface"
           }
          ],
          "table": [
           {
            "cells": {
             "fill": {
              "color": "#EBF0F8"
             },
             "line": {
              "color": "white"
             }
            },
            "header": {
             "fill": {
              "color": "#C8D4E3"
             },
             "line": {
              "color": "white"
             }
            },
            "type": "table"
           }
          ]
         },
         "layout": {
          "annotationdefaults": {
           "arrowcolor": "#2a3f5f",
           "arrowhead": 0,
           "arrowwidth": 1
          },
          "autotypenumbers": "strict",
          "coloraxis": {
           "colorbar": {
            "outlinewidth": 0,
            "ticks": ""
           }
          },
          "colorscale": {
           "diverging": [
            [
             0,
             "#8e0152"
            ],
            [
             0.1,
             "#c51b7d"
            ],
            [
             0.2,
             "#de77ae"
            ],
            [
             0.3,
             "#f1b6da"
            ],
            [
             0.4,
             "#fde0ef"
            ],
            [
             0.5,
             "#f7f7f7"
            ],
            [
             0.6,
             "#e6f5d0"
            ],
            [
             0.7,
             "#b8e186"
            ],
            [
             0.8,
             "#7fbc41"
            ],
            [
             0.9,
             "#4d9221"
            ],
            [
             1,
             "#276419"
            ]
           ],
           "sequential": [
            [
             0,
             "#0d0887"
            ],
            [
             0.1111111111111111,
             "#46039f"
            ],
            [
             0.2222222222222222,
             "#7201a8"
            ],
            [
             0.3333333333333333,
             "#9c179e"
            ],
            [
             0.4444444444444444,
             "#bd3786"
            ],
            [
             0.5555555555555556,
             "#d8576b"
            ],
            [
             0.6666666666666666,
             "#ed7953"
            ],
            [
             0.7777777777777778,
             "#fb9f3a"
            ],
            [
             0.8888888888888888,
             "#fdca26"
            ],
            [
             1,
             "#f0f921"
            ]
           ],
           "sequentialminus": [
            [
             0,
             "#0d0887"
            ],
            [
             0.1111111111111111,
             "#46039f"
            ],
            [
             0.2222222222222222,
             "#7201a8"
            ],
            [
             0.3333333333333333,
             "#9c179e"
            ],
            [
             0.4444444444444444,
             "#bd3786"
            ],
            [
             0.5555555555555556,
             "#d8576b"
            ],
            [
             0.6666666666666666,
             "#ed7953"
            ],
            [
             0.7777777777777778,
             "#fb9f3a"
            ],
            [
             0.8888888888888888,
             "#fdca26"
            ],
            [
             1,
             "#f0f921"
            ]
           ]
          },
          "colorway": [
           "#636efa",
           "#EF553B",
           "#00cc96",
           "#ab63fa",
           "#FFA15A",
           "#19d3f3",
           "#FF6692",
           "#B6E880",
           "#FF97FF",
           "#FECB52"
          ],
          "font": {
           "color": "#2a3f5f"
          },
          "geo": {
           "bgcolor": "white",
           "lakecolor": "white",
           "landcolor": "#E5ECF6",
           "showlakes": true,
           "showland": true,
           "subunitcolor": "white"
          },
          "hoverlabel": {
           "align": "left"
          },
          "hovermode": "closest",
          "mapbox": {
           "style": "light"
          },
          "paper_bgcolor": "white",
          "plot_bgcolor": "#E5ECF6",
          "polar": {
           "angularaxis": {
            "gridcolor": "white",
            "linecolor": "white",
            "ticks": ""
           },
           "bgcolor": "#E5ECF6",
           "radialaxis": {
            "gridcolor": "white",
            "linecolor": "white",
            "ticks": ""
           }
          },
          "scene": {
           "xaxis": {
            "backgroundcolor": "#E5ECF6",
            "gridcolor": "white",
            "gridwidth": 2,
            "linecolor": "white",
            "showbackground": true,
            "ticks": "",
            "zerolinecolor": "white"
           },
           "yaxis": {
            "backgroundcolor": "#E5ECF6",
            "gridcolor": "white",
            "gridwidth": 2,
            "linecolor": "white",
            "showbackground": true,
            "ticks": "",
            "zerolinecolor": "white"
           },
           "zaxis": {
            "backgroundcolor": "#E5ECF6",
            "gridcolor": "white",
            "gridwidth": 2,
            "linecolor": "white",
            "showbackground": true,
            "ticks": "",
            "zerolinecolor": "white"
           }
          },
          "shapedefaults": {
           "line": {
            "color": "#2a3f5f"
           }
          },
          "ternary": {
           "aaxis": {
            "gridcolor": "white",
            "linecolor": "white",
            "ticks": ""
           },
           "baxis": {
            "gridcolor": "white",
            "linecolor": "white",
            "ticks": ""
           },
           "bgcolor": "#E5ECF6",
           "caxis": {
            "gridcolor": "white",
            "linecolor": "white",
            "ticks": ""
           }
          },
          "title": {
           "x": 0.05
          },
          "xaxis": {
           "automargin": true,
           "gridcolor": "white",
           "linecolor": "white",
           "ticks": "",
           "title": {
            "standoff": 15
           },
           "zerolinecolor": "white",
           "zerolinewidth": 2
          },
          "yaxis": {
           "automargin": true,
           "gridcolor": "white",
           "linecolor": "white",
           "ticks": "",
           "title": {
            "standoff": 15
           },
           "zerolinecolor": "white",
           "zerolinewidth": 2
          }
         }
        },
        "xaxis": {
         "anchor": "y",
         "domain": [
          0,
          1
         ],
         "title": {
          "text": "age"
         }
        },
        "yaxis": {
         "anchor": "x",
         "domain": [
          0,
          1
         ],
         "title": {
          "text": "count"
         }
        }
       }
      }
     },
     "metadata": {},
     "output_type": "display_data"
    }
   ],
   "source": [
    "\n",
    "fig = px.histogram(df_iid, x=\"age\",\n",
    "             color='gender_name', barmode='group', color_discrete_sequence=[\"#F78FE4\", \"#1179f0\"])\n",
    "fig.show()"
   ]
  },
  {
   "attachments": {},
   "cell_type": "markdown",
   "metadata": {},
   "source": [
    "Education field:"
   ]
  },
  {
   "cell_type": "code",
   "execution_count": 15,
   "metadata": {},
   "outputs": [
    {
     "data": {
      "text/plain": [
       "195"
      ]
     },
     "execution_count": 15,
     "metadata": {},
     "output_type": "execute_result"
    }
   ],
   "source": [
    "len(df.columns)"
   ]
  },
  {
   "cell_type": "code",
   "execution_count": null,
   "metadata": {},
   "outputs": [],
   "source": []
  },
  {
   "cell_type": "code",
   "execution_count": 16,
   "metadata": {},
   "outputs": [
    {
     "data": {
      "text/plain": [
       "188"
      ]
     },
     "execution_count": 16,
     "metadata": {},
     "output_type": "execute_result"
    }
   ],
   "source": [
    "len(df_iid.columns)"
   ]
  },
  {
   "attachments": {},
   "cell_type": "markdown",
   "metadata": {},
   "source": [
    "The initial dataset contained columns \"field\" and \"field_cd\". After groupby, only the numerical columns were left in the new dataframe, so I decided to recreate a column containing the name of the field of study."
   ]
  },
  {
   "cell_type": "code",
   "execution_count": 52,
   "metadata": {},
   "outputs": [],
   "source": [
    "df_iid['field_name'] = df_iid[\"field_cd\"].apply(lambda x: \"Law\" if x == 1 \n",
    "                                                    else \"Math\" if x == 2 \n",
    "                                                    else \"Social Science / Psychology\" if x == 3 \n",
    "                                                    else \"Medical Science / Pharma / Biotech\" if x == 4 \n",
    "                                                    else \"Engineering\" if x==5\n",
    "                                                    else \"English / Creative Writing / Journalism\" if x == 6 \n",
    "                                                    else \"History / Religion / Philosopy\" if x == 7 \n",
    "                                                    else \"Business / Economy / Finance\" if x == 8 \n",
    "                                                    else \"Education, Academia\" if x==9\n",
    "                                                    else \"Biology / Chemistry / Physics\" if x==10\n",
    "                                                    else \"Social Work\" if x == 11\n",
    "                                                    else \"Undergrad / Undecided\" if x == 12 \n",
    "                                                    else \"Political Science and International Affairs\" if x == 13 \n",
    "                                                    else \"Film\" if x==14\n",
    "                                                    else \"Fine Arts / Arts Administration\" if x == 15 \n",
    "                                                    else \"Languages\" if x == 16\n",
    "                                                    else \"Architecture\" if x==17 \n",
    "                                                    else \"Other\")"
   ]
  },
  {
   "cell_type": "code",
   "execution_count": 61,
   "metadata": {},
   "outputs": [
    {
     "data": {
      "application/vnd.plotly.v1+json": {
       "config": {
        "plotlyServerURL": "https://plot.ly"
       },
       "data": [
        {
         "alignmentgroup": "True",
         "bingroup": "y",
         "hovertemplate": "count=%{x}<br>field_name=%{y}<extra></extra>",
         "legendgroup": "",
         "marker": {
          "color": "#636efa",
          "opacity": 0.75,
          "pattern": {
           "shape": ""
          }
         },
         "name": "",
         "offsetgroup": "",
         "orientation": "h",
         "showlegend": false,
         "type": "histogram",
         "xaxis": "x",
         "y": [
          "Law",
          "Law",
          "Math",
          "Law",
          "Law",
          "Law",
          "Law",
          "Political Science and International Affairs",
          "Political Science and International Affairs",
          "Political Science and International Affairs",
          "Business / Economy / Finance",
          "Law",
          "Law",
          "Law",
          "Law",
          "Business / Economy / Finance",
          "Political Science and International Affairs",
          "Business / Economy / Finance",
          "Business / Economy / Finance",
          "Business / Economy / Finance",
          "Engineering",
          "Education, Academia",
          "Social Science / Psychology",
          "Social Work",
          "Social Work",
          "Social Work",
          "Social Science / Psychology",
          "Social Science / Psychology",
          "Social Work",
          "Law",
          "Law",
          "Social Science / Psychology",
          "Social Science / Psychology",
          "Business / Economy / Finance",
          "Math",
          "Math",
          "Social Science / Psychology",
          "Law",
          "Law",
          "Other",
          "Law",
          "Engineering",
          "Business / Economy / Finance",
          "Social Science / Psychology",
          "Business / Economy / Finance",
          "Business / Economy / Finance",
          "Business / Economy / Finance",
          "Undergrad / Undecided",
          "Business / Economy / Finance",
          "Law",
          "Law",
          "Law",
          "Medical Science / Pharma / Biotech",
          "Business / Economy / Finance",
          "Law",
          "Social Work",
          "Social Work",
          "Other",
          "Other",
          "Social Science / Psychology",
          "History / Religion / Philosopy",
          "Law",
          "Law",
          "Social Work",
          "Social Work",
          "Business / Economy / Finance",
          "Law",
          "English / Creative Writing / Journalism",
          "Business / Economy / Finance",
          "Business / Economy / Finance",
          "Law",
          "Engineering",
          "Business / Economy / Finance",
          "Engineering",
          "Law",
          "English / Creative Writing / Journalism",
          "Social Work",
          "Social Work",
          "Engineering",
          "Biology / Chemistry / Physics",
          "English / Creative Writing / Journalism",
          "Education, Academia",
          "Business / Economy / Finance",
          "Biology / Chemistry / Physics",
          "Social Work",
          "Social Science / Psychology",
          "Social Work",
          "Social Work",
          "Business / Economy / Finance",
          "Biology / Chemistry / Physics",
          "Law",
          "Education, Academia",
          "Engineering",
          "Business / Economy / Finance",
          "Business / Economy / Finance",
          "Engineering",
          "Biology / Chemistry / Physics",
          "Social Work",
          "Law",
          "Business / Economy / Finance",
          "Business / Economy / Finance",
          "Biology / Chemistry / Physics",
          "Business / Economy / Finance",
          "Biology / Chemistry / Physics",
          "Law",
          "Law",
          "History / Religion / Philosopy",
          "Engineering",
          "Film",
          "Film",
          "Business / Economy / Finance",
          "Social Science / Psychology",
          "Business / Economy / Finance",
          "Business / Economy / Finance",
          "Social Science / Psychology",
          "Political Science and International Affairs",
          "Business / Economy / Finance",
          "Languages",
          "English / Creative Writing / Journalism",
          "Social Science / Psychology",
          "Law",
          "Engineering",
          "Business / Economy / Finance",
          "Medical Science / Pharma / Biotech",
          "History / Religion / Philosopy",
          "Engineering",
          "Engineering",
          "Business / Economy / Finance",
          "Engineering",
          "Engineering",
          "Business / Economy / Finance",
          "Engineering",
          "Biology / Chemistry / Physics",
          "Social Science / Psychology",
          "Other",
          "Business / Economy / Finance",
          "Business / Economy / Finance",
          "Engineering",
          "Business / Economy / Finance",
          "Business / Economy / Finance",
          "Political Science and International Affairs",
          "Law",
          "Biology / Chemistry / Physics",
          "Biology / Chemistry / Physics",
          "English / Creative Writing / Journalism",
          "Business / Economy / Finance",
          "Business / Economy / Finance",
          "Political Science and International Affairs",
          "History / Religion / Philosopy",
          "Political Science and International Affairs",
          "Political Science and International Affairs",
          "History / Religion / Philosopy",
          "Business / Economy / Finance",
          "Business / Economy / Finance",
          "Business / Economy / Finance",
          "Business / Economy / Finance",
          "Biology / Chemistry / Physics",
          "Biology / Chemistry / Physics",
          "Business / Economy / Finance",
          "Biology / Chemistry / Physics",
          "Biology / Chemistry / Physics",
          "Education, Academia",
          "History / Religion / Philosopy",
          "Political Science and International Affairs",
          "Business / Economy / Finance",
          "Biology / Chemistry / Physics",
          "Biology / Chemistry / Physics",
          "Biology / Chemistry / Physics",
          "Biology / Chemistry / Physics",
          "Business / Economy / Finance",
          "Business / Economy / Finance",
          "Math",
          "Business / Economy / Finance",
          "Political Science and International Affairs",
          "Business / Economy / Finance",
          "Political Science and International Affairs",
          "Social Science / Psychology",
          "English / Creative Writing / Journalism",
          "Business / Economy / Finance",
          "Medical Science / Pharma / Biotech",
          "Medical Science / Pharma / Biotech",
          "Social Work",
          "Business / Economy / Finance",
          "Math",
          "Engineering",
          "Business / Economy / Finance",
          "Engineering",
          "Law",
          "Political Science and International Affairs",
          "Business / Economy / Finance",
          "Business / Economy / Finance",
          "Law",
          "Social Science / Psychology",
          "Biology / Chemistry / Physics",
          "History / Religion / Philosopy",
          "Political Science and International Affairs",
          "Political Science and International Affairs",
          "History / Religion / Philosopy",
          "Business / Economy / Finance",
          "Business / Economy / Finance",
          "Math",
          "Math",
          "Business / Economy / Finance",
          "Biology / Chemistry / Physics",
          "Business / Economy / Finance",
          "Biology / Chemistry / Physics",
          "Biology / Chemistry / Physics",
          "Political Science and International Affairs",
          "Biology / Chemistry / Physics",
          "Political Science and International Affairs",
          "Business / Economy / Finance",
          "Political Science and International Affairs",
          "Biology / Chemistry / Physics",
          "Business / Economy / Finance",
          "Business / Economy / Finance",
          "Biology / Chemistry / Physics",
          "Biology / Chemistry / Physics",
          "Business / Economy / Finance",
          "Political Science and International Affairs",
          "Business / Economy / Finance",
          "Math",
          "History / Religion / Philosopy",
          "Social Science / Psychology",
          "Business / Economy / Finance",
          "Business / Economy / Finance",
          "Business / Economy / Finance",
          "Biology / Chemistry / Physics",
          "Biology / Chemistry / Physics",
          "Political Science and International Affairs",
          "Political Science and International Affairs",
          "Political Science and International Affairs",
          "Political Science and International Affairs",
          "Social Science / Psychology",
          "Education, Academia",
          "Biology / Chemistry / Physics",
          "History / Religion / Philosopy",
          "Fine Arts / Arts Administration",
          "Biology / Chemistry / Physics",
          "Business / Economy / Finance",
          "Business / Economy / Finance",
          "Social Science / Psychology",
          "Languages",
          "Business / Economy / Finance",
          "History / Religion / Philosopy",
          "Biology / Chemistry / Physics",
          "Biology / Chemistry / Physics",
          "Business / Economy / Finance",
          "Business / Economy / Finance",
          "English / Creative Writing / Journalism",
          "History / Religion / Philosopy",
          "Political Science and International Affairs",
          "Social Science / Psychology",
          "History / Religion / Philosopy",
          "Biology / Chemistry / Physics",
          "Medical Science / Pharma / Biotech",
          "Education, Academia",
          "Education, Academia",
          "Biology / Chemistry / Physics",
          "Biology / Chemistry / Physics",
          "Biology / Chemistry / Physics",
          "Social Science / Psychology",
          "Social Science / Psychology",
          "English / Creative Writing / Journalism",
          "Law",
          "Languages",
          "Biology / Chemistry / Physics",
          "Medical Science / Pharma / Biotech",
          "History / Religion / Philosopy",
          "Biology / Chemistry / Physics",
          "Social Work",
          "Social Work",
          "Biology / Chemistry / Physics",
          "Social Science / Psychology",
          "Engineering",
          "Biology / Chemistry / Physics",
          "Biology / Chemistry / Physics",
          "Engineering",
          "Biology / Chemistry / Physics",
          "Biology / Chemistry / Physics",
          "Social Science / Psychology",
          "Engineering",
          "Engineering",
          "Business / Economy / Finance",
          "Engineering",
          "Math",
          "Political Science and International Affairs",
          "Social Science / Psychology",
          "Business / Economy / Finance",
          "Biology / Chemistry / Physics",
          "Biology / Chemistry / Physics",
          "Political Science and International Affairs",
          "Business / Economy / Finance",
          "Education, Academia",
          "Education, Academia",
          "Education, Academia",
          "Education, Academia",
          "English / Creative Writing / Journalism",
          "Social Work",
          "Social Science / Psychology",
          "Education, Academia",
          "Social Science / Psychology",
          "Education, Academia",
          "Social Science / Psychology",
          "Education, Academia",
          "Education, Academia",
          "Education, Academia",
          "Education, Academia",
          "Education, Academia",
          "Engineering",
          "Business / Economy / Finance",
          "Fine Arts / Arts Administration",
          "Business / Economy / Finance",
          "Political Science and International Affairs",
          "Engineering",
          "Business / Economy / Finance",
          "Business / Economy / Finance",
          "Business / Economy / Finance",
          "Education, Academia",
          "History / Religion / Philosopy",
          "Business / Economy / Finance",
          "Social Science / Psychology",
          "Engineering",
          "Social Science / Psychology",
          "Social Science / Psychology",
          "Education, Academia",
          "Political Science and International Affairs",
          "Education, Academia",
          "Education, Academia",
          "Engineering",
          "Education, Academia",
          "Social Science / Psychology",
          "Business / Economy / Finance",
          "Business / Economy / Finance",
          "Social Science / Psychology",
          "Architecture",
          "Engineering",
          "Engineering",
          "Other",
          "Other",
          "Political Science and International Affairs",
          "Education, Academia",
          "Biology / Chemistry / Physics",
          "Political Science and International Affairs",
          "Biology / Chemistry / Physics",
          "Other",
          "Education, Academia",
          "Education, Academia",
          "Social Science / Psychology",
          "Biology / Chemistry / Physics",
          "Education, Academia",
          "Education, Academia",
          "Education, Academia",
          "Social Science / Psychology",
          "Social Science / Psychology",
          "Social Science / Psychology",
          "Education, Academia",
          "Business / Economy / Finance",
          "English / Creative Writing / Journalism",
          "Social Science / Psychology",
          "Law",
          "Law",
          "Engineering",
          "Business / Economy / Finance",
          "Business / Economy / Finance",
          "Business / Economy / Finance",
          "Political Science and International Affairs",
          "Political Science and International Affairs",
          "Social Science / Psychology",
          "Business / Economy / Finance",
          "Business / Economy / Finance",
          "Business / Economy / Finance",
          "Business / Economy / Finance",
          "Business / Economy / Finance",
          "Business / Economy / Finance",
          "Business / Economy / Finance",
          "Business / Economy / Finance",
          "Business / Economy / Finance",
          "Business / Economy / Finance",
          "Film",
          "Film",
          "Film",
          "Education, Academia",
          "Education, Academia",
          "Education, Academia",
          "Social Science / Psychology",
          "Social Science / Psychology",
          "Social Science / Psychology",
          "Law",
          "Education, Academia",
          "English / Creative Writing / Journalism",
          "English / Creative Writing / Journalism",
          "English / Creative Writing / Journalism",
          "English / Creative Writing / Journalism",
          "English / Creative Writing / Journalism",
          "Fine Arts / Arts Administration",
          "Law",
          "Business / Economy / Finance",
          "Business / Economy / Finance",
          "Business / Economy / Finance",
          "Business / Economy / Finance",
          "Math",
          "Engineering",
          "Engineering",
          "Political Science and International Affairs",
          "Business / Economy / Finance",
          "Film",
          "Political Science and International Affairs",
          "Engineering",
          "Business / Economy / Finance",
          "Business / Economy / Finance",
          "Business / Economy / Finance",
          "Business / Economy / Finance",
          "Business / Economy / Finance",
          "Business / Economy / Finance",
          "Social Science / Psychology",
          "Social Science / Psychology",
          "Law",
          "Social Work",
          "Social Work",
          "Social Work",
          "Business / Economy / Finance",
          "Business / Economy / Finance",
          "Engineering",
          "Business / Economy / Finance",
          "Business / Economy / Finance",
          "Political Science and International Affairs",
          "Business / Economy / Finance",
          "Business / Economy / Finance",
          "Education, Academia",
          "Education, Academia",
          "Social Work",
          "Fine Arts / Arts Administration",
          "Social Work",
          "Law",
          "Law",
          "Social Work",
          "Social Work",
          "Education, Academia",
          "Law",
          "Law",
          "Law",
          "Political Science and International Affairs",
          "Business / Economy / Finance",
          "Political Science and International Affairs",
          "Business / Economy / Finance",
          "Political Science and International Affairs",
          "Law",
          "Law",
          "Political Science and International Affairs",
          "Business / Economy / Finance",
          "Business / Economy / Finance",
          "Law",
          "Fine Arts / Arts Administration",
          "Biology / Chemistry / Physics",
          "Business / Economy / Finance",
          "English / Creative Writing / Journalism",
          "Business / Economy / Finance",
          "Business / Economy / Finance",
          "History / Religion / Philosopy",
          "Engineering",
          "Engineering",
          "Biology / Chemistry / Physics",
          "Business / Economy / Finance",
          "History / Religion / Philosopy",
          "Other",
          "Business / Economy / Finance",
          "Political Science and International Affairs",
          "Political Science and International Affairs",
          "Medical Science / Pharma / Biotech",
          "Medical Science / Pharma / Biotech",
          "Engineering",
          "Biology / Chemistry / Physics",
          "Biology / Chemistry / Physics",
          "Political Science and International Affairs",
          "Political Science and International Affairs",
          "Engineering",
          "Political Science and International Affairs",
          "Political Science and International Affairs",
          "Engineering",
          "Education, Academia",
          "Business / Economy / Finance",
          "Social Science / Psychology",
          "Other",
          "Social Science / Psychology",
          "Biology / Chemistry / Physics",
          "English / Creative Writing / Journalism",
          "Business / Economy / Finance",
          "Business / Economy / Finance",
          "Film",
          "Business / Economy / Finance",
          "Biology / Chemistry / Physics",
          "Political Science and International Affairs",
          "English / Creative Writing / Journalism",
          "Fine Arts / Arts Administration",
          "Engineering",
          "Biology / Chemistry / Physics",
          "Biology / Chemistry / Physics",
          "Biology / Chemistry / Physics",
          "Biology / Chemistry / Physics",
          "Biology / Chemistry / Physics",
          "Engineering",
          "Biology / Chemistry / Physics",
          "Engineering",
          "English / Creative Writing / Journalism",
          "Math",
          "Math",
          "Math",
          "English / Creative Writing / Journalism",
          "Business / Economy / Finance",
          "Engineering",
          "Fine Arts / Arts Administration",
          "Fine Arts / Arts Administration",
          "Social Science / Psychology",
          "English / Creative Writing / Journalism",
          "Biology / Chemistry / Physics",
          "Fine Arts / Arts Administration",
          "Fine Arts / Arts Administration",
          "Education, Academia",
          "Social Work",
          "Social Work",
          "Law",
          "Education, Academia",
          "Medical Science / Pharma / Biotech",
          "Fine Arts / Arts Administration",
          "Social Work",
          "Social Work",
          "Social Work",
          "Engineering",
          "Engineering",
          "Engineering",
          "Engineering",
          "Engineering",
          "Engineering",
          "Biology / Chemistry / Physics",
          "Math",
          "Engineering",
          "Engineering",
          "Law",
          "Engineering",
          "Engineering",
          "Engineering",
          "Engineering",
          "Engineering",
          "Engineering",
          "Business / Economy / Finance",
          "Business / Economy / Finance",
          "Business / Economy / Finance",
          "Business / Economy / Finance",
          "Business / Economy / Finance",
          "Business / Economy / Finance",
          "Other"
         ],
         "yaxis": "y"
        }
       ],
       "layout": {
        "barmode": "relative",
        "legend": {
         "tracegroupgap": 0
        },
        "margin": {
         "t": 60
        },
        "template": {
         "data": {
          "bar": [
           {
            "error_x": {
             "color": "#2a3f5f"
            },
            "error_y": {
             "color": "#2a3f5f"
            },
            "marker": {
             "line": {
              "color": "#E5ECF6",
              "width": 0.5
             },
             "pattern": {
              "fillmode": "overlay",
              "size": 10,
              "solidity": 0.2
             }
            },
            "type": "bar"
           }
          ],
          "barpolar": [
           {
            "marker": {
             "line": {
              "color": "#E5ECF6",
              "width": 0.5
             },
             "pattern": {
              "fillmode": "overlay",
              "size": 10,
              "solidity": 0.2
             }
            },
            "type": "barpolar"
           }
          ],
          "carpet": [
           {
            "aaxis": {
             "endlinecolor": "#2a3f5f",
             "gridcolor": "white",
             "linecolor": "white",
             "minorgridcolor": "white",
             "startlinecolor": "#2a3f5f"
            },
            "baxis": {
             "endlinecolor": "#2a3f5f",
             "gridcolor": "white",
             "linecolor": "white",
             "minorgridcolor": "white",
             "startlinecolor": "#2a3f5f"
            },
            "type": "carpet"
           }
          ],
          "choropleth": [
           {
            "colorbar": {
             "outlinewidth": 0,
             "ticks": ""
            },
            "type": "choropleth"
           }
          ],
          "contour": [
           {
            "colorbar": {
             "outlinewidth": 0,
             "ticks": ""
            },
            "colorscale": [
             [
              0,
              "#0d0887"
             ],
             [
              0.1111111111111111,
              "#46039f"
             ],
             [
              0.2222222222222222,
              "#7201a8"
             ],
             [
              0.3333333333333333,
              "#9c179e"
             ],
             [
              0.4444444444444444,
              "#bd3786"
             ],
             [
              0.5555555555555556,
              "#d8576b"
             ],
             [
              0.6666666666666666,
              "#ed7953"
             ],
             [
              0.7777777777777778,
              "#fb9f3a"
             ],
             [
              0.8888888888888888,
              "#fdca26"
             ],
             [
              1,
              "#f0f921"
             ]
            ],
            "type": "contour"
           }
          ],
          "contourcarpet": [
           {
            "colorbar": {
             "outlinewidth": 0,
             "ticks": ""
            },
            "type": "contourcarpet"
           }
          ],
          "heatmap": [
           {
            "colorbar": {
             "outlinewidth": 0,
             "ticks": ""
            },
            "colorscale": [
             [
              0,
              "#0d0887"
             ],
             [
              0.1111111111111111,
              "#46039f"
             ],
             [
              0.2222222222222222,
              "#7201a8"
             ],
             [
              0.3333333333333333,
              "#9c179e"
             ],
             [
              0.4444444444444444,
              "#bd3786"
             ],
             [
              0.5555555555555556,
              "#d8576b"
             ],
             [
              0.6666666666666666,
              "#ed7953"
             ],
             [
              0.7777777777777778,
              "#fb9f3a"
             ],
             [
              0.8888888888888888,
              "#fdca26"
             ],
             [
              1,
              "#f0f921"
             ]
            ],
            "type": "heatmap"
           }
          ],
          "heatmapgl": [
           {
            "colorbar": {
             "outlinewidth": 0,
             "ticks": ""
            },
            "colorscale": [
             [
              0,
              "#0d0887"
             ],
             [
              0.1111111111111111,
              "#46039f"
             ],
             [
              0.2222222222222222,
              "#7201a8"
             ],
             [
              0.3333333333333333,
              "#9c179e"
             ],
             [
              0.4444444444444444,
              "#bd3786"
             ],
             [
              0.5555555555555556,
              "#d8576b"
             ],
             [
              0.6666666666666666,
              "#ed7953"
             ],
             [
              0.7777777777777778,
              "#fb9f3a"
             ],
             [
              0.8888888888888888,
              "#fdca26"
             ],
             [
              1,
              "#f0f921"
             ]
            ],
            "type": "heatmapgl"
           }
          ],
          "histogram": [
           {
            "marker": {
             "pattern": {
              "fillmode": "overlay",
              "size": 10,
              "solidity": 0.2
             }
            },
            "type": "histogram"
           }
          ],
          "histogram2d": [
           {
            "colorbar": {
             "outlinewidth": 0,
             "ticks": ""
            },
            "colorscale": [
             [
              0,
              "#0d0887"
             ],
             [
              0.1111111111111111,
              "#46039f"
             ],
             [
              0.2222222222222222,
              "#7201a8"
             ],
             [
              0.3333333333333333,
              "#9c179e"
             ],
             [
              0.4444444444444444,
              "#bd3786"
             ],
             [
              0.5555555555555556,
              "#d8576b"
             ],
             [
              0.6666666666666666,
              "#ed7953"
             ],
             [
              0.7777777777777778,
              "#fb9f3a"
             ],
             [
              0.8888888888888888,
              "#fdca26"
             ],
             [
              1,
              "#f0f921"
             ]
            ],
            "type": "histogram2d"
           }
          ],
          "histogram2dcontour": [
           {
            "colorbar": {
             "outlinewidth": 0,
             "ticks": ""
            },
            "colorscale": [
             [
              0,
              "#0d0887"
             ],
             [
              0.1111111111111111,
              "#46039f"
             ],
             [
              0.2222222222222222,
              "#7201a8"
             ],
             [
              0.3333333333333333,
              "#9c179e"
             ],
             [
              0.4444444444444444,
              "#bd3786"
             ],
             [
              0.5555555555555556,
              "#d8576b"
             ],
             [
              0.6666666666666666,
              "#ed7953"
             ],
             [
              0.7777777777777778,
              "#fb9f3a"
             ],
             [
              0.8888888888888888,
              "#fdca26"
             ],
             [
              1,
              "#f0f921"
             ]
            ],
            "type": "histogram2dcontour"
           }
          ],
          "mesh3d": [
           {
            "colorbar": {
             "outlinewidth": 0,
             "ticks": ""
            },
            "type": "mesh3d"
           }
          ],
          "parcoords": [
           {
            "line": {
             "colorbar": {
              "outlinewidth": 0,
              "ticks": ""
             }
            },
            "type": "parcoords"
           }
          ],
          "pie": [
           {
            "automargin": true,
            "type": "pie"
           }
          ],
          "scatter": [
           {
            "fillpattern": {
             "fillmode": "overlay",
             "size": 10,
             "solidity": 0.2
            },
            "type": "scatter"
           }
          ],
          "scatter3d": [
           {
            "line": {
             "colorbar": {
              "outlinewidth": 0,
              "ticks": ""
             }
            },
            "marker": {
             "colorbar": {
              "outlinewidth": 0,
              "ticks": ""
             }
            },
            "type": "scatter3d"
           }
          ],
          "scattercarpet": [
           {
            "marker": {
             "colorbar": {
              "outlinewidth": 0,
              "ticks": ""
             }
            },
            "type": "scattercarpet"
           }
          ],
          "scattergeo": [
           {
            "marker": {
             "colorbar": {
              "outlinewidth": 0,
              "ticks": ""
             }
            },
            "type": "scattergeo"
           }
          ],
          "scattergl": [
           {
            "marker": {
             "colorbar": {
              "outlinewidth": 0,
              "ticks": ""
             }
            },
            "type": "scattergl"
           }
          ],
          "scattermapbox": [
           {
            "marker": {
             "colorbar": {
              "outlinewidth": 0,
              "ticks": ""
             }
            },
            "type": "scattermapbox"
           }
          ],
          "scatterpolar": [
           {
            "marker": {
             "colorbar": {
              "outlinewidth": 0,
              "ticks": ""
             }
            },
            "type": "scatterpolar"
           }
          ],
          "scatterpolargl": [
           {
            "marker": {
             "colorbar": {
              "outlinewidth": 0,
              "ticks": ""
             }
            },
            "type": "scatterpolargl"
           }
          ],
          "scatterternary": [
           {
            "marker": {
             "colorbar": {
              "outlinewidth": 0,
              "ticks": ""
             }
            },
            "type": "scatterternary"
           }
          ],
          "surface": [
           {
            "colorbar": {
             "outlinewidth": 0,
             "ticks": ""
            },
            "colorscale": [
             [
              0,
              "#0d0887"
             ],
             [
              0.1111111111111111,
              "#46039f"
             ],
             [
              0.2222222222222222,
              "#7201a8"
             ],
             [
              0.3333333333333333,
              "#9c179e"
             ],
             [
              0.4444444444444444,
              "#bd3786"
             ],
             [
              0.5555555555555556,
              "#d8576b"
             ],
             [
              0.6666666666666666,
              "#ed7953"
             ],
             [
              0.7777777777777778,
              "#fb9f3a"
             ],
             [
              0.8888888888888888,
              "#fdca26"
             ],
             [
              1,
              "#f0f921"
             ]
            ],
            "type": "surface"
           }
          ],
          "table": [
           {
            "cells": {
             "fill": {
              "color": "#EBF0F8"
             },
             "line": {
              "color": "white"
             }
            },
            "header": {
             "fill": {
              "color": "#C8D4E3"
             },
             "line": {
              "color": "white"
             }
            },
            "type": "table"
           }
          ]
         },
         "layout": {
          "annotationdefaults": {
           "arrowcolor": "#2a3f5f",
           "arrowhead": 0,
           "arrowwidth": 1
          },
          "autotypenumbers": "strict",
          "coloraxis": {
           "colorbar": {
            "outlinewidth": 0,
            "ticks": ""
           }
          },
          "colorscale": {
           "diverging": [
            [
             0,
             "#8e0152"
            ],
            [
             0.1,
             "#c51b7d"
            ],
            [
             0.2,
             "#de77ae"
            ],
            [
             0.3,
             "#f1b6da"
            ],
            [
             0.4,
             "#fde0ef"
            ],
            [
             0.5,
             "#f7f7f7"
            ],
            [
             0.6,
             "#e6f5d0"
            ],
            [
             0.7,
             "#b8e186"
            ],
            [
             0.8,
             "#7fbc41"
            ],
            [
             0.9,
             "#4d9221"
            ],
            [
             1,
             "#276419"
            ]
           ],
           "sequential": [
            [
             0,
             "#0d0887"
            ],
            [
             0.1111111111111111,
             "#46039f"
            ],
            [
             0.2222222222222222,
             "#7201a8"
            ],
            [
             0.3333333333333333,
             "#9c179e"
            ],
            [
             0.4444444444444444,
             "#bd3786"
            ],
            [
             0.5555555555555556,
             "#d8576b"
            ],
            [
             0.6666666666666666,
             "#ed7953"
            ],
            [
             0.7777777777777778,
             "#fb9f3a"
            ],
            [
             0.8888888888888888,
             "#fdca26"
            ],
            [
             1,
             "#f0f921"
            ]
           ],
           "sequentialminus": [
            [
             0,
             "#0d0887"
            ],
            [
             0.1111111111111111,
             "#46039f"
            ],
            [
             0.2222222222222222,
             "#7201a8"
            ],
            [
             0.3333333333333333,
             "#9c179e"
            ],
            [
             0.4444444444444444,
             "#bd3786"
            ],
            [
             0.5555555555555556,
             "#d8576b"
            ],
            [
             0.6666666666666666,
             "#ed7953"
            ],
            [
             0.7777777777777778,
             "#fb9f3a"
            ],
            [
             0.8888888888888888,
             "#fdca26"
            ],
            [
             1,
             "#f0f921"
            ]
           ]
          },
          "colorway": [
           "#636efa",
           "#EF553B",
           "#00cc96",
           "#ab63fa",
           "#FFA15A",
           "#19d3f3",
           "#FF6692",
           "#B6E880",
           "#FF97FF",
           "#FECB52"
          ],
          "font": {
           "color": "#2a3f5f"
          },
          "geo": {
           "bgcolor": "white",
           "lakecolor": "white",
           "landcolor": "#E5ECF6",
           "showlakes": true,
           "showland": true,
           "subunitcolor": "white"
          },
          "hoverlabel": {
           "align": "left"
          },
          "hovermode": "closest",
          "mapbox": {
           "style": "light"
          },
          "paper_bgcolor": "white",
          "plot_bgcolor": "#E5ECF6",
          "polar": {
           "angularaxis": {
            "gridcolor": "white",
            "linecolor": "white",
            "ticks": ""
           },
           "bgcolor": "#E5ECF6",
           "radialaxis": {
            "gridcolor": "white",
            "linecolor": "white",
            "ticks": ""
           }
          },
          "scene": {
           "xaxis": {
            "backgroundcolor": "#E5ECF6",
            "gridcolor": "white",
            "gridwidth": 2,
            "linecolor": "white",
            "showbackground": true,
            "ticks": "",
            "zerolinecolor": "white"
           },
           "yaxis": {
            "backgroundcolor": "#E5ECF6",
            "gridcolor": "white",
            "gridwidth": 2,
            "linecolor": "white",
            "showbackground": true,
            "ticks": "",
            "zerolinecolor": "white"
           },
           "zaxis": {
            "backgroundcolor": "#E5ECF6",
            "gridcolor": "white",
            "gridwidth": 2,
            "linecolor": "white",
            "showbackground": true,
            "ticks": "",
            "zerolinecolor": "white"
           }
          },
          "shapedefaults": {
           "line": {
            "color": "#2a3f5f"
           }
          },
          "ternary": {
           "aaxis": {
            "gridcolor": "white",
            "linecolor": "white",
            "ticks": ""
           },
           "baxis": {
            "gridcolor": "white",
            "linecolor": "white",
            "ticks": ""
           },
           "bgcolor": "#E5ECF6",
           "caxis": {
            "gridcolor": "white",
            "linecolor": "white",
            "ticks": ""
           }
          },
          "title": {
           "x": 0.05
          },
          "xaxis": {
           "automargin": true,
           "gridcolor": "white",
           "linecolor": "white",
           "ticks": "",
           "title": {
            "standoff": 15
           },
           "zerolinecolor": "white",
           "zerolinewidth": 2
          },
          "yaxis": {
           "automargin": true,
           "gridcolor": "white",
           "linecolor": "white",
           "ticks": "",
           "title": {
            "standoff": 15
           },
           "zerolinecolor": "white",
           "zerolinewidth": 2
          }
         }
        },
        "xaxis": {
         "anchor": "y",
         "domain": [
          0,
          1
         ],
         "title": {
          "text": "count"
         }
        },
        "yaxis": {
         "anchor": "x",
         "domain": [
          0,
          1
         ],
         "title": {
          "text": "field_name"
         }
        }
       }
      }
     },
     "metadata": {},
     "output_type": "display_data"
    }
   ],
   "source": [
    "import plotly.express as px\n",
    "fig = px.histogram(df_iid, y=\"field_name\", opacity = 0.75)\n",
    "fig.show()"
   ]
  },
  {
   "cell_type": "code",
   "execution_count": 60,
   "metadata": {},
   "outputs": [
    {
     "data": {
      "application/vnd.plotly.v1+json": {
       "config": {
        "plotlyServerURL": "https://plot.ly"
       },
       "data": [
        {
         "alignmentgroup": "True",
         "bingroup": "y",
         "hovertemplate": "count=%{x}<br>field_name=%{y}<extra></extra>",
         "legendgroup": "",
         "marker": {
          "color": "#636efa",
          "opacity": 0.75,
          "pattern": {
           "shape": ""
          }
         },
         "name": "",
         "offsetgroup": "",
         "orientation": "h",
         "showlegend": false,
         "type": "histogram",
         "xaxis": "x",
         "y": [
          "Law",
          "Law",
          "Math",
          "Law",
          "Law",
          "Law",
          "Law",
          "Political Science and International Affairs",
          "Political Science and International Affairs",
          "Political Science and International Affairs",
          "Business / Economy / Finance",
          "Law",
          "Law",
          "Law",
          "Law",
          "Business / Economy / Finance",
          "Political Science and International Affairs",
          "Business / Economy / Finance",
          "Business / Economy / Finance",
          "Business / Economy / Finance",
          "Engineering",
          "Education, Academia",
          "Social Science / Psychology",
          "Social Work",
          "Social Work",
          "Social Work",
          "Social Science / Psychology",
          "Social Science / Psychology",
          "Social Work",
          "Law",
          "Law",
          "Social Science / Psychology",
          "Social Science / Psychology",
          "Business / Economy / Finance",
          "Math",
          "Math",
          "Social Science / Psychology",
          "Law",
          "Law",
          "Other",
          "Law",
          "Engineering",
          "Business / Economy / Finance",
          "Social Science / Psychology",
          "Business / Economy / Finance",
          "Business / Economy / Finance",
          "Business / Economy / Finance",
          "Undergrad / Undecided",
          "Business / Economy / Finance",
          "Law",
          "Law",
          "Law",
          "Medical Science / Pharma / Biotech",
          "Business / Economy / Finance",
          "Law",
          "Social Work",
          "Social Work",
          "Other",
          "Other",
          "Social Science / Psychology",
          "History / Religion / Philosopy",
          "Law",
          "Law",
          "Social Work",
          "Social Work",
          "Business / Economy / Finance",
          "Law",
          "English / Creative Writing / Journalism",
          "Business / Economy / Finance",
          "Business / Economy / Finance",
          "Law",
          "Engineering",
          "Business / Economy / Finance",
          "Engineering",
          "Law",
          "English / Creative Writing / Journalism",
          "Social Work",
          "Social Work",
          "Engineering",
          "Biology / Chemistry / Physics",
          "English / Creative Writing / Journalism",
          "Education, Academia",
          "Business / Economy / Finance",
          "Biology / Chemistry / Physics",
          "Social Work",
          "Social Science / Psychology",
          "Social Work",
          "Social Work",
          "Business / Economy / Finance",
          "Biology / Chemistry / Physics",
          "Law",
          "Education, Academia",
          "Engineering",
          "Business / Economy / Finance",
          "Business / Economy / Finance",
          "Engineering",
          "Biology / Chemistry / Physics",
          "Social Work",
          "Law",
          "Business / Economy / Finance",
          "Business / Economy / Finance",
          "Biology / Chemistry / Physics",
          "Business / Economy / Finance",
          "Biology / Chemistry / Physics",
          "Law",
          "Law",
          "History / Religion / Philosopy",
          "Engineering",
          "Film",
          "Film",
          "Business / Economy / Finance",
          "Social Science / Psychology",
          "Business / Economy / Finance",
          "Business / Economy / Finance",
          "Social Science / Psychology",
          "Political Science and International Affairs",
          "Business / Economy / Finance",
          "Languages",
          "English / Creative Writing / Journalism",
          "Social Science / Psychology",
          "Law",
          "Engineering",
          "Business / Economy / Finance",
          "Medical Science / Pharma / Biotech",
          "History / Religion / Philosopy",
          "Engineering",
          "Engineering",
          "Business / Economy / Finance",
          "Engineering",
          "Engineering",
          "Business / Economy / Finance",
          "Engineering",
          "Biology / Chemistry / Physics",
          "Social Science / Psychology",
          "Other",
          "Business / Economy / Finance",
          "Business / Economy / Finance",
          "Engineering",
          "Business / Economy / Finance",
          "Business / Economy / Finance",
          "Political Science and International Affairs",
          "Law",
          "Biology / Chemistry / Physics",
          "Biology / Chemistry / Physics",
          "English / Creative Writing / Journalism",
          "Business / Economy / Finance",
          "Business / Economy / Finance",
          "Political Science and International Affairs",
          "History / Religion / Philosopy",
          "Political Science and International Affairs",
          "Political Science and International Affairs",
          "History / Religion / Philosopy",
          "Business / Economy / Finance",
          "Business / Economy / Finance",
          "Business / Economy / Finance",
          "Business / Economy / Finance",
          "Biology / Chemistry / Physics",
          "Biology / Chemistry / Physics",
          "Business / Economy / Finance",
          "Biology / Chemistry / Physics",
          "Biology / Chemistry / Physics",
          "Education, Academia",
          "History / Religion / Philosopy",
          "Political Science and International Affairs",
          "Business / Economy / Finance",
          "Biology / Chemistry / Physics",
          "Biology / Chemistry / Physics",
          "Biology / Chemistry / Physics",
          "Biology / Chemistry / Physics",
          "Business / Economy / Finance",
          "Business / Economy / Finance",
          "Math",
          "Business / Economy / Finance",
          "Political Science and International Affairs",
          "Business / Economy / Finance",
          "Political Science and International Affairs",
          "Social Science / Psychology",
          "English / Creative Writing / Journalism",
          "Business / Economy / Finance",
          "Medical Science / Pharma / Biotech",
          "Medical Science / Pharma / Biotech",
          "Social Work",
          "Business / Economy / Finance",
          "Math",
          "Engineering",
          "Business / Economy / Finance",
          "Engineering",
          "Law",
          "Political Science and International Affairs",
          "Business / Economy / Finance",
          "Business / Economy / Finance",
          "Law",
          "Social Science / Psychology",
          "Biology / Chemistry / Physics",
          "History / Religion / Philosopy",
          "Political Science and International Affairs",
          "Political Science and International Affairs",
          "History / Religion / Philosopy",
          "Business / Economy / Finance",
          "Business / Economy / Finance",
          "Math",
          "Math",
          "Business / Economy / Finance",
          "Biology / Chemistry / Physics",
          "Business / Economy / Finance",
          "Biology / Chemistry / Physics",
          "Biology / Chemistry / Physics",
          "Political Science and International Affairs",
          "Biology / Chemistry / Physics",
          "Political Science and International Affairs",
          "Business / Economy / Finance",
          "Political Science and International Affairs",
          "Biology / Chemistry / Physics",
          "Business / Economy / Finance",
          "Business / Economy / Finance",
          "Biology / Chemistry / Physics",
          "Biology / Chemistry / Physics",
          "Business / Economy / Finance",
          "Political Science and International Affairs",
          "Business / Economy / Finance",
          "Math",
          "History / Religion / Philosopy",
          "Social Science / Psychology",
          "Business / Economy / Finance",
          "Business / Economy / Finance",
          "Business / Economy / Finance",
          "Biology / Chemistry / Physics",
          "Biology / Chemistry / Physics",
          "Political Science and International Affairs",
          "Political Science and International Affairs",
          "Political Science and International Affairs",
          "Political Science and International Affairs",
          "Social Science / Psychology",
          "Education, Academia",
          "Biology / Chemistry / Physics",
          "History / Religion / Philosopy",
          "Fine Arts / Arts Administration",
          "Biology / Chemistry / Physics",
          "Business / Economy / Finance",
          "Business / Economy / Finance",
          "Social Science / Psychology",
          "Languages",
          "Business / Economy / Finance",
          "History / Religion / Philosopy",
          "Biology / Chemistry / Physics",
          "Biology / Chemistry / Physics",
          "Business / Economy / Finance",
          "Business / Economy / Finance",
          "English / Creative Writing / Journalism",
          "History / Religion / Philosopy",
          "Political Science and International Affairs",
          "Social Science / Psychology",
          "History / Religion / Philosopy",
          "Biology / Chemistry / Physics",
          "Medical Science / Pharma / Biotech",
          "Education, Academia",
          "Education, Academia",
          "Biology / Chemistry / Physics",
          "Biology / Chemistry / Physics",
          "Biology / Chemistry / Physics",
          "Social Science / Psychology",
          "Social Science / Psychology",
          "English / Creative Writing / Journalism",
          "Law",
          "Languages",
          "Biology / Chemistry / Physics",
          "Medical Science / Pharma / Biotech",
          "History / Religion / Philosopy",
          "Biology / Chemistry / Physics",
          "Social Work",
          "Social Work",
          "Biology / Chemistry / Physics",
          "Social Science / Psychology",
          "Engineering",
          "Biology / Chemistry / Physics",
          "Biology / Chemistry / Physics",
          "Engineering",
          "Biology / Chemistry / Physics",
          "Biology / Chemistry / Physics",
          "Social Science / Psychology",
          "Engineering",
          "Engineering",
          "Business / Economy / Finance",
          "Engineering",
          "Math",
          "Political Science and International Affairs",
          "Social Science / Psychology",
          "Business / Economy / Finance",
          "Biology / Chemistry / Physics",
          "Biology / Chemistry / Physics",
          "Political Science and International Affairs",
          "Business / Economy / Finance",
          "Education, Academia",
          "Education, Academia",
          "Education, Academia",
          "Education, Academia",
          "English / Creative Writing / Journalism",
          "Social Work",
          "Social Science / Psychology",
          "Education, Academia",
          "Social Science / Psychology",
          "Education, Academia",
          "Social Science / Psychology",
          "Education, Academia",
          "Education, Academia",
          "Education, Academia",
          "Education, Academia",
          "Education, Academia",
          "Engineering",
          "Business / Economy / Finance",
          "Fine Arts / Arts Administration",
          "Business / Economy / Finance",
          "Political Science and International Affairs",
          "Engineering",
          "Business / Economy / Finance",
          "Business / Economy / Finance",
          "Business / Economy / Finance",
          "Education, Academia",
          "History / Religion / Philosopy",
          "Business / Economy / Finance",
          "Social Science / Psychology",
          "Engineering",
          "Social Science / Psychology",
          "Social Science / Psychology",
          "Education, Academia",
          "Political Science and International Affairs",
          "Education, Academia",
          "Education, Academia",
          "Engineering",
          "Education, Academia",
          "Social Science / Psychology",
          "Business / Economy / Finance",
          "Business / Economy / Finance",
          "Social Science / Psychology",
          "Architecture",
          "Engineering",
          "Engineering",
          "Other",
          "Other",
          "Political Science and International Affairs",
          "Education, Academia",
          "Biology / Chemistry / Physics",
          "Political Science and International Affairs",
          "Biology / Chemistry / Physics",
          "Other",
          "Education, Academia",
          "Education, Academia",
          "Social Science / Psychology",
          "Biology / Chemistry / Physics",
          "Education, Academia",
          "Education, Academia",
          "Education, Academia",
          "Social Science / Psychology",
          "Social Science / Psychology",
          "Social Science / Psychology",
          "Education, Academia",
          "Business / Economy / Finance",
          "English / Creative Writing / Journalism",
          "Social Science / Psychology",
          "Law",
          "Law",
          "Engineering",
          "Business / Economy / Finance",
          "Business / Economy / Finance",
          "Business / Economy / Finance",
          "Political Science and International Affairs",
          "Political Science and International Affairs",
          "Social Science / Psychology",
          "Business / Economy / Finance",
          "Business / Economy / Finance",
          "Business / Economy / Finance",
          "Business / Economy / Finance",
          "Business / Economy / Finance",
          "Business / Economy / Finance",
          "Business / Economy / Finance",
          "Business / Economy / Finance",
          "Business / Economy / Finance",
          "Business / Economy / Finance",
          "Film",
          "Film",
          "Film",
          "Education, Academia",
          "Education, Academia",
          "Education, Academia",
          "Social Science / Psychology",
          "Social Science / Psychology",
          "Social Science / Psychology",
          "Law",
          "Education, Academia",
          "English / Creative Writing / Journalism",
          "English / Creative Writing / Journalism",
          "English / Creative Writing / Journalism",
          "English / Creative Writing / Journalism",
          "English / Creative Writing / Journalism",
          "Fine Arts / Arts Administration",
          "Law",
          "Business / Economy / Finance",
          "Business / Economy / Finance",
          "Business / Economy / Finance",
          "Business / Economy / Finance",
          "Math",
          "Engineering",
          "Engineering",
          "Political Science and International Affairs",
          "Business / Economy / Finance",
          "Film",
          "Political Science and International Affairs",
          "Engineering",
          "Business / Economy / Finance",
          "Business / Economy / Finance",
          "Business / Economy / Finance",
          "Business / Economy / Finance",
          "Business / Economy / Finance",
          "Business / Economy / Finance",
          "Social Science / Psychology",
          "Social Science / Psychology",
          "Law",
          "Social Work",
          "Social Work",
          "Social Work",
          "Business / Economy / Finance",
          "Business / Economy / Finance",
          "Engineering",
          "Business / Economy / Finance",
          "Business / Economy / Finance",
          "Political Science and International Affairs",
          "Business / Economy / Finance",
          "Business / Economy / Finance",
          "Education, Academia",
          "Education, Academia",
          "Social Work",
          "Fine Arts / Arts Administration",
          "Social Work",
          "Law",
          "Law",
          "Social Work",
          "Social Work",
          "Education, Academia",
          "Law",
          "Law",
          "Law",
          "Political Science and International Affairs",
          "Business / Economy / Finance",
          "Political Science and International Affairs",
          "Business / Economy / Finance",
          "Political Science and International Affairs",
          "Law",
          "Law",
          "Political Science and International Affairs",
          "Business / Economy / Finance",
          "Business / Economy / Finance",
          "Law",
          "Fine Arts / Arts Administration",
          "Biology / Chemistry / Physics",
          "Business / Economy / Finance",
          "English / Creative Writing / Journalism",
          "Business / Economy / Finance",
          "Business / Economy / Finance",
          "History / Religion / Philosopy",
          "Engineering",
          "Engineering",
          "Biology / Chemistry / Physics",
          "Business / Economy / Finance",
          "History / Religion / Philosopy",
          "Other",
          "Business / Economy / Finance",
          "Political Science and International Affairs",
          "Political Science and International Affairs",
          "Medical Science / Pharma / Biotech",
          "Medical Science / Pharma / Biotech",
          "Engineering",
          "Biology / Chemistry / Physics",
          "Biology / Chemistry / Physics",
          "Political Science and International Affairs",
          "Political Science and International Affairs",
          "Engineering",
          "Political Science and International Affairs",
          "Political Science and International Affairs",
          "Engineering",
          "Education, Academia",
          "Business / Economy / Finance",
          "Social Science / Psychology",
          "Other",
          "Social Science / Psychology",
          "Biology / Chemistry / Physics",
          "English / Creative Writing / Journalism",
          "Business / Economy / Finance",
          "Business / Economy / Finance",
          "Film",
          "Business / Economy / Finance",
          "Biology / Chemistry / Physics",
          "Political Science and International Affairs",
          "English / Creative Writing / Journalism",
          "Fine Arts / Arts Administration",
          "Engineering",
          "Biology / Chemistry / Physics",
          "Biology / Chemistry / Physics",
          "Biology / Chemistry / Physics",
          "Biology / Chemistry / Physics",
          "Biology / Chemistry / Physics",
          "Engineering",
          "Biology / Chemistry / Physics",
          "Engineering",
          "English / Creative Writing / Journalism",
          "Math",
          "Math",
          "Math",
          "English / Creative Writing / Journalism",
          "Business / Economy / Finance",
          "Engineering",
          "Fine Arts / Arts Administration",
          "Fine Arts / Arts Administration",
          "Social Science / Psychology",
          "English / Creative Writing / Journalism",
          "Biology / Chemistry / Physics",
          "Fine Arts / Arts Administration",
          "Fine Arts / Arts Administration",
          "Education, Academia",
          "Social Work",
          "Social Work",
          "Law",
          "Education, Academia",
          "Medical Science / Pharma / Biotech",
          "Fine Arts / Arts Administration",
          "Social Work",
          "Social Work",
          "Social Work",
          "Engineering",
          "Engineering",
          "Engineering",
          "Engineering",
          "Engineering",
          "Engineering",
          "Biology / Chemistry / Physics",
          "Math",
          "Engineering",
          "Engineering",
          "Law",
          "Engineering",
          "Engineering",
          "Engineering",
          "Engineering",
          "Engineering",
          "Engineering",
          "Business / Economy / Finance",
          "Business / Economy / Finance",
          "Business / Economy / Finance",
          "Business / Economy / Finance",
          "Business / Economy / Finance",
          "Business / Economy / Finance",
          "Other"
         ],
         "yaxis": "y"
        }
       ],
       "layout": {
        "barmode": "relative",
        "legend": {
         "tracegroupgap": 0
        },
        "margin": {
         "t": 60
        },
        "template": {
         "data": {
          "bar": [
           {
            "error_x": {
             "color": "#2a3f5f"
            },
            "error_y": {
             "color": "#2a3f5f"
            },
            "marker": {
             "line": {
              "color": "#E5ECF6",
              "width": 0.5
             },
             "pattern": {
              "fillmode": "overlay",
              "size": 10,
              "solidity": 0.2
             }
            },
            "type": "bar"
           }
          ],
          "barpolar": [
           {
            "marker": {
             "line": {
              "color": "#E5ECF6",
              "width": 0.5
             },
             "pattern": {
              "fillmode": "overlay",
              "size": 10,
              "solidity": 0.2
             }
            },
            "type": "barpolar"
           }
          ],
          "carpet": [
           {
            "aaxis": {
             "endlinecolor": "#2a3f5f",
             "gridcolor": "white",
             "linecolor": "white",
             "minorgridcolor": "white",
             "startlinecolor": "#2a3f5f"
            },
            "baxis": {
             "endlinecolor": "#2a3f5f",
             "gridcolor": "white",
             "linecolor": "white",
             "minorgridcolor": "white",
             "startlinecolor": "#2a3f5f"
            },
            "type": "carpet"
           }
          ],
          "choropleth": [
           {
            "colorbar": {
             "outlinewidth": 0,
             "ticks": ""
            },
            "type": "choropleth"
           }
          ],
          "contour": [
           {
            "colorbar": {
             "outlinewidth": 0,
             "ticks": ""
            },
            "colorscale": [
             [
              0,
              "#0d0887"
             ],
             [
              0.1111111111111111,
              "#46039f"
             ],
             [
              0.2222222222222222,
              "#7201a8"
             ],
             [
              0.3333333333333333,
              "#9c179e"
             ],
             [
              0.4444444444444444,
              "#bd3786"
             ],
             [
              0.5555555555555556,
              "#d8576b"
             ],
             [
              0.6666666666666666,
              "#ed7953"
             ],
             [
              0.7777777777777778,
              "#fb9f3a"
             ],
             [
              0.8888888888888888,
              "#fdca26"
             ],
             [
              1,
              "#f0f921"
             ]
            ],
            "type": "contour"
           }
          ],
          "contourcarpet": [
           {
            "colorbar": {
             "outlinewidth": 0,
             "ticks": ""
            },
            "type": "contourcarpet"
           }
          ],
          "heatmap": [
           {
            "colorbar": {
             "outlinewidth": 0,
             "ticks": ""
            },
            "colorscale": [
             [
              0,
              "#0d0887"
             ],
             [
              0.1111111111111111,
              "#46039f"
             ],
             [
              0.2222222222222222,
              "#7201a8"
             ],
             [
              0.3333333333333333,
              "#9c179e"
             ],
             [
              0.4444444444444444,
              "#bd3786"
             ],
             [
              0.5555555555555556,
              "#d8576b"
             ],
             [
              0.6666666666666666,
              "#ed7953"
             ],
             [
              0.7777777777777778,
              "#fb9f3a"
             ],
             [
              0.8888888888888888,
              "#fdca26"
             ],
             [
              1,
              "#f0f921"
             ]
            ],
            "type": "heatmap"
           }
          ],
          "heatmapgl": [
           {
            "colorbar": {
             "outlinewidth": 0,
             "ticks": ""
            },
            "colorscale": [
             [
              0,
              "#0d0887"
             ],
             [
              0.1111111111111111,
              "#46039f"
             ],
             [
              0.2222222222222222,
              "#7201a8"
             ],
             [
              0.3333333333333333,
              "#9c179e"
             ],
             [
              0.4444444444444444,
              "#bd3786"
             ],
             [
              0.5555555555555556,
              "#d8576b"
             ],
             [
              0.6666666666666666,
              "#ed7953"
             ],
             [
              0.7777777777777778,
              "#fb9f3a"
             ],
             [
              0.8888888888888888,
              "#fdca26"
             ],
             [
              1,
              "#f0f921"
             ]
            ],
            "type": "heatmapgl"
           }
          ],
          "histogram": [
           {
            "marker": {
             "pattern": {
              "fillmode": "overlay",
              "size": 10,
              "solidity": 0.2
             }
            },
            "type": "histogram"
           }
          ],
          "histogram2d": [
           {
            "colorbar": {
             "outlinewidth": 0,
             "ticks": ""
            },
            "colorscale": [
             [
              0,
              "#0d0887"
             ],
             [
              0.1111111111111111,
              "#46039f"
             ],
             [
              0.2222222222222222,
              "#7201a8"
             ],
             [
              0.3333333333333333,
              "#9c179e"
             ],
             [
              0.4444444444444444,
              "#bd3786"
             ],
             [
              0.5555555555555556,
              "#d8576b"
             ],
             [
              0.6666666666666666,
              "#ed7953"
             ],
             [
              0.7777777777777778,
              "#fb9f3a"
             ],
             [
              0.8888888888888888,
              "#fdca26"
             ],
             [
              1,
              "#f0f921"
             ]
            ],
            "type": "histogram2d"
           }
          ],
          "histogram2dcontour": [
           {
            "colorbar": {
             "outlinewidth": 0,
             "ticks": ""
            },
            "colorscale": [
             [
              0,
              "#0d0887"
             ],
             [
              0.1111111111111111,
              "#46039f"
             ],
             [
              0.2222222222222222,
              "#7201a8"
             ],
             [
              0.3333333333333333,
              "#9c179e"
             ],
             [
              0.4444444444444444,
              "#bd3786"
             ],
             [
              0.5555555555555556,
              "#d8576b"
             ],
             [
              0.6666666666666666,
              "#ed7953"
             ],
             [
              0.7777777777777778,
              "#fb9f3a"
             ],
             [
              0.8888888888888888,
              "#fdca26"
             ],
             [
              1,
              "#f0f921"
             ]
            ],
            "type": "histogram2dcontour"
           }
          ],
          "mesh3d": [
           {
            "colorbar": {
             "outlinewidth": 0,
             "ticks": ""
            },
            "type": "mesh3d"
           }
          ],
          "parcoords": [
           {
            "line": {
             "colorbar": {
              "outlinewidth": 0,
              "ticks": ""
             }
            },
            "type": "parcoords"
           }
          ],
          "pie": [
           {
            "automargin": true,
            "type": "pie"
           }
          ],
          "scatter": [
           {
            "fillpattern": {
             "fillmode": "overlay",
             "size": 10,
             "solidity": 0.2
            },
            "type": "scatter"
           }
          ],
          "scatter3d": [
           {
            "line": {
             "colorbar": {
              "outlinewidth": 0,
              "ticks": ""
             }
            },
            "marker": {
             "colorbar": {
              "outlinewidth": 0,
              "ticks": ""
             }
            },
            "type": "scatter3d"
           }
          ],
          "scattercarpet": [
           {
            "marker": {
             "colorbar": {
              "outlinewidth": 0,
              "ticks": ""
             }
            },
            "type": "scattercarpet"
           }
          ],
          "scattergeo": [
           {
            "marker": {
             "colorbar": {
              "outlinewidth": 0,
              "ticks": ""
             }
            },
            "type": "scattergeo"
           }
          ],
          "scattergl": [
           {
            "marker": {
             "colorbar": {
              "outlinewidth": 0,
              "ticks": ""
             }
            },
            "type": "scattergl"
           }
          ],
          "scattermapbox": [
           {
            "marker": {
             "colorbar": {
              "outlinewidth": 0,
              "ticks": ""
             }
            },
            "type": "scattermapbox"
           }
          ],
          "scatterpolar": [
           {
            "marker": {
             "colorbar": {
              "outlinewidth": 0,
              "ticks": ""
             }
            },
            "type": "scatterpolar"
           }
          ],
          "scatterpolargl": [
           {
            "marker": {
             "colorbar": {
              "outlinewidth": 0,
              "ticks": ""
             }
            },
            "type": "scatterpolargl"
           }
          ],
          "scatterternary": [
           {
            "marker": {
             "colorbar": {
              "outlinewidth": 0,
              "ticks": ""
             }
            },
            "type": "scatterternary"
           }
          ],
          "surface": [
           {
            "colorbar": {
             "outlinewidth": 0,
             "ticks": ""
            },
            "colorscale": [
             [
              0,
              "#0d0887"
             ],
             [
              0.1111111111111111,
              "#46039f"
             ],
             [
              0.2222222222222222,
              "#7201a8"
             ],
             [
              0.3333333333333333,
              "#9c179e"
             ],
             [
              0.4444444444444444,
              "#bd3786"
             ],
             [
              0.5555555555555556,
              "#d8576b"
             ],
             [
              0.6666666666666666,
              "#ed7953"
             ],
             [
              0.7777777777777778,
              "#fb9f3a"
             ],
             [
              0.8888888888888888,
              "#fdca26"
             ],
             [
              1,
              "#f0f921"
             ]
            ],
            "type": "surface"
           }
          ],
          "table": [
           {
            "cells": {
             "fill": {
              "color": "#EBF0F8"
             },
             "line": {
              "color": "white"
             }
            },
            "header": {
             "fill": {
              "color": "#C8D4E3"
             },
             "line": {
              "color": "white"
             }
            },
            "type": "table"
           }
          ]
         },
         "layout": {
          "annotationdefaults": {
           "arrowcolor": "#2a3f5f",
           "arrowhead": 0,
           "arrowwidth": 1
          },
          "autotypenumbers": "strict",
          "coloraxis": {
           "colorbar": {
            "outlinewidth": 0,
            "ticks": ""
           }
          },
          "colorscale": {
           "diverging": [
            [
             0,
             "#8e0152"
            ],
            [
             0.1,
             "#c51b7d"
            ],
            [
             0.2,
             "#de77ae"
            ],
            [
             0.3,
             "#f1b6da"
            ],
            [
             0.4,
             "#fde0ef"
            ],
            [
             0.5,
             "#f7f7f7"
            ],
            [
             0.6,
             "#e6f5d0"
            ],
            [
             0.7,
             "#b8e186"
            ],
            [
             0.8,
             "#7fbc41"
            ],
            [
             0.9,
             "#4d9221"
            ],
            [
             1,
             "#276419"
            ]
           ],
           "sequential": [
            [
             0,
             "#0d0887"
            ],
            [
             0.1111111111111111,
             "#46039f"
            ],
            [
             0.2222222222222222,
             "#7201a8"
            ],
            [
             0.3333333333333333,
             "#9c179e"
            ],
            [
             0.4444444444444444,
             "#bd3786"
            ],
            [
             0.5555555555555556,
             "#d8576b"
            ],
            [
             0.6666666666666666,
             "#ed7953"
            ],
            [
             0.7777777777777778,
             "#fb9f3a"
            ],
            [
             0.8888888888888888,
             "#fdca26"
            ],
            [
             1,
             "#f0f921"
            ]
           ],
           "sequentialminus": [
            [
             0,
             "#0d0887"
            ],
            [
             0.1111111111111111,
             "#46039f"
            ],
            [
             0.2222222222222222,
             "#7201a8"
            ],
            [
             0.3333333333333333,
             "#9c179e"
            ],
            [
             0.4444444444444444,
             "#bd3786"
            ],
            [
             0.5555555555555556,
             "#d8576b"
            ],
            [
             0.6666666666666666,
             "#ed7953"
            ],
            [
             0.7777777777777778,
             "#fb9f3a"
            ],
            [
             0.8888888888888888,
             "#fdca26"
            ],
            [
             1,
             "#f0f921"
            ]
           ]
          },
          "colorway": [
           "#636efa",
           "#EF553B",
           "#00cc96",
           "#ab63fa",
           "#FFA15A",
           "#19d3f3",
           "#FF6692",
           "#B6E880",
           "#FF97FF",
           "#FECB52"
          ],
          "font": {
           "color": "#2a3f5f"
          },
          "geo": {
           "bgcolor": "white",
           "lakecolor": "white",
           "landcolor": "#E5ECF6",
           "showlakes": true,
           "showland": true,
           "subunitcolor": "white"
          },
          "hoverlabel": {
           "align": "left"
          },
          "hovermode": "closest",
          "mapbox": {
           "style": "light"
          },
          "paper_bgcolor": "white",
          "plot_bgcolor": "#E5ECF6",
          "polar": {
           "angularaxis": {
            "gridcolor": "white",
            "linecolor": "white",
            "ticks": ""
           },
           "bgcolor": "#E5ECF6",
           "radialaxis": {
            "gridcolor": "white",
            "linecolor": "white",
            "ticks": ""
           }
          },
          "scene": {
           "xaxis": {
            "backgroundcolor": "#E5ECF6",
            "gridcolor": "white",
            "gridwidth": 2,
            "linecolor": "white",
            "showbackground": true,
            "ticks": "",
            "zerolinecolor": "white"
           },
           "yaxis": {
            "backgroundcolor": "#E5ECF6",
            "gridcolor": "white",
            "gridwidth": 2,
            "linecolor": "white",
            "showbackground": true,
            "ticks": "",
            "zerolinecolor": "white"
           },
           "zaxis": {
            "backgroundcolor": "#E5ECF6",
            "gridcolor": "white",
            "gridwidth": 2,
            "linecolor": "white",
            "showbackground": true,
            "ticks": "",
            "zerolinecolor": "white"
           }
          },
          "shapedefaults": {
           "line": {
            "color": "#2a3f5f"
           }
          },
          "ternary": {
           "aaxis": {
            "gridcolor": "white",
            "linecolor": "white",
            "ticks": ""
           },
           "baxis": {
            "gridcolor": "white",
            "linecolor": "white",
            "ticks": ""
           },
           "bgcolor": "#E5ECF6",
           "caxis": {
            "gridcolor": "white",
            "linecolor": "white",
            "ticks": ""
           }
          },
          "title": {
           "x": 0.05
          },
          "xaxis": {
           "automargin": true,
           "gridcolor": "white",
           "linecolor": "white",
           "ticks": "",
           "title": {
            "standoff": 15
           },
           "zerolinecolor": "white",
           "zerolinewidth": 2
          },
          "yaxis": {
           "automargin": true,
           "gridcolor": "white",
           "linecolor": "white",
           "ticks": "",
           "title": {
            "standoff": 15
           },
           "zerolinecolor": "white",
           "zerolinewidth": 2
          }
         }
        },
        "xaxis": {
         "anchor": "y",
         "domain": [
          0,
          1
         ],
         "title": {
          "text": "count"
         }
        },
        "yaxis": {
         "anchor": "x",
         "categoryorder": "total ascending",
         "domain": [
          0,
          1
         ],
         "title": {
          "text": "field_name"
         }
        }
       }
      }
     },
     "metadata": {},
     "output_type": "display_data"
    }
   ],
   "source": [
    "import plotly.express as px\n",
    "fig = px.histogram(df_iid, y=\"field_name\", opacity = 0.75).update_yaxes(categoryorder = \"total ascending\")\n",
    "fig.show()"
   ]
  },
  {
   "cell_type": "code",
   "execution_count": 66,
   "metadata": {},
   "outputs": [
    {
     "data": {
      "application/vnd.plotly.v1+json": {
       "config": {
        "plotlyServerURL": "https://plot.ly"
       },
       "data": [
        {
         "alignmentgroup": "True",
         "bingroup": "y",
         "hovertemplate": "field_cd=1.0<br>count=%{x}<br>field_name=%{y}<extra></extra>",
         "legendgroup": "1.0",
         "marker": {
          "color": "#636efa",
          "opacity": 0.75,
          "pattern": {
           "shape": ""
          }
         },
         "name": "1.0",
         "offsetgroup": "1.0",
         "orientation": "h",
         "showlegend": true,
         "type": "histogram",
         "xaxis": "x",
         "y": [
          "Law",
          "Law",
          "Law",
          "Law",
          "Law",
          "Law",
          "Law",
          "Law",
          "Law",
          "Law",
          "Law",
          "Law",
          "Law",
          "Law",
          "Law",
          "Law",
          "Law",
          "Law",
          "Law",
          "Law",
          "Law",
          "Law",
          "Law",
          "Law",
          "Law",
          "Law",
          "Law",
          "Law",
          "Law",
          "Law",
          "Law",
          "Law",
          "Law",
          "Law",
          "Law",
          "Law",
          "Law",
          "Law",
          "Law",
          "Law",
          "Law",
          "Law",
          "Law",
          "Law",
          "Law",
          "Law",
          "Law",
          "Law"
         ],
         "yaxis": "y"
        },
        {
         "alignmentgroup": "True",
         "bingroup": "y",
         "hovertemplate": "field_cd=2.0<br>count=%{x}<br>field_name=%{y}<extra></extra>",
         "legendgroup": "2.0",
         "marker": {
          "color": "#EF553B",
          "opacity": 0.75,
          "pattern": {
           "shape": ""
          }
         },
         "name": "2.0",
         "offsetgroup": "2.0",
         "orientation": "h",
         "showlegend": true,
         "type": "histogram",
         "xaxis": "x",
         "y": [
          "Math",
          "Math",
          "Math",
          "Math",
          "Math",
          "Math",
          "Math",
          "Math",
          "Math",
          "Math",
          "Math",
          "Math",
          "Math",
          "Math"
         ],
         "yaxis": "y"
        },
        {
         "alignmentgroup": "True",
         "bingroup": "y",
         "hovertemplate": "field_cd=13.0<br>count=%{x}<br>field_name=%{y}<extra></extra>",
         "legendgroup": "13.0",
         "marker": {
          "color": "#00cc96",
          "opacity": 0.75,
          "pattern": {
           "shape": ""
          }
         },
         "name": "13.0",
         "offsetgroup": "13.0",
         "orientation": "h",
         "showlegend": true,
         "type": "histogram",
         "xaxis": "x",
         "y": [
          "Political Science and International Affairs",
          "Political Science and International Affairs",
          "Political Science and International Affairs",
          "Political Science and International Affairs",
          "Political Science and International Affairs",
          "Political Science and International Affairs",
          "Political Science and International Affairs",
          "Political Science and International Affairs",
          "Political Science and International Affairs",
          "Political Science and International Affairs",
          "Political Science and International Affairs",
          "Political Science and International Affairs",
          "Political Science and International Affairs",
          "Political Science and International Affairs",
          "Political Science and International Affairs",
          "Political Science and International Affairs",
          "Political Science and International Affairs",
          "Political Science and International Affairs",
          "Political Science and International Affairs",
          "Political Science and International Affairs",
          "Political Science and International Affairs",
          "Political Science and International Affairs",
          "Political Science and International Affairs",
          "Political Science and International Affairs",
          "Political Science and International Affairs",
          "Political Science and International Affairs",
          "Political Science and International Affairs",
          "Political Science and International Affairs",
          "Political Science and International Affairs",
          "Political Science and International Affairs",
          "Political Science and International Affairs",
          "Political Science and International Affairs",
          "Political Science and International Affairs",
          "Political Science and International Affairs",
          "Political Science and International Affairs",
          "Political Science and International Affairs",
          "Political Science and International Affairs",
          "Political Science and International Affairs",
          "Political Science and International Affairs",
          "Political Science and International Affairs",
          "Political Science and International Affairs",
          "Political Science and International Affairs",
          "Political Science and International Affairs",
          "Political Science and International Affairs",
          "Political Science and International Affairs",
          "Political Science and International Affairs"
         ],
         "yaxis": "y"
        },
        {
         "alignmentgroup": "True",
         "bingroup": "y",
         "hovertemplate": "field_cd=8.0<br>count=%{x}<br>field_name=%{y}<extra></extra>",
         "legendgroup": "8.0",
         "marker": {
          "color": "#ab63fa",
          "opacity": 0.75,
          "pattern": {
           "shape": ""
          }
         },
         "name": "8.0",
         "offsetgroup": "8.0",
         "orientation": "h",
         "showlegend": true,
         "type": "histogram",
         "xaxis": "x",
         "y": [
          "Business / Economy / Finance",
          "Business / Economy / Finance",
          "Business / Economy / Finance",
          "Business / Economy / Finance",
          "Business / Economy / Finance",
          "Business / Economy / Finance",
          "Business / Economy / Finance",
          "Business / Economy / Finance",
          "Business / Economy / Finance",
          "Business / Economy / Finance",
          "Business / Economy / Finance",
          "Business / Economy / Finance",
          "Business / Economy / Finance",
          "Business / Economy / Finance",
          "Business / Economy / Finance",
          "Business / Economy / Finance",
          "Business / Economy / Finance",
          "Business / Economy / Finance",
          "Business / Economy / Finance",
          "Business / Economy / Finance",
          "Business / Economy / Finance",
          "Business / Economy / Finance",
          "Business / Economy / Finance",
          "Business / Economy / Finance",
          "Business / Economy / Finance",
          "Business / Economy / Finance",
          "Business / Economy / Finance",
          "Business / Economy / Finance",
          "Business / Economy / Finance",
          "Business / Economy / Finance",
          "Business / Economy / Finance",
          "Business / Economy / Finance",
          "Business / Economy / Finance",
          "Business / Economy / Finance",
          "Business / Economy / Finance",
          "Business / Economy / Finance",
          "Business / Economy / Finance",
          "Business / Economy / Finance",
          "Business / Economy / Finance",
          "Business / Economy / Finance",
          "Business / Economy / Finance",
          "Business / Economy / Finance",
          "Business / Economy / Finance",
          "Business / Economy / Finance",
          "Business / Economy / Finance",
          "Business / Economy / Finance",
          "Business / Economy / Finance",
          "Business / Economy / Finance",
          "Business / Economy / Finance",
          "Business / Economy / Finance",
          "Business / Economy / Finance",
          "Business / Economy / Finance",
          "Business / Economy / Finance",
          "Business / Economy / Finance",
          "Business / Economy / Finance",
          "Business / Economy / Finance",
          "Business / Economy / Finance",
          "Business / Economy / Finance",
          "Business / Economy / Finance",
          "Business / Economy / Finance",
          "Business / Economy / Finance",
          "Business / Economy / Finance",
          "Business / Economy / Finance",
          "Business / Economy / Finance",
          "Business / Economy / Finance",
          "Business / Economy / Finance",
          "Business / Economy / Finance",
          "Business / Economy / Finance",
          "Business / Economy / Finance",
          "Business / Economy / Finance",
          "Business / Economy / Finance",
          "Business / Economy / Finance",
          "Business / Economy / Finance",
          "Business / Economy / Finance",
          "Business / Economy / Finance",
          "Business / Economy / Finance",
          "Business / Economy / Finance",
          "Business / Economy / Finance",
          "Business / Economy / Finance",
          "Business / Economy / Finance",
          "Business / Economy / Finance",
          "Business / Economy / Finance",
          "Business / Economy / Finance",
          "Business / Economy / Finance",
          "Business / Economy / Finance",
          "Business / Economy / Finance",
          "Business / Economy / Finance",
          "Business / Economy / Finance",
          "Business / Economy / Finance",
          "Business / Economy / Finance",
          "Business / Economy / Finance",
          "Business / Economy / Finance",
          "Business / Economy / Finance",
          "Business / Economy / Finance",
          "Business / Economy / Finance",
          "Business / Economy / Finance",
          "Business / Economy / Finance",
          "Business / Economy / Finance",
          "Business / Economy / Finance",
          "Business / Economy / Finance",
          "Business / Economy / Finance",
          "Business / Economy / Finance",
          "Business / Economy / Finance",
          "Business / Economy / Finance",
          "Business / Economy / Finance",
          "Business / Economy / Finance",
          "Business / Economy / Finance",
          "Business / Economy / Finance",
          "Business / Economy / Finance",
          "Business / Economy / Finance",
          "Business / Economy / Finance",
          "Business / Economy / Finance",
          "Business / Economy / Finance",
          "Business / Economy / Finance",
          "Business / Economy / Finance",
          "Business / Economy / Finance",
          "Business / Economy / Finance",
          "Business / Economy / Finance",
          "Business / Economy / Finance",
          "Business / Economy / Finance",
          "Business / Economy / Finance",
          "Business / Economy / Finance",
          "Business / Economy / Finance",
          "Business / Economy / Finance",
          "Business / Economy / Finance",
          "Business / Economy / Finance",
          "Business / Economy / Finance",
          "Business / Economy / Finance",
          "Business / Economy / Finance",
          "Business / Economy / Finance"
         ],
         "yaxis": "y"
        },
        {
         "alignmentgroup": "True",
         "bingroup": "y",
         "hovertemplate": "field_cd=5.0<br>count=%{x}<br>field_name=%{y}<extra></extra>",
         "legendgroup": "5.0",
         "marker": {
          "color": "#FFA15A",
          "opacity": 0.75,
          "pattern": {
           "shape": ""
          }
         },
         "name": "5.0",
         "offsetgroup": "5.0",
         "orientation": "h",
         "showlegend": true,
         "type": "histogram",
         "xaxis": "x",
         "y": [
          "Engineering",
          "Engineering",
          "Engineering",
          "Engineering",
          "Engineering",
          "Engineering",
          "Engineering",
          "Engineering",
          "Engineering",
          "Engineering",
          "Engineering",
          "Engineering",
          "Engineering",
          "Engineering",
          "Engineering",
          "Engineering",
          "Engineering",
          "Engineering",
          "Engineering",
          "Engineering",
          "Engineering",
          "Engineering",
          "Engineering",
          "Engineering",
          "Engineering",
          "Engineering",
          "Engineering",
          "Engineering",
          "Engineering",
          "Engineering",
          "Engineering",
          "Engineering",
          "Engineering",
          "Engineering",
          "Engineering",
          "Engineering",
          "Engineering",
          "Engineering",
          "Engineering",
          "Engineering",
          "Engineering",
          "Engineering",
          "Engineering",
          "Engineering",
          "Engineering",
          "Engineering",
          "Engineering",
          "Engineering",
          "Engineering",
          "Engineering",
          "Engineering",
          "Engineering",
          "Engineering",
          "Engineering",
          "Engineering",
          "Engineering"
         ],
         "yaxis": "y"
        },
        {
         "alignmentgroup": "True",
         "bingroup": "y",
         "hovertemplate": "field_cd=9.0<br>count=%{x}<br>field_name=%{y}<extra></extra>",
         "legendgroup": "9.0",
         "marker": {
          "color": "#19d3f3",
          "opacity": 0.75,
          "pattern": {
           "shape": ""
          }
         },
         "name": "9.0",
         "offsetgroup": "9.0",
         "orientation": "h",
         "showlegend": true,
         "type": "histogram",
         "xaxis": "x",
         "y": [
          "Education, Academia",
          "Education, Academia",
          "Education, Academia",
          "Education, Academia",
          "Education, Academia",
          "Education, Academia",
          "Education, Academia",
          "Education, Academia",
          "Education, Academia",
          "Education, Academia",
          "Education, Academia",
          "Education, Academia",
          "Education, Academia",
          "Education, Academia",
          "Education, Academia",
          "Education, Academia",
          "Education, Academia",
          "Education, Academia",
          "Education, Academia",
          "Education, Academia",
          "Education, Academia",
          "Education, Academia",
          "Education, Academia",
          "Education, Academia",
          "Education, Academia",
          "Education, Academia",
          "Education, Academia",
          "Education, Academia",
          "Education, Academia",
          "Education, Academia",
          "Education, Academia",
          "Education, Academia",
          "Education, Academia",
          "Education, Academia",
          "Education, Academia",
          "Education, Academia",
          "Education, Academia",
          "Education, Academia",
          "Education, Academia",
          "Education, Academia"
         ],
         "yaxis": "y"
        },
        {
         "alignmentgroup": "True",
         "bingroup": "y",
         "hovertemplate": "field_cd=3.0<br>count=%{x}<br>field_name=%{y}<extra></extra>",
         "legendgroup": "3.0",
         "marker": {
          "color": "#FF6692",
          "opacity": 0.75,
          "pattern": {
           "shape": ""
          }
         },
         "name": "3.0",
         "offsetgroup": "3.0",
         "orientation": "h",
         "showlegend": true,
         "type": "histogram",
         "xaxis": "x",
         "y": [
          "Social Science / Psychology",
          "Social Science / Psychology",
          "Social Science / Psychology",
          "Social Science / Psychology",
          "Social Science / Psychology",
          "Social Science / Psychology",
          "Social Science / Psychology",
          "Social Science / Psychology",
          "Social Science / Psychology",
          "Social Science / Psychology",
          "Social Science / Psychology",
          "Social Science / Psychology",
          "Social Science / Psychology",
          "Social Science / Psychology",
          "Social Science / Psychology",
          "Social Science / Psychology",
          "Social Science / Psychology",
          "Social Science / Psychology",
          "Social Science / Psychology",
          "Social Science / Psychology",
          "Social Science / Psychology",
          "Social Science / Psychology",
          "Social Science / Psychology",
          "Social Science / Psychology",
          "Social Science / Psychology",
          "Social Science / Psychology",
          "Social Science / Psychology",
          "Social Science / Psychology",
          "Social Science / Psychology",
          "Social Science / Psychology",
          "Social Science / Psychology",
          "Social Science / Psychology",
          "Social Science / Psychology",
          "Social Science / Psychology",
          "Social Science / Psychology",
          "Social Science / Psychology",
          "Social Science / Psychology",
          "Social Science / Psychology",
          "Social Science / Psychology",
          "Social Science / Psychology",
          "Social Science / Psychology",
          "Social Science / Psychology",
          "Social Science / Psychology",
          "Social Science / Psychology",
          "Social Science / Psychology",
          "Social Science / Psychology"
         ],
         "yaxis": "y"
        },
        {
         "alignmentgroup": "True",
         "bingroup": "y",
         "hovertemplate": "field_cd=11.0<br>count=%{x}<br>field_name=%{y}<extra></extra>",
         "legendgroup": "11.0",
         "marker": {
          "color": "#B6E880",
          "opacity": 0.75,
          "pattern": {
           "shape": ""
          }
         },
         "name": "11.0",
         "offsetgroup": "11.0",
         "orientation": "h",
         "showlegend": true,
         "type": "histogram",
         "xaxis": "x",
         "y": [
          "Social Work",
          "Social Work",
          "Social Work",
          "Social Work",
          "Social Work",
          "Social Work",
          "Social Work",
          "Social Work",
          "Social Work",
          "Social Work",
          "Social Work",
          "Social Work",
          "Social Work",
          "Social Work",
          "Social Work",
          "Social Work",
          "Social Work",
          "Social Work",
          "Social Work",
          "Social Work",
          "Social Work",
          "Social Work",
          "Social Work",
          "Social Work",
          "Social Work",
          "Social Work",
          "Social Work",
          "Social Work",
          "Social Work",
          "Social Work"
         ],
         "yaxis": "y"
        },
        {
         "alignmentgroup": "True",
         "bingroup": "y",
         "hovertemplate": "field_cd=12.0<br>count=%{x}<br>field_name=%{y}<extra></extra>",
         "legendgroup": "12.0",
         "marker": {
          "color": "#FECB52",
          "opacity": 0.75,
          "pattern": {
           "shape": ""
          }
         },
         "name": "12.0",
         "offsetgroup": "12.0",
         "orientation": "h",
         "showlegend": true,
         "type": "histogram",
         "xaxis": "x",
         "y": [
          "Undergrad / Undecided"
         ],
         "yaxis": "y"
        },
        {
         "alignmentgroup": "True",
         "bingroup": "y",
         "hovertemplate": "field_cd=4.0<br>count=%{x}<br>field_name=%{y}<extra></extra>",
         "legendgroup": "4.0",
         "marker": {
          "color": "#636efa",
          "opacity": 0.75,
          "pattern": {
           "shape": ""
          }
         },
         "name": "4.0",
         "offsetgroup": "4.0",
         "orientation": "h",
         "showlegend": true,
         "type": "histogram",
         "xaxis": "x",
         "y": [
          "Medical Science / Pharma / Biotech",
          "Medical Science / Pharma / Biotech",
          "Medical Science / Pharma / Biotech",
          "Medical Science / Pharma / Biotech",
          "Medical Science / Pharma / Biotech",
          "Medical Science / Pharma / Biotech",
          "Medical Science / Pharma / Biotech",
          "Medical Science / Pharma / Biotech",
          "Medical Science / Pharma / Biotech"
         ],
         "yaxis": "y"
        },
        {
         "alignmentgroup": "True",
         "bingroup": "y",
         "hovertemplate": "field_cd=7.0<br>count=%{x}<br>field_name=%{y}<extra></extra>",
         "legendgroup": "7.0",
         "marker": {
          "color": "#EF553B",
          "opacity": 0.75,
          "pattern": {
           "shape": ""
          }
         },
         "name": "7.0",
         "offsetgroup": "7.0",
         "orientation": "h",
         "showlegend": true,
         "type": "histogram",
         "xaxis": "x",
         "y": [
          "History / Religion / Philosopy",
          "History / Religion / Philosopy",
          "History / Religion / Philosopy",
          "History / Religion / Philosopy",
          "History / Religion / Philosopy",
          "History / Religion / Philosopy",
          "History / Religion / Philosopy",
          "History / Religion / Philosopy",
          "History / Religion / Philosopy",
          "History / Religion / Philosopy",
          "History / Religion / Philosopy",
          "History / Religion / Philosopy",
          "History / Religion / Philosopy",
          "History / Religion / Philosopy",
          "History / Religion / Philosopy",
          "History / Religion / Philosopy",
          "History / Religion / Philosopy"
         ],
         "yaxis": "y"
        },
        {
         "alignmentgroup": "True",
         "bingroup": "y",
         "hovertemplate": "field_cd=6.0<br>count=%{x}<br>field_name=%{y}<extra></extra>",
         "legendgroup": "6.0",
         "marker": {
          "color": "#00cc96",
          "opacity": 0.75,
          "pattern": {
           "shape": ""
          }
         },
         "name": "6.0",
         "offsetgroup": "6.0",
         "orientation": "h",
         "showlegend": true,
         "type": "histogram",
         "xaxis": "x",
         "y": [
          "English / Creative Writing / Journalism",
          "English / Creative Writing / Journalism",
          "English / Creative Writing / Journalism",
          "English / Creative Writing / Journalism",
          "English / Creative Writing / Journalism",
          "English / Creative Writing / Journalism",
          "English / Creative Writing / Journalism",
          "English / Creative Writing / Journalism",
          "English / Creative Writing / Journalism",
          "English / Creative Writing / Journalism",
          "English / Creative Writing / Journalism",
          "English / Creative Writing / Journalism",
          "English / Creative Writing / Journalism",
          "English / Creative Writing / Journalism",
          "English / Creative Writing / Journalism",
          "English / Creative Writing / Journalism",
          "English / Creative Writing / Journalism",
          "English / Creative Writing / Journalism",
          "English / Creative Writing / Journalism",
          "English / Creative Writing / Journalism",
          "English / Creative Writing / Journalism"
         ],
         "yaxis": "y"
        },
        {
         "alignmentgroup": "True",
         "bingroup": "y",
         "hovertemplate": "field_cd=10.0<br>count=%{x}<br>field_name=%{y}<extra></extra>",
         "legendgroup": "10.0",
         "marker": {
          "color": "#ab63fa",
          "opacity": 0.75,
          "pattern": {
           "shape": ""
          }
         },
         "name": "10.0",
         "offsetgroup": "10.0",
         "orientation": "h",
         "showlegend": true,
         "type": "histogram",
         "xaxis": "x",
         "y": [
          "Biology / Chemistry / Physics",
          "Biology / Chemistry / Physics",
          "Biology / Chemistry / Physics",
          "Biology / Chemistry / Physics",
          "Biology / Chemistry / Physics",
          "Biology / Chemistry / Physics",
          "Biology / Chemistry / Physics",
          "Biology / Chemistry / Physics",
          "Biology / Chemistry / Physics",
          "Biology / Chemistry / Physics",
          "Biology / Chemistry / Physics",
          "Biology / Chemistry / Physics",
          "Biology / Chemistry / Physics",
          "Biology / Chemistry / Physics",
          "Biology / Chemistry / Physics",
          "Biology / Chemistry / Physics",
          "Biology / Chemistry / Physics",
          "Biology / Chemistry / Physics",
          "Biology / Chemistry / Physics",
          "Biology / Chemistry / Physics",
          "Biology / Chemistry / Physics",
          "Biology / Chemistry / Physics",
          "Biology / Chemistry / Physics",
          "Biology / Chemistry / Physics",
          "Biology / Chemistry / Physics",
          "Biology / Chemistry / Physics",
          "Biology / Chemistry / Physics",
          "Biology / Chemistry / Physics",
          "Biology / Chemistry / Physics",
          "Biology / Chemistry / Physics",
          "Biology / Chemistry / Physics",
          "Biology / Chemistry / Physics",
          "Biology / Chemistry / Physics",
          "Biology / Chemistry / Physics",
          "Biology / Chemistry / Physics",
          "Biology / Chemistry / Physics",
          "Biology / Chemistry / Physics",
          "Biology / Chemistry / Physics",
          "Biology / Chemistry / Physics",
          "Biology / Chemistry / Physics",
          "Biology / Chemistry / Physics",
          "Biology / Chemistry / Physics",
          "Biology / Chemistry / Physics",
          "Biology / Chemistry / Physics",
          "Biology / Chemistry / Physics",
          "Biology / Chemistry / Physics",
          "Biology / Chemistry / Physics",
          "Biology / Chemistry / Physics",
          "Biology / Chemistry / Physics",
          "Biology / Chemistry / Physics",
          "Biology / Chemistry / Physics",
          "Biology / Chemistry / Physics",
          "Biology / Chemistry / Physics",
          "Biology / Chemistry / Physics",
          "Biology / Chemistry / Physics",
          "Biology / Chemistry / Physics",
          "Biology / Chemistry / Physics",
          "Biology / Chemistry / Physics",
          "Biology / Chemistry / Physics",
          "Biology / Chemistry / Physics",
          "Biology / Chemistry / Physics"
         ],
         "yaxis": "y"
        },
        {
         "alignmentgroup": "True",
         "bingroup": "y",
         "hovertemplate": "field_cd=14.0<br>count=%{x}<br>field_name=%{y}<extra></extra>",
         "legendgroup": "14.0",
         "marker": {
          "color": "#FFA15A",
          "opacity": 0.75,
          "pattern": {
           "shape": ""
          }
         },
         "name": "14.0",
         "offsetgroup": "14.0",
         "orientation": "h",
         "showlegend": true,
         "type": "histogram",
         "xaxis": "x",
         "y": [
          "Film",
          "Film",
          "Film",
          "Film",
          "Film",
          "Film",
          "Film"
         ],
         "yaxis": "y"
        },
        {
         "alignmentgroup": "True",
         "bingroup": "y",
         "hovertemplate": "field_cd=16.0<br>count=%{x}<br>field_name=%{y}<extra></extra>",
         "legendgroup": "16.0",
         "marker": {
          "color": "#19d3f3",
          "opacity": 0.75,
          "pattern": {
           "shape": ""
          }
         },
         "name": "16.0",
         "offsetgroup": "16.0",
         "orientation": "h",
         "showlegend": true,
         "type": "histogram",
         "xaxis": "x",
         "y": [
          "Languages",
          "Languages",
          "Languages"
         ],
         "yaxis": "y"
        },
        {
         "alignmentgroup": "True",
         "bingroup": "y",
         "hovertemplate": "field_cd=15.0<br>count=%{x}<br>field_name=%{y}<extra></extra>",
         "legendgroup": "15.0",
         "marker": {
          "color": "#FF6692",
          "opacity": 0.75,
          "pattern": {
           "shape": ""
          }
         },
         "name": "15.0",
         "offsetgroup": "15.0",
         "orientation": "h",
         "showlegend": true,
         "type": "histogram",
         "xaxis": "x",
         "y": [
          "Fine Arts / Arts Administration",
          "Fine Arts / Arts Administration",
          "Fine Arts / Arts Administration",
          "Fine Arts / Arts Administration",
          "Fine Arts / Arts Administration",
          "Fine Arts / Arts Administration",
          "Fine Arts / Arts Administration",
          "Fine Arts / Arts Administration",
          "Fine Arts / Arts Administration",
          "Fine Arts / Arts Administration",
          "Fine Arts / Arts Administration"
         ],
         "yaxis": "y"
        },
        {
         "alignmentgroup": "True",
         "bingroup": "y",
         "hovertemplate": "field_cd=17.0<br>count=%{x}<br>field_name=%{y}<extra></extra>",
         "legendgroup": "17.0",
         "marker": {
          "color": "#B6E880",
          "opacity": 0.75,
          "pattern": {
           "shape": ""
          }
         },
         "name": "17.0",
         "offsetgroup": "17.0",
         "orientation": "h",
         "showlegend": true,
         "type": "histogram",
         "xaxis": "x",
         "y": [
          "Architecture"
         ],
         "yaxis": "y"
        },
        {
         "alignmentgroup": "True",
         "bingroup": "y",
         "hovertemplate": "field_cd=18.0<br>count=%{x}<br>field_name=%{y}<extra></extra>",
         "legendgroup": "18.0",
         "marker": {
          "color": "#FF97FF",
          "opacity": 0.75,
          "pattern": {
           "shape": ""
          }
         },
         "name": "18.0",
         "offsetgroup": "18.0",
         "orientation": "h",
         "showlegend": true,
         "type": "histogram",
         "xaxis": "x",
         "y": [
          "Other",
          "Other",
          "Other"
         ],
         "yaxis": "y"
        }
       ],
       "layout": {
        "barmode": "relative",
        "legend": {
         "title": {
          "text": "field_cd"
         },
         "tracegroupgap": 0
        },
        "margin": {
         "t": 60
        },
        "template": {
         "data": {
          "bar": [
           {
            "error_x": {
             "color": "#2a3f5f"
            },
            "error_y": {
             "color": "#2a3f5f"
            },
            "marker": {
             "line": {
              "color": "#E5ECF6",
              "width": 0.5
             },
             "pattern": {
              "fillmode": "overlay",
              "size": 10,
              "solidity": 0.2
             }
            },
            "type": "bar"
           }
          ],
          "barpolar": [
           {
            "marker": {
             "line": {
              "color": "#E5ECF6",
              "width": 0.5
             },
             "pattern": {
              "fillmode": "overlay",
              "size": 10,
              "solidity": 0.2
             }
            },
            "type": "barpolar"
           }
          ],
          "carpet": [
           {
            "aaxis": {
             "endlinecolor": "#2a3f5f",
             "gridcolor": "white",
             "linecolor": "white",
             "minorgridcolor": "white",
             "startlinecolor": "#2a3f5f"
            },
            "baxis": {
             "endlinecolor": "#2a3f5f",
             "gridcolor": "white",
             "linecolor": "white",
             "minorgridcolor": "white",
             "startlinecolor": "#2a3f5f"
            },
            "type": "carpet"
           }
          ],
          "choropleth": [
           {
            "colorbar": {
             "outlinewidth": 0,
             "ticks": ""
            },
            "type": "choropleth"
           }
          ],
          "contour": [
           {
            "colorbar": {
             "outlinewidth": 0,
             "ticks": ""
            },
            "colorscale": [
             [
              0,
              "#0d0887"
             ],
             [
              0.1111111111111111,
              "#46039f"
             ],
             [
              0.2222222222222222,
              "#7201a8"
             ],
             [
              0.3333333333333333,
              "#9c179e"
             ],
             [
              0.4444444444444444,
              "#bd3786"
             ],
             [
              0.5555555555555556,
              "#d8576b"
             ],
             [
              0.6666666666666666,
              "#ed7953"
             ],
             [
              0.7777777777777778,
              "#fb9f3a"
             ],
             [
              0.8888888888888888,
              "#fdca26"
             ],
             [
              1,
              "#f0f921"
             ]
            ],
            "type": "contour"
           }
          ],
          "contourcarpet": [
           {
            "colorbar": {
             "outlinewidth": 0,
             "ticks": ""
            },
            "type": "contourcarpet"
           }
          ],
          "heatmap": [
           {
            "colorbar": {
             "outlinewidth": 0,
             "ticks": ""
            },
            "colorscale": [
             [
              0,
              "#0d0887"
             ],
             [
              0.1111111111111111,
              "#46039f"
             ],
             [
              0.2222222222222222,
              "#7201a8"
             ],
             [
              0.3333333333333333,
              "#9c179e"
             ],
             [
              0.4444444444444444,
              "#bd3786"
             ],
             [
              0.5555555555555556,
              "#d8576b"
             ],
             [
              0.6666666666666666,
              "#ed7953"
             ],
             [
              0.7777777777777778,
              "#fb9f3a"
             ],
             [
              0.8888888888888888,
              "#fdca26"
             ],
             [
              1,
              "#f0f921"
             ]
            ],
            "type": "heatmap"
           }
          ],
          "heatmapgl": [
           {
            "colorbar": {
             "outlinewidth": 0,
             "ticks": ""
            },
            "colorscale": [
             [
              0,
              "#0d0887"
             ],
             [
              0.1111111111111111,
              "#46039f"
             ],
             [
              0.2222222222222222,
              "#7201a8"
             ],
             [
              0.3333333333333333,
              "#9c179e"
             ],
             [
              0.4444444444444444,
              "#bd3786"
             ],
             [
              0.5555555555555556,
              "#d8576b"
             ],
             [
              0.6666666666666666,
              "#ed7953"
             ],
             [
              0.7777777777777778,
              "#fb9f3a"
             ],
             [
              0.8888888888888888,
              "#fdca26"
             ],
             [
              1,
              "#f0f921"
             ]
            ],
            "type": "heatmapgl"
           }
          ],
          "histogram": [
           {
            "marker": {
             "pattern": {
              "fillmode": "overlay",
              "size": 10,
              "solidity": 0.2
             }
            },
            "type": "histogram"
           }
          ],
          "histogram2d": [
           {
            "colorbar": {
             "outlinewidth": 0,
             "ticks": ""
            },
            "colorscale": [
             [
              0,
              "#0d0887"
             ],
             [
              0.1111111111111111,
              "#46039f"
             ],
             [
              0.2222222222222222,
              "#7201a8"
             ],
             [
              0.3333333333333333,
              "#9c179e"
             ],
             [
              0.4444444444444444,
              "#bd3786"
             ],
             [
              0.5555555555555556,
              "#d8576b"
             ],
             [
              0.6666666666666666,
              "#ed7953"
             ],
             [
              0.7777777777777778,
              "#fb9f3a"
             ],
             [
              0.8888888888888888,
              "#fdca26"
             ],
             [
              1,
              "#f0f921"
             ]
            ],
            "type": "histogram2d"
           }
          ],
          "histogram2dcontour": [
           {
            "colorbar": {
             "outlinewidth": 0,
             "ticks": ""
            },
            "colorscale": [
             [
              0,
              "#0d0887"
             ],
             [
              0.1111111111111111,
              "#46039f"
             ],
             [
              0.2222222222222222,
              "#7201a8"
             ],
             [
              0.3333333333333333,
              "#9c179e"
             ],
             [
              0.4444444444444444,
              "#bd3786"
             ],
             [
              0.5555555555555556,
              "#d8576b"
             ],
             [
              0.6666666666666666,
              "#ed7953"
             ],
             [
              0.7777777777777778,
              "#fb9f3a"
             ],
             [
              0.8888888888888888,
              "#fdca26"
             ],
             [
              1,
              "#f0f921"
             ]
            ],
            "type": "histogram2dcontour"
           }
          ],
          "mesh3d": [
           {
            "colorbar": {
             "outlinewidth": 0,
             "ticks": ""
            },
            "type": "mesh3d"
           }
          ],
          "parcoords": [
           {
            "line": {
             "colorbar": {
              "outlinewidth": 0,
              "ticks": ""
             }
            },
            "type": "parcoords"
           }
          ],
          "pie": [
           {
            "automargin": true,
            "type": "pie"
           }
          ],
          "scatter": [
           {
            "fillpattern": {
             "fillmode": "overlay",
             "size": 10,
             "solidity": 0.2
            },
            "type": "scatter"
           }
          ],
          "scatter3d": [
           {
            "line": {
             "colorbar": {
              "outlinewidth": 0,
              "ticks": ""
             }
            },
            "marker": {
             "colorbar": {
              "outlinewidth": 0,
              "ticks": ""
             }
            },
            "type": "scatter3d"
           }
          ],
          "scattercarpet": [
           {
            "marker": {
             "colorbar": {
              "outlinewidth": 0,
              "ticks": ""
             }
            },
            "type": "scattercarpet"
           }
          ],
          "scattergeo": [
           {
            "marker": {
             "colorbar": {
              "outlinewidth": 0,
              "ticks": ""
             }
            },
            "type": "scattergeo"
           }
          ],
          "scattergl": [
           {
            "marker": {
             "colorbar": {
              "outlinewidth": 0,
              "ticks": ""
             }
            },
            "type": "scattergl"
           }
          ],
          "scattermapbox": [
           {
            "marker": {
             "colorbar": {
              "outlinewidth": 0,
              "ticks": ""
             }
            },
            "type": "scattermapbox"
           }
          ],
          "scatterpolar": [
           {
            "marker": {
             "colorbar": {
              "outlinewidth": 0,
              "ticks": ""
             }
            },
            "type": "scatterpolar"
           }
          ],
          "scatterpolargl": [
           {
            "marker": {
             "colorbar": {
              "outlinewidth": 0,
              "ticks": ""
             }
            },
            "type": "scatterpolargl"
           }
          ],
          "scatterternary": [
           {
            "marker": {
             "colorbar": {
              "outlinewidth": 0,
              "ticks": ""
             }
            },
            "type": "scatterternary"
           }
          ],
          "surface": [
           {
            "colorbar": {
             "outlinewidth": 0,
             "ticks": ""
            },
            "colorscale": [
             [
              0,
              "#0d0887"
             ],
             [
              0.1111111111111111,
              "#46039f"
             ],
             [
              0.2222222222222222,
              "#7201a8"
             ],
             [
              0.3333333333333333,
              "#9c179e"
             ],
             [
              0.4444444444444444,
              "#bd3786"
             ],
             [
              0.5555555555555556,
              "#d8576b"
             ],
             [
              0.6666666666666666,
              "#ed7953"
             ],
             [
              0.7777777777777778,
              "#fb9f3a"
             ],
             [
              0.8888888888888888,
              "#fdca26"
             ],
             [
              1,
              "#f0f921"
             ]
            ],
            "type": "surface"
           }
          ],
          "table": [
           {
            "cells": {
             "fill": {
              "color": "#EBF0F8"
             },
             "line": {
              "color": "white"
             }
            },
            "header": {
             "fill": {
              "color": "#C8D4E3"
             },
             "line": {
              "color": "white"
             }
            },
            "type": "table"
           }
          ]
         },
         "layout": {
          "annotationdefaults": {
           "arrowcolor": "#2a3f5f",
           "arrowhead": 0,
           "arrowwidth": 1
          },
          "autotypenumbers": "strict",
          "coloraxis": {
           "colorbar": {
            "outlinewidth": 0,
            "ticks": ""
           }
          },
          "colorscale": {
           "diverging": [
            [
             0,
             "#8e0152"
            ],
            [
             0.1,
             "#c51b7d"
            ],
            [
             0.2,
             "#de77ae"
            ],
            [
             0.3,
             "#f1b6da"
            ],
            [
             0.4,
             "#fde0ef"
            ],
            [
             0.5,
             "#f7f7f7"
            ],
            [
             0.6,
             "#e6f5d0"
            ],
            [
             0.7,
             "#b8e186"
            ],
            [
             0.8,
             "#7fbc41"
            ],
            [
             0.9,
             "#4d9221"
            ],
            [
             1,
             "#276419"
            ]
           ],
           "sequential": [
            [
             0,
             "#0d0887"
            ],
            [
             0.1111111111111111,
             "#46039f"
            ],
            [
             0.2222222222222222,
             "#7201a8"
            ],
            [
             0.3333333333333333,
             "#9c179e"
            ],
            [
             0.4444444444444444,
             "#bd3786"
            ],
            [
             0.5555555555555556,
             "#d8576b"
            ],
            [
             0.6666666666666666,
             "#ed7953"
            ],
            [
             0.7777777777777778,
             "#fb9f3a"
            ],
            [
             0.8888888888888888,
             "#fdca26"
            ],
            [
             1,
             "#f0f921"
            ]
           ],
           "sequentialminus": [
            [
             0,
             "#0d0887"
            ],
            [
             0.1111111111111111,
             "#46039f"
            ],
            [
             0.2222222222222222,
             "#7201a8"
            ],
            [
             0.3333333333333333,
             "#9c179e"
            ],
            [
             0.4444444444444444,
             "#bd3786"
            ],
            [
             0.5555555555555556,
             "#d8576b"
            ],
            [
             0.6666666666666666,
             "#ed7953"
            ],
            [
             0.7777777777777778,
             "#fb9f3a"
            ],
            [
             0.8888888888888888,
             "#fdca26"
            ],
            [
             1,
             "#f0f921"
            ]
           ]
          },
          "colorway": [
           "#636efa",
           "#EF553B",
           "#00cc96",
           "#ab63fa",
           "#FFA15A",
           "#19d3f3",
           "#FF6692",
           "#B6E880",
           "#FF97FF",
           "#FECB52"
          ],
          "font": {
           "color": "#2a3f5f"
          },
          "geo": {
           "bgcolor": "white",
           "lakecolor": "white",
           "landcolor": "#E5ECF6",
           "showlakes": true,
           "showland": true,
           "subunitcolor": "white"
          },
          "hoverlabel": {
           "align": "left"
          },
          "hovermode": "closest",
          "mapbox": {
           "style": "light"
          },
          "paper_bgcolor": "white",
          "plot_bgcolor": "#E5ECF6",
          "polar": {
           "angularaxis": {
            "gridcolor": "white",
            "linecolor": "white",
            "ticks": ""
           },
           "bgcolor": "#E5ECF6",
           "radialaxis": {
            "gridcolor": "white",
            "linecolor": "white",
            "ticks": ""
           }
          },
          "scene": {
           "xaxis": {
            "backgroundcolor": "#E5ECF6",
            "gridcolor": "white",
            "gridwidth": 2,
            "linecolor": "white",
            "showbackground": true,
            "ticks": "",
            "zerolinecolor": "white"
           },
           "yaxis": {
            "backgroundcolor": "#E5ECF6",
            "gridcolor": "white",
            "gridwidth": 2,
            "linecolor": "white",
            "showbackground": true,
            "ticks": "",
            "zerolinecolor": "white"
           },
           "zaxis": {
            "backgroundcolor": "#E5ECF6",
            "gridcolor": "white",
            "gridwidth": 2,
            "linecolor": "white",
            "showbackground": true,
            "ticks": "",
            "zerolinecolor": "white"
           }
          },
          "shapedefaults": {
           "line": {
            "color": "#2a3f5f"
           }
          },
          "ternary": {
           "aaxis": {
            "gridcolor": "white",
            "linecolor": "white",
            "ticks": ""
           },
           "baxis": {
            "gridcolor": "white",
            "linecolor": "white",
            "ticks": ""
           },
           "bgcolor": "#E5ECF6",
           "caxis": {
            "gridcolor": "white",
            "linecolor": "white",
            "ticks": ""
           }
          },
          "title": {
           "x": 0.05
          },
          "xaxis": {
           "automargin": true,
           "gridcolor": "white",
           "linecolor": "white",
           "ticks": "",
           "title": {
            "standoff": 15
           },
           "zerolinecolor": "white",
           "zerolinewidth": 2
          },
          "yaxis": {
           "automargin": true,
           "gridcolor": "white",
           "linecolor": "white",
           "ticks": "",
           "title": {
            "standoff": 15
           },
           "zerolinecolor": "white",
           "zerolinewidth": 2
          }
         }
        },
        "xaxis": {
         "anchor": "y",
         "domain": [
          0,
          1
         ],
         "title": {
          "text": "count"
         }
        },
        "yaxis": {
         "anchor": "x",
         "categoryorder": "total ascending",
         "domain": [
          0,
          1
         ],
         "title": {
          "text": "field_name"
         }
        }
       }
      }
     },
     "metadata": {},
     "output_type": "display_data"
    }
   ],
   "source": [
    "import plotly.express as px\n",
    "fig = px.histogram(df_iid, y=\"field_name\", color = \"field_cd\", opacity = 0.75).update_yaxes(categoryorder = \"total ascending\")\n",
    "fig.show()"
   ]
  },
  {
   "cell_type": "code",
   "execution_count": 62,
   "metadata": {},
   "outputs": [
    {
     "data": {
      "application/vnd.plotly.v1+json": {
       "config": {
        "plotlyServerURL": "https://plot.ly"
       },
       "data": [
        {
         "alignmentgroup": "True",
         "bingroup": "y",
         "hovertemplate": "field_name=%{y}<br>count=%{x}<extra></extra>",
         "legendgroup": "Law",
         "marker": {
          "color": "#636efa",
          "opacity": 0.75,
          "pattern": {
           "shape": ""
          }
         },
         "name": "Law",
         "offsetgroup": "Law",
         "orientation": "h",
         "showlegend": true,
         "type": "histogram",
         "xaxis": "x",
         "y": [
          "Law",
          "Law",
          "Law",
          "Law",
          "Law",
          "Law",
          "Law",
          "Law",
          "Law",
          "Law",
          "Law",
          "Law",
          "Law",
          "Law",
          "Law",
          "Law",
          "Law",
          "Law",
          "Law",
          "Law",
          "Law",
          "Law",
          "Law",
          "Law",
          "Law",
          "Law",
          "Law",
          "Law",
          "Law",
          "Law",
          "Law",
          "Law",
          "Law",
          "Law",
          "Law",
          "Law",
          "Law",
          "Law",
          "Law",
          "Law",
          "Law",
          "Law",
          "Law",
          "Law",
          "Law",
          "Law",
          "Law",
          "Law"
         ],
         "yaxis": "y"
        },
        {
         "alignmentgroup": "True",
         "bingroup": "y",
         "hovertemplate": "field_name=%{y}<br>count=%{x}<extra></extra>",
         "legendgroup": "Math",
         "marker": {
          "color": "#EF553B",
          "opacity": 0.75,
          "pattern": {
           "shape": ""
          }
         },
         "name": "Math",
         "offsetgroup": "Math",
         "orientation": "h",
         "showlegend": true,
         "type": "histogram",
         "xaxis": "x",
         "y": [
          "Math",
          "Math",
          "Math",
          "Math",
          "Math",
          "Math",
          "Math",
          "Math",
          "Math",
          "Math",
          "Math",
          "Math",
          "Math",
          "Math"
         ],
         "yaxis": "y"
        },
        {
         "alignmentgroup": "True",
         "bingroup": "y",
         "hovertemplate": "field_name=%{y}<br>count=%{x}<extra></extra>",
         "legendgroup": "Political Science and International Affairs",
         "marker": {
          "color": "#00cc96",
          "opacity": 0.75,
          "pattern": {
           "shape": ""
          }
         },
         "name": "Political Science and International Affairs",
         "offsetgroup": "Political Science and International Affairs",
         "orientation": "h",
         "showlegend": true,
         "type": "histogram",
         "xaxis": "x",
         "y": [
          "Political Science and International Affairs",
          "Political Science and International Affairs",
          "Political Science and International Affairs",
          "Political Science and International Affairs",
          "Political Science and International Affairs",
          "Political Science and International Affairs",
          "Political Science and International Affairs",
          "Political Science and International Affairs",
          "Political Science and International Affairs",
          "Political Science and International Affairs",
          "Political Science and International Affairs",
          "Political Science and International Affairs",
          "Political Science and International Affairs",
          "Political Science and International Affairs",
          "Political Science and International Affairs",
          "Political Science and International Affairs",
          "Political Science and International Affairs",
          "Political Science and International Affairs",
          "Political Science and International Affairs",
          "Political Science and International Affairs",
          "Political Science and International Affairs",
          "Political Science and International Affairs",
          "Political Science and International Affairs",
          "Political Science and International Affairs",
          "Political Science and International Affairs",
          "Political Science and International Affairs",
          "Political Science and International Affairs",
          "Political Science and International Affairs",
          "Political Science and International Affairs",
          "Political Science and International Affairs",
          "Political Science and International Affairs",
          "Political Science and International Affairs",
          "Political Science and International Affairs",
          "Political Science and International Affairs",
          "Political Science and International Affairs",
          "Political Science and International Affairs",
          "Political Science and International Affairs",
          "Political Science and International Affairs",
          "Political Science and International Affairs",
          "Political Science and International Affairs",
          "Political Science and International Affairs",
          "Political Science and International Affairs",
          "Political Science and International Affairs",
          "Political Science and International Affairs",
          "Political Science and International Affairs",
          "Political Science and International Affairs"
         ],
         "yaxis": "y"
        },
        {
         "alignmentgroup": "True",
         "bingroup": "y",
         "hovertemplate": "field_name=%{y}<br>count=%{x}<extra></extra>",
         "legendgroup": "Business / Economy / Finance",
         "marker": {
          "color": "#ab63fa",
          "opacity": 0.75,
          "pattern": {
           "shape": ""
          }
         },
         "name": "Business / Economy / Finance",
         "offsetgroup": "Business / Economy / Finance",
         "orientation": "h",
         "showlegend": true,
         "type": "histogram",
         "xaxis": "x",
         "y": [
          "Business / Economy / Finance",
          "Business / Economy / Finance",
          "Business / Economy / Finance",
          "Business / Economy / Finance",
          "Business / Economy / Finance",
          "Business / Economy / Finance",
          "Business / Economy / Finance",
          "Business / Economy / Finance",
          "Business / Economy / Finance",
          "Business / Economy / Finance",
          "Business / Economy / Finance",
          "Business / Economy / Finance",
          "Business / Economy / Finance",
          "Business / Economy / Finance",
          "Business / Economy / Finance",
          "Business / Economy / Finance",
          "Business / Economy / Finance",
          "Business / Economy / Finance",
          "Business / Economy / Finance",
          "Business / Economy / Finance",
          "Business / Economy / Finance",
          "Business / Economy / Finance",
          "Business / Economy / Finance",
          "Business / Economy / Finance",
          "Business / Economy / Finance",
          "Business / Economy / Finance",
          "Business / Economy / Finance",
          "Business / Economy / Finance",
          "Business / Economy / Finance",
          "Business / Economy / Finance",
          "Business / Economy / Finance",
          "Business / Economy / Finance",
          "Business / Economy / Finance",
          "Business / Economy / Finance",
          "Business / Economy / Finance",
          "Business / Economy / Finance",
          "Business / Economy / Finance",
          "Business / Economy / Finance",
          "Business / Economy / Finance",
          "Business / Economy / Finance",
          "Business / Economy / Finance",
          "Business / Economy / Finance",
          "Business / Economy / Finance",
          "Business / Economy / Finance",
          "Business / Economy / Finance",
          "Business / Economy / Finance",
          "Business / Economy / Finance",
          "Business / Economy / Finance",
          "Business / Economy / Finance",
          "Business / Economy / Finance",
          "Business / Economy / Finance",
          "Business / Economy / Finance",
          "Business / Economy / Finance",
          "Business / Economy / Finance",
          "Business / Economy / Finance",
          "Business / Economy / Finance",
          "Business / Economy / Finance",
          "Business / Economy / Finance",
          "Business / Economy / Finance",
          "Business / Economy / Finance",
          "Business / Economy / Finance",
          "Business / Economy / Finance",
          "Business / Economy / Finance",
          "Business / Economy / Finance",
          "Business / Economy / Finance",
          "Business / Economy / Finance",
          "Business / Economy / Finance",
          "Business / Economy / Finance",
          "Business / Economy / Finance",
          "Business / Economy / Finance",
          "Business / Economy / Finance",
          "Business / Economy / Finance",
          "Business / Economy / Finance",
          "Business / Economy / Finance",
          "Business / Economy / Finance",
          "Business / Economy / Finance",
          "Business / Economy / Finance",
          "Business / Economy / Finance",
          "Business / Economy / Finance",
          "Business / Economy / Finance",
          "Business / Economy / Finance",
          "Business / Economy / Finance",
          "Business / Economy / Finance",
          "Business / Economy / Finance",
          "Business / Economy / Finance",
          "Business / Economy / Finance",
          "Business / Economy / Finance",
          "Business / Economy / Finance",
          "Business / Economy / Finance",
          "Business / Economy / Finance",
          "Business / Economy / Finance",
          "Business / Economy / Finance",
          "Business / Economy / Finance",
          "Business / Economy / Finance",
          "Business / Economy / Finance",
          "Business / Economy / Finance",
          "Business / Economy / Finance",
          "Business / Economy / Finance",
          "Business / Economy / Finance",
          "Business / Economy / Finance",
          "Business / Economy / Finance",
          "Business / Economy / Finance",
          "Business / Economy / Finance",
          "Business / Economy / Finance",
          "Business / Economy / Finance",
          "Business / Economy / Finance",
          "Business / Economy / Finance",
          "Business / Economy / Finance",
          "Business / Economy / Finance",
          "Business / Economy / Finance",
          "Business / Economy / Finance",
          "Business / Economy / Finance",
          "Business / Economy / Finance",
          "Business / Economy / Finance",
          "Business / Economy / Finance",
          "Business / Economy / Finance",
          "Business / Economy / Finance",
          "Business / Economy / Finance",
          "Business / Economy / Finance",
          "Business / Economy / Finance",
          "Business / Economy / Finance",
          "Business / Economy / Finance",
          "Business / Economy / Finance",
          "Business / Economy / Finance",
          "Business / Economy / Finance",
          "Business / Economy / Finance",
          "Business / Economy / Finance",
          "Business / Economy / Finance",
          "Business / Economy / Finance",
          "Business / Economy / Finance"
         ],
         "yaxis": "y"
        },
        {
         "alignmentgroup": "True",
         "bingroup": "y",
         "hovertemplate": "field_name=%{y}<br>count=%{x}<extra></extra>",
         "legendgroup": "Engineering",
         "marker": {
          "color": "#FFA15A",
          "opacity": 0.75,
          "pattern": {
           "shape": ""
          }
         },
         "name": "Engineering",
         "offsetgroup": "Engineering",
         "orientation": "h",
         "showlegend": true,
         "type": "histogram",
         "xaxis": "x",
         "y": [
          "Engineering",
          "Engineering",
          "Engineering",
          "Engineering",
          "Engineering",
          "Engineering",
          "Engineering",
          "Engineering",
          "Engineering",
          "Engineering",
          "Engineering",
          "Engineering",
          "Engineering",
          "Engineering",
          "Engineering",
          "Engineering",
          "Engineering",
          "Engineering",
          "Engineering",
          "Engineering",
          "Engineering",
          "Engineering",
          "Engineering",
          "Engineering",
          "Engineering",
          "Engineering",
          "Engineering",
          "Engineering",
          "Engineering",
          "Engineering",
          "Engineering",
          "Engineering",
          "Engineering",
          "Engineering",
          "Engineering",
          "Engineering",
          "Engineering",
          "Engineering",
          "Engineering",
          "Engineering",
          "Engineering",
          "Engineering",
          "Engineering",
          "Engineering",
          "Engineering",
          "Engineering",
          "Engineering",
          "Engineering",
          "Engineering",
          "Engineering",
          "Engineering",
          "Engineering",
          "Engineering",
          "Engineering",
          "Engineering",
          "Engineering"
         ],
         "yaxis": "y"
        },
        {
         "alignmentgroup": "True",
         "bingroup": "y",
         "hovertemplate": "field_name=%{y}<br>count=%{x}<extra></extra>",
         "legendgroup": "Education, Academia",
         "marker": {
          "color": "#19d3f3",
          "opacity": 0.75,
          "pattern": {
           "shape": ""
          }
         },
         "name": "Education, Academia",
         "offsetgroup": "Education, Academia",
         "orientation": "h",
         "showlegend": true,
         "type": "histogram",
         "xaxis": "x",
         "y": [
          "Education, Academia",
          "Education, Academia",
          "Education, Academia",
          "Education, Academia",
          "Education, Academia",
          "Education, Academia",
          "Education, Academia",
          "Education, Academia",
          "Education, Academia",
          "Education, Academia",
          "Education, Academia",
          "Education, Academia",
          "Education, Academia",
          "Education, Academia",
          "Education, Academia",
          "Education, Academia",
          "Education, Academia",
          "Education, Academia",
          "Education, Academia",
          "Education, Academia",
          "Education, Academia",
          "Education, Academia",
          "Education, Academia",
          "Education, Academia",
          "Education, Academia",
          "Education, Academia",
          "Education, Academia",
          "Education, Academia",
          "Education, Academia",
          "Education, Academia",
          "Education, Academia",
          "Education, Academia",
          "Education, Academia",
          "Education, Academia",
          "Education, Academia",
          "Education, Academia",
          "Education, Academia",
          "Education, Academia",
          "Education, Academia",
          "Education, Academia"
         ],
         "yaxis": "y"
        },
        {
         "alignmentgroup": "True",
         "bingroup": "y",
         "hovertemplate": "field_name=%{y}<br>count=%{x}<extra></extra>",
         "legendgroup": "Social Science / Psychology",
         "marker": {
          "color": "#FF6692",
          "opacity": 0.75,
          "pattern": {
           "shape": ""
          }
         },
         "name": "Social Science / Psychology",
         "offsetgroup": "Social Science / Psychology",
         "orientation": "h",
         "showlegend": true,
         "type": "histogram",
         "xaxis": "x",
         "y": [
          "Social Science / Psychology",
          "Social Science / Psychology",
          "Social Science / Psychology",
          "Social Science / Psychology",
          "Social Science / Psychology",
          "Social Science / Psychology",
          "Social Science / Psychology",
          "Social Science / Psychology",
          "Social Science / Psychology",
          "Social Science / Psychology",
          "Social Science / Psychology",
          "Social Science / Psychology",
          "Social Science / Psychology",
          "Social Science / Psychology",
          "Social Science / Psychology",
          "Social Science / Psychology",
          "Social Science / Psychology",
          "Social Science / Psychology",
          "Social Science / Psychology",
          "Social Science / Psychology",
          "Social Science / Psychology",
          "Social Science / Psychology",
          "Social Science / Psychology",
          "Social Science / Psychology",
          "Social Science / Psychology",
          "Social Science / Psychology",
          "Social Science / Psychology",
          "Social Science / Psychology",
          "Social Science / Psychology",
          "Social Science / Psychology",
          "Social Science / Psychology",
          "Social Science / Psychology",
          "Social Science / Psychology",
          "Social Science / Psychology",
          "Social Science / Psychology",
          "Social Science / Psychology",
          "Social Science / Psychology",
          "Social Science / Psychology",
          "Social Science / Psychology",
          "Social Science / Psychology",
          "Social Science / Psychology",
          "Social Science / Psychology",
          "Social Science / Psychology",
          "Social Science / Psychology",
          "Social Science / Psychology",
          "Social Science / Psychology"
         ],
         "yaxis": "y"
        },
        {
         "alignmentgroup": "True",
         "bingroup": "y",
         "hovertemplate": "field_name=%{y}<br>count=%{x}<extra></extra>",
         "legendgroup": "Social Work",
         "marker": {
          "color": "#B6E880",
          "opacity": 0.75,
          "pattern": {
           "shape": ""
          }
         },
         "name": "Social Work",
         "offsetgroup": "Social Work",
         "orientation": "h",
         "showlegend": true,
         "type": "histogram",
         "xaxis": "x",
         "y": [
          "Social Work",
          "Social Work",
          "Social Work",
          "Social Work",
          "Social Work",
          "Social Work",
          "Social Work",
          "Social Work",
          "Social Work",
          "Social Work",
          "Social Work",
          "Social Work",
          "Social Work",
          "Social Work",
          "Social Work",
          "Social Work",
          "Social Work",
          "Social Work",
          "Social Work",
          "Social Work",
          "Social Work",
          "Social Work",
          "Social Work",
          "Social Work",
          "Social Work",
          "Social Work",
          "Social Work",
          "Social Work",
          "Social Work",
          "Social Work"
         ],
         "yaxis": "y"
        },
        {
         "alignmentgroup": "True",
         "bingroup": "y",
         "hovertemplate": "field_name=%{y}<br>count=%{x}<extra></extra>",
         "legendgroup": "Other",
         "marker": {
          "color": "#FF97FF",
          "opacity": 0.75,
          "pattern": {
           "shape": ""
          }
         },
         "name": "Other",
         "offsetgroup": "Other",
         "orientation": "h",
         "showlegend": true,
         "type": "histogram",
         "xaxis": "x",
         "y": [
          "Other",
          "Other",
          "Other",
          "Other",
          "Other",
          "Other",
          "Other",
          "Other",
          "Other",
          "Other"
         ],
         "yaxis": "y"
        },
        {
         "alignmentgroup": "True",
         "bingroup": "y",
         "hovertemplate": "field_name=%{y}<br>count=%{x}<extra></extra>",
         "legendgroup": "Undergrad / Undecided",
         "marker": {
          "color": "#FECB52",
          "opacity": 0.75,
          "pattern": {
           "shape": ""
          }
         },
         "name": "Undergrad / Undecided",
         "offsetgroup": "Undergrad / Undecided",
         "orientation": "h",
         "showlegend": true,
         "type": "histogram",
         "xaxis": "x",
         "y": [
          "Undergrad / Undecided"
         ],
         "yaxis": "y"
        },
        {
         "alignmentgroup": "True",
         "bingroup": "y",
         "hovertemplate": "field_name=%{y}<br>count=%{x}<extra></extra>",
         "legendgroup": "Medical Science / Pharma / Biotech",
         "marker": {
          "color": "#636efa",
          "opacity": 0.75,
          "pattern": {
           "shape": ""
          }
         },
         "name": "Medical Science / Pharma / Biotech",
         "offsetgroup": "Medical Science / Pharma / Biotech",
         "orientation": "h",
         "showlegend": true,
         "type": "histogram",
         "xaxis": "x",
         "y": [
          "Medical Science / Pharma / Biotech",
          "Medical Science / Pharma / Biotech",
          "Medical Science / Pharma / Biotech",
          "Medical Science / Pharma / Biotech",
          "Medical Science / Pharma / Biotech",
          "Medical Science / Pharma / Biotech",
          "Medical Science / Pharma / Biotech",
          "Medical Science / Pharma / Biotech",
          "Medical Science / Pharma / Biotech"
         ],
         "yaxis": "y"
        },
        {
         "alignmentgroup": "True",
         "bingroup": "y",
         "hovertemplate": "field_name=%{y}<br>count=%{x}<extra></extra>",
         "legendgroup": "History / Religion / Philosopy",
         "marker": {
          "color": "#EF553B",
          "opacity": 0.75,
          "pattern": {
           "shape": ""
          }
         },
         "name": "History / Religion / Philosopy",
         "offsetgroup": "History / Religion / Philosopy",
         "orientation": "h",
         "showlegend": true,
         "type": "histogram",
         "xaxis": "x",
         "y": [
          "History / Religion / Philosopy",
          "History / Religion / Philosopy",
          "History / Religion / Philosopy",
          "History / Religion / Philosopy",
          "History / Religion / Philosopy",
          "History / Religion / Philosopy",
          "History / Religion / Philosopy",
          "History / Religion / Philosopy",
          "History / Religion / Philosopy",
          "History / Religion / Philosopy",
          "History / Religion / Philosopy",
          "History / Religion / Philosopy",
          "History / Religion / Philosopy",
          "History / Religion / Philosopy",
          "History / Religion / Philosopy",
          "History / Religion / Philosopy",
          "History / Religion / Philosopy"
         ],
         "yaxis": "y"
        },
        {
         "alignmentgroup": "True",
         "bingroup": "y",
         "hovertemplate": "field_name=%{y}<br>count=%{x}<extra></extra>",
         "legendgroup": "English / Creative Writing / Journalism",
         "marker": {
          "color": "#00cc96",
          "opacity": 0.75,
          "pattern": {
           "shape": ""
          }
         },
         "name": "English / Creative Writing / Journalism",
         "offsetgroup": "English / Creative Writing / Journalism",
         "orientation": "h",
         "showlegend": true,
         "type": "histogram",
         "xaxis": "x",
         "y": [
          "English / Creative Writing / Journalism",
          "English / Creative Writing / Journalism",
          "English / Creative Writing / Journalism",
          "English / Creative Writing / Journalism",
          "English / Creative Writing / Journalism",
          "English / Creative Writing / Journalism",
          "English / Creative Writing / Journalism",
          "English / Creative Writing / Journalism",
          "English / Creative Writing / Journalism",
          "English / Creative Writing / Journalism",
          "English / Creative Writing / Journalism",
          "English / Creative Writing / Journalism",
          "English / Creative Writing / Journalism",
          "English / Creative Writing / Journalism",
          "English / Creative Writing / Journalism",
          "English / Creative Writing / Journalism",
          "English / Creative Writing / Journalism",
          "English / Creative Writing / Journalism",
          "English / Creative Writing / Journalism",
          "English / Creative Writing / Journalism",
          "English / Creative Writing / Journalism"
         ],
         "yaxis": "y"
        },
        {
         "alignmentgroup": "True",
         "bingroup": "y",
         "hovertemplate": "field_name=%{y}<br>count=%{x}<extra></extra>",
         "legendgroup": "Biology / Chemistry / Physics",
         "marker": {
          "color": "#ab63fa",
          "opacity": 0.75,
          "pattern": {
           "shape": ""
          }
         },
         "name": "Biology / Chemistry / Physics",
         "offsetgroup": "Biology / Chemistry / Physics",
         "orientation": "h",
         "showlegend": true,
         "type": "histogram",
         "xaxis": "x",
         "y": [
          "Biology / Chemistry / Physics",
          "Biology / Chemistry / Physics",
          "Biology / Chemistry / Physics",
          "Biology / Chemistry / Physics",
          "Biology / Chemistry / Physics",
          "Biology / Chemistry / Physics",
          "Biology / Chemistry / Physics",
          "Biology / Chemistry / Physics",
          "Biology / Chemistry / Physics",
          "Biology / Chemistry / Physics",
          "Biology / Chemistry / Physics",
          "Biology / Chemistry / Physics",
          "Biology / Chemistry / Physics",
          "Biology / Chemistry / Physics",
          "Biology / Chemistry / Physics",
          "Biology / Chemistry / Physics",
          "Biology / Chemistry / Physics",
          "Biology / Chemistry / Physics",
          "Biology / Chemistry / Physics",
          "Biology / Chemistry / Physics",
          "Biology / Chemistry / Physics",
          "Biology / Chemistry / Physics",
          "Biology / Chemistry / Physics",
          "Biology / Chemistry / Physics",
          "Biology / Chemistry / Physics",
          "Biology / Chemistry / Physics",
          "Biology / Chemistry / Physics",
          "Biology / Chemistry / Physics",
          "Biology / Chemistry / Physics",
          "Biology / Chemistry / Physics",
          "Biology / Chemistry / Physics",
          "Biology / Chemistry / Physics",
          "Biology / Chemistry / Physics",
          "Biology / Chemistry / Physics",
          "Biology / Chemistry / Physics",
          "Biology / Chemistry / Physics",
          "Biology / Chemistry / Physics",
          "Biology / Chemistry / Physics",
          "Biology / Chemistry / Physics",
          "Biology / Chemistry / Physics",
          "Biology / Chemistry / Physics",
          "Biology / Chemistry / Physics",
          "Biology / Chemistry / Physics",
          "Biology / Chemistry / Physics",
          "Biology / Chemistry / Physics",
          "Biology / Chemistry / Physics",
          "Biology / Chemistry / Physics",
          "Biology / Chemistry / Physics",
          "Biology / Chemistry / Physics",
          "Biology / Chemistry / Physics",
          "Biology / Chemistry / Physics",
          "Biology / Chemistry / Physics",
          "Biology / Chemistry / Physics",
          "Biology / Chemistry / Physics",
          "Biology / Chemistry / Physics",
          "Biology / Chemistry / Physics",
          "Biology / Chemistry / Physics",
          "Biology / Chemistry / Physics",
          "Biology / Chemistry / Physics",
          "Biology / Chemistry / Physics",
          "Biology / Chemistry / Physics"
         ],
         "yaxis": "y"
        },
        {
         "alignmentgroup": "True",
         "bingroup": "y",
         "hovertemplate": "field_name=%{y}<br>count=%{x}<extra></extra>",
         "legendgroup": "Film",
         "marker": {
          "color": "#FFA15A",
          "opacity": 0.75,
          "pattern": {
           "shape": ""
          }
         },
         "name": "Film",
         "offsetgroup": "Film",
         "orientation": "h",
         "showlegend": true,
         "type": "histogram",
         "xaxis": "x",
         "y": [
          "Film",
          "Film",
          "Film",
          "Film",
          "Film",
          "Film",
          "Film"
         ],
         "yaxis": "y"
        },
        {
         "alignmentgroup": "True",
         "bingroup": "y",
         "hovertemplate": "field_name=%{y}<br>count=%{x}<extra></extra>",
         "legendgroup": "Languages",
         "marker": {
          "color": "#19d3f3",
          "opacity": 0.75,
          "pattern": {
           "shape": ""
          }
         },
         "name": "Languages",
         "offsetgroup": "Languages",
         "orientation": "h",
         "showlegend": true,
         "type": "histogram",
         "xaxis": "x",
         "y": [
          "Languages",
          "Languages",
          "Languages"
         ],
         "yaxis": "y"
        },
        {
         "alignmentgroup": "True",
         "bingroup": "y",
         "hovertemplate": "field_name=%{y}<br>count=%{x}<extra></extra>",
         "legendgroup": "Fine Arts / Arts Administration",
         "marker": {
          "color": "#FF6692",
          "opacity": 0.75,
          "pattern": {
           "shape": ""
          }
         },
         "name": "Fine Arts / Arts Administration",
         "offsetgroup": "Fine Arts / Arts Administration",
         "orientation": "h",
         "showlegend": true,
         "type": "histogram",
         "xaxis": "x",
         "y": [
          "Fine Arts / Arts Administration",
          "Fine Arts / Arts Administration",
          "Fine Arts / Arts Administration",
          "Fine Arts / Arts Administration",
          "Fine Arts / Arts Administration",
          "Fine Arts / Arts Administration",
          "Fine Arts / Arts Administration",
          "Fine Arts / Arts Administration",
          "Fine Arts / Arts Administration",
          "Fine Arts / Arts Administration",
          "Fine Arts / Arts Administration"
         ],
         "yaxis": "y"
        },
        {
         "alignmentgroup": "True",
         "bingroup": "y",
         "hovertemplate": "field_name=%{y}<br>count=%{x}<extra></extra>",
         "legendgroup": "Architecture",
         "marker": {
          "color": "#B6E880",
          "opacity": 0.75,
          "pattern": {
           "shape": ""
          }
         },
         "name": "Architecture",
         "offsetgroup": "Architecture",
         "orientation": "h",
         "showlegend": true,
         "type": "histogram",
         "xaxis": "x",
         "y": [
          "Architecture"
         ],
         "yaxis": "y"
        }
       ],
       "layout": {
        "barmode": "relative",
        "legend": {
         "title": {
          "text": "field_name"
         },
         "tracegroupgap": 0
        },
        "margin": {
         "t": 60
        },
        "template": {
         "data": {
          "bar": [
           {
            "error_x": {
             "color": "#2a3f5f"
            },
            "error_y": {
             "color": "#2a3f5f"
            },
            "marker": {
             "line": {
              "color": "#E5ECF6",
              "width": 0.5
             },
             "pattern": {
              "fillmode": "overlay",
              "size": 10,
              "solidity": 0.2
             }
            },
            "type": "bar"
           }
          ],
          "barpolar": [
           {
            "marker": {
             "line": {
              "color": "#E5ECF6",
              "width": 0.5
             },
             "pattern": {
              "fillmode": "overlay",
              "size": 10,
              "solidity": 0.2
             }
            },
            "type": "barpolar"
           }
          ],
          "carpet": [
           {
            "aaxis": {
             "endlinecolor": "#2a3f5f",
             "gridcolor": "white",
             "linecolor": "white",
             "minorgridcolor": "white",
             "startlinecolor": "#2a3f5f"
            },
            "baxis": {
             "endlinecolor": "#2a3f5f",
             "gridcolor": "white",
             "linecolor": "white",
             "minorgridcolor": "white",
             "startlinecolor": "#2a3f5f"
            },
            "type": "carpet"
           }
          ],
          "choropleth": [
           {
            "colorbar": {
             "outlinewidth": 0,
             "ticks": ""
            },
            "type": "choropleth"
           }
          ],
          "contour": [
           {
            "colorbar": {
             "outlinewidth": 0,
             "ticks": ""
            },
            "colorscale": [
             [
              0,
              "#0d0887"
             ],
             [
              0.1111111111111111,
              "#46039f"
             ],
             [
              0.2222222222222222,
              "#7201a8"
             ],
             [
              0.3333333333333333,
              "#9c179e"
             ],
             [
              0.4444444444444444,
              "#bd3786"
             ],
             [
              0.5555555555555556,
              "#d8576b"
             ],
             [
              0.6666666666666666,
              "#ed7953"
             ],
             [
              0.7777777777777778,
              "#fb9f3a"
             ],
             [
              0.8888888888888888,
              "#fdca26"
             ],
             [
              1,
              "#f0f921"
             ]
            ],
            "type": "contour"
           }
          ],
          "contourcarpet": [
           {
            "colorbar": {
             "outlinewidth": 0,
             "ticks": ""
            },
            "type": "contourcarpet"
           }
          ],
          "heatmap": [
           {
            "colorbar": {
             "outlinewidth": 0,
             "ticks": ""
            },
            "colorscale": [
             [
              0,
              "#0d0887"
             ],
             [
              0.1111111111111111,
              "#46039f"
             ],
             [
              0.2222222222222222,
              "#7201a8"
             ],
             [
              0.3333333333333333,
              "#9c179e"
             ],
             [
              0.4444444444444444,
              "#bd3786"
             ],
             [
              0.5555555555555556,
              "#d8576b"
             ],
             [
              0.6666666666666666,
              "#ed7953"
             ],
             [
              0.7777777777777778,
              "#fb9f3a"
             ],
             [
              0.8888888888888888,
              "#fdca26"
             ],
             [
              1,
              "#f0f921"
             ]
            ],
            "type": "heatmap"
           }
          ],
          "heatmapgl": [
           {
            "colorbar": {
             "outlinewidth": 0,
             "ticks": ""
            },
            "colorscale": [
             [
              0,
              "#0d0887"
             ],
             [
              0.1111111111111111,
              "#46039f"
             ],
             [
              0.2222222222222222,
              "#7201a8"
             ],
             [
              0.3333333333333333,
              "#9c179e"
             ],
             [
              0.4444444444444444,
              "#bd3786"
             ],
             [
              0.5555555555555556,
              "#d8576b"
             ],
             [
              0.6666666666666666,
              "#ed7953"
             ],
             [
              0.7777777777777778,
              "#fb9f3a"
             ],
             [
              0.8888888888888888,
              "#fdca26"
             ],
             [
              1,
              "#f0f921"
             ]
            ],
            "type": "heatmapgl"
           }
          ],
          "histogram": [
           {
            "marker": {
             "pattern": {
              "fillmode": "overlay",
              "size": 10,
              "solidity": 0.2
             }
            },
            "type": "histogram"
           }
          ],
          "histogram2d": [
           {
            "colorbar": {
             "outlinewidth": 0,
             "ticks": ""
            },
            "colorscale": [
             [
              0,
              "#0d0887"
             ],
             [
              0.1111111111111111,
              "#46039f"
             ],
             [
              0.2222222222222222,
              "#7201a8"
             ],
             [
              0.3333333333333333,
              "#9c179e"
             ],
             [
              0.4444444444444444,
              "#bd3786"
             ],
             [
              0.5555555555555556,
              "#d8576b"
             ],
             [
              0.6666666666666666,
              "#ed7953"
             ],
             [
              0.7777777777777778,
              "#fb9f3a"
             ],
             [
              0.8888888888888888,
              "#fdca26"
             ],
             [
              1,
              "#f0f921"
             ]
            ],
            "type": "histogram2d"
           }
          ],
          "histogram2dcontour": [
           {
            "colorbar": {
             "outlinewidth": 0,
             "ticks": ""
            },
            "colorscale": [
             [
              0,
              "#0d0887"
             ],
             [
              0.1111111111111111,
              "#46039f"
             ],
             [
              0.2222222222222222,
              "#7201a8"
             ],
             [
              0.3333333333333333,
              "#9c179e"
             ],
             [
              0.4444444444444444,
              "#bd3786"
             ],
             [
              0.5555555555555556,
              "#d8576b"
             ],
             [
              0.6666666666666666,
              "#ed7953"
             ],
             [
              0.7777777777777778,
              "#fb9f3a"
             ],
             [
              0.8888888888888888,
              "#fdca26"
             ],
             [
              1,
              "#f0f921"
             ]
            ],
            "type": "histogram2dcontour"
           }
          ],
          "mesh3d": [
           {
            "colorbar": {
             "outlinewidth": 0,
             "ticks": ""
            },
            "type": "mesh3d"
           }
          ],
          "parcoords": [
           {
            "line": {
             "colorbar": {
              "outlinewidth": 0,
              "ticks": ""
             }
            },
            "type": "parcoords"
           }
          ],
          "pie": [
           {
            "automargin": true,
            "type": "pie"
           }
          ],
          "scatter": [
           {
            "fillpattern": {
             "fillmode": "overlay",
             "size": 10,
             "solidity": 0.2
            },
            "type": "scatter"
           }
          ],
          "scatter3d": [
           {
            "line": {
             "colorbar": {
              "outlinewidth": 0,
              "ticks": ""
             }
            },
            "marker": {
             "colorbar": {
              "outlinewidth": 0,
              "ticks": ""
             }
            },
            "type": "scatter3d"
           }
          ],
          "scattercarpet": [
           {
            "marker": {
             "colorbar": {
              "outlinewidth": 0,
              "ticks": ""
             }
            },
            "type": "scattercarpet"
           }
          ],
          "scattergeo": [
           {
            "marker": {
             "colorbar": {
              "outlinewidth": 0,
              "ticks": ""
             }
            },
            "type": "scattergeo"
           }
          ],
          "scattergl": [
           {
            "marker": {
             "colorbar": {
              "outlinewidth": 0,
              "ticks": ""
             }
            },
            "type": "scattergl"
           }
          ],
          "scattermapbox": [
           {
            "marker": {
             "colorbar": {
              "outlinewidth": 0,
              "ticks": ""
             }
            },
            "type": "scattermapbox"
           }
          ],
          "scatterpolar": [
           {
            "marker": {
             "colorbar": {
              "outlinewidth": 0,
              "ticks": ""
             }
            },
            "type": "scatterpolar"
           }
          ],
          "scatterpolargl": [
           {
            "marker": {
             "colorbar": {
              "outlinewidth": 0,
              "ticks": ""
             }
            },
            "type": "scatterpolargl"
           }
          ],
          "scatterternary": [
           {
            "marker": {
             "colorbar": {
              "outlinewidth": 0,
              "ticks": ""
             }
            },
            "type": "scatterternary"
           }
          ],
          "surface": [
           {
            "colorbar": {
             "outlinewidth": 0,
             "ticks": ""
            },
            "colorscale": [
             [
              0,
              "#0d0887"
             ],
             [
              0.1111111111111111,
              "#46039f"
             ],
             [
              0.2222222222222222,
              "#7201a8"
             ],
             [
              0.3333333333333333,
              "#9c179e"
             ],
             [
              0.4444444444444444,
              "#bd3786"
             ],
             [
              0.5555555555555556,
              "#d8576b"
             ],
             [
              0.6666666666666666,
              "#ed7953"
             ],
             [
              0.7777777777777778,
              "#fb9f3a"
             ],
             [
              0.8888888888888888,
              "#fdca26"
             ],
             [
              1,
              "#f0f921"
             ]
            ],
            "type": "surface"
           }
          ],
          "table": [
           {
            "cells": {
             "fill": {
              "color": "#EBF0F8"
             },
             "line": {
              "color": "white"
             }
            },
            "header": {
             "fill": {
              "color": "#C8D4E3"
             },
             "line": {
              "color": "white"
             }
            },
            "type": "table"
           }
          ]
         },
         "layout": {
          "annotationdefaults": {
           "arrowcolor": "#2a3f5f",
           "arrowhead": 0,
           "arrowwidth": 1
          },
          "autotypenumbers": "strict",
          "coloraxis": {
           "colorbar": {
            "outlinewidth": 0,
            "ticks": ""
           }
          },
          "colorscale": {
           "diverging": [
            [
             0,
             "#8e0152"
            ],
            [
             0.1,
             "#c51b7d"
            ],
            [
             0.2,
             "#de77ae"
            ],
            [
             0.3,
             "#f1b6da"
            ],
            [
             0.4,
             "#fde0ef"
            ],
            [
             0.5,
             "#f7f7f7"
            ],
            [
             0.6,
             "#e6f5d0"
            ],
            [
             0.7,
             "#b8e186"
            ],
            [
             0.8,
             "#7fbc41"
            ],
            [
             0.9,
             "#4d9221"
            ],
            [
             1,
             "#276419"
            ]
           ],
           "sequential": [
            [
             0,
             "#0d0887"
            ],
            [
             0.1111111111111111,
             "#46039f"
            ],
            [
             0.2222222222222222,
             "#7201a8"
            ],
            [
             0.3333333333333333,
             "#9c179e"
            ],
            [
             0.4444444444444444,
             "#bd3786"
            ],
            [
             0.5555555555555556,
             "#d8576b"
            ],
            [
             0.6666666666666666,
             "#ed7953"
            ],
            [
             0.7777777777777778,
             "#fb9f3a"
            ],
            [
             0.8888888888888888,
             "#fdca26"
            ],
            [
             1,
             "#f0f921"
            ]
           ],
           "sequentialminus": [
            [
             0,
             "#0d0887"
            ],
            [
             0.1111111111111111,
             "#46039f"
            ],
            [
             0.2222222222222222,
             "#7201a8"
            ],
            [
             0.3333333333333333,
             "#9c179e"
            ],
            [
             0.4444444444444444,
             "#bd3786"
            ],
            [
             0.5555555555555556,
             "#d8576b"
            ],
            [
             0.6666666666666666,
             "#ed7953"
            ],
            [
             0.7777777777777778,
             "#fb9f3a"
            ],
            [
             0.8888888888888888,
             "#fdca26"
            ],
            [
             1,
             "#f0f921"
            ]
           ]
          },
          "colorway": [
           "#636efa",
           "#EF553B",
           "#00cc96",
           "#ab63fa",
           "#FFA15A",
           "#19d3f3",
           "#FF6692",
           "#B6E880",
           "#FF97FF",
           "#FECB52"
          ],
          "font": {
           "color": "#2a3f5f"
          },
          "geo": {
           "bgcolor": "white",
           "lakecolor": "white",
           "landcolor": "#E5ECF6",
           "showlakes": true,
           "showland": true,
           "subunitcolor": "white"
          },
          "hoverlabel": {
           "align": "left"
          },
          "hovermode": "closest",
          "mapbox": {
           "style": "light"
          },
          "paper_bgcolor": "white",
          "plot_bgcolor": "#E5ECF6",
          "polar": {
           "angularaxis": {
            "gridcolor": "white",
            "linecolor": "white",
            "ticks": ""
           },
           "bgcolor": "#E5ECF6",
           "radialaxis": {
            "gridcolor": "white",
            "linecolor": "white",
            "ticks": ""
           }
          },
          "scene": {
           "xaxis": {
            "backgroundcolor": "#E5ECF6",
            "gridcolor": "white",
            "gridwidth": 2,
            "linecolor": "white",
            "showbackground": true,
            "ticks": "",
            "zerolinecolor": "white"
           },
           "yaxis": {
            "backgroundcolor": "#E5ECF6",
            "gridcolor": "white",
            "gridwidth": 2,
            "linecolor": "white",
            "showbackground": true,
            "ticks": "",
            "zerolinecolor": "white"
           },
           "zaxis": {
            "backgroundcolor": "#E5ECF6",
            "gridcolor": "white",
            "gridwidth": 2,
            "linecolor": "white",
            "showbackground": true,
            "ticks": "",
            "zerolinecolor": "white"
           }
          },
          "shapedefaults": {
           "line": {
            "color": "#2a3f5f"
           }
          },
          "ternary": {
           "aaxis": {
            "gridcolor": "white",
            "linecolor": "white",
            "ticks": ""
           },
           "baxis": {
            "gridcolor": "white",
            "linecolor": "white",
            "ticks": ""
           },
           "bgcolor": "#E5ECF6",
           "caxis": {
            "gridcolor": "white",
            "linecolor": "white",
            "ticks": ""
           }
          },
          "title": {
           "x": 0.05
          },
          "xaxis": {
           "automargin": true,
           "gridcolor": "white",
           "linecolor": "white",
           "ticks": "",
           "title": {
            "standoff": 15
           },
           "zerolinecolor": "white",
           "zerolinewidth": 2
          },
          "yaxis": {
           "automargin": true,
           "gridcolor": "white",
           "linecolor": "white",
           "ticks": "",
           "title": {
            "standoff": 15
           },
           "zerolinecolor": "white",
           "zerolinewidth": 2
          }
         }
        },
        "xaxis": {
         "anchor": "y",
         "domain": [
          0,
          1
         ],
         "title": {
          "text": "count"
         }
        },
        "yaxis": {
         "anchor": "x",
         "categoryarray": [
          "Architecture",
          "Fine Arts / Arts Administration",
          "Languages",
          "Film",
          "Biology / Chemistry / Physics",
          "English / Creative Writing / Journalism",
          "History / Religion / Philosopy",
          "Medical Science / Pharma / Biotech",
          "Undergrad / Undecided",
          "Other",
          "Social Work",
          "Social Science / Psychology",
          "Education, Academia",
          "Engineering",
          "Business / Economy / Finance",
          "Political Science and International Affairs",
          "Math",
          "Law"
         ],
         "categoryorder": "array",
         "domain": [
          0,
          1
         ],
         "title": {
          "text": "field_name"
         }
        }
       }
      }
     },
     "metadata": {},
     "output_type": "display_data"
    }
   ],
   "source": [
    "fig = px.histogram(df_iid, y=\"field_name\",\n",
    "             color='field_name', opacity = 0.75)\n",
    "fig.show()"
   ]
  },
  {
   "attachments": {},
   "cell_type": "markdown",
   "metadata": {},
   "source": [
    "To have a more general view of the participants in the study, I wanted to: \n",
    "1) Regroup some fields of study chosen by the authors of the experiment into more general categories. I chose to group them according to the system used by the French ONISEP (\"Office national d'information sur les enseignements et les professions\") so that the categores were more understandable for a reader from France.\n",
    "2) For each of the fields that were obtained in this manner, percentage of male and female students was calculated."
   ]
  },
  {
   "cell_type": "code",
   "execution_count": null,
   "metadata": {},
   "outputs": [],
   "source": [
    "df_iid['field_name'] = df_iid[\"field_cd\"].apply(lambda x: \"Law\" if x == 1 \n",
    "                                                    else \"Math\" if x == 2 \n",
    "                                                    else \"Social Science / Psychology\" if x == 3 \n",
    "                                                    else \"Medical Science / Pharma / Biotech\" if x == 4 \n",
    "                                                    else \"Engineering\" if x==5\n",
    "                                                    else \"English / Creative Writing / Journalism\" if x == 6 \n",
    "                                                    else \"History / Religion / Philosopy\" if x == 7 \n",
    "                                                    else \"Business / Economy / Finance\" if x == 8 \n",
    "                                                    else \"Education, Academia\" if x==9\n",
    "                                                    else \"Biology / Chemistry / Physics\" if x==10\n",
    "                                                    else \"Social Work\" if x == 11\n",
    "                                                    else \"Undergrad / Undecided\" if x == 12 \n",
    "                                                    else \"Political Science and International Affairs\" if x == 13 \n",
    "                                                    else \"Film\" if x==14\n",
    "                                                    else \"Fine Arts / Arts Administration\" if x == 15 \n",
    "                                                    else \"Languages\" if x == 16\n",
    "                                                    else \"Architecture\" if x==17 \n",
    "                                                    else \"Other\")"
   ]
  },
  {
   "cell_type": "code",
   "execution_count": null,
   "metadata": {},
   "outputs": [],
   "source": [
    "df_iid['field_name'] = df_iid[\"field_cd\"].apply(lambda x: \"Arts\" if x==14 or x==15\n",
    "                                                    else \"Economy and Management\" if x == \n",
    "                                                    else \"Sciences\" if x==2 or x==5\n",
    "                                                    else \"Medicine, Pharma, Biotech\" if x==4\n",
    "                                                    else \"Education, Academia\" if x==\n",
    "                                                    else \"Law and Political Science\" if x==1 or x==13\n",
    "                                                    else \"Literature and Languages\" if x==6\n",
    "                                                    else \"Social Sciences, Humanities, Psychology\" if x==3 or x==7\n",
    "                                                    else \"Education, Academia\" if x==\n",
    "                                                    else \"Social Work\" if x== \n",
    "                                                    else \"Architecture\" if x==17\n",
    "                                                    else \"Undergrad / Undecided\" if x==12\n",
    "                                                    else \"Other\")"
   ]
  },
  {
   "cell_type": "code",
   "execution_count": null,
   "metadata": {},
   "outputs": [],
   "source": [
    "field_name"
   ]
  },
  {
   "attachments": {},
   "cell_type": "markdown",
   "metadata": {},
   "source": [
    "Income:\n",
    "\n",
    "The authors of the experiment did not ask for income directly but inferred it from the zipcode of the area where the participant grew up. Therefore the income provided in the dataset for each person is in fact the median household income in the area where the person grew up (according to the US Census Bureau data at the time of the experiment).\n"
   ]
  },
  {
   "cell_type": "code",
   "execution_count": null,
   "metadata": {},
   "outputs": [],
   "source": []
  },
  {
   "attachments": {},
   "cell_type": "markdown",
   "metadata": {},
   "source": [
    "Motivation:\n",
    "\n",
    "The authors asked each participant to indicate their goal for participating in the speed dating experiment."
   ]
  },
  {
   "cell_type": "code",
   "execution_count": 18,
   "metadata": {},
   "outputs": [],
   "source": [
    "df_iid['participant_goal'] = df_iid[\"goal\"].apply(lambda x: \"Seemed like a fun night out\" if x == 1 \n",
    "                                                    else \"To meet new people\" if x == 2 \n",
    "                                                    else \"To get a date\" if x == 3 \n",
    "                                                    else \"Looking for a serious relationship\" if x == 4 \n",
    "                                                    else \"To say I did it\" if x==5 \n",
    "                                                    else \"Other\")"
   ]
  },
  {
   "cell_type": "code",
   "execution_count": 40,
   "metadata": {},
   "outputs": [
    {
     "data": {
      "application/vnd.plotly.v1+json": {
       "config": {
        "plotlyServerURL": "https://plot.ly"
       },
       "data": [
        {
         "alignmentgroup": "True",
         "bingroup": "y",
         "histnorm": "percent",
         "hovertemplate": "gender_name=Female<br>percent=%{x}<br>participant_goal=%{y}<extra></extra>",
         "legendgroup": "Female",
         "marker": {
          "color": "#F78FE4",
          "opacity": 0.6,
          "pattern": {
           "shape": ""
          }
         },
         "name": "Female",
         "offsetgroup": "Female",
         "orientation": "h",
         "showlegend": true,
         "type": "histogram",
         "xaxis": "x",
         "y": [
          "To meet new people",
          "Seemed like a fun night out",
          "Other",
          "Seemed like a fun night out",
          "To meet new people",
          "Seemed like a fun night out",
          "Seemed like a fun night out",
          "Seemed like a fun night out",
          "Seemed like a fun night out",
          "To meet new people",
          "Other",
          "Seemed like a fun night out",
          "Seemed like a fun night out",
          "To meet new people",
          "Seemed like a fun night out",
          "Seemed like a fun night out",
          "Seemed like a fun night out",
          "Other",
          "Seemed like a fun night out",
          "Seemed like a fun night out",
          "Seemed like a fun night out",
          "Seemed like a fun night out",
          "Other",
          "Seemed like a fun night out",
          "Seemed like a fun night out",
          "To meet new people",
          "To meet new people",
          "Seemed like a fun night out",
          "To say I did it",
          "Seemed like a fun night out",
          "To get a date",
          "Other",
          "Other",
          "Looking for a serious relationship",
          "Seemed like a fun night out",
          "To meet new people",
          "To get a date",
          "To meet new people",
          "To meet new people",
          "To meet new people",
          "Seemed like a fun night out",
          "To meet new people",
          "To meet new people",
          "Seemed like a fun night out",
          "To say I did it",
          "Seemed like a fun night out",
          "To meet new people",
          "To meet new people",
          "To meet new people",
          "To meet new people",
          "Seemed like a fun night out",
          "Seemed like a fun night out",
          "Seemed like a fun night out",
          "To meet new people",
          "Seemed like a fun night out",
          "To say I did it",
          "Seemed like a fun night out",
          "Seemed like a fun night out",
          "Seemed like a fun night out",
          "To meet new people",
          "Seemed like a fun night out",
          "Seemed like a fun night out",
          "Seemed like a fun night out",
          "Seemed like a fun night out",
          "To say I did it",
          "To say I did it",
          "Seemed like a fun night out",
          "Seemed like a fun night out",
          "Seemed like a fun night out",
          "Seemed like a fun night out",
          "Other",
          "Seemed like a fun night out",
          "To meet new people",
          "Seemed like a fun night out",
          "To meet new people",
          "Looking for a serious relationship",
          "To say I did it",
          "To say I did it",
          "Seemed like a fun night out",
          "Looking for a serious relationship",
          "To get a date",
          "Seemed like a fun night out",
          "To meet new people",
          "Other",
          "To meet new people",
          "To meet new people",
          "Seemed like a fun night out",
          "Looking for a serious relationship",
          "To meet new people",
          "To meet new people",
          "To meet new people",
          "To meet new people",
          "Seemed like a fun night out",
          "Other",
          "Seemed like a fun night out",
          "Seemed like a fun night out",
          "Seemed like a fun night out",
          "To get a date",
          "Seemed like a fun night out",
          "Seemed like a fun night out",
          "Seemed like a fun night out",
          "To meet new people",
          "Looking for a serious relationship",
          "Seemed like a fun night out",
          "Seemed like a fun night out",
          "To meet new people",
          "Other",
          "To get a date",
          "Seemed like a fun night out",
          "Seemed like a fun night out",
          "Seemed like a fun night out",
          "To meet new people",
          "To get a date",
          "To meet new people",
          "To meet new people",
          "Seemed like a fun night out",
          "To meet new people",
          "To get a date",
          "Seemed like a fun night out",
          "To meet new people",
          "To get a date",
          "Seemed like a fun night out",
          "To meet new people",
          "Seemed like a fun night out",
          "To meet new people",
          "To get a date",
          "Seemed like a fun night out",
          "To meet new people",
          "To meet new people",
          "Seemed like a fun night out",
          "To meet new people",
          "To meet new people",
          "Seemed like a fun night out",
          "To meet new people",
          "To meet new people",
          "Seemed like a fun night out",
          "Other",
          "Seemed like a fun night out",
          "Seemed like a fun night out",
          "Looking for a serious relationship",
          "To meet new people",
          "Seemed like a fun night out",
          "To say I did it",
          "To meet new people",
          "To meet new people",
          "To meet new people",
          "To meet new people",
          "Seemed like a fun night out",
          "To meet new people",
          "Seemed like a fun night out",
          "To meet new people",
          "To meet new people",
          "To meet new people",
          "To meet new people",
          "To meet new people",
          "To meet new people",
          "Looking for a serious relationship",
          "Seemed like a fun night out",
          "Seemed like a fun night out",
          "Seemed like a fun night out",
          "To say I did it",
          "To meet new people",
          "To meet new people",
          "Seemed like a fun night out",
          "To meet new people",
          "To meet new people",
          "To meet new people",
          "To meet new people",
          "Other",
          "Seemed like a fun night out",
          "Seemed like a fun night out",
          "Seemed like a fun night out",
          "Seemed like a fun night out",
          "To get a date",
          "To get a date",
          "To meet new people",
          "Other",
          "To say I did it",
          "To meet new people",
          "Seemed like a fun night out",
          "To meet new people",
          "To meet new people",
          "To meet new people",
          "Seemed like a fun night out",
          "Seemed like a fun night out",
          "Seemed like a fun night out",
          "Seemed like a fun night out",
          "Seemed like a fun night out",
          "Seemed like a fun night out",
          "To meet new people",
          "To meet new people",
          "To meet new people",
          "To meet new people",
          "To say I did it",
          "To meet new people",
          "To get a date",
          "To meet new people",
          "To meet new people",
          "To meet new people",
          "To meet new people",
          "To meet new people",
          "To meet new people",
          "Other",
          "Seemed like a fun night out",
          "To say I did it",
          "Seemed like a fun night out",
          "To meet new people",
          "To get a date",
          "To meet new people",
          "Other",
          "Seemed like a fun night out",
          "Other",
          "Looking for a serious relationship",
          "To say I did it",
          "Seemed like a fun night out",
          "Seemed like a fun night out",
          "To meet new people",
          "Looking for a serious relationship",
          "To meet new people",
          "Seemed like a fun night out",
          "Seemed like a fun night out",
          "Seemed like a fun night out",
          "Seemed like a fun night out",
          "Seemed like a fun night out",
          "To meet new people",
          "To meet new people",
          "Seemed like a fun night out",
          "To meet new people",
          "Other",
          "Seemed like a fun night out",
          "Seemed like a fun night out",
          "Other",
          "Other",
          "Seemed like a fun night out",
          "To meet new people",
          "Seemed like a fun night out",
          "To meet new people",
          "To meet new people",
          "To meet new people",
          "Seemed like a fun night out",
          "Seemed like a fun night out",
          "To say I did it",
          "Seemed like a fun night out",
          "Seemed like a fun night out",
          "Seemed like a fun night out",
          "Seemed like a fun night out",
          "Seemed like a fun night out",
          "Seemed like a fun night out",
          "Seemed like a fun night out",
          "To say I did it",
          "Seemed like a fun night out",
          "To say I did it",
          "To meet new people",
          "To meet new people",
          "To meet new people",
          "Seemed like a fun night out",
          "To meet new people",
          "To meet new people",
          "Seemed like a fun night out",
          "To meet new people",
          "To say I did it",
          "To say I did it",
          "To meet new people",
          "Seemed like a fun night out",
          "Seemed like a fun night out",
          "Seemed like a fun night out",
          "To meet new people",
          "To meet new people",
          "To meet new people",
          "Seemed like a fun night out",
          "Seemed like a fun night out",
          "To meet new people",
          "To meet new people",
          "To meet new people"
         ],
         "yaxis": "y"
        },
        {
         "alignmentgroup": "True",
         "bingroup": "y",
         "histnorm": "percent",
         "hovertemplate": "gender_name=Male<br>percent=%{x}<br>participant_goal=%{y}<extra></extra>",
         "legendgroup": "Male",
         "marker": {
          "color": "#1179f0",
          "opacity": 0.6,
          "pattern": {
           "shape": ""
          }
         },
         "name": "Male",
         "offsetgroup": "Male",
         "orientation": "h",
         "showlegend": true,
         "type": "histogram",
         "xaxis": "x",
         "y": [
          "Seemed like a fun night out",
          "Seemed like a fun night out",
          "To meet new people",
          "To meet new people",
          "Seemed like a fun night out",
          "Seemed like a fun night out",
          "To get a date",
          "Seemed like a fun night out",
          "Looking for a serious relationship",
          "Seemed like a fun night out",
          "To meet new people",
          "To meet new people",
          "To meet new people",
          "Other",
          "Seemed like a fun night out",
          "To meet new people",
          "To meet new people",
          "Seemed like a fun night out",
          "Seemed like a fun night out",
          "Seemed like a fun night out",
          "Other",
          "Seemed like a fun night out",
          "Seemed like a fun night out",
          "To meet new people",
          "To say I did it",
          "Other",
          "To meet new people",
          "Other",
          "To say I did it",
          "Other",
          "To say I did it",
          "To say I did it",
          "To say I did it",
          "Other",
          "To say I did it",
          "Other",
          "To meet new people",
          "Seemed like a fun night out",
          "Seemed like a fun night out",
          "To meet new people",
          "Looking for a serious relationship",
          "To get a date",
          "Seemed like a fun night out",
          "To get a date",
          "Seemed like a fun night out",
          "To meet new people",
          "To meet new people",
          "To meet new people",
          "To say I did it",
          "Seemed like a fun night out",
          "Seemed like a fun night out",
          "Seemed like a fun night out",
          "To meet new people",
          "To say I did it",
          "Seemed like a fun night out",
          "To meet new people",
          "To meet new people",
          "Seemed like a fun night out",
          "Looking for a serious relationship",
          "Other",
          "Seemed like a fun night out",
          "To get a date",
          "Seemed like a fun night out",
          "To meet new people",
          "Seemed like a fun night out",
          "Seemed like a fun night out",
          "Seemed like a fun night out",
          "Seemed like a fun night out",
          "Seemed like a fun night out",
          "Looking for a serious relationship",
          "Seemed like a fun night out",
          "To meet new people",
          "To meet new people",
          "To meet new people",
          "Looking for a serious relationship",
          "Seemed like a fun night out",
          "To get a date",
          "To say I did it",
          "To meet new people",
          "Seemed like a fun night out",
          "To meet new people",
          "Seemed like a fun night out",
          "Seemed like a fun night out",
          "Seemed like a fun night out",
          "Seemed like a fun night out",
          "To meet new people",
          "Seemed like a fun night out",
          "Seemed like a fun night out",
          "To meet new people",
          "To meet new people",
          "Seemed like a fun night out",
          "To meet new people",
          "To say I did it",
          "Seemed like a fun night out",
          "Seemed like a fun night out",
          "Seemed like a fun night out",
          "Seemed like a fun night out",
          "To meet new people",
          "To say I did it",
          "Seemed like a fun night out",
          "Seemed like a fun night out",
          "Seemed like a fun night out",
          "To meet new people",
          "To meet new people",
          "To meet new people",
          "Other",
          "Seemed like a fun night out",
          "To meet new people",
          "To meet new people",
          "To get a date",
          "Seemed like a fun night out",
          "To meet new people",
          "Seemed like a fun night out",
          "To meet new people",
          "Seemed like a fun night out",
          "To meet new people",
          "To meet new people",
          "Looking for a serious relationship",
          "Seemed like a fun night out",
          "Seemed like a fun night out",
          "Seemed like a fun night out",
          "To meet new people",
          "Looking for a serious relationship",
          "Other",
          "To meet new people",
          "To get a date",
          "To meet new people",
          "To meet new people",
          "Seemed like a fun night out",
          "Seemed like a fun night out",
          "To get a date",
          "To get a date",
          "Other",
          "Seemed like a fun night out",
          "Seemed like a fun night out",
          "Seemed like a fun night out",
          "Looking for a serious relationship",
          "Seemed like a fun night out",
          "Seemed like a fun night out",
          "Seemed like a fun night out",
          "Seemed like a fun night out",
          "To meet new people",
          "Seemed like a fun night out",
          "Seemed like a fun night out",
          "To meet new people",
          "Seemed like a fun night out",
          "To get a date",
          "Seemed like a fun night out",
          "To meet new people",
          "To meet new people",
          "Seemed like a fun night out",
          "To meet new people",
          "To get a date",
          "To meet new people",
          "Seemed like a fun night out",
          "To meet new people",
          "Other",
          "Looking for a serious relationship",
          "Seemed like a fun night out",
          "To get a date",
          "Seemed like a fun night out",
          "Seemed like a fun night out",
          "Seemed like a fun night out",
          "Seemed like a fun night out",
          "Seemed like a fun night out",
          "Seemed like a fun night out",
          "Other",
          "Other",
          "To meet new people",
          "Seemed like a fun night out",
          "To get a date",
          "To get a date",
          "Seemed like a fun night out",
          "Seemed like a fun night out",
          "To get a date",
          "Seemed like a fun night out",
          "To meet new people",
          "To get a date",
          "To say I did it",
          "To meet new people",
          "To meet new people",
          "To meet new people",
          "Seemed like a fun night out",
          "To meet new people",
          "Seemed like a fun night out",
          "Other",
          "To meet new people",
          "To meet new people",
          "To meet new people",
          "To say I did it",
          "To meet new people",
          "To get a date",
          "To say I did it",
          "To meet new people",
          "Looking for a serious relationship",
          "Seemed like a fun night out",
          "To get a date",
          "To meet new people",
          "To meet new people",
          "Seemed like a fun night out",
          "To get a date",
          "Seemed like a fun night out",
          "Seemed like a fun night out",
          "Other",
          "Seemed like a fun night out",
          "To meet new people",
          "To meet new people",
          "To meet new people",
          "To meet new people",
          "To meet new people",
          "Seemed like a fun night out",
          "To get a date",
          "To meet new people",
          "Seemed like a fun night out",
          "To meet new people",
          "Looking for a serious relationship",
          "To meet new people",
          "To meet new people",
          "To meet new people",
          "Seemed like a fun night out",
          "Seemed like a fun night out",
          "Seemed like a fun night out",
          "Seemed like a fun night out",
          "To meet new people",
          "To meet new people",
          "Seemed like a fun night out",
          "To meet new people",
          "Seemed like a fun night out",
          "Seemed like a fun night out",
          "Looking for a serious relationship",
          "To meet new people",
          "Seemed like a fun night out",
          "Other",
          "To meet new people",
          "To meet new people",
          "Other",
          "Seemed like a fun night out",
          "To meet new people",
          "To get a date",
          "Seemed like a fun night out",
          "To get a date",
          "To get a date",
          "To meet new people",
          "To meet new people",
          "To meet new people",
          "To say I did it",
          "Looking for a serious relationship",
          "To meet new people",
          "Seemed like a fun night out",
          "To say I did it",
          "To meet new people",
          "To get a date",
          "Seemed like a fun night out",
          "To say I did it",
          "To get a date",
          "To meet new people",
          "Seemed like a fun night out",
          "To meet new people",
          "To get a date",
          "Seemed like a fun night out",
          "Seemed like a fun night out",
          "Seemed like a fun night out",
          "Seemed like a fun night out",
          "Seemed like a fun night out",
          "Seemed like a fun night out",
          "To get a date",
          "To meet new people",
          "Seemed like a fun night out",
          "Seemed like a fun night out",
          "Seemed like a fun night out",
          "To meet new people",
          "To meet new people",
          "Seemed like a fun night out",
          "Seemed like a fun night out",
          "To meet new people",
          "Seemed like a fun night out",
          "Seemed like a fun night out"
         ],
         "yaxis": "y"
        }
       ],
       "layout": {
        "barmode": "group",
        "legend": {
         "title": {
          "text": "gender_name"
         },
         "tracegroupgap": 0
        },
        "margin": {
         "t": 60
        },
        "template": {
         "data": {
          "bar": [
           {
            "error_x": {
             "color": "#2a3f5f"
            },
            "error_y": {
             "color": "#2a3f5f"
            },
            "marker": {
             "line": {
              "color": "#E5ECF6",
              "width": 0.5
             },
             "pattern": {
              "fillmode": "overlay",
              "size": 10,
              "solidity": 0.2
             }
            },
            "type": "bar"
           }
          ],
          "barpolar": [
           {
            "marker": {
             "line": {
              "color": "#E5ECF6",
              "width": 0.5
             },
             "pattern": {
              "fillmode": "overlay",
              "size": 10,
              "solidity": 0.2
             }
            },
            "type": "barpolar"
           }
          ],
          "carpet": [
           {
            "aaxis": {
             "endlinecolor": "#2a3f5f",
             "gridcolor": "white",
             "linecolor": "white",
             "minorgridcolor": "white",
             "startlinecolor": "#2a3f5f"
            },
            "baxis": {
             "endlinecolor": "#2a3f5f",
             "gridcolor": "white",
             "linecolor": "white",
             "minorgridcolor": "white",
             "startlinecolor": "#2a3f5f"
            },
            "type": "carpet"
           }
          ],
          "choropleth": [
           {
            "colorbar": {
             "outlinewidth": 0,
             "ticks": ""
            },
            "type": "choropleth"
           }
          ],
          "contour": [
           {
            "colorbar": {
             "outlinewidth": 0,
             "ticks": ""
            },
            "colorscale": [
             [
              0,
              "#0d0887"
             ],
             [
              0.1111111111111111,
              "#46039f"
             ],
             [
              0.2222222222222222,
              "#7201a8"
             ],
             [
              0.3333333333333333,
              "#9c179e"
             ],
             [
              0.4444444444444444,
              "#bd3786"
             ],
             [
              0.5555555555555556,
              "#d8576b"
             ],
             [
              0.6666666666666666,
              "#ed7953"
             ],
             [
              0.7777777777777778,
              "#fb9f3a"
             ],
             [
              0.8888888888888888,
              "#fdca26"
             ],
             [
              1,
              "#f0f921"
             ]
            ],
            "type": "contour"
           }
          ],
          "contourcarpet": [
           {
            "colorbar": {
             "outlinewidth": 0,
             "ticks": ""
            },
            "type": "contourcarpet"
           }
          ],
          "heatmap": [
           {
            "colorbar": {
             "outlinewidth": 0,
             "ticks": ""
            },
            "colorscale": [
             [
              0,
              "#0d0887"
             ],
             [
              0.1111111111111111,
              "#46039f"
             ],
             [
              0.2222222222222222,
              "#7201a8"
             ],
             [
              0.3333333333333333,
              "#9c179e"
             ],
             [
              0.4444444444444444,
              "#bd3786"
             ],
             [
              0.5555555555555556,
              "#d8576b"
             ],
             [
              0.6666666666666666,
              "#ed7953"
             ],
             [
              0.7777777777777778,
              "#fb9f3a"
             ],
             [
              0.8888888888888888,
              "#fdca26"
             ],
             [
              1,
              "#f0f921"
             ]
            ],
            "type": "heatmap"
           }
          ],
          "heatmapgl": [
           {
            "colorbar": {
             "outlinewidth": 0,
             "ticks": ""
            },
            "colorscale": [
             [
              0,
              "#0d0887"
             ],
             [
              0.1111111111111111,
              "#46039f"
             ],
             [
              0.2222222222222222,
              "#7201a8"
             ],
             [
              0.3333333333333333,
              "#9c179e"
             ],
             [
              0.4444444444444444,
              "#bd3786"
             ],
             [
              0.5555555555555556,
              "#d8576b"
             ],
             [
              0.6666666666666666,
              "#ed7953"
             ],
             [
              0.7777777777777778,
              "#fb9f3a"
             ],
             [
              0.8888888888888888,
              "#fdca26"
             ],
             [
              1,
              "#f0f921"
             ]
            ],
            "type": "heatmapgl"
           }
          ],
          "histogram": [
           {
            "marker": {
             "pattern": {
              "fillmode": "overlay",
              "size": 10,
              "solidity": 0.2
             }
            },
            "type": "histogram"
           }
          ],
          "histogram2d": [
           {
            "colorbar": {
             "outlinewidth": 0,
             "ticks": ""
            },
            "colorscale": [
             [
              0,
              "#0d0887"
             ],
             [
              0.1111111111111111,
              "#46039f"
             ],
             [
              0.2222222222222222,
              "#7201a8"
             ],
             [
              0.3333333333333333,
              "#9c179e"
             ],
             [
              0.4444444444444444,
              "#bd3786"
             ],
             [
              0.5555555555555556,
              "#d8576b"
             ],
             [
              0.6666666666666666,
              "#ed7953"
             ],
             [
              0.7777777777777778,
              "#fb9f3a"
             ],
             [
              0.8888888888888888,
              "#fdca26"
             ],
             [
              1,
              "#f0f921"
             ]
            ],
            "type": "histogram2d"
           }
          ],
          "histogram2dcontour": [
           {
            "colorbar": {
             "outlinewidth": 0,
             "ticks": ""
            },
            "colorscale": [
             [
              0,
              "#0d0887"
             ],
             [
              0.1111111111111111,
              "#46039f"
             ],
             [
              0.2222222222222222,
              "#7201a8"
             ],
             [
              0.3333333333333333,
              "#9c179e"
             ],
             [
              0.4444444444444444,
              "#bd3786"
             ],
             [
              0.5555555555555556,
              "#d8576b"
             ],
             [
              0.6666666666666666,
              "#ed7953"
             ],
             [
              0.7777777777777778,
              "#fb9f3a"
             ],
             [
              0.8888888888888888,
              "#fdca26"
             ],
             [
              1,
              "#f0f921"
             ]
            ],
            "type": "histogram2dcontour"
           }
          ],
          "mesh3d": [
           {
            "colorbar": {
             "outlinewidth": 0,
             "ticks": ""
            },
            "type": "mesh3d"
           }
          ],
          "parcoords": [
           {
            "line": {
             "colorbar": {
              "outlinewidth": 0,
              "ticks": ""
             }
            },
            "type": "parcoords"
           }
          ],
          "pie": [
           {
            "automargin": true,
            "type": "pie"
           }
          ],
          "scatter": [
           {
            "fillpattern": {
             "fillmode": "overlay",
             "size": 10,
             "solidity": 0.2
            },
            "type": "scatter"
           }
          ],
          "scatter3d": [
           {
            "line": {
             "colorbar": {
              "outlinewidth": 0,
              "ticks": ""
             }
            },
            "marker": {
             "colorbar": {
              "outlinewidth": 0,
              "ticks": ""
             }
            },
            "type": "scatter3d"
           }
          ],
          "scattercarpet": [
           {
            "marker": {
             "colorbar": {
              "outlinewidth": 0,
              "ticks": ""
             }
            },
            "type": "scattercarpet"
           }
          ],
          "scattergeo": [
           {
            "marker": {
             "colorbar": {
              "outlinewidth": 0,
              "ticks": ""
             }
            },
            "type": "scattergeo"
           }
          ],
          "scattergl": [
           {
            "marker": {
             "colorbar": {
              "outlinewidth": 0,
              "ticks": ""
             }
            },
            "type": "scattergl"
           }
          ],
          "scattermapbox": [
           {
            "marker": {
             "colorbar": {
              "outlinewidth": 0,
              "ticks": ""
             }
            },
            "type": "scattermapbox"
           }
          ],
          "scatterpolar": [
           {
            "marker": {
             "colorbar": {
              "outlinewidth": 0,
              "ticks": ""
             }
            },
            "type": "scatterpolar"
           }
          ],
          "scatterpolargl": [
           {
            "marker": {
             "colorbar": {
              "outlinewidth": 0,
              "ticks": ""
             }
            },
            "type": "scatterpolargl"
           }
          ],
          "scatterternary": [
           {
            "marker": {
             "colorbar": {
              "outlinewidth": 0,
              "ticks": ""
             }
            },
            "type": "scatterternary"
           }
          ],
          "surface": [
           {
            "colorbar": {
             "outlinewidth": 0,
             "ticks": ""
            },
            "colorscale": [
             [
              0,
              "#0d0887"
             ],
             [
              0.1111111111111111,
              "#46039f"
             ],
             [
              0.2222222222222222,
              "#7201a8"
             ],
             [
              0.3333333333333333,
              "#9c179e"
             ],
             [
              0.4444444444444444,
              "#bd3786"
             ],
             [
              0.5555555555555556,
              "#d8576b"
             ],
             [
              0.6666666666666666,
              "#ed7953"
             ],
             [
              0.7777777777777778,
              "#fb9f3a"
             ],
             [
              0.8888888888888888,
              "#fdca26"
             ],
             [
              1,
              "#f0f921"
             ]
            ],
            "type": "surface"
           }
          ],
          "table": [
           {
            "cells": {
             "fill": {
              "color": "#EBF0F8"
             },
             "line": {
              "color": "white"
             }
            },
            "header": {
             "fill": {
              "color": "#C8D4E3"
             },
             "line": {
              "color": "white"
             }
            },
            "type": "table"
           }
          ]
         },
         "layout": {
          "annotationdefaults": {
           "arrowcolor": "#2a3f5f",
           "arrowhead": 0,
           "arrowwidth": 1
          },
          "autotypenumbers": "strict",
          "coloraxis": {
           "colorbar": {
            "outlinewidth": 0,
            "ticks": ""
           }
          },
          "colorscale": {
           "diverging": [
            [
             0,
             "#8e0152"
            ],
            [
             0.1,
             "#c51b7d"
            ],
            [
             0.2,
             "#de77ae"
            ],
            [
             0.3,
             "#f1b6da"
            ],
            [
             0.4,
             "#fde0ef"
            ],
            [
             0.5,
             "#f7f7f7"
            ],
            [
             0.6,
             "#e6f5d0"
            ],
            [
             0.7,
             "#b8e186"
            ],
            [
             0.8,
             "#7fbc41"
            ],
            [
             0.9,
             "#4d9221"
            ],
            [
             1,
             "#276419"
            ]
           ],
           "sequential": [
            [
             0,
             "#0d0887"
            ],
            [
             0.1111111111111111,
             "#46039f"
            ],
            [
             0.2222222222222222,
             "#7201a8"
            ],
            [
             0.3333333333333333,
             "#9c179e"
            ],
            [
             0.4444444444444444,
             "#bd3786"
            ],
            [
             0.5555555555555556,
             "#d8576b"
            ],
            [
             0.6666666666666666,
             "#ed7953"
            ],
            [
             0.7777777777777778,
             "#fb9f3a"
            ],
            [
             0.8888888888888888,
             "#fdca26"
            ],
            [
             1,
             "#f0f921"
            ]
           ],
           "sequentialminus": [
            [
             0,
             "#0d0887"
            ],
            [
             0.1111111111111111,
             "#46039f"
            ],
            [
             0.2222222222222222,
             "#7201a8"
            ],
            [
             0.3333333333333333,
             "#9c179e"
            ],
            [
             0.4444444444444444,
             "#bd3786"
            ],
            [
             0.5555555555555556,
             "#d8576b"
            ],
            [
             0.6666666666666666,
             "#ed7953"
            ],
            [
             0.7777777777777778,
             "#fb9f3a"
            ],
            [
             0.8888888888888888,
             "#fdca26"
            ],
            [
             1,
             "#f0f921"
            ]
           ]
          },
          "colorway": [
           "#636efa",
           "#EF553B",
           "#00cc96",
           "#ab63fa",
           "#FFA15A",
           "#19d3f3",
           "#FF6692",
           "#B6E880",
           "#FF97FF",
           "#FECB52"
          ],
          "font": {
           "color": "#2a3f5f"
          },
          "geo": {
           "bgcolor": "white",
           "lakecolor": "white",
           "landcolor": "#E5ECF6",
           "showlakes": true,
           "showland": true,
           "subunitcolor": "white"
          },
          "hoverlabel": {
           "align": "left"
          },
          "hovermode": "closest",
          "mapbox": {
           "style": "light"
          },
          "paper_bgcolor": "white",
          "plot_bgcolor": "#E5ECF6",
          "polar": {
           "angularaxis": {
            "gridcolor": "white",
            "linecolor": "white",
            "ticks": ""
           },
           "bgcolor": "#E5ECF6",
           "radialaxis": {
            "gridcolor": "white",
            "linecolor": "white",
            "ticks": ""
           }
          },
          "scene": {
           "xaxis": {
            "backgroundcolor": "#E5ECF6",
            "gridcolor": "white",
            "gridwidth": 2,
            "linecolor": "white",
            "showbackground": true,
            "ticks": "",
            "zerolinecolor": "white"
           },
           "yaxis": {
            "backgroundcolor": "#E5ECF6",
            "gridcolor": "white",
            "gridwidth": 2,
            "linecolor": "white",
            "showbackground": true,
            "ticks": "",
            "zerolinecolor": "white"
           },
           "zaxis": {
            "backgroundcolor": "#E5ECF6",
            "gridcolor": "white",
            "gridwidth": 2,
            "linecolor": "white",
            "showbackground": true,
            "ticks": "",
            "zerolinecolor": "white"
           }
          },
          "shapedefaults": {
           "line": {
            "color": "#2a3f5f"
           }
          },
          "ternary": {
           "aaxis": {
            "gridcolor": "white",
            "linecolor": "white",
            "ticks": ""
           },
           "baxis": {
            "gridcolor": "white",
            "linecolor": "white",
            "ticks": ""
           },
           "bgcolor": "#E5ECF6",
           "caxis": {
            "gridcolor": "white",
            "linecolor": "white",
            "ticks": ""
           }
          },
          "title": {
           "x": 0.05
          },
          "xaxis": {
           "automargin": true,
           "gridcolor": "white",
           "linecolor": "white",
           "ticks": "",
           "title": {
            "standoff": 15
           },
           "zerolinecolor": "white",
           "zerolinewidth": 2
          },
          "yaxis": {
           "automargin": true,
           "gridcolor": "white",
           "linecolor": "white",
           "ticks": "",
           "title": {
            "standoff": 15
           },
           "zerolinecolor": "white",
           "zerolinewidth": 2
          }
         }
        },
        "xaxis": {
         "anchor": "y",
         "domain": [
          0,
          1
         ],
         "title": {
          "text": "percent"
         }
        },
        "yaxis": {
         "anchor": "x",
         "domain": [
          0,
          1
         ],
         "title": {
          "text": "participant_goal"
         }
        }
       }
      }
     },
     "metadata": {},
     "output_type": "display_data"
    }
   ],
   "source": [
    "import plotly.express as px\n",
    "fig = px.histogram(df_iid, y=\"participant_goal\",\n",
    "             color='gender_name', barmode='group', color_discrete_sequence=[\"#F78FE4\", \"#1179f0\"], opacity=0.60, histnorm = 'percent')\n",
    "fig.show()"
   ]
  },
  {
   "cell_type": "code",
   "execution_count": null,
   "metadata": {},
   "outputs": [],
   "source": [
    "fig = px.histogram(df_iid, y=\"participant_goal\",\n",
    "             color='gender_name', barmode='group', color_discrete_sequence=[\"#F78FE4\", \"#1179f0\"], opacity=0.60, histnorm = 'percent')\n",
    "fig.show()"
   ]
  },
  {
   "attachments": {},
   "cell_type": "markdown",
   "metadata": {},
   "source": [
    "Percent successful matches:"
   ]
  },
  {
   "cell_type": "code",
   "execution_count": 22,
   "metadata": {},
   "outputs": [],
   "source": [
    "df_match=df[[\"iid\", \"pid\", \"match\"]]"
   ]
  },
  {
   "cell_type": "code",
   "execution_count": 23,
   "metadata": {},
   "outputs": [
    {
     "data": {
      "text/plain": [
       "array([[  0.,   1.,  11.],\n",
       "       [  0.,   1.,  12.],\n",
       "       [  1.,   1.,  13.],\n",
       "       ...,\n",
       "       [  0., 528., 552.],\n",
       "       [  0., 529., 552.],\n",
       "       [  0., 530., 552.]])"
      ]
     },
     "execution_count": 23,
     "metadata": {},
     "output_type": "execute_result"
    }
   ],
   "source": [
    "np.sort(df_match.iloc[:, :3], axis = 1)"
   ]
  },
  {
   "cell_type": "code",
   "execution_count": 24,
   "metadata": {},
   "outputs": [
    {
     "data": {
      "text/plain": [
       "8378"
      ]
     },
     "execution_count": 24,
     "metadata": {},
     "output_type": "execute_result"
    }
   ],
   "source": [
    "len(np.sort(df_match.iloc[:, :3]))"
   ]
  },
  {
   "cell_type": "code",
   "execution_count": 25,
   "metadata": {},
   "outputs": [],
   "source": [
    "#np.sort(df_match.iloc[:, :2])"
   ]
  },
  {
   "cell_type": "code",
   "execution_count": 26,
   "metadata": {},
   "outputs": [
    {
     "data": {
      "text/plain": [
       "8378"
      ]
     },
     "execution_count": 26,
     "metadata": {},
     "output_type": "execute_result"
    }
   ],
   "source": [
    "len(df_match)"
   ]
  },
  {
   "cell_type": "code",
   "execution_count": 27,
   "metadata": {},
   "outputs": [
    {
     "data": {
      "text/html": [
       "<div>\n",
       "<style scoped>\n",
       "    .dataframe tbody tr th:only-of-type {\n",
       "        vertical-align: middle;\n",
       "    }\n",
       "\n",
       "    .dataframe tbody tr th {\n",
       "        vertical-align: top;\n",
       "    }\n",
       "\n",
       "    .dataframe thead th {\n",
       "        text-align: right;\n",
       "    }\n",
       "</style>\n",
       "<table border=\"1\" class=\"dataframe\">\n",
       "  <thead>\n",
       "    <tr style=\"text-align: right;\">\n",
       "      <th></th>\n",
       "      <th>0</th>\n",
       "      <th>1</th>\n",
       "      <th>2</th>\n",
       "    </tr>\n",
       "  </thead>\n",
       "  <tbody>\n",
       "    <tr>\n",
       "      <th>8373</th>\n",
       "      <td>0.0</td>\n",
       "      <td>526.0</td>\n",
       "      <td>552.0</td>\n",
       "    </tr>\n",
       "    <tr>\n",
       "      <th>8374</th>\n",
       "      <td>0.0</td>\n",
       "      <td>527.0</td>\n",
       "      <td>552.0</td>\n",
       "    </tr>\n",
       "    <tr>\n",
       "      <th>8375</th>\n",
       "      <td>0.0</td>\n",
       "      <td>528.0</td>\n",
       "      <td>552.0</td>\n",
       "    </tr>\n",
       "    <tr>\n",
       "      <th>8376</th>\n",
       "      <td>0.0</td>\n",
       "      <td>529.0</td>\n",
       "      <td>552.0</td>\n",
       "    </tr>\n",
       "    <tr>\n",
       "      <th>8377</th>\n",
       "      <td>0.0</td>\n",
       "      <td>530.0</td>\n",
       "      <td>552.0</td>\n",
       "    </tr>\n",
       "  </tbody>\n",
       "</table>\n",
       "</div>"
      ],
      "text/plain": [
       "        0      1      2\n",
       "8373  0.0  526.0  552.0\n",
       "8374  0.0  527.0  552.0\n",
       "8375  0.0  528.0  552.0\n",
       "8376  0.0  529.0  552.0\n",
       "8377  0.0  530.0  552.0"
      ]
     },
     "execution_count": 27,
     "metadata": {},
     "output_type": "execute_result"
    }
   ],
   "source": [
    "pd.DataFrame(np.sort(df_match.iloc[:, :3])).tail()"
   ]
  },
  {
   "cell_type": "code",
   "execution_count": 28,
   "metadata": {},
   "outputs": [],
   "source": [
    "df_match = df_match.loc[~pd.DataFrame(np.sort(df_match.iloc[:, :3])).duplicated()]\n",
    "#df_match.reset_index(inplace=True)"
   ]
  },
  {
   "cell_type": "code",
   "execution_count": 29,
   "metadata": {},
   "outputs": [
    {
     "data": {
      "text/plain": [
       "4194"
      ]
     },
     "execution_count": 29,
     "metadata": {},
     "output_type": "execute_result"
    }
   ],
   "source": [
    "len(df_match)"
   ]
  },
  {
   "cell_type": "code",
   "execution_count": 30,
   "metadata": {},
   "outputs": [],
   "source": [
    "df_match.reset_index(drop=True, inplace=True)"
   ]
  },
  {
   "cell_type": "code",
   "execution_count": 31,
   "metadata": {},
   "outputs": [
    {
     "data": {
      "text/plain": [
       "4194"
      ]
     },
     "execution_count": 31,
     "metadata": {},
     "output_type": "execute_result"
    }
   ],
   "source": [
    "len(df_match)"
   ]
  },
  {
   "cell_type": "code",
   "execution_count": 32,
   "metadata": {},
   "outputs": [
    {
     "data": {
      "text/html": [
       "<div>\n",
       "<style scoped>\n",
       "    .dataframe tbody tr th:only-of-type {\n",
       "        vertical-align: middle;\n",
       "    }\n",
       "\n",
       "    .dataframe tbody tr th {\n",
       "        vertical-align: top;\n",
       "    }\n",
       "\n",
       "    .dataframe thead th {\n",
       "        text-align: right;\n",
       "    }\n",
       "</style>\n",
       "<table border=\"1\" class=\"dataframe\">\n",
       "  <thead>\n",
       "    <tr style=\"text-align: right;\">\n",
       "      <th></th>\n",
       "      <th>iid</th>\n",
       "      <th>pid</th>\n",
       "      <th>match</th>\n",
       "    </tr>\n",
       "  </thead>\n",
       "  <tbody>\n",
       "    <tr>\n",
       "      <th>0</th>\n",
       "      <td>1</td>\n",
       "      <td>11.0</td>\n",
       "      <td>0</td>\n",
       "    </tr>\n",
       "    <tr>\n",
       "      <th>1</th>\n",
       "      <td>1</td>\n",
       "      <td>12.0</td>\n",
       "      <td>0</td>\n",
       "    </tr>\n",
       "    <tr>\n",
       "      <th>2</th>\n",
       "      <td>1</td>\n",
       "      <td>13.0</td>\n",
       "      <td>1</td>\n",
       "    </tr>\n",
       "    <tr>\n",
       "      <th>3</th>\n",
       "      <td>1</td>\n",
       "      <td>14.0</td>\n",
       "      <td>1</td>\n",
       "    </tr>\n",
       "    <tr>\n",
       "      <th>4</th>\n",
       "      <td>1</td>\n",
       "      <td>15.0</td>\n",
       "      <td>1</td>\n",
       "    </tr>\n",
       "  </tbody>\n",
       "</table>\n",
       "</div>"
      ],
      "text/plain": [
       "   iid   pid  match\n",
       "0    1  11.0      0\n",
       "1    1  12.0      0\n",
       "2    1  13.0      1\n",
       "3    1  14.0      1\n",
       "4    1  15.0      1"
      ]
     },
     "execution_count": 32,
     "metadata": {},
     "output_type": "execute_result"
    }
   ],
   "source": [
    "df_match.head()"
   ]
  },
  {
   "cell_type": "code",
   "execution_count": 33,
   "metadata": {},
   "outputs": [
    {
     "data": {
      "text/html": [
       "<div>\n",
       "<style scoped>\n",
       "    .dataframe tbody tr th:only-of-type {\n",
       "        vertical-align: middle;\n",
       "    }\n",
       "\n",
       "    .dataframe tbody tr th {\n",
       "        vertical-align: top;\n",
       "    }\n",
       "\n",
       "    .dataframe thead th {\n",
       "        text-align: right;\n",
       "    }\n",
       "</style>\n",
       "<table border=\"1\" class=\"dataframe\">\n",
       "  <thead>\n",
       "    <tr style=\"text-align: right;\">\n",
       "      <th></th>\n",
       "      <th>iid</th>\n",
       "      <th>pid</th>\n",
       "      <th>match</th>\n",
       "    </tr>\n",
       "  </thead>\n",
       "  <tbody>\n",
       "    <tr>\n",
       "      <th>4189</th>\n",
       "      <td>530</td>\n",
       "      <td>548.0</td>\n",
       "      <td>0</td>\n",
       "    </tr>\n",
       "    <tr>\n",
       "      <th>4190</th>\n",
       "      <td>530</td>\n",
       "      <td>549.0</td>\n",
       "      <td>0</td>\n",
       "    </tr>\n",
       "    <tr>\n",
       "      <th>4191</th>\n",
       "      <td>530</td>\n",
       "      <td>550.0</td>\n",
       "      <td>0</td>\n",
       "    </tr>\n",
       "    <tr>\n",
       "      <th>4192</th>\n",
       "      <td>530</td>\n",
       "      <td>551.0</td>\n",
       "      <td>0</td>\n",
       "    </tr>\n",
       "    <tr>\n",
       "      <th>4193</th>\n",
       "      <td>530</td>\n",
       "      <td>552.0</td>\n",
       "      <td>0</td>\n",
       "    </tr>\n",
       "  </tbody>\n",
       "</table>\n",
       "</div>"
      ],
      "text/plain": [
       "      iid    pid  match\n",
       "4189  530  548.0      0\n",
       "4190  530  549.0      0\n",
       "4191  530  550.0      0\n",
       "4192  530  551.0      0\n",
       "4193  530  552.0      0"
      ]
     },
     "execution_count": 33,
     "metadata": {},
     "output_type": "execute_result"
    }
   ],
   "source": [
    "df_match.tail()"
   ]
  },
  {
   "cell_type": "code",
   "execution_count": 43,
   "metadata": {},
   "outputs": [
    {
     "data": {
      "text/plain": [
       "array([0, 1], dtype=int64)"
      ]
     },
     "execution_count": 43,
     "metadata": {},
     "output_type": "execute_result"
    }
   ],
   "source": [
    "df_match[\"match\"].unique()"
   ]
  },
  {
   "cell_type": "code",
   "execution_count": 44,
   "metadata": {},
   "outputs": [],
   "source": [
    "df_match[\"match\"] = df_match[\"match\"].apply(lambda x: \"Yes\" if x ==1 else \"No\")"
   ]
  },
  {
   "cell_type": "code",
   "execution_count": 46,
   "metadata": {},
   "outputs": [
    {
     "data": {
      "text/html": [
       "<div>\n",
       "<style scoped>\n",
       "    .dataframe tbody tr th:only-of-type {\n",
       "        vertical-align: middle;\n",
       "    }\n",
       "\n",
       "    .dataframe tbody tr th {\n",
       "        vertical-align: top;\n",
       "    }\n",
       "\n",
       "    .dataframe thead th {\n",
       "        text-align: right;\n",
       "    }\n",
       "</style>\n",
       "<table border=\"1\" class=\"dataframe\">\n",
       "  <thead>\n",
       "    <tr style=\"text-align: right;\">\n",
       "      <th></th>\n",
       "      <th>iid</th>\n",
       "      <th>pid</th>\n",
       "      <th>match</th>\n",
       "    </tr>\n",
       "  </thead>\n",
       "  <tbody>\n",
       "    <tr>\n",
       "      <th>0</th>\n",
       "      <td>1</td>\n",
       "      <td>11.0</td>\n",
       "      <td>No</td>\n",
       "    </tr>\n",
       "    <tr>\n",
       "      <th>1</th>\n",
       "      <td>1</td>\n",
       "      <td>12.0</td>\n",
       "      <td>No</td>\n",
       "    </tr>\n",
       "    <tr>\n",
       "      <th>2</th>\n",
       "      <td>1</td>\n",
       "      <td>13.0</td>\n",
       "      <td>Yes</td>\n",
       "    </tr>\n",
       "    <tr>\n",
       "      <th>3</th>\n",
       "      <td>1</td>\n",
       "      <td>14.0</td>\n",
       "      <td>Yes</td>\n",
       "    </tr>\n",
       "    <tr>\n",
       "      <th>4</th>\n",
       "      <td>1</td>\n",
       "      <td>15.0</td>\n",
       "      <td>Yes</td>\n",
       "    </tr>\n",
       "    <tr>\n",
       "      <th>5</th>\n",
       "      <td>1</td>\n",
       "      <td>16.0</td>\n",
       "      <td>No</td>\n",
       "    </tr>\n",
       "    <tr>\n",
       "      <th>6</th>\n",
       "      <td>1</td>\n",
       "      <td>17.0</td>\n",
       "      <td>No</td>\n",
       "    </tr>\n",
       "    <tr>\n",
       "      <th>7</th>\n",
       "      <td>1</td>\n",
       "      <td>18.0</td>\n",
       "      <td>No</td>\n",
       "    </tr>\n",
       "    <tr>\n",
       "      <th>8</th>\n",
       "      <td>1</td>\n",
       "      <td>19.0</td>\n",
       "      <td>Yes</td>\n",
       "    </tr>\n",
       "    <tr>\n",
       "      <th>9</th>\n",
       "      <td>1</td>\n",
       "      <td>20.0</td>\n",
       "      <td>No</td>\n",
       "    </tr>\n",
       "  </tbody>\n",
       "</table>\n",
       "</div>"
      ],
      "text/plain": [
       "   iid   pid match\n",
       "0    1  11.0    No\n",
       "1    1  12.0    No\n",
       "2    1  13.0   Yes\n",
       "3    1  14.0   Yes\n",
       "4    1  15.0   Yes\n",
       "5    1  16.0    No\n",
       "6    1  17.0    No\n",
       "7    1  18.0    No\n",
       "8    1  19.0   Yes\n",
       "9    1  20.0    No"
      ]
     },
     "execution_count": 46,
     "metadata": {},
     "output_type": "execute_result"
    }
   ],
   "source": [
    "df_match.head(10)"
   ]
  },
  {
   "cell_type": "code",
   "execution_count": 45,
   "metadata": {},
   "outputs": [
    {
     "data": {
      "text/html": [
       "<div>\n",
       "<style scoped>\n",
       "    .dataframe tbody tr th:only-of-type {\n",
       "        vertical-align: middle;\n",
       "    }\n",
       "\n",
       "    .dataframe tbody tr th {\n",
       "        vertical-align: top;\n",
       "    }\n",
       "\n",
       "    .dataframe thead th {\n",
       "        text-align: right;\n",
       "    }\n",
       "</style>\n",
       "<table border=\"1\" class=\"dataframe\">\n",
       "  <thead>\n",
       "    <tr style=\"text-align: right;\">\n",
       "      <th></th>\n",
       "      <th>iid</th>\n",
       "      <th>pid</th>\n",
       "      <th>match</th>\n",
       "    </tr>\n",
       "  </thead>\n",
       "  <tbody>\n",
       "    <tr>\n",
       "      <th>4189</th>\n",
       "      <td>530</td>\n",
       "      <td>548.0</td>\n",
       "      <td>No</td>\n",
       "    </tr>\n",
       "    <tr>\n",
       "      <th>4190</th>\n",
       "      <td>530</td>\n",
       "      <td>549.0</td>\n",
       "      <td>No</td>\n",
       "    </tr>\n",
       "    <tr>\n",
       "      <th>4191</th>\n",
       "      <td>530</td>\n",
       "      <td>550.0</td>\n",
       "      <td>No</td>\n",
       "    </tr>\n",
       "    <tr>\n",
       "      <th>4192</th>\n",
       "      <td>530</td>\n",
       "      <td>551.0</td>\n",
       "      <td>No</td>\n",
       "    </tr>\n",
       "    <tr>\n",
       "      <th>4193</th>\n",
       "      <td>530</td>\n",
       "      <td>552.0</td>\n",
       "      <td>No</td>\n",
       "    </tr>\n",
       "  </tbody>\n",
       "</table>\n",
       "</div>"
      ],
      "text/plain": [
       "      iid    pid match\n",
       "4189  530  548.0    No\n",
       "4190  530  549.0    No\n",
       "4191  530  550.0    No\n",
       "4192  530  551.0    No\n",
       "4193  530  552.0    No"
      ]
     },
     "execution_count": 45,
     "metadata": {},
     "output_type": "execute_result"
    }
   ],
   "source": [
    "df_match.tail()"
   ]
  },
  {
   "cell_type": "code",
   "execution_count": 41,
   "metadata": {},
   "outputs": [
    {
     "data": {
      "application/vnd.plotly.v1+json": {
       "config": {
        "plotlyServerURL": "https://plot.ly"
       },
       "data": [
        {
         "domain": {
          "x": [
           0,
           1
          ],
          "y": [
           0,
           1
          ]
         },
         "hovertemplate": "day=%{label}<br>tip=%{value}<extra></extra>",
         "labels": [
          "Sun",
          "Sun",
          "Sun",
          "Sun",
          "Sun",
          "Sun",
          "Sun",
          "Sun",
          "Sun",
          "Sun",
          "Sun",
          "Sun",
          "Sun",
          "Sun",
          "Sun",
          "Sun",
          "Sun",
          "Sun",
          "Sun",
          "Sat",
          "Sat",
          "Sat",
          "Sat",
          "Sat",
          "Sat",
          "Sat",
          "Sat",
          "Sat",
          "Sat",
          "Sat",
          "Sat",
          "Sat",
          "Sat",
          "Sat",
          "Sat",
          "Sat",
          "Sat",
          "Sat",
          "Sat",
          "Sat",
          "Sat",
          "Sun",
          "Sun",
          "Sun",
          "Sun",
          "Sun",
          "Sun",
          "Sun",
          "Sun",
          "Sun",
          "Sun",
          "Sun",
          "Sun",
          "Sun",
          "Sun",
          "Sun",
          "Sat",
          "Sat",
          "Sat",
          "Sat",
          "Sat",
          "Sat",
          "Sat",
          "Sat",
          "Sat",
          "Sat",
          "Sat",
          "Sat",
          "Sat",
          "Sat",
          "Sat",
          "Sat",
          "Sat",
          "Sat",
          "Sat",
          "Sat",
          "Sat",
          "Thur",
          "Thur",
          "Thur",
          "Thur",
          "Thur",
          "Thur",
          "Thur",
          "Thur",
          "Thur",
          "Thur",
          "Thur",
          "Thur",
          "Thur",
          "Fri",
          "Fri",
          "Fri",
          "Fri",
          "Fri",
          "Fri",
          "Fri",
          "Fri",
          "Fri",
          "Fri",
          "Fri",
          "Fri",
          "Sat",
          "Sat",
          "Sat",
          "Sat",
          "Sat",
          "Sat",
          "Sat",
          "Sat",
          "Sat",
          "Sat",
          "Sun",
          "Sun",
          "Sun",
          "Sun",
          "Sun",
          "Thur",
          "Thur",
          "Thur",
          "Thur",
          "Thur",
          "Thur",
          "Thur",
          "Thur",
          "Thur",
          "Thur",
          "Thur",
          "Thur",
          "Thur",
          "Thur",
          "Thur",
          "Thur",
          "Thur",
          "Thur",
          "Thur",
          "Thur",
          "Thur",
          "Thur",
          "Thur",
          "Thur",
          "Thur",
          "Thur",
          "Thur",
          "Thur",
          "Thur",
          "Thur",
          "Thur",
          "Thur",
          "Thur",
          "Sun",
          "Sun",
          "Sun",
          "Sun",
          "Sun",
          "Sun",
          "Sun",
          "Sun",
          "Sun",
          "Sun",
          "Sun",
          "Sun",
          "Sun",
          "Sun",
          "Sun",
          "Sun",
          "Sun",
          "Sun",
          "Sat",
          "Sat",
          "Sat",
          "Sat",
          "Sun",
          "Sun",
          "Sun",
          "Sun",
          "Sun",
          "Sun",
          "Sun",
          "Sun",
          "Sun",
          "Sun",
          "Sun",
          "Sun",
          "Sun",
          "Sun",
          "Sun",
          "Sun",
          "Sun",
          "Sun",
          "Sun",
          "Thur",
          "Thur",
          "Thur",
          "Thur",
          "Thur",
          "Thur",
          "Thur",
          "Thur",
          "Thur",
          "Thur",
          "Thur",
          "Thur",
          "Thur",
          "Thur",
          "Thur",
          "Sat",
          "Sat",
          "Sat",
          "Sat",
          "Sat",
          "Sat",
          "Sat",
          "Sat",
          "Sat",
          "Sat",
          "Sat",
          "Sat",
          "Sat",
          "Sat",
          "Fri",
          "Fri",
          "Fri",
          "Fri",
          "Fri",
          "Fri",
          "Fri",
          "Sat",
          "Sat",
          "Sat",
          "Sat",
          "Sat",
          "Sat",
          "Sat",
          "Sat",
          "Sat",
          "Sat",
          "Sat",
          "Sat",
          "Sat",
          "Sat",
          "Sat",
          "Sat",
          "Thur"
         ],
         "legendgroup": "",
         "name": "",
         "showlegend": true,
         "type": "pie",
         "values": [
          1.01,
          1.66,
          3.5,
          3.31,
          3.61,
          4.71,
          2,
          3.12,
          1.96,
          3.23,
          1.71,
          5,
          1.57,
          3,
          3.02,
          3.92,
          1.67,
          3.71,
          3.5,
          3.35,
          4.08,
          2.75,
          2.23,
          7.58,
          3.18,
          2.34,
          2,
          2,
          4.3,
          3,
          1.45,
          2.5,
          3,
          2.45,
          3.27,
          3.6,
          2,
          3.07,
          2.31,
          5,
          2.24,
          2.54,
          3.06,
          1.32,
          5.6,
          3,
          5,
          6,
          2.05,
          3,
          2.5,
          2.6,
          5.2,
          1.56,
          4.34,
          3.51,
          3,
          1.5,
          1.76,
          6.73,
          3.21,
          2,
          1.98,
          3.76,
          2.64,
          3.15,
          2.47,
          1,
          2.01,
          2.09,
          1.97,
          3,
          3.14,
          5,
          2.2,
          1.25,
          3.08,
          4,
          3,
          2.71,
          3,
          3.4,
          1.83,
          5,
          2.03,
          5.17,
          2,
          4,
          5.85,
          3,
          3,
          3.5,
          1,
          4.3,
          3.25,
          4.73,
          4,
          1.5,
          3,
          1.5,
          2.5,
          3,
          2.5,
          3.48,
          4.08,
          1.64,
          4.06,
          4.29,
          3.76,
          4,
          3,
          1,
          4,
          2.55,
          4,
          3.5,
          5.07,
          1.5,
          1.8,
          2.92,
          2.31,
          1.68,
          2.5,
          2,
          2.52,
          4.2,
          1.48,
          2,
          2,
          2.18,
          1.5,
          2.83,
          1.5,
          2,
          3.25,
          1.25,
          2,
          2,
          2,
          2.75,
          3.5,
          6.7,
          5,
          5,
          2.3,
          1.5,
          1.36,
          1.63,
          1.73,
          2,
          2.5,
          2,
          2.74,
          2,
          2,
          5.14,
          5,
          3.75,
          2.61,
          2,
          3.5,
          2.5,
          2,
          2,
          3,
          3.48,
          2.24,
          4.5,
          1.61,
          2,
          10,
          3.16,
          5.15,
          3.18,
          4,
          3.11,
          2,
          2,
          4,
          3.55,
          3.68,
          5.65,
          3.5,
          6.5,
          3,
          5,
          3.5,
          2,
          3.5,
          4,
          1.5,
          4.19,
          2.56,
          2.02,
          4,
          1.44,
          2,
          5,
          2,
          2,
          4,
          2.01,
          2,
          2.5,
          4,
          3.23,
          3.41,
          3,
          2.03,
          2.23,
          2,
          5.16,
          9,
          2.5,
          6.5,
          1.1,
          3,
          1.5,
          1.44,
          3.09,
          2.2,
          3.48,
          1.92,
          3,
          1.58,
          2.5,
          2,
          3,
          2.72,
          2.88,
          2,
          3,
          3.39,
          1.47,
          3,
          1.25,
          1,
          1.17,
          4.67,
          5.92,
          2,
          2,
          1.75,
          3
         ]
        }
       ],
       "layout": {
        "legend": {
         "tracegroupgap": 0
        },
        "margin": {
         "t": 60
        },
        "template": {
         "data": {
          "bar": [
           {
            "error_x": {
             "color": "#2a3f5f"
            },
            "error_y": {
             "color": "#2a3f5f"
            },
            "marker": {
             "line": {
              "color": "#E5ECF6",
              "width": 0.5
             },
             "pattern": {
              "fillmode": "overlay",
              "size": 10,
              "solidity": 0.2
             }
            },
            "type": "bar"
           }
          ],
          "barpolar": [
           {
            "marker": {
             "line": {
              "color": "#E5ECF6",
              "width": 0.5
             },
             "pattern": {
              "fillmode": "overlay",
              "size": 10,
              "solidity": 0.2
             }
            },
            "type": "barpolar"
           }
          ],
          "carpet": [
           {
            "aaxis": {
             "endlinecolor": "#2a3f5f",
             "gridcolor": "white",
             "linecolor": "white",
             "minorgridcolor": "white",
             "startlinecolor": "#2a3f5f"
            },
            "baxis": {
             "endlinecolor": "#2a3f5f",
             "gridcolor": "white",
             "linecolor": "white",
             "minorgridcolor": "white",
             "startlinecolor": "#2a3f5f"
            },
            "type": "carpet"
           }
          ],
          "choropleth": [
           {
            "colorbar": {
             "outlinewidth": 0,
             "ticks": ""
            },
            "type": "choropleth"
           }
          ],
          "contour": [
           {
            "colorbar": {
             "outlinewidth": 0,
             "ticks": ""
            },
            "colorscale": [
             [
              0,
              "#0d0887"
             ],
             [
              0.1111111111111111,
              "#46039f"
             ],
             [
              0.2222222222222222,
              "#7201a8"
             ],
             [
              0.3333333333333333,
              "#9c179e"
             ],
             [
              0.4444444444444444,
              "#bd3786"
             ],
             [
              0.5555555555555556,
              "#d8576b"
             ],
             [
              0.6666666666666666,
              "#ed7953"
             ],
             [
              0.7777777777777778,
              "#fb9f3a"
             ],
             [
              0.8888888888888888,
              "#fdca26"
             ],
             [
              1,
              "#f0f921"
             ]
            ],
            "type": "contour"
           }
          ],
          "contourcarpet": [
           {
            "colorbar": {
             "outlinewidth": 0,
             "ticks": ""
            },
            "type": "contourcarpet"
           }
          ],
          "heatmap": [
           {
            "colorbar": {
             "outlinewidth": 0,
             "ticks": ""
            },
            "colorscale": [
             [
              0,
              "#0d0887"
             ],
             [
              0.1111111111111111,
              "#46039f"
             ],
             [
              0.2222222222222222,
              "#7201a8"
             ],
             [
              0.3333333333333333,
              "#9c179e"
             ],
             [
              0.4444444444444444,
              "#bd3786"
             ],
             [
              0.5555555555555556,
              "#d8576b"
             ],
             [
              0.6666666666666666,
              "#ed7953"
             ],
             [
              0.7777777777777778,
              "#fb9f3a"
             ],
             [
              0.8888888888888888,
              "#fdca26"
             ],
             [
              1,
              "#f0f921"
             ]
            ],
            "type": "heatmap"
           }
          ],
          "heatmapgl": [
           {
            "colorbar": {
             "outlinewidth": 0,
             "ticks": ""
            },
            "colorscale": [
             [
              0,
              "#0d0887"
             ],
             [
              0.1111111111111111,
              "#46039f"
             ],
             [
              0.2222222222222222,
              "#7201a8"
             ],
             [
              0.3333333333333333,
              "#9c179e"
             ],
             [
              0.4444444444444444,
              "#bd3786"
             ],
             [
              0.5555555555555556,
              "#d8576b"
             ],
             [
              0.6666666666666666,
              "#ed7953"
             ],
             [
              0.7777777777777778,
              "#fb9f3a"
             ],
             [
              0.8888888888888888,
              "#fdca26"
             ],
             [
              1,
              "#f0f921"
             ]
            ],
            "type": "heatmapgl"
           }
          ],
          "histogram": [
           {
            "marker": {
             "pattern": {
              "fillmode": "overlay",
              "size": 10,
              "solidity": 0.2
             }
            },
            "type": "histogram"
           }
          ],
          "histogram2d": [
           {
            "colorbar": {
             "outlinewidth": 0,
             "ticks": ""
            },
            "colorscale": [
             [
              0,
              "#0d0887"
             ],
             [
              0.1111111111111111,
              "#46039f"
             ],
             [
              0.2222222222222222,
              "#7201a8"
             ],
             [
              0.3333333333333333,
              "#9c179e"
             ],
             [
              0.4444444444444444,
              "#bd3786"
             ],
             [
              0.5555555555555556,
              "#d8576b"
             ],
             [
              0.6666666666666666,
              "#ed7953"
             ],
             [
              0.7777777777777778,
              "#fb9f3a"
             ],
             [
              0.8888888888888888,
              "#fdca26"
             ],
             [
              1,
              "#f0f921"
             ]
            ],
            "type": "histogram2d"
           }
          ],
          "histogram2dcontour": [
           {
            "colorbar": {
             "outlinewidth": 0,
             "ticks": ""
            },
            "colorscale": [
             [
              0,
              "#0d0887"
             ],
             [
              0.1111111111111111,
              "#46039f"
             ],
             [
              0.2222222222222222,
              "#7201a8"
             ],
             [
              0.3333333333333333,
              "#9c179e"
             ],
             [
              0.4444444444444444,
              "#bd3786"
             ],
             [
              0.5555555555555556,
              "#d8576b"
             ],
             [
              0.6666666666666666,
              "#ed7953"
             ],
             [
              0.7777777777777778,
              "#fb9f3a"
             ],
             [
              0.8888888888888888,
              "#fdca26"
             ],
             [
              1,
              "#f0f921"
             ]
            ],
            "type": "histogram2dcontour"
           }
          ],
          "mesh3d": [
           {
            "colorbar": {
             "outlinewidth": 0,
             "ticks": ""
            },
            "type": "mesh3d"
           }
          ],
          "parcoords": [
           {
            "line": {
             "colorbar": {
              "outlinewidth": 0,
              "ticks": ""
             }
            },
            "type": "parcoords"
           }
          ],
          "pie": [
           {
            "automargin": true,
            "type": "pie"
           }
          ],
          "scatter": [
           {
            "fillpattern": {
             "fillmode": "overlay",
             "size": 10,
             "solidity": 0.2
            },
            "type": "scatter"
           }
          ],
          "scatter3d": [
           {
            "line": {
             "colorbar": {
              "outlinewidth": 0,
              "ticks": ""
             }
            },
            "marker": {
             "colorbar": {
              "outlinewidth": 0,
              "ticks": ""
             }
            },
            "type": "scatter3d"
           }
          ],
          "scattercarpet": [
           {
            "marker": {
             "colorbar": {
              "outlinewidth": 0,
              "ticks": ""
             }
            },
            "type": "scattercarpet"
           }
          ],
          "scattergeo": [
           {
            "marker": {
             "colorbar": {
              "outlinewidth": 0,
              "ticks": ""
             }
            },
            "type": "scattergeo"
           }
          ],
          "scattergl": [
           {
            "marker": {
             "colorbar": {
              "outlinewidth": 0,
              "ticks": ""
             }
            },
            "type": "scattergl"
           }
          ],
          "scattermapbox": [
           {
            "marker": {
             "colorbar": {
              "outlinewidth": 0,
              "ticks": ""
             }
            },
            "type": "scattermapbox"
           }
          ],
          "scatterpolar": [
           {
            "marker": {
             "colorbar": {
              "outlinewidth": 0,
              "ticks": ""
             }
            },
            "type": "scatterpolar"
           }
          ],
          "scatterpolargl": [
           {
            "marker": {
             "colorbar": {
              "outlinewidth": 0,
              "ticks": ""
             }
            },
            "type": "scatterpolargl"
           }
          ],
          "scatterternary": [
           {
            "marker": {
             "colorbar": {
              "outlinewidth": 0,
              "ticks": ""
             }
            },
            "type": "scatterternary"
           }
          ],
          "surface": [
           {
            "colorbar": {
             "outlinewidth": 0,
             "ticks": ""
            },
            "colorscale": [
             [
              0,
              "#0d0887"
             ],
             [
              0.1111111111111111,
              "#46039f"
             ],
             [
              0.2222222222222222,
              "#7201a8"
             ],
             [
              0.3333333333333333,
              "#9c179e"
             ],
             [
              0.4444444444444444,
              "#bd3786"
             ],
             [
              0.5555555555555556,
              "#d8576b"
             ],
             [
              0.6666666666666666,
              "#ed7953"
             ],
             [
              0.7777777777777778,
              "#fb9f3a"
             ],
             [
              0.8888888888888888,
              "#fdca26"
             ],
             [
              1,
              "#f0f921"
             ]
            ],
            "type": "surface"
           }
          ],
          "table": [
           {
            "cells": {
             "fill": {
              "color": "#EBF0F8"
             },
             "line": {
              "color": "white"
             }
            },
            "header": {
             "fill": {
              "color": "#C8D4E3"
             },
             "line": {
              "color": "white"
             }
            },
            "type": "table"
           }
          ]
         },
         "layout": {
          "annotationdefaults": {
           "arrowcolor": "#2a3f5f",
           "arrowhead": 0,
           "arrowwidth": 1
          },
          "autotypenumbers": "strict",
          "coloraxis": {
           "colorbar": {
            "outlinewidth": 0,
            "ticks": ""
           }
          },
          "colorscale": {
           "diverging": [
            [
             0,
             "#8e0152"
            ],
            [
             0.1,
             "#c51b7d"
            ],
            [
             0.2,
             "#de77ae"
            ],
            [
             0.3,
             "#f1b6da"
            ],
            [
             0.4,
             "#fde0ef"
            ],
            [
             0.5,
             "#f7f7f7"
            ],
            [
             0.6,
             "#e6f5d0"
            ],
            [
             0.7,
             "#b8e186"
            ],
            [
             0.8,
             "#7fbc41"
            ],
            [
             0.9,
             "#4d9221"
            ],
            [
             1,
             "#276419"
            ]
           ],
           "sequential": [
            [
             0,
             "#0d0887"
            ],
            [
             0.1111111111111111,
             "#46039f"
            ],
            [
             0.2222222222222222,
             "#7201a8"
            ],
            [
             0.3333333333333333,
             "#9c179e"
            ],
            [
             0.4444444444444444,
             "#bd3786"
            ],
            [
             0.5555555555555556,
             "#d8576b"
            ],
            [
             0.6666666666666666,
             "#ed7953"
            ],
            [
             0.7777777777777778,
             "#fb9f3a"
            ],
            [
             0.8888888888888888,
             "#fdca26"
            ],
            [
             1,
             "#f0f921"
            ]
           ],
           "sequentialminus": [
            [
             0,
             "#0d0887"
            ],
            [
             0.1111111111111111,
             "#46039f"
            ],
            [
             0.2222222222222222,
             "#7201a8"
            ],
            [
             0.3333333333333333,
             "#9c179e"
            ],
            [
             0.4444444444444444,
             "#bd3786"
            ],
            [
             0.5555555555555556,
             "#d8576b"
            ],
            [
             0.6666666666666666,
             "#ed7953"
            ],
            [
             0.7777777777777778,
             "#fb9f3a"
            ],
            [
             0.8888888888888888,
             "#fdca26"
            ],
            [
             1,
             "#f0f921"
            ]
           ]
          },
          "colorway": [
           "#636efa",
           "#EF553B",
           "#00cc96",
           "#ab63fa",
           "#FFA15A",
           "#19d3f3",
           "#FF6692",
           "#B6E880",
           "#FF97FF",
           "#FECB52"
          ],
          "font": {
           "color": "#2a3f5f"
          },
          "geo": {
           "bgcolor": "white",
           "lakecolor": "white",
           "landcolor": "#E5ECF6",
           "showlakes": true,
           "showland": true,
           "subunitcolor": "white"
          },
          "hoverlabel": {
           "align": "left"
          },
          "hovermode": "closest",
          "mapbox": {
           "style": "light"
          },
          "paper_bgcolor": "white",
          "plot_bgcolor": "#E5ECF6",
          "polar": {
           "angularaxis": {
            "gridcolor": "white",
            "linecolor": "white",
            "ticks": ""
           },
           "bgcolor": "#E5ECF6",
           "radialaxis": {
            "gridcolor": "white",
            "linecolor": "white",
            "ticks": ""
           }
          },
          "scene": {
           "xaxis": {
            "backgroundcolor": "#E5ECF6",
            "gridcolor": "white",
            "gridwidth": 2,
            "linecolor": "white",
            "showbackground": true,
            "ticks": "",
            "zerolinecolor": "white"
           },
           "yaxis": {
            "backgroundcolor": "#E5ECF6",
            "gridcolor": "white",
            "gridwidth": 2,
            "linecolor": "white",
            "showbackground": true,
            "ticks": "",
            "zerolinecolor": "white"
           },
           "zaxis": {
            "backgroundcolor": "#E5ECF6",
            "gridcolor": "white",
            "gridwidth": 2,
            "linecolor": "white",
            "showbackground": true,
            "ticks": "",
            "zerolinecolor": "white"
           }
          },
          "shapedefaults": {
           "line": {
            "color": "#2a3f5f"
           }
          },
          "ternary": {
           "aaxis": {
            "gridcolor": "white",
            "linecolor": "white",
            "ticks": ""
           },
           "baxis": {
            "gridcolor": "white",
            "linecolor": "white",
            "ticks": ""
           },
           "bgcolor": "#E5ECF6",
           "caxis": {
            "gridcolor": "white",
            "linecolor": "white",
            "ticks": ""
           }
          },
          "title": {
           "x": 0.05
          },
          "xaxis": {
           "automargin": true,
           "gridcolor": "white",
           "linecolor": "white",
           "ticks": "",
           "title": {
            "standoff": 15
           },
           "zerolinecolor": "white",
           "zerolinewidth": 2
          },
          "yaxis": {
           "automargin": true,
           "gridcolor": "white",
           "linecolor": "white",
           "ticks": "",
           "title": {
            "standoff": 15
           },
           "zerolinecolor": "white",
           "zerolinewidth": 2
          }
         }
        }
       }
      }
     },
     "metadata": {},
     "output_type": "display_data"
    }
   ],
   "source": [
    "\"\"\"# pie plot\n",
    "import plotly.express as px\n",
    "# This dataframe has 244 lines, but 4 distinct values for `day`\n",
    "df = px.data.tips()\n",
    "fig = px.pie(df, values='tip', names='day')\n",
    "fig.show()\"\"\""
   ]
  },
  {
   "cell_type": "code",
   "execution_count": 51,
   "metadata": {},
   "outputs": [
    {
     "data": {
      "application/vnd.plotly.v1+json": {
       "config": {
        "plotlyServerURL": "https://plot.ly"
       },
       "data": [
        {
         "domain": {
          "x": [
           0,
           1
          ],
          "y": [
           0,
           1
          ]
         },
         "hovertemplate": "match=%{value}<extra></extra>",
         "legendgroup": "",
         "name": "",
         "showlegend": false,
         "type": "pie",
         "values": [
          "No",
          "No",
          "Yes",
          "Yes",
          "Yes",
          "No",
          "No",
          "No",
          "Yes",
          "No",
          "No",
          "No",
          "No",
          "Yes",
          "No",
          "No",
          "No",
          "No",
          "Yes",
          "No",
          "No",
          "No",
          "No",
          "No",
          "No",
          "No",
          "No",
          "No",
          "No",
          "No",
          "No",
          "No",
          "No",
          "Yes",
          "No",
          "No",
          "No",
          "No",
          "Yes",
          "No",
          "No",
          "No",
          "No",
          "Yes",
          "No",
          "No",
          "No",
          "No",
          "Yes",
          "No",
          "No",
          "No",
          "No",
          "Yes",
          "No",
          "No",
          "No",
          "No",
          "Yes",
          "No",
          "No",
          "No",
          "No",
          "Yes",
          "No",
          "No",
          "No",
          "No",
          "Yes",
          "No",
          "No",
          "Yes",
          "Yes",
          "Yes",
          "Yes",
          "Yes",
          "No",
          "Yes",
          "Yes",
          "Yes",
          "No",
          "Yes",
          "Yes",
          "Yes",
          "Yes",
          "Yes",
          "Yes",
          "No",
          "Yes",
          "No",
          "No",
          "No",
          "Yes",
          "No",
          "No",
          "No",
          "No",
          "No",
          "Yes",
          "No",
          "No",
          "No",
          "No",
          "No",
          "No",
          "No",
          "No",
          "No",
          "No",
          "No",
          "No",
          "No",
          "No",
          "No",
          "No",
          "No",
          "No",
          "No",
          "No",
          "No",
          "Yes",
          "Yes",
          "No",
          "No",
          "No",
          "No",
          "No",
          "No",
          "No",
          "No",
          "No",
          "No",
          "No",
          "No",
          "No",
          "Yes",
          "Yes",
          "Yes",
          "No",
          "No",
          "No",
          "No",
          "No",
          "No",
          "No",
          "No",
          "No",
          "No",
          "No",
          "No",
          "No",
          "No",
          "No",
          "No",
          "No",
          "No",
          "No",
          "No",
          "No",
          "No",
          "No",
          "No",
          "No",
          "No",
          "No",
          "No",
          "No",
          "No",
          "No",
          "No",
          "No",
          "No",
          "No",
          "No",
          "No",
          "No",
          "No",
          "No",
          "No",
          "No",
          "No",
          "No",
          "No",
          "No",
          "No",
          "No",
          "No",
          "No",
          "No",
          "No",
          "No",
          "No",
          "No",
          "No",
          "No",
          "No",
          "No",
          "No",
          "No",
          "No",
          "No",
          "No",
          "Yes",
          "No",
          "No",
          "No",
          "Yes",
          "No",
          "No",
          "No",
          "No",
          "No",
          "No",
          "No",
          "No",
          "No",
          "No",
          "No",
          "Yes",
          "No",
          "No",
          "No",
          "No",
          "No",
          "No",
          "No",
          "No",
          "No",
          "No",
          "No",
          "No",
          "No",
          "Yes",
          "Yes",
          "No",
          "No",
          "No",
          "No",
          "No",
          "No",
          "No",
          "No",
          "No",
          "No",
          "No",
          "No",
          "No",
          "No",
          "No",
          "No",
          "No",
          "No",
          "No",
          "Yes",
          "No",
          "No",
          "No",
          "No",
          "No",
          "Yes",
          "No",
          "No",
          "No",
          "No",
          "No",
          "No",
          "No",
          "No",
          "Yes",
          "Yes",
          "Yes",
          "No",
          "No",
          "No",
          "No",
          "Yes",
          "No",
          "No",
          "No",
          "No",
          "No",
          "No",
          "No",
          "No",
          "No",
          "No",
          "No",
          "No",
          "No",
          "No",
          "No",
          "No",
          "No",
          "No",
          "No",
          "No",
          "No",
          "No",
          "No",
          "No",
          "No",
          "No",
          "No",
          "No",
          "No",
          "No",
          "No",
          "No",
          "No",
          "No",
          "No",
          "No",
          "No",
          "No",
          "Yes",
          "No",
          "No",
          "Yes",
          "No",
          "No",
          "No",
          "No",
          "No",
          "No",
          "No",
          "No",
          "No",
          "No",
          "No",
          "Yes",
          "Yes",
          "No",
          "No",
          "Yes",
          "Yes",
          "No",
          "No",
          "Yes",
          "No",
          "No",
          "No",
          "No",
          "No",
          "No",
          "No",
          "No",
          "No",
          "No",
          "No",
          "Yes",
          "No",
          "Yes",
          "No",
          "No",
          "No",
          "No",
          "No",
          "No",
          "No",
          "No",
          "Yes",
          "No",
          "No",
          "No",
          "No",
          "No",
          "No",
          "No",
          "Yes",
          "No",
          "No",
          "No",
          "No",
          "No",
          "No",
          "No",
          "No",
          "No",
          "No",
          "No",
          "No",
          "Yes",
          "Yes",
          "No",
          "No",
          "No",
          "No",
          "Yes",
          "No",
          "No",
          "No",
          "No",
          "No",
          "No",
          "No",
          "Yes",
          "No",
          "No",
          "No",
          "No",
          "No",
          "No",
          "No",
          "No",
          "No",
          "No",
          "No",
          "Yes",
          "Yes",
          "No",
          "No",
          "No",
          "No",
          "No",
          "No",
          "No",
          "No",
          "No",
          "No",
          "Yes",
          "No",
          "No",
          "No",
          "No",
          "No",
          "No",
          "No",
          "No",
          "No",
          "Yes",
          "No",
          "No",
          "Yes",
          "No",
          "No",
          "No",
          "No",
          "No",
          "No",
          "No",
          "No",
          "No",
          "No",
          "No",
          "Yes",
          "No",
          "No",
          "No",
          "No",
          "No",
          "No",
          "No",
          "No",
          "No",
          "No",
          "No",
          "No",
          "No",
          "No",
          "Yes",
          "No",
          "No",
          "No",
          "Yes",
          "No",
          "Yes",
          "No",
          "Yes",
          "No",
          "No",
          "No",
          "No",
          "Yes",
          "No",
          "No",
          "Yes",
          "No",
          "No",
          "No",
          "No",
          "No",
          "No",
          "No",
          "No",
          "No",
          "No",
          "No",
          "No",
          "No",
          "No",
          "No",
          "No",
          "No",
          "Yes",
          "No",
          "No",
          "No",
          "No",
          "No",
          "No",
          "No",
          "No",
          "No",
          "No",
          "Yes",
          "No",
          "No",
          "No",
          "No",
          "No",
          "No",
          "No",
          "No",
          "No",
          "No",
          "Yes",
          "No",
          "Yes",
          "No",
          "Yes",
          "Yes",
          "No",
          "Yes",
          "No",
          "No",
          "Yes",
          "Yes",
          "Yes",
          "No",
          "No",
          "No",
          "No",
          "No",
          "Yes",
          "No",
          "Yes",
          "No",
          "No",
          "No",
          "No",
          "No",
          "No",
          "No",
          "No",
          "No",
          "No",
          "No",
          "No",
          "No",
          "No",
          "No",
          "No",
          "Yes",
          "Yes",
          "No",
          "Yes",
          "No",
          "No",
          "No",
          "No",
          "No",
          "No",
          "No",
          "No",
          "No",
          "No",
          "No",
          "No",
          "Yes",
          "No",
          "No",
          "Yes",
          "Yes",
          "No",
          "No",
          "No",
          "No",
          "No",
          "No",
          "No",
          "No",
          "No",
          "No",
          "No",
          "Yes",
          "No",
          "No",
          "Yes",
          "No",
          "No",
          "No",
          "Yes",
          "No",
          "No",
          "No",
          "No",
          "No",
          "No",
          "No",
          "Yes",
          "No",
          "No",
          "No",
          "No",
          "Yes",
          "No",
          "No",
          "No",
          "Yes",
          "No",
          "No",
          "No",
          "Yes",
          "No",
          "No",
          "No",
          "No",
          "Yes",
          "No",
          "No",
          "No",
          "No",
          "No",
          "Yes",
          "No",
          "Yes",
          "No",
          "Yes",
          "No",
          "No",
          "No",
          "No",
          "No",
          "No",
          "No",
          "Yes",
          "No",
          "No",
          "No",
          "No",
          "No",
          "No",
          "No",
          "Yes",
          "No",
          "No",
          "No",
          "No",
          "No",
          "No",
          "No",
          "No",
          "No",
          "No",
          "No",
          "No",
          "No",
          "No",
          "No",
          "Yes",
          "No",
          "No",
          "Yes",
          "No",
          "No",
          "No",
          "No",
          "No",
          "No",
          "No",
          "No",
          "No",
          "No",
          "No",
          "No",
          "No",
          "No",
          "No",
          "No",
          "Yes",
          "No",
          "No",
          "No",
          "No",
          "No",
          "No",
          "No",
          "Yes",
          "No",
          "No",
          "Yes",
          "No",
          "No",
          "No",
          "Yes",
          "Yes",
          "No",
          "Yes",
          "Yes",
          "Yes",
          "Yes",
          "No",
          "No",
          "No",
          "No",
          "No",
          "No",
          "Yes",
          "No",
          "No",
          "No",
          "No",
          "No",
          "No",
          "No",
          "Yes",
          "No",
          "No",
          "No",
          "No",
          "No",
          "No",
          "No",
          "No",
          "No",
          "No",
          "No",
          "No",
          "No",
          "No",
          "No",
          "No",
          "No",
          "No",
          "No",
          "No",
          "No",
          "No",
          "No",
          "No",
          "No",
          "No",
          "No",
          "Yes",
          "No",
          "No",
          "No",
          "No",
          "Yes",
          "No",
          "No",
          "No",
          "No",
          "No",
          "No",
          "No",
          "No",
          "No",
          "No",
          "No",
          "No",
          "No",
          "No",
          "No",
          "No",
          "No",
          "No",
          "No",
          "No",
          "No",
          "No",
          "Yes",
          "No",
          "No",
          "No",
          "No",
          "No",
          "Yes",
          "No",
          "Yes",
          "No",
          "No",
          "No",
          "Yes",
          "No",
          "Yes",
          "Yes",
          "Yes",
          "No",
          "Yes",
          "Yes",
          "No",
          "No",
          "No",
          "No",
          "Yes",
          "Yes",
          "Yes",
          "No",
          "No",
          "No",
          "No",
          "No",
          "Yes",
          "No",
          "Yes",
          "No",
          "Yes",
          "Yes",
          "No",
          "No",
          "Yes",
          "No",
          "Yes",
          "No",
          "No",
          "Yes",
          "No",
          "No",
          "No",
          "Yes",
          "No",
          "No",
          "No",
          "No",
          "No",
          "No",
          "No",
          "Yes",
          "No",
          "No",
          "Yes",
          "Yes",
          "Yes",
          "Yes",
          "Yes",
          "No",
          "No",
          "No",
          "No",
          "No",
          "Yes",
          "Yes",
          "No",
          "Yes",
          "No",
          "No",
          "No",
          "No",
          "No",
          "No",
          "No",
          "No",
          "No",
          "Yes",
          "No",
          "No",
          "No",
          "No",
          "No",
          "No",
          "Yes",
          "No",
          "Yes",
          "Yes",
          "No",
          "No",
          "No",
          "Yes",
          "No",
          "No",
          "Yes",
          "No",
          "Yes",
          "No",
          "Yes",
          "No",
          "No",
          "No",
          "No",
          "No",
          "Yes",
          "No",
          "No",
          "No",
          "No",
          "No",
          "No",
          "No",
          "No",
          "No",
          "Yes",
          "No",
          "Yes",
          "Yes",
          "Yes",
          "Yes",
          "No",
          "Yes",
          "No",
          "No",
          "Yes",
          "No",
          "No",
          "Yes",
          "No",
          "Yes",
          "No",
          "No",
          "No",
          "No",
          "No",
          "No",
          "No",
          "No",
          "No",
          "No",
          "No",
          "No",
          "No",
          "No",
          "No",
          "No",
          "No",
          "No",
          "No",
          "No",
          "No",
          "No",
          "No",
          "No",
          "Yes",
          "No",
          "No",
          "No",
          "No",
          "No",
          "No",
          "Yes",
          "No",
          "No",
          "No",
          "No",
          "No",
          "No",
          "No",
          "Yes",
          "Yes",
          "No",
          "Yes",
          "No",
          "No",
          "No",
          "No",
          "Yes",
          "No",
          "No",
          "No",
          "No",
          "No",
          "No",
          "No",
          "Yes",
          "Yes",
          "Yes",
          "No",
          "Yes",
          "Yes",
          "Yes",
          "No",
          "No",
          "No",
          "No",
          "No",
          "No",
          "No",
          "No",
          "No",
          "No",
          "No",
          "No",
          "No",
          "No",
          "No",
          "No",
          "No",
          "No",
          "No",
          "No",
          "Yes",
          "No",
          "No",
          "No",
          "No",
          "No",
          "No",
          "No",
          "No",
          "No",
          "No",
          "No",
          "No",
          "No",
          "No",
          "No",
          "No",
          "No",
          "No",
          "No",
          "No",
          "No",
          "No",
          "No",
          "No",
          "No",
          "No",
          "No",
          "No",
          "No",
          "No",
          "No",
          "No",
          "No",
          "Yes",
          "No",
          "No",
          "No",
          "No",
          "No",
          "No",
          "No",
          "No",
          "No",
          "No",
          "No",
          "Yes",
          "No",
          "No",
          "No",
          "No",
          "Yes",
          "Yes",
          "No",
          "No",
          "Yes",
          "No",
          "No",
          "Yes",
          "No",
          "No",
          "No",
          "No",
          "No",
          "No",
          "No",
          "No",
          "No",
          "No",
          "No",
          "No",
          "Yes",
          "No",
          "No",
          "No",
          "No",
          "No",
          "No",
          "Yes",
          "No",
          "No",
          "No",
          "No",
          "No",
          "Yes",
          "No",
          "No",
          "No",
          "No",
          "Yes",
          "Yes",
          "Yes",
          "No",
          "No",
          "No",
          "No",
          "No",
          "No",
          "No",
          "Yes",
          "No",
          "Yes",
          "No",
          "No",
          "No",
          "No",
          "No",
          "No",
          "No",
          "No",
          "No",
          "No",
          "Yes",
          "No",
          "No",
          "No",
          "No",
          "No",
          "No",
          "No",
          "No",
          "No",
          "No",
          "Yes",
          "No",
          "No",
          "No",
          "No",
          "No",
          "No",
          "Yes",
          "Yes",
          "No",
          "Yes",
          "No",
          "No",
          "No",
          "No",
          "No",
          "No",
          "No",
          "Yes",
          "No",
          "No",
          "No",
          "Yes",
          "No",
          "No",
          "No",
          "No",
          "No",
          "No",
          "No",
          "Yes",
          "No",
          "No",
          "No",
          "No",
          "No",
          "Yes",
          "No",
          "Yes",
          "No",
          "No",
          "Yes",
          "No",
          "No",
          "Yes",
          "No",
          "Yes",
          "Yes",
          "Yes",
          "No",
          "No",
          "No",
          "Yes",
          "No",
          "No",
          "No",
          "No",
          "No",
          "No",
          "No",
          "No",
          "No",
          "No",
          "No",
          "No",
          "No",
          "No",
          "Yes",
          "No",
          "No",
          "Yes",
          "No",
          "No",
          "No",
          "No",
          "No",
          "No",
          "No",
          "No",
          "Yes",
          "Yes",
          "No",
          "No",
          "No",
          "No",
          "No",
          "No",
          "No",
          "No",
          "No",
          "No",
          "No",
          "Yes",
          "No",
          "No",
          "No",
          "No",
          "Yes",
          "No",
          "No",
          "Yes",
          "No",
          "No",
          "No",
          "No",
          "No",
          "No",
          "No",
          "No",
          "No",
          "No",
          "Yes",
          "No",
          "Yes",
          "No",
          "No",
          "Yes",
          "Yes",
          "No",
          "Yes",
          "No",
          "No",
          "No",
          "No",
          "Yes",
          "No",
          "No",
          "No",
          "No",
          "No",
          "No",
          "No",
          "No",
          "No",
          "No",
          "No",
          "No",
          "No",
          "No",
          "Yes",
          "No",
          "No",
          "No",
          "No",
          "No",
          "No",
          "No",
          "No",
          "No",
          "No",
          "No",
          "No",
          "No",
          "Yes",
          "No",
          "No",
          "No",
          "Yes",
          "No",
          "No",
          "No",
          "No",
          "No",
          "No",
          "No",
          "Yes",
          "No",
          "No",
          "Yes",
          "Yes",
          "No",
          "No",
          "No",
          "Yes",
          "Yes",
          "No",
          "Yes",
          "No",
          "No",
          "No",
          "No",
          "No",
          "No",
          "No",
          "No",
          "No",
          "No",
          "Yes",
          "No",
          "No",
          "No",
          "No",
          "No",
          "No",
          "No",
          "No",
          "No",
          "No",
          "No",
          "No",
          "No",
          "No",
          "No",
          "No",
          "Yes",
          "No",
          "No",
          "No",
          "No",
          "No",
          "No",
          "No",
          "No",
          "No",
          "No",
          "No",
          "No",
          "No",
          "Yes",
          "No",
          "Yes",
          "No",
          "No",
          "No",
          "No",
          "No",
          "No",
          "No",
          "Yes",
          "No",
          "No",
          "No",
          "Yes",
          "No",
          "No",
          "No",
          "Yes",
          "Yes",
          "No",
          "No",
          "No",
          "No",
          "Yes",
          "No",
          "No",
          "No",
          "No",
          "No",
          "No",
          "No",
          "No",
          "No",
          "No",
          "No",
          "No",
          "No",
          "No",
          "No",
          "No",
          "No",
          "Yes",
          "No",
          "No",
          "No",
          "No",
          "No",
          "No",
          "No",
          "No",
          "No",
          "No",
          "No",
          "No",
          "No",
          "Yes",
          "Yes",
          "No",
          "No",
          "No",
          "No",
          "No",
          "No",
          "No",
          "No",
          "No",
          "No",
          "No",
          "No",
          "No",
          "No",
          "No",
          "No",
          "No",
          "No",
          "No",
          "No",
          "No",
          "No",
          "Yes",
          "No",
          "Yes",
          "No",
          "Yes",
          "No",
          "Yes",
          "No",
          "No",
          "No",
          "No",
          "Yes",
          "No",
          "No",
          "No",
          "No",
          "No",
          "No",
          "No",
          "No",
          "No",
          "No",
          "Yes",
          "No",
          "No",
          "No",
          "No",
          "No",
          "No",
          "Yes",
          "No",
          "No",
          "No",
          "No",
          "Yes",
          "No",
          "No",
          "No",
          "No",
          "No",
          "No",
          "No",
          "No",
          "No",
          "No",
          "No",
          "No",
          "No",
          "No",
          "No",
          "No",
          "No",
          "No",
          "No",
          "No",
          "Yes",
          "No",
          "No",
          "No",
          "No",
          "No",
          "No",
          "Yes",
          "No",
          "No",
          "No",
          "No",
          "No",
          "No",
          "No",
          "No",
          "No",
          "No",
          "No",
          "No",
          "No",
          "No",
          "No",
          "Yes",
          "No",
          "No",
          "No",
          "No",
          "No",
          "No",
          "No",
          "No",
          "No",
          "No",
          "No",
          "No",
          "No",
          "No",
          "No",
          "No",
          "No",
          "No",
          "No",
          "No",
          "No",
          "No",
          "No",
          "No",
          "No",
          "No",
          "No",
          "No",
          "No",
          "No",
          "No",
          "No",
          "No",
          "No",
          "No",
          "No",
          "No",
          "No",
          "No",
          "No",
          "No",
          "No",
          "No",
          "No",
          "No",
          "No",
          "Yes",
          "Yes",
          "No",
          "No",
          "No",
          "No",
          "No",
          "No",
          "No",
          "No",
          "No",
          "No",
          "No",
          "No",
          "No",
          "No",
          "No",
          "No",
          "Yes",
          "No",
          "Yes",
          "Yes",
          "No",
          "Yes",
          "Yes",
          "Yes",
          "No",
          "No",
          "No",
          "No",
          "Yes",
          "No",
          "No",
          "Yes",
          "No",
          "No",
          "No",
          "No",
          "No",
          "Yes",
          "No",
          "No",
          "No",
          "No",
          "No",
          "No",
          "Yes",
          "Yes",
          "No",
          "No",
          "No",
          "No",
          "No",
          "No",
          "No",
          "Yes",
          "No",
          "Yes",
          "No",
          "Yes",
          "Yes",
          "No",
          "No",
          "No",
          "Yes",
          "No",
          "Yes",
          "Yes",
          "No",
          "Yes",
          "Yes",
          "Yes",
          "No",
          "Yes",
          "No",
          "No",
          "No",
          "No",
          "No",
          "No",
          "No",
          "No",
          "No",
          "No",
          "No",
          "No",
          "No",
          "No",
          "No",
          "No",
          "No",
          "No",
          "No",
          "No",
          "Yes",
          "Yes",
          "No",
          "No",
          "No",
          "No",
          "No",
          "No",
          "No",
          "No",
          "No",
          "No",
          "No",
          "No",
          "No",
          "Yes",
          "No",
          "No",
          "No",
          "No",
          "No",
          "No",
          "No",
          "No",
          "No",
          "Yes",
          "No",
          "No",
          "No",
          "No",
          "No",
          "No",
          "No",
          "No",
          "No",
          "No",
          "Yes",
          "No",
          "No",
          "No",
          "No",
          "Yes",
          "No",
          "Yes",
          "No",
          "Yes",
          "No",
          "Yes",
          "No",
          "No",
          "Yes",
          "No",
          "Yes",
          "No",
          "Yes",
          "No",
          "No",
          "Yes",
          "No",
          "Yes",
          "No",
          "No",
          "No",
          "Yes",
          "No",
          "No",
          "No",
          "No",
          "No",
          "No",
          "No",
          "No",
          "No",
          "Yes",
          "No",
          "No",
          "No",
          "No",
          "No",
          "No",
          "No",
          "No",
          "No",
          "No",
          "No",
          "No",
          "No",
          "No",
          "No",
          "Yes",
          "No",
          "No",
          "No",
          "No",
          "Yes",
          "No",
          "No",
          "No",
          "No",
          "No",
          "No",
          "No",
          "No",
          "No",
          "No",
          "No",
          "No",
          "No",
          "No",
          "No",
          "No",
          "No",
          "No",
          "No",
          "Yes",
          "No",
          "No",
          "Yes",
          "No",
          "No",
          "No",
          "No",
          "No",
          "Yes",
          "No",
          "No",
          "No",
          "Yes",
          "No",
          "No",
          "No",
          "No",
          "No",
          "No",
          "No",
          "No",
          "No",
          "No",
          "No",
          "No",
          "No",
          "Yes",
          "No",
          "Yes",
          "No",
          "No",
          "No",
          "No",
          "Yes",
          "No",
          "Yes",
          "No",
          "Yes",
          "No",
          "No",
          "Yes",
          "No",
          "Yes",
          "No",
          "Yes",
          "Yes",
          "No",
          "Yes",
          "No",
          "No",
          "No",
          "No",
          "No",
          "No",
          "No",
          "No",
          "No",
          "No",
          "No",
          "No",
          "No",
          "No",
          "No",
          "No",
          "Yes",
          "No",
          "No",
          "No",
          "Yes",
          "No",
          "No",
          "No",
          "No",
          "No",
          "No",
          "No",
          "No",
          "No",
          "No",
          "Yes",
          "No",
          "No",
          "No",
          "No",
          "No",
          "No",
          "No",
          "No",
          "No",
          "No",
          "No",
          "No",
          "No",
          "No",
          "No",
          "No",
          "No",
          "No",
          "No",
          "No",
          "No",
          "No",
          "No",
          "No",
          "No",
          "No",
          "No",
          "No",
          "No",
          "No",
          "No",
          "No",
          "No",
          "No",
          "No",
          "No",
          "No",
          "No",
          "No",
          "No",
          "No",
          "No",
          "No",
          "No",
          "No",
          "No",
          "No",
          "No",
          "No",
          "No",
          "No",
          "No",
          "No",
          "No",
          "No",
          "No",
          "Yes",
          "No",
          "No",
          "Yes",
          "No",
          "No",
          "No",
          "No",
          "No",
          "No",
          "Yes",
          "No",
          "No",
          "No",
          "No",
          "No",
          "No",
          "No",
          "No",
          "No",
          "No",
          "No",
          "No",
          "No",
          "No",
          "No",
          "No",
          "No",
          "No",
          "No",
          "No",
          "No",
          "No",
          "No",
          "No",
          "No",
          "No",
          "No",
          "No",
          "Yes",
          "Yes",
          "No",
          "No",
          "Yes",
          "No",
          "Yes",
          "Yes",
          "Yes",
          "No",
          "No",
          "No",
          "No",
          "No",
          "No",
          "No",
          "Yes",
          "No",
          "No",
          "No",
          "No",
          "No",
          "Yes",
          "No",
          "No",
          "No",
          "No",
          "No",
          "No",
          "No",
          "No",
          "No",
          "No",
          "No",
          "No",
          "No",
          "No",
          "No",
          "No",
          "No",
          "No",
          "No",
          "Yes",
          "Yes",
          "No",
          "No",
          "Yes",
          "No",
          "Yes",
          "No",
          "No",
          "Yes",
          "No",
          "No",
          "No",
          "No",
          "No",
          "Yes",
          "No",
          "No",
          "No",
          "No",
          "Yes",
          "Yes",
          "Yes",
          "No",
          "No",
          "Yes",
          "No",
          "No",
          "No",
          "No",
          "No",
          "No",
          "No",
          "No",
          "No",
          "No",
          "Yes",
          "No",
          "No",
          "No",
          "No",
          "No",
          "No",
          "No",
          "No",
          "No",
          "No",
          "No",
          "No",
          "No",
          "No",
          "No",
          "No",
          "No",
          "No",
          "No",
          "No",
          "No",
          "No",
          "No",
          "No",
          "Yes",
          "No",
          "No",
          "No",
          "No",
          "No",
          "No",
          "No",
          "Yes",
          "No",
          "No",
          "No",
          "No",
          "No",
          "Yes",
          "Yes",
          "Yes",
          "No",
          "Yes",
          "No",
          "No",
          "Yes",
          "No",
          "No",
          "No",
          "No",
          "Yes",
          "Yes",
          "No",
          "Yes",
          "No",
          "No",
          "No",
          "No",
          "No",
          "No",
          "No",
          "No",
          "No",
          "No",
          "No",
          "No",
          "No",
          "No",
          "No",
          "No",
          "No",
          "No",
          "No",
          "Yes",
          "No",
          "No",
          "No",
          "No",
          "No",
          "No",
          "No",
          "No",
          "No",
          "No",
          "No",
          "No",
          "No",
          "No",
          "No",
          "No",
          "No",
          "No",
          "No",
          "No",
          "No",
          "No",
          "No",
          "No",
          "No",
          "No",
          "No",
          "Yes",
          "Yes",
          "No",
          "Yes",
          "Yes",
          "No",
          "No",
          "No",
          "No",
          "No",
          "No",
          "No",
          "No",
          "No",
          "No",
          "No",
          "No",
          "No",
          "No",
          "No",
          "No",
          "No",
          "No",
          "No",
          "No",
          "No",
          "No",
          "Yes",
          "Yes",
          "No",
          "Yes",
          "Yes",
          "No",
          "Yes",
          "No",
          "No",
          "No",
          "No",
          "No",
          "No",
          "No",
          "No",
          "Yes",
          "Yes",
          "Yes",
          "No",
          "Yes",
          "Yes",
          "No",
          "Yes",
          "No",
          "No",
          "No",
          "No",
          "Yes",
          "No",
          "No",
          "No",
          "Yes",
          "No",
          "No",
          "No",
          "No",
          "Yes",
          "Yes",
          "No",
          "Yes",
          "No",
          "No",
          "No",
          "No",
          "No",
          "Yes",
          "No",
          "No",
          "Yes",
          "Yes",
          "Yes",
          "Yes",
          "No",
          "No",
          "No",
          "No",
          "No",
          "No",
          "No",
          "No",
          "No",
          "No",
          "No",
          "No",
          "No",
          "No",
          "No",
          "No",
          "No",
          "No",
          "No",
          "No",
          "Yes",
          "No",
          "No",
          "No",
          "No",
          "No",
          "No",
          "No",
          "No",
          "No",
          "No",
          "Yes",
          "No",
          "No",
          "No",
          "No",
          "No",
          "No",
          "No",
          "No",
          "No",
          "No",
          "No",
          "No",
          "No",
          "No",
          "No",
          "No",
          "No",
          "No",
          "No",
          "No",
          "No",
          "No",
          "No",
          "No",
          "No",
          "No",
          "No",
          "No",
          "No",
          "Yes",
          "No",
          "No",
          "No",
          "No",
          "No",
          "No",
          "No",
          "No",
          "No",
          "No",
          "No",
          "No",
          "No",
          "No",
          "No",
          "No",
          "No",
          "No",
          "No",
          "No",
          "No",
          "No",
          "No",
          "No",
          "No",
          "No",
          "No",
          "Yes",
          "Yes",
          "No",
          "Yes",
          "No",
          "No",
          "Yes",
          "No",
          "Yes",
          "No",
          "No",
          "No",
          "No",
          "No",
          "Yes",
          "No",
          "No",
          "Yes",
          "No",
          "No",
          "No",
          "No",
          "No",
          "No",
          "No",
          "No",
          "No",
          "No",
          "No",
          "No",
          "No",
          "No",
          "No",
          "No",
          "No",
          "No",
          "No",
          "No",
          "No",
          "No",
          "No",
          "No",
          "Yes",
          "No",
          "No",
          "No",
          "No",
          "No",
          "No",
          "No",
          "No",
          "No",
          "No",
          "No",
          "No",
          "No",
          "Yes",
          "No",
          "No",
          "Yes",
          "No",
          "No",
          "No",
          "Yes",
          "No",
          "Yes",
          "No",
          "No",
          "No",
          "No",
          "No",
          "No",
          "No",
          "No",
          "No",
          "No",
          "No",
          "No",
          "No",
          "No",
          "No",
          "No",
          "No",
          "No",
          "No",
          "No",
          "No",
          "No",
          "No",
          "No",
          "No",
          "No",
          "No",
          "No",
          "No",
          "Yes",
          "No",
          "No",
          "No",
          "No",
          "No",
          "No",
          "No",
          "No",
          "No",
          "No",
          "No",
          "No",
          "No",
          "No",
          "No",
          "No",
          "No",
          "Yes",
          "No",
          "No",
          "No",
          "No",
          "No",
          "Yes",
          "No",
          "No",
          "No",
          "No",
          "No",
          "Yes",
          "No",
          "No",
          "No",
          "No",
          "No",
          "No",
          "No",
          "No",
          "No",
          "No",
          "No",
          "No",
          "No",
          "Yes",
          "No",
          "No",
          "No",
          "No",
          "No",
          "No",
          "No",
          "No",
          "No",
          "No",
          "Yes",
          "No",
          "No",
          "No",
          "Yes",
          "Yes",
          "No",
          "No",
          "No",
          "No",
          "No",
          "No",
          "No",
          "No",
          "No",
          "Yes",
          "No",
          "Yes",
          "No",
          "Yes",
          "Yes",
          "No",
          "No",
          "No",
          "No",
          "No",
          "Yes",
          "No",
          "Yes",
          "No",
          "No",
          "Yes",
          "Yes",
          "No",
          "No",
          "No",
          "Yes",
          "No",
          "No",
          "No",
          "No",
          "No",
          "Yes",
          "Yes",
          "Yes",
          "No",
          "No",
          "No",
          "No",
          "No",
          "No",
          "Yes",
          "Yes",
          "No",
          "No",
          "No",
          "No",
          "No",
          "No",
          "No",
          "No",
          "No",
          "No",
          "No",
          "No",
          "No",
          "No",
          "No",
          "No",
          "No",
          "No",
          "Yes",
          "No",
          "No",
          "No",
          "No",
          "No",
          "No",
          "No",
          "No",
          "No",
          "No",
          "No",
          "Yes",
          "No",
          "No",
          "No",
          "No",
          "No",
          "No",
          "No",
          "No",
          "No",
          "No",
          "No",
          "No",
          "No",
          "No",
          "No",
          "No",
          "No",
          "No",
          "No",
          "No",
          "No",
          "Yes",
          "No",
          "Yes",
          "No",
          "No",
          "Yes",
          "No",
          "No",
          "No",
          "No",
          "No",
          "No",
          "No",
          "No",
          "No",
          "No",
          "No",
          "No",
          "No",
          "Yes",
          "No",
          "No",
          "No",
          "No",
          "No",
          "No",
          "No",
          "No",
          "No",
          "No",
          "No",
          "Yes",
          "Yes",
          "No",
          "No",
          "No",
          "No",
          "No",
          "No",
          "No",
          "No",
          "No",
          "No",
          "No",
          "No",
          "No",
          "No",
          "No",
          "No",
          "No",
          "No",
          "No",
          "Yes",
          "No",
          "Yes",
          "No",
          "No",
          "Yes",
          "No",
          "No",
          "No",
          "No",
          "No",
          "No",
          "No",
          "Yes",
          "No",
          "No",
          "No",
          "No",
          "Yes",
          "No",
          "Yes",
          "No",
          "Yes",
          "Yes",
          "No",
          "No",
          "No",
          "No",
          "No",
          "No",
          "No",
          "No",
          "No",
          "No",
          "No",
          "No",
          "No",
          "No",
          "Yes",
          "Yes",
          "No",
          "No",
          "Yes",
          "No",
          "Yes",
          "Yes",
          "No",
          "No",
          "No",
          "No",
          "Yes",
          "No",
          "No",
          "No",
          "No",
          "No",
          "No",
          "No",
          "No",
          "No",
          "No",
          "No",
          "No",
          "No",
          "No",
          "No",
          "No",
          "No",
          "No",
          "No",
          "No",
          "Yes",
          "No",
          "No",
          "No",
          "No",
          "No",
          "No",
          "No",
          "No",
          "No",
          "No",
          "No",
          "No",
          "No",
          "No",
          "No",
          "No",
          "Yes",
          "No",
          "No",
          "No",
          "Yes",
          "Yes",
          "Yes",
          "No",
          "No",
          "Yes",
          "Yes",
          "Yes",
          "No",
          "Yes",
          "No",
          "No",
          "No",
          "No",
          "No",
          "No",
          "No",
          "No",
          "Yes",
          "No",
          "Yes",
          "No",
          "No",
          "No",
          "No",
          "Yes",
          "No",
          "No",
          "No",
          "No",
          "No",
          "No",
          "Yes",
          "No",
          "Yes",
          "No",
          "No",
          "No",
          "No",
          "Yes",
          "No",
          "No",
          "No",
          "Yes",
          "No",
          "Yes",
          "No",
          "No",
          "No",
          "No",
          "No",
          "Yes",
          "Yes",
          "No",
          "No",
          "No",
          "No",
          "Yes",
          "No",
          "No",
          "No",
          "No",
          "No",
          "No",
          "No",
          "No",
          "No",
          "No",
          "No",
          "No",
          "No",
          "No",
          "No",
          "No",
          "No",
          "Yes",
          "No",
          "No",
          "No",
          "No",
          "No",
          "No",
          "No",
          "No",
          "No",
          "No",
          "Yes",
          "No",
          "Yes",
          "Yes",
          "Yes",
          "No",
          "Yes",
          "Yes",
          "No",
          "Yes",
          "Yes",
          "No",
          "No",
          "No",
          "No",
          "No",
          "No",
          "No",
          "No",
          "No",
          "No",
          "No",
          "Yes",
          "No",
          "No",
          "No",
          "No",
          "No",
          "No",
          "No",
          "No",
          "No",
          "No",
          "No",
          "No",
          "No",
          "No",
          "No",
          "No",
          "No",
          "No",
          "Yes",
          "No",
          "No",
          "No",
          "No",
          "No",
          "No",
          "No",
          "No",
          "No",
          "No",
          "No",
          "No",
          "No",
          "No",
          "No",
          "No",
          "No",
          "No",
          "Yes",
          "No",
          "No",
          "No",
          "No",
          "No",
          "Yes",
          "No",
          "Yes",
          "No",
          "No",
          "No",
          "No",
          "No",
          "No",
          "No",
          "Yes",
          "No",
          "No",
          "No",
          "No",
          "No",
          "No",
          "No",
          "No",
          "No",
          "Yes",
          "No",
          "No",
          "No",
          "Yes",
          "No",
          "No",
          "No",
          "Yes",
          "No",
          "No",
          "Yes",
          "No",
          "No",
          "No",
          "No",
          "No",
          "No",
          "No",
          "No",
          "No",
          "No",
          "No",
          "No",
          "Yes",
          "No",
          "No",
          "No",
          "No",
          "Yes",
          "No",
          "Yes",
          "No",
          "No",
          "No",
          "Yes",
          "No",
          "No",
          "No",
          "No",
          "No",
          "No",
          "Yes",
          "No",
          "Yes",
          "No",
          "No",
          "No",
          "No",
          "No",
          "No",
          "No",
          "No",
          "No",
          "No",
          "No",
          "No",
          "No",
          "No",
          "No",
          "No",
          "No",
          "No",
          "No",
          "No",
          "No",
          "No",
          "Yes",
          "No",
          "No",
          "Yes",
          "No",
          "No",
          "No",
          "No",
          "No",
          "No",
          "No",
          "No",
          "No",
          "No",
          "No",
          "No",
          "No",
          "No",
          "No",
          "No",
          "No",
          "No",
          "Yes",
          "No",
          "No",
          "No",
          "No",
          "Yes",
          "No",
          "No",
          "No",
          "No",
          "No",
          "No",
          "No",
          "No",
          "Yes",
          "No",
          "Yes",
          "No",
          "Yes",
          "No",
          "No",
          "No",
          "No",
          "No",
          "Yes",
          "No",
          "Yes",
          "No",
          "No",
          "Yes",
          "No",
          "No",
          "No",
          "Yes",
          "No",
          "No",
          "No",
          "No",
          "No",
          "No",
          "No",
          "Yes",
          "No",
          "No",
          "No",
          "No",
          "Yes",
          "No",
          "Yes",
          "No",
          "No",
          "No",
          "Yes",
          "No",
          "No",
          "Yes",
          "No",
          "Yes",
          "No",
          "No",
          "Yes",
          "No",
          "Yes",
          "No",
          "No",
          "Yes",
          "No",
          "No",
          "No",
          "No",
          "No",
          "Yes",
          "No",
          "Yes",
          "No",
          "Yes",
          "Yes",
          "Yes",
          "No",
          "No",
          "No",
          "Yes",
          "No",
          "Yes",
          "No",
          "No",
          "No",
          "No",
          "No",
          "No",
          "No",
          "No",
          "No",
          "No",
          "No",
          "No",
          "No",
          "No",
          "Yes",
          "No",
          "No",
          "No",
          "No",
          "Yes",
          "No",
          "Yes",
          "No",
          "No",
          "No",
          "Yes",
          "No",
          "No",
          "Yes",
          "Yes",
          "No",
          "No",
          "Yes",
          "Yes",
          "No",
          "Yes",
          "No",
          "No",
          "No",
          "Yes",
          "No",
          "No",
          "No",
          "No",
          "No",
          "No",
          "No",
          "No",
          "No",
          "No",
          "No",
          "No",
          "No",
          "No",
          "No",
          "No",
          "No",
          "Yes",
          "No",
          "Yes",
          "Yes",
          "No",
          "No",
          "Yes",
          "No",
          "No",
          "No",
          "Yes",
          "Yes",
          "Yes",
          "No",
          "No",
          "Yes",
          "No",
          "No",
          "No",
          "No",
          "No",
          "No",
          "No",
          "No",
          "No",
          "Yes",
          "No",
          "No",
          "No",
          "No",
          "No",
          "No",
          "No",
          "No",
          "No",
          "Yes",
          "Yes",
          "No",
          "No",
          "No",
          "No",
          "No",
          "No",
          "No",
          "No",
          "No",
          "No",
          "No",
          "No",
          "No",
          "Yes",
          "No",
          "No",
          "No",
          "No",
          "No",
          "No",
          "Yes",
          "No",
          "No",
          "No",
          "No",
          "No",
          "Yes",
          "No",
          "No",
          "No",
          "No",
          "No",
          "No",
          "No",
          "No",
          "No",
          "No",
          "No",
          "Yes",
          "Yes",
          "No",
          "No",
          "No",
          "No",
          "Yes",
          "No",
          "No",
          "Yes",
          "No",
          "No",
          "No",
          "No",
          "No",
          "No",
          "No",
          "Yes",
          "No",
          "No",
          "No",
          "No",
          "No",
          "No",
          "No",
          "No",
          "Yes",
          "No",
          "No",
          "No",
          "No",
          "No",
          "No",
          "No",
          "No",
          "No",
          "No",
          "No",
          "No",
          "No",
          "No",
          "Yes",
          "No",
          "No",
          "No",
          "No",
          "No",
          "Yes",
          "No",
          "No",
          "No",
          "No",
          "No",
          "No",
          "No",
          "No",
          "No",
          "No",
          "No",
          "No",
          "No",
          "No",
          "No",
          "No",
          "No",
          "No",
          "No",
          "No",
          "Yes",
          "No",
          "No",
          "No",
          "No",
          "No",
          "Yes",
          "No",
          "Yes",
          "Yes",
          "Yes",
          "No",
          "Yes",
          "No",
          "Yes",
          "Yes",
          "Yes",
          "No",
          "No",
          "No",
          "No",
          "No",
          "No",
          "No",
          "No",
          "No",
          "No",
          "No",
          "No",
          "No",
          "No",
          "No",
          "Yes",
          "No",
          "No",
          "No",
          "No",
          "No",
          "No",
          "No",
          "Yes",
          "No",
          "Yes",
          "No",
          "No",
          "No",
          "No",
          "No",
          "No",
          "Yes",
          "No",
          "No",
          "No",
          "No",
          "Yes",
          "No",
          "No",
          "No",
          "No",
          "No",
          "No",
          "No",
          "No",
          "No",
          "No",
          "No",
          "No",
          "No",
          "No",
          "No",
          "No",
          "No",
          "Yes",
          "No",
          "No",
          "No",
          "No",
          "No",
          "Yes",
          "No",
          "No",
          "No",
          "No",
          "No",
          "No",
          "No",
          "Yes",
          "No",
          "No",
          "Yes",
          "Yes",
          "No",
          "No",
          "No",
          "Yes",
          "No",
          "Yes",
          "Yes",
          "No",
          "No",
          "Yes",
          "No",
          "No",
          "No",
          "Yes",
          "No",
          "No",
          "No",
          "No",
          "No",
          "No",
          "No",
          "No",
          "No",
          "No",
          "No",
          "No",
          "No",
          "No",
          "Yes",
          "No",
          "No",
          "No",
          "No",
          "No",
          "No",
          "No",
          "Yes",
          "No",
          "No",
          "No",
          "No",
          "No",
          "No",
          "Yes",
          "Yes",
          "No",
          "No",
          "No",
          "No",
          "No",
          "No",
          "No",
          "No",
          "No",
          "No",
          "No",
          "No",
          "Yes",
          "Yes",
          "No",
          "No",
          "No",
          "No",
          "No",
          "Yes",
          "Yes",
          "No",
          "No",
          "No",
          "No",
          "No",
          "Yes",
          "No",
          "No",
          "No",
          "No",
          "No",
          "No",
          "No",
          "No",
          "No",
          "No",
          "No",
          "Yes",
          "No",
          "No",
          "No",
          "Yes",
          "No",
          "No",
          "No",
          "No",
          "No",
          "No",
          "No",
          "No",
          "Yes",
          "Yes",
          "No",
          "Yes",
          "No",
          "No",
          "No",
          "No",
          "No",
          "No",
          "No",
          "No",
          "No",
          "No",
          "No",
          "No",
          "No",
          "No",
          "No",
          "No",
          "No",
          "Yes",
          "No",
          "No",
          "No",
          "No",
          "No",
          "No",
          "No",
          "No",
          "No",
          "No",
          "No",
          "No",
          "No",
          "Yes",
          "No",
          "Yes",
          "No",
          "No",
          "No",
          "No",
          "No",
          "No",
          "No",
          "No",
          "No",
          "No",
          "No",
          "No",
          "No",
          "No",
          "No",
          "No",
          "No",
          "No",
          "No",
          "No",
          "No",
          "No",
          "Yes",
          "Yes",
          "No",
          "No",
          "No",
          "No",
          "No",
          "No",
          "Yes",
          "Yes",
          "Yes",
          "Yes",
          "No",
          "No",
          "Yes",
          "No",
          "Yes",
          "No",
          "No",
          "No",
          "No",
          "No",
          "No",
          "No",
          "No",
          "No",
          "Yes",
          "No",
          "Yes",
          "No",
          "No",
          "No",
          "No",
          "No",
          "Yes",
          "No",
          "No",
          "No",
          "Yes",
          "No",
          "Yes",
          "Yes",
          "Yes",
          "No",
          "No",
          "No",
          "Yes",
          "No",
          "No",
          "No",
          "No",
          "No",
          "Yes",
          "Yes",
          "No",
          "Yes",
          "No",
          "No",
          "No",
          "Yes",
          "No",
          "No",
          "No",
          "No",
          "No",
          "No",
          "No",
          "No",
          "Yes",
          "No",
          "No",
          "No",
          "No",
          "No",
          "No",
          "No",
          "Yes",
          "No",
          "No",
          "No",
          "No",
          "No",
          "No",
          "No",
          "No",
          "No",
          "Yes",
          "No",
          "No",
          "No",
          "No",
          "No",
          "No",
          "Yes",
          "No",
          "No",
          "No",
          "No",
          "No",
          "No",
          "No",
          "No",
          "No",
          "No",
          "No",
          "No",
          "No",
          "No",
          "No",
          "No",
          "Yes",
          "No",
          "No",
          "Yes",
          "No",
          "No",
          "Yes",
          "No",
          "Yes",
          "No",
          "No",
          "No",
          "No",
          "No",
          "No",
          "No",
          "No",
          "No",
          "Yes",
          "No",
          "No",
          "Yes",
          "No",
          "No",
          "No",
          "No",
          "No",
          "No",
          "Yes",
          "Yes",
          "No",
          "No",
          "No",
          "No",
          "No",
          "No",
          "No",
          "No",
          "No",
          "No",
          "No",
          "No",
          "No",
          "No",
          "No",
          "No",
          "No",
          "No",
          "No",
          "No",
          "No",
          "No",
          "No",
          "No",
          "No",
          "No",
          "No",
          "No",
          "No",
          "No",
          "No",
          "No",
          "No",
          "Yes",
          "No",
          "Yes",
          "No",
          "No",
          "No",
          "No",
          "No",
          "No",
          "No",
          "No",
          "No",
          "No",
          "No",
          "No",
          "No",
          "No",
          "No",
          "No",
          "No",
          "No",
          "No",
          "No",
          "No",
          "No",
          "No",
          "No",
          "No",
          "No",
          "Yes",
          "Yes",
          "No",
          "No",
          "Yes",
          "No",
          "No",
          "No",
          "No",
          "No",
          "No",
          "Yes",
          "No",
          "No",
          "No",
          "No",
          "No",
          "No",
          "No",
          "No",
          "No",
          "No",
          "No",
          "No",
          "No",
          "No",
          "No",
          "No",
          "No",
          "No",
          "No",
          "Yes",
          "No",
          "No",
          "No",
          "Yes",
          "No",
          "No",
          "No",
          "No",
          "No",
          "Yes",
          "No",
          "No",
          "No",
          "Yes",
          "No",
          "No",
          "No",
          "No",
          "No",
          "No",
          "No",
          "No",
          "Yes",
          "No",
          "Yes",
          "Yes",
          "No",
          "No",
          "No",
          "No",
          "No",
          "No",
          "No",
          "Yes",
          "No",
          "Yes",
          "No",
          "No",
          "No",
          "Yes",
          "No",
          "No",
          "Yes",
          "No",
          "No",
          "Yes",
          "No",
          "Yes",
          "No",
          "Yes",
          "No",
          "No",
          "No",
          "No",
          "No",
          "Yes",
          "No",
          "No",
          "Yes",
          "No",
          "No",
          "Yes",
          "No",
          "No",
          "No",
          "Yes",
          "Yes",
          "No",
          "No",
          "No",
          "No",
          "No",
          "No",
          "Yes",
          "No",
          "No",
          "No",
          "No",
          "No",
          "Yes",
          "No",
          "No",
          "No",
          "No",
          "No",
          "No",
          "No",
          "No",
          "No",
          "No",
          "No",
          "No",
          "No",
          "No",
          "No",
          "No",
          "No",
          "No",
          "No",
          "No",
          "Yes",
          "No",
          "No",
          "No",
          "No",
          "No",
          "No",
          "No",
          "Yes",
          "No",
          "Yes",
          "No",
          "Yes",
          "No",
          "No",
          "No",
          "No",
          "No",
          "No",
          "No",
          "No",
          "Yes",
          "No",
          "No",
          "No",
          "Yes",
          "No",
          "Yes",
          "No",
          "No",
          "No",
          "No",
          "No",
          "No",
          "No",
          "No",
          "No",
          "No",
          "No",
          "No",
          "No",
          "No",
          "No",
          "No",
          "No",
          "No",
          "No",
          "No",
          "No",
          "No",
          "No",
          "No",
          "No",
          "No",
          "Yes",
          "No",
          "No",
          "No",
          "No",
          "No",
          "No",
          "No",
          "No",
          "No",
          "No",
          "No",
          "No",
          "No",
          "No",
          "No",
          "No",
          "Yes",
          "No",
          "No",
          "No",
          "No",
          "Yes",
          "Yes",
          "No",
          "No",
          "No",
          "No",
          "Yes",
          "No",
          "No",
          "No",
          "No",
          "No",
          "No",
          "No",
          "Yes",
          "No",
          "Yes",
          "Yes",
          "No",
          "No",
          "No",
          "No",
          "No",
          "No",
          "No",
          "No",
          "No",
          "No",
          "No",
          "No",
          "No",
          "No",
          "No",
          "No",
          "No",
          "No",
          "No",
          "No",
          "No",
          "No",
          "No",
          "No",
          "No",
          "No",
          "Yes",
          "No",
          "No",
          "No",
          "No",
          "No",
          "No",
          "No",
          "No",
          "No",
          "No",
          "Yes",
          "Yes",
          "Yes",
          "Yes",
          "Yes",
          "No",
          "No",
          "No",
          "No",
          "No",
          "No",
          "No",
          "No",
          "No",
          "No",
          "No",
          "No",
          "No",
          "No",
          "No",
          "No",
          "No",
          "No",
          "No",
          "No",
          "No",
          "No",
          "No",
          "No",
          "No",
          "No",
          "No",
          "No",
          "No",
          "No",
          "No",
          "No",
          "No",
          "No",
          "No",
          "No",
          "No",
          "No",
          "No",
          "No",
          "No",
          "No",
          "No",
          "No",
          "No",
          "No",
          "No",
          "No",
          "No",
          "Yes",
          "Yes",
          "No",
          "No",
          "Yes",
          "No",
          "No",
          "No",
          "No",
          "No",
          "No",
          "Yes",
          "No",
          "No",
          "Yes",
          "No",
          "Yes",
          "Yes",
          "No",
          "No",
          "No",
          "No",
          "No",
          "No",
          "No",
          "No",
          "No",
          "Yes",
          "No",
          "No",
          "No",
          "No",
          "Yes",
          "Yes",
          "Yes",
          "No",
          "No",
          "Yes",
          "No",
          "No",
          "No",
          "No",
          "Yes",
          "No",
          "No",
          "No",
          "No",
          "No",
          "No",
          "No",
          "No",
          "No",
          "No",
          "No",
          "Yes",
          "No",
          "No",
          "No",
          "No",
          "No",
          "No",
          "No",
          "No",
          "Yes",
          "Yes",
          "No",
          "Yes",
          "Yes",
          "Yes",
          "No",
          "Yes",
          "Yes",
          "No",
          "No",
          "Yes",
          "No",
          "No",
          "No",
          "Yes",
          "Yes",
          "Yes",
          "Yes",
          "Yes",
          "No",
          "Yes",
          "No",
          "No",
          "No",
          "No",
          "No",
          "No",
          "No",
          "No",
          "No",
          "No",
          "No",
          "No",
          "No",
          "No",
          "No",
          "No",
          "No",
          "No",
          "No",
          "No",
          "No",
          "No",
          "No",
          "No",
          "No",
          "Yes",
          "No",
          "No",
          "No",
          "No",
          "No",
          "No",
          "No",
          "Yes",
          "No",
          "No",
          "No",
          "No",
          "No",
          "No",
          "No",
          "No",
          "No",
          "No",
          "No",
          "No",
          "No",
          "No",
          "No",
          "No",
          "No",
          "No",
          "No",
          "No",
          "No",
          "No",
          "No",
          "No",
          "No",
          "No",
          "No",
          "No",
          "No",
          "No",
          "No",
          "No",
          "No",
          "No",
          "No",
          "No",
          "No",
          "No",
          "No",
          "No",
          "No",
          "No",
          "No",
          "No",
          "No",
          "No",
          "No",
          "No",
          "No",
          "No",
          "No",
          "No",
          "No",
          "No",
          "No",
          "Yes",
          "No",
          "Yes",
          "No",
          "No",
          "No",
          "No",
          "No",
          "No",
          "No",
          "No",
          "No",
          "No",
          "No",
          "No",
          "No",
          "No",
          "No",
          "No",
          "No",
          "No",
          "No",
          "No",
          "No",
          "Yes",
          "No",
          "No",
          "No",
          "No",
          "No",
          "No",
          "No",
          "No",
          "No",
          "Yes",
          "No",
          "No",
          "No",
          "No",
          "No",
          "No",
          "No",
          "No"
         ]
        }
       ],
       "layout": {
        "legend": {
         "tracegroupgap": 0
        },
        "margin": {
         "t": 60
        },
        "template": {
         "data": {
          "bar": [
           {
            "error_x": {
             "color": "#2a3f5f"
            },
            "error_y": {
             "color": "#2a3f5f"
            },
            "marker": {
             "line": {
              "color": "#E5ECF6",
              "width": 0.5
             },
             "pattern": {
              "fillmode": "overlay",
              "size": 10,
              "solidity": 0.2
             }
            },
            "type": "bar"
           }
          ],
          "barpolar": [
           {
            "marker": {
             "line": {
              "color": "#E5ECF6",
              "width": 0.5
             },
             "pattern": {
              "fillmode": "overlay",
              "size": 10,
              "solidity": 0.2
             }
            },
            "type": "barpolar"
           }
          ],
          "carpet": [
           {
            "aaxis": {
             "endlinecolor": "#2a3f5f",
             "gridcolor": "white",
             "linecolor": "white",
             "minorgridcolor": "white",
             "startlinecolor": "#2a3f5f"
            },
            "baxis": {
             "endlinecolor": "#2a3f5f",
             "gridcolor": "white",
             "linecolor": "white",
             "minorgridcolor": "white",
             "startlinecolor": "#2a3f5f"
            },
            "type": "carpet"
           }
          ],
          "choropleth": [
           {
            "colorbar": {
             "outlinewidth": 0,
             "ticks": ""
            },
            "type": "choropleth"
           }
          ],
          "contour": [
           {
            "colorbar": {
             "outlinewidth": 0,
             "ticks": ""
            },
            "colorscale": [
             [
              0,
              "#0d0887"
             ],
             [
              0.1111111111111111,
              "#46039f"
             ],
             [
              0.2222222222222222,
              "#7201a8"
             ],
             [
              0.3333333333333333,
              "#9c179e"
             ],
             [
              0.4444444444444444,
              "#bd3786"
             ],
             [
              0.5555555555555556,
              "#d8576b"
             ],
             [
              0.6666666666666666,
              "#ed7953"
             ],
             [
              0.7777777777777778,
              "#fb9f3a"
             ],
             [
              0.8888888888888888,
              "#fdca26"
             ],
             [
              1,
              "#f0f921"
             ]
            ],
            "type": "contour"
           }
          ],
          "contourcarpet": [
           {
            "colorbar": {
             "outlinewidth": 0,
             "ticks": ""
            },
            "type": "contourcarpet"
           }
          ],
          "heatmap": [
           {
            "colorbar": {
             "outlinewidth": 0,
             "ticks": ""
            },
            "colorscale": [
             [
              0,
              "#0d0887"
             ],
             [
              0.1111111111111111,
              "#46039f"
             ],
             [
              0.2222222222222222,
              "#7201a8"
             ],
             [
              0.3333333333333333,
              "#9c179e"
             ],
             [
              0.4444444444444444,
              "#bd3786"
             ],
             [
              0.5555555555555556,
              "#d8576b"
             ],
             [
              0.6666666666666666,
              "#ed7953"
             ],
             [
              0.7777777777777778,
              "#fb9f3a"
             ],
             [
              0.8888888888888888,
              "#fdca26"
             ],
             [
              1,
              "#f0f921"
             ]
            ],
            "type": "heatmap"
           }
          ],
          "heatmapgl": [
           {
            "colorbar": {
             "outlinewidth": 0,
             "ticks": ""
            },
            "colorscale": [
             [
              0,
              "#0d0887"
             ],
             [
              0.1111111111111111,
              "#46039f"
             ],
             [
              0.2222222222222222,
              "#7201a8"
             ],
             [
              0.3333333333333333,
              "#9c179e"
             ],
             [
              0.4444444444444444,
              "#bd3786"
             ],
             [
              0.5555555555555556,
              "#d8576b"
             ],
             [
              0.6666666666666666,
              "#ed7953"
             ],
             [
              0.7777777777777778,
              "#fb9f3a"
             ],
             [
              0.8888888888888888,
              "#fdca26"
             ],
             [
              1,
              "#f0f921"
             ]
            ],
            "type": "heatmapgl"
           }
          ],
          "histogram": [
           {
            "marker": {
             "pattern": {
              "fillmode": "overlay",
              "size": 10,
              "solidity": 0.2
             }
            },
            "type": "histogram"
           }
          ],
          "histogram2d": [
           {
            "colorbar": {
             "outlinewidth": 0,
             "ticks": ""
            },
            "colorscale": [
             [
              0,
              "#0d0887"
             ],
             [
              0.1111111111111111,
              "#46039f"
             ],
             [
              0.2222222222222222,
              "#7201a8"
             ],
             [
              0.3333333333333333,
              "#9c179e"
             ],
             [
              0.4444444444444444,
              "#bd3786"
             ],
             [
              0.5555555555555556,
              "#d8576b"
             ],
             [
              0.6666666666666666,
              "#ed7953"
             ],
             [
              0.7777777777777778,
              "#fb9f3a"
             ],
             [
              0.8888888888888888,
              "#fdca26"
             ],
             [
              1,
              "#f0f921"
             ]
            ],
            "type": "histogram2d"
           }
          ],
          "histogram2dcontour": [
           {
            "colorbar": {
             "outlinewidth": 0,
             "ticks": ""
            },
            "colorscale": [
             [
              0,
              "#0d0887"
             ],
             [
              0.1111111111111111,
              "#46039f"
             ],
             [
              0.2222222222222222,
              "#7201a8"
             ],
             [
              0.3333333333333333,
              "#9c179e"
             ],
             [
              0.4444444444444444,
              "#bd3786"
             ],
             [
              0.5555555555555556,
              "#d8576b"
             ],
             [
              0.6666666666666666,
              "#ed7953"
             ],
             [
              0.7777777777777778,
              "#fb9f3a"
             ],
             [
              0.8888888888888888,
              "#fdca26"
             ],
             [
              1,
              "#f0f921"
             ]
            ],
            "type": "histogram2dcontour"
           }
          ],
          "mesh3d": [
           {
            "colorbar": {
             "outlinewidth": 0,
             "ticks": ""
            },
            "type": "mesh3d"
           }
          ],
          "parcoords": [
           {
            "line": {
             "colorbar": {
              "outlinewidth": 0,
              "ticks": ""
             }
            },
            "type": "parcoords"
           }
          ],
          "pie": [
           {
            "automargin": true,
            "type": "pie"
           }
          ],
          "scatter": [
           {
            "fillpattern": {
             "fillmode": "overlay",
             "size": 10,
             "solidity": 0.2
            },
            "type": "scatter"
           }
          ],
          "scatter3d": [
           {
            "line": {
             "colorbar": {
              "outlinewidth": 0,
              "ticks": ""
             }
            },
            "marker": {
             "colorbar": {
              "outlinewidth": 0,
              "ticks": ""
             }
            },
            "type": "scatter3d"
           }
          ],
          "scattercarpet": [
           {
            "marker": {
             "colorbar": {
              "outlinewidth": 0,
              "ticks": ""
             }
            },
            "type": "scattercarpet"
           }
          ],
          "scattergeo": [
           {
            "marker": {
             "colorbar": {
              "outlinewidth": 0,
              "ticks": ""
             }
            },
            "type": "scattergeo"
           }
          ],
          "scattergl": [
           {
            "marker": {
             "colorbar": {
              "outlinewidth": 0,
              "ticks": ""
             }
            },
            "type": "scattergl"
           }
          ],
          "scattermapbox": [
           {
            "marker": {
             "colorbar": {
              "outlinewidth": 0,
              "ticks": ""
             }
            },
            "type": "scattermapbox"
           }
          ],
          "scatterpolar": [
           {
            "marker": {
             "colorbar": {
              "outlinewidth": 0,
              "ticks": ""
             }
            },
            "type": "scatterpolar"
           }
          ],
          "scatterpolargl": [
           {
            "marker": {
             "colorbar": {
              "outlinewidth": 0,
              "ticks": ""
             }
            },
            "type": "scatterpolargl"
           }
          ],
          "scatterternary": [
           {
            "marker": {
             "colorbar": {
              "outlinewidth": 0,
              "ticks": ""
             }
            },
            "type": "scatterternary"
           }
          ],
          "surface": [
           {
            "colorbar": {
             "outlinewidth": 0,
             "ticks": ""
            },
            "colorscale": [
             [
              0,
              "#0d0887"
             ],
             [
              0.1111111111111111,
              "#46039f"
             ],
             [
              0.2222222222222222,
              "#7201a8"
             ],
             [
              0.3333333333333333,
              "#9c179e"
             ],
             [
              0.4444444444444444,
              "#bd3786"
             ],
             [
              0.5555555555555556,
              "#d8576b"
             ],
             [
              0.6666666666666666,
              "#ed7953"
             ],
             [
              0.7777777777777778,
              "#fb9f3a"
             ],
             [
              0.8888888888888888,
              "#fdca26"
             ],
             [
              1,
              "#f0f921"
             ]
            ],
            "type": "surface"
           }
          ],
          "table": [
           {
            "cells": {
             "fill": {
              "color": "#EBF0F8"
             },
             "line": {
              "color": "white"
             }
            },
            "header": {
             "fill": {
              "color": "#C8D4E3"
             },
             "line": {
              "color": "white"
             }
            },
            "type": "table"
           }
          ]
         },
         "layout": {
          "annotationdefaults": {
           "arrowcolor": "#2a3f5f",
           "arrowhead": 0,
           "arrowwidth": 1
          },
          "autotypenumbers": "strict",
          "coloraxis": {
           "colorbar": {
            "outlinewidth": 0,
            "ticks": ""
           }
          },
          "colorscale": {
           "diverging": [
            [
             0,
             "#8e0152"
            ],
            [
             0.1,
             "#c51b7d"
            ],
            [
             0.2,
             "#de77ae"
            ],
            [
             0.3,
             "#f1b6da"
            ],
            [
             0.4,
             "#fde0ef"
            ],
            [
             0.5,
             "#f7f7f7"
            ],
            [
             0.6,
             "#e6f5d0"
            ],
            [
             0.7,
             "#b8e186"
            ],
            [
             0.8,
             "#7fbc41"
            ],
            [
             0.9,
             "#4d9221"
            ],
            [
             1,
             "#276419"
            ]
           ],
           "sequential": [
            [
             0,
             "#0d0887"
            ],
            [
             0.1111111111111111,
             "#46039f"
            ],
            [
             0.2222222222222222,
             "#7201a8"
            ],
            [
             0.3333333333333333,
             "#9c179e"
            ],
            [
             0.4444444444444444,
             "#bd3786"
            ],
            [
             0.5555555555555556,
             "#d8576b"
            ],
            [
             0.6666666666666666,
             "#ed7953"
            ],
            [
             0.7777777777777778,
             "#fb9f3a"
            ],
            [
             0.8888888888888888,
             "#fdca26"
            ],
            [
             1,
             "#f0f921"
            ]
           ],
           "sequentialminus": [
            [
             0,
             "#0d0887"
            ],
            [
             0.1111111111111111,
             "#46039f"
            ],
            [
             0.2222222222222222,
             "#7201a8"
            ],
            [
             0.3333333333333333,
             "#9c179e"
            ],
            [
             0.4444444444444444,
             "#bd3786"
            ],
            [
             0.5555555555555556,
             "#d8576b"
            ],
            [
             0.6666666666666666,
             "#ed7953"
            ],
            [
             0.7777777777777778,
             "#fb9f3a"
            ],
            [
             0.8888888888888888,
             "#fdca26"
            ],
            [
             1,
             "#f0f921"
            ]
           ]
          },
          "colorway": [
           "#636efa",
           "#EF553B",
           "#00cc96",
           "#ab63fa",
           "#FFA15A",
           "#19d3f3",
           "#FF6692",
           "#B6E880",
           "#FF97FF",
           "#FECB52"
          ],
          "font": {
           "color": "#2a3f5f"
          },
          "geo": {
           "bgcolor": "white",
           "lakecolor": "white",
           "landcolor": "#E5ECF6",
           "showlakes": true,
           "showland": true,
           "subunitcolor": "white"
          },
          "hoverlabel": {
           "align": "left"
          },
          "hovermode": "closest",
          "mapbox": {
           "style": "light"
          },
          "paper_bgcolor": "white",
          "plot_bgcolor": "#E5ECF6",
          "polar": {
           "angularaxis": {
            "gridcolor": "white",
            "linecolor": "white",
            "ticks": ""
           },
           "bgcolor": "#E5ECF6",
           "radialaxis": {
            "gridcolor": "white",
            "linecolor": "white",
            "ticks": ""
           }
          },
          "scene": {
           "xaxis": {
            "backgroundcolor": "#E5ECF6",
            "gridcolor": "white",
            "gridwidth": 2,
            "linecolor": "white",
            "showbackground": true,
            "ticks": "",
            "zerolinecolor": "white"
           },
           "yaxis": {
            "backgroundcolor": "#E5ECF6",
            "gridcolor": "white",
            "gridwidth": 2,
            "linecolor": "white",
            "showbackground": true,
            "ticks": "",
            "zerolinecolor": "white"
           },
           "zaxis": {
            "backgroundcolor": "#E5ECF6",
            "gridcolor": "white",
            "gridwidth": 2,
            "linecolor": "white",
            "showbackground": true,
            "ticks": "",
            "zerolinecolor": "white"
           }
          },
          "shapedefaults": {
           "line": {
            "color": "#2a3f5f"
           }
          },
          "ternary": {
           "aaxis": {
            "gridcolor": "white",
            "linecolor": "white",
            "ticks": ""
           },
           "baxis": {
            "gridcolor": "white",
            "linecolor": "white",
            "ticks": ""
           },
           "bgcolor": "#E5ECF6",
           "caxis": {
            "gridcolor": "white",
            "linecolor": "white",
            "ticks": ""
           }
          },
          "title": {
           "x": 0.05
          },
          "xaxis": {
           "automargin": true,
           "gridcolor": "white",
           "linecolor": "white",
           "ticks": "",
           "title": {
            "standoff": 15
           },
           "zerolinecolor": "white",
           "zerolinewidth": 2
          },
          "yaxis": {
           "automargin": true,
           "gridcolor": "white",
           "linecolor": "white",
           "ticks": "",
           "title": {
            "standoff": 15
           },
           "zerolinecolor": "white",
           "zerolinewidth": 2
          }
         }
        }
       }
      }
     },
     "metadata": {},
     "output_type": "display_data"
    }
   ],
   "source": [
    "import plotly.express as px\n",
    "# This dataframe has 244 lines, but 4 distinct values for `day`\n",
    "fig = px.pie(df_match, values=\"match\")\n",
    "fig.show()"
   ]
  },
  {
   "cell_type": "markdown",
   "metadata": {},
   "source": []
  },
  {
   "cell_type": "markdown",
   "metadata": {},
   "source": [
    "Let's explore motivation for dating for men and women who participated in the study.\n",
    "As the goals in the dataset are coded with numbers, let's create an additional column that will describe the goal explicitly according to the dataset key."
   ]
  },
  {
   "cell_type": "code",
   "execution_count": 35,
   "metadata": {},
   "outputs": [
    {
     "ename": "NameError",
     "evalue": "name 'dating_per_person' is not defined",
     "output_type": "error",
     "traceback": [
      "\u001b[1;31m---------------------------------------------------------------------------\u001b[0m",
      "\u001b[1;31mNameError\u001b[0m                                 Traceback (most recent call last)",
      "Cell \u001b[1;32mIn [35], line 1\u001b[0m\n\u001b[1;32m----> 1\u001b[0m dating_per_person[\u001b[39m'\u001b[39m\u001b[39mgoal_name\u001b[39m\u001b[39m'\u001b[39m] \u001b[39m=\u001b[39m dating_per_person[\u001b[39m\"\u001b[39m\u001b[39mgoal\u001b[39m\u001b[39m\"\u001b[39m]\u001b[39m.\u001b[39mapply(\u001b[39mlambda\u001b[39;00m x: \u001b[39m\"\u001b[39m\u001b[39mSeemed like a fun night out\u001b[39m\u001b[39m\"\u001b[39m \u001b[39mif\u001b[39;00m x \u001b[39m==\u001b[39m \u001b[39m1\u001b[39m \u001b[39melse\u001b[39;00m \u001b[39m\"\u001b[39m\u001b[39mTo meet new people\u001b[39m\u001b[39m\"\u001b[39m \u001b[39mif\u001b[39;00m x \u001b[39m==\u001b[39m \u001b[39m2\u001b[39m \u001b[39melse\u001b[39;00m \u001b[39m\"\u001b[39m\u001b[39mTo get a date\u001b[39m\u001b[39m\"\u001b[39m \u001b[39mif\u001b[39;00m x \u001b[39m==\u001b[39m \u001b[39m3\u001b[39m \u001b[39melse\u001b[39;00m \u001b[39m\"\u001b[39m\u001b[39mLooking for a serious relationship\u001b[39m\u001b[39m\"\u001b[39m \u001b[39mif\u001b[39;00m x \u001b[39m==\u001b[39m \u001b[39m4\u001b[39m \u001b[39melse\u001b[39;00m \u001b[39m\"\u001b[39m\u001b[39mTo say I did it\u001b[39m\u001b[39m\"\u001b[39m \u001b[39mif\u001b[39;00m x\u001b[39m==\u001b[39m\u001b[39m5\u001b[39m \u001b[39melse\u001b[39;00m \u001b[39m\"\u001b[39m\u001b[39mOther\u001b[39m\u001b[39m\"\u001b[39m \u001b[39mif\u001b[39;00m x\u001b[39m==\u001b[39m\u001b[39m6\u001b[39m \u001b[39melse\u001b[39;00m \u001b[39mNone\u001b[39;00m)\n",
      "\u001b[1;31mNameError\u001b[0m: name 'dating_per_person' is not defined"
     ]
    }
   ],
   "source": [
    "dating_per_person['goal_name'] = dating_per_person[\"goal\"].apply(lambda x: \"Seemed like a fun night out\" if x == 1 else \"To meet new people\" if x == 2 else \"To get a date\" if x == 3 else \"Looking for a serious relationship\" if x == 4 else \"To say I did it\" if x==5 else \"Other\" if x==6 else None)\n",
    "#dating_per_person.head(15)"
   ]
  },
  {
   "cell_type": "markdown",
   "metadata": {},
   "source": [
    "Let's represent different goals by a separate pie chart for both genders."
   ]
  },
  {
   "cell_type": "code",
   "execution_count": null,
   "metadata": {},
   "outputs": [],
   "source": [
    "dating_females = dating_per_person.loc[dating_per_person['gender_name'] == 'Female']\n",
    "#display(dating_females.head())\n",
    "females_by_goal = dating_females[\"goal_name\"].value_counts(dropna=False)\n",
    "#display(females_by_goal)\n",
    "\n",
    "females_by_goal_array = females_by_goal.to_numpy()\n",
    "\n",
    "\n",
    "labels = 'Seemed like a fun night out', 'To meet new people', 'To get a date', 'Other', 'To say I did it', 'Looking for a serious relationship', 'N/A'\n",
    "sizes = females_by_goal_array\n",
    "\n",
    "plt.pie(sizes, labels=labels, autopct='%1.1f%%')\n",
    "#plt.legend(bbox_to_anchor=(1, 1))\n",
    "\n",
    "plt.show()\n"
   ]
  },
  {
   "cell_type": "code",
   "execution_count": null,
   "metadata": {},
   "outputs": [],
   "source": [
    "dating_males = dating_per_person.loc[dating_per_person['gender_name'] == 'Male']\n",
    "#display(dating_males.head())\n",
    "males_by_goal = dating_males[\"goal_name\"].value_counts(dropna=False)\n",
    "#display(males_by_goal)\n",
    "\n",
    "males_by_goal_array = males_by_goal.to_numpy()\n",
    "\n",
    "labels = 'Seemed like a fun night out', 'To meet new people', 'To get a date', 'Other', 'To say I did it', 'Looking for a serious relationship', 'N/A'\n",
    "sizes = males_by_goal_array\n",
    "\n",
    "plt.pie(sizes, labels=labels, autopct='%1.1f%%')\n",
    "#plt.legend(bbox_to_anchor=(1, 1))\n",
    "\n",
    "plt.show()\n"
   ]
  },
  {
   "cell_type": "code",
   "execution_count": null,
   "metadata": {},
   "outputs": [],
   "source": [
    "import numpy as np\n",
    "females_by_goal_array = females_by_goal.to_numpy()\n",
    "\n",
    "labels = 'Seemed like a fun night out', 'To meet new people', 'To get a date', 'Other', 'To say I did it', 'Looking for a serious relationship', 'N/A'\n",
    "sizes = females_by_goal_array\n",
    "\n",
    "plt.pie(sizes, labels=labels, autopct='%1.1f%%')\n",
    "plt.legend(bbox_to_anchor=(1, 1))\n",
    "\n",
    "\n",
    "plt.show()"
   ]
  },
  {
   "cell_type": "code",
   "execution_count": null,
   "metadata": {},
   "outputs": [],
   "source": [
    "labels = 'Frogs', 'Hogs', 'Dogs', 'Logs'\n",
    "sizes = [15, 30, 45, 10]\n",
    "\n",
    "plt.pie(sizes, labels=labels, autopct='%1.1f%%')\n",
    "\n",
    "plt.show()"
   ]
  },
  {
   "cell_type": "code",
   "execution_count": null,
   "metadata": {},
   "outputs": [],
   "source": [
    "#dating_per_person['note_method'] = dating_per_person[\"wave\"].apply(lambda x: '10_scale' if x == 6.0 or 7.0 or 8.0 or 9.0 else \"100_point_alloc\")\n",
    "dating_per_person['note_method'] = dating_per_person[\"wave\"].apply(lambda x: '10_scale' if x == 6 or x == 7 or x == 8 or x == 9 else \"100_point_alloc\")"
   ]
  },
  {
   "cell_type": "code",
   "execution_count": null,
   "metadata": {},
   "outputs": [],
   "source": [
    "dating_per_person.head()"
   ]
  },
  {
   "cell_type": "code",
   "execution_count": null,
   "metadata": {},
   "outputs": [],
   "source": [
    "dating_per_person_10_scale_mask = dating_per_person[\"note_method\"]==\"10_scale\"\n",
    "dating_per_person_10_scale = dating_per_person[dating_per_person_10_scale_mask].reset_index(drop=False)\n",
    "dating_per_person_10_scale.head()"
   ]
  },
  {
   "cell_type": "code",
   "execution_count": null,
   "metadata": {},
   "outputs": [],
   "source": [
    "dating_per_person_100_point_mask = dating_per_person[\"note_method\"]==\"100_point_alloc\"\n",
    "dating_per_person_100_point = dating_per_person[dating_per_person_100_point_mask].reset_index(drop=False)\n",
    "dating_per_person_100_point.head()"
   ]
  },
  {
   "cell_type": "code",
   "execution_count": null,
   "metadata": {},
   "outputs": [],
   "source": []
  },
  {
   "cell_type": "code",
   "execution_count": null,
   "metadata": {},
   "outputs": [],
   "source": []
  },
  {
   "cell_type": "code",
   "execution_count": null,
   "metadata": {},
   "outputs": [],
   "source": [
    "# creating a dataframe that contaings estimates of criteria that are important in opposite sex:\n",
    "dating_per_person_100_point = dating_per_person_100_point.groupby(\"gender_name\").mean().reset_index(drop=False)\n",
    "dating_per_person_100_point_by_gender = dating_per_person_100_point[[\"gender_name\",'iid', 'match', 'attr1_1', 'sinc1_1',\n",
    "       'intel1_1', 'fun1_1', 'amb1_1', 'shar1_1', 'attr1_s', 'sinc1_s',\n",
    "       'intel1_s', 'fun1_s', 'amb1_s', 'shar1_s', 'attr1_2', 'sinc1_2', 'intel1_2', 'fun1_2', 'amb1_2', 'shar1_2',\n",
    "       'attr1_3', 'sinc1_3', 'intel1_3', 'fun1_3', 'amb1_3', 'shar1_3']]\n",
    "dating_per_person_100_point_by_gender"
   ]
  },
  {
   "cell_type": "code",
   "execution_count": null,
   "metadata": {},
   "outputs": [],
   "source": [
    "a = 23.737295 + 17.284344 + 20.490410 + 17.266721 + 10.174208 + 11.235574\n",
    "print(a)"
   ]
  }
 ],
 "metadata": {
  "kernelspec": {
   "display_name": "Python 3.10.8 64-bit (microsoft store)",
   "language": "python",
   "name": "python3"
  },
  "language_info": {
   "codemirror_mode": {
    "name": "ipython",
    "version": 3
   },
   "file_extension": ".py",
   "mimetype": "text/x-python",
   "name": "python",
   "nbconvert_exporter": "python",
   "pygments_lexer": "ipython3",
   "version": "3.10.9"
  },
  "orig_nbformat": 2,
  "vscode": {
   "interpreter": {
    "hash": "a0fdf8838102b5a6b2938995cfca801768491c1c6585082ea8435b0dad918ca1"
   }
  }
 },
 "nbformat": 4,
 "nbformat_minor": 2
}
