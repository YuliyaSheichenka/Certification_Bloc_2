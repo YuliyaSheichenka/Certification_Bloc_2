{
 "cells": [
  {
   "attachments": {},
   "cell_type": "markdown",
   "metadata": {},
   "source": [
    "# Speed Dating\n",
    "\n",
    "## Contents\n",
    "\n",
    "1) Initial exploration of the dataset\n",
    "2) Principal \n",
    "3) Testing underlying assumptions"
   ]
  },
  {
   "cell_type": "code",
   "execution_count": 1,
   "metadata": {},
   "outputs": [],
   "source": [
    "import pandas as pd\n",
    "import seaborn as sns\n",
    "import matplotlib.pyplot as plt\n",
    "import plotly.express as px\n",
    "import numpy as np\n",
    "pd.set_option(\"max_seq_items\", None)\n",
    "pd.set_option('display.max_rows', None, 'display.max_columns', None)\n"
   ]
  },
  {
   "cell_type": "code",
   "execution_count": 2,
   "metadata": {},
   "outputs": [],
   "source": [
    "df = pd.read_csv(\"data\\speed_dating_data.csv\", encoding = \"ISO-8859-1\")\n"
   ]
  },
  {
   "attachments": {},
   "cell_type": "markdown",
   "metadata": {},
   "source": [
    "## General exploration of the dataset"
   ]
  },
  {
   "cell_type": "code",
   "execution_count": 3,
   "metadata": {},
   "outputs": [
    {
     "data": {
      "text/plain": [
       "count    8283.000000\n",
       "mean       26.358928\n",
       "std         3.566763\n",
       "min        18.000000\n",
       "25%        24.000000\n",
       "50%        26.000000\n",
       "75%        28.000000\n",
       "max        55.000000\n",
       "Name: age, dtype: float64"
      ]
     },
     "execution_count": 3,
     "metadata": {},
     "output_type": "execute_result"
    }
   ],
   "source": [
    "df[\"age\"].describe()"
   ]
  },
  {
   "attachments": {},
   "cell_type": "markdown",
   "metadata": {},
   "source": [
    "As there are a lot of columns in the dataset, I printed out the names of columns to get an overview of the features of the dataset."
   ]
  },
  {
   "cell_type": "code",
   "execution_count": 4,
   "metadata": {},
   "outputs": [
    {
     "name": "stdout",
     "output_type": "stream",
     "text": [
      "Index(['iid', 'id', 'gender', 'idg', 'condtn', 'wave', 'round', 'position',\n",
      "       'positin1', 'order', 'partner', 'pid', 'match', 'int_corr', 'samerace',\n",
      "       'age_o', 'race_o', 'pf_o_att', 'pf_o_sin', 'pf_o_int', 'pf_o_fun',\n",
      "       'pf_o_amb', 'pf_o_sha', 'dec_o', 'attr_o', 'sinc_o', 'intel_o', 'fun_o',\n",
      "       'amb_o', 'shar_o', 'like_o', 'prob_o', 'met_o', 'age', 'field',\n",
      "       'field_cd', 'undergra', 'mn_sat', 'tuition', 'race', 'imprace',\n",
      "       'imprelig', 'from', 'zipcode', 'income', 'goal', 'date', 'go_out',\n",
      "       'career', 'career_c', 'sports', 'tvsports', 'exercise', 'dining',\n",
      "       'museums', 'art', 'hiking', 'gaming', 'clubbing', 'reading', 'tv',\n",
      "       'theater', 'movies', 'concerts', 'music', 'shopping', 'yoga',\n",
      "       'exphappy', 'expnum', 'attr1_1', 'sinc1_1', 'intel1_1', 'fun1_1',\n",
      "       'amb1_1', 'shar1_1', 'attr4_1', 'sinc4_1', 'intel4_1', 'fun4_1',\n",
      "       'amb4_1', 'shar4_1', 'attr2_1', 'sinc2_1', 'intel2_1', 'fun2_1',\n",
      "       'amb2_1', 'shar2_1', 'attr3_1', 'sinc3_1', 'fun3_1', 'intel3_1',\n",
      "       'amb3_1', 'attr5_1', 'sinc5_1', 'intel5_1', 'fun5_1', 'amb5_1', 'dec',\n",
      "       'attr', 'sinc', 'intel', 'fun', 'amb', 'shar', 'like', 'prob', 'met',\n",
      "       'match_es', 'attr1_s', 'sinc1_s', 'intel1_s', 'fun1_s', 'amb1_s',\n",
      "       'shar1_s', 'attr3_s', 'sinc3_s', 'intel3_s', 'fun3_s', 'amb3_s',\n",
      "       'satis_2', 'length', 'numdat_2', 'attr7_2', 'sinc7_2', 'intel7_2',\n",
      "       'fun7_2', 'amb7_2', 'shar7_2', 'attr1_2', 'sinc1_2', 'intel1_2',\n",
      "       'fun1_2', 'amb1_2', 'shar1_2', 'attr4_2', 'sinc4_2', 'intel4_2',\n",
      "       'fun4_2', 'amb4_2', 'shar4_2', 'attr2_2', 'sinc2_2', 'intel2_2',\n",
      "       'fun2_2', 'amb2_2', 'shar2_2', 'attr3_2', 'sinc3_2', 'intel3_2',\n",
      "       'fun3_2', 'amb3_2', 'attr5_2', 'sinc5_2', 'intel5_2', 'fun5_2',\n",
      "       'amb5_2', 'you_call', 'them_cal', 'date_3', 'numdat_3', 'num_in_3',\n",
      "       'attr1_3', 'sinc1_3', 'intel1_3', 'fun1_3', 'amb1_3', 'shar1_3',\n",
      "       'attr7_3', 'sinc7_3', 'intel7_3', 'fun7_3', 'amb7_3', 'shar7_3',\n",
      "       'attr4_3', 'sinc4_3', 'intel4_3', 'fun4_3', 'amb4_3', 'shar4_3',\n",
      "       'attr2_3', 'sinc2_3', 'intel2_3', 'fun2_3', 'amb2_3', 'shar2_3',\n",
      "       'attr3_3', 'sinc3_3', 'intel3_3', 'fun3_3', 'amb3_3', 'attr5_3',\n",
      "       'sinc5_3', 'intel5_3', 'fun5_3', 'amb5_3'],\n",
      "      dtype='object')\n"
     ]
    }
   ],
   "source": [
    "print(df.columns)"
   ]
  },
  {
   "attachments": {},
   "cell_type": "markdown",
   "metadata": {},
   "source": [
    "Let's check whether there are missing values in the dataset if any."
   ]
  },
  {
   "cell_type": "code",
   "execution_count": 5,
   "metadata": {},
   "outputs": [
    {
     "data": {
      "text/plain": [
       "iid            0\n",
       "id             1\n",
       "gender         0\n",
       "idg            0\n",
       "condtn         0\n",
       "wave           0\n",
       "round          0\n",
       "position       0\n",
       "positin1    1846\n",
       "order          0\n",
       "partner        0\n",
       "pid           10\n",
       "match          0\n",
       "int_corr     158\n",
       "samerace       0\n",
       "age_o        104\n",
       "race_o        73\n",
       "pf_o_att      89\n",
       "pf_o_sin      89\n",
       "pf_o_int      89\n",
       "pf_o_fun      98\n",
       "pf_o_amb     107\n",
       "pf_o_sha     129\n",
       "dec_o          0\n",
       "attr_o       212\n",
       "sinc_o       287\n",
       "intel_o      306\n",
       "fun_o        360\n",
       "amb_o        722\n",
       "shar_o      1076\n",
       "like_o       250\n",
       "prob_o       318\n",
       "met_o        385\n",
       "age           95\n",
       "field         63\n",
       "field_cd      82\n",
       "undergra    3464\n",
       "mn_sat      5245\n",
       "tuition     4795\n",
       "race          63\n",
       "imprace       79\n",
       "imprelig      79\n",
       "from          79\n",
       "zipcode     1064\n",
       "income      4099\n",
       "goal          79\n",
       "date          97\n",
       "go_out        79\n",
       "career        89\n",
       "career_c     138\n",
       "sports        79\n",
       "tvsports      79\n",
       "exercise      79\n",
       "dining        79\n",
       "museums       79\n",
       "art           79\n",
       "hiking        79\n",
       "gaming        79\n",
       "clubbing      79\n",
       "reading       79\n",
       "tv            79\n",
       "theater       79\n",
       "movies        79\n",
       "concerts      79\n",
       "music         79\n",
       "shopping      79\n",
       "yoga          79\n",
       "exphappy     101\n",
       "expnum      6578\n",
       "attr1_1       79\n",
       "sinc1_1       79\n",
       "intel1_1      79\n",
       "fun1_1        89\n",
       "amb1_1        99\n",
       "shar1_1      121\n",
       "attr4_1     1889\n",
       "sinc4_1     1889\n",
       "intel4_1    1889\n",
       "fun4_1      1889\n",
       "amb4_1      1889\n",
       "shar4_1     1911\n",
       "attr2_1       79\n",
       "sinc2_1       79\n",
       "intel2_1      79\n",
       "fun2_1        79\n",
       "amb2_1        89\n",
       "shar2_1       89\n",
       "attr3_1      105\n",
       "sinc3_1      105\n",
       "fun3_1       105\n",
       "intel3_1     105\n",
       "amb3_1       105\n",
       "attr5_1     3472\n",
       "sinc5_1     3472\n",
       "intel5_1    3472\n",
       "fun5_1      3472\n",
       "amb5_1      3472\n",
       "dec            0\n",
       "attr         202\n",
       "sinc         277\n",
       "intel        296\n",
       "fun          350\n",
       "amb          712\n",
       "shar        1067\n",
       "like         240\n",
       "prob         309\n",
       "met          375\n",
       "match_es    1173\n",
       "attr1_s     4282\n",
       "sinc1_s     4282\n",
       "intel1_s    4282\n",
       "fun1_s      4282\n",
       "amb1_s      4282\n",
       "shar1_s     4282\n",
       "attr3_s     4378\n",
       "sinc3_s     4378\n",
       "intel3_s    4378\n",
       "fun3_s      4378\n",
       "amb3_s      4378\n",
       "satis_2      915\n",
       "length       915\n",
       "numdat_2     945\n",
       "attr7_2     6394\n",
       "sinc7_2     6423\n",
       "intel7_2    6394\n",
       "fun7_2      6394\n",
       "amb7_2      6423\n",
       "shar7_2     6404\n",
       "attr1_2      933\n",
       "sinc1_2      915\n",
       "intel1_2     915\n",
       "fun1_2       915\n",
       "amb1_2       915\n",
       "shar1_2      915\n",
       "attr4_2     2603\n",
       "sinc4_2     2603\n",
       "intel4_2    2603\n",
       "fun4_2      2603\n",
       "amb4_2      2603\n",
       "shar4_2     2603\n",
       "attr2_2     2603\n",
       "sinc2_2     2603\n",
       "intel2_2    2603\n",
       "fun2_2      2603\n",
       "amb2_2      2603\n",
       "shar2_2     2603\n",
       "attr3_2      915\n",
       "sinc3_2      915\n",
       "intel3_2     915\n",
       "fun3_2       915\n",
       "amb3_2       915\n",
       "attr5_2     4001\n",
       "sinc5_2     4001\n",
       "intel5_2    4001\n",
       "fun5_2      4001\n",
       "amb5_2      4001\n",
       "you_call    4404\n",
       "them_cal    4404\n",
       "date_3      4404\n",
       "numdat_3    6882\n",
       "num_in_3    7710\n",
       "attr1_3     4404\n",
       "sinc1_3     4404\n",
       "intel1_3    4404\n",
       "fun1_3      4404\n",
       "amb1_3      4404\n",
       "shar1_3     4404\n",
       "attr7_3     6362\n",
       "sinc7_3     6362\n",
       "intel7_3    6362\n",
       "fun7_3      6362\n",
       "amb7_3      6362\n",
       "shar7_3     6362\n",
       "attr4_3     5419\n",
       "sinc4_3     5419\n",
       "intel4_3    5419\n",
       "fun4_3      5419\n",
       "amb4_3      5419\n",
       "shar4_3     5419\n",
       "attr2_3     5419\n",
       "sinc2_3     5419\n",
       "intel2_3    5419\n",
       "fun2_3      5419\n",
       "amb2_3      5419\n",
       "shar2_3     6362\n",
       "attr3_3     4404\n",
       "sinc3_3     4404\n",
       "intel3_3    4404\n",
       "fun3_3      4404\n",
       "amb3_3      4404\n",
       "attr5_3     6362\n",
       "sinc5_3     6362\n",
       "intel5_3    6362\n",
       "fun5_3      6362\n",
       "amb5_3      6362\n",
       "dtype: int64"
      ]
     },
     "execution_count": 5,
     "metadata": {},
     "output_type": "execute_result"
    }
   ],
   "source": [
    "\n",
    "df.isnull().sum()"
   ]
  },
  {
   "cell_type": "markdown",
   "metadata": {},
   "source": []
  },
  {
   "attachments": {},
   "cell_type": "markdown",
   "metadata": {},
   "source": [
    "## General characteristics of the dataset demographic.\n",
    "\n",
    "Each participant in the study had a unique number (\"iid\"). The original dataset contains several rows for each iid, each row corresponding to a different partner that the person with the given iid met during speed dating. \n",
    "\n",
    "I grouped the dataset by the iid in order to count the number of unique participants in the study."
   ]
  },
  {
   "cell_type": "code",
   "execution_count": 6,
   "metadata": {},
   "outputs": [
    {
     "name": "stdout",
     "output_type": "stream",
     "text": [
      "Total number of participants in this study: 551\n"
     ]
    }
   ],
   "source": [
    "df_iid = df.groupby(\"iid\").mean(numeric_only=True).reset_index(drop=False)\n",
    "\n",
    "print(f\"Total number of participants in this study: {len(df_iid)}\")"
   ]
  },
  {
   "attachments": {},
   "cell_type": "markdown",
   "metadata": {},
   "source": [
    "In the dataset, the column \"gender\" contains information whether the participant was male (1) or female (0). To avoid confusion, I chose to create a column \"gender_name\" where the gender of each participant is indicated explicitly as \"Male\" or \"Female\"."
   ]
  },
  {
   "cell_type": "code",
   "execution_count": 7,
   "metadata": {},
   "outputs": [
    {
     "data": {
      "text/html": [
       "<div>\n",
       "<style scoped>\n",
       "    .dataframe tbody tr th:only-of-type {\n",
       "        vertical-align: middle;\n",
       "    }\n",
       "\n",
       "    .dataframe tbody tr th {\n",
       "        vertical-align: top;\n",
       "    }\n",
       "\n",
       "    .dataframe thead th {\n",
       "        text-align: right;\n",
       "    }\n",
       "</style>\n",
       "<table border=\"1\" class=\"dataframe\">\n",
       "  <thead>\n",
       "    <tr style=\"text-align: right;\">\n",
       "      <th></th>\n",
       "      <th>iid</th>\n",
       "      <th>gender</th>\n",
       "      <th>age</th>\n",
       "      <th>gender_name</th>\n",
       "    </tr>\n",
       "  </thead>\n",
       "  <tbody>\n",
       "    <tr>\n",
       "      <th>0</th>\n",
       "      <td>1</td>\n",
       "      <td>0.0</td>\n",
       "      <td>21.0</td>\n",
       "      <td>Female</td>\n",
       "    </tr>\n",
       "    <tr>\n",
       "      <th>1</th>\n",
       "      <td>2</td>\n",
       "      <td>0.0</td>\n",
       "      <td>24.0</td>\n",
       "      <td>Female</td>\n",
       "    </tr>\n",
       "    <tr>\n",
       "      <th>2</th>\n",
       "      <td>3</td>\n",
       "      <td>0.0</td>\n",
       "      <td>25.0</td>\n",
       "      <td>Female</td>\n",
       "    </tr>\n",
       "    <tr>\n",
       "      <th>3</th>\n",
       "      <td>4</td>\n",
       "      <td>0.0</td>\n",
       "      <td>23.0</td>\n",
       "      <td>Female</td>\n",
       "    </tr>\n",
       "    <tr>\n",
       "      <th>4</th>\n",
       "      <td>5</td>\n",
       "      <td>0.0</td>\n",
       "      <td>21.0</td>\n",
       "      <td>Female</td>\n",
       "    </tr>\n",
       "  </tbody>\n",
       "</table>\n",
       "</div>"
      ],
      "text/plain": [
       "   iid  gender   age gender_name\n",
       "0    1     0.0  21.0      Female\n",
       "1    2     0.0  24.0      Female\n",
       "2    3     0.0  25.0      Female\n",
       "3    4     0.0  23.0      Female\n",
       "4    5     0.0  21.0      Female"
      ]
     },
     "execution_count": 7,
     "metadata": {},
     "output_type": "execute_result"
    }
   ],
   "source": [
    "df_iid[\"gender_name\"] = df_iid['gender'].apply(lambda x: \"Male\" if x==1 else \"Female\")\n",
    "df_iid[['iid', 'gender', 'age', 'gender_name']].head()\n"
   ]
  },
  {
   "cell_type": "markdown",
   "metadata": {},
   "source": [
    "Each iid corresponds to a unique participant. I used the dataset grouped by iid to count the number of unique values in column \"iid\" to determine the total number of participants. I also used the dataset to count the number of men and women who participated in the study."
   ]
  },
  {
   "cell_type": "code",
   "execution_count": 8,
   "metadata": {},
   "outputs": [
    {
     "data": {
      "text/html": [
       "<div>\n",
       "<style scoped>\n",
       "    .dataframe tbody tr th:only-of-type {\n",
       "        vertical-align: middle;\n",
       "    }\n",
       "\n",
       "    .dataframe tbody tr th {\n",
       "        vertical-align: top;\n",
       "    }\n",
       "\n",
       "    .dataframe thead th {\n",
       "        text-align: right;\n",
       "    }\n",
       "</style>\n",
       "<table border=\"1\" class=\"dataframe\">\n",
       "  <thead>\n",
       "    <tr style=\"text-align: right;\">\n",
       "      <th></th>\n",
       "      <th>iid</th>\n",
       "      <th>id</th>\n",
       "      <th>gender</th>\n",
       "      <th>idg</th>\n",
       "      <th>condtn</th>\n",
       "      <th>wave</th>\n",
       "      <th>round</th>\n",
       "      <th>position</th>\n",
       "      <th>positin1</th>\n",
       "      <th>order</th>\n",
       "      <th>partner</th>\n",
       "      <th>pid</th>\n",
       "      <th>match</th>\n",
       "      <th>int_corr</th>\n",
       "      <th>samerace</th>\n",
       "      <th>age_o</th>\n",
       "      <th>race_o</th>\n",
       "      <th>pf_o_att</th>\n",
       "      <th>pf_o_sin</th>\n",
       "      <th>pf_o_int</th>\n",
       "      <th>pf_o_fun</th>\n",
       "      <th>pf_o_amb</th>\n",
       "      <th>pf_o_sha</th>\n",
       "      <th>dec_o</th>\n",
       "      <th>attr_o</th>\n",
       "      <th>sinc_o</th>\n",
       "      <th>intel_o</th>\n",
       "      <th>fun_o</th>\n",
       "      <th>amb_o</th>\n",
       "      <th>shar_o</th>\n",
       "      <th>like_o</th>\n",
       "      <th>prob_o</th>\n",
       "      <th>met_o</th>\n",
       "      <th>age</th>\n",
       "      <th>field_cd</th>\n",
       "      <th>race</th>\n",
       "      <th>imprace</th>\n",
       "      <th>imprelig</th>\n",
       "      <th>goal</th>\n",
       "      <th>date</th>\n",
       "      <th>go_out</th>\n",
       "      <th>career_c</th>\n",
       "      <th>sports</th>\n",
       "      <th>tvsports</th>\n",
       "      <th>exercise</th>\n",
       "      <th>dining</th>\n",
       "      <th>museums</th>\n",
       "      <th>art</th>\n",
       "      <th>hiking</th>\n",
       "      <th>gaming</th>\n",
       "      <th>clubbing</th>\n",
       "      <th>reading</th>\n",
       "      <th>tv</th>\n",
       "      <th>theater</th>\n",
       "      <th>movies</th>\n",
       "      <th>concerts</th>\n",
       "      <th>music</th>\n",
       "      <th>shopping</th>\n",
       "      <th>yoga</th>\n",
       "      <th>exphappy</th>\n",
       "      <th>expnum</th>\n",
       "      <th>attr1_1</th>\n",
       "      <th>sinc1_1</th>\n",
       "      <th>intel1_1</th>\n",
       "      <th>fun1_1</th>\n",
       "      <th>amb1_1</th>\n",
       "      <th>shar1_1</th>\n",
       "      <th>attr4_1</th>\n",
       "      <th>sinc4_1</th>\n",
       "      <th>intel4_1</th>\n",
       "      <th>fun4_1</th>\n",
       "      <th>amb4_1</th>\n",
       "      <th>shar4_1</th>\n",
       "      <th>attr2_1</th>\n",
       "      <th>sinc2_1</th>\n",
       "      <th>intel2_1</th>\n",
       "      <th>fun2_1</th>\n",
       "      <th>amb2_1</th>\n",
       "      <th>shar2_1</th>\n",
       "      <th>attr3_1</th>\n",
       "      <th>sinc3_1</th>\n",
       "      <th>fun3_1</th>\n",
       "      <th>intel3_1</th>\n",
       "      <th>amb3_1</th>\n",
       "      <th>attr5_1</th>\n",
       "      <th>sinc5_1</th>\n",
       "      <th>intel5_1</th>\n",
       "      <th>fun5_1</th>\n",
       "      <th>amb5_1</th>\n",
       "      <th>dec</th>\n",
       "      <th>attr</th>\n",
       "      <th>sinc</th>\n",
       "      <th>intel</th>\n",
       "      <th>fun</th>\n",
       "      <th>amb</th>\n",
       "      <th>shar</th>\n",
       "      <th>like</th>\n",
       "      <th>prob</th>\n",
       "      <th>met</th>\n",
       "      <th>match_es</th>\n",
       "      <th>attr1_s</th>\n",
       "      <th>sinc1_s</th>\n",
       "      <th>intel1_s</th>\n",
       "      <th>fun1_s</th>\n",
       "      <th>amb1_s</th>\n",
       "      <th>shar1_s</th>\n",
       "      <th>attr3_s</th>\n",
       "      <th>sinc3_s</th>\n",
       "      <th>intel3_s</th>\n",
       "      <th>fun3_s</th>\n",
       "      <th>amb3_s</th>\n",
       "      <th>satis_2</th>\n",
       "      <th>length</th>\n",
       "      <th>numdat_2</th>\n",
       "      <th>attr7_2</th>\n",
       "      <th>sinc7_2</th>\n",
       "      <th>intel7_2</th>\n",
       "      <th>fun7_2</th>\n",
       "      <th>amb7_2</th>\n",
       "      <th>shar7_2</th>\n",
       "      <th>attr1_2</th>\n",
       "      <th>sinc1_2</th>\n",
       "      <th>intel1_2</th>\n",
       "      <th>fun1_2</th>\n",
       "      <th>amb1_2</th>\n",
       "      <th>shar1_2</th>\n",
       "      <th>attr4_2</th>\n",
       "      <th>sinc4_2</th>\n",
       "      <th>intel4_2</th>\n",
       "      <th>fun4_2</th>\n",
       "      <th>amb4_2</th>\n",
       "      <th>shar4_2</th>\n",
       "      <th>attr2_2</th>\n",
       "      <th>sinc2_2</th>\n",
       "      <th>intel2_2</th>\n",
       "      <th>fun2_2</th>\n",
       "      <th>amb2_2</th>\n",
       "      <th>shar2_2</th>\n",
       "      <th>attr3_2</th>\n",
       "      <th>sinc3_2</th>\n",
       "      <th>intel3_2</th>\n",
       "      <th>fun3_2</th>\n",
       "      <th>amb3_2</th>\n",
       "      <th>attr5_2</th>\n",
       "      <th>sinc5_2</th>\n",
       "      <th>intel5_2</th>\n",
       "      <th>fun5_2</th>\n",
       "      <th>amb5_2</th>\n",
       "      <th>you_call</th>\n",
       "      <th>them_cal</th>\n",
       "      <th>date_3</th>\n",
       "      <th>numdat_3</th>\n",
       "      <th>num_in_3</th>\n",
       "      <th>attr1_3</th>\n",
       "      <th>sinc1_3</th>\n",
       "      <th>intel1_3</th>\n",
       "      <th>fun1_3</th>\n",
       "      <th>amb1_3</th>\n",
       "      <th>shar1_3</th>\n",
       "      <th>attr7_3</th>\n",
       "      <th>sinc7_3</th>\n",
       "      <th>intel7_3</th>\n",
       "      <th>fun7_3</th>\n",
       "      <th>amb7_3</th>\n",
       "      <th>shar7_3</th>\n",
       "      <th>attr4_3</th>\n",
       "      <th>sinc4_3</th>\n",
       "      <th>intel4_3</th>\n",
       "      <th>fun4_3</th>\n",
       "      <th>amb4_3</th>\n",
       "      <th>shar4_3</th>\n",
       "      <th>attr2_3</th>\n",
       "      <th>sinc2_3</th>\n",
       "      <th>intel2_3</th>\n",
       "      <th>fun2_3</th>\n",
       "      <th>amb2_3</th>\n",
       "      <th>shar2_3</th>\n",
       "      <th>attr3_3</th>\n",
       "      <th>sinc3_3</th>\n",
       "      <th>intel3_3</th>\n",
       "      <th>fun3_3</th>\n",
       "      <th>amb3_3</th>\n",
       "      <th>attr5_3</th>\n",
       "      <th>sinc5_3</th>\n",
       "      <th>intel5_3</th>\n",
       "      <th>fun5_3</th>\n",
       "      <th>amb5_3</th>\n",
       "      <th>gender_name</th>\n",
       "    </tr>\n",
       "  </thead>\n",
       "  <tbody>\n",
       "    <tr>\n",
       "      <th>10</th>\n",
       "      <td>11</td>\n",
       "      <td>1.0</td>\n",
       "      <td>1.0</td>\n",
       "      <td>2.0</td>\n",
       "      <td>1.0</td>\n",
       "      <td>1.0</td>\n",
       "      <td>10.0</td>\n",
       "      <td>5.5</td>\n",
       "      <td>NaN</td>\n",
       "      <td>5.5</td>\n",
       "      <td>5.5</td>\n",
       "      <td>5.5</td>\n",
       "      <td>0.0</td>\n",
       "      <td>0.056</td>\n",
       "      <td>0.6</td>\n",
       "      <td>23.6</td>\n",
       "      <td>3.0</td>\n",
       "      <td>20.409</td>\n",
       "      <td>14.318</td>\n",
       "      <td>23.227</td>\n",
       "      <td>22.318</td>\n",
       "      <td>10.318</td>\n",
       "      <td>9.409</td>\n",
       "      <td>0.4</td>\n",
       "      <td>5.6</td>\n",
       "      <td>8.8</td>\n",
       "      <td>8.2</td>\n",
       "      <td>5.4</td>\n",
       "      <td>6.4</td>\n",
       "      <td>5.222222</td>\n",
       "      <td>6.2</td>\n",
       "      <td>5.200000</td>\n",
       "      <td>1.9</td>\n",
       "      <td>27.0</td>\n",
       "      <td>8.0</td>\n",
       "      <td>2.0</td>\n",
       "      <td>7.0</td>\n",
       "      <td>3.0</td>\n",
       "      <td>1.0</td>\n",
       "      <td>5.0</td>\n",
       "      <td>4.0</td>\n",
       "      <td>2.0</td>\n",
       "      <td>8.0</td>\n",
       "      <td>7.0</td>\n",
       "      <td>2.0</td>\n",
       "      <td>6.0</td>\n",
       "      <td>7.0</td>\n",
       "      <td>5.0</td>\n",
       "      <td>5.0</td>\n",
       "      <td>5.0</td>\n",
       "      <td>4.0</td>\n",
       "      <td>9.0</td>\n",
       "      <td>2.0</td>\n",
       "      <td>4.0</td>\n",
       "      <td>8.0</td>\n",
       "      <td>7.0</td>\n",
       "      <td>8.0</td>\n",
       "      <td>5.0</td>\n",
       "      <td>1.0</td>\n",
       "      <td>7.0</td>\n",
       "      <td>3.0</td>\n",
       "      <td>35.0</td>\n",
       "      <td>20.0</td>\n",
       "      <td>20.0</td>\n",
       "      <td>20.0</td>\n",
       "      <td>0.0</td>\n",
       "      <td>5.0</td>\n",
       "      <td>NaN</td>\n",
       "      <td>NaN</td>\n",
       "      <td>NaN</td>\n",
       "      <td>NaN</td>\n",
       "      <td>NaN</td>\n",
       "      <td>NaN</td>\n",
       "      <td>25.0</td>\n",
       "      <td>5.0</td>\n",
       "      <td>20.0</td>\n",
       "      <td>20.0</td>\n",
       "      <td>25.0</td>\n",
       "      <td>5.0</td>\n",
       "      <td>8.0</td>\n",
       "      <td>9.0</td>\n",
       "      <td>7.0</td>\n",
       "      <td>8.0</td>\n",
       "      <td>5.0</td>\n",
       "      <td>NaN</td>\n",
       "      <td>NaN</td>\n",
       "      <td>NaN</td>\n",
       "      <td>NaN</td>\n",
       "      <td>NaN</td>\n",
       "      <td>0.0</td>\n",
       "      <td>6.8</td>\n",
       "      <td>7.8</td>\n",
       "      <td>7.2</td>\n",
       "      <td>7.6</td>\n",
       "      <td>7.10</td>\n",
       "      <td>5.10</td>\n",
       "      <td>6.4</td>\n",
       "      <td>3.5</td>\n",
       "      <td>1.900</td>\n",
       "      <td>0.0</td>\n",
       "      <td>NaN</td>\n",
       "      <td>NaN</td>\n",
       "      <td>NaN</td>\n",
       "      <td>NaN</td>\n",
       "      <td>NaN</td>\n",
       "      <td>NaN</td>\n",
       "      <td>NaN</td>\n",
       "      <td>NaN</td>\n",
       "      <td>NaN</td>\n",
       "      <td>NaN</td>\n",
       "      <td>NaN</td>\n",
       "      <td>7.0</td>\n",
       "      <td>2.0</td>\n",
       "      <td>NaN</td>\n",
       "      <td>NaN</td>\n",
       "      <td>NaN</td>\n",
       "      <td>NaN</td>\n",
       "      <td>NaN</td>\n",
       "      <td>NaN</td>\n",
       "      <td>NaN</td>\n",
       "      <td>19.51</td>\n",
       "      <td>17.07</td>\n",
       "      <td>17.07</td>\n",
       "      <td>17.07</td>\n",
       "      <td>12.20</td>\n",
       "      <td>17.07</td>\n",
       "      <td>NaN</td>\n",
       "      <td>NaN</td>\n",
       "      <td>NaN</td>\n",
       "      <td>NaN</td>\n",
       "      <td>NaN</td>\n",
       "      <td>NaN</td>\n",
       "      <td>NaN</td>\n",
       "      <td>NaN</td>\n",
       "      <td>NaN</td>\n",
       "      <td>NaN</td>\n",
       "      <td>NaN</td>\n",
       "      <td>NaN</td>\n",
       "      <td>8.0</td>\n",
       "      <td>8.0</td>\n",
       "      <td>8.0</td>\n",
       "      <td>6.0</td>\n",
       "      <td>5.0</td>\n",
       "      <td>NaN</td>\n",
       "      <td>NaN</td>\n",
       "      <td>NaN</td>\n",
       "      <td>NaN</td>\n",
       "      <td>NaN</td>\n",
       "      <td>0.0</td>\n",
       "      <td>0.0</td>\n",
       "      <td>0.0</td>\n",
       "      <td>NaN</td>\n",
       "      <td>NaN</td>\n",
       "      <td>35.0</td>\n",
       "      <td>25.0</td>\n",
       "      <td>15.0</td>\n",
       "      <td>15.0</td>\n",
       "      <td>0.0</td>\n",
       "      <td>10.0</td>\n",
       "      <td>NaN</td>\n",
       "      <td>NaN</td>\n",
       "      <td>NaN</td>\n",
       "      <td>NaN</td>\n",
       "      <td>NaN</td>\n",
       "      <td>NaN</td>\n",
       "      <td>NaN</td>\n",
       "      <td>NaN</td>\n",
       "      <td>NaN</td>\n",
       "      <td>NaN</td>\n",
       "      <td>NaN</td>\n",
       "      <td>NaN</td>\n",
       "      <td>NaN</td>\n",
       "      <td>NaN</td>\n",
       "      <td>NaN</td>\n",
       "      <td>NaN</td>\n",
       "      <td>NaN</td>\n",
       "      <td>NaN</td>\n",
       "      <td>7.0</td>\n",
       "      <td>8.0</td>\n",
       "      <td>7.0</td>\n",
       "      <td>7.0</td>\n",
       "      <td>5.0</td>\n",
       "      <td>NaN</td>\n",
       "      <td>NaN</td>\n",
       "      <td>NaN</td>\n",
       "      <td>NaN</td>\n",
       "      <td>NaN</td>\n",
       "      <td>Male</td>\n",
       "    </tr>\n",
       "    <tr>\n",
       "      <th>11</th>\n",
       "      <td>12</td>\n",
       "      <td>2.0</td>\n",
       "      <td>1.0</td>\n",
       "      <td>4.0</td>\n",
       "      <td>1.0</td>\n",
       "      <td>1.0</td>\n",
       "      <td>10.0</td>\n",
       "      <td>5.5</td>\n",
       "      <td>NaN</td>\n",
       "      <td>5.5</td>\n",
       "      <td>5.5</td>\n",
       "      <td>5.5</td>\n",
       "      <td>0.2</td>\n",
       "      <td>0.155</td>\n",
       "      <td>0.6</td>\n",
       "      <td>23.6</td>\n",
       "      <td>3.0</td>\n",
       "      <td>20.409</td>\n",
       "      <td>14.318</td>\n",
       "      <td>23.227</td>\n",
       "      <td>22.318</td>\n",
       "      <td>10.318</td>\n",
       "      <td>9.409</td>\n",
       "      <td>0.4</td>\n",
       "      <td>7.1</td>\n",
       "      <td>6.6</td>\n",
       "      <td>7.1</td>\n",
       "      <td>6.7</td>\n",
       "      <td>6.9</td>\n",
       "      <td>6.111111</td>\n",
       "      <td>6.9</td>\n",
       "      <td>4.200000</td>\n",
       "      <td>1.5</td>\n",
       "      <td>22.0</td>\n",
       "      <td>1.0</td>\n",
       "      <td>2.0</td>\n",
       "      <td>1.0</td>\n",
       "      <td>1.0</td>\n",
       "      <td>1.0</td>\n",
       "      <td>1.0</td>\n",
       "      <td>1.0</td>\n",
       "      <td>1.0</td>\n",
       "      <td>9.0</td>\n",
       "      <td>7.0</td>\n",
       "      <td>9.0</td>\n",
       "      <td>8.0</td>\n",
       "      <td>7.0</td>\n",
       "      <td>6.0</td>\n",
       "      <td>3.0</td>\n",
       "      <td>3.0</td>\n",
       "      <td>5.0</td>\n",
       "      <td>6.0</td>\n",
       "      <td>6.0</td>\n",
       "      <td>4.0</td>\n",
       "      <td>7.0</td>\n",
       "      <td>7.0</td>\n",
       "      <td>9.0</td>\n",
       "      <td>5.0</td>\n",
       "      <td>5.0</td>\n",
       "      <td>7.0</td>\n",
       "      <td>20.0</td>\n",
       "      <td>60.0</td>\n",
       "      <td>0.0</td>\n",
       "      <td>0.0</td>\n",
       "      <td>40.0</td>\n",
       "      <td>0.0</td>\n",
       "      <td>0.0</td>\n",
       "      <td>NaN</td>\n",
       "      <td>NaN</td>\n",
       "      <td>NaN</td>\n",
       "      <td>NaN</td>\n",
       "      <td>NaN</td>\n",
       "      <td>NaN</td>\n",
       "      <td>25.0</td>\n",
       "      <td>15.0</td>\n",
       "      <td>25.0</td>\n",
       "      <td>20.0</td>\n",
       "      <td>15.0</td>\n",
       "      <td>0.0</td>\n",
       "      <td>9.0</td>\n",
       "      <td>9.0</td>\n",
       "      <td>9.0</td>\n",
       "      <td>10.0</td>\n",
       "      <td>9.0</td>\n",
       "      <td>NaN</td>\n",
       "      <td>NaN</td>\n",
       "      <td>NaN</td>\n",
       "      <td>NaN</td>\n",
       "      <td>NaN</td>\n",
       "      <td>0.3</td>\n",
       "      <td>6.2</td>\n",
       "      <td>6.7</td>\n",
       "      <td>9.1</td>\n",
       "      <td>5.9</td>\n",
       "      <td>5.70</td>\n",
       "      <td>4.70</td>\n",
       "      <td>6.9</td>\n",
       "      <td>3.5</td>\n",
       "      <td>1.700</td>\n",
       "      <td>3.0</td>\n",
       "      <td>NaN</td>\n",
       "      <td>NaN</td>\n",
       "      <td>NaN</td>\n",
       "      <td>NaN</td>\n",
       "      <td>NaN</td>\n",
       "      <td>NaN</td>\n",
       "      <td>NaN</td>\n",
       "      <td>NaN</td>\n",
       "      <td>NaN</td>\n",
       "      <td>NaN</td>\n",
       "      <td>NaN</td>\n",
       "      <td>NaN</td>\n",
       "      <td>NaN</td>\n",
       "      <td>NaN</td>\n",
       "      <td>NaN</td>\n",
       "      <td>NaN</td>\n",
       "      <td>NaN</td>\n",
       "      <td>NaN</td>\n",
       "      <td>NaN</td>\n",
       "      <td>NaN</td>\n",
       "      <td>NaN</td>\n",
       "      <td>NaN</td>\n",
       "      <td>NaN</td>\n",
       "      <td>NaN</td>\n",
       "      <td>NaN</td>\n",
       "      <td>NaN</td>\n",
       "      <td>NaN</td>\n",
       "      <td>NaN</td>\n",
       "      <td>NaN</td>\n",
       "      <td>NaN</td>\n",
       "      <td>NaN</td>\n",
       "      <td>NaN</td>\n",
       "      <td>NaN</td>\n",
       "      <td>NaN</td>\n",
       "      <td>NaN</td>\n",
       "      <td>NaN</td>\n",
       "      <td>NaN</td>\n",
       "      <td>NaN</td>\n",
       "      <td>NaN</td>\n",
       "      <td>NaN</td>\n",
       "      <td>NaN</td>\n",
       "      <td>NaN</td>\n",
       "      <td>NaN</td>\n",
       "      <td>NaN</td>\n",
       "      <td>NaN</td>\n",
       "      <td>NaN</td>\n",
       "      <td>NaN</td>\n",
       "      <td>NaN</td>\n",
       "      <td>NaN</td>\n",
       "      <td>NaN</td>\n",
       "      <td>NaN</td>\n",
       "      <td>NaN</td>\n",
       "      <td>NaN</td>\n",
       "      <td>NaN</td>\n",
       "      <td>NaN</td>\n",
       "      <td>NaN</td>\n",
       "      <td>NaN</td>\n",
       "      <td>NaN</td>\n",
       "      <td>NaN</td>\n",
       "      <td>NaN</td>\n",
       "      <td>NaN</td>\n",
       "      <td>NaN</td>\n",
       "      <td>NaN</td>\n",
       "      <td>NaN</td>\n",
       "      <td>NaN</td>\n",
       "      <td>NaN</td>\n",
       "      <td>NaN</td>\n",
       "      <td>NaN</td>\n",
       "      <td>NaN</td>\n",
       "      <td>NaN</td>\n",
       "      <td>NaN</td>\n",
       "      <td>NaN</td>\n",
       "      <td>NaN</td>\n",
       "      <td>NaN</td>\n",
       "      <td>NaN</td>\n",
       "      <td>NaN</td>\n",
       "      <td>NaN</td>\n",
       "      <td>NaN</td>\n",
       "      <td>NaN</td>\n",
       "      <td>NaN</td>\n",
       "      <td>NaN</td>\n",
       "      <td>NaN</td>\n",
       "      <td>NaN</td>\n",
       "      <td>NaN</td>\n",
       "      <td>NaN</td>\n",
       "      <td>NaN</td>\n",
       "      <td>NaN</td>\n",
       "      <td>Male</td>\n",
       "    </tr>\n",
       "    <tr>\n",
       "      <th>12</th>\n",
       "      <td>13</td>\n",
       "      <td>3.0</td>\n",
       "      <td>1.0</td>\n",
       "      <td>6.0</td>\n",
       "      <td>1.0</td>\n",
       "      <td>1.0</td>\n",
       "      <td>10.0</td>\n",
       "      <td>5.5</td>\n",
       "      <td>NaN</td>\n",
       "      <td>5.5</td>\n",
       "      <td>5.5</td>\n",
       "      <td>5.5</td>\n",
       "      <td>0.4</td>\n",
       "      <td>0.119</td>\n",
       "      <td>0.3</td>\n",
       "      <td>23.6</td>\n",
       "      <td>3.0</td>\n",
       "      <td>20.409</td>\n",
       "      <td>14.318</td>\n",
       "      <td>23.227</td>\n",
       "      <td>22.318</td>\n",
       "      <td>10.318</td>\n",
       "      <td>9.409</td>\n",
       "      <td>0.4</td>\n",
       "      <td>4.8</td>\n",
       "      <td>7.9</td>\n",
       "      <td>8.8</td>\n",
       "      <td>7.0</td>\n",
       "      <td>5.9</td>\n",
       "      <td>5.888889</td>\n",
       "      <td>6.4</td>\n",
       "      <td>5.111111</td>\n",
       "      <td>1.6</td>\n",
       "      <td>22.0</td>\n",
       "      <td>1.0</td>\n",
       "      <td>4.0</td>\n",
       "      <td>3.0</td>\n",
       "      <td>5.0</td>\n",
       "      <td>2.0</td>\n",
       "      <td>7.0</td>\n",
       "      <td>1.0</td>\n",
       "      <td>1.0</td>\n",
       "      <td>7.0</td>\n",
       "      <td>8.0</td>\n",
       "      <td>2.0</td>\n",
       "      <td>9.0</td>\n",
       "      <td>5.0</td>\n",
       "      <td>6.0</td>\n",
       "      <td>4.0</td>\n",
       "      <td>7.0</td>\n",
       "      <td>7.0</td>\n",
       "      <td>6.0</td>\n",
       "      <td>8.0</td>\n",
       "      <td>10.0</td>\n",
       "      <td>8.0</td>\n",
       "      <td>9.0</td>\n",
       "      <td>9.0</td>\n",
       "      <td>8.0</td>\n",
       "      <td>1.0</td>\n",
       "      <td>3.0</td>\n",
       "      <td>4.0</td>\n",
       "      <td>19.0</td>\n",
       "      <td>18.0</td>\n",
       "      <td>19.0</td>\n",
       "      <td>18.0</td>\n",
       "      <td>14.0</td>\n",
       "      <td>12.0</td>\n",
       "      <td>NaN</td>\n",
       "      <td>NaN</td>\n",
       "      <td>NaN</td>\n",
       "      <td>NaN</td>\n",
       "      <td>NaN</td>\n",
       "      <td>NaN</td>\n",
       "      <td>20.0</td>\n",
       "      <td>16.0</td>\n",
       "      <td>16.0</td>\n",
       "      <td>18.0</td>\n",
       "      <td>16.0</td>\n",
       "      <td>14.0</td>\n",
       "      <td>4.0</td>\n",
       "      <td>7.0</td>\n",
       "      <td>8.0</td>\n",
       "      <td>8.0</td>\n",
       "      <td>3.0</td>\n",
       "      <td>NaN</td>\n",
       "      <td>NaN</td>\n",
       "      <td>NaN</td>\n",
       "      <td>NaN</td>\n",
       "      <td>NaN</td>\n",
       "      <td>1.0</td>\n",
       "      <td>10.0</td>\n",
       "      <td>10.0</td>\n",
       "      <td>10.0</td>\n",
       "      <td>10.0</td>\n",
       "      <td>10.00</td>\n",
       "      <td>10.00</td>\n",
       "      <td>10.0</td>\n",
       "      <td>10.0</td>\n",
       "      <td>1.625</td>\n",
       "      <td>NaN</td>\n",
       "      <td>NaN</td>\n",
       "      <td>NaN</td>\n",
       "      <td>NaN</td>\n",
       "      <td>NaN</td>\n",
       "      <td>NaN</td>\n",
       "      <td>NaN</td>\n",
       "      <td>NaN</td>\n",
       "      <td>NaN</td>\n",
       "      <td>NaN</td>\n",
       "      <td>NaN</td>\n",
       "      <td>NaN</td>\n",
       "      <td>10.0</td>\n",
       "      <td>3.0</td>\n",
       "      <td>1.0</td>\n",
       "      <td>NaN</td>\n",
       "      <td>NaN</td>\n",
       "      <td>NaN</td>\n",
       "      <td>NaN</td>\n",
       "      <td>NaN</td>\n",
       "      <td>NaN</td>\n",
       "      <td>20.00</td>\n",
       "      <td>20.00</td>\n",
       "      <td>20.00</td>\n",
       "      <td>20.00</td>\n",
       "      <td>7.50</td>\n",
       "      <td>12.50</td>\n",
       "      <td>NaN</td>\n",
       "      <td>NaN</td>\n",
       "      <td>NaN</td>\n",
       "      <td>NaN</td>\n",
       "      <td>NaN</td>\n",
       "      <td>NaN</td>\n",
       "      <td>NaN</td>\n",
       "      <td>NaN</td>\n",
       "      <td>NaN</td>\n",
       "      <td>NaN</td>\n",
       "      <td>NaN</td>\n",
       "      <td>NaN</td>\n",
       "      <td>3.0</td>\n",
       "      <td>7.0</td>\n",
       "      <td>7.0</td>\n",
       "      <td>8.0</td>\n",
       "      <td>2.0</td>\n",
       "      <td>NaN</td>\n",
       "      <td>NaN</td>\n",
       "      <td>NaN</td>\n",
       "      <td>NaN</td>\n",
       "      <td>NaN</td>\n",
       "      <td>NaN</td>\n",
       "      <td>NaN</td>\n",
       "      <td>NaN</td>\n",
       "      <td>NaN</td>\n",
       "      <td>NaN</td>\n",
       "      <td>NaN</td>\n",
       "      <td>NaN</td>\n",
       "      <td>NaN</td>\n",
       "      <td>NaN</td>\n",
       "      <td>NaN</td>\n",
       "      <td>NaN</td>\n",
       "      <td>NaN</td>\n",
       "      <td>NaN</td>\n",
       "      <td>NaN</td>\n",
       "      <td>NaN</td>\n",
       "      <td>NaN</td>\n",
       "      <td>NaN</td>\n",
       "      <td>NaN</td>\n",
       "      <td>NaN</td>\n",
       "      <td>NaN</td>\n",
       "      <td>NaN</td>\n",
       "      <td>NaN</td>\n",
       "      <td>NaN</td>\n",
       "      <td>NaN</td>\n",
       "      <td>NaN</td>\n",
       "      <td>NaN</td>\n",
       "      <td>NaN</td>\n",
       "      <td>NaN</td>\n",
       "      <td>NaN</td>\n",
       "      <td>NaN</td>\n",
       "      <td>NaN</td>\n",
       "      <td>NaN</td>\n",
       "      <td>NaN</td>\n",
       "      <td>NaN</td>\n",
       "      <td>NaN</td>\n",
       "      <td>NaN</td>\n",
       "      <td>NaN</td>\n",
       "      <td>NaN</td>\n",
       "      <td>NaN</td>\n",
       "      <td>Male</td>\n",
       "    </tr>\n",
       "    <tr>\n",
       "      <th>13</th>\n",
       "      <td>14</td>\n",
       "      <td>4.0</td>\n",
       "      <td>1.0</td>\n",
       "      <td>8.0</td>\n",
       "      <td>1.0</td>\n",
       "      <td>1.0</td>\n",
       "      <td>10.0</td>\n",
       "      <td>5.5</td>\n",
       "      <td>NaN</td>\n",
       "      <td>5.5</td>\n",
       "      <td>5.5</td>\n",
       "      <td>5.5</td>\n",
       "      <td>0.8</td>\n",
       "      <td>-0.057</td>\n",
       "      <td>0.6</td>\n",
       "      <td>23.6</td>\n",
       "      <td>3.0</td>\n",
       "      <td>20.409</td>\n",
       "      <td>14.318</td>\n",
       "      <td>23.227</td>\n",
       "      <td>22.318</td>\n",
       "      <td>10.318</td>\n",
       "      <td>9.409</td>\n",
       "      <td>0.8</td>\n",
       "      <td>8.2</td>\n",
       "      <td>7.6</td>\n",
       "      <td>7.4</td>\n",
       "      <td>7.6</td>\n",
       "      <td>6.6</td>\n",
       "      <td>7.444444</td>\n",
       "      <td>7.7</td>\n",
       "      <td>5.500000</td>\n",
       "      <td>1.6</td>\n",
       "      <td>23.0</td>\n",
       "      <td>1.0</td>\n",
       "      <td>2.0</td>\n",
       "      <td>1.0</td>\n",
       "      <td>1.0</td>\n",
       "      <td>2.0</td>\n",
       "      <td>4.0</td>\n",
       "      <td>1.0</td>\n",
       "      <td>1.0</td>\n",
       "      <td>10.0</td>\n",
       "      <td>6.0</td>\n",
       "      <td>8.0</td>\n",
       "      <td>8.0</td>\n",
       "      <td>3.0</td>\n",
       "      <td>3.0</td>\n",
       "      <td>10.0</td>\n",
       "      <td>8.0</td>\n",
       "      <td>8.0</td>\n",
       "      <td>6.0</td>\n",
       "      <td>7.0</td>\n",
       "      <td>3.0</td>\n",
       "      <td>10.0</td>\n",
       "      <td>6.0</td>\n",
       "      <td>8.0</td>\n",
       "      <td>6.0</td>\n",
       "      <td>1.0</td>\n",
       "      <td>8.0</td>\n",
       "      <td>15.0</td>\n",
       "      <td>30.0</td>\n",
       "      <td>5.0</td>\n",
       "      <td>15.0</td>\n",
       "      <td>40.0</td>\n",
       "      <td>5.0</td>\n",
       "      <td>5.0</td>\n",
       "      <td>NaN</td>\n",
       "      <td>NaN</td>\n",
       "      <td>NaN</td>\n",
       "      <td>NaN</td>\n",
       "      <td>NaN</td>\n",
       "      <td>NaN</td>\n",
       "      <td>20.0</td>\n",
       "      <td>15.0</td>\n",
       "      <td>20.0</td>\n",
       "      <td>20.0</td>\n",
       "      <td>5.0</td>\n",
       "      <td>20.0</td>\n",
       "      <td>9.0</td>\n",
       "      <td>9.0</td>\n",
       "      <td>9.0</td>\n",
       "      <td>9.0</td>\n",
       "      <td>9.0</td>\n",
       "      <td>NaN</td>\n",
       "      <td>NaN</td>\n",
       "      <td>NaN</td>\n",
       "      <td>NaN</td>\n",
       "      <td>NaN</td>\n",
       "      <td>1.0</td>\n",
       "      <td>7.2</td>\n",
       "      <td>8.1</td>\n",
       "      <td>7.8</td>\n",
       "      <td>8.2</td>\n",
       "      <td>8.70</td>\n",
       "      <td>8.30</td>\n",
       "      <td>7.5</td>\n",
       "      <td>7.3</td>\n",
       "      <td>1.600</td>\n",
       "      <td>NaN</td>\n",
       "      <td>NaN</td>\n",
       "      <td>NaN</td>\n",
       "      <td>NaN</td>\n",
       "      <td>NaN</td>\n",
       "      <td>NaN</td>\n",
       "      <td>NaN</td>\n",
       "      <td>NaN</td>\n",
       "      <td>NaN</td>\n",
       "      <td>NaN</td>\n",
       "      <td>NaN</td>\n",
       "      <td>NaN</td>\n",
       "      <td>6.0</td>\n",
       "      <td>3.0</td>\n",
       "      <td>NaN</td>\n",
       "      <td>NaN</td>\n",
       "      <td>NaN</td>\n",
       "      <td>NaN</td>\n",
       "      <td>NaN</td>\n",
       "      <td>NaN</td>\n",
       "      <td>NaN</td>\n",
       "      <td>20.00</td>\n",
       "      <td>14.29</td>\n",
       "      <td>17.14</td>\n",
       "      <td>22.86</td>\n",
       "      <td>14.29</td>\n",
       "      <td>11.43</td>\n",
       "      <td>NaN</td>\n",
       "      <td>NaN</td>\n",
       "      <td>NaN</td>\n",
       "      <td>NaN</td>\n",
       "      <td>NaN</td>\n",
       "      <td>NaN</td>\n",
       "      <td>NaN</td>\n",
       "      <td>NaN</td>\n",
       "      <td>NaN</td>\n",
       "      <td>NaN</td>\n",
       "      <td>NaN</td>\n",
       "      <td>NaN</td>\n",
       "      <td>9.0</td>\n",
       "      <td>9.0</td>\n",
       "      <td>9.0</td>\n",
       "      <td>9.0</td>\n",
       "      <td>9.0</td>\n",
       "      <td>NaN</td>\n",
       "      <td>NaN</td>\n",
       "      <td>NaN</td>\n",
       "      <td>NaN</td>\n",
       "      <td>NaN</td>\n",
       "      <td>1.0</td>\n",
       "      <td>1.0</td>\n",
       "      <td>0.0</td>\n",
       "      <td>NaN</td>\n",
       "      <td>NaN</td>\n",
       "      <td>30.0</td>\n",
       "      <td>10.0</td>\n",
       "      <td>20.0</td>\n",
       "      <td>30.0</td>\n",
       "      <td>5.0</td>\n",
       "      <td>5.0</td>\n",
       "      <td>NaN</td>\n",
       "      <td>NaN</td>\n",
       "      <td>NaN</td>\n",
       "      <td>NaN</td>\n",
       "      <td>NaN</td>\n",
       "      <td>NaN</td>\n",
       "      <td>NaN</td>\n",
       "      <td>NaN</td>\n",
       "      <td>NaN</td>\n",
       "      <td>NaN</td>\n",
       "      <td>NaN</td>\n",
       "      <td>NaN</td>\n",
       "      <td>NaN</td>\n",
       "      <td>NaN</td>\n",
       "      <td>NaN</td>\n",
       "      <td>NaN</td>\n",
       "      <td>NaN</td>\n",
       "      <td>NaN</td>\n",
       "      <td>9.0</td>\n",
       "      <td>9.0</td>\n",
       "      <td>9.0</td>\n",
       "      <td>9.0</td>\n",
       "      <td>9.0</td>\n",
       "      <td>NaN</td>\n",
       "      <td>NaN</td>\n",
       "      <td>NaN</td>\n",
       "      <td>NaN</td>\n",
       "      <td>NaN</td>\n",
       "      <td>Male</td>\n",
       "    </tr>\n",
       "    <tr>\n",
       "      <th>14</th>\n",
       "      <td>15</td>\n",
       "      <td>5.0</td>\n",
       "      <td>1.0</td>\n",
       "      <td>10.0</td>\n",
       "      <td>1.0</td>\n",
       "      <td>1.0</td>\n",
       "      <td>10.0</td>\n",
       "      <td>5.5</td>\n",
       "      <td>NaN</td>\n",
       "      <td>5.5</td>\n",
       "      <td>5.5</td>\n",
       "      <td>5.5</td>\n",
       "      <td>0.3</td>\n",
       "      <td>0.052</td>\n",
       "      <td>0.0</td>\n",
       "      <td>23.6</td>\n",
       "      <td>3.0</td>\n",
       "      <td>20.409</td>\n",
       "      <td>14.318</td>\n",
       "      <td>23.227</td>\n",
       "      <td>22.318</td>\n",
       "      <td>10.318</td>\n",
       "      <td>9.409</td>\n",
       "      <td>0.3</td>\n",
       "      <td>5.7</td>\n",
       "      <td>7.6</td>\n",
       "      <td>7.7</td>\n",
       "      <td>7.2</td>\n",
       "      <td>6.5</td>\n",
       "      <td>6.666667</td>\n",
       "      <td>6.3</td>\n",
       "      <td>4.777778</td>\n",
       "      <td>1.7</td>\n",
       "      <td>24.0</td>\n",
       "      <td>1.0</td>\n",
       "      <td>3.0</td>\n",
       "      <td>3.0</td>\n",
       "      <td>1.0</td>\n",
       "      <td>1.0</td>\n",
       "      <td>4.0</td>\n",
       "      <td>1.0</td>\n",
       "      <td>1.0</td>\n",
       "      <td>9.0</td>\n",
       "      <td>7.0</td>\n",
       "      <td>9.0</td>\n",
       "      <td>7.0</td>\n",
       "      <td>4.0</td>\n",
       "      <td>3.0</td>\n",
       "      <td>6.0</td>\n",
       "      <td>7.0</td>\n",
       "      <td>9.0</td>\n",
       "      <td>8.0</td>\n",
       "      <td>6.0</td>\n",
       "      <td>9.0</td>\n",
       "      <td>9.0</td>\n",
       "      <td>6.0</td>\n",
       "      <td>7.0</td>\n",
       "      <td>2.0</td>\n",
       "      <td>1.0</td>\n",
       "      <td>5.0</td>\n",
       "      <td>9.0</td>\n",
       "      <td>30.0</td>\n",
       "      <td>10.0</td>\n",
       "      <td>20.0</td>\n",
       "      <td>10.0</td>\n",
       "      <td>10.0</td>\n",
       "      <td>20.0</td>\n",
       "      <td>NaN</td>\n",
       "      <td>NaN</td>\n",
       "      <td>NaN</td>\n",
       "      <td>NaN</td>\n",
       "      <td>NaN</td>\n",
       "      <td>NaN</td>\n",
       "      <td>20.0</td>\n",
       "      <td>20.0</td>\n",
       "      <td>20.0</td>\n",
       "      <td>20.0</td>\n",
       "      <td>10.0</td>\n",
       "      <td>10.0</td>\n",
       "      <td>7.0</td>\n",
       "      <td>7.0</td>\n",
       "      <td>7.0</td>\n",
       "      <td>9.0</td>\n",
       "      <td>9.0</td>\n",
       "      <td>NaN</td>\n",
       "      <td>NaN</td>\n",
       "      <td>NaN</td>\n",
       "      <td>NaN</td>\n",
       "      <td>NaN</td>\n",
       "      <td>0.9</td>\n",
       "      <td>7.6</td>\n",
       "      <td>8.5</td>\n",
       "      <td>8.8</td>\n",
       "      <td>7.5</td>\n",
       "      <td>8.25</td>\n",
       "      <td>6.75</td>\n",
       "      <td>7.7</td>\n",
       "      <td>4.9</td>\n",
       "      <td>1.800</td>\n",
       "      <td>NaN</td>\n",
       "      <td>NaN</td>\n",
       "      <td>NaN</td>\n",
       "      <td>NaN</td>\n",
       "      <td>NaN</td>\n",
       "      <td>NaN</td>\n",
       "      <td>NaN</td>\n",
       "      <td>NaN</td>\n",
       "      <td>NaN</td>\n",
       "      <td>NaN</td>\n",
       "      <td>NaN</td>\n",
       "      <td>NaN</td>\n",
       "      <td>8.0</td>\n",
       "      <td>2.0</td>\n",
       "      <td>1.0</td>\n",
       "      <td>NaN</td>\n",
       "      <td>NaN</td>\n",
       "      <td>NaN</td>\n",
       "      <td>NaN</td>\n",
       "      <td>NaN</td>\n",
       "      <td>NaN</td>\n",
       "      <td>21.21</td>\n",
       "      <td>18.18</td>\n",
       "      <td>12.12</td>\n",
       "      <td>21.21</td>\n",
       "      <td>6.06</td>\n",
       "      <td>21.21</td>\n",
       "      <td>NaN</td>\n",
       "      <td>NaN</td>\n",
       "      <td>NaN</td>\n",
       "      <td>NaN</td>\n",
       "      <td>NaN</td>\n",
       "      <td>NaN</td>\n",
       "      <td>NaN</td>\n",
       "      <td>NaN</td>\n",
       "      <td>NaN</td>\n",
       "      <td>NaN</td>\n",
       "      <td>NaN</td>\n",
       "      <td>NaN</td>\n",
       "      <td>7.0</td>\n",
       "      <td>7.0</td>\n",
       "      <td>9.0</td>\n",
       "      <td>7.0</td>\n",
       "      <td>9.0</td>\n",
       "      <td>NaN</td>\n",
       "      <td>NaN</td>\n",
       "      <td>NaN</td>\n",
       "      <td>NaN</td>\n",
       "      <td>NaN</td>\n",
       "      <td>3.0</td>\n",
       "      <td>0.0</td>\n",
       "      <td>0.0</td>\n",
       "      <td>NaN</td>\n",
       "      <td>NaN</td>\n",
       "      <td>30.0</td>\n",
       "      <td>10.0</td>\n",
       "      <td>20.0</td>\n",
       "      <td>20.0</td>\n",
       "      <td>5.0</td>\n",
       "      <td>15.0</td>\n",
       "      <td>NaN</td>\n",
       "      <td>NaN</td>\n",
       "      <td>NaN</td>\n",
       "      <td>NaN</td>\n",
       "      <td>NaN</td>\n",
       "      <td>NaN</td>\n",
       "      <td>NaN</td>\n",
       "      <td>NaN</td>\n",
       "      <td>NaN</td>\n",
       "      <td>NaN</td>\n",
       "      <td>NaN</td>\n",
       "      <td>NaN</td>\n",
       "      <td>NaN</td>\n",
       "      <td>NaN</td>\n",
       "      <td>NaN</td>\n",
       "      <td>NaN</td>\n",
       "      <td>NaN</td>\n",
       "      <td>NaN</td>\n",
       "      <td>7.0</td>\n",
       "      <td>7.0</td>\n",
       "      <td>9.0</td>\n",
       "      <td>7.0</td>\n",
       "      <td>9.0</td>\n",
       "      <td>NaN</td>\n",
       "      <td>NaN</td>\n",
       "      <td>NaN</td>\n",
       "      <td>NaN</td>\n",
       "      <td>NaN</td>\n",
       "      <td>Male</td>\n",
       "    </tr>\n",
       "  </tbody>\n",
       "</table>\n",
       "</div>"
      ],
      "text/plain": [
       "    iid   id  gender   idg  condtn  wave  round  position  positin1  order  \\\n",
       "10   11  1.0     1.0   2.0     1.0   1.0   10.0       5.5       NaN    5.5   \n",
       "11   12  2.0     1.0   4.0     1.0   1.0   10.0       5.5       NaN    5.5   \n",
       "12   13  3.0     1.0   6.0     1.0   1.0   10.0       5.5       NaN    5.5   \n",
       "13   14  4.0     1.0   8.0     1.0   1.0   10.0       5.5       NaN    5.5   \n",
       "14   15  5.0     1.0  10.0     1.0   1.0   10.0       5.5       NaN    5.5   \n",
       "\n",
       "    partner  pid  match  int_corr  samerace  age_o  race_o  pf_o_att  \\\n",
       "10      5.5  5.5    0.0     0.056       0.6   23.6     3.0    20.409   \n",
       "11      5.5  5.5    0.2     0.155       0.6   23.6     3.0    20.409   \n",
       "12      5.5  5.5    0.4     0.119       0.3   23.6     3.0    20.409   \n",
       "13      5.5  5.5    0.8    -0.057       0.6   23.6     3.0    20.409   \n",
       "14      5.5  5.5    0.3     0.052       0.0   23.6     3.0    20.409   \n",
       "\n",
       "    pf_o_sin  pf_o_int  pf_o_fun  pf_o_amb  pf_o_sha  dec_o  attr_o  sinc_o  \\\n",
       "10    14.318    23.227    22.318    10.318     9.409    0.4     5.6     8.8   \n",
       "11    14.318    23.227    22.318    10.318     9.409    0.4     7.1     6.6   \n",
       "12    14.318    23.227    22.318    10.318     9.409    0.4     4.8     7.9   \n",
       "13    14.318    23.227    22.318    10.318     9.409    0.8     8.2     7.6   \n",
       "14    14.318    23.227    22.318    10.318     9.409    0.3     5.7     7.6   \n",
       "\n",
       "    intel_o  fun_o  amb_o    shar_o  like_o    prob_o  met_o   age  field_cd  \\\n",
       "10      8.2    5.4    6.4  5.222222     6.2  5.200000    1.9  27.0       8.0   \n",
       "11      7.1    6.7    6.9  6.111111     6.9  4.200000    1.5  22.0       1.0   \n",
       "12      8.8    7.0    5.9  5.888889     6.4  5.111111    1.6  22.0       1.0   \n",
       "13      7.4    7.6    6.6  7.444444     7.7  5.500000    1.6  23.0       1.0   \n",
       "14      7.7    7.2    6.5  6.666667     6.3  4.777778    1.7  24.0       1.0   \n",
       "\n",
       "    race  imprace  imprelig  goal  date  go_out  career_c  sports  tvsports  \\\n",
       "10   2.0      7.0       3.0   1.0   5.0     4.0       2.0     8.0       7.0   \n",
       "11   2.0      1.0       1.0   1.0   1.0     1.0       1.0     9.0       7.0   \n",
       "12   4.0      3.0       5.0   2.0   7.0     1.0       1.0     7.0       8.0   \n",
       "13   2.0      1.0       1.0   2.0   4.0     1.0       1.0    10.0       6.0   \n",
       "14   3.0      3.0       1.0   1.0   4.0     1.0       1.0     9.0       7.0   \n",
       "\n",
       "    exercise  dining  museums  art  hiking  gaming  clubbing  reading   tv  \\\n",
       "10       2.0     6.0      7.0  5.0     5.0     5.0       4.0      9.0  2.0   \n",
       "11       9.0     8.0      7.0  6.0     3.0     3.0       5.0      6.0  6.0   \n",
       "12       2.0     9.0      5.0  6.0     4.0     7.0       7.0      6.0  8.0   \n",
       "13       8.0     8.0      3.0  3.0    10.0     8.0       8.0      6.0  7.0   \n",
       "14       9.0     7.0      4.0  3.0     6.0     7.0       9.0      8.0  6.0   \n",
       "\n",
       "    theater  movies  concerts  music  shopping  yoga  exphappy  expnum  \\\n",
       "10      4.0     8.0       7.0    8.0       5.0   1.0       7.0     3.0   \n",
       "11      4.0     7.0       7.0    9.0       5.0   5.0       7.0    20.0   \n",
       "12     10.0     8.0       9.0    9.0       8.0   1.0       3.0     4.0   \n",
       "13      3.0    10.0       6.0    8.0       6.0   1.0       8.0    15.0   \n",
       "14      9.0     9.0       6.0    7.0       2.0   1.0       5.0     9.0   \n",
       "\n",
       "    attr1_1  sinc1_1  intel1_1  fun1_1  amb1_1  shar1_1  attr4_1  sinc4_1  \\\n",
       "10     35.0     20.0      20.0    20.0     0.0      5.0      NaN      NaN   \n",
       "11     60.0      0.0       0.0    40.0     0.0      0.0      NaN      NaN   \n",
       "12     19.0     18.0      19.0    18.0    14.0     12.0      NaN      NaN   \n",
       "13     30.0      5.0      15.0    40.0     5.0      5.0      NaN      NaN   \n",
       "14     30.0     10.0      20.0    10.0    10.0     20.0      NaN      NaN   \n",
       "\n",
       "    intel4_1  fun4_1  amb4_1  shar4_1  attr2_1  sinc2_1  intel2_1  fun2_1  \\\n",
       "10       NaN     NaN     NaN      NaN     25.0      5.0      20.0    20.0   \n",
       "11       NaN     NaN     NaN      NaN     25.0     15.0      25.0    20.0   \n",
       "12       NaN     NaN     NaN      NaN     20.0     16.0      16.0    18.0   \n",
       "13       NaN     NaN     NaN      NaN     20.0     15.0      20.0    20.0   \n",
       "14       NaN     NaN     NaN      NaN     20.0     20.0      20.0    20.0   \n",
       "\n",
       "    amb2_1  shar2_1  attr3_1  sinc3_1  fun3_1  intel3_1  amb3_1  attr5_1  \\\n",
       "10    25.0      5.0      8.0      9.0     7.0       8.0     5.0      NaN   \n",
       "11    15.0      0.0      9.0      9.0     9.0      10.0     9.0      NaN   \n",
       "12    16.0     14.0      4.0      7.0     8.0       8.0     3.0      NaN   \n",
       "13     5.0     20.0      9.0      9.0     9.0       9.0     9.0      NaN   \n",
       "14    10.0     10.0      7.0      7.0     7.0       9.0     9.0      NaN   \n",
       "\n",
       "    sinc5_1  intel5_1  fun5_1  amb5_1  dec  attr  sinc  intel   fun    amb  \\\n",
       "10      NaN       NaN     NaN     NaN  0.0   6.8   7.8    7.2   7.6   7.10   \n",
       "11      NaN       NaN     NaN     NaN  0.3   6.2   6.7    9.1   5.9   5.70   \n",
       "12      NaN       NaN     NaN     NaN  1.0  10.0  10.0   10.0  10.0  10.00   \n",
       "13      NaN       NaN     NaN     NaN  1.0   7.2   8.1    7.8   8.2   8.70   \n",
       "14      NaN       NaN     NaN     NaN  0.9   7.6   8.5    8.8   7.5   8.25   \n",
       "\n",
       "     shar  like  prob    met  match_es  attr1_s  sinc1_s  intel1_s  fun1_s  \\\n",
       "10   5.10   6.4   3.5  1.900       0.0      NaN      NaN       NaN     NaN   \n",
       "11   4.70   6.9   3.5  1.700       3.0      NaN      NaN       NaN     NaN   \n",
       "12  10.00  10.0  10.0  1.625       NaN      NaN      NaN       NaN     NaN   \n",
       "13   8.30   7.5   7.3  1.600       NaN      NaN      NaN       NaN     NaN   \n",
       "14   6.75   7.7   4.9  1.800       NaN      NaN      NaN       NaN     NaN   \n",
       "\n",
       "    amb1_s  shar1_s  attr3_s  sinc3_s  intel3_s  fun3_s  amb3_s  satis_2  \\\n",
       "10     NaN      NaN      NaN      NaN       NaN     NaN     NaN      7.0   \n",
       "11     NaN      NaN      NaN      NaN       NaN     NaN     NaN      NaN   \n",
       "12     NaN      NaN      NaN      NaN       NaN     NaN     NaN     10.0   \n",
       "13     NaN      NaN      NaN      NaN       NaN     NaN     NaN      6.0   \n",
       "14     NaN      NaN      NaN      NaN       NaN     NaN     NaN      8.0   \n",
       "\n",
       "    length  numdat_2  attr7_2  sinc7_2  intel7_2  fun7_2  amb7_2  shar7_2  \\\n",
       "10     2.0       NaN      NaN      NaN       NaN     NaN     NaN      NaN   \n",
       "11     NaN       NaN      NaN      NaN       NaN     NaN     NaN      NaN   \n",
       "12     3.0       1.0      NaN      NaN       NaN     NaN     NaN      NaN   \n",
       "13     3.0       NaN      NaN      NaN       NaN     NaN     NaN      NaN   \n",
       "14     2.0       1.0      NaN      NaN       NaN     NaN     NaN      NaN   \n",
       "\n",
       "    attr1_2  sinc1_2  intel1_2  fun1_2  amb1_2  shar1_2  attr4_2  sinc4_2  \\\n",
       "10    19.51    17.07     17.07   17.07   12.20    17.07      NaN      NaN   \n",
       "11      NaN      NaN       NaN     NaN     NaN      NaN      NaN      NaN   \n",
       "12    20.00    20.00     20.00   20.00    7.50    12.50      NaN      NaN   \n",
       "13    20.00    14.29     17.14   22.86   14.29    11.43      NaN      NaN   \n",
       "14    21.21    18.18     12.12   21.21    6.06    21.21      NaN      NaN   \n",
       "\n",
       "    intel4_2  fun4_2  amb4_2  shar4_2  attr2_2  sinc2_2  intel2_2  fun2_2  \\\n",
       "10       NaN     NaN     NaN      NaN      NaN      NaN       NaN     NaN   \n",
       "11       NaN     NaN     NaN      NaN      NaN      NaN       NaN     NaN   \n",
       "12       NaN     NaN     NaN      NaN      NaN      NaN       NaN     NaN   \n",
       "13       NaN     NaN     NaN      NaN      NaN      NaN       NaN     NaN   \n",
       "14       NaN     NaN     NaN      NaN      NaN      NaN       NaN     NaN   \n",
       "\n",
       "    amb2_2  shar2_2  attr3_2  sinc3_2  intel3_2  fun3_2  amb3_2  attr5_2  \\\n",
       "10     NaN      NaN      8.0      8.0       8.0     6.0     5.0      NaN   \n",
       "11     NaN      NaN      NaN      NaN       NaN     NaN     NaN      NaN   \n",
       "12     NaN      NaN      3.0      7.0       7.0     8.0     2.0      NaN   \n",
       "13     NaN      NaN      9.0      9.0       9.0     9.0     9.0      NaN   \n",
       "14     NaN      NaN      7.0      7.0       9.0     7.0     9.0      NaN   \n",
       "\n",
       "    sinc5_2  intel5_2  fun5_2  amb5_2  you_call  them_cal  date_3  numdat_3  \\\n",
       "10      NaN       NaN     NaN     NaN       0.0       0.0     0.0       NaN   \n",
       "11      NaN       NaN     NaN     NaN       NaN       NaN     NaN       NaN   \n",
       "12      NaN       NaN     NaN     NaN       NaN       NaN     NaN       NaN   \n",
       "13      NaN       NaN     NaN     NaN       1.0       1.0     0.0       NaN   \n",
       "14      NaN       NaN     NaN     NaN       3.0       0.0     0.0       NaN   \n",
       "\n",
       "    num_in_3  attr1_3  sinc1_3  intel1_3  fun1_3  amb1_3  shar1_3  attr7_3  \\\n",
       "10       NaN     35.0     25.0      15.0    15.0     0.0     10.0      NaN   \n",
       "11       NaN      NaN      NaN       NaN     NaN     NaN      NaN      NaN   \n",
       "12       NaN      NaN      NaN       NaN     NaN     NaN      NaN      NaN   \n",
       "13       NaN     30.0     10.0      20.0    30.0     5.0      5.0      NaN   \n",
       "14       NaN     30.0     10.0      20.0    20.0     5.0     15.0      NaN   \n",
       "\n",
       "    sinc7_3  intel7_3  fun7_3  amb7_3  shar7_3  attr4_3  sinc4_3  intel4_3  \\\n",
       "10      NaN       NaN     NaN     NaN      NaN      NaN      NaN       NaN   \n",
       "11      NaN       NaN     NaN     NaN      NaN      NaN      NaN       NaN   \n",
       "12      NaN       NaN     NaN     NaN      NaN      NaN      NaN       NaN   \n",
       "13      NaN       NaN     NaN     NaN      NaN      NaN      NaN       NaN   \n",
       "14      NaN       NaN     NaN     NaN      NaN      NaN      NaN       NaN   \n",
       "\n",
       "    fun4_3  amb4_3  shar4_3  attr2_3  sinc2_3  intel2_3  fun2_3  amb2_3  \\\n",
       "10     NaN     NaN      NaN      NaN      NaN       NaN     NaN     NaN   \n",
       "11     NaN     NaN      NaN      NaN      NaN       NaN     NaN     NaN   \n",
       "12     NaN     NaN      NaN      NaN      NaN       NaN     NaN     NaN   \n",
       "13     NaN     NaN      NaN      NaN      NaN       NaN     NaN     NaN   \n",
       "14     NaN     NaN      NaN      NaN      NaN       NaN     NaN     NaN   \n",
       "\n",
       "    shar2_3  attr3_3  sinc3_3  intel3_3  fun3_3  amb3_3  attr5_3  sinc5_3  \\\n",
       "10      NaN      7.0      8.0       7.0     7.0     5.0      NaN      NaN   \n",
       "11      NaN      NaN      NaN       NaN     NaN     NaN      NaN      NaN   \n",
       "12      NaN      NaN      NaN       NaN     NaN     NaN      NaN      NaN   \n",
       "13      NaN      9.0      9.0       9.0     9.0     9.0      NaN      NaN   \n",
       "14      NaN      7.0      7.0       9.0     7.0     9.0      NaN      NaN   \n",
       "\n",
       "    intel5_3  fun5_3  amb5_3 gender_name  \n",
       "10       NaN     NaN     NaN        Male  \n",
       "11       NaN     NaN     NaN        Male  \n",
       "12       NaN     NaN     NaN        Male  \n",
       "13       NaN     NaN     NaN        Male  \n",
       "14       NaN     NaN     NaN        Male  "
      ]
     },
     "execution_count": 8,
     "metadata": {},
     "output_type": "execute_result"
    }
   ],
   "source": [
    "df_iid[df_iid[\"gender_name\"] == \"Male\"].head()"
   ]
  },
  {
   "cell_type": "code",
   "execution_count": 9,
   "metadata": {},
   "outputs": [
    {
     "name": "stdout",
     "output_type": "stream",
     "text": [
      "There were 277 male participants and 274 female participants in the study.\n"
     ]
    }
   ],
   "source": [
    "nb_women = len(df_iid[df_iid[\"gender_name\"] == \"Female\"])\n",
    "nb_men = len(df_iid[df_iid[\"gender_name\"] == \"Male\"])\n",
    "print(f\"There were {nb_men} male participants and {nb_women} female participants in the study.\")\n"
   ]
  },
  {
   "cell_type": "code",
   "execution_count": 10,
   "metadata": {},
   "outputs": [
    {
     "data": {
      "application/vnd.plotly.v1+json": {
       "config": {
        "plotlyServerURL": "https://plot.ly"
       },
       "data": [
        {
         "alignmentgroup": "True",
         "hovertemplate": "gender_name=%{x}<br>age=%{y}<extra></extra>",
         "legendgroup": "Female",
         "marker": {
          "color": "#F78FE4"
         },
         "name": "Female",
         "notched": false,
         "offsetgroup": "Female",
         "orientation": "v",
         "showlegend": true,
         "type": "box",
         "x": [
          "Female",
          "Female",
          "Female",
          "Female",
          "Female",
          "Female",
          "Female",
          "Female",
          "Female",
          "Female",
          "Female",
          "Female",
          "Female",
          "Female",
          "Female",
          "Female",
          "Female",
          "Female",
          "Female",
          "Female",
          "Female",
          "Female",
          "Female",
          "Female",
          "Female",
          "Female",
          "Female",
          "Female",
          "Female",
          "Female",
          "Female",
          "Female",
          "Female",
          "Female",
          "Female",
          "Female",
          "Female",
          "Female",
          "Female",
          "Female",
          "Female",
          "Female",
          "Female",
          "Female",
          "Female",
          "Female",
          "Female",
          "Female",
          "Female",
          "Female",
          "Female",
          "Female",
          "Female",
          "Female",
          "Female",
          "Female",
          "Female",
          "Female",
          "Female",
          "Female",
          "Female",
          "Female",
          "Female",
          "Female",
          "Female",
          "Female",
          "Female",
          "Female",
          "Female",
          "Female",
          "Female",
          "Female",
          "Female",
          "Female",
          "Female",
          "Female",
          "Female",
          "Female",
          "Female",
          "Female",
          "Female",
          "Female",
          "Female",
          "Female",
          "Female",
          "Female",
          "Female",
          "Female",
          "Female",
          "Female",
          "Female",
          "Female",
          "Female",
          "Female",
          "Female",
          "Female",
          "Female",
          "Female",
          "Female",
          "Female",
          "Female",
          "Female",
          "Female",
          "Female",
          "Female",
          "Female",
          "Female",
          "Female",
          "Female",
          "Female",
          "Female",
          "Female",
          "Female",
          "Female",
          "Female",
          "Female",
          "Female",
          "Female",
          "Female",
          "Female",
          "Female",
          "Female",
          "Female",
          "Female",
          "Female",
          "Female",
          "Female",
          "Female",
          "Female",
          "Female",
          "Female",
          "Female",
          "Female",
          "Female",
          "Female",
          "Female",
          "Female",
          "Female",
          "Female",
          "Female",
          "Female",
          "Female",
          "Female",
          "Female",
          "Female",
          "Female",
          "Female",
          "Female",
          "Female",
          "Female",
          "Female",
          "Female",
          "Female",
          "Female",
          "Female",
          "Female",
          "Female",
          "Female",
          "Female",
          "Female",
          "Female",
          "Female",
          "Female",
          "Female",
          "Female",
          "Female",
          "Female",
          "Female",
          "Female",
          "Female",
          "Female",
          "Female",
          "Female",
          "Female",
          "Female",
          "Female",
          "Female",
          "Female",
          "Female",
          "Female",
          "Female",
          "Female",
          "Female",
          "Female",
          "Female",
          "Female",
          "Female",
          "Female",
          "Female",
          "Female",
          "Female",
          "Female",
          "Female",
          "Female",
          "Female",
          "Female",
          "Female",
          "Female",
          "Female",
          "Female",
          "Female",
          "Female",
          "Female",
          "Female",
          "Female",
          "Female",
          "Female",
          "Female",
          "Female",
          "Female",
          "Female",
          "Female",
          "Female",
          "Female",
          "Female",
          "Female",
          "Female",
          "Female",
          "Female",
          "Female",
          "Female",
          "Female",
          "Female",
          "Female",
          "Female",
          "Female",
          "Female",
          "Female",
          "Female",
          "Female",
          "Female",
          "Female",
          "Female",
          "Female",
          "Female",
          "Female",
          "Female",
          "Female",
          "Female",
          "Female",
          "Female",
          "Female",
          "Female",
          "Female",
          "Female",
          "Female",
          "Female",
          "Female",
          "Female",
          "Female",
          "Female",
          "Female",
          "Female",
          "Female",
          "Female",
          "Female",
          "Female",
          "Female",
          "Female",
          "Female",
          "Female",
          "Female",
          "Female",
          "Female",
          "Female",
          "Female",
          "Female",
          "Female",
          "Female",
          "Female",
          "Female",
          "Female",
          "Female",
          "Female"
         ],
         "x0": " ",
         "xaxis": "x",
         "y": [
          21,
          24,
          25,
          23,
          21,
          23,
          22,
          25,
          26,
          26,
          21,
          27,
          21,
          27,
          25,
          23,
          22,
          26,
          22,
          23,
          24,
          27,
          30,
          21,
          25,
          26,
          27,
          23,
          24,
          23,
          22,
          null,
          null,
          29,
          28,
          26,
          24,
          27,
          23,
          34,
          22,
          23,
          26,
          27,
          28,
          25,
          35,
          32,
          30,
          22,
          23,
          23,
          27,
          23,
          25,
          29,
          29,
          20,
          21,
          20,
          21,
          21,
          21,
          19,
          20,
          21,
          27,
          24,
          23,
          26,
          null,
          24,
          33,
          23,
          24,
          36,
          26,
          27,
          28,
          31,
          28,
          27,
          28,
          27,
          27,
          30,
          28,
          29,
          23,
          28,
          22,
          35,
          30,
          24,
          22,
          22,
          24,
          24,
          27,
          25,
          24,
          23,
          30,
          25,
          25,
          22,
          22,
          26,
          23,
          31,
          23,
          25,
          28,
          29,
          28,
          27,
          25,
          22,
          23,
          24,
          34,
          27,
          34,
          26,
          29,
          26,
          28,
          33,
          22,
          26,
          24,
          24,
          25,
          25,
          27,
          26,
          29,
          26,
          26,
          32,
          28,
          26,
          24,
          24,
          23,
          23,
          25,
          30,
          30,
          28,
          21,
          22,
          24,
          35,
          34,
          21,
          33,
          28,
          29,
          22,
          27,
          34,
          25,
          23,
          30,
          36,
          29,
          30,
          29,
          22,
          34,
          23,
          33,
          32,
          26,
          24,
          null,
          26,
          21,
          33,
          31,
          35,
          29,
          25,
          22,
          24,
          27,
          27,
          26,
          26,
          24,
          38,
          33,
          24,
          28,
          27,
          23,
          25,
          26,
          25,
          24,
          21,
          30,
          28,
          26,
          22,
          24,
          33,
          25,
          25,
          29,
          25,
          28,
          22,
          25,
          22,
          27,
          28,
          30,
          27,
          22,
          23,
          23,
          23,
          29,
          27,
          24,
          29,
          55,
          29,
          26,
          24,
          24,
          25,
          25,
          29,
          30,
          25,
          34,
          30,
          27,
          25,
          27,
          26,
          27,
          26,
          23,
          24,
          25,
          26,
          25,
          26,
          28,
          26,
          23,
          null,
          23,
          23,
          23,
          27,
          30,
          23,
          26,
          28,
          26,
          22,
          27,
          25,
          24,
          26,
          24,
          29,
          22,
          22
         ],
         "y0": " ",
         "yaxis": "y"
        },
        {
         "alignmentgroup": "True",
         "hovertemplate": "gender_name=%{x}<br>age=%{y}<extra></extra>",
         "legendgroup": "Male",
         "marker": {
          "color": "#0460C9"
         },
         "name": "Male",
         "notched": false,
         "offsetgroup": "Male",
         "orientation": "v",
         "showlegend": true,
         "type": "box",
         "x": [
          "Male",
          "Male",
          "Male",
          "Male",
          "Male",
          "Male",
          "Male",
          "Male",
          "Male",
          "Male",
          "Male",
          "Male",
          "Male",
          "Male",
          "Male",
          "Male",
          "Male",
          "Male",
          "Male",
          "Male",
          "Male",
          "Male",
          "Male",
          "Male",
          "Male",
          "Male",
          "Male",
          "Male",
          "Male",
          "Male",
          "Male",
          "Male",
          "Male",
          "Male",
          "Male",
          "Male",
          "Male",
          "Male",
          "Male",
          "Male",
          "Male",
          "Male",
          "Male",
          "Male",
          "Male",
          "Male",
          "Male",
          "Male",
          "Male",
          "Male",
          "Male",
          "Male",
          "Male",
          "Male",
          "Male",
          "Male",
          "Male",
          "Male",
          "Male",
          "Male",
          "Male",
          "Male",
          "Male",
          "Male",
          "Male",
          "Male",
          "Male",
          "Male",
          "Male",
          "Male",
          "Male",
          "Male",
          "Male",
          "Male",
          "Male",
          "Male",
          "Male",
          "Male",
          "Male",
          "Male",
          "Male",
          "Male",
          "Male",
          "Male",
          "Male",
          "Male",
          "Male",
          "Male",
          "Male",
          "Male",
          "Male",
          "Male",
          "Male",
          "Male",
          "Male",
          "Male",
          "Male",
          "Male",
          "Male",
          "Male",
          "Male",
          "Male",
          "Male",
          "Male",
          "Male",
          "Male",
          "Male",
          "Male",
          "Male",
          "Male",
          "Male",
          "Male",
          "Male",
          "Male",
          "Male",
          "Male",
          "Male",
          "Male",
          "Male",
          "Male",
          "Male",
          "Male",
          "Male",
          "Male",
          "Male",
          "Male",
          "Male",
          "Male",
          "Male",
          "Male",
          "Male",
          "Male",
          "Male",
          "Male",
          "Male",
          "Male",
          "Male",
          "Male",
          "Male",
          "Male",
          "Male",
          "Male",
          "Male",
          "Male",
          "Male",
          "Male",
          "Male",
          "Male",
          "Male",
          "Male",
          "Male",
          "Male",
          "Male",
          "Male",
          "Male",
          "Male",
          "Male",
          "Male",
          "Male",
          "Male",
          "Male",
          "Male",
          "Male",
          "Male",
          "Male",
          "Male",
          "Male",
          "Male",
          "Male",
          "Male",
          "Male",
          "Male",
          "Male",
          "Male",
          "Male",
          "Male",
          "Male",
          "Male",
          "Male",
          "Male",
          "Male",
          "Male",
          "Male",
          "Male",
          "Male",
          "Male",
          "Male",
          "Male",
          "Male",
          "Male",
          "Male",
          "Male",
          "Male",
          "Male",
          "Male",
          "Male",
          "Male",
          "Male",
          "Male",
          "Male",
          "Male",
          "Male",
          "Male",
          "Male",
          "Male",
          "Male",
          "Male",
          "Male",
          "Male",
          "Male",
          "Male",
          "Male",
          "Male",
          "Male",
          "Male",
          "Male",
          "Male",
          "Male",
          "Male",
          "Male",
          "Male",
          "Male",
          "Male",
          "Male",
          "Male",
          "Male",
          "Male",
          "Male",
          "Male",
          "Male",
          "Male",
          "Male",
          "Male",
          "Male",
          "Male",
          "Male",
          "Male",
          "Male",
          "Male",
          "Male",
          "Male",
          "Male",
          "Male",
          "Male",
          "Male",
          "Male",
          "Male",
          "Male",
          "Male",
          "Male",
          "Male",
          "Male",
          "Male",
          "Male",
          "Male",
          "Male",
          "Male",
          "Male",
          "Male",
          "Male",
          "Male",
          "Male",
          "Male",
          "Male",
          "Male",
          "Male",
          "Male",
          "Male",
          "Male",
          "Male",
          "Male",
          "Male",
          "Male",
          "Male",
          "Male",
          "Male",
          "Male"
         ],
         "x0": " ",
         "xaxis": "x",
         "y": [
          27,
          22,
          22,
          23,
          24,
          25,
          30,
          27,
          28,
          24,
          25,
          30,
          23,
          24,
          24,
          28,
          26,
          30,
          22,
          25,
          27,
          23,
          21,
          28,
          28,
          23,
          29,
          22,
          27,
          28,
          26,
          21,
          22,
          22,
          25,
          24,
          28,
          26,
          26,
          29,
          39,
          28,
          30,
          22,
          32,
          26,
          27,
          25,
          22,
          21,
          24,
          25,
          28,
          27,
          22,
          18,
          22,
          21,
          22,
          22,
          21,
          null,
          20,
          19,
          26,
          32,
          37,
          29,
          28,
          23,
          28,
          29,
          22,
          27,
          26,
          27,
          30,
          26,
          23,
          23,
          28,
          28,
          29,
          27,
          22,
          34,
          25,
          24,
          26,
          21,
          27,
          25,
          28,
          24,
          25,
          23,
          26,
          27,
          26,
          24,
          26,
          25,
          27,
          27,
          28,
          32,
          28,
          23,
          26,
          24,
          28,
          42,
          30,
          31,
          29,
          27,
          28,
          32,
          25,
          25,
          27,
          33,
          25,
          33,
          29,
          24,
          21,
          26,
          25,
          32,
          25,
          25,
          27,
          23,
          27,
          27,
          24,
          22,
          22,
          27,
          28,
          34,
          27,
          28,
          28,
          27,
          32,
          25,
          29,
          23,
          27,
          32,
          27,
          25,
          30,
          29,
          26,
          36,
          29,
          30,
          23,
          29,
          24,
          25,
          28,
          27,
          null,
          null,
          34,
          30,
          23,
          27,
          30,
          27,
          27,
          24,
          25,
          28,
          27,
          27,
          29,
          30,
          27,
          25,
          26,
          29,
          24,
          29,
          29,
          26,
          31,
          29,
          22,
          23,
          30,
          27,
          24,
          24,
          23,
          27,
          34,
          27,
          26,
          29,
          31,
          26,
          30,
          24,
          28,
          24,
          28,
          27,
          27,
          21,
          24,
          25,
          27,
          26,
          30,
          28,
          26,
          22,
          23,
          25,
          30,
          29,
          27,
          33,
          27,
          33,
          23,
          33,
          23,
          23,
          30,
          28,
          31,
          29,
          32,
          24,
          29,
          28,
          29,
          29,
          30,
          20,
          30,
          32,
          26,
          25,
          23,
          27,
          24,
          24,
          36,
          25,
          26,
          26,
          24,
          23,
          29,
          22,
          32,
          22,
          24,
          23,
          23,
          24,
          23,
          24,
          30,
          30,
          30,
          28,
          30,
          27,
          25
         ],
         "y0": " ",
         "yaxis": "y"
        }
       ],
       "layout": {
        "boxmode": "overlay",
        "legend": {
         "title": {
          "text": "gender_name"
         },
         "tracegroupgap": 0
        },
        "margin": {
         "t": 60
        },
        "template": {
         "data": {
          "bar": [
           {
            "error_x": {
             "color": "#2a3f5f"
            },
            "error_y": {
             "color": "#2a3f5f"
            },
            "marker": {
             "line": {
              "color": "#E5ECF6",
              "width": 0.5
             }
            },
            "type": "bar"
           }
          ],
          "barpolar": [
           {
            "marker": {
             "line": {
              "color": "#E5ECF6",
              "width": 0.5
             }
            },
            "type": "barpolar"
           }
          ],
          "carpet": [
           {
            "aaxis": {
             "endlinecolor": "#2a3f5f",
             "gridcolor": "white",
             "linecolor": "white",
             "minorgridcolor": "white",
             "startlinecolor": "#2a3f5f"
            },
            "baxis": {
             "endlinecolor": "#2a3f5f",
             "gridcolor": "white",
             "linecolor": "white",
             "minorgridcolor": "white",
             "startlinecolor": "#2a3f5f"
            },
            "type": "carpet"
           }
          ],
          "choropleth": [
           {
            "colorbar": {
             "outlinewidth": 0,
             "ticks": ""
            },
            "type": "choropleth"
           }
          ],
          "contour": [
           {
            "colorbar": {
             "outlinewidth": 0,
             "ticks": ""
            },
            "colorscale": [
             [
              0,
              "#0d0887"
             ],
             [
              0.1111111111111111,
              "#46039f"
             ],
             [
              0.2222222222222222,
              "#7201a8"
             ],
             [
              0.3333333333333333,
              "#9c179e"
             ],
             [
              0.4444444444444444,
              "#bd3786"
             ],
             [
              0.5555555555555556,
              "#d8576b"
             ],
             [
              0.6666666666666666,
              "#ed7953"
             ],
             [
              0.7777777777777778,
              "#fb9f3a"
             ],
             [
              0.8888888888888888,
              "#fdca26"
             ],
             [
              1,
              "#f0f921"
             ]
            ],
            "type": "contour"
           }
          ],
          "contourcarpet": [
           {
            "colorbar": {
             "outlinewidth": 0,
             "ticks": ""
            },
            "type": "contourcarpet"
           }
          ],
          "heatmap": [
           {
            "colorbar": {
             "outlinewidth": 0,
             "ticks": ""
            },
            "colorscale": [
             [
              0,
              "#0d0887"
             ],
             [
              0.1111111111111111,
              "#46039f"
             ],
             [
              0.2222222222222222,
              "#7201a8"
             ],
             [
              0.3333333333333333,
              "#9c179e"
             ],
             [
              0.4444444444444444,
              "#bd3786"
             ],
             [
              0.5555555555555556,
              "#d8576b"
             ],
             [
              0.6666666666666666,
              "#ed7953"
             ],
             [
              0.7777777777777778,
              "#fb9f3a"
             ],
             [
              0.8888888888888888,
              "#fdca26"
             ],
             [
              1,
              "#f0f921"
             ]
            ],
            "type": "heatmap"
           }
          ],
          "heatmapgl": [
           {
            "colorbar": {
             "outlinewidth": 0,
             "ticks": ""
            },
            "colorscale": [
             [
              0,
              "#0d0887"
             ],
             [
              0.1111111111111111,
              "#46039f"
             ],
             [
              0.2222222222222222,
              "#7201a8"
             ],
             [
              0.3333333333333333,
              "#9c179e"
             ],
             [
              0.4444444444444444,
              "#bd3786"
             ],
             [
              0.5555555555555556,
              "#d8576b"
             ],
             [
              0.6666666666666666,
              "#ed7953"
             ],
             [
              0.7777777777777778,
              "#fb9f3a"
             ],
             [
              0.8888888888888888,
              "#fdca26"
             ],
             [
              1,
              "#f0f921"
             ]
            ],
            "type": "heatmapgl"
           }
          ],
          "histogram": [
           {
            "marker": {
             "colorbar": {
              "outlinewidth": 0,
              "ticks": ""
             }
            },
            "type": "histogram"
           }
          ],
          "histogram2d": [
           {
            "colorbar": {
             "outlinewidth": 0,
             "ticks": ""
            },
            "colorscale": [
             [
              0,
              "#0d0887"
             ],
             [
              0.1111111111111111,
              "#46039f"
             ],
             [
              0.2222222222222222,
              "#7201a8"
             ],
             [
              0.3333333333333333,
              "#9c179e"
             ],
             [
              0.4444444444444444,
              "#bd3786"
             ],
             [
              0.5555555555555556,
              "#d8576b"
             ],
             [
              0.6666666666666666,
              "#ed7953"
             ],
             [
              0.7777777777777778,
              "#fb9f3a"
             ],
             [
              0.8888888888888888,
              "#fdca26"
             ],
             [
              1,
              "#f0f921"
             ]
            ],
            "type": "histogram2d"
           }
          ],
          "histogram2dcontour": [
           {
            "colorbar": {
             "outlinewidth": 0,
             "ticks": ""
            },
            "colorscale": [
             [
              0,
              "#0d0887"
             ],
             [
              0.1111111111111111,
              "#46039f"
             ],
             [
              0.2222222222222222,
              "#7201a8"
             ],
             [
              0.3333333333333333,
              "#9c179e"
             ],
             [
              0.4444444444444444,
              "#bd3786"
             ],
             [
              0.5555555555555556,
              "#d8576b"
             ],
             [
              0.6666666666666666,
              "#ed7953"
             ],
             [
              0.7777777777777778,
              "#fb9f3a"
             ],
             [
              0.8888888888888888,
              "#fdca26"
             ],
             [
              1,
              "#f0f921"
             ]
            ],
            "type": "histogram2dcontour"
           }
          ],
          "mesh3d": [
           {
            "colorbar": {
             "outlinewidth": 0,
             "ticks": ""
            },
            "type": "mesh3d"
           }
          ],
          "parcoords": [
           {
            "line": {
             "colorbar": {
              "outlinewidth": 0,
              "ticks": ""
             }
            },
            "type": "parcoords"
           }
          ],
          "pie": [
           {
            "automargin": true,
            "type": "pie"
           }
          ],
          "scatter": [
           {
            "marker": {
             "colorbar": {
              "outlinewidth": 0,
              "ticks": ""
             }
            },
            "type": "scatter"
           }
          ],
          "scatter3d": [
           {
            "line": {
             "colorbar": {
              "outlinewidth": 0,
              "ticks": ""
             }
            },
            "marker": {
             "colorbar": {
              "outlinewidth": 0,
              "ticks": ""
             }
            },
            "type": "scatter3d"
           }
          ],
          "scattercarpet": [
           {
            "marker": {
             "colorbar": {
              "outlinewidth": 0,
              "ticks": ""
             }
            },
            "type": "scattercarpet"
           }
          ],
          "scattergeo": [
           {
            "marker": {
             "colorbar": {
              "outlinewidth": 0,
              "ticks": ""
             }
            },
            "type": "scattergeo"
           }
          ],
          "scattergl": [
           {
            "marker": {
             "colorbar": {
              "outlinewidth": 0,
              "ticks": ""
             }
            },
            "type": "scattergl"
           }
          ],
          "scattermapbox": [
           {
            "marker": {
             "colorbar": {
              "outlinewidth": 0,
              "ticks": ""
             }
            },
            "type": "scattermapbox"
           }
          ],
          "scatterpolar": [
           {
            "marker": {
             "colorbar": {
              "outlinewidth": 0,
              "ticks": ""
             }
            },
            "type": "scatterpolar"
           }
          ],
          "scatterpolargl": [
           {
            "marker": {
             "colorbar": {
              "outlinewidth": 0,
              "ticks": ""
             }
            },
            "type": "scatterpolargl"
           }
          ],
          "scatterternary": [
           {
            "marker": {
             "colorbar": {
              "outlinewidth": 0,
              "ticks": ""
             }
            },
            "type": "scatterternary"
           }
          ],
          "surface": [
           {
            "colorbar": {
             "outlinewidth": 0,
             "ticks": ""
            },
            "colorscale": [
             [
              0,
              "#0d0887"
             ],
             [
              0.1111111111111111,
              "#46039f"
             ],
             [
              0.2222222222222222,
              "#7201a8"
             ],
             [
              0.3333333333333333,
              "#9c179e"
             ],
             [
              0.4444444444444444,
              "#bd3786"
             ],
             [
              0.5555555555555556,
              "#d8576b"
             ],
             [
              0.6666666666666666,
              "#ed7953"
             ],
             [
              0.7777777777777778,
              "#fb9f3a"
             ],
             [
              0.8888888888888888,
              "#fdca26"
             ],
             [
              1,
              "#f0f921"
             ]
            ],
            "type": "surface"
           }
          ],
          "table": [
           {
            "cells": {
             "fill": {
              "color": "#EBF0F8"
             },
             "line": {
              "color": "white"
             }
            },
            "header": {
             "fill": {
              "color": "#C8D4E3"
             },
             "line": {
              "color": "white"
             }
            },
            "type": "table"
           }
          ]
         },
         "layout": {
          "annotationdefaults": {
           "arrowcolor": "#2a3f5f",
           "arrowhead": 0,
           "arrowwidth": 1
          },
          "coloraxis": {
           "colorbar": {
            "outlinewidth": 0,
            "ticks": ""
           }
          },
          "colorscale": {
           "diverging": [
            [
             0,
             "#8e0152"
            ],
            [
             0.1,
             "#c51b7d"
            ],
            [
             0.2,
             "#de77ae"
            ],
            [
             0.3,
             "#f1b6da"
            ],
            [
             0.4,
             "#fde0ef"
            ],
            [
             0.5,
             "#f7f7f7"
            ],
            [
             0.6,
             "#e6f5d0"
            ],
            [
             0.7,
             "#b8e186"
            ],
            [
             0.8,
             "#7fbc41"
            ],
            [
             0.9,
             "#4d9221"
            ],
            [
             1,
             "#276419"
            ]
           ],
           "sequential": [
            [
             0,
             "#0d0887"
            ],
            [
             0.1111111111111111,
             "#46039f"
            ],
            [
             0.2222222222222222,
             "#7201a8"
            ],
            [
             0.3333333333333333,
             "#9c179e"
            ],
            [
             0.4444444444444444,
             "#bd3786"
            ],
            [
             0.5555555555555556,
             "#d8576b"
            ],
            [
             0.6666666666666666,
             "#ed7953"
            ],
            [
             0.7777777777777778,
             "#fb9f3a"
            ],
            [
             0.8888888888888888,
             "#fdca26"
            ],
            [
             1,
             "#f0f921"
            ]
           ],
           "sequentialminus": [
            [
             0,
             "#0d0887"
            ],
            [
             0.1111111111111111,
             "#46039f"
            ],
            [
             0.2222222222222222,
             "#7201a8"
            ],
            [
             0.3333333333333333,
             "#9c179e"
            ],
            [
             0.4444444444444444,
             "#bd3786"
            ],
            [
             0.5555555555555556,
             "#d8576b"
            ],
            [
             0.6666666666666666,
             "#ed7953"
            ],
            [
             0.7777777777777778,
             "#fb9f3a"
            ],
            [
             0.8888888888888888,
             "#fdca26"
            ],
            [
             1,
             "#f0f921"
            ]
           ]
          },
          "colorway": [
           "#636efa",
           "#EF553B",
           "#00cc96",
           "#ab63fa",
           "#FFA15A",
           "#19d3f3",
           "#FF6692",
           "#B6E880",
           "#FF97FF",
           "#FECB52"
          ],
          "font": {
           "color": "#2a3f5f"
          },
          "geo": {
           "bgcolor": "white",
           "lakecolor": "white",
           "landcolor": "#E5ECF6",
           "showlakes": true,
           "showland": true,
           "subunitcolor": "white"
          },
          "hoverlabel": {
           "align": "left"
          },
          "hovermode": "closest",
          "mapbox": {
           "style": "light"
          },
          "paper_bgcolor": "white",
          "plot_bgcolor": "#E5ECF6",
          "polar": {
           "angularaxis": {
            "gridcolor": "white",
            "linecolor": "white",
            "ticks": ""
           },
           "bgcolor": "#E5ECF6",
           "radialaxis": {
            "gridcolor": "white",
            "linecolor": "white",
            "ticks": ""
           }
          },
          "scene": {
           "xaxis": {
            "backgroundcolor": "#E5ECF6",
            "gridcolor": "white",
            "gridwidth": 2,
            "linecolor": "white",
            "showbackground": true,
            "ticks": "",
            "zerolinecolor": "white"
           },
           "yaxis": {
            "backgroundcolor": "#E5ECF6",
            "gridcolor": "white",
            "gridwidth": 2,
            "linecolor": "white",
            "showbackground": true,
            "ticks": "",
            "zerolinecolor": "white"
           },
           "zaxis": {
            "backgroundcolor": "#E5ECF6",
            "gridcolor": "white",
            "gridwidth": 2,
            "linecolor": "white",
            "showbackground": true,
            "ticks": "",
            "zerolinecolor": "white"
           }
          },
          "shapedefaults": {
           "line": {
            "color": "#2a3f5f"
           }
          },
          "ternary": {
           "aaxis": {
            "gridcolor": "white",
            "linecolor": "white",
            "ticks": ""
           },
           "baxis": {
            "gridcolor": "white",
            "linecolor": "white",
            "ticks": ""
           },
           "bgcolor": "#E5ECF6",
           "caxis": {
            "gridcolor": "white",
            "linecolor": "white",
            "ticks": ""
           }
          },
          "title": {
           "x": 0.05
          },
          "xaxis": {
           "automargin": true,
           "gridcolor": "white",
           "linecolor": "white",
           "ticks": "",
           "title": {
            "standoff": 15
           },
           "zerolinecolor": "white",
           "zerolinewidth": 2
          },
          "yaxis": {
           "automargin": true,
           "gridcolor": "white",
           "linecolor": "white",
           "ticks": "",
           "title": {
            "standoff": 15
           },
           "zerolinecolor": "white",
           "zerolinewidth": 2
          }
         }
        },
        "xaxis": {
         "anchor": "y",
         "categoryarray": [
          "Female",
          "Male"
         ],
         "categoryorder": "array",
         "domain": [
          0,
          1
         ],
         "title": {
          "text": "gender_name"
         }
        },
        "yaxis": {
         "anchor": "x",
         "domain": [
          0,
          1
         ],
         "title": {
          "text": "age"
         }
        }
       }
      }
     },
     "metadata": {},
     "output_type": "display_data"
    }
   ],
   "source": [
    "fig = px.box(df_iid, x=\"gender_name\", y=\"age\", color=\"gender_name\", color_discrete_sequence=[\"#F78FE4\", \"#0460C9\"])\n",
    "fig.show()"
   ]
  },
  {
   "cell_type": "code",
   "execution_count": 11,
   "metadata": {},
   "outputs": [
    {
     "data": {
      "text/plain": [
       "pandas.core.frame.DataFrame"
      ]
     },
     "execution_count": 11,
     "metadata": {},
     "output_type": "execute_result"
    }
   ],
   "source": [
    "type(df_iid[df_iid[\"gender_name\"] == \"Female\"])"
   ]
  },
  {
   "cell_type": "code",
   "execution_count": 12,
   "metadata": {},
   "outputs": [
    {
     "data": {
      "application/vnd.plotly.v1+json": {
       "config": {
        "plotlyServerURL": "https://plot.ly"
       },
       "data": [
        {
         "autobinx": false,
         "histnorm": "probability density",
         "legendgroup": "Female",
         "marker": {
          "color": "#F78FE4"
         },
         "name": "Female",
         "opacity": 0.7,
         "type": "histogram",
         "x": [
          21,
          24,
          25,
          23,
          21,
          23,
          22,
          25,
          26,
          26,
          21,
          27,
          21,
          27,
          25,
          23,
          22,
          26,
          22,
          23,
          24,
          27,
          30,
          21,
          25,
          26,
          27,
          23,
          24,
          23,
          22,
          29,
          28,
          26,
          24,
          27,
          23,
          34,
          22,
          23,
          26,
          27,
          28,
          25,
          35,
          32,
          30,
          22,
          23,
          23,
          27,
          23,
          25,
          29,
          29,
          20,
          21,
          20,
          21,
          21,
          21,
          19,
          20,
          21,
          27,
          24,
          23,
          26,
          24,
          33,
          23,
          24,
          36,
          26,
          27,
          28,
          31,
          28,
          27,
          28,
          27,
          27,
          30,
          28,
          29,
          23,
          28,
          22,
          35,
          30,
          24,
          22,
          22,
          24,
          24,
          27,
          25,
          24,
          23,
          30,
          25,
          25,
          22,
          22,
          26,
          23,
          31,
          23,
          25,
          28,
          29,
          28,
          27,
          25,
          22,
          23,
          24,
          34,
          27,
          34,
          26,
          29,
          26,
          28,
          33,
          22,
          26,
          24,
          24,
          25,
          25,
          27,
          26,
          29,
          26,
          26,
          32,
          28,
          26,
          24,
          24,
          23,
          23,
          25,
          30,
          30,
          28,
          21,
          22,
          24,
          35,
          34,
          21,
          33,
          28,
          29,
          22,
          27,
          34,
          25,
          23,
          30,
          36,
          29,
          30,
          29,
          22,
          34,
          23,
          33,
          32,
          26,
          24,
          26,
          21,
          33,
          31,
          35,
          29,
          25,
          22,
          24,
          27,
          27,
          26,
          26,
          24,
          38,
          33,
          24,
          28,
          27,
          23,
          25,
          26,
          25,
          24,
          21,
          30,
          28,
          26,
          22,
          24,
          33,
          25,
          25,
          29,
          25,
          28,
          22,
          25,
          22,
          27,
          28,
          30,
          27,
          22,
          23,
          23,
          23,
          29,
          27,
          24,
          29,
          55,
          29,
          26,
          24,
          24,
          25,
          25,
          29,
          30,
          25,
          34,
          30,
          27,
          25,
          27,
          26,
          27,
          26,
          23,
          24,
          25,
          26,
          25,
          26,
          28,
          26,
          23,
          23,
          23,
          23,
          27,
          30,
          23,
          26,
          28,
          26,
          22,
          27,
          25,
          24,
          26,
          24,
          29,
          22,
          22
         ],
         "xaxis": "x",
         "xbins": {
          "end": 55,
          "size": 1,
          "start": 19
         },
         "yaxis": "y"
        },
        {
         "autobinx": false,
         "histnorm": "probability density",
         "legendgroup": "Male",
         "marker": {
          "color": "#0460C9"
         },
         "name": "Male",
         "opacity": 0.7,
         "type": "histogram",
         "x": [
          27,
          22,
          22,
          23,
          24,
          25,
          30,
          27,
          28,
          24,
          25,
          30,
          23,
          24,
          24,
          28,
          26,
          30,
          22,
          25,
          27,
          23,
          21,
          28,
          28,
          23,
          29,
          22,
          27,
          28,
          26,
          21,
          22,
          22,
          25,
          24,
          28,
          26,
          26,
          29,
          39,
          28,
          30,
          22,
          32,
          26,
          27,
          25,
          22,
          21,
          24,
          25,
          28,
          27,
          22,
          18,
          22,
          21,
          22,
          22,
          21,
          20,
          19,
          26,
          32,
          37,
          29,
          28,
          23,
          28,
          29,
          22,
          27,
          26,
          27,
          30,
          26,
          23,
          23,
          28,
          28,
          29,
          27,
          22,
          34,
          25,
          24,
          26,
          21,
          27,
          25,
          28,
          24,
          25,
          23,
          26,
          27,
          26,
          24,
          26,
          25,
          27,
          27,
          28,
          32,
          28,
          23,
          26,
          24,
          28,
          42,
          30,
          31,
          29,
          27,
          28,
          32,
          25,
          25,
          27,
          33,
          25,
          33,
          29,
          24,
          21,
          26,
          25,
          32,
          25,
          25,
          27,
          23,
          27,
          27,
          24,
          22,
          22,
          27,
          28,
          34,
          27,
          28,
          28,
          27,
          32,
          25,
          29,
          23,
          27,
          32,
          27,
          25,
          30,
          29,
          26,
          36,
          29,
          30,
          23,
          29,
          24,
          25,
          28,
          27,
          34,
          30,
          23,
          27,
          30,
          27,
          27,
          24,
          25,
          28,
          27,
          27,
          29,
          30,
          27,
          25,
          26,
          29,
          24,
          29,
          29,
          26,
          31,
          29,
          22,
          23,
          30,
          27,
          24,
          24,
          23,
          27,
          34,
          27,
          26,
          29,
          31,
          26,
          30,
          24,
          28,
          24,
          28,
          27,
          27,
          21,
          24,
          25,
          27,
          26,
          30,
          28,
          26,
          22,
          23,
          25,
          30,
          29,
          27,
          33,
          27,
          33,
          23,
          33,
          23,
          23,
          30,
          28,
          31,
          29,
          32,
          24,
          29,
          28,
          29,
          29,
          30,
          20,
          30,
          32,
          26,
          25,
          23,
          27,
          24,
          24,
          36,
          25,
          26,
          26,
          24,
          23,
          29,
          22,
          32,
          22,
          24,
          23,
          23,
          24,
          23,
          24,
          30,
          30,
          30,
          28,
          30,
          27,
          25
         ],
         "xaxis": "x",
         "xbins": {
          "end": 42,
          "size": 1,
          "start": 18
         },
         "yaxis": "y"
        },
        {
         "legendgroup": "Female",
         "marker": {
          "color": "#F78FE4"
         },
         "mode": "lines",
         "name": "Female",
         "showlegend": false,
         "type": "scatter",
         "x": [
          19,
          19.072,
          19.144,
          19.216,
          19.288,
          19.36,
          19.432,
          19.504,
          19.576,
          19.648,
          19.72,
          19.792,
          19.864,
          19.936,
          20.008,
          20.08,
          20.152,
          20.224,
          20.296,
          20.368,
          20.44,
          20.512,
          20.584,
          20.656,
          20.728,
          20.8,
          20.872,
          20.944,
          21.016,
          21.088,
          21.16,
          21.232,
          21.304,
          21.376,
          21.448,
          21.52,
          21.592,
          21.664,
          21.736,
          21.808,
          21.88,
          21.951999999999998,
          22.024,
          22.096,
          22.168,
          22.240000000000002,
          22.312,
          22.384,
          22.456,
          22.528,
          22.6,
          22.672,
          22.744,
          22.816,
          22.887999999999998,
          22.96,
          23.032,
          23.104,
          23.176000000000002,
          23.248,
          23.32,
          23.392,
          23.464,
          23.536,
          23.608,
          23.68,
          23.752,
          23.823999999999998,
          23.896,
          23.968,
          24.04,
          24.112000000000002,
          24.184,
          24.256,
          24.328,
          24.4,
          24.472,
          24.544,
          24.616,
          24.688,
          24.759999999999998,
          24.832,
          24.904,
          24.976,
          25.048000000000002,
          25.12,
          25.192,
          25.264,
          25.336,
          25.408,
          25.48,
          25.552,
          25.624,
          25.695999999999998,
          25.768,
          25.84,
          25.912,
          25.984,
          26.056,
          26.128,
          26.2,
          26.272,
          26.344,
          26.416,
          26.488,
          26.56,
          26.631999999999998,
          26.704,
          26.776,
          26.848,
          26.92,
          26.992,
          27.064,
          27.136,
          27.208,
          27.28,
          27.352,
          27.424,
          27.496000000000002,
          27.567999999999998,
          27.64,
          27.712,
          27.784,
          27.856,
          27.928,
          28,
          28.072,
          28.144,
          28.216,
          28.288,
          28.36,
          28.432000000000002,
          28.503999999999998,
          28.576,
          28.648,
          28.72,
          28.792,
          28.864,
          28.936,
          29.008,
          29.08,
          29.152,
          29.224,
          29.296,
          29.368000000000002,
          29.439999999999998,
          29.512,
          29.584,
          29.656,
          29.728,
          29.8,
          29.872,
          29.944000000000003,
          30.016,
          30.088,
          30.16,
          30.232,
          30.304000000000002,
          30.375999999999998,
          30.448,
          30.52,
          30.592,
          30.664,
          30.736,
          30.808,
          30.880000000000003,
          30.951999999999998,
          31.024,
          31.096,
          31.168,
          31.240000000000002,
          31.311999999999998,
          31.384,
          31.456,
          31.528,
          31.6,
          31.672,
          31.744,
          31.816000000000003,
          31.887999999999998,
          31.96,
          32.032,
          32.104,
          32.176,
          32.248,
          32.32,
          32.391999999999996,
          32.464,
          32.536,
          32.608000000000004,
          32.68,
          32.752,
          32.824,
          32.896,
          32.968,
          33.04,
          33.112,
          33.184,
          33.256,
          33.328,
          33.4,
          33.472,
          33.544,
          33.616,
          33.688,
          33.76,
          33.832,
          33.903999999999996,
          33.976,
          34.048,
          34.12,
          34.192,
          34.263999999999996,
          34.336,
          34.408,
          34.480000000000004,
          34.552,
          34.624,
          34.696,
          34.768,
          34.84,
          34.912,
          34.984,
          35.056,
          35.128,
          35.2,
          35.272,
          35.344,
          35.416,
          35.488,
          35.56,
          35.632000000000005,
          35.704,
          35.775999999999996,
          35.848,
          35.92,
          35.992000000000004,
          36.064,
          36.135999999999996,
          36.208,
          36.28,
          36.352000000000004,
          36.424,
          36.495999999999995,
          36.568,
          36.64,
          36.712,
          36.784,
          36.856,
          36.928,
          37,
          37.072,
          37.144,
          37.216,
          37.288,
          37.36,
          37.432,
          37.504000000000005,
          37.576,
          37.647999999999996,
          37.72,
          37.792,
          37.864000000000004,
          37.936,
          38.007999999999996,
          38.08,
          38.152,
          38.224000000000004,
          38.296,
          38.367999999999995,
          38.44,
          38.512,
          38.584,
          38.656,
          38.728,
          38.8,
          38.872,
          38.944,
          39.016,
          39.088,
          39.16,
          39.232,
          39.304,
          39.376000000000005,
          39.448,
          39.519999999999996,
          39.592,
          39.664,
          39.736000000000004,
          39.808,
          39.879999999999995,
          39.952,
          40.024,
          40.096000000000004,
          40.168,
          40.239999999999995,
          40.312,
          40.384,
          40.456,
          40.528,
          40.6,
          40.672,
          40.744,
          40.816,
          40.888000000000005,
          40.96,
          41.032,
          41.104,
          41.176,
          41.248000000000005,
          41.32,
          41.391999999999996,
          41.464,
          41.536,
          41.608000000000004,
          41.68,
          41.751999999999995,
          41.824,
          41.896,
          41.968,
          42.04,
          42.111999999999995,
          42.184,
          42.256,
          42.328,
          42.4,
          42.472,
          42.544,
          42.616,
          42.688,
          42.760000000000005,
          42.832,
          42.903999999999996,
          42.976,
          43.048,
          43.120000000000005,
          43.192,
          43.263999999999996,
          43.336,
          43.408,
          43.480000000000004,
          43.552,
          43.623999999999995,
          43.696,
          43.768,
          43.84,
          43.912,
          43.984,
          44.056,
          44.128,
          44.2,
          44.272,
          44.344,
          44.416,
          44.488,
          44.56,
          44.632000000000005,
          44.704,
          44.775999999999996,
          44.848,
          44.92,
          44.992000000000004,
          45.064,
          45.135999999999996,
          45.208,
          45.28,
          45.352000000000004,
          45.424,
          45.495999999999995,
          45.568,
          45.64,
          45.712,
          45.784,
          45.856,
          45.928,
          46,
          46.072,
          46.144,
          46.216,
          46.288,
          46.36,
          46.432,
          46.504000000000005,
          46.576,
          46.647999999999996,
          46.72,
          46.792,
          46.864000000000004,
          46.936,
          47.007999999999996,
          47.08,
          47.152,
          47.224000000000004,
          47.296,
          47.367999999999995,
          47.44,
          47.512,
          47.584,
          47.656,
          47.728,
          47.8,
          47.872,
          47.944,
          48.016,
          48.088,
          48.16,
          48.232,
          48.304,
          48.376000000000005,
          48.448,
          48.519999999999996,
          48.592,
          48.664,
          48.736000000000004,
          48.808,
          48.879999999999995,
          48.952,
          49.024,
          49.096000000000004,
          49.168,
          49.239999999999995,
          49.312,
          49.384,
          49.456,
          49.528,
          49.6,
          49.672,
          49.744,
          49.816,
          49.888000000000005,
          49.96,
          50.032,
          50.104,
          50.176,
          50.248000000000005,
          50.32,
          50.391999999999996,
          50.464,
          50.536,
          50.608000000000004,
          50.68,
          50.751999999999995,
          50.824,
          50.896,
          50.968,
          51.04,
          51.112,
          51.184,
          51.256,
          51.328,
          51.4,
          51.472,
          51.544,
          51.616,
          51.688,
          51.76,
          51.832,
          51.904,
          51.976,
          52.048,
          52.12,
          52.192,
          52.264,
          52.336,
          52.408,
          52.48,
          52.552,
          52.624,
          52.696,
          52.768,
          52.84,
          52.912,
          52.984,
          53.056,
          53.128,
          53.2,
          53.272,
          53.344,
          53.416,
          53.488,
          53.56,
          53.632,
          53.704,
          53.776,
          53.848,
          53.92,
          53.992,
          54.064,
          54.136,
          54.208,
          54.28,
          54.352,
          54.424,
          54.496,
          54.568,
          54.64,
          54.712,
          54.784,
          54.856,
          54.928
         ],
         "xaxis": "x",
         "y": [
          0.010900657103166664,
          0.01175556898895546,
          0.012660029168107226,
          0.013615221221973612,
          0.014622192299437555,
          0.015681837641000854,
          0.016794885527388684,
          0.01796188285095619,
          0.019183181507086977,
          0.02045892579799991,
          0.021789041032968616,
          0.023173223497079724,
          0.024610931945560056,
          0.026101380762761642,
          0.027643534904519054,
          0.029236106720322348,
          0.030877554728097056,
          0.03256608438995555,
          0.03429965091264891,
          0.036075964072178814,
          0.03789249503864996,
          0.039746485155434205,
          0.04163495660645263,
          0.043554724887202356,
          0.045502412979226074,
          0.04747446711419439,
          0.049467174002605904,
          0.05147667939323504,
          0.0534990078226738,
          0.05553008340936394,
          0.057565751543073196,
          0.05960180131847366,
          0.061633988559969564,
          0.06365805928380425,
          0.06566977344242765,
          0.06766492879485496,
          0.0696393847450256,
          0.07158908598790942,
          0.07351008580021881,
          0.07539856880915546,
          0.0772508730688174,
          0.07906351126996794,
          0.08083319090518827,
          0.08255683320841456,
          0.08423159068597469,
          0.0858548630560104,
          0.0874243114150947,
          0.08893787045543584,
          0.09039375856373702,
          0.09179048564393924,
          0.09312685852097964,
          0.0944019838015119,
          0.09561526809032944,
          0.09676641548783327,
          0.0978554223241219,
          0.09888256911870939,
          0.09984840979100655,
          0.10075375818484358,
          0.10159967200979948,
          0.10238743434199785,
          0.10311853286653884,
          0.10379463708191268,
          0.104417573722634,
          0.10498930068916223,
          0.1055118798029765,
          0.10598744872885667,
          0.10641819242522298,
          0.10680631449639112,
          0.10715400882737168,
          0.10746343188220814,
          0.10773667604068868,
          0.10797574433569634,
          0.10818252693466539,
          0.10835877968400674,
          0.10850610500531685,
          0.10862593539741641,
          0.108719519759309,
          0.10878791270682148,
          0.10883196701073601,
          0.10885232923744179,
          0.10884943862534162,
          0.10882352918224601,
          0.1087746349415281,
          0.10870259826864957,
          0.10860708106546062,
          0.10848757867807768,
          0.10834343627567379,
          0.10817386743272678,
          0.1079779746165315,
          0.10775477125551004,
          0.10750320504230675,
          0.1072221821090955,
          0.10691059170112614,
          0.10656733096840261,
          0.1061913294946224,
          0.10578157318706392,
          0.10533712716105371,
          0.10485715726775277,
          0.10434094993428569,
          0.10378793001036021,
          0.103197676345347,
          0.10256993485394,
          0.1019046288666477,
          0.10120186660303775,
          0.10046194565037189,
          0.099685354377469,
          0.09887277026267892,
          0.09802505516506622,
          0.09714324761854369,
          0.09622855227896783,
          0.095282326703301,
          0.09430606568698995,
          0.09330138342987179,
          0.09226999384132999,
          0.09121368933127137,
          0.09013431846399529,
          0.08903376287647446,
          0.08791391388031235,
          0.08677664917718732,
          0.08562381012051239,
          0.08445717995105245,
          0.08327846342125765,
          0.08208926820208198,
          0.0808910884372952,
          0.07968529077409216,
          0.07847310315571064,
          0.0772556066124302,
          0.07603373023261578,
          0.07480824943628372,
          0.07357978761115663,
          0.07234882110642944,
          0.07111568751379206,
          0.06988059709990135,
          0.06864364719076488,
          0.06740483924773508,
          0.06616409831821929,
          0.06492129449303688,
          0.06367626595769194,
          0.062428843187669524,
          0.061178873809083587,
          0.059926247626286386,
          0.05867092130792855,
          0.05741294222276631,
          0.056152470926384965,
          0.054889801819854624,
          0.053625381530894065,
          0.052359824606875154,
          0.051093926156276,
          0.04982867113008501,
          0.048565239996136426,
          0.04730501062618324,
          0.04604955628637176,
          0.044800639695221835,
          0.0435602031877359,
          0.042330355098323835,
          0.0411133525472963,
          0.03991158088424008,
          0.03872753010523894,
          0.037563768618298556,
          0.036422914781308754,
          0.03530760667843083,
          0.03422047063308749,
          0.033164088978195776,
          0.03214096761650718,
          0.031153503905789942,
          0.030203955395195638,
          0.029294409920815133,
          0.02842675754070381,
          0.02760266475329337,
          0.026823551399013282,
          0.026090570594227033,
          0.02540459199041553,
          0.024766188591213958,
          0.024175627296764264,
          0.023632863280224906,
          0.023137538236533993,
          0.02268898247993256,
          0.02228622080552522,
          0.02192798197240379,
          0.021612711612553327,
          0.021338588321743703,
          0.021103542646568014,
          0.02090527864623677,
          0.020741297679045728,
          0.02060892404178915,
          0.020505332075843513,
          0.02042757434609586,
          0.020372610498094103,
          0.020337336404412095,
          0.02031861322279358,
          0.020313296005624766,
          0.02031826152209418,
          0.02033043498036911,
          0.020346815366577627,
          0.020364499149631423,
          0.020380702135263832,
          0.02039277928840119,
          0.020398242379474338,
          0.020394775346880327,
          0.02038024730393544,
          0.020352723153778052,
          0.02031047180929482,
          0.02025197204682434,
          0.020175916051759436,
          0.02008121074091132,
          0.019966976970352966,
          0.01983254675822764,
          0.019677458669557175,
          0.019501451524315035,
          0.01930445660093537,
          0.019086588515009467,
          0.01884813495727484,
          0.018589545476240067,
          0.018311419489082527,
          0.018014493700023705,
          0.01769962909847096,
          0.017367797700105006,
          0.017020069183098764,
          0.0166575975591154,
          0.01628160800499938,
          0.015893383966517877,
          0.015494254630484776,
          0.015085582846482454,
          0.01466875356452465,
          0.014245162840713761,
          0.013816207449533853,
          0.013383275129149594,
          0.012947735475173524,
          0.0125109314889873,
          0.01207417177897258,
          0.0116387234069889,
          0.011205805368117931,
          0.01077658268903291,
          0.010352161129216919,
          0.009933582469492618,
          0.009521820373714511,
          0.009117776811768181,
          0.008722279034939788,
          0.008336077097960476,
          0.007959841925298798,
          0.007594163922265747,
          0.007239552133933685,
          0.0068964339565054005,
          0.006565155406384911,
          0.006245981951645203,
          0.005939099908747239,
          0.005644618404199852,
          0.005362571896382608,
          0.005092923247063621,
          0.004835567325383242,
          0.004590335119438216,
          0.004356998322345824,
          0.004135274351075629,
          0.003924831747730782,
          0.0037252959046658483,
          0.0035362550471776813,
          0.0033572664008194057,
          0.003187862464954365,
          0.0030275573102460642,
          0.002875852815572813,
          0.002732244759515022,
          0.0025962286831699814,
          0.00246730544462268,
          0.00234498639089098,
          0.002228798080448102,
          0.002118286498328479,
          0.00201302071610418,
          0.0019125959603982833,
          0.0018166360657587816,
          0.0017247953003084434,
          0.0016367595652595876,
          0.0015522469817838053,
          0.0014710078905178882,
          0.0013928242998547512,
          0.0013175088288358548,
          0.0012449031986971704,
          0.0011748763337436896,
          0.0011073221371140421,
          0.00104215701008013,
          0.0009793171848001686,
          0.0009187559399548487,
          0.0008604407665462986,
          0.0008043505474752161,
          0.0007504728095170688,
          0.0006988011002108778,
          0.0006493325351895545,
          0.0006020655538696021,
          0.0005569979134316124,
          0.00051412494290882,
          0.00047343807119228705,
          0.0004349236350705463,
          0.0003985619662367844,
          0.0003643267496739889,
          0.00033218464009262974,
          0.0003020951182357357,
          0.0002740105649379854,
          0.0002478765278507542,
          0.0002236321537147909,
          0.00020121075793981335,
          0.00018054050297493346,
          0.00016154515744528196,
          0.0001441449091932006,
          0.00012825720709135744,
          0.0001137976086791004,
          0.00010068061319917017,
          0.00008882046236980062,
          0.00007813189411223457,
          0.0000685308373701561,
          0.00005993503901984157,
          0.00005226461660494312,
          0.0000454425331774723,
          0.00003939499283996491,
          0.0000340517576293539,
          0.000029346388139620186,
          0.000025216411738334495,
          0.00002160342339245966,
          0.000018453124990857878,
          0.000015715309651737954,
          0.000013343797855345897,
          0.000011296332372294489,
          0.000009534438895427989,
          0.000008023259058705774,
          0.000006731362171114349,
          0.000005630541537001238,
          0.000004695600704674047,
          0.000003904134408531238,
          0.0000032363083694203054,
          0.0000026746415133886144,
          0.0000022037935772730757,
          0.0000018103605042694847,
          0.0000014826795042234045,
          0.0000012106451695219774,
          9.855376031142955e-7,
          7.998631330359132e-7,
          6.472078585436378e-7,
          5.221039956235032e-7,
          4.199087619529024e-7,
          3.3669536010307644e-7,
          2.6915547889036463e-7,
          2.1451263189631623e-7,
          1.7044558462806714e-7,
          1.350210828959039e-7,
          1.0663508017015619e-7,
          8.396166660731867e-8,
          6.59089230847864e-8,
          5.1580956312647375e-8,
          4.024541266901192e-8,
          3.130581602453073e-8,
          2.4278126095857645e-8,
          1.8770966812880525e-8,
          1.4469027193894776e-8,
          1.1119189032989173e-8,
          8.518985357818818e-9,
          6.50704042359476e-9,
          4.955185509094691e-9,
          3.761984701725807e-9,
          2.8474410855263388e-9,
          2.148686286054909e-9,
          1.6164852813442797e-9,
          1.2124139300101227e-9,
          9.065890157804794e-10,
          6.758500120856469e-10,
          5.02308496723973e-10,
          3.721954651602885e-10,
          2.749489674962299e-10,
          2.0249478342579051e-10,
          1.4868149097608082e-10,
          1.0883849960902287e-10,
          7.9431607451908e-11,
          5.779558665734474e-11,
          4.1927360494009864e-11,
          3.0326651569972775e-11,
          2.1873675113953554e-11,
          1.5735630147804784e-11,
          1.129549506028137e-11,
          8.098039281570035e-12,
          5.80908418451867e-12,
          4.184938268061867e-12,
          3.0496393872884053e-12,
          2.2781979286983348e-12,
          1.7844806467293002e-12,
          1.512731375754402e-12,
          1.4320137639873986e-12,
          1.5331009714943209e-12,
          1.8275438750100767e-12,
          2.348836950161659e-12,
          3.155782882380495e-12,
          4.338346011899677e-12,
          6.026494245169931e-12,
          8.402773437442083e-12,
          1.1719653640233698e-11,
          1.6323051757600824e-11,
          2.2683892228084143e-11,
          3.1440142850990465e-11,
          4.3452488683468855e-11,
          5.987772143272023e-11,
          8.226507109724944e-11,
          1.1268214603744672e-10,
          1.5387894303830116e-10,
          2.0950061827683996e-10,
          2.843624651968251e-10,
          3.8480393327177554e-10,
          5.191426665723835e-10,
          6.982545853265568e-10,
          9.363121390595482e-10,
          1.2517202083154136e-9,
          1.6682979254292266e-9,
          2.2167651447569985e-9,
          2.936604658130668e-9,
          3.878385775295342e-9,
          5.106651834275578e-9,
          6.7034938378892395e-9,
          8.772954987790719e-9,
          1.1446436645008683e-8,
          1.488930538981731e-8,
          1.9308933534368687e-8,
          2.4964441733306468e-8,
          3.2178452212655904e-8,
          4.135120443526088e-8,
          5.297743141496302e-8,
          6.766644385105209e-8,
          8.616592000535545e-8,
          1.0938995072815543e-7,
          1.3845193987112875e-7,
          1.7470300875548264e-7,
          2.197765972389195e-7,
          2.7563999066304814e-7,
          3.4465352852995007e-7,
          4.2963826366107774e-7,
          5.339528358980703e-7,
          6.615802977600197e-7,
          8.17225576165418e-7,
          0.000001006424169377125,
          0.0000012356625565952863,
          0.000001512510633968332,
          0.0000018457662802623812,
          0.000002245611893488872,
          0.0000027237824225867567,
          0.000003293744042908161,
          0.000003970882189200637,
          0.000004772697165091565,
          0.000005719004995853567,
          0.000006832140585918881,
          0.000008137159591367694,
          0.000009662034730575378,
          0.000011437841546756294,
          0.000013498927921030097,
          0.000015883060934073946,
          0.000018631544011993156,
          0.00002178929669440925,
          0.00002540488885948736,
          0.000029530520863308824,
          0.00003422194083276811,
          0.00003953829032573413,
          0.00004554186977239218,
          0.000052297815568750735,
          0.00005987368143482927,
          0.00006833891769892653,
          0.0000777642435421354,
          0.00008822090894203848,
          0.00009977984509034976,
          0.00011251070441406692,
          0.00012648079397919863,
          0.00014175390896384486,
          0.00015838907600282352,
          0.00017643921946587356,
          0.00019594976705994047,
          0.00021695721445479438,
          0.00023948767182341646,
          0.0002635554181582182,
          0.00028916149186124733,
          0.00031629234829958386,
          0.0003449186166561193,
          0.0003749939893876485,
          0.0004064542778344029,
          0.0004392166669285927,
          0.0004731792004664589,
          0.0005082205260011352,
          0.0005441999250721265,
          0.0005809576502300681,
          0.0006183155851894282,
          0.0006560782385279853,
          0.0006940340747585775,
          0.0007319571794651965,
          0.000769609247687357,
          0.0008067418770403824,
          0.0008430991393796869,
          0.0008784203973708607,
          0.0009124433253331723,
          0.0009449070874015957,
          0.000975555620607428,
          0.0010041409661002215,
          0.0010304265885889168,
          0.0010541906222997538,
          0.0010752289814291711,
          0.0010933582742649285,
          0.0011084184628668728,
          0.0011202752144031363,
          0.0011288218958436702,
          0.0011339811705929504
         ],
         "yaxis": "y"
        },
        {
         "legendgroup": "Male",
         "marker": {
          "color": "#0460C9"
         },
         "mode": "lines",
         "name": "Male",
         "showlegend": false,
         "type": "scatter",
         "x": [
          18,
          18.048,
          18.096,
          18.144,
          18.192,
          18.24,
          18.288,
          18.336,
          18.384,
          18.432,
          18.48,
          18.528,
          18.576,
          18.624,
          18.672,
          18.72,
          18.768,
          18.816,
          18.864,
          18.912,
          18.96,
          19.008,
          19.056,
          19.104,
          19.152,
          19.2,
          19.248,
          19.296,
          19.344,
          19.392,
          19.44,
          19.488,
          19.536,
          19.584,
          19.632,
          19.68,
          19.728,
          19.776,
          19.824,
          19.872,
          19.92,
          19.968,
          20.016,
          20.064,
          20.112000000000002,
          20.16,
          20.208,
          20.256,
          20.304,
          20.352,
          20.4,
          20.448,
          20.496,
          20.544,
          20.592,
          20.64,
          20.688,
          20.736,
          20.784,
          20.832,
          20.88,
          20.928,
          20.976,
          21.024,
          21.072,
          21.12,
          21.168,
          21.216,
          21.264,
          21.312,
          21.36,
          21.408,
          21.456,
          21.504,
          21.552,
          21.6,
          21.648,
          21.696,
          21.744,
          21.792,
          21.84,
          21.887999999999998,
          21.936,
          21.984,
          22.032,
          22.08,
          22.128,
          22.176000000000002,
          22.224,
          22.272,
          22.32,
          22.368000000000002,
          22.416,
          22.464,
          22.512,
          22.56,
          22.608,
          22.656,
          22.704,
          22.752,
          22.8,
          22.848,
          22.896,
          22.944,
          22.992,
          23.04,
          23.088,
          23.136,
          23.184,
          23.232,
          23.28,
          23.328,
          23.376,
          23.424,
          23.472,
          23.52,
          23.567999999999998,
          23.616,
          23.664,
          23.712,
          23.759999999999998,
          23.808,
          23.856,
          23.904,
          23.951999999999998,
          24,
          24.048000000000002,
          24.096,
          24.144,
          24.192,
          24.240000000000002,
          24.288,
          24.336,
          24.384,
          24.432000000000002,
          24.48,
          24.528,
          24.576,
          24.624,
          24.672,
          24.72,
          24.768,
          24.816,
          24.864,
          24.912,
          24.96,
          25.008,
          25.056,
          25.104,
          25.152,
          25.2,
          25.248,
          25.296,
          25.344,
          25.392,
          25.44,
          25.488,
          25.536,
          25.584,
          25.631999999999998,
          25.68,
          25.728,
          25.776,
          25.823999999999998,
          25.872,
          25.92,
          25.968,
          26.016,
          26.064,
          26.112000000000002,
          26.16,
          26.208,
          26.256,
          26.304000000000002,
          26.352,
          26.4,
          26.448,
          26.496000000000002,
          26.544,
          26.592,
          26.64,
          26.688000000000002,
          26.736,
          26.784,
          26.832,
          26.880000000000003,
          26.928,
          26.976,
          27.024,
          27.072,
          27.119999999999997,
          27.168,
          27.216,
          27.264,
          27.311999999999998,
          27.36,
          27.408,
          27.456,
          27.503999999999998,
          27.552,
          27.6,
          27.648,
          27.695999999999998,
          27.744,
          27.792,
          27.84,
          27.887999999999998,
          27.936,
          27.984,
          28.032,
          28.08,
          28.128,
          28.176000000000002,
          28.224,
          28.272,
          28.32,
          28.368000000000002,
          28.416,
          28.464,
          28.512,
          28.560000000000002,
          28.608,
          28.656,
          28.704,
          28.752000000000002,
          28.8,
          28.848,
          28.896,
          28.944000000000003,
          28.992,
          29.04,
          29.088,
          29.136,
          29.183999999999997,
          29.232,
          29.28,
          29.328,
          29.375999999999998,
          29.424,
          29.472,
          29.52,
          29.567999999999998,
          29.616,
          29.664,
          29.712,
          29.759999999999998,
          29.808,
          29.856,
          29.904,
          29.951999999999998,
          30,
          30.048000000000002,
          30.096,
          30.144,
          30.192,
          30.240000000000002,
          30.288,
          30.336,
          30.384,
          30.432000000000002,
          30.48,
          30.528,
          30.576,
          30.624000000000002,
          30.672,
          30.72,
          30.768,
          30.816000000000003,
          30.864,
          30.912,
          30.96,
          31.008,
          31.055999999999997,
          31.104,
          31.152,
          31.2,
          31.247999999999998,
          31.296,
          31.344,
          31.392,
          31.439999999999998,
          31.488,
          31.536,
          31.584,
          31.631999999999998,
          31.68,
          31.728,
          31.776,
          31.823999999999998,
          31.872,
          31.92,
          31.968,
          32.016,
          32.064,
          32.112,
          32.16,
          32.208,
          32.256,
          32.304,
          32.352000000000004,
          32.4,
          32.448,
          32.496,
          32.544,
          32.592,
          32.64,
          32.688,
          32.736000000000004,
          32.784,
          32.832,
          32.88,
          32.928,
          32.976,
          33.024,
          33.072,
          33.12,
          33.168,
          33.216,
          33.263999999999996,
          33.312,
          33.36,
          33.408,
          33.456,
          33.504,
          33.552,
          33.6,
          33.647999999999996,
          33.696,
          33.744,
          33.792,
          33.84,
          33.888,
          33.936,
          33.984,
          34.032,
          34.08,
          34.128,
          34.176,
          34.224000000000004,
          34.272,
          34.32,
          34.367999999999995,
          34.416,
          34.464,
          34.512,
          34.56,
          34.608000000000004,
          34.656,
          34.704,
          34.751999999999995,
          34.8,
          34.848,
          34.896,
          34.944,
          34.992000000000004,
          35.04,
          35.088,
          35.135999999999996,
          35.184,
          35.232,
          35.28,
          35.328,
          35.376000000000005,
          35.424,
          35.472,
          35.519999999999996,
          35.568,
          35.616,
          35.664,
          35.712,
          35.760000000000005,
          35.808,
          35.856,
          35.903999999999996,
          35.952,
          36,
          36.048,
          36.096000000000004,
          36.144,
          36.192,
          36.239999999999995,
          36.288,
          36.336,
          36.384,
          36.432,
          36.480000000000004,
          36.528,
          36.576,
          36.623999999999995,
          36.672,
          36.72,
          36.768,
          36.816,
          36.864000000000004,
          36.912,
          36.96,
          37.007999999999996,
          37.056,
          37.104,
          37.152,
          37.2,
          37.248000000000005,
          37.296,
          37.344,
          37.391999999999996,
          37.44,
          37.488,
          37.536,
          37.584,
          37.632000000000005,
          37.68,
          37.728,
          37.775999999999996,
          37.824,
          37.872,
          37.92,
          37.968,
          38.016,
          38.064,
          38.111999999999995,
          38.16,
          38.208,
          38.256,
          38.304,
          38.352000000000004,
          38.4,
          38.448,
          38.495999999999995,
          38.544,
          38.592,
          38.64,
          38.688,
          38.736000000000004,
          38.784,
          38.832,
          38.879999999999995,
          38.928,
          38.976,
          39.024,
          39.072,
          39.120000000000005,
          39.168,
          39.216,
          39.263999999999996,
          39.312,
          39.36,
          39.408,
          39.456,
          39.504000000000005,
          39.552,
          39.6,
          39.647999999999996,
          39.696,
          39.744,
          39.792,
          39.84,
          39.888000000000005,
          39.936,
          39.984,
          40.032,
          40.08,
          40.128,
          40.176,
          40.224000000000004,
          40.272,
          40.32,
          40.367999999999995,
          40.416,
          40.464,
          40.512,
          40.56,
          40.608000000000004,
          40.656,
          40.704,
          40.751999999999995,
          40.8,
          40.848,
          40.896,
          40.944,
          40.992000000000004,
          41.04,
          41.088,
          41.135999999999996,
          41.184,
          41.232,
          41.28,
          41.328,
          41.376000000000005,
          41.424,
          41.472,
          41.519999999999996,
          41.568,
          41.616,
          41.664,
          41.712,
          41.760000000000005,
          41.808,
          41.856,
          41.903999999999996,
          41.952
         ],
         "xaxis": "x",
         "y": [
          0.0030805945657501736,
          0.0031997482777239928,
          0.003323161055837752,
          0.003451139304255237,
          0.003584013960189683,
          0.00372214079298625,
          0.003865900568390347,
          0.004015699071413081,
          0.004171966981881171,
          0.004335159597461098,
          0.00450575639967776,
          0.004684260459196984,
          0.0048711976774076585,
          0.0050671158621218544,
          0.005272583636004702,
          0.0054881891771510925,
          0.005714538792042903,
          0.005952255321944875,
          0.00620197638463658,
          0.006464352454222599,
          0.0067400447826272605,
          0.007029723167250999,
          0.007334063570156754,
          0.007653745595057541,
          0.007989449829299122,
          0.008341855058967361,
          0.008711635366207228,
          0.00909945711880695,
          0.009505975863086416,
          0.009931833132121296,
          0.010377653182334039,
          0.010844039672482996,
          0.011331572300076772,
          0.01184080341121703,
          0.012372254600833627,
          0.012926413321192988,
          0.013503729517436537,
          0.014104612309718854,
          0.014729426742251122,
          0.015378490620200639,
          0.016052071455939038,
          0.016750383546535783,
          0.01747358520467179,
          0.01822177616524928,
          0.01899499518991099,
          0.019793217891417587,
          0.02061635479936152,
          0.021464249688002826,
          0.022336678186087523,
          0.023233346687338615,
          0.02415389157889281,
          0.025097878803287916,
          0.026064803767686967,
          0.027054091611860807,
          0.028065097844050837,
          0.029097109351214994,
          0.030149345787328172,
          0.03122096134041417,
          0.032311046875815826,
          0.03341863244994245,
          0.034542690185368354,
          0.03568213749474884,
          0.036835840637616885,
          0.0380026185907628,
          0.03918124720962981,
          0.04037046365503687,
          0.041568971056602386,
          0.04277544338155307,
          0.043988530475192564,
          0.045206863237231804,
          0.04642905889647678,
          0.04765372634508265,
          0.048879471492716306,
          0.05010490260059157,
          0.05132863555542502,
          0.0525492990439482,
          0.05376553958968994,
          0.05497602641531447,
          0.056179456095844876,
          0.05737455697059997,
          0.05856009328459702,
          0.05973486903347665,
          0.06089773148966311,
          0.06204757439139499,
          0.06318334078045434,
          0.06430402547873199,
          0.06540867719824374,
          0.06649640028366952,
          0.0675663560909554,
          0.0686177640098649,
          0.0696499021425545,
          0.0706621076542047,
          0.07165377681539814,
          0.07262436475924774,
          0.0735733849792044,
          0.07450040859592018,
          0.07540506342355752,
          0.07628703286739033,
          0.07714605468550056,
          0.07798191964777235,
          0.07879447012523308,
          0.07958359864209838,
          0.08034924642165739,
          0.08109140195538758,
          0.08181009962246887,
          0.08250541838419416,
          0.08317748057468996,
          0.0838264508059138,
          0.08445253500114033,
          0.0850559795671322,
          0.08563707071098212,
          0.08619613390325893,
          0.08673353348466921,
          0.08724967240900207,
          0.08774499211074499,
          0.08821997248147238,
          0.08867513193501726,
          0.08911102753756325,
          0.08952825517522153,
          0.08992744972841912,
          0.09030928521960026,
          0.0906744748983473,
          0.0910237712261279,
          0.09135796572150151,
          0.09167788862581902,
          0.09198440834922365,
          0.09227843065717209,
          0.0925608975587422,
          0.09283278585968162,
          0.09309510534551346,
          0.09334889656301794,
          0.09359522817208918,
          0.09383519384425056,
          0.09406990868903746,
          0.0943005051949479,
          0.09452812867769805,
          0.09475393223505188,
          0.09497907121444578,
          0.09520469720696126,
          0.09543195158880266,
          0.09566195863924289,
          0.09589581827191415,
          0.09613459842422141,
          0.0963793271574658,
          0.09663098452781876,
          0.09689049429551008,
          0.09715871554634509,
          0.09743643430578978,
          0.09772435523129187,
          0.09802309347306613,
          0.0983331667971764,
          0.09865498806726841,
          0.09898885818265891,
          0.09933495957058475,
          0.09969335032915952,
          0.10006395911496832,
          0.10044658086517025,
          0.10084087343850347,
          0.10124635525266126,
          0.10166240398722132,
          0.10208825641166276,
          0.10252300938712326,
          0.102965622078525,
          0.1034149194006622,
          0.10386959670795645,
          0.10432822572301614,
          0.10478926168411383,
          0.10525105167635042,
          0.10571184409594371,
          0.10616979918189165,
          0.10662300053450768,
          0.10706946752624874,
          0.10750716849704356,
          0.10793403461427199,
          0.10834797426678172,
          0.10874688785313526,
          0.10912868281673933,
          0.10949128877487233,
          0.1098326725849078,
          0.11015085318941994,
          0.11044391608234025,
          0.11071002724096818,
          0.11094744637340694,
          0.11115453933783241,
          0.11132978959886791,
          0.11147180859705128,
          0.11157934491986271,
          0.11165129217681828,
          0.1116866954965018,
          0.1116847565799719,
          0.11164483726237387,
          0.11156646155266811,
          0.11144931613982871,
          0.11129324937241164,
          0.11109826873680088,
          0.11086453687742205,
          0.11059236621951649,
          0.11028221227150298,
          0.10993466569921707,
          0.10955044327829853,
          0.10913037784346143,
          0.10867540736419536,
          0.10818656328550624,
          0.1076649582794853,
          0.10711177355876776,
          0.10652824590623441,
          0.10591565457664098,
          0.10527530822524724,
          0.10460853201598906,
          0.10391665505736801,
          0.10320099830814801,
          0.10246286308718651,
          0.10170352031248535,
          0.10092420058393958,
          0.10012608521239698,
          0.09931029828479648,
          0.09847789984133579,
          0.09762988022616181,
          0.09676715565803748,
          0.09589056505205701,
          0.09500086810790442,
          0.09409874466456909,
          0.09318479530598858,
          0.09225954318698273,
          0.09132343703419592,
          0.09037685526275595,
          0.0894201111361165,
          0.08845345888421689,
          0.0874771006837941,
          0.08649119439454495,
          0.08549586193594563,
          0.08449119818202966,
          0.08347728024534104,
          0.08245417701673952,
          0.08142195882475363,
          0.08038070707685975,
          0.07933052374536091,
          0.07827154056255499,
          0.07720392779354607,
          0.07612790246036556,
          0.07504373589801032,
          0.0739517605314753,
          0.07285237577281793,
          0.07174605294859789,
          0.07063333918060612,
          0.0695148601564567,
          0.06839132174123123,
          0.06726351039672925,
          0.0661322923908294,
          0.06499861179576394,
          0.06386348729056143,
          0.06272800779926903,
          0.0615933270126127,
          0.060460656856249406,
          0.05933125998347231,
          0.05820644138394299,
          0.057087539212511015,
          0.055975914953250556,
          0.054872943043327745,
          0.0537800000890249,
          0.05269845381209189,
          0.05162965186844474,
          0.05057491068302197,
          0.049535504444306065,
          0.04851265439961817,
          0.047507518587818445,
          0.04652118213958384,
          0.045554648267060315,
          0.04460883005456518,
          0.043684543150279996,
          0.042782499445755795,
          0.041903301815722244,
          0.04104743997544132,
          0.040215287496878284,
          0.039407100008585695,
          0.03862301458764774,
          0.037863050335608855,
          0.037127110114269626,
          0.03641498340182976,
          0.03572635021534793,
          0.035060786032084436,
          0.034417767630208075,
          0.03379667975874761,
          0.03319682253770615,
          0.032617419482040305,
          0.032057626037816825,
          0.031516538515338796,
          0.03099320330239693,
          0.030486626241011734,
          0.029995782053045334,
          0.029519623703769895,
          0.02905709159777627,
          0.02860712250834083,
          0.028168658149368513,
          0.027740653308119218,
          0.02732208346688998,
          0.02691195185246556,
          0.02650929586324976,
          0.02611319283532163,
          0.02572276512002725,
          0.025337184456905845,
          0.02495567563656082,
          0.024577519458362496,
          0.02420205499742385,
          0.023828681204010937,
          0.023456857866307218,
          0.02308610597414769,
          0.02271600752693236,
          0.02234620483335185,
          0.021976399353816022,
          0.021606350138570065,
          0.021235871915446694,
          0.02086483288109593,
          0.02049315224842398,
          0.020120797600958275,
          0.019747782102038668,
          0.019374161603231497,
          0.019000031692304582,
          0.018625524716612368,
          0.01825080681295439,
          0.017876074970029344,
          0.017501554144618927,
          0.0171274944477461,
          0.01675416841235568,
          0.016381868349670318,
          0.016010903797375357,
          0.015641599059243255,
          0.015274290832799426,
          0.014909325919182698,
          0.014547059007504562,
          0.014187850524766506,
          0.01383206454175305,
          0.01348006672525475,
          0.013132222327464273,
          0.012788894204375744,
          0.012450440856450678,
          0.012117214486627984,
          0.01178955907286837,
          0.011467808454770906,
          0.011152284436283869,
          0.010843294909083038,
          0.010541132003718836,
          0.010246070278061722,
          0.009958364954830441,
          0.009678250221999172,
          0.00940593761158683,
          0.009141614473686013,
          0.008885442563544017,
          0.008637556760034922,
          0.008398063933943028,
          0.008167041984094946,
          0.007944539058547409,
          0.007730572976756212,
          0.0075251308669584864,
          0.007328169030914414,
          0.007139613045726751,
          0.006959358109729514,
          0.006787269636468996,
          0.006623184097648832,
          0.006466910112639268,
          0.006318229778823851,
          0.006176900233739621,
          0.006042655436723226,
          0.005915208154667294,
          0.00579425213357661,
          0.0056794644349469035,
          0.005570507913614719,
          0.005467033811691255,
          0.005368684441524903,
          0.005275095929365973,
          0.005185900990550808,
          0.0051007317065901265,
          0.0050192222745407975,
          0.004941011699458095,
          0.004865746401548748,
          0.004793082710861085,
          0.004722689223924671,
          0.004654248998662069,
          0.004587461566100307,
          0.004522044739871585,
          0.0044577362071687955,
          0.0043942948876659355,
          0.0043315020498838055,
          0.004269162177527837,
          0.004207103581406762,
          0.0041451787556107235,
          0.004083264479646301,
          0.004021261671153128,
          0.003959094996627428,
          0.0038967122502180673,
          0.0038340835131140975,
          0.0037712001082811416,
          0.003708073367310438,
          0.0036447332278987214,
          0.0035812266819695037,
          0.0035176160956654754,
          0.0034539774233858264,
          0.0033903983387052468,
          0.0033269763054006416,
          0.003263816611925834,
          0.0032010303925266623,
          0.0031387326577850196,
          0.003077040356733714,
          0.0030160704918098915,
          0.0029559383068258017,
          0.00289675556685184,
          0.0028386289474441515,
          0.002781658549027638,
          0.0027259365504850577,
          0.0026715460141244316,
          0.0026185598522214045,
          0.0025670399632824557,
          0.002517036544070992,
          0.0024685875813026214,
          0.0024217185247721314,
          0.002376442141543198,
          0.00233275854873597,
          0.0022906554204082732,
          0.002250108362064221,
          0.0022110814444605913,
          0.0021735278866343863,
          0.0021373908764646425,
          0.002102604515623483,
          0.002069094874481222,
          0.002036781141422709,
          0.0020055768501173687,
          0.001975391167574544,
          0.0019461302253152848,
          0.0019176984757065117,
          0.0018900000554365655,
          0.0018629401382609279,
          0.0018364262595113529,
          0.001810369595434439,
          0.0017846861811981357,
          0.0017592980523660417,
          0.001734134295776502,
          0.0017091319970591972,
          0.0016842370734603857,
          0.0016594049822077795,
          0.0016346012963074246,
          0.0016098021414049442,
          0.001584994489139425,
          0.001560176304246776,
          0.001535356544506349,
          0.0015105550144477457,
          0.0014858020755201793,
          0.0014611382171539117,
          0.0014366134947908342,
          0.001412286842510812,
          0.001388225269314398,
          0.0013645029494259281,
          0.001341200218140842,
          0.001318402485745752,
          0.0012961990828819277,
          0.0012746820513947546,
          0.0012539448952104506,
          0.0012340813061046331,
          0.0012151838793757524,
          0.001197342834412025,
          0.0011806447549484766,
          0.0011651713634557596,
          0.0011509983435936265,
          0.0011381942240068963,
          0.001126819335951673,
          0.001116924856324933,
          0.0011085519466437664,
          0.0011017309973940519,
          0.0010964809859554201,
          0.001092808955023578,
          0.0010907096171063075,
          0.0010901650892797977,
          0.0010911447609712594,
          0.0010936052960964758,
          0.0010974907694406885,
          0.001102732935742059,
          0.0011092516285324523,
          0.0011169552844239093,
          0.0011257415872138795,
          0.0011354982249308014,
          0.0011461037517661791,
          0.0011574285457515473,
          0.0011693358520497253,
          0.0011816829008498243,
          0.0011943220880940974,
          0.0012071022066304268,
          0.0012198697148844359,
          0.0012324700297862057,
          0.0012447488304730646,
          0.0012565533592255465,
          0.0012677337061800637,
          0.001278144064599177,
          0.0012876439438672294,
          0.0012960993279115323,
          0.0013033837674225532,
          0.001309379395052725,
          0.0013139778537040068,
          0.001317081129057849,
          0.0013186022786454592,
          0.0013184660509867622,
          0.0013166093896277656
         ],
         "yaxis": "y"
        }
       ],
       "layout": {
        "barmode": "overlay",
        "hovermode": "closest",
        "legend": {
         "traceorder": "reversed"
        },
        "template": {
         "data": {
          "bar": [
           {
            "error_x": {
             "color": "#2a3f5f"
            },
            "error_y": {
             "color": "#2a3f5f"
            },
            "marker": {
             "line": {
              "color": "#E5ECF6",
              "width": 0.5
             }
            },
            "type": "bar"
           }
          ],
          "barpolar": [
           {
            "marker": {
             "line": {
              "color": "#E5ECF6",
              "width": 0.5
             }
            },
            "type": "barpolar"
           }
          ],
          "carpet": [
           {
            "aaxis": {
             "endlinecolor": "#2a3f5f",
             "gridcolor": "white",
             "linecolor": "white",
             "minorgridcolor": "white",
             "startlinecolor": "#2a3f5f"
            },
            "baxis": {
             "endlinecolor": "#2a3f5f",
             "gridcolor": "white",
             "linecolor": "white",
             "minorgridcolor": "white",
             "startlinecolor": "#2a3f5f"
            },
            "type": "carpet"
           }
          ],
          "choropleth": [
           {
            "colorbar": {
             "outlinewidth": 0,
             "ticks": ""
            },
            "type": "choropleth"
           }
          ],
          "contour": [
           {
            "colorbar": {
             "outlinewidth": 0,
             "ticks": ""
            },
            "colorscale": [
             [
              0,
              "#0d0887"
             ],
             [
              0.1111111111111111,
              "#46039f"
             ],
             [
              0.2222222222222222,
              "#7201a8"
             ],
             [
              0.3333333333333333,
              "#9c179e"
             ],
             [
              0.4444444444444444,
              "#bd3786"
             ],
             [
              0.5555555555555556,
              "#d8576b"
             ],
             [
              0.6666666666666666,
              "#ed7953"
             ],
             [
              0.7777777777777778,
              "#fb9f3a"
             ],
             [
              0.8888888888888888,
              "#fdca26"
             ],
             [
              1,
              "#f0f921"
             ]
            ],
            "type": "contour"
           }
          ],
          "contourcarpet": [
           {
            "colorbar": {
             "outlinewidth": 0,
             "ticks": ""
            },
            "type": "contourcarpet"
           }
          ],
          "heatmap": [
           {
            "colorbar": {
             "outlinewidth": 0,
             "ticks": ""
            },
            "colorscale": [
             [
              0,
              "#0d0887"
             ],
             [
              0.1111111111111111,
              "#46039f"
             ],
             [
              0.2222222222222222,
              "#7201a8"
             ],
             [
              0.3333333333333333,
              "#9c179e"
             ],
             [
              0.4444444444444444,
              "#bd3786"
             ],
             [
              0.5555555555555556,
              "#d8576b"
             ],
             [
              0.6666666666666666,
              "#ed7953"
             ],
             [
              0.7777777777777778,
              "#fb9f3a"
             ],
             [
              0.8888888888888888,
              "#fdca26"
             ],
             [
              1,
              "#f0f921"
             ]
            ],
            "type": "heatmap"
           }
          ],
          "heatmapgl": [
           {
            "colorbar": {
             "outlinewidth": 0,
             "ticks": ""
            },
            "colorscale": [
             [
              0,
              "#0d0887"
             ],
             [
              0.1111111111111111,
              "#46039f"
             ],
             [
              0.2222222222222222,
              "#7201a8"
             ],
             [
              0.3333333333333333,
              "#9c179e"
             ],
             [
              0.4444444444444444,
              "#bd3786"
             ],
             [
              0.5555555555555556,
              "#d8576b"
             ],
             [
              0.6666666666666666,
              "#ed7953"
             ],
             [
              0.7777777777777778,
              "#fb9f3a"
             ],
             [
              0.8888888888888888,
              "#fdca26"
             ],
             [
              1,
              "#f0f921"
             ]
            ],
            "type": "heatmapgl"
           }
          ],
          "histogram": [
           {
            "marker": {
             "colorbar": {
              "outlinewidth": 0,
              "ticks": ""
             }
            },
            "type": "histogram"
           }
          ],
          "histogram2d": [
           {
            "colorbar": {
             "outlinewidth": 0,
             "ticks": ""
            },
            "colorscale": [
             [
              0,
              "#0d0887"
             ],
             [
              0.1111111111111111,
              "#46039f"
             ],
             [
              0.2222222222222222,
              "#7201a8"
             ],
             [
              0.3333333333333333,
              "#9c179e"
             ],
             [
              0.4444444444444444,
              "#bd3786"
             ],
             [
              0.5555555555555556,
              "#d8576b"
             ],
             [
              0.6666666666666666,
              "#ed7953"
             ],
             [
              0.7777777777777778,
              "#fb9f3a"
             ],
             [
              0.8888888888888888,
              "#fdca26"
             ],
             [
              1,
              "#f0f921"
             ]
            ],
            "type": "histogram2d"
           }
          ],
          "histogram2dcontour": [
           {
            "colorbar": {
             "outlinewidth": 0,
             "ticks": ""
            },
            "colorscale": [
             [
              0,
              "#0d0887"
             ],
             [
              0.1111111111111111,
              "#46039f"
             ],
             [
              0.2222222222222222,
              "#7201a8"
             ],
             [
              0.3333333333333333,
              "#9c179e"
             ],
             [
              0.4444444444444444,
              "#bd3786"
             ],
             [
              0.5555555555555556,
              "#d8576b"
             ],
             [
              0.6666666666666666,
              "#ed7953"
             ],
             [
              0.7777777777777778,
              "#fb9f3a"
             ],
             [
              0.8888888888888888,
              "#fdca26"
             ],
             [
              1,
              "#f0f921"
             ]
            ],
            "type": "histogram2dcontour"
           }
          ],
          "mesh3d": [
           {
            "colorbar": {
             "outlinewidth": 0,
             "ticks": ""
            },
            "type": "mesh3d"
           }
          ],
          "parcoords": [
           {
            "line": {
             "colorbar": {
              "outlinewidth": 0,
              "ticks": ""
             }
            },
            "type": "parcoords"
           }
          ],
          "pie": [
           {
            "automargin": true,
            "type": "pie"
           }
          ],
          "scatter": [
           {
            "marker": {
             "colorbar": {
              "outlinewidth": 0,
              "ticks": ""
             }
            },
            "type": "scatter"
           }
          ],
          "scatter3d": [
           {
            "line": {
             "colorbar": {
              "outlinewidth": 0,
              "ticks": ""
             }
            },
            "marker": {
             "colorbar": {
              "outlinewidth": 0,
              "ticks": ""
             }
            },
            "type": "scatter3d"
           }
          ],
          "scattercarpet": [
           {
            "marker": {
             "colorbar": {
              "outlinewidth": 0,
              "ticks": ""
             }
            },
            "type": "scattercarpet"
           }
          ],
          "scattergeo": [
           {
            "marker": {
             "colorbar": {
              "outlinewidth": 0,
              "ticks": ""
             }
            },
            "type": "scattergeo"
           }
          ],
          "scattergl": [
           {
            "marker": {
             "colorbar": {
              "outlinewidth": 0,
              "ticks": ""
             }
            },
            "type": "scattergl"
           }
          ],
          "scattermapbox": [
           {
            "marker": {
             "colorbar": {
              "outlinewidth": 0,
              "ticks": ""
             }
            },
            "type": "scattermapbox"
           }
          ],
          "scatterpolar": [
           {
            "marker": {
             "colorbar": {
              "outlinewidth": 0,
              "ticks": ""
             }
            },
            "type": "scatterpolar"
           }
          ],
          "scatterpolargl": [
           {
            "marker": {
             "colorbar": {
              "outlinewidth": 0,
              "ticks": ""
             }
            },
            "type": "scatterpolargl"
           }
          ],
          "scatterternary": [
           {
            "marker": {
             "colorbar": {
              "outlinewidth": 0,
              "ticks": ""
             }
            },
            "type": "scatterternary"
           }
          ],
          "surface": [
           {
            "colorbar": {
             "outlinewidth": 0,
             "ticks": ""
            },
            "colorscale": [
             [
              0,
              "#0d0887"
             ],
             [
              0.1111111111111111,
              "#46039f"
             ],
             [
              0.2222222222222222,
              "#7201a8"
             ],
             [
              0.3333333333333333,
              "#9c179e"
             ],
             [
              0.4444444444444444,
              "#bd3786"
             ],
             [
              0.5555555555555556,
              "#d8576b"
             ],
             [
              0.6666666666666666,
              "#ed7953"
             ],
             [
              0.7777777777777778,
              "#fb9f3a"
             ],
             [
              0.8888888888888888,
              "#fdca26"
             ],
             [
              1,
              "#f0f921"
             ]
            ],
            "type": "surface"
           }
          ],
          "table": [
           {
            "cells": {
             "fill": {
              "color": "#EBF0F8"
             },
             "line": {
              "color": "white"
             }
            },
            "header": {
             "fill": {
              "color": "#C8D4E3"
             },
             "line": {
              "color": "white"
             }
            },
            "type": "table"
           }
          ]
         },
         "layout": {
          "annotationdefaults": {
           "arrowcolor": "#2a3f5f",
           "arrowhead": 0,
           "arrowwidth": 1
          },
          "coloraxis": {
           "colorbar": {
            "outlinewidth": 0,
            "ticks": ""
           }
          },
          "colorscale": {
           "diverging": [
            [
             0,
             "#8e0152"
            ],
            [
             0.1,
             "#c51b7d"
            ],
            [
             0.2,
             "#de77ae"
            ],
            [
             0.3,
             "#f1b6da"
            ],
            [
             0.4,
             "#fde0ef"
            ],
            [
             0.5,
             "#f7f7f7"
            ],
            [
             0.6,
             "#e6f5d0"
            ],
            [
             0.7,
             "#b8e186"
            ],
            [
             0.8,
             "#7fbc41"
            ],
            [
             0.9,
             "#4d9221"
            ],
            [
             1,
             "#276419"
            ]
           ],
           "sequential": [
            [
             0,
             "#0d0887"
            ],
            [
             0.1111111111111111,
             "#46039f"
            ],
            [
             0.2222222222222222,
             "#7201a8"
            ],
            [
             0.3333333333333333,
             "#9c179e"
            ],
            [
             0.4444444444444444,
             "#bd3786"
            ],
            [
             0.5555555555555556,
             "#d8576b"
            ],
            [
             0.6666666666666666,
             "#ed7953"
            ],
            [
             0.7777777777777778,
             "#fb9f3a"
            ],
            [
             0.8888888888888888,
             "#fdca26"
            ],
            [
             1,
             "#f0f921"
            ]
           ],
           "sequentialminus": [
            [
             0,
             "#0d0887"
            ],
            [
             0.1111111111111111,
             "#46039f"
            ],
            [
             0.2222222222222222,
             "#7201a8"
            ],
            [
             0.3333333333333333,
             "#9c179e"
            ],
            [
             0.4444444444444444,
             "#bd3786"
            ],
            [
             0.5555555555555556,
             "#d8576b"
            ],
            [
             0.6666666666666666,
             "#ed7953"
            ],
            [
             0.7777777777777778,
             "#fb9f3a"
            ],
            [
             0.8888888888888888,
             "#fdca26"
            ],
            [
             1,
             "#f0f921"
            ]
           ]
          },
          "colorway": [
           "#636efa",
           "#EF553B",
           "#00cc96",
           "#ab63fa",
           "#FFA15A",
           "#19d3f3",
           "#FF6692",
           "#B6E880",
           "#FF97FF",
           "#FECB52"
          ],
          "font": {
           "color": "#2a3f5f"
          },
          "geo": {
           "bgcolor": "white",
           "lakecolor": "white",
           "landcolor": "#E5ECF6",
           "showlakes": true,
           "showland": true,
           "subunitcolor": "white"
          },
          "hoverlabel": {
           "align": "left"
          },
          "hovermode": "closest",
          "mapbox": {
           "style": "light"
          },
          "paper_bgcolor": "white",
          "plot_bgcolor": "#E5ECF6",
          "polar": {
           "angularaxis": {
            "gridcolor": "white",
            "linecolor": "white",
            "ticks": ""
           },
           "bgcolor": "#E5ECF6",
           "radialaxis": {
            "gridcolor": "white",
            "linecolor": "white",
            "ticks": ""
           }
          },
          "scene": {
           "xaxis": {
            "backgroundcolor": "#E5ECF6",
            "gridcolor": "white",
            "gridwidth": 2,
            "linecolor": "white",
            "showbackground": true,
            "ticks": "",
            "zerolinecolor": "white"
           },
           "yaxis": {
            "backgroundcolor": "#E5ECF6",
            "gridcolor": "white",
            "gridwidth": 2,
            "linecolor": "white",
            "showbackground": true,
            "ticks": "",
            "zerolinecolor": "white"
           },
           "zaxis": {
            "backgroundcolor": "#E5ECF6",
            "gridcolor": "white",
            "gridwidth": 2,
            "linecolor": "white",
            "showbackground": true,
            "ticks": "",
            "zerolinecolor": "white"
           }
          },
          "shapedefaults": {
           "line": {
            "color": "#2a3f5f"
           }
          },
          "ternary": {
           "aaxis": {
            "gridcolor": "white",
            "linecolor": "white",
            "ticks": ""
           },
           "baxis": {
            "gridcolor": "white",
            "linecolor": "white",
            "ticks": ""
           },
           "bgcolor": "#E5ECF6",
           "caxis": {
            "gridcolor": "white",
            "linecolor": "white",
            "ticks": ""
           }
          },
          "title": {
           "x": 0.05
          },
          "xaxis": {
           "automargin": true,
           "gridcolor": "white",
           "linecolor": "white",
           "ticks": "",
           "title": {
            "standoff": 15
           },
           "zerolinecolor": "white",
           "zerolinewidth": 2
          },
          "yaxis": {
           "automargin": true,
           "gridcolor": "white",
           "linecolor": "white",
           "ticks": "",
           "title": {
            "standoff": 15
           },
           "zerolinecolor": "white",
           "zerolinewidth": 2
          }
         }
        },
        "title": {
         "text": "Hist and Curve Plot"
        },
        "xaxis": {
         "anchor": "y2",
         "domain": [
          0,
          1
         ],
         "zeroline": false
        },
        "yaxis": {
         "anchor": "free",
         "domain": [
          0,
          1
         ],
         "position": 0
        }
       }
      }
     },
     "metadata": {},
     "output_type": "display_data"
    }
   ],
   "source": [
    "import plotly.figure_factory as ff\n",
    "import numpy as np\n",
    "\n",
    "x1= df_iid[df_iid[\"gender_name\"] == \"Female\"][\"age\"].dropna().copy()\n",
    "x2= df_iid[df_iid[\"gender_name\"] == \"Male\"][\"age\"].dropna().copy()\n",
    "x1 = x1.to_numpy()\n",
    "x2 = x2.to_numpy()\n",
    "\n",
    "hist_data = [x1, x2]\n",
    "\n",
    "group_labels = ['Female', 'Male']\n",
    "colors = [\"#F78FE4\", \"#0460C9\"]\n",
    "\n",
    "# Create distplot with curve_type set to 'normal'\n",
    "fig = ff.create_distplot(hist_data, group_labels, colors=colors,\n",
    "                         bin_size=1, show_rug=False)\n",
    "\n",
    "# Add title\n",
    "fig.update_layout(title_text='Hist and Curve Plot')\n",
    "fig.show()"
   ]
  },
  {
   "cell_type": "code",
   "execution_count": 13,
   "metadata": {},
   "outputs": [
    {
     "data": {
      "application/vnd.plotly.v1+json": {
       "config": {
        "plotlyServerURL": "https://plot.ly"
       },
       "data": [
        {
         "autobinx": false,
         "histnorm": "probability density",
         "legendgroup": "Group 1",
         "marker": {
          "color": "#A56CC1"
         },
         "name": "Group 1",
         "opacity": 0.7,
         "type": "histogram",
         "x": [
          -1.3826721022861133,
          -1.8142539540967626,
          -1.648685771477046,
          -2.322920326928786,
          -3.3613536141730376,
          -2.330944533678816,
          -1.74989064457313,
          -0.2543888493184334,
          -1.9490802636831146,
          -3.6470995991847497,
          -1.0537581127786873,
          -1.361012126359914,
          -3.0560161522607725,
          -1.8159429024358789,
          -2.6145076042756736,
          -2.5146699358397435,
          -2.921443422456287,
          -0.9412039408713373,
          -1.1852683478430408,
          -1.5340865324360393,
          -3.313769595159221,
          -4.003003220041938,
          -1.7131136608325415,
          -0.922380723218394,
          -3.0248528107201973,
          -1.6542435482064548,
          -1.5744323067975479,
          -3.7387774126212125,
          -0.8405222815679891,
          -0.7313678385502296,
          -1.3980818674690165,
          -0.03184464140022136,
          -3.0988809998455316,
          -2.1392526943518524,
          -2.3604563337552147,
          -3.5940725595636662,
          -1.7981608315734146,
          -2.385764548175901,
          -2.5028579557388717,
          -1.8397099281270632,
          -2.2006361156054246,
          -3.7303780000455466,
          -1.1775984537577728,
          -3.3952987937463392,
          -1.9862634801457584,
          -2.4501107340723003,
          -1.0981017735120133,
          -1.5629322673509796,
          -0.4376429130431234,
          -1.3836425602479583,
          -3.0149374526578474,
          -2.2213391558149045,
          -1.4628996147591695,
          -2.0054908503523774,
          -1.6750204689604296,
          -2.39558038484354,
          -3.064948074867287,
          -1.272333792013503,
          -2.4455772342412567,
          -2.4738147460700453,
          -2.340535373947952,
          -1.7755550791259949,
          -1.6493498065613839,
          -3.22673291670921,
          -1.362110595500896,
          -0.3780883878468484,
          -3.1662529025799158,
          -3.9868807152876578,
          -2.252480461434905,
          -4.113077459518424,
          0.052165155436730615,
          -1.3618205078188046,
          -0.6743114601529823,
          -0.851039797301349,
          -1.1935872507791234,
          -3.0901903331404466,
          -2.1634692926629207,
          -1.1777759854999532,
          -2.156149449967512,
          -3.5333747711866086,
          -3.6249905795912203,
          -2.779483491285778,
          -1.6702602105225055,
          -2.0248659427609197,
          -3.255793556658195,
          -1.3930242159861548,
          -2.878927699438571,
          -2.6659889953065004,
          -2.2510579678866214,
          -2.1447397366248278,
          -2.723573254859988,
          -2.149171400594594,
          -1.854617541987,
          -3.505857038625578,
          -1.0499481822496048,
          -1.1294758037885146,
          -0.9489936228541966,
          -1.2892466737649388,
          -2.1556679730850465,
          -3.8303785560998347,
          -3.2138794523458514,
          -3.0625662255173434,
          -1.573937641084726,
          -1.429905198266645,
          -0.7866348201595086,
          -2.457161591684913,
          -1.8229351352888983,
          -2.2918797979818297,
          -3.127119286079508,
          -0.9364227005217027,
          -2.5784792968520347,
          -1.2034883572220112,
          -2.2283524454191075,
          -3.1985743717767097,
          -2.8864723395131904,
          -2.4549231207588695,
          -1.289076479122845,
          -3.511245449518866,
          -2.591768346998257,
          -0.13610337169040432,
          -0.6537400143793959,
          -2.2613126916210504,
          -2.7402222069043107,
          -2.3798551285781078,
          -2.236206888609136,
          -2.471310689900809,
          -1.860071475481266,
          -3.125654696981548,
          -1.2863096810541061,
          -1.2797379020527262,
          -1.094328196915407,
          -2.15734124285887,
          -1.1772997107464738,
          -2.22783858309246,
          -2.2979387076817344,
          -1.202288877221063,
          -3.1361693071044745,
          -3.70020867533474,
          -1.9830123530315782,
          0.41073019693148227,
          -3.1897131597096355,
          -1.58128280588042,
          -2.2581315588739574,
          -4.033885326728122,
          -1.451782695213656,
          -0.31326825573935335,
          -0.7236509239827178,
          -2.03510080261009,
          -3.106503244592728,
          -0.7805844323450126,
          -2.4022770342901945,
          -1.7333844487808803,
          -0.6506353919687069,
          -4.127892044259019,
          -0.45269392590957125,
          -0.7863745033460297,
          -1.1609258022960944,
          -1.8869896067807752,
          -0.925476753594509,
          -4.099739744751496,
          -1.4206281966164158,
          -1.8138282390338316,
          -2.5715696321662502,
          -2.6762194656904477,
          -1.5302315761950707,
          -0.9448234403765086,
          -0.5992577476177494,
          -2.5992643646571785,
          -1.4061395236577319,
          -1.498677863718414,
          -2.35023935825752,
          -3.356780675061473,
          -1.1381965020608558,
          -1.7852545395601906,
          -2.2634652255590297,
          -1.2893065820586873,
          -1.685255769274447,
          0.3325778364355605,
          -3.921561610559416,
          -3.3637947119743243,
          -2.1680976586767926,
          -0.18327767808937856,
          -1.6273000174549115,
          -0.9345591851997905,
          -2.6516029532449172,
          -2.8329172583111606,
          -2.167858599799267,
          -1.07480368170486,
          -1.3714036108290162,
          -2.5526227676341184,
          -1.667134498011288,
          -1.1355628660062818,
          -2.8408615033213405,
          -1.5008991973496628,
          -3.544772357377834,
          -2.663942106282713,
          -1.0106393117099803,
          -3.161312395148489,
          -3.252116392637141,
          -1.3070973880844217
         ],
         "xaxis": "x",
         "xbins": {
          "end": 0.41073019693148227,
          "size": 0.2,
          "start": -4.127892044259019
         },
         "yaxis": "y"
        },
        {
         "autobinx": false,
         "histnorm": "probability density",
         "legendgroup": "Group 2",
         "marker": {
          "color": "#A6ACEC"
         },
         "name": "Group 2",
         "opacity": 0.7,
         "type": "histogram",
         "x": [
          -0.015599112810422183,
          -0.3438952109282654,
          -1.3945020488059658,
          0.38132740329752585,
          -1.2991629931165432,
          0.097909122293224,
          0.1359281217940883,
          -0.0606324821495169,
          -0.03980510961988734,
          0.24354090719842086,
          -0.42431649641254,
          -0.9226668788353364,
          0.975717672867939,
          -0.9297889710494457,
          2.2878730965362832,
          0.03154211012810728,
          -0.72790004681993,
          -1.100630182996372,
          -0.07726518943880786,
          -0.17031293380851797,
          1.0607686089239519,
          1.3410437841785279,
          0.23005045968899104,
          -0.45738493185024687,
          -0.5220346248639746,
          -0.6619359783792221,
          1.230679274443729,
          -0.26704805224434713,
          -0.2660147273213158,
          0.6740638716637183,
          -0.4033276236449336,
          0.0303848143991305,
          -0.4936279067944472,
          0.9830399695384742,
          -1.32974276544192,
          -0.4173006864763503,
          -0.8687300891812813,
          0.5903965103322537,
          -1.7612107549963245,
          -0.32683663380066835,
          1.8426799471789825,
          -0.3277631497956869,
          -0.3458640692708081,
          0.12125665138552955,
          -3.217932896204765,
          -0.591879725318111,
          0.6854461592870328,
          1.273358525287093,
          -0.812025426183529,
          -0.02834598806281682,
          -1.2071872751583441,
          0.2232817829550414,
          -1.3218101381068545,
          -0.29702351918730674,
          -0.05994747022835586,
          0.6242981338871927,
          -0.5645167382120524,
          -0.7908096552497812,
          0.6454540230543697,
          -2.1621234513433105,
          1.6504179432240078,
          -1.5085848740586691,
          -0.7614835993395889,
          0.7255673438959731,
          -1.0745188845333074,
          0.5554241166851084,
          0.9643281904282476,
          -0.12457449709877293,
          1.2770095403373771,
          -0.4002727530289495,
          -0.9488356577222827,
          -0.6673363030262015,
          -1.9082517484809507,
          1.3880474510062435,
          0.8839999955226606,
          0.2384631672523392,
          0.4260830696594612,
          1.154597640773482,
          1.0478501972585497,
          -1.3961713612562296,
          0.9391320040188061,
          1.929576076865026,
          0.9730938582505515,
          -0.5901217474203774,
          0.29647698027360364,
          1.8681764510040906,
          -1.7872374771851751,
          0.44867459345366434,
          1.5339244947809947,
          -0.6894552134878826,
          0.426082626474396,
          0.5725215370369671,
          -0.8953178094194936,
          -0.209989448717337,
          0.9555604815581045,
          -0.9367078582710202,
          -0.6799181637651548,
          -1.2483589008379543,
          0.5225366413431878,
          0.8902564061456315,
          -0.23652634341322576,
          -1.0241870964647624,
          1.0297580342812147,
          -2.2827789634993745,
          -0.4077418992878093,
          -1.14599637491805,
          -0.20629738647391638,
          -0.8917153609048555,
          0.6698721891424718,
          -0.1357340628768992,
          0.4834845945208739,
          -0.547557992844722,
          -0.044510139720417174,
          -0.6173014205655095,
          -0.7088639645245404,
          0.8099800922836687,
          -1.4282454250088226,
          -1.2959289159110203,
          -0.41690756374295634,
          -1.2002164829521713,
          0.10861083590601493,
          0.6965713775785636,
          -0.0824946202675511,
          -1.5170036505052997,
          0.15529636311980355,
          -0.054365144843250564,
          1.2338201020782784,
          0.33079984614206903,
          -0.6225445492141298,
          -2.183062115014334,
          -0.208126489549418,
          2.011430768882069,
          0.5852401159193801,
          0.8476326982478907,
          -0.15663841799192746,
          0.5656442027333303,
          0.7085900516915622,
          1.1431806580947557,
          0.2601361451070265,
          -1.1005707399229874,
          0.14252622703891188,
          1.369071898389938,
          -0.3717326526364614,
          1.4865665000040584,
          0.3701590939428297,
          0.5027720811551779,
          0.716404616529622,
          -0.2812015883831931,
          1.0374120033881213,
          -0.3849519594310271,
          -1.324648611251082,
          -0.15661753833456402,
          -0.16329956055332231,
          -0.40220097056694787,
          1.7170207094625527,
          -1.4210554797364363,
          -1.0231571855138357,
          1.9587467466661073,
          0.36156076451977676,
          0.7349795686003479,
          0.8206764275818981,
          -0.8143391819735128,
          0.6350105228262196,
          0.28959399471001085,
          -1.6429336900606357,
          0.867253426820163,
          0.6145042006321081,
          1.0685387531034658,
          -0.11204077373436486,
          2.350616947321531,
          3.005877265036973,
          1.9947793786245815,
          0.6763178875364245,
          1.3057917168040334,
          0.43489655545056943,
          0.0031411495125347444,
          0.5463853518806778,
          0.06689305255678157,
          -0.9048700284913245,
          1.8852184574040747,
          0.4440496703939609,
          -0.2941280788905028,
          0.05745361659270582,
          -0.016154178345825627,
          -0.9011766222172777,
          0.9624617158039388,
          0.3209587147691801,
          -0.07405277800811302,
          1.3233503641706967,
          -0.9497408481148754,
          0.36532481665080435,
          -0.5849846996521776,
          -0.6422049744829167,
          -1.583791634812308,
          0.47251180690642497,
          0.4335307209968208,
          1.3062266264031663,
          -0.7981274985419368,
          0.2156569409708506,
          -0.19634040696016453
         ],
         "xaxis": "x",
         "xbins": {
          "end": 3.005877265036973,
          "size": 0.2,
          "start": -3.217932896204765
         },
         "yaxis": "y"
        },
        {
         "autobinx": false,
         "histnorm": "probability density",
         "legendgroup": "Group 3",
         "marker": {
          "color": "#63F5EF"
         },
         "name": "Group 3",
         "opacity": 0.7,
         "type": "histogram",
         "x": [
          0.96900513884903,
          2.218743758022513,
          0.687862927765198,
          3.6827077186952346,
          2.315085388408041,
          4.440564504474849,
          2.0016419058720647,
          3.1168551552693406,
          1.1592370247171988,
          0.26060225945674165,
          0.5899322717133517,
          1.5504487256192714,
          2.2436610402395516,
          2.004371725034158,
          2.7420354682289827,
          2.2455639908104175,
          2.817214661771298,
          2.397284531422494,
          2.6803217569647706,
          2.851820910446981,
          2.938868715732726,
          0.25691443845870854,
          3.4944099636884873,
          3.4681312469724483,
          0.18034158200901373,
          3.1532176920762502,
          2.3886066029528714,
          1.5940847768699626,
          1.0636208413103692,
          2.0133726863008103,
          1.2569380316166505,
          0.2286331034385236,
          2.3267320551291264,
          1.4544095717695198,
          2.585876482418304,
          1.8014635900091882,
          3.346264271366853,
          2.0960468385232174,
          3.1218642454160515,
          0.8107612674120894,
          1.1024456995303256,
          2.6876885050777166,
          2.9100026071536598,
          1.9556299897644989,
          3.347317757197872,
          2.3935908033177693,
          2.034446526465113,
          1.7772965656310658,
          1.0958856199078761,
          1.9713023337154838,
          0.8766300773145708,
          1.6891555387420707,
          0.749556699320373,
          0.9777176329928394,
          2.62366633674736,
          1.6175966763906926,
          1.2691052856916496,
          -0.29897104303374933,
          1.7501117943093776,
          2.862891462273066,
          0.3713351210903073,
          4.110966337540361,
          0.8474254537807795,
          3.729490025871565,
          3.3160570277377976,
          1.9989455218935333,
          0.9212199619358208,
          2.256865839058575,
          1.205420396945863,
          0.4991995237385942,
          3.029478509546892,
          1.7664485397718932,
          -0.9453057988307472,
          3.60507279845807,
          0.6390074163069293,
          1.8005763158109045,
          1.0384707974729137,
          1.9332326304844896,
          0.9212053973027234,
          0.7488820381210948,
          3.103176493593097,
          1.109195518566185,
          2.64165462830586,
          1.4482012605667567,
          1.575931719423246,
          1.906136203239537,
          3.1624612939802903,
          2.519064842172422,
          1.3184114229616228,
          2.5018272758634748,
          1.2404059081085368,
          3.385504064834471,
          2.767375981629702,
          3.8854420258382616,
          0.6556800745679676,
          3.9188699268978313,
          0.5872013414293007,
          0.529021439735347,
          2.0134644429611996,
          0.4903698790302542,
          2.1004376684801684,
          1.430559727206687,
          1.876843048963423,
          2.4871662999545174,
          2.8155382327257263,
          1.2465530315990507,
          2.7745147465790745,
          1.2896581517905727,
          3.1641549149999175,
          2.2675725660129933,
          1.4917429537291942,
          2.500866332375828,
          3.02031130493161,
          2.534995197209677,
          0.7958954678548604,
          0.5075435000898445,
          3.3270499132416127,
          3.3911424910371566,
          2.0247135195047448,
          0.9975302525203358,
          3.1244526829711585,
          3.310707992558233,
          2.9908349269313983,
          2.8631504976253863,
          -0.4931950373835017,
          0.550498621153906,
          0.7131343000291781,
          3.232859277690616,
          1.3762505066520099,
          2.7756022702095486,
          2.355224514408099,
          3.8775978728998655,
          2.188807314514875,
          3.5333767122222577,
          2.182753353432705,
          3.4064581933132017,
          -0.12217247961714728,
          1.4570902173582945,
          4.74038895192964,
          2.4533078400177444,
          2.3490582005966223,
          1.585778777117378,
          2.9217874971905045,
          0.914775168006676,
          0.05339753005549008,
          1.69835821551528,
          3.886239024709522,
          -1.115740086019982,
          3.412771538780142,
          3.430338291109101,
          1.587635792079185,
          3.3776104867522587,
          2.70887460868917,
          2.168549056934855,
          1.4014590040408474,
          1.3773719182335329,
          2.834371033428937,
          2.024654080840749,
          3.636141341526326,
          2.448760980660222,
          0.5159180817396667,
          2.4257250540702398,
          0.775626400021993,
          2.943846571489908,
          1.0811882397465433,
          1.639847910549632,
          3.2544874116903335,
          2.9397616623107785,
          3.71968305825364,
          3.299401369704536,
          0.07959625744297472,
          0.8108175454679005,
          1.4534774754655444,
          3.1885289545736115,
          0.3823764245648784,
          2.1376504055569665,
          2.221527936491424,
          0.7625775087848976,
          2.270355439709235,
          0.7364659336807107,
          1.795867891454436,
          3.0238531891063265,
          2.353641024418614,
          1.2632215378088452,
          2.833124155185416,
          1.610527476344905,
          3.9411801333719363,
          1.7541925010020625,
          2.609074625985048,
          1.4430066236786916,
          2.848131698158791,
          1.7553629306071579,
          2.557892747984403,
          1.3038066077007509,
          0.7348289235092749,
          3.960877230803711,
          3.285588567202221,
          2.131524793445373,
          3.06881149915666,
          2.0322352243418713
         ],
         "xaxis": "x",
         "xbins": {
          "end": 4.74038895192964,
          "size": 0.2,
          "start": -1.115740086019982
         },
         "yaxis": "y"
        },
        {
         "legendgroup": "Group 1",
         "marker": {
          "color": "#A56CC1"
         },
         "mode": "lines",
         "name": "Group 1",
         "showlegend": false,
         "type": "scatter",
         "x": [
          -4.127892044259019,
          -4.118814799776638,
          -4.109737555294257,
          -4.100660310811876,
          -4.091583066329495,
          -4.082505821847114,
          -4.073428577364733,
          -4.064351332882352,
          -4.055274088399971,
          -4.04619684391759,
          -4.037119599435209,
          -4.028042354952828,
          -4.018965110470447,
          -4.009887865988066,
          -4.000810621505685,
          -3.9917333770233037,
          -3.9826561325409227,
          -3.9735788880585416,
          -3.9645016435761606,
          -3.9554243990937796,
          -3.9463471546113986,
          -3.9372699101290176,
          -3.9281926656466366,
          -3.9191154211642556,
          -3.9100381766818746,
          -3.9009609321994936,
          -3.8918836877171126,
          -3.8828064432347316,
          -3.8737291987523506,
          -3.86465195426997,
          -3.8555747097875885,
          -3.846497465305208,
          -3.8374202208228265,
          -3.828342976340446,
          -3.819265731858065,
          -3.810188487375684,
          -3.8011112428933025,
          -3.792033998410922,
          -3.782956753928541,
          -3.77387950944616,
          -3.764802264963779,
          -3.755725020481398,
          -3.746647775999017,
          -3.737570531516636,
          -3.728493287034255,
          -3.719416042551874,
          -3.710338798069493,
          -3.701261553587112,
          -3.692184309104731,
          -3.68310706462235,
          -3.674029820139969,
          -3.664952575657588,
          -3.655875331175207,
          -3.646798086692826,
          -3.637720842210445,
          -3.6286435977280638,
          -3.6195663532456828,
          -3.6104891087633018,
          -3.6014118642809207,
          -3.5923346197985397,
          -3.5832573753161587,
          -3.5741801308337777,
          -3.5651028863513967,
          -3.5560256418690157,
          -3.5469483973866347,
          -3.5378711529042537,
          -3.5287939084218727,
          -3.5197166639394917,
          -3.5106394194571107,
          -3.5015621749747297,
          -3.4924849304923486,
          -3.4834076860099676,
          -3.4743304415275866,
          -3.4652531970452056,
          -3.4561759525628246,
          -3.4470987080804436,
          -3.4380214635980626,
          -3.4289442191156816,
          -3.4198669746333006,
          -3.4107897301509196,
          -3.4017124856685386,
          -3.3926352411861576,
          -3.3835579967037765,
          -3.3744807522213955,
          -3.3654035077390145,
          -3.3563262632566335,
          -3.347249018774253,
          -3.3381717742918715,
          -3.329094529809491,
          -3.3200172853271095,
          -3.310940040844729,
          -3.3018627963623475,
          -3.292785551879967,
          -3.2837083073975855,
          -3.274631062915205,
          -3.2655538184328234,
          -3.256476573950443,
          -3.2473993294680614,
          -3.238322084985681,
          -3.2292448405032994,
          -3.220167596020919,
          -3.2110903515385374,
          -3.202013107056157,
          -3.192935862573776,
          -3.183858618091395,
          -3.174781373609014,
          -3.165704129126633,
          -3.1566268846442513,
          -3.1475496401618708,
          -3.1384723956794898,
          -3.1293951511971088,
          -3.1203179067147278,
          -3.1112406622323467,
          -3.1021634177499657,
          -3.0930861732675847,
          -3.0840089287852033,
          -3.0749316843028227,
          -3.0658544398204417,
          -3.0567771953380607,
          -3.0476999508556797,
          -3.0386227063732987,
          -3.0295454618909177,
          -3.0204682174085367,
          -3.0113909729261557,
          -3.0023137284437746,
          -2.9932364839613936,
          -2.9841592394790126,
          -2.9750819949966316,
          -2.9660047505142506,
          -2.9569275060318696,
          -2.9478502615494886,
          -2.938773017067108,
          -2.9296957725847266,
          -2.9206185281023456,
          -2.9115412836199646,
          -2.9024640391375836,
          -2.8933867946552025,
          -2.884309550172822,
          -2.8752323056904405,
          -2.8661550612080595,
          -2.8570778167256785,
          -2.848000572243298,
          -2.8389233277609165,
          -2.829846083278536,
          -2.8207688387961545,
          -2.8116915943137735,
          -2.8026143498313925,
          -2.793537105349012,
          -2.7844598608666304,
          -2.7753826163842494,
          -2.7663053719018684,
          -2.757228127419488,
          -2.7481508829371064,
          -2.739073638454726,
          -2.7299963939723444,
          -2.7209191494899634,
          -2.7118419050075824,
          -2.702764660525202,
          -2.6936874160428204,
          -2.68461017156044,
          -2.6755329270780583,
          -2.666455682595678,
          -2.6573784381132963,
          -2.6483011936309158,
          -2.6392239491485343,
          -2.6301467046661537,
          -2.6210694601837727,
          -2.6119922157013917,
          -2.6029149712190103,
          -2.5938377267366297,
          -2.5847604822542487,
          -2.5756832377718677,
          -2.5666059932894867,
          -2.5575287488071057,
          -2.5484515043247242,
          -2.5393742598423437,
          -2.5302970153599627,
          -2.5212197708775816,
          -2.5121425263952006,
          -2.5030652819128196,
          -2.4939880374304386,
          -2.4849107929480576,
          -2.4758335484656766,
          -2.4667563039832956,
          -2.4576790595009146,
          -2.4486018150185336,
          -2.4395245705361526,
          -2.4304473260537716,
          -2.4213700815713906,
          -2.4122928370890095,
          -2.4032155926066285,
          -2.3941383481242475,
          -2.3850611036418665,
          -2.3759838591594855,
          -2.3669066146771045,
          -2.3578293701947235,
          -2.3487521257123425,
          -2.3396748812299615,
          -2.3305976367475805,
          -2.3215203922651995,
          -2.312443147782819,
          -2.3033659033004374,
          -2.2942886588180564,
          -2.2852114143356754,
          -2.2761341698532944,
          -2.2670569253709134,
          -2.257979680888533,
          -2.2489024364061514,
          -2.2398251919237704,
          -2.2307479474413894,
          -2.221670702959009,
          -2.2125934584766274,
          -2.203516213994247,
          -2.1944389695118653,
          -2.1853617250294843,
          -2.1762844805471033,
          -2.1672072360647228,
          -2.1581299915823413,
          -2.1490527470999607,
          -2.1399755026175793,
          -2.1308982581351987,
          -2.1218210136528177,
          -2.1127437691704367,
          -2.1036665246880553,
          -2.0945892802056747,
          -2.0855120357232937,
          -2.0764347912409127,
          -2.0673575467585317,
          -2.05828030227615,
          -2.049203057793769,
          -2.040125813311388,
          -2.031048568829007,
          -2.0219713243466266,
          -2.0128940798642456,
          -2.0038168353818646,
          -1.9947395908994836,
          -1.9856623464171026,
          -1.9765851019347216,
          -1.9675078574523406,
          -1.9584306129699596,
          -1.9493533684875781,
          -1.9402761240051971,
          -1.9311988795228165,
          -1.9221216350404355,
          -1.9130443905580545,
          -1.9039671460756735,
          -1.8948899015932925,
          -1.8858126571109115,
          -1.8767354126285305,
          -1.8676581681461495,
          -1.8585809236637685,
          -1.8495036791813875,
          -1.8404264346990065,
          -1.8313491902166255,
          -1.8222719457342444,
          -1.8131947012518634,
          -1.8041174567694824,
          -1.7950402122871014,
          -1.7859629678047204,
          -1.7768857233223394,
          -1.7678084788399584,
          -1.7587312343575778,
          -1.7496539898751968,
          -1.7405767453928158,
          -1.7314995009104344,
          -1.7224222564280534,
          -1.7133450119456723,
          -1.7042677674632913,
          -1.6951905229809103,
          -1.6861132784985293,
          -1.6770360340161483,
          -1.6679587895337677,
          -1.6588815450513867,
          -1.6498043005690057,
          -1.6407270560866247,
          -1.6316498116042433,
          -1.6225725671218623,
          -1.6134953226394813,
          -1.6044180781571002,
          -1.5953408336747192,
          -1.5862635891923382,
          -1.5771863447099577,
          -1.5681091002275767,
          -1.5590318557451956,
          -1.5499546112628146,
          -1.5408773667804336,
          -1.5318001222980526,
          -1.5227228778156712,
          -1.5136456333332902,
          -1.5045683888509092,
          -1.4954911443685281,
          -1.4864138998861476,
          -1.4773366554037666,
          -1.4682594109213856,
          -1.4591821664390046,
          -1.4501049219566235,
          -1.4410276774742425,
          -1.4319504329918615,
          -1.42287318850948,
          -1.413795944027099,
          -1.404718699544718,
          -1.3956414550623375,
          -1.3865642105799565,
          -1.3774869660975755,
          -1.3684097216151945,
          -1.3593324771328135,
          -1.3502552326504325,
          -1.3411779881680514,
          -1.3321007436856704,
          -1.3230234992032894,
          -1.313946254720908,
          -1.3048690102385274,
          -1.2957917657561464,
          -1.2867145212737654,
          -1.2776372767913844,
          -1.2685600323090034,
          -1.2594827878266224,
          -1.2504055433442414,
          -1.2413282988618604,
          -1.2322510543794793,
          -1.2231738098970983,
          -1.2140965654147178,
          -1.2050193209323363,
          -1.1959420764499553,
          -1.1868648319675743,
          -1.1777875874851933,
          -1.1687103430028123,
          -1.1596330985204313,
          -1.1505558540380503,
          -1.1414786095556693,
          -1.1324013650732887,
          -1.1233241205909077,
          -1.1142468761085267,
          -1.1051696316261457,
          -1.0960923871437642,
          -1.0870151426613832,
          -1.0779378981790022,
          -1.0688606536966212,
          -1.0597834092142402,
          -1.0507061647318592,
          -1.0416289202494786,
          -1.0325516757670976,
          -1.0234744312847166,
          -1.0143971868023356,
          -1.0053199423199546,
          -0.9962426978375731,
          -0.9871654533551921,
          -0.9780882088728111,
          -0.9690109643904301,
          -0.9599337199080491,
          -0.9508564754256685,
          -0.9417792309432875,
          -0.9327019864609065,
          -0.9236247419785255,
          -0.9145474974961445,
          -0.9054702530137635,
          -0.8963930085313825,
          -0.887315764049001,
          -0.87823851956662,
          -0.869161275084239,
          -0.8600840306018585,
          -0.8510067861194774,
          -0.8419295416370964,
          -0.8328522971547154,
          -0.8237750526723344,
          -0.8146978081899534,
          -0.8056205637075724,
          -0.7965433192251914,
          -0.7874660747428104,
          -0.7783888302604289,
          -0.7693115857780484,
          -0.7602343412956674,
          -0.7511570968132864,
          -0.7420798523309053,
          -0.7330026078485243,
          -0.7239253633661433,
          -0.7148481188837623,
          -0.7057708744013813,
          -0.6966936299190003,
          -0.6876163854366193,
          -0.6785391409542383,
          -0.6694618964718573,
          -0.6603846519894763,
          -0.6513074075070953,
          -0.6422301630247143,
          -0.6331529185423332,
          -0.6240756740599522,
          -0.6149984295775712,
          -0.6059211850951902,
          -0.5968439406128097,
          -0.5877666961304286,
          -0.5786894516480476,
          -0.5696122071656662,
          -0.5605349626832852,
          -0.5514577182009042,
          -0.5423804737185232,
          -0.5333032292361422,
          -0.5242259847537611,
          -0.5151487402713801,
          -0.5060714957889996,
          -0.49699425130661856,
          -0.48791700682423755,
          -0.47883976234185655,
          -0.46976251785947554,
          -0.4606852733770941,
          -0.4516080288947131,
          -0.44253078441233207,
          -0.43345353992995106,
          -0.42437629544757005,
          -0.4152990509651895,
          -0.4062218064828085,
          -0.39714456200042747,
          -0.38806731751804646,
          -0.37899007303566545,
          -0.36991282855328445,
          -0.360835584070903,
          -0.351758339588522,
          -0.342681095106141,
          -0.33360385062375997,
          -0.3245266061413794,
          -0.3154493616589984,
          -0.3063721171766174,
          -0.2972948726942364,
          -0.28821762821185537,
          -0.27914038372947436,
          -0.27006313924709335,
          -0.26098589476471235,
          -0.2519086502823309,
          -0.24283140579994988,
          -0.23375416131756932,
          -0.2246769168351883,
          -0.2155996723528073,
          -0.2065224278704263,
          -0.1974451833880453,
          -0.18836793890566428,
          -0.17929069442328327,
          -0.17021344994090226,
          -0.16113620545852125,
          -0.15205896097614024,
          -0.14298171649375924,
          -0.13390447201137823,
          -0.12482722752899722,
          -0.11574998304661666,
          -0.1066727385642352,
          -0.09759549408185464,
          -0.08851824959947319,
          -0.07944100511709173,
          -0.07036376063471117,
          -0.061286516152330606,
          -0.05220927166994915,
          -0.04313202718756859,
          -0.03405478270518714,
          -0.024977538222806572,
          -0.015900293740426008,
          -0.006823049258044556,
          0.0022541952243360086,
          0.01133143970671835,
          0.020408684189098913,
          0.029485928671480366,
          0.03856317315386093,
          0.04764041763624238,
          0.05671766211862295,
          0.0657949066010044,
          0.07487215108338496,
          0.08394939556576553,
          0.09302664004814698,
          0.10210388453052754,
          0.111181129012909,
          0.12025837349528956,
          0.129335617977671,
          0.13841286246005158,
          0.14749010694243303,
          0.1565673514248136,
          0.16564459590719416,
          0.1747218403895756,
          0.18379908487195618,
          0.19287632935433763,
          0.2019535738367182,
          0.21103081831909964,
          0.2201080628014802,
          0.22918530728386255,
          0.2382625517662431,
          0.24733979624862457,
          0.25641704073100513,
          0.2654942852133857,
          0.27457152969576715,
          0.2836487741781477,
          0.29272601866052916,
          0.30180326314290973,
          0.3108805076252912,
          0.31995775210767174,
          0.3290349965900532,
          0.33811224107243376,
          0.3471894855548143,
          0.3562667300371958,
          0.36534397451957634,
          0.3744212190019578,
          0.38349846348433836,
          0.3925757079667198,
          0.4016529524491004
         ],
         "xaxis": "x",
         "y": [
          0.0665740064227557,
          0.0679351661465,
          0.06930163119501064,
          0.07067309242431064,
          0.07204925976396334,
          0.07342986285311721,
          0.07481465157585794,
          0.07620339649259888,
          0.07759588916472596,
          0.0789919423701936,
          0.08039139020827948,
          0.08179408809221424,
          0.08319991262893077,
          0.08460876138569932,
          0.086020552543954,
          0.08743522444114377,
          0.0888527350019758,
          0.09027306106094421,
          0.09169619757855994,
          0.09312215675421101,
          0.09455096703908339,
          0.09598267205306536,
          0.0974173294100296,
          0.09885500945635223,
          0.10029579392796506,
          0.10173977453166003,
          0.10318705145676874,
          0.10463773182371337,
          0.10609192807628316,
          0.10754975632481974,
          0.10901133464779804,
          0.11047678135956242,
          0.11194621325223508,
          0.11341974382001985,
          0.11489748147432764,
          0.11637952775829881,
          0.11786597556943072,
          0.1193569073991154,
          0.12085239359795152,
          0.12235249067573004,
          0.12385723964498911,
          0.1253666644169952,
          0.12688077025893832,
          0.12839954232102196,
          0.12992294424198958,
          0.13145091684144572,
          0.1329833769071286,
          0.13452021608503015,
          0.13606129987998272,
          0.13760646677400556,
          0.13915552746934978,
          0.1407082642627823,
          0.14226443055722376,
          0.14382375051638366,
          0.1453859188675389,
          0.14695060085706346,
          0.1485174323627461,
          0.1500860201663306,
          0.15165594238907681,
          0.15322674909247444,
          0.15479796304554572,
          0.1563690806594524,
          0.15793957308937195,
          0.1595088875028397,
          0.1610764485129608,
          0.1626416597740862,
          0.16420390573672725,
          0.16576255355764366,
          0.16731695516020015,
          0.1688664494392429,
          0.17041036460389591,
          0.1719480206508378,
          0.1734787319597893,
          0.17500181000212098,
          0.17651656615268452,
          0.17802231459420323,
          0.17951837530279977,
          0.18100407710252556,
          0.18247876077608027,
          0.18394178221827212,
          0.1853925156181889,
          0.18683035665551215,
          0.18825472569593843,
          0.18966507097025653,
          0.19106087172129155,
          0.19244164130265196,
          0.1938069302130197,
          0.19515632904961053,
          0.19648947136439568,
          0.19780603640672625,
          0.19910575173614195,
          0.20038839568937375,
          0.20165379968586536,
          0.20290185035655495,
          0.20413249148114915,
          0.20534572571972484,
          0.20654161612516803,
          0.20772028742373488,
          0.208881927051874,
          0.2100267859383916,
          0.2111551790220591,
          0.2122674854958636,
          0.21336414877026205,
          0.2144456761490426,
          0.21551263821268243,
          0.21656566790544765,
          0.21760545932387132,
          0.2186327662056837,
          0.21964840011974224,
          0.22065322835900136,
          0.22164817154006788,
          0.22263420091442493,
          0.22361233539790965,
          0.2245836383265575,
          0.22554921394841335,
          0.22651020366238594,
          0.22746778201664758,
          0.22842315248049122,
          0.22937754300487762,
          0.23033220138820576,
          0.23128839046504227,
          0.23224738313669,
          0.23321045726353615,
          0.23417889044008613,
          0.235153954674462,
          0.23613691099492573,
          0.23712900400665105,
          0.2381314564225201,
          0.2391454635921801,
          0.2401721880539043,
          0.24121275413402174,
          0.2422682426187566,
          0.243339685523283,
          0.24442806098263467,
          0.24553428828882942,
          0.24665922309814975,
          0.24780365283199834,
          0.24896829229409062,
          0.25015377952598705,
          0.2513606719220785,
          0.2525894426241606,
          0.25384047721462655,
          0.2551140707261305,
          0.2564104249842698,
          0.25772964629847617,
          0.25907174351483864,
          0.2604366264430591,
          0.2618241046681419,
          0.26323388675576154,
          0.2646655798585502,
          0.26611868972879454,
          0.26759262114124255,
          0.2690866787279177,
          0.27060006822500016,
          0.27213189813000116,
          0.2736811817656159,
          0.27524683974481123,
          0.27682770282988195,
          0.2784225151764362,
          0.28002993795149317,
          0.2816485533131843,
          0.2832768687378629,
          0.2849133216788419,
          0.2865562845394158,
          0.28820406994137165,
          0.28985493626878656,
          0.2915070934656176,
          0.29315870906436486,
          0.29480791442198223,
          0.2964528111381861,
          0.2980914776304162,
          0.2997219758389052,
          0.3013423580346315,
          0.302950673702384,
          0.3045449764707191,
          0.3061233310602858,
          0.307683820221819,
          0.3092245516350261,
          0.31074366473968873,
          0.3122393374704853,
          0.3137097928673858,
          0.3151533055339186,
          0.3165682079162012,
          0.31795289637633267,
          0.3193058370345765,
          0.3206255713557153,
          0.3219107214560103,
          0.32315999510838506,
          0.32437219042471144,
          0.32554620019547253,
          0.32668101586851717,
          0.32777573115020264,
          0.32882954521383273,
          0.3298417655020168,
          0.33081181011132865,
          0.33173920974948284,
          0.332623609257102,
          0.3334647686880599,
          0.3342625639443174,
          0.3350169869631267,
          0.33572814545642937,
          0.33639626220425156,
          0.3370216739058328,
          0.3376048295941676,
          0.3381462886215308,
          0.3386467182254222,
          0.3391068906861768,
          0.33952768008923,
          0.3399100587067227,
          0.34025509301473533,
          0.34056393936395435,
          0.34083783932301676,
          0.3410781147151064,
          0.3412861623695931,
          0.3414634486116271,
          0.34161150351359276,
          0.3417319149331929,
          0.34182632236368254,
          0.3418964106223936,
          0.3419439034041537,
          0.34197055672657706,
          0.3419781522943981,
          0.3419684908101002,
          0.34194338525804696,
          0.3419046541891165,
          0.3418541150325368,
          0.3417935774611587,
          0.34172483683584176,
          0.3416496677539415,
          0.34156981772607226,
          0.3414870010044285,
          0.34140289258492257,
          0.3413191224043025,
          0.34123726975222746,
          0.34115885791700445,
          0.3410853490823648,
          0.3410181394912594,
          0.34095855489120686,
          0.34090784627425347,
          0.34086718592306375,
          0.34083766377314384,
          0.3408202840996295,
          0.3408159625355181,
          0.3408255234266757,
          0.3408496975273974,
          0.34088912003880517,
          0.3409443289908571,
          0.3410157639673186,
          0.34110376517162616,
          0.34120857283023726,
          0.3413303269287715,
          0.34146906727501325,
          0.34162473388170295,
          0.3417971676609532,
          0.3419861114211301,
          0.34219121115611106,
          0.34241201761599077,
          0.3426479881475568,
          0.3428984887921799,
          0.34316279662817895,
          0.3434401023442328,
          0.3437295130299793,
          0.3440300551696258,
          0.3443406778241424,
          0.3446602559874225,
          0.3449875941017288,
          0.345321429717685,
          0.345660437284142,
          0.346003232053343,
          0.3463483740869826,
          0.34669437234897577,
          0.34703968887102715,
          0.34738274297740585,
          0.3477219155556904,
          0.348055553360638,
          0.3483819733387613,
          0.3486994669616381,
          0.34900630455645326,
          0.34930073962275277,
          0.34958101312489465,
          0.3498453577501733,
          0.3500920021231197,
          0.35031917496697235,
          0.35052510920382857,
          0.35070804598548544,
          0.35086623864746885,
          0.35099795657922783,
          0.3511014890039462,
          0.3511751486618703,
          0.3512172753914905,
          0.35122623960334803,
          0.35120044564162406,
          0.3511383350290711,
          0.3510383895912164,
          0.35089913445611254,
          0.35071914092625706,
          0.35049702921962395,
          0.3502314710770466,
          0.3499211922335033,
          0.3495649747511179,
          0.34916165921197057,
          0.34871014676906703,
          0.34820940105406284,
          0.3476584499405873,
          0.3470563871622364,
          0.34640237378455196,
          0.3456956395305085,
          0.34493548395927437,
          0.3441212774982207,
          0.3432524623283778,
          0.3423285531237597,
          0.341349137645194,
          0.34031387718951833,
          0.33922250689522365,
          0.3380748359058526,
          0.33687074739267175,
          0.33561019843837836,
          0.3342932197838101,
          0.3329199154398579,
          0.33149046216700423,
          0.33000510882513334,
          0.32846417559646274,
          0.32686805308469147,
          0.32521720129363235,
          0.32351214848883736,
          0.32175348994589636,
          0.3199418865893001,
          0.3180780635259237,
          0.3161628084773776,
          0.3141969701156156,
          0.3121814563063559,
          0.3101172322649957,
          0.30800531862983505,
          0.30584678945752153,
          0.30364277014573565,
          0.30139443528820803,
          0.2991030064672231,
          0.29676974998881717,
          0.2943959745659051,
          0.2919830289545907,
          0.28953229954891213,
          0.2870452079392613,
          0.28452320843968815,
          0.2819677855892524,
          0.2793804516325322,
          0.2767627439843253,
          0.2741162226835026,
          0.27144246784087045,
          0.26874307708580947,
          0.2660196630163315,
          0.2632738506570917,
          0.2605072749297571,
          0.2577215781400063,
          0.254918407485305,
          0.2520994125874561,
          0.2492662430537915,
          0.24642054607073186,
          0.2435639640332964,
          0.24069813221401318,
          0.2378246764745395,
          0.23494521102317031,
          0.23206133622128186,
          0.22917463644163139,
          0.2262866779813069,
          0.22339900703201557,
          0.2205131477102655,
          0.21763060014990504,
          0.2147528386593684,
          0.2118813099458753,
          0.20901743140874052,
          0.2061625895038494,
          0.20331813818126174,
          0.2004853973978249,
          0.19766565170658038,
          0.19486014892465783,
          0.19207009888127072,
          0.18929667224732583,
          0.1865409994480737,
          0.18380416966012547,
          0.181087229894066,
          0.17839118416378028,
          0.17571699274350588,
          0.1730655715135009,
          0.17043779139509405,
          0.1678344778757458,
          0.16525641062461374,
          0.16270432319895703,
          0.16017890284155994,
          0.15768079036918117,
          0.15521058015185932,
          0.15276882018271293,
          0.15035601223768305,
          0.14797261212444868,
          0.14561903001954607,
          0.14329563089248726,
          0.14100273501545843,
          0.13874061855693504,
          0.13650951425731808,
          0.1343096121844584,
          0.13214106056668476,
          0.1300039667007171,
          0.12789839793160163,
          0.12582438270156426,
          0.12378191166444909,
          0.12177093886217667,
          0.11979138295943977,
          0.11784312853264373,
          0.11592602740889961,
          0.11403990005069195,
          0.112184536981678,
          0.11035970024891072,
          0.10856512491665522,
          0.10680052058683978,
          0.10506557294109418,
          0.10335994529925173,
          0.10168328018913972,
          0.10003520092245799,
          0.0984153131715394,
          0.09682320654181338,
          0.09525845613483658,
          0.09372062409683125,
          0.09220926114777332,
          0.09072390808618984,
          0.08926409726498429,
          0.08782935403377506,
          0.08641919814343459,
          0.08503314510873473,
          0.0836707075252476,
          0.08233139633691107,
          0.08101472205094969,
          0.0797201958971399,
          0.07844733092871968,
          0.0771956430625678,
          0.07596465205661689,
          0.07475388242280782,
          0.07356286427424598,
          0.07239113410557715,
          0.07123823550595935,
          0.07010371980436396,
          0.06898714664729796,
          0.06788808450938735,
          0.06680611113760669,
          0.06574081393027346,
          0.06469179025224686,
          0.06365864768808097,
          0.062641004235172,
          0.061638488439215995,
          0.060650739474547556,
          0.059677407172162515,
          0.0587181519984428,
          0.05777264498778585,
          0.0568405676325034,
          0.05592161173349692,
          0.055015479215319726,
          0.05412188190932725,
          0.05324054130866901,
          0.05237118829890734,
          0.051513562868051054,
          0.05066741379976628,
          0.049832498353480456,
          0.049008581935015935,
          0.04819543776129365,
          0.04739284652252163,
          0.046600596045141836,
          0.04581848095863946,
          0.04504630236913847,
          0.044283867542503894,
          0.043530989599455165,
          0.042787487224966204,
          0.042053184393984394,
          0.04132791011525267,
          0.040611498194759434,
          0.03990378702008012,
          0.03920461936660647,
          0.03851384222639708,
          0.03783130666011515,
          0.03715686767225965,
          0.03649038410964262,
          0.035831718582813546,
          0.0351807374098993,
          0.03453731058209497,
          0.03390131174983292,
          0.03327261822845183,
          0.03265111102200931,
          0.03203667486370924,
          0.03142919827127034,
          0.030828573615429716,
          0.030234697199664835,
          0.029647469349128954,
          0.02906679450672168,
          0.028492581334171162,
          0.027924742815971567,
          0.02736319636401545,
          0.026807863920769188,
          0.026258672058874208,
          0.02571555207510592,
          0.025178440076690966,
          0.02464727705807136,
          0.024122008966304058,
          0.023602586753404257
         ],
         "yaxis": "y"
        },
        {
         "legendgroup": "Group 2",
         "marker": {
          "color": "#A6ACEC"
         },
         "mode": "lines",
         "name": "Group 2",
         "showlegend": false,
         "type": "scatter",
         "x": [
          -3.217932896204765,
          -3.2054852758822814,
          -3.193037655559798,
          -3.1805900352373144,
          -3.168142414914831,
          -3.1556947945923475,
          -3.143247174269864,
          -3.1307995539473805,
          -3.118351933624897,
          -3.1059043133024136,
          -3.09345669297993,
          -3.0810090726574466,
          -3.068561452334963,
          -3.0561138320124797,
          -3.043666211689996,
          -3.0312185913675127,
          -3.0187709710450292,
          -3.0063233507225458,
          -2.9938757304000623,
          -2.981428110077579,
          -2.9689804897550953,
          -2.956532869432612,
          -2.9440852491101284,
          -2.931637628787645,
          -2.9191900084651614,
          -2.906742388142678,
          -2.8942947678201945,
          -2.881847147497711,
          -2.8693995271752275,
          -2.856951906852744,
          -2.8445042865302606,
          -2.832056666207777,
          -2.8196090458852936,
          -2.80716142556281,
          -2.7947138052403266,
          -2.782266184917843,
          -2.7698185645953597,
          -2.757370944272876,
          -2.7449233239503927,
          -2.7324757036279093,
          -2.720028083305426,
          -2.7075804629829423,
          -2.695132842660459,
          -2.6826852223379754,
          -2.670237602015492,
          -2.6577899816930084,
          -2.645342361370525,
          -2.6328947410480414,
          -2.620447120725558,
          -2.6079995004030745,
          -2.595551880080591,
          -2.5831042597581075,
          -2.570656639435624,
          -2.5582090191131406,
          -2.545761398790657,
          -2.5333137784681736,
          -2.52086615814569,
          -2.5084185378232067,
          -2.495970917500723,
          -2.4835232971782397,
          -2.4710756768557562,
          -2.4586280565332728,
          -2.4461804362107893,
          -2.433732815888306,
          -2.4212851955658223,
          -2.408837575243339,
          -2.3963899549208554,
          -2.383942334598372,
          -2.3714947142758884,
          -2.359047093953405,
          -2.3465994736309215,
          -2.334151853308438,
          -2.3217042329859545,
          -2.309256612663471,
          -2.2968089923409876,
          -2.284361372018504,
          -2.2719137516960206,
          -2.259466131373537,
          -2.2470185110510537,
          -2.23457089072857,
          -2.2221232704060867,
          -2.2096756500836032,
          -2.1972280297611197,
          -2.1847804094386363,
          -2.172332789116153,
          -2.1598851687936693,
          -2.147437548471186,
          -2.1349899281487024,
          -2.122542307826219,
          -2.1100946875037354,
          -2.097647067181252,
          -2.0851994468587685,
          -2.072751826536285,
          -2.0603042062138015,
          -2.047856585891318,
          -2.0354089655688345,
          -2.022961345246351,
          -2.0105137249238676,
          -1.9980661046013841,
          -1.9856184842789006,
          -1.9731708639564172,
          -1.9607232436339337,
          -1.9482756233114502,
          -1.9358280029889667,
          -1.9233803826664833,
          -1.9109327623439998,
          -1.8984851420215163,
          -1.8860375216990328,
          -1.8735899013765493,
          -1.8611422810540659,
          -1.8486946607315824,
          -1.836247040409099,
          -1.8237994200866154,
          -1.811351799764132,
          -1.7989041794416485,
          -1.786456559119165,
          -1.7740089387966815,
          -1.761561318474198,
          -1.7491136981517146,
          -1.736666077829231,
          -1.7242184575067476,
          -1.7117708371842641,
          -1.6993232168617807,
          -1.6868755965392972,
          -1.6744279762168137,
          -1.6619803558943302,
          -1.6495327355718468,
          -1.6370851152493633,
          -1.6246374949268798,
          -1.6121898746043963,
          -1.5997422542819129,
          -1.5872946339594294,
          -1.574847013636946,
          -1.5623993933144624,
          -1.549951772991979,
          -1.5375041526694955,
          -1.525056532347012,
          -1.5126089120245285,
          -1.500161291702045,
          -1.4877136713795616,
          -1.475266051057078,
          -1.4628184307345946,
          -1.4503708104121111,
          -1.4379231900896277,
          -1.4254755697671442,
          -1.4130279494446607,
          -1.4005803291221772,
          -1.3881327087996937,
          -1.3756850884772103,
          -1.3632374681547268,
          -1.3507898478322433,
          -1.3383422275097598,
          -1.3258946071872764,
          -1.3134469868647929,
          -1.3009993665423094,
          -1.288551746219826,
          -1.2761041258973425,
          -1.263656505574859,
          -1.2512088852523755,
          -1.238761264929892,
          -1.2263136446074088,
          -1.213866024284925,
          -1.2014184039624416,
          -1.1889707836399581,
          -1.1765231633174746,
          -1.1640755429949907,
          -1.1516279226725077,
          -1.1391803023500242,
          -1.1267326820275407,
          -1.1142850617050573,
          -1.1018374413825738,
          -1.0893898210600903,
          -1.0769422007376068,
          -1.0644945804151233,
          -1.0520469600926399,
          -1.0395993397701564,
          -1.027151719447673,
          -1.0147040991251894,
          -1.002256478802706,
          -0.9898088584802225,
          -0.977361238157739,
          -0.9649136178352555,
          -0.9524659975127721,
          -0.9400183771902886,
          -0.9275707568678051,
          -0.9151231365453216,
          -0.9026755162228381,
          -0.8902278959003547,
          -0.8777802755778712,
          -0.8653326552553877,
          -0.8528850349329042,
          -0.8404374146104208,
          -0.8279897942879368,
          -0.8155421739654538,
          -0.8030945536429703,
          -0.7906469333204869,
          -0.7781993129980034,
          -0.7657516926755199,
          -0.7533040723530364,
          -0.740856452030553,
          -0.7284088317080695,
          -0.715961211385586,
          -0.7035135910631025,
          -0.691065970740619,
          -0.6786183504181356,
          -0.6661707300956521,
          -0.6537231097731686,
          -0.6412754894506851,
          -0.6288278691282017,
          -0.6163802488057182,
          -0.6039326284832347,
          -0.5914850081607512,
          -0.5790373878382677,
          -0.5665897675157843,
          -0.5541421471933008,
          -0.5416945268708173,
          -0.5292469065483338,
          -0.5167992862258504,
          -0.5043516659033669,
          -0.49190404558088385,
          -0.47945642525839993,
          -0.46700880493591646,
          -0.454561184613433,
          -0.4421135642909495,
          -0.429665943968466,
          -0.41721832364598255,
          -0.40477070332349907,
          -0.3923230830010156,
          -0.3798754626785321,
          -0.36742784235604864,
          -0.35498022203356516,
          -0.3425326017110817,
          -0.3300849813885982,
          -0.31763736106611473,
          -0.30518974074363125,
          -0.2927421204211478,
          -0.2802945000986643,
          -0.2678468797761808,
          -0.25539925945369735,
          -0.24295163913121387,
          -0.2305040188087304,
          -0.21805639848624692,
          -0.20560877816376344,
          -0.19316115784127996,
          -0.18071353751879649,
          -0.168265917196313,
          -0.15581829687382953,
          -0.14337067655134605,
          -0.13092305622886258,
          -0.1184754359063791,
          -0.10602781558389562,
          -0.09358019526141215,
          -0.08113257493892867,
          -0.06868495461644519,
          -0.056237334293961716,
          -0.04378971397147824,
          -0.03134209364899476,
          -0.018894473326511285,
          -0.006446853004027808,
          0.006000767318455669,
          0.018448387640939146,
          0.030896007963422623,
          0.0433436282859061,
          0.055791248608389576,
          0.06823886893087305,
          0.08068648925335653,
          0.09313410957584001,
          0.10558172989832348,
          0.11802935022080696,
          0.13047697054329044,
          0.14292459086577392,
          0.1553722111882574,
          0.16781983151074087,
          0.18026745183322435,
          0.19271507215570782,
          0.2051626924781913,
          0.21761031280067478,
          0.23005793312315825,
          0.24250555344564173,
          0.2549531737681252,
          0.2674007940906087,
          0.27984841441309216,
          0.29229603473557564,
          0.3047436550580591,
          0.3171912753805426,
          0.32963889570302607,
          0.34208651602550955,
          0.354534136347993,
          0.3669817566704765,
          0.37942937699296,
          0.39187699731544345,
          0.40432461763792693,
          0.4167722379604104,
          0.42921985828289433,
          0.44166747860537736,
          0.45411509892786084,
          0.4665627192503443,
          0.4790103395728278,
          0.49145795989531127,
          0.5039055802177947,
          0.5163532005402782,
          0.5288008208627617,
          0.5412484411852452,
          0.5536960615077287,
          0.5661436818302121,
          0.5785913021526956,
          0.5910389224751791,
          0.6034865427976626,
          0.615934163120146,
          0.6283817834426295,
          0.640829403765113,
          0.6532770240875965,
          0.66572464441008,
          0.6781722647325634,
          0.6906198850550469,
          0.7030675053775304,
          0.7155151257000139,
          0.7279627460224973,
          0.7404103663449808,
          0.7528579866674643,
          0.7653056069899473,
          0.7777532273124312,
          0.7902008476349147,
          0.8026484679573977,
          0.8150960882798817,
          0.8275437086023656,
          0.8399913289248486,
          0.8524389492473317,
          0.8648865695698156,
          0.8773341898922986,
          0.8897818102147834,
          0.9022294305372665,
          0.9146770508597495,
          0.9271246711822334,
          0.9395722915047164,
          0.9520199118272004,
          0.9644675321496834,
          0.9769151524721664,
          0.9893627727946503,
          1.0018103931171334,
          1.0142580134396173,
          1.0267056337621003,
          1.0391532540845843,
          1.0516008744070673,
          1.0640484947295512,
          1.0764961150520351,
          1.0889437353745182,
          1.101391355697002,
          1.1138389760194851,
          1.126286596341969,
          1.138734216664452,
          1.151181836986935,
          1.163629457309419,
          1.176077077631902,
          1.188524697954386,
          1.200972318276869,
          1.213419938599353,
          1.225867558921836,
          1.2383151792443199,
          1.2507627995668038,
          1.2632104198892868,
          1.2756580402117708,
          1.2881056605342538,
          1.3005532808567377,
          1.3130009011792207,
          1.3254485215017038,
          1.3378961418241877,
          1.3503437621466707,
          1.3627913824691547,
          1.3752390027916377,
          1.3876866231141216,
          1.4001342434366055,
          1.4125818637590886,
          1.4250294840815725,
          1.4374771044040555,
          1.4499247247265394,
          1.4623723450490225,
          1.4748199653715064,
          1.4872675856939894,
          1.4997152060164725,
          1.5121628263389564,
          1.5246104466614394,
          1.5370580669839233,
          1.5495056873064064,
          1.5619533076288912,
          1.5744009279513742,
          1.5868485482738572,
          1.5992961685963412,
          1.6117437889188242,
          1.6241914092413081,
          1.6366390295637911,
          1.6490866498862742,
          1.661534270208758,
          1.6739818905312411,
          1.686429510853725,
          1.698877131176208,
          1.711324751498692,
          1.723772371821175,
          1.736219992143659,
          1.7486676124661429,
          1.761115232788626,
          1.7735628531111098,
          1.7860104734335929,
          1.7984580937560768,
          1.8109057140785598,
          1.8233533344010429,
          1.8358009547235268,
          1.8482485750460098,
          1.8606961953684937,
          1.8731438156909768,
          1.8855914360134607,
          1.8980390563359446,
          1.9104866766584276,
          1.9229342969809116,
          1.9353819173033946,
          1.9478295376258785,
          1.9602771579483615,
          1.9727247782708455,
          1.9851723985933285,
          1.9976200189158115,
          2.0100676392382955,
          2.0225152595607785,
          2.0349628798832624,
          2.0474105002057454,
          2.0598581205282294,
          2.0723057408507133,
          2.0847533611731963,
          2.0972009814956802,
          2.1096486018181633,
          2.122096222140647,
          2.1345438424631302,
          2.146991462785614,
          2.159439083108097,
          2.17188670343058,
          2.184334323753064,
          2.196781944075547,
          2.209229564398031,
          2.221677184720514,
          2.234124805042997,
          2.246572425365482,
          2.259020045687965,
          2.271467666010449,
          2.283915286332932,
          2.296362906655416,
          2.308810526977899,
          2.321258147300382,
          2.333705767622866,
          2.346153387945349,
          2.358601008267833,
          2.371048628590316,
          2.3834962489127998,
          2.395943869235283,
          2.4083914895577667,
          2.4208391098802506,
          2.4332867302027337,
          2.4457343505252176,
          2.4581819708477006,
          2.4706295911701845,
          2.4830772114926676,
          2.4955248318151506,
          2.5079724521376345,
          2.5204200724601176,
          2.5328676927826015,
          2.5453153131050845,
          2.5577629334275684,
          2.5702105537500524,
          2.5826581740725354,
          2.5951057943950193,
          2.6075534147175023,
          2.6200010350399863,
          2.6324486553624693,
          2.6448962756849532,
          2.6573438960074363,
          2.6697915163299193,
          2.682239136652403,
          2.6946867569748862,
          2.70713437729737,
          2.719581997619853,
          2.732029617942337,
          2.744477238264821,
          2.756924858587304,
          2.769372478909788,
          2.781820099232271,
          2.794267719554755,
          2.806715339877238,
          2.819162960199722,
          2.831610580522205,
          2.844058200844688,
          2.856505821167172,
          2.868953441489655,
          2.881401061812139,
          2.893848682134622,
          2.906296302457106,
          2.9187439227795897,
          2.9311915431020727,
          2.9436391634245567,
          2.9560867837470397,
          2.9685344040695236,
          2.9809820243920067,
          2.9934296447144897
         ],
         "xaxis": "x",
         "y": [
          0.006056092731472076,
          0.006081657021869544,
          0.006102480246785914,
          0.006118823711991206,
          0.006130989587734923,
          0.006139320546722936,
          0.0061441991612439534,
          0.006146047060048172,
          0.006145323847254903,
          0.006142525787218985,
          0.006138184260904643,
          0.006132864000889765,
          0.0061271611136423446,
          0.006121700899165614,
          0.006117135479490471,
          0.006114141248797286,
          0.006113416159168085,
          0.006115676857099448,
          0.0061216556869440756,
          0.006132097578391016,
          0.006147756835940068,
          0.006169393849073971,
          0.006197771742481502,
          0.006233652986236351,
          0.00627779598628999,
          0.006330951675992588,
          0.006393860129613892,
          0.006467247218996548,
          0.006551821334536763,
          0.006648270191650885,
          0.006757257743750467,
          0.006879421222510888,
          0.00701536832587713,
          0.007165674573802996,
          0.007330880851162827,
          0.007511491156605207,
          0.007707970575331784,
          0.007920743492878088,
          0.008150192065943232,
          0.008396654965158271,
          0.008660426403396303,
          0.008941755461808795,
          0.00924084572422109,
          0.009557855228835607,
          0.009892896744375776,
          0.010246038375859842,
          0.010617304503126496,
          0.011006677053050553,
          0.01141409710409659,
          0.011839466819470514,
          0.012282651702659776,
          0.012743483166615315,
          0.013221761405242822,
          0.013717258553255082,
          0.014229722117815237,
          0.01475887866279519,
          0.015304437723910762,
          0.01586609593050075,
          0.01644354130732087,
          0.01703645772745124,
          0.017644529485299553,
          0.018267445956746085,
          0.01890490631175352,
          0.01955662424327653,
          0.020222332675082687,
          0.020901788410158852,
          0.021594776680745983,
          0.02230111556074387,
          0.023020660201263164,
          0.023753306850495634,
          0.024498996619827296,
          0.025257718959240356,
          0.026029514806538322,
          0.026814479376781365,
          0.027612764560525777,
          0.028424580902014246,
          0.02925019913134076,
          0.030089951227800053,
          0.03094423099509858,
          0.03181349413282672,
          0.03269825779253698,
          0.03359909961090808,
          0.03451665621676139,
          0.03545162121309677,
          0.03640474263978812,
          0.03737681992708112,
          0.038368700354528606,
          0.03938127503443189,
          0.04041547444319487,
          0.04147226352819157,
          0.04255263642175953,
          0.04365761079772151,
          0.04478822190936443,
          0.04594551635103531,
          0.047130545588412266,
          0.04834435930504951,
          0.049587998614941564,
          0.050862489192591696,
          0.052168834373373385,
          0.053508008277827895,
          0.054880949013937516,
          0.05628855201133403,
          0.057731663540854884,
          0.05921107447183243,
          0.06072751431800632,
          0.062281645620992324,
          0.06387405871783326,
          0.06550526693631714,
          0.06717570225849552,
          0.06888571148919313,
          0.07063555296230072,
          0.07242539381331298,
          0.07425530784195303,
          0.07612527398385015,
          0.0780351754051503,
          0.07998479922868201,
          0.08197383689492721,
          0.08400188515559433,
          0.08606844769212205,
          0.08817293734600479,
          0.09031467894246961,
          0.09249291268381754,
          0.09470679808371107,
          0.0969554184089018,
          0.09923778559039317,
          0.10155284556188929,
          0.10389948397960956,
          0.10627653227422608,
          0.1086827739828243,
          0.1111169513064415,
          0.11357777183693614,
          0.11606391539569956,
          0.11857404092607286,
          0.12110679338127621,
          0.1236608105502101,
          0.126234729764642,
          0.12882719443304358,
          0.13143686034867066,
          0.13406240172236542,
          0.13670251689396345,
          0.1393559336800862,
          0.14202141432042845,
          0.14469775998937134,
          0.14738381484479796,
          0.15007846959130366,
          0.15278066454050174,
          0.1554893921567638,
          0.1582036990824124,
          0.1609226876420594,
          0.1636455168313281,
          0.1663714028005942,
          0.16909961884950792,
          0.1718294949528731,
          0.1745604168428956,
          0.17729182467677623,
          0.18002321132213198,
          0.18275412029562793,
          0.18548414339258681,
          0.18821291804705106,
          0.19094012446289135,
          0.1936654825570093,
          0.19638874875550932,
          0.19910971268290795,
          0.20182819378303427,
          0.2045440379083029,
          0.20725711391152826,
          0.20996731027145102,
          0.21267453177976808,
          0.21537869631367326,
          0.21807973171391712,
          0.22077757278414453,
          0.2234721584229433,
          0.22616342889565716,
          0.2288513232487004,
          0.2315357768649383,
          0.23421671915473222,
          0.23689407137360055,
          0.23956774455414787,
          0.2422376375370805,
          0.24490363508377164,
          0.2475656060510343,
          0.2502234016075518,
          0.25287685347081623,
          0.2555257721434591,
          0.258169945128541,
          0.26080913510468107,
          0.2634430780438384,
          0.266071481257081,
          0.2686940213567534,
          0.2713103421270162,
          0.273920052298749,
          0.2765227232291735,
          0.27911788649122904,
          0.2817050313825884,
          0.2842836023692078,
          0.28685299648329793,
          0.28941256070054616,
          0.29196158932619065,
          0.29449932142404334,
          0.2970249383267141,
          0.29953756126898234,
          0.3020362491894339,
          0.3045199967480565,
          0.30698773260936696,
          0.309438318041813,
          0.31187054588456864,
          0.314283139932402,
          0.31667475478801044,
          0.31904397622908665,
          0.3213893221343707,
          0.32370924400911844,
          0.3260021291457424,
          0.3282663034499679,
          0.3305000349566577,
          0.3327015380526481,
          0.33486897841650076,
          0.33700047867716,
          0.3390941247851369,
          0.3411479730811958,
          0.34316005803863386,
          0.3451284006462789,
          0.3470510173903776,
          0.34892592978473674,
          0.3507511743899123,
          0.35252481325407026,
          0.3542449447004322,
          0.35590971437913577,
          0.35751732649494944,
          0.3590660551166934,
          0.3605542554695439,
          0.36198037510767633,
          0.3633429648620656,
          0.36464068945669015,
          0.36587233768600885,
          0.3670368320473649,
          0.3681332377239671,
          0.3691607708173194,
          0.37011880573237593,
          0.37100688162428486,
          0.37182470782231747,
          0.37257216815439426,
          0.3732493241044256,
          0.3738564167444734,
          0.3743938673943268,
          0.3748622769724208,
          0.37526242401400983,
          0.3755952613449362,
          0.3758619114121777,
          0.37606366028538657,
          0.37620195035677234,
          0.37627837177972817,
          0.3762946526994564,
          0.3762526483413295,
          0.3761543290347059,
          0.37600176726124795,
          0.3757971238273412,
          0.37554263326985515,
          0.3752405886130895,
          0.37489332560223865,
          0.3745032065449321,
          0.3740726038973595,
          0.37360388373502457,
          0.3730993892503001,
          0.37256142441961854,
          0.37199223798228476,
          0.3713940078706096,
          0.3707688262272728,
          0.3701186851406194,
          0.3694454632220125,
          0.36875091314146535,
          0.3680366502286682,
          0.36730414223626134,
          0.3665547003509839,
          0.36578947152615326,
          0.3650094321960756,
          0.3642153834194842,
          0.36340794748515937,
          0.36258756599868264,
          0.36175449945489563,
          0.3609088282863357,
          0.36005045536379415,
          0.359179109911382,
          0.35829435278524346,
          0.3573955830524669,
          0.35648204579495585,
          0.35555284105216944,
          0.3546069338068251,
          0.3536431649089915,
          0.35266026282656854,
          0.3516568561040349,
          0.3506314864065816,
          0.3495826220233891,
          0.34850867170187727,
          0.34740799868423555,
          0.3462789348184393,
          0.3451197946182266,
          0.3439288891501119,
          0.3427045396303604,
          0.3414450906208944,
          0.3401489227202257,
          0.33881446465362103,
          0.3374402046756771,
          0.3360247012082085,
          0.3345665926466681,
          0.3330646062791317,
          0.3315175662729962,
          0.3299244006958748,
          0.3282841475485302,
          0.32659595979897776,
          0.3248591094179264,
          0.32307299042643717,
          0.3212371209768888,
          0.3193511444979649,
          0.31741482994331977,
          0.315428071191715,
          0.3133908856537069,
          0.31130341214631013,
          0.30916590810241734,
          0.3069787461860934,
          0.30474241038813976,
          0.3024574916785427,
          0.30012468329356484,
          0.2977447757353547,
          0.29531865156102893,
          0.2928472800362809,
          0.2903317117257732,
          0.2877730730888562,
          0.285172561144692,
          0.282531438265665,
          0.2798510271521384,
          0.27713270603525036,
          0.27437790414766194,
          0.27158809749501567,
          0.2687648049535096,
          0.26590958471148235,
          0.2630240310653631,
          0.2601097715728967,
          0.2571684645592364,
          0.25420179696448936,
          0.2512114825146041,
          0.2481992601912519,
          0.24516689297063454,
          0.24211616679598785,
          0.23904888974406344,
          0.23596689134206214,
          0.23287202198843562,
          0.22976615242868015,
          0.22665117323577919,
          0.2235289942442812,
          0.2204015438871533,
          0.21727076838554585,
          0.21413863074336947,
          0.21100710950116439,
          0.20787819720703965,
          0.20475389856648452,
          0.2016362282375176,
          0.19852720824289816,
          0.19542886497692333,
          0.19234322579056198,
          0.18927231514531054,
          0.1862181503330461,
          0.18318273676626784,
          0.1801680628503359,
          0.177176094456531,
          0.17420876902192178,
          0.17126798930898057,
          0.1683556168645978,
          0.16547346522445983,
          0.16262329291464625,
          0.15980679630763317,
          0.15702560239460445,
          0.15428126154001537,
          0.15157524028761568,
          0.1489089142896142,
          0.14628356143227764,
          0.1437003552319736,
          0.14116035857548093,
          0.1386645178772579,
          0.13621365772432756,
          0.13380847607645371,
          0.13144954008543935,
          0.12913728259265464,
          0.12687199935838053,
          0.12465384707028113,
          0.1224828421713587,
          0.12035886054019797,
          0.11828163804822578,
          0.11625077201024621,
          0.11426572353569915,
          0.11232582077909564,
          0.11043026307899013,
          0.10857812596576846,
          0.10676836700959351,
          0.10499983247115717,
          0.10327126470954251,
          0.10158131029363861,
          0.09992852875622621,
          0.09831140192320573,
          0.0967283437445156,
          0.09517771054818794,
          0.09365781163475335,
          0.09216692012590512,
          0.09070328397898761,
          0.08926513707751778,
          0.08785071030759257,
          0.08645824253066782,
          0.0850859913648138,
          0.0837322436891124,
          0.08239532578933244,
          0.08107361306734227,
          0.07976553924182377,
          0.07846960497367517,
          0.07718438585593437,
          0.07590853971503754,
          0.07464081317765286,
          0.07338004746508592,
          0.07212518338525373,
          0.07087526550034565,
          0.06962944545644417,
          0.06838698446945259,
          0.06714725496958247,
          0.06590974141428597,
          0.06467404028680461,
          0.06343985930435944,
          0.062207015866354166,
          0.060975434778758705,
          0.05974514529601216,
          0.0585162775263119,
          0.05728905825000187,
          0.0560638062039148,
          0.054840926886969205,
          0.053620906944054525,
          0.05240430818629379,
          0.05119176130615319,
          0.049983959345623545,
          0.048781650974853215,
          0.047585633637223575,
          0.046396746614974387,
          0.045215864067158024,
          0.04404388808900324,
          0.042881741838745636,
          0.04173036277470738,
          0.04059069604194663,
          0.03946368804419773,
          0.03835028023316003,
          0.037251403143511344,
          0.036167970698379466,
          0.035100874806446476,
          0.0340509802684243,
          0.03301912000737373,
          0.03200609063425365,
          0.031012648357226145,
          0.030039505240607056,
          0.02908732581696385,
          0.028156724053717365,
          0.02724826067370958,
          0.026362440827544735,
          0.025499712114082713,
          0.024660462944256747,
          0.02384502124236828,
          0.02305365347817585,
          0.022286564022404243,
          0.021543894817737972,
          0.0208257253569058,
          0.020132072959074217,
          0.01946289333543948,
          0.01881808143459944,
          0.018197472557990913,
          0.01760084373536793,
          0.01702791534995702,
          0.016478353002548,
          0.015951769603346336,
          0.015447727679926837,
          0.014965741889078496,
          0.014505281719724891,
          0.014065774373440133,
          0.013646607808370488,
          0.013247133931624163,
          0.012866671924417483,
          0.012504511683484933,
          0.012159917361483526,
          0.01183213098837338,
          0.011520376155051262,
          0.011223861739872254,
          0.010941785658138466,
          0.010673338614177625,
          0.010417707835301205,
          0.010174080766732164,
          0.00994164870654616,
          0.00971961035978587,
          0.009507175291197005,
          0.009303567256503565,
          0.009108027392793032,
          0.008919817249420094,
          0.00873822164185814,
          0.008562551312127074,
          0.008392145380793444,
          0.00822637357706598,
          0.00806463823518063,
          0.007906376047067962
         ],
         "yaxis": "y"
        },
        {
         "legendgroup": "Group 3",
         "marker": {
          "color": "#63F5EF"
         },
         "mode": "lines",
         "name": "Group 3",
         "showlegend": false,
         "type": "scatter",
         "x": [
          -1.115740086019982,
          -1.1040278279440827,
          -1.0923155698681835,
          -1.0806033117922842,
          -1.068891053716385,
          -1.0571787956404857,
          -1.0454665375645864,
          -1.0337542794886874,
          -1.022042021412788,
          -1.0103297633368888,
          -0.9986175052609896,
          -0.9869052471850903,
          -0.975192989109191,
          -0.9634807310332918,
          -0.9517684729573925,
          -0.9400562148814933,
          -0.928343956805594,
          -0.9166316987296947,
          -0.9049194406537956,
          -0.8932071825778963,
          -0.8814949245019971,
          -0.8697826664260978,
          -0.8580704083501987,
          -0.8463581502742994,
          -0.8346458921984001,
          -0.8229336341225009,
          -0.8112213760466016,
          -0.7995091179707023,
          -0.7877968598948031,
          -0.7760846018189038,
          -0.7643723437430047,
          -0.7526600856671054,
          -0.7409478275912061,
          -0.729235569515307,
          -0.7175233114394076,
          -0.7058110533635085,
          -0.6940987952876092,
          -0.6823865372117099,
          -0.6706742791358107,
          -0.6589620210599114,
          -0.6472497629840122,
          -0.6355375049081129,
          -0.6238252468322136,
          -0.6121129887563145,
          -0.6004007306804152,
          -0.588688472604516,
          -0.5769762145286168,
          -0.5652639564527175,
          -0.5535516983768182,
          -0.541839440300919,
          -0.5301271822250198,
          -0.5184149241491205,
          -0.5067026660732213,
          -0.49499040799732197,
          -0.4832781499214227,
          -0.47156589184552355,
          -0.4598536337696243,
          -0.44814137569372503,
          -0.43642911761782577,
          -0.4247168595419265,
          -0.41300460146602735,
          -0.4012923433901281,
          -0.38958008531422883,
          -0.37786782723832957,
          -0.3661555691624303,
          -0.35444331108653104,
          -0.3427310530106319,
          -0.33101879493473263,
          -0.31930653685883326,
          -0.3075942787829341,
          -0.29588202070703484,
          -0.2841697626311357,
          -0.27245750455523643,
          -0.26074524647933706,
          -0.2490329884034379,
          -0.23732073032753864,
          -0.22560847225163938,
          -0.21389621417574023,
          -0.20218395609984086,
          -0.1904716980239416,
          -0.17875943994804244,
          -0.16704718187214318,
          -0.15533492379624392,
          -0.14362266572034466,
          -0.1319104076444454,
          -0.12019814956854624,
          -0.10848589149264698,
          -0.09677363341674772,
          -0.08506137534084846,
          -0.07334911726494919,
          -0.06163685918904993,
          -0.04992460111315067,
          -0.03821234303725163,
          -0.026500084961352144,
          -0.014787826885453104,
          -0.0030755688095538414,
          0.008636689266345643,
          0.020348947342244683,
          0.032061205418143945,
          0.04377346349404321,
          0.05548572156994247,
          0.06719797964584173,
          0.078910237721741,
          0.09062249579764026,
          0.1023347538735393,
          0.11404701194943878,
          0.12575927002533804,
          0.13747152810123708,
          0.14918378617713657,
          0.1608960442530356,
          0.17260830232893487,
          0.18432056040483435,
          0.1960328184807334,
          0.20774507655663266,
          0.21945733463253192,
          0.23116959270843118,
          0.24288185078433044,
          0.2545941088602295,
          0.26630636693612897,
          0.278018625012028,
          0.28973088308792727,
          0.30144314116382676,
          0.3131553992397258,
          0.32486765731562506,
          0.3365799153915243,
          0.3482921734674236,
          0.36000443154332284,
          0.3717166896192221,
          0.38342894769512137,
          0.3951412057710204,
          0.4068534638469199,
          0.41856572192281916,
          0.4302779799987182,
          0.4419902380746177,
          0.4537024961505167,
          0.465414754226416,
          0.47712701230231547,
          0.4888392703782145,
          0.5005515284541138,
          0.512263786530013,
          0.5239760446059123,
          0.5356883026818116,
          0.5474005607577106,
          0.5591128188336101,
          0.5708250769095091,
          0.5825373349854084,
          0.5942495930613079,
          0.6059618511372069,
          0.6176741092131062,
          0.6293863672890054,
          0.6410986253649047,
          0.652810883440804,
          0.6645231415167032,
          0.6762353995926025,
          0.6879476576685015,
          0.699659915744401,
          0.7113721738203003,
          0.7230844318961993,
          0.7347966899720988,
          0.7465089480479978,
          0.7582212061238971,
          0.7699334641997966,
          0.7816457222756956,
          0.7933579803515949,
          0.8050702384274941,
          0.8167824965033934,
          0.8284947545792927,
          0.8402070126551917,
          0.8519192707310912,
          0.8636315288069902,
          0.8753437868828895,
          0.887056044958789,
          0.898768303034688,
          0.9104805611105871,
          0.9221928191864865,
          0.9339050772623856,
          0.9456173353382851,
          0.9573295934141841,
          0.9690418514900836,
          0.9807541095659831,
          0.9924663676418821,
          1.0041786257177812,
          1.0158908837936806,
          1.0276031418695797,
          1.0393153999454787,
          1.0510276580213782,
          1.0627399160972777,
          1.0744521741731767,
          1.0861644322490758,
          1.0978766903249753,
          1.1095889484008743,
          1.1213012064767738,
          1.1330134645526733,
          1.1447257226285723,
          1.1564379807044713,
          1.1681502387803704,
          1.1798624968562699,
          1.1915747549321694,
          1.2032870130080684,
          1.2149992710839679,
          1.226711529159867,
          1.238423787235766,
          1.2501360453116654,
          1.261848303387565,
          1.273560561463464,
          1.285272819539363,
          1.2969850776152625,
          1.3086973356911615,
          1.3204095937670606,
          1.33212185184296,
          1.3438341099188595,
          1.3555463679947586,
          1.367258626070658,
          1.378970884146557,
          1.3906831422224561,
          1.4023954002983552,
          1.4141076583742551,
          1.4258199164501542,
          1.4375321745260532,
          1.4492444326019527,
          1.4609566906778517,
          1.4726689487537508,
          1.4843812068296507,
          1.4960934649055497,
          1.5078057229814488,
          1.5195179810573478,
          1.5312302391332473,
          1.5429424972091463,
          1.5546547552850458,
          1.5663670133609453,
          1.5780792714368443,
          1.5897915295127434,
          1.6015037875886429,
          1.613216045664542,
          1.624928303740441,
          1.6366405618163404,
          1.64835281989224,
          1.660065077968139,
          1.671777336044038,
          1.6834895941199375,
          1.6952018521958365,
          1.706914110271736,
          1.7186263683476355,
          1.7303386264235345,
          1.7420508844994336,
          1.7537631425753326,
          1.765475400651232,
          1.7771876587271316,
          1.7888999168030306,
          1.80061217487893,
          1.8123244329548291,
          1.8240366910307282,
          1.8357489491066277,
          1.8474612071825272,
          1.8591734652584262,
          1.8708857233343252,
          1.8825979814102247,
          1.8943102394861238,
          1.9060224975620228,
          1.9177347556379223,
          1.9294470137138218,
          1.9411592717897208,
          1.9528715298656203,
          1.9645837879415193,
          1.9762960460174184,
          1.9880083040933174,
          1.9997205621692173,
          2.0114328202451164,
          2.0231450783210154,
          2.034857336396915,
          2.046569594472814,
          2.058281852548713,
          2.069994110624613,
          2.081706368700512,
          2.093418626776411,
          2.10513088485231,
          2.1168431429282095,
          2.1285554010041086,
          2.140267659080008,
          2.1519799171559075,
          2.1636921752318066,
          2.1754044333077056,
          2.187116691383605,
          2.198828949459504,
          2.210541207535403,
          2.2222534656113027,
          2.233965723687202,
          2.245677981763101,
          2.2573902398390002,
          2.2691024979148997,
          2.2808147559907987,
          2.2925270140666982,
          2.3042392721425977,
          2.3159515302184968,
          2.327663788294396,
          2.339376046370295,
          2.3510883044461943,
          2.362800562522094,
          2.374512820597993,
          2.3862250786738923,
          2.3979373367497914,
          2.4096495948256904,
          2.42136185290159,
          2.4330741109774894,
          2.4447863690533884,
          2.4564986271292875,
          2.468210885205187,
          2.479923143281086,
          2.491635401356985,
          2.5033476594328845,
          2.515059917508784,
          2.526772175584683,
          2.5384844336605825,
          2.5501966917364816,
          2.5619089498123806,
          2.5736212078882796,
          2.5853334659641796,
          2.5970457240400786,
          2.6087579821159776,
          2.620470240191877,
          2.632182498267776,
          2.643894756343675,
          2.655607014419575,
          2.667319272495474,
          2.679031530571373,
          2.6907437886472723,
          2.7024560467231717,
          2.714168304799071,
          2.7258805628749703,
          2.7375928209508698,
          2.749305079026769,
          2.761017337102668,
          2.7727295951785673,
          2.7844418532544664,
          2.7961541113303654,
          2.807866369406265,
          2.8195786274821644,
          2.8312908855580634,
          2.8430031436339624,
          2.854715401709862,
          2.866427659785761,
          2.8781399178616605,
          2.88985217593756,
          2.9015644340134585,
          2.913276692089358,
          2.9249889501652575,
          2.936701208241156,
          2.9484134663170565,
          2.960125724392955,
          2.9718379824688546,
          2.983550240544753,
          2.9952624986206535,
          3.006974756696552,
          3.0186870147724516,
          3.03039927284835,
          3.0421115309242497,
          3.053823789000149,
          3.0655360470760487,
          3.077248305151948,
          3.0889605632278467,
          3.100672821303746,
          3.112385079379645,
          3.1240973374555443,
          3.135809595531444,
          3.1475218536073433,
          3.1592341116832428,
          3.1709463697591413,
          3.182658627835041,
          3.1943708859109394,
          3.206083143986839,
          3.2177954020627384,
          3.229507660138638,
          3.2412199182145374,
          3.252932176290436,
          3.2646444343663354,
          3.276356692442235,
          3.2880689505181335,
          3.299781208594034,
          3.3114934666699325,
          3.323205724745832,
          3.3349179828217306,
          3.34663024089763,
          3.3583424989735295,
          3.370054757049428,
          3.3817670151253285,
          3.393479273201227,
          3.4051915312771266,
          3.416903789353025,
          3.4286160474289247,
          3.440328305504824,
          3.4520405635807228,
          3.463752821656623,
          3.4754650797325217,
          3.487177337808421,
          3.4988895958843207,
          3.5106018539602193,
          3.5223141120361188,
          3.5340263701120183,
          3.5457386281879177,
          3.5574508862638163,
          3.569163144339716,
          3.5808754024156153,
          3.592587660491514,
          3.6042999185674134,
          3.616012176643313,
          3.6277244347192124,
          3.639436692795112,
          3.6511489508710104,
          3.66286120894691,
          3.6745734670228085,
          3.686285725098708,
          3.6979979831746075,
          3.709710241250507,
          3.7214224993264065,
          3.733134757402305,
          3.7448470154782045,
          3.756559273554103,
          3.7682715316300035,
          3.779983789705902,
          3.7916960477818016,
          3.803408305857701,
          3.8151205639335997,
          3.826832822009499,
          3.8385450800853977,
          3.850257338161298,
          3.8619695962371976,
          3.873681854313096,
          3.8853941123889957,
          3.8971063704648943,
          3.9088186285407938,
          3.9205308866166924,
          3.9322431446925927,
          3.943955402768492,
          3.955667660844391,
          3.9673799189202903,
          3.979092176996189,
          3.9908044350720884,
          4.002516693147988,
          4.014228951223887,
          4.025941209299787,
          4.037653467375685,
          4.049365725451585,
          4.0610779835274835,
          4.072790241603383,
          4.084502499679283,
          4.096214757755182,
          4.107927015831081,
          4.11963927390698,
          4.1313515319828795,
          4.143063790058778,
          4.154776048134678,
          4.166488306210578,
          4.178200564286477,
          4.189912822362376,
          4.201625080438275,
          4.213337338514174,
          4.225049596590074,
          4.236761854665973,
          4.248474112741873,
          4.260186370817771,
          4.271898628893671,
          4.283610886969569,
          4.295323145045469,
          4.307035403121368,
          4.318747661197268,
          4.330459919273167,
          4.342172177349066,
          4.353884435424965,
          4.365596693500864,
          4.377308951576763,
          4.389021209652663,
          4.400733467728562,
          4.412445725804462,
          4.42415798388036,
          4.43587024195626,
          4.447582500032159,
          4.459294758108058,
          4.471007016183958,
          4.482719274259857,
          4.494431532335756,
          4.506143790411655,
          4.5178560484875545,
          4.529568306563454,
          4.541280564639353,
          4.552992822715253,
          4.564705080791152,
          4.576417338867051,
          4.58812959694295,
          4.599841855018849,
          4.611554113094749,
          4.623266371170647,
          4.634978629246548,
          4.646690887322446,
          4.658403145398346,
          4.670115403474245,
          4.681827661550144,
          4.693539919626043,
          4.705252177701943,
          4.716964435777842,
          4.728676693853741
         ],
         "xaxis": "x",
         "y": [
          0.012166804186700443,
          0.012362795868754757,
          0.012556701120639495,
          0.012748572247692535,
          0.012938483401042498,
          0.013126530853127245,
          0.013312833188870188,
          0.013497531412375866,
          0.01368078896960339,
          0.013862791688068345,
          0.014043747635204837,
          0.014223886897584585,
          0.01440346128373317,
          0.014582743953800279,
          0.014762028979825856,
          0.014941630840792367,
          0.015121883857061818,
          0.015303141569159281,
          0.01548577606618039,
          0.01567017726936507,
          0.015856752176590473,
          0.01604592407369281,
          0.016238131718626415,
          0.016433828504510885,
          0.01663348160760101,
          0.016837571126142047,
          0.01704658921594311,
          0.017261039228318495,
          0.017481434855810447,
          0.01770829929082046,
          0.017942164401943916,
          0.018183569932426494,
          0.018433062724745854,
          0.018691195974871386,
          0.01895852851927597,
          0.019235624157266294,
          0.01952305101067495,
          0.0198213809224153,
          0.02013118889485183,
          0.020453052568384495,
          0.020787551740093158,
          0.021135267921743424,
          0.02149678393592057,
          0.021872683548542486,
          0.022263551135506456,
          0.022669971380756007,
          0.023092529002613882,
          0.023531808504823296,
          0.023988393948369772,
          0.024462868739828628,
          0.02495581543169716,
          0.025467815529929487,
          0.02599944930369674,
          0.026551295592247805,
          0.027123931603645502,
          0.027717932700101474,
          0.02833387216462844,
          0.028972320943772507,
          0.02963384736127699,
          0.03031901679766346,
          0.031028391330894044,
          0.031762529333496915,
          0.0325219850217957,
          0.03330730795317776,
          0.03411904246766553,
          0.03495772707041561,
          0.03582389375215896,
          0.036718067245011886,
          0.03764076421152469,
          0.03859249236529413,
          0.03957374952194246,
          0.040585022579755936,
          0.04162678642978007,
          0.042699502795681556,
          0.04380361900420767,
          0.044939566687599575,
          0.04610776041984411,
          0.04730859628917934,
          0.04854245040979662,
          0.04980967737620911,
          0.051110608664276955,
          0.052445550983395574,
          0.05381478458486107,
          0.055218561531924,
          0.05665710393753297,
          0.05813060217624056,
          0.05963921307720929,
          0.06118305810569649,
          0.06276222154082751,
          0.06437674865787156,
          0.06602664392362223,
          0.06771186921384574,
          0.06943234206209527,
          0.07118793394949553,
          0.07297846864537641,
          0.07480372060887457,
          0.07666341346182134,
          0.07855721854339737,
          0.08048475355714882,
          0.08244558132102842,
          0.08443920863113938,
          0.08646508524982228,
          0.08852260302862643,
          0.0906110951765477,
          0.09272983568369127,
          0.09487803891022244,
          0.09705485935010698,
          0.09925939157870467,
          0.10149067039276743,
          0.10374767115080312,
          0.10602931032110323,
          0.10833444624398184,
          0.1106618801139584,
          0.11301035718671004,
          0.115378568214651,
          0.11776515111394958,
          0.12016869286467444,
          0.12258773164458714,
          0.12502075919585842,
          0.1274662234226895,
          0.12992253121648809,
          0.13238805150386598,
          0.13486111851132215,
          0.13734003523904537,
          0.13982307713483308,
          0.1423084959576859,
          0.14479452381920915,
          0.14727937738954763,
          0.14976126225321595,
          0.1522383773988578,
          0.15470891982571286,
          0.15717108924837495,
          0.1596230928803243,
          0.16206315027570317,
          0.1644894982079091,
          0.16690039556279407,
          0.16929412822360831,
          0.1716690139243152,
          0.17402340704753796,
          0.17635570334318942,
          0.17866434454379038,
          0.1809478228525997,
          0.18320468528096653,
          0.18543353781178692,
          0.1876330493665699,
          0.1898019555544368,
          0.19193906218235335,
          0.19404324850703641,
          0.19611347021028386,
          0.19814876208093263,
          0.20014824038825188,
          0.20211110493331078,
          0.20403664076671468,
          0.20592421956307308,
          0.20777330064460672,
          0.20958343164844986,
          0.21135424883438444,
          0.21308547703199351,
          0.21477692922847463,
          0.2164285058006279,
          0.2180401933967917,
          0.21961206347672146,
          0.2211442705195826,
          0.22263704991233327,
          0.2240907155327924,
          0.22550565704359443,
          0.22688233691502563,
          0.22822128719638626,
          0.22952310605701795,
          0.23078845411947252,
          0.23201805060844183,
          0.2332126693400414,
          0.23437313457680767,
          0.23550031677432223,
          0.23659512824574452,
          0.23765851877067254,
          0.23869147117468342,
          0.23969499690562587,
          0.2406701316322548,
          0.24161793089010736,
          0.2425394657986339,
          0.2434358188725294,
          0.24430807994897236,
          0.24515734225105038,
          0.2459846986061242,
          0.2467912378361588,
          0.2475780413352724,
          0.24834617984782248,
          0.24909671045838006,
          0.24983067380288287,
          0.2505490915081729,
          0.25125296386501195,
          0.25194326773755465,
          0.25262095471016965,
          0.25328694947043645,
          0.2539421484251577,
          0.2545874185443023,
          0.2552235964259661,
          0.2558514875737254,
          0.2564718658761726,
          0.25708547327696174,
          0.25769301962241364,
          0.25829518267257867,
          0.2588926082607103,
          0.25948591058530995,
          0.2600756726183136,
          0.26066244661258636,
          0.26124675469166436,
          0.26182908950466355,
          0.26240991492943544,
          0.2629896668073806,
          0.26356875369387106,
          0.2641475576088927,
          0.2647264347733944,
          0.26530571631780764,
          0.265885708950337,
          0.26646669557388064,
          0.26704893584179046,
          0.2676326666441423,
          0.2682181025177072,
          0.26880543597439666,
          0.26939483774457834,
          0.2699864569333039,
          0.27058042108912533,
          0.2711768361868202,
          0.27177578652692713,
          0.2723773345565509,
          0.27298152061736985,
          0.2735883626281704,
          0.2741978557105339,
          0.27480997176748834,
          0.2754246590259912,
          0.2760418415550351,
          0.2766614187719574,
          0.27728326495013705,
          0.27790722874175183,
          0.27853313272954594,
          0.27916077302170184,
          0.27978991890386007,
          0.2804203125621273,
          0.2810516688905261,
          0.2816836753958081,
          0.2823159922118338,
          0.28294825223488534,
          0.28358006139026704,
          0.28421099903942637,
          0.28484061853556364,
          0.2854684479343483,
          0.28609399086488263,
          0.2867167275645282,
          0.2873361160795858,
          0.2879515936321679,
          0.28856257815190745,
          0.2891684699694301,
          0.28976865366680987,
          0.29036250007852654,
          0.2909493684347823,
          0.2915286086374219,
          0.29209956365715056,
          0.2926615720392748,
          0.29321397050382825,
          0.29375609662466906,
          0.29428729157101,
          0.294806902893824,
          0.2953142873387153,
          0.29580881366612916,
          0.2962898654592336,
          0.2967568438994141,
          0.2972091704891255,
          0.297646289701791,
          0.2980676715386,
          0.2984728139723468,
          0.2988612452589607,
          0.2992325260980212,
          0.29958625162438524,
          0.2999220532140235,
          0.30023960008830636,
          0.30053860070223987,
          0.30081880390357074,
          0.3010799998511818,
          0.30132202068284786,
          0.30154474092412586,
          0.30174807763196637,
          0.30193199026847767,
          0.3020964803022041,
          0.30224159053619826,
          0.30236740416413654,
          0.3024740435576782,
          0.3025616687901962,
          0.30263047590392134,
          0.3026806949293888,
          0.3027125876678669,
          0.30272644524915904,
          0.30272258547878755,
          0.30270134999008735,
          0.3026631012181291,
          0.3026082192136683,
          0.30253709831644754,
          0.3024501437081756,
          0.30234776786634576,
          0.30223038694073906,
          0.3020984170749844,
          0.3019522706959145,
          0.3017923527936538,
          0.30161905721540877,
          0.3014327629958204,
          0.3012338307464463,
          0.301022599126517,
          0.30079938141652823,
          0.30056446221551264,
          0.3003180942819909,
          0.3000604955376172,
          0.2997918462514603,
          0.29951228642166816,
          0.2992219133699873,
          0.29892077956324475,
          0.298608890674481,
          0.29828620389493404,
          0.2979526265065524,
          0.29760801472316023,
          0.29725217280680893,
          0.29688485246428664,
          0.2965057525271526,
          0.29611451891710994,
          0.29571074489698307,
          0.29529397160605303,
          0.294863688877036,
          0.29441933633057266,
          0.2939603047417264,
          0.29348593767169245,
          0.29299553335668477,
          0.2924883468447962,
          0.2919635923705569,
          0.2914204459558801,
          0.29085804822517647,
          0.2902755074215463,
          0.289671902610197,
          0.2890462870545333,
          0.288397691749755,
          0.2877251290982569,
          0.28702759671066014,
          0.2863040813159194,
          0.28555356276361626,
          0.28477501810131295,
          0.28396742570963696,
          0.28312976947765395,
          0.2822610430010131,
          0.28136025378534946,
          0.2804264274374738,
          0.279458611826985,
          0.278455881201102,
          0.27741734023571474,
          0.2763421280059292,
          0.27522942185967153,
          0.27407844117830893,
          0.2728884510086376,
          0.27165876555106766,
          0.2703887514893525,
          0.26907783114778583,
          0.26772548546241526,
          0.2663312567535153,
          0.26489475128729306,
          0.26341564161560527,
          0.26189366868332503,
          0.2603286436939043,
          0.2587204497246551,
          0.2570690430843021,
          0.25537445440644163,
          0.25363678947368046,
          0.2518562297684173,
          0.25003303274746486,
          0.24816753183898208,
          0.24626013616151232,
          0.24431132996625624,
          0.24232167180508574,
          0.24029179342818938,
          0.23822239841663448,
          0.23611426055651982,
          0.23396822196278544,
          0.2317851909620934,
          0.22956613974553497,
          0.2273121018031938,
          0.22502416915384188,
          0.2227034893841895,
          0.22035126251322124,
          0.21796873769813757,
          0.21555720979932558,
          0.21311801582258882,
          0.2106525312575192,
          0.20816216633147475,
          0.20564836219901325,
          0.2031125870869288,
          0.20055633241516344,
          0.19798110891384155,
          0.19538844275651523,
          0.19277987172937752,
          0.19015694145573223,
          0.18752120169438644,
          0.18487420272985564,
          0.18221749187137332,
          0.1795526100766441,
          0.17688108871512573,
          0.17420444648433198,
          0.1715241864912759,
          0.16884179350969433,
          0.16615873142214402,
          0.16347644085445037,
          0.16079633700833013,
          0.15811980769631945,
          0.15544821158143837,
          0.1527828766223204,
          0.15012509872285756,
          0.14747614058376718,
          0.14483723075189353,
          0.1422095628615359,
          0.13959429506065582,
          0.13699254961346918,
          0.1344054126697005,
          0.13183393418966546,
          0.12927912801336044,
          0.12674197206091728,
          0.12422340865107197,
          0.12172434492377172,
          0.11924565335266357,
          0.11678817233297979,
          0.11435270683028761,
          0.11194002907565173,
          0.10955087929301996,
          0.10718596644503714,
          0.104845968984029,
          0.10253153559558274,
          0.10024328592293817,
          0.09798181126132292,
          0.09574767521237341,
          0.09354141428988029,
          0.09136353846928151,
          0.08921453167453566,
          0.08709485219730947,
          0.08500493304469393,
          0.08294518221299413,
          0.08091598288644448,
          0.07891769356099504,
          0.07695064809458725,
          0.0750151556865393,
          0.07311150078983418,
          0.07123994296117661,
          0.0694007166546928,
          0.06759403096605922,
          0.06582006933464515,
          0.06407898921196128,
          0.062370921705280934,
          0.06069597120577064,
          0.05905421501080108,
          0.05744570295032416,
          0.055870457027299064,
          0.05432847108210635,
          0.05281971049074414,
          0.05134411190632292,
          0.049901583052995226,
          0.04849200258096903,
          0.047115219990665314,
          0.045771055633406554,
          0.04445930079526582,
          0.04317971786988105,
          0.04193204062515273,
          0.040715974567806165,
          0.039531197408830064,
          0.03837735963179941,
          0.03725408516507912,
          0.03616097215788308,
          0.03509759385915406,
          0.03406349959723277,
          0.03305821585732035,
          0.03208124745280831,
          0.031132078785666924,
          0.03021017519025717,
          0.029314984354162507,
          0.028445937808943063,
          0.027602452483090675,
          0.026783932308918623,
          0.025989769874663803,
          0.02521934811269876,
          0.02447204201447062,
          0.023747220362580604,
          0.023044247470311252,
          0.022362484918887364,
          0.02170129328281649,
          0.02106003383380912,
          0.020438070213999005,
          0.01983477006949311,
          0.019249506635651413,
          0.018681660265939155,
          0.018130619896695354,
          0.01759578444071351,
          0.017076564103137144,
          0.016572381613812623,
          0.016082673370920855,
          0.015606890491414368,
          0.015144499764509553,
          0.014694984505222266
         ],
         "yaxis": "y"
        }
       ],
       "layout": {
        "barmode": "overlay",
        "hovermode": "closest",
        "legend": {
         "traceorder": "reversed"
        },
        "template": {
         "data": {
          "bar": [
           {
            "error_x": {
             "color": "#2a3f5f"
            },
            "error_y": {
             "color": "#2a3f5f"
            },
            "marker": {
             "line": {
              "color": "#E5ECF6",
              "width": 0.5
             }
            },
            "type": "bar"
           }
          ],
          "barpolar": [
           {
            "marker": {
             "line": {
              "color": "#E5ECF6",
              "width": 0.5
             }
            },
            "type": "barpolar"
           }
          ],
          "carpet": [
           {
            "aaxis": {
             "endlinecolor": "#2a3f5f",
             "gridcolor": "white",
             "linecolor": "white",
             "minorgridcolor": "white",
             "startlinecolor": "#2a3f5f"
            },
            "baxis": {
             "endlinecolor": "#2a3f5f",
             "gridcolor": "white",
             "linecolor": "white",
             "minorgridcolor": "white",
             "startlinecolor": "#2a3f5f"
            },
            "type": "carpet"
           }
          ],
          "choropleth": [
           {
            "colorbar": {
             "outlinewidth": 0,
             "ticks": ""
            },
            "type": "choropleth"
           }
          ],
          "contour": [
           {
            "colorbar": {
             "outlinewidth": 0,
             "ticks": ""
            },
            "colorscale": [
             [
              0,
              "#0d0887"
             ],
             [
              0.1111111111111111,
              "#46039f"
             ],
             [
              0.2222222222222222,
              "#7201a8"
             ],
             [
              0.3333333333333333,
              "#9c179e"
             ],
             [
              0.4444444444444444,
              "#bd3786"
             ],
             [
              0.5555555555555556,
              "#d8576b"
             ],
             [
              0.6666666666666666,
              "#ed7953"
             ],
             [
              0.7777777777777778,
              "#fb9f3a"
             ],
             [
              0.8888888888888888,
              "#fdca26"
             ],
             [
              1,
              "#f0f921"
             ]
            ],
            "type": "contour"
           }
          ],
          "contourcarpet": [
           {
            "colorbar": {
             "outlinewidth": 0,
             "ticks": ""
            },
            "type": "contourcarpet"
           }
          ],
          "heatmap": [
           {
            "colorbar": {
             "outlinewidth": 0,
             "ticks": ""
            },
            "colorscale": [
             [
              0,
              "#0d0887"
             ],
             [
              0.1111111111111111,
              "#46039f"
             ],
             [
              0.2222222222222222,
              "#7201a8"
             ],
             [
              0.3333333333333333,
              "#9c179e"
             ],
             [
              0.4444444444444444,
              "#bd3786"
             ],
             [
              0.5555555555555556,
              "#d8576b"
             ],
             [
              0.6666666666666666,
              "#ed7953"
             ],
             [
              0.7777777777777778,
              "#fb9f3a"
             ],
             [
              0.8888888888888888,
              "#fdca26"
             ],
             [
              1,
              "#f0f921"
             ]
            ],
            "type": "heatmap"
           }
          ],
          "heatmapgl": [
           {
            "colorbar": {
             "outlinewidth": 0,
             "ticks": ""
            },
            "colorscale": [
             [
              0,
              "#0d0887"
             ],
             [
              0.1111111111111111,
              "#46039f"
             ],
             [
              0.2222222222222222,
              "#7201a8"
             ],
             [
              0.3333333333333333,
              "#9c179e"
             ],
             [
              0.4444444444444444,
              "#bd3786"
             ],
             [
              0.5555555555555556,
              "#d8576b"
             ],
             [
              0.6666666666666666,
              "#ed7953"
             ],
             [
              0.7777777777777778,
              "#fb9f3a"
             ],
             [
              0.8888888888888888,
              "#fdca26"
             ],
             [
              1,
              "#f0f921"
             ]
            ],
            "type": "heatmapgl"
           }
          ],
          "histogram": [
           {
            "marker": {
             "colorbar": {
              "outlinewidth": 0,
              "ticks": ""
             }
            },
            "type": "histogram"
           }
          ],
          "histogram2d": [
           {
            "colorbar": {
             "outlinewidth": 0,
             "ticks": ""
            },
            "colorscale": [
             [
              0,
              "#0d0887"
             ],
             [
              0.1111111111111111,
              "#46039f"
             ],
             [
              0.2222222222222222,
              "#7201a8"
             ],
             [
              0.3333333333333333,
              "#9c179e"
             ],
             [
              0.4444444444444444,
              "#bd3786"
             ],
             [
              0.5555555555555556,
              "#d8576b"
             ],
             [
              0.6666666666666666,
              "#ed7953"
             ],
             [
              0.7777777777777778,
              "#fb9f3a"
             ],
             [
              0.8888888888888888,
              "#fdca26"
             ],
             [
              1,
              "#f0f921"
             ]
            ],
            "type": "histogram2d"
           }
          ],
          "histogram2dcontour": [
           {
            "colorbar": {
             "outlinewidth": 0,
             "ticks": ""
            },
            "colorscale": [
             [
              0,
              "#0d0887"
             ],
             [
              0.1111111111111111,
              "#46039f"
             ],
             [
              0.2222222222222222,
              "#7201a8"
             ],
             [
              0.3333333333333333,
              "#9c179e"
             ],
             [
              0.4444444444444444,
              "#bd3786"
             ],
             [
              0.5555555555555556,
              "#d8576b"
             ],
             [
              0.6666666666666666,
              "#ed7953"
             ],
             [
              0.7777777777777778,
              "#fb9f3a"
             ],
             [
              0.8888888888888888,
              "#fdca26"
             ],
             [
              1,
              "#f0f921"
             ]
            ],
            "type": "histogram2dcontour"
           }
          ],
          "mesh3d": [
           {
            "colorbar": {
             "outlinewidth": 0,
             "ticks": ""
            },
            "type": "mesh3d"
           }
          ],
          "parcoords": [
           {
            "line": {
             "colorbar": {
              "outlinewidth": 0,
              "ticks": ""
             }
            },
            "type": "parcoords"
           }
          ],
          "pie": [
           {
            "automargin": true,
            "type": "pie"
           }
          ],
          "scatter": [
           {
            "marker": {
             "colorbar": {
              "outlinewidth": 0,
              "ticks": ""
             }
            },
            "type": "scatter"
           }
          ],
          "scatter3d": [
           {
            "line": {
             "colorbar": {
              "outlinewidth": 0,
              "ticks": ""
             }
            },
            "marker": {
             "colorbar": {
              "outlinewidth": 0,
              "ticks": ""
             }
            },
            "type": "scatter3d"
           }
          ],
          "scattercarpet": [
           {
            "marker": {
             "colorbar": {
              "outlinewidth": 0,
              "ticks": ""
             }
            },
            "type": "scattercarpet"
           }
          ],
          "scattergeo": [
           {
            "marker": {
             "colorbar": {
              "outlinewidth": 0,
              "ticks": ""
             }
            },
            "type": "scattergeo"
           }
          ],
          "scattergl": [
           {
            "marker": {
             "colorbar": {
              "outlinewidth": 0,
              "ticks": ""
             }
            },
            "type": "scattergl"
           }
          ],
          "scattermapbox": [
           {
            "marker": {
             "colorbar": {
              "outlinewidth": 0,
              "ticks": ""
             }
            },
            "type": "scattermapbox"
           }
          ],
          "scatterpolar": [
           {
            "marker": {
             "colorbar": {
              "outlinewidth": 0,
              "ticks": ""
             }
            },
            "type": "scatterpolar"
           }
          ],
          "scatterpolargl": [
           {
            "marker": {
             "colorbar": {
              "outlinewidth": 0,
              "ticks": ""
             }
            },
            "type": "scatterpolargl"
           }
          ],
          "scatterternary": [
           {
            "marker": {
             "colorbar": {
              "outlinewidth": 0,
              "ticks": ""
             }
            },
            "type": "scatterternary"
           }
          ],
          "surface": [
           {
            "colorbar": {
             "outlinewidth": 0,
             "ticks": ""
            },
            "colorscale": [
             [
              0,
              "#0d0887"
             ],
             [
              0.1111111111111111,
              "#46039f"
             ],
             [
              0.2222222222222222,
              "#7201a8"
             ],
             [
              0.3333333333333333,
              "#9c179e"
             ],
             [
              0.4444444444444444,
              "#bd3786"
             ],
             [
              0.5555555555555556,
              "#d8576b"
             ],
             [
              0.6666666666666666,
              "#ed7953"
             ],
             [
              0.7777777777777778,
              "#fb9f3a"
             ],
             [
              0.8888888888888888,
              "#fdca26"
             ],
             [
              1,
              "#f0f921"
             ]
            ],
            "type": "surface"
           }
          ],
          "table": [
           {
            "cells": {
             "fill": {
              "color": "#EBF0F8"
             },
             "line": {
              "color": "white"
             }
            },
            "header": {
             "fill": {
              "color": "#C8D4E3"
             },
             "line": {
              "color": "white"
             }
            },
            "type": "table"
           }
          ]
         },
         "layout": {
          "annotationdefaults": {
           "arrowcolor": "#2a3f5f",
           "arrowhead": 0,
           "arrowwidth": 1
          },
          "coloraxis": {
           "colorbar": {
            "outlinewidth": 0,
            "ticks": ""
           }
          },
          "colorscale": {
           "diverging": [
            [
             0,
             "#8e0152"
            ],
            [
             0.1,
             "#c51b7d"
            ],
            [
             0.2,
             "#de77ae"
            ],
            [
             0.3,
             "#f1b6da"
            ],
            [
             0.4,
             "#fde0ef"
            ],
            [
             0.5,
             "#f7f7f7"
            ],
            [
             0.6,
             "#e6f5d0"
            ],
            [
             0.7,
             "#b8e186"
            ],
            [
             0.8,
             "#7fbc41"
            ],
            [
             0.9,
             "#4d9221"
            ],
            [
             1,
             "#276419"
            ]
           ],
           "sequential": [
            [
             0,
             "#0d0887"
            ],
            [
             0.1111111111111111,
             "#46039f"
            ],
            [
             0.2222222222222222,
             "#7201a8"
            ],
            [
             0.3333333333333333,
             "#9c179e"
            ],
            [
             0.4444444444444444,
             "#bd3786"
            ],
            [
             0.5555555555555556,
             "#d8576b"
            ],
            [
             0.6666666666666666,
             "#ed7953"
            ],
            [
             0.7777777777777778,
             "#fb9f3a"
            ],
            [
             0.8888888888888888,
             "#fdca26"
            ],
            [
             1,
             "#f0f921"
            ]
           ],
           "sequentialminus": [
            [
             0,
             "#0d0887"
            ],
            [
             0.1111111111111111,
             "#46039f"
            ],
            [
             0.2222222222222222,
             "#7201a8"
            ],
            [
             0.3333333333333333,
             "#9c179e"
            ],
            [
             0.4444444444444444,
             "#bd3786"
            ],
            [
             0.5555555555555556,
             "#d8576b"
            ],
            [
             0.6666666666666666,
             "#ed7953"
            ],
            [
             0.7777777777777778,
             "#fb9f3a"
            ],
            [
             0.8888888888888888,
             "#fdca26"
            ],
            [
             1,
             "#f0f921"
            ]
           ]
          },
          "colorway": [
           "#636efa",
           "#EF553B",
           "#00cc96",
           "#ab63fa",
           "#FFA15A",
           "#19d3f3",
           "#FF6692",
           "#B6E880",
           "#FF97FF",
           "#FECB52"
          ],
          "font": {
           "color": "#2a3f5f"
          },
          "geo": {
           "bgcolor": "white",
           "lakecolor": "white",
           "landcolor": "#E5ECF6",
           "showlakes": true,
           "showland": true,
           "subunitcolor": "white"
          },
          "hoverlabel": {
           "align": "left"
          },
          "hovermode": "closest",
          "mapbox": {
           "style": "light"
          },
          "paper_bgcolor": "white",
          "plot_bgcolor": "#E5ECF6",
          "polar": {
           "angularaxis": {
            "gridcolor": "white",
            "linecolor": "white",
            "ticks": ""
           },
           "bgcolor": "#E5ECF6",
           "radialaxis": {
            "gridcolor": "white",
            "linecolor": "white",
            "ticks": ""
           }
          },
          "scene": {
           "xaxis": {
            "backgroundcolor": "#E5ECF6",
            "gridcolor": "white",
            "gridwidth": 2,
            "linecolor": "white",
            "showbackground": true,
            "ticks": "",
            "zerolinecolor": "white"
           },
           "yaxis": {
            "backgroundcolor": "#E5ECF6",
            "gridcolor": "white",
            "gridwidth": 2,
            "linecolor": "white",
            "showbackground": true,
            "ticks": "",
            "zerolinecolor": "white"
           },
           "zaxis": {
            "backgroundcolor": "#E5ECF6",
            "gridcolor": "white",
            "gridwidth": 2,
            "linecolor": "white",
            "showbackground": true,
            "ticks": "",
            "zerolinecolor": "white"
           }
          },
          "shapedefaults": {
           "line": {
            "color": "#2a3f5f"
           }
          },
          "ternary": {
           "aaxis": {
            "gridcolor": "white",
            "linecolor": "white",
            "ticks": ""
           },
           "baxis": {
            "gridcolor": "white",
            "linecolor": "white",
            "ticks": ""
           },
           "bgcolor": "#E5ECF6",
           "caxis": {
            "gridcolor": "white",
            "linecolor": "white",
            "ticks": ""
           }
          },
          "title": {
           "x": 0.05
          },
          "xaxis": {
           "automargin": true,
           "gridcolor": "white",
           "linecolor": "white",
           "ticks": "",
           "title": {
            "standoff": 15
           },
           "zerolinecolor": "white",
           "zerolinewidth": 2
          },
          "yaxis": {
           "automargin": true,
           "gridcolor": "white",
           "linecolor": "white",
           "ticks": "",
           "title": {
            "standoff": 15
           },
           "zerolinecolor": "white",
           "zerolinewidth": 2
          }
         }
        },
        "title": {
         "text": "Hist and Curve Plot"
        },
        "xaxis": {
         "anchor": "y2",
         "domain": [
          0,
          1
         ],
         "zeroline": false
        },
        "yaxis": {
         "anchor": "free",
         "domain": [
          0,
          1
         ],
         "position": 0
        }
       }
      }
     },
     "metadata": {},
     "output_type": "display_data"
    }
   ],
   "source": [
    "import plotly.figure_factory as ff\n",
    "import numpy as np\n",
    "\n",
    "x1 = np.random.randn(200) - 2\n",
    "x2 = np.random.randn(200)\n",
    "x3 = np.random.randn(200) + 2\n",
    "\n",
    "hist_data = [x1, x2, x3]\n",
    "\n",
    "group_labels = ['Group 1', 'Group 2', 'Group 3']\n",
    "colors = ['#A56CC1', '#A6ACEC', '#63F5EF']\n",
    "\n",
    "# Create distplot with curve_type set to 'normal'\n",
    "fig = ff.create_distplot(hist_data, group_labels, colors=colors,\n",
    "                         bin_size=.2, show_rug=False)\n",
    "\n",
    "# Add title\n",
    "fig.update_layout(title_text='Hist and Curve Plot')\n",
    "fig.show()"
   ]
  },
  {
   "cell_type": "code",
   "execution_count": 14,
   "metadata": {},
   "outputs": [
    {
     "data": {
      "application/vnd.plotly.v1+json": {
       "config": {
        "plotlyServerURL": "https://plot.ly"
       },
       "data": [
        {
         "alignmentgroup": "True",
         "bingroup": "x",
         "hovertemplate": "gender_name=Female<br>age=%{x}<br>count=%{y}<extra></extra>",
         "legendgroup": "Female",
         "marker": {
          "color": "#F78FE4"
         },
         "name": "Female",
         "offsetgroup": "Female",
         "orientation": "v",
         "showlegend": true,
         "type": "histogram",
         "x": [
          21,
          24,
          25,
          23,
          21,
          23,
          22,
          25,
          26,
          26,
          21,
          27,
          21,
          27,
          25,
          23,
          22,
          26,
          22,
          23,
          24,
          27,
          30,
          21,
          25,
          26,
          27,
          23,
          24,
          23,
          22,
          null,
          null,
          29,
          28,
          26,
          24,
          27,
          23,
          34,
          22,
          23,
          26,
          27,
          28,
          25,
          35,
          32,
          30,
          22,
          23,
          23,
          27,
          23,
          25,
          29,
          29,
          20,
          21,
          20,
          21,
          21,
          21,
          19,
          20,
          21,
          27,
          24,
          23,
          26,
          null,
          24,
          33,
          23,
          24,
          36,
          26,
          27,
          28,
          31,
          28,
          27,
          28,
          27,
          27,
          30,
          28,
          29,
          23,
          28,
          22,
          35,
          30,
          24,
          22,
          22,
          24,
          24,
          27,
          25,
          24,
          23,
          30,
          25,
          25,
          22,
          22,
          26,
          23,
          31,
          23,
          25,
          28,
          29,
          28,
          27,
          25,
          22,
          23,
          24,
          34,
          27,
          34,
          26,
          29,
          26,
          28,
          33,
          22,
          26,
          24,
          24,
          25,
          25,
          27,
          26,
          29,
          26,
          26,
          32,
          28,
          26,
          24,
          24,
          23,
          23,
          25,
          30,
          30,
          28,
          21,
          22,
          24,
          35,
          34,
          21,
          33,
          28,
          29,
          22,
          27,
          34,
          25,
          23,
          30,
          36,
          29,
          30,
          29,
          22,
          34,
          23,
          33,
          32,
          26,
          24,
          null,
          26,
          21,
          33,
          31,
          35,
          29,
          25,
          22,
          24,
          27,
          27,
          26,
          26,
          24,
          38,
          33,
          24,
          28,
          27,
          23,
          25,
          26,
          25,
          24,
          21,
          30,
          28,
          26,
          22,
          24,
          33,
          25,
          25,
          29,
          25,
          28,
          22,
          25,
          22,
          27,
          28,
          30,
          27,
          22,
          23,
          23,
          23,
          29,
          27,
          24,
          29,
          55,
          29,
          26,
          24,
          24,
          25,
          25,
          29,
          30,
          25,
          34,
          30,
          27,
          25,
          27,
          26,
          27,
          26,
          23,
          24,
          25,
          26,
          25,
          26,
          28,
          26,
          23,
          null,
          23,
          23,
          23,
          27,
          30,
          23,
          26,
          28,
          26,
          22,
          27,
          25,
          24,
          26,
          24,
          29,
          22,
          22
         ],
         "xaxis": "x",
         "yaxis": "y"
        },
        {
         "alignmentgroup": "True",
         "bingroup": "x",
         "hovertemplate": "gender_name=Male<br>age=%{x}<br>count=%{y}<extra></extra>",
         "legendgroup": "Male",
         "marker": {
          "color": "#1179f0"
         },
         "name": "Male",
         "offsetgroup": "Male",
         "orientation": "v",
         "showlegend": true,
         "type": "histogram",
         "x": [
          27,
          22,
          22,
          23,
          24,
          25,
          30,
          27,
          28,
          24,
          25,
          30,
          23,
          24,
          24,
          28,
          26,
          30,
          22,
          25,
          27,
          23,
          21,
          28,
          28,
          23,
          29,
          22,
          27,
          28,
          26,
          21,
          22,
          22,
          25,
          24,
          28,
          26,
          26,
          29,
          39,
          28,
          30,
          22,
          32,
          26,
          27,
          25,
          22,
          21,
          24,
          25,
          28,
          27,
          22,
          18,
          22,
          21,
          22,
          22,
          21,
          null,
          20,
          19,
          26,
          32,
          37,
          29,
          28,
          23,
          28,
          29,
          22,
          27,
          26,
          27,
          30,
          26,
          23,
          23,
          28,
          28,
          29,
          27,
          22,
          34,
          25,
          24,
          26,
          21,
          27,
          25,
          28,
          24,
          25,
          23,
          26,
          27,
          26,
          24,
          26,
          25,
          27,
          27,
          28,
          32,
          28,
          23,
          26,
          24,
          28,
          42,
          30,
          31,
          29,
          27,
          28,
          32,
          25,
          25,
          27,
          33,
          25,
          33,
          29,
          24,
          21,
          26,
          25,
          32,
          25,
          25,
          27,
          23,
          27,
          27,
          24,
          22,
          22,
          27,
          28,
          34,
          27,
          28,
          28,
          27,
          32,
          25,
          29,
          23,
          27,
          32,
          27,
          25,
          30,
          29,
          26,
          36,
          29,
          30,
          23,
          29,
          24,
          25,
          28,
          27,
          null,
          null,
          34,
          30,
          23,
          27,
          30,
          27,
          27,
          24,
          25,
          28,
          27,
          27,
          29,
          30,
          27,
          25,
          26,
          29,
          24,
          29,
          29,
          26,
          31,
          29,
          22,
          23,
          30,
          27,
          24,
          24,
          23,
          27,
          34,
          27,
          26,
          29,
          31,
          26,
          30,
          24,
          28,
          24,
          28,
          27,
          27,
          21,
          24,
          25,
          27,
          26,
          30,
          28,
          26,
          22,
          23,
          25,
          30,
          29,
          27,
          33,
          27,
          33,
          23,
          33,
          23,
          23,
          30,
          28,
          31,
          29,
          32,
          24,
          29,
          28,
          29,
          29,
          30,
          20,
          30,
          32,
          26,
          25,
          23,
          27,
          24,
          24,
          36,
          25,
          26,
          26,
          24,
          23,
          29,
          22,
          32,
          22,
          24,
          23,
          23,
          24,
          23,
          24,
          30,
          30,
          30,
          28,
          30,
          27,
          25
         ],
         "xaxis": "x",
         "yaxis": "y"
        }
       ],
       "layout": {
        "barmode": "group",
        "legend": {
         "title": {
          "text": "gender_name"
         },
         "tracegroupgap": 0
        },
        "margin": {
         "t": 60
        },
        "template": {
         "data": {
          "bar": [
           {
            "error_x": {
             "color": "#2a3f5f"
            },
            "error_y": {
             "color": "#2a3f5f"
            },
            "marker": {
             "line": {
              "color": "#E5ECF6",
              "width": 0.5
             }
            },
            "type": "bar"
           }
          ],
          "barpolar": [
           {
            "marker": {
             "line": {
              "color": "#E5ECF6",
              "width": 0.5
             }
            },
            "type": "barpolar"
           }
          ],
          "carpet": [
           {
            "aaxis": {
             "endlinecolor": "#2a3f5f",
             "gridcolor": "white",
             "linecolor": "white",
             "minorgridcolor": "white",
             "startlinecolor": "#2a3f5f"
            },
            "baxis": {
             "endlinecolor": "#2a3f5f",
             "gridcolor": "white",
             "linecolor": "white",
             "minorgridcolor": "white",
             "startlinecolor": "#2a3f5f"
            },
            "type": "carpet"
           }
          ],
          "choropleth": [
           {
            "colorbar": {
             "outlinewidth": 0,
             "ticks": ""
            },
            "type": "choropleth"
           }
          ],
          "contour": [
           {
            "colorbar": {
             "outlinewidth": 0,
             "ticks": ""
            },
            "colorscale": [
             [
              0,
              "#0d0887"
             ],
             [
              0.1111111111111111,
              "#46039f"
             ],
             [
              0.2222222222222222,
              "#7201a8"
             ],
             [
              0.3333333333333333,
              "#9c179e"
             ],
             [
              0.4444444444444444,
              "#bd3786"
             ],
             [
              0.5555555555555556,
              "#d8576b"
             ],
             [
              0.6666666666666666,
              "#ed7953"
             ],
             [
              0.7777777777777778,
              "#fb9f3a"
             ],
             [
              0.8888888888888888,
              "#fdca26"
             ],
             [
              1,
              "#f0f921"
             ]
            ],
            "type": "contour"
           }
          ],
          "contourcarpet": [
           {
            "colorbar": {
             "outlinewidth": 0,
             "ticks": ""
            },
            "type": "contourcarpet"
           }
          ],
          "heatmap": [
           {
            "colorbar": {
             "outlinewidth": 0,
             "ticks": ""
            },
            "colorscale": [
             [
              0,
              "#0d0887"
             ],
             [
              0.1111111111111111,
              "#46039f"
             ],
             [
              0.2222222222222222,
              "#7201a8"
             ],
             [
              0.3333333333333333,
              "#9c179e"
             ],
             [
              0.4444444444444444,
              "#bd3786"
             ],
             [
              0.5555555555555556,
              "#d8576b"
             ],
             [
              0.6666666666666666,
              "#ed7953"
             ],
             [
              0.7777777777777778,
              "#fb9f3a"
             ],
             [
              0.8888888888888888,
              "#fdca26"
             ],
             [
              1,
              "#f0f921"
             ]
            ],
            "type": "heatmap"
           }
          ],
          "heatmapgl": [
           {
            "colorbar": {
             "outlinewidth": 0,
             "ticks": ""
            },
            "colorscale": [
             [
              0,
              "#0d0887"
             ],
             [
              0.1111111111111111,
              "#46039f"
             ],
             [
              0.2222222222222222,
              "#7201a8"
             ],
             [
              0.3333333333333333,
              "#9c179e"
             ],
             [
              0.4444444444444444,
              "#bd3786"
             ],
             [
              0.5555555555555556,
              "#d8576b"
             ],
             [
              0.6666666666666666,
              "#ed7953"
             ],
             [
              0.7777777777777778,
              "#fb9f3a"
             ],
             [
              0.8888888888888888,
              "#fdca26"
             ],
             [
              1,
              "#f0f921"
             ]
            ],
            "type": "heatmapgl"
           }
          ],
          "histogram": [
           {
            "marker": {
             "colorbar": {
              "outlinewidth": 0,
              "ticks": ""
             }
            },
            "type": "histogram"
           }
          ],
          "histogram2d": [
           {
            "colorbar": {
             "outlinewidth": 0,
             "ticks": ""
            },
            "colorscale": [
             [
              0,
              "#0d0887"
             ],
             [
              0.1111111111111111,
              "#46039f"
             ],
             [
              0.2222222222222222,
              "#7201a8"
             ],
             [
              0.3333333333333333,
              "#9c179e"
             ],
             [
              0.4444444444444444,
              "#bd3786"
             ],
             [
              0.5555555555555556,
              "#d8576b"
             ],
             [
              0.6666666666666666,
              "#ed7953"
             ],
             [
              0.7777777777777778,
              "#fb9f3a"
             ],
             [
              0.8888888888888888,
              "#fdca26"
             ],
             [
              1,
              "#f0f921"
             ]
            ],
            "type": "histogram2d"
           }
          ],
          "histogram2dcontour": [
           {
            "colorbar": {
             "outlinewidth": 0,
             "ticks": ""
            },
            "colorscale": [
             [
              0,
              "#0d0887"
             ],
             [
              0.1111111111111111,
              "#46039f"
             ],
             [
              0.2222222222222222,
              "#7201a8"
             ],
             [
              0.3333333333333333,
              "#9c179e"
             ],
             [
              0.4444444444444444,
              "#bd3786"
             ],
             [
              0.5555555555555556,
              "#d8576b"
             ],
             [
              0.6666666666666666,
              "#ed7953"
             ],
             [
              0.7777777777777778,
              "#fb9f3a"
             ],
             [
              0.8888888888888888,
              "#fdca26"
             ],
             [
              1,
              "#f0f921"
             ]
            ],
            "type": "histogram2dcontour"
           }
          ],
          "mesh3d": [
           {
            "colorbar": {
             "outlinewidth": 0,
             "ticks": ""
            },
            "type": "mesh3d"
           }
          ],
          "parcoords": [
           {
            "line": {
             "colorbar": {
              "outlinewidth": 0,
              "ticks": ""
             }
            },
            "type": "parcoords"
           }
          ],
          "pie": [
           {
            "automargin": true,
            "type": "pie"
           }
          ],
          "scatter": [
           {
            "marker": {
             "colorbar": {
              "outlinewidth": 0,
              "ticks": ""
             }
            },
            "type": "scatter"
           }
          ],
          "scatter3d": [
           {
            "line": {
             "colorbar": {
              "outlinewidth": 0,
              "ticks": ""
             }
            },
            "marker": {
             "colorbar": {
              "outlinewidth": 0,
              "ticks": ""
             }
            },
            "type": "scatter3d"
           }
          ],
          "scattercarpet": [
           {
            "marker": {
             "colorbar": {
              "outlinewidth": 0,
              "ticks": ""
             }
            },
            "type": "scattercarpet"
           }
          ],
          "scattergeo": [
           {
            "marker": {
             "colorbar": {
              "outlinewidth": 0,
              "ticks": ""
             }
            },
            "type": "scattergeo"
           }
          ],
          "scattergl": [
           {
            "marker": {
             "colorbar": {
              "outlinewidth": 0,
              "ticks": ""
             }
            },
            "type": "scattergl"
           }
          ],
          "scattermapbox": [
           {
            "marker": {
             "colorbar": {
              "outlinewidth": 0,
              "ticks": ""
             }
            },
            "type": "scattermapbox"
           }
          ],
          "scatterpolar": [
           {
            "marker": {
             "colorbar": {
              "outlinewidth": 0,
              "ticks": ""
             }
            },
            "type": "scatterpolar"
           }
          ],
          "scatterpolargl": [
           {
            "marker": {
             "colorbar": {
              "outlinewidth": 0,
              "ticks": ""
             }
            },
            "type": "scatterpolargl"
           }
          ],
          "scatterternary": [
           {
            "marker": {
             "colorbar": {
              "outlinewidth": 0,
              "ticks": ""
             }
            },
            "type": "scatterternary"
           }
          ],
          "surface": [
           {
            "colorbar": {
             "outlinewidth": 0,
             "ticks": ""
            },
            "colorscale": [
             [
              0,
              "#0d0887"
             ],
             [
              0.1111111111111111,
              "#46039f"
             ],
             [
              0.2222222222222222,
              "#7201a8"
             ],
             [
              0.3333333333333333,
              "#9c179e"
             ],
             [
              0.4444444444444444,
              "#bd3786"
             ],
             [
              0.5555555555555556,
              "#d8576b"
             ],
             [
              0.6666666666666666,
              "#ed7953"
             ],
             [
              0.7777777777777778,
              "#fb9f3a"
             ],
             [
              0.8888888888888888,
              "#fdca26"
             ],
             [
              1,
              "#f0f921"
             ]
            ],
            "type": "surface"
           }
          ],
          "table": [
           {
            "cells": {
             "fill": {
              "color": "#EBF0F8"
             },
             "line": {
              "color": "white"
             }
            },
            "header": {
             "fill": {
              "color": "#C8D4E3"
             },
             "line": {
              "color": "white"
             }
            },
            "type": "table"
           }
          ]
         },
         "layout": {
          "annotationdefaults": {
           "arrowcolor": "#2a3f5f",
           "arrowhead": 0,
           "arrowwidth": 1
          },
          "coloraxis": {
           "colorbar": {
            "outlinewidth": 0,
            "ticks": ""
           }
          },
          "colorscale": {
           "diverging": [
            [
             0,
             "#8e0152"
            ],
            [
             0.1,
             "#c51b7d"
            ],
            [
             0.2,
             "#de77ae"
            ],
            [
             0.3,
             "#f1b6da"
            ],
            [
             0.4,
             "#fde0ef"
            ],
            [
             0.5,
             "#f7f7f7"
            ],
            [
             0.6,
             "#e6f5d0"
            ],
            [
             0.7,
             "#b8e186"
            ],
            [
             0.8,
             "#7fbc41"
            ],
            [
             0.9,
             "#4d9221"
            ],
            [
             1,
             "#276419"
            ]
           ],
           "sequential": [
            [
             0,
             "#0d0887"
            ],
            [
             0.1111111111111111,
             "#46039f"
            ],
            [
             0.2222222222222222,
             "#7201a8"
            ],
            [
             0.3333333333333333,
             "#9c179e"
            ],
            [
             0.4444444444444444,
             "#bd3786"
            ],
            [
             0.5555555555555556,
             "#d8576b"
            ],
            [
             0.6666666666666666,
             "#ed7953"
            ],
            [
             0.7777777777777778,
             "#fb9f3a"
            ],
            [
             0.8888888888888888,
             "#fdca26"
            ],
            [
             1,
             "#f0f921"
            ]
           ],
           "sequentialminus": [
            [
             0,
             "#0d0887"
            ],
            [
             0.1111111111111111,
             "#46039f"
            ],
            [
             0.2222222222222222,
             "#7201a8"
            ],
            [
             0.3333333333333333,
             "#9c179e"
            ],
            [
             0.4444444444444444,
             "#bd3786"
            ],
            [
             0.5555555555555556,
             "#d8576b"
            ],
            [
             0.6666666666666666,
             "#ed7953"
            ],
            [
             0.7777777777777778,
             "#fb9f3a"
            ],
            [
             0.8888888888888888,
             "#fdca26"
            ],
            [
             1,
             "#f0f921"
            ]
           ]
          },
          "colorway": [
           "#636efa",
           "#EF553B",
           "#00cc96",
           "#ab63fa",
           "#FFA15A",
           "#19d3f3",
           "#FF6692",
           "#B6E880",
           "#FF97FF",
           "#FECB52"
          ],
          "font": {
           "color": "#2a3f5f"
          },
          "geo": {
           "bgcolor": "white",
           "lakecolor": "white",
           "landcolor": "#E5ECF6",
           "showlakes": true,
           "showland": true,
           "subunitcolor": "white"
          },
          "hoverlabel": {
           "align": "left"
          },
          "hovermode": "closest",
          "mapbox": {
           "style": "light"
          },
          "paper_bgcolor": "white",
          "plot_bgcolor": "#E5ECF6",
          "polar": {
           "angularaxis": {
            "gridcolor": "white",
            "linecolor": "white",
            "ticks": ""
           },
           "bgcolor": "#E5ECF6",
           "radialaxis": {
            "gridcolor": "white",
            "linecolor": "white",
            "ticks": ""
           }
          },
          "scene": {
           "xaxis": {
            "backgroundcolor": "#E5ECF6",
            "gridcolor": "white",
            "gridwidth": 2,
            "linecolor": "white",
            "showbackground": true,
            "ticks": "",
            "zerolinecolor": "white"
           },
           "yaxis": {
            "backgroundcolor": "#E5ECF6",
            "gridcolor": "white",
            "gridwidth": 2,
            "linecolor": "white",
            "showbackground": true,
            "ticks": "",
            "zerolinecolor": "white"
           },
           "zaxis": {
            "backgroundcolor": "#E5ECF6",
            "gridcolor": "white",
            "gridwidth": 2,
            "linecolor": "white",
            "showbackground": true,
            "ticks": "",
            "zerolinecolor": "white"
           }
          },
          "shapedefaults": {
           "line": {
            "color": "#2a3f5f"
           }
          },
          "ternary": {
           "aaxis": {
            "gridcolor": "white",
            "linecolor": "white",
            "ticks": ""
           },
           "baxis": {
            "gridcolor": "white",
            "linecolor": "white",
            "ticks": ""
           },
           "bgcolor": "#E5ECF6",
           "caxis": {
            "gridcolor": "white",
            "linecolor": "white",
            "ticks": ""
           }
          },
          "title": {
           "x": 0.05
          },
          "xaxis": {
           "automargin": true,
           "gridcolor": "white",
           "linecolor": "white",
           "ticks": "",
           "title": {
            "standoff": 15
           },
           "zerolinecolor": "white",
           "zerolinewidth": 2
          },
          "yaxis": {
           "automargin": true,
           "gridcolor": "white",
           "linecolor": "white",
           "ticks": "",
           "title": {
            "standoff": 15
           },
           "zerolinecolor": "white",
           "zerolinewidth": 2
          }
         }
        },
        "xaxis": {
         "anchor": "y",
         "domain": [
          0,
          1
         ],
         "title": {
          "text": "age"
         }
        },
        "yaxis": {
         "anchor": "x",
         "domain": [
          0,
          1
         ],
         "title": {
          "text": "count"
         }
        }
       }
      }
     },
     "metadata": {},
     "output_type": "display_data"
    }
   ],
   "source": [
    "\n",
    "fig = px.histogram(df_iid, x=\"age\",\n",
    "             color='gender_name', barmode='group', color_discrete_sequence=[\"#F78FE4\", \"#1179f0\"])\n",
    "fig.show()"
   ]
  },
  {
   "attachments": {},
   "cell_type": "markdown",
   "metadata": {},
   "source": [
    "Education field:"
   ]
  },
  {
   "cell_type": "code",
   "execution_count": 15,
   "metadata": {},
   "outputs": [
    {
     "data": {
      "text/plain": [
       "195"
      ]
     },
     "execution_count": 15,
     "metadata": {},
     "output_type": "execute_result"
    }
   ],
   "source": [
    "len(df.columns)"
   ]
  },
  {
   "cell_type": "code",
   "execution_count": 16,
   "metadata": {},
   "outputs": [
    {
     "data": {
      "text/plain": [
       "188"
      ]
     },
     "execution_count": 16,
     "metadata": {},
     "output_type": "execute_result"
    }
   ],
   "source": [
    "len(df_iid.columns)"
   ]
  },
  {
   "attachments": {},
   "cell_type": "markdown",
   "metadata": {},
   "source": [
    "The initial dataset contained columns \"field\" and \"field_cd\". After groupby, only the numerical columns were left in the new dataframe, so I decided to recreate a column containing the name of the field of study."
   ]
  },
  {
   "cell_type": "code",
   "execution_count": 17,
   "metadata": {},
   "outputs": [],
   "source": [
    "df_iid['field_name'] = df_iid[\"field_cd\"].apply(lambda x: \"Law\" if x == 1 \n",
    "                                                    else \"Math\" if x == 2 \n",
    "                                                    else \"Social Science / Psychology\" if x == 3 \n",
    "                                                    else \"Medical Science / Pharma / Biotech\" if x == 4 \n",
    "                                                    else \"Engineering\" if x==5\n",
    "                                                    else \"English / Creative Writing / Journalism\" if x == 6 \n",
    "                                                    else \"History / Religion / Philosopy\" if x == 7 \n",
    "                                                    else \"Business / Economy / Finance\" if x == 8 \n",
    "                                                    else \"Education, Academia\" if x==9\n",
    "                                                    else \"Biology / Chemistry / Physics\" if x==10\n",
    "                                                    else \"Social Work\" if x == 11\n",
    "                                                    else \"Undergrad / Undecided\" if x == 12 \n",
    "                                                    else \"Political Science and International Affairs\" if x == 13 \n",
    "                                                    else \"Film\" if x==14\n",
    "                                                    else \"Fine Arts / Arts Administration\" if x == 15 \n",
    "                                                    else \"Languages\" if x == 16\n",
    "                                                    else \"Architecture\" if x==17 \n",
    "                                                    else \"Other\")"
   ]
  },
  {
   "attachments": {},
   "cell_type": "markdown",
   "metadata": {},
   "source": [
    "To have a more general view of the participants in the study, I wanted to: \n",
    "1) Regroup some fields of study chosen by the authors of the experiment into more general categories. I chose to group them according to the system used by the French ONISEP (\"Office national d'information sur les enseignements et les professions\") so that the categores are more understandable for a reader from France.\n",
    "2) For each of the fields that were obtained in this manner, percentage of male and female students was calculated."
   ]
  },
  {
   "cell_type": "code",
   "execution_count": 18,
   "metadata": {},
   "outputs": [],
   "source": [
    "df_iid['field_name'] = df_iid[\"field_cd\"].apply(lambda x: \"Law\" if x == 1 \n",
    "                                                    else \"Math\" if x == 2 \n",
    "                                                    else \"Social Science / Psychology\" if x == 3 \n",
    "                                                    else \"Medical Science / Pharma / Biotech\" if x == 4 \n",
    "                                                    else \"Engineering\" if x==5\n",
    "                                                    else \"English / Creative Writing / Journalism\" if x == 6 \n",
    "                                                    else \"History / Religion / Philosopy\" if x == 7 \n",
    "                                                    else \"Business / Economy / Finance\" if x == 8 \n",
    "                                                    else \"Education, Academia\" if x==9\n",
    "                                                    else \"Biology / Chemistry / Physics\" if x==10\n",
    "                                                    else \"Social Work\" if x == 11\n",
    "                                                    else \"Undergrad / Undecided\" if x == 12 \n",
    "                                                    else \"Political Science and International Affairs\" if x==13 \n",
    "                                                    else \"Film\" if x==14\n",
    "                                                    else \"Fine Arts / Arts Administration\" if x==15 \n",
    "                                                    else \"Languages\" if x == 16\n",
    "                                                    else \"Architecture\" if x==17 \n",
    "                                                    else \"Other\")"
   ]
  },
  {
   "cell_type": "code",
   "execution_count": 19,
   "metadata": {},
   "outputs": [],
   "source": [
    "df_iid['domain_of_study'] = df_iid[\"field_cd\"].apply(lambda x: \"Arts\" if x==14 or x==15\n",
    "                                                    else \"Economy and Management\" if x==8\n",
    "                                                    else \"Sciences\" if x==2 or x==5 or x ==10\n",
    "                                                    else \"Medicine, Pharma, Biotech\" if x==4\n",
    "                                                    else \"Education, Academia\" if x==9\n",
    "                                                    else \"Law and Political Science\" if x==1 or x==13\n",
    "                                                    else \"Literature and Languages\" if x==6 or x ==16\n",
    "                                                    else \"Social Sciences, Humanities, Psychology\" if x==3 or x==7\n",
    "                                                    else \"Education, Academia\" if x==9\n",
    "                                                    else \"Social Work\" if x==11\n",
    "                                                    else \"Architecture\" if x==17\n",
    "                                                    else \"Undergrad / Undecided\" if x==12\n",
    "                                                    else \"Other\")"
   ]
  },
  {
   "cell_type": "code",
   "execution_count": 20,
   "metadata": {},
   "outputs": [
    {
     "data": {
      "application/vnd.plotly.v1+json": {
       "config": {
        "plotlyServerURL": "https://plot.ly"
       },
       "data": [
        {
         "alignmentgroup": "True",
         "bingroup": "y",
         "hovertemplate": "count=%{x}<br>domain_of_study=%{y}<extra></extra>",
         "legendgroup": "",
         "marker": {
          "color": "#636efa",
          "opacity": 0.75
         },
         "name": "",
         "offsetgroup": "",
         "orientation": "h",
         "showlegend": false,
         "type": "histogram",
         "xaxis": "x",
         "y": [
          "Law and Political Science",
          "Law and Political Science",
          "Sciences",
          "Law and Political Science",
          "Law and Political Science",
          "Law and Political Science",
          "Law and Political Science",
          "Law and Political Science",
          "Law and Political Science",
          "Law and Political Science",
          "Economy and Management",
          "Law and Political Science",
          "Law and Political Science",
          "Law and Political Science",
          "Law and Political Science",
          "Economy and Management",
          "Law and Political Science",
          "Economy and Management",
          "Economy and Management",
          "Economy and Management",
          "Sciences",
          "Education, Academia",
          "Social Sciences, Humanities, Psychology",
          "Social Work",
          "Social Work",
          "Social Work",
          "Social Sciences, Humanities, Psychology",
          "Social Sciences, Humanities, Psychology",
          "Social Work",
          "Law and Political Science",
          "Law and Political Science",
          "Social Sciences, Humanities, Psychology",
          "Social Sciences, Humanities, Psychology",
          "Economy and Management",
          "Sciences",
          "Sciences",
          "Social Sciences, Humanities, Psychology",
          "Law and Political Science",
          "Law and Political Science",
          "Other",
          "Law and Political Science",
          "Sciences",
          "Economy and Management",
          "Social Sciences, Humanities, Psychology",
          "Economy and Management",
          "Economy and Management",
          "Economy and Management",
          "Undergrad / Undecided",
          "Economy and Management",
          "Law and Political Science",
          "Law and Political Science",
          "Law and Political Science",
          "Medicine, Pharma, Biotech",
          "Economy and Management",
          "Law and Political Science",
          "Social Work",
          "Social Work",
          "Other",
          "Other",
          "Social Sciences, Humanities, Psychology",
          "Social Sciences, Humanities, Psychology",
          "Law and Political Science",
          "Law and Political Science",
          "Social Work",
          "Social Work",
          "Economy and Management",
          "Law and Political Science",
          "Literature and Languages",
          "Economy and Management",
          "Economy and Management",
          "Law and Political Science",
          "Sciences",
          "Economy and Management",
          "Sciences",
          "Law and Political Science",
          "Literature and Languages",
          "Social Work",
          "Social Work",
          "Sciences",
          "Sciences",
          "Literature and Languages",
          "Education, Academia",
          "Economy and Management",
          "Sciences",
          "Social Work",
          "Social Sciences, Humanities, Psychology",
          "Social Work",
          "Social Work",
          "Economy and Management",
          "Sciences",
          "Law and Political Science",
          "Education, Academia",
          "Sciences",
          "Economy and Management",
          "Economy and Management",
          "Sciences",
          "Sciences",
          "Social Work",
          "Law and Political Science",
          "Economy and Management",
          "Economy and Management",
          "Sciences",
          "Economy and Management",
          "Sciences",
          "Law and Political Science",
          "Law and Political Science",
          "Social Sciences, Humanities, Psychology",
          "Sciences",
          "Arts",
          "Arts",
          "Economy and Management",
          "Social Sciences, Humanities, Psychology",
          "Economy and Management",
          "Economy and Management",
          "Social Sciences, Humanities, Psychology",
          "Law and Political Science",
          "Economy and Management",
          "Literature and Languages",
          "Literature and Languages",
          "Social Sciences, Humanities, Psychology",
          "Law and Political Science",
          "Sciences",
          "Economy and Management",
          "Medicine, Pharma, Biotech",
          "Social Sciences, Humanities, Psychology",
          "Sciences",
          "Sciences",
          "Economy and Management",
          "Sciences",
          "Sciences",
          "Economy and Management",
          "Sciences",
          "Sciences",
          "Social Sciences, Humanities, Psychology",
          "Other",
          "Economy and Management",
          "Economy and Management",
          "Sciences",
          "Economy and Management",
          "Economy and Management",
          "Law and Political Science",
          "Law and Political Science",
          "Sciences",
          "Sciences",
          "Literature and Languages",
          "Economy and Management",
          "Economy and Management",
          "Law and Political Science",
          "Social Sciences, Humanities, Psychology",
          "Law and Political Science",
          "Law and Political Science",
          "Social Sciences, Humanities, Psychology",
          "Economy and Management",
          "Economy and Management",
          "Economy and Management",
          "Economy and Management",
          "Sciences",
          "Sciences",
          "Economy and Management",
          "Sciences",
          "Sciences",
          "Education, Academia",
          "Social Sciences, Humanities, Psychology",
          "Law and Political Science",
          "Economy and Management",
          "Sciences",
          "Sciences",
          "Sciences",
          "Sciences",
          "Economy and Management",
          "Economy and Management",
          "Sciences",
          "Economy and Management",
          "Law and Political Science",
          "Economy and Management",
          "Law and Political Science",
          "Social Sciences, Humanities, Psychology",
          "Literature and Languages",
          "Economy and Management",
          "Medicine, Pharma, Biotech",
          "Medicine, Pharma, Biotech",
          "Social Work",
          "Economy and Management",
          "Sciences",
          "Sciences",
          "Economy and Management",
          "Sciences",
          "Law and Political Science",
          "Law and Political Science",
          "Economy and Management",
          "Economy and Management",
          "Law and Political Science",
          "Social Sciences, Humanities, Psychology",
          "Sciences",
          "Social Sciences, Humanities, Psychology",
          "Law and Political Science",
          "Law and Political Science",
          "Social Sciences, Humanities, Psychology",
          "Economy and Management",
          "Economy and Management",
          "Sciences",
          "Sciences",
          "Economy and Management",
          "Sciences",
          "Economy and Management",
          "Sciences",
          "Sciences",
          "Law and Political Science",
          "Sciences",
          "Law and Political Science",
          "Economy and Management",
          "Law and Political Science",
          "Sciences",
          "Economy and Management",
          "Economy and Management",
          "Sciences",
          "Sciences",
          "Economy and Management",
          "Law and Political Science",
          "Economy and Management",
          "Sciences",
          "Social Sciences, Humanities, Psychology",
          "Social Sciences, Humanities, Psychology",
          "Economy and Management",
          "Economy and Management",
          "Economy and Management",
          "Sciences",
          "Sciences",
          "Law and Political Science",
          "Law and Political Science",
          "Law and Political Science",
          "Law and Political Science",
          "Social Sciences, Humanities, Psychology",
          "Education, Academia",
          "Sciences",
          "Social Sciences, Humanities, Psychology",
          "Arts",
          "Sciences",
          "Economy and Management",
          "Economy and Management",
          "Social Sciences, Humanities, Psychology",
          "Literature and Languages",
          "Economy and Management",
          "Social Sciences, Humanities, Psychology",
          "Sciences",
          "Sciences",
          "Economy and Management",
          "Economy and Management",
          "Literature and Languages",
          "Social Sciences, Humanities, Psychology",
          "Law and Political Science",
          "Social Sciences, Humanities, Psychology",
          "Social Sciences, Humanities, Psychology",
          "Sciences",
          "Medicine, Pharma, Biotech",
          "Education, Academia",
          "Education, Academia",
          "Sciences",
          "Sciences",
          "Sciences",
          "Social Sciences, Humanities, Psychology",
          "Social Sciences, Humanities, Psychology",
          "Literature and Languages",
          "Law and Political Science",
          "Literature and Languages",
          "Sciences",
          "Medicine, Pharma, Biotech",
          "Social Sciences, Humanities, Psychology",
          "Sciences",
          "Social Work",
          "Social Work",
          "Sciences",
          "Social Sciences, Humanities, Psychology",
          "Sciences",
          "Sciences",
          "Sciences",
          "Sciences",
          "Sciences",
          "Sciences",
          "Social Sciences, Humanities, Psychology",
          "Sciences",
          "Sciences",
          "Economy and Management",
          "Sciences",
          "Sciences",
          "Law and Political Science",
          "Social Sciences, Humanities, Psychology",
          "Economy and Management",
          "Sciences",
          "Sciences",
          "Law and Political Science",
          "Economy and Management",
          "Education, Academia",
          "Education, Academia",
          "Education, Academia",
          "Education, Academia",
          "Literature and Languages",
          "Social Work",
          "Social Sciences, Humanities, Psychology",
          "Education, Academia",
          "Social Sciences, Humanities, Psychology",
          "Education, Academia",
          "Social Sciences, Humanities, Psychology",
          "Education, Academia",
          "Education, Academia",
          "Education, Academia",
          "Education, Academia",
          "Education, Academia",
          "Sciences",
          "Economy and Management",
          "Arts",
          "Economy and Management",
          "Law and Political Science",
          "Sciences",
          "Economy and Management",
          "Economy and Management",
          "Economy and Management",
          "Education, Academia",
          "Social Sciences, Humanities, Psychology",
          "Economy and Management",
          "Social Sciences, Humanities, Psychology",
          "Sciences",
          "Social Sciences, Humanities, Psychology",
          "Social Sciences, Humanities, Psychology",
          "Education, Academia",
          "Law and Political Science",
          "Education, Academia",
          "Education, Academia",
          "Sciences",
          "Education, Academia",
          "Social Sciences, Humanities, Psychology",
          "Economy and Management",
          "Economy and Management",
          "Social Sciences, Humanities, Psychology",
          "Architecture",
          "Sciences",
          "Sciences",
          "Other",
          "Other",
          "Law and Political Science",
          "Education, Academia",
          "Sciences",
          "Law and Political Science",
          "Sciences",
          "Other",
          "Education, Academia",
          "Education, Academia",
          "Social Sciences, Humanities, Psychology",
          "Sciences",
          "Education, Academia",
          "Education, Academia",
          "Education, Academia",
          "Social Sciences, Humanities, Psychology",
          "Social Sciences, Humanities, Psychology",
          "Social Sciences, Humanities, Psychology",
          "Education, Academia",
          "Economy and Management",
          "Literature and Languages",
          "Social Sciences, Humanities, Psychology",
          "Law and Political Science",
          "Law and Political Science",
          "Sciences",
          "Economy and Management",
          "Economy and Management",
          "Economy and Management",
          "Law and Political Science",
          "Law and Political Science",
          "Social Sciences, Humanities, Psychology",
          "Economy and Management",
          "Economy and Management",
          "Economy and Management",
          "Economy and Management",
          "Economy and Management",
          "Economy and Management",
          "Economy and Management",
          "Economy and Management",
          "Economy and Management",
          "Economy and Management",
          "Arts",
          "Arts",
          "Arts",
          "Education, Academia",
          "Education, Academia",
          "Education, Academia",
          "Social Sciences, Humanities, Psychology",
          "Social Sciences, Humanities, Psychology",
          "Social Sciences, Humanities, Psychology",
          "Law and Political Science",
          "Education, Academia",
          "Literature and Languages",
          "Literature and Languages",
          "Literature and Languages",
          "Literature and Languages",
          "Literature and Languages",
          "Arts",
          "Law and Political Science",
          "Economy and Management",
          "Economy and Management",
          "Economy and Management",
          "Economy and Management",
          "Sciences",
          "Sciences",
          "Sciences",
          "Law and Political Science",
          "Economy and Management",
          "Arts",
          "Law and Political Science",
          "Sciences",
          "Economy and Management",
          "Economy and Management",
          "Economy and Management",
          "Economy and Management",
          "Economy and Management",
          "Economy and Management",
          "Social Sciences, Humanities, Psychology",
          "Social Sciences, Humanities, Psychology",
          "Law and Political Science",
          "Social Work",
          "Social Work",
          "Social Work",
          "Economy and Management",
          "Economy and Management",
          "Sciences",
          "Economy and Management",
          "Economy and Management",
          "Law and Political Science",
          "Economy and Management",
          "Economy and Management",
          "Education, Academia",
          "Education, Academia",
          "Social Work",
          "Arts",
          "Social Work",
          "Law and Political Science",
          "Law and Political Science",
          "Social Work",
          "Social Work",
          "Education, Academia",
          "Law and Political Science",
          "Law and Political Science",
          "Law and Political Science",
          "Law and Political Science",
          "Economy and Management",
          "Law and Political Science",
          "Economy and Management",
          "Law and Political Science",
          "Law and Political Science",
          "Law and Political Science",
          "Law and Political Science",
          "Economy and Management",
          "Economy and Management",
          "Law and Political Science",
          "Arts",
          "Sciences",
          "Economy and Management",
          "Literature and Languages",
          "Economy and Management",
          "Economy and Management",
          "Social Sciences, Humanities, Psychology",
          "Sciences",
          "Sciences",
          "Sciences",
          "Economy and Management",
          "Social Sciences, Humanities, Psychology",
          "Other",
          "Economy and Management",
          "Law and Political Science",
          "Law and Political Science",
          "Medicine, Pharma, Biotech",
          "Medicine, Pharma, Biotech",
          "Sciences",
          "Sciences",
          "Sciences",
          "Law and Political Science",
          "Law and Political Science",
          "Sciences",
          "Law and Political Science",
          "Law and Political Science",
          "Sciences",
          "Education, Academia",
          "Economy and Management",
          "Social Sciences, Humanities, Psychology",
          "Other",
          "Social Sciences, Humanities, Psychology",
          "Sciences",
          "Literature and Languages",
          "Economy and Management",
          "Economy and Management",
          "Arts",
          "Economy and Management",
          "Sciences",
          "Law and Political Science",
          "Literature and Languages",
          "Arts",
          "Sciences",
          "Sciences",
          "Sciences",
          "Sciences",
          "Sciences",
          "Sciences",
          "Sciences",
          "Sciences",
          "Sciences",
          "Literature and Languages",
          "Sciences",
          "Sciences",
          "Sciences",
          "Literature and Languages",
          "Economy and Management",
          "Sciences",
          "Arts",
          "Arts",
          "Social Sciences, Humanities, Psychology",
          "Literature and Languages",
          "Sciences",
          "Arts",
          "Arts",
          "Education, Academia",
          "Social Work",
          "Social Work",
          "Law and Political Science",
          "Education, Academia",
          "Medicine, Pharma, Biotech",
          "Arts",
          "Social Work",
          "Social Work",
          "Social Work",
          "Sciences",
          "Sciences",
          "Sciences",
          "Sciences",
          "Sciences",
          "Sciences",
          "Sciences",
          "Sciences",
          "Sciences",
          "Sciences",
          "Law and Political Science",
          "Sciences",
          "Sciences",
          "Sciences",
          "Sciences",
          "Sciences",
          "Sciences",
          "Economy and Management",
          "Economy and Management",
          "Economy and Management",
          "Economy and Management",
          "Economy and Management",
          "Economy and Management",
          "Other"
         ],
         "yaxis": "y"
        }
       ],
       "layout": {
        "barmode": "relative",
        "legend": {
         "tracegroupgap": 0
        },
        "margin": {
         "t": 60
        },
        "template": {
         "data": {
          "bar": [
           {
            "error_x": {
             "color": "#2a3f5f"
            },
            "error_y": {
             "color": "#2a3f5f"
            },
            "marker": {
             "line": {
              "color": "#E5ECF6",
              "width": 0.5
             }
            },
            "type": "bar"
           }
          ],
          "barpolar": [
           {
            "marker": {
             "line": {
              "color": "#E5ECF6",
              "width": 0.5
             }
            },
            "type": "barpolar"
           }
          ],
          "carpet": [
           {
            "aaxis": {
             "endlinecolor": "#2a3f5f",
             "gridcolor": "white",
             "linecolor": "white",
             "minorgridcolor": "white",
             "startlinecolor": "#2a3f5f"
            },
            "baxis": {
             "endlinecolor": "#2a3f5f",
             "gridcolor": "white",
             "linecolor": "white",
             "minorgridcolor": "white",
             "startlinecolor": "#2a3f5f"
            },
            "type": "carpet"
           }
          ],
          "choropleth": [
           {
            "colorbar": {
             "outlinewidth": 0,
             "ticks": ""
            },
            "type": "choropleth"
           }
          ],
          "contour": [
           {
            "colorbar": {
             "outlinewidth": 0,
             "ticks": ""
            },
            "colorscale": [
             [
              0,
              "#0d0887"
             ],
             [
              0.1111111111111111,
              "#46039f"
             ],
             [
              0.2222222222222222,
              "#7201a8"
             ],
             [
              0.3333333333333333,
              "#9c179e"
             ],
             [
              0.4444444444444444,
              "#bd3786"
             ],
             [
              0.5555555555555556,
              "#d8576b"
             ],
             [
              0.6666666666666666,
              "#ed7953"
             ],
             [
              0.7777777777777778,
              "#fb9f3a"
             ],
             [
              0.8888888888888888,
              "#fdca26"
             ],
             [
              1,
              "#f0f921"
             ]
            ],
            "type": "contour"
           }
          ],
          "contourcarpet": [
           {
            "colorbar": {
             "outlinewidth": 0,
             "ticks": ""
            },
            "type": "contourcarpet"
           }
          ],
          "heatmap": [
           {
            "colorbar": {
             "outlinewidth": 0,
             "ticks": ""
            },
            "colorscale": [
             [
              0,
              "#0d0887"
             ],
             [
              0.1111111111111111,
              "#46039f"
             ],
             [
              0.2222222222222222,
              "#7201a8"
             ],
             [
              0.3333333333333333,
              "#9c179e"
             ],
             [
              0.4444444444444444,
              "#bd3786"
             ],
             [
              0.5555555555555556,
              "#d8576b"
             ],
             [
              0.6666666666666666,
              "#ed7953"
             ],
             [
              0.7777777777777778,
              "#fb9f3a"
             ],
             [
              0.8888888888888888,
              "#fdca26"
             ],
             [
              1,
              "#f0f921"
             ]
            ],
            "type": "heatmap"
           }
          ],
          "heatmapgl": [
           {
            "colorbar": {
             "outlinewidth": 0,
             "ticks": ""
            },
            "colorscale": [
             [
              0,
              "#0d0887"
             ],
             [
              0.1111111111111111,
              "#46039f"
             ],
             [
              0.2222222222222222,
              "#7201a8"
             ],
             [
              0.3333333333333333,
              "#9c179e"
             ],
             [
              0.4444444444444444,
              "#bd3786"
             ],
             [
              0.5555555555555556,
              "#d8576b"
             ],
             [
              0.6666666666666666,
              "#ed7953"
             ],
             [
              0.7777777777777778,
              "#fb9f3a"
             ],
             [
              0.8888888888888888,
              "#fdca26"
             ],
             [
              1,
              "#f0f921"
             ]
            ],
            "type": "heatmapgl"
           }
          ],
          "histogram": [
           {
            "marker": {
             "colorbar": {
              "outlinewidth": 0,
              "ticks": ""
             }
            },
            "type": "histogram"
           }
          ],
          "histogram2d": [
           {
            "colorbar": {
             "outlinewidth": 0,
             "ticks": ""
            },
            "colorscale": [
             [
              0,
              "#0d0887"
             ],
             [
              0.1111111111111111,
              "#46039f"
             ],
             [
              0.2222222222222222,
              "#7201a8"
             ],
             [
              0.3333333333333333,
              "#9c179e"
             ],
             [
              0.4444444444444444,
              "#bd3786"
             ],
             [
              0.5555555555555556,
              "#d8576b"
             ],
             [
              0.6666666666666666,
              "#ed7953"
             ],
             [
              0.7777777777777778,
              "#fb9f3a"
             ],
             [
              0.8888888888888888,
              "#fdca26"
             ],
             [
              1,
              "#f0f921"
             ]
            ],
            "type": "histogram2d"
           }
          ],
          "histogram2dcontour": [
           {
            "colorbar": {
             "outlinewidth": 0,
             "ticks": ""
            },
            "colorscale": [
             [
              0,
              "#0d0887"
             ],
             [
              0.1111111111111111,
              "#46039f"
             ],
             [
              0.2222222222222222,
              "#7201a8"
             ],
             [
              0.3333333333333333,
              "#9c179e"
             ],
             [
              0.4444444444444444,
              "#bd3786"
             ],
             [
              0.5555555555555556,
              "#d8576b"
             ],
             [
              0.6666666666666666,
              "#ed7953"
             ],
             [
              0.7777777777777778,
              "#fb9f3a"
             ],
             [
              0.8888888888888888,
              "#fdca26"
             ],
             [
              1,
              "#f0f921"
             ]
            ],
            "type": "histogram2dcontour"
           }
          ],
          "mesh3d": [
           {
            "colorbar": {
             "outlinewidth": 0,
             "ticks": ""
            },
            "type": "mesh3d"
           }
          ],
          "parcoords": [
           {
            "line": {
             "colorbar": {
              "outlinewidth": 0,
              "ticks": ""
             }
            },
            "type": "parcoords"
           }
          ],
          "pie": [
           {
            "automargin": true,
            "type": "pie"
           }
          ],
          "scatter": [
           {
            "marker": {
             "colorbar": {
              "outlinewidth": 0,
              "ticks": ""
             }
            },
            "type": "scatter"
           }
          ],
          "scatter3d": [
           {
            "line": {
             "colorbar": {
              "outlinewidth": 0,
              "ticks": ""
             }
            },
            "marker": {
             "colorbar": {
              "outlinewidth": 0,
              "ticks": ""
             }
            },
            "type": "scatter3d"
           }
          ],
          "scattercarpet": [
           {
            "marker": {
             "colorbar": {
              "outlinewidth": 0,
              "ticks": ""
             }
            },
            "type": "scattercarpet"
           }
          ],
          "scattergeo": [
           {
            "marker": {
             "colorbar": {
              "outlinewidth": 0,
              "ticks": ""
             }
            },
            "type": "scattergeo"
           }
          ],
          "scattergl": [
           {
            "marker": {
             "colorbar": {
              "outlinewidth": 0,
              "ticks": ""
             }
            },
            "type": "scattergl"
           }
          ],
          "scattermapbox": [
           {
            "marker": {
             "colorbar": {
              "outlinewidth": 0,
              "ticks": ""
             }
            },
            "type": "scattermapbox"
           }
          ],
          "scatterpolar": [
           {
            "marker": {
             "colorbar": {
              "outlinewidth": 0,
              "ticks": ""
             }
            },
            "type": "scatterpolar"
           }
          ],
          "scatterpolargl": [
           {
            "marker": {
             "colorbar": {
              "outlinewidth": 0,
              "ticks": ""
             }
            },
            "type": "scatterpolargl"
           }
          ],
          "scatterternary": [
           {
            "marker": {
             "colorbar": {
              "outlinewidth": 0,
              "ticks": ""
             }
            },
            "type": "scatterternary"
           }
          ],
          "surface": [
           {
            "colorbar": {
             "outlinewidth": 0,
             "ticks": ""
            },
            "colorscale": [
             [
              0,
              "#0d0887"
             ],
             [
              0.1111111111111111,
              "#46039f"
             ],
             [
              0.2222222222222222,
              "#7201a8"
             ],
             [
              0.3333333333333333,
              "#9c179e"
             ],
             [
              0.4444444444444444,
              "#bd3786"
             ],
             [
              0.5555555555555556,
              "#d8576b"
             ],
             [
              0.6666666666666666,
              "#ed7953"
             ],
             [
              0.7777777777777778,
              "#fb9f3a"
             ],
             [
              0.8888888888888888,
              "#fdca26"
             ],
             [
              1,
              "#f0f921"
             ]
            ],
            "type": "surface"
           }
          ],
          "table": [
           {
            "cells": {
             "fill": {
              "color": "#EBF0F8"
             },
             "line": {
              "color": "white"
             }
            },
            "header": {
             "fill": {
              "color": "#C8D4E3"
             },
             "line": {
              "color": "white"
             }
            },
            "type": "table"
           }
          ]
         },
         "layout": {
          "annotationdefaults": {
           "arrowcolor": "#2a3f5f",
           "arrowhead": 0,
           "arrowwidth": 1
          },
          "coloraxis": {
           "colorbar": {
            "outlinewidth": 0,
            "ticks": ""
           }
          },
          "colorscale": {
           "diverging": [
            [
             0,
             "#8e0152"
            ],
            [
             0.1,
             "#c51b7d"
            ],
            [
             0.2,
             "#de77ae"
            ],
            [
             0.3,
             "#f1b6da"
            ],
            [
             0.4,
             "#fde0ef"
            ],
            [
             0.5,
             "#f7f7f7"
            ],
            [
             0.6,
             "#e6f5d0"
            ],
            [
             0.7,
             "#b8e186"
            ],
            [
             0.8,
             "#7fbc41"
            ],
            [
             0.9,
             "#4d9221"
            ],
            [
             1,
             "#276419"
            ]
           ],
           "sequential": [
            [
             0,
             "#0d0887"
            ],
            [
             0.1111111111111111,
             "#46039f"
            ],
            [
             0.2222222222222222,
             "#7201a8"
            ],
            [
             0.3333333333333333,
             "#9c179e"
            ],
            [
             0.4444444444444444,
             "#bd3786"
            ],
            [
             0.5555555555555556,
             "#d8576b"
            ],
            [
             0.6666666666666666,
             "#ed7953"
            ],
            [
             0.7777777777777778,
             "#fb9f3a"
            ],
            [
             0.8888888888888888,
             "#fdca26"
            ],
            [
             1,
             "#f0f921"
            ]
           ],
           "sequentialminus": [
            [
             0,
             "#0d0887"
            ],
            [
             0.1111111111111111,
             "#46039f"
            ],
            [
             0.2222222222222222,
             "#7201a8"
            ],
            [
             0.3333333333333333,
             "#9c179e"
            ],
            [
             0.4444444444444444,
             "#bd3786"
            ],
            [
             0.5555555555555556,
             "#d8576b"
            ],
            [
             0.6666666666666666,
             "#ed7953"
            ],
            [
             0.7777777777777778,
             "#fb9f3a"
            ],
            [
             0.8888888888888888,
             "#fdca26"
            ],
            [
             1,
             "#f0f921"
            ]
           ]
          },
          "colorway": [
           "#636efa",
           "#EF553B",
           "#00cc96",
           "#ab63fa",
           "#FFA15A",
           "#19d3f3",
           "#FF6692",
           "#B6E880",
           "#FF97FF",
           "#FECB52"
          ],
          "font": {
           "color": "#2a3f5f"
          },
          "geo": {
           "bgcolor": "white",
           "lakecolor": "white",
           "landcolor": "#E5ECF6",
           "showlakes": true,
           "showland": true,
           "subunitcolor": "white"
          },
          "hoverlabel": {
           "align": "left"
          },
          "hovermode": "closest",
          "mapbox": {
           "style": "light"
          },
          "paper_bgcolor": "white",
          "plot_bgcolor": "#E5ECF6",
          "polar": {
           "angularaxis": {
            "gridcolor": "white",
            "linecolor": "white",
            "ticks": ""
           },
           "bgcolor": "#E5ECF6",
           "radialaxis": {
            "gridcolor": "white",
            "linecolor": "white",
            "ticks": ""
           }
          },
          "scene": {
           "xaxis": {
            "backgroundcolor": "#E5ECF6",
            "gridcolor": "white",
            "gridwidth": 2,
            "linecolor": "white",
            "showbackground": true,
            "ticks": "",
            "zerolinecolor": "white"
           },
           "yaxis": {
            "backgroundcolor": "#E5ECF6",
            "gridcolor": "white",
            "gridwidth": 2,
            "linecolor": "white",
            "showbackground": true,
            "ticks": "",
            "zerolinecolor": "white"
           },
           "zaxis": {
            "backgroundcolor": "#E5ECF6",
            "gridcolor": "white",
            "gridwidth": 2,
            "linecolor": "white",
            "showbackground": true,
            "ticks": "",
            "zerolinecolor": "white"
           }
          },
          "shapedefaults": {
           "line": {
            "color": "#2a3f5f"
           }
          },
          "ternary": {
           "aaxis": {
            "gridcolor": "white",
            "linecolor": "white",
            "ticks": ""
           },
           "baxis": {
            "gridcolor": "white",
            "linecolor": "white",
            "ticks": ""
           },
           "bgcolor": "#E5ECF6",
           "caxis": {
            "gridcolor": "white",
            "linecolor": "white",
            "ticks": ""
           }
          },
          "title": {
           "x": 0.05
          },
          "xaxis": {
           "automargin": true,
           "gridcolor": "white",
           "linecolor": "white",
           "ticks": "",
           "title": {
            "standoff": 15
           },
           "zerolinecolor": "white",
           "zerolinewidth": 2
          },
          "yaxis": {
           "automargin": true,
           "gridcolor": "white",
           "linecolor": "white",
           "ticks": "",
           "title": {
            "standoff": 15
           },
           "zerolinecolor": "white",
           "zerolinewidth": 2
          }
         }
        },
        "xaxis": {
         "anchor": "y",
         "domain": [
          0,
          1
         ],
         "title": {
          "text": "count"
         }
        },
        "yaxis": {
         "anchor": "x",
         "categoryorder": "total ascending",
         "domain": [
          0,
          1
         ],
         "title": {
          "text": "domain_of_study"
         }
        }
       }
      }
     },
     "metadata": {},
     "output_type": "display_data"
    }
   ],
   "source": [
    "fig = px.histogram(df_iid, y=\"domain_of_study\", opacity = 0.75).update_yaxes(categoryorder = \"total ascending\")\n",
    "fig.show()"
   ]
  },
  {
   "cell_type": "code",
   "execution_count": 21,
   "metadata": {},
   "outputs": [
    {
     "data": {
      "application/vnd.plotly.v1+json": {
       "config": {
        "plotlyServerURL": "https://plot.ly"
       },
       "data": [
        {
         "alignmentgroup": "True",
         "bingroup": "y",
         "histnorm": "percent",
         "hovertemplate": "count=%{x}<br>domain_of_study=%{y}<extra></extra>",
         "legendgroup": "",
         "marker": {
          "color": "#636efa",
          "opacity": 0.75
         },
         "name": "",
         "offsetgroup": "",
         "orientation": "h",
         "showlegend": false,
         "type": "histogram",
         "xaxis": "x",
         "y": [
          "Law and Political Science",
          "Law and Political Science",
          "Sciences",
          "Law and Political Science",
          "Law and Political Science",
          "Law and Political Science",
          "Law and Political Science",
          "Law and Political Science",
          "Law and Political Science",
          "Law and Political Science",
          "Economy and Management",
          "Law and Political Science",
          "Law and Political Science",
          "Law and Political Science",
          "Law and Political Science",
          "Economy and Management",
          "Law and Political Science",
          "Economy and Management",
          "Economy and Management",
          "Economy and Management",
          "Sciences",
          "Education, Academia",
          "Social Sciences, Humanities, Psychology",
          "Social Work",
          "Social Work",
          "Social Work",
          "Social Sciences, Humanities, Psychology",
          "Social Sciences, Humanities, Psychology",
          "Social Work",
          "Law and Political Science",
          "Law and Political Science",
          "Social Sciences, Humanities, Psychology",
          "Social Sciences, Humanities, Psychology",
          "Economy and Management",
          "Sciences",
          "Sciences",
          "Social Sciences, Humanities, Psychology",
          "Law and Political Science",
          "Law and Political Science",
          "Other",
          "Law and Political Science",
          "Sciences",
          "Economy and Management",
          "Social Sciences, Humanities, Psychology",
          "Economy and Management",
          "Economy and Management",
          "Economy and Management",
          "Undergrad / Undecided",
          "Economy and Management",
          "Law and Political Science",
          "Law and Political Science",
          "Law and Political Science",
          "Medicine, Pharma, Biotech",
          "Economy and Management",
          "Law and Political Science",
          "Social Work",
          "Social Work",
          "Other",
          "Other",
          "Social Sciences, Humanities, Psychology",
          "Social Sciences, Humanities, Psychology",
          "Law and Political Science",
          "Law and Political Science",
          "Social Work",
          "Social Work",
          "Economy and Management",
          "Law and Political Science",
          "Literature and Languages",
          "Economy and Management",
          "Economy and Management",
          "Law and Political Science",
          "Sciences",
          "Economy and Management",
          "Sciences",
          "Law and Political Science",
          "Literature and Languages",
          "Social Work",
          "Social Work",
          "Sciences",
          "Sciences",
          "Literature and Languages",
          "Education, Academia",
          "Economy and Management",
          "Sciences",
          "Social Work",
          "Social Sciences, Humanities, Psychology",
          "Social Work",
          "Social Work",
          "Economy and Management",
          "Sciences",
          "Law and Political Science",
          "Education, Academia",
          "Sciences",
          "Economy and Management",
          "Economy and Management",
          "Sciences",
          "Sciences",
          "Social Work",
          "Law and Political Science",
          "Economy and Management",
          "Economy and Management",
          "Sciences",
          "Economy and Management",
          "Sciences",
          "Law and Political Science",
          "Law and Political Science",
          "Social Sciences, Humanities, Psychology",
          "Sciences",
          "Arts",
          "Arts",
          "Economy and Management",
          "Social Sciences, Humanities, Psychology",
          "Economy and Management",
          "Economy and Management",
          "Social Sciences, Humanities, Psychology",
          "Law and Political Science",
          "Economy and Management",
          "Literature and Languages",
          "Literature and Languages",
          "Social Sciences, Humanities, Psychology",
          "Law and Political Science",
          "Sciences",
          "Economy and Management",
          "Medicine, Pharma, Biotech",
          "Social Sciences, Humanities, Psychology",
          "Sciences",
          "Sciences",
          "Economy and Management",
          "Sciences",
          "Sciences",
          "Economy and Management",
          "Sciences",
          "Sciences",
          "Social Sciences, Humanities, Psychology",
          "Other",
          "Economy and Management",
          "Economy and Management",
          "Sciences",
          "Economy and Management",
          "Economy and Management",
          "Law and Political Science",
          "Law and Political Science",
          "Sciences",
          "Sciences",
          "Literature and Languages",
          "Economy and Management",
          "Economy and Management",
          "Law and Political Science",
          "Social Sciences, Humanities, Psychology",
          "Law and Political Science",
          "Law and Political Science",
          "Social Sciences, Humanities, Psychology",
          "Economy and Management",
          "Economy and Management",
          "Economy and Management",
          "Economy and Management",
          "Sciences",
          "Sciences",
          "Economy and Management",
          "Sciences",
          "Sciences",
          "Education, Academia",
          "Social Sciences, Humanities, Psychology",
          "Law and Political Science",
          "Economy and Management",
          "Sciences",
          "Sciences",
          "Sciences",
          "Sciences",
          "Economy and Management",
          "Economy and Management",
          "Sciences",
          "Economy and Management",
          "Law and Political Science",
          "Economy and Management",
          "Law and Political Science",
          "Social Sciences, Humanities, Psychology",
          "Literature and Languages",
          "Economy and Management",
          "Medicine, Pharma, Biotech",
          "Medicine, Pharma, Biotech",
          "Social Work",
          "Economy and Management",
          "Sciences",
          "Sciences",
          "Economy and Management",
          "Sciences",
          "Law and Political Science",
          "Law and Political Science",
          "Economy and Management",
          "Economy and Management",
          "Law and Political Science",
          "Social Sciences, Humanities, Psychology",
          "Sciences",
          "Social Sciences, Humanities, Psychology",
          "Law and Political Science",
          "Law and Political Science",
          "Social Sciences, Humanities, Psychology",
          "Economy and Management",
          "Economy and Management",
          "Sciences",
          "Sciences",
          "Economy and Management",
          "Sciences",
          "Economy and Management",
          "Sciences",
          "Sciences",
          "Law and Political Science",
          "Sciences",
          "Law and Political Science",
          "Economy and Management",
          "Law and Political Science",
          "Sciences",
          "Economy and Management",
          "Economy and Management",
          "Sciences",
          "Sciences",
          "Economy and Management",
          "Law and Political Science",
          "Economy and Management",
          "Sciences",
          "Social Sciences, Humanities, Psychology",
          "Social Sciences, Humanities, Psychology",
          "Economy and Management",
          "Economy and Management",
          "Economy and Management",
          "Sciences",
          "Sciences",
          "Law and Political Science",
          "Law and Political Science",
          "Law and Political Science",
          "Law and Political Science",
          "Social Sciences, Humanities, Psychology",
          "Education, Academia",
          "Sciences",
          "Social Sciences, Humanities, Psychology",
          "Arts",
          "Sciences",
          "Economy and Management",
          "Economy and Management",
          "Social Sciences, Humanities, Psychology",
          "Literature and Languages",
          "Economy and Management",
          "Social Sciences, Humanities, Psychology",
          "Sciences",
          "Sciences",
          "Economy and Management",
          "Economy and Management",
          "Literature and Languages",
          "Social Sciences, Humanities, Psychology",
          "Law and Political Science",
          "Social Sciences, Humanities, Psychology",
          "Social Sciences, Humanities, Psychology",
          "Sciences",
          "Medicine, Pharma, Biotech",
          "Education, Academia",
          "Education, Academia",
          "Sciences",
          "Sciences",
          "Sciences",
          "Social Sciences, Humanities, Psychology",
          "Social Sciences, Humanities, Psychology",
          "Literature and Languages",
          "Law and Political Science",
          "Literature and Languages",
          "Sciences",
          "Medicine, Pharma, Biotech",
          "Social Sciences, Humanities, Psychology",
          "Sciences",
          "Social Work",
          "Social Work",
          "Sciences",
          "Social Sciences, Humanities, Psychology",
          "Sciences",
          "Sciences",
          "Sciences",
          "Sciences",
          "Sciences",
          "Sciences",
          "Social Sciences, Humanities, Psychology",
          "Sciences",
          "Sciences",
          "Economy and Management",
          "Sciences",
          "Sciences",
          "Law and Political Science",
          "Social Sciences, Humanities, Psychology",
          "Economy and Management",
          "Sciences",
          "Sciences",
          "Law and Political Science",
          "Economy and Management",
          "Education, Academia",
          "Education, Academia",
          "Education, Academia",
          "Education, Academia",
          "Literature and Languages",
          "Social Work",
          "Social Sciences, Humanities, Psychology",
          "Education, Academia",
          "Social Sciences, Humanities, Psychology",
          "Education, Academia",
          "Social Sciences, Humanities, Psychology",
          "Education, Academia",
          "Education, Academia",
          "Education, Academia",
          "Education, Academia",
          "Education, Academia",
          "Sciences",
          "Economy and Management",
          "Arts",
          "Economy and Management",
          "Law and Political Science",
          "Sciences",
          "Economy and Management",
          "Economy and Management",
          "Economy and Management",
          "Education, Academia",
          "Social Sciences, Humanities, Psychology",
          "Economy and Management",
          "Social Sciences, Humanities, Psychology",
          "Sciences",
          "Social Sciences, Humanities, Psychology",
          "Social Sciences, Humanities, Psychology",
          "Education, Academia",
          "Law and Political Science",
          "Education, Academia",
          "Education, Academia",
          "Sciences",
          "Education, Academia",
          "Social Sciences, Humanities, Psychology",
          "Economy and Management",
          "Economy and Management",
          "Social Sciences, Humanities, Psychology",
          "Architecture",
          "Sciences",
          "Sciences",
          "Other",
          "Other",
          "Law and Political Science",
          "Education, Academia",
          "Sciences",
          "Law and Political Science",
          "Sciences",
          "Other",
          "Education, Academia",
          "Education, Academia",
          "Social Sciences, Humanities, Psychology",
          "Sciences",
          "Education, Academia",
          "Education, Academia",
          "Education, Academia",
          "Social Sciences, Humanities, Psychology",
          "Social Sciences, Humanities, Psychology",
          "Social Sciences, Humanities, Psychology",
          "Education, Academia",
          "Economy and Management",
          "Literature and Languages",
          "Social Sciences, Humanities, Psychology",
          "Law and Political Science",
          "Law and Political Science",
          "Sciences",
          "Economy and Management",
          "Economy and Management",
          "Economy and Management",
          "Law and Political Science",
          "Law and Political Science",
          "Social Sciences, Humanities, Psychology",
          "Economy and Management",
          "Economy and Management",
          "Economy and Management",
          "Economy and Management",
          "Economy and Management",
          "Economy and Management",
          "Economy and Management",
          "Economy and Management",
          "Economy and Management",
          "Economy and Management",
          "Arts",
          "Arts",
          "Arts",
          "Education, Academia",
          "Education, Academia",
          "Education, Academia",
          "Social Sciences, Humanities, Psychology",
          "Social Sciences, Humanities, Psychology",
          "Social Sciences, Humanities, Psychology",
          "Law and Political Science",
          "Education, Academia",
          "Literature and Languages",
          "Literature and Languages",
          "Literature and Languages",
          "Literature and Languages",
          "Literature and Languages",
          "Arts",
          "Law and Political Science",
          "Economy and Management",
          "Economy and Management",
          "Economy and Management",
          "Economy and Management",
          "Sciences",
          "Sciences",
          "Sciences",
          "Law and Political Science",
          "Economy and Management",
          "Arts",
          "Law and Political Science",
          "Sciences",
          "Economy and Management",
          "Economy and Management",
          "Economy and Management",
          "Economy and Management",
          "Economy and Management",
          "Economy and Management",
          "Social Sciences, Humanities, Psychology",
          "Social Sciences, Humanities, Psychology",
          "Law and Political Science",
          "Social Work",
          "Social Work",
          "Social Work",
          "Economy and Management",
          "Economy and Management",
          "Sciences",
          "Economy and Management",
          "Economy and Management",
          "Law and Political Science",
          "Economy and Management",
          "Economy and Management",
          "Education, Academia",
          "Education, Academia",
          "Social Work",
          "Arts",
          "Social Work",
          "Law and Political Science",
          "Law and Political Science",
          "Social Work",
          "Social Work",
          "Education, Academia",
          "Law and Political Science",
          "Law and Political Science",
          "Law and Political Science",
          "Law and Political Science",
          "Economy and Management",
          "Law and Political Science",
          "Economy and Management",
          "Law and Political Science",
          "Law and Political Science",
          "Law and Political Science",
          "Law and Political Science",
          "Economy and Management",
          "Economy and Management",
          "Law and Political Science",
          "Arts",
          "Sciences",
          "Economy and Management",
          "Literature and Languages",
          "Economy and Management",
          "Economy and Management",
          "Social Sciences, Humanities, Psychology",
          "Sciences",
          "Sciences",
          "Sciences",
          "Economy and Management",
          "Social Sciences, Humanities, Psychology",
          "Other",
          "Economy and Management",
          "Law and Political Science",
          "Law and Political Science",
          "Medicine, Pharma, Biotech",
          "Medicine, Pharma, Biotech",
          "Sciences",
          "Sciences",
          "Sciences",
          "Law and Political Science",
          "Law and Political Science",
          "Sciences",
          "Law and Political Science",
          "Law and Political Science",
          "Sciences",
          "Education, Academia",
          "Economy and Management",
          "Social Sciences, Humanities, Psychology",
          "Other",
          "Social Sciences, Humanities, Psychology",
          "Sciences",
          "Literature and Languages",
          "Economy and Management",
          "Economy and Management",
          "Arts",
          "Economy and Management",
          "Sciences",
          "Law and Political Science",
          "Literature and Languages",
          "Arts",
          "Sciences",
          "Sciences",
          "Sciences",
          "Sciences",
          "Sciences",
          "Sciences",
          "Sciences",
          "Sciences",
          "Sciences",
          "Literature and Languages",
          "Sciences",
          "Sciences",
          "Sciences",
          "Literature and Languages",
          "Economy and Management",
          "Sciences",
          "Arts",
          "Arts",
          "Social Sciences, Humanities, Psychology",
          "Literature and Languages",
          "Sciences",
          "Arts",
          "Arts",
          "Education, Academia",
          "Social Work",
          "Social Work",
          "Law and Political Science",
          "Education, Academia",
          "Medicine, Pharma, Biotech",
          "Arts",
          "Social Work",
          "Social Work",
          "Social Work",
          "Sciences",
          "Sciences",
          "Sciences",
          "Sciences",
          "Sciences",
          "Sciences",
          "Sciences",
          "Sciences",
          "Sciences",
          "Sciences",
          "Law and Political Science",
          "Sciences",
          "Sciences",
          "Sciences",
          "Sciences",
          "Sciences",
          "Sciences",
          "Economy and Management",
          "Economy and Management",
          "Economy and Management",
          "Economy and Management",
          "Economy and Management",
          "Economy and Management",
          "Other"
         ],
         "yaxis": "y"
        }
       ],
       "layout": {
        "barmode": "relative",
        "legend": {
         "tracegroupgap": 0
        },
        "margin": {
         "t": 60
        },
        "template": {
         "data": {
          "bar": [
           {
            "error_x": {
             "color": "#2a3f5f"
            },
            "error_y": {
             "color": "#2a3f5f"
            },
            "marker": {
             "line": {
              "color": "#E5ECF6",
              "width": 0.5
             }
            },
            "type": "bar"
           }
          ],
          "barpolar": [
           {
            "marker": {
             "line": {
              "color": "#E5ECF6",
              "width": 0.5
             }
            },
            "type": "barpolar"
           }
          ],
          "carpet": [
           {
            "aaxis": {
             "endlinecolor": "#2a3f5f",
             "gridcolor": "white",
             "linecolor": "white",
             "minorgridcolor": "white",
             "startlinecolor": "#2a3f5f"
            },
            "baxis": {
             "endlinecolor": "#2a3f5f",
             "gridcolor": "white",
             "linecolor": "white",
             "minorgridcolor": "white",
             "startlinecolor": "#2a3f5f"
            },
            "type": "carpet"
           }
          ],
          "choropleth": [
           {
            "colorbar": {
             "outlinewidth": 0,
             "ticks": ""
            },
            "type": "choropleth"
           }
          ],
          "contour": [
           {
            "colorbar": {
             "outlinewidth": 0,
             "ticks": ""
            },
            "colorscale": [
             [
              0,
              "#0d0887"
             ],
             [
              0.1111111111111111,
              "#46039f"
             ],
             [
              0.2222222222222222,
              "#7201a8"
             ],
             [
              0.3333333333333333,
              "#9c179e"
             ],
             [
              0.4444444444444444,
              "#bd3786"
             ],
             [
              0.5555555555555556,
              "#d8576b"
             ],
             [
              0.6666666666666666,
              "#ed7953"
             ],
             [
              0.7777777777777778,
              "#fb9f3a"
             ],
             [
              0.8888888888888888,
              "#fdca26"
             ],
             [
              1,
              "#f0f921"
             ]
            ],
            "type": "contour"
           }
          ],
          "contourcarpet": [
           {
            "colorbar": {
             "outlinewidth": 0,
             "ticks": ""
            },
            "type": "contourcarpet"
           }
          ],
          "heatmap": [
           {
            "colorbar": {
             "outlinewidth": 0,
             "ticks": ""
            },
            "colorscale": [
             [
              0,
              "#0d0887"
             ],
             [
              0.1111111111111111,
              "#46039f"
             ],
             [
              0.2222222222222222,
              "#7201a8"
             ],
             [
              0.3333333333333333,
              "#9c179e"
             ],
             [
              0.4444444444444444,
              "#bd3786"
             ],
             [
              0.5555555555555556,
              "#d8576b"
             ],
             [
              0.6666666666666666,
              "#ed7953"
             ],
             [
              0.7777777777777778,
              "#fb9f3a"
             ],
             [
              0.8888888888888888,
              "#fdca26"
             ],
             [
              1,
              "#f0f921"
             ]
            ],
            "type": "heatmap"
           }
          ],
          "heatmapgl": [
           {
            "colorbar": {
             "outlinewidth": 0,
             "ticks": ""
            },
            "colorscale": [
             [
              0,
              "#0d0887"
             ],
             [
              0.1111111111111111,
              "#46039f"
             ],
             [
              0.2222222222222222,
              "#7201a8"
             ],
             [
              0.3333333333333333,
              "#9c179e"
             ],
             [
              0.4444444444444444,
              "#bd3786"
             ],
             [
              0.5555555555555556,
              "#d8576b"
             ],
             [
              0.6666666666666666,
              "#ed7953"
             ],
             [
              0.7777777777777778,
              "#fb9f3a"
             ],
             [
              0.8888888888888888,
              "#fdca26"
             ],
             [
              1,
              "#f0f921"
             ]
            ],
            "type": "heatmapgl"
           }
          ],
          "histogram": [
           {
            "marker": {
             "colorbar": {
              "outlinewidth": 0,
              "ticks": ""
             }
            },
            "type": "histogram"
           }
          ],
          "histogram2d": [
           {
            "colorbar": {
             "outlinewidth": 0,
             "ticks": ""
            },
            "colorscale": [
             [
              0,
              "#0d0887"
             ],
             [
              0.1111111111111111,
              "#46039f"
             ],
             [
              0.2222222222222222,
              "#7201a8"
             ],
             [
              0.3333333333333333,
              "#9c179e"
             ],
             [
              0.4444444444444444,
              "#bd3786"
             ],
             [
              0.5555555555555556,
              "#d8576b"
             ],
             [
              0.6666666666666666,
              "#ed7953"
             ],
             [
              0.7777777777777778,
              "#fb9f3a"
             ],
             [
              0.8888888888888888,
              "#fdca26"
             ],
             [
              1,
              "#f0f921"
             ]
            ],
            "type": "histogram2d"
           }
          ],
          "histogram2dcontour": [
           {
            "colorbar": {
             "outlinewidth": 0,
             "ticks": ""
            },
            "colorscale": [
             [
              0,
              "#0d0887"
             ],
             [
              0.1111111111111111,
              "#46039f"
             ],
             [
              0.2222222222222222,
              "#7201a8"
             ],
             [
              0.3333333333333333,
              "#9c179e"
             ],
             [
              0.4444444444444444,
              "#bd3786"
             ],
             [
              0.5555555555555556,
              "#d8576b"
             ],
             [
              0.6666666666666666,
              "#ed7953"
             ],
             [
              0.7777777777777778,
              "#fb9f3a"
             ],
             [
              0.8888888888888888,
              "#fdca26"
             ],
             [
              1,
              "#f0f921"
             ]
            ],
            "type": "histogram2dcontour"
           }
          ],
          "mesh3d": [
           {
            "colorbar": {
             "outlinewidth": 0,
             "ticks": ""
            },
            "type": "mesh3d"
           }
          ],
          "parcoords": [
           {
            "line": {
             "colorbar": {
              "outlinewidth": 0,
              "ticks": ""
             }
            },
            "type": "parcoords"
           }
          ],
          "pie": [
           {
            "automargin": true,
            "type": "pie"
           }
          ],
          "scatter": [
           {
            "marker": {
             "colorbar": {
              "outlinewidth": 0,
              "ticks": ""
             }
            },
            "type": "scatter"
           }
          ],
          "scatter3d": [
           {
            "line": {
             "colorbar": {
              "outlinewidth": 0,
              "ticks": ""
             }
            },
            "marker": {
             "colorbar": {
              "outlinewidth": 0,
              "ticks": ""
             }
            },
            "type": "scatter3d"
           }
          ],
          "scattercarpet": [
           {
            "marker": {
             "colorbar": {
              "outlinewidth": 0,
              "ticks": ""
             }
            },
            "type": "scattercarpet"
           }
          ],
          "scattergeo": [
           {
            "marker": {
             "colorbar": {
              "outlinewidth": 0,
              "ticks": ""
             }
            },
            "type": "scattergeo"
           }
          ],
          "scattergl": [
           {
            "marker": {
             "colorbar": {
              "outlinewidth": 0,
              "ticks": ""
             }
            },
            "type": "scattergl"
           }
          ],
          "scattermapbox": [
           {
            "marker": {
             "colorbar": {
              "outlinewidth": 0,
              "ticks": ""
             }
            },
            "type": "scattermapbox"
           }
          ],
          "scatterpolar": [
           {
            "marker": {
             "colorbar": {
              "outlinewidth": 0,
              "ticks": ""
             }
            },
            "type": "scatterpolar"
           }
          ],
          "scatterpolargl": [
           {
            "marker": {
             "colorbar": {
              "outlinewidth": 0,
              "ticks": ""
             }
            },
            "type": "scatterpolargl"
           }
          ],
          "scatterternary": [
           {
            "marker": {
             "colorbar": {
              "outlinewidth": 0,
              "ticks": ""
             }
            },
            "type": "scatterternary"
           }
          ],
          "surface": [
           {
            "colorbar": {
             "outlinewidth": 0,
             "ticks": ""
            },
            "colorscale": [
             [
              0,
              "#0d0887"
             ],
             [
              0.1111111111111111,
              "#46039f"
             ],
             [
              0.2222222222222222,
              "#7201a8"
             ],
             [
              0.3333333333333333,
              "#9c179e"
             ],
             [
              0.4444444444444444,
              "#bd3786"
             ],
             [
              0.5555555555555556,
              "#d8576b"
             ],
             [
              0.6666666666666666,
              "#ed7953"
             ],
             [
              0.7777777777777778,
              "#fb9f3a"
             ],
             [
              0.8888888888888888,
              "#fdca26"
             ],
             [
              1,
              "#f0f921"
             ]
            ],
            "type": "surface"
           }
          ],
          "table": [
           {
            "cells": {
             "fill": {
              "color": "#EBF0F8"
             },
             "line": {
              "color": "white"
             }
            },
            "header": {
             "fill": {
              "color": "#C8D4E3"
             },
             "line": {
              "color": "white"
             }
            },
            "type": "table"
           }
          ]
         },
         "layout": {
          "annotationdefaults": {
           "arrowcolor": "#2a3f5f",
           "arrowhead": 0,
           "arrowwidth": 1
          },
          "coloraxis": {
           "colorbar": {
            "outlinewidth": 0,
            "ticks": ""
           }
          },
          "colorscale": {
           "diverging": [
            [
             0,
             "#8e0152"
            ],
            [
             0.1,
             "#c51b7d"
            ],
            [
             0.2,
             "#de77ae"
            ],
            [
             0.3,
             "#f1b6da"
            ],
            [
             0.4,
             "#fde0ef"
            ],
            [
             0.5,
             "#f7f7f7"
            ],
            [
             0.6,
             "#e6f5d0"
            ],
            [
             0.7,
             "#b8e186"
            ],
            [
             0.8,
             "#7fbc41"
            ],
            [
             0.9,
             "#4d9221"
            ],
            [
             1,
             "#276419"
            ]
           ],
           "sequential": [
            [
             0,
             "#0d0887"
            ],
            [
             0.1111111111111111,
             "#46039f"
            ],
            [
             0.2222222222222222,
             "#7201a8"
            ],
            [
             0.3333333333333333,
             "#9c179e"
            ],
            [
             0.4444444444444444,
             "#bd3786"
            ],
            [
             0.5555555555555556,
             "#d8576b"
            ],
            [
             0.6666666666666666,
             "#ed7953"
            ],
            [
             0.7777777777777778,
             "#fb9f3a"
            ],
            [
             0.8888888888888888,
             "#fdca26"
            ],
            [
             1,
             "#f0f921"
            ]
           ],
           "sequentialminus": [
            [
             0,
             "#0d0887"
            ],
            [
             0.1111111111111111,
             "#46039f"
            ],
            [
             0.2222222222222222,
             "#7201a8"
            ],
            [
             0.3333333333333333,
             "#9c179e"
            ],
            [
             0.4444444444444444,
             "#bd3786"
            ],
            [
             0.5555555555555556,
             "#d8576b"
            ],
            [
             0.6666666666666666,
             "#ed7953"
            ],
            [
             0.7777777777777778,
             "#fb9f3a"
            ],
            [
             0.8888888888888888,
             "#fdca26"
            ],
            [
             1,
             "#f0f921"
            ]
           ]
          },
          "colorway": [
           "#636efa",
           "#EF553B",
           "#00cc96",
           "#ab63fa",
           "#FFA15A",
           "#19d3f3",
           "#FF6692",
           "#B6E880",
           "#FF97FF",
           "#FECB52"
          ],
          "font": {
           "color": "#2a3f5f"
          },
          "geo": {
           "bgcolor": "white",
           "lakecolor": "white",
           "landcolor": "#E5ECF6",
           "showlakes": true,
           "showland": true,
           "subunitcolor": "white"
          },
          "hoverlabel": {
           "align": "left"
          },
          "hovermode": "closest",
          "mapbox": {
           "style": "light"
          },
          "paper_bgcolor": "white",
          "plot_bgcolor": "#E5ECF6",
          "polar": {
           "angularaxis": {
            "gridcolor": "white",
            "linecolor": "white",
            "ticks": ""
           },
           "bgcolor": "#E5ECF6",
           "radialaxis": {
            "gridcolor": "white",
            "linecolor": "white",
            "ticks": ""
           }
          },
          "scene": {
           "xaxis": {
            "backgroundcolor": "#E5ECF6",
            "gridcolor": "white",
            "gridwidth": 2,
            "linecolor": "white",
            "showbackground": true,
            "ticks": "",
            "zerolinecolor": "white"
           },
           "yaxis": {
            "backgroundcolor": "#E5ECF6",
            "gridcolor": "white",
            "gridwidth": 2,
            "linecolor": "white",
            "showbackground": true,
            "ticks": "",
            "zerolinecolor": "white"
           },
           "zaxis": {
            "backgroundcolor": "#E5ECF6",
            "gridcolor": "white",
            "gridwidth": 2,
            "linecolor": "white",
            "showbackground": true,
            "ticks": "",
            "zerolinecolor": "white"
           }
          },
          "shapedefaults": {
           "line": {
            "color": "#2a3f5f"
           }
          },
          "ternary": {
           "aaxis": {
            "gridcolor": "white",
            "linecolor": "white",
            "ticks": ""
           },
           "baxis": {
            "gridcolor": "white",
            "linecolor": "white",
            "ticks": ""
           },
           "bgcolor": "#E5ECF6",
           "caxis": {
            "gridcolor": "white",
            "linecolor": "white",
            "ticks": ""
           }
          },
          "title": {
           "x": 0.05
          },
          "xaxis": {
           "automargin": true,
           "gridcolor": "white",
           "linecolor": "white",
           "ticks": "",
           "title": {
            "standoff": 15
           },
           "zerolinecolor": "white",
           "zerolinewidth": 2
          },
          "yaxis": {
           "automargin": true,
           "gridcolor": "white",
           "linecolor": "white",
           "ticks": "",
           "title": {
            "standoff": 15
           },
           "zerolinecolor": "white",
           "zerolinewidth": 2
          }
         }
        },
        "xaxis": {
         "anchor": "y",
         "domain": [
          0,
          1
         ],
         "title": {
          "text": "count"
         }
        },
        "yaxis": {
         "anchor": "x",
         "categoryorder": "total ascending",
         "domain": [
          0,
          1
         ],
         "title": {
          "text": "domain_of_study"
         }
        }
       }
      }
     },
     "metadata": {},
     "output_type": "display_data"
    }
   ],
   "source": [
    "fig = px.histogram(df_iid, y=\"domain_of_study\", opacity = 0.75, histnorm=\"percent\").update_yaxes(categoryorder = \"total ascending\")\n",
    "fig.show()"
   ]
  },
  {
   "cell_type": "code",
   "execution_count": 22,
   "metadata": {},
   "outputs": [],
   "source": [
    "# make a variant with percentages shown on bars"
   ]
  },
  {
   "cell_type": "code",
   "execution_count": 23,
   "metadata": {},
   "outputs": [
    {
     "data": {
      "text/html": [
       "<div>\n",
       "<style scoped>\n",
       "    .dataframe tbody tr th:only-of-type {\n",
       "        vertical-align: middle;\n",
       "    }\n",
       "\n",
       "    .dataframe tbody tr th {\n",
       "        vertical-align: top;\n",
       "    }\n",
       "\n",
       "    .dataframe thead th {\n",
       "        text-align: right;\n",
       "    }\n",
       "</style>\n",
       "<table border=\"1\" class=\"dataframe\">\n",
       "  <thead>\n",
       "    <tr style=\"text-align: right;\">\n",
       "      <th></th>\n",
       "      <th>iid</th>\n",
       "      <th>id</th>\n",
       "      <th>gender</th>\n",
       "      <th>idg</th>\n",
       "      <th>condtn</th>\n",
       "      <th>wave</th>\n",
       "      <th>round</th>\n",
       "      <th>position</th>\n",
       "      <th>positin1</th>\n",
       "      <th>order</th>\n",
       "      <th>partner</th>\n",
       "      <th>pid</th>\n",
       "      <th>match</th>\n",
       "      <th>int_corr</th>\n",
       "      <th>samerace</th>\n",
       "      <th>age_o</th>\n",
       "      <th>race_o</th>\n",
       "      <th>pf_o_att</th>\n",
       "      <th>pf_o_sin</th>\n",
       "      <th>pf_o_int</th>\n",
       "      <th>pf_o_fun</th>\n",
       "      <th>pf_o_amb</th>\n",
       "      <th>pf_o_sha</th>\n",
       "      <th>dec_o</th>\n",
       "      <th>attr_o</th>\n",
       "      <th>sinc_o</th>\n",
       "      <th>intel_o</th>\n",
       "      <th>fun_o</th>\n",
       "      <th>amb_o</th>\n",
       "      <th>shar_o</th>\n",
       "      <th>like_o</th>\n",
       "      <th>prob_o</th>\n",
       "      <th>met_o</th>\n",
       "      <th>age</th>\n",
       "      <th>field_cd</th>\n",
       "      <th>race</th>\n",
       "      <th>imprace</th>\n",
       "      <th>imprelig</th>\n",
       "      <th>goal</th>\n",
       "      <th>date</th>\n",
       "      <th>go_out</th>\n",
       "      <th>career_c</th>\n",
       "      <th>sports</th>\n",
       "      <th>tvsports</th>\n",
       "      <th>exercise</th>\n",
       "      <th>dining</th>\n",
       "      <th>museums</th>\n",
       "      <th>art</th>\n",
       "      <th>hiking</th>\n",
       "      <th>gaming</th>\n",
       "      <th>clubbing</th>\n",
       "      <th>reading</th>\n",
       "      <th>tv</th>\n",
       "      <th>theater</th>\n",
       "      <th>movies</th>\n",
       "      <th>concerts</th>\n",
       "      <th>music</th>\n",
       "      <th>shopping</th>\n",
       "      <th>yoga</th>\n",
       "      <th>exphappy</th>\n",
       "      <th>expnum</th>\n",
       "      <th>attr1_1</th>\n",
       "      <th>sinc1_1</th>\n",
       "      <th>intel1_1</th>\n",
       "      <th>fun1_1</th>\n",
       "      <th>amb1_1</th>\n",
       "      <th>shar1_1</th>\n",
       "      <th>attr4_1</th>\n",
       "      <th>sinc4_1</th>\n",
       "      <th>intel4_1</th>\n",
       "      <th>fun4_1</th>\n",
       "      <th>amb4_1</th>\n",
       "      <th>shar4_1</th>\n",
       "      <th>attr2_1</th>\n",
       "      <th>sinc2_1</th>\n",
       "      <th>intel2_1</th>\n",
       "      <th>fun2_1</th>\n",
       "      <th>amb2_1</th>\n",
       "      <th>shar2_1</th>\n",
       "      <th>attr3_1</th>\n",
       "      <th>sinc3_1</th>\n",
       "      <th>fun3_1</th>\n",
       "      <th>intel3_1</th>\n",
       "      <th>amb3_1</th>\n",
       "      <th>attr5_1</th>\n",
       "      <th>sinc5_1</th>\n",
       "      <th>intel5_1</th>\n",
       "      <th>fun5_1</th>\n",
       "      <th>amb5_1</th>\n",
       "      <th>dec</th>\n",
       "      <th>attr</th>\n",
       "      <th>sinc</th>\n",
       "      <th>intel</th>\n",
       "      <th>fun</th>\n",
       "      <th>amb</th>\n",
       "      <th>shar</th>\n",
       "      <th>like</th>\n",
       "      <th>prob</th>\n",
       "      <th>met</th>\n",
       "      <th>match_es</th>\n",
       "      <th>attr1_s</th>\n",
       "      <th>sinc1_s</th>\n",
       "      <th>intel1_s</th>\n",
       "      <th>fun1_s</th>\n",
       "      <th>amb1_s</th>\n",
       "      <th>shar1_s</th>\n",
       "      <th>attr3_s</th>\n",
       "      <th>sinc3_s</th>\n",
       "      <th>intel3_s</th>\n",
       "      <th>fun3_s</th>\n",
       "      <th>amb3_s</th>\n",
       "      <th>satis_2</th>\n",
       "      <th>length</th>\n",
       "      <th>numdat_2</th>\n",
       "      <th>attr7_2</th>\n",
       "      <th>sinc7_2</th>\n",
       "      <th>intel7_2</th>\n",
       "      <th>fun7_2</th>\n",
       "      <th>amb7_2</th>\n",
       "      <th>shar7_2</th>\n",
       "      <th>attr1_2</th>\n",
       "      <th>sinc1_2</th>\n",
       "      <th>intel1_2</th>\n",
       "      <th>fun1_2</th>\n",
       "      <th>amb1_2</th>\n",
       "      <th>shar1_2</th>\n",
       "      <th>attr4_2</th>\n",
       "      <th>sinc4_2</th>\n",
       "      <th>intel4_2</th>\n",
       "      <th>fun4_2</th>\n",
       "      <th>amb4_2</th>\n",
       "      <th>shar4_2</th>\n",
       "      <th>attr2_2</th>\n",
       "      <th>sinc2_2</th>\n",
       "      <th>intel2_2</th>\n",
       "      <th>fun2_2</th>\n",
       "      <th>amb2_2</th>\n",
       "      <th>shar2_2</th>\n",
       "      <th>attr3_2</th>\n",
       "      <th>sinc3_2</th>\n",
       "      <th>intel3_2</th>\n",
       "      <th>fun3_2</th>\n",
       "      <th>amb3_2</th>\n",
       "      <th>attr5_2</th>\n",
       "      <th>sinc5_2</th>\n",
       "      <th>intel5_2</th>\n",
       "      <th>fun5_2</th>\n",
       "      <th>amb5_2</th>\n",
       "      <th>you_call</th>\n",
       "      <th>them_cal</th>\n",
       "      <th>date_3</th>\n",
       "      <th>numdat_3</th>\n",
       "      <th>num_in_3</th>\n",
       "      <th>attr1_3</th>\n",
       "      <th>sinc1_3</th>\n",
       "      <th>intel1_3</th>\n",
       "      <th>fun1_3</th>\n",
       "      <th>amb1_3</th>\n",
       "      <th>shar1_3</th>\n",
       "      <th>attr7_3</th>\n",
       "      <th>sinc7_3</th>\n",
       "      <th>intel7_3</th>\n",
       "      <th>fun7_3</th>\n",
       "      <th>amb7_3</th>\n",
       "      <th>shar7_3</th>\n",
       "      <th>attr4_3</th>\n",
       "      <th>sinc4_3</th>\n",
       "      <th>intel4_3</th>\n",
       "      <th>fun4_3</th>\n",
       "      <th>amb4_3</th>\n",
       "      <th>shar4_3</th>\n",
       "      <th>attr2_3</th>\n",
       "      <th>sinc2_3</th>\n",
       "      <th>intel2_3</th>\n",
       "      <th>fun2_3</th>\n",
       "      <th>amb2_3</th>\n",
       "      <th>shar2_3</th>\n",
       "      <th>attr3_3</th>\n",
       "      <th>sinc3_3</th>\n",
       "      <th>intel3_3</th>\n",
       "      <th>fun3_3</th>\n",
       "      <th>amb3_3</th>\n",
       "      <th>attr5_3</th>\n",
       "      <th>sinc5_3</th>\n",
       "      <th>intel5_3</th>\n",
       "      <th>fun5_3</th>\n",
       "      <th>amb5_3</th>\n",
       "      <th>gender_name</th>\n",
       "      <th>field_name</th>\n",
       "      <th>domain_of_study</th>\n",
       "    </tr>\n",
       "  </thead>\n",
       "  <tbody>\n",
       "    <tr>\n",
       "      <th>0</th>\n",
       "      <td>1</td>\n",
       "      <td>1.0</td>\n",
       "      <td>0.0</td>\n",
       "      <td>1.0</td>\n",
       "      <td>1.0</td>\n",
       "      <td>1.0</td>\n",
       "      <td>10.0</td>\n",
       "      <td>7.0</td>\n",
       "      <td>NaN</td>\n",
       "      <td>5.5</td>\n",
       "      <td>5.5</td>\n",
       "      <td>15.5</td>\n",
       "      <td>0.4</td>\n",
       "      <td>0.267</td>\n",
       "      <td>0.1</td>\n",
       "      <td>25.2</td>\n",
       "      <td>2.3</td>\n",
       "      <td>44.233</td>\n",
       "      <td>7.911</td>\n",
       "      <td>16.511</td>\n",
       "      <td>16.911</td>\n",
       "      <td>4.511</td>\n",
       "      <td>9.922</td>\n",
       "      <td>0.5</td>\n",
       "      <td>6.7</td>\n",
       "      <td>7.4</td>\n",
       "      <td>8.0</td>\n",
       "      <td>7.2</td>\n",
       "      <td>8.000000</td>\n",
       "      <td>7.1</td>\n",
       "      <td>6.85</td>\n",
       "      <td>5.7</td>\n",
       "      <td>1.900000</td>\n",
       "      <td>21.0</td>\n",
       "      <td>1.0</td>\n",
       "      <td>4.0</td>\n",
       "      <td>2.0</td>\n",
       "      <td>4.0</td>\n",
       "      <td>2.0</td>\n",
       "      <td>7.0</td>\n",
       "      <td>1.0</td>\n",
       "      <td>NaN</td>\n",
       "      <td>9.0</td>\n",
       "      <td>2.0</td>\n",
       "      <td>8.0</td>\n",
       "      <td>9.0</td>\n",
       "      <td>1.0</td>\n",
       "      <td>1.0</td>\n",
       "      <td>5.0</td>\n",
       "      <td>1.0</td>\n",
       "      <td>5.0</td>\n",
       "      <td>6.0</td>\n",
       "      <td>9.0</td>\n",
       "      <td>1.0</td>\n",
       "      <td>10.0</td>\n",
       "      <td>10.0</td>\n",
       "      <td>9.0</td>\n",
       "      <td>8.0</td>\n",
       "      <td>1.0</td>\n",
       "      <td>3.0</td>\n",
       "      <td>2.0</td>\n",
       "      <td>15.0</td>\n",
       "      <td>20.0</td>\n",
       "      <td>20.0</td>\n",
       "      <td>15.0</td>\n",
       "      <td>15.0</td>\n",
       "      <td>15.0</td>\n",
       "      <td>NaN</td>\n",
       "      <td>NaN</td>\n",
       "      <td>NaN</td>\n",
       "      <td>NaN</td>\n",
       "      <td>NaN</td>\n",
       "      <td>NaN</td>\n",
       "      <td>35.0</td>\n",
       "      <td>20.0</td>\n",
       "      <td>15.0</td>\n",
       "      <td>20.0</td>\n",
       "      <td>5.0</td>\n",
       "      <td>5.0</td>\n",
       "      <td>6.0</td>\n",
       "      <td>8.0</td>\n",
       "      <td>8.0</td>\n",
       "      <td>8.0</td>\n",
       "      <td>7.0</td>\n",
       "      <td>NaN</td>\n",
       "      <td>NaN</td>\n",
       "      <td>NaN</td>\n",
       "      <td>NaN</td>\n",
       "      <td>NaN</td>\n",
       "      <td>0.8</td>\n",
       "      <td>5.7</td>\n",
       "      <td>7.3</td>\n",
       "      <td>7.3</td>\n",
       "      <td>6.8</td>\n",
       "      <td>6.3</td>\n",
       "      <td>6.5</td>\n",
       "      <td>6.5</td>\n",
       "      <td>5.888889</td>\n",
       "      <td>1.777778</td>\n",
       "      <td>4.0</td>\n",
       "      <td>NaN</td>\n",
       "      <td>NaN</td>\n",
       "      <td>NaN</td>\n",
       "      <td>NaN</td>\n",
       "      <td>NaN</td>\n",
       "      <td>NaN</td>\n",
       "      <td>NaN</td>\n",
       "      <td>NaN</td>\n",
       "      <td>NaN</td>\n",
       "      <td>NaN</td>\n",
       "      <td>NaN</td>\n",
       "      <td>6.0</td>\n",
       "      <td>2.0</td>\n",
       "      <td>1.0</td>\n",
       "      <td>NaN</td>\n",
       "      <td>NaN</td>\n",
       "      <td>NaN</td>\n",
       "      <td>NaN</td>\n",
       "      <td>NaN</td>\n",
       "      <td>NaN</td>\n",
       "      <td>19.44</td>\n",
       "      <td>16.67</td>\n",
       "      <td>13.89</td>\n",
       "      <td>22.22</td>\n",
       "      <td>11.11</td>\n",
       "      <td>16.67</td>\n",
       "      <td>NaN</td>\n",
       "      <td>NaN</td>\n",
       "      <td>NaN</td>\n",
       "      <td>NaN</td>\n",
       "      <td>NaN</td>\n",
       "      <td>NaN</td>\n",
       "      <td>NaN</td>\n",
       "      <td>NaN</td>\n",
       "      <td>NaN</td>\n",
       "      <td>NaN</td>\n",
       "      <td>NaN</td>\n",
       "      <td>NaN</td>\n",
       "      <td>6.0</td>\n",
       "      <td>7.0</td>\n",
       "      <td>8.0</td>\n",
       "      <td>7.0</td>\n",
       "      <td>6.0</td>\n",
       "      <td>NaN</td>\n",
       "      <td>NaN</td>\n",
       "      <td>NaN</td>\n",
       "      <td>NaN</td>\n",
       "      <td>NaN</td>\n",
       "      <td>1.0</td>\n",
       "      <td>1.0</td>\n",
       "      <td>0.0</td>\n",
       "      <td>NaN</td>\n",
       "      <td>NaN</td>\n",
       "      <td>15.0</td>\n",
       "      <td>20.0</td>\n",
       "      <td>20.0</td>\n",
       "      <td>15.0</td>\n",
       "      <td>15.0</td>\n",
       "      <td>15.0</td>\n",
       "      <td>NaN</td>\n",
       "      <td>NaN</td>\n",
       "      <td>NaN</td>\n",
       "      <td>NaN</td>\n",
       "      <td>NaN</td>\n",
       "      <td>NaN</td>\n",
       "      <td>NaN</td>\n",
       "      <td>NaN</td>\n",
       "      <td>NaN</td>\n",
       "      <td>NaN</td>\n",
       "      <td>NaN</td>\n",
       "      <td>NaN</td>\n",
       "      <td>NaN</td>\n",
       "      <td>NaN</td>\n",
       "      <td>NaN</td>\n",
       "      <td>NaN</td>\n",
       "      <td>NaN</td>\n",
       "      <td>NaN</td>\n",
       "      <td>5.0</td>\n",
       "      <td>7.0</td>\n",
       "      <td>7.0</td>\n",
       "      <td>7.0</td>\n",
       "      <td>7.0</td>\n",
       "      <td>NaN</td>\n",
       "      <td>NaN</td>\n",
       "      <td>NaN</td>\n",
       "      <td>NaN</td>\n",
       "      <td>NaN</td>\n",
       "      <td>Female</td>\n",
       "      <td>Law</td>\n",
       "      <td>Law and Political Science</td>\n",
       "    </tr>\n",
       "    <tr>\n",
       "      <th>1</th>\n",
       "      <td>2</td>\n",
       "      <td>2.0</td>\n",
       "      <td>0.0</td>\n",
       "      <td>3.0</td>\n",
       "      <td>1.0</td>\n",
       "      <td>1.0</td>\n",
       "      <td>10.0</td>\n",
       "      <td>3.0</td>\n",
       "      <td>NaN</td>\n",
       "      <td>5.5</td>\n",
       "      <td>5.5</td>\n",
       "      <td>15.5</td>\n",
       "      <td>0.2</td>\n",
       "      <td>0.258</td>\n",
       "      <td>0.8</td>\n",
       "      <td>25.2</td>\n",
       "      <td>2.3</td>\n",
       "      <td>44.233</td>\n",
       "      <td>7.911</td>\n",
       "      <td>16.511</td>\n",
       "      <td>16.911</td>\n",
       "      <td>4.511</td>\n",
       "      <td>9.922</td>\n",
       "      <td>0.6</td>\n",
       "      <td>7.7</td>\n",
       "      <td>7.1</td>\n",
       "      <td>7.9</td>\n",
       "      <td>7.5</td>\n",
       "      <td>7.500000</td>\n",
       "      <td>6.5</td>\n",
       "      <td>7.60</td>\n",
       "      <td>5.5</td>\n",
       "      <td>1.900000</td>\n",
       "      <td>24.0</td>\n",
       "      <td>1.0</td>\n",
       "      <td>2.0</td>\n",
       "      <td>2.0</td>\n",
       "      <td>5.0</td>\n",
       "      <td>1.0</td>\n",
       "      <td>5.0</td>\n",
       "      <td>1.0</td>\n",
       "      <td>NaN</td>\n",
       "      <td>3.0</td>\n",
       "      <td>2.0</td>\n",
       "      <td>7.0</td>\n",
       "      <td>10.0</td>\n",
       "      <td>8.0</td>\n",
       "      <td>6.0</td>\n",
       "      <td>3.0</td>\n",
       "      <td>5.0</td>\n",
       "      <td>8.0</td>\n",
       "      <td>10.0</td>\n",
       "      <td>1.0</td>\n",
       "      <td>9.0</td>\n",
       "      <td>8.0</td>\n",
       "      <td>7.0</td>\n",
       "      <td>8.0</td>\n",
       "      <td>3.0</td>\n",
       "      <td>1.0</td>\n",
       "      <td>4.0</td>\n",
       "      <td>5.0</td>\n",
       "      <td>45.0</td>\n",
       "      <td>5.0</td>\n",
       "      <td>25.0</td>\n",
       "      <td>20.0</td>\n",
       "      <td>0.0</td>\n",
       "      <td>5.0</td>\n",
       "      <td>NaN</td>\n",
       "      <td>NaN</td>\n",
       "      <td>NaN</td>\n",
       "      <td>NaN</td>\n",
       "      <td>NaN</td>\n",
       "      <td>NaN</td>\n",
       "      <td>65.0</td>\n",
       "      <td>0.0</td>\n",
       "      <td>10.0</td>\n",
       "      <td>25.0</td>\n",
       "      <td>0.0</td>\n",
       "      <td>0.0</td>\n",
       "      <td>7.0</td>\n",
       "      <td>5.0</td>\n",
       "      <td>10.0</td>\n",
       "      <td>8.0</td>\n",
       "      <td>3.0</td>\n",
       "      <td>NaN</td>\n",
       "      <td>NaN</td>\n",
       "      <td>NaN</td>\n",
       "      <td>NaN</td>\n",
       "      <td>NaN</td>\n",
       "      <td>0.4</td>\n",
       "      <td>6.4</td>\n",
       "      <td>7.0</td>\n",
       "      <td>7.7</td>\n",
       "      <td>6.1</td>\n",
       "      <td>6.5</td>\n",
       "      <td>5.7</td>\n",
       "      <td>6.6</td>\n",
       "      <td>5.900000</td>\n",
       "      <td>1.900000</td>\n",
       "      <td>3.0</td>\n",
       "      <td>NaN</td>\n",
       "      <td>NaN</td>\n",
       "      <td>NaN</td>\n",
       "      <td>NaN</td>\n",
       "      <td>NaN</td>\n",
       "      <td>NaN</td>\n",
       "      <td>NaN</td>\n",
       "      <td>NaN</td>\n",
       "      <td>NaN</td>\n",
       "      <td>NaN</td>\n",
       "      <td>NaN</td>\n",
       "      <td>5.0</td>\n",
       "      <td>2.0</td>\n",
       "      <td>NaN</td>\n",
       "      <td>NaN</td>\n",
       "      <td>NaN</td>\n",
       "      <td>NaN</td>\n",
       "      <td>NaN</td>\n",
       "      <td>NaN</td>\n",
       "      <td>NaN</td>\n",
       "      <td>18.92</td>\n",
       "      <td>18.92</td>\n",
       "      <td>21.62</td>\n",
       "      <td>27.03</td>\n",
       "      <td>5.41</td>\n",
       "      <td>8.11</td>\n",
       "      <td>NaN</td>\n",
       "      <td>NaN</td>\n",
       "      <td>NaN</td>\n",
       "      <td>NaN</td>\n",
       "      <td>NaN</td>\n",
       "      <td>NaN</td>\n",
       "      <td>NaN</td>\n",
       "      <td>NaN</td>\n",
       "      <td>NaN</td>\n",
       "      <td>NaN</td>\n",
       "      <td>NaN</td>\n",
       "      <td>NaN</td>\n",
       "      <td>7.0</td>\n",
       "      <td>6.0</td>\n",
       "      <td>8.0</td>\n",
       "      <td>9.0</td>\n",
       "      <td>4.0</td>\n",
       "      <td>NaN</td>\n",
       "      <td>NaN</td>\n",
       "      <td>NaN</td>\n",
       "      <td>NaN</td>\n",
       "      <td>NaN</td>\n",
       "      <td>0.0</td>\n",
       "      <td>0.0</td>\n",
       "      <td>0.0</td>\n",
       "      <td>NaN</td>\n",
       "      <td>NaN</td>\n",
       "      <td>30.0</td>\n",
       "      <td>5.0</td>\n",
       "      <td>40.0</td>\n",
       "      <td>15.0</td>\n",
       "      <td>0.0</td>\n",
       "      <td>10.0</td>\n",
       "      <td>NaN</td>\n",
       "      <td>NaN</td>\n",
       "      <td>NaN</td>\n",
       "      <td>NaN</td>\n",
       "      <td>NaN</td>\n",
       "      <td>NaN</td>\n",
       "      <td>NaN</td>\n",
       "      <td>NaN</td>\n",
       "      <td>NaN</td>\n",
       "      <td>NaN</td>\n",
       "      <td>NaN</td>\n",
       "      <td>NaN</td>\n",
       "      <td>NaN</td>\n",
       "      <td>NaN</td>\n",
       "      <td>NaN</td>\n",
       "      <td>NaN</td>\n",
       "      <td>NaN</td>\n",
       "      <td>NaN</td>\n",
       "      <td>7.0</td>\n",
       "      <td>6.0</td>\n",
       "      <td>9.0</td>\n",
       "      <td>9.0</td>\n",
       "      <td>4.0</td>\n",
       "      <td>NaN</td>\n",
       "      <td>NaN</td>\n",
       "      <td>NaN</td>\n",
       "      <td>NaN</td>\n",
       "      <td>NaN</td>\n",
       "      <td>Female</td>\n",
       "      <td>Law</td>\n",
       "      <td>Law and Political Science</td>\n",
       "    </tr>\n",
       "    <tr>\n",
       "      <th>2</th>\n",
       "      <td>3</td>\n",
       "      <td>3.0</td>\n",
       "      <td>0.0</td>\n",
       "      <td>5.0</td>\n",
       "      <td>1.0</td>\n",
       "      <td>1.0</td>\n",
       "      <td>10.0</td>\n",
       "      <td>9.0</td>\n",
       "      <td>NaN</td>\n",
       "      <td>5.5</td>\n",
       "      <td>5.5</td>\n",
       "      <td>15.5</td>\n",
       "      <td>0.0</td>\n",
       "      <td>-0.136</td>\n",
       "      <td>0.8</td>\n",
       "      <td>25.2</td>\n",
       "      <td>2.3</td>\n",
       "      <td>44.233</td>\n",
       "      <td>7.911</td>\n",
       "      <td>16.511</td>\n",
       "      <td>16.911</td>\n",
       "      <td>4.511</td>\n",
       "      <td>9.922</td>\n",
       "      <td>0.5</td>\n",
       "      <td>6.5</td>\n",
       "      <td>7.1</td>\n",
       "      <td>7.3</td>\n",
       "      <td>6.2</td>\n",
       "      <td>7.111111</td>\n",
       "      <td>6.0</td>\n",
       "      <td>6.00</td>\n",
       "      <td>4.5</td>\n",
       "      <td>1.900000</td>\n",
       "      <td>25.0</td>\n",
       "      <td>2.0</td>\n",
       "      <td>2.0</td>\n",
       "      <td>8.0</td>\n",
       "      <td>4.0</td>\n",
       "      <td>6.0</td>\n",
       "      <td>3.0</td>\n",
       "      <td>1.0</td>\n",
       "      <td>NaN</td>\n",
       "      <td>3.0</td>\n",
       "      <td>8.0</td>\n",
       "      <td>7.0</td>\n",
       "      <td>8.0</td>\n",
       "      <td>5.0</td>\n",
       "      <td>5.0</td>\n",
       "      <td>8.0</td>\n",
       "      <td>4.0</td>\n",
       "      <td>5.0</td>\n",
       "      <td>7.0</td>\n",
       "      <td>8.0</td>\n",
       "      <td>7.0</td>\n",
       "      <td>7.0</td>\n",
       "      <td>7.0</td>\n",
       "      <td>5.0</td>\n",
       "      <td>8.0</td>\n",
       "      <td>7.0</td>\n",
       "      <td>4.0</td>\n",
       "      <td>2.0</td>\n",
       "      <td>35.0</td>\n",
       "      <td>10.0</td>\n",
       "      <td>35.0</td>\n",
       "      <td>10.0</td>\n",
       "      <td>10.0</td>\n",
       "      <td>0.0</td>\n",
       "      <td>NaN</td>\n",
       "      <td>NaN</td>\n",
       "      <td>NaN</td>\n",
       "      <td>NaN</td>\n",
       "      <td>NaN</td>\n",
       "      <td>NaN</td>\n",
       "      <td>50.0</td>\n",
       "      <td>0.0</td>\n",
       "      <td>20.0</td>\n",
       "      <td>30.0</td>\n",
       "      <td>0.0</td>\n",
       "      <td>0.0</td>\n",
       "      <td>8.0</td>\n",
       "      <td>9.0</td>\n",
       "      <td>8.0</td>\n",
       "      <td>9.0</td>\n",
       "      <td>8.0</td>\n",
       "      <td>NaN</td>\n",
       "      <td>NaN</td>\n",
       "      <td>NaN</td>\n",
       "      <td>NaN</td>\n",
       "      <td>NaN</td>\n",
       "      <td>0.0</td>\n",
       "      <td>8.1</td>\n",
       "      <td>8.6</td>\n",
       "      <td>9.4</td>\n",
       "      <td>7.7</td>\n",
       "      <td>8.8</td>\n",
       "      <td>8.1</td>\n",
       "      <td>8.2</td>\n",
       "      <td>7.000000</td>\n",
       "      <td>1.900000</td>\n",
       "      <td>NaN</td>\n",
       "      <td>NaN</td>\n",
       "      <td>NaN</td>\n",
       "      <td>NaN</td>\n",
       "      <td>NaN</td>\n",
       "      <td>NaN</td>\n",
       "      <td>NaN</td>\n",
       "      <td>NaN</td>\n",
       "      <td>NaN</td>\n",
       "      <td>NaN</td>\n",
       "      <td>NaN</td>\n",
       "      <td>NaN</td>\n",
       "      <td>NaN</td>\n",
       "      <td>NaN</td>\n",
       "      <td>NaN</td>\n",
       "      <td>NaN</td>\n",
       "      <td>NaN</td>\n",
       "      <td>NaN</td>\n",
       "      <td>NaN</td>\n",
       "      <td>NaN</td>\n",
       "      <td>NaN</td>\n",
       "      <td>NaN</td>\n",
       "      <td>NaN</td>\n",
       "      <td>NaN</td>\n",
       "      <td>NaN</td>\n",
       "      <td>NaN</td>\n",
       "      <td>NaN</td>\n",
       "      <td>NaN</td>\n",
       "      <td>NaN</td>\n",
       "      <td>NaN</td>\n",
       "      <td>NaN</td>\n",
       "      <td>NaN</td>\n",
       "      <td>NaN</td>\n",
       "      <td>NaN</td>\n",
       "      <td>NaN</td>\n",
       "      <td>NaN</td>\n",
       "      <td>NaN</td>\n",
       "      <td>NaN</td>\n",
       "      <td>NaN</td>\n",
       "      <td>NaN</td>\n",
       "      <td>NaN</td>\n",
       "      <td>NaN</td>\n",
       "      <td>NaN</td>\n",
       "      <td>NaN</td>\n",
       "      <td>NaN</td>\n",
       "      <td>NaN</td>\n",
       "      <td>NaN</td>\n",
       "      <td>NaN</td>\n",
       "      <td>NaN</td>\n",
       "      <td>NaN</td>\n",
       "      <td>NaN</td>\n",
       "      <td>NaN</td>\n",
       "      <td>NaN</td>\n",
       "      <td>NaN</td>\n",
       "      <td>NaN</td>\n",
       "      <td>NaN</td>\n",
       "      <td>NaN</td>\n",
       "      <td>NaN</td>\n",
       "      <td>NaN</td>\n",
       "      <td>NaN</td>\n",
       "      <td>NaN</td>\n",
       "      <td>NaN</td>\n",
       "      <td>NaN</td>\n",
       "      <td>NaN</td>\n",
       "      <td>NaN</td>\n",
       "      <td>NaN</td>\n",
       "      <td>NaN</td>\n",
       "      <td>NaN</td>\n",
       "      <td>NaN</td>\n",
       "      <td>NaN</td>\n",
       "      <td>NaN</td>\n",
       "      <td>NaN</td>\n",
       "      <td>NaN</td>\n",
       "      <td>NaN</td>\n",
       "      <td>NaN</td>\n",
       "      <td>NaN</td>\n",
       "      <td>NaN</td>\n",
       "      <td>NaN</td>\n",
       "      <td>NaN</td>\n",
       "      <td>NaN</td>\n",
       "      <td>NaN</td>\n",
       "      <td>NaN</td>\n",
       "      <td>NaN</td>\n",
       "      <td>NaN</td>\n",
       "      <td>NaN</td>\n",
       "      <td>NaN</td>\n",
       "      <td>NaN</td>\n",
       "      <td>NaN</td>\n",
       "      <td>Female</td>\n",
       "      <td>Math</td>\n",
       "      <td>Sciences</td>\n",
       "    </tr>\n",
       "    <tr>\n",
       "      <th>3</th>\n",
       "      <td>4</td>\n",
       "      <td>4.0</td>\n",
       "      <td>0.0</td>\n",
       "      <td>7.0</td>\n",
       "      <td>1.0</td>\n",
       "      <td>1.0</td>\n",
       "      <td>10.0</td>\n",
       "      <td>6.0</td>\n",
       "      <td>NaN</td>\n",
       "      <td>5.5</td>\n",
       "      <td>5.5</td>\n",
       "      <td>15.5</td>\n",
       "      <td>0.2</td>\n",
       "      <td>-0.007</td>\n",
       "      <td>0.8</td>\n",
       "      <td>25.2</td>\n",
       "      <td>2.3</td>\n",
       "      <td>44.233</td>\n",
       "      <td>7.911</td>\n",
       "      <td>16.511</td>\n",
       "      <td>16.911</td>\n",
       "      <td>4.511</td>\n",
       "      <td>9.922</td>\n",
       "      <td>0.6</td>\n",
       "      <td>7.0</td>\n",
       "      <td>7.1</td>\n",
       "      <td>7.7</td>\n",
       "      <td>7.5</td>\n",
       "      <td>7.700000</td>\n",
       "      <td>7.2</td>\n",
       "      <td>7.30</td>\n",
       "      <td>6.5</td>\n",
       "      <td>1.777778</td>\n",
       "      <td>23.0</td>\n",
       "      <td>1.0</td>\n",
       "      <td>2.0</td>\n",
       "      <td>1.0</td>\n",
       "      <td>1.0</td>\n",
       "      <td>1.0</td>\n",
       "      <td>5.0</td>\n",
       "      <td>1.0</td>\n",
       "      <td>1.0</td>\n",
       "      <td>1.0</td>\n",
       "      <td>1.0</td>\n",
       "      <td>6.0</td>\n",
       "      <td>7.0</td>\n",
       "      <td>6.0</td>\n",
       "      <td>7.0</td>\n",
       "      <td>7.0</td>\n",
       "      <td>5.0</td>\n",
       "      <td>7.0</td>\n",
       "      <td>7.0</td>\n",
       "      <td>7.0</td>\n",
       "      <td>9.0</td>\n",
       "      <td>7.0</td>\n",
       "      <td>8.0</td>\n",
       "      <td>7.0</td>\n",
       "      <td>1.0</td>\n",
       "      <td>8.0</td>\n",
       "      <td>1.0</td>\n",
       "      <td>2.0</td>\n",
       "      <td>20.0</td>\n",
       "      <td>20.0</td>\n",
       "      <td>20.0</td>\n",
       "      <td>20.0</td>\n",
       "      <td>10.0</td>\n",
       "      <td>10.0</td>\n",
       "      <td>NaN</td>\n",
       "      <td>NaN</td>\n",
       "      <td>NaN</td>\n",
       "      <td>NaN</td>\n",
       "      <td>NaN</td>\n",
       "      <td>NaN</td>\n",
       "      <td>30.0</td>\n",
       "      <td>10.0</td>\n",
       "      <td>15.0</td>\n",
       "      <td>30.0</td>\n",
       "      <td>5.0</td>\n",
       "      <td>10.0</td>\n",
       "      <td>7.0</td>\n",
       "      <td>8.0</td>\n",
       "      <td>9.0</td>\n",
       "      <td>7.0</td>\n",
       "      <td>8.0</td>\n",
       "      <td>NaN</td>\n",
       "      <td>NaN</td>\n",
       "      <td>NaN</td>\n",
       "      <td>NaN</td>\n",
       "      <td>NaN</td>\n",
       "      <td>0.3</td>\n",
       "      <td>6.4</td>\n",
       "      <td>8.9</td>\n",
       "      <td>8.6</td>\n",
       "      <td>7.8</td>\n",
       "      <td>7.8</td>\n",
       "      <td>7.1</td>\n",
       "      <td>6.6</td>\n",
       "      <td>5.200000</td>\n",
       "      <td>1.800000</td>\n",
       "      <td>2.0</td>\n",
       "      <td>NaN</td>\n",
       "      <td>NaN</td>\n",
       "      <td>NaN</td>\n",
       "      <td>NaN</td>\n",
       "      <td>NaN</td>\n",
       "      <td>NaN</td>\n",
       "      <td>NaN</td>\n",
       "      <td>NaN</td>\n",
       "      <td>NaN</td>\n",
       "      <td>NaN</td>\n",
       "      <td>NaN</td>\n",
       "      <td>4.0</td>\n",
       "      <td>3.0</td>\n",
       "      <td>2.0</td>\n",
       "      <td>NaN</td>\n",
       "      <td>NaN</td>\n",
       "      <td>NaN</td>\n",
       "      <td>NaN</td>\n",
       "      <td>NaN</td>\n",
       "      <td>NaN</td>\n",
       "      <td>24.14</td>\n",
       "      <td>13.79</td>\n",
       "      <td>20.69</td>\n",
       "      <td>27.59</td>\n",
       "      <td>10.34</td>\n",
       "      <td>3.45</td>\n",
       "      <td>NaN</td>\n",
       "      <td>NaN</td>\n",
       "      <td>NaN</td>\n",
       "      <td>NaN</td>\n",
       "      <td>NaN</td>\n",
       "      <td>NaN</td>\n",
       "      <td>NaN</td>\n",
       "      <td>NaN</td>\n",
       "      <td>NaN</td>\n",
       "      <td>NaN</td>\n",
       "      <td>NaN</td>\n",
       "      <td>NaN</td>\n",
       "      <td>6.0</td>\n",
       "      <td>8.0</td>\n",
       "      <td>7.0</td>\n",
       "      <td>8.0</td>\n",
       "      <td>6.0</td>\n",
       "      <td>NaN</td>\n",
       "      <td>NaN</td>\n",
       "      <td>NaN</td>\n",
       "      <td>NaN</td>\n",
       "      <td>NaN</td>\n",
       "      <td>0.0</td>\n",
       "      <td>0.0</td>\n",
       "      <td>0.0</td>\n",
       "      <td>NaN</td>\n",
       "      <td>NaN</td>\n",
       "      <td>20.0</td>\n",
       "      <td>20.0</td>\n",
       "      <td>20.0</td>\n",
       "      <td>20.0</td>\n",
       "      <td>0.0</td>\n",
       "      <td>20.0</td>\n",
       "      <td>NaN</td>\n",
       "      <td>NaN</td>\n",
       "      <td>NaN</td>\n",
       "      <td>NaN</td>\n",
       "      <td>NaN</td>\n",
       "      <td>NaN</td>\n",
       "      <td>NaN</td>\n",
       "      <td>NaN</td>\n",
       "      <td>NaN</td>\n",
       "      <td>NaN</td>\n",
       "      <td>NaN</td>\n",
       "      <td>NaN</td>\n",
       "      <td>NaN</td>\n",
       "      <td>NaN</td>\n",
       "      <td>NaN</td>\n",
       "      <td>NaN</td>\n",
       "      <td>NaN</td>\n",
       "      <td>NaN</td>\n",
       "      <td>6.0</td>\n",
       "      <td>5.0</td>\n",
       "      <td>6.0</td>\n",
       "      <td>8.0</td>\n",
       "      <td>5.0</td>\n",
       "      <td>NaN</td>\n",
       "      <td>NaN</td>\n",
       "      <td>NaN</td>\n",
       "      <td>NaN</td>\n",
       "      <td>NaN</td>\n",
       "      <td>Female</td>\n",
       "      <td>Law</td>\n",
       "      <td>Law and Political Science</td>\n",
       "    </tr>\n",
       "    <tr>\n",
       "      <th>4</th>\n",
       "      <td>5</td>\n",
       "      <td>5.0</td>\n",
       "      <td>0.0</td>\n",
       "      <td>9.0</td>\n",
       "      <td>1.0</td>\n",
       "      <td>1.0</td>\n",
       "      <td>10.0</td>\n",
       "      <td>4.0</td>\n",
       "      <td>NaN</td>\n",
       "      <td>5.5</td>\n",
       "      <td>5.5</td>\n",
       "      <td>15.5</td>\n",
       "      <td>0.2</td>\n",
       "      <td>-0.079</td>\n",
       "      <td>0.8</td>\n",
       "      <td>25.2</td>\n",
       "      <td>2.3</td>\n",
       "      <td>44.233</td>\n",
       "      <td>7.911</td>\n",
       "      <td>16.511</td>\n",
       "      <td>16.911</td>\n",
       "      <td>4.511</td>\n",
       "      <td>9.922</td>\n",
       "      <td>0.3</td>\n",
       "      <td>5.3</td>\n",
       "      <td>7.7</td>\n",
       "      <td>7.6</td>\n",
       "      <td>7.2</td>\n",
       "      <td>7.800000</td>\n",
       "      <td>6.2</td>\n",
       "      <td>6.10</td>\n",
       "      <td>6.5</td>\n",
       "      <td>1.700000</td>\n",
       "      <td>21.0</td>\n",
       "      <td>1.0</td>\n",
       "      <td>2.0</td>\n",
       "      <td>8.0</td>\n",
       "      <td>1.0</td>\n",
       "      <td>2.0</td>\n",
       "      <td>4.0</td>\n",
       "      <td>1.0</td>\n",
       "      <td>1.0</td>\n",
       "      <td>7.0</td>\n",
       "      <td>4.0</td>\n",
       "      <td>7.0</td>\n",
       "      <td>7.0</td>\n",
       "      <td>6.0</td>\n",
       "      <td>8.0</td>\n",
       "      <td>6.0</td>\n",
       "      <td>6.0</td>\n",
       "      <td>8.0</td>\n",
       "      <td>6.0</td>\n",
       "      <td>8.0</td>\n",
       "      <td>6.0</td>\n",
       "      <td>6.0</td>\n",
       "      <td>3.0</td>\n",
       "      <td>7.0</td>\n",
       "      <td>8.0</td>\n",
       "      <td>3.0</td>\n",
       "      <td>7.0</td>\n",
       "      <td>10.0</td>\n",
       "      <td>20.0</td>\n",
       "      <td>5.0</td>\n",
       "      <td>25.0</td>\n",
       "      <td>25.0</td>\n",
       "      <td>10.0</td>\n",
       "      <td>15.0</td>\n",
       "      <td>NaN</td>\n",
       "      <td>NaN</td>\n",
       "      <td>NaN</td>\n",
       "      <td>NaN</td>\n",
       "      <td>NaN</td>\n",
       "      <td>NaN</td>\n",
       "      <td>50.0</td>\n",
       "      <td>10.0</td>\n",
       "      <td>10.0</td>\n",
       "      <td>20.0</td>\n",
       "      <td>5.0</td>\n",
       "      <td>5.0</td>\n",
       "      <td>6.0</td>\n",
       "      <td>3.0</td>\n",
       "      <td>6.0</td>\n",
       "      <td>10.0</td>\n",
       "      <td>8.0</td>\n",
       "      <td>NaN</td>\n",
       "      <td>NaN</td>\n",
       "      <td>NaN</td>\n",
       "      <td>NaN</td>\n",
       "      <td>NaN</td>\n",
       "      <td>0.6</td>\n",
       "      <td>6.3</td>\n",
       "      <td>6.0</td>\n",
       "      <td>7.0</td>\n",
       "      <td>6.0</td>\n",
       "      <td>5.6</td>\n",
       "      <td>6.2</td>\n",
       "      <td>7.2</td>\n",
       "      <td>3.700000</td>\n",
       "      <td>1.700000</td>\n",
       "      <td>NaN</td>\n",
       "      <td>NaN</td>\n",
       "      <td>NaN</td>\n",
       "      <td>NaN</td>\n",
       "      <td>NaN</td>\n",
       "      <td>NaN</td>\n",
       "      <td>NaN</td>\n",
       "      <td>NaN</td>\n",
       "      <td>NaN</td>\n",
       "      <td>NaN</td>\n",
       "      <td>NaN</td>\n",
       "      <td>NaN</td>\n",
       "      <td>7.0</td>\n",
       "      <td>2.0</td>\n",
       "      <td>2.0</td>\n",
       "      <td>NaN</td>\n",
       "      <td>NaN</td>\n",
       "      <td>NaN</td>\n",
       "      <td>NaN</td>\n",
       "      <td>NaN</td>\n",
       "      <td>NaN</td>\n",
       "      <td>15.79</td>\n",
       "      <td>13.16</td>\n",
       "      <td>18.42</td>\n",
       "      <td>15.79</td>\n",
       "      <td>15.79</td>\n",
       "      <td>21.05</td>\n",
       "      <td>NaN</td>\n",
       "      <td>NaN</td>\n",
       "      <td>NaN</td>\n",
       "      <td>NaN</td>\n",
       "      <td>NaN</td>\n",
       "      <td>NaN</td>\n",
       "      <td>NaN</td>\n",
       "      <td>NaN</td>\n",
       "      <td>NaN</td>\n",
       "      <td>NaN</td>\n",
       "      <td>NaN</td>\n",
       "      <td>NaN</td>\n",
       "      <td>6.0</td>\n",
       "      <td>6.0</td>\n",
       "      <td>9.0</td>\n",
       "      <td>9.0</td>\n",
       "      <td>9.0</td>\n",
       "      <td>NaN</td>\n",
       "      <td>NaN</td>\n",
       "      <td>NaN</td>\n",
       "      <td>NaN</td>\n",
       "      <td>NaN</td>\n",
       "      <td>0.0</td>\n",
       "      <td>0.0</td>\n",
       "      <td>0.0</td>\n",
       "      <td>NaN</td>\n",
       "      <td>NaN</td>\n",
       "      <td>30.0</td>\n",
       "      <td>10.0</td>\n",
       "      <td>20.0</td>\n",
       "      <td>20.0</td>\n",
       "      <td>10.0</td>\n",
       "      <td>10.0</td>\n",
       "      <td>NaN</td>\n",
       "      <td>NaN</td>\n",
       "      <td>NaN</td>\n",
       "      <td>NaN</td>\n",
       "      <td>NaN</td>\n",
       "      <td>NaN</td>\n",
       "      <td>NaN</td>\n",
       "      <td>NaN</td>\n",
       "      <td>NaN</td>\n",
       "      <td>NaN</td>\n",
       "      <td>NaN</td>\n",
       "      <td>NaN</td>\n",
       "      <td>NaN</td>\n",
       "      <td>NaN</td>\n",
       "      <td>NaN</td>\n",
       "      <td>NaN</td>\n",
       "      <td>NaN</td>\n",
       "      <td>NaN</td>\n",
       "      <td>4.0</td>\n",
       "      <td>5.0</td>\n",
       "      <td>10.0</td>\n",
       "      <td>6.0</td>\n",
       "      <td>10.0</td>\n",
       "      <td>NaN</td>\n",
       "      <td>NaN</td>\n",
       "      <td>NaN</td>\n",
       "      <td>NaN</td>\n",
       "      <td>NaN</td>\n",
       "      <td>Female</td>\n",
       "      <td>Law</td>\n",
       "      <td>Law and Political Science</td>\n",
       "    </tr>\n",
       "  </tbody>\n",
       "</table>\n",
       "</div>"
      ],
      "text/plain": [
       "   iid   id  gender  idg  condtn  wave  round  position  positin1  order  \\\n",
       "0    1  1.0     0.0  1.0     1.0   1.0   10.0       7.0       NaN    5.5   \n",
       "1    2  2.0     0.0  3.0     1.0   1.0   10.0       3.0       NaN    5.5   \n",
       "2    3  3.0     0.0  5.0     1.0   1.0   10.0       9.0       NaN    5.5   \n",
       "3    4  4.0     0.0  7.0     1.0   1.0   10.0       6.0       NaN    5.5   \n",
       "4    5  5.0     0.0  9.0     1.0   1.0   10.0       4.0       NaN    5.5   \n",
       "\n",
       "   partner   pid  match  int_corr  samerace  age_o  race_o  pf_o_att  \\\n",
       "0      5.5  15.5    0.4     0.267       0.1   25.2     2.3    44.233   \n",
       "1      5.5  15.5    0.2     0.258       0.8   25.2     2.3    44.233   \n",
       "2      5.5  15.5    0.0    -0.136       0.8   25.2     2.3    44.233   \n",
       "3      5.5  15.5    0.2    -0.007       0.8   25.2     2.3    44.233   \n",
       "4      5.5  15.5    0.2    -0.079       0.8   25.2     2.3    44.233   \n",
       "\n",
       "   pf_o_sin  pf_o_int  pf_o_fun  pf_o_amb  pf_o_sha  dec_o  attr_o  sinc_o  \\\n",
       "0     7.911    16.511    16.911     4.511     9.922    0.5     6.7     7.4   \n",
       "1     7.911    16.511    16.911     4.511     9.922    0.6     7.7     7.1   \n",
       "2     7.911    16.511    16.911     4.511     9.922    0.5     6.5     7.1   \n",
       "3     7.911    16.511    16.911     4.511     9.922    0.6     7.0     7.1   \n",
       "4     7.911    16.511    16.911     4.511     9.922    0.3     5.3     7.7   \n",
       "\n",
       "   intel_o  fun_o     amb_o  shar_o  like_o  prob_o     met_o   age  field_cd  \\\n",
       "0      8.0    7.2  8.000000     7.1    6.85     5.7  1.900000  21.0       1.0   \n",
       "1      7.9    7.5  7.500000     6.5    7.60     5.5  1.900000  24.0       1.0   \n",
       "2      7.3    6.2  7.111111     6.0    6.00     4.5  1.900000  25.0       2.0   \n",
       "3      7.7    7.5  7.700000     7.2    7.30     6.5  1.777778  23.0       1.0   \n",
       "4      7.6    7.2  7.800000     6.2    6.10     6.5  1.700000  21.0       1.0   \n",
       "\n",
       "   race  imprace  imprelig  goal  date  go_out  career_c  sports  tvsports  \\\n",
       "0   4.0      2.0       4.0   2.0   7.0     1.0       NaN     9.0       2.0   \n",
       "1   2.0      2.0       5.0   1.0   5.0     1.0       NaN     3.0       2.0   \n",
       "2   2.0      8.0       4.0   6.0   3.0     1.0       NaN     3.0       8.0   \n",
       "3   2.0      1.0       1.0   1.0   5.0     1.0       1.0     1.0       1.0   \n",
       "4   2.0      8.0       1.0   2.0   4.0     1.0       1.0     7.0       4.0   \n",
       "\n",
       "   exercise  dining  museums  art  hiking  gaming  clubbing  reading   tv  \\\n",
       "0       8.0     9.0      1.0  1.0     5.0     1.0       5.0      6.0  9.0   \n",
       "1       7.0    10.0      8.0  6.0     3.0     5.0       8.0     10.0  1.0   \n",
       "2       7.0     8.0      5.0  5.0     8.0     4.0       5.0      7.0  8.0   \n",
       "3       6.0     7.0      6.0  7.0     7.0     5.0       7.0      7.0  7.0   \n",
       "4       7.0     7.0      6.0  8.0     6.0     6.0       8.0      6.0  8.0   \n",
       "\n",
       "   theater  movies  concerts  music  shopping  yoga  exphappy  expnum  \\\n",
       "0      1.0    10.0      10.0    9.0       8.0   1.0       3.0     2.0   \n",
       "1      9.0     8.0       7.0    8.0       3.0   1.0       4.0     5.0   \n",
       "2      7.0     7.0       7.0    5.0       8.0   7.0       4.0     2.0   \n",
       "3      9.0     7.0       8.0    7.0       1.0   8.0       1.0     2.0   \n",
       "4      6.0     6.0       3.0    7.0       8.0   3.0       7.0    10.0   \n",
       "\n",
       "   attr1_1  sinc1_1  intel1_1  fun1_1  amb1_1  shar1_1  attr4_1  sinc4_1  \\\n",
       "0     15.0     20.0      20.0    15.0    15.0     15.0      NaN      NaN   \n",
       "1     45.0      5.0      25.0    20.0     0.0      5.0      NaN      NaN   \n",
       "2     35.0     10.0      35.0    10.0    10.0      0.0      NaN      NaN   \n",
       "3     20.0     20.0      20.0    20.0    10.0     10.0      NaN      NaN   \n",
       "4     20.0      5.0      25.0    25.0    10.0     15.0      NaN      NaN   \n",
       "\n",
       "   intel4_1  fun4_1  amb4_1  shar4_1  attr2_1  sinc2_1  intel2_1  fun2_1  \\\n",
       "0       NaN     NaN     NaN      NaN     35.0     20.0      15.0    20.0   \n",
       "1       NaN     NaN     NaN      NaN     65.0      0.0      10.0    25.0   \n",
       "2       NaN     NaN     NaN      NaN     50.0      0.0      20.0    30.0   \n",
       "3       NaN     NaN     NaN      NaN     30.0     10.0      15.0    30.0   \n",
       "4       NaN     NaN     NaN      NaN     50.0     10.0      10.0    20.0   \n",
       "\n",
       "   amb2_1  shar2_1  attr3_1  sinc3_1  fun3_1  intel3_1  amb3_1  attr5_1  \\\n",
       "0     5.0      5.0      6.0      8.0     8.0       8.0     7.0      NaN   \n",
       "1     0.0      0.0      7.0      5.0    10.0       8.0     3.0      NaN   \n",
       "2     0.0      0.0      8.0      9.0     8.0       9.0     8.0      NaN   \n",
       "3     5.0     10.0      7.0      8.0     9.0       7.0     8.0      NaN   \n",
       "4     5.0      5.0      6.0      3.0     6.0      10.0     8.0      NaN   \n",
       "\n",
       "   sinc5_1  intel5_1  fun5_1  amb5_1  dec  attr  sinc  intel  fun  amb  shar  \\\n",
       "0      NaN       NaN     NaN     NaN  0.8   5.7   7.3    7.3  6.8  6.3   6.5   \n",
       "1      NaN       NaN     NaN     NaN  0.4   6.4   7.0    7.7  6.1  6.5   5.7   \n",
       "2      NaN       NaN     NaN     NaN  0.0   8.1   8.6    9.4  7.7  8.8   8.1   \n",
       "3      NaN       NaN     NaN     NaN  0.3   6.4   8.9    8.6  7.8  7.8   7.1   \n",
       "4      NaN       NaN     NaN     NaN  0.6   6.3   6.0    7.0  6.0  5.6   6.2   \n",
       "\n",
       "   like      prob       met  match_es  attr1_s  sinc1_s  intel1_s  fun1_s  \\\n",
       "0   6.5  5.888889  1.777778       4.0      NaN      NaN       NaN     NaN   \n",
       "1   6.6  5.900000  1.900000       3.0      NaN      NaN       NaN     NaN   \n",
       "2   8.2  7.000000  1.900000       NaN      NaN      NaN       NaN     NaN   \n",
       "3   6.6  5.200000  1.800000       2.0      NaN      NaN       NaN     NaN   \n",
       "4   7.2  3.700000  1.700000       NaN      NaN      NaN       NaN     NaN   \n",
       "\n",
       "   amb1_s  shar1_s  attr3_s  sinc3_s  intel3_s  fun3_s  amb3_s  satis_2  \\\n",
       "0     NaN      NaN      NaN      NaN       NaN     NaN     NaN      6.0   \n",
       "1     NaN      NaN      NaN      NaN       NaN     NaN     NaN      5.0   \n",
       "2     NaN      NaN      NaN      NaN       NaN     NaN     NaN      NaN   \n",
       "3     NaN      NaN      NaN      NaN       NaN     NaN     NaN      4.0   \n",
       "4     NaN      NaN      NaN      NaN       NaN     NaN     NaN      7.0   \n",
       "\n",
       "   length  numdat_2  attr7_2  sinc7_2  intel7_2  fun7_2  amb7_2  shar7_2  \\\n",
       "0     2.0       1.0      NaN      NaN       NaN     NaN     NaN      NaN   \n",
       "1     2.0       NaN      NaN      NaN       NaN     NaN     NaN      NaN   \n",
       "2     NaN       NaN      NaN      NaN       NaN     NaN     NaN      NaN   \n",
       "3     3.0       2.0      NaN      NaN       NaN     NaN     NaN      NaN   \n",
       "4     2.0       2.0      NaN      NaN       NaN     NaN     NaN      NaN   \n",
       "\n",
       "   attr1_2  sinc1_2  intel1_2  fun1_2  amb1_2  shar1_2  attr4_2  sinc4_2  \\\n",
       "0    19.44    16.67     13.89   22.22   11.11    16.67      NaN      NaN   \n",
       "1    18.92    18.92     21.62   27.03    5.41     8.11      NaN      NaN   \n",
       "2      NaN      NaN       NaN     NaN     NaN      NaN      NaN      NaN   \n",
       "3    24.14    13.79     20.69   27.59   10.34     3.45      NaN      NaN   \n",
       "4    15.79    13.16     18.42   15.79   15.79    21.05      NaN      NaN   \n",
       "\n",
       "   intel4_2  fun4_2  amb4_2  shar4_2  attr2_2  sinc2_2  intel2_2  fun2_2  \\\n",
       "0       NaN     NaN     NaN      NaN      NaN      NaN       NaN     NaN   \n",
       "1       NaN     NaN     NaN      NaN      NaN      NaN       NaN     NaN   \n",
       "2       NaN     NaN     NaN      NaN      NaN      NaN       NaN     NaN   \n",
       "3       NaN     NaN     NaN      NaN      NaN      NaN       NaN     NaN   \n",
       "4       NaN     NaN     NaN      NaN      NaN      NaN       NaN     NaN   \n",
       "\n",
       "   amb2_2  shar2_2  attr3_2  sinc3_2  intel3_2  fun3_2  amb3_2  attr5_2  \\\n",
       "0     NaN      NaN      6.0      7.0       8.0     7.0     6.0      NaN   \n",
       "1     NaN      NaN      7.0      6.0       8.0     9.0     4.0      NaN   \n",
       "2     NaN      NaN      NaN      NaN       NaN     NaN     NaN      NaN   \n",
       "3     NaN      NaN      6.0      8.0       7.0     8.0     6.0      NaN   \n",
       "4     NaN      NaN      6.0      6.0       9.0     9.0     9.0      NaN   \n",
       "\n",
       "   sinc5_2  intel5_2  fun5_2  amb5_2  you_call  them_cal  date_3  numdat_3  \\\n",
       "0      NaN       NaN     NaN     NaN       1.0       1.0     0.0       NaN   \n",
       "1      NaN       NaN     NaN     NaN       0.0       0.0     0.0       NaN   \n",
       "2      NaN       NaN     NaN     NaN       NaN       NaN     NaN       NaN   \n",
       "3      NaN       NaN     NaN     NaN       0.0       0.0     0.0       NaN   \n",
       "4      NaN       NaN     NaN     NaN       0.0       0.0     0.0       NaN   \n",
       "\n",
       "   num_in_3  attr1_3  sinc1_3  intel1_3  fun1_3  amb1_3  shar1_3  attr7_3  \\\n",
       "0       NaN     15.0     20.0      20.0    15.0    15.0     15.0      NaN   \n",
       "1       NaN     30.0      5.0      40.0    15.0     0.0     10.0      NaN   \n",
       "2       NaN      NaN      NaN       NaN     NaN     NaN      NaN      NaN   \n",
       "3       NaN     20.0     20.0      20.0    20.0     0.0     20.0      NaN   \n",
       "4       NaN     30.0     10.0      20.0    20.0    10.0     10.0      NaN   \n",
       "\n",
       "   sinc7_3  intel7_3  fun7_3  amb7_3  shar7_3  attr4_3  sinc4_3  intel4_3  \\\n",
       "0      NaN       NaN     NaN     NaN      NaN      NaN      NaN       NaN   \n",
       "1      NaN       NaN     NaN     NaN      NaN      NaN      NaN       NaN   \n",
       "2      NaN       NaN     NaN     NaN      NaN      NaN      NaN       NaN   \n",
       "3      NaN       NaN     NaN     NaN      NaN      NaN      NaN       NaN   \n",
       "4      NaN       NaN     NaN     NaN      NaN      NaN      NaN       NaN   \n",
       "\n",
       "   fun4_3  amb4_3  shar4_3  attr2_3  sinc2_3  intel2_3  fun2_3  amb2_3  \\\n",
       "0     NaN     NaN      NaN      NaN      NaN       NaN     NaN     NaN   \n",
       "1     NaN     NaN      NaN      NaN      NaN       NaN     NaN     NaN   \n",
       "2     NaN     NaN      NaN      NaN      NaN       NaN     NaN     NaN   \n",
       "3     NaN     NaN      NaN      NaN      NaN       NaN     NaN     NaN   \n",
       "4     NaN     NaN      NaN      NaN      NaN       NaN     NaN     NaN   \n",
       "\n",
       "   shar2_3  attr3_3  sinc3_3  intel3_3  fun3_3  amb3_3  attr5_3  sinc5_3  \\\n",
       "0      NaN      5.0      7.0       7.0     7.0     7.0      NaN      NaN   \n",
       "1      NaN      7.0      6.0       9.0     9.0     4.0      NaN      NaN   \n",
       "2      NaN      NaN      NaN       NaN     NaN     NaN      NaN      NaN   \n",
       "3      NaN      6.0      5.0       6.0     8.0     5.0      NaN      NaN   \n",
       "4      NaN      4.0      5.0      10.0     6.0    10.0      NaN      NaN   \n",
       "\n",
       "   intel5_3  fun5_3  amb5_3 gender_name field_name            domain_of_study  \n",
       "0       NaN     NaN     NaN      Female        Law  Law and Political Science  \n",
       "1       NaN     NaN     NaN      Female        Law  Law and Political Science  \n",
       "2       NaN     NaN     NaN      Female       Math                   Sciences  \n",
       "3       NaN     NaN     NaN      Female        Law  Law and Political Science  \n",
       "4       NaN     NaN     NaN      Female        Law  Law and Political Science  "
      ]
     },
     "execution_count": 23,
     "metadata": {},
     "output_type": "execute_result"
    }
   ],
   "source": [
    "df_iid.head()"
   ]
  },
  {
   "cell_type": "code",
   "execution_count": 24,
   "metadata": {},
   "outputs": [
    {
     "data": {
      "text/html": [
       "<div>\n",
       "<style scoped>\n",
       "    .dataframe tbody tr th:only-of-type {\n",
       "        vertical-align: middle;\n",
       "    }\n",
       "\n",
       "    .dataframe tbody tr th {\n",
       "        vertical-align: top;\n",
       "    }\n",
       "\n",
       "    .dataframe thead th {\n",
       "        text-align: right;\n",
       "    }\n",
       "</style>\n",
       "<table border=\"1\" class=\"dataframe\">\n",
       "  <thead>\n",
       "    <tr style=\"text-align: right;\">\n",
       "      <th></th>\n",
       "      <th>domain_of_study</th>\n",
       "      <th>gender_name</th>\n",
       "    </tr>\n",
       "  </thead>\n",
       "  <tbody>\n",
       "    <tr>\n",
       "      <th>0</th>\n",
       "      <td>Law and Political Science</td>\n",
       "      <td>Female</td>\n",
       "    </tr>\n",
       "    <tr>\n",
       "      <th>1</th>\n",
       "      <td>Law and Political Science</td>\n",
       "      <td>Female</td>\n",
       "    </tr>\n",
       "    <tr>\n",
       "      <th>2</th>\n",
       "      <td>Sciences</td>\n",
       "      <td>Female</td>\n",
       "    </tr>\n",
       "    <tr>\n",
       "      <th>3</th>\n",
       "      <td>Law and Political Science</td>\n",
       "      <td>Female</td>\n",
       "    </tr>\n",
       "    <tr>\n",
       "      <th>4</th>\n",
       "      <td>Law and Political Science</td>\n",
       "      <td>Female</td>\n",
       "    </tr>\n",
       "  </tbody>\n",
       "</table>\n",
       "</div>"
      ],
      "text/plain": [
       "             domain_of_study gender_name\n",
       "0  Law and Political Science      Female\n",
       "1  Law and Political Science      Female\n",
       "2                   Sciences      Female\n",
       "3  Law and Political Science      Female\n",
       "4  Law and Political Science      Female"
      ]
     },
     "execution_count": 24,
     "metadata": {},
     "output_type": "execute_result"
    }
   ],
   "source": [
    "new_df = df_iid[[\"domain_of_study\", \"gender_name\"]]\n",
    "new_df.head()"
   ]
  },
  {
   "cell_type": "code",
   "execution_count": 25,
   "metadata": {},
   "outputs": [],
   "source": [
    "domain_by_gender_series = new_df.groupby([\"domain_of_study\", \"gender_name\"]).size()"
   ]
  },
  {
   "cell_type": "code",
   "execution_count": 26,
   "metadata": {},
   "outputs": [
    {
     "data": {
      "text/plain": [
       "pandas.core.series.Series"
      ]
     },
     "execution_count": 26,
     "metadata": {},
     "output_type": "execute_result"
    }
   ],
   "source": [
    "type(domain_by_gender_series)"
   ]
  },
  {
   "cell_type": "code",
   "execution_count": 27,
   "metadata": {},
   "outputs": [
    {
     "data": {
      "text/plain": [
       "domain_of_study                          gender_name\n",
       "Architecture                             Male             1\n",
       "Arts                                     Female          12\n",
       "                                         Male             6\n",
       "Economy and Management                   Female          30\n",
       "                                         Male           100\n",
       "Education, Academia                      Female          35\n",
       "                                         Male             5\n",
       "Law and Political Science                Female          45\n",
       "                                         Male            49\n",
       "Literature and Languages                 Female          18\n",
       "                                         Male             6\n",
       "Medicine, Pharma, Biotech                Female           7\n",
       "                                         Male             2\n",
       "Other                                    Female           5\n",
       "                                         Male             5\n",
       "Sciences                                 Female          49\n",
       "                                         Male            82\n",
       "Social Sciences, Humanities, Psychology  Female          44\n",
       "                                         Male            19\n",
       "Social Work                              Female          29\n",
       "                                         Male             1\n",
       "Undergrad / Undecided                    Male             1\n",
       "dtype: int64"
      ]
     },
     "execution_count": 27,
     "metadata": {},
     "output_type": "execute_result"
    }
   ],
   "source": [
    "domain_by_gender_series"
   ]
  },
  {
   "cell_type": "code",
   "execution_count": 28,
   "metadata": {},
   "outputs": [],
   "source": [
    "new_df = domain_by_gender_series.to_frame(name = 'size').reset_index()"
   ]
  },
  {
   "cell_type": "code",
   "execution_count": 29,
   "metadata": {},
   "outputs": [
    {
     "data": {
      "text/html": [
       "<div>\n",
       "<style scoped>\n",
       "    .dataframe tbody tr th:only-of-type {\n",
       "        vertical-align: middle;\n",
       "    }\n",
       "\n",
       "    .dataframe tbody tr th {\n",
       "        vertical-align: top;\n",
       "    }\n",
       "\n",
       "    .dataframe thead th {\n",
       "        text-align: right;\n",
       "    }\n",
       "</style>\n",
       "<table border=\"1\" class=\"dataframe\">\n",
       "  <thead>\n",
       "    <tr style=\"text-align: right;\">\n",
       "      <th></th>\n",
       "      <th>domain_of_study</th>\n",
       "      <th>gender_name</th>\n",
       "      <th>size</th>\n",
       "    </tr>\n",
       "  </thead>\n",
       "  <tbody>\n",
       "    <tr>\n",
       "      <th>0</th>\n",
       "      <td>Architecture</td>\n",
       "      <td>Male</td>\n",
       "      <td>1</td>\n",
       "    </tr>\n",
       "    <tr>\n",
       "      <th>1</th>\n",
       "      <td>Arts</td>\n",
       "      <td>Female</td>\n",
       "      <td>12</td>\n",
       "    </tr>\n",
       "    <tr>\n",
       "      <th>2</th>\n",
       "      <td>Arts</td>\n",
       "      <td>Male</td>\n",
       "      <td>6</td>\n",
       "    </tr>\n",
       "    <tr>\n",
       "      <th>3</th>\n",
       "      <td>Economy and Management</td>\n",
       "      <td>Female</td>\n",
       "      <td>30</td>\n",
       "    </tr>\n",
       "    <tr>\n",
       "      <th>4</th>\n",
       "      <td>Economy and Management</td>\n",
       "      <td>Male</td>\n",
       "      <td>100</td>\n",
       "    </tr>\n",
       "    <tr>\n",
       "      <th>5</th>\n",
       "      <td>Education, Academia</td>\n",
       "      <td>Female</td>\n",
       "      <td>35</td>\n",
       "    </tr>\n",
       "    <tr>\n",
       "      <th>6</th>\n",
       "      <td>Education, Academia</td>\n",
       "      <td>Male</td>\n",
       "      <td>5</td>\n",
       "    </tr>\n",
       "    <tr>\n",
       "      <th>7</th>\n",
       "      <td>Law and Political Science</td>\n",
       "      <td>Female</td>\n",
       "      <td>45</td>\n",
       "    </tr>\n",
       "    <tr>\n",
       "      <th>8</th>\n",
       "      <td>Law and Political Science</td>\n",
       "      <td>Male</td>\n",
       "      <td>49</td>\n",
       "    </tr>\n",
       "    <tr>\n",
       "      <th>9</th>\n",
       "      <td>Literature and Languages</td>\n",
       "      <td>Female</td>\n",
       "      <td>18</td>\n",
       "    </tr>\n",
       "    <tr>\n",
       "      <th>10</th>\n",
       "      <td>Literature and Languages</td>\n",
       "      <td>Male</td>\n",
       "      <td>6</td>\n",
       "    </tr>\n",
       "    <tr>\n",
       "      <th>11</th>\n",
       "      <td>Medicine, Pharma, Biotech</td>\n",
       "      <td>Female</td>\n",
       "      <td>7</td>\n",
       "    </tr>\n",
       "    <tr>\n",
       "      <th>12</th>\n",
       "      <td>Medicine, Pharma, Biotech</td>\n",
       "      <td>Male</td>\n",
       "      <td>2</td>\n",
       "    </tr>\n",
       "    <tr>\n",
       "      <th>13</th>\n",
       "      <td>Other</td>\n",
       "      <td>Female</td>\n",
       "      <td>5</td>\n",
       "    </tr>\n",
       "    <tr>\n",
       "      <th>14</th>\n",
       "      <td>Other</td>\n",
       "      <td>Male</td>\n",
       "      <td>5</td>\n",
       "    </tr>\n",
       "    <tr>\n",
       "      <th>15</th>\n",
       "      <td>Sciences</td>\n",
       "      <td>Female</td>\n",
       "      <td>49</td>\n",
       "    </tr>\n",
       "    <tr>\n",
       "      <th>16</th>\n",
       "      <td>Sciences</td>\n",
       "      <td>Male</td>\n",
       "      <td>82</td>\n",
       "    </tr>\n",
       "    <tr>\n",
       "      <th>17</th>\n",
       "      <td>Social Sciences, Humanities, Psychology</td>\n",
       "      <td>Female</td>\n",
       "      <td>44</td>\n",
       "    </tr>\n",
       "    <tr>\n",
       "      <th>18</th>\n",
       "      <td>Social Sciences, Humanities, Psychology</td>\n",
       "      <td>Male</td>\n",
       "      <td>19</td>\n",
       "    </tr>\n",
       "    <tr>\n",
       "      <th>19</th>\n",
       "      <td>Social Work</td>\n",
       "      <td>Female</td>\n",
       "      <td>29</td>\n",
       "    </tr>\n",
       "    <tr>\n",
       "      <th>20</th>\n",
       "      <td>Social Work</td>\n",
       "      <td>Male</td>\n",
       "      <td>1</td>\n",
       "    </tr>\n",
       "    <tr>\n",
       "      <th>21</th>\n",
       "      <td>Undergrad / Undecided</td>\n",
       "      <td>Male</td>\n",
       "      <td>1</td>\n",
       "    </tr>\n",
       "  </tbody>\n",
       "</table>\n",
       "</div>"
      ],
      "text/plain": [
       "                            domain_of_study gender_name  size\n",
       "0                              Architecture        Male     1\n",
       "1                                      Arts      Female    12\n",
       "2                                      Arts        Male     6\n",
       "3                    Economy and Management      Female    30\n",
       "4                    Economy and Management        Male   100\n",
       "5                       Education, Academia      Female    35\n",
       "6                       Education, Academia        Male     5\n",
       "7                 Law and Political Science      Female    45\n",
       "8                 Law and Political Science        Male    49\n",
       "9                  Literature and Languages      Female    18\n",
       "10                 Literature and Languages        Male     6\n",
       "11                Medicine, Pharma, Biotech      Female     7\n",
       "12                Medicine, Pharma, Biotech        Male     2\n",
       "13                                    Other      Female     5\n",
       "14                                    Other        Male     5\n",
       "15                                 Sciences      Female    49\n",
       "16                                 Sciences        Male    82\n",
       "17  Social Sciences, Humanities, Psychology      Female    44\n",
       "18  Social Sciences, Humanities, Psychology        Male    19\n",
       "19                              Social Work      Female    29\n",
       "20                              Social Work        Male     1\n",
       "21                    Undergrad / Undecided        Male     1"
      ]
     },
     "execution_count": 29,
     "metadata": {},
     "output_type": "execute_result"
    }
   ],
   "source": [
    "new_df"
   ]
  },
  {
   "cell_type": "code",
   "execution_count": 30,
   "metadata": {},
   "outputs": [
    {
     "name": "stderr",
     "output_type": "stream",
     "text": [
      "C:\\Users\\yuliy\\AppData\\Local\\Temp\\ipykernel_11152\\3935170352.py:1: FutureWarning:\n",
      "\n",
      "The default value of numeric_only in DataFrameGroupBy.sum is deprecated. In a future version, numeric_only will default to False. Either specify numeric_only or select only columns which should be valid for the function.\n",
      "\n"
     ]
    }
   ],
   "source": [
    "group_weights = new_df.groupby('domain_of_study').aggregate(sum)\n",
    "new_df['gender_percent_by_domain'] = new_df.apply(lambda row: row['size']/group_weights.loc[row['domain_of_study']][0],axis=1)"
   ]
  },
  {
   "cell_type": "code",
   "execution_count": 31,
   "metadata": {},
   "outputs": [
    {
     "data": {
      "text/html": [
       "<div>\n",
       "<style scoped>\n",
       "    .dataframe tbody tr th:only-of-type {\n",
       "        vertical-align: middle;\n",
       "    }\n",
       "\n",
       "    .dataframe tbody tr th {\n",
       "        vertical-align: top;\n",
       "    }\n",
       "\n",
       "    .dataframe thead th {\n",
       "        text-align: right;\n",
       "    }\n",
       "</style>\n",
       "<table border=\"1\" class=\"dataframe\">\n",
       "  <thead>\n",
       "    <tr style=\"text-align: right;\">\n",
       "      <th></th>\n",
       "      <th>domain_of_study</th>\n",
       "      <th>gender_name</th>\n",
       "      <th>size</th>\n",
       "      <th>gender_percent_by_domain</th>\n",
       "    </tr>\n",
       "  </thead>\n",
       "  <tbody>\n",
       "    <tr>\n",
       "      <th>0</th>\n",
       "      <td>Architecture</td>\n",
       "      <td>Male</td>\n",
       "      <td>1</td>\n",
       "      <td>1.000000</td>\n",
       "    </tr>\n",
       "    <tr>\n",
       "      <th>1</th>\n",
       "      <td>Arts</td>\n",
       "      <td>Female</td>\n",
       "      <td>12</td>\n",
       "      <td>0.666667</td>\n",
       "    </tr>\n",
       "    <tr>\n",
       "      <th>2</th>\n",
       "      <td>Arts</td>\n",
       "      <td>Male</td>\n",
       "      <td>6</td>\n",
       "      <td>0.333333</td>\n",
       "    </tr>\n",
       "    <tr>\n",
       "      <th>3</th>\n",
       "      <td>Economy and Management</td>\n",
       "      <td>Female</td>\n",
       "      <td>30</td>\n",
       "      <td>0.230769</td>\n",
       "    </tr>\n",
       "    <tr>\n",
       "      <th>4</th>\n",
       "      <td>Economy and Management</td>\n",
       "      <td>Male</td>\n",
       "      <td>100</td>\n",
       "      <td>0.769231</td>\n",
       "    </tr>\n",
       "    <tr>\n",
       "      <th>5</th>\n",
       "      <td>Education, Academia</td>\n",
       "      <td>Female</td>\n",
       "      <td>35</td>\n",
       "      <td>0.875000</td>\n",
       "    </tr>\n",
       "    <tr>\n",
       "      <th>6</th>\n",
       "      <td>Education, Academia</td>\n",
       "      <td>Male</td>\n",
       "      <td>5</td>\n",
       "      <td>0.125000</td>\n",
       "    </tr>\n",
       "    <tr>\n",
       "      <th>7</th>\n",
       "      <td>Law and Political Science</td>\n",
       "      <td>Female</td>\n",
       "      <td>45</td>\n",
       "      <td>0.478723</td>\n",
       "    </tr>\n",
       "    <tr>\n",
       "      <th>8</th>\n",
       "      <td>Law and Political Science</td>\n",
       "      <td>Male</td>\n",
       "      <td>49</td>\n",
       "      <td>0.521277</td>\n",
       "    </tr>\n",
       "    <tr>\n",
       "      <th>9</th>\n",
       "      <td>Literature and Languages</td>\n",
       "      <td>Female</td>\n",
       "      <td>18</td>\n",
       "      <td>0.750000</td>\n",
       "    </tr>\n",
       "    <tr>\n",
       "      <th>10</th>\n",
       "      <td>Literature and Languages</td>\n",
       "      <td>Male</td>\n",
       "      <td>6</td>\n",
       "      <td>0.250000</td>\n",
       "    </tr>\n",
       "    <tr>\n",
       "      <th>11</th>\n",
       "      <td>Medicine, Pharma, Biotech</td>\n",
       "      <td>Female</td>\n",
       "      <td>7</td>\n",
       "      <td>0.777778</td>\n",
       "    </tr>\n",
       "    <tr>\n",
       "      <th>12</th>\n",
       "      <td>Medicine, Pharma, Biotech</td>\n",
       "      <td>Male</td>\n",
       "      <td>2</td>\n",
       "      <td>0.222222</td>\n",
       "    </tr>\n",
       "    <tr>\n",
       "      <th>13</th>\n",
       "      <td>Other</td>\n",
       "      <td>Female</td>\n",
       "      <td>5</td>\n",
       "      <td>0.500000</td>\n",
       "    </tr>\n",
       "    <tr>\n",
       "      <th>14</th>\n",
       "      <td>Other</td>\n",
       "      <td>Male</td>\n",
       "      <td>5</td>\n",
       "      <td>0.500000</td>\n",
       "    </tr>\n",
       "    <tr>\n",
       "      <th>15</th>\n",
       "      <td>Sciences</td>\n",
       "      <td>Female</td>\n",
       "      <td>49</td>\n",
       "      <td>0.374046</td>\n",
       "    </tr>\n",
       "    <tr>\n",
       "      <th>16</th>\n",
       "      <td>Sciences</td>\n",
       "      <td>Male</td>\n",
       "      <td>82</td>\n",
       "      <td>0.625954</td>\n",
       "    </tr>\n",
       "    <tr>\n",
       "      <th>17</th>\n",
       "      <td>Social Sciences, Humanities, Psychology</td>\n",
       "      <td>Female</td>\n",
       "      <td>44</td>\n",
       "      <td>0.698413</td>\n",
       "    </tr>\n",
       "    <tr>\n",
       "      <th>18</th>\n",
       "      <td>Social Sciences, Humanities, Psychology</td>\n",
       "      <td>Male</td>\n",
       "      <td>19</td>\n",
       "      <td>0.301587</td>\n",
       "    </tr>\n",
       "    <tr>\n",
       "      <th>19</th>\n",
       "      <td>Social Work</td>\n",
       "      <td>Female</td>\n",
       "      <td>29</td>\n",
       "      <td>0.966667</td>\n",
       "    </tr>\n",
       "    <tr>\n",
       "      <th>20</th>\n",
       "      <td>Social Work</td>\n",
       "      <td>Male</td>\n",
       "      <td>1</td>\n",
       "      <td>0.033333</td>\n",
       "    </tr>\n",
       "    <tr>\n",
       "      <th>21</th>\n",
       "      <td>Undergrad / Undecided</td>\n",
       "      <td>Male</td>\n",
       "      <td>1</td>\n",
       "      <td>1.000000</td>\n",
       "    </tr>\n",
       "  </tbody>\n",
       "</table>\n",
       "</div>"
      ],
      "text/plain": [
       "                            domain_of_study gender_name  size  \\\n",
       "0                              Architecture        Male     1   \n",
       "1                                      Arts      Female    12   \n",
       "2                                      Arts        Male     6   \n",
       "3                    Economy and Management      Female    30   \n",
       "4                    Economy and Management        Male   100   \n",
       "5                       Education, Academia      Female    35   \n",
       "6                       Education, Academia        Male     5   \n",
       "7                 Law and Political Science      Female    45   \n",
       "8                 Law and Political Science        Male    49   \n",
       "9                  Literature and Languages      Female    18   \n",
       "10                 Literature and Languages        Male     6   \n",
       "11                Medicine, Pharma, Biotech      Female     7   \n",
       "12                Medicine, Pharma, Biotech        Male     2   \n",
       "13                                    Other      Female     5   \n",
       "14                                    Other        Male     5   \n",
       "15                                 Sciences      Female    49   \n",
       "16                                 Sciences        Male    82   \n",
       "17  Social Sciences, Humanities, Psychology      Female    44   \n",
       "18  Social Sciences, Humanities, Psychology        Male    19   \n",
       "19                              Social Work      Female    29   \n",
       "20                              Social Work        Male     1   \n",
       "21                    Undergrad / Undecided        Male     1   \n",
       "\n",
       "    gender_percent_by_domain  \n",
       "0                   1.000000  \n",
       "1                   0.666667  \n",
       "2                   0.333333  \n",
       "3                   0.230769  \n",
       "4                   0.769231  \n",
       "5                   0.875000  \n",
       "6                   0.125000  \n",
       "7                   0.478723  \n",
       "8                   0.521277  \n",
       "9                   0.750000  \n",
       "10                  0.250000  \n",
       "11                  0.777778  \n",
       "12                  0.222222  \n",
       "13                  0.500000  \n",
       "14                  0.500000  \n",
       "15                  0.374046  \n",
       "16                  0.625954  \n",
       "17                  0.698413  \n",
       "18                  0.301587  \n",
       "19                  0.966667  \n",
       "20                  0.033333  \n",
       "21                  1.000000  "
      ]
     },
     "execution_count": 31,
     "metadata": {},
     "output_type": "execute_result"
    }
   ],
   "source": [
    "new_df"
   ]
  },
  {
   "cell_type": "code",
   "execution_count": 32,
   "metadata": {},
   "outputs": [],
   "source": [
    "new_df[\"percentage\"] = new_df[\"gender_percent_by_domain\"].apply(lambda x: str(round(x*100, 1)) + \" %\")"
   ]
  },
  {
   "cell_type": "code",
   "execution_count": 33,
   "metadata": {},
   "outputs": [
    {
     "data": {
      "text/html": [
       "<div>\n",
       "<style scoped>\n",
       "    .dataframe tbody tr th:only-of-type {\n",
       "        vertical-align: middle;\n",
       "    }\n",
       "\n",
       "    .dataframe tbody tr th {\n",
       "        vertical-align: top;\n",
       "    }\n",
       "\n",
       "    .dataframe thead th {\n",
       "        text-align: right;\n",
       "    }\n",
       "</style>\n",
       "<table border=\"1\" class=\"dataframe\">\n",
       "  <thead>\n",
       "    <tr style=\"text-align: right;\">\n",
       "      <th></th>\n",
       "      <th>domain_of_study</th>\n",
       "      <th>gender_name</th>\n",
       "      <th>size</th>\n",
       "      <th>gender_percent_by_domain</th>\n",
       "      <th>percentage</th>\n",
       "    </tr>\n",
       "  </thead>\n",
       "  <tbody>\n",
       "    <tr>\n",
       "      <th>0</th>\n",
       "      <td>Architecture</td>\n",
       "      <td>Male</td>\n",
       "      <td>1</td>\n",
       "      <td>1.000000</td>\n",
       "      <td>100.0 %</td>\n",
       "    </tr>\n",
       "    <tr>\n",
       "      <th>1</th>\n",
       "      <td>Arts</td>\n",
       "      <td>Female</td>\n",
       "      <td>12</td>\n",
       "      <td>0.666667</td>\n",
       "      <td>66.7 %</td>\n",
       "    </tr>\n",
       "    <tr>\n",
       "      <th>2</th>\n",
       "      <td>Arts</td>\n",
       "      <td>Male</td>\n",
       "      <td>6</td>\n",
       "      <td>0.333333</td>\n",
       "      <td>33.3 %</td>\n",
       "    </tr>\n",
       "    <tr>\n",
       "      <th>3</th>\n",
       "      <td>Economy and Management</td>\n",
       "      <td>Female</td>\n",
       "      <td>30</td>\n",
       "      <td>0.230769</td>\n",
       "      <td>23.1 %</td>\n",
       "    </tr>\n",
       "    <tr>\n",
       "      <th>4</th>\n",
       "      <td>Economy and Management</td>\n",
       "      <td>Male</td>\n",
       "      <td>100</td>\n",
       "      <td>0.769231</td>\n",
       "      <td>76.9 %</td>\n",
       "    </tr>\n",
       "    <tr>\n",
       "      <th>5</th>\n",
       "      <td>Education, Academia</td>\n",
       "      <td>Female</td>\n",
       "      <td>35</td>\n",
       "      <td>0.875000</td>\n",
       "      <td>87.5 %</td>\n",
       "    </tr>\n",
       "    <tr>\n",
       "      <th>6</th>\n",
       "      <td>Education, Academia</td>\n",
       "      <td>Male</td>\n",
       "      <td>5</td>\n",
       "      <td>0.125000</td>\n",
       "      <td>12.5 %</td>\n",
       "    </tr>\n",
       "    <tr>\n",
       "      <th>7</th>\n",
       "      <td>Law and Political Science</td>\n",
       "      <td>Female</td>\n",
       "      <td>45</td>\n",
       "      <td>0.478723</td>\n",
       "      <td>47.9 %</td>\n",
       "    </tr>\n",
       "    <tr>\n",
       "      <th>8</th>\n",
       "      <td>Law and Political Science</td>\n",
       "      <td>Male</td>\n",
       "      <td>49</td>\n",
       "      <td>0.521277</td>\n",
       "      <td>52.1 %</td>\n",
       "    </tr>\n",
       "    <tr>\n",
       "      <th>9</th>\n",
       "      <td>Literature and Languages</td>\n",
       "      <td>Female</td>\n",
       "      <td>18</td>\n",
       "      <td>0.750000</td>\n",
       "      <td>75.0 %</td>\n",
       "    </tr>\n",
       "    <tr>\n",
       "      <th>10</th>\n",
       "      <td>Literature and Languages</td>\n",
       "      <td>Male</td>\n",
       "      <td>6</td>\n",
       "      <td>0.250000</td>\n",
       "      <td>25.0 %</td>\n",
       "    </tr>\n",
       "    <tr>\n",
       "      <th>11</th>\n",
       "      <td>Medicine, Pharma, Biotech</td>\n",
       "      <td>Female</td>\n",
       "      <td>7</td>\n",
       "      <td>0.777778</td>\n",
       "      <td>77.8 %</td>\n",
       "    </tr>\n",
       "    <tr>\n",
       "      <th>12</th>\n",
       "      <td>Medicine, Pharma, Biotech</td>\n",
       "      <td>Male</td>\n",
       "      <td>2</td>\n",
       "      <td>0.222222</td>\n",
       "      <td>22.2 %</td>\n",
       "    </tr>\n",
       "    <tr>\n",
       "      <th>13</th>\n",
       "      <td>Other</td>\n",
       "      <td>Female</td>\n",
       "      <td>5</td>\n",
       "      <td>0.500000</td>\n",
       "      <td>50.0 %</td>\n",
       "    </tr>\n",
       "    <tr>\n",
       "      <th>14</th>\n",
       "      <td>Other</td>\n",
       "      <td>Male</td>\n",
       "      <td>5</td>\n",
       "      <td>0.500000</td>\n",
       "      <td>50.0 %</td>\n",
       "    </tr>\n",
       "    <tr>\n",
       "      <th>15</th>\n",
       "      <td>Sciences</td>\n",
       "      <td>Female</td>\n",
       "      <td>49</td>\n",
       "      <td>0.374046</td>\n",
       "      <td>37.4 %</td>\n",
       "    </tr>\n",
       "    <tr>\n",
       "      <th>16</th>\n",
       "      <td>Sciences</td>\n",
       "      <td>Male</td>\n",
       "      <td>82</td>\n",
       "      <td>0.625954</td>\n",
       "      <td>62.6 %</td>\n",
       "    </tr>\n",
       "    <tr>\n",
       "      <th>17</th>\n",
       "      <td>Social Sciences, Humanities, Psychology</td>\n",
       "      <td>Female</td>\n",
       "      <td>44</td>\n",
       "      <td>0.698413</td>\n",
       "      <td>69.8 %</td>\n",
       "    </tr>\n",
       "    <tr>\n",
       "      <th>18</th>\n",
       "      <td>Social Sciences, Humanities, Psychology</td>\n",
       "      <td>Male</td>\n",
       "      <td>19</td>\n",
       "      <td>0.301587</td>\n",
       "      <td>30.2 %</td>\n",
       "    </tr>\n",
       "    <tr>\n",
       "      <th>19</th>\n",
       "      <td>Social Work</td>\n",
       "      <td>Female</td>\n",
       "      <td>29</td>\n",
       "      <td>0.966667</td>\n",
       "      <td>96.7 %</td>\n",
       "    </tr>\n",
       "    <tr>\n",
       "      <th>20</th>\n",
       "      <td>Social Work</td>\n",
       "      <td>Male</td>\n",
       "      <td>1</td>\n",
       "      <td>0.033333</td>\n",
       "      <td>3.3 %</td>\n",
       "    </tr>\n",
       "    <tr>\n",
       "      <th>21</th>\n",
       "      <td>Undergrad / Undecided</td>\n",
       "      <td>Male</td>\n",
       "      <td>1</td>\n",
       "      <td>1.000000</td>\n",
       "      <td>100.0 %</td>\n",
       "    </tr>\n",
       "  </tbody>\n",
       "</table>\n",
       "</div>"
      ],
      "text/plain": [
       "                            domain_of_study gender_name  size  \\\n",
       "0                              Architecture        Male     1   \n",
       "1                                      Arts      Female    12   \n",
       "2                                      Arts        Male     6   \n",
       "3                    Economy and Management      Female    30   \n",
       "4                    Economy and Management        Male   100   \n",
       "5                       Education, Academia      Female    35   \n",
       "6                       Education, Academia        Male     5   \n",
       "7                 Law and Political Science      Female    45   \n",
       "8                 Law and Political Science        Male    49   \n",
       "9                  Literature and Languages      Female    18   \n",
       "10                 Literature and Languages        Male     6   \n",
       "11                Medicine, Pharma, Biotech      Female     7   \n",
       "12                Medicine, Pharma, Biotech        Male     2   \n",
       "13                                    Other      Female     5   \n",
       "14                                    Other        Male     5   \n",
       "15                                 Sciences      Female    49   \n",
       "16                                 Sciences        Male    82   \n",
       "17  Social Sciences, Humanities, Psychology      Female    44   \n",
       "18  Social Sciences, Humanities, Psychology        Male    19   \n",
       "19                              Social Work      Female    29   \n",
       "20                              Social Work        Male     1   \n",
       "21                    Undergrad / Undecided        Male     1   \n",
       "\n",
       "    gender_percent_by_domain percentage  \n",
       "0                   1.000000    100.0 %  \n",
       "1                   0.666667     66.7 %  \n",
       "2                   0.333333     33.3 %  \n",
       "3                   0.230769     23.1 %  \n",
       "4                   0.769231     76.9 %  \n",
       "5                   0.875000     87.5 %  \n",
       "6                   0.125000     12.5 %  \n",
       "7                   0.478723     47.9 %  \n",
       "8                   0.521277     52.1 %  \n",
       "9                   0.750000     75.0 %  \n",
       "10                  0.250000     25.0 %  \n",
       "11                  0.777778     77.8 %  \n",
       "12                  0.222222     22.2 %  \n",
       "13                  0.500000     50.0 %  \n",
       "14                  0.500000     50.0 %  \n",
       "15                  0.374046     37.4 %  \n",
       "16                  0.625954     62.6 %  \n",
       "17                  0.698413     69.8 %  \n",
       "18                  0.301587     30.2 %  \n",
       "19                  0.966667     96.7 %  \n",
       "20                  0.033333      3.3 %  \n",
       "21                  1.000000    100.0 %  "
      ]
     },
     "execution_count": 33,
     "metadata": {},
     "output_type": "execute_result"
    }
   ],
   "source": [
    "new_df"
   ]
  },
  {
   "cell_type": "code",
   "execution_count": 34,
   "metadata": {},
   "outputs": [],
   "source": [
    "new_df.sort_values(by=['gender_percent_by_domain'], inplace=True)"
   ]
  },
  {
   "cell_type": "code",
   "execution_count": 35,
   "metadata": {},
   "outputs": [
    {
     "data": {
      "text/html": [
       "<div>\n",
       "<style scoped>\n",
       "    .dataframe tbody tr th:only-of-type {\n",
       "        vertical-align: middle;\n",
       "    }\n",
       "\n",
       "    .dataframe tbody tr th {\n",
       "        vertical-align: top;\n",
       "    }\n",
       "\n",
       "    .dataframe thead th {\n",
       "        text-align: right;\n",
       "    }\n",
       "</style>\n",
       "<table border=\"1\" class=\"dataframe\">\n",
       "  <thead>\n",
       "    <tr style=\"text-align: right;\">\n",
       "      <th></th>\n",
       "      <th>domain_of_study</th>\n",
       "      <th>gender_name</th>\n",
       "      <th>size</th>\n",
       "      <th>gender_percent_by_domain</th>\n",
       "      <th>percentage</th>\n",
       "    </tr>\n",
       "  </thead>\n",
       "  <tbody>\n",
       "    <tr>\n",
       "      <th>20</th>\n",
       "      <td>Social Work</td>\n",
       "      <td>Male</td>\n",
       "      <td>1</td>\n",
       "      <td>0.033333</td>\n",
       "      <td>3.3 %</td>\n",
       "    </tr>\n",
       "    <tr>\n",
       "      <th>6</th>\n",
       "      <td>Education, Academia</td>\n",
       "      <td>Male</td>\n",
       "      <td>5</td>\n",
       "      <td>0.125000</td>\n",
       "      <td>12.5 %</td>\n",
       "    </tr>\n",
       "    <tr>\n",
       "      <th>12</th>\n",
       "      <td>Medicine, Pharma, Biotech</td>\n",
       "      <td>Male</td>\n",
       "      <td>2</td>\n",
       "      <td>0.222222</td>\n",
       "      <td>22.2 %</td>\n",
       "    </tr>\n",
       "    <tr>\n",
       "      <th>3</th>\n",
       "      <td>Economy and Management</td>\n",
       "      <td>Female</td>\n",
       "      <td>30</td>\n",
       "      <td>0.230769</td>\n",
       "      <td>23.1 %</td>\n",
       "    </tr>\n",
       "    <tr>\n",
       "      <th>10</th>\n",
       "      <td>Literature and Languages</td>\n",
       "      <td>Male</td>\n",
       "      <td>6</td>\n",
       "      <td>0.250000</td>\n",
       "      <td>25.0 %</td>\n",
       "    </tr>\n",
       "    <tr>\n",
       "      <th>18</th>\n",
       "      <td>Social Sciences, Humanities, Psychology</td>\n",
       "      <td>Male</td>\n",
       "      <td>19</td>\n",
       "      <td>0.301587</td>\n",
       "      <td>30.2 %</td>\n",
       "    </tr>\n",
       "    <tr>\n",
       "      <th>2</th>\n",
       "      <td>Arts</td>\n",
       "      <td>Male</td>\n",
       "      <td>6</td>\n",
       "      <td>0.333333</td>\n",
       "      <td>33.3 %</td>\n",
       "    </tr>\n",
       "    <tr>\n",
       "      <th>15</th>\n",
       "      <td>Sciences</td>\n",
       "      <td>Female</td>\n",
       "      <td>49</td>\n",
       "      <td>0.374046</td>\n",
       "      <td>37.4 %</td>\n",
       "    </tr>\n",
       "    <tr>\n",
       "      <th>7</th>\n",
       "      <td>Law and Political Science</td>\n",
       "      <td>Female</td>\n",
       "      <td>45</td>\n",
       "      <td>0.478723</td>\n",
       "      <td>47.9 %</td>\n",
       "    </tr>\n",
       "    <tr>\n",
       "      <th>13</th>\n",
       "      <td>Other</td>\n",
       "      <td>Female</td>\n",
       "      <td>5</td>\n",
       "      <td>0.500000</td>\n",
       "      <td>50.0 %</td>\n",
       "    </tr>\n",
       "    <tr>\n",
       "      <th>14</th>\n",
       "      <td>Other</td>\n",
       "      <td>Male</td>\n",
       "      <td>5</td>\n",
       "      <td>0.500000</td>\n",
       "      <td>50.0 %</td>\n",
       "    </tr>\n",
       "    <tr>\n",
       "      <th>8</th>\n",
       "      <td>Law and Political Science</td>\n",
       "      <td>Male</td>\n",
       "      <td>49</td>\n",
       "      <td>0.521277</td>\n",
       "      <td>52.1 %</td>\n",
       "    </tr>\n",
       "    <tr>\n",
       "      <th>16</th>\n",
       "      <td>Sciences</td>\n",
       "      <td>Male</td>\n",
       "      <td>82</td>\n",
       "      <td>0.625954</td>\n",
       "      <td>62.6 %</td>\n",
       "    </tr>\n",
       "    <tr>\n",
       "      <th>1</th>\n",
       "      <td>Arts</td>\n",
       "      <td>Female</td>\n",
       "      <td>12</td>\n",
       "      <td>0.666667</td>\n",
       "      <td>66.7 %</td>\n",
       "    </tr>\n",
       "    <tr>\n",
       "      <th>17</th>\n",
       "      <td>Social Sciences, Humanities, Psychology</td>\n",
       "      <td>Female</td>\n",
       "      <td>44</td>\n",
       "      <td>0.698413</td>\n",
       "      <td>69.8 %</td>\n",
       "    </tr>\n",
       "    <tr>\n",
       "      <th>9</th>\n",
       "      <td>Literature and Languages</td>\n",
       "      <td>Female</td>\n",
       "      <td>18</td>\n",
       "      <td>0.750000</td>\n",
       "      <td>75.0 %</td>\n",
       "    </tr>\n",
       "    <tr>\n",
       "      <th>4</th>\n",
       "      <td>Economy and Management</td>\n",
       "      <td>Male</td>\n",
       "      <td>100</td>\n",
       "      <td>0.769231</td>\n",
       "      <td>76.9 %</td>\n",
       "    </tr>\n",
       "    <tr>\n",
       "      <th>11</th>\n",
       "      <td>Medicine, Pharma, Biotech</td>\n",
       "      <td>Female</td>\n",
       "      <td>7</td>\n",
       "      <td>0.777778</td>\n",
       "      <td>77.8 %</td>\n",
       "    </tr>\n",
       "    <tr>\n",
       "      <th>5</th>\n",
       "      <td>Education, Academia</td>\n",
       "      <td>Female</td>\n",
       "      <td>35</td>\n",
       "      <td>0.875000</td>\n",
       "      <td>87.5 %</td>\n",
       "    </tr>\n",
       "    <tr>\n",
       "      <th>19</th>\n",
       "      <td>Social Work</td>\n",
       "      <td>Female</td>\n",
       "      <td>29</td>\n",
       "      <td>0.966667</td>\n",
       "      <td>96.7 %</td>\n",
       "    </tr>\n",
       "    <tr>\n",
       "      <th>0</th>\n",
       "      <td>Architecture</td>\n",
       "      <td>Male</td>\n",
       "      <td>1</td>\n",
       "      <td>1.000000</td>\n",
       "      <td>100.0 %</td>\n",
       "    </tr>\n",
       "    <tr>\n",
       "      <th>21</th>\n",
       "      <td>Undergrad / Undecided</td>\n",
       "      <td>Male</td>\n",
       "      <td>1</td>\n",
       "      <td>1.000000</td>\n",
       "      <td>100.0 %</td>\n",
       "    </tr>\n",
       "  </tbody>\n",
       "</table>\n",
       "</div>"
      ],
      "text/plain": [
       "                            domain_of_study gender_name  size  \\\n",
       "20                              Social Work        Male     1   \n",
       "6                       Education, Academia        Male     5   \n",
       "12                Medicine, Pharma, Biotech        Male     2   \n",
       "3                    Economy and Management      Female    30   \n",
       "10                 Literature and Languages        Male     6   \n",
       "18  Social Sciences, Humanities, Psychology        Male    19   \n",
       "2                                      Arts        Male     6   \n",
       "15                                 Sciences      Female    49   \n",
       "7                 Law and Political Science      Female    45   \n",
       "13                                    Other      Female     5   \n",
       "14                                    Other        Male     5   \n",
       "8                 Law and Political Science        Male    49   \n",
       "16                                 Sciences        Male    82   \n",
       "1                                      Arts      Female    12   \n",
       "17  Social Sciences, Humanities, Psychology      Female    44   \n",
       "9                  Literature and Languages      Female    18   \n",
       "4                    Economy and Management        Male   100   \n",
       "11                Medicine, Pharma, Biotech      Female     7   \n",
       "5                       Education, Academia      Female    35   \n",
       "19                              Social Work      Female    29   \n",
       "0                              Architecture        Male     1   \n",
       "21                    Undergrad / Undecided        Male     1   \n",
       "\n",
       "    gender_percent_by_domain percentage  \n",
       "20                  0.033333      3.3 %  \n",
       "6                   0.125000     12.5 %  \n",
       "12                  0.222222     22.2 %  \n",
       "3                   0.230769     23.1 %  \n",
       "10                  0.250000     25.0 %  \n",
       "18                  0.301587     30.2 %  \n",
       "2                   0.333333     33.3 %  \n",
       "15                  0.374046     37.4 %  \n",
       "7                   0.478723     47.9 %  \n",
       "13                  0.500000     50.0 %  \n",
       "14                  0.500000     50.0 %  \n",
       "8                   0.521277     52.1 %  \n",
       "16                  0.625954     62.6 %  \n",
       "1                   0.666667     66.7 %  \n",
       "17                  0.698413     69.8 %  \n",
       "9                   0.750000     75.0 %  \n",
       "4                   0.769231     76.9 %  \n",
       "11                  0.777778     77.8 %  \n",
       "5                   0.875000     87.5 %  \n",
       "19                  0.966667     96.7 %  \n",
       "0                   1.000000    100.0 %  \n",
       "21                  1.000000    100.0 %  "
      ]
     },
     "execution_count": 35,
     "metadata": {},
     "output_type": "execute_result"
    }
   ],
   "source": [
    "new_df"
   ]
  },
  {
   "cell_type": "code",
   "execution_count": 36,
   "metadata": {},
   "outputs": [
    {
     "data": {
      "application/vnd.plotly.v1+json": {
       "config": {
        "plotlyServerURL": "https://plot.ly"
       },
       "data": [
        {
         "alignmentgroup": "True",
         "hovertemplate": "gender_name=Male<br>gender_percent_by_domain=%{x}<br>domain_of_study=%{y}<br>percentage=%{text}<extra></extra>",
         "legendgroup": "Male",
         "marker": {
          "color": "#1179f0",
          "opacity": 0.85
         },
         "name": "Male",
         "offsetgroup": "Male",
         "orientation": "h",
         "showlegend": true,
         "text": [
          "3.3 %",
          "12.5 %",
          "22.2 %",
          "25.0 %",
          "30.2 %",
          "33.3 %",
          "50.0 %",
          "52.1 %",
          "62.6 %",
          "76.9 %",
          "100.0 %",
          "100.0 %"
         ],
         "textfont": {
          "color": "#ffffff"
         },
         "textposition": "auto",
         "type": "bar",
         "x": [
          0.03333333333333333,
          0.125,
          0.2222222222222222,
          0.25,
          0.30158730158730157,
          0.3333333333333333,
          0.5,
          0.5212765957446809,
          0.6259541984732825,
          0.7692307692307693,
          1,
          1
         ],
         "xaxis": "x",
         "y": [
          "Social Work",
          "Education, Academia",
          "Medicine, Pharma, Biotech",
          "Literature and Languages",
          "Social Sciences, Humanities, Psychology",
          "Arts",
          "Other",
          "Law and Political Science",
          "Sciences",
          "Economy and Management",
          "Architecture",
          "Undergrad / Undecided"
         ],
         "yaxis": "y"
        },
        {
         "alignmentgroup": "True",
         "hovertemplate": "gender_name=Female<br>gender_percent_by_domain=%{x}<br>domain_of_study=%{y}<br>percentage=%{text}<extra></extra>",
         "legendgroup": "Female",
         "marker": {
          "color": "#F78FE4",
          "opacity": 0.85
         },
         "name": "Female",
         "offsetgroup": "Female",
         "orientation": "h",
         "showlegend": true,
         "text": [
          "23.1 %",
          "37.4 %",
          "47.9 %",
          "50.0 %",
          "66.7 %",
          "69.8 %",
          "75.0 %",
          "77.8 %",
          "87.5 %",
          "96.7 %"
         ],
         "textfont": {
          "color": "#ffffff"
         },
         "textposition": "auto",
         "type": "bar",
         "x": [
          0.23076923076923078,
          0.37404580152671757,
          0.4787234042553192,
          0.5,
          0.6666666666666666,
          0.6984126984126984,
          0.75,
          0.7777777777777778,
          0.875,
          0.9666666666666667
         ],
         "xaxis": "x",
         "y": [
          "Economy and Management",
          "Sciences",
          "Law and Political Science",
          "Other",
          "Arts",
          "Social Sciences, Humanities, Psychology",
          "Literature and Languages",
          "Medicine, Pharma, Biotech",
          "Education, Academia",
          "Social Work"
         ],
         "yaxis": "y"
        }
       ],
       "layout": {
        "barmode": "stack",
        "legend": {
         "title": {
          "text": "gender_name"
         },
         "tracegroupgap": 0
        },
        "margin": {
         "t": 60
        },
        "template": {
         "data": {
          "bar": [
           {
            "error_x": {
             "color": "#2a3f5f"
            },
            "error_y": {
             "color": "#2a3f5f"
            },
            "marker": {
             "line": {
              "color": "#E5ECF6",
              "width": 0.5
             }
            },
            "type": "bar"
           }
          ],
          "barpolar": [
           {
            "marker": {
             "line": {
              "color": "#E5ECF6",
              "width": 0.5
             }
            },
            "type": "barpolar"
           }
          ],
          "carpet": [
           {
            "aaxis": {
             "endlinecolor": "#2a3f5f",
             "gridcolor": "white",
             "linecolor": "white",
             "minorgridcolor": "white",
             "startlinecolor": "#2a3f5f"
            },
            "baxis": {
             "endlinecolor": "#2a3f5f",
             "gridcolor": "white",
             "linecolor": "white",
             "minorgridcolor": "white",
             "startlinecolor": "#2a3f5f"
            },
            "type": "carpet"
           }
          ],
          "choropleth": [
           {
            "colorbar": {
             "outlinewidth": 0,
             "ticks": ""
            },
            "type": "choropleth"
           }
          ],
          "contour": [
           {
            "colorbar": {
             "outlinewidth": 0,
             "ticks": ""
            },
            "colorscale": [
             [
              0,
              "#0d0887"
             ],
             [
              0.1111111111111111,
              "#46039f"
             ],
             [
              0.2222222222222222,
              "#7201a8"
             ],
             [
              0.3333333333333333,
              "#9c179e"
             ],
             [
              0.4444444444444444,
              "#bd3786"
             ],
             [
              0.5555555555555556,
              "#d8576b"
             ],
             [
              0.6666666666666666,
              "#ed7953"
             ],
             [
              0.7777777777777778,
              "#fb9f3a"
             ],
             [
              0.8888888888888888,
              "#fdca26"
             ],
             [
              1,
              "#f0f921"
             ]
            ],
            "type": "contour"
           }
          ],
          "contourcarpet": [
           {
            "colorbar": {
             "outlinewidth": 0,
             "ticks": ""
            },
            "type": "contourcarpet"
           }
          ],
          "heatmap": [
           {
            "colorbar": {
             "outlinewidth": 0,
             "ticks": ""
            },
            "colorscale": [
             [
              0,
              "#0d0887"
             ],
             [
              0.1111111111111111,
              "#46039f"
             ],
             [
              0.2222222222222222,
              "#7201a8"
             ],
             [
              0.3333333333333333,
              "#9c179e"
             ],
             [
              0.4444444444444444,
              "#bd3786"
             ],
             [
              0.5555555555555556,
              "#d8576b"
             ],
             [
              0.6666666666666666,
              "#ed7953"
             ],
             [
              0.7777777777777778,
              "#fb9f3a"
             ],
             [
              0.8888888888888888,
              "#fdca26"
             ],
             [
              1,
              "#f0f921"
             ]
            ],
            "type": "heatmap"
           }
          ],
          "heatmapgl": [
           {
            "colorbar": {
             "outlinewidth": 0,
             "ticks": ""
            },
            "colorscale": [
             [
              0,
              "#0d0887"
             ],
             [
              0.1111111111111111,
              "#46039f"
             ],
             [
              0.2222222222222222,
              "#7201a8"
             ],
             [
              0.3333333333333333,
              "#9c179e"
             ],
             [
              0.4444444444444444,
              "#bd3786"
             ],
             [
              0.5555555555555556,
              "#d8576b"
             ],
             [
              0.6666666666666666,
              "#ed7953"
             ],
             [
              0.7777777777777778,
              "#fb9f3a"
             ],
             [
              0.8888888888888888,
              "#fdca26"
             ],
             [
              1,
              "#f0f921"
             ]
            ],
            "type": "heatmapgl"
           }
          ],
          "histogram": [
           {
            "marker": {
             "colorbar": {
              "outlinewidth": 0,
              "ticks": ""
             }
            },
            "type": "histogram"
           }
          ],
          "histogram2d": [
           {
            "colorbar": {
             "outlinewidth": 0,
             "ticks": ""
            },
            "colorscale": [
             [
              0,
              "#0d0887"
             ],
             [
              0.1111111111111111,
              "#46039f"
             ],
             [
              0.2222222222222222,
              "#7201a8"
             ],
             [
              0.3333333333333333,
              "#9c179e"
             ],
             [
              0.4444444444444444,
              "#bd3786"
             ],
             [
              0.5555555555555556,
              "#d8576b"
             ],
             [
              0.6666666666666666,
              "#ed7953"
             ],
             [
              0.7777777777777778,
              "#fb9f3a"
             ],
             [
              0.8888888888888888,
              "#fdca26"
             ],
             [
              1,
              "#f0f921"
             ]
            ],
            "type": "histogram2d"
           }
          ],
          "histogram2dcontour": [
           {
            "colorbar": {
             "outlinewidth": 0,
             "ticks": ""
            },
            "colorscale": [
             [
              0,
              "#0d0887"
             ],
             [
              0.1111111111111111,
              "#46039f"
             ],
             [
              0.2222222222222222,
              "#7201a8"
             ],
             [
              0.3333333333333333,
              "#9c179e"
             ],
             [
              0.4444444444444444,
              "#bd3786"
             ],
             [
              0.5555555555555556,
              "#d8576b"
             ],
             [
              0.6666666666666666,
              "#ed7953"
             ],
             [
              0.7777777777777778,
              "#fb9f3a"
             ],
             [
              0.8888888888888888,
              "#fdca26"
             ],
             [
              1,
              "#f0f921"
             ]
            ],
            "type": "histogram2dcontour"
           }
          ],
          "mesh3d": [
           {
            "colorbar": {
             "outlinewidth": 0,
             "ticks": ""
            },
            "type": "mesh3d"
           }
          ],
          "parcoords": [
           {
            "line": {
             "colorbar": {
              "outlinewidth": 0,
              "ticks": ""
             }
            },
            "type": "parcoords"
           }
          ],
          "pie": [
           {
            "automargin": true,
            "type": "pie"
           }
          ],
          "scatter": [
           {
            "marker": {
             "colorbar": {
              "outlinewidth": 0,
              "ticks": ""
             }
            },
            "type": "scatter"
           }
          ],
          "scatter3d": [
           {
            "line": {
             "colorbar": {
              "outlinewidth": 0,
              "ticks": ""
             }
            },
            "marker": {
             "colorbar": {
              "outlinewidth": 0,
              "ticks": ""
             }
            },
            "type": "scatter3d"
           }
          ],
          "scattercarpet": [
           {
            "marker": {
             "colorbar": {
              "outlinewidth": 0,
              "ticks": ""
             }
            },
            "type": "scattercarpet"
           }
          ],
          "scattergeo": [
           {
            "marker": {
             "colorbar": {
              "outlinewidth": 0,
              "ticks": ""
             }
            },
            "type": "scattergeo"
           }
          ],
          "scattergl": [
           {
            "marker": {
             "colorbar": {
              "outlinewidth": 0,
              "ticks": ""
             }
            },
            "type": "scattergl"
           }
          ],
          "scattermapbox": [
           {
            "marker": {
             "colorbar": {
              "outlinewidth": 0,
              "ticks": ""
             }
            },
            "type": "scattermapbox"
           }
          ],
          "scatterpolar": [
           {
            "marker": {
             "colorbar": {
              "outlinewidth": 0,
              "ticks": ""
             }
            },
            "type": "scatterpolar"
           }
          ],
          "scatterpolargl": [
           {
            "marker": {
             "colorbar": {
              "outlinewidth": 0,
              "ticks": ""
             }
            },
            "type": "scatterpolargl"
           }
          ],
          "scatterternary": [
           {
            "marker": {
             "colorbar": {
              "outlinewidth": 0,
              "ticks": ""
             }
            },
            "type": "scatterternary"
           }
          ],
          "surface": [
           {
            "colorbar": {
             "outlinewidth": 0,
             "ticks": ""
            },
            "colorscale": [
             [
              0,
              "#0d0887"
             ],
             [
              0.1111111111111111,
              "#46039f"
             ],
             [
              0.2222222222222222,
              "#7201a8"
             ],
             [
              0.3333333333333333,
              "#9c179e"
             ],
             [
              0.4444444444444444,
              "#bd3786"
             ],
             [
              0.5555555555555556,
              "#d8576b"
             ],
             [
              0.6666666666666666,
              "#ed7953"
             ],
             [
              0.7777777777777778,
              "#fb9f3a"
             ],
             [
              0.8888888888888888,
              "#fdca26"
             ],
             [
              1,
              "#f0f921"
             ]
            ],
            "type": "surface"
           }
          ],
          "table": [
           {
            "cells": {
             "fill": {
              "color": "#EBF0F8"
             },
             "line": {
              "color": "white"
             }
            },
            "header": {
             "fill": {
              "color": "#C8D4E3"
             },
             "line": {
              "color": "white"
             }
            },
            "type": "table"
           }
          ]
         },
         "layout": {
          "annotationdefaults": {
           "arrowcolor": "#2a3f5f",
           "arrowhead": 0,
           "arrowwidth": 1
          },
          "coloraxis": {
           "colorbar": {
            "outlinewidth": 0,
            "ticks": ""
           }
          },
          "colorscale": {
           "diverging": [
            [
             0,
             "#8e0152"
            ],
            [
             0.1,
             "#c51b7d"
            ],
            [
             0.2,
             "#de77ae"
            ],
            [
             0.3,
             "#f1b6da"
            ],
            [
             0.4,
             "#fde0ef"
            ],
            [
             0.5,
             "#f7f7f7"
            ],
            [
             0.6,
             "#e6f5d0"
            ],
            [
             0.7,
             "#b8e186"
            ],
            [
             0.8,
             "#7fbc41"
            ],
            [
             0.9,
             "#4d9221"
            ],
            [
             1,
             "#276419"
            ]
           ],
           "sequential": [
            [
             0,
             "#0d0887"
            ],
            [
             0.1111111111111111,
             "#46039f"
            ],
            [
             0.2222222222222222,
             "#7201a8"
            ],
            [
             0.3333333333333333,
             "#9c179e"
            ],
            [
             0.4444444444444444,
             "#bd3786"
            ],
            [
             0.5555555555555556,
             "#d8576b"
            ],
            [
             0.6666666666666666,
             "#ed7953"
            ],
            [
             0.7777777777777778,
             "#fb9f3a"
            ],
            [
             0.8888888888888888,
             "#fdca26"
            ],
            [
             1,
             "#f0f921"
            ]
           ],
           "sequentialminus": [
            [
             0,
             "#0d0887"
            ],
            [
             0.1111111111111111,
             "#46039f"
            ],
            [
             0.2222222222222222,
             "#7201a8"
            ],
            [
             0.3333333333333333,
             "#9c179e"
            ],
            [
             0.4444444444444444,
             "#bd3786"
            ],
            [
             0.5555555555555556,
             "#d8576b"
            ],
            [
             0.6666666666666666,
             "#ed7953"
            ],
            [
             0.7777777777777778,
             "#fb9f3a"
            ],
            [
             0.8888888888888888,
             "#fdca26"
            ],
            [
             1,
             "#f0f921"
            ]
           ]
          },
          "colorway": [
           "#636efa",
           "#EF553B",
           "#00cc96",
           "#ab63fa",
           "#FFA15A",
           "#19d3f3",
           "#FF6692",
           "#B6E880",
           "#FF97FF",
           "#FECB52"
          ],
          "font": {
           "color": "#2a3f5f"
          },
          "geo": {
           "bgcolor": "white",
           "lakecolor": "white",
           "landcolor": "#E5ECF6",
           "showlakes": true,
           "showland": true,
           "subunitcolor": "white"
          },
          "hoverlabel": {
           "align": "left"
          },
          "hovermode": "closest",
          "mapbox": {
           "style": "light"
          },
          "paper_bgcolor": "white",
          "plot_bgcolor": "#E5ECF6",
          "polar": {
           "angularaxis": {
            "gridcolor": "white",
            "linecolor": "white",
            "ticks": ""
           },
           "bgcolor": "#E5ECF6",
           "radialaxis": {
            "gridcolor": "white",
            "linecolor": "white",
            "ticks": ""
           }
          },
          "scene": {
           "xaxis": {
            "backgroundcolor": "#E5ECF6",
            "gridcolor": "white",
            "gridwidth": 2,
            "linecolor": "white",
            "showbackground": true,
            "ticks": "",
            "zerolinecolor": "white"
           },
           "yaxis": {
            "backgroundcolor": "#E5ECF6",
            "gridcolor": "white",
            "gridwidth": 2,
            "linecolor": "white",
            "showbackground": true,
            "ticks": "",
            "zerolinecolor": "white"
           },
           "zaxis": {
            "backgroundcolor": "#E5ECF6",
            "gridcolor": "white",
            "gridwidth": 2,
            "linecolor": "white",
            "showbackground": true,
            "ticks": "",
            "zerolinecolor": "white"
           }
          },
          "shapedefaults": {
           "line": {
            "color": "#2a3f5f"
           }
          },
          "ternary": {
           "aaxis": {
            "gridcolor": "white",
            "linecolor": "white",
            "ticks": ""
           },
           "baxis": {
            "gridcolor": "white",
            "linecolor": "white",
            "ticks": ""
           },
           "bgcolor": "#E5ECF6",
           "caxis": {
            "gridcolor": "white",
            "linecolor": "white",
            "ticks": ""
           }
          },
          "title": {
           "x": 0.05
          },
          "xaxis": {
           "automargin": true,
           "gridcolor": "white",
           "linecolor": "white",
           "ticks": "",
           "title": {
            "standoff": 15
           },
           "zerolinecolor": "white",
           "zerolinewidth": 2
          },
          "yaxis": {
           "automargin": true,
           "gridcolor": "white",
           "linecolor": "white",
           "ticks": "",
           "title": {
            "standoff": 15
           },
           "zerolinecolor": "white",
           "zerolinewidth": 2
          }
         }
        },
        "xaxis": {
         "anchor": "y",
         "domain": [
          0,
          1
         ],
         "title": {
          "text": "gender_percent_by_domain"
         }
        },
        "yaxis": {
         "anchor": "x",
         "categoryorder": "total descending",
         "domain": [
          0,
          1
         ],
         "title": {
          "text": "domain_of_study"
         }
        }
       }
      }
     },
     "metadata": {},
     "output_type": "display_data"
    }
   ],
   "source": [
    "\n",
    "fig=px.bar(new_df, x='gender_percent_by_domain', y='domain_of_study',\n",
    "            color=new_df['gender_name'], barmode ='stack', color_discrete_sequence=[\"#1179f0\", \"#F78FE4\"], opacity = 0.85,\n",
    "            text = new_df['percentage']).update_yaxes(categoryorder = \"total descending\")\n",
    "fig.update_traces(textfont_color='#ffffff')\n",
    "fig.show()\n"
   ]
  },
  {
   "cell_type": "code",
   "execution_count": 37,
   "metadata": {},
   "outputs": [
    {
     "data": {
      "text/plain": [
       "array(['Male', 'Female'], dtype=object)"
      ]
     },
     "execution_count": 37,
     "metadata": {},
     "output_type": "execute_result"
    }
   ],
   "source": [
    "top_labels = new_df[\"gender_name\"].unique()\n",
    "top_labels"
   ]
  },
  {
   "cell_type": "code",
   "execution_count": 38,
   "metadata": {},
   "outputs": [
    {
     "data": {
      "text/plain": [
       "array(['Social Work', 'Education, Academia', 'Medicine, Pharma, Biotech',\n",
       "       'Economy and Management', 'Literature and Languages',\n",
       "       'Social Sciences, Humanities, Psychology', 'Arts', 'Sciences',\n",
       "       'Law and Political Science', 'Other', 'Architecture',\n",
       "       'Undergrad / Undecided'], dtype=object)"
      ]
     },
     "execution_count": 38,
     "metadata": {},
     "output_type": "execute_result"
    }
   ],
   "source": [
    "y_data = new_df[\"domain_of_study\"].unique()\n",
    "y_data"
   ]
  },
  {
   "cell_type": "code",
   "execution_count": 39,
   "metadata": {},
   "outputs": [
    {
     "data": {
      "text/html": [
       "<div>\n",
       "<style scoped>\n",
       "    .dataframe tbody tr th:only-of-type {\n",
       "        vertical-align: middle;\n",
       "    }\n",
       "\n",
       "    .dataframe tbody tr th {\n",
       "        vertical-align: top;\n",
       "    }\n",
       "\n",
       "    .dataframe thead th {\n",
       "        text-align: right;\n",
       "    }\n",
       "</style>\n",
       "<table border=\"1\" class=\"dataframe\">\n",
       "  <thead>\n",
       "    <tr style=\"text-align: right;\">\n",
       "      <th></th>\n",
       "      <th>domain_of_study</th>\n",
       "      <th>gender_name</th>\n",
       "      <th>size</th>\n",
       "      <th>gender_percent_by_domain</th>\n",
       "      <th>percentage</th>\n",
       "    </tr>\n",
       "  </thead>\n",
       "  <tbody>\n",
       "    <tr>\n",
       "      <th>20</th>\n",
       "      <td>Social Work</td>\n",
       "      <td>Male</td>\n",
       "      <td>1</td>\n",
       "      <td>0.033333</td>\n",
       "      <td>3.3 %</td>\n",
       "    </tr>\n",
       "    <tr>\n",
       "      <th>6</th>\n",
       "      <td>Education, Academia</td>\n",
       "      <td>Male</td>\n",
       "      <td>5</td>\n",
       "      <td>0.125000</td>\n",
       "      <td>12.5 %</td>\n",
       "    </tr>\n",
       "    <tr>\n",
       "      <th>12</th>\n",
       "      <td>Medicine, Pharma, Biotech</td>\n",
       "      <td>Male</td>\n",
       "      <td>2</td>\n",
       "      <td>0.222222</td>\n",
       "      <td>22.2 %</td>\n",
       "    </tr>\n",
       "    <tr>\n",
       "      <th>3</th>\n",
       "      <td>Economy and Management</td>\n",
       "      <td>Female</td>\n",
       "      <td>30</td>\n",
       "      <td>0.230769</td>\n",
       "      <td>23.1 %</td>\n",
       "    </tr>\n",
       "    <tr>\n",
       "      <th>10</th>\n",
       "      <td>Literature and Languages</td>\n",
       "      <td>Male</td>\n",
       "      <td>6</td>\n",
       "      <td>0.250000</td>\n",
       "      <td>25.0 %</td>\n",
       "    </tr>\n",
       "    <tr>\n",
       "      <th>18</th>\n",
       "      <td>Social Sciences, Humanities, Psychology</td>\n",
       "      <td>Male</td>\n",
       "      <td>19</td>\n",
       "      <td>0.301587</td>\n",
       "      <td>30.2 %</td>\n",
       "    </tr>\n",
       "    <tr>\n",
       "      <th>2</th>\n",
       "      <td>Arts</td>\n",
       "      <td>Male</td>\n",
       "      <td>6</td>\n",
       "      <td>0.333333</td>\n",
       "      <td>33.3 %</td>\n",
       "    </tr>\n",
       "    <tr>\n",
       "      <th>15</th>\n",
       "      <td>Sciences</td>\n",
       "      <td>Female</td>\n",
       "      <td>49</td>\n",
       "      <td>0.374046</td>\n",
       "      <td>37.4 %</td>\n",
       "    </tr>\n",
       "    <tr>\n",
       "      <th>7</th>\n",
       "      <td>Law and Political Science</td>\n",
       "      <td>Female</td>\n",
       "      <td>45</td>\n",
       "      <td>0.478723</td>\n",
       "      <td>47.9 %</td>\n",
       "    </tr>\n",
       "    <tr>\n",
       "      <th>13</th>\n",
       "      <td>Other</td>\n",
       "      <td>Female</td>\n",
       "      <td>5</td>\n",
       "      <td>0.500000</td>\n",
       "      <td>50.0 %</td>\n",
       "    </tr>\n",
       "    <tr>\n",
       "      <th>14</th>\n",
       "      <td>Other</td>\n",
       "      <td>Male</td>\n",
       "      <td>5</td>\n",
       "      <td>0.500000</td>\n",
       "      <td>50.0 %</td>\n",
       "    </tr>\n",
       "    <tr>\n",
       "      <th>8</th>\n",
       "      <td>Law and Political Science</td>\n",
       "      <td>Male</td>\n",
       "      <td>49</td>\n",
       "      <td>0.521277</td>\n",
       "      <td>52.1 %</td>\n",
       "    </tr>\n",
       "    <tr>\n",
       "      <th>16</th>\n",
       "      <td>Sciences</td>\n",
       "      <td>Male</td>\n",
       "      <td>82</td>\n",
       "      <td>0.625954</td>\n",
       "      <td>62.6 %</td>\n",
       "    </tr>\n",
       "    <tr>\n",
       "      <th>1</th>\n",
       "      <td>Arts</td>\n",
       "      <td>Female</td>\n",
       "      <td>12</td>\n",
       "      <td>0.666667</td>\n",
       "      <td>66.7 %</td>\n",
       "    </tr>\n",
       "    <tr>\n",
       "      <th>17</th>\n",
       "      <td>Social Sciences, Humanities, Psychology</td>\n",
       "      <td>Female</td>\n",
       "      <td>44</td>\n",
       "      <td>0.698413</td>\n",
       "      <td>69.8 %</td>\n",
       "    </tr>\n",
       "    <tr>\n",
       "      <th>9</th>\n",
       "      <td>Literature and Languages</td>\n",
       "      <td>Female</td>\n",
       "      <td>18</td>\n",
       "      <td>0.750000</td>\n",
       "      <td>75.0 %</td>\n",
       "    </tr>\n",
       "    <tr>\n",
       "      <th>4</th>\n",
       "      <td>Economy and Management</td>\n",
       "      <td>Male</td>\n",
       "      <td>100</td>\n",
       "      <td>0.769231</td>\n",
       "      <td>76.9 %</td>\n",
       "    </tr>\n",
       "    <tr>\n",
       "      <th>11</th>\n",
       "      <td>Medicine, Pharma, Biotech</td>\n",
       "      <td>Female</td>\n",
       "      <td>7</td>\n",
       "      <td>0.777778</td>\n",
       "      <td>77.8 %</td>\n",
       "    </tr>\n",
       "    <tr>\n",
       "      <th>5</th>\n",
       "      <td>Education, Academia</td>\n",
       "      <td>Female</td>\n",
       "      <td>35</td>\n",
       "      <td>0.875000</td>\n",
       "      <td>87.5 %</td>\n",
       "    </tr>\n",
       "    <tr>\n",
       "      <th>19</th>\n",
       "      <td>Social Work</td>\n",
       "      <td>Female</td>\n",
       "      <td>29</td>\n",
       "      <td>0.966667</td>\n",
       "      <td>96.7 %</td>\n",
       "    </tr>\n",
       "    <tr>\n",
       "      <th>0</th>\n",
       "      <td>Architecture</td>\n",
       "      <td>Male</td>\n",
       "      <td>1</td>\n",
       "      <td>1.000000</td>\n",
       "      <td>100.0 %</td>\n",
       "    </tr>\n",
       "    <tr>\n",
       "      <th>21</th>\n",
       "      <td>Undergrad / Undecided</td>\n",
       "      <td>Male</td>\n",
       "      <td>1</td>\n",
       "      <td>1.000000</td>\n",
       "      <td>100.0 %</td>\n",
       "    </tr>\n",
       "  </tbody>\n",
       "</table>\n",
       "</div>"
      ],
      "text/plain": [
       "                            domain_of_study gender_name  size  \\\n",
       "20                              Social Work        Male     1   \n",
       "6                       Education, Academia        Male     5   \n",
       "12                Medicine, Pharma, Biotech        Male     2   \n",
       "3                    Economy and Management      Female    30   \n",
       "10                 Literature and Languages        Male     6   \n",
       "18  Social Sciences, Humanities, Psychology        Male    19   \n",
       "2                                      Arts        Male     6   \n",
       "15                                 Sciences      Female    49   \n",
       "7                 Law and Political Science      Female    45   \n",
       "13                                    Other      Female     5   \n",
       "14                                    Other        Male     5   \n",
       "8                 Law and Political Science        Male    49   \n",
       "16                                 Sciences        Male    82   \n",
       "1                                      Arts      Female    12   \n",
       "17  Social Sciences, Humanities, Psychology      Female    44   \n",
       "9                  Literature and Languages      Female    18   \n",
       "4                    Economy and Management        Male   100   \n",
       "11                Medicine, Pharma, Biotech      Female     7   \n",
       "5                       Education, Academia      Female    35   \n",
       "19                              Social Work      Female    29   \n",
       "0                              Architecture        Male     1   \n",
       "21                    Undergrad / Undecided        Male     1   \n",
       "\n",
       "    gender_percent_by_domain percentage  \n",
       "20                  0.033333      3.3 %  \n",
       "6                   0.125000     12.5 %  \n",
       "12                  0.222222     22.2 %  \n",
       "3                   0.230769     23.1 %  \n",
       "10                  0.250000     25.0 %  \n",
       "18                  0.301587     30.2 %  \n",
       "2                   0.333333     33.3 %  \n",
       "15                  0.374046     37.4 %  \n",
       "7                   0.478723     47.9 %  \n",
       "13                  0.500000     50.0 %  \n",
       "14                  0.500000     50.0 %  \n",
       "8                   0.521277     52.1 %  \n",
       "16                  0.625954     62.6 %  \n",
       "1                   0.666667     66.7 %  \n",
       "17                  0.698413     69.8 %  \n",
       "9                   0.750000     75.0 %  \n",
       "4                   0.769231     76.9 %  \n",
       "11                  0.777778     77.8 %  \n",
       "5                   0.875000     87.5 %  \n",
       "19                  0.966667     96.7 %  \n",
       "0                   1.000000    100.0 %  \n",
       "21                  1.000000    100.0 %  "
      ]
     },
     "execution_count": 39,
     "metadata": {},
     "output_type": "execute_result"
    }
   ],
   "source": [
    "new_df"
   ]
  },
  {
   "cell_type": "code",
   "execution_count": 40,
   "metadata": {},
   "outputs": [],
   "source": [
    "new_df[\"gender_percent_by_domain\"] = new_df[\"gender_percent_by_domain\"].apply(lambda x: round((x * 100), 1))"
   ]
  },
  {
   "cell_type": "code",
   "execution_count": 41,
   "metadata": {},
   "outputs": [],
   "source": [
    "table = pd.pivot_table(new_df, values=['size', 'gender_percent_by_domain'], index=['domain_of_study'], columns='gender_name', fill_value=0)"
   ]
  },
  {
   "cell_type": "code",
   "execution_count": 42,
   "metadata": {},
   "outputs": [
    {
     "data": {
      "text/html": [
       "<div>\n",
       "<style scoped>\n",
       "    .dataframe tbody tr th:only-of-type {\n",
       "        vertical-align: middle;\n",
       "    }\n",
       "\n",
       "    .dataframe tbody tr th {\n",
       "        vertical-align: top;\n",
       "    }\n",
       "\n",
       "    .dataframe thead tr th {\n",
       "        text-align: left;\n",
       "    }\n",
       "\n",
       "    .dataframe thead tr:last-of-type th {\n",
       "        text-align: right;\n",
       "    }\n",
       "</style>\n",
       "<table border=\"1\" class=\"dataframe\">\n",
       "  <thead>\n",
       "    <tr>\n",
       "      <th></th>\n",
       "      <th colspan=\"2\" halign=\"left\">gender_percent_by_domain</th>\n",
       "      <th colspan=\"2\" halign=\"left\">size</th>\n",
       "    </tr>\n",
       "    <tr>\n",
       "      <th>gender_name</th>\n",
       "      <th>Female</th>\n",
       "      <th>Male</th>\n",
       "      <th>Female</th>\n",
       "      <th>Male</th>\n",
       "    </tr>\n",
       "    <tr>\n",
       "      <th>domain_of_study</th>\n",
       "      <th></th>\n",
       "      <th></th>\n",
       "      <th></th>\n",
       "      <th></th>\n",
       "    </tr>\n",
       "  </thead>\n",
       "  <tbody>\n",
       "    <tr>\n",
       "      <th>Architecture</th>\n",
       "      <td>0.0</td>\n",
       "      <td>100.0</td>\n",
       "      <td>0</td>\n",
       "      <td>1</td>\n",
       "    </tr>\n",
       "    <tr>\n",
       "      <th>Arts</th>\n",
       "      <td>66.7</td>\n",
       "      <td>33.3</td>\n",
       "      <td>12</td>\n",
       "      <td>6</td>\n",
       "    </tr>\n",
       "    <tr>\n",
       "      <th>Economy and Management</th>\n",
       "      <td>23.1</td>\n",
       "      <td>76.9</td>\n",
       "      <td>30</td>\n",
       "      <td>100</td>\n",
       "    </tr>\n",
       "    <tr>\n",
       "      <th>Education, Academia</th>\n",
       "      <td>87.5</td>\n",
       "      <td>12.5</td>\n",
       "      <td>35</td>\n",
       "      <td>5</td>\n",
       "    </tr>\n",
       "    <tr>\n",
       "      <th>Law and Political Science</th>\n",
       "      <td>47.9</td>\n",
       "      <td>52.1</td>\n",
       "      <td>45</td>\n",
       "      <td>49</td>\n",
       "    </tr>\n",
       "    <tr>\n",
       "      <th>Literature and Languages</th>\n",
       "      <td>75.0</td>\n",
       "      <td>25.0</td>\n",
       "      <td>18</td>\n",
       "      <td>6</td>\n",
       "    </tr>\n",
       "    <tr>\n",
       "      <th>Medicine, Pharma, Biotech</th>\n",
       "      <td>77.8</td>\n",
       "      <td>22.2</td>\n",
       "      <td>7</td>\n",
       "      <td>2</td>\n",
       "    </tr>\n",
       "    <tr>\n",
       "      <th>Other</th>\n",
       "      <td>50.0</td>\n",
       "      <td>50.0</td>\n",
       "      <td>5</td>\n",
       "      <td>5</td>\n",
       "    </tr>\n",
       "    <tr>\n",
       "      <th>Sciences</th>\n",
       "      <td>37.4</td>\n",
       "      <td>62.6</td>\n",
       "      <td>49</td>\n",
       "      <td>82</td>\n",
       "    </tr>\n",
       "    <tr>\n",
       "      <th>Social Sciences, Humanities, Psychology</th>\n",
       "      <td>69.8</td>\n",
       "      <td>30.2</td>\n",
       "      <td>44</td>\n",
       "      <td>19</td>\n",
       "    </tr>\n",
       "    <tr>\n",
       "      <th>Social Work</th>\n",
       "      <td>96.7</td>\n",
       "      <td>3.3</td>\n",
       "      <td>29</td>\n",
       "      <td>1</td>\n",
       "    </tr>\n",
       "    <tr>\n",
       "      <th>Undergrad / Undecided</th>\n",
       "      <td>0.0</td>\n",
       "      <td>100.0</td>\n",
       "      <td>0</td>\n",
       "      <td>1</td>\n",
       "    </tr>\n",
       "  </tbody>\n",
       "</table>\n",
       "</div>"
      ],
      "text/plain": [
       "                                        gender_percent_by_domain         \\\n",
       "gender_name                                               Female   Male   \n",
       "domain_of_study                                                           \n",
       "Architecture                                                 0.0  100.0   \n",
       "Arts                                                        66.7   33.3   \n",
       "Economy and Management                                      23.1   76.9   \n",
       "Education, Academia                                         87.5   12.5   \n",
       "Law and Political Science                                   47.9   52.1   \n",
       "Literature and Languages                                    75.0   25.0   \n",
       "Medicine, Pharma, Biotech                                   77.8   22.2   \n",
       "Other                                                       50.0   50.0   \n",
       "Sciences                                                    37.4   62.6   \n",
       "Social Sciences, Humanities, Psychology                     69.8   30.2   \n",
       "Social Work                                                 96.7    3.3   \n",
       "Undergrad / Undecided                                        0.0  100.0   \n",
       "\n",
       "                                          size       \n",
       "gender_name                             Female Male  \n",
       "domain_of_study                                      \n",
       "Architecture                                 0    1  \n",
       "Arts                                        12    6  \n",
       "Economy and Management                      30  100  \n",
       "Education, Academia                         35    5  \n",
       "Law and Political Science                   45   49  \n",
       "Literature and Languages                    18    6  \n",
       "Medicine, Pharma, Biotech                    7    2  \n",
       "Other                                        5    5  \n",
       "Sciences                                    49   82  \n",
       "Social Sciences, Humanities, Psychology     44   19  \n",
       "Social Work                                 29    1  \n",
       "Undergrad / Undecided                        0    1  "
      ]
     },
     "execution_count": 42,
     "metadata": {},
     "output_type": "execute_result"
    }
   ],
   "source": [
    "table"
   ]
  },
  {
   "cell_type": "code",
   "execution_count": 43,
   "metadata": {},
   "outputs": [],
   "source": [
    "table.sort_values(by=[('gender_percent_by_domain', 'Female')], inplace=True)"
   ]
  },
  {
   "cell_type": "code",
   "execution_count": 44,
   "metadata": {},
   "outputs": [
    {
     "data": {
      "text/html": [
       "<div>\n",
       "<style scoped>\n",
       "    .dataframe tbody tr th:only-of-type {\n",
       "        vertical-align: middle;\n",
       "    }\n",
       "\n",
       "    .dataframe tbody tr th {\n",
       "        vertical-align: top;\n",
       "    }\n",
       "\n",
       "    .dataframe thead tr th {\n",
       "        text-align: left;\n",
       "    }\n",
       "\n",
       "    .dataframe thead tr:last-of-type th {\n",
       "        text-align: right;\n",
       "    }\n",
       "</style>\n",
       "<table border=\"1\" class=\"dataframe\">\n",
       "  <thead>\n",
       "    <tr>\n",
       "      <th></th>\n",
       "      <th colspan=\"2\" halign=\"left\">gender_percent_by_domain</th>\n",
       "      <th colspan=\"2\" halign=\"left\">size</th>\n",
       "    </tr>\n",
       "    <tr>\n",
       "      <th>gender_name</th>\n",
       "      <th>Female</th>\n",
       "      <th>Male</th>\n",
       "      <th>Female</th>\n",
       "      <th>Male</th>\n",
       "    </tr>\n",
       "    <tr>\n",
       "      <th>domain_of_study</th>\n",
       "      <th></th>\n",
       "      <th></th>\n",
       "      <th></th>\n",
       "      <th></th>\n",
       "    </tr>\n",
       "  </thead>\n",
       "  <tbody>\n",
       "    <tr>\n",
       "      <th>Architecture</th>\n",
       "      <td>0.0</td>\n",
       "      <td>100.0</td>\n",
       "      <td>0</td>\n",
       "      <td>1</td>\n",
       "    </tr>\n",
       "    <tr>\n",
       "      <th>Undergrad / Undecided</th>\n",
       "      <td>0.0</td>\n",
       "      <td>100.0</td>\n",
       "      <td>0</td>\n",
       "      <td>1</td>\n",
       "    </tr>\n",
       "    <tr>\n",
       "      <th>Economy and Management</th>\n",
       "      <td>23.1</td>\n",
       "      <td>76.9</td>\n",
       "      <td>30</td>\n",
       "      <td>100</td>\n",
       "    </tr>\n",
       "    <tr>\n",
       "      <th>Sciences</th>\n",
       "      <td>37.4</td>\n",
       "      <td>62.6</td>\n",
       "      <td>49</td>\n",
       "      <td>82</td>\n",
       "    </tr>\n",
       "    <tr>\n",
       "      <th>Law and Political Science</th>\n",
       "      <td>47.9</td>\n",
       "      <td>52.1</td>\n",
       "      <td>45</td>\n",
       "      <td>49</td>\n",
       "    </tr>\n",
       "    <tr>\n",
       "      <th>Other</th>\n",
       "      <td>50.0</td>\n",
       "      <td>50.0</td>\n",
       "      <td>5</td>\n",
       "      <td>5</td>\n",
       "    </tr>\n",
       "    <tr>\n",
       "      <th>Arts</th>\n",
       "      <td>66.7</td>\n",
       "      <td>33.3</td>\n",
       "      <td>12</td>\n",
       "      <td>6</td>\n",
       "    </tr>\n",
       "    <tr>\n",
       "      <th>Social Sciences, Humanities, Psychology</th>\n",
       "      <td>69.8</td>\n",
       "      <td>30.2</td>\n",
       "      <td>44</td>\n",
       "      <td>19</td>\n",
       "    </tr>\n",
       "    <tr>\n",
       "      <th>Literature and Languages</th>\n",
       "      <td>75.0</td>\n",
       "      <td>25.0</td>\n",
       "      <td>18</td>\n",
       "      <td>6</td>\n",
       "    </tr>\n",
       "    <tr>\n",
       "      <th>Medicine, Pharma, Biotech</th>\n",
       "      <td>77.8</td>\n",
       "      <td>22.2</td>\n",
       "      <td>7</td>\n",
       "      <td>2</td>\n",
       "    </tr>\n",
       "    <tr>\n",
       "      <th>Education, Academia</th>\n",
       "      <td>87.5</td>\n",
       "      <td>12.5</td>\n",
       "      <td>35</td>\n",
       "      <td>5</td>\n",
       "    </tr>\n",
       "    <tr>\n",
       "      <th>Social Work</th>\n",
       "      <td>96.7</td>\n",
       "      <td>3.3</td>\n",
       "      <td>29</td>\n",
       "      <td>1</td>\n",
       "    </tr>\n",
       "  </tbody>\n",
       "</table>\n",
       "</div>"
      ],
      "text/plain": [
       "                                        gender_percent_by_domain         \\\n",
       "gender_name                                               Female   Male   \n",
       "domain_of_study                                                           \n",
       "Architecture                                                 0.0  100.0   \n",
       "Undergrad / Undecided                                        0.0  100.0   \n",
       "Economy and Management                                      23.1   76.9   \n",
       "Sciences                                                    37.4   62.6   \n",
       "Law and Political Science                                   47.9   52.1   \n",
       "Other                                                       50.0   50.0   \n",
       "Arts                                                        66.7   33.3   \n",
       "Social Sciences, Humanities, Psychology                     69.8   30.2   \n",
       "Literature and Languages                                    75.0   25.0   \n",
       "Medicine, Pharma, Biotech                                   77.8   22.2   \n",
       "Education, Academia                                         87.5   12.5   \n",
       "Social Work                                                 96.7    3.3   \n",
       "\n",
       "                                          size       \n",
       "gender_name                             Female Male  \n",
       "domain_of_study                                      \n",
       "Architecture                                 0    1  \n",
       "Undergrad / Undecided                        0    1  \n",
       "Economy and Management                      30  100  \n",
       "Sciences                                    49   82  \n",
       "Law and Political Science                   45   49  \n",
       "Other                                        5    5  \n",
       "Arts                                        12    6  \n",
       "Social Sciences, Humanities, Psychology     44   19  \n",
       "Literature and Languages                    18    6  \n",
       "Medicine, Pharma, Biotech                    7    2  \n",
       "Education, Academia                         35    5  \n",
       "Social Work                                 29    1  "
      ]
     },
     "execution_count": 44,
     "metadata": {},
     "output_type": "execute_result"
    }
   ],
   "source": [
    "table"
   ]
  },
  {
   "cell_type": "code",
   "execution_count": 45,
   "metadata": {},
   "outputs": [
    {
     "name": "stdout",
     "output_type": "stream",
     "text": [
      "[[0.0, 100.0, 0.0, 1.0], [0.0, 100.0, 0.0, 1.0], [23.1, 76.9, 30.0, 100.0], [37.4, 62.6, 49.0, 82.0], [47.9, 52.1, 45.0, 49.0], [50.0, 50.0, 5.0, 5.0], [66.7, 33.3, 12.0, 6.0], [69.8, 30.2, 44.0, 19.0], [75.0, 25.0, 18.0, 6.0], [77.8, 22.2, 7.0, 2.0], [87.5, 12.5, 35.0, 5.0], [96.7, 3.3, 29.0, 1.0]]\n"
     ]
    }
   ],
   "source": [
    "values_list = table.values.tolist()\n",
    "print(values_list)"
   ]
  },
  {
   "cell_type": "code",
   "execution_count": 46,
   "metadata": {},
   "outputs": [
    {
     "data": {
      "text/plain": [
       "[0.0, 100.0, 0.0, 1.0]"
      ]
     },
     "execution_count": 46,
     "metadata": {},
     "output_type": "execute_result"
    }
   ],
   "source": [
    "values_list[0]"
   ]
  },
  {
   "cell_type": "code",
   "execution_count": 47,
   "metadata": {},
   "outputs": [
    {
     "name": "stdout",
     "output_type": "stream",
     "text": [
      "[0.0, 100.0]\n",
      "[0.0, 100.0]\n",
      "[23.1, 76.9]\n",
      "[37.4, 62.6]\n",
      "[47.9, 52.1]\n",
      "[50.0, 50.0]\n",
      "[66.7, 33.3]\n",
      "[69.8, 30.2]\n",
      "[75.0, 25.0]\n",
      "[77.8, 22.2]\n",
      "[87.5, 12.5]\n",
      "[96.7, 3.3]\n",
      "[[0.0, 100.0], [0.0, 100.0], [23.1, 76.9], [37.4, 62.6], [47.9, 52.1], [50.0, 50.0], [66.7, 33.3], [69.8, 30.2], [75.0, 25.0], [77.8, 22.2], [87.5, 12.5], [96.7, 3.3]]\n"
     ]
    }
   ],
   "source": [
    "list_of_percentages_by_gender = []\n",
    "for sublist in values_list:\n",
    "    list_of_percentages_by_gender.append(sublist[:2])\n",
    "    print(sublist[:2])\n",
    "    #percent_values = sublist[:1]\n",
    "    #list_of_percentages_by_gender.append(percent_values)\n",
    "\n",
    "#print(sublist)\n",
    "\n",
    "print(list_of_percentages_by_gender)\n"
   ]
  },
  {
   "cell_type": "code",
   "execution_count": 48,
   "metadata": {},
   "outputs": [
    {
     "name": "stdout",
     "output_type": "stream",
     "text": [
      "<class 'list'>\n"
     ]
    },
    {
     "data": {
      "application/vnd.plotly.v1+json": {
       "config": {
        "plotlyServerURL": "https://plot.ly"
       },
       "data": [
        {
         "marker": {
          "color": "#F78FE4",
          "line": {
           "color": "rgb(248, 248, 249)",
           "width": 1
          }
         },
         "orientation": "h",
         "type": "bar",
         "x": [
          0
         ],
         "y": [
          "Architecture"
         ]
        },
        {
         "marker": {
          "color": "#F78FE4",
          "line": {
           "color": "rgb(248, 248, 249)",
           "width": 1
          }
         },
         "orientation": "h",
         "type": "bar",
         "x": [
          0
         ],
         "y": [
          "Undergrad / Undecided"
         ]
        },
        {
         "marker": {
          "color": "#F78FE4",
          "line": {
           "color": "rgb(248, 248, 249)",
           "width": 1
          }
         },
         "orientation": "h",
         "type": "bar",
         "x": [
          23.1
         ],
         "y": [
          "Economy and Management"
         ]
        },
        {
         "marker": {
          "color": "#F78FE4",
          "line": {
           "color": "rgb(248, 248, 249)",
           "width": 1
          }
         },
         "orientation": "h",
         "type": "bar",
         "x": [
          37.4
         ],
         "y": [
          "Sciences"
         ]
        },
        {
         "marker": {
          "color": "#F78FE4",
          "line": {
           "color": "rgb(248, 248, 249)",
           "width": 1
          }
         },
         "orientation": "h",
         "type": "bar",
         "x": [
          47.9
         ],
         "y": [
          "Law and Political Science"
         ]
        },
        {
         "marker": {
          "color": "#F78FE4",
          "line": {
           "color": "rgb(248, 248, 249)",
           "width": 1
          }
         },
         "orientation": "h",
         "type": "bar",
         "x": [
          50
         ],
         "y": [
          "Other"
         ]
        },
        {
         "marker": {
          "color": "#F78FE4",
          "line": {
           "color": "rgb(248, 248, 249)",
           "width": 1
          }
         },
         "orientation": "h",
         "type": "bar",
         "x": [
          66.7
         ],
         "y": [
          "Arts"
         ]
        },
        {
         "marker": {
          "color": "#F78FE4",
          "line": {
           "color": "rgb(248, 248, 249)",
           "width": 1
          }
         },
         "orientation": "h",
         "type": "bar",
         "x": [
          69.8
         ],
         "y": [
          "Social Sciences, Humanities, Psychology"
         ]
        },
        {
         "marker": {
          "color": "#F78FE4",
          "line": {
           "color": "rgb(248, 248, 249)",
           "width": 1
          }
         },
         "orientation": "h",
         "type": "bar",
         "x": [
          75
         ],
         "y": [
          "Literature and Languages"
         ]
        },
        {
         "marker": {
          "color": "#F78FE4",
          "line": {
           "color": "rgb(248, 248, 249)",
           "width": 1
          }
         },
         "orientation": "h",
         "type": "bar",
         "x": [
          77.8
         ],
         "y": [
          "Medicine, Pharma, Biotech"
         ]
        },
        {
         "marker": {
          "color": "#F78FE4",
          "line": {
           "color": "rgb(248, 248, 249)",
           "width": 1
          }
         },
         "orientation": "h",
         "type": "bar",
         "x": [
          87.5
         ],
         "y": [
          "Education, Academia"
         ]
        },
        {
         "marker": {
          "color": "#F78FE4",
          "line": {
           "color": "rgb(248, 248, 249)",
           "width": 1
          }
         },
         "orientation": "h",
         "type": "bar",
         "x": [
          96.7
         ],
         "y": [
          "Social Work"
         ]
        },
        {
         "marker": {
          "color": "#1179f0",
          "line": {
           "color": "rgb(248, 248, 249)",
           "width": 1
          }
         },
         "orientation": "h",
         "type": "bar",
         "x": [
          100
         ],
         "y": [
          "Architecture"
         ]
        },
        {
         "marker": {
          "color": "#1179f0",
          "line": {
           "color": "rgb(248, 248, 249)",
           "width": 1
          }
         },
         "orientation": "h",
         "type": "bar",
         "x": [
          100
         ],
         "y": [
          "Undergrad / Undecided"
         ]
        },
        {
         "marker": {
          "color": "#1179f0",
          "line": {
           "color": "rgb(248, 248, 249)",
           "width": 1
          }
         },
         "orientation": "h",
         "type": "bar",
         "x": [
          76.9
         ],
         "y": [
          "Economy and Management"
         ]
        },
        {
         "marker": {
          "color": "#1179f0",
          "line": {
           "color": "rgb(248, 248, 249)",
           "width": 1
          }
         },
         "orientation": "h",
         "type": "bar",
         "x": [
          62.6
         ],
         "y": [
          "Sciences"
         ]
        },
        {
         "marker": {
          "color": "#1179f0",
          "line": {
           "color": "rgb(248, 248, 249)",
           "width": 1
          }
         },
         "orientation": "h",
         "type": "bar",
         "x": [
          52.1
         ],
         "y": [
          "Law and Political Science"
         ]
        },
        {
         "marker": {
          "color": "#1179f0",
          "line": {
           "color": "rgb(248, 248, 249)",
           "width": 1
          }
         },
         "orientation": "h",
         "type": "bar",
         "x": [
          50
         ],
         "y": [
          "Other"
         ]
        },
        {
         "marker": {
          "color": "#1179f0",
          "line": {
           "color": "rgb(248, 248, 249)",
           "width": 1
          }
         },
         "orientation": "h",
         "type": "bar",
         "x": [
          33.3
         ],
         "y": [
          "Arts"
         ]
        },
        {
         "marker": {
          "color": "#1179f0",
          "line": {
           "color": "rgb(248, 248, 249)",
           "width": 1
          }
         },
         "orientation": "h",
         "type": "bar",
         "x": [
          30.2
         ],
         "y": [
          "Social Sciences, Humanities, Psychology"
         ]
        },
        {
         "marker": {
          "color": "#1179f0",
          "line": {
           "color": "rgb(248, 248, 249)",
           "width": 1
          }
         },
         "orientation": "h",
         "type": "bar",
         "x": [
          25
         ],
         "y": [
          "Literature and Languages"
         ]
        },
        {
         "marker": {
          "color": "#1179f0",
          "line": {
           "color": "rgb(248, 248, 249)",
           "width": 1
          }
         },
         "orientation": "h",
         "type": "bar",
         "x": [
          22.2
         ],
         "y": [
          "Medicine, Pharma, Biotech"
         ]
        },
        {
         "marker": {
          "color": "#1179f0",
          "line": {
           "color": "rgb(248, 248, 249)",
           "width": 1
          }
         },
         "orientation": "h",
         "type": "bar",
         "x": [
          12.5
         ],
         "y": [
          "Education, Academia"
         ]
        },
        {
         "marker": {
          "color": "#1179f0",
          "line": {
           "color": "rgb(248, 248, 249)",
           "width": 1
          }
         },
         "orientation": "h",
         "type": "bar",
         "x": [
          3.3
         ],
         "y": [
          "Social Work"
         ]
        }
       ],
       "layout": {
        "annotations": [
         {
          "align": "right",
          "font": {
           "color": "rgb(67, 67, 67)",
           "family": "Arial",
           "size": 14
          },
          "showarrow": false,
          "text": "Architecture",
          "x": 0.14,
          "xanchor": "right",
          "xref": "paper",
          "y": "Architecture",
          "yref": "y"
         },
         {
          "font": {
           "color": "rgb(248, 248, 255)",
           "family": "Arial",
           "size": 14
          },
          "showarrow": false,
          "text": "0.0%",
          "x": 0,
          "xref": "x",
          "y": "Architecture",
          "yref": "y"
         },
         {
          "font": {
           "color": "rgb(248, 248, 255)",
           "family": "Arial",
           "size": 14
          },
          "showarrow": false,
          "text": "100.0%",
          "x": 50,
          "xref": "x",
          "y": "Architecture",
          "yref": "y"
         },
         {
          "align": "right",
          "font": {
           "color": "rgb(67, 67, 67)",
           "family": "Arial",
           "size": 14
          },
          "showarrow": false,
          "text": "Undergrad / Undecided",
          "x": 0.14,
          "xanchor": "right",
          "xref": "paper",
          "y": "Undergrad / Undecided",
          "yref": "y"
         },
         {
          "font": {
           "color": "rgb(248, 248, 255)",
           "family": "Arial",
           "size": 14
          },
          "showarrow": false,
          "text": "0.0%",
          "x": 0,
          "xref": "x",
          "y": "Undergrad / Undecided",
          "yref": "y"
         },
         {
          "font": {
           "color": "rgb(248, 248, 255)",
           "family": "Arial",
           "size": 14
          },
          "showarrow": false,
          "text": "100.0%",
          "x": 50,
          "xref": "x",
          "y": "Undergrad / Undecided",
          "yref": "y"
         },
         {
          "align": "right",
          "font": {
           "color": "rgb(67, 67, 67)",
           "family": "Arial",
           "size": 14
          },
          "showarrow": false,
          "text": "Economy and Management",
          "x": 0.14,
          "xanchor": "right",
          "xref": "paper",
          "y": "Economy and Management",
          "yref": "y"
         },
         {
          "font": {
           "color": "rgb(248, 248, 255)",
           "family": "Arial",
           "size": 14
          },
          "showarrow": false,
          "text": "23.1%",
          "x": 11.55,
          "xref": "x",
          "y": "Economy and Management",
          "yref": "y"
         },
         {
          "font": {
           "color": "rgb(248, 248, 255)",
           "family": "Arial",
           "size": 14
          },
          "showarrow": false,
          "text": "76.9%",
          "x": 61.550000000000004,
          "xref": "x",
          "y": "Economy and Management",
          "yref": "y"
         },
         {
          "align": "right",
          "font": {
           "color": "rgb(67, 67, 67)",
           "family": "Arial",
           "size": 14
          },
          "showarrow": false,
          "text": "Sciences",
          "x": 0.14,
          "xanchor": "right",
          "xref": "paper",
          "y": "Sciences",
          "yref": "y"
         },
         {
          "font": {
           "color": "rgb(248, 248, 255)",
           "family": "Arial",
           "size": 14
          },
          "showarrow": false,
          "text": "37.4%",
          "x": 18.7,
          "xref": "x",
          "y": "Sciences",
          "yref": "y"
         },
         {
          "font": {
           "color": "rgb(248, 248, 255)",
           "family": "Arial",
           "size": 14
          },
          "showarrow": false,
          "text": "62.6%",
          "x": 68.7,
          "xref": "x",
          "y": "Sciences",
          "yref": "y"
         },
         {
          "align": "right",
          "font": {
           "color": "rgb(67, 67, 67)",
           "family": "Arial",
           "size": 14
          },
          "showarrow": false,
          "text": "Law and Political Science",
          "x": 0.14,
          "xanchor": "right",
          "xref": "paper",
          "y": "Law and Political Science",
          "yref": "y"
         },
         {
          "font": {
           "color": "rgb(248, 248, 255)",
           "family": "Arial",
           "size": 14
          },
          "showarrow": false,
          "text": "47.9%",
          "x": 23.95,
          "xref": "x",
          "y": "Law and Political Science",
          "yref": "y"
         },
         {
          "font": {
           "color": "rgb(248, 248, 255)",
           "family": "Arial",
           "size": 14
          },
          "showarrow": false,
          "text": "52.1%",
          "x": 73.95,
          "xref": "x",
          "y": "Law and Political Science",
          "yref": "y"
         },
         {
          "align": "right",
          "font": {
           "color": "rgb(67, 67, 67)",
           "family": "Arial",
           "size": 14
          },
          "showarrow": false,
          "text": "Other",
          "x": 0.14,
          "xanchor": "right",
          "xref": "paper",
          "y": "Other",
          "yref": "y"
         },
         {
          "font": {
           "color": "rgb(248, 248, 255)",
           "family": "Arial",
           "size": 14
          },
          "showarrow": false,
          "text": "50.0%",
          "x": 25,
          "xref": "x",
          "y": "Other",
          "yref": "y"
         },
         {
          "font": {
           "color": "rgb(248, 248, 255)",
           "family": "Arial",
           "size": 14
          },
          "showarrow": false,
          "text": "50.0%",
          "x": 75,
          "xref": "x",
          "y": "Other",
          "yref": "y"
         },
         {
          "align": "right",
          "font": {
           "color": "rgb(67, 67, 67)",
           "family": "Arial",
           "size": 14
          },
          "showarrow": false,
          "text": "Arts",
          "x": 0.14,
          "xanchor": "right",
          "xref": "paper",
          "y": "Arts",
          "yref": "y"
         },
         {
          "font": {
           "color": "rgb(248, 248, 255)",
           "family": "Arial",
           "size": 14
          },
          "showarrow": false,
          "text": "66.7%",
          "x": 33.35,
          "xref": "x",
          "y": "Arts",
          "yref": "y"
         },
         {
          "font": {
           "color": "rgb(248, 248, 255)",
           "family": "Arial",
           "size": 14
          },
          "showarrow": false,
          "text": "33.3%",
          "x": 83.35,
          "xref": "x",
          "y": "Arts",
          "yref": "y"
         },
         {
          "align": "right",
          "font": {
           "color": "rgb(67, 67, 67)",
           "family": "Arial",
           "size": 14
          },
          "showarrow": false,
          "text": "Social Sciences, Humanities, Psychology",
          "x": 0.14,
          "xanchor": "right",
          "xref": "paper",
          "y": "Social Sciences, Humanities, Psychology",
          "yref": "y"
         },
         {
          "font": {
           "color": "rgb(248, 248, 255)",
           "family": "Arial",
           "size": 14
          },
          "showarrow": false,
          "text": "69.8%",
          "x": 34.9,
          "xref": "x",
          "y": "Social Sciences, Humanities, Psychology",
          "yref": "y"
         },
         {
          "font": {
           "color": "rgb(248, 248, 255)",
           "family": "Arial",
           "size": 14
          },
          "showarrow": false,
          "text": "30.2%",
          "x": 84.89999999999999,
          "xref": "x",
          "y": "Social Sciences, Humanities, Psychology",
          "yref": "y"
         },
         {
          "align": "right",
          "font": {
           "color": "rgb(67, 67, 67)",
           "family": "Arial",
           "size": 14
          },
          "showarrow": false,
          "text": "Literature and Languages",
          "x": 0.14,
          "xanchor": "right",
          "xref": "paper",
          "y": "Literature and Languages",
          "yref": "y"
         },
         {
          "font": {
           "color": "rgb(248, 248, 255)",
           "family": "Arial",
           "size": 14
          },
          "showarrow": false,
          "text": "75.0%",
          "x": 37.5,
          "xref": "x",
          "y": "Literature and Languages",
          "yref": "y"
         },
         {
          "font": {
           "color": "rgb(248, 248, 255)",
           "family": "Arial",
           "size": 14
          },
          "showarrow": false,
          "text": "25.0%",
          "x": 87.5,
          "xref": "x",
          "y": "Literature and Languages",
          "yref": "y"
         },
         {
          "align": "right",
          "font": {
           "color": "rgb(67, 67, 67)",
           "family": "Arial",
           "size": 14
          },
          "showarrow": false,
          "text": "Medicine, Pharma, Biotech",
          "x": 0.14,
          "xanchor": "right",
          "xref": "paper",
          "y": "Medicine, Pharma, Biotech",
          "yref": "y"
         },
         {
          "font": {
           "color": "rgb(248, 248, 255)",
           "family": "Arial",
           "size": 14
          },
          "showarrow": false,
          "text": "77.8%",
          "x": 38.9,
          "xref": "x",
          "y": "Medicine, Pharma, Biotech",
          "yref": "y"
         },
         {
          "font": {
           "color": "rgb(248, 248, 255)",
           "family": "Arial",
           "size": 14
          },
          "showarrow": false,
          "text": "22.2%",
          "x": 88.89999999999999,
          "xref": "x",
          "y": "Medicine, Pharma, Biotech",
          "yref": "y"
         },
         {
          "align": "right",
          "font": {
           "color": "rgb(67, 67, 67)",
           "family": "Arial",
           "size": 14
          },
          "showarrow": false,
          "text": "Education, Academia",
          "x": 0.14,
          "xanchor": "right",
          "xref": "paper",
          "y": "Education, Academia",
          "yref": "y"
         },
         {
          "font": {
           "color": "rgb(248, 248, 255)",
           "family": "Arial",
           "size": 14
          },
          "showarrow": false,
          "text": "87.5%",
          "x": 43.75,
          "xref": "x",
          "y": "Education, Academia",
          "yref": "y"
         },
         {
          "font": {
           "color": "rgb(248, 248, 255)",
           "family": "Arial",
           "size": 14
          },
          "showarrow": false,
          "text": "12.5%",
          "x": 93.75,
          "xref": "x",
          "y": "Education, Academia",
          "yref": "y"
         },
         {
          "align": "right",
          "font": {
           "color": "rgb(67, 67, 67)",
           "family": "Arial",
           "size": 14
          },
          "showarrow": false,
          "text": "Social Work",
          "x": 0.14,
          "xanchor": "right",
          "xref": "paper",
          "y": "Social Work",
          "yref": "y"
         },
         {
          "font": {
           "color": "rgb(248, 248, 255)",
           "family": "Arial",
           "size": 14
          },
          "showarrow": false,
          "text": "96.7%",
          "x": 48.35,
          "xref": "x",
          "y": "Social Work",
          "yref": "y"
         },
         {
          "font": {
           "color": "rgb(67, 67, 67)",
           "family": "Arial",
           "size": 14
          },
          "showarrow": false,
          "x": 48.35,
          "xref": "x",
          "y": 1.1,
          "yref": "paper"
         },
         {
          "font": {
           "color": "rgb(248, 248, 255)",
           "family": "Arial",
           "size": 14
          },
          "showarrow": false,
          "text": "3.3%",
          "x": 98.35000000000001,
          "xref": "x",
          "y": "Social Work",
          "yref": "y"
         },
         {
          "font": {
           "color": "rgb(67, 67, 67)",
           "family": "Arial",
           "size": 14
          },
          "showarrow": false,
          "x": 98.35000000000001,
          "xref": "x",
          "y": 1.1,
          "yref": "paper"
         }
        ],
        "barmode": "stack",
        "margin": {
         "b": 80,
         "l": 120,
         "r": 10,
         "t": 140
        },
        "paper_bgcolor": "rgb(248, 248, 255)",
        "plot_bgcolor": "rgb(248, 248, 255)",
        "showlegend": false,
        "template": {
         "data": {
          "bar": [
           {
            "error_x": {
             "color": "#2a3f5f"
            },
            "error_y": {
             "color": "#2a3f5f"
            },
            "marker": {
             "line": {
              "color": "#E5ECF6",
              "width": 0.5
             }
            },
            "type": "bar"
           }
          ],
          "barpolar": [
           {
            "marker": {
             "line": {
              "color": "#E5ECF6",
              "width": 0.5
             }
            },
            "type": "barpolar"
           }
          ],
          "carpet": [
           {
            "aaxis": {
             "endlinecolor": "#2a3f5f",
             "gridcolor": "white",
             "linecolor": "white",
             "minorgridcolor": "white",
             "startlinecolor": "#2a3f5f"
            },
            "baxis": {
             "endlinecolor": "#2a3f5f",
             "gridcolor": "white",
             "linecolor": "white",
             "minorgridcolor": "white",
             "startlinecolor": "#2a3f5f"
            },
            "type": "carpet"
           }
          ],
          "choropleth": [
           {
            "colorbar": {
             "outlinewidth": 0,
             "ticks": ""
            },
            "type": "choropleth"
           }
          ],
          "contour": [
           {
            "colorbar": {
             "outlinewidth": 0,
             "ticks": ""
            },
            "colorscale": [
             [
              0,
              "#0d0887"
             ],
             [
              0.1111111111111111,
              "#46039f"
             ],
             [
              0.2222222222222222,
              "#7201a8"
             ],
             [
              0.3333333333333333,
              "#9c179e"
             ],
             [
              0.4444444444444444,
              "#bd3786"
             ],
             [
              0.5555555555555556,
              "#d8576b"
             ],
             [
              0.6666666666666666,
              "#ed7953"
             ],
             [
              0.7777777777777778,
              "#fb9f3a"
             ],
             [
              0.8888888888888888,
              "#fdca26"
             ],
             [
              1,
              "#f0f921"
             ]
            ],
            "type": "contour"
           }
          ],
          "contourcarpet": [
           {
            "colorbar": {
             "outlinewidth": 0,
             "ticks": ""
            },
            "type": "contourcarpet"
           }
          ],
          "heatmap": [
           {
            "colorbar": {
             "outlinewidth": 0,
             "ticks": ""
            },
            "colorscale": [
             [
              0,
              "#0d0887"
             ],
             [
              0.1111111111111111,
              "#46039f"
             ],
             [
              0.2222222222222222,
              "#7201a8"
             ],
             [
              0.3333333333333333,
              "#9c179e"
             ],
             [
              0.4444444444444444,
              "#bd3786"
             ],
             [
              0.5555555555555556,
              "#d8576b"
             ],
             [
              0.6666666666666666,
              "#ed7953"
             ],
             [
              0.7777777777777778,
              "#fb9f3a"
             ],
             [
              0.8888888888888888,
              "#fdca26"
             ],
             [
              1,
              "#f0f921"
             ]
            ],
            "type": "heatmap"
           }
          ],
          "heatmapgl": [
           {
            "colorbar": {
             "outlinewidth": 0,
             "ticks": ""
            },
            "colorscale": [
             [
              0,
              "#0d0887"
             ],
             [
              0.1111111111111111,
              "#46039f"
             ],
             [
              0.2222222222222222,
              "#7201a8"
             ],
             [
              0.3333333333333333,
              "#9c179e"
             ],
             [
              0.4444444444444444,
              "#bd3786"
             ],
             [
              0.5555555555555556,
              "#d8576b"
             ],
             [
              0.6666666666666666,
              "#ed7953"
             ],
             [
              0.7777777777777778,
              "#fb9f3a"
             ],
             [
              0.8888888888888888,
              "#fdca26"
             ],
             [
              1,
              "#f0f921"
             ]
            ],
            "type": "heatmapgl"
           }
          ],
          "histogram": [
           {
            "marker": {
             "colorbar": {
              "outlinewidth": 0,
              "ticks": ""
             }
            },
            "type": "histogram"
           }
          ],
          "histogram2d": [
           {
            "colorbar": {
             "outlinewidth": 0,
             "ticks": ""
            },
            "colorscale": [
             [
              0,
              "#0d0887"
             ],
             [
              0.1111111111111111,
              "#46039f"
             ],
             [
              0.2222222222222222,
              "#7201a8"
             ],
             [
              0.3333333333333333,
              "#9c179e"
             ],
             [
              0.4444444444444444,
              "#bd3786"
             ],
             [
              0.5555555555555556,
              "#d8576b"
             ],
             [
              0.6666666666666666,
              "#ed7953"
             ],
             [
              0.7777777777777778,
              "#fb9f3a"
             ],
             [
              0.8888888888888888,
              "#fdca26"
             ],
             [
              1,
              "#f0f921"
             ]
            ],
            "type": "histogram2d"
           }
          ],
          "histogram2dcontour": [
           {
            "colorbar": {
             "outlinewidth": 0,
             "ticks": ""
            },
            "colorscale": [
             [
              0,
              "#0d0887"
             ],
             [
              0.1111111111111111,
              "#46039f"
             ],
             [
              0.2222222222222222,
              "#7201a8"
             ],
             [
              0.3333333333333333,
              "#9c179e"
             ],
             [
              0.4444444444444444,
              "#bd3786"
             ],
             [
              0.5555555555555556,
              "#d8576b"
             ],
             [
              0.6666666666666666,
              "#ed7953"
             ],
             [
              0.7777777777777778,
              "#fb9f3a"
             ],
             [
              0.8888888888888888,
              "#fdca26"
             ],
             [
              1,
              "#f0f921"
             ]
            ],
            "type": "histogram2dcontour"
           }
          ],
          "mesh3d": [
           {
            "colorbar": {
             "outlinewidth": 0,
             "ticks": ""
            },
            "type": "mesh3d"
           }
          ],
          "parcoords": [
           {
            "line": {
             "colorbar": {
              "outlinewidth": 0,
              "ticks": ""
             }
            },
            "type": "parcoords"
           }
          ],
          "pie": [
           {
            "automargin": true,
            "type": "pie"
           }
          ],
          "scatter": [
           {
            "marker": {
             "colorbar": {
              "outlinewidth": 0,
              "ticks": ""
             }
            },
            "type": "scatter"
           }
          ],
          "scatter3d": [
           {
            "line": {
             "colorbar": {
              "outlinewidth": 0,
              "ticks": ""
             }
            },
            "marker": {
             "colorbar": {
              "outlinewidth": 0,
              "ticks": ""
             }
            },
            "type": "scatter3d"
           }
          ],
          "scattercarpet": [
           {
            "marker": {
             "colorbar": {
              "outlinewidth": 0,
              "ticks": ""
             }
            },
            "type": "scattercarpet"
           }
          ],
          "scattergeo": [
           {
            "marker": {
             "colorbar": {
              "outlinewidth": 0,
              "ticks": ""
             }
            },
            "type": "scattergeo"
           }
          ],
          "scattergl": [
           {
            "marker": {
             "colorbar": {
              "outlinewidth": 0,
              "ticks": ""
             }
            },
            "type": "scattergl"
           }
          ],
          "scattermapbox": [
           {
            "marker": {
             "colorbar": {
              "outlinewidth": 0,
              "ticks": ""
             }
            },
            "type": "scattermapbox"
           }
          ],
          "scatterpolar": [
           {
            "marker": {
             "colorbar": {
              "outlinewidth": 0,
              "ticks": ""
             }
            },
            "type": "scatterpolar"
           }
          ],
          "scatterpolargl": [
           {
            "marker": {
             "colorbar": {
              "outlinewidth": 0,
              "ticks": ""
             }
            },
            "type": "scatterpolargl"
           }
          ],
          "scatterternary": [
           {
            "marker": {
             "colorbar": {
              "outlinewidth": 0,
              "ticks": ""
             }
            },
            "type": "scatterternary"
           }
          ],
          "surface": [
           {
            "colorbar": {
             "outlinewidth": 0,
             "ticks": ""
            },
            "colorscale": [
             [
              0,
              "#0d0887"
             ],
             [
              0.1111111111111111,
              "#46039f"
             ],
             [
              0.2222222222222222,
              "#7201a8"
             ],
             [
              0.3333333333333333,
              "#9c179e"
             ],
             [
              0.4444444444444444,
              "#bd3786"
             ],
             [
              0.5555555555555556,
              "#d8576b"
             ],
             [
              0.6666666666666666,
              "#ed7953"
             ],
             [
              0.7777777777777778,
              "#fb9f3a"
             ],
             [
              0.8888888888888888,
              "#fdca26"
             ],
             [
              1,
              "#f0f921"
             ]
            ],
            "type": "surface"
           }
          ],
          "table": [
           {
            "cells": {
             "fill": {
              "color": "#EBF0F8"
             },
             "line": {
              "color": "white"
             }
            },
            "header": {
             "fill": {
              "color": "#C8D4E3"
             },
             "line": {
              "color": "white"
             }
            },
            "type": "table"
           }
          ]
         },
         "layout": {
          "annotationdefaults": {
           "arrowcolor": "#2a3f5f",
           "arrowhead": 0,
           "arrowwidth": 1
          },
          "coloraxis": {
           "colorbar": {
            "outlinewidth": 0,
            "ticks": ""
           }
          },
          "colorscale": {
           "diverging": [
            [
             0,
             "#8e0152"
            ],
            [
             0.1,
             "#c51b7d"
            ],
            [
             0.2,
             "#de77ae"
            ],
            [
             0.3,
             "#f1b6da"
            ],
            [
             0.4,
             "#fde0ef"
            ],
            [
             0.5,
             "#f7f7f7"
            ],
            [
             0.6,
             "#e6f5d0"
            ],
            [
             0.7,
             "#b8e186"
            ],
            [
             0.8,
             "#7fbc41"
            ],
            [
             0.9,
             "#4d9221"
            ],
            [
             1,
             "#276419"
            ]
           ],
           "sequential": [
            [
             0,
             "#0d0887"
            ],
            [
             0.1111111111111111,
             "#46039f"
            ],
            [
             0.2222222222222222,
             "#7201a8"
            ],
            [
             0.3333333333333333,
             "#9c179e"
            ],
            [
             0.4444444444444444,
             "#bd3786"
            ],
            [
             0.5555555555555556,
             "#d8576b"
            ],
            [
             0.6666666666666666,
             "#ed7953"
            ],
            [
             0.7777777777777778,
             "#fb9f3a"
            ],
            [
             0.8888888888888888,
             "#fdca26"
            ],
            [
             1,
             "#f0f921"
            ]
           ],
           "sequentialminus": [
            [
             0,
             "#0d0887"
            ],
            [
             0.1111111111111111,
             "#46039f"
            ],
            [
             0.2222222222222222,
             "#7201a8"
            ],
            [
             0.3333333333333333,
             "#9c179e"
            ],
            [
             0.4444444444444444,
             "#bd3786"
            ],
            [
             0.5555555555555556,
             "#d8576b"
            ],
            [
             0.6666666666666666,
             "#ed7953"
            ],
            [
             0.7777777777777778,
             "#fb9f3a"
            ],
            [
             0.8888888888888888,
             "#fdca26"
            ],
            [
             1,
             "#f0f921"
            ]
           ]
          },
          "colorway": [
           "#636efa",
           "#EF553B",
           "#00cc96",
           "#ab63fa",
           "#FFA15A",
           "#19d3f3",
           "#FF6692",
           "#B6E880",
           "#FF97FF",
           "#FECB52"
          ],
          "font": {
           "color": "#2a3f5f"
          },
          "geo": {
           "bgcolor": "white",
           "lakecolor": "white",
           "landcolor": "#E5ECF6",
           "showlakes": true,
           "showland": true,
           "subunitcolor": "white"
          },
          "hoverlabel": {
           "align": "left"
          },
          "hovermode": "closest",
          "mapbox": {
           "style": "light"
          },
          "paper_bgcolor": "white",
          "plot_bgcolor": "#E5ECF6",
          "polar": {
           "angularaxis": {
            "gridcolor": "white",
            "linecolor": "white",
            "ticks": ""
           },
           "bgcolor": "#E5ECF6",
           "radialaxis": {
            "gridcolor": "white",
            "linecolor": "white",
            "ticks": ""
           }
          },
          "scene": {
           "xaxis": {
            "backgroundcolor": "#E5ECF6",
            "gridcolor": "white",
            "gridwidth": 2,
            "linecolor": "white",
            "showbackground": true,
            "ticks": "",
            "zerolinecolor": "white"
           },
           "yaxis": {
            "backgroundcolor": "#E5ECF6",
            "gridcolor": "white",
            "gridwidth": 2,
            "linecolor": "white",
            "showbackground": true,
            "ticks": "",
            "zerolinecolor": "white"
           },
           "zaxis": {
            "backgroundcolor": "#E5ECF6",
            "gridcolor": "white",
            "gridwidth": 2,
            "linecolor": "white",
            "showbackground": true,
            "ticks": "",
            "zerolinecolor": "white"
           }
          },
          "shapedefaults": {
           "line": {
            "color": "#2a3f5f"
           }
          },
          "ternary": {
           "aaxis": {
            "gridcolor": "white",
            "linecolor": "white",
            "ticks": ""
           },
           "baxis": {
            "gridcolor": "white",
            "linecolor": "white",
            "ticks": ""
           },
           "bgcolor": "#E5ECF6",
           "caxis": {
            "gridcolor": "white",
            "linecolor": "white",
            "ticks": ""
           }
          },
          "title": {
           "x": 0.05
          },
          "xaxis": {
           "automargin": true,
           "gridcolor": "white",
           "linecolor": "white",
           "ticks": "",
           "title": {
            "standoff": 15
           },
           "zerolinecolor": "white",
           "zerolinewidth": 2
          },
          "yaxis": {
           "automargin": true,
           "gridcolor": "white",
           "linecolor": "white",
           "ticks": "",
           "title": {
            "standoff": 15
           },
           "zerolinecolor": "white",
           "zerolinewidth": 2
          }
         }
        },
        "xaxis": {
         "domain": [
          0.15,
          1
         ],
         "showgrid": false,
         "showline": false,
         "showticklabels": false,
         "zeroline": false
        },
        "yaxis": {
         "showgrid": false,
         "showline": false,
         "showticklabels": false,
         "zeroline": false
        }
       }
      }
     },
     "metadata": {},
     "output_type": "display_data"
    }
   ],
   "source": [
    "import plotly.graph_objects as go\n",
    "\n",
    "#top_labels = table[\"gender_name\"]\n",
    "\n",
    "colors = [\"#F78FE4\", \"#1179f0\"]\n",
    "\n",
    "# x_data is the number of occurrences in each category: that is, number of men and women per domain of study\n",
    "x_data = list_of_percentages_by_gender\n",
    "\n",
    "print(type(x_data))\n",
    "\n",
    "y_data = table.index\n",
    "\n",
    "fig = go.Figure()\n",
    "\n",
    "for i in range(0, len(x_data[0])): # x_data[0] is the list that contains the number of \n",
    "    for xd, yd in zip(x_data, y_data):\n",
    "        fig.add_trace(go.Bar(\n",
    "            x=[xd[i]], y=[yd],\n",
    "            orientation='h',\n",
    "            marker=dict(\n",
    "                color=colors[i],\n",
    "                line=dict(color='rgb(248, 248, 249)', width=1)\n",
    "            )\n",
    "        ))\n",
    "\n",
    "fig.update_layout(\n",
    "    xaxis=dict(\n",
    "        showgrid=False,\n",
    "        showline=False,\n",
    "        showticklabels=False,\n",
    "        zeroline=False,\n",
    "        domain=[0.15, 1]\n",
    "    ),\n",
    "    yaxis=dict(\n",
    "        showgrid=False,\n",
    "        showline=False,\n",
    "        showticklabels=False,\n",
    "        zeroline=False,\n",
    "    ),\n",
    "    barmode='stack',\n",
    "    paper_bgcolor='rgb(248, 248, 255)',\n",
    "    plot_bgcolor='rgb(248, 248, 255)',\n",
    "    margin=dict(l=120, r=10, t=140, b=80),\n",
    "    showlegend=False,\n",
    ")\n",
    "\n",
    "annotations = []\n",
    "\n",
    "for yd, xd in zip(y_data, x_data):\n",
    "    # labeling the y-axis\n",
    "    annotations.append(dict(xref='paper', yref='y',\n",
    "                            x=0.14, y=yd,\n",
    "                            xanchor='right',\n",
    "                            text=str(yd),\n",
    "                            font=dict(family='Arial', size=14,\n",
    "                                      color='rgb(67, 67, 67)'),\n",
    "                            showarrow=False, align='right'))\n",
    "    # labeling the first percentage of each bar (x_axis)\n",
    "    annotations.append(dict(xref='x', yref='y',\n",
    "                            x=xd[0] / 2, y=yd,\n",
    "                            text=str(xd[0]) + '%',\n",
    "                            font=dict(family='Arial', size=14,\n",
    "                                      color='rgb(248, 248, 255)'),\n",
    "                            showarrow=False))\n",
    "    # labeling the first Likert scale (on the top)\n",
    "    if yd == y_data[-1]:\n",
    "        annotations.append(dict(xref='x', yref='paper',\n",
    "                                x=xd[0] / 2, y=1.1,\n",
    "                                #text=top_labels[0],\n",
    "                                font=dict(family='Arial', size=14,\n",
    "                                          color='rgb(67, 67, 67)'),\n",
    "                                showarrow=False))\n",
    "    space = xd[0]\n",
    "    for i in range(1, len(xd)):\n",
    "            # labeling the rest of percentages for each bar (x_axis)\n",
    "            annotations.append(dict(xref='x', yref='y',\n",
    "                                    x=space + (xd[i]/2), y=yd,\n",
    "                                    text=str(xd[i]) + '%',\n",
    "                                    font=dict(family='Arial', size=14,\n",
    "                                              color='rgb(248, 248, 255)'),\n",
    "                                    showarrow=False))\n",
    "            # labeling the Likert scale\n",
    "            if yd == y_data[-1]:\n",
    "                annotations.append(dict(xref='x', yref='paper',\n",
    "                                        x=space + (xd[i]/2), y=1.1,\n",
    "                                        #text=top_labels[i],\n",
    "                                        font=dict(family='Arial', size=14,\n",
    "                                                  color='rgb(67, 67, 67)'),\n",
    "                                        showarrow=False))\n",
    "            space += xd[i]\n",
    "\n",
    "fig.update_layout(annotations=annotations)\n",
    "\n",
    "fig.show()"
   ]
  },
  {
   "cell_type": "code",
   "execution_count": 49,
   "metadata": {},
   "outputs": [
    {
     "data": {
      "text/plain": [
       "\"L = [['a','bob'],['a','bob'],['a','john']]\\nfor i, x in enumerate(L):\\n    for j, a in enumerate(x):\\n        if 'bob' in a:\\n            L[i][j] = a.replace('bob', 'b')\\n\\nprint(L)\""
      ]
     },
     "execution_count": 49,
     "metadata": {},
     "output_type": "execute_result"
    }
   ],
   "source": [
    "\"\"\"L = [['a','bob'],['a','bob'],['a','john']]\n",
    "for i, x in enumerate(L):\n",
    "    for j, a in enumerate(x):\n",
    "        if 'bob' in a:\n",
    "            L[i][j] = a.replace('bob', 'b')\n",
    "\n",
    "print(L)\"\"\""
   ]
  },
  {
   "cell_type": "code",
   "execution_count": 50,
   "metadata": {},
   "outputs": [
    {
     "data": {
      "text/plain": [
       "'L = [[1.0, 0.0],[0.0, 2.36],[1.2, 0.0]]\\nfor i, x in enumerate(L):\\n    for j, a in enumerate(x):\\n        if a==0.0:\\n            L[i][j] = None\\n\\nprint(L)'"
      ]
     },
     "execution_count": 50,
     "metadata": {},
     "output_type": "execute_result"
    }
   ],
   "source": [
    "\"\"\"L = [[1.0, 0.0],[0.0, 2.36],[1.2, 0.0]]\n",
    "for i, x in enumerate(L):\n",
    "    for j, a in enumerate(x):\n",
    "        if a==0.0:\n",
    "            L[i][j] = None\n",
    "\n",
    "print(L)\"\"\""
   ]
  },
  {
   "cell_type": "code",
   "execution_count": 51,
   "metadata": {},
   "outputs": [
    {
     "data": {
      "text/plain": [
       "'for i, x in enumerate(list_of_percentages_by_gender):\\n    for j, a in enumerate(x):\\n        if a==0.0:\\n            list_of_percentages_by_gender[i][j] = None\\n\\nprint(list_of_percentages_by_gender)'"
      ]
     },
     "execution_count": 51,
     "metadata": {},
     "output_type": "execute_result"
    }
   ],
   "source": [
    "\"\"\"for i, x in enumerate(list_of_percentages_by_gender):\n",
    "    for j, a in enumerate(x):\n",
    "        if a==0.0:\n",
    "            list_of_percentages_by_gender[i][j] = None\n",
    "\n",
    "print(list_of_percentages_by_gender)\"\"\""
   ]
  },
  {
   "cell_type": "code",
   "execution_count": 52,
   "metadata": {},
   "outputs": [
    {
     "name": "stdout",
     "output_type": "stream",
     "text": [
      "<class 'list'>\n"
     ]
    },
    {
     "data": {
      "application/vnd.plotly.v1+json": {
       "config": {
        "plotlyServerURL": "https://plot.ly"
       },
       "data": [
        {
         "marker": {
          "color": "#F78FE4",
          "line": {
           "color": "rgb(248, 248, 249)",
           "width": 1
          }
         },
         "name": "Female",
         "orientation": "h",
         "type": "bar",
         "x": [
          0
         ],
         "y": [
          "Architecture"
         ]
        },
        {
         "marker": {
          "color": "#F78FE4",
          "line": {
           "color": "rgb(248, 248, 249)",
           "width": 1
          }
         },
         "name": "Female",
         "orientation": "h",
         "type": "bar",
         "x": [
          0
         ],
         "y": [
          "Undergrad / Undecided"
         ]
        },
        {
         "marker": {
          "color": "#F78FE4",
          "line": {
           "color": "rgb(248, 248, 249)",
           "width": 1
          }
         },
         "name": "Female",
         "orientation": "h",
         "type": "bar",
         "x": [
          23.1
         ],
         "y": [
          "Economy and Management"
         ]
        },
        {
         "marker": {
          "color": "#F78FE4",
          "line": {
           "color": "rgb(248, 248, 249)",
           "width": 1
          }
         },
         "name": "Female",
         "orientation": "h",
         "type": "bar",
         "x": [
          37.4
         ],
         "y": [
          "Sciences"
         ]
        },
        {
         "marker": {
          "color": "#F78FE4",
          "line": {
           "color": "rgb(248, 248, 249)",
           "width": 1
          }
         },
         "name": "Female",
         "orientation": "h",
         "type": "bar",
         "x": [
          47.9
         ],
         "y": [
          "Law and Political Science"
         ]
        },
        {
         "marker": {
          "color": "#F78FE4",
          "line": {
           "color": "rgb(248, 248, 249)",
           "width": 1
          }
         },
         "name": "Female",
         "orientation": "h",
         "type": "bar",
         "x": [
          50
         ],
         "y": [
          "Other"
         ]
        },
        {
         "marker": {
          "color": "#F78FE4",
          "line": {
           "color": "rgb(248, 248, 249)",
           "width": 1
          }
         },
         "name": "Female",
         "orientation": "h",
         "type": "bar",
         "x": [
          66.7
         ],
         "y": [
          "Arts"
         ]
        },
        {
         "marker": {
          "color": "#F78FE4",
          "line": {
           "color": "rgb(248, 248, 249)",
           "width": 1
          }
         },
         "name": "Female",
         "orientation": "h",
         "type": "bar",
         "x": [
          69.8
         ],
         "y": [
          "Social Sciences, Humanities, Psychology"
         ]
        },
        {
         "marker": {
          "color": "#F78FE4",
          "line": {
           "color": "rgb(248, 248, 249)",
           "width": 1
          }
         },
         "name": "Female",
         "orientation": "h",
         "type": "bar",
         "x": [
          75
         ],
         "y": [
          "Literature and Languages"
         ]
        },
        {
         "marker": {
          "color": "#F78FE4",
          "line": {
           "color": "rgb(248, 248, 249)",
           "width": 1
          }
         },
         "name": "Female",
         "orientation": "h",
         "type": "bar",
         "x": [
          77.8
         ],
         "y": [
          "Medicine, Pharma, Biotech"
         ]
        },
        {
         "marker": {
          "color": "#F78FE4",
          "line": {
           "color": "rgb(248, 248, 249)",
           "width": 1
          }
         },
         "name": "Female",
         "orientation": "h",
         "type": "bar",
         "x": [
          87.5
         ],
         "y": [
          "Education, Academia"
         ]
        },
        {
         "marker": {
          "color": "#F78FE4",
          "line": {
           "color": "rgb(248, 248, 249)",
           "width": 1
          }
         },
         "name": "Female",
         "orientation": "h",
         "type": "bar",
         "x": [
          96.7
         ],
         "y": [
          "Social Work"
         ]
        },
        {
         "marker": {
          "color": "#1179f0",
          "line": {
           "color": "rgb(248, 248, 249)",
           "width": 1
          }
         },
         "name": "Male",
         "orientation": "h",
         "type": "bar",
         "x": [
          100
         ],
         "y": [
          "Architecture"
         ]
        },
        {
         "marker": {
          "color": "#1179f0",
          "line": {
           "color": "rgb(248, 248, 249)",
           "width": 1
          }
         },
         "name": "Male",
         "orientation": "h",
         "type": "bar",
         "x": [
          100
         ],
         "y": [
          "Undergrad / Undecided"
         ]
        },
        {
         "marker": {
          "color": "#1179f0",
          "line": {
           "color": "rgb(248, 248, 249)",
           "width": 1
          }
         },
         "name": "Male",
         "orientation": "h",
         "type": "bar",
         "x": [
          76.9
         ],
         "y": [
          "Economy and Management"
         ]
        },
        {
         "marker": {
          "color": "#1179f0",
          "line": {
           "color": "rgb(248, 248, 249)",
           "width": 1
          }
         },
         "name": "Male",
         "orientation": "h",
         "type": "bar",
         "x": [
          62.6
         ],
         "y": [
          "Sciences"
         ]
        },
        {
         "marker": {
          "color": "#1179f0",
          "line": {
           "color": "rgb(248, 248, 249)",
           "width": 1
          }
         },
         "name": "Male",
         "orientation": "h",
         "type": "bar",
         "x": [
          52.1
         ],
         "y": [
          "Law and Political Science"
         ]
        },
        {
         "marker": {
          "color": "#1179f0",
          "line": {
           "color": "rgb(248, 248, 249)",
           "width": 1
          }
         },
         "name": "Male",
         "orientation": "h",
         "type": "bar",
         "x": [
          50
         ],
         "y": [
          "Other"
         ]
        },
        {
         "marker": {
          "color": "#1179f0",
          "line": {
           "color": "rgb(248, 248, 249)",
           "width": 1
          }
         },
         "name": "Male",
         "orientation": "h",
         "type": "bar",
         "x": [
          33.3
         ],
         "y": [
          "Arts"
         ]
        },
        {
         "marker": {
          "color": "#1179f0",
          "line": {
           "color": "rgb(248, 248, 249)",
           "width": 1
          }
         },
         "name": "Male",
         "orientation": "h",
         "type": "bar",
         "x": [
          30.2
         ],
         "y": [
          "Social Sciences, Humanities, Psychology"
         ]
        },
        {
         "marker": {
          "color": "#1179f0",
          "line": {
           "color": "rgb(248, 248, 249)",
           "width": 1
          }
         },
         "name": "Male",
         "orientation": "h",
         "type": "bar",
         "x": [
          25
         ],
         "y": [
          "Literature and Languages"
         ]
        },
        {
         "marker": {
          "color": "#1179f0",
          "line": {
           "color": "rgb(248, 248, 249)",
           "width": 1
          }
         },
         "name": "Male",
         "orientation": "h",
         "type": "bar",
         "x": [
          22.2
         ],
         "y": [
          "Medicine, Pharma, Biotech"
         ]
        },
        {
         "marker": {
          "color": "#1179f0",
          "line": {
           "color": "rgb(248, 248, 249)",
           "width": 1
          }
         },
         "name": "Male",
         "orientation": "h",
         "type": "bar",
         "x": [
          12.5
         ],
         "y": [
          "Education, Academia"
         ]
        },
        {
         "marker": {
          "color": "#1179f0",
          "line": {
           "color": "rgb(248, 248, 249)",
           "width": 1
          }
         },
         "name": "Male",
         "orientation": "h",
         "type": "bar",
         "x": [
          3.3
         ],
         "y": [
          "Social Work"
         ]
        }
       ],
       "layout": {
        "annotations": [
         {
          "align": "right",
          "font": {
           "color": "rgb(67, 67, 67)",
           "family": "Arial",
           "size": 14
          },
          "showarrow": false,
          "text": "Architecture",
          "x": 0.14,
          "xanchor": "right",
          "xref": "paper",
          "y": "Architecture",
          "yref": "y"
         },
         {
          "font": {
           "color": "rgb(248, 248, 255)",
           "family": "Arial",
           "size": 14
          },
          "showarrow": false,
          "text": "",
          "x": 0,
          "xref": "x",
          "y": "Architecture",
          "yref": "y"
         },
         {
          "font": {
           "color": "rgb(248, 248, 255)",
           "family": "Arial",
           "size": 14
          },
          "showarrow": false,
          "text": "100.0%",
          "x": 50,
          "xref": "x",
          "y": "Architecture",
          "yref": "y"
         },
         {
          "align": "right",
          "font": {
           "color": "rgb(67, 67, 67)",
           "family": "Arial",
           "size": 14
          },
          "showarrow": false,
          "text": "Undergrad / Undecided",
          "x": 0.14,
          "xanchor": "right",
          "xref": "paper",
          "y": "Undergrad / Undecided",
          "yref": "y"
         },
         {
          "font": {
           "color": "rgb(248, 248, 255)",
           "family": "Arial",
           "size": 14
          },
          "showarrow": false,
          "text": "",
          "x": 0,
          "xref": "x",
          "y": "Undergrad / Undecided",
          "yref": "y"
         },
         {
          "font": {
           "color": "rgb(248, 248, 255)",
           "family": "Arial",
           "size": 14
          },
          "showarrow": false,
          "text": "100.0%",
          "x": 50,
          "xref": "x",
          "y": "Undergrad / Undecided",
          "yref": "y"
         },
         {
          "align": "right",
          "font": {
           "color": "rgb(67, 67, 67)",
           "family": "Arial",
           "size": 14
          },
          "showarrow": false,
          "text": "Economy and Management",
          "x": 0.14,
          "xanchor": "right",
          "xref": "paper",
          "y": "Economy and Management",
          "yref": "y"
         },
         {
          "font": {
           "color": "rgb(248, 248, 255)",
           "family": "Arial",
           "size": 14
          },
          "showarrow": false,
          "text": "23.1%",
          "x": 11.55,
          "xref": "x",
          "y": "Economy and Management",
          "yref": "y"
         },
         {
          "font": {
           "color": "rgb(248, 248, 255)",
           "family": "Arial",
           "size": 14
          },
          "showarrow": false,
          "text": "76.9%",
          "x": 61.550000000000004,
          "xref": "x",
          "y": "Economy and Management",
          "yref": "y"
         },
         {
          "align": "right",
          "font": {
           "color": "rgb(67, 67, 67)",
           "family": "Arial",
           "size": 14
          },
          "showarrow": false,
          "text": "Sciences",
          "x": 0.14,
          "xanchor": "right",
          "xref": "paper",
          "y": "Sciences",
          "yref": "y"
         },
         {
          "font": {
           "color": "rgb(248, 248, 255)",
           "family": "Arial",
           "size": 14
          },
          "showarrow": false,
          "text": "37.4%",
          "x": 18.7,
          "xref": "x",
          "y": "Sciences",
          "yref": "y"
         },
         {
          "font": {
           "color": "rgb(248, 248, 255)",
           "family": "Arial",
           "size": 14
          },
          "showarrow": false,
          "text": "62.6%",
          "x": 68.7,
          "xref": "x",
          "y": "Sciences",
          "yref": "y"
         },
         {
          "align": "right",
          "font": {
           "color": "rgb(67, 67, 67)",
           "family": "Arial",
           "size": 14
          },
          "showarrow": false,
          "text": "Law and Political Science",
          "x": 0.14,
          "xanchor": "right",
          "xref": "paper",
          "y": "Law and Political Science",
          "yref": "y"
         },
         {
          "font": {
           "color": "rgb(248, 248, 255)",
           "family": "Arial",
           "size": 14
          },
          "showarrow": false,
          "text": "47.9%",
          "x": 23.95,
          "xref": "x",
          "y": "Law and Political Science",
          "yref": "y"
         },
         {
          "font": {
           "color": "rgb(248, 248, 255)",
           "family": "Arial",
           "size": 14
          },
          "showarrow": false,
          "text": "52.1%",
          "x": 73.95,
          "xref": "x",
          "y": "Law and Political Science",
          "yref": "y"
         },
         {
          "align": "right",
          "font": {
           "color": "rgb(67, 67, 67)",
           "family": "Arial",
           "size": 14
          },
          "showarrow": false,
          "text": "Other",
          "x": 0.14,
          "xanchor": "right",
          "xref": "paper",
          "y": "Other",
          "yref": "y"
         },
         {
          "font": {
           "color": "rgb(248, 248, 255)",
           "family": "Arial",
           "size": 14
          },
          "showarrow": false,
          "text": "50.0%",
          "x": 25,
          "xref": "x",
          "y": "Other",
          "yref": "y"
         },
         {
          "font": {
           "color": "rgb(248, 248, 255)",
           "family": "Arial",
           "size": 14
          },
          "showarrow": false,
          "text": "50.0%",
          "x": 75,
          "xref": "x",
          "y": "Other",
          "yref": "y"
         },
         {
          "align": "right",
          "font": {
           "color": "rgb(67, 67, 67)",
           "family": "Arial",
           "size": 14
          },
          "showarrow": false,
          "text": "Arts",
          "x": 0.14,
          "xanchor": "right",
          "xref": "paper",
          "y": "Arts",
          "yref": "y"
         },
         {
          "font": {
           "color": "rgb(248, 248, 255)",
           "family": "Arial",
           "size": 14
          },
          "showarrow": false,
          "text": "66.7%",
          "x": 33.35,
          "xref": "x",
          "y": "Arts",
          "yref": "y"
         },
         {
          "font": {
           "color": "rgb(248, 248, 255)",
           "family": "Arial",
           "size": 14
          },
          "showarrow": false,
          "text": "33.3%",
          "x": 83.35,
          "xref": "x",
          "y": "Arts",
          "yref": "y"
         },
         {
          "align": "right",
          "font": {
           "color": "rgb(67, 67, 67)",
           "family": "Arial",
           "size": 14
          },
          "showarrow": false,
          "text": "Social Sciences, Humanities, Psychology",
          "x": 0.14,
          "xanchor": "right",
          "xref": "paper",
          "y": "Social Sciences, Humanities, Psychology",
          "yref": "y"
         },
         {
          "font": {
           "color": "rgb(248, 248, 255)",
           "family": "Arial",
           "size": 14
          },
          "showarrow": false,
          "text": "69.8%",
          "x": 34.9,
          "xref": "x",
          "y": "Social Sciences, Humanities, Psychology",
          "yref": "y"
         },
         {
          "font": {
           "color": "rgb(248, 248, 255)",
           "family": "Arial",
           "size": 14
          },
          "showarrow": false,
          "text": "30.2%",
          "x": 84.89999999999999,
          "xref": "x",
          "y": "Social Sciences, Humanities, Psychology",
          "yref": "y"
         },
         {
          "align": "right",
          "font": {
           "color": "rgb(67, 67, 67)",
           "family": "Arial",
           "size": 14
          },
          "showarrow": false,
          "text": "Literature and Languages",
          "x": 0.14,
          "xanchor": "right",
          "xref": "paper",
          "y": "Literature and Languages",
          "yref": "y"
         },
         {
          "font": {
           "color": "rgb(248, 248, 255)",
           "family": "Arial",
           "size": 14
          },
          "showarrow": false,
          "text": "75.0%",
          "x": 37.5,
          "xref": "x",
          "y": "Literature and Languages",
          "yref": "y"
         },
         {
          "font": {
           "color": "rgb(248, 248, 255)",
           "family": "Arial",
           "size": 14
          },
          "showarrow": false,
          "text": "25.0%",
          "x": 87.5,
          "xref": "x",
          "y": "Literature and Languages",
          "yref": "y"
         },
         {
          "align": "right",
          "font": {
           "color": "rgb(67, 67, 67)",
           "family": "Arial",
           "size": 14
          },
          "showarrow": false,
          "text": "Medicine, Pharma, Biotech",
          "x": 0.14,
          "xanchor": "right",
          "xref": "paper",
          "y": "Medicine, Pharma, Biotech",
          "yref": "y"
         },
         {
          "font": {
           "color": "rgb(248, 248, 255)",
           "family": "Arial",
           "size": 14
          },
          "showarrow": false,
          "text": "77.8%",
          "x": 38.9,
          "xref": "x",
          "y": "Medicine, Pharma, Biotech",
          "yref": "y"
         },
         {
          "font": {
           "color": "rgb(248, 248, 255)",
           "family": "Arial",
           "size": 14
          },
          "showarrow": false,
          "text": "22.2%",
          "x": 88.89999999999999,
          "xref": "x",
          "y": "Medicine, Pharma, Biotech",
          "yref": "y"
         },
         {
          "align": "right",
          "font": {
           "color": "rgb(67, 67, 67)",
           "family": "Arial",
           "size": 14
          },
          "showarrow": false,
          "text": "Education, Academia",
          "x": 0.14,
          "xanchor": "right",
          "xref": "paper",
          "y": "Education, Academia",
          "yref": "y"
         },
         {
          "font": {
           "color": "rgb(248, 248, 255)",
           "family": "Arial",
           "size": 14
          },
          "showarrow": false,
          "text": "87.5%",
          "x": 43.75,
          "xref": "x",
          "y": "Education, Academia",
          "yref": "y"
         },
         {
          "font": {
           "color": "rgb(248, 248, 255)",
           "family": "Arial",
           "size": 14
          },
          "showarrow": false,
          "text": "12.5%",
          "x": 93.75,
          "xref": "x",
          "y": "Education, Academia",
          "yref": "y"
         },
         {
          "align": "right",
          "font": {
           "color": "rgb(67, 67, 67)",
           "family": "Arial",
           "size": 14
          },
          "showarrow": false,
          "text": "Social Work",
          "x": 0.14,
          "xanchor": "right",
          "xref": "paper",
          "y": "Social Work",
          "yref": "y"
         },
         {
          "font": {
           "color": "rgb(248, 248, 255)",
           "family": "Arial",
           "size": 14
          },
          "showarrow": false,
          "text": "96.7%",
          "x": 48.35,
          "xref": "x",
          "y": "Social Work",
          "yref": "y"
         },
         {
          "font": {
           "color": "rgb(248, 248, 255)",
           "family": "Arial",
           "size": 14
          },
          "showarrow": false,
          "text": "",
          "x": 98.35000000000001,
          "xref": "x",
          "y": "Social Work",
          "yref": "y"
         }
        ],
        "barmode": "stack",
        "margin": {
         "b": 80,
         "l": 120,
         "r": 10,
         "t": 140
        },
        "paper_bgcolor": "rgb(248, 248, 255)",
        "plot_bgcolor": "rgb(248, 248, 255)",
        "showlegend": false,
        "template": {
         "data": {
          "bar": [
           {
            "error_x": {
             "color": "#2a3f5f"
            },
            "error_y": {
             "color": "#2a3f5f"
            },
            "marker": {
             "line": {
              "color": "#E5ECF6",
              "width": 0.5
             }
            },
            "type": "bar"
           }
          ],
          "barpolar": [
           {
            "marker": {
             "line": {
              "color": "#E5ECF6",
              "width": 0.5
             }
            },
            "type": "barpolar"
           }
          ],
          "carpet": [
           {
            "aaxis": {
             "endlinecolor": "#2a3f5f",
             "gridcolor": "white",
             "linecolor": "white",
             "minorgridcolor": "white",
             "startlinecolor": "#2a3f5f"
            },
            "baxis": {
             "endlinecolor": "#2a3f5f",
             "gridcolor": "white",
             "linecolor": "white",
             "minorgridcolor": "white",
             "startlinecolor": "#2a3f5f"
            },
            "type": "carpet"
           }
          ],
          "choropleth": [
           {
            "colorbar": {
             "outlinewidth": 0,
             "ticks": ""
            },
            "type": "choropleth"
           }
          ],
          "contour": [
           {
            "colorbar": {
             "outlinewidth": 0,
             "ticks": ""
            },
            "colorscale": [
             [
              0,
              "#0d0887"
             ],
             [
              0.1111111111111111,
              "#46039f"
             ],
             [
              0.2222222222222222,
              "#7201a8"
             ],
             [
              0.3333333333333333,
              "#9c179e"
             ],
             [
              0.4444444444444444,
              "#bd3786"
             ],
             [
              0.5555555555555556,
              "#d8576b"
             ],
             [
              0.6666666666666666,
              "#ed7953"
             ],
             [
              0.7777777777777778,
              "#fb9f3a"
             ],
             [
              0.8888888888888888,
              "#fdca26"
             ],
             [
              1,
              "#f0f921"
             ]
            ],
            "type": "contour"
           }
          ],
          "contourcarpet": [
           {
            "colorbar": {
             "outlinewidth": 0,
             "ticks": ""
            },
            "type": "contourcarpet"
           }
          ],
          "heatmap": [
           {
            "colorbar": {
             "outlinewidth": 0,
             "ticks": ""
            },
            "colorscale": [
             [
              0,
              "#0d0887"
             ],
             [
              0.1111111111111111,
              "#46039f"
             ],
             [
              0.2222222222222222,
              "#7201a8"
             ],
             [
              0.3333333333333333,
              "#9c179e"
             ],
             [
              0.4444444444444444,
              "#bd3786"
             ],
             [
              0.5555555555555556,
              "#d8576b"
             ],
             [
              0.6666666666666666,
              "#ed7953"
             ],
             [
              0.7777777777777778,
              "#fb9f3a"
             ],
             [
              0.8888888888888888,
              "#fdca26"
             ],
             [
              1,
              "#f0f921"
             ]
            ],
            "type": "heatmap"
           }
          ],
          "heatmapgl": [
           {
            "colorbar": {
             "outlinewidth": 0,
             "ticks": ""
            },
            "colorscale": [
             [
              0,
              "#0d0887"
             ],
             [
              0.1111111111111111,
              "#46039f"
             ],
             [
              0.2222222222222222,
              "#7201a8"
             ],
             [
              0.3333333333333333,
              "#9c179e"
             ],
             [
              0.4444444444444444,
              "#bd3786"
             ],
             [
              0.5555555555555556,
              "#d8576b"
             ],
             [
              0.6666666666666666,
              "#ed7953"
             ],
             [
              0.7777777777777778,
              "#fb9f3a"
             ],
             [
              0.8888888888888888,
              "#fdca26"
             ],
             [
              1,
              "#f0f921"
             ]
            ],
            "type": "heatmapgl"
           }
          ],
          "histogram": [
           {
            "marker": {
             "colorbar": {
              "outlinewidth": 0,
              "ticks": ""
             }
            },
            "type": "histogram"
           }
          ],
          "histogram2d": [
           {
            "colorbar": {
             "outlinewidth": 0,
             "ticks": ""
            },
            "colorscale": [
             [
              0,
              "#0d0887"
             ],
             [
              0.1111111111111111,
              "#46039f"
             ],
             [
              0.2222222222222222,
              "#7201a8"
             ],
             [
              0.3333333333333333,
              "#9c179e"
             ],
             [
              0.4444444444444444,
              "#bd3786"
             ],
             [
              0.5555555555555556,
              "#d8576b"
             ],
             [
              0.6666666666666666,
              "#ed7953"
             ],
             [
              0.7777777777777778,
              "#fb9f3a"
             ],
             [
              0.8888888888888888,
              "#fdca26"
             ],
             [
              1,
              "#f0f921"
             ]
            ],
            "type": "histogram2d"
           }
          ],
          "histogram2dcontour": [
           {
            "colorbar": {
             "outlinewidth": 0,
             "ticks": ""
            },
            "colorscale": [
             [
              0,
              "#0d0887"
             ],
             [
              0.1111111111111111,
              "#46039f"
             ],
             [
              0.2222222222222222,
              "#7201a8"
             ],
             [
              0.3333333333333333,
              "#9c179e"
             ],
             [
              0.4444444444444444,
              "#bd3786"
             ],
             [
              0.5555555555555556,
              "#d8576b"
             ],
             [
              0.6666666666666666,
              "#ed7953"
             ],
             [
              0.7777777777777778,
              "#fb9f3a"
             ],
             [
              0.8888888888888888,
              "#fdca26"
             ],
             [
              1,
              "#f0f921"
             ]
            ],
            "type": "histogram2dcontour"
           }
          ],
          "mesh3d": [
           {
            "colorbar": {
             "outlinewidth": 0,
             "ticks": ""
            },
            "type": "mesh3d"
           }
          ],
          "parcoords": [
           {
            "line": {
             "colorbar": {
              "outlinewidth": 0,
              "ticks": ""
             }
            },
            "type": "parcoords"
           }
          ],
          "pie": [
           {
            "automargin": true,
            "type": "pie"
           }
          ],
          "scatter": [
           {
            "marker": {
             "colorbar": {
              "outlinewidth": 0,
              "ticks": ""
             }
            },
            "type": "scatter"
           }
          ],
          "scatter3d": [
           {
            "line": {
             "colorbar": {
              "outlinewidth": 0,
              "ticks": ""
             }
            },
            "marker": {
             "colorbar": {
              "outlinewidth": 0,
              "ticks": ""
             }
            },
            "type": "scatter3d"
           }
          ],
          "scattercarpet": [
           {
            "marker": {
             "colorbar": {
              "outlinewidth": 0,
              "ticks": ""
             }
            },
            "type": "scattercarpet"
           }
          ],
          "scattergeo": [
           {
            "marker": {
             "colorbar": {
              "outlinewidth": 0,
              "ticks": ""
             }
            },
            "type": "scattergeo"
           }
          ],
          "scattergl": [
           {
            "marker": {
             "colorbar": {
              "outlinewidth": 0,
              "ticks": ""
             }
            },
            "type": "scattergl"
           }
          ],
          "scattermapbox": [
           {
            "marker": {
             "colorbar": {
              "outlinewidth": 0,
              "ticks": ""
             }
            },
            "type": "scattermapbox"
           }
          ],
          "scatterpolar": [
           {
            "marker": {
             "colorbar": {
              "outlinewidth": 0,
              "ticks": ""
             }
            },
            "type": "scatterpolar"
           }
          ],
          "scatterpolargl": [
           {
            "marker": {
             "colorbar": {
              "outlinewidth": 0,
              "ticks": ""
             }
            },
            "type": "scatterpolargl"
           }
          ],
          "scatterternary": [
           {
            "marker": {
             "colorbar": {
              "outlinewidth": 0,
              "ticks": ""
             }
            },
            "type": "scatterternary"
           }
          ],
          "surface": [
           {
            "colorbar": {
             "outlinewidth": 0,
             "ticks": ""
            },
            "colorscale": [
             [
              0,
              "#0d0887"
             ],
             [
              0.1111111111111111,
              "#46039f"
             ],
             [
              0.2222222222222222,
              "#7201a8"
             ],
             [
              0.3333333333333333,
              "#9c179e"
             ],
             [
              0.4444444444444444,
              "#bd3786"
             ],
             [
              0.5555555555555556,
              "#d8576b"
             ],
             [
              0.6666666666666666,
              "#ed7953"
             ],
             [
              0.7777777777777778,
              "#fb9f3a"
             ],
             [
              0.8888888888888888,
              "#fdca26"
             ],
             [
              1,
              "#f0f921"
             ]
            ],
            "type": "surface"
           }
          ],
          "table": [
           {
            "cells": {
             "fill": {
              "color": "#EBF0F8"
             },
             "line": {
              "color": "white"
             }
            },
            "header": {
             "fill": {
              "color": "#C8D4E3"
             },
             "line": {
              "color": "white"
             }
            },
            "type": "table"
           }
          ]
         },
         "layout": {
          "annotationdefaults": {
           "arrowcolor": "#2a3f5f",
           "arrowhead": 0,
           "arrowwidth": 1
          },
          "coloraxis": {
           "colorbar": {
            "outlinewidth": 0,
            "ticks": ""
           }
          },
          "colorscale": {
           "diverging": [
            [
             0,
             "#8e0152"
            ],
            [
             0.1,
             "#c51b7d"
            ],
            [
             0.2,
             "#de77ae"
            ],
            [
             0.3,
             "#f1b6da"
            ],
            [
             0.4,
             "#fde0ef"
            ],
            [
             0.5,
             "#f7f7f7"
            ],
            [
             0.6,
             "#e6f5d0"
            ],
            [
             0.7,
             "#b8e186"
            ],
            [
             0.8,
             "#7fbc41"
            ],
            [
             0.9,
             "#4d9221"
            ],
            [
             1,
             "#276419"
            ]
           ],
           "sequential": [
            [
             0,
             "#0d0887"
            ],
            [
             0.1111111111111111,
             "#46039f"
            ],
            [
             0.2222222222222222,
             "#7201a8"
            ],
            [
             0.3333333333333333,
             "#9c179e"
            ],
            [
             0.4444444444444444,
             "#bd3786"
            ],
            [
             0.5555555555555556,
             "#d8576b"
            ],
            [
             0.6666666666666666,
             "#ed7953"
            ],
            [
             0.7777777777777778,
             "#fb9f3a"
            ],
            [
             0.8888888888888888,
             "#fdca26"
            ],
            [
             1,
             "#f0f921"
            ]
           ],
           "sequentialminus": [
            [
             0,
             "#0d0887"
            ],
            [
             0.1111111111111111,
             "#46039f"
            ],
            [
             0.2222222222222222,
             "#7201a8"
            ],
            [
             0.3333333333333333,
             "#9c179e"
            ],
            [
             0.4444444444444444,
             "#bd3786"
            ],
            [
             0.5555555555555556,
             "#d8576b"
            ],
            [
             0.6666666666666666,
             "#ed7953"
            ],
            [
             0.7777777777777778,
             "#fb9f3a"
            ],
            [
             0.8888888888888888,
             "#fdca26"
            ],
            [
             1,
             "#f0f921"
            ]
           ]
          },
          "colorway": [
           "#636efa",
           "#EF553B",
           "#00cc96",
           "#ab63fa",
           "#FFA15A",
           "#19d3f3",
           "#FF6692",
           "#B6E880",
           "#FF97FF",
           "#FECB52"
          ],
          "font": {
           "color": "#2a3f5f"
          },
          "geo": {
           "bgcolor": "white",
           "lakecolor": "white",
           "landcolor": "#E5ECF6",
           "showlakes": true,
           "showland": true,
           "subunitcolor": "white"
          },
          "hoverlabel": {
           "align": "left"
          },
          "hovermode": "closest",
          "mapbox": {
           "style": "light"
          },
          "paper_bgcolor": "white",
          "plot_bgcolor": "#E5ECF6",
          "polar": {
           "angularaxis": {
            "gridcolor": "white",
            "linecolor": "white",
            "ticks": ""
           },
           "bgcolor": "#E5ECF6",
           "radialaxis": {
            "gridcolor": "white",
            "linecolor": "white",
            "ticks": ""
           }
          },
          "scene": {
           "xaxis": {
            "backgroundcolor": "#E5ECF6",
            "gridcolor": "white",
            "gridwidth": 2,
            "linecolor": "white",
            "showbackground": true,
            "ticks": "",
            "zerolinecolor": "white"
           },
           "yaxis": {
            "backgroundcolor": "#E5ECF6",
            "gridcolor": "white",
            "gridwidth": 2,
            "linecolor": "white",
            "showbackground": true,
            "ticks": "",
            "zerolinecolor": "white"
           },
           "zaxis": {
            "backgroundcolor": "#E5ECF6",
            "gridcolor": "white",
            "gridwidth": 2,
            "linecolor": "white",
            "showbackground": true,
            "ticks": "",
            "zerolinecolor": "white"
           }
          },
          "shapedefaults": {
           "line": {
            "color": "#2a3f5f"
           }
          },
          "ternary": {
           "aaxis": {
            "gridcolor": "white",
            "linecolor": "white",
            "ticks": ""
           },
           "baxis": {
            "gridcolor": "white",
            "linecolor": "white",
            "ticks": ""
           },
           "bgcolor": "#E5ECF6",
           "caxis": {
            "gridcolor": "white",
            "linecolor": "white",
            "ticks": ""
           }
          },
          "title": {
           "x": 0.05
          },
          "xaxis": {
           "automargin": true,
           "gridcolor": "white",
           "linecolor": "white",
           "ticks": "",
           "title": {
            "standoff": 15
           },
           "zerolinecolor": "white",
           "zerolinewidth": 2
          },
          "yaxis": {
           "automargin": true,
           "gridcolor": "white",
           "linecolor": "white",
           "ticks": "",
           "title": {
            "standoff": 15
           },
           "zerolinecolor": "white",
           "zerolinewidth": 2
          }
         }
        },
        "xaxis": {
         "domain": [
          0.15,
          1
         ],
         "showgrid": false,
         "showline": false,
         "showticklabels": false,
         "zeroline": false
        },
        "yaxis": {
         "showgrid": false,
         "showline": false,
         "showticklabels": false,
         "zeroline": false
        }
       }
      }
     },
     "metadata": {},
     "output_type": "display_data"
    }
   ],
   "source": [
    "# Final version of the histogram\n",
    "\n",
    "colors = [\"#F78FE4\", \"#1179f0\"]\n",
    "gender_name = [\"Female\", \"Male\"]\n",
    "\n",
    "# x_data is the number of occurrences in each category: that is, number of men and women per domain of study\n",
    "x_data = list_of_percentages_by_gender\n",
    "\n",
    "print(type(x_data))\n",
    "\n",
    "y_data = table.index\n",
    "\n",
    "fig = go.Figure()\n",
    "\n",
    "for i in range(0, len(x_data[0])): # x_data[0] is the list that contains the number of \n",
    "    for xd, yd in zip(x_data, y_data):\n",
    "        fig.add_trace(go.Bar(\n",
    "            x=[xd[i]], y=[yd],\n",
    "            orientation='h',\n",
    "            name = gender_name[i],\n",
    "            marker=dict(\n",
    "                color=colors[i],\n",
    "                line=dict(color='rgb(248, 248, 249)', width=1)\n",
    "            )\n",
    "        ))\n",
    "\n",
    "fig.update_layout(\n",
    "    xaxis=dict(\n",
    "        showgrid=False,\n",
    "        showline=False,\n",
    "        showticklabels=False,\n",
    "        zeroline=False,\n",
    "        domain=[0.15, 1]\n",
    "    ),\n",
    "    yaxis=dict(\n",
    "        showgrid=False,\n",
    "        showline=False,\n",
    "        showticklabels=False,\n",
    "        zeroline=False,\n",
    "    ),\n",
    "    barmode='stack',\n",
    "    paper_bgcolor='rgb(248, 248, 255)',\n",
    "    plot_bgcolor='rgb(248, 248, 255)',\n",
    "    margin=dict(l=120, r=10, t=140, b=80),\n",
    "    showlegend=False,\n",
    ")\n",
    "\n",
    "annotations = []\n",
    "\n",
    "for yd, xd in zip(y_data, x_data):\n",
    "    # labeling the y-axis\n",
    "    annotations.append(dict(xref='paper', yref='y',\n",
    "                            x=0.14, y=yd,\n",
    "                            xanchor='right',\n",
    "                            text=str(yd),\n",
    "                            font=dict(family='Arial', size=14,\n",
    "                                      color='rgb(67, 67, 67)'),\n",
    "                            showarrow=False, align='right'))\n",
    "    # labeling the first percentage of each bar (x_axis)\n",
    "    annotations.append(dict(xref='x', yref='y',\n",
    "                            x=xd[0] / 2, y=yd,\n",
    "                            text = str(xd[0]) + '%' if xd[0]>5 else '',\n",
    "                            font=dict(family='Arial', size=14,\n",
    "                                      color='rgb(248, 248, 255)'),\n",
    "                            showarrow=False))\n",
    "\n",
    "                                \n",
    "    space = xd[0]\n",
    "\n",
    "    # labeling the rest of percentages for each bar (x_axis)\n",
    "    annotations.append(dict(xref='x', yref='y',\n",
    "                                    x=space + (xd[i]/2), y=yd,\n",
    "                                    #text=str(xd[i]) + '%',\n",
    "                                    #rate = lambda T: 200*exp(-T) if T>200 else 400*exp(-T)\n",
    "                                    #value = 'Test' if 1 == 1 else 'NoTest'\n",
    "                                    text = str(xd[i]) + '%' if xd[i]>5 else '',\n",
    "                                    font=dict(family='Arial', size=14,\n",
    "                                              color='rgb(248, 248, 255)'),\n",
    "                                    showarrow=False))\n",
    "\n",
    "    space += xd[i]\n",
    "\n",
    "fig.update_layout(annotations=annotations)\n",
    "\n",
    "fig.show()\n"
   ]
  },
  {
   "cell_type": "code",
   "execution_count": 53,
   "metadata": {},
   "outputs": [
    {
     "data": {
      "text/plain": [
       "'fig=px.bar(new_df, x=\\'gender_percent_by_domain\\', y=\\'domain_of_study\\',\\n            color=new_df[\\'gender_name\\'], barmode =\\'stack\\', color_discrete_sequence=[\"#1179f0\", \"#F78FE4\"], opacity = 0.85,\\n            text = new_df[\\'percentage\\']).update_yaxes(categoryorder = \"total ascending\")\\nfig.update_traces(textfont_color=\\'#ffffff\\')\\nfig.show()'"
      ]
     },
     "execution_count": 53,
     "metadata": {},
     "output_type": "execute_result"
    }
   ],
   "source": [
    "\"\"\"fig=px.bar(new_df, x='gender_percent_by_domain', y='domain_of_study',\n",
    "            color=new_df['gender_name'], barmode ='stack', color_discrete_sequence=[\"#1179f0\", \"#F78FE4\"], opacity = 0.85,\n",
    "            text = new_df['percentage']).update_yaxes(categoryorder = \"total ascending\")\n",
    "fig.update_traces(textfont_color='#ffffff')\n",
    "fig.show()\"\"\""
   ]
  },
  {
   "cell_type": "code",
   "execution_count": 54,
   "metadata": {},
   "outputs": [
    {
     "data": {
      "text/html": [
       "<div>\n",
       "<style scoped>\n",
       "    .dataframe tbody tr th:only-of-type {\n",
       "        vertical-align: middle;\n",
       "    }\n",
       "\n",
       "    .dataframe tbody tr th {\n",
       "        vertical-align: top;\n",
       "    }\n",
       "\n",
       "    .dataframe thead th {\n",
       "        text-align: right;\n",
       "    }\n",
       "</style>\n",
       "<table border=\"1\" class=\"dataframe\">\n",
       "  <thead>\n",
       "    <tr style=\"text-align: right;\">\n",
       "      <th></th>\n",
       "      <th>iid</th>\n",
       "      <th>id</th>\n",
       "      <th>gender</th>\n",
       "      <th>idg</th>\n",
       "      <th>condtn</th>\n",
       "      <th>wave</th>\n",
       "      <th>round</th>\n",
       "      <th>position</th>\n",
       "      <th>positin1</th>\n",
       "      <th>order</th>\n",
       "      <th>partner</th>\n",
       "      <th>pid</th>\n",
       "      <th>match</th>\n",
       "      <th>int_corr</th>\n",
       "      <th>samerace</th>\n",
       "      <th>age_o</th>\n",
       "      <th>race_o</th>\n",
       "      <th>pf_o_att</th>\n",
       "      <th>pf_o_sin</th>\n",
       "      <th>pf_o_int</th>\n",
       "      <th>pf_o_fun</th>\n",
       "      <th>pf_o_amb</th>\n",
       "      <th>pf_o_sha</th>\n",
       "      <th>dec_o</th>\n",
       "      <th>attr_o</th>\n",
       "      <th>sinc_o</th>\n",
       "      <th>intel_o</th>\n",
       "      <th>fun_o</th>\n",
       "      <th>amb_o</th>\n",
       "      <th>shar_o</th>\n",
       "      <th>like_o</th>\n",
       "      <th>prob_o</th>\n",
       "      <th>met_o</th>\n",
       "      <th>age</th>\n",
       "      <th>field_cd</th>\n",
       "      <th>race</th>\n",
       "      <th>imprace</th>\n",
       "      <th>imprelig</th>\n",
       "      <th>goal</th>\n",
       "      <th>date</th>\n",
       "      <th>go_out</th>\n",
       "      <th>career_c</th>\n",
       "      <th>sports</th>\n",
       "      <th>tvsports</th>\n",
       "      <th>exercise</th>\n",
       "      <th>dining</th>\n",
       "      <th>museums</th>\n",
       "      <th>art</th>\n",
       "      <th>hiking</th>\n",
       "      <th>gaming</th>\n",
       "      <th>clubbing</th>\n",
       "      <th>reading</th>\n",
       "      <th>tv</th>\n",
       "      <th>theater</th>\n",
       "      <th>movies</th>\n",
       "      <th>concerts</th>\n",
       "      <th>music</th>\n",
       "      <th>shopping</th>\n",
       "      <th>yoga</th>\n",
       "      <th>exphappy</th>\n",
       "      <th>expnum</th>\n",
       "      <th>attr1_1</th>\n",
       "      <th>sinc1_1</th>\n",
       "      <th>intel1_1</th>\n",
       "      <th>fun1_1</th>\n",
       "      <th>amb1_1</th>\n",
       "      <th>shar1_1</th>\n",
       "      <th>attr4_1</th>\n",
       "      <th>sinc4_1</th>\n",
       "      <th>intel4_1</th>\n",
       "      <th>fun4_1</th>\n",
       "      <th>amb4_1</th>\n",
       "      <th>shar4_1</th>\n",
       "      <th>attr2_1</th>\n",
       "      <th>sinc2_1</th>\n",
       "      <th>intel2_1</th>\n",
       "      <th>fun2_1</th>\n",
       "      <th>amb2_1</th>\n",
       "      <th>shar2_1</th>\n",
       "      <th>attr3_1</th>\n",
       "      <th>sinc3_1</th>\n",
       "      <th>fun3_1</th>\n",
       "      <th>intel3_1</th>\n",
       "      <th>amb3_1</th>\n",
       "      <th>attr5_1</th>\n",
       "      <th>sinc5_1</th>\n",
       "      <th>intel5_1</th>\n",
       "      <th>fun5_1</th>\n",
       "      <th>amb5_1</th>\n",
       "      <th>dec</th>\n",
       "      <th>attr</th>\n",
       "      <th>sinc</th>\n",
       "      <th>intel</th>\n",
       "      <th>fun</th>\n",
       "      <th>amb</th>\n",
       "      <th>shar</th>\n",
       "      <th>like</th>\n",
       "      <th>prob</th>\n",
       "      <th>met</th>\n",
       "      <th>match_es</th>\n",
       "      <th>attr1_s</th>\n",
       "      <th>sinc1_s</th>\n",
       "      <th>intel1_s</th>\n",
       "      <th>fun1_s</th>\n",
       "      <th>amb1_s</th>\n",
       "      <th>shar1_s</th>\n",
       "      <th>attr3_s</th>\n",
       "      <th>sinc3_s</th>\n",
       "      <th>intel3_s</th>\n",
       "      <th>fun3_s</th>\n",
       "      <th>amb3_s</th>\n",
       "      <th>satis_2</th>\n",
       "      <th>length</th>\n",
       "      <th>numdat_2</th>\n",
       "      <th>attr7_2</th>\n",
       "      <th>sinc7_2</th>\n",
       "      <th>intel7_2</th>\n",
       "      <th>fun7_2</th>\n",
       "      <th>amb7_2</th>\n",
       "      <th>shar7_2</th>\n",
       "      <th>attr1_2</th>\n",
       "      <th>sinc1_2</th>\n",
       "      <th>intel1_2</th>\n",
       "      <th>fun1_2</th>\n",
       "      <th>amb1_2</th>\n",
       "      <th>shar1_2</th>\n",
       "      <th>attr4_2</th>\n",
       "      <th>sinc4_2</th>\n",
       "      <th>intel4_2</th>\n",
       "      <th>fun4_2</th>\n",
       "      <th>amb4_2</th>\n",
       "      <th>shar4_2</th>\n",
       "      <th>attr2_2</th>\n",
       "      <th>sinc2_2</th>\n",
       "      <th>intel2_2</th>\n",
       "      <th>fun2_2</th>\n",
       "      <th>amb2_2</th>\n",
       "      <th>shar2_2</th>\n",
       "      <th>attr3_2</th>\n",
       "      <th>sinc3_2</th>\n",
       "      <th>intel3_2</th>\n",
       "      <th>fun3_2</th>\n",
       "      <th>amb3_2</th>\n",
       "      <th>attr5_2</th>\n",
       "      <th>sinc5_2</th>\n",
       "      <th>intel5_2</th>\n",
       "      <th>fun5_2</th>\n",
       "      <th>amb5_2</th>\n",
       "      <th>you_call</th>\n",
       "      <th>them_cal</th>\n",
       "      <th>date_3</th>\n",
       "      <th>numdat_3</th>\n",
       "      <th>num_in_3</th>\n",
       "      <th>attr1_3</th>\n",
       "      <th>sinc1_3</th>\n",
       "      <th>intel1_3</th>\n",
       "      <th>fun1_3</th>\n",
       "      <th>amb1_3</th>\n",
       "      <th>shar1_3</th>\n",
       "      <th>attr7_3</th>\n",
       "      <th>sinc7_3</th>\n",
       "      <th>intel7_3</th>\n",
       "      <th>fun7_3</th>\n",
       "      <th>amb7_3</th>\n",
       "      <th>shar7_3</th>\n",
       "      <th>attr4_3</th>\n",
       "      <th>sinc4_3</th>\n",
       "      <th>intel4_3</th>\n",
       "      <th>fun4_3</th>\n",
       "      <th>amb4_3</th>\n",
       "      <th>shar4_3</th>\n",
       "      <th>attr2_3</th>\n",
       "      <th>sinc2_3</th>\n",
       "      <th>intel2_3</th>\n",
       "      <th>fun2_3</th>\n",
       "      <th>amb2_3</th>\n",
       "      <th>shar2_3</th>\n",
       "      <th>attr3_3</th>\n",
       "      <th>sinc3_3</th>\n",
       "      <th>intel3_3</th>\n",
       "      <th>fun3_3</th>\n",
       "      <th>amb3_3</th>\n",
       "      <th>attr5_3</th>\n",
       "      <th>sinc5_3</th>\n",
       "      <th>intel5_3</th>\n",
       "      <th>fun5_3</th>\n",
       "      <th>amb5_3</th>\n",
       "      <th>gender_name</th>\n",
       "      <th>field_name</th>\n",
       "      <th>domain_of_study</th>\n",
       "    </tr>\n",
       "  </thead>\n",
       "  <tbody>\n",
       "    <tr>\n",
       "      <th>0</th>\n",
       "      <td>1</td>\n",
       "      <td>1.0</td>\n",
       "      <td>0.0</td>\n",
       "      <td>1.0</td>\n",
       "      <td>1.0</td>\n",
       "      <td>1.0</td>\n",
       "      <td>10.0</td>\n",
       "      <td>7.0</td>\n",
       "      <td>NaN</td>\n",
       "      <td>5.5</td>\n",
       "      <td>5.5</td>\n",
       "      <td>15.5</td>\n",
       "      <td>0.4</td>\n",
       "      <td>0.267</td>\n",
       "      <td>0.1</td>\n",
       "      <td>25.2</td>\n",
       "      <td>2.3</td>\n",
       "      <td>44.233</td>\n",
       "      <td>7.911</td>\n",
       "      <td>16.511</td>\n",
       "      <td>16.911</td>\n",
       "      <td>4.511</td>\n",
       "      <td>9.922</td>\n",
       "      <td>0.5</td>\n",
       "      <td>6.7</td>\n",
       "      <td>7.4</td>\n",
       "      <td>8.0</td>\n",
       "      <td>7.2</td>\n",
       "      <td>8.000000</td>\n",
       "      <td>7.1</td>\n",
       "      <td>6.85</td>\n",
       "      <td>5.7</td>\n",
       "      <td>1.900000</td>\n",
       "      <td>21.0</td>\n",
       "      <td>1.0</td>\n",
       "      <td>4.0</td>\n",
       "      <td>2.0</td>\n",
       "      <td>4.0</td>\n",
       "      <td>2.0</td>\n",
       "      <td>7.0</td>\n",
       "      <td>1.0</td>\n",
       "      <td>NaN</td>\n",
       "      <td>9.0</td>\n",
       "      <td>2.0</td>\n",
       "      <td>8.0</td>\n",
       "      <td>9.0</td>\n",
       "      <td>1.0</td>\n",
       "      <td>1.0</td>\n",
       "      <td>5.0</td>\n",
       "      <td>1.0</td>\n",
       "      <td>5.0</td>\n",
       "      <td>6.0</td>\n",
       "      <td>9.0</td>\n",
       "      <td>1.0</td>\n",
       "      <td>10.0</td>\n",
       "      <td>10.0</td>\n",
       "      <td>9.0</td>\n",
       "      <td>8.0</td>\n",
       "      <td>1.0</td>\n",
       "      <td>3.0</td>\n",
       "      <td>2.0</td>\n",
       "      <td>15.0</td>\n",
       "      <td>20.0</td>\n",
       "      <td>20.0</td>\n",
       "      <td>15.0</td>\n",
       "      <td>15.0</td>\n",
       "      <td>15.0</td>\n",
       "      <td>NaN</td>\n",
       "      <td>NaN</td>\n",
       "      <td>NaN</td>\n",
       "      <td>NaN</td>\n",
       "      <td>NaN</td>\n",
       "      <td>NaN</td>\n",
       "      <td>35.0</td>\n",
       "      <td>20.0</td>\n",
       "      <td>15.0</td>\n",
       "      <td>20.0</td>\n",
       "      <td>5.0</td>\n",
       "      <td>5.0</td>\n",
       "      <td>6.0</td>\n",
       "      <td>8.0</td>\n",
       "      <td>8.0</td>\n",
       "      <td>8.0</td>\n",
       "      <td>7.0</td>\n",
       "      <td>NaN</td>\n",
       "      <td>NaN</td>\n",
       "      <td>NaN</td>\n",
       "      <td>NaN</td>\n",
       "      <td>NaN</td>\n",
       "      <td>0.8</td>\n",
       "      <td>5.7</td>\n",
       "      <td>7.3</td>\n",
       "      <td>7.3</td>\n",
       "      <td>6.8</td>\n",
       "      <td>6.3</td>\n",
       "      <td>6.5</td>\n",
       "      <td>6.5</td>\n",
       "      <td>5.888889</td>\n",
       "      <td>1.777778</td>\n",
       "      <td>4.0</td>\n",
       "      <td>NaN</td>\n",
       "      <td>NaN</td>\n",
       "      <td>NaN</td>\n",
       "      <td>NaN</td>\n",
       "      <td>NaN</td>\n",
       "      <td>NaN</td>\n",
       "      <td>NaN</td>\n",
       "      <td>NaN</td>\n",
       "      <td>NaN</td>\n",
       "      <td>NaN</td>\n",
       "      <td>NaN</td>\n",
       "      <td>6.0</td>\n",
       "      <td>2.0</td>\n",
       "      <td>1.0</td>\n",
       "      <td>NaN</td>\n",
       "      <td>NaN</td>\n",
       "      <td>NaN</td>\n",
       "      <td>NaN</td>\n",
       "      <td>NaN</td>\n",
       "      <td>NaN</td>\n",
       "      <td>19.44</td>\n",
       "      <td>16.67</td>\n",
       "      <td>13.89</td>\n",
       "      <td>22.22</td>\n",
       "      <td>11.11</td>\n",
       "      <td>16.67</td>\n",
       "      <td>NaN</td>\n",
       "      <td>NaN</td>\n",
       "      <td>NaN</td>\n",
       "      <td>NaN</td>\n",
       "      <td>NaN</td>\n",
       "      <td>NaN</td>\n",
       "      <td>NaN</td>\n",
       "      <td>NaN</td>\n",
       "      <td>NaN</td>\n",
       "      <td>NaN</td>\n",
       "      <td>NaN</td>\n",
       "      <td>NaN</td>\n",
       "      <td>6.0</td>\n",
       "      <td>7.0</td>\n",
       "      <td>8.0</td>\n",
       "      <td>7.0</td>\n",
       "      <td>6.0</td>\n",
       "      <td>NaN</td>\n",
       "      <td>NaN</td>\n",
       "      <td>NaN</td>\n",
       "      <td>NaN</td>\n",
       "      <td>NaN</td>\n",
       "      <td>1.0</td>\n",
       "      <td>1.0</td>\n",
       "      <td>0.0</td>\n",
       "      <td>NaN</td>\n",
       "      <td>NaN</td>\n",
       "      <td>15.0</td>\n",
       "      <td>20.0</td>\n",
       "      <td>20.0</td>\n",
       "      <td>15.0</td>\n",
       "      <td>15.0</td>\n",
       "      <td>15.0</td>\n",
       "      <td>NaN</td>\n",
       "      <td>NaN</td>\n",
       "      <td>NaN</td>\n",
       "      <td>NaN</td>\n",
       "      <td>NaN</td>\n",
       "      <td>NaN</td>\n",
       "      <td>NaN</td>\n",
       "      <td>NaN</td>\n",
       "      <td>NaN</td>\n",
       "      <td>NaN</td>\n",
       "      <td>NaN</td>\n",
       "      <td>NaN</td>\n",
       "      <td>NaN</td>\n",
       "      <td>NaN</td>\n",
       "      <td>NaN</td>\n",
       "      <td>NaN</td>\n",
       "      <td>NaN</td>\n",
       "      <td>NaN</td>\n",
       "      <td>5.0</td>\n",
       "      <td>7.0</td>\n",
       "      <td>7.0</td>\n",
       "      <td>7.0</td>\n",
       "      <td>7.0</td>\n",
       "      <td>NaN</td>\n",
       "      <td>NaN</td>\n",
       "      <td>NaN</td>\n",
       "      <td>NaN</td>\n",
       "      <td>NaN</td>\n",
       "      <td>Female</td>\n",
       "      <td>Law</td>\n",
       "      <td>Law and Political Science</td>\n",
       "    </tr>\n",
       "    <tr>\n",
       "      <th>1</th>\n",
       "      <td>2</td>\n",
       "      <td>2.0</td>\n",
       "      <td>0.0</td>\n",
       "      <td>3.0</td>\n",
       "      <td>1.0</td>\n",
       "      <td>1.0</td>\n",
       "      <td>10.0</td>\n",
       "      <td>3.0</td>\n",
       "      <td>NaN</td>\n",
       "      <td>5.5</td>\n",
       "      <td>5.5</td>\n",
       "      <td>15.5</td>\n",
       "      <td>0.2</td>\n",
       "      <td>0.258</td>\n",
       "      <td>0.8</td>\n",
       "      <td>25.2</td>\n",
       "      <td>2.3</td>\n",
       "      <td>44.233</td>\n",
       "      <td>7.911</td>\n",
       "      <td>16.511</td>\n",
       "      <td>16.911</td>\n",
       "      <td>4.511</td>\n",
       "      <td>9.922</td>\n",
       "      <td>0.6</td>\n",
       "      <td>7.7</td>\n",
       "      <td>7.1</td>\n",
       "      <td>7.9</td>\n",
       "      <td>7.5</td>\n",
       "      <td>7.500000</td>\n",
       "      <td>6.5</td>\n",
       "      <td>7.60</td>\n",
       "      <td>5.5</td>\n",
       "      <td>1.900000</td>\n",
       "      <td>24.0</td>\n",
       "      <td>1.0</td>\n",
       "      <td>2.0</td>\n",
       "      <td>2.0</td>\n",
       "      <td>5.0</td>\n",
       "      <td>1.0</td>\n",
       "      <td>5.0</td>\n",
       "      <td>1.0</td>\n",
       "      <td>NaN</td>\n",
       "      <td>3.0</td>\n",
       "      <td>2.0</td>\n",
       "      <td>7.0</td>\n",
       "      <td>10.0</td>\n",
       "      <td>8.0</td>\n",
       "      <td>6.0</td>\n",
       "      <td>3.0</td>\n",
       "      <td>5.0</td>\n",
       "      <td>8.0</td>\n",
       "      <td>10.0</td>\n",
       "      <td>1.0</td>\n",
       "      <td>9.0</td>\n",
       "      <td>8.0</td>\n",
       "      <td>7.0</td>\n",
       "      <td>8.0</td>\n",
       "      <td>3.0</td>\n",
       "      <td>1.0</td>\n",
       "      <td>4.0</td>\n",
       "      <td>5.0</td>\n",
       "      <td>45.0</td>\n",
       "      <td>5.0</td>\n",
       "      <td>25.0</td>\n",
       "      <td>20.0</td>\n",
       "      <td>0.0</td>\n",
       "      <td>5.0</td>\n",
       "      <td>NaN</td>\n",
       "      <td>NaN</td>\n",
       "      <td>NaN</td>\n",
       "      <td>NaN</td>\n",
       "      <td>NaN</td>\n",
       "      <td>NaN</td>\n",
       "      <td>65.0</td>\n",
       "      <td>0.0</td>\n",
       "      <td>10.0</td>\n",
       "      <td>25.0</td>\n",
       "      <td>0.0</td>\n",
       "      <td>0.0</td>\n",
       "      <td>7.0</td>\n",
       "      <td>5.0</td>\n",
       "      <td>10.0</td>\n",
       "      <td>8.0</td>\n",
       "      <td>3.0</td>\n",
       "      <td>NaN</td>\n",
       "      <td>NaN</td>\n",
       "      <td>NaN</td>\n",
       "      <td>NaN</td>\n",
       "      <td>NaN</td>\n",
       "      <td>0.4</td>\n",
       "      <td>6.4</td>\n",
       "      <td>7.0</td>\n",
       "      <td>7.7</td>\n",
       "      <td>6.1</td>\n",
       "      <td>6.5</td>\n",
       "      <td>5.7</td>\n",
       "      <td>6.6</td>\n",
       "      <td>5.900000</td>\n",
       "      <td>1.900000</td>\n",
       "      <td>3.0</td>\n",
       "      <td>NaN</td>\n",
       "      <td>NaN</td>\n",
       "      <td>NaN</td>\n",
       "      <td>NaN</td>\n",
       "      <td>NaN</td>\n",
       "      <td>NaN</td>\n",
       "      <td>NaN</td>\n",
       "      <td>NaN</td>\n",
       "      <td>NaN</td>\n",
       "      <td>NaN</td>\n",
       "      <td>NaN</td>\n",
       "      <td>5.0</td>\n",
       "      <td>2.0</td>\n",
       "      <td>NaN</td>\n",
       "      <td>NaN</td>\n",
       "      <td>NaN</td>\n",
       "      <td>NaN</td>\n",
       "      <td>NaN</td>\n",
       "      <td>NaN</td>\n",
       "      <td>NaN</td>\n",
       "      <td>18.92</td>\n",
       "      <td>18.92</td>\n",
       "      <td>21.62</td>\n",
       "      <td>27.03</td>\n",
       "      <td>5.41</td>\n",
       "      <td>8.11</td>\n",
       "      <td>NaN</td>\n",
       "      <td>NaN</td>\n",
       "      <td>NaN</td>\n",
       "      <td>NaN</td>\n",
       "      <td>NaN</td>\n",
       "      <td>NaN</td>\n",
       "      <td>NaN</td>\n",
       "      <td>NaN</td>\n",
       "      <td>NaN</td>\n",
       "      <td>NaN</td>\n",
       "      <td>NaN</td>\n",
       "      <td>NaN</td>\n",
       "      <td>7.0</td>\n",
       "      <td>6.0</td>\n",
       "      <td>8.0</td>\n",
       "      <td>9.0</td>\n",
       "      <td>4.0</td>\n",
       "      <td>NaN</td>\n",
       "      <td>NaN</td>\n",
       "      <td>NaN</td>\n",
       "      <td>NaN</td>\n",
       "      <td>NaN</td>\n",
       "      <td>0.0</td>\n",
       "      <td>0.0</td>\n",
       "      <td>0.0</td>\n",
       "      <td>NaN</td>\n",
       "      <td>NaN</td>\n",
       "      <td>30.0</td>\n",
       "      <td>5.0</td>\n",
       "      <td>40.0</td>\n",
       "      <td>15.0</td>\n",
       "      <td>0.0</td>\n",
       "      <td>10.0</td>\n",
       "      <td>NaN</td>\n",
       "      <td>NaN</td>\n",
       "      <td>NaN</td>\n",
       "      <td>NaN</td>\n",
       "      <td>NaN</td>\n",
       "      <td>NaN</td>\n",
       "      <td>NaN</td>\n",
       "      <td>NaN</td>\n",
       "      <td>NaN</td>\n",
       "      <td>NaN</td>\n",
       "      <td>NaN</td>\n",
       "      <td>NaN</td>\n",
       "      <td>NaN</td>\n",
       "      <td>NaN</td>\n",
       "      <td>NaN</td>\n",
       "      <td>NaN</td>\n",
       "      <td>NaN</td>\n",
       "      <td>NaN</td>\n",
       "      <td>7.0</td>\n",
       "      <td>6.0</td>\n",
       "      <td>9.0</td>\n",
       "      <td>9.0</td>\n",
       "      <td>4.0</td>\n",
       "      <td>NaN</td>\n",
       "      <td>NaN</td>\n",
       "      <td>NaN</td>\n",
       "      <td>NaN</td>\n",
       "      <td>NaN</td>\n",
       "      <td>Female</td>\n",
       "      <td>Law</td>\n",
       "      <td>Law and Political Science</td>\n",
       "    </tr>\n",
       "    <tr>\n",
       "      <th>2</th>\n",
       "      <td>3</td>\n",
       "      <td>3.0</td>\n",
       "      <td>0.0</td>\n",
       "      <td>5.0</td>\n",
       "      <td>1.0</td>\n",
       "      <td>1.0</td>\n",
       "      <td>10.0</td>\n",
       "      <td>9.0</td>\n",
       "      <td>NaN</td>\n",
       "      <td>5.5</td>\n",
       "      <td>5.5</td>\n",
       "      <td>15.5</td>\n",
       "      <td>0.0</td>\n",
       "      <td>-0.136</td>\n",
       "      <td>0.8</td>\n",
       "      <td>25.2</td>\n",
       "      <td>2.3</td>\n",
       "      <td>44.233</td>\n",
       "      <td>7.911</td>\n",
       "      <td>16.511</td>\n",
       "      <td>16.911</td>\n",
       "      <td>4.511</td>\n",
       "      <td>9.922</td>\n",
       "      <td>0.5</td>\n",
       "      <td>6.5</td>\n",
       "      <td>7.1</td>\n",
       "      <td>7.3</td>\n",
       "      <td>6.2</td>\n",
       "      <td>7.111111</td>\n",
       "      <td>6.0</td>\n",
       "      <td>6.00</td>\n",
       "      <td>4.5</td>\n",
       "      <td>1.900000</td>\n",
       "      <td>25.0</td>\n",
       "      <td>2.0</td>\n",
       "      <td>2.0</td>\n",
       "      <td>8.0</td>\n",
       "      <td>4.0</td>\n",
       "      <td>6.0</td>\n",
       "      <td>3.0</td>\n",
       "      <td>1.0</td>\n",
       "      <td>NaN</td>\n",
       "      <td>3.0</td>\n",
       "      <td>8.0</td>\n",
       "      <td>7.0</td>\n",
       "      <td>8.0</td>\n",
       "      <td>5.0</td>\n",
       "      <td>5.0</td>\n",
       "      <td>8.0</td>\n",
       "      <td>4.0</td>\n",
       "      <td>5.0</td>\n",
       "      <td>7.0</td>\n",
       "      <td>8.0</td>\n",
       "      <td>7.0</td>\n",
       "      <td>7.0</td>\n",
       "      <td>7.0</td>\n",
       "      <td>5.0</td>\n",
       "      <td>8.0</td>\n",
       "      <td>7.0</td>\n",
       "      <td>4.0</td>\n",
       "      <td>2.0</td>\n",
       "      <td>35.0</td>\n",
       "      <td>10.0</td>\n",
       "      <td>35.0</td>\n",
       "      <td>10.0</td>\n",
       "      <td>10.0</td>\n",
       "      <td>0.0</td>\n",
       "      <td>NaN</td>\n",
       "      <td>NaN</td>\n",
       "      <td>NaN</td>\n",
       "      <td>NaN</td>\n",
       "      <td>NaN</td>\n",
       "      <td>NaN</td>\n",
       "      <td>50.0</td>\n",
       "      <td>0.0</td>\n",
       "      <td>20.0</td>\n",
       "      <td>30.0</td>\n",
       "      <td>0.0</td>\n",
       "      <td>0.0</td>\n",
       "      <td>8.0</td>\n",
       "      <td>9.0</td>\n",
       "      <td>8.0</td>\n",
       "      <td>9.0</td>\n",
       "      <td>8.0</td>\n",
       "      <td>NaN</td>\n",
       "      <td>NaN</td>\n",
       "      <td>NaN</td>\n",
       "      <td>NaN</td>\n",
       "      <td>NaN</td>\n",
       "      <td>0.0</td>\n",
       "      <td>8.1</td>\n",
       "      <td>8.6</td>\n",
       "      <td>9.4</td>\n",
       "      <td>7.7</td>\n",
       "      <td>8.8</td>\n",
       "      <td>8.1</td>\n",
       "      <td>8.2</td>\n",
       "      <td>7.000000</td>\n",
       "      <td>1.900000</td>\n",
       "      <td>NaN</td>\n",
       "      <td>NaN</td>\n",
       "      <td>NaN</td>\n",
       "      <td>NaN</td>\n",
       "      <td>NaN</td>\n",
       "      <td>NaN</td>\n",
       "      <td>NaN</td>\n",
       "      <td>NaN</td>\n",
       "      <td>NaN</td>\n",
       "      <td>NaN</td>\n",
       "      <td>NaN</td>\n",
       "      <td>NaN</td>\n",
       "      <td>NaN</td>\n",
       "      <td>NaN</td>\n",
       "      <td>NaN</td>\n",
       "      <td>NaN</td>\n",
       "      <td>NaN</td>\n",
       "      <td>NaN</td>\n",
       "      <td>NaN</td>\n",
       "      <td>NaN</td>\n",
       "      <td>NaN</td>\n",
       "      <td>NaN</td>\n",
       "      <td>NaN</td>\n",
       "      <td>NaN</td>\n",
       "      <td>NaN</td>\n",
       "      <td>NaN</td>\n",
       "      <td>NaN</td>\n",
       "      <td>NaN</td>\n",
       "      <td>NaN</td>\n",
       "      <td>NaN</td>\n",
       "      <td>NaN</td>\n",
       "      <td>NaN</td>\n",
       "      <td>NaN</td>\n",
       "      <td>NaN</td>\n",
       "      <td>NaN</td>\n",
       "      <td>NaN</td>\n",
       "      <td>NaN</td>\n",
       "      <td>NaN</td>\n",
       "      <td>NaN</td>\n",
       "      <td>NaN</td>\n",
       "      <td>NaN</td>\n",
       "      <td>NaN</td>\n",
       "      <td>NaN</td>\n",
       "      <td>NaN</td>\n",
       "      <td>NaN</td>\n",
       "      <td>NaN</td>\n",
       "      <td>NaN</td>\n",
       "      <td>NaN</td>\n",
       "      <td>NaN</td>\n",
       "      <td>NaN</td>\n",
       "      <td>NaN</td>\n",
       "      <td>NaN</td>\n",
       "      <td>NaN</td>\n",
       "      <td>NaN</td>\n",
       "      <td>NaN</td>\n",
       "      <td>NaN</td>\n",
       "      <td>NaN</td>\n",
       "      <td>NaN</td>\n",
       "      <td>NaN</td>\n",
       "      <td>NaN</td>\n",
       "      <td>NaN</td>\n",
       "      <td>NaN</td>\n",
       "      <td>NaN</td>\n",
       "      <td>NaN</td>\n",
       "      <td>NaN</td>\n",
       "      <td>NaN</td>\n",
       "      <td>NaN</td>\n",
       "      <td>NaN</td>\n",
       "      <td>NaN</td>\n",
       "      <td>NaN</td>\n",
       "      <td>NaN</td>\n",
       "      <td>NaN</td>\n",
       "      <td>NaN</td>\n",
       "      <td>NaN</td>\n",
       "      <td>NaN</td>\n",
       "      <td>NaN</td>\n",
       "      <td>NaN</td>\n",
       "      <td>NaN</td>\n",
       "      <td>NaN</td>\n",
       "      <td>NaN</td>\n",
       "      <td>NaN</td>\n",
       "      <td>NaN</td>\n",
       "      <td>NaN</td>\n",
       "      <td>NaN</td>\n",
       "      <td>NaN</td>\n",
       "      <td>NaN</td>\n",
       "      <td>NaN</td>\n",
       "      <td>NaN</td>\n",
       "      <td>Female</td>\n",
       "      <td>Math</td>\n",
       "      <td>Sciences</td>\n",
       "    </tr>\n",
       "    <tr>\n",
       "      <th>3</th>\n",
       "      <td>4</td>\n",
       "      <td>4.0</td>\n",
       "      <td>0.0</td>\n",
       "      <td>7.0</td>\n",
       "      <td>1.0</td>\n",
       "      <td>1.0</td>\n",
       "      <td>10.0</td>\n",
       "      <td>6.0</td>\n",
       "      <td>NaN</td>\n",
       "      <td>5.5</td>\n",
       "      <td>5.5</td>\n",
       "      <td>15.5</td>\n",
       "      <td>0.2</td>\n",
       "      <td>-0.007</td>\n",
       "      <td>0.8</td>\n",
       "      <td>25.2</td>\n",
       "      <td>2.3</td>\n",
       "      <td>44.233</td>\n",
       "      <td>7.911</td>\n",
       "      <td>16.511</td>\n",
       "      <td>16.911</td>\n",
       "      <td>4.511</td>\n",
       "      <td>9.922</td>\n",
       "      <td>0.6</td>\n",
       "      <td>7.0</td>\n",
       "      <td>7.1</td>\n",
       "      <td>7.7</td>\n",
       "      <td>7.5</td>\n",
       "      <td>7.700000</td>\n",
       "      <td>7.2</td>\n",
       "      <td>7.30</td>\n",
       "      <td>6.5</td>\n",
       "      <td>1.777778</td>\n",
       "      <td>23.0</td>\n",
       "      <td>1.0</td>\n",
       "      <td>2.0</td>\n",
       "      <td>1.0</td>\n",
       "      <td>1.0</td>\n",
       "      <td>1.0</td>\n",
       "      <td>5.0</td>\n",
       "      <td>1.0</td>\n",
       "      <td>1.0</td>\n",
       "      <td>1.0</td>\n",
       "      <td>1.0</td>\n",
       "      <td>6.0</td>\n",
       "      <td>7.0</td>\n",
       "      <td>6.0</td>\n",
       "      <td>7.0</td>\n",
       "      <td>7.0</td>\n",
       "      <td>5.0</td>\n",
       "      <td>7.0</td>\n",
       "      <td>7.0</td>\n",
       "      <td>7.0</td>\n",
       "      <td>9.0</td>\n",
       "      <td>7.0</td>\n",
       "      <td>8.0</td>\n",
       "      <td>7.0</td>\n",
       "      <td>1.0</td>\n",
       "      <td>8.0</td>\n",
       "      <td>1.0</td>\n",
       "      <td>2.0</td>\n",
       "      <td>20.0</td>\n",
       "      <td>20.0</td>\n",
       "      <td>20.0</td>\n",
       "      <td>20.0</td>\n",
       "      <td>10.0</td>\n",
       "      <td>10.0</td>\n",
       "      <td>NaN</td>\n",
       "      <td>NaN</td>\n",
       "      <td>NaN</td>\n",
       "      <td>NaN</td>\n",
       "      <td>NaN</td>\n",
       "      <td>NaN</td>\n",
       "      <td>30.0</td>\n",
       "      <td>10.0</td>\n",
       "      <td>15.0</td>\n",
       "      <td>30.0</td>\n",
       "      <td>5.0</td>\n",
       "      <td>10.0</td>\n",
       "      <td>7.0</td>\n",
       "      <td>8.0</td>\n",
       "      <td>9.0</td>\n",
       "      <td>7.0</td>\n",
       "      <td>8.0</td>\n",
       "      <td>NaN</td>\n",
       "      <td>NaN</td>\n",
       "      <td>NaN</td>\n",
       "      <td>NaN</td>\n",
       "      <td>NaN</td>\n",
       "      <td>0.3</td>\n",
       "      <td>6.4</td>\n",
       "      <td>8.9</td>\n",
       "      <td>8.6</td>\n",
       "      <td>7.8</td>\n",
       "      <td>7.8</td>\n",
       "      <td>7.1</td>\n",
       "      <td>6.6</td>\n",
       "      <td>5.200000</td>\n",
       "      <td>1.800000</td>\n",
       "      <td>2.0</td>\n",
       "      <td>NaN</td>\n",
       "      <td>NaN</td>\n",
       "      <td>NaN</td>\n",
       "      <td>NaN</td>\n",
       "      <td>NaN</td>\n",
       "      <td>NaN</td>\n",
       "      <td>NaN</td>\n",
       "      <td>NaN</td>\n",
       "      <td>NaN</td>\n",
       "      <td>NaN</td>\n",
       "      <td>NaN</td>\n",
       "      <td>4.0</td>\n",
       "      <td>3.0</td>\n",
       "      <td>2.0</td>\n",
       "      <td>NaN</td>\n",
       "      <td>NaN</td>\n",
       "      <td>NaN</td>\n",
       "      <td>NaN</td>\n",
       "      <td>NaN</td>\n",
       "      <td>NaN</td>\n",
       "      <td>24.14</td>\n",
       "      <td>13.79</td>\n",
       "      <td>20.69</td>\n",
       "      <td>27.59</td>\n",
       "      <td>10.34</td>\n",
       "      <td>3.45</td>\n",
       "      <td>NaN</td>\n",
       "      <td>NaN</td>\n",
       "      <td>NaN</td>\n",
       "      <td>NaN</td>\n",
       "      <td>NaN</td>\n",
       "      <td>NaN</td>\n",
       "      <td>NaN</td>\n",
       "      <td>NaN</td>\n",
       "      <td>NaN</td>\n",
       "      <td>NaN</td>\n",
       "      <td>NaN</td>\n",
       "      <td>NaN</td>\n",
       "      <td>6.0</td>\n",
       "      <td>8.0</td>\n",
       "      <td>7.0</td>\n",
       "      <td>8.0</td>\n",
       "      <td>6.0</td>\n",
       "      <td>NaN</td>\n",
       "      <td>NaN</td>\n",
       "      <td>NaN</td>\n",
       "      <td>NaN</td>\n",
       "      <td>NaN</td>\n",
       "      <td>0.0</td>\n",
       "      <td>0.0</td>\n",
       "      <td>0.0</td>\n",
       "      <td>NaN</td>\n",
       "      <td>NaN</td>\n",
       "      <td>20.0</td>\n",
       "      <td>20.0</td>\n",
       "      <td>20.0</td>\n",
       "      <td>20.0</td>\n",
       "      <td>0.0</td>\n",
       "      <td>20.0</td>\n",
       "      <td>NaN</td>\n",
       "      <td>NaN</td>\n",
       "      <td>NaN</td>\n",
       "      <td>NaN</td>\n",
       "      <td>NaN</td>\n",
       "      <td>NaN</td>\n",
       "      <td>NaN</td>\n",
       "      <td>NaN</td>\n",
       "      <td>NaN</td>\n",
       "      <td>NaN</td>\n",
       "      <td>NaN</td>\n",
       "      <td>NaN</td>\n",
       "      <td>NaN</td>\n",
       "      <td>NaN</td>\n",
       "      <td>NaN</td>\n",
       "      <td>NaN</td>\n",
       "      <td>NaN</td>\n",
       "      <td>NaN</td>\n",
       "      <td>6.0</td>\n",
       "      <td>5.0</td>\n",
       "      <td>6.0</td>\n",
       "      <td>8.0</td>\n",
       "      <td>5.0</td>\n",
       "      <td>NaN</td>\n",
       "      <td>NaN</td>\n",
       "      <td>NaN</td>\n",
       "      <td>NaN</td>\n",
       "      <td>NaN</td>\n",
       "      <td>Female</td>\n",
       "      <td>Law</td>\n",
       "      <td>Law and Political Science</td>\n",
       "    </tr>\n",
       "    <tr>\n",
       "      <th>4</th>\n",
       "      <td>5</td>\n",
       "      <td>5.0</td>\n",
       "      <td>0.0</td>\n",
       "      <td>9.0</td>\n",
       "      <td>1.0</td>\n",
       "      <td>1.0</td>\n",
       "      <td>10.0</td>\n",
       "      <td>4.0</td>\n",
       "      <td>NaN</td>\n",
       "      <td>5.5</td>\n",
       "      <td>5.5</td>\n",
       "      <td>15.5</td>\n",
       "      <td>0.2</td>\n",
       "      <td>-0.079</td>\n",
       "      <td>0.8</td>\n",
       "      <td>25.2</td>\n",
       "      <td>2.3</td>\n",
       "      <td>44.233</td>\n",
       "      <td>7.911</td>\n",
       "      <td>16.511</td>\n",
       "      <td>16.911</td>\n",
       "      <td>4.511</td>\n",
       "      <td>9.922</td>\n",
       "      <td>0.3</td>\n",
       "      <td>5.3</td>\n",
       "      <td>7.7</td>\n",
       "      <td>7.6</td>\n",
       "      <td>7.2</td>\n",
       "      <td>7.800000</td>\n",
       "      <td>6.2</td>\n",
       "      <td>6.10</td>\n",
       "      <td>6.5</td>\n",
       "      <td>1.700000</td>\n",
       "      <td>21.0</td>\n",
       "      <td>1.0</td>\n",
       "      <td>2.0</td>\n",
       "      <td>8.0</td>\n",
       "      <td>1.0</td>\n",
       "      <td>2.0</td>\n",
       "      <td>4.0</td>\n",
       "      <td>1.0</td>\n",
       "      <td>1.0</td>\n",
       "      <td>7.0</td>\n",
       "      <td>4.0</td>\n",
       "      <td>7.0</td>\n",
       "      <td>7.0</td>\n",
       "      <td>6.0</td>\n",
       "      <td>8.0</td>\n",
       "      <td>6.0</td>\n",
       "      <td>6.0</td>\n",
       "      <td>8.0</td>\n",
       "      <td>6.0</td>\n",
       "      <td>8.0</td>\n",
       "      <td>6.0</td>\n",
       "      <td>6.0</td>\n",
       "      <td>3.0</td>\n",
       "      <td>7.0</td>\n",
       "      <td>8.0</td>\n",
       "      <td>3.0</td>\n",
       "      <td>7.0</td>\n",
       "      <td>10.0</td>\n",
       "      <td>20.0</td>\n",
       "      <td>5.0</td>\n",
       "      <td>25.0</td>\n",
       "      <td>25.0</td>\n",
       "      <td>10.0</td>\n",
       "      <td>15.0</td>\n",
       "      <td>NaN</td>\n",
       "      <td>NaN</td>\n",
       "      <td>NaN</td>\n",
       "      <td>NaN</td>\n",
       "      <td>NaN</td>\n",
       "      <td>NaN</td>\n",
       "      <td>50.0</td>\n",
       "      <td>10.0</td>\n",
       "      <td>10.0</td>\n",
       "      <td>20.0</td>\n",
       "      <td>5.0</td>\n",
       "      <td>5.0</td>\n",
       "      <td>6.0</td>\n",
       "      <td>3.0</td>\n",
       "      <td>6.0</td>\n",
       "      <td>10.0</td>\n",
       "      <td>8.0</td>\n",
       "      <td>NaN</td>\n",
       "      <td>NaN</td>\n",
       "      <td>NaN</td>\n",
       "      <td>NaN</td>\n",
       "      <td>NaN</td>\n",
       "      <td>0.6</td>\n",
       "      <td>6.3</td>\n",
       "      <td>6.0</td>\n",
       "      <td>7.0</td>\n",
       "      <td>6.0</td>\n",
       "      <td>5.6</td>\n",
       "      <td>6.2</td>\n",
       "      <td>7.2</td>\n",
       "      <td>3.700000</td>\n",
       "      <td>1.700000</td>\n",
       "      <td>NaN</td>\n",
       "      <td>NaN</td>\n",
       "      <td>NaN</td>\n",
       "      <td>NaN</td>\n",
       "      <td>NaN</td>\n",
       "      <td>NaN</td>\n",
       "      <td>NaN</td>\n",
       "      <td>NaN</td>\n",
       "      <td>NaN</td>\n",
       "      <td>NaN</td>\n",
       "      <td>NaN</td>\n",
       "      <td>NaN</td>\n",
       "      <td>7.0</td>\n",
       "      <td>2.0</td>\n",
       "      <td>2.0</td>\n",
       "      <td>NaN</td>\n",
       "      <td>NaN</td>\n",
       "      <td>NaN</td>\n",
       "      <td>NaN</td>\n",
       "      <td>NaN</td>\n",
       "      <td>NaN</td>\n",
       "      <td>15.79</td>\n",
       "      <td>13.16</td>\n",
       "      <td>18.42</td>\n",
       "      <td>15.79</td>\n",
       "      <td>15.79</td>\n",
       "      <td>21.05</td>\n",
       "      <td>NaN</td>\n",
       "      <td>NaN</td>\n",
       "      <td>NaN</td>\n",
       "      <td>NaN</td>\n",
       "      <td>NaN</td>\n",
       "      <td>NaN</td>\n",
       "      <td>NaN</td>\n",
       "      <td>NaN</td>\n",
       "      <td>NaN</td>\n",
       "      <td>NaN</td>\n",
       "      <td>NaN</td>\n",
       "      <td>NaN</td>\n",
       "      <td>6.0</td>\n",
       "      <td>6.0</td>\n",
       "      <td>9.0</td>\n",
       "      <td>9.0</td>\n",
       "      <td>9.0</td>\n",
       "      <td>NaN</td>\n",
       "      <td>NaN</td>\n",
       "      <td>NaN</td>\n",
       "      <td>NaN</td>\n",
       "      <td>NaN</td>\n",
       "      <td>0.0</td>\n",
       "      <td>0.0</td>\n",
       "      <td>0.0</td>\n",
       "      <td>NaN</td>\n",
       "      <td>NaN</td>\n",
       "      <td>30.0</td>\n",
       "      <td>10.0</td>\n",
       "      <td>20.0</td>\n",
       "      <td>20.0</td>\n",
       "      <td>10.0</td>\n",
       "      <td>10.0</td>\n",
       "      <td>NaN</td>\n",
       "      <td>NaN</td>\n",
       "      <td>NaN</td>\n",
       "      <td>NaN</td>\n",
       "      <td>NaN</td>\n",
       "      <td>NaN</td>\n",
       "      <td>NaN</td>\n",
       "      <td>NaN</td>\n",
       "      <td>NaN</td>\n",
       "      <td>NaN</td>\n",
       "      <td>NaN</td>\n",
       "      <td>NaN</td>\n",
       "      <td>NaN</td>\n",
       "      <td>NaN</td>\n",
       "      <td>NaN</td>\n",
       "      <td>NaN</td>\n",
       "      <td>NaN</td>\n",
       "      <td>NaN</td>\n",
       "      <td>4.0</td>\n",
       "      <td>5.0</td>\n",
       "      <td>10.0</td>\n",
       "      <td>6.0</td>\n",
       "      <td>10.0</td>\n",
       "      <td>NaN</td>\n",
       "      <td>NaN</td>\n",
       "      <td>NaN</td>\n",
       "      <td>NaN</td>\n",
       "      <td>NaN</td>\n",
       "      <td>Female</td>\n",
       "      <td>Law</td>\n",
       "      <td>Law and Political Science</td>\n",
       "    </tr>\n",
       "  </tbody>\n",
       "</table>\n",
       "</div>"
      ],
      "text/plain": [
       "   iid   id  gender  idg  condtn  wave  round  position  positin1  order  \\\n",
       "0    1  1.0     0.0  1.0     1.0   1.0   10.0       7.0       NaN    5.5   \n",
       "1    2  2.0     0.0  3.0     1.0   1.0   10.0       3.0       NaN    5.5   \n",
       "2    3  3.0     0.0  5.0     1.0   1.0   10.0       9.0       NaN    5.5   \n",
       "3    4  4.0     0.0  7.0     1.0   1.0   10.0       6.0       NaN    5.5   \n",
       "4    5  5.0     0.0  9.0     1.0   1.0   10.0       4.0       NaN    5.5   \n",
       "\n",
       "   partner   pid  match  int_corr  samerace  age_o  race_o  pf_o_att  \\\n",
       "0      5.5  15.5    0.4     0.267       0.1   25.2     2.3    44.233   \n",
       "1      5.5  15.5    0.2     0.258       0.8   25.2     2.3    44.233   \n",
       "2      5.5  15.5    0.0    -0.136       0.8   25.2     2.3    44.233   \n",
       "3      5.5  15.5    0.2    -0.007       0.8   25.2     2.3    44.233   \n",
       "4      5.5  15.5    0.2    -0.079       0.8   25.2     2.3    44.233   \n",
       "\n",
       "   pf_o_sin  pf_o_int  pf_o_fun  pf_o_amb  pf_o_sha  dec_o  attr_o  sinc_o  \\\n",
       "0     7.911    16.511    16.911     4.511     9.922    0.5     6.7     7.4   \n",
       "1     7.911    16.511    16.911     4.511     9.922    0.6     7.7     7.1   \n",
       "2     7.911    16.511    16.911     4.511     9.922    0.5     6.5     7.1   \n",
       "3     7.911    16.511    16.911     4.511     9.922    0.6     7.0     7.1   \n",
       "4     7.911    16.511    16.911     4.511     9.922    0.3     5.3     7.7   \n",
       "\n",
       "   intel_o  fun_o     amb_o  shar_o  like_o  prob_o     met_o   age  field_cd  \\\n",
       "0      8.0    7.2  8.000000     7.1    6.85     5.7  1.900000  21.0       1.0   \n",
       "1      7.9    7.5  7.500000     6.5    7.60     5.5  1.900000  24.0       1.0   \n",
       "2      7.3    6.2  7.111111     6.0    6.00     4.5  1.900000  25.0       2.0   \n",
       "3      7.7    7.5  7.700000     7.2    7.30     6.5  1.777778  23.0       1.0   \n",
       "4      7.6    7.2  7.800000     6.2    6.10     6.5  1.700000  21.0       1.0   \n",
       "\n",
       "   race  imprace  imprelig  goal  date  go_out  career_c  sports  tvsports  \\\n",
       "0   4.0      2.0       4.0   2.0   7.0     1.0       NaN     9.0       2.0   \n",
       "1   2.0      2.0       5.0   1.0   5.0     1.0       NaN     3.0       2.0   \n",
       "2   2.0      8.0       4.0   6.0   3.0     1.0       NaN     3.0       8.0   \n",
       "3   2.0      1.0       1.0   1.0   5.0     1.0       1.0     1.0       1.0   \n",
       "4   2.0      8.0       1.0   2.0   4.0     1.0       1.0     7.0       4.0   \n",
       "\n",
       "   exercise  dining  museums  art  hiking  gaming  clubbing  reading   tv  \\\n",
       "0       8.0     9.0      1.0  1.0     5.0     1.0       5.0      6.0  9.0   \n",
       "1       7.0    10.0      8.0  6.0     3.0     5.0       8.0     10.0  1.0   \n",
       "2       7.0     8.0      5.0  5.0     8.0     4.0       5.0      7.0  8.0   \n",
       "3       6.0     7.0      6.0  7.0     7.0     5.0       7.0      7.0  7.0   \n",
       "4       7.0     7.0      6.0  8.0     6.0     6.0       8.0      6.0  8.0   \n",
       "\n",
       "   theater  movies  concerts  music  shopping  yoga  exphappy  expnum  \\\n",
       "0      1.0    10.0      10.0    9.0       8.0   1.0       3.0     2.0   \n",
       "1      9.0     8.0       7.0    8.0       3.0   1.0       4.0     5.0   \n",
       "2      7.0     7.0       7.0    5.0       8.0   7.0       4.0     2.0   \n",
       "3      9.0     7.0       8.0    7.0       1.0   8.0       1.0     2.0   \n",
       "4      6.0     6.0       3.0    7.0       8.0   3.0       7.0    10.0   \n",
       "\n",
       "   attr1_1  sinc1_1  intel1_1  fun1_1  amb1_1  shar1_1  attr4_1  sinc4_1  \\\n",
       "0     15.0     20.0      20.0    15.0    15.0     15.0      NaN      NaN   \n",
       "1     45.0      5.0      25.0    20.0     0.0      5.0      NaN      NaN   \n",
       "2     35.0     10.0      35.0    10.0    10.0      0.0      NaN      NaN   \n",
       "3     20.0     20.0      20.0    20.0    10.0     10.0      NaN      NaN   \n",
       "4     20.0      5.0      25.0    25.0    10.0     15.0      NaN      NaN   \n",
       "\n",
       "   intel4_1  fun4_1  amb4_1  shar4_1  attr2_1  sinc2_1  intel2_1  fun2_1  \\\n",
       "0       NaN     NaN     NaN      NaN     35.0     20.0      15.0    20.0   \n",
       "1       NaN     NaN     NaN      NaN     65.0      0.0      10.0    25.0   \n",
       "2       NaN     NaN     NaN      NaN     50.0      0.0      20.0    30.0   \n",
       "3       NaN     NaN     NaN      NaN     30.0     10.0      15.0    30.0   \n",
       "4       NaN     NaN     NaN      NaN     50.0     10.0      10.0    20.0   \n",
       "\n",
       "   amb2_1  shar2_1  attr3_1  sinc3_1  fun3_1  intel3_1  amb3_1  attr5_1  \\\n",
       "0     5.0      5.0      6.0      8.0     8.0       8.0     7.0      NaN   \n",
       "1     0.0      0.0      7.0      5.0    10.0       8.0     3.0      NaN   \n",
       "2     0.0      0.0      8.0      9.0     8.0       9.0     8.0      NaN   \n",
       "3     5.0     10.0      7.0      8.0     9.0       7.0     8.0      NaN   \n",
       "4     5.0      5.0      6.0      3.0     6.0      10.0     8.0      NaN   \n",
       "\n",
       "   sinc5_1  intel5_1  fun5_1  amb5_1  dec  attr  sinc  intel  fun  amb  shar  \\\n",
       "0      NaN       NaN     NaN     NaN  0.8   5.7   7.3    7.3  6.8  6.3   6.5   \n",
       "1      NaN       NaN     NaN     NaN  0.4   6.4   7.0    7.7  6.1  6.5   5.7   \n",
       "2      NaN       NaN     NaN     NaN  0.0   8.1   8.6    9.4  7.7  8.8   8.1   \n",
       "3      NaN       NaN     NaN     NaN  0.3   6.4   8.9    8.6  7.8  7.8   7.1   \n",
       "4      NaN       NaN     NaN     NaN  0.6   6.3   6.0    7.0  6.0  5.6   6.2   \n",
       "\n",
       "   like      prob       met  match_es  attr1_s  sinc1_s  intel1_s  fun1_s  \\\n",
       "0   6.5  5.888889  1.777778       4.0      NaN      NaN       NaN     NaN   \n",
       "1   6.6  5.900000  1.900000       3.0      NaN      NaN       NaN     NaN   \n",
       "2   8.2  7.000000  1.900000       NaN      NaN      NaN       NaN     NaN   \n",
       "3   6.6  5.200000  1.800000       2.0      NaN      NaN       NaN     NaN   \n",
       "4   7.2  3.700000  1.700000       NaN      NaN      NaN       NaN     NaN   \n",
       "\n",
       "   amb1_s  shar1_s  attr3_s  sinc3_s  intel3_s  fun3_s  amb3_s  satis_2  \\\n",
       "0     NaN      NaN      NaN      NaN       NaN     NaN     NaN      6.0   \n",
       "1     NaN      NaN      NaN      NaN       NaN     NaN     NaN      5.0   \n",
       "2     NaN      NaN      NaN      NaN       NaN     NaN     NaN      NaN   \n",
       "3     NaN      NaN      NaN      NaN       NaN     NaN     NaN      4.0   \n",
       "4     NaN      NaN      NaN      NaN       NaN     NaN     NaN      7.0   \n",
       "\n",
       "   length  numdat_2  attr7_2  sinc7_2  intel7_2  fun7_2  amb7_2  shar7_2  \\\n",
       "0     2.0       1.0      NaN      NaN       NaN     NaN     NaN      NaN   \n",
       "1     2.0       NaN      NaN      NaN       NaN     NaN     NaN      NaN   \n",
       "2     NaN       NaN      NaN      NaN       NaN     NaN     NaN      NaN   \n",
       "3     3.0       2.0      NaN      NaN       NaN     NaN     NaN      NaN   \n",
       "4     2.0       2.0      NaN      NaN       NaN     NaN     NaN      NaN   \n",
       "\n",
       "   attr1_2  sinc1_2  intel1_2  fun1_2  amb1_2  shar1_2  attr4_2  sinc4_2  \\\n",
       "0    19.44    16.67     13.89   22.22   11.11    16.67      NaN      NaN   \n",
       "1    18.92    18.92     21.62   27.03    5.41     8.11      NaN      NaN   \n",
       "2      NaN      NaN       NaN     NaN     NaN      NaN      NaN      NaN   \n",
       "3    24.14    13.79     20.69   27.59   10.34     3.45      NaN      NaN   \n",
       "4    15.79    13.16     18.42   15.79   15.79    21.05      NaN      NaN   \n",
       "\n",
       "   intel4_2  fun4_2  amb4_2  shar4_2  attr2_2  sinc2_2  intel2_2  fun2_2  \\\n",
       "0       NaN     NaN     NaN      NaN      NaN      NaN       NaN     NaN   \n",
       "1       NaN     NaN     NaN      NaN      NaN      NaN       NaN     NaN   \n",
       "2       NaN     NaN     NaN      NaN      NaN      NaN       NaN     NaN   \n",
       "3       NaN     NaN     NaN      NaN      NaN      NaN       NaN     NaN   \n",
       "4       NaN     NaN     NaN      NaN      NaN      NaN       NaN     NaN   \n",
       "\n",
       "   amb2_2  shar2_2  attr3_2  sinc3_2  intel3_2  fun3_2  amb3_2  attr5_2  \\\n",
       "0     NaN      NaN      6.0      7.0       8.0     7.0     6.0      NaN   \n",
       "1     NaN      NaN      7.0      6.0       8.0     9.0     4.0      NaN   \n",
       "2     NaN      NaN      NaN      NaN       NaN     NaN     NaN      NaN   \n",
       "3     NaN      NaN      6.0      8.0       7.0     8.0     6.0      NaN   \n",
       "4     NaN      NaN      6.0      6.0       9.0     9.0     9.0      NaN   \n",
       "\n",
       "   sinc5_2  intel5_2  fun5_2  amb5_2  you_call  them_cal  date_3  numdat_3  \\\n",
       "0      NaN       NaN     NaN     NaN       1.0       1.0     0.0       NaN   \n",
       "1      NaN       NaN     NaN     NaN       0.0       0.0     0.0       NaN   \n",
       "2      NaN       NaN     NaN     NaN       NaN       NaN     NaN       NaN   \n",
       "3      NaN       NaN     NaN     NaN       0.0       0.0     0.0       NaN   \n",
       "4      NaN       NaN     NaN     NaN       0.0       0.0     0.0       NaN   \n",
       "\n",
       "   num_in_3  attr1_3  sinc1_3  intel1_3  fun1_3  amb1_3  shar1_3  attr7_3  \\\n",
       "0       NaN     15.0     20.0      20.0    15.0    15.0     15.0      NaN   \n",
       "1       NaN     30.0      5.0      40.0    15.0     0.0     10.0      NaN   \n",
       "2       NaN      NaN      NaN       NaN     NaN     NaN      NaN      NaN   \n",
       "3       NaN     20.0     20.0      20.0    20.0     0.0     20.0      NaN   \n",
       "4       NaN     30.0     10.0      20.0    20.0    10.0     10.0      NaN   \n",
       "\n",
       "   sinc7_3  intel7_3  fun7_3  amb7_3  shar7_3  attr4_3  sinc4_3  intel4_3  \\\n",
       "0      NaN       NaN     NaN     NaN      NaN      NaN      NaN       NaN   \n",
       "1      NaN       NaN     NaN     NaN      NaN      NaN      NaN       NaN   \n",
       "2      NaN       NaN     NaN     NaN      NaN      NaN      NaN       NaN   \n",
       "3      NaN       NaN     NaN     NaN      NaN      NaN      NaN       NaN   \n",
       "4      NaN       NaN     NaN     NaN      NaN      NaN      NaN       NaN   \n",
       "\n",
       "   fun4_3  amb4_3  shar4_3  attr2_3  sinc2_3  intel2_3  fun2_3  amb2_3  \\\n",
       "0     NaN     NaN      NaN      NaN      NaN       NaN     NaN     NaN   \n",
       "1     NaN     NaN      NaN      NaN      NaN       NaN     NaN     NaN   \n",
       "2     NaN     NaN      NaN      NaN      NaN       NaN     NaN     NaN   \n",
       "3     NaN     NaN      NaN      NaN      NaN       NaN     NaN     NaN   \n",
       "4     NaN     NaN      NaN      NaN      NaN       NaN     NaN     NaN   \n",
       "\n",
       "   shar2_3  attr3_3  sinc3_3  intel3_3  fun3_3  amb3_3  attr5_3  sinc5_3  \\\n",
       "0      NaN      5.0      7.0       7.0     7.0     7.0      NaN      NaN   \n",
       "1      NaN      7.0      6.0       9.0     9.0     4.0      NaN      NaN   \n",
       "2      NaN      NaN      NaN       NaN     NaN     NaN      NaN      NaN   \n",
       "3      NaN      6.0      5.0       6.0     8.0     5.0      NaN      NaN   \n",
       "4      NaN      4.0      5.0      10.0     6.0    10.0      NaN      NaN   \n",
       "\n",
       "   intel5_3  fun5_3  amb5_3 gender_name field_name            domain_of_study  \n",
       "0       NaN     NaN     NaN      Female        Law  Law and Political Science  \n",
       "1       NaN     NaN     NaN      Female        Law  Law and Political Science  \n",
       "2       NaN     NaN     NaN      Female       Math                   Sciences  \n",
       "3       NaN     NaN     NaN      Female        Law  Law and Political Science  \n",
       "4       NaN     NaN     NaN      Female        Law  Law and Political Science  "
      ]
     },
     "execution_count": 54,
     "metadata": {},
     "output_type": "execute_result"
    }
   ],
   "source": [
    "df_iid.head()"
   ]
  },
  {
   "cell_type": "code",
   "execution_count": 55,
   "metadata": {},
   "outputs": [
    {
     "data": {
      "text/html": [
       "<div>\n",
       "<style scoped>\n",
       "    .dataframe tbody tr th:only-of-type {\n",
       "        vertical-align: middle;\n",
       "    }\n",
       "\n",
       "    .dataframe tbody tr th {\n",
       "        vertical-align: top;\n",
       "    }\n",
       "\n",
       "    .dataframe thead th {\n",
       "        text-align: right;\n",
       "    }\n",
       "</style>\n",
       "<table border=\"1\" class=\"dataframe\">\n",
       "  <thead>\n",
       "    <tr style=\"text-align: right;\">\n",
       "      <th></th>\n",
       "      <th>iid</th>\n",
       "      <th>id</th>\n",
       "      <th>gender</th>\n",
       "      <th>idg</th>\n",
       "      <th>condtn</th>\n",
       "      <th>wave</th>\n",
       "      <th>round</th>\n",
       "      <th>position</th>\n",
       "      <th>positin1</th>\n",
       "      <th>order</th>\n",
       "      <th>partner</th>\n",
       "      <th>pid</th>\n",
       "      <th>match</th>\n",
       "      <th>int_corr</th>\n",
       "      <th>samerace</th>\n",
       "      <th>age_o</th>\n",
       "      <th>race_o</th>\n",
       "      <th>pf_o_att</th>\n",
       "      <th>pf_o_sin</th>\n",
       "      <th>pf_o_int</th>\n",
       "      <th>pf_o_fun</th>\n",
       "      <th>pf_o_amb</th>\n",
       "      <th>pf_o_sha</th>\n",
       "      <th>dec_o</th>\n",
       "      <th>attr_o</th>\n",
       "      <th>sinc_o</th>\n",
       "      <th>intel_o</th>\n",
       "      <th>fun_o</th>\n",
       "      <th>amb_o</th>\n",
       "      <th>shar_o</th>\n",
       "      <th>like_o</th>\n",
       "      <th>prob_o</th>\n",
       "      <th>met_o</th>\n",
       "      <th>age</th>\n",
       "      <th>field</th>\n",
       "      <th>field_cd</th>\n",
       "      <th>undergra</th>\n",
       "      <th>mn_sat</th>\n",
       "      <th>tuition</th>\n",
       "      <th>race</th>\n",
       "      <th>imprace</th>\n",
       "      <th>imprelig</th>\n",
       "      <th>from</th>\n",
       "      <th>zipcode</th>\n",
       "      <th>income</th>\n",
       "      <th>goal</th>\n",
       "      <th>date</th>\n",
       "      <th>go_out</th>\n",
       "      <th>career</th>\n",
       "      <th>career_c</th>\n",
       "      <th>sports</th>\n",
       "      <th>tvsports</th>\n",
       "      <th>exercise</th>\n",
       "      <th>dining</th>\n",
       "      <th>museums</th>\n",
       "      <th>art</th>\n",
       "      <th>hiking</th>\n",
       "      <th>gaming</th>\n",
       "      <th>clubbing</th>\n",
       "      <th>reading</th>\n",
       "      <th>tv</th>\n",
       "      <th>theater</th>\n",
       "      <th>movies</th>\n",
       "      <th>concerts</th>\n",
       "      <th>music</th>\n",
       "      <th>shopping</th>\n",
       "      <th>yoga</th>\n",
       "      <th>exphappy</th>\n",
       "      <th>expnum</th>\n",
       "      <th>attr1_1</th>\n",
       "      <th>sinc1_1</th>\n",
       "      <th>intel1_1</th>\n",
       "      <th>fun1_1</th>\n",
       "      <th>amb1_1</th>\n",
       "      <th>shar1_1</th>\n",
       "      <th>attr4_1</th>\n",
       "      <th>sinc4_1</th>\n",
       "      <th>intel4_1</th>\n",
       "      <th>fun4_1</th>\n",
       "      <th>amb4_1</th>\n",
       "      <th>shar4_1</th>\n",
       "      <th>attr2_1</th>\n",
       "      <th>sinc2_1</th>\n",
       "      <th>intel2_1</th>\n",
       "      <th>fun2_1</th>\n",
       "      <th>amb2_1</th>\n",
       "      <th>shar2_1</th>\n",
       "      <th>attr3_1</th>\n",
       "      <th>sinc3_1</th>\n",
       "      <th>fun3_1</th>\n",
       "      <th>intel3_1</th>\n",
       "      <th>amb3_1</th>\n",
       "      <th>attr5_1</th>\n",
       "      <th>sinc5_1</th>\n",
       "      <th>intel5_1</th>\n",
       "      <th>fun5_1</th>\n",
       "      <th>amb5_1</th>\n",
       "      <th>dec</th>\n",
       "      <th>attr</th>\n",
       "      <th>sinc</th>\n",
       "      <th>intel</th>\n",
       "      <th>fun</th>\n",
       "      <th>amb</th>\n",
       "      <th>shar</th>\n",
       "      <th>like</th>\n",
       "      <th>prob</th>\n",
       "      <th>met</th>\n",
       "      <th>match_es</th>\n",
       "      <th>attr1_s</th>\n",
       "      <th>sinc1_s</th>\n",
       "      <th>intel1_s</th>\n",
       "      <th>fun1_s</th>\n",
       "      <th>amb1_s</th>\n",
       "      <th>shar1_s</th>\n",
       "      <th>attr3_s</th>\n",
       "      <th>sinc3_s</th>\n",
       "      <th>intel3_s</th>\n",
       "      <th>fun3_s</th>\n",
       "      <th>amb3_s</th>\n",
       "      <th>satis_2</th>\n",
       "      <th>length</th>\n",
       "      <th>numdat_2</th>\n",
       "      <th>attr7_2</th>\n",
       "      <th>sinc7_2</th>\n",
       "      <th>intel7_2</th>\n",
       "      <th>fun7_2</th>\n",
       "      <th>amb7_2</th>\n",
       "      <th>shar7_2</th>\n",
       "      <th>attr1_2</th>\n",
       "      <th>sinc1_2</th>\n",
       "      <th>intel1_2</th>\n",
       "      <th>fun1_2</th>\n",
       "      <th>amb1_2</th>\n",
       "      <th>shar1_2</th>\n",
       "      <th>attr4_2</th>\n",
       "      <th>sinc4_2</th>\n",
       "      <th>intel4_2</th>\n",
       "      <th>fun4_2</th>\n",
       "      <th>amb4_2</th>\n",
       "      <th>shar4_2</th>\n",
       "      <th>attr2_2</th>\n",
       "      <th>sinc2_2</th>\n",
       "      <th>intel2_2</th>\n",
       "      <th>fun2_2</th>\n",
       "      <th>amb2_2</th>\n",
       "      <th>shar2_2</th>\n",
       "      <th>attr3_2</th>\n",
       "      <th>sinc3_2</th>\n",
       "      <th>intel3_2</th>\n",
       "      <th>fun3_2</th>\n",
       "      <th>amb3_2</th>\n",
       "      <th>attr5_2</th>\n",
       "      <th>sinc5_2</th>\n",
       "      <th>intel5_2</th>\n",
       "      <th>fun5_2</th>\n",
       "      <th>amb5_2</th>\n",
       "      <th>you_call</th>\n",
       "      <th>them_cal</th>\n",
       "      <th>date_3</th>\n",
       "      <th>numdat_3</th>\n",
       "      <th>num_in_3</th>\n",
       "      <th>attr1_3</th>\n",
       "      <th>sinc1_3</th>\n",
       "      <th>intel1_3</th>\n",
       "      <th>fun1_3</th>\n",
       "      <th>amb1_3</th>\n",
       "      <th>shar1_3</th>\n",
       "      <th>attr7_3</th>\n",
       "      <th>sinc7_3</th>\n",
       "      <th>intel7_3</th>\n",
       "      <th>fun7_3</th>\n",
       "      <th>amb7_3</th>\n",
       "      <th>shar7_3</th>\n",
       "      <th>attr4_3</th>\n",
       "      <th>sinc4_3</th>\n",
       "      <th>intel4_3</th>\n",
       "      <th>fun4_3</th>\n",
       "      <th>amb4_3</th>\n",
       "      <th>shar4_3</th>\n",
       "      <th>attr2_3</th>\n",
       "      <th>sinc2_3</th>\n",
       "      <th>intel2_3</th>\n",
       "      <th>fun2_3</th>\n",
       "      <th>amb2_3</th>\n",
       "      <th>shar2_3</th>\n",
       "      <th>attr3_3</th>\n",
       "      <th>sinc3_3</th>\n",
       "      <th>intel3_3</th>\n",
       "      <th>fun3_3</th>\n",
       "      <th>amb3_3</th>\n",
       "      <th>attr5_3</th>\n",
       "      <th>sinc5_3</th>\n",
       "      <th>intel5_3</th>\n",
       "      <th>fun5_3</th>\n",
       "      <th>amb5_3</th>\n",
       "    </tr>\n",
       "  </thead>\n",
       "  <tbody>\n",
       "    <tr>\n",
       "      <th>0</th>\n",
       "      <td>1</td>\n",
       "      <td>1.0</td>\n",
       "      <td>0</td>\n",
       "      <td>1</td>\n",
       "      <td>1</td>\n",
       "      <td>1</td>\n",
       "      <td>10</td>\n",
       "      <td>7</td>\n",
       "      <td>NaN</td>\n",
       "      <td>4</td>\n",
       "      <td>1</td>\n",
       "      <td>11.0</td>\n",
       "      <td>0</td>\n",
       "      <td>0.14</td>\n",
       "      <td>0</td>\n",
       "      <td>27.0</td>\n",
       "      <td>2.0</td>\n",
       "      <td>35.0</td>\n",
       "      <td>20.0</td>\n",
       "      <td>20.0</td>\n",
       "      <td>20.0</td>\n",
       "      <td>0.0</td>\n",
       "      <td>5.0</td>\n",
       "      <td>0</td>\n",
       "      <td>6.0</td>\n",
       "      <td>8.0</td>\n",
       "      <td>8.0</td>\n",
       "      <td>8.0</td>\n",
       "      <td>8.0</td>\n",
       "      <td>6.0</td>\n",
       "      <td>7.0</td>\n",
       "      <td>4.0</td>\n",
       "      <td>2.0</td>\n",
       "      <td>21.0</td>\n",
       "      <td>Law</td>\n",
       "      <td>1.0</td>\n",
       "      <td>NaN</td>\n",
       "      <td>NaN</td>\n",
       "      <td>NaN</td>\n",
       "      <td>4.0</td>\n",
       "      <td>2.0</td>\n",
       "      <td>4.0</td>\n",
       "      <td>Chicago</td>\n",
       "      <td>60,521</td>\n",
       "      <td>69,487.00</td>\n",
       "      <td>2.0</td>\n",
       "      <td>7.0</td>\n",
       "      <td>1.0</td>\n",
       "      <td>lawyer</td>\n",
       "      <td>NaN</td>\n",
       "      <td>9.0</td>\n",
       "      <td>2.0</td>\n",
       "      <td>8.0</td>\n",
       "      <td>9.0</td>\n",
       "      <td>1.0</td>\n",
       "      <td>1.0</td>\n",
       "      <td>5.0</td>\n",
       "      <td>1.0</td>\n",
       "      <td>5.0</td>\n",
       "      <td>6.0</td>\n",
       "      <td>9.0</td>\n",
       "      <td>1.0</td>\n",
       "      <td>10.0</td>\n",
       "      <td>10.0</td>\n",
       "      <td>9.0</td>\n",
       "      <td>8.0</td>\n",
       "      <td>1.0</td>\n",
       "      <td>3.0</td>\n",
       "      <td>2.0</td>\n",
       "      <td>15.0</td>\n",
       "      <td>20.0</td>\n",
       "      <td>20.0</td>\n",
       "      <td>15.0</td>\n",
       "      <td>15.0</td>\n",
       "      <td>15.0</td>\n",
       "      <td>NaN</td>\n",
       "      <td>NaN</td>\n",
       "      <td>NaN</td>\n",
       "      <td>NaN</td>\n",
       "      <td>NaN</td>\n",
       "      <td>NaN</td>\n",
       "      <td>35.0</td>\n",
       "      <td>20.0</td>\n",
       "      <td>15.0</td>\n",
       "      <td>20.0</td>\n",
       "      <td>5.0</td>\n",
       "      <td>5.0</td>\n",
       "      <td>6.0</td>\n",
       "      <td>8.0</td>\n",
       "      <td>8.0</td>\n",
       "      <td>8.0</td>\n",
       "      <td>7.0</td>\n",
       "      <td>NaN</td>\n",
       "      <td>NaN</td>\n",
       "      <td>NaN</td>\n",
       "      <td>NaN</td>\n",
       "      <td>NaN</td>\n",
       "      <td>1</td>\n",
       "      <td>6.0</td>\n",
       "      <td>9.0</td>\n",
       "      <td>7.0</td>\n",
       "      <td>7.0</td>\n",
       "      <td>6.0</td>\n",
       "      <td>5.0</td>\n",
       "      <td>7.0</td>\n",
       "      <td>6.0</td>\n",
       "      <td>2.0</td>\n",
       "      <td>4.0</td>\n",
       "      <td>NaN</td>\n",
       "      <td>NaN</td>\n",
       "      <td>NaN</td>\n",
       "      <td>NaN</td>\n",
       "      <td>NaN</td>\n",
       "      <td>NaN</td>\n",
       "      <td>NaN</td>\n",
       "      <td>NaN</td>\n",
       "      <td>NaN</td>\n",
       "      <td>NaN</td>\n",
       "      <td>NaN</td>\n",
       "      <td>6.0</td>\n",
       "      <td>2.0</td>\n",
       "      <td>1.0</td>\n",
       "      <td>NaN</td>\n",
       "      <td>NaN</td>\n",
       "      <td>NaN</td>\n",
       "      <td>NaN</td>\n",
       "      <td>NaN</td>\n",
       "      <td>NaN</td>\n",
       "      <td>19.44</td>\n",
       "      <td>16.67</td>\n",
       "      <td>13.89</td>\n",
       "      <td>22.22</td>\n",
       "      <td>11.11</td>\n",
       "      <td>16.67</td>\n",
       "      <td>NaN</td>\n",
       "      <td>NaN</td>\n",
       "      <td>NaN</td>\n",
       "      <td>NaN</td>\n",
       "      <td>NaN</td>\n",
       "      <td>NaN</td>\n",
       "      <td>NaN</td>\n",
       "      <td>NaN</td>\n",
       "      <td>NaN</td>\n",
       "      <td>NaN</td>\n",
       "      <td>NaN</td>\n",
       "      <td>NaN</td>\n",
       "      <td>6.0</td>\n",
       "      <td>7.0</td>\n",
       "      <td>8.0</td>\n",
       "      <td>7.0</td>\n",
       "      <td>6.0</td>\n",
       "      <td>NaN</td>\n",
       "      <td>NaN</td>\n",
       "      <td>NaN</td>\n",
       "      <td>NaN</td>\n",
       "      <td>NaN</td>\n",
       "      <td>1.0</td>\n",
       "      <td>1.0</td>\n",
       "      <td>0.0</td>\n",
       "      <td>NaN</td>\n",
       "      <td>NaN</td>\n",
       "      <td>15.0</td>\n",
       "      <td>20.0</td>\n",
       "      <td>20.0</td>\n",
       "      <td>15.0</td>\n",
       "      <td>15.0</td>\n",
       "      <td>15.0</td>\n",
       "      <td>NaN</td>\n",
       "      <td>NaN</td>\n",
       "      <td>NaN</td>\n",
       "      <td>NaN</td>\n",
       "      <td>NaN</td>\n",
       "      <td>NaN</td>\n",
       "      <td>NaN</td>\n",
       "      <td>NaN</td>\n",
       "      <td>NaN</td>\n",
       "      <td>NaN</td>\n",
       "      <td>NaN</td>\n",
       "      <td>NaN</td>\n",
       "      <td>NaN</td>\n",
       "      <td>NaN</td>\n",
       "      <td>NaN</td>\n",
       "      <td>NaN</td>\n",
       "      <td>NaN</td>\n",
       "      <td>NaN</td>\n",
       "      <td>5.0</td>\n",
       "      <td>7.0</td>\n",
       "      <td>7.0</td>\n",
       "      <td>7.0</td>\n",
       "      <td>7.0</td>\n",
       "      <td>NaN</td>\n",
       "      <td>NaN</td>\n",
       "      <td>NaN</td>\n",
       "      <td>NaN</td>\n",
       "      <td>NaN</td>\n",
       "    </tr>\n",
       "    <tr>\n",
       "      <th>1</th>\n",
       "      <td>1</td>\n",
       "      <td>1.0</td>\n",
       "      <td>0</td>\n",
       "      <td>1</td>\n",
       "      <td>1</td>\n",
       "      <td>1</td>\n",
       "      <td>10</td>\n",
       "      <td>7</td>\n",
       "      <td>NaN</td>\n",
       "      <td>3</td>\n",
       "      <td>2</td>\n",
       "      <td>12.0</td>\n",
       "      <td>0</td>\n",
       "      <td>0.54</td>\n",
       "      <td>0</td>\n",
       "      <td>22.0</td>\n",
       "      <td>2.0</td>\n",
       "      <td>60.0</td>\n",
       "      <td>0.0</td>\n",
       "      <td>0.0</td>\n",
       "      <td>40.0</td>\n",
       "      <td>0.0</td>\n",
       "      <td>0.0</td>\n",
       "      <td>0</td>\n",
       "      <td>7.0</td>\n",
       "      <td>8.0</td>\n",
       "      <td>10.0</td>\n",
       "      <td>7.0</td>\n",
       "      <td>7.0</td>\n",
       "      <td>5.0</td>\n",
       "      <td>8.0</td>\n",
       "      <td>4.0</td>\n",
       "      <td>2.0</td>\n",
       "      <td>21.0</td>\n",
       "      <td>Law</td>\n",
       "      <td>1.0</td>\n",
       "      <td>NaN</td>\n",
       "      <td>NaN</td>\n",
       "      <td>NaN</td>\n",
       "      <td>4.0</td>\n",
       "      <td>2.0</td>\n",
       "      <td>4.0</td>\n",
       "      <td>Chicago</td>\n",
       "      <td>60,521</td>\n",
       "      <td>69,487.00</td>\n",
       "      <td>2.0</td>\n",
       "      <td>7.0</td>\n",
       "      <td>1.0</td>\n",
       "      <td>lawyer</td>\n",
       "      <td>NaN</td>\n",
       "      <td>9.0</td>\n",
       "      <td>2.0</td>\n",
       "      <td>8.0</td>\n",
       "      <td>9.0</td>\n",
       "      <td>1.0</td>\n",
       "      <td>1.0</td>\n",
       "      <td>5.0</td>\n",
       "      <td>1.0</td>\n",
       "      <td>5.0</td>\n",
       "      <td>6.0</td>\n",
       "      <td>9.0</td>\n",
       "      <td>1.0</td>\n",
       "      <td>10.0</td>\n",
       "      <td>10.0</td>\n",
       "      <td>9.0</td>\n",
       "      <td>8.0</td>\n",
       "      <td>1.0</td>\n",
       "      <td>3.0</td>\n",
       "      <td>2.0</td>\n",
       "      <td>15.0</td>\n",
       "      <td>20.0</td>\n",
       "      <td>20.0</td>\n",
       "      <td>15.0</td>\n",
       "      <td>15.0</td>\n",
       "      <td>15.0</td>\n",
       "      <td>NaN</td>\n",
       "      <td>NaN</td>\n",
       "      <td>NaN</td>\n",
       "      <td>NaN</td>\n",
       "      <td>NaN</td>\n",
       "      <td>NaN</td>\n",
       "      <td>35.0</td>\n",
       "      <td>20.0</td>\n",
       "      <td>15.0</td>\n",
       "      <td>20.0</td>\n",
       "      <td>5.0</td>\n",
       "      <td>5.0</td>\n",
       "      <td>6.0</td>\n",
       "      <td>8.0</td>\n",
       "      <td>8.0</td>\n",
       "      <td>8.0</td>\n",
       "      <td>7.0</td>\n",
       "      <td>NaN</td>\n",
       "      <td>NaN</td>\n",
       "      <td>NaN</td>\n",
       "      <td>NaN</td>\n",
       "      <td>NaN</td>\n",
       "      <td>1</td>\n",
       "      <td>7.0</td>\n",
       "      <td>8.0</td>\n",
       "      <td>7.0</td>\n",
       "      <td>8.0</td>\n",
       "      <td>5.0</td>\n",
       "      <td>6.0</td>\n",
       "      <td>7.0</td>\n",
       "      <td>5.0</td>\n",
       "      <td>1.0</td>\n",
       "      <td>4.0</td>\n",
       "      <td>NaN</td>\n",
       "      <td>NaN</td>\n",
       "      <td>NaN</td>\n",
       "      <td>NaN</td>\n",
       "      <td>NaN</td>\n",
       "      <td>NaN</td>\n",
       "      <td>NaN</td>\n",
       "      <td>NaN</td>\n",
       "      <td>NaN</td>\n",
       "      <td>NaN</td>\n",
       "      <td>NaN</td>\n",
       "      <td>6.0</td>\n",
       "      <td>2.0</td>\n",
       "      <td>1.0</td>\n",
       "      <td>NaN</td>\n",
       "      <td>NaN</td>\n",
       "      <td>NaN</td>\n",
       "      <td>NaN</td>\n",
       "      <td>NaN</td>\n",
       "      <td>NaN</td>\n",
       "      <td>19.44</td>\n",
       "      <td>16.67</td>\n",
       "      <td>13.89</td>\n",
       "      <td>22.22</td>\n",
       "      <td>11.11</td>\n",
       "      <td>16.67</td>\n",
       "      <td>NaN</td>\n",
       "      <td>NaN</td>\n",
       "      <td>NaN</td>\n",
       "      <td>NaN</td>\n",
       "      <td>NaN</td>\n",
       "      <td>NaN</td>\n",
       "      <td>NaN</td>\n",
       "      <td>NaN</td>\n",
       "      <td>NaN</td>\n",
       "      <td>NaN</td>\n",
       "      <td>NaN</td>\n",
       "      <td>NaN</td>\n",
       "      <td>6.0</td>\n",
       "      <td>7.0</td>\n",
       "      <td>8.0</td>\n",
       "      <td>7.0</td>\n",
       "      <td>6.0</td>\n",
       "      <td>NaN</td>\n",
       "      <td>NaN</td>\n",
       "      <td>NaN</td>\n",
       "      <td>NaN</td>\n",
       "      <td>NaN</td>\n",
       "      <td>1.0</td>\n",
       "      <td>1.0</td>\n",
       "      <td>0.0</td>\n",
       "      <td>NaN</td>\n",
       "      <td>NaN</td>\n",
       "      <td>15.0</td>\n",
       "      <td>20.0</td>\n",
       "      <td>20.0</td>\n",
       "      <td>15.0</td>\n",
       "      <td>15.0</td>\n",
       "      <td>15.0</td>\n",
       "      <td>NaN</td>\n",
       "      <td>NaN</td>\n",
       "      <td>NaN</td>\n",
       "      <td>NaN</td>\n",
       "      <td>NaN</td>\n",
       "      <td>NaN</td>\n",
       "      <td>NaN</td>\n",
       "      <td>NaN</td>\n",
       "      <td>NaN</td>\n",
       "      <td>NaN</td>\n",
       "      <td>NaN</td>\n",
       "      <td>NaN</td>\n",
       "      <td>NaN</td>\n",
       "      <td>NaN</td>\n",
       "      <td>NaN</td>\n",
       "      <td>NaN</td>\n",
       "      <td>NaN</td>\n",
       "      <td>NaN</td>\n",
       "      <td>5.0</td>\n",
       "      <td>7.0</td>\n",
       "      <td>7.0</td>\n",
       "      <td>7.0</td>\n",
       "      <td>7.0</td>\n",
       "      <td>NaN</td>\n",
       "      <td>NaN</td>\n",
       "      <td>NaN</td>\n",
       "      <td>NaN</td>\n",
       "      <td>NaN</td>\n",
       "    </tr>\n",
       "    <tr>\n",
       "      <th>2</th>\n",
       "      <td>1</td>\n",
       "      <td>1.0</td>\n",
       "      <td>0</td>\n",
       "      <td>1</td>\n",
       "      <td>1</td>\n",
       "      <td>1</td>\n",
       "      <td>10</td>\n",
       "      <td>7</td>\n",
       "      <td>NaN</td>\n",
       "      <td>10</td>\n",
       "      <td>3</td>\n",
       "      <td>13.0</td>\n",
       "      <td>1</td>\n",
       "      <td>0.16</td>\n",
       "      <td>1</td>\n",
       "      <td>22.0</td>\n",
       "      <td>4.0</td>\n",
       "      <td>19.0</td>\n",
       "      <td>18.0</td>\n",
       "      <td>19.0</td>\n",
       "      <td>18.0</td>\n",
       "      <td>14.0</td>\n",
       "      <td>12.0</td>\n",
       "      <td>1</td>\n",
       "      <td>10.0</td>\n",
       "      <td>10.0</td>\n",
       "      <td>10.0</td>\n",
       "      <td>10.0</td>\n",
       "      <td>10.0</td>\n",
       "      <td>10.0</td>\n",
       "      <td>10.0</td>\n",
       "      <td>10.0</td>\n",
       "      <td>1.0</td>\n",
       "      <td>21.0</td>\n",
       "      <td>Law</td>\n",
       "      <td>1.0</td>\n",
       "      <td>NaN</td>\n",
       "      <td>NaN</td>\n",
       "      <td>NaN</td>\n",
       "      <td>4.0</td>\n",
       "      <td>2.0</td>\n",
       "      <td>4.0</td>\n",
       "      <td>Chicago</td>\n",
       "      <td>60,521</td>\n",
       "      <td>69,487.00</td>\n",
       "      <td>2.0</td>\n",
       "      <td>7.0</td>\n",
       "      <td>1.0</td>\n",
       "      <td>lawyer</td>\n",
       "      <td>NaN</td>\n",
       "      <td>9.0</td>\n",
       "      <td>2.0</td>\n",
       "      <td>8.0</td>\n",
       "      <td>9.0</td>\n",
       "      <td>1.0</td>\n",
       "      <td>1.0</td>\n",
       "      <td>5.0</td>\n",
       "      <td>1.0</td>\n",
       "      <td>5.0</td>\n",
       "      <td>6.0</td>\n",
       "      <td>9.0</td>\n",
       "      <td>1.0</td>\n",
       "      <td>10.0</td>\n",
       "      <td>10.0</td>\n",
       "      <td>9.0</td>\n",
       "      <td>8.0</td>\n",
       "      <td>1.0</td>\n",
       "      <td>3.0</td>\n",
       "      <td>2.0</td>\n",
       "      <td>15.0</td>\n",
       "      <td>20.0</td>\n",
       "      <td>20.0</td>\n",
       "      <td>15.0</td>\n",
       "      <td>15.0</td>\n",
       "      <td>15.0</td>\n",
       "      <td>NaN</td>\n",
       "      <td>NaN</td>\n",
       "      <td>NaN</td>\n",
       "      <td>NaN</td>\n",
       "      <td>NaN</td>\n",
       "      <td>NaN</td>\n",
       "      <td>35.0</td>\n",
       "      <td>20.0</td>\n",
       "      <td>15.0</td>\n",
       "      <td>20.0</td>\n",
       "      <td>5.0</td>\n",
       "      <td>5.0</td>\n",
       "      <td>6.0</td>\n",
       "      <td>8.0</td>\n",
       "      <td>8.0</td>\n",
       "      <td>8.0</td>\n",
       "      <td>7.0</td>\n",
       "      <td>NaN</td>\n",
       "      <td>NaN</td>\n",
       "      <td>NaN</td>\n",
       "      <td>NaN</td>\n",
       "      <td>NaN</td>\n",
       "      <td>1</td>\n",
       "      <td>5.0</td>\n",
       "      <td>8.0</td>\n",
       "      <td>9.0</td>\n",
       "      <td>8.0</td>\n",
       "      <td>5.0</td>\n",
       "      <td>7.0</td>\n",
       "      <td>7.0</td>\n",
       "      <td>NaN</td>\n",
       "      <td>1.0</td>\n",
       "      <td>4.0</td>\n",
       "      <td>NaN</td>\n",
       "      <td>NaN</td>\n",
       "      <td>NaN</td>\n",
       "      <td>NaN</td>\n",
       "      <td>NaN</td>\n",
       "      <td>NaN</td>\n",
       "      <td>NaN</td>\n",
       "      <td>NaN</td>\n",
       "      <td>NaN</td>\n",
       "      <td>NaN</td>\n",
       "      <td>NaN</td>\n",
       "      <td>6.0</td>\n",
       "      <td>2.0</td>\n",
       "      <td>1.0</td>\n",
       "      <td>NaN</td>\n",
       "      <td>NaN</td>\n",
       "      <td>NaN</td>\n",
       "      <td>NaN</td>\n",
       "      <td>NaN</td>\n",
       "      <td>NaN</td>\n",
       "      <td>19.44</td>\n",
       "      <td>16.67</td>\n",
       "      <td>13.89</td>\n",
       "      <td>22.22</td>\n",
       "      <td>11.11</td>\n",
       "      <td>16.67</td>\n",
       "      <td>NaN</td>\n",
       "      <td>NaN</td>\n",
       "      <td>NaN</td>\n",
       "      <td>NaN</td>\n",
       "      <td>NaN</td>\n",
       "      <td>NaN</td>\n",
       "      <td>NaN</td>\n",
       "      <td>NaN</td>\n",
       "      <td>NaN</td>\n",
       "      <td>NaN</td>\n",
       "      <td>NaN</td>\n",
       "      <td>NaN</td>\n",
       "      <td>6.0</td>\n",
       "      <td>7.0</td>\n",
       "      <td>8.0</td>\n",
       "      <td>7.0</td>\n",
       "      <td>6.0</td>\n",
       "      <td>NaN</td>\n",
       "      <td>NaN</td>\n",
       "      <td>NaN</td>\n",
       "      <td>NaN</td>\n",
       "      <td>NaN</td>\n",
       "      <td>1.0</td>\n",
       "      <td>1.0</td>\n",
       "      <td>0.0</td>\n",
       "      <td>NaN</td>\n",
       "      <td>NaN</td>\n",
       "      <td>15.0</td>\n",
       "      <td>20.0</td>\n",
       "      <td>20.0</td>\n",
       "      <td>15.0</td>\n",
       "      <td>15.0</td>\n",
       "      <td>15.0</td>\n",
       "      <td>NaN</td>\n",
       "      <td>NaN</td>\n",
       "      <td>NaN</td>\n",
       "      <td>NaN</td>\n",
       "      <td>NaN</td>\n",
       "      <td>NaN</td>\n",
       "      <td>NaN</td>\n",
       "      <td>NaN</td>\n",
       "      <td>NaN</td>\n",
       "      <td>NaN</td>\n",
       "      <td>NaN</td>\n",
       "      <td>NaN</td>\n",
       "      <td>NaN</td>\n",
       "      <td>NaN</td>\n",
       "      <td>NaN</td>\n",
       "      <td>NaN</td>\n",
       "      <td>NaN</td>\n",
       "      <td>NaN</td>\n",
       "      <td>5.0</td>\n",
       "      <td>7.0</td>\n",
       "      <td>7.0</td>\n",
       "      <td>7.0</td>\n",
       "      <td>7.0</td>\n",
       "      <td>NaN</td>\n",
       "      <td>NaN</td>\n",
       "      <td>NaN</td>\n",
       "      <td>NaN</td>\n",
       "      <td>NaN</td>\n",
       "    </tr>\n",
       "    <tr>\n",
       "      <th>3</th>\n",
       "      <td>1</td>\n",
       "      <td>1.0</td>\n",
       "      <td>0</td>\n",
       "      <td>1</td>\n",
       "      <td>1</td>\n",
       "      <td>1</td>\n",
       "      <td>10</td>\n",
       "      <td>7</td>\n",
       "      <td>NaN</td>\n",
       "      <td>5</td>\n",
       "      <td>4</td>\n",
       "      <td>14.0</td>\n",
       "      <td>1</td>\n",
       "      <td>0.61</td>\n",
       "      <td>0</td>\n",
       "      <td>23.0</td>\n",
       "      <td>2.0</td>\n",
       "      <td>30.0</td>\n",
       "      <td>5.0</td>\n",
       "      <td>15.0</td>\n",
       "      <td>40.0</td>\n",
       "      <td>5.0</td>\n",
       "      <td>5.0</td>\n",
       "      <td>1</td>\n",
       "      <td>7.0</td>\n",
       "      <td>8.0</td>\n",
       "      <td>9.0</td>\n",
       "      <td>8.0</td>\n",
       "      <td>9.0</td>\n",
       "      <td>8.0</td>\n",
       "      <td>7.0</td>\n",
       "      <td>7.0</td>\n",
       "      <td>2.0</td>\n",
       "      <td>21.0</td>\n",
       "      <td>Law</td>\n",
       "      <td>1.0</td>\n",
       "      <td>NaN</td>\n",
       "      <td>NaN</td>\n",
       "      <td>NaN</td>\n",
       "      <td>4.0</td>\n",
       "      <td>2.0</td>\n",
       "      <td>4.0</td>\n",
       "      <td>Chicago</td>\n",
       "      <td>60,521</td>\n",
       "      <td>69,487.00</td>\n",
       "      <td>2.0</td>\n",
       "      <td>7.0</td>\n",
       "      <td>1.0</td>\n",
       "      <td>lawyer</td>\n",
       "      <td>NaN</td>\n",
       "      <td>9.0</td>\n",
       "      <td>2.0</td>\n",
       "      <td>8.0</td>\n",
       "      <td>9.0</td>\n",
       "      <td>1.0</td>\n",
       "      <td>1.0</td>\n",
       "      <td>5.0</td>\n",
       "      <td>1.0</td>\n",
       "      <td>5.0</td>\n",
       "      <td>6.0</td>\n",
       "      <td>9.0</td>\n",
       "      <td>1.0</td>\n",
       "      <td>10.0</td>\n",
       "      <td>10.0</td>\n",
       "      <td>9.0</td>\n",
       "      <td>8.0</td>\n",
       "      <td>1.0</td>\n",
       "      <td>3.0</td>\n",
       "      <td>2.0</td>\n",
       "      <td>15.0</td>\n",
       "      <td>20.0</td>\n",
       "      <td>20.0</td>\n",
       "      <td>15.0</td>\n",
       "      <td>15.0</td>\n",
       "      <td>15.0</td>\n",
       "      <td>NaN</td>\n",
       "      <td>NaN</td>\n",
       "      <td>NaN</td>\n",
       "      <td>NaN</td>\n",
       "      <td>NaN</td>\n",
       "      <td>NaN</td>\n",
       "      <td>35.0</td>\n",
       "      <td>20.0</td>\n",
       "      <td>15.0</td>\n",
       "      <td>20.0</td>\n",
       "      <td>5.0</td>\n",
       "      <td>5.0</td>\n",
       "      <td>6.0</td>\n",
       "      <td>8.0</td>\n",
       "      <td>8.0</td>\n",
       "      <td>8.0</td>\n",
       "      <td>7.0</td>\n",
       "      <td>NaN</td>\n",
       "      <td>NaN</td>\n",
       "      <td>NaN</td>\n",
       "      <td>NaN</td>\n",
       "      <td>NaN</td>\n",
       "      <td>1</td>\n",
       "      <td>7.0</td>\n",
       "      <td>6.0</td>\n",
       "      <td>8.0</td>\n",
       "      <td>7.0</td>\n",
       "      <td>6.0</td>\n",
       "      <td>8.0</td>\n",
       "      <td>7.0</td>\n",
       "      <td>6.0</td>\n",
       "      <td>2.0</td>\n",
       "      <td>4.0</td>\n",
       "      <td>NaN</td>\n",
       "      <td>NaN</td>\n",
       "      <td>NaN</td>\n",
       "      <td>NaN</td>\n",
       "      <td>NaN</td>\n",
       "      <td>NaN</td>\n",
       "      <td>NaN</td>\n",
       "      <td>NaN</td>\n",
       "      <td>NaN</td>\n",
       "      <td>NaN</td>\n",
       "      <td>NaN</td>\n",
       "      <td>6.0</td>\n",
       "      <td>2.0</td>\n",
       "      <td>1.0</td>\n",
       "      <td>NaN</td>\n",
       "      <td>NaN</td>\n",
       "      <td>NaN</td>\n",
       "      <td>NaN</td>\n",
       "      <td>NaN</td>\n",
       "      <td>NaN</td>\n",
       "      <td>19.44</td>\n",
       "      <td>16.67</td>\n",
       "      <td>13.89</td>\n",
       "      <td>22.22</td>\n",
       "      <td>11.11</td>\n",
       "      <td>16.67</td>\n",
       "      <td>NaN</td>\n",
       "      <td>NaN</td>\n",
       "      <td>NaN</td>\n",
       "      <td>NaN</td>\n",
       "      <td>NaN</td>\n",
       "      <td>NaN</td>\n",
       "      <td>NaN</td>\n",
       "      <td>NaN</td>\n",
       "      <td>NaN</td>\n",
       "      <td>NaN</td>\n",
       "      <td>NaN</td>\n",
       "      <td>NaN</td>\n",
       "      <td>6.0</td>\n",
       "      <td>7.0</td>\n",
       "      <td>8.0</td>\n",
       "      <td>7.0</td>\n",
       "      <td>6.0</td>\n",
       "      <td>NaN</td>\n",
       "      <td>NaN</td>\n",
       "      <td>NaN</td>\n",
       "      <td>NaN</td>\n",
       "      <td>NaN</td>\n",
       "      <td>1.0</td>\n",
       "      <td>1.0</td>\n",
       "      <td>0.0</td>\n",
       "      <td>NaN</td>\n",
       "      <td>NaN</td>\n",
       "      <td>15.0</td>\n",
       "      <td>20.0</td>\n",
       "      <td>20.0</td>\n",
       "      <td>15.0</td>\n",
       "      <td>15.0</td>\n",
       "      <td>15.0</td>\n",
       "      <td>NaN</td>\n",
       "      <td>NaN</td>\n",
       "      <td>NaN</td>\n",
       "      <td>NaN</td>\n",
       "      <td>NaN</td>\n",
       "      <td>NaN</td>\n",
       "      <td>NaN</td>\n",
       "      <td>NaN</td>\n",
       "      <td>NaN</td>\n",
       "      <td>NaN</td>\n",
       "      <td>NaN</td>\n",
       "      <td>NaN</td>\n",
       "      <td>NaN</td>\n",
       "      <td>NaN</td>\n",
       "      <td>NaN</td>\n",
       "      <td>NaN</td>\n",
       "      <td>NaN</td>\n",
       "      <td>NaN</td>\n",
       "      <td>5.0</td>\n",
       "      <td>7.0</td>\n",
       "      <td>7.0</td>\n",
       "      <td>7.0</td>\n",
       "      <td>7.0</td>\n",
       "      <td>NaN</td>\n",
       "      <td>NaN</td>\n",
       "      <td>NaN</td>\n",
       "      <td>NaN</td>\n",
       "      <td>NaN</td>\n",
       "    </tr>\n",
       "    <tr>\n",
       "      <th>4</th>\n",
       "      <td>1</td>\n",
       "      <td>1.0</td>\n",
       "      <td>0</td>\n",
       "      <td>1</td>\n",
       "      <td>1</td>\n",
       "      <td>1</td>\n",
       "      <td>10</td>\n",
       "      <td>7</td>\n",
       "      <td>NaN</td>\n",
       "      <td>7</td>\n",
       "      <td>5</td>\n",
       "      <td>15.0</td>\n",
       "      <td>1</td>\n",
       "      <td>0.21</td>\n",
       "      <td>0</td>\n",
       "      <td>24.0</td>\n",
       "      <td>3.0</td>\n",
       "      <td>30.0</td>\n",
       "      <td>10.0</td>\n",
       "      <td>20.0</td>\n",
       "      <td>10.0</td>\n",
       "      <td>10.0</td>\n",
       "      <td>20.0</td>\n",
       "      <td>1</td>\n",
       "      <td>8.0</td>\n",
       "      <td>7.0</td>\n",
       "      <td>9.0</td>\n",
       "      <td>6.0</td>\n",
       "      <td>9.0</td>\n",
       "      <td>7.0</td>\n",
       "      <td>8.0</td>\n",
       "      <td>6.0</td>\n",
       "      <td>2.0</td>\n",
       "      <td>21.0</td>\n",
       "      <td>Law</td>\n",
       "      <td>1.0</td>\n",
       "      <td>NaN</td>\n",
       "      <td>NaN</td>\n",
       "      <td>NaN</td>\n",
       "      <td>4.0</td>\n",
       "      <td>2.0</td>\n",
       "      <td>4.0</td>\n",
       "      <td>Chicago</td>\n",
       "      <td>60,521</td>\n",
       "      <td>69,487.00</td>\n",
       "      <td>2.0</td>\n",
       "      <td>7.0</td>\n",
       "      <td>1.0</td>\n",
       "      <td>lawyer</td>\n",
       "      <td>NaN</td>\n",
       "      <td>9.0</td>\n",
       "      <td>2.0</td>\n",
       "      <td>8.0</td>\n",
       "      <td>9.0</td>\n",
       "      <td>1.0</td>\n",
       "      <td>1.0</td>\n",
       "      <td>5.0</td>\n",
       "      <td>1.0</td>\n",
       "      <td>5.0</td>\n",
       "      <td>6.0</td>\n",
       "      <td>9.0</td>\n",
       "      <td>1.0</td>\n",
       "      <td>10.0</td>\n",
       "      <td>10.0</td>\n",
       "      <td>9.0</td>\n",
       "      <td>8.0</td>\n",
       "      <td>1.0</td>\n",
       "      <td>3.0</td>\n",
       "      <td>2.0</td>\n",
       "      <td>15.0</td>\n",
       "      <td>20.0</td>\n",
       "      <td>20.0</td>\n",
       "      <td>15.0</td>\n",
       "      <td>15.0</td>\n",
       "      <td>15.0</td>\n",
       "      <td>NaN</td>\n",
       "      <td>NaN</td>\n",
       "      <td>NaN</td>\n",
       "      <td>NaN</td>\n",
       "      <td>NaN</td>\n",
       "      <td>NaN</td>\n",
       "      <td>35.0</td>\n",
       "      <td>20.0</td>\n",
       "      <td>15.0</td>\n",
       "      <td>20.0</td>\n",
       "      <td>5.0</td>\n",
       "      <td>5.0</td>\n",
       "      <td>6.0</td>\n",
       "      <td>8.0</td>\n",
       "      <td>8.0</td>\n",
       "      <td>8.0</td>\n",
       "      <td>7.0</td>\n",
       "      <td>NaN</td>\n",
       "      <td>NaN</td>\n",
       "      <td>NaN</td>\n",
       "      <td>NaN</td>\n",
       "      <td>NaN</td>\n",
       "      <td>1</td>\n",
       "      <td>5.0</td>\n",
       "      <td>6.0</td>\n",
       "      <td>7.0</td>\n",
       "      <td>7.0</td>\n",
       "      <td>6.0</td>\n",
       "      <td>6.0</td>\n",
       "      <td>6.0</td>\n",
       "      <td>6.0</td>\n",
       "      <td>2.0</td>\n",
       "      <td>4.0</td>\n",
       "      <td>NaN</td>\n",
       "      <td>NaN</td>\n",
       "      <td>NaN</td>\n",
       "      <td>NaN</td>\n",
       "      <td>NaN</td>\n",
       "      <td>NaN</td>\n",
       "      <td>NaN</td>\n",
       "      <td>NaN</td>\n",
       "      <td>NaN</td>\n",
       "      <td>NaN</td>\n",
       "      <td>NaN</td>\n",
       "      <td>6.0</td>\n",
       "      <td>2.0</td>\n",
       "      <td>1.0</td>\n",
       "      <td>NaN</td>\n",
       "      <td>NaN</td>\n",
       "      <td>NaN</td>\n",
       "      <td>NaN</td>\n",
       "      <td>NaN</td>\n",
       "      <td>NaN</td>\n",
       "      <td>19.44</td>\n",
       "      <td>16.67</td>\n",
       "      <td>13.89</td>\n",
       "      <td>22.22</td>\n",
       "      <td>11.11</td>\n",
       "      <td>16.67</td>\n",
       "      <td>NaN</td>\n",
       "      <td>NaN</td>\n",
       "      <td>NaN</td>\n",
       "      <td>NaN</td>\n",
       "      <td>NaN</td>\n",
       "      <td>NaN</td>\n",
       "      <td>NaN</td>\n",
       "      <td>NaN</td>\n",
       "      <td>NaN</td>\n",
       "      <td>NaN</td>\n",
       "      <td>NaN</td>\n",
       "      <td>NaN</td>\n",
       "      <td>6.0</td>\n",
       "      <td>7.0</td>\n",
       "      <td>8.0</td>\n",
       "      <td>7.0</td>\n",
       "      <td>6.0</td>\n",
       "      <td>NaN</td>\n",
       "      <td>NaN</td>\n",
       "      <td>NaN</td>\n",
       "      <td>NaN</td>\n",
       "      <td>NaN</td>\n",
       "      <td>1.0</td>\n",
       "      <td>1.0</td>\n",
       "      <td>0.0</td>\n",
       "      <td>NaN</td>\n",
       "      <td>NaN</td>\n",
       "      <td>15.0</td>\n",
       "      <td>20.0</td>\n",
       "      <td>20.0</td>\n",
       "      <td>15.0</td>\n",
       "      <td>15.0</td>\n",
       "      <td>15.0</td>\n",
       "      <td>NaN</td>\n",
       "      <td>NaN</td>\n",
       "      <td>NaN</td>\n",
       "      <td>NaN</td>\n",
       "      <td>NaN</td>\n",
       "      <td>NaN</td>\n",
       "      <td>NaN</td>\n",
       "      <td>NaN</td>\n",
       "      <td>NaN</td>\n",
       "      <td>NaN</td>\n",
       "      <td>NaN</td>\n",
       "      <td>NaN</td>\n",
       "      <td>NaN</td>\n",
       "      <td>NaN</td>\n",
       "      <td>NaN</td>\n",
       "      <td>NaN</td>\n",
       "      <td>NaN</td>\n",
       "      <td>NaN</td>\n",
       "      <td>5.0</td>\n",
       "      <td>7.0</td>\n",
       "      <td>7.0</td>\n",
       "      <td>7.0</td>\n",
       "      <td>7.0</td>\n",
       "      <td>NaN</td>\n",
       "      <td>NaN</td>\n",
       "      <td>NaN</td>\n",
       "      <td>NaN</td>\n",
       "      <td>NaN</td>\n",
       "    </tr>\n",
       "  </tbody>\n",
       "</table>\n",
       "</div>"
      ],
      "text/plain": [
       "   iid   id  gender  idg  condtn  wave  round  position  positin1  order  \\\n",
       "0    1  1.0       0    1       1     1     10         7       NaN      4   \n",
       "1    1  1.0       0    1       1     1     10         7       NaN      3   \n",
       "2    1  1.0       0    1       1     1     10         7       NaN     10   \n",
       "3    1  1.0       0    1       1     1     10         7       NaN      5   \n",
       "4    1  1.0       0    1       1     1     10         7       NaN      7   \n",
       "\n",
       "   partner   pid  match  int_corr  samerace  age_o  race_o  pf_o_att  \\\n",
       "0        1  11.0      0      0.14         0   27.0     2.0      35.0   \n",
       "1        2  12.0      0      0.54         0   22.0     2.0      60.0   \n",
       "2        3  13.0      1      0.16         1   22.0     4.0      19.0   \n",
       "3        4  14.0      1      0.61         0   23.0     2.0      30.0   \n",
       "4        5  15.0      1      0.21         0   24.0     3.0      30.0   \n",
       "\n",
       "   pf_o_sin  pf_o_int  pf_o_fun  pf_o_amb  pf_o_sha  dec_o  attr_o  sinc_o  \\\n",
       "0      20.0      20.0      20.0       0.0       5.0      0     6.0     8.0   \n",
       "1       0.0       0.0      40.0       0.0       0.0      0     7.0     8.0   \n",
       "2      18.0      19.0      18.0      14.0      12.0      1    10.0    10.0   \n",
       "3       5.0      15.0      40.0       5.0       5.0      1     7.0     8.0   \n",
       "4      10.0      20.0      10.0      10.0      20.0      1     8.0     7.0   \n",
       "\n",
       "   intel_o  fun_o  amb_o  shar_o  like_o  prob_o  met_o   age field  field_cd  \\\n",
       "0      8.0    8.0    8.0     6.0     7.0     4.0    2.0  21.0   Law       1.0   \n",
       "1     10.0    7.0    7.0     5.0     8.0     4.0    2.0  21.0   Law       1.0   \n",
       "2     10.0   10.0   10.0    10.0    10.0    10.0    1.0  21.0   Law       1.0   \n",
       "3      9.0    8.0    9.0     8.0     7.0     7.0    2.0  21.0   Law       1.0   \n",
       "4      9.0    6.0    9.0     7.0     8.0     6.0    2.0  21.0   Law       1.0   \n",
       "\n",
       "  undergra mn_sat tuition  race  imprace  imprelig     from zipcode  \\\n",
       "0      NaN    NaN     NaN   4.0      2.0       4.0  Chicago  60,521   \n",
       "1      NaN    NaN     NaN   4.0      2.0       4.0  Chicago  60,521   \n",
       "2      NaN    NaN     NaN   4.0      2.0       4.0  Chicago  60,521   \n",
       "3      NaN    NaN     NaN   4.0      2.0       4.0  Chicago  60,521   \n",
       "4      NaN    NaN     NaN   4.0      2.0       4.0  Chicago  60,521   \n",
       "\n",
       "      income  goal  date  go_out  career  career_c  sports  tvsports  \\\n",
       "0  69,487.00   2.0   7.0     1.0  lawyer       NaN     9.0       2.0   \n",
       "1  69,487.00   2.0   7.0     1.0  lawyer       NaN     9.0       2.0   \n",
       "2  69,487.00   2.0   7.0     1.0  lawyer       NaN     9.0       2.0   \n",
       "3  69,487.00   2.0   7.0     1.0  lawyer       NaN     9.0       2.0   \n",
       "4  69,487.00   2.0   7.0     1.0  lawyer       NaN     9.0       2.0   \n",
       "\n",
       "   exercise  dining  museums  art  hiking  gaming  clubbing  reading   tv  \\\n",
       "0       8.0     9.0      1.0  1.0     5.0     1.0       5.0      6.0  9.0   \n",
       "1       8.0     9.0      1.0  1.0     5.0     1.0       5.0      6.0  9.0   \n",
       "2       8.0     9.0      1.0  1.0     5.0     1.0       5.0      6.0  9.0   \n",
       "3       8.0     9.0      1.0  1.0     5.0     1.0       5.0      6.0  9.0   \n",
       "4       8.0     9.0      1.0  1.0     5.0     1.0       5.0      6.0  9.0   \n",
       "\n",
       "   theater  movies  concerts  music  shopping  yoga  exphappy  expnum  \\\n",
       "0      1.0    10.0      10.0    9.0       8.0   1.0       3.0     2.0   \n",
       "1      1.0    10.0      10.0    9.0       8.0   1.0       3.0     2.0   \n",
       "2      1.0    10.0      10.0    9.0       8.0   1.0       3.0     2.0   \n",
       "3      1.0    10.0      10.0    9.0       8.0   1.0       3.0     2.0   \n",
       "4      1.0    10.0      10.0    9.0       8.0   1.0       3.0     2.0   \n",
       "\n",
       "   attr1_1  sinc1_1  intel1_1  fun1_1  amb1_1  shar1_1  attr4_1  sinc4_1  \\\n",
       "0     15.0     20.0      20.0    15.0    15.0     15.0      NaN      NaN   \n",
       "1     15.0     20.0      20.0    15.0    15.0     15.0      NaN      NaN   \n",
       "2     15.0     20.0      20.0    15.0    15.0     15.0      NaN      NaN   \n",
       "3     15.0     20.0      20.0    15.0    15.0     15.0      NaN      NaN   \n",
       "4     15.0     20.0      20.0    15.0    15.0     15.0      NaN      NaN   \n",
       "\n",
       "   intel4_1  fun4_1  amb4_1  shar4_1  attr2_1  sinc2_1  intel2_1  fun2_1  \\\n",
       "0       NaN     NaN     NaN      NaN     35.0     20.0      15.0    20.0   \n",
       "1       NaN     NaN     NaN      NaN     35.0     20.0      15.0    20.0   \n",
       "2       NaN     NaN     NaN      NaN     35.0     20.0      15.0    20.0   \n",
       "3       NaN     NaN     NaN      NaN     35.0     20.0      15.0    20.0   \n",
       "4       NaN     NaN     NaN      NaN     35.0     20.0      15.0    20.0   \n",
       "\n",
       "   amb2_1  shar2_1  attr3_1  sinc3_1  fun3_1  intel3_1  amb3_1  attr5_1  \\\n",
       "0     5.0      5.0      6.0      8.0     8.0       8.0     7.0      NaN   \n",
       "1     5.0      5.0      6.0      8.0     8.0       8.0     7.0      NaN   \n",
       "2     5.0      5.0      6.0      8.0     8.0       8.0     7.0      NaN   \n",
       "3     5.0      5.0      6.0      8.0     8.0       8.0     7.0      NaN   \n",
       "4     5.0      5.0      6.0      8.0     8.0       8.0     7.0      NaN   \n",
       "\n",
       "   sinc5_1  intel5_1  fun5_1  amb5_1  dec  attr  sinc  intel  fun  amb  shar  \\\n",
       "0      NaN       NaN     NaN     NaN    1   6.0   9.0    7.0  7.0  6.0   5.0   \n",
       "1      NaN       NaN     NaN     NaN    1   7.0   8.0    7.0  8.0  5.0   6.0   \n",
       "2      NaN       NaN     NaN     NaN    1   5.0   8.0    9.0  8.0  5.0   7.0   \n",
       "3      NaN       NaN     NaN     NaN    1   7.0   6.0    8.0  7.0  6.0   8.0   \n",
       "4      NaN       NaN     NaN     NaN    1   5.0   6.0    7.0  7.0  6.0   6.0   \n",
       "\n",
       "   like  prob  met  match_es  attr1_s  sinc1_s  intel1_s  fun1_s  amb1_s  \\\n",
       "0   7.0   6.0  2.0       4.0      NaN      NaN       NaN     NaN     NaN   \n",
       "1   7.0   5.0  1.0       4.0      NaN      NaN       NaN     NaN     NaN   \n",
       "2   7.0   NaN  1.0       4.0      NaN      NaN       NaN     NaN     NaN   \n",
       "3   7.0   6.0  2.0       4.0      NaN      NaN       NaN     NaN     NaN   \n",
       "4   6.0   6.0  2.0       4.0      NaN      NaN       NaN     NaN     NaN   \n",
       "\n",
       "   shar1_s  attr3_s  sinc3_s  intel3_s  fun3_s  amb3_s  satis_2  length  \\\n",
       "0      NaN      NaN      NaN       NaN     NaN     NaN      6.0     2.0   \n",
       "1      NaN      NaN      NaN       NaN     NaN     NaN      6.0     2.0   \n",
       "2      NaN      NaN      NaN       NaN     NaN     NaN      6.0     2.0   \n",
       "3      NaN      NaN      NaN       NaN     NaN     NaN      6.0     2.0   \n",
       "4      NaN      NaN      NaN       NaN     NaN     NaN      6.0     2.0   \n",
       "\n",
       "   numdat_2  attr7_2  sinc7_2  intel7_2  fun7_2  amb7_2  shar7_2  attr1_2  \\\n",
       "0       1.0      NaN      NaN       NaN     NaN     NaN      NaN    19.44   \n",
       "1       1.0      NaN      NaN       NaN     NaN     NaN      NaN    19.44   \n",
       "2       1.0      NaN      NaN       NaN     NaN     NaN      NaN    19.44   \n",
       "3       1.0      NaN      NaN       NaN     NaN     NaN      NaN    19.44   \n",
       "4       1.0      NaN      NaN       NaN     NaN     NaN      NaN    19.44   \n",
       "\n",
       "   sinc1_2  intel1_2  fun1_2  amb1_2  shar1_2  attr4_2  sinc4_2  intel4_2  \\\n",
       "0    16.67     13.89   22.22   11.11    16.67      NaN      NaN       NaN   \n",
       "1    16.67     13.89   22.22   11.11    16.67      NaN      NaN       NaN   \n",
       "2    16.67     13.89   22.22   11.11    16.67      NaN      NaN       NaN   \n",
       "3    16.67     13.89   22.22   11.11    16.67      NaN      NaN       NaN   \n",
       "4    16.67     13.89   22.22   11.11    16.67      NaN      NaN       NaN   \n",
       "\n",
       "   fun4_2  amb4_2  shar4_2  attr2_2  sinc2_2  intel2_2  fun2_2  amb2_2  \\\n",
       "0     NaN     NaN      NaN      NaN      NaN       NaN     NaN     NaN   \n",
       "1     NaN     NaN      NaN      NaN      NaN       NaN     NaN     NaN   \n",
       "2     NaN     NaN      NaN      NaN      NaN       NaN     NaN     NaN   \n",
       "3     NaN     NaN      NaN      NaN      NaN       NaN     NaN     NaN   \n",
       "4     NaN     NaN      NaN      NaN      NaN       NaN     NaN     NaN   \n",
       "\n",
       "   shar2_2  attr3_2  sinc3_2  intel3_2  fun3_2  amb3_2  attr5_2  sinc5_2  \\\n",
       "0      NaN      6.0      7.0       8.0     7.0     6.0      NaN      NaN   \n",
       "1      NaN      6.0      7.0       8.0     7.0     6.0      NaN      NaN   \n",
       "2      NaN      6.0      7.0       8.0     7.0     6.0      NaN      NaN   \n",
       "3      NaN      6.0      7.0       8.0     7.0     6.0      NaN      NaN   \n",
       "4      NaN      6.0      7.0       8.0     7.0     6.0      NaN      NaN   \n",
       "\n",
       "   intel5_2  fun5_2  amb5_2  you_call  them_cal  date_3  numdat_3  num_in_3  \\\n",
       "0       NaN     NaN     NaN       1.0       1.0     0.0       NaN       NaN   \n",
       "1       NaN     NaN     NaN       1.0       1.0     0.0       NaN       NaN   \n",
       "2       NaN     NaN     NaN       1.0       1.0     0.0       NaN       NaN   \n",
       "3       NaN     NaN     NaN       1.0       1.0     0.0       NaN       NaN   \n",
       "4       NaN     NaN     NaN       1.0       1.0     0.0       NaN       NaN   \n",
       "\n",
       "   attr1_3  sinc1_3  intel1_3  fun1_3  amb1_3  shar1_3  attr7_3  sinc7_3  \\\n",
       "0     15.0     20.0      20.0    15.0    15.0     15.0      NaN      NaN   \n",
       "1     15.0     20.0      20.0    15.0    15.0     15.0      NaN      NaN   \n",
       "2     15.0     20.0      20.0    15.0    15.0     15.0      NaN      NaN   \n",
       "3     15.0     20.0      20.0    15.0    15.0     15.0      NaN      NaN   \n",
       "4     15.0     20.0      20.0    15.0    15.0     15.0      NaN      NaN   \n",
       "\n",
       "   intel7_3  fun7_3  amb7_3  shar7_3  attr4_3  sinc4_3  intel4_3  fun4_3  \\\n",
       "0       NaN     NaN     NaN      NaN      NaN      NaN       NaN     NaN   \n",
       "1       NaN     NaN     NaN      NaN      NaN      NaN       NaN     NaN   \n",
       "2       NaN     NaN     NaN      NaN      NaN      NaN       NaN     NaN   \n",
       "3       NaN     NaN     NaN      NaN      NaN      NaN       NaN     NaN   \n",
       "4       NaN     NaN     NaN      NaN      NaN      NaN       NaN     NaN   \n",
       "\n",
       "   amb4_3  shar4_3  attr2_3  sinc2_3  intel2_3  fun2_3  amb2_3  shar2_3  \\\n",
       "0     NaN      NaN      NaN      NaN       NaN     NaN     NaN      NaN   \n",
       "1     NaN      NaN      NaN      NaN       NaN     NaN     NaN      NaN   \n",
       "2     NaN      NaN      NaN      NaN       NaN     NaN     NaN      NaN   \n",
       "3     NaN      NaN      NaN      NaN       NaN     NaN     NaN      NaN   \n",
       "4     NaN      NaN      NaN      NaN       NaN     NaN     NaN      NaN   \n",
       "\n",
       "   attr3_3  sinc3_3  intel3_3  fun3_3  amb3_3  attr5_3  sinc5_3  intel5_3  \\\n",
       "0      5.0      7.0       7.0     7.0     7.0      NaN      NaN       NaN   \n",
       "1      5.0      7.0       7.0     7.0     7.0      NaN      NaN       NaN   \n",
       "2      5.0      7.0       7.0     7.0     7.0      NaN      NaN       NaN   \n",
       "3      5.0      7.0       7.0     7.0     7.0      NaN      NaN       NaN   \n",
       "4      5.0      7.0       7.0     7.0     7.0      NaN      NaN       NaN   \n",
       "\n",
       "   fun5_3  amb5_3  \n",
       "0     NaN     NaN  \n",
       "1     NaN     NaN  \n",
       "2     NaN     NaN  \n",
       "3     NaN     NaN  \n",
       "4     NaN     NaN  "
      ]
     },
     "execution_count": 55,
     "metadata": {},
     "output_type": "execute_result"
    }
   ],
   "source": [
    "df.head()"
   ]
  },
  {
   "cell_type": "code",
   "execution_count": 56,
   "metadata": {},
   "outputs": [
    {
     "data": {
      "text/plain": [
       "8378"
      ]
     },
     "execution_count": 56,
     "metadata": {},
     "output_type": "execute_result"
    }
   ],
   "source": [
    "len(df[\"income\"])"
   ]
  },
  {
   "cell_type": "code",
   "execution_count": 57,
   "metadata": {},
   "outputs": [
    {
     "data": {
      "text/plain": [
       "iid            0\n",
       "id             1\n",
       "gender         0\n",
       "idg            0\n",
       "condtn         0\n",
       "wave           0\n",
       "round          0\n",
       "position       0\n",
       "positin1    1846\n",
       "order          0\n",
       "partner        0\n",
       "pid           10\n",
       "match          0\n",
       "int_corr     158\n",
       "samerace       0\n",
       "age_o        104\n",
       "race_o        73\n",
       "pf_o_att      89\n",
       "pf_o_sin      89\n",
       "pf_o_int      89\n",
       "pf_o_fun      98\n",
       "pf_o_amb     107\n",
       "pf_o_sha     129\n",
       "dec_o          0\n",
       "attr_o       212\n",
       "sinc_o       287\n",
       "intel_o      306\n",
       "fun_o        360\n",
       "amb_o        722\n",
       "shar_o      1076\n",
       "like_o       250\n",
       "prob_o       318\n",
       "met_o        385\n",
       "age           95\n",
       "field         63\n",
       "field_cd      82\n",
       "undergra    3464\n",
       "mn_sat      5245\n",
       "tuition     4795\n",
       "race          63\n",
       "imprace       79\n",
       "imprelig      79\n",
       "from          79\n",
       "zipcode     1064\n",
       "income      4099\n",
       "goal          79\n",
       "date          97\n",
       "go_out        79\n",
       "career        89\n",
       "career_c     138\n",
       "sports        79\n",
       "tvsports      79\n",
       "exercise      79\n",
       "dining        79\n",
       "museums       79\n",
       "art           79\n",
       "hiking        79\n",
       "gaming        79\n",
       "clubbing      79\n",
       "reading       79\n",
       "tv            79\n",
       "theater       79\n",
       "movies        79\n",
       "concerts      79\n",
       "music         79\n",
       "shopping      79\n",
       "yoga          79\n",
       "exphappy     101\n",
       "expnum      6578\n",
       "attr1_1       79\n",
       "sinc1_1       79\n",
       "intel1_1      79\n",
       "fun1_1        89\n",
       "amb1_1        99\n",
       "shar1_1      121\n",
       "attr4_1     1889\n",
       "sinc4_1     1889\n",
       "intel4_1    1889\n",
       "fun4_1      1889\n",
       "amb4_1      1889\n",
       "shar4_1     1911\n",
       "attr2_1       79\n",
       "sinc2_1       79\n",
       "intel2_1      79\n",
       "fun2_1        79\n",
       "amb2_1        89\n",
       "shar2_1       89\n",
       "attr3_1      105\n",
       "sinc3_1      105\n",
       "fun3_1       105\n",
       "intel3_1     105\n",
       "amb3_1       105\n",
       "attr5_1     3472\n",
       "sinc5_1     3472\n",
       "intel5_1    3472\n",
       "fun5_1      3472\n",
       "amb5_1      3472\n",
       "dec            0\n",
       "attr         202\n",
       "sinc         277\n",
       "intel        296\n",
       "fun          350\n",
       "amb          712\n",
       "shar        1067\n",
       "like         240\n",
       "prob         309\n",
       "met          375\n",
       "match_es    1173\n",
       "attr1_s     4282\n",
       "sinc1_s     4282\n",
       "intel1_s    4282\n",
       "fun1_s      4282\n",
       "amb1_s      4282\n",
       "shar1_s     4282\n",
       "attr3_s     4378\n",
       "sinc3_s     4378\n",
       "intel3_s    4378\n",
       "fun3_s      4378\n",
       "amb3_s      4378\n",
       "satis_2      915\n",
       "length       915\n",
       "numdat_2     945\n",
       "attr7_2     6394\n",
       "sinc7_2     6423\n",
       "intel7_2    6394\n",
       "fun7_2      6394\n",
       "amb7_2      6423\n",
       "shar7_2     6404\n",
       "attr1_2      933\n",
       "sinc1_2      915\n",
       "intel1_2     915\n",
       "fun1_2       915\n",
       "amb1_2       915\n",
       "shar1_2      915\n",
       "attr4_2     2603\n",
       "sinc4_2     2603\n",
       "intel4_2    2603\n",
       "fun4_2      2603\n",
       "amb4_2      2603\n",
       "shar4_2     2603\n",
       "attr2_2     2603\n",
       "sinc2_2     2603\n",
       "intel2_2    2603\n",
       "fun2_2      2603\n",
       "amb2_2      2603\n",
       "shar2_2     2603\n",
       "attr3_2      915\n",
       "sinc3_2      915\n",
       "intel3_2     915\n",
       "fun3_2       915\n",
       "amb3_2       915\n",
       "attr5_2     4001\n",
       "sinc5_2     4001\n",
       "intel5_2    4001\n",
       "fun5_2      4001\n",
       "amb5_2      4001\n",
       "you_call    4404\n",
       "them_cal    4404\n",
       "date_3      4404\n",
       "numdat_3    6882\n",
       "num_in_3    7710\n",
       "attr1_3     4404\n",
       "sinc1_3     4404\n",
       "intel1_3    4404\n",
       "fun1_3      4404\n",
       "amb1_3      4404\n",
       "shar1_3     4404\n",
       "attr7_3     6362\n",
       "sinc7_3     6362\n",
       "intel7_3    6362\n",
       "fun7_3      6362\n",
       "amb7_3      6362\n",
       "shar7_3     6362\n",
       "attr4_3     5419\n",
       "sinc4_3     5419\n",
       "intel4_3    5419\n",
       "fun4_3      5419\n",
       "amb4_3      5419\n",
       "shar4_3     5419\n",
       "attr2_3     5419\n",
       "sinc2_3     5419\n",
       "intel2_3    5419\n",
       "fun2_3      5419\n",
       "amb2_3      5419\n",
       "shar2_3     6362\n",
       "attr3_3     4404\n",
       "sinc3_3     4404\n",
       "intel3_3    4404\n",
       "fun3_3      4404\n",
       "amb3_3      4404\n",
       "attr5_3     6362\n",
       "sinc5_3     6362\n",
       "intel5_3    6362\n",
       "fun5_3      6362\n",
       "amb5_3      6362\n",
       "dtype: int64"
      ]
     },
     "execution_count": 57,
     "metadata": {},
     "output_type": "execute_result"
    }
   ],
   "source": [
    "df.isnull().sum()"
   ]
  },
  {
   "cell_type": "code",
   "execution_count": 58,
   "metadata": {},
   "outputs": [],
   "source": [
    "df_income = df.dropna(subset=['income'])"
   ]
  },
  {
   "cell_type": "code",
   "execution_count": 59,
   "metadata": {},
   "outputs": [
    {
     "data": {
      "text/plain": [
       "4279"
      ]
     },
     "execution_count": 59,
     "metadata": {},
     "output_type": "execute_result"
    }
   ],
   "source": [
    "len(df_income)"
   ]
  },
  {
   "attachments": {},
   "cell_type": "markdown",
   "metadata": {},
   "source": [
    "Income:\n",
    "\n",
    "The authors of the experiment did not ask for income directly but inferred it from the zipcode of the area where the participant grew up. Therefore the income provided in the dataset for each person is in fact the median household income in the area where the person grew up (according to the US Census Bureau data at the time of the experiment).\n"
   ]
  },
  {
   "cell_type": "code",
   "execution_count": 60,
   "metadata": {},
   "outputs": [],
   "source": [
    "def cols_with_mixed_data_types(df):\n",
    "# function for determining if there are multiple data types in a pandas dataframe:\n",
    "    for column in df.columns:\n",
    "        if len(df[column].map(type).unique())>1:\n",
    "            print(f\"{column}: {df[column].map(type).unique()}\")\n"
   ]
  },
  {
   "cell_type": "code",
   "execution_count": 61,
   "metadata": {},
   "outputs": [
    {
     "name": "stdout",
     "output_type": "stream",
     "text": [
      "undergra: [<class 'float'> <class 'str'>]\n",
      "mn_sat: [<class 'float'> <class 'str'>]\n",
      "tuition: [<class 'float'> <class 'str'>]\n"
     ]
    }
   ],
   "source": [
    "cols_with_mixed_data_types(df_income)"
   ]
  },
  {
   "cell_type": "code",
   "execution_count": 62,
   "metadata": {},
   "outputs": [
    {
     "data": {
      "text/plain": [
       "0    69,487.00\n",
       "1    69,487.00\n",
       "2    69,487.00\n",
       "3    69,487.00\n",
       "4    69,487.00\n",
       "Name: income, dtype: object"
      ]
     },
     "execution_count": 62,
     "metadata": {},
     "output_type": "execute_result"
    }
   ],
   "source": [
    "df_income[\"income\"].head()"
   ]
  },
  {
   "cell_type": "code",
   "execution_count": 63,
   "metadata": {},
   "outputs": [],
   "source": [
    "df_income['income'] = df_income['income'].astype(str)\n"
   ]
  },
  {
   "cell_type": "code",
   "execution_count": 64,
   "metadata": {},
   "outputs": [
    {
     "name": "stdout",
     "output_type": "stream",
     "text": [
      "undergra: [<class 'float'> <class 'str'>]\n",
      "mn_sat: [<class 'float'> <class 'str'>]\n",
      "tuition: [<class 'float'> <class 'str'>]\n"
     ]
    }
   ],
   "source": [
    "cols_with_mixed_data_types(df_income)"
   ]
  },
  {
   "cell_type": "code",
   "execution_count": 65,
   "metadata": {},
   "outputs": [
    {
     "data": {
      "text/plain": [
       "iid           int64\n",
       "id          float64\n",
       "gender        int64\n",
       "idg           int64\n",
       "condtn        int64\n",
       "wave          int64\n",
       "round         int64\n",
       "position      int64\n",
       "positin1    float64\n",
       "order         int64\n",
       "partner       int64\n",
       "pid         float64\n",
       "match         int64\n",
       "int_corr    float64\n",
       "samerace      int64\n",
       "age_o       float64\n",
       "race_o      float64\n",
       "pf_o_att    float64\n",
       "pf_o_sin    float64\n",
       "pf_o_int    float64\n",
       "pf_o_fun    float64\n",
       "pf_o_amb    float64\n",
       "pf_o_sha    float64\n",
       "dec_o         int64\n",
       "attr_o      float64\n",
       "sinc_o      float64\n",
       "intel_o     float64\n",
       "fun_o       float64\n",
       "amb_o       float64\n",
       "shar_o      float64\n",
       "like_o      float64\n",
       "prob_o      float64\n",
       "met_o       float64\n",
       "age         float64\n",
       "field        object\n",
       "field_cd    float64\n",
       "undergra     object\n",
       "mn_sat       object\n",
       "tuition      object\n",
       "race        float64\n",
       "imprace     float64\n",
       "imprelig    float64\n",
       "from         object\n",
       "zipcode      object\n",
       "income       object\n",
       "goal        float64\n",
       "date        float64\n",
       "go_out      float64\n",
       "career       object\n",
       "career_c    float64\n",
       "sports      float64\n",
       "tvsports    float64\n",
       "exercise    float64\n",
       "dining      float64\n",
       "museums     float64\n",
       "art         float64\n",
       "hiking      float64\n",
       "gaming      float64\n",
       "clubbing    float64\n",
       "reading     float64\n",
       "tv          float64\n",
       "theater     float64\n",
       "movies      float64\n",
       "concerts    float64\n",
       "music       float64\n",
       "shopping    float64\n",
       "yoga        float64\n",
       "exphappy    float64\n",
       "expnum      float64\n",
       "attr1_1     float64\n",
       "sinc1_1     float64\n",
       "intel1_1    float64\n",
       "fun1_1      float64\n",
       "amb1_1      float64\n",
       "shar1_1     float64\n",
       "attr4_1     float64\n",
       "sinc4_1     float64\n",
       "intel4_1    float64\n",
       "fun4_1      float64\n",
       "amb4_1      float64\n",
       "shar4_1     float64\n",
       "attr2_1     float64\n",
       "sinc2_1     float64\n",
       "intel2_1    float64\n",
       "fun2_1      float64\n",
       "amb2_1      float64\n",
       "shar2_1     float64\n",
       "attr3_1     float64\n",
       "sinc3_1     float64\n",
       "fun3_1      float64\n",
       "intel3_1    float64\n",
       "amb3_1      float64\n",
       "attr5_1     float64\n",
       "sinc5_1     float64\n",
       "intel5_1    float64\n",
       "fun5_1      float64\n",
       "amb5_1      float64\n",
       "dec           int64\n",
       "attr        float64\n",
       "sinc        float64\n",
       "intel       float64\n",
       "fun         float64\n",
       "amb         float64\n",
       "shar        float64\n",
       "like        float64\n",
       "prob        float64\n",
       "met         float64\n",
       "match_es    float64\n",
       "attr1_s     float64\n",
       "sinc1_s     float64\n",
       "intel1_s    float64\n",
       "fun1_s      float64\n",
       "amb1_s      float64\n",
       "shar1_s     float64\n",
       "attr3_s     float64\n",
       "sinc3_s     float64\n",
       "intel3_s    float64\n",
       "fun3_s      float64\n",
       "amb3_s      float64\n",
       "satis_2     float64\n",
       "length      float64\n",
       "numdat_2    float64\n",
       "attr7_2     float64\n",
       "sinc7_2     float64\n",
       "intel7_2    float64\n",
       "fun7_2      float64\n",
       "amb7_2      float64\n",
       "shar7_2     float64\n",
       "attr1_2     float64\n",
       "sinc1_2     float64\n",
       "intel1_2    float64\n",
       "fun1_2      float64\n",
       "amb1_2      float64\n",
       "shar1_2     float64\n",
       "attr4_2     float64\n",
       "sinc4_2     float64\n",
       "intel4_2    float64\n",
       "fun4_2      float64\n",
       "amb4_2      float64\n",
       "shar4_2     float64\n",
       "attr2_2     float64\n",
       "sinc2_2     float64\n",
       "intel2_2    float64\n",
       "fun2_2      float64\n",
       "amb2_2      float64\n",
       "shar2_2     float64\n",
       "attr3_2     float64\n",
       "sinc3_2     float64\n",
       "intel3_2    float64\n",
       "fun3_2      float64\n",
       "amb3_2      float64\n",
       "attr5_2     float64\n",
       "sinc5_2     float64\n",
       "intel5_2    float64\n",
       "fun5_2      float64\n",
       "amb5_2      float64\n",
       "you_call    float64\n",
       "them_cal    float64\n",
       "date_3      float64\n",
       "numdat_3    float64\n",
       "num_in_3    float64\n",
       "attr1_3     float64\n",
       "sinc1_3     float64\n",
       "intel1_3    float64\n",
       "fun1_3      float64\n",
       "amb1_3      float64\n",
       "shar1_3     float64\n",
       "attr7_3     float64\n",
       "sinc7_3     float64\n",
       "intel7_3    float64\n",
       "fun7_3      float64\n",
       "amb7_3      float64\n",
       "shar7_3     float64\n",
       "attr4_3     float64\n",
       "sinc4_3     float64\n",
       "intel4_3    float64\n",
       "fun4_3      float64\n",
       "amb4_3      float64\n",
       "shar4_3     float64\n",
       "attr2_3     float64\n",
       "sinc2_3     float64\n",
       "intel2_3    float64\n",
       "fun2_3      float64\n",
       "amb2_3      float64\n",
       "shar2_3     float64\n",
       "attr3_3     float64\n",
       "sinc3_3     float64\n",
       "intel3_3    float64\n",
       "fun3_3      float64\n",
       "amb3_3      float64\n",
       "attr5_3     float64\n",
       "sinc5_3     float64\n",
       "intel5_3    float64\n",
       "fun5_3      float64\n",
       "amb5_3      float64\n",
       "dtype: object"
      ]
     },
     "execution_count": 65,
     "metadata": {},
     "output_type": "execute_result"
    }
   ],
   "source": [
    "df_income.dtypes"
   ]
  },
  {
   "cell_type": "code",
   "execution_count": 66,
   "metadata": {},
   "outputs": [
    {
     "data": {
      "text/plain": [
       "0    69,487.00\n",
       "1    69,487.00\n",
       "2    69,487.00\n",
       "3    69,487.00\n",
       "4    69,487.00\n",
       "Name: income, dtype: object"
      ]
     },
     "execution_count": 66,
     "metadata": {},
     "output_type": "execute_result"
    }
   ],
   "source": [
    "df_income['income'].head()"
   ]
  },
  {
   "cell_type": "code",
   "execution_count": 67,
   "metadata": {},
   "outputs": [],
   "source": [
    "df_income['income'] = df_income['income'].apply(lambda x: x.split(\".\")[0])"
   ]
  },
  {
   "cell_type": "code",
   "execution_count": 68,
   "metadata": {},
   "outputs": [
    {
     "data": {
      "text/plain": [
       "0    69,487\n",
       "1    69,487\n",
       "2    69,487\n",
       "3    69,487\n",
       "4    69,487\n",
       "Name: income, dtype: object"
      ]
     },
     "execution_count": 68,
     "metadata": {},
     "output_type": "execute_result"
    }
   ],
   "source": [
    "df_income['income'].head()"
   ]
  },
  {
   "cell_type": "code",
   "execution_count": 69,
   "metadata": {},
   "outputs": [],
   "source": [
    "df_income['income'] = df_income['income'].apply((lambda x: x.replace(\",\", \"\").split(\".\")[0]))"
   ]
  },
  {
   "cell_type": "code",
   "execution_count": 70,
   "metadata": {},
   "outputs": [
    {
     "data": {
      "text/plain": [
       "0    69487\n",
       "1    69487\n",
       "2    69487\n",
       "3    69487\n",
       "4    69487\n",
       "Name: income, dtype: object"
      ]
     },
     "execution_count": 70,
     "metadata": {},
     "output_type": "execute_result"
    }
   ],
   "source": [
    "df_income['income'].head()"
   ]
  },
  {
   "cell_type": "code",
   "execution_count": 71,
   "metadata": {},
   "outputs": [],
   "source": [
    "df_income['income'] = df_income['income'].astype(float)"
   ]
  },
  {
   "cell_type": "code",
   "execution_count": 72,
   "metadata": {},
   "outputs": [
    {
     "data": {
      "text/plain": [
       "0    69487.0\n",
       "1    69487.0\n",
       "2    69487.0\n",
       "3    69487.0\n",
       "4    69487.0\n",
       "Name: income, dtype: float64"
      ]
     },
     "execution_count": 72,
     "metadata": {},
     "output_type": "execute_result"
    }
   ],
   "source": [
    "df_income['income'].head()"
   ]
  },
  {
   "cell_type": "code",
   "execution_count": 73,
   "metadata": {},
   "outputs": [],
   "source": [
    "df_income_iid = df_income.groupby(\"iid\").mean(numeric_only=True).reset_index(drop=False)"
   ]
  },
  {
   "cell_type": "code",
   "execution_count": 74,
   "metadata": {},
   "outputs": [
    {
     "name": "stdout",
     "output_type": "stream",
     "text": [
      "8607.0\n"
     ]
    }
   ],
   "source": [
    "print(min(df_income_iid[\"income\"]))"
   ]
  },
  {
   "cell_type": "code",
   "execution_count": 75,
   "metadata": {},
   "outputs": [
    {
     "data": {
      "text/plain": [
       "281"
      ]
     },
     "execution_count": 75,
     "metadata": {},
     "output_type": "execute_result"
    }
   ],
   "source": [
    "len(df_income_iid)"
   ]
  },
  {
   "cell_type": "code",
   "execution_count": 76,
   "metadata": {},
   "outputs": [
    {
     "data": {
      "text/plain": [
       "8607.0      1\n",
       "12063.0     1\n",
       "12416.0     1\n",
       "15863.0     1\n",
       "16767.0     2\n",
       "16908.0     1\n",
       "17134.0     1\n",
       "17378.0     1\n",
       "18283.0     1\n",
       "18619.0     1\n",
       "19264.0     1\n",
       "20000.0     1\n",
       "21488.0     1\n",
       "21590.0     1\n",
       "21597.0     1\n",
       "22161.0     1\n",
       "22173.0     1\n",
       "22439.0     1\n",
       "22669.0     1\n",
       "22805.0     1\n",
       "23152.0     1\n",
       "23207.0     1\n",
       "23361.0     1\n",
       "23707.0     1\n",
       "23988.0     1\n",
       "24997.0     1\n",
       "25314.0     1\n",
       "25401.0     2\n",
       "25589.0     1\n",
       "25786.0     1\n",
       "25831.0     1\n",
       "26298.0     1\n",
       "26482.0     1\n",
       "26645.0     1\n",
       "26682.0     1\n",
       "26706.0     1\n",
       "27094.0     1\n",
       "27248.0     1\n",
       "27503.0     1\n",
       "27794.0     1\n",
       "28240.0     1\n",
       "28317.0     1\n",
       "28418.0     1\n",
       "28524.0     1\n",
       "28759.0     1\n",
       "28891.0     1\n",
       "28989.0     1\n",
       "29236.0     1\n",
       "29237.0     1\n",
       "29279.0     1\n",
       "29575.0     1\n",
       "29746.0     1\n",
       "29809.0     1\n",
       "30038.0     2\n",
       "30146.0     1\n",
       "30147.0     1\n",
       "30587.0     1\n",
       "30768.0     1\n",
       "30855.0     1\n",
       "30973.0     1\n",
       "31143.0     1\n",
       "31148.0     1\n",
       "31383.0     1\n",
       "31432.0     1\n",
       "31486.0     1\n",
       "31516.0     1\n",
       "31560.0     1\n",
       "31632.0     1\n",
       "31809.0     1\n",
       "31857.0     1\n",
       "32129.0     1\n",
       "32159.0     1\n",
       "32386.0     1\n",
       "32508.0     1\n",
       "32563.0     1\n",
       "32649.0     1\n",
       "33772.0     3\n",
       "33906.0     1\n",
       "34752.0     1\n",
       "34870.0     1\n",
       "35187.0     1\n",
       "35224.0     1\n",
       "35409.0     1\n",
       "35627.0     1\n",
       "35848.0     1\n",
       "35867.0     1\n",
       "35960.0     1\n",
       "35963.0     1\n",
       "35968.0     1\n",
       "36223.0     1\n",
       "36381.0     1\n",
       "36485.0     1\n",
       "36510.0     1\n",
       "36594.0     1\n",
       "36673.0     1\n",
       "36782.0     1\n",
       "37240.0     1\n",
       "37248.0     1\n",
       "37315.0     1\n",
       "37405.0     1\n",
       "37754.0     1\n",
       "37881.0     1\n",
       "37994.0     1\n",
       "38022.0     1\n",
       "38207.0     1\n",
       "38548.0     1\n",
       "38774.0     1\n",
       "38832.0     1\n",
       "39123.0     1\n",
       "39394.0     1\n",
       "39729.0     1\n",
       "39919.0     1\n",
       "40163.0     1\n",
       "40244.0     1\n",
       "40375.0     1\n",
       "40409.0     1\n",
       "40695.0     1\n",
       "40749.0     1\n",
       "40753.0     1\n",
       "41191.0     1\n",
       "41466.0     1\n",
       "41476.0     1\n",
       "41507.0     1\n",
       "41547.0     1\n",
       "41737.0     1\n",
       "41778.0     1\n",
       "41831.0     1\n",
       "42096.0     1\n",
       "42225.0     1\n",
       "42390.0     1\n",
       "42397.0     1\n",
       "42640.0     1\n",
       "42651.0     1\n",
       "42897.0     1\n",
       "42967.0     1\n",
       "43185.0     1\n",
       "43367.0     1\n",
       "43636.0     1\n",
       "43664.0     1\n",
       "43844.0     1\n",
       "44195.0     1\n",
       "44346.0     1\n",
       "45017.0     1\n",
       "45300.0     1\n",
       "45360.0     1\n",
       "45695.0     1\n",
       "45736.0     1\n",
       "45788.0     1\n",
       "46138.0     1\n",
       "46153.0     1\n",
       "46166.0     1\n",
       "46185.0     1\n",
       "46272.0     1\n",
       "46280.0     1\n",
       "46608.0     1\n",
       "46792.0     1\n",
       "46800.0     1\n",
       "46837.0     1\n",
       "47005.0     1\n",
       "47556.0     1\n",
       "47559.0     1\n",
       "47572.0     1\n",
       "47624.0     1\n",
       "47997.0     1\n",
       "48137.0     1\n",
       "48441.0     1\n",
       "48652.0     1\n",
       "48785.0     1\n",
       "48876.0     1\n",
       "48929.0     1\n",
       "48944.0     1\n",
       "49409.0     2\n",
       "49466.0     1\n",
       "49642.0     1\n",
       "49841.0     1\n",
       "50060.0     1\n",
       "50501.0     1\n",
       "50572.0     1\n",
       "50725.0     1\n",
       "50745.0     1\n",
       "50948.0     1\n",
       "51663.0     1\n",
       "51725.0     1\n",
       "52010.0     2\n",
       "52186.0     1\n",
       "52280.0     1\n",
       "52318.0     1\n",
       "52388.0     1\n",
       "52467.0     1\n",
       "52586.0     1\n",
       "52804.0     1\n",
       "52805.0     1\n",
       "53196.0     1\n",
       "53229.0     2\n",
       "53501.0     1\n",
       "53539.0     1\n",
       "53771.0     1\n",
       "53923.0     1\n",
       "53940.0     1\n",
       "54303.0     1\n",
       "54620.0     1\n",
       "55080.0     8\n",
       "55138.0     1\n",
       "55223.0     1\n",
       "55419.0     1\n",
       "55550.0     1\n",
       "55704.0     1\n",
       "56056.0     1\n",
       "56096.0     1\n",
       "56118.0     1\n",
       "56580.0     1\n",
       "57213.0     1\n",
       "57316.0     1\n",
       "57501.0     1\n",
       "57513.0     1\n",
       "57887.0     1\n",
       "58802.0     2\n",
       "60000.0     1\n",
       "60304.0     1\n",
       "60835.0     1\n",
       "61141.0     1\n",
       "61152.0     1\n",
       "61686.0     1\n",
       "62635.0     1\n",
       "62829.0     1\n",
       "62844.0     1\n",
       "62875.0     1\n",
       "62997.0     1\n",
       "63351.0     1\n",
       "64716.0     1\n",
       "65498.0     1\n",
       "65693.0     1\n",
       "65708.0     1\n",
       "65929.0     1\n",
       "66699.0     1\n",
       "66827.0     1\n",
       "69487.0     2\n",
       "71787.0     1\n",
       "72412.0     1\n",
       "73073.0     1\n",
       "74624.0     1\n",
       "74893.0     1\n",
       "75347.0     1\n",
       "76624.0     1\n",
       "77112.0     1\n",
       "78193.0     1\n",
       "78704.0     3\n",
       "78844.0     1\n",
       "80006.0     2\n",
       "80608.0     1\n",
       "81266.0     1\n",
       "82734.0     1\n",
       "84043.0     1\n",
       "86340.0     1\n",
       "87789.0     1\n",
       "89977.0     1\n",
       "90225.0     1\n",
       "97857.0     1\n",
       "97972.0     1\n",
       "106663.0    1\n",
       "109031.0    1\n",
       "Name: income, dtype: int64"
      ]
     },
     "execution_count": 76,
     "metadata": {},
     "output_type": "execute_result"
    }
   ],
   "source": [
    "df_income_iid[\"income\"].value_counts().sort_index()"
   ]
  },
  {
   "cell_type": "code",
   "execution_count": 77,
   "metadata": {},
   "outputs": [
    {
     "name": "stdout",
     "output_type": "stream",
     "text": [
      "Minimum recorded income: 8607.0\n",
      "Maximum recorded income: 109031.0\n"
     ]
    }
   ],
   "source": [
    "print(f\"Minimum recorded income: {min(df_income_iid['income'])}\")\n",
    "print(f\"Maximum recorded income: {max(df_income_iid['income'])}\")"
   ]
  },
  {
   "cell_type": "code",
   "execution_count": 78,
   "metadata": {},
   "outputs": [
    {
     "data": {
      "text/plain": [
       "Index(['iid', 'id', 'gender', 'idg', 'condtn', 'wave', 'round', 'position',\n",
       "       'positin1', 'order', 'partner', 'pid', 'match', 'int_corr', 'samerace',\n",
       "       'age_o', 'race_o', 'pf_o_att', 'pf_o_sin', 'pf_o_int', 'pf_o_fun',\n",
       "       'pf_o_amb', 'pf_o_sha', 'dec_o', 'attr_o', 'sinc_o', 'intel_o', 'fun_o',\n",
       "       'amb_o', 'shar_o', 'like_o', 'prob_o', 'met_o', 'age', 'field_cd',\n",
       "       'race', 'imprace', 'imprelig', 'income', 'goal', 'date', 'go_out',\n",
       "       'career_c', 'sports', 'tvsports', 'exercise', 'dining', 'museums',\n",
       "       'art', 'hiking', 'gaming', 'clubbing', 'reading', 'tv', 'theater',\n",
       "       'movies', 'concerts', 'music', 'shopping', 'yoga', 'exphappy', 'expnum',\n",
       "       'attr1_1', 'sinc1_1', 'intel1_1', 'fun1_1', 'amb1_1', 'shar1_1',\n",
       "       'attr4_1', 'sinc4_1', 'intel4_1', 'fun4_1', 'amb4_1', 'shar4_1',\n",
       "       'attr2_1', 'sinc2_1', 'intel2_1', 'fun2_1', 'amb2_1', 'shar2_1',\n",
       "       'attr3_1', 'sinc3_1', 'fun3_1', 'intel3_1', 'amb3_1', 'attr5_1',\n",
       "       'sinc5_1', 'intel5_1', 'fun5_1', 'amb5_1', 'dec', 'attr', 'sinc',\n",
       "       'intel', 'fun', 'amb', 'shar', 'like', 'prob', 'met', 'match_es',\n",
       "       'attr1_s', 'sinc1_s', 'intel1_s', 'fun1_s', 'amb1_s', 'shar1_s',\n",
       "       'attr3_s', 'sinc3_s', 'intel3_s', 'fun3_s', 'amb3_s', 'satis_2',\n",
       "       'length', 'numdat_2', 'attr7_2', 'sinc7_2', 'intel7_2', 'fun7_2',\n",
       "       'amb7_2', 'shar7_2', 'attr1_2', 'sinc1_2', 'intel1_2', 'fun1_2',\n",
       "       'amb1_2', 'shar1_2', 'attr4_2', 'sinc4_2', 'intel4_2', 'fun4_2',\n",
       "       'amb4_2', 'shar4_2', 'attr2_2', 'sinc2_2', 'intel2_2', 'fun2_2',\n",
       "       'amb2_2', 'shar2_2', 'attr3_2', 'sinc3_2', 'intel3_2', 'fun3_2',\n",
       "       'amb3_2', 'attr5_2', 'sinc5_2', 'intel5_2', 'fun5_2', 'amb5_2',\n",
       "       'you_call', 'them_cal', 'date_3', 'numdat_3', 'num_in_3', 'attr1_3',\n",
       "       'sinc1_3', 'intel1_3', 'fun1_3', 'amb1_3', 'shar1_3', 'attr7_3',\n",
       "       'sinc7_3', 'intel7_3', 'fun7_3', 'amb7_3', 'shar7_3', 'attr4_3',\n",
       "       'sinc4_3', 'intel4_3', 'fun4_3', 'amb4_3', 'shar4_3', 'attr2_3',\n",
       "       'sinc2_3', 'intel2_3', 'fun2_3', 'amb2_3', 'shar2_3', 'attr3_3',\n",
       "       'sinc3_3', 'intel3_3', 'fun3_3', 'amb3_3', 'attr5_3', 'sinc5_3',\n",
       "       'intel5_3', 'fun5_3', 'amb5_3'],\n",
       "      dtype='object')"
      ]
     },
     "execution_count": 78,
     "metadata": {},
     "output_type": "execute_result"
    }
   ],
   "source": [
    "df_income_iid.columns"
   ]
  },
  {
   "cell_type": "code",
   "execution_count": 79,
   "metadata": {},
   "outputs": [
    {
     "data": {
      "text/html": [
       "<div>\n",
       "<style scoped>\n",
       "    .dataframe tbody tr th:only-of-type {\n",
       "        vertical-align: middle;\n",
       "    }\n",
       "\n",
       "    .dataframe tbody tr th {\n",
       "        vertical-align: top;\n",
       "    }\n",
       "\n",
       "    .dataframe thead th {\n",
       "        text-align: right;\n",
       "    }\n",
       "</style>\n",
       "<table border=\"1\" class=\"dataframe\">\n",
       "  <thead>\n",
       "    <tr style=\"text-align: right;\">\n",
       "      <th></th>\n",
       "      <th>iid</th>\n",
       "      <th>gender</th>\n",
       "      <th>gender_name</th>\n",
       "      <th>income</th>\n",
       "    </tr>\n",
       "  </thead>\n",
       "  <tbody>\n",
       "    <tr>\n",
       "      <th>0</th>\n",
       "      <td>1</td>\n",
       "      <td>0.0</td>\n",
       "      <td>Female</td>\n",
       "      <td>69487.0</td>\n",
       "    </tr>\n",
       "    <tr>\n",
       "      <th>1</th>\n",
       "      <td>2</td>\n",
       "      <td>0.0</td>\n",
       "      <td>Female</td>\n",
       "      <td>65929.0</td>\n",
       "    </tr>\n",
       "    <tr>\n",
       "      <th>2</th>\n",
       "      <td>4</td>\n",
       "      <td>0.0</td>\n",
       "      <td>Female</td>\n",
       "      <td>37754.0</td>\n",
       "    </tr>\n",
       "    <tr>\n",
       "      <th>3</th>\n",
       "      <td>5</td>\n",
       "      <td>0.0</td>\n",
       "      <td>Female</td>\n",
       "      <td>86340.0</td>\n",
       "    </tr>\n",
       "    <tr>\n",
       "      <th>4</th>\n",
       "      <td>6</td>\n",
       "      <td>0.0</td>\n",
       "      <td>Female</td>\n",
       "      <td>60304.0</td>\n",
       "    </tr>\n",
       "  </tbody>\n",
       "</table>\n",
       "</div>"
      ],
      "text/plain": [
       "   iid  gender gender_name   income\n",
       "0    1     0.0      Female  69487.0\n",
       "1    2     0.0      Female  65929.0\n",
       "2    4     0.0      Female  37754.0\n",
       "3    5     0.0      Female  86340.0\n",
       "4    6     0.0      Female  60304.0"
      ]
     },
     "execution_count": 79,
     "metadata": {},
     "output_type": "execute_result"
    }
   ],
   "source": [
    "df_income_iid[\"gender_name\"] = df_income_iid['gender'].apply(lambda x: \"Male\" if x==1 else \"Female\")\n",
    "df_income_iid[['iid', 'gender', 'gender_name', 'income']].head()"
   ]
  },
  {
   "attachments": {},
   "cell_type": "markdown",
   "metadata": {},
   "source": [
    "In order to analyze the income of the participants, we'll create a column where "
   ]
  },
  {
   "cell_type": "code",
   "execution_count": 81,
   "metadata": {},
   "outputs": [],
   "source": [
    "df_income_iid['income_category'] = df_income_iid[\"income\"].apply(lambda x: \"Less than 10 000\" if x<10000\n",
    "                                                    else \"10 000 to 15 000\" if x>=10000 and x<15000\n",
    "                                                    else \"15 000 to 20 000\" if x>=15000 and x<20000\n",
    "                                                    else \"20 000 to 25 000\" if x>=20000 and x<25000\n",
    "                                                    else \"25 000 to 30 000\" if x>=25000 and x<30000\n",
    "                                                    else \"30 000 to 35 000\" if x>=30000 and x<35000\n",
    "                                                    else \"35 000 to 40 000\" if x>=35000 and x<40000\n",
    "                                                    else \"40 000 to 45 000\" if x>=40000 and x<45000\n",
    "                                                    else \"45 000 to 50 000\" if x>=45000 and x<50000\n",
    "                                                    else \"50 000 to 55 000\" if x>=50000 and x<55000\n",
    "                                                    else \"55 000 to 60 000\" if x>=55000 and x<60000\n",
    "                                                    else \"60 000 to 65 000\" if x>=60000 and x<65000\n",
    "                                                    else \"65 000 to 70 000\" if x>=65000 and x<70000\n",
    "                                                    else \"70 000 to 75 000\" if x>=70000 and x<75000\n",
    "                                                    else \"75 000 to 80 000\" if x>=75000 and x<80000\n",
    "                                                    else \"80 000 to 85 000\" if x>=80000 and x<85000\n",
    "                                                    else \"85 000 to 90 000\" if x>=85000 and x<90000\n",
    "                                                    else \"90 000 to 95 000\" if x>=90000 and x<95000\n",
    "                                                    else \"95 000 to 100 000\" if x>=95000 and x<10000\n",
    "                                                    else \"More than 100 000\")"
   ]
  },
  {
   "cell_type": "code",
   "execution_count": 82,
   "metadata": {},
   "outputs": [
    {
     "data": {
      "text/html": [
       "<div>\n",
       "<style scoped>\n",
       "    .dataframe tbody tr th:only-of-type {\n",
       "        vertical-align: middle;\n",
       "    }\n",
       "\n",
       "    .dataframe tbody tr th {\n",
       "        vertical-align: top;\n",
       "    }\n",
       "\n",
       "    .dataframe thead th {\n",
       "        text-align: right;\n",
       "    }\n",
       "</style>\n",
       "<table border=\"1\" class=\"dataframe\">\n",
       "  <thead>\n",
       "    <tr style=\"text-align: right;\">\n",
       "      <th></th>\n",
       "      <th>iid</th>\n",
       "      <th>id</th>\n",
       "      <th>gender</th>\n",
       "      <th>idg</th>\n",
       "      <th>condtn</th>\n",
       "      <th>wave</th>\n",
       "      <th>round</th>\n",
       "      <th>position</th>\n",
       "      <th>positin1</th>\n",
       "      <th>order</th>\n",
       "      <th>partner</th>\n",
       "      <th>pid</th>\n",
       "      <th>match</th>\n",
       "      <th>int_corr</th>\n",
       "      <th>samerace</th>\n",
       "      <th>age_o</th>\n",
       "      <th>race_o</th>\n",
       "      <th>pf_o_att</th>\n",
       "      <th>pf_o_sin</th>\n",
       "      <th>pf_o_int</th>\n",
       "      <th>pf_o_fun</th>\n",
       "      <th>pf_o_amb</th>\n",
       "      <th>pf_o_sha</th>\n",
       "      <th>dec_o</th>\n",
       "      <th>attr_o</th>\n",
       "      <th>sinc_o</th>\n",
       "      <th>intel_o</th>\n",
       "      <th>fun_o</th>\n",
       "      <th>amb_o</th>\n",
       "      <th>shar_o</th>\n",
       "      <th>like_o</th>\n",
       "      <th>prob_o</th>\n",
       "      <th>met_o</th>\n",
       "      <th>age</th>\n",
       "      <th>field_cd</th>\n",
       "      <th>race</th>\n",
       "      <th>imprace</th>\n",
       "      <th>imprelig</th>\n",
       "      <th>income</th>\n",
       "      <th>goal</th>\n",
       "      <th>date</th>\n",
       "      <th>go_out</th>\n",
       "      <th>career_c</th>\n",
       "      <th>sports</th>\n",
       "      <th>tvsports</th>\n",
       "      <th>exercise</th>\n",
       "      <th>dining</th>\n",
       "      <th>museums</th>\n",
       "      <th>art</th>\n",
       "      <th>hiking</th>\n",
       "      <th>gaming</th>\n",
       "      <th>clubbing</th>\n",
       "      <th>reading</th>\n",
       "      <th>tv</th>\n",
       "      <th>theater</th>\n",
       "      <th>movies</th>\n",
       "      <th>concerts</th>\n",
       "      <th>music</th>\n",
       "      <th>shopping</th>\n",
       "      <th>yoga</th>\n",
       "      <th>exphappy</th>\n",
       "      <th>expnum</th>\n",
       "      <th>attr1_1</th>\n",
       "      <th>sinc1_1</th>\n",
       "      <th>intel1_1</th>\n",
       "      <th>fun1_1</th>\n",
       "      <th>amb1_1</th>\n",
       "      <th>shar1_1</th>\n",
       "      <th>attr4_1</th>\n",
       "      <th>sinc4_1</th>\n",
       "      <th>intel4_1</th>\n",
       "      <th>fun4_1</th>\n",
       "      <th>amb4_1</th>\n",
       "      <th>shar4_1</th>\n",
       "      <th>attr2_1</th>\n",
       "      <th>sinc2_1</th>\n",
       "      <th>intel2_1</th>\n",
       "      <th>fun2_1</th>\n",
       "      <th>amb2_1</th>\n",
       "      <th>shar2_1</th>\n",
       "      <th>attr3_1</th>\n",
       "      <th>sinc3_1</th>\n",
       "      <th>fun3_1</th>\n",
       "      <th>intel3_1</th>\n",
       "      <th>amb3_1</th>\n",
       "      <th>attr5_1</th>\n",
       "      <th>sinc5_1</th>\n",
       "      <th>intel5_1</th>\n",
       "      <th>fun5_1</th>\n",
       "      <th>amb5_1</th>\n",
       "      <th>dec</th>\n",
       "      <th>attr</th>\n",
       "      <th>sinc</th>\n",
       "      <th>intel</th>\n",
       "      <th>fun</th>\n",
       "      <th>amb</th>\n",
       "      <th>shar</th>\n",
       "      <th>like</th>\n",
       "      <th>prob</th>\n",
       "      <th>met</th>\n",
       "      <th>match_es</th>\n",
       "      <th>attr1_s</th>\n",
       "      <th>sinc1_s</th>\n",
       "      <th>intel1_s</th>\n",
       "      <th>fun1_s</th>\n",
       "      <th>amb1_s</th>\n",
       "      <th>shar1_s</th>\n",
       "      <th>attr3_s</th>\n",
       "      <th>sinc3_s</th>\n",
       "      <th>intel3_s</th>\n",
       "      <th>fun3_s</th>\n",
       "      <th>amb3_s</th>\n",
       "      <th>satis_2</th>\n",
       "      <th>length</th>\n",
       "      <th>numdat_2</th>\n",
       "      <th>attr7_2</th>\n",
       "      <th>sinc7_2</th>\n",
       "      <th>intel7_2</th>\n",
       "      <th>fun7_2</th>\n",
       "      <th>amb7_2</th>\n",
       "      <th>shar7_2</th>\n",
       "      <th>attr1_2</th>\n",
       "      <th>sinc1_2</th>\n",
       "      <th>intel1_2</th>\n",
       "      <th>fun1_2</th>\n",
       "      <th>amb1_2</th>\n",
       "      <th>shar1_2</th>\n",
       "      <th>attr4_2</th>\n",
       "      <th>sinc4_2</th>\n",
       "      <th>intel4_2</th>\n",
       "      <th>fun4_2</th>\n",
       "      <th>amb4_2</th>\n",
       "      <th>shar4_2</th>\n",
       "      <th>attr2_2</th>\n",
       "      <th>sinc2_2</th>\n",
       "      <th>intel2_2</th>\n",
       "      <th>fun2_2</th>\n",
       "      <th>amb2_2</th>\n",
       "      <th>shar2_2</th>\n",
       "      <th>attr3_2</th>\n",
       "      <th>sinc3_2</th>\n",
       "      <th>intel3_2</th>\n",
       "      <th>fun3_2</th>\n",
       "      <th>amb3_2</th>\n",
       "      <th>attr5_2</th>\n",
       "      <th>sinc5_2</th>\n",
       "      <th>intel5_2</th>\n",
       "      <th>fun5_2</th>\n",
       "      <th>amb5_2</th>\n",
       "      <th>you_call</th>\n",
       "      <th>them_cal</th>\n",
       "      <th>date_3</th>\n",
       "      <th>numdat_3</th>\n",
       "      <th>num_in_3</th>\n",
       "      <th>attr1_3</th>\n",
       "      <th>sinc1_3</th>\n",
       "      <th>intel1_3</th>\n",
       "      <th>fun1_3</th>\n",
       "      <th>amb1_3</th>\n",
       "      <th>shar1_3</th>\n",
       "      <th>attr7_3</th>\n",
       "      <th>sinc7_3</th>\n",
       "      <th>intel7_3</th>\n",
       "      <th>fun7_3</th>\n",
       "      <th>amb7_3</th>\n",
       "      <th>shar7_3</th>\n",
       "      <th>attr4_3</th>\n",
       "      <th>sinc4_3</th>\n",
       "      <th>intel4_3</th>\n",
       "      <th>fun4_3</th>\n",
       "      <th>amb4_3</th>\n",
       "      <th>shar4_3</th>\n",
       "      <th>attr2_3</th>\n",
       "      <th>sinc2_3</th>\n",
       "      <th>intel2_3</th>\n",
       "      <th>fun2_3</th>\n",
       "      <th>amb2_3</th>\n",
       "      <th>shar2_3</th>\n",
       "      <th>attr3_3</th>\n",
       "      <th>sinc3_3</th>\n",
       "      <th>intel3_3</th>\n",
       "      <th>fun3_3</th>\n",
       "      <th>amb3_3</th>\n",
       "      <th>attr5_3</th>\n",
       "      <th>sinc5_3</th>\n",
       "      <th>intel5_3</th>\n",
       "      <th>fun5_3</th>\n",
       "      <th>amb5_3</th>\n",
       "      <th>gender_name</th>\n",
       "      <th>income_category</th>\n",
       "    </tr>\n",
       "  </thead>\n",
       "  <tbody>\n",
       "    <tr>\n",
       "      <th>0</th>\n",
       "      <td>1</td>\n",
       "      <td>1.0</td>\n",
       "      <td>0.0</td>\n",
       "      <td>1.0</td>\n",
       "      <td>1.0</td>\n",
       "      <td>1.0</td>\n",
       "      <td>10.0</td>\n",
       "      <td>7.0</td>\n",
       "      <td>NaN</td>\n",
       "      <td>5.5</td>\n",
       "      <td>5.5</td>\n",
       "      <td>15.5</td>\n",
       "      <td>0.4</td>\n",
       "      <td>0.267</td>\n",
       "      <td>0.1</td>\n",
       "      <td>25.2</td>\n",
       "      <td>2.3</td>\n",
       "      <td>44.233</td>\n",
       "      <td>7.911</td>\n",
       "      <td>16.511</td>\n",
       "      <td>16.911</td>\n",
       "      <td>4.511</td>\n",
       "      <td>9.922</td>\n",
       "      <td>0.5</td>\n",
       "      <td>6.7</td>\n",
       "      <td>7.4</td>\n",
       "      <td>8.0</td>\n",
       "      <td>7.2</td>\n",
       "      <td>8.0</td>\n",
       "      <td>7.1</td>\n",
       "      <td>6.85</td>\n",
       "      <td>5.7</td>\n",
       "      <td>1.900000</td>\n",
       "      <td>21.0</td>\n",
       "      <td>1.0</td>\n",
       "      <td>4.0</td>\n",
       "      <td>2.0</td>\n",
       "      <td>4.0</td>\n",
       "      <td>69487.0</td>\n",
       "      <td>2.0</td>\n",
       "      <td>7.0</td>\n",
       "      <td>1.0</td>\n",
       "      <td>NaN</td>\n",
       "      <td>9.0</td>\n",
       "      <td>2.0</td>\n",
       "      <td>8.0</td>\n",
       "      <td>9.0</td>\n",
       "      <td>1.0</td>\n",
       "      <td>1.0</td>\n",
       "      <td>5.0</td>\n",
       "      <td>1.0</td>\n",
       "      <td>5.0</td>\n",
       "      <td>6.0</td>\n",
       "      <td>9.0</td>\n",
       "      <td>1.0</td>\n",
       "      <td>10.0</td>\n",
       "      <td>10.0</td>\n",
       "      <td>9.0</td>\n",
       "      <td>8.0</td>\n",
       "      <td>1.0</td>\n",
       "      <td>3.0</td>\n",
       "      <td>2.0</td>\n",
       "      <td>15.0</td>\n",
       "      <td>20.0</td>\n",
       "      <td>20.0</td>\n",
       "      <td>15.0</td>\n",
       "      <td>15.0</td>\n",
       "      <td>15.0</td>\n",
       "      <td>NaN</td>\n",
       "      <td>NaN</td>\n",
       "      <td>NaN</td>\n",
       "      <td>NaN</td>\n",
       "      <td>NaN</td>\n",
       "      <td>NaN</td>\n",
       "      <td>35.0</td>\n",
       "      <td>20.0</td>\n",
       "      <td>15.0</td>\n",
       "      <td>20.0</td>\n",
       "      <td>5.0</td>\n",
       "      <td>5.0</td>\n",
       "      <td>6.0</td>\n",
       "      <td>8.0</td>\n",
       "      <td>8.0</td>\n",
       "      <td>8.0</td>\n",
       "      <td>7.0</td>\n",
       "      <td>NaN</td>\n",
       "      <td>NaN</td>\n",
       "      <td>NaN</td>\n",
       "      <td>NaN</td>\n",
       "      <td>NaN</td>\n",
       "      <td>0.8</td>\n",
       "      <td>5.7</td>\n",
       "      <td>7.3</td>\n",
       "      <td>7.3</td>\n",
       "      <td>6.8</td>\n",
       "      <td>6.3</td>\n",
       "      <td>6.5</td>\n",
       "      <td>6.5</td>\n",
       "      <td>5.888889</td>\n",
       "      <td>1.777778</td>\n",
       "      <td>4.0</td>\n",
       "      <td>NaN</td>\n",
       "      <td>NaN</td>\n",
       "      <td>NaN</td>\n",
       "      <td>NaN</td>\n",
       "      <td>NaN</td>\n",
       "      <td>NaN</td>\n",
       "      <td>NaN</td>\n",
       "      <td>NaN</td>\n",
       "      <td>NaN</td>\n",
       "      <td>NaN</td>\n",
       "      <td>NaN</td>\n",
       "      <td>6.0</td>\n",
       "      <td>2.0</td>\n",
       "      <td>1.0</td>\n",
       "      <td>NaN</td>\n",
       "      <td>NaN</td>\n",
       "      <td>NaN</td>\n",
       "      <td>NaN</td>\n",
       "      <td>NaN</td>\n",
       "      <td>NaN</td>\n",
       "      <td>19.44</td>\n",
       "      <td>16.67</td>\n",
       "      <td>13.89</td>\n",
       "      <td>22.22</td>\n",
       "      <td>11.11</td>\n",
       "      <td>16.67</td>\n",
       "      <td>NaN</td>\n",
       "      <td>NaN</td>\n",
       "      <td>NaN</td>\n",
       "      <td>NaN</td>\n",
       "      <td>NaN</td>\n",
       "      <td>NaN</td>\n",
       "      <td>NaN</td>\n",
       "      <td>NaN</td>\n",
       "      <td>NaN</td>\n",
       "      <td>NaN</td>\n",
       "      <td>NaN</td>\n",
       "      <td>NaN</td>\n",
       "      <td>6.0</td>\n",
       "      <td>7.0</td>\n",
       "      <td>8.0</td>\n",
       "      <td>7.0</td>\n",
       "      <td>6.0</td>\n",
       "      <td>NaN</td>\n",
       "      <td>NaN</td>\n",
       "      <td>NaN</td>\n",
       "      <td>NaN</td>\n",
       "      <td>NaN</td>\n",
       "      <td>1.0</td>\n",
       "      <td>1.0</td>\n",
       "      <td>0.0</td>\n",
       "      <td>NaN</td>\n",
       "      <td>NaN</td>\n",
       "      <td>15.0</td>\n",
       "      <td>20.0</td>\n",
       "      <td>20.0</td>\n",
       "      <td>15.0</td>\n",
       "      <td>15.0</td>\n",
       "      <td>15.0</td>\n",
       "      <td>NaN</td>\n",
       "      <td>NaN</td>\n",
       "      <td>NaN</td>\n",
       "      <td>NaN</td>\n",
       "      <td>NaN</td>\n",
       "      <td>NaN</td>\n",
       "      <td>NaN</td>\n",
       "      <td>NaN</td>\n",
       "      <td>NaN</td>\n",
       "      <td>NaN</td>\n",
       "      <td>NaN</td>\n",
       "      <td>NaN</td>\n",
       "      <td>NaN</td>\n",
       "      <td>NaN</td>\n",
       "      <td>NaN</td>\n",
       "      <td>NaN</td>\n",
       "      <td>NaN</td>\n",
       "      <td>NaN</td>\n",
       "      <td>5.0</td>\n",
       "      <td>7.0</td>\n",
       "      <td>7.0</td>\n",
       "      <td>7.0</td>\n",
       "      <td>7.0</td>\n",
       "      <td>NaN</td>\n",
       "      <td>NaN</td>\n",
       "      <td>NaN</td>\n",
       "      <td>NaN</td>\n",
       "      <td>NaN</td>\n",
       "      <td>Female</td>\n",
       "      <td>65 000 to 70 000</td>\n",
       "    </tr>\n",
       "    <tr>\n",
       "      <th>1</th>\n",
       "      <td>2</td>\n",
       "      <td>2.0</td>\n",
       "      <td>0.0</td>\n",
       "      <td>3.0</td>\n",
       "      <td>1.0</td>\n",
       "      <td>1.0</td>\n",
       "      <td>10.0</td>\n",
       "      <td>3.0</td>\n",
       "      <td>NaN</td>\n",
       "      <td>5.5</td>\n",
       "      <td>5.5</td>\n",
       "      <td>15.5</td>\n",
       "      <td>0.2</td>\n",
       "      <td>0.258</td>\n",
       "      <td>0.8</td>\n",
       "      <td>25.2</td>\n",
       "      <td>2.3</td>\n",
       "      <td>44.233</td>\n",
       "      <td>7.911</td>\n",
       "      <td>16.511</td>\n",
       "      <td>16.911</td>\n",
       "      <td>4.511</td>\n",
       "      <td>9.922</td>\n",
       "      <td>0.6</td>\n",
       "      <td>7.7</td>\n",
       "      <td>7.1</td>\n",
       "      <td>7.9</td>\n",
       "      <td>7.5</td>\n",
       "      <td>7.5</td>\n",
       "      <td>6.5</td>\n",
       "      <td>7.60</td>\n",
       "      <td>5.5</td>\n",
       "      <td>1.900000</td>\n",
       "      <td>24.0</td>\n",
       "      <td>1.0</td>\n",
       "      <td>2.0</td>\n",
       "      <td>2.0</td>\n",
       "      <td>5.0</td>\n",
       "      <td>65929.0</td>\n",
       "      <td>1.0</td>\n",
       "      <td>5.0</td>\n",
       "      <td>1.0</td>\n",
       "      <td>NaN</td>\n",
       "      <td>3.0</td>\n",
       "      <td>2.0</td>\n",
       "      <td>7.0</td>\n",
       "      <td>10.0</td>\n",
       "      <td>8.0</td>\n",
       "      <td>6.0</td>\n",
       "      <td>3.0</td>\n",
       "      <td>5.0</td>\n",
       "      <td>8.0</td>\n",
       "      <td>10.0</td>\n",
       "      <td>1.0</td>\n",
       "      <td>9.0</td>\n",
       "      <td>8.0</td>\n",
       "      <td>7.0</td>\n",
       "      <td>8.0</td>\n",
       "      <td>3.0</td>\n",
       "      <td>1.0</td>\n",
       "      <td>4.0</td>\n",
       "      <td>5.0</td>\n",
       "      <td>45.0</td>\n",
       "      <td>5.0</td>\n",
       "      <td>25.0</td>\n",
       "      <td>20.0</td>\n",
       "      <td>0.0</td>\n",
       "      <td>5.0</td>\n",
       "      <td>NaN</td>\n",
       "      <td>NaN</td>\n",
       "      <td>NaN</td>\n",
       "      <td>NaN</td>\n",
       "      <td>NaN</td>\n",
       "      <td>NaN</td>\n",
       "      <td>65.0</td>\n",
       "      <td>0.0</td>\n",
       "      <td>10.0</td>\n",
       "      <td>25.0</td>\n",
       "      <td>0.0</td>\n",
       "      <td>0.0</td>\n",
       "      <td>7.0</td>\n",
       "      <td>5.0</td>\n",
       "      <td>10.0</td>\n",
       "      <td>8.0</td>\n",
       "      <td>3.0</td>\n",
       "      <td>NaN</td>\n",
       "      <td>NaN</td>\n",
       "      <td>NaN</td>\n",
       "      <td>NaN</td>\n",
       "      <td>NaN</td>\n",
       "      <td>0.4</td>\n",
       "      <td>6.4</td>\n",
       "      <td>7.0</td>\n",
       "      <td>7.7</td>\n",
       "      <td>6.1</td>\n",
       "      <td>6.5</td>\n",
       "      <td>5.7</td>\n",
       "      <td>6.6</td>\n",
       "      <td>5.900000</td>\n",
       "      <td>1.900000</td>\n",
       "      <td>3.0</td>\n",
       "      <td>NaN</td>\n",
       "      <td>NaN</td>\n",
       "      <td>NaN</td>\n",
       "      <td>NaN</td>\n",
       "      <td>NaN</td>\n",
       "      <td>NaN</td>\n",
       "      <td>NaN</td>\n",
       "      <td>NaN</td>\n",
       "      <td>NaN</td>\n",
       "      <td>NaN</td>\n",
       "      <td>NaN</td>\n",
       "      <td>5.0</td>\n",
       "      <td>2.0</td>\n",
       "      <td>NaN</td>\n",
       "      <td>NaN</td>\n",
       "      <td>NaN</td>\n",
       "      <td>NaN</td>\n",
       "      <td>NaN</td>\n",
       "      <td>NaN</td>\n",
       "      <td>NaN</td>\n",
       "      <td>18.92</td>\n",
       "      <td>18.92</td>\n",
       "      <td>21.62</td>\n",
       "      <td>27.03</td>\n",
       "      <td>5.41</td>\n",
       "      <td>8.11</td>\n",
       "      <td>NaN</td>\n",
       "      <td>NaN</td>\n",
       "      <td>NaN</td>\n",
       "      <td>NaN</td>\n",
       "      <td>NaN</td>\n",
       "      <td>NaN</td>\n",
       "      <td>NaN</td>\n",
       "      <td>NaN</td>\n",
       "      <td>NaN</td>\n",
       "      <td>NaN</td>\n",
       "      <td>NaN</td>\n",
       "      <td>NaN</td>\n",
       "      <td>7.0</td>\n",
       "      <td>6.0</td>\n",
       "      <td>8.0</td>\n",
       "      <td>9.0</td>\n",
       "      <td>4.0</td>\n",
       "      <td>NaN</td>\n",
       "      <td>NaN</td>\n",
       "      <td>NaN</td>\n",
       "      <td>NaN</td>\n",
       "      <td>NaN</td>\n",
       "      <td>0.0</td>\n",
       "      <td>0.0</td>\n",
       "      <td>0.0</td>\n",
       "      <td>NaN</td>\n",
       "      <td>NaN</td>\n",
       "      <td>30.0</td>\n",
       "      <td>5.0</td>\n",
       "      <td>40.0</td>\n",
       "      <td>15.0</td>\n",
       "      <td>0.0</td>\n",
       "      <td>10.0</td>\n",
       "      <td>NaN</td>\n",
       "      <td>NaN</td>\n",
       "      <td>NaN</td>\n",
       "      <td>NaN</td>\n",
       "      <td>NaN</td>\n",
       "      <td>NaN</td>\n",
       "      <td>NaN</td>\n",
       "      <td>NaN</td>\n",
       "      <td>NaN</td>\n",
       "      <td>NaN</td>\n",
       "      <td>NaN</td>\n",
       "      <td>NaN</td>\n",
       "      <td>NaN</td>\n",
       "      <td>NaN</td>\n",
       "      <td>NaN</td>\n",
       "      <td>NaN</td>\n",
       "      <td>NaN</td>\n",
       "      <td>NaN</td>\n",
       "      <td>7.0</td>\n",
       "      <td>6.0</td>\n",
       "      <td>9.0</td>\n",
       "      <td>9.0</td>\n",
       "      <td>4.0</td>\n",
       "      <td>NaN</td>\n",
       "      <td>NaN</td>\n",
       "      <td>NaN</td>\n",
       "      <td>NaN</td>\n",
       "      <td>NaN</td>\n",
       "      <td>Female</td>\n",
       "      <td>65 000 to 70 000</td>\n",
       "    </tr>\n",
       "    <tr>\n",
       "      <th>2</th>\n",
       "      <td>4</td>\n",
       "      <td>4.0</td>\n",
       "      <td>0.0</td>\n",
       "      <td>7.0</td>\n",
       "      <td>1.0</td>\n",
       "      <td>1.0</td>\n",
       "      <td>10.0</td>\n",
       "      <td>6.0</td>\n",
       "      <td>NaN</td>\n",
       "      <td>5.5</td>\n",
       "      <td>5.5</td>\n",
       "      <td>15.5</td>\n",
       "      <td>0.2</td>\n",
       "      <td>-0.007</td>\n",
       "      <td>0.8</td>\n",
       "      <td>25.2</td>\n",
       "      <td>2.3</td>\n",
       "      <td>44.233</td>\n",
       "      <td>7.911</td>\n",
       "      <td>16.511</td>\n",
       "      <td>16.911</td>\n",
       "      <td>4.511</td>\n",
       "      <td>9.922</td>\n",
       "      <td>0.6</td>\n",
       "      <td>7.0</td>\n",
       "      <td>7.1</td>\n",
       "      <td>7.7</td>\n",
       "      <td>7.5</td>\n",
       "      <td>7.7</td>\n",
       "      <td>7.2</td>\n",
       "      <td>7.30</td>\n",
       "      <td>6.5</td>\n",
       "      <td>1.777778</td>\n",
       "      <td>23.0</td>\n",
       "      <td>1.0</td>\n",
       "      <td>2.0</td>\n",
       "      <td>1.0</td>\n",
       "      <td>1.0</td>\n",
       "      <td>37754.0</td>\n",
       "      <td>1.0</td>\n",
       "      <td>5.0</td>\n",
       "      <td>1.0</td>\n",
       "      <td>1.0</td>\n",
       "      <td>1.0</td>\n",
       "      <td>1.0</td>\n",
       "      <td>6.0</td>\n",
       "      <td>7.0</td>\n",
       "      <td>6.0</td>\n",
       "      <td>7.0</td>\n",
       "      <td>7.0</td>\n",
       "      <td>5.0</td>\n",
       "      <td>7.0</td>\n",
       "      <td>7.0</td>\n",
       "      <td>7.0</td>\n",
       "      <td>9.0</td>\n",
       "      <td>7.0</td>\n",
       "      <td>8.0</td>\n",
       "      <td>7.0</td>\n",
       "      <td>1.0</td>\n",
       "      <td>8.0</td>\n",
       "      <td>1.0</td>\n",
       "      <td>2.0</td>\n",
       "      <td>20.0</td>\n",
       "      <td>20.0</td>\n",
       "      <td>20.0</td>\n",
       "      <td>20.0</td>\n",
       "      <td>10.0</td>\n",
       "      <td>10.0</td>\n",
       "      <td>NaN</td>\n",
       "      <td>NaN</td>\n",
       "      <td>NaN</td>\n",
       "      <td>NaN</td>\n",
       "      <td>NaN</td>\n",
       "      <td>NaN</td>\n",
       "      <td>30.0</td>\n",
       "      <td>10.0</td>\n",
       "      <td>15.0</td>\n",
       "      <td>30.0</td>\n",
       "      <td>5.0</td>\n",
       "      <td>10.0</td>\n",
       "      <td>7.0</td>\n",
       "      <td>8.0</td>\n",
       "      <td>9.0</td>\n",
       "      <td>7.0</td>\n",
       "      <td>8.0</td>\n",
       "      <td>NaN</td>\n",
       "      <td>NaN</td>\n",
       "      <td>NaN</td>\n",
       "      <td>NaN</td>\n",
       "      <td>NaN</td>\n",
       "      <td>0.3</td>\n",
       "      <td>6.4</td>\n",
       "      <td>8.9</td>\n",
       "      <td>8.6</td>\n",
       "      <td>7.8</td>\n",
       "      <td>7.8</td>\n",
       "      <td>7.1</td>\n",
       "      <td>6.6</td>\n",
       "      <td>5.200000</td>\n",
       "      <td>1.800000</td>\n",
       "      <td>2.0</td>\n",
       "      <td>NaN</td>\n",
       "      <td>NaN</td>\n",
       "      <td>NaN</td>\n",
       "      <td>NaN</td>\n",
       "      <td>NaN</td>\n",
       "      <td>NaN</td>\n",
       "      <td>NaN</td>\n",
       "      <td>NaN</td>\n",
       "      <td>NaN</td>\n",
       "      <td>NaN</td>\n",
       "      <td>NaN</td>\n",
       "      <td>4.0</td>\n",
       "      <td>3.0</td>\n",
       "      <td>2.0</td>\n",
       "      <td>NaN</td>\n",
       "      <td>NaN</td>\n",
       "      <td>NaN</td>\n",
       "      <td>NaN</td>\n",
       "      <td>NaN</td>\n",
       "      <td>NaN</td>\n",
       "      <td>24.14</td>\n",
       "      <td>13.79</td>\n",
       "      <td>20.69</td>\n",
       "      <td>27.59</td>\n",
       "      <td>10.34</td>\n",
       "      <td>3.45</td>\n",
       "      <td>NaN</td>\n",
       "      <td>NaN</td>\n",
       "      <td>NaN</td>\n",
       "      <td>NaN</td>\n",
       "      <td>NaN</td>\n",
       "      <td>NaN</td>\n",
       "      <td>NaN</td>\n",
       "      <td>NaN</td>\n",
       "      <td>NaN</td>\n",
       "      <td>NaN</td>\n",
       "      <td>NaN</td>\n",
       "      <td>NaN</td>\n",
       "      <td>6.0</td>\n",
       "      <td>8.0</td>\n",
       "      <td>7.0</td>\n",
       "      <td>8.0</td>\n",
       "      <td>6.0</td>\n",
       "      <td>NaN</td>\n",
       "      <td>NaN</td>\n",
       "      <td>NaN</td>\n",
       "      <td>NaN</td>\n",
       "      <td>NaN</td>\n",
       "      <td>0.0</td>\n",
       "      <td>0.0</td>\n",
       "      <td>0.0</td>\n",
       "      <td>NaN</td>\n",
       "      <td>NaN</td>\n",
       "      <td>20.0</td>\n",
       "      <td>20.0</td>\n",
       "      <td>20.0</td>\n",
       "      <td>20.0</td>\n",
       "      <td>0.0</td>\n",
       "      <td>20.0</td>\n",
       "      <td>NaN</td>\n",
       "      <td>NaN</td>\n",
       "      <td>NaN</td>\n",
       "      <td>NaN</td>\n",
       "      <td>NaN</td>\n",
       "      <td>NaN</td>\n",
       "      <td>NaN</td>\n",
       "      <td>NaN</td>\n",
       "      <td>NaN</td>\n",
       "      <td>NaN</td>\n",
       "      <td>NaN</td>\n",
       "      <td>NaN</td>\n",
       "      <td>NaN</td>\n",
       "      <td>NaN</td>\n",
       "      <td>NaN</td>\n",
       "      <td>NaN</td>\n",
       "      <td>NaN</td>\n",
       "      <td>NaN</td>\n",
       "      <td>6.0</td>\n",
       "      <td>5.0</td>\n",
       "      <td>6.0</td>\n",
       "      <td>8.0</td>\n",
       "      <td>5.0</td>\n",
       "      <td>NaN</td>\n",
       "      <td>NaN</td>\n",
       "      <td>NaN</td>\n",
       "      <td>NaN</td>\n",
       "      <td>NaN</td>\n",
       "      <td>Female</td>\n",
       "      <td>35 000 to 40 000</td>\n",
       "    </tr>\n",
       "    <tr>\n",
       "      <th>3</th>\n",
       "      <td>5</td>\n",
       "      <td>5.0</td>\n",
       "      <td>0.0</td>\n",
       "      <td>9.0</td>\n",
       "      <td>1.0</td>\n",
       "      <td>1.0</td>\n",
       "      <td>10.0</td>\n",
       "      <td>4.0</td>\n",
       "      <td>NaN</td>\n",
       "      <td>5.5</td>\n",
       "      <td>5.5</td>\n",
       "      <td>15.5</td>\n",
       "      <td>0.2</td>\n",
       "      <td>-0.079</td>\n",
       "      <td>0.8</td>\n",
       "      <td>25.2</td>\n",
       "      <td>2.3</td>\n",
       "      <td>44.233</td>\n",
       "      <td>7.911</td>\n",
       "      <td>16.511</td>\n",
       "      <td>16.911</td>\n",
       "      <td>4.511</td>\n",
       "      <td>9.922</td>\n",
       "      <td>0.3</td>\n",
       "      <td>5.3</td>\n",
       "      <td>7.7</td>\n",
       "      <td>7.6</td>\n",
       "      <td>7.2</td>\n",
       "      <td>7.8</td>\n",
       "      <td>6.2</td>\n",
       "      <td>6.10</td>\n",
       "      <td>6.5</td>\n",
       "      <td>1.700000</td>\n",
       "      <td>21.0</td>\n",
       "      <td>1.0</td>\n",
       "      <td>2.0</td>\n",
       "      <td>8.0</td>\n",
       "      <td>1.0</td>\n",
       "      <td>86340.0</td>\n",
       "      <td>2.0</td>\n",
       "      <td>4.0</td>\n",
       "      <td>1.0</td>\n",
       "      <td>1.0</td>\n",
       "      <td>7.0</td>\n",
       "      <td>4.0</td>\n",
       "      <td>7.0</td>\n",
       "      <td>7.0</td>\n",
       "      <td>6.0</td>\n",
       "      <td>8.0</td>\n",
       "      <td>6.0</td>\n",
       "      <td>6.0</td>\n",
       "      <td>8.0</td>\n",
       "      <td>6.0</td>\n",
       "      <td>8.0</td>\n",
       "      <td>6.0</td>\n",
       "      <td>6.0</td>\n",
       "      <td>3.0</td>\n",
       "      <td>7.0</td>\n",
       "      <td>8.0</td>\n",
       "      <td>3.0</td>\n",
       "      <td>7.0</td>\n",
       "      <td>10.0</td>\n",
       "      <td>20.0</td>\n",
       "      <td>5.0</td>\n",
       "      <td>25.0</td>\n",
       "      <td>25.0</td>\n",
       "      <td>10.0</td>\n",
       "      <td>15.0</td>\n",
       "      <td>NaN</td>\n",
       "      <td>NaN</td>\n",
       "      <td>NaN</td>\n",
       "      <td>NaN</td>\n",
       "      <td>NaN</td>\n",
       "      <td>NaN</td>\n",
       "      <td>50.0</td>\n",
       "      <td>10.0</td>\n",
       "      <td>10.0</td>\n",
       "      <td>20.0</td>\n",
       "      <td>5.0</td>\n",
       "      <td>5.0</td>\n",
       "      <td>6.0</td>\n",
       "      <td>3.0</td>\n",
       "      <td>6.0</td>\n",
       "      <td>10.0</td>\n",
       "      <td>8.0</td>\n",
       "      <td>NaN</td>\n",
       "      <td>NaN</td>\n",
       "      <td>NaN</td>\n",
       "      <td>NaN</td>\n",
       "      <td>NaN</td>\n",
       "      <td>0.6</td>\n",
       "      <td>6.3</td>\n",
       "      <td>6.0</td>\n",
       "      <td>7.0</td>\n",
       "      <td>6.0</td>\n",
       "      <td>5.6</td>\n",
       "      <td>6.2</td>\n",
       "      <td>7.2</td>\n",
       "      <td>3.700000</td>\n",
       "      <td>1.700000</td>\n",
       "      <td>NaN</td>\n",
       "      <td>NaN</td>\n",
       "      <td>NaN</td>\n",
       "      <td>NaN</td>\n",
       "      <td>NaN</td>\n",
       "      <td>NaN</td>\n",
       "      <td>NaN</td>\n",
       "      <td>NaN</td>\n",
       "      <td>NaN</td>\n",
       "      <td>NaN</td>\n",
       "      <td>NaN</td>\n",
       "      <td>NaN</td>\n",
       "      <td>7.0</td>\n",
       "      <td>2.0</td>\n",
       "      <td>2.0</td>\n",
       "      <td>NaN</td>\n",
       "      <td>NaN</td>\n",
       "      <td>NaN</td>\n",
       "      <td>NaN</td>\n",
       "      <td>NaN</td>\n",
       "      <td>NaN</td>\n",
       "      <td>15.79</td>\n",
       "      <td>13.16</td>\n",
       "      <td>18.42</td>\n",
       "      <td>15.79</td>\n",
       "      <td>15.79</td>\n",
       "      <td>21.05</td>\n",
       "      <td>NaN</td>\n",
       "      <td>NaN</td>\n",
       "      <td>NaN</td>\n",
       "      <td>NaN</td>\n",
       "      <td>NaN</td>\n",
       "      <td>NaN</td>\n",
       "      <td>NaN</td>\n",
       "      <td>NaN</td>\n",
       "      <td>NaN</td>\n",
       "      <td>NaN</td>\n",
       "      <td>NaN</td>\n",
       "      <td>NaN</td>\n",
       "      <td>6.0</td>\n",
       "      <td>6.0</td>\n",
       "      <td>9.0</td>\n",
       "      <td>9.0</td>\n",
       "      <td>9.0</td>\n",
       "      <td>NaN</td>\n",
       "      <td>NaN</td>\n",
       "      <td>NaN</td>\n",
       "      <td>NaN</td>\n",
       "      <td>NaN</td>\n",
       "      <td>0.0</td>\n",
       "      <td>0.0</td>\n",
       "      <td>0.0</td>\n",
       "      <td>NaN</td>\n",
       "      <td>NaN</td>\n",
       "      <td>30.0</td>\n",
       "      <td>10.0</td>\n",
       "      <td>20.0</td>\n",
       "      <td>20.0</td>\n",
       "      <td>10.0</td>\n",
       "      <td>10.0</td>\n",
       "      <td>NaN</td>\n",
       "      <td>NaN</td>\n",
       "      <td>NaN</td>\n",
       "      <td>NaN</td>\n",
       "      <td>NaN</td>\n",
       "      <td>NaN</td>\n",
       "      <td>NaN</td>\n",
       "      <td>NaN</td>\n",
       "      <td>NaN</td>\n",
       "      <td>NaN</td>\n",
       "      <td>NaN</td>\n",
       "      <td>NaN</td>\n",
       "      <td>NaN</td>\n",
       "      <td>NaN</td>\n",
       "      <td>NaN</td>\n",
       "      <td>NaN</td>\n",
       "      <td>NaN</td>\n",
       "      <td>NaN</td>\n",
       "      <td>4.0</td>\n",
       "      <td>5.0</td>\n",
       "      <td>10.0</td>\n",
       "      <td>6.0</td>\n",
       "      <td>10.0</td>\n",
       "      <td>NaN</td>\n",
       "      <td>NaN</td>\n",
       "      <td>NaN</td>\n",
       "      <td>NaN</td>\n",
       "      <td>NaN</td>\n",
       "      <td>Female</td>\n",
       "      <td>85 000 to 90 000</td>\n",
       "    </tr>\n",
       "    <tr>\n",
       "      <th>4</th>\n",
       "      <td>6</td>\n",
       "      <td>6.0</td>\n",
       "      <td>0.0</td>\n",
       "      <td>11.0</td>\n",
       "      <td>1.0</td>\n",
       "      <td>1.0</td>\n",
       "      <td>10.0</td>\n",
       "      <td>8.0</td>\n",
       "      <td>NaN</td>\n",
       "      <td>5.5</td>\n",
       "      <td>5.5</td>\n",
       "      <td>15.5</td>\n",
       "      <td>0.2</td>\n",
       "      <td>0.224</td>\n",
       "      <td>0.1</td>\n",
       "      <td>25.2</td>\n",
       "      <td>2.3</td>\n",
       "      <td>44.233</td>\n",
       "      <td>7.911</td>\n",
       "      <td>16.511</td>\n",
       "      <td>16.911</td>\n",
       "      <td>4.511</td>\n",
       "      <td>9.922</td>\n",
       "      <td>0.5</td>\n",
       "      <td>6.8</td>\n",
       "      <td>7.8</td>\n",
       "      <td>8.6</td>\n",
       "      <td>7.0</td>\n",
       "      <td>8.0</td>\n",
       "      <td>6.3</td>\n",
       "      <td>6.80</td>\n",
       "      <td>5.5</td>\n",
       "      <td>1.800000</td>\n",
       "      <td>23.0</td>\n",
       "      <td>1.0</td>\n",
       "      <td>4.0</td>\n",
       "      <td>1.0</td>\n",
       "      <td>1.0</td>\n",
       "      <td>60304.0</td>\n",
       "      <td>1.0</td>\n",
       "      <td>3.0</td>\n",
       "      <td>1.0</td>\n",
       "      <td>1.0</td>\n",
       "      <td>10.0</td>\n",
       "      <td>8.0</td>\n",
       "      <td>9.0</td>\n",
       "      <td>7.0</td>\n",
       "      <td>8.0</td>\n",
       "      <td>7.0</td>\n",
       "      <td>9.0</td>\n",
       "      <td>2.0</td>\n",
       "      <td>6.0</td>\n",
       "      <td>9.0</td>\n",
       "      <td>2.0</td>\n",
       "      <td>5.0</td>\n",
       "      <td>6.0</td>\n",
       "      <td>6.0</td>\n",
       "      <td>4.0</td>\n",
       "      <td>1.0</td>\n",
       "      <td>1.0</td>\n",
       "      <td>4.0</td>\n",
       "      <td>3.0</td>\n",
       "      <td>10.0</td>\n",
       "      <td>25.0</td>\n",
       "      <td>20.0</td>\n",
       "      <td>25.0</td>\n",
       "      <td>5.0</td>\n",
       "      <td>15.0</td>\n",
       "      <td>NaN</td>\n",
       "      <td>NaN</td>\n",
       "      <td>NaN</td>\n",
       "      <td>NaN</td>\n",
       "      <td>NaN</td>\n",
       "      <td>NaN</td>\n",
       "      <td>25.0</td>\n",
       "      <td>10.0</td>\n",
       "      <td>10.0</td>\n",
       "      <td>25.0</td>\n",
       "      <td>10.0</td>\n",
       "      <td>20.0</td>\n",
       "      <td>5.0</td>\n",
       "      <td>7.0</td>\n",
       "      <td>8.0</td>\n",
       "      <td>9.0</td>\n",
       "      <td>5.0</td>\n",
       "      <td>NaN</td>\n",
       "      <td>NaN</td>\n",
       "      <td>NaN</td>\n",
       "      <td>NaN</td>\n",
       "      <td>NaN</td>\n",
       "      <td>0.6</td>\n",
       "      <td>5.9</td>\n",
       "      <td>7.3</td>\n",
       "      <td>8.0</td>\n",
       "      <td>6.0</td>\n",
       "      <td>5.2</td>\n",
       "      <td>4.4</td>\n",
       "      <td>6.5</td>\n",
       "      <td>4.900000</td>\n",
       "      <td>1.800000</td>\n",
       "      <td>4.0</td>\n",
       "      <td>NaN</td>\n",
       "      <td>NaN</td>\n",
       "      <td>NaN</td>\n",
       "      <td>NaN</td>\n",
       "      <td>NaN</td>\n",
       "      <td>NaN</td>\n",
       "      <td>NaN</td>\n",
       "      <td>NaN</td>\n",
       "      <td>NaN</td>\n",
       "      <td>NaN</td>\n",
       "      <td>NaN</td>\n",
       "      <td>3.0</td>\n",
       "      <td>3.0</td>\n",
       "      <td>2.0</td>\n",
       "      <td>NaN</td>\n",
       "      <td>NaN</td>\n",
       "      <td>NaN</td>\n",
       "      <td>NaN</td>\n",
       "      <td>NaN</td>\n",
       "      <td>NaN</td>\n",
       "      <td>10.26</td>\n",
       "      <td>25.64</td>\n",
       "      <td>20.51</td>\n",
       "      <td>23.08</td>\n",
       "      <td>2.56</td>\n",
       "      <td>17.95</td>\n",
       "      <td>NaN</td>\n",
       "      <td>NaN</td>\n",
       "      <td>NaN</td>\n",
       "      <td>NaN</td>\n",
       "      <td>NaN</td>\n",
       "      <td>NaN</td>\n",
       "      <td>NaN</td>\n",
       "      <td>NaN</td>\n",
       "      <td>NaN</td>\n",
       "      <td>NaN</td>\n",
       "      <td>NaN</td>\n",
       "      <td>NaN</td>\n",
       "      <td>5.0</td>\n",
       "      <td>8.0</td>\n",
       "      <td>9.0</td>\n",
       "      <td>8.0</td>\n",
       "      <td>3.0</td>\n",
       "      <td>NaN</td>\n",
       "      <td>NaN</td>\n",
       "      <td>NaN</td>\n",
       "      <td>NaN</td>\n",
       "      <td>NaN</td>\n",
       "      <td>NaN</td>\n",
       "      <td>NaN</td>\n",
       "      <td>NaN</td>\n",
       "      <td>NaN</td>\n",
       "      <td>NaN</td>\n",
       "      <td>NaN</td>\n",
       "      <td>NaN</td>\n",
       "      <td>NaN</td>\n",
       "      <td>NaN</td>\n",
       "      <td>NaN</td>\n",
       "      <td>NaN</td>\n",
       "      <td>NaN</td>\n",
       "      <td>NaN</td>\n",
       "      <td>NaN</td>\n",
       "      <td>NaN</td>\n",
       "      <td>NaN</td>\n",
       "      <td>NaN</td>\n",
       "      <td>NaN</td>\n",
       "      <td>NaN</td>\n",
       "      <td>NaN</td>\n",
       "      <td>NaN</td>\n",
       "      <td>NaN</td>\n",
       "      <td>NaN</td>\n",
       "      <td>NaN</td>\n",
       "      <td>NaN</td>\n",
       "      <td>NaN</td>\n",
       "      <td>NaN</td>\n",
       "      <td>NaN</td>\n",
       "      <td>NaN</td>\n",
       "      <td>NaN</td>\n",
       "      <td>NaN</td>\n",
       "      <td>NaN</td>\n",
       "      <td>NaN</td>\n",
       "      <td>NaN</td>\n",
       "      <td>NaN</td>\n",
       "      <td>NaN</td>\n",
       "      <td>NaN</td>\n",
       "      <td>NaN</td>\n",
       "      <td>NaN</td>\n",
       "      <td>Female</td>\n",
       "      <td>60 000 to 65 000</td>\n",
       "    </tr>\n",
       "  </tbody>\n",
       "</table>\n",
       "</div>"
      ],
      "text/plain": [
       "   iid   id  gender   idg  condtn  wave  round  position  positin1  order  \\\n",
       "0    1  1.0     0.0   1.0     1.0   1.0   10.0       7.0       NaN    5.5   \n",
       "1    2  2.0     0.0   3.0     1.0   1.0   10.0       3.0       NaN    5.5   \n",
       "2    4  4.0     0.0   7.0     1.0   1.0   10.0       6.0       NaN    5.5   \n",
       "3    5  5.0     0.0   9.0     1.0   1.0   10.0       4.0       NaN    5.5   \n",
       "4    6  6.0     0.0  11.0     1.0   1.0   10.0       8.0       NaN    5.5   \n",
       "\n",
       "   partner   pid  match  int_corr  samerace  age_o  race_o  pf_o_att  \\\n",
       "0      5.5  15.5    0.4     0.267       0.1   25.2     2.3    44.233   \n",
       "1      5.5  15.5    0.2     0.258       0.8   25.2     2.3    44.233   \n",
       "2      5.5  15.5    0.2    -0.007       0.8   25.2     2.3    44.233   \n",
       "3      5.5  15.5    0.2    -0.079       0.8   25.2     2.3    44.233   \n",
       "4      5.5  15.5    0.2     0.224       0.1   25.2     2.3    44.233   \n",
       "\n",
       "   pf_o_sin  pf_o_int  pf_o_fun  pf_o_amb  pf_o_sha  dec_o  attr_o  sinc_o  \\\n",
       "0     7.911    16.511    16.911     4.511     9.922    0.5     6.7     7.4   \n",
       "1     7.911    16.511    16.911     4.511     9.922    0.6     7.7     7.1   \n",
       "2     7.911    16.511    16.911     4.511     9.922    0.6     7.0     7.1   \n",
       "3     7.911    16.511    16.911     4.511     9.922    0.3     5.3     7.7   \n",
       "4     7.911    16.511    16.911     4.511     9.922    0.5     6.8     7.8   \n",
       "\n",
       "   intel_o  fun_o  amb_o  shar_o  like_o  prob_o     met_o   age  field_cd  \\\n",
       "0      8.0    7.2    8.0     7.1    6.85     5.7  1.900000  21.0       1.0   \n",
       "1      7.9    7.5    7.5     6.5    7.60     5.5  1.900000  24.0       1.0   \n",
       "2      7.7    7.5    7.7     7.2    7.30     6.5  1.777778  23.0       1.0   \n",
       "3      7.6    7.2    7.8     6.2    6.10     6.5  1.700000  21.0       1.0   \n",
       "4      8.6    7.0    8.0     6.3    6.80     5.5  1.800000  23.0       1.0   \n",
       "\n",
       "   race  imprace  imprelig   income  goal  date  go_out  career_c  sports  \\\n",
       "0   4.0      2.0       4.0  69487.0   2.0   7.0     1.0       NaN     9.0   \n",
       "1   2.0      2.0       5.0  65929.0   1.0   5.0     1.0       NaN     3.0   \n",
       "2   2.0      1.0       1.0  37754.0   1.0   5.0     1.0       1.0     1.0   \n",
       "3   2.0      8.0       1.0  86340.0   2.0   4.0     1.0       1.0     7.0   \n",
       "4   4.0      1.0       1.0  60304.0   1.0   3.0     1.0       1.0    10.0   \n",
       "\n",
       "   tvsports  exercise  dining  museums  art  hiking  gaming  clubbing  \\\n",
       "0       2.0       8.0     9.0      1.0  1.0     5.0     1.0       5.0   \n",
       "1       2.0       7.0    10.0      8.0  6.0     3.0     5.0       8.0   \n",
       "2       1.0       6.0     7.0      6.0  7.0     7.0     5.0       7.0   \n",
       "3       4.0       7.0     7.0      6.0  8.0     6.0     6.0       8.0   \n",
       "4       8.0       9.0     7.0      8.0  7.0     9.0     2.0       6.0   \n",
       "\n",
       "   reading   tv  theater  movies  concerts  music  shopping  yoga  exphappy  \\\n",
       "0      6.0  9.0      1.0    10.0      10.0    9.0       8.0   1.0       3.0   \n",
       "1     10.0  1.0      9.0     8.0       7.0    8.0       3.0   1.0       4.0   \n",
       "2      7.0  7.0      9.0     7.0       8.0    7.0       1.0   8.0       1.0   \n",
       "3      6.0  8.0      6.0     6.0       3.0    7.0       8.0   3.0       7.0   \n",
       "4      9.0  2.0      5.0     6.0       6.0    4.0       1.0   1.0       4.0   \n",
       "\n",
       "   expnum  attr1_1  sinc1_1  intel1_1  fun1_1  amb1_1  shar1_1  attr4_1  \\\n",
       "0     2.0     15.0     20.0      20.0    15.0    15.0     15.0      NaN   \n",
       "1     5.0     45.0      5.0      25.0    20.0     0.0      5.0      NaN   \n",
       "2     2.0     20.0     20.0      20.0    20.0    10.0     10.0      NaN   \n",
       "3    10.0     20.0      5.0      25.0    25.0    10.0     15.0      NaN   \n",
       "4     3.0     10.0     25.0      20.0    25.0     5.0     15.0      NaN   \n",
       "\n",
       "   sinc4_1  intel4_1  fun4_1  amb4_1  shar4_1  attr2_1  sinc2_1  intel2_1  \\\n",
       "0      NaN       NaN     NaN     NaN      NaN     35.0     20.0      15.0   \n",
       "1      NaN       NaN     NaN     NaN      NaN     65.0      0.0      10.0   \n",
       "2      NaN       NaN     NaN     NaN      NaN     30.0     10.0      15.0   \n",
       "3      NaN       NaN     NaN     NaN      NaN     50.0     10.0      10.0   \n",
       "4      NaN       NaN     NaN     NaN      NaN     25.0     10.0      10.0   \n",
       "\n",
       "   fun2_1  amb2_1  shar2_1  attr3_1  sinc3_1  fun3_1  intel3_1  amb3_1  \\\n",
       "0    20.0     5.0      5.0      6.0      8.0     8.0       8.0     7.0   \n",
       "1    25.0     0.0      0.0      7.0      5.0    10.0       8.0     3.0   \n",
       "2    30.0     5.0     10.0      7.0      8.0     9.0       7.0     8.0   \n",
       "3    20.0     5.0      5.0      6.0      3.0     6.0      10.0     8.0   \n",
       "4    25.0    10.0     20.0      5.0      7.0     8.0       9.0     5.0   \n",
       "\n",
       "   attr5_1  sinc5_1  intel5_1  fun5_1  amb5_1  dec  attr  sinc  intel  fun  \\\n",
       "0      NaN      NaN       NaN     NaN     NaN  0.8   5.7   7.3    7.3  6.8   \n",
       "1      NaN      NaN       NaN     NaN     NaN  0.4   6.4   7.0    7.7  6.1   \n",
       "2      NaN      NaN       NaN     NaN     NaN  0.3   6.4   8.9    8.6  7.8   \n",
       "3      NaN      NaN       NaN     NaN     NaN  0.6   6.3   6.0    7.0  6.0   \n",
       "4      NaN      NaN       NaN     NaN     NaN  0.6   5.9   7.3    8.0  6.0   \n",
       "\n",
       "   amb  shar  like      prob       met  match_es  attr1_s  sinc1_s  intel1_s  \\\n",
       "0  6.3   6.5   6.5  5.888889  1.777778       4.0      NaN      NaN       NaN   \n",
       "1  6.5   5.7   6.6  5.900000  1.900000       3.0      NaN      NaN       NaN   \n",
       "2  7.8   7.1   6.6  5.200000  1.800000       2.0      NaN      NaN       NaN   \n",
       "3  5.6   6.2   7.2  3.700000  1.700000       NaN      NaN      NaN       NaN   \n",
       "4  5.2   4.4   6.5  4.900000  1.800000       4.0      NaN      NaN       NaN   \n",
       "\n",
       "   fun1_s  amb1_s  shar1_s  attr3_s  sinc3_s  intel3_s  fun3_s  amb3_s  \\\n",
       "0     NaN     NaN      NaN      NaN      NaN       NaN     NaN     NaN   \n",
       "1     NaN     NaN      NaN      NaN      NaN       NaN     NaN     NaN   \n",
       "2     NaN     NaN      NaN      NaN      NaN       NaN     NaN     NaN   \n",
       "3     NaN     NaN      NaN      NaN      NaN       NaN     NaN     NaN   \n",
       "4     NaN     NaN      NaN      NaN      NaN       NaN     NaN     NaN   \n",
       "\n",
       "   satis_2  length  numdat_2  attr7_2  sinc7_2  intel7_2  fun7_2  amb7_2  \\\n",
       "0      6.0     2.0       1.0      NaN      NaN       NaN     NaN     NaN   \n",
       "1      5.0     2.0       NaN      NaN      NaN       NaN     NaN     NaN   \n",
       "2      4.0     3.0       2.0      NaN      NaN       NaN     NaN     NaN   \n",
       "3      7.0     2.0       2.0      NaN      NaN       NaN     NaN     NaN   \n",
       "4      3.0     3.0       2.0      NaN      NaN       NaN     NaN     NaN   \n",
       "\n",
       "   shar7_2  attr1_2  sinc1_2  intel1_2  fun1_2  amb1_2  shar1_2  attr4_2  \\\n",
       "0      NaN    19.44    16.67     13.89   22.22   11.11    16.67      NaN   \n",
       "1      NaN    18.92    18.92     21.62   27.03    5.41     8.11      NaN   \n",
       "2      NaN    24.14    13.79     20.69   27.59   10.34     3.45      NaN   \n",
       "3      NaN    15.79    13.16     18.42   15.79   15.79    21.05      NaN   \n",
       "4      NaN    10.26    25.64     20.51   23.08    2.56    17.95      NaN   \n",
       "\n",
       "   sinc4_2  intel4_2  fun4_2  amb4_2  shar4_2  attr2_2  sinc2_2  intel2_2  \\\n",
       "0      NaN       NaN     NaN     NaN      NaN      NaN      NaN       NaN   \n",
       "1      NaN       NaN     NaN     NaN      NaN      NaN      NaN       NaN   \n",
       "2      NaN       NaN     NaN     NaN      NaN      NaN      NaN       NaN   \n",
       "3      NaN       NaN     NaN     NaN      NaN      NaN      NaN       NaN   \n",
       "4      NaN       NaN     NaN     NaN      NaN      NaN      NaN       NaN   \n",
       "\n",
       "   fun2_2  amb2_2  shar2_2  attr3_2  sinc3_2  intel3_2  fun3_2  amb3_2  \\\n",
       "0     NaN     NaN      NaN      6.0      7.0       8.0     7.0     6.0   \n",
       "1     NaN     NaN      NaN      7.0      6.0       8.0     9.0     4.0   \n",
       "2     NaN     NaN      NaN      6.0      8.0       7.0     8.0     6.0   \n",
       "3     NaN     NaN      NaN      6.0      6.0       9.0     9.0     9.0   \n",
       "4     NaN     NaN      NaN      5.0      8.0       9.0     8.0     3.0   \n",
       "\n",
       "   attr5_2  sinc5_2  intel5_2  fun5_2  amb5_2  you_call  them_cal  date_3  \\\n",
       "0      NaN      NaN       NaN     NaN     NaN       1.0       1.0     0.0   \n",
       "1      NaN      NaN       NaN     NaN     NaN       0.0       0.0     0.0   \n",
       "2      NaN      NaN       NaN     NaN     NaN       0.0       0.0     0.0   \n",
       "3      NaN      NaN       NaN     NaN     NaN       0.0       0.0     0.0   \n",
       "4      NaN      NaN       NaN     NaN     NaN       NaN       NaN     NaN   \n",
       "\n",
       "   numdat_3  num_in_3  attr1_3  sinc1_3  intel1_3  fun1_3  amb1_3  shar1_3  \\\n",
       "0       NaN       NaN     15.0     20.0      20.0    15.0    15.0     15.0   \n",
       "1       NaN       NaN     30.0      5.0      40.0    15.0     0.0     10.0   \n",
       "2       NaN       NaN     20.0     20.0      20.0    20.0     0.0     20.0   \n",
       "3       NaN       NaN     30.0     10.0      20.0    20.0    10.0     10.0   \n",
       "4       NaN       NaN      NaN      NaN       NaN     NaN     NaN      NaN   \n",
       "\n",
       "   attr7_3  sinc7_3  intel7_3  fun7_3  amb7_3  shar7_3  attr4_3  sinc4_3  \\\n",
       "0      NaN      NaN       NaN     NaN     NaN      NaN      NaN      NaN   \n",
       "1      NaN      NaN       NaN     NaN     NaN      NaN      NaN      NaN   \n",
       "2      NaN      NaN       NaN     NaN     NaN      NaN      NaN      NaN   \n",
       "3      NaN      NaN       NaN     NaN     NaN      NaN      NaN      NaN   \n",
       "4      NaN      NaN       NaN     NaN     NaN      NaN      NaN      NaN   \n",
       "\n",
       "   intel4_3  fun4_3  amb4_3  shar4_3  attr2_3  sinc2_3  intel2_3  fun2_3  \\\n",
       "0       NaN     NaN     NaN      NaN      NaN      NaN       NaN     NaN   \n",
       "1       NaN     NaN     NaN      NaN      NaN      NaN       NaN     NaN   \n",
       "2       NaN     NaN     NaN      NaN      NaN      NaN       NaN     NaN   \n",
       "3       NaN     NaN     NaN      NaN      NaN      NaN       NaN     NaN   \n",
       "4       NaN     NaN     NaN      NaN      NaN      NaN       NaN     NaN   \n",
       "\n",
       "   amb2_3  shar2_3  attr3_3  sinc3_3  intel3_3  fun3_3  amb3_3  attr5_3  \\\n",
       "0     NaN      NaN      5.0      7.0       7.0     7.0     7.0      NaN   \n",
       "1     NaN      NaN      7.0      6.0       9.0     9.0     4.0      NaN   \n",
       "2     NaN      NaN      6.0      5.0       6.0     8.0     5.0      NaN   \n",
       "3     NaN      NaN      4.0      5.0      10.0     6.0    10.0      NaN   \n",
       "4     NaN      NaN      NaN      NaN       NaN     NaN     NaN      NaN   \n",
       "\n",
       "   sinc5_3  intel5_3  fun5_3  amb5_3 gender_name   income_category  \n",
       "0      NaN       NaN     NaN     NaN      Female  65 000 to 70 000  \n",
       "1      NaN       NaN     NaN     NaN      Female  65 000 to 70 000  \n",
       "2      NaN       NaN     NaN     NaN      Female  35 000 to 40 000  \n",
       "3      NaN       NaN     NaN     NaN      Female  85 000 to 90 000  \n",
       "4      NaN       NaN     NaN     NaN      Female  60 000 to 65 000  "
      ]
     },
     "execution_count": 82,
     "metadata": {},
     "output_type": "execute_result"
    }
   ],
   "source": [
    "df_income_iid.head()"
   ]
  },
  {
   "cell_type": "code",
   "execution_count": 83,
   "metadata": {},
   "outputs": [],
   "source": [
    "df_income_iid[\"income_distribution\"] = \"Income Distribution\""
   ]
  },
  {
   "cell_type": "code",
   "execution_count": 86,
   "metadata": {},
   "outputs": [
    {
     "data": {
      "application/vnd.plotly.v1+json": {
       "config": {
        "plotlyServerURL": "https://plot.ly"
       },
       "data": [
        {
         "box": {
          "visible": true
         },
         "legendgroup": "Male",
         "line": {
          "color": "#0460C9"
         },
         "meanline": {
          "visible": true
         },
         "name": "Male",
         "scalegroup": "Male",
         "side": "negative",
         "type": "violin",
         "x": [
          "Income Distribution",
          "Income Distribution",
          "Income Distribution",
          "Income Distribution",
          "Income Distribution",
          "Income Distribution",
          "Income Distribution",
          "Income Distribution",
          "Income Distribution",
          "Income Distribution",
          "Income Distribution",
          "Income Distribution",
          "Income Distribution",
          "Income Distribution",
          "Income Distribution",
          "Income Distribution",
          "Income Distribution",
          "Income Distribution",
          "Income Distribution",
          "Income Distribution",
          "Income Distribution",
          "Income Distribution",
          "Income Distribution",
          "Income Distribution",
          "Income Distribution",
          "Income Distribution",
          "Income Distribution",
          "Income Distribution",
          "Income Distribution",
          "Income Distribution",
          "Income Distribution",
          "Income Distribution",
          "Income Distribution",
          "Income Distribution",
          "Income Distribution",
          "Income Distribution",
          "Income Distribution",
          "Income Distribution",
          "Income Distribution",
          "Income Distribution",
          "Income Distribution",
          "Income Distribution",
          "Income Distribution",
          "Income Distribution",
          "Income Distribution",
          "Income Distribution",
          "Income Distribution",
          "Income Distribution",
          "Income Distribution",
          "Income Distribution",
          "Income Distribution",
          "Income Distribution",
          "Income Distribution",
          "Income Distribution",
          "Income Distribution",
          "Income Distribution",
          "Income Distribution",
          "Income Distribution",
          "Income Distribution",
          "Income Distribution",
          "Income Distribution",
          "Income Distribution",
          "Income Distribution",
          "Income Distribution",
          "Income Distribution",
          "Income Distribution",
          "Income Distribution",
          "Income Distribution",
          "Income Distribution",
          "Income Distribution",
          "Income Distribution",
          "Income Distribution",
          "Income Distribution",
          "Income Distribution",
          "Income Distribution",
          "Income Distribution",
          "Income Distribution",
          "Income Distribution",
          "Income Distribution",
          "Income Distribution",
          "Income Distribution",
          "Income Distribution",
          "Income Distribution",
          "Income Distribution",
          "Income Distribution",
          "Income Distribution",
          "Income Distribution",
          "Income Distribution",
          "Income Distribution",
          "Income Distribution",
          "Income Distribution",
          "Income Distribution",
          "Income Distribution",
          "Income Distribution",
          "Income Distribution",
          "Income Distribution",
          "Income Distribution",
          "Income Distribution",
          "Income Distribution",
          "Income Distribution",
          "Income Distribution",
          "Income Distribution",
          "Income Distribution",
          "Income Distribution",
          "Income Distribution",
          "Income Distribution",
          "Income Distribution",
          "Income Distribution",
          "Income Distribution",
          "Income Distribution",
          "Income Distribution",
          "Income Distribution",
          "Income Distribution",
          "Income Distribution",
          "Income Distribution",
          "Income Distribution",
          "Income Distribution",
          "Income Distribution",
          "Income Distribution",
          "Income Distribution"
         ],
         "y": [
          29237,
          56580,
          36782,
          38548,
          52010,
          42096,
          28891,
          62635,
          12063,
          29809,
          26482,
          30147,
          39919,
          47559,
          53539,
          32159,
          53940,
          40753,
          76624,
          35968,
          51725,
          55419,
          55550,
          26682,
          41547,
          23361,
          74893,
          52804,
          57887,
          30768,
          66699,
          45360,
          55080,
          17378,
          78193,
          63351,
          37248,
          28240,
          53771,
          56096,
          31560,
          52467,
          80006,
          47572,
          22439,
          31383,
          32129,
          44195,
          46837,
          97972,
          35960,
          46792,
          53501,
          55080,
          64716,
          27248,
          22805,
          56118,
          30146,
          39123,
          46153,
          45300,
          42397,
          41476,
          49841,
          80608,
          43844,
          53196,
          53229,
          25786,
          30587,
          55080,
          57513,
          33772,
          31857,
          23207,
          35187,
          26298,
          31148,
          55704,
          69487,
          46138,
          66827,
          42897,
          48785,
          55080,
          55080,
          80006,
          55080,
          52318,
          31632,
          106663,
          84043,
          35224,
          36381,
          27794,
          41737,
          90225,
          55080,
          52280,
          30038,
          16767,
          78844,
          29575,
          34752,
          22173,
          37994,
          35409,
          34870,
          35848,
          45017,
          12416,
          87789,
          46272,
          48137,
          61686,
          47624,
          36673,
          16767,
          55138
         ]
        },
        {
         "box": {
          "visible": true
         },
         "legendgroup": "Female",
         "line": {
          "color": "#F78FE4"
         },
         "meanline": {
          "visible": true
         },
         "name": "Female",
         "scalegroup": "Female",
         "side": "positive",
         "type": "violin",
         "x": [
          "Income Distribution",
          "Income Distribution",
          "Income Distribution",
          "Income Distribution",
          "Income Distribution",
          "Income Distribution",
          "Income Distribution",
          "Income Distribution",
          "Income Distribution",
          "Income Distribution",
          "Income Distribution",
          "Income Distribution",
          "Income Distribution",
          "Income Distribution",
          "Income Distribution",
          "Income Distribution",
          "Income Distribution",
          "Income Distribution",
          "Income Distribution",
          "Income Distribution",
          "Income Distribution",
          "Income Distribution",
          "Income Distribution",
          "Income Distribution",
          "Income Distribution",
          "Income Distribution",
          "Income Distribution",
          "Income Distribution",
          "Income Distribution",
          "Income Distribution",
          "Income Distribution",
          "Income Distribution",
          "Income Distribution",
          "Income Distribution",
          "Income Distribution",
          "Income Distribution",
          "Income Distribution",
          "Income Distribution",
          "Income Distribution",
          "Income Distribution",
          "Income Distribution",
          "Income Distribution",
          "Income Distribution",
          "Income Distribution",
          "Income Distribution",
          "Income Distribution",
          "Income Distribution",
          "Income Distribution",
          "Income Distribution",
          "Income Distribution",
          "Income Distribution",
          "Income Distribution",
          "Income Distribution",
          "Income Distribution",
          "Income Distribution",
          "Income Distribution",
          "Income Distribution",
          "Income Distribution",
          "Income Distribution",
          "Income Distribution",
          "Income Distribution",
          "Income Distribution",
          "Income Distribution",
          "Income Distribution",
          "Income Distribution",
          "Income Distribution",
          "Income Distribution",
          "Income Distribution",
          "Income Distribution",
          "Income Distribution",
          "Income Distribution",
          "Income Distribution",
          "Income Distribution",
          "Income Distribution",
          "Income Distribution",
          "Income Distribution",
          "Income Distribution",
          "Income Distribution",
          "Income Distribution",
          "Income Distribution",
          "Income Distribution",
          "Income Distribution",
          "Income Distribution",
          "Income Distribution",
          "Income Distribution",
          "Income Distribution",
          "Income Distribution",
          "Income Distribution",
          "Income Distribution",
          "Income Distribution",
          "Income Distribution",
          "Income Distribution",
          "Income Distribution",
          "Income Distribution",
          "Income Distribution",
          "Income Distribution",
          "Income Distribution",
          "Income Distribution",
          "Income Distribution",
          "Income Distribution",
          "Income Distribution",
          "Income Distribution",
          "Income Distribution",
          "Income Distribution",
          "Income Distribution",
          "Income Distribution",
          "Income Distribution",
          "Income Distribution",
          "Income Distribution",
          "Income Distribution",
          "Income Distribution",
          "Income Distribution",
          "Income Distribution",
          "Income Distribution",
          "Income Distribution",
          "Income Distribution",
          "Income Distribution",
          "Income Distribution",
          "Income Distribution",
          "Income Distribution",
          "Income Distribution",
          "Income Distribution",
          "Income Distribution",
          "Income Distribution",
          "Income Distribution",
          "Income Distribution",
          "Income Distribution",
          "Income Distribution",
          "Income Distribution",
          "Income Distribution",
          "Income Distribution",
          "Income Distribution",
          "Income Distribution",
          "Income Distribution",
          "Income Distribution",
          "Income Distribution",
          "Income Distribution",
          "Income Distribution",
          "Income Distribution",
          "Income Distribution",
          "Income Distribution",
          "Income Distribution",
          "Income Distribution",
          "Income Distribution",
          "Income Distribution",
          "Income Distribution",
          "Income Distribution",
          "Income Distribution",
          "Income Distribution",
          "Income Distribution",
          "Income Distribution",
          "Income Distribution",
          "Income Distribution",
          "Income Distribution",
          "Income Distribution",
          "Income Distribution",
          "Income Distribution",
          "Income Distribution",
          "Income Distribution",
          "Income Distribution",
          "Income Distribution"
         ],
         "y": [
          69487,
          65929,
          37754,
          86340,
          60304,
          54620,
          48652,
          28418,
          43185,
          23152,
          43664,
          48441,
          61152,
          36485,
          41507,
          17134,
          30038,
          33772,
          24997,
          41466,
          23988,
          28989,
          50948,
          38022,
          38207,
          46166,
          30973,
          28317,
          26645,
          25589,
          55223,
          109031,
          40409,
          21597,
          53923,
          27094,
          57213,
          42390,
          43636,
          40375,
          48929,
          50745,
          29279,
          38774,
          58802,
          41831,
          52186,
          55080,
          97857,
          74624,
          21590,
          38832,
          58802,
          40749,
          47997,
          78704,
          31143,
          65708,
          49466,
          53229,
          32649,
          35867,
          40244,
          42640,
          52388,
          62875,
          30855,
          46800,
          45695,
          44346,
          42225,
          37405,
          28524,
          61141,
          8607,
          37240,
          36594,
          62997,
          46608,
          37881,
          48944,
          77112,
          18283,
          31432,
          73073,
          26706,
          50060,
          25401,
          39394,
          40695,
          45788,
          37315,
          51663,
          32563,
          54303,
          16908,
          39729,
          57316,
          25831,
          28759,
          25401,
          19264,
          41778,
          35963,
          49409,
          31516,
          36223,
          43367,
          27503,
          31809,
          52010,
          78704,
          75347,
          47005,
          52805,
          50725,
          49409,
          65693,
          45736,
          33906,
          50501,
          62844,
          52586,
          29236,
          31486,
          78704,
          65498,
          60000,
          22669,
          81266,
          29746,
          47556,
          42651,
          56056,
          60835,
          62829,
          42967,
          21488,
          89977,
          18619,
          22161,
          82734,
          40163,
          46185,
          23707,
          33772,
          57501,
          25314,
          48876,
          50572,
          49642,
          20000,
          32508,
          35627,
          46280,
          41191,
          71787,
          72412,
          36510,
          32386,
          15863
         ]
        }
       ],
       "layout": {
        "template": {
         "data": {
          "bar": [
           {
            "error_x": {
             "color": "#2a3f5f"
            },
            "error_y": {
             "color": "#2a3f5f"
            },
            "marker": {
             "line": {
              "color": "#E5ECF6",
              "width": 0.5
             }
            },
            "type": "bar"
           }
          ],
          "barpolar": [
           {
            "marker": {
             "line": {
              "color": "#E5ECF6",
              "width": 0.5
             }
            },
            "type": "barpolar"
           }
          ],
          "carpet": [
           {
            "aaxis": {
             "endlinecolor": "#2a3f5f",
             "gridcolor": "white",
             "linecolor": "white",
             "minorgridcolor": "white",
             "startlinecolor": "#2a3f5f"
            },
            "baxis": {
             "endlinecolor": "#2a3f5f",
             "gridcolor": "white",
             "linecolor": "white",
             "minorgridcolor": "white",
             "startlinecolor": "#2a3f5f"
            },
            "type": "carpet"
           }
          ],
          "choropleth": [
           {
            "colorbar": {
             "outlinewidth": 0,
             "ticks": ""
            },
            "type": "choropleth"
           }
          ],
          "contour": [
           {
            "colorbar": {
             "outlinewidth": 0,
             "ticks": ""
            },
            "colorscale": [
             [
              0,
              "#0d0887"
             ],
             [
              0.1111111111111111,
              "#46039f"
             ],
             [
              0.2222222222222222,
              "#7201a8"
             ],
             [
              0.3333333333333333,
              "#9c179e"
             ],
             [
              0.4444444444444444,
              "#bd3786"
             ],
             [
              0.5555555555555556,
              "#d8576b"
             ],
             [
              0.6666666666666666,
              "#ed7953"
             ],
             [
              0.7777777777777778,
              "#fb9f3a"
             ],
             [
              0.8888888888888888,
              "#fdca26"
             ],
             [
              1,
              "#f0f921"
             ]
            ],
            "type": "contour"
           }
          ],
          "contourcarpet": [
           {
            "colorbar": {
             "outlinewidth": 0,
             "ticks": ""
            },
            "type": "contourcarpet"
           }
          ],
          "heatmap": [
           {
            "colorbar": {
             "outlinewidth": 0,
             "ticks": ""
            },
            "colorscale": [
             [
              0,
              "#0d0887"
             ],
             [
              0.1111111111111111,
              "#46039f"
             ],
             [
              0.2222222222222222,
              "#7201a8"
             ],
             [
              0.3333333333333333,
              "#9c179e"
             ],
             [
              0.4444444444444444,
              "#bd3786"
             ],
             [
              0.5555555555555556,
              "#d8576b"
             ],
             [
              0.6666666666666666,
              "#ed7953"
             ],
             [
              0.7777777777777778,
              "#fb9f3a"
             ],
             [
              0.8888888888888888,
              "#fdca26"
             ],
             [
              1,
              "#f0f921"
             ]
            ],
            "type": "heatmap"
           }
          ],
          "heatmapgl": [
           {
            "colorbar": {
             "outlinewidth": 0,
             "ticks": ""
            },
            "colorscale": [
             [
              0,
              "#0d0887"
             ],
             [
              0.1111111111111111,
              "#46039f"
             ],
             [
              0.2222222222222222,
              "#7201a8"
             ],
             [
              0.3333333333333333,
              "#9c179e"
             ],
             [
              0.4444444444444444,
              "#bd3786"
             ],
             [
              0.5555555555555556,
              "#d8576b"
             ],
             [
              0.6666666666666666,
              "#ed7953"
             ],
             [
              0.7777777777777778,
              "#fb9f3a"
             ],
             [
              0.8888888888888888,
              "#fdca26"
             ],
             [
              1,
              "#f0f921"
             ]
            ],
            "type": "heatmapgl"
           }
          ],
          "histogram": [
           {
            "marker": {
             "colorbar": {
              "outlinewidth": 0,
              "ticks": ""
             }
            },
            "type": "histogram"
           }
          ],
          "histogram2d": [
           {
            "colorbar": {
             "outlinewidth": 0,
             "ticks": ""
            },
            "colorscale": [
             [
              0,
              "#0d0887"
             ],
             [
              0.1111111111111111,
              "#46039f"
             ],
             [
              0.2222222222222222,
              "#7201a8"
             ],
             [
              0.3333333333333333,
              "#9c179e"
             ],
             [
              0.4444444444444444,
              "#bd3786"
             ],
             [
              0.5555555555555556,
              "#d8576b"
             ],
             [
              0.6666666666666666,
              "#ed7953"
             ],
             [
              0.7777777777777778,
              "#fb9f3a"
             ],
             [
              0.8888888888888888,
              "#fdca26"
             ],
             [
              1,
              "#f0f921"
             ]
            ],
            "type": "histogram2d"
           }
          ],
          "histogram2dcontour": [
           {
            "colorbar": {
             "outlinewidth": 0,
             "ticks": ""
            },
            "colorscale": [
             [
              0,
              "#0d0887"
             ],
             [
              0.1111111111111111,
              "#46039f"
             ],
             [
              0.2222222222222222,
              "#7201a8"
             ],
             [
              0.3333333333333333,
              "#9c179e"
             ],
             [
              0.4444444444444444,
              "#bd3786"
             ],
             [
              0.5555555555555556,
              "#d8576b"
             ],
             [
              0.6666666666666666,
              "#ed7953"
             ],
             [
              0.7777777777777778,
              "#fb9f3a"
             ],
             [
              0.8888888888888888,
              "#fdca26"
             ],
             [
              1,
              "#f0f921"
             ]
            ],
            "type": "histogram2dcontour"
           }
          ],
          "mesh3d": [
           {
            "colorbar": {
             "outlinewidth": 0,
             "ticks": ""
            },
            "type": "mesh3d"
           }
          ],
          "parcoords": [
           {
            "line": {
             "colorbar": {
              "outlinewidth": 0,
              "ticks": ""
             }
            },
            "type": "parcoords"
           }
          ],
          "pie": [
           {
            "automargin": true,
            "type": "pie"
           }
          ],
          "scatter": [
           {
            "marker": {
             "colorbar": {
              "outlinewidth": 0,
              "ticks": ""
             }
            },
            "type": "scatter"
           }
          ],
          "scatter3d": [
           {
            "line": {
             "colorbar": {
              "outlinewidth": 0,
              "ticks": ""
             }
            },
            "marker": {
             "colorbar": {
              "outlinewidth": 0,
              "ticks": ""
             }
            },
            "type": "scatter3d"
           }
          ],
          "scattercarpet": [
           {
            "marker": {
             "colorbar": {
              "outlinewidth": 0,
              "ticks": ""
             }
            },
            "type": "scattercarpet"
           }
          ],
          "scattergeo": [
           {
            "marker": {
             "colorbar": {
              "outlinewidth": 0,
              "ticks": ""
             }
            },
            "type": "scattergeo"
           }
          ],
          "scattergl": [
           {
            "marker": {
             "colorbar": {
              "outlinewidth": 0,
              "ticks": ""
             }
            },
            "type": "scattergl"
           }
          ],
          "scattermapbox": [
           {
            "marker": {
             "colorbar": {
              "outlinewidth": 0,
              "ticks": ""
             }
            },
            "type": "scattermapbox"
           }
          ],
          "scatterpolar": [
           {
            "marker": {
             "colorbar": {
              "outlinewidth": 0,
              "ticks": ""
             }
            },
            "type": "scatterpolar"
           }
          ],
          "scatterpolargl": [
           {
            "marker": {
             "colorbar": {
              "outlinewidth": 0,
              "ticks": ""
             }
            },
            "type": "scatterpolargl"
           }
          ],
          "scatterternary": [
           {
            "marker": {
             "colorbar": {
              "outlinewidth": 0,
              "ticks": ""
             }
            },
            "type": "scatterternary"
           }
          ],
          "surface": [
           {
            "colorbar": {
             "outlinewidth": 0,
             "ticks": ""
            },
            "colorscale": [
             [
              0,
              "#0d0887"
             ],
             [
              0.1111111111111111,
              "#46039f"
             ],
             [
              0.2222222222222222,
              "#7201a8"
             ],
             [
              0.3333333333333333,
              "#9c179e"
             ],
             [
              0.4444444444444444,
              "#bd3786"
             ],
             [
              0.5555555555555556,
              "#d8576b"
             ],
             [
              0.6666666666666666,
              "#ed7953"
             ],
             [
              0.7777777777777778,
              "#fb9f3a"
             ],
             [
              0.8888888888888888,
              "#fdca26"
             ],
             [
              1,
              "#f0f921"
             ]
            ],
            "type": "surface"
           }
          ],
          "table": [
           {
            "cells": {
             "fill": {
              "color": "#EBF0F8"
             },
             "line": {
              "color": "white"
             }
            },
            "header": {
             "fill": {
              "color": "#C8D4E3"
             },
             "line": {
              "color": "white"
             }
            },
            "type": "table"
           }
          ]
         },
         "layout": {
          "annotationdefaults": {
           "arrowcolor": "#2a3f5f",
           "arrowhead": 0,
           "arrowwidth": 1
          },
          "coloraxis": {
           "colorbar": {
            "outlinewidth": 0,
            "ticks": ""
           }
          },
          "colorscale": {
           "diverging": [
            [
             0,
             "#8e0152"
            ],
            [
             0.1,
             "#c51b7d"
            ],
            [
             0.2,
             "#de77ae"
            ],
            [
             0.3,
             "#f1b6da"
            ],
            [
             0.4,
             "#fde0ef"
            ],
            [
             0.5,
             "#f7f7f7"
            ],
            [
             0.6,
             "#e6f5d0"
            ],
            [
             0.7,
             "#b8e186"
            ],
            [
             0.8,
             "#7fbc41"
            ],
            [
             0.9,
             "#4d9221"
            ],
            [
             1,
             "#276419"
            ]
           ],
           "sequential": [
            [
             0,
             "#0d0887"
            ],
            [
             0.1111111111111111,
             "#46039f"
            ],
            [
             0.2222222222222222,
             "#7201a8"
            ],
            [
             0.3333333333333333,
             "#9c179e"
            ],
            [
             0.4444444444444444,
             "#bd3786"
            ],
            [
             0.5555555555555556,
             "#d8576b"
            ],
            [
             0.6666666666666666,
             "#ed7953"
            ],
            [
             0.7777777777777778,
             "#fb9f3a"
            ],
            [
             0.8888888888888888,
             "#fdca26"
            ],
            [
             1,
             "#f0f921"
            ]
           ],
           "sequentialminus": [
            [
             0,
             "#0d0887"
            ],
            [
             0.1111111111111111,
             "#46039f"
            ],
            [
             0.2222222222222222,
             "#7201a8"
            ],
            [
             0.3333333333333333,
             "#9c179e"
            ],
            [
             0.4444444444444444,
             "#bd3786"
            ],
            [
             0.5555555555555556,
             "#d8576b"
            ],
            [
             0.6666666666666666,
             "#ed7953"
            ],
            [
             0.7777777777777778,
             "#fb9f3a"
            ],
            [
             0.8888888888888888,
             "#fdca26"
            ],
            [
             1,
             "#f0f921"
            ]
           ]
          },
          "colorway": [
           "#636efa",
           "#EF553B",
           "#00cc96",
           "#ab63fa",
           "#FFA15A",
           "#19d3f3",
           "#FF6692",
           "#B6E880",
           "#FF97FF",
           "#FECB52"
          ],
          "font": {
           "color": "#2a3f5f"
          },
          "geo": {
           "bgcolor": "white",
           "lakecolor": "white",
           "landcolor": "#E5ECF6",
           "showlakes": true,
           "showland": true,
           "subunitcolor": "white"
          },
          "hoverlabel": {
           "align": "left"
          },
          "hovermode": "closest",
          "mapbox": {
           "style": "light"
          },
          "paper_bgcolor": "white",
          "plot_bgcolor": "#E5ECF6",
          "polar": {
           "angularaxis": {
            "gridcolor": "white",
            "linecolor": "white",
            "ticks": ""
           },
           "bgcolor": "#E5ECF6",
           "radialaxis": {
            "gridcolor": "white",
            "linecolor": "white",
            "ticks": ""
           }
          },
          "scene": {
           "xaxis": {
            "backgroundcolor": "#E5ECF6",
            "gridcolor": "white",
            "gridwidth": 2,
            "linecolor": "white",
            "showbackground": true,
            "ticks": "",
            "zerolinecolor": "white"
           },
           "yaxis": {
            "backgroundcolor": "#E5ECF6",
            "gridcolor": "white",
            "gridwidth": 2,
            "linecolor": "white",
            "showbackground": true,
            "ticks": "",
            "zerolinecolor": "white"
           },
           "zaxis": {
            "backgroundcolor": "#E5ECF6",
            "gridcolor": "white",
            "gridwidth": 2,
            "linecolor": "white",
            "showbackground": true,
            "ticks": "",
            "zerolinecolor": "white"
           }
          },
          "shapedefaults": {
           "line": {
            "color": "#2a3f5f"
           }
          },
          "ternary": {
           "aaxis": {
            "gridcolor": "white",
            "linecolor": "white",
            "ticks": ""
           },
           "baxis": {
            "gridcolor": "white",
            "linecolor": "white",
            "ticks": ""
           },
           "bgcolor": "#E5ECF6",
           "caxis": {
            "gridcolor": "white",
            "linecolor": "white",
            "ticks": ""
           }
          },
          "title": {
           "x": 0.05
          },
          "xaxis": {
           "automargin": true,
           "gridcolor": "white",
           "linecolor": "white",
           "ticks": "",
           "title": {
            "standoff": 15
           },
           "zerolinecolor": "white",
           "zerolinewidth": 2
          },
          "yaxis": {
           "automargin": true,
           "gridcolor": "white",
           "linecolor": "white",
           "ticks": "",
           "title": {
            "standoff": 15
           },
           "zerolinecolor": "white",
           "zerolinewidth": 2
          }
         }
        },
        "violingap": 0.65,
        "violinmode": "overlay"
       }
      }
     },
     "metadata": {},
     "output_type": "display_data"
    }
   ],
   "source": [
    "# creating a single violin plot\n",
    "\n",
    "fig = go.Figure()\n",
    "\n",
    "fig.add_trace(go.Violin(x=df_income_iid['income_distribution'][df_income_iid['gender_name'] == 'Male' ],\n",
    "                        y=df_income_iid['income'][df_income_iid['gender_name'] == 'Male' ],\n",
    "                        legendgroup='Male', scalegroup='Male', name='Male',\n",
    "                        side='negative',\n",
    "                        line_color=\"#0460C9\", box_visible=True)\n",
    "             )\n",
    "fig.add_trace(go.Violin(x=df_income_iid['income_distribution'][df_income_iid['gender_name'] == 'Female' ],\n",
    "                        y=df_income_iid['income'][df_income_iid['gender_name'] == 'Female'],\n",
    "                        legendgroup='Female', scalegroup='Female', name='Female',\n",
    "                        side='positive',\n",
    "                        line_color=\"#F78FE4\", box_visible=True)\n",
    "             )\n",
    "fig.update_traces(meanline_visible=True)\n",
    "fig.update_layout(violingap=0.65, violinmode='overlay')\n",
    "fig.show()"
   ]
  },
  {
   "cell_type": "code",
   "execution_count": 87,
   "metadata": {},
   "outputs": [
    {
     "data": {
      "text/html": [
       "<div>\n",
       "<style scoped>\n",
       "    .dataframe tbody tr th:only-of-type {\n",
       "        vertical-align: middle;\n",
       "    }\n",
       "\n",
       "    .dataframe tbody tr th {\n",
       "        vertical-align: top;\n",
       "    }\n",
       "\n",
       "    .dataframe thead th {\n",
       "        text-align: right;\n",
       "    }\n",
       "</style>\n",
       "<table border=\"1\" class=\"dataframe\">\n",
       "  <thead>\n",
       "    <tr style=\"text-align: right;\">\n",
       "      <th></th>\n",
       "      <th>iid</th>\n",
       "      <th>id</th>\n",
       "      <th>gender</th>\n",
       "      <th>idg</th>\n",
       "      <th>condtn</th>\n",
       "      <th>wave</th>\n",
       "      <th>round</th>\n",
       "      <th>position</th>\n",
       "      <th>positin1</th>\n",
       "      <th>order</th>\n",
       "      <th>partner</th>\n",
       "      <th>pid</th>\n",
       "      <th>match</th>\n",
       "      <th>int_corr</th>\n",
       "      <th>samerace</th>\n",
       "      <th>age_o</th>\n",
       "      <th>race_o</th>\n",
       "      <th>pf_o_att</th>\n",
       "      <th>pf_o_sin</th>\n",
       "      <th>pf_o_int</th>\n",
       "      <th>pf_o_fun</th>\n",
       "      <th>pf_o_amb</th>\n",
       "      <th>pf_o_sha</th>\n",
       "      <th>dec_o</th>\n",
       "      <th>attr_o</th>\n",
       "      <th>sinc_o</th>\n",
       "      <th>intel_o</th>\n",
       "      <th>fun_o</th>\n",
       "      <th>amb_o</th>\n",
       "      <th>shar_o</th>\n",
       "      <th>like_o</th>\n",
       "      <th>prob_o</th>\n",
       "      <th>met_o</th>\n",
       "      <th>age</th>\n",
       "      <th>field_cd</th>\n",
       "      <th>race</th>\n",
       "      <th>imprace</th>\n",
       "      <th>imprelig</th>\n",
       "      <th>income</th>\n",
       "      <th>goal</th>\n",
       "      <th>date</th>\n",
       "      <th>go_out</th>\n",
       "      <th>career_c</th>\n",
       "      <th>sports</th>\n",
       "      <th>tvsports</th>\n",
       "      <th>exercise</th>\n",
       "      <th>dining</th>\n",
       "      <th>museums</th>\n",
       "      <th>art</th>\n",
       "      <th>hiking</th>\n",
       "      <th>gaming</th>\n",
       "      <th>clubbing</th>\n",
       "      <th>reading</th>\n",
       "      <th>tv</th>\n",
       "      <th>theater</th>\n",
       "      <th>movies</th>\n",
       "      <th>concerts</th>\n",
       "      <th>music</th>\n",
       "      <th>shopping</th>\n",
       "      <th>yoga</th>\n",
       "      <th>exphappy</th>\n",
       "      <th>expnum</th>\n",
       "      <th>attr1_1</th>\n",
       "      <th>sinc1_1</th>\n",
       "      <th>intel1_1</th>\n",
       "      <th>fun1_1</th>\n",
       "      <th>amb1_1</th>\n",
       "      <th>shar1_1</th>\n",
       "      <th>attr4_1</th>\n",
       "      <th>sinc4_1</th>\n",
       "      <th>intel4_1</th>\n",
       "      <th>fun4_1</th>\n",
       "      <th>amb4_1</th>\n",
       "      <th>shar4_1</th>\n",
       "      <th>attr2_1</th>\n",
       "      <th>sinc2_1</th>\n",
       "      <th>intel2_1</th>\n",
       "      <th>fun2_1</th>\n",
       "      <th>amb2_1</th>\n",
       "      <th>shar2_1</th>\n",
       "      <th>attr3_1</th>\n",
       "      <th>sinc3_1</th>\n",
       "      <th>fun3_1</th>\n",
       "      <th>intel3_1</th>\n",
       "      <th>amb3_1</th>\n",
       "      <th>attr5_1</th>\n",
       "      <th>sinc5_1</th>\n",
       "      <th>intel5_1</th>\n",
       "      <th>fun5_1</th>\n",
       "      <th>amb5_1</th>\n",
       "      <th>dec</th>\n",
       "      <th>attr</th>\n",
       "      <th>sinc</th>\n",
       "      <th>intel</th>\n",
       "      <th>fun</th>\n",
       "      <th>amb</th>\n",
       "      <th>shar</th>\n",
       "      <th>like</th>\n",
       "      <th>prob</th>\n",
       "      <th>met</th>\n",
       "      <th>match_es</th>\n",
       "      <th>attr1_s</th>\n",
       "      <th>sinc1_s</th>\n",
       "      <th>intel1_s</th>\n",
       "      <th>fun1_s</th>\n",
       "      <th>amb1_s</th>\n",
       "      <th>shar1_s</th>\n",
       "      <th>attr3_s</th>\n",
       "      <th>sinc3_s</th>\n",
       "      <th>intel3_s</th>\n",
       "      <th>fun3_s</th>\n",
       "      <th>amb3_s</th>\n",
       "      <th>satis_2</th>\n",
       "      <th>length</th>\n",
       "      <th>numdat_2</th>\n",
       "      <th>attr7_2</th>\n",
       "      <th>sinc7_2</th>\n",
       "      <th>intel7_2</th>\n",
       "      <th>fun7_2</th>\n",
       "      <th>amb7_2</th>\n",
       "      <th>shar7_2</th>\n",
       "      <th>attr1_2</th>\n",
       "      <th>sinc1_2</th>\n",
       "      <th>intel1_2</th>\n",
       "      <th>fun1_2</th>\n",
       "      <th>amb1_2</th>\n",
       "      <th>shar1_2</th>\n",
       "      <th>attr4_2</th>\n",
       "      <th>sinc4_2</th>\n",
       "      <th>intel4_2</th>\n",
       "      <th>fun4_2</th>\n",
       "      <th>amb4_2</th>\n",
       "      <th>shar4_2</th>\n",
       "      <th>attr2_2</th>\n",
       "      <th>sinc2_2</th>\n",
       "      <th>intel2_2</th>\n",
       "      <th>fun2_2</th>\n",
       "      <th>amb2_2</th>\n",
       "      <th>shar2_2</th>\n",
       "      <th>attr3_2</th>\n",
       "      <th>sinc3_2</th>\n",
       "      <th>intel3_2</th>\n",
       "      <th>fun3_2</th>\n",
       "      <th>amb3_2</th>\n",
       "      <th>attr5_2</th>\n",
       "      <th>sinc5_2</th>\n",
       "      <th>intel5_2</th>\n",
       "      <th>fun5_2</th>\n",
       "      <th>amb5_2</th>\n",
       "      <th>you_call</th>\n",
       "      <th>them_cal</th>\n",
       "      <th>date_3</th>\n",
       "      <th>numdat_3</th>\n",
       "      <th>num_in_3</th>\n",
       "      <th>attr1_3</th>\n",
       "      <th>sinc1_3</th>\n",
       "      <th>intel1_3</th>\n",
       "      <th>fun1_3</th>\n",
       "      <th>amb1_3</th>\n",
       "      <th>shar1_3</th>\n",
       "      <th>attr7_3</th>\n",
       "      <th>sinc7_3</th>\n",
       "      <th>intel7_3</th>\n",
       "      <th>fun7_3</th>\n",
       "      <th>amb7_3</th>\n",
       "      <th>shar7_3</th>\n",
       "      <th>attr4_3</th>\n",
       "      <th>sinc4_3</th>\n",
       "      <th>intel4_3</th>\n",
       "      <th>fun4_3</th>\n",
       "      <th>amb4_3</th>\n",
       "      <th>shar4_3</th>\n",
       "      <th>attr2_3</th>\n",
       "      <th>sinc2_3</th>\n",
       "      <th>intel2_3</th>\n",
       "      <th>fun2_3</th>\n",
       "      <th>amb2_3</th>\n",
       "      <th>shar2_3</th>\n",
       "      <th>attr3_3</th>\n",
       "      <th>sinc3_3</th>\n",
       "      <th>intel3_3</th>\n",
       "      <th>fun3_3</th>\n",
       "      <th>amb3_3</th>\n",
       "      <th>attr5_3</th>\n",
       "      <th>sinc5_3</th>\n",
       "      <th>intel5_3</th>\n",
       "      <th>fun5_3</th>\n",
       "      <th>amb5_3</th>\n",
       "      <th>gender_name</th>\n",
       "      <th>income_category</th>\n",
       "      <th>income_distribution</th>\n",
       "    </tr>\n",
       "  </thead>\n",
       "  <tbody>\n",
       "    <tr>\n",
       "      <th>0</th>\n",
       "      <td>1</td>\n",
       "      <td>1.0</td>\n",
       "      <td>0.0</td>\n",
       "      <td>1.0</td>\n",
       "      <td>1.0</td>\n",
       "      <td>1.0</td>\n",
       "      <td>10.0</td>\n",
       "      <td>7.0</td>\n",
       "      <td>NaN</td>\n",
       "      <td>5.5</td>\n",
       "      <td>5.5</td>\n",
       "      <td>15.5</td>\n",
       "      <td>0.4</td>\n",
       "      <td>0.267</td>\n",
       "      <td>0.1</td>\n",
       "      <td>25.2</td>\n",
       "      <td>2.3</td>\n",
       "      <td>44.233</td>\n",
       "      <td>7.911</td>\n",
       "      <td>16.511</td>\n",
       "      <td>16.911</td>\n",
       "      <td>4.511</td>\n",
       "      <td>9.922</td>\n",
       "      <td>0.5</td>\n",
       "      <td>6.7</td>\n",
       "      <td>7.4</td>\n",
       "      <td>8.0</td>\n",
       "      <td>7.2</td>\n",
       "      <td>8.0</td>\n",
       "      <td>7.1</td>\n",
       "      <td>6.85</td>\n",
       "      <td>5.7</td>\n",
       "      <td>1.900000</td>\n",
       "      <td>21.0</td>\n",
       "      <td>1.0</td>\n",
       "      <td>4.0</td>\n",
       "      <td>2.0</td>\n",
       "      <td>4.0</td>\n",
       "      <td>69487.0</td>\n",
       "      <td>2.0</td>\n",
       "      <td>7.0</td>\n",
       "      <td>1.0</td>\n",
       "      <td>NaN</td>\n",
       "      <td>9.0</td>\n",
       "      <td>2.0</td>\n",
       "      <td>8.0</td>\n",
       "      <td>9.0</td>\n",
       "      <td>1.0</td>\n",
       "      <td>1.0</td>\n",
       "      <td>5.0</td>\n",
       "      <td>1.0</td>\n",
       "      <td>5.0</td>\n",
       "      <td>6.0</td>\n",
       "      <td>9.0</td>\n",
       "      <td>1.0</td>\n",
       "      <td>10.0</td>\n",
       "      <td>10.0</td>\n",
       "      <td>9.0</td>\n",
       "      <td>8.0</td>\n",
       "      <td>1.0</td>\n",
       "      <td>3.0</td>\n",
       "      <td>2.0</td>\n",
       "      <td>15.0</td>\n",
       "      <td>20.0</td>\n",
       "      <td>20.0</td>\n",
       "      <td>15.0</td>\n",
       "      <td>15.0</td>\n",
       "      <td>15.0</td>\n",
       "      <td>NaN</td>\n",
       "      <td>NaN</td>\n",
       "      <td>NaN</td>\n",
       "      <td>NaN</td>\n",
       "      <td>NaN</td>\n",
       "      <td>NaN</td>\n",
       "      <td>35.0</td>\n",
       "      <td>20.0</td>\n",
       "      <td>15.0</td>\n",
       "      <td>20.0</td>\n",
       "      <td>5.0</td>\n",
       "      <td>5.0</td>\n",
       "      <td>6.0</td>\n",
       "      <td>8.0</td>\n",
       "      <td>8.0</td>\n",
       "      <td>8.0</td>\n",
       "      <td>7.0</td>\n",
       "      <td>NaN</td>\n",
       "      <td>NaN</td>\n",
       "      <td>NaN</td>\n",
       "      <td>NaN</td>\n",
       "      <td>NaN</td>\n",
       "      <td>0.8</td>\n",
       "      <td>5.7</td>\n",
       "      <td>7.3</td>\n",
       "      <td>7.3</td>\n",
       "      <td>6.8</td>\n",
       "      <td>6.3</td>\n",
       "      <td>6.5</td>\n",
       "      <td>6.5</td>\n",
       "      <td>5.888889</td>\n",
       "      <td>1.777778</td>\n",
       "      <td>4.0</td>\n",
       "      <td>NaN</td>\n",
       "      <td>NaN</td>\n",
       "      <td>NaN</td>\n",
       "      <td>NaN</td>\n",
       "      <td>NaN</td>\n",
       "      <td>NaN</td>\n",
       "      <td>NaN</td>\n",
       "      <td>NaN</td>\n",
       "      <td>NaN</td>\n",
       "      <td>NaN</td>\n",
       "      <td>NaN</td>\n",
       "      <td>6.0</td>\n",
       "      <td>2.0</td>\n",
       "      <td>1.0</td>\n",
       "      <td>NaN</td>\n",
       "      <td>NaN</td>\n",
       "      <td>NaN</td>\n",
       "      <td>NaN</td>\n",
       "      <td>NaN</td>\n",
       "      <td>NaN</td>\n",
       "      <td>19.44</td>\n",
       "      <td>16.67</td>\n",
       "      <td>13.89</td>\n",
       "      <td>22.22</td>\n",
       "      <td>11.11</td>\n",
       "      <td>16.67</td>\n",
       "      <td>NaN</td>\n",
       "      <td>NaN</td>\n",
       "      <td>NaN</td>\n",
       "      <td>NaN</td>\n",
       "      <td>NaN</td>\n",
       "      <td>NaN</td>\n",
       "      <td>NaN</td>\n",
       "      <td>NaN</td>\n",
       "      <td>NaN</td>\n",
       "      <td>NaN</td>\n",
       "      <td>NaN</td>\n",
       "      <td>NaN</td>\n",
       "      <td>6.0</td>\n",
       "      <td>7.0</td>\n",
       "      <td>8.0</td>\n",
       "      <td>7.0</td>\n",
       "      <td>6.0</td>\n",
       "      <td>NaN</td>\n",
       "      <td>NaN</td>\n",
       "      <td>NaN</td>\n",
       "      <td>NaN</td>\n",
       "      <td>NaN</td>\n",
       "      <td>1.0</td>\n",
       "      <td>1.0</td>\n",
       "      <td>0.0</td>\n",
       "      <td>NaN</td>\n",
       "      <td>NaN</td>\n",
       "      <td>15.0</td>\n",
       "      <td>20.0</td>\n",
       "      <td>20.0</td>\n",
       "      <td>15.0</td>\n",
       "      <td>15.0</td>\n",
       "      <td>15.0</td>\n",
       "      <td>NaN</td>\n",
       "      <td>NaN</td>\n",
       "      <td>NaN</td>\n",
       "      <td>NaN</td>\n",
       "      <td>NaN</td>\n",
       "      <td>NaN</td>\n",
       "      <td>NaN</td>\n",
       "      <td>NaN</td>\n",
       "      <td>NaN</td>\n",
       "      <td>NaN</td>\n",
       "      <td>NaN</td>\n",
       "      <td>NaN</td>\n",
       "      <td>NaN</td>\n",
       "      <td>NaN</td>\n",
       "      <td>NaN</td>\n",
       "      <td>NaN</td>\n",
       "      <td>NaN</td>\n",
       "      <td>NaN</td>\n",
       "      <td>5.0</td>\n",
       "      <td>7.0</td>\n",
       "      <td>7.0</td>\n",
       "      <td>7.0</td>\n",
       "      <td>7.0</td>\n",
       "      <td>NaN</td>\n",
       "      <td>NaN</td>\n",
       "      <td>NaN</td>\n",
       "      <td>NaN</td>\n",
       "      <td>NaN</td>\n",
       "      <td>Female</td>\n",
       "      <td>65 000 to 70 000</td>\n",
       "      <td>Income Distribution</td>\n",
       "    </tr>\n",
       "    <tr>\n",
       "      <th>1</th>\n",
       "      <td>2</td>\n",
       "      <td>2.0</td>\n",
       "      <td>0.0</td>\n",
       "      <td>3.0</td>\n",
       "      <td>1.0</td>\n",
       "      <td>1.0</td>\n",
       "      <td>10.0</td>\n",
       "      <td>3.0</td>\n",
       "      <td>NaN</td>\n",
       "      <td>5.5</td>\n",
       "      <td>5.5</td>\n",
       "      <td>15.5</td>\n",
       "      <td>0.2</td>\n",
       "      <td>0.258</td>\n",
       "      <td>0.8</td>\n",
       "      <td>25.2</td>\n",
       "      <td>2.3</td>\n",
       "      <td>44.233</td>\n",
       "      <td>7.911</td>\n",
       "      <td>16.511</td>\n",
       "      <td>16.911</td>\n",
       "      <td>4.511</td>\n",
       "      <td>9.922</td>\n",
       "      <td>0.6</td>\n",
       "      <td>7.7</td>\n",
       "      <td>7.1</td>\n",
       "      <td>7.9</td>\n",
       "      <td>7.5</td>\n",
       "      <td>7.5</td>\n",
       "      <td>6.5</td>\n",
       "      <td>7.60</td>\n",
       "      <td>5.5</td>\n",
       "      <td>1.900000</td>\n",
       "      <td>24.0</td>\n",
       "      <td>1.0</td>\n",
       "      <td>2.0</td>\n",
       "      <td>2.0</td>\n",
       "      <td>5.0</td>\n",
       "      <td>65929.0</td>\n",
       "      <td>1.0</td>\n",
       "      <td>5.0</td>\n",
       "      <td>1.0</td>\n",
       "      <td>NaN</td>\n",
       "      <td>3.0</td>\n",
       "      <td>2.0</td>\n",
       "      <td>7.0</td>\n",
       "      <td>10.0</td>\n",
       "      <td>8.0</td>\n",
       "      <td>6.0</td>\n",
       "      <td>3.0</td>\n",
       "      <td>5.0</td>\n",
       "      <td>8.0</td>\n",
       "      <td>10.0</td>\n",
       "      <td>1.0</td>\n",
       "      <td>9.0</td>\n",
       "      <td>8.0</td>\n",
       "      <td>7.0</td>\n",
       "      <td>8.0</td>\n",
       "      <td>3.0</td>\n",
       "      <td>1.0</td>\n",
       "      <td>4.0</td>\n",
       "      <td>5.0</td>\n",
       "      <td>45.0</td>\n",
       "      <td>5.0</td>\n",
       "      <td>25.0</td>\n",
       "      <td>20.0</td>\n",
       "      <td>0.0</td>\n",
       "      <td>5.0</td>\n",
       "      <td>NaN</td>\n",
       "      <td>NaN</td>\n",
       "      <td>NaN</td>\n",
       "      <td>NaN</td>\n",
       "      <td>NaN</td>\n",
       "      <td>NaN</td>\n",
       "      <td>65.0</td>\n",
       "      <td>0.0</td>\n",
       "      <td>10.0</td>\n",
       "      <td>25.0</td>\n",
       "      <td>0.0</td>\n",
       "      <td>0.0</td>\n",
       "      <td>7.0</td>\n",
       "      <td>5.0</td>\n",
       "      <td>10.0</td>\n",
       "      <td>8.0</td>\n",
       "      <td>3.0</td>\n",
       "      <td>NaN</td>\n",
       "      <td>NaN</td>\n",
       "      <td>NaN</td>\n",
       "      <td>NaN</td>\n",
       "      <td>NaN</td>\n",
       "      <td>0.4</td>\n",
       "      <td>6.4</td>\n",
       "      <td>7.0</td>\n",
       "      <td>7.7</td>\n",
       "      <td>6.1</td>\n",
       "      <td>6.5</td>\n",
       "      <td>5.7</td>\n",
       "      <td>6.6</td>\n",
       "      <td>5.900000</td>\n",
       "      <td>1.900000</td>\n",
       "      <td>3.0</td>\n",
       "      <td>NaN</td>\n",
       "      <td>NaN</td>\n",
       "      <td>NaN</td>\n",
       "      <td>NaN</td>\n",
       "      <td>NaN</td>\n",
       "      <td>NaN</td>\n",
       "      <td>NaN</td>\n",
       "      <td>NaN</td>\n",
       "      <td>NaN</td>\n",
       "      <td>NaN</td>\n",
       "      <td>NaN</td>\n",
       "      <td>5.0</td>\n",
       "      <td>2.0</td>\n",
       "      <td>NaN</td>\n",
       "      <td>NaN</td>\n",
       "      <td>NaN</td>\n",
       "      <td>NaN</td>\n",
       "      <td>NaN</td>\n",
       "      <td>NaN</td>\n",
       "      <td>NaN</td>\n",
       "      <td>18.92</td>\n",
       "      <td>18.92</td>\n",
       "      <td>21.62</td>\n",
       "      <td>27.03</td>\n",
       "      <td>5.41</td>\n",
       "      <td>8.11</td>\n",
       "      <td>NaN</td>\n",
       "      <td>NaN</td>\n",
       "      <td>NaN</td>\n",
       "      <td>NaN</td>\n",
       "      <td>NaN</td>\n",
       "      <td>NaN</td>\n",
       "      <td>NaN</td>\n",
       "      <td>NaN</td>\n",
       "      <td>NaN</td>\n",
       "      <td>NaN</td>\n",
       "      <td>NaN</td>\n",
       "      <td>NaN</td>\n",
       "      <td>7.0</td>\n",
       "      <td>6.0</td>\n",
       "      <td>8.0</td>\n",
       "      <td>9.0</td>\n",
       "      <td>4.0</td>\n",
       "      <td>NaN</td>\n",
       "      <td>NaN</td>\n",
       "      <td>NaN</td>\n",
       "      <td>NaN</td>\n",
       "      <td>NaN</td>\n",
       "      <td>0.0</td>\n",
       "      <td>0.0</td>\n",
       "      <td>0.0</td>\n",
       "      <td>NaN</td>\n",
       "      <td>NaN</td>\n",
       "      <td>30.0</td>\n",
       "      <td>5.0</td>\n",
       "      <td>40.0</td>\n",
       "      <td>15.0</td>\n",
       "      <td>0.0</td>\n",
       "      <td>10.0</td>\n",
       "      <td>NaN</td>\n",
       "      <td>NaN</td>\n",
       "      <td>NaN</td>\n",
       "      <td>NaN</td>\n",
       "      <td>NaN</td>\n",
       "      <td>NaN</td>\n",
       "      <td>NaN</td>\n",
       "      <td>NaN</td>\n",
       "      <td>NaN</td>\n",
       "      <td>NaN</td>\n",
       "      <td>NaN</td>\n",
       "      <td>NaN</td>\n",
       "      <td>NaN</td>\n",
       "      <td>NaN</td>\n",
       "      <td>NaN</td>\n",
       "      <td>NaN</td>\n",
       "      <td>NaN</td>\n",
       "      <td>NaN</td>\n",
       "      <td>7.0</td>\n",
       "      <td>6.0</td>\n",
       "      <td>9.0</td>\n",
       "      <td>9.0</td>\n",
       "      <td>4.0</td>\n",
       "      <td>NaN</td>\n",
       "      <td>NaN</td>\n",
       "      <td>NaN</td>\n",
       "      <td>NaN</td>\n",
       "      <td>NaN</td>\n",
       "      <td>Female</td>\n",
       "      <td>65 000 to 70 000</td>\n",
       "      <td>Income Distribution</td>\n",
       "    </tr>\n",
       "    <tr>\n",
       "      <th>2</th>\n",
       "      <td>4</td>\n",
       "      <td>4.0</td>\n",
       "      <td>0.0</td>\n",
       "      <td>7.0</td>\n",
       "      <td>1.0</td>\n",
       "      <td>1.0</td>\n",
       "      <td>10.0</td>\n",
       "      <td>6.0</td>\n",
       "      <td>NaN</td>\n",
       "      <td>5.5</td>\n",
       "      <td>5.5</td>\n",
       "      <td>15.5</td>\n",
       "      <td>0.2</td>\n",
       "      <td>-0.007</td>\n",
       "      <td>0.8</td>\n",
       "      <td>25.2</td>\n",
       "      <td>2.3</td>\n",
       "      <td>44.233</td>\n",
       "      <td>7.911</td>\n",
       "      <td>16.511</td>\n",
       "      <td>16.911</td>\n",
       "      <td>4.511</td>\n",
       "      <td>9.922</td>\n",
       "      <td>0.6</td>\n",
       "      <td>7.0</td>\n",
       "      <td>7.1</td>\n",
       "      <td>7.7</td>\n",
       "      <td>7.5</td>\n",
       "      <td>7.7</td>\n",
       "      <td>7.2</td>\n",
       "      <td>7.30</td>\n",
       "      <td>6.5</td>\n",
       "      <td>1.777778</td>\n",
       "      <td>23.0</td>\n",
       "      <td>1.0</td>\n",
       "      <td>2.0</td>\n",
       "      <td>1.0</td>\n",
       "      <td>1.0</td>\n",
       "      <td>37754.0</td>\n",
       "      <td>1.0</td>\n",
       "      <td>5.0</td>\n",
       "      <td>1.0</td>\n",
       "      <td>1.0</td>\n",
       "      <td>1.0</td>\n",
       "      <td>1.0</td>\n",
       "      <td>6.0</td>\n",
       "      <td>7.0</td>\n",
       "      <td>6.0</td>\n",
       "      <td>7.0</td>\n",
       "      <td>7.0</td>\n",
       "      <td>5.0</td>\n",
       "      <td>7.0</td>\n",
       "      <td>7.0</td>\n",
       "      <td>7.0</td>\n",
       "      <td>9.0</td>\n",
       "      <td>7.0</td>\n",
       "      <td>8.0</td>\n",
       "      <td>7.0</td>\n",
       "      <td>1.0</td>\n",
       "      <td>8.0</td>\n",
       "      <td>1.0</td>\n",
       "      <td>2.0</td>\n",
       "      <td>20.0</td>\n",
       "      <td>20.0</td>\n",
       "      <td>20.0</td>\n",
       "      <td>20.0</td>\n",
       "      <td>10.0</td>\n",
       "      <td>10.0</td>\n",
       "      <td>NaN</td>\n",
       "      <td>NaN</td>\n",
       "      <td>NaN</td>\n",
       "      <td>NaN</td>\n",
       "      <td>NaN</td>\n",
       "      <td>NaN</td>\n",
       "      <td>30.0</td>\n",
       "      <td>10.0</td>\n",
       "      <td>15.0</td>\n",
       "      <td>30.0</td>\n",
       "      <td>5.0</td>\n",
       "      <td>10.0</td>\n",
       "      <td>7.0</td>\n",
       "      <td>8.0</td>\n",
       "      <td>9.0</td>\n",
       "      <td>7.0</td>\n",
       "      <td>8.0</td>\n",
       "      <td>NaN</td>\n",
       "      <td>NaN</td>\n",
       "      <td>NaN</td>\n",
       "      <td>NaN</td>\n",
       "      <td>NaN</td>\n",
       "      <td>0.3</td>\n",
       "      <td>6.4</td>\n",
       "      <td>8.9</td>\n",
       "      <td>8.6</td>\n",
       "      <td>7.8</td>\n",
       "      <td>7.8</td>\n",
       "      <td>7.1</td>\n",
       "      <td>6.6</td>\n",
       "      <td>5.200000</td>\n",
       "      <td>1.800000</td>\n",
       "      <td>2.0</td>\n",
       "      <td>NaN</td>\n",
       "      <td>NaN</td>\n",
       "      <td>NaN</td>\n",
       "      <td>NaN</td>\n",
       "      <td>NaN</td>\n",
       "      <td>NaN</td>\n",
       "      <td>NaN</td>\n",
       "      <td>NaN</td>\n",
       "      <td>NaN</td>\n",
       "      <td>NaN</td>\n",
       "      <td>NaN</td>\n",
       "      <td>4.0</td>\n",
       "      <td>3.0</td>\n",
       "      <td>2.0</td>\n",
       "      <td>NaN</td>\n",
       "      <td>NaN</td>\n",
       "      <td>NaN</td>\n",
       "      <td>NaN</td>\n",
       "      <td>NaN</td>\n",
       "      <td>NaN</td>\n",
       "      <td>24.14</td>\n",
       "      <td>13.79</td>\n",
       "      <td>20.69</td>\n",
       "      <td>27.59</td>\n",
       "      <td>10.34</td>\n",
       "      <td>3.45</td>\n",
       "      <td>NaN</td>\n",
       "      <td>NaN</td>\n",
       "      <td>NaN</td>\n",
       "      <td>NaN</td>\n",
       "      <td>NaN</td>\n",
       "      <td>NaN</td>\n",
       "      <td>NaN</td>\n",
       "      <td>NaN</td>\n",
       "      <td>NaN</td>\n",
       "      <td>NaN</td>\n",
       "      <td>NaN</td>\n",
       "      <td>NaN</td>\n",
       "      <td>6.0</td>\n",
       "      <td>8.0</td>\n",
       "      <td>7.0</td>\n",
       "      <td>8.0</td>\n",
       "      <td>6.0</td>\n",
       "      <td>NaN</td>\n",
       "      <td>NaN</td>\n",
       "      <td>NaN</td>\n",
       "      <td>NaN</td>\n",
       "      <td>NaN</td>\n",
       "      <td>0.0</td>\n",
       "      <td>0.0</td>\n",
       "      <td>0.0</td>\n",
       "      <td>NaN</td>\n",
       "      <td>NaN</td>\n",
       "      <td>20.0</td>\n",
       "      <td>20.0</td>\n",
       "      <td>20.0</td>\n",
       "      <td>20.0</td>\n",
       "      <td>0.0</td>\n",
       "      <td>20.0</td>\n",
       "      <td>NaN</td>\n",
       "      <td>NaN</td>\n",
       "      <td>NaN</td>\n",
       "      <td>NaN</td>\n",
       "      <td>NaN</td>\n",
       "      <td>NaN</td>\n",
       "      <td>NaN</td>\n",
       "      <td>NaN</td>\n",
       "      <td>NaN</td>\n",
       "      <td>NaN</td>\n",
       "      <td>NaN</td>\n",
       "      <td>NaN</td>\n",
       "      <td>NaN</td>\n",
       "      <td>NaN</td>\n",
       "      <td>NaN</td>\n",
       "      <td>NaN</td>\n",
       "      <td>NaN</td>\n",
       "      <td>NaN</td>\n",
       "      <td>6.0</td>\n",
       "      <td>5.0</td>\n",
       "      <td>6.0</td>\n",
       "      <td>8.0</td>\n",
       "      <td>5.0</td>\n",
       "      <td>NaN</td>\n",
       "      <td>NaN</td>\n",
       "      <td>NaN</td>\n",
       "      <td>NaN</td>\n",
       "      <td>NaN</td>\n",
       "      <td>Female</td>\n",
       "      <td>35 000 to 40 000</td>\n",
       "      <td>Income Distribution</td>\n",
       "    </tr>\n",
       "    <tr>\n",
       "      <th>3</th>\n",
       "      <td>5</td>\n",
       "      <td>5.0</td>\n",
       "      <td>0.0</td>\n",
       "      <td>9.0</td>\n",
       "      <td>1.0</td>\n",
       "      <td>1.0</td>\n",
       "      <td>10.0</td>\n",
       "      <td>4.0</td>\n",
       "      <td>NaN</td>\n",
       "      <td>5.5</td>\n",
       "      <td>5.5</td>\n",
       "      <td>15.5</td>\n",
       "      <td>0.2</td>\n",
       "      <td>-0.079</td>\n",
       "      <td>0.8</td>\n",
       "      <td>25.2</td>\n",
       "      <td>2.3</td>\n",
       "      <td>44.233</td>\n",
       "      <td>7.911</td>\n",
       "      <td>16.511</td>\n",
       "      <td>16.911</td>\n",
       "      <td>4.511</td>\n",
       "      <td>9.922</td>\n",
       "      <td>0.3</td>\n",
       "      <td>5.3</td>\n",
       "      <td>7.7</td>\n",
       "      <td>7.6</td>\n",
       "      <td>7.2</td>\n",
       "      <td>7.8</td>\n",
       "      <td>6.2</td>\n",
       "      <td>6.10</td>\n",
       "      <td>6.5</td>\n",
       "      <td>1.700000</td>\n",
       "      <td>21.0</td>\n",
       "      <td>1.0</td>\n",
       "      <td>2.0</td>\n",
       "      <td>8.0</td>\n",
       "      <td>1.0</td>\n",
       "      <td>86340.0</td>\n",
       "      <td>2.0</td>\n",
       "      <td>4.0</td>\n",
       "      <td>1.0</td>\n",
       "      <td>1.0</td>\n",
       "      <td>7.0</td>\n",
       "      <td>4.0</td>\n",
       "      <td>7.0</td>\n",
       "      <td>7.0</td>\n",
       "      <td>6.0</td>\n",
       "      <td>8.0</td>\n",
       "      <td>6.0</td>\n",
       "      <td>6.0</td>\n",
       "      <td>8.0</td>\n",
       "      <td>6.0</td>\n",
       "      <td>8.0</td>\n",
       "      <td>6.0</td>\n",
       "      <td>6.0</td>\n",
       "      <td>3.0</td>\n",
       "      <td>7.0</td>\n",
       "      <td>8.0</td>\n",
       "      <td>3.0</td>\n",
       "      <td>7.0</td>\n",
       "      <td>10.0</td>\n",
       "      <td>20.0</td>\n",
       "      <td>5.0</td>\n",
       "      <td>25.0</td>\n",
       "      <td>25.0</td>\n",
       "      <td>10.0</td>\n",
       "      <td>15.0</td>\n",
       "      <td>NaN</td>\n",
       "      <td>NaN</td>\n",
       "      <td>NaN</td>\n",
       "      <td>NaN</td>\n",
       "      <td>NaN</td>\n",
       "      <td>NaN</td>\n",
       "      <td>50.0</td>\n",
       "      <td>10.0</td>\n",
       "      <td>10.0</td>\n",
       "      <td>20.0</td>\n",
       "      <td>5.0</td>\n",
       "      <td>5.0</td>\n",
       "      <td>6.0</td>\n",
       "      <td>3.0</td>\n",
       "      <td>6.0</td>\n",
       "      <td>10.0</td>\n",
       "      <td>8.0</td>\n",
       "      <td>NaN</td>\n",
       "      <td>NaN</td>\n",
       "      <td>NaN</td>\n",
       "      <td>NaN</td>\n",
       "      <td>NaN</td>\n",
       "      <td>0.6</td>\n",
       "      <td>6.3</td>\n",
       "      <td>6.0</td>\n",
       "      <td>7.0</td>\n",
       "      <td>6.0</td>\n",
       "      <td>5.6</td>\n",
       "      <td>6.2</td>\n",
       "      <td>7.2</td>\n",
       "      <td>3.700000</td>\n",
       "      <td>1.700000</td>\n",
       "      <td>NaN</td>\n",
       "      <td>NaN</td>\n",
       "      <td>NaN</td>\n",
       "      <td>NaN</td>\n",
       "      <td>NaN</td>\n",
       "      <td>NaN</td>\n",
       "      <td>NaN</td>\n",
       "      <td>NaN</td>\n",
       "      <td>NaN</td>\n",
       "      <td>NaN</td>\n",
       "      <td>NaN</td>\n",
       "      <td>NaN</td>\n",
       "      <td>7.0</td>\n",
       "      <td>2.0</td>\n",
       "      <td>2.0</td>\n",
       "      <td>NaN</td>\n",
       "      <td>NaN</td>\n",
       "      <td>NaN</td>\n",
       "      <td>NaN</td>\n",
       "      <td>NaN</td>\n",
       "      <td>NaN</td>\n",
       "      <td>15.79</td>\n",
       "      <td>13.16</td>\n",
       "      <td>18.42</td>\n",
       "      <td>15.79</td>\n",
       "      <td>15.79</td>\n",
       "      <td>21.05</td>\n",
       "      <td>NaN</td>\n",
       "      <td>NaN</td>\n",
       "      <td>NaN</td>\n",
       "      <td>NaN</td>\n",
       "      <td>NaN</td>\n",
       "      <td>NaN</td>\n",
       "      <td>NaN</td>\n",
       "      <td>NaN</td>\n",
       "      <td>NaN</td>\n",
       "      <td>NaN</td>\n",
       "      <td>NaN</td>\n",
       "      <td>NaN</td>\n",
       "      <td>6.0</td>\n",
       "      <td>6.0</td>\n",
       "      <td>9.0</td>\n",
       "      <td>9.0</td>\n",
       "      <td>9.0</td>\n",
       "      <td>NaN</td>\n",
       "      <td>NaN</td>\n",
       "      <td>NaN</td>\n",
       "      <td>NaN</td>\n",
       "      <td>NaN</td>\n",
       "      <td>0.0</td>\n",
       "      <td>0.0</td>\n",
       "      <td>0.0</td>\n",
       "      <td>NaN</td>\n",
       "      <td>NaN</td>\n",
       "      <td>30.0</td>\n",
       "      <td>10.0</td>\n",
       "      <td>20.0</td>\n",
       "      <td>20.0</td>\n",
       "      <td>10.0</td>\n",
       "      <td>10.0</td>\n",
       "      <td>NaN</td>\n",
       "      <td>NaN</td>\n",
       "      <td>NaN</td>\n",
       "      <td>NaN</td>\n",
       "      <td>NaN</td>\n",
       "      <td>NaN</td>\n",
       "      <td>NaN</td>\n",
       "      <td>NaN</td>\n",
       "      <td>NaN</td>\n",
       "      <td>NaN</td>\n",
       "      <td>NaN</td>\n",
       "      <td>NaN</td>\n",
       "      <td>NaN</td>\n",
       "      <td>NaN</td>\n",
       "      <td>NaN</td>\n",
       "      <td>NaN</td>\n",
       "      <td>NaN</td>\n",
       "      <td>NaN</td>\n",
       "      <td>4.0</td>\n",
       "      <td>5.0</td>\n",
       "      <td>10.0</td>\n",
       "      <td>6.0</td>\n",
       "      <td>10.0</td>\n",
       "      <td>NaN</td>\n",
       "      <td>NaN</td>\n",
       "      <td>NaN</td>\n",
       "      <td>NaN</td>\n",
       "      <td>NaN</td>\n",
       "      <td>Female</td>\n",
       "      <td>85 000 to 90 000</td>\n",
       "      <td>Income Distribution</td>\n",
       "    </tr>\n",
       "    <tr>\n",
       "      <th>4</th>\n",
       "      <td>6</td>\n",
       "      <td>6.0</td>\n",
       "      <td>0.0</td>\n",
       "      <td>11.0</td>\n",
       "      <td>1.0</td>\n",
       "      <td>1.0</td>\n",
       "      <td>10.0</td>\n",
       "      <td>8.0</td>\n",
       "      <td>NaN</td>\n",
       "      <td>5.5</td>\n",
       "      <td>5.5</td>\n",
       "      <td>15.5</td>\n",
       "      <td>0.2</td>\n",
       "      <td>0.224</td>\n",
       "      <td>0.1</td>\n",
       "      <td>25.2</td>\n",
       "      <td>2.3</td>\n",
       "      <td>44.233</td>\n",
       "      <td>7.911</td>\n",
       "      <td>16.511</td>\n",
       "      <td>16.911</td>\n",
       "      <td>4.511</td>\n",
       "      <td>9.922</td>\n",
       "      <td>0.5</td>\n",
       "      <td>6.8</td>\n",
       "      <td>7.8</td>\n",
       "      <td>8.6</td>\n",
       "      <td>7.0</td>\n",
       "      <td>8.0</td>\n",
       "      <td>6.3</td>\n",
       "      <td>6.80</td>\n",
       "      <td>5.5</td>\n",
       "      <td>1.800000</td>\n",
       "      <td>23.0</td>\n",
       "      <td>1.0</td>\n",
       "      <td>4.0</td>\n",
       "      <td>1.0</td>\n",
       "      <td>1.0</td>\n",
       "      <td>60304.0</td>\n",
       "      <td>1.0</td>\n",
       "      <td>3.0</td>\n",
       "      <td>1.0</td>\n",
       "      <td>1.0</td>\n",
       "      <td>10.0</td>\n",
       "      <td>8.0</td>\n",
       "      <td>9.0</td>\n",
       "      <td>7.0</td>\n",
       "      <td>8.0</td>\n",
       "      <td>7.0</td>\n",
       "      <td>9.0</td>\n",
       "      <td>2.0</td>\n",
       "      <td>6.0</td>\n",
       "      <td>9.0</td>\n",
       "      <td>2.0</td>\n",
       "      <td>5.0</td>\n",
       "      <td>6.0</td>\n",
       "      <td>6.0</td>\n",
       "      <td>4.0</td>\n",
       "      <td>1.0</td>\n",
       "      <td>1.0</td>\n",
       "      <td>4.0</td>\n",
       "      <td>3.0</td>\n",
       "      <td>10.0</td>\n",
       "      <td>25.0</td>\n",
       "      <td>20.0</td>\n",
       "      <td>25.0</td>\n",
       "      <td>5.0</td>\n",
       "      <td>15.0</td>\n",
       "      <td>NaN</td>\n",
       "      <td>NaN</td>\n",
       "      <td>NaN</td>\n",
       "      <td>NaN</td>\n",
       "      <td>NaN</td>\n",
       "      <td>NaN</td>\n",
       "      <td>25.0</td>\n",
       "      <td>10.0</td>\n",
       "      <td>10.0</td>\n",
       "      <td>25.0</td>\n",
       "      <td>10.0</td>\n",
       "      <td>20.0</td>\n",
       "      <td>5.0</td>\n",
       "      <td>7.0</td>\n",
       "      <td>8.0</td>\n",
       "      <td>9.0</td>\n",
       "      <td>5.0</td>\n",
       "      <td>NaN</td>\n",
       "      <td>NaN</td>\n",
       "      <td>NaN</td>\n",
       "      <td>NaN</td>\n",
       "      <td>NaN</td>\n",
       "      <td>0.6</td>\n",
       "      <td>5.9</td>\n",
       "      <td>7.3</td>\n",
       "      <td>8.0</td>\n",
       "      <td>6.0</td>\n",
       "      <td>5.2</td>\n",
       "      <td>4.4</td>\n",
       "      <td>6.5</td>\n",
       "      <td>4.900000</td>\n",
       "      <td>1.800000</td>\n",
       "      <td>4.0</td>\n",
       "      <td>NaN</td>\n",
       "      <td>NaN</td>\n",
       "      <td>NaN</td>\n",
       "      <td>NaN</td>\n",
       "      <td>NaN</td>\n",
       "      <td>NaN</td>\n",
       "      <td>NaN</td>\n",
       "      <td>NaN</td>\n",
       "      <td>NaN</td>\n",
       "      <td>NaN</td>\n",
       "      <td>NaN</td>\n",
       "      <td>3.0</td>\n",
       "      <td>3.0</td>\n",
       "      <td>2.0</td>\n",
       "      <td>NaN</td>\n",
       "      <td>NaN</td>\n",
       "      <td>NaN</td>\n",
       "      <td>NaN</td>\n",
       "      <td>NaN</td>\n",
       "      <td>NaN</td>\n",
       "      <td>10.26</td>\n",
       "      <td>25.64</td>\n",
       "      <td>20.51</td>\n",
       "      <td>23.08</td>\n",
       "      <td>2.56</td>\n",
       "      <td>17.95</td>\n",
       "      <td>NaN</td>\n",
       "      <td>NaN</td>\n",
       "      <td>NaN</td>\n",
       "      <td>NaN</td>\n",
       "      <td>NaN</td>\n",
       "      <td>NaN</td>\n",
       "      <td>NaN</td>\n",
       "      <td>NaN</td>\n",
       "      <td>NaN</td>\n",
       "      <td>NaN</td>\n",
       "      <td>NaN</td>\n",
       "      <td>NaN</td>\n",
       "      <td>5.0</td>\n",
       "      <td>8.0</td>\n",
       "      <td>9.0</td>\n",
       "      <td>8.0</td>\n",
       "      <td>3.0</td>\n",
       "      <td>NaN</td>\n",
       "      <td>NaN</td>\n",
       "      <td>NaN</td>\n",
       "      <td>NaN</td>\n",
       "      <td>NaN</td>\n",
       "      <td>NaN</td>\n",
       "      <td>NaN</td>\n",
       "      <td>NaN</td>\n",
       "      <td>NaN</td>\n",
       "      <td>NaN</td>\n",
       "      <td>NaN</td>\n",
       "      <td>NaN</td>\n",
       "      <td>NaN</td>\n",
       "      <td>NaN</td>\n",
       "      <td>NaN</td>\n",
       "      <td>NaN</td>\n",
       "      <td>NaN</td>\n",
       "      <td>NaN</td>\n",
       "      <td>NaN</td>\n",
       "      <td>NaN</td>\n",
       "      <td>NaN</td>\n",
       "      <td>NaN</td>\n",
       "      <td>NaN</td>\n",
       "      <td>NaN</td>\n",
       "      <td>NaN</td>\n",
       "      <td>NaN</td>\n",
       "      <td>NaN</td>\n",
       "      <td>NaN</td>\n",
       "      <td>NaN</td>\n",
       "      <td>NaN</td>\n",
       "      <td>NaN</td>\n",
       "      <td>NaN</td>\n",
       "      <td>NaN</td>\n",
       "      <td>NaN</td>\n",
       "      <td>NaN</td>\n",
       "      <td>NaN</td>\n",
       "      <td>NaN</td>\n",
       "      <td>NaN</td>\n",
       "      <td>NaN</td>\n",
       "      <td>NaN</td>\n",
       "      <td>NaN</td>\n",
       "      <td>NaN</td>\n",
       "      <td>NaN</td>\n",
       "      <td>NaN</td>\n",
       "      <td>Female</td>\n",
       "      <td>60 000 to 65 000</td>\n",
       "      <td>Income Distribution</td>\n",
       "    </tr>\n",
       "  </tbody>\n",
       "</table>\n",
       "</div>"
      ],
      "text/plain": [
       "   iid   id  gender   idg  condtn  wave  round  position  positin1  order  \\\n",
       "0    1  1.0     0.0   1.0     1.0   1.0   10.0       7.0       NaN    5.5   \n",
       "1    2  2.0     0.0   3.0     1.0   1.0   10.0       3.0       NaN    5.5   \n",
       "2    4  4.0     0.0   7.0     1.0   1.0   10.0       6.0       NaN    5.5   \n",
       "3    5  5.0     0.0   9.0     1.0   1.0   10.0       4.0       NaN    5.5   \n",
       "4    6  6.0     0.0  11.0     1.0   1.0   10.0       8.0       NaN    5.5   \n",
       "\n",
       "   partner   pid  match  int_corr  samerace  age_o  race_o  pf_o_att  \\\n",
       "0      5.5  15.5    0.4     0.267       0.1   25.2     2.3    44.233   \n",
       "1      5.5  15.5    0.2     0.258       0.8   25.2     2.3    44.233   \n",
       "2      5.5  15.5    0.2    -0.007       0.8   25.2     2.3    44.233   \n",
       "3      5.5  15.5    0.2    -0.079       0.8   25.2     2.3    44.233   \n",
       "4      5.5  15.5    0.2     0.224       0.1   25.2     2.3    44.233   \n",
       "\n",
       "   pf_o_sin  pf_o_int  pf_o_fun  pf_o_amb  pf_o_sha  dec_o  attr_o  sinc_o  \\\n",
       "0     7.911    16.511    16.911     4.511     9.922    0.5     6.7     7.4   \n",
       "1     7.911    16.511    16.911     4.511     9.922    0.6     7.7     7.1   \n",
       "2     7.911    16.511    16.911     4.511     9.922    0.6     7.0     7.1   \n",
       "3     7.911    16.511    16.911     4.511     9.922    0.3     5.3     7.7   \n",
       "4     7.911    16.511    16.911     4.511     9.922    0.5     6.8     7.8   \n",
       "\n",
       "   intel_o  fun_o  amb_o  shar_o  like_o  prob_o     met_o   age  field_cd  \\\n",
       "0      8.0    7.2    8.0     7.1    6.85     5.7  1.900000  21.0       1.0   \n",
       "1      7.9    7.5    7.5     6.5    7.60     5.5  1.900000  24.0       1.0   \n",
       "2      7.7    7.5    7.7     7.2    7.30     6.5  1.777778  23.0       1.0   \n",
       "3      7.6    7.2    7.8     6.2    6.10     6.5  1.700000  21.0       1.0   \n",
       "4      8.6    7.0    8.0     6.3    6.80     5.5  1.800000  23.0       1.0   \n",
       "\n",
       "   race  imprace  imprelig   income  goal  date  go_out  career_c  sports  \\\n",
       "0   4.0      2.0       4.0  69487.0   2.0   7.0     1.0       NaN     9.0   \n",
       "1   2.0      2.0       5.0  65929.0   1.0   5.0     1.0       NaN     3.0   \n",
       "2   2.0      1.0       1.0  37754.0   1.0   5.0     1.0       1.0     1.0   \n",
       "3   2.0      8.0       1.0  86340.0   2.0   4.0     1.0       1.0     7.0   \n",
       "4   4.0      1.0       1.0  60304.0   1.0   3.0     1.0       1.0    10.0   \n",
       "\n",
       "   tvsports  exercise  dining  museums  art  hiking  gaming  clubbing  \\\n",
       "0       2.0       8.0     9.0      1.0  1.0     5.0     1.0       5.0   \n",
       "1       2.0       7.0    10.0      8.0  6.0     3.0     5.0       8.0   \n",
       "2       1.0       6.0     7.0      6.0  7.0     7.0     5.0       7.0   \n",
       "3       4.0       7.0     7.0      6.0  8.0     6.0     6.0       8.0   \n",
       "4       8.0       9.0     7.0      8.0  7.0     9.0     2.0       6.0   \n",
       "\n",
       "   reading   tv  theater  movies  concerts  music  shopping  yoga  exphappy  \\\n",
       "0      6.0  9.0      1.0    10.0      10.0    9.0       8.0   1.0       3.0   \n",
       "1     10.0  1.0      9.0     8.0       7.0    8.0       3.0   1.0       4.0   \n",
       "2      7.0  7.0      9.0     7.0       8.0    7.0       1.0   8.0       1.0   \n",
       "3      6.0  8.0      6.0     6.0       3.0    7.0       8.0   3.0       7.0   \n",
       "4      9.0  2.0      5.0     6.0       6.0    4.0       1.0   1.0       4.0   \n",
       "\n",
       "   expnum  attr1_1  sinc1_1  intel1_1  fun1_1  amb1_1  shar1_1  attr4_1  \\\n",
       "0     2.0     15.0     20.0      20.0    15.0    15.0     15.0      NaN   \n",
       "1     5.0     45.0      5.0      25.0    20.0     0.0      5.0      NaN   \n",
       "2     2.0     20.0     20.0      20.0    20.0    10.0     10.0      NaN   \n",
       "3    10.0     20.0      5.0      25.0    25.0    10.0     15.0      NaN   \n",
       "4     3.0     10.0     25.0      20.0    25.0     5.0     15.0      NaN   \n",
       "\n",
       "   sinc4_1  intel4_1  fun4_1  amb4_1  shar4_1  attr2_1  sinc2_1  intel2_1  \\\n",
       "0      NaN       NaN     NaN     NaN      NaN     35.0     20.0      15.0   \n",
       "1      NaN       NaN     NaN     NaN      NaN     65.0      0.0      10.0   \n",
       "2      NaN       NaN     NaN     NaN      NaN     30.0     10.0      15.0   \n",
       "3      NaN       NaN     NaN     NaN      NaN     50.0     10.0      10.0   \n",
       "4      NaN       NaN     NaN     NaN      NaN     25.0     10.0      10.0   \n",
       "\n",
       "   fun2_1  amb2_1  shar2_1  attr3_1  sinc3_1  fun3_1  intel3_1  amb3_1  \\\n",
       "0    20.0     5.0      5.0      6.0      8.0     8.0       8.0     7.0   \n",
       "1    25.0     0.0      0.0      7.0      5.0    10.0       8.0     3.0   \n",
       "2    30.0     5.0     10.0      7.0      8.0     9.0       7.0     8.0   \n",
       "3    20.0     5.0      5.0      6.0      3.0     6.0      10.0     8.0   \n",
       "4    25.0    10.0     20.0      5.0      7.0     8.0       9.0     5.0   \n",
       "\n",
       "   attr5_1  sinc5_1  intel5_1  fun5_1  amb5_1  dec  attr  sinc  intel  fun  \\\n",
       "0      NaN      NaN       NaN     NaN     NaN  0.8   5.7   7.3    7.3  6.8   \n",
       "1      NaN      NaN       NaN     NaN     NaN  0.4   6.4   7.0    7.7  6.1   \n",
       "2      NaN      NaN       NaN     NaN     NaN  0.3   6.4   8.9    8.6  7.8   \n",
       "3      NaN      NaN       NaN     NaN     NaN  0.6   6.3   6.0    7.0  6.0   \n",
       "4      NaN      NaN       NaN     NaN     NaN  0.6   5.9   7.3    8.0  6.0   \n",
       "\n",
       "   amb  shar  like      prob       met  match_es  attr1_s  sinc1_s  intel1_s  \\\n",
       "0  6.3   6.5   6.5  5.888889  1.777778       4.0      NaN      NaN       NaN   \n",
       "1  6.5   5.7   6.6  5.900000  1.900000       3.0      NaN      NaN       NaN   \n",
       "2  7.8   7.1   6.6  5.200000  1.800000       2.0      NaN      NaN       NaN   \n",
       "3  5.6   6.2   7.2  3.700000  1.700000       NaN      NaN      NaN       NaN   \n",
       "4  5.2   4.4   6.5  4.900000  1.800000       4.0      NaN      NaN       NaN   \n",
       "\n",
       "   fun1_s  amb1_s  shar1_s  attr3_s  sinc3_s  intel3_s  fun3_s  amb3_s  \\\n",
       "0     NaN     NaN      NaN      NaN      NaN       NaN     NaN     NaN   \n",
       "1     NaN     NaN      NaN      NaN      NaN       NaN     NaN     NaN   \n",
       "2     NaN     NaN      NaN      NaN      NaN       NaN     NaN     NaN   \n",
       "3     NaN     NaN      NaN      NaN      NaN       NaN     NaN     NaN   \n",
       "4     NaN     NaN      NaN      NaN      NaN       NaN     NaN     NaN   \n",
       "\n",
       "   satis_2  length  numdat_2  attr7_2  sinc7_2  intel7_2  fun7_2  amb7_2  \\\n",
       "0      6.0     2.0       1.0      NaN      NaN       NaN     NaN     NaN   \n",
       "1      5.0     2.0       NaN      NaN      NaN       NaN     NaN     NaN   \n",
       "2      4.0     3.0       2.0      NaN      NaN       NaN     NaN     NaN   \n",
       "3      7.0     2.0       2.0      NaN      NaN       NaN     NaN     NaN   \n",
       "4      3.0     3.0       2.0      NaN      NaN       NaN     NaN     NaN   \n",
       "\n",
       "   shar7_2  attr1_2  sinc1_2  intel1_2  fun1_2  amb1_2  shar1_2  attr4_2  \\\n",
       "0      NaN    19.44    16.67     13.89   22.22   11.11    16.67      NaN   \n",
       "1      NaN    18.92    18.92     21.62   27.03    5.41     8.11      NaN   \n",
       "2      NaN    24.14    13.79     20.69   27.59   10.34     3.45      NaN   \n",
       "3      NaN    15.79    13.16     18.42   15.79   15.79    21.05      NaN   \n",
       "4      NaN    10.26    25.64     20.51   23.08    2.56    17.95      NaN   \n",
       "\n",
       "   sinc4_2  intel4_2  fun4_2  amb4_2  shar4_2  attr2_2  sinc2_2  intel2_2  \\\n",
       "0      NaN       NaN     NaN     NaN      NaN      NaN      NaN       NaN   \n",
       "1      NaN       NaN     NaN     NaN      NaN      NaN      NaN       NaN   \n",
       "2      NaN       NaN     NaN     NaN      NaN      NaN      NaN       NaN   \n",
       "3      NaN       NaN     NaN     NaN      NaN      NaN      NaN       NaN   \n",
       "4      NaN       NaN     NaN     NaN      NaN      NaN      NaN       NaN   \n",
       "\n",
       "   fun2_2  amb2_2  shar2_2  attr3_2  sinc3_2  intel3_2  fun3_2  amb3_2  \\\n",
       "0     NaN     NaN      NaN      6.0      7.0       8.0     7.0     6.0   \n",
       "1     NaN     NaN      NaN      7.0      6.0       8.0     9.0     4.0   \n",
       "2     NaN     NaN      NaN      6.0      8.0       7.0     8.0     6.0   \n",
       "3     NaN     NaN      NaN      6.0      6.0       9.0     9.0     9.0   \n",
       "4     NaN     NaN      NaN      5.0      8.0       9.0     8.0     3.0   \n",
       "\n",
       "   attr5_2  sinc5_2  intel5_2  fun5_2  amb5_2  you_call  them_cal  date_3  \\\n",
       "0      NaN      NaN       NaN     NaN     NaN       1.0       1.0     0.0   \n",
       "1      NaN      NaN       NaN     NaN     NaN       0.0       0.0     0.0   \n",
       "2      NaN      NaN       NaN     NaN     NaN       0.0       0.0     0.0   \n",
       "3      NaN      NaN       NaN     NaN     NaN       0.0       0.0     0.0   \n",
       "4      NaN      NaN       NaN     NaN     NaN       NaN       NaN     NaN   \n",
       "\n",
       "   numdat_3  num_in_3  attr1_3  sinc1_3  intel1_3  fun1_3  amb1_3  shar1_3  \\\n",
       "0       NaN       NaN     15.0     20.0      20.0    15.0    15.0     15.0   \n",
       "1       NaN       NaN     30.0      5.0      40.0    15.0     0.0     10.0   \n",
       "2       NaN       NaN     20.0     20.0      20.0    20.0     0.0     20.0   \n",
       "3       NaN       NaN     30.0     10.0      20.0    20.0    10.0     10.0   \n",
       "4       NaN       NaN      NaN      NaN       NaN     NaN     NaN      NaN   \n",
       "\n",
       "   attr7_3  sinc7_3  intel7_3  fun7_3  amb7_3  shar7_3  attr4_3  sinc4_3  \\\n",
       "0      NaN      NaN       NaN     NaN     NaN      NaN      NaN      NaN   \n",
       "1      NaN      NaN       NaN     NaN     NaN      NaN      NaN      NaN   \n",
       "2      NaN      NaN       NaN     NaN     NaN      NaN      NaN      NaN   \n",
       "3      NaN      NaN       NaN     NaN     NaN      NaN      NaN      NaN   \n",
       "4      NaN      NaN       NaN     NaN     NaN      NaN      NaN      NaN   \n",
       "\n",
       "   intel4_3  fun4_3  amb4_3  shar4_3  attr2_3  sinc2_3  intel2_3  fun2_3  \\\n",
       "0       NaN     NaN     NaN      NaN      NaN      NaN       NaN     NaN   \n",
       "1       NaN     NaN     NaN      NaN      NaN      NaN       NaN     NaN   \n",
       "2       NaN     NaN     NaN      NaN      NaN      NaN       NaN     NaN   \n",
       "3       NaN     NaN     NaN      NaN      NaN      NaN       NaN     NaN   \n",
       "4       NaN     NaN     NaN      NaN      NaN      NaN       NaN     NaN   \n",
       "\n",
       "   amb2_3  shar2_3  attr3_3  sinc3_3  intel3_3  fun3_3  amb3_3  attr5_3  \\\n",
       "0     NaN      NaN      5.0      7.0       7.0     7.0     7.0      NaN   \n",
       "1     NaN      NaN      7.0      6.0       9.0     9.0     4.0      NaN   \n",
       "2     NaN      NaN      6.0      5.0       6.0     8.0     5.0      NaN   \n",
       "3     NaN      NaN      4.0      5.0      10.0     6.0    10.0      NaN   \n",
       "4     NaN      NaN      NaN      NaN       NaN     NaN     NaN      NaN   \n",
       "\n",
       "   sinc5_3  intel5_3  fun5_3  amb5_3 gender_name   income_category  \\\n",
       "0      NaN       NaN     NaN     NaN      Female  65 000 to 70 000   \n",
       "1      NaN       NaN     NaN     NaN      Female  65 000 to 70 000   \n",
       "2      NaN       NaN     NaN     NaN      Female  35 000 to 40 000   \n",
       "3      NaN       NaN     NaN     NaN      Female  85 000 to 90 000   \n",
       "4      NaN       NaN     NaN     NaN      Female  60 000 to 65 000   \n",
       "\n",
       "   income_distribution  \n",
       "0  Income Distribution  \n",
       "1  Income Distribution  \n",
       "2  Income Distribution  \n",
       "3  Income Distribution  \n",
       "4  Income Distribution  "
      ]
     },
     "execution_count": 87,
     "metadata": {},
     "output_type": "execute_result"
    }
   ],
   "source": [
    "df_income_iid.head()"
   ]
  },
  {
   "cell_type": "code",
   "execution_count": 90,
   "metadata": {},
   "outputs": [
    {
     "data": {
      "application/vnd.plotly.v1+json": {
       "config": {
        "plotlyServerURL": "https://plot.ly"
       },
       "data": [
        {
         "box": {
          "visible": true
         },
         "legendgroup": "Female",
         "line": {
          "color": "#F78FE4"
         },
         "meanline": {
          "visible": true
         },
         "name": "Female",
         "scalegroup": "Female",
         "side": "positive",
         "type": "violin",
         "x": [
          "Income Distribution",
          "Income Distribution",
          "Income Distribution",
          "Income Distribution",
          "Income Distribution",
          "Income Distribution",
          "Income Distribution",
          "Income Distribution",
          "Income Distribution",
          "Income Distribution",
          "Income Distribution",
          "Income Distribution",
          "Income Distribution",
          "Income Distribution",
          "Income Distribution",
          "Income Distribution",
          "Income Distribution",
          "Income Distribution",
          "Income Distribution",
          "Income Distribution",
          "Income Distribution",
          "Income Distribution",
          "Income Distribution",
          "Income Distribution",
          "Income Distribution",
          "Income Distribution",
          "Income Distribution",
          "Income Distribution",
          "Income Distribution",
          "Income Distribution",
          "Income Distribution",
          "Income Distribution",
          "Income Distribution",
          "Income Distribution",
          "Income Distribution",
          "Income Distribution",
          "Income Distribution",
          "Income Distribution",
          "Income Distribution",
          "Income Distribution",
          "Income Distribution",
          "Income Distribution",
          "Income Distribution",
          "Income Distribution",
          "Income Distribution",
          "Income Distribution",
          "Income Distribution",
          "Income Distribution",
          "Income Distribution",
          "Income Distribution",
          "Income Distribution",
          "Income Distribution",
          "Income Distribution",
          "Income Distribution",
          "Income Distribution",
          "Income Distribution",
          "Income Distribution",
          "Income Distribution",
          "Income Distribution",
          "Income Distribution",
          "Income Distribution",
          "Income Distribution",
          "Income Distribution",
          "Income Distribution",
          "Income Distribution",
          "Income Distribution",
          "Income Distribution",
          "Income Distribution",
          "Income Distribution",
          "Income Distribution",
          "Income Distribution",
          "Income Distribution",
          "Income Distribution",
          "Income Distribution",
          "Income Distribution",
          "Income Distribution",
          "Income Distribution",
          "Income Distribution",
          "Income Distribution",
          "Income Distribution",
          "Income Distribution",
          "Income Distribution",
          "Income Distribution",
          "Income Distribution",
          "Income Distribution",
          "Income Distribution",
          "Income Distribution",
          "Income Distribution",
          "Income Distribution",
          "Income Distribution",
          "Income Distribution",
          "Income Distribution",
          "Income Distribution",
          "Income Distribution",
          "Income Distribution",
          "Income Distribution",
          "Income Distribution",
          "Income Distribution",
          "Income Distribution",
          "Income Distribution",
          "Income Distribution",
          "Income Distribution",
          "Income Distribution",
          "Income Distribution",
          "Income Distribution",
          "Income Distribution",
          "Income Distribution",
          "Income Distribution",
          "Income Distribution",
          "Income Distribution",
          "Income Distribution",
          "Income Distribution",
          "Income Distribution",
          "Income Distribution",
          "Income Distribution",
          "Income Distribution",
          "Income Distribution",
          "Income Distribution",
          "Income Distribution",
          "Income Distribution",
          "Income Distribution",
          "Income Distribution",
          "Income Distribution",
          "Income Distribution",
          "Income Distribution",
          "Income Distribution",
          "Income Distribution",
          "Income Distribution",
          "Income Distribution",
          "Income Distribution",
          "Income Distribution",
          "Income Distribution",
          "Income Distribution",
          "Income Distribution",
          "Income Distribution",
          "Income Distribution",
          "Income Distribution",
          "Income Distribution",
          "Income Distribution",
          "Income Distribution",
          "Income Distribution",
          "Income Distribution",
          "Income Distribution",
          "Income Distribution",
          "Income Distribution",
          "Income Distribution",
          "Income Distribution",
          "Income Distribution",
          "Income Distribution",
          "Income Distribution",
          "Income Distribution",
          "Income Distribution",
          "Income Distribution",
          "Income Distribution",
          "Income Distribution",
          "Income Distribution",
          "Income Distribution",
          "Income Distribution",
          "Income Distribution",
          "Income Distribution",
          "Income Distribution"
         ],
         "y": [
          69487,
          65929,
          37754,
          86340,
          60304,
          54620,
          48652,
          28418,
          43185,
          23152,
          43664,
          48441,
          61152,
          36485,
          41507,
          17134,
          30038,
          33772,
          24997,
          41466,
          23988,
          28989,
          50948,
          38022,
          38207,
          46166,
          30973,
          28317,
          26645,
          25589,
          55223,
          109031,
          40409,
          21597,
          53923,
          27094,
          57213,
          42390,
          43636,
          40375,
          48929,
          50745,
          29279,
          38774,
          58802,
          41831,
          52186,
          55080,
          97857,
          74624,
          21590,
          38832,
          58802,
          40749,
          47997,
          78704,
          31143,
          65708,
          49466,
          53229,
          32649,
          35867,
          40244,
          42640,
          52388,
          62875,
          30855,
          46800,
          45695,
          44346,
          42225,
          37405,
          28524,
          61141,
          8607,
          37240,
          36594,
          62997,
          46608,
          37881,
          48944,
          77112,
          18283,
          31432,
          73073,
          26706,
          50060,
          25401,
          39394,
          40695,
          45788,
          37315,
          51663,
          32563,
          54303,
          16908,
          39729,
          57316,
          25831,
          28759,
          25401,
          19264,
          41778,
          35963,
          49409,
          31516,
          36223,
          43367,
          27503,
          31809,
          52010,
          78704,
          75347,
          47005,
          52805,
          50725,
          49409,
          65693,
          45736,
          33906,
          50501,
          62844,
          52586,
          29236,
          31486,
          78704,
          65498,
          60000,
          22669,
          81266,
          29746,
          47556,
          42651,
          56056,
          60835,
          62829,
          42967,
          21488,
          89977,
          18619,
          22161,
          82734,
          40163,
          46185,
          23707,
          33772,
          57501,
          25314,
          48876,
          50572,
          49642,
          20000,
          32508,
          35627,
          46280,
          41191,
          71787,
          72412,
          36510,
          32386,
          15863
         ]
        },
        {
         "box": {
          "visible": true
         },
         "legendgroup": "Male",
         "line": {
          "color": "#0460C9"
         },
         "meanline": {
          "visible": true
         },
         "name": "Male",
         "scalegroup": "Male",
         "side": "negative",
         "type": "violin",
         "x": [
          "Income Distribution",
          "Income Distribution",
          "Income Distribution",
          "Income Distribution",
          "Income Distribution",
          "Income Distribution",
          "Income Distribution",
          "Income Distribution",
          "Income Distribution",
          "Income Distribution",
          "Income Distribution",
          "Income Distribution",
          "Income Distribution",
          "Income Distribution",
          "Income Distribution",
          "Income Distribution",
          "Income Distribution",
          "Income Distribution",
          "Income Distribution",
          "Income Distribution",
          "Income Distribution",
          "Income Distribution",
          "Income Distribution",
          "Income Distribution",
          "Income Distribution",
          "Income Distribution",
          "Income Distribution",
          "Income Distribution",
          "Income Distribution",
          "Income Distribution",
          "Income Distribution",
          "Income Distribution",
          "Income Distribution",
          "Income Distribution",
          "Income Distribution",
          "Income Distribution",
          "Income Distribution",
          "Income Distribution",
          "Income Distribution",
          "Income Distribution",
          "Income Distribution",
          "Income Distribution",
          "Income Distribution",
          "Income Distribution",
          "Income Distribution",
          "Income Distribution",
          "Income Distribution",
          "Income Distribution",
          "Income Distribution",
          "Income Distribution",
          "Income Distribution",
          "Income Distribution",
          "Income Distribution",
          "Income Distribution",
          "Income Distribution",
          "Income Distribution",
          "Income Distribution",
          "Income Distribution",
          "Income Distribution",
          "Income Distribution",
          "Income Distribution",
          "Income Distribution",
          "Income Distribution",
          "Income Distribution",
          "Income Distribution",
          "Income Distribution",
          "Income Distribution",
          "Income Distribution",
          "Income Distribution",
          "Income Distribution",
          "Income Distribution",
          "Income Distribution",
          "Income Distribution",
          "Income Distribution",
          "Income Distribution",
          "Income Distribution",
          "Income Distribution",
          "Income Distribution",
          "Income Distribution",
          "Income Distribution",
          "Income Distribution",
          "Income Distribution",
          "Income Distribution",
          "Income Distribution",
          "Income Distribution",
          "Income Distribution",
          "Income Distribution",
          "Income Distribution",
          "Income Distribution",
          "Income Distribution",
          "Income Distribution",
          "Income Distribution",
          "Income Distribution",
          "Income Distribution",
          "Income Distribution",
          "Income Distribution",
          "Income Distribution",
          "Income Distribution",
          "Income Distribution",
          "Income Distribution",
          "Income Distribution",
          "Income Distribution",
          "Income Distribution",
          "Income Distribution",
          "Income Distribution",
          "Income Distribution",
          "Income Distribution",
          "Income Distribution",
          "Income Distribution",
          "Income Distribution",
          "Income Distribution",
          "Income Distribution",
          "Income Distribution",
          "Income Distribution",
          "Income Distribution",
          "Income Distribution",
          "Income Distribution",
          "Income Distribution",
          "Income Distribution",
          "Income Distribution"
         ],
         "y": [
          29237,
          56580,
          36782,
          38548,
          52010,
          42096,
          28891,
          62635,
          12063,
          29809,
          26482,
          30147,
          39919,
          47559,
          53539,
          32159,
          53940,
          40753,
          76624,
          35968,
          51725,
          55419,
          55550,
          26682,
          41547,
          23361,
          74893,
          52804,
          57887,
          30768,
          66699,
          45360,
          55080,
          17378,
          78193,
          63351,
          37248,
          28240,
          53771,
          56096,
          31560,
          52467,
          80006,
          47572,
          22439,
          31383,
          32129,
          44195,
          46837,
          97972,
          35960,
          46792,
          53501,
          55080,
          64716,
          27248,
          22805,
          56118,
          30146,
          39123,
          46153,
          45300,
          42397,
          41476,
          49841,
          80608,
          43844,
          53196,
          53229,
          25786,
          30587,
          55080,
          57513,
          33772,
          31857,
          23207,
          35187,
          26298,
          31148,
          55704,
          69487,
          46138,
          66827,
          42897,
          48785,
          55080,
          55080,
          80006,
          55080,
          52318,
          31632,
          106663,
          84043,
          35224,
          36381,
          27794,
          41737,
          90225,
          55080,
          52280,
          30038,
          16767,
          78844,
          29575,
          34752,
          22173,
          37994,
          35409,
          34870,
          35848,
          45017,
          12416,
          87789,
          46272,
          48137,
          61686,
          47624,
          36673,
          16767,
          55138
         ]
        }
       ],
       "layout": {
        "template": {
         "data": {
          "bar": [
           {
            "error_x": {
             "color": "#2a3f5f"
            },
            "error_y": {
             "color": "#2a3f5f"
            },
            "marker": {
             "line": {
              "color": "#E5ECF6",
              "width": 0.5
             }
            },
            "type": "bar"
           }
          ],
          "barpolar": [
           {
            "marker": {
             "line": {
              "color": "#E5ECF6",
              "width": 0.5
             }
            },
            "type": "barpolar"
           }
          ],
          "carpet": [
           {
            "aaxis": {
             "endlinecolor": "#2a3f5f",
             "gridcolor": "white",
             "linecolor": "white",
             "minorgridcolor": "white",
             "startlinecolor": "#2a3f5f"
            },
            "baxis": {
             "endlinecolor": "#2a3f5f",
             "gridcolor": "white",
             "linecolor": "white",
             "minorgridcolor": "white",
             "startlinecolor": "#2a3f5f"
            },
            "type": "carpet"
           }
          ],
          "choropleth": [
           {
            "colorbar": {
             "outlinewidth": 0,
             "ticks": ""
            },
            "type": "choropleth"
           }
          ],
          "contour": [
           {
            "colorbar": {
             "outlinewidth": 0,
             "ticks": ""
            },
            "colorscale": [
             [
              0,
              "#0d0887"
             ],
             [
              0.1111111111111111,
              "#46039f"
             ],
             [
              0.2222222222222222,
              "#7201a8"
             ],
             [
              0.3333333333333333,
              "#9c179e"
             ],
             [
              0.4444444444444444,
              "#bd3786"
             ],
             [
              0.5555555555555556,
              "#d8576b"
             ],
             [
              0.6666666666666666,
              "#ed7953"
             ],
             [
              0.7777777777777778,
              "#fb9f3a"
             ],
             [
              0.8888888888888888,
              "#fdca26"
             ],
             [
              1,
              "#f0f921"
             ]
            ],
            "type": "contour"
           }
          ],
          "contourcarpet": [
           {
            "colorbar": {
             "outlinewidth": 0,
             "ticks": ""
            },
            "type": "contourcarpet"
           }
          ],
          "heatmap": [
           {
            "colorbar": {
             "outlinewidth": 0,
             "ticks": ""
            },
            "colorscale": [
             [
              0,
              "#0d0887"
             ],
             [
              0.1111111111111111,
              "#46039f"
             ],
             [
              0.2222222222222222,
              "#7201a8"
             ],
             [
              0.3333333333333333,
              "#9c179e"
             ],
             [
              0.4444444444444444,
              "#bd3786"
             ],
             [
              0.5555555555555556,
              "#d8576b"
             ],
             [
              0.6666666666666666,
              "#ed7953"
             ],
             [
              0.7777777777777778,
              "#fb9f3a"
             ],
             [
              0.8888888888888888,
              "#fdca26"
             ],
             [
              1,
              "#f0f921"
             ]
            ],
            "type": "heatmap"
           }
          ],
          "heatmapgl": [
           {
            "colorbar": {
             "outlinewidth": 0,
             "ticks": ""
            },
            "colorscale": [
             [
              0,
              "#0d0887"
             ],
             [
              0.1111111111111111,
              "#46039f"
             ],
             [
              0.2222222222222222,
              "#7201a8"
             ],
             [
              0.3333333333333333,
              "#9c179e"
             ],
             [
              0.4444444444444444,
              "#bd3786"
             ],
             [
              0.5555555555555556,
              "#d8576b"
             ],
             [
              0.6666666666666666,
              "#ed7953"
             ],
             [
              0.7777777777777778,
              "#fb9f3a"
             ],
             [
              0.8888888888888888,
              "#fdca26"
             ],
             [
              1,
              "#f0f921"
             ]
            ],
            "type": "heatmapgl"
           }
          ],
          "histogram": [
           {
            "marker": {
             "colorbar": {
              "outlinewidth": 0,
              "ticks": ""
             }
            },
            "type": "histogram"
           }
          ],
          "histogram2d": [
           {
            "colorbar": {
             "outlinewidth": 0,
             "ticks": ""
            },
            "colorscale": [
             [
              0,
              "#0d0887"
             ],
             [
              0.1111111111111111,
              "#46039f"
             ],
             [
              0.2222222222222222,
              "#7201a8"
             ],
             [
              0.3333333333333333,
              "#9c179e"
             ],
             [
              0.4444444444444444,
              "#bd3786"
             ],
             [
              0.5555555555555556,
              "#d8576b"
             ],
             [
              0.6666666666666666,
              "#ed7953"
             ],
             [
              0.7777777777777778,
              "#fb9f3a"
             ],
             [
              0.8888888888888888,
              "#fdca26"
             ],
             [
              1,
              "#f0f921"
             ]
            ],
            "type": "histogram2d"
           }
          ],
          "histogram2dcontour": [
           {
            "colorbar": {
             "outlinewidth": 0,
             "ticks": ""
            },
            "colorscale": [
             [
              0,
              "#0d0887"
             ],
             [
              0.1111111111111111,
              "#46039f"
             ],
             [
              0.2222222222222222,
              "#7201a8"
             ],
             [
              0.3333333333333333,
              "#9c179e"
             ],
             [
              0.4444444444444444,
              "#bd3786"
             ],
             [
              0.5555555555555556,
              "#d8576b"
             ],
             [
              0.6666666666666666,
              "#ed7953"
             ],
             [
              0.7777777777777778,
              "#fb9f3a"
             ],
             [
              0.8888888888888888,
              "#fdca26"
             ],
             [
              1,
              "#f0f921"
             ]
            ],
            "type": "histogram2dcontour"
           }
          ],
          "mesh3d": [
           {
            "colorbar": {
             "outlinewidth": 0,
             "ticks": ""
            },
            "type": "mesh3d"
           }
          ],
          "parcoords": [
           {
            "line": {
             "colorbar": {
              "outlinewidth": 0,
              "ticks": ""
             }
            },
            "type": "parcoords"
           }
          ],
          "pie": [
           {
            "automargin": true,
            "type": "pie"
           }
          ],
          "scatter": [
           {
            "marker": {
             "colorbar": {
              "outlinewidth": 0,
              "ticks": ""
             }
            },
            "type": "scatter"
           }
          ],
          "scatter3d": [
           {
            "line": {
             "colorbar": {
              "outlinewidth": 0,
              "ticks": ""
             }
            },
            "marker": {
             "colorbar": {
              "outlinewidth": 0,
              "ticks": ""
             }
            },
            "type": "scatter3d"
           }
          ],
          "scattercarpet": [
           {
            "marker": {
             "colorbar": {
              "outlinewidth": 0,
              "ticks": ""
             }
            },
            "type": "scattercarpet"
           }
          ],
          "scattergeo": [
           {
            "marker": {
             "colorbar": {
              "outlinewidth": 0,
              "ticks": ""
             }
            },
            "type": "scattergeo"
           }
          ],
          "scattergl": [
           {
            "marker": {
             "colorbar": {
              "outlinewidth": 0,
              "ticks": ""
             }
            },
            "type": "scattergl"
           }
          ],
          "scattermapbox": [
           {
            "marker": {
             "colorbar": {
              "outlinewidth": 0,
              "ticks": ""
             }
            },
            "type": "scattermapbox"
           }
          ],
          "scatterpolar": [
           {
            "marker": {
             "colorbar": {
              "outlinewidth": 0,
              "ticks": ""
             }
            },
            "type": "scatterpolar"
           }
          ],
          "scatterpolargl": [
           {
            "marker": {
             "colorbar": {
              "outlinewidth": 0,
              "ticks": ""
             }
            },
            "type": "scatterpolargl"
           }
          ],
          "scatterternary": [
           {
            "marker": {
             "colorbar": {
              "outlinewidth": 0,
              "ticks": ""
             }
            },
            "type": "scatterternary"
           }
          ],
          "surface": [
           {
            "colorbar": {
             "outlinewidth": 0,
             "ticks": ""
            },
            "colorscale": [
             [
              0,
              "#0d0887"
             ],
             [
              0.1111111111111111,
              "#46039f"
             ],
             [
              0.2222222222222222,
              "#7201a8"
             ],
             [
              0.3333333333333333,
              "#9c179e"
             ],
             [
              0.4444444444444444,
              "#bd3786"
             ],
             [
              0.5555555555555556,
              "#d8576b"
             ],
             [
              0.6666666666666666,
              "#ed7953"
             ],
             [
              0.7777777777777778,
              "#fb9f3a"
             ],
             [
              0.8888888888888888,
              "#fdca26"
             ],
             [
              1,
              "#f0f921"
             ]
            ],
            "type": "surface"
           }
          ],
          "table": [
           {
            "cells": {
             "fill": {
              "color": "#EBF0F8"
             },
             "line": {
              "color": "white"
             }
            },
            "header": {
             "fill": {
              "color": "#C8D4E3"
             },
             "line": {
              "color": "white"
             }
            },
            "type": "table"
           }
          ]
         },
         "layout": {
          "annotationdefaults": {
           "arrowcolor": "#2a3f5f",
           "arrowhead": 0,
           "arrowwidth": 1
          },
          "coloraxis": {
           "colorbar": {
            "outlinewidth": 0,
            "ticks": ""
           }
          },
          "colorscale": {
           "diverging": [
            [
             0,
             "#8e0152"
            ],
            [
             0.1,
             "#c51b7d"
            ],
            [
             0.2,
             "#de77ae"
            ],
            [
             0.3,
             "#f1b6da"
            ],
            [
             0.4,
             "#fde0ef"
            ],
            [
             0.5,
             "#f7f7f7"
            ],
            [
             0.6,
             "#e6f5d0"
            ],
            [
             0.7,
             "#b8e186"
            ],
            [
             0.8,
             "#7fbc41"
            ],
            [
             0.9,
             "#4d9221"
            ],
            [
             1,
             "#276419"
            ]
           ],
           "sequential": [
            [
             0,
             "#0d0887"
            ],
            [
             0.1111111111111111,
             "#46039f"
            ],
            [
             0.2222222222222222,
             "#7201a8"
            ],
            [
             0.3333333333333333,
             "#9c179e"
            ],
            [
             0.4444444444444444,
             "#bd3786"
            ],
            [
             0.5555555555555556,
             "#d8576b"
            ],
            [
             0.6666666666666666,
             "#ed7953"
            ],
            [
             0.7777777777777778,
             "#fb9f3a"
            ],
            [
             0.8888888888888888,
             "#fdca26"
            ],
            [
             1,
             "#f0f921"
            ]
           ],
           "sequentialminus": [
            [
             0,
             "#0d0887"
            ],
            [
             0.1111111111111111,
             "#46039f"
            ],
            [
             0.2222222222222222,
             "#7201a8"
            ],
            [
             0.3333333333333333,
             "#9c179e"
            ],
            [
             0.4444444444444444,
             "#bd3786"
            ],
            [
             0.5555555555555556,
             "#d8576b"
            ],
            [
             0.6666666666666666,
             "#ed7953"
            ],
            [
             0.7777777777777778,
             "#fb9f3a"
            ],
            [
             0.8888888888888888,
             "#fdca26"
            ],
            [
             1,
             "#f0f921"
            ]
           ]
          },
          "colorway": [
           "#636efa",
           "#EF553B",
           "#00cc96",
           "#ab63fa",
           "#FFA15A",
           "#19d3f3",
           "#FF6692",
           "#B6E880",
           "#FF97FF",
           "#FECB52"
          ],
          "font": {
           "color": "#2a3f5f"
          },
          "geo": {
           "bgcolor": "white",
           "lakecolor": "white",
           "landcolor": "#E5ECF6",
           "showlakes": true,
           "showland": true,
           "subunitcolor": "white"
          },
          "hoverlabel": {
           "align": "left"
          },
          "hovermode": "closest",
          "mapbox": {
           "style": "light"
          },
          "paper_bgcolor": "white",
          "plot_bgcolor": "#E5ECF6",
          "polar": {
           "angularaxis": {
            "gridcolor": "white",
            "linecolor": "white",
            "ticks": ""
           },
           "bgcolor": "#E5ECF6",
           "radialaxis": {
            "gridcolor": "white",
            "linecolor": "white",
            "ticks": ""
           }
          },
          "scene": {
           "xaxis": {
            "backgroundcolor": "#E5ECF6",
            "gridcolor": "white",
            "gridwidth": 2,
            "linecolor": "white",
            "showbackground": true,
            "ticks": "",
            "zerolinecolor": "white"
           },
           "yaxis": {
            "backgroundcolor": "#E5ECF6",
            "gridcolor": "white",
            "gridwidth": 2,
            "linecolor": "white",
            "showbackground": true,
            "ticks": "",
            "zerolinecolor": "white"
           },
           "zaxis": {
            "backgroundcolor": "#E5ECF6",
            "gridcolor": "white",
            "gridwidth": 2,
            "linecolor": "white",
            "showbackground": true,
            "ticks": "",
            "zerolinecolor": "white"
           }
          },
          "shapedefaults": {
           "line": {
            "color": "#2a3f5f"
           }
          },
          "ternary": {
           "aaxis": {
            "gridcolor": "white",
            "linecolor": "white",
            "ticks": ""
           },
           "baxis": {
            "gridcolor": "white",
            "linecolor": "white",
            "ticks": ""
           },
           "bgcolor": "#E5ECF6",
           "caxis": {
            "gridcolor": "white",
            "linecolor": "white",
            "ticks": ""
           }
          },
          "title": {
           "x": 0.05
          },
          "xaxis": {
           "automargin": true,
           "gridcolor": "white",
           "linecolor": "white",
           "ticks": "",
           "title": {
            "standoff": 15
           },
           "zerolinecolor": "white",
           "zerolinewidth": 2
          },
          "yaxis": {
           "automargin": true,
           "gridcolor": "white",
           "linecolor": "white",
           "ticks": "",
           "title": {
            "standoff": 15
           },
           "zerolinecolor": "white",
           "zerolinewidth": 2
          }
         }
        },
        "violingap": 0.65,
        "violinmode": "overlay"
       }
      }
     },
     "metadata": {},
     "output_type": "display_data"
    }
   ],
   "source": [
    "\n",
    "# shorter version of a single split violin plot:\n",
    "fig = go.Figure()\n",
    "\n",
    "genders = df_income_iid[\"gender_name\"].unique()\n",
    "\n",
    "for gender in genders:\n",
    "    fig.add_trace(go.Violin(x=df_income_iid['income_distribution'][df_income_iid['gender_name'] == gender ],\n",
    "                        y=df_income_iid['income'][df_income_iid['gender_name'] == gender ],\n",
    "                        legendgroup=gender, scalegroup=gender, name=gender,\n",
    "                        side='negative' if gender=='Male' else 'positive',\n",
    "                        line_color=\"#0460C9\" if gender=='Male' else '#F78FE4', \n",
    "                        box_visible=True)\n",
    "             )\n",
    "fig.update_traces(meanline_visible=True)\n",
    "fig.update_layout(violingap=0.65, violinmode='overlay')\n",
    "fig.show()"
   ]
  },
  {
   "cell_type": "code",
   "execution_count": null,
   "metadata": {},
   "outputs": [],
   "source": [
    "df_income_iid.head()"
   ]
  },
  {
   "cell_type": "code",
   "execution_count": null,
   "metadata": {},
   "outputs": [],
   "source": [
    "import plotly.express as px\n",
    "import pandas as pd\n",
    "import numpy as np\n",
    "\n",
    "# Generate a test dataset\n",
    "np.random.seed(0)\n",
    "data = {\"income\": np.concatenate((np.random.normal(100000, 15000, 1000), np.random.normal(90000, 9000, 1000))),\n",
    "        \"gender\": [\"Male\"]*1000 + [\"Female\"]*1000}\n",
    "df = pd.DataFrame(data)\n",
    "\n",
    "# Plot the split violin plot\n",
    "fig = px.violin(df, y=\"income\", x=\"gender\", box=True, points=\"all\")\n",
    "fig.update_layout(violingap=0.05)\n",
    "fig.show()"
   ]
  },
  {
   "cell_type": "code",
   "execution_count": null,
   "metadata": {},
   "outputs": [],
   "source": [
    "import plotly.express as px\n",
    "df = px.data.tips()\n",
    "fig = px.violin(df, y='total_bill', box=True, color='sex', violinmode='overlay')\n",
    "fig.update_traces(meanline_visible=True)\n",
    "fig.show()"
   ]
  },
  {
   "cell_type": "code",
   "execution_count": null,
   "metadata": {},
   "outputs": [],
   "source": [
    "import plotly.express as px\n",
    "fig = px.violin(df_income_iid, y='income', box=True, color='gender_name', violinmode='overlay')\n",
    "fig.update_traces(meanline_visible=True)\n",
    "fig.show()"
   ]
  },
  {
   "cell_type": "code",
   "execution_count": null,
   "metadata": {},
   "outputs": [],
   "source": [
    "import plotly.express as px\n",
    "import pandas as pd\n",
    "import numpy as np\n",
    "\n",
    "# Generate random data\n",
    "np.random.seed(0)\n",
    "n = 100\n",
    "gender = np.random.choice(['Male', 'Female'], size=n)\n",
    "income = np.random.normal(loc=45000, scale=15000, size=n)\n",
    "\n",
    "# Create data frame\n",
    "df = pd.DataFrame({'Gender': gender, 'Income': income})\n",
    "\n",
    "# Create split violin plot\n",
    "fig = px.violin(df, y='Income', x='Gender', box=True, points='all')\n",
    "\n",
    "fig.show()"
   ]
  },
  {
   "cell_type": "code",
   "execution_count": null,
   "metadata": {},
   "outputs": [],
   "source": [
    "df.head()"
   ]
  },
  {
   "cell_type": "code",
   "execution_count": null,
   "metadata": {},
   "outputs": [],
   "source": [
    "x=df['day'][df['smoker'] == 'Yes']\n",
    "type(x)"
   ]
  },
  {
   "cell_type": "code",
   "execution_count": null,
   "metadata": {},
   "outputs": [],
   "source": [
    "y=df['total_bill'][ df['smoker'] == 'Yes' ]\n",
    "type(y)"
   ]
  },
  {
   "cell_type": "code",
   "execution_count": null,
   "metadata": {},
   "outputs": [],
   "source": [
    "df = px.data.tips()\n",
    "fig = px.violin(df, y=\"total_bill\", box=True, # draw box plot inside the violin\n",
    "                points='all', # can be 'outliers', or False\n",
    "               )\n",
    "fig.show()"
   ]
  },
  {
   "cell_type": "code",
   "execution_count": null,
   "metadata": {},
   "outputs": [],
   "source": [
    "fig = px.violin(df_income_iid, y=\"income\", box=True)\n",
    "fig.show()"
   ]
  },
  {
   "cell_type": "code",
   "execution_count": null,
   "metadata": {},
   "outputs": [],
   "source": [
    "colors = [\"#F78FE4\", \"#0460C9\"]\n",
    "\n",
    "fig = px.histogram(df_income_iid, x=\"income\", color=\"gender_name\", barmode='group')\n",
    "\n",
    "fig.update_traces(xbins=dict( # bins used for histogram\n",
    "        start=0.0,\n",
    "        end=100000,\n",
    "        size=5000\n",
    "    ))\n",
    "\n",
    "fig.show()"
   ]
  },
  {
   "attachments": {},
   "cell_type": "markdown",
   "metadata": {},
   "source": [
    "Motivation:\n",
    "\n",
    "The authors asked each participant to indicate their goal for participating in the speed dating experiment."
   ]
  },
  {
   "cell_type": "code",
   "execution_count": null,
   "metadata": {},
   "outputs": [],
   "source": [
    "df_iid['participant_goal'] = df_iid[\"goal\"].apply(lambda x: \"Seemed like a fun night out\" if x == 1 \n",
    "                                                    else \"To meet new people\" if x == 2 \n",
    "                                                    else \"To get a date\" if x == 3 \n",
    "                                                    else \"Looking for a serious relationship\" if x == 4 \n",
    "                                                    else \"To say I did it\" if x==5 \n",
    "                                                    else \"Other\")"
   ]
  },
  {
   "cell_type": "code",
   "execution_count": null,
   "metadata": {},
   "outputs": [],
   "source": [
    "import plotly.express as px\n",
    "fig = px.histogram(df_iid, y=\"participant_goal\",\n",
    "             color='gender_name', barmode='group', color_discrete_sequence=[\"#F78FE4\", \"#1179f0\"], opacity=0.60, histnorm = 'percent')\n",
    "fig.show()"
   ]
  },
  {
   "cell_type": "code",
   "execution_count": null,
   "metadata": {},
   "outputs": [],
   "source": [
    "fig = px.histogram(df_iid, y=\"participant_goal\",\n",
    "             color='gender_name', barmode='group', color_discrete_sequence=[\"#F78FE4\", \"#1179f0\"], opacity=0.60, histnorm = 'percent')\n",
    "fig.show()"
   ]
  },
  {
   "attachments": {},
   "cell_type": "markdown",
   "metadata": {},
   "source": [
    "Percent successful matches:"
   ]
  },
  {
   "cell_type": "code",
   "execution_count": null,
   "metadata": {},
   "outputs": [],
   "source": [
    "df_match=df[[\"iid\", \"pid\", \"match\"]]"
   ]
  },
  {
   "cell_type": "code",
   "execution_count": null,
   "metadata": {},
   "outputs": [],
   "source": [
    "np.sort(df_match.iloc[:, :3], axis = 1)"
   ]
  },
  {
   "cell_type": "code",
   "execution_count": null,
   "metadata": {},
   "outputs": [],
   "source": [
    "len(np.sort(df_match.iloc[:, :3]))"
   ]
  },
  {
   "cell_type": "code",
   "execution_count": null,
   "metadata": {},
   "outputs": [],
   "source": [
    "#np.sort(df_match.iloc[:, :2])"
   ]
  },
  {
   "cell_type": "code",
   "execution_count": null,
   "metadata": {},
   "outputs": [],
   "source": [
    "len(df_match)"
   ]
  },
  {
   "cell_type": "code",
   "execution_count": null,
   "metadata": {},
   "outputs": [],
   "source": [
    "pd.DataFrame(np.sort(df_match.iloc[:, :3])).tail()"
   ]
  },
  {
   "cell_type": "code",
   "execution_count": null,
   "metadata": {},
   "outputs": [],
   "source": [
    "\n",
    "df_match = df_match.loc[~pd.DataFrame(np.sort(df_match.iloc[:, :3])).duplicated()]\n",
    "#df_match.reset_index(inplace=True)"
   ]
  },
  {
   "cell_type": "code",
   "execution_count": null,
   "metadata": {},
   "outputs": [],
   "source": [
    "len(df_match)"
   ]
  },
  {
   "cell_type": "code",
   "execution_count": null,
   "metadata": {},
   "outputs": [],
   "source": [
    "df_match.reset_index(drop=True, inplace=True)"
   ]
  },
  {
   "cell_type": "code",
   "execution_count": null,
   "metadata": {},
   "outputs": [],
   "source": [
    "len(df_match)"
   ]
  },
  {
   "cell_type": "code",
   "execution_count": null,
   "metadata": {},
   "outputs": [],
   "source": [
    "df_match.head()"
   ]
  },
  {
   "cell_type": "code",
   "execution_count": null,
   "metadata": {},
   "outputs": [],
   "source": [
    "df_match.tail()"
   ]
  },
  {
   "cell_type": "code",
   "execution_count": null,
   "metadata": {},
   "outputs": [],
   "source": [
    "df_match[\"match\"].unique()"
   ]
  },
  {
   "cell_type": "code",
   "execution_count": null,
   "metadata": {},
   "outputs": [],
   "source": [
    "df_match[\"match\"] = df_match[\"match\"].apply(lambda x: \"Yes\" if x ==1 else \"No\")"
   ]
  },
  {
   "cell_type": "code",
   "execution_count": null,
   "metadata": {},
   "outputs": [],
   "source": [
    "df_match.head(10)"
   ]
  },
  {
   "cell_type": "code",
   "execution_count": null,
   "metadata": {},
   "outputs": [],
   "source": [
    "df_match.tail()"
   ]
  },
  {
   "cell_type": "code",
   "execution_count": null,
   "metadata": {},
   "outputs": [],
   "source": [
    "\"\"\"# pie plot\n",
    "import plotly.express as px\n",
    "# This dataframe has 244 lines, but 4 distinct values for `day`\n",
    "df = px.data.tips()\n",
    "fig = px.pie(df, values='tip', names='day')\n",
    "fig.show()\"\"\""
   ]
  },
  {
   "cell_type": "code",
   "execution_count": null,
   "metadata": {},
   "outputs": [],
   "source": [
    "import plotly.express as px\n",
    "# This dataframe has 244 lines, but 4 distinct values for `day`\n",
    "fig = px.pie(df_match, values=\"match\")\n",
    "fig.show()"
   ]
  },
  {
   "cell_type": "markdown",
   "metadata": {},
   "source": []
  },
  {
   "cell_type": "markdown",
   "metadata": {},
   "source": [
    "Let's explore motivation for dating for men and women who participated in the study.\n",
    "As the goals in the dataset are coded with numbers, let's create an additional column that will describe the goal explicitly according to the dataset key."
   ]
  },
  {
   "cell_type": "code",
   "execution_count": null,
   "metadata": {},
   "outputs": [],
   "source": [
    "dating_per_person['goal_name'] = dating_per_person[\"goal\"].apply(lambda x: \"Seemed like a fun night out\" if x == 1 else \"To meet new people\" if x == 2 else \"To get a date\" if x == 3 else \"Looking for a serious relationship\" if x == 4 else \"To say I did it\" if x==5 else \"Other\" if x==6 else None)\n",
    "#dating_per_person.head(15)"
   ]
  },
  {
   "cell_type": "markdown",
   "metadata": {},
   "source": [
    "Let's represent different goals by a separate pie chart for both genders."
   ]
  },
  {
   "cell_type": "code",
   "execution_count": null,
   "metadata": {},
   "outputs": [],
   "source": [
    "dating_females = dating_per_person.loc[dating_per_person['gender_name'] == 'Female']\n",
    "#display(dating_females.head())\n",
    "females_by_goal = dating_females[\"goal_name\"].value_counts(dropna=False)\n",
    "#display(females_by_goal)\n",
    "\n",
    "females_by_goal_array = females_by_goal.to_numpy()\n",
    "\n",
    "\n",
    "labels = 'Seemed like a fun night out', 'To meet new people', 'To get a date', 'Other', 'To say I did it', 'Looking for a serious relationship', 'N/A'\n",
    "sizes = females_by_goal_array\n",
    "\n",
    "plt.pie(sizes, labels=labels, autopct='%1.1f%%')\n",
    "#plt.legend(bbox_to_anchor=(1, 1))\n",
    "\n",
    "plt.show()\n"
   ]
  },
  {
   "cell_type": "code",
   "execution_count": null,
   "metadata": {},
   "outputs": [],
   "source": [
    "dating_males = dating_per_person.loc[dating_per_person['gender_name'] == 'Male']\n",
    "#display(dating_males.head())\n",
    "males_by_goal = dating_males[\"goal_name\"].value_counts(dropna=False)\n",
    "#display(males_by_goal)\n",
    "\n",
    "males_by_goal_array = males_by_goal.to_numpy()\n",
    "\n",
    "labels = 'Seemed like a fun night out', 'To meet new people', 'To get a date', 'Other', 'To say I did it', 'Looking for a serious relationship', 'N/A'\n",
    "sizes = males_by_goal_array\n",
    "\n",
    "plt.pie(sizes, labels=labels, autopct='%1.1f%%')\n",
    "#plt.legend(bbox_to_anchor=(1, 1))\n",
    "\n",
    "plt.show()\n"
   ]
  },
  {
   "cell_type": "code",
   "execution_count": null,
   "metadata": {},
   "outputs": [],
   "source": [
    "import numpy as np\n",
    "females_by_goal_array = females_by_goal.to_numpy()\n",
    "\n",
    "labels = 'Seemed like a fun night out', 'To meet new people', 'To get a date', 'Other', 'To say I did it', 'Looking for a serious relationship', 'N/A'\n",
    "sizes = females_by_goal_array\n",
    "\n",
    "plt.pie(sizes, labels=labels, autopct='%1.1f%%')\n",
    "plt.legend(bbox_to_anchor=(1, 1))\n",
    "\n",
    "\n",
    "plt.show()"
   ]
  },
  {
   "cell_type": "code",
   "execution_count": null,
   "metadata": {},
   "outputs": [],
   "source": [
    "labels = 'Frogs', 'Hogs', 'Dogs', 'Logs'\n",
    "sizes = [15, 30, 45, 10]\n",
    "\n",
    "plt.pie(sizes, labels=labels, autopct='%1.1f%%')\n",
    "\n",
    "plt.show()"
   ]
  },
  {
   "cell_type": "code",
   "execution_count": null,
   "metadata": {},
   "outputs": [],
   "source": [
    "#dating_per_person['note_method'] = dating_per_person[\"wave\"].apply(lambda x: '10_scale' if x == 6.0 or 7.0 or 8.0 or 9.0 else \"100_point_alloc\")\n",
    "dating_per_person['note_method'] = dating_per_person[\"wave\"].apply(lambda x: '10_scale' if x == 6 or x == 7 or x == 8 or x == 9 else \"100_point_alloc\")"
   ]
  },
  {
   "cell_type": "code",
   "execution_count": null,
   "metadata": {},
   "outputs": [],
   "source": [
    "dating_per_person.head()"
   ]
  },
  {
   "cell_type": "code",
   "execution_count": null,
   "metadata": {},
   "outputs": [],
   "source": [
    "dating_per_person_10_scale_mask = dating_per_person[\"note_method\"]==\"10_scale\"\n",
    "dating_per_person_10_scale = dating_per_person[dating_per_person_10_scale_mask].reset_index(drop=False)\n",
    "dating_per_person_10_scale.head()"
   ]
  },
  {
   "cell_type": "code",
   "execution_count": null,
   "metadata": {},
   "outputs": [],
   "source": [
    "dating_per_person_100_point_mask = dating_per_person[\"note_method\"]==\"100_point_alloc\"\n",
    "dating_per_person_100_point = dating_per_person[dating_per_person_100_point_mask].reset_index(drop=False)\n",
    "dating_per_person_100_point.head()"
   ]
  },
  {
   "cell_type": "code",
   "execution_count": null,
   "metadata": {},
   "outputs": [],
   "source": []
  },
  {
   "cell_type": "code",
   "execution_count": null,
   "metadata": {},
   "outputs": [],
   "source": []
  },
  {
   "cell_type": "code",
   "execution_count": null,
   "metadata": {},
   "outputs": [],
   "source": [
    "# creating a dataframe that contaings estimates of criteria that are important in opposite sex:\n",
    "dating_per_person_100_point = dating_per_person_100_point.groupby(\"gender_name\").mean().reset_index(drop=False)\n",
    "dating_per_person_100_point_by_gender = dating_per_person_100_point[[\"gender_name\",'iid', 'match', 'attr1_1', 'sinc1_1',\n",
    "       'intel1_1', 'fun1_1', 'amb1_1', 'shar1_1', 'attr1_s', 'sinc1_s',\n",
    "       'intel1_s', 'fun1_s', 'amb1_s', 'shar1_s', 'attr1_2', 'sinc1_2', 'intel1_2', 'fun1_2', 'amb1_2', 'shar1_2',\n",
    "       'attr1_3', 'sinc1_3', 'intel1_3', 'fun1_3', 'amb1_3', 'shar1_3']]\n",
    "dating_per_person_100_point_by_gender"
   ]
  },
  {
   "cell_type": "code",
   "execution_count": null,
   "metadata": {},
   "outputs": [],
   "source": [
    "a = 23.737295 + 17.284344 + 20.490410 + 17.266721 + 10.174208 + 11.235574\n",
    "print(a)"
   ]
  }
 ],
 "metadata": {
  "kernelspec": {
   "display_name": "Python 3.10.8 64-bit (microsoft store)",
   "language": "python",
   "name": "python3"
  },
  "language_info": {
   "codemirror_mode": {
    "name": "ipython",
    "version": 3
   },
   "file_extension": ".py",
   "mimetype": "text/x-python",
   "name": "python",
   "nbconvert_exporter": "python",
   "pygments_lexer": "ipython3",
   "version": "3.10.10"
  },
  "orig_nbformat": 2,
  "vscode": {
   "interpreter": {
    "hash": "a0fdf8838102b5a6b2938995cfca801768491c1c6585082ea8435b0dad918ca1"
   }
  }
 },
 "nbformat": 4,
 "nbformat_minor": 2
}
